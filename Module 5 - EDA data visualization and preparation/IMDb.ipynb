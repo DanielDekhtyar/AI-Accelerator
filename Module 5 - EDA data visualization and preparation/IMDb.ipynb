{
 "cells": [
  {
   "cell_type": "markdown",
   "id": "ab92d7ec-364c-4ec5-8b51-08cd6d1716b6",
   "metadata": {},
   "source": [
    " **ייבוא נתונים:**  \n",
    "1. טען את הנתונים מקובץ imdb_top_1000.csv\n",
    "\n",
    "2. בחני את המידע שקיבלת"
   ]
  },
  {
   "cell_type": "code",
   "execution_count": 1,
   "id": "95a7e13c-7200-47eb-b88e-ea0aa633236d",
   "metadata": {},
   "outputs": [],
   "source": [
    "import pandas as pd"
   ]
  },
  {
   "cell_type": "code",
   "execution_count": 2,
   "id": "1742e412-6c3a-4eac-8f0a-06624228b139",
   "metadata": {
    "scrolled": true
   },
   "outputs": [],
   "source": [
    "imdb = pd.read_csv(\"imdb_top_1000.csv\")"
   ]
  },
  {
   "cell_type": "code",
   "execution_count": 3,
   "id": "2f7a83fb-95f9-4b47-8982-09481de28fa1",
   "metadata": {},
   "outputs": [
    {
     "name": "stdout",
     "output_type": "stream",
     "text": [
      "<class 'pandas.core.frame.DataFrame'>\n",
      "RangeIndex: 1000 entries, 0 to 999\n",
      "Data columns (total 16 columns):\n",
      " #   Column         Non-Null Count  Dtype  \n",
      "---  ------         --------------  -----  \n",
      " 0   Poster_Link    1000 non-null   object \n",
      " 1   Series_Title   1000 non-null   object \n",
      " 2   Released_Year  1000 non-null   object \n",
      " 3   Certificate    899 non-null    object \n",
      " 4   Runtime        1000 non-null   object \n",
      " 5   Genre          1000 non-null   object \n",
      " 6   IMDB_Rating    1000 non-null   float64\n",
      " 7   Overview       1000 non-null   object \n",
      " 8   Meta_score     843 non-null    float64\n",
      " 9   Director       1000 non-null   object \n",
      " 10  Star1          1000 non-null   object \n",
      " 11  Star2          1000 non-null   object \n",
      " 12  Star3          1000 non-null   object \n",
      " 13  Star4          1000 non-null   object \n",
      " 14  No_of_Votes    1000 non-null   int64  \n",
      " 15  Gross          831 non-null    object \n",
      "dtypes: float64(2), int64(1), object(13)\n",
      "memory usage: 125.1+ KB\n"
     ]
    }
   ],
   "source": [
    "imdb.info()"
   ]
  },
  {
   "cell_type": "code",
   "execution_count": 4,
   "id": "7dc07701-d7f4-4901-8cb3-5710e587e73d",
   "metadata": {},
   "outputs": [
    {
     "data": {
      "text/html": [
       "<div>\n",
       "<style scoped>\n",
       "    .dataframe tbody tr th:only-of-type {\n",
       "        vertical-align: middle;\n",
       "    }\n",
       "\n",
       "    .dataframe tbody tr th {\n",
       "        vertical-align: top;\n",
       "    }\n",
       "\n",
       "    .dataframe thead th {\n",
       "        text-align: right;\n",
       "    }\n",
       "</style>\n",
       "<table border=\"1\" class=\"dataframe\">\n",
       "  <thead>\n",
       "    <tr style=\"text-align: right;\">\n",
       "      <th></th>\n",
       "      <th>Poster_Link</th>\n",
       "      <th>Series_Title</th>\n",
       "      <th>Released_Year</th>\n",
       "      <th>Certificate</th>\n",
       "      <th>Runtime</th>\n",
       "      <th>Genre</th>\n",
       "      <th>IMDB_Rating</th>\n",
       "      <th>Overview</th>\n",
       "      <th>Meta_score</th>\n",
       "      <th>Director</th>\n",
       "      <th>Star1</th>\n",
       "      <th>Star2</th>\n",
       "      <th>Star3</th>\n",
       "      <th>Star4</th>\n",
       "      <th>No_of_Votes</th>\n",
       "      <th>Gross</th>\n",
       "    </tr>\n",
       "  </thead>\n",
       "  <tbody>\n",
       "    <tr>\n",
       "      <th>0</th>\n",
       "      <td>https://m.media-amazon.com/images/M/MV5BMDFkYT...</td>\n",
       "      <td>The Shawshank Redemption</td>\n",
       "      <td>1994</td>\n",
       "      <td>A</td>\n",
       "      <td>142 min</td>\n",
       "      <td>Drama</td>\n",
       "      <td>9.3</td>\n",
       "      <td>Two imprisoned men bond over a number of years...</td>\n",
       "      <td>80.0</td>\n",
       "      <td>Frank Darabont</td>\n",
       "      <td>Tim Robbins</td>\n",
       "      <td>Morgan Freeman</td>\n",
       "      <td>Bob Gunton</td>\n",
       "      <td>William Sadler</td>\n",
       "      <td>2343110</td>\n",
       "      <td>28,341,469</td>\n",
       "    </tr>\n",
       "    <tr>\n",
       "      <th>1</th>\n",
       "      <td>https://m.media-amazon.com/images/M/MV5BM2MyNj...</td>\n",
       "      <td>The Godfather</td>\n",
       "      <td>1972</td>\n",
       "      <td>A</td>\n",
       "      <td>175 min</td>\n",
       "      <td>Crime, Drama</td>\n",
       "      <td>9.2</td>\n",
       "      <td>An organized crime dynasty's aging patriarch t...</td>\n",
       "      <td>100.0</td>\n",
       "      <td>Francis Ford Coppola</td>\n",
       "      <td>Marlon Brando</td>\n",
       "      <td>Al Pacino</td>\n",
       "      <td>James Caan</td>\n",
       "      <td>Diane Keaton</td>\n",
       "      <td>1620367</td>\n",
       "      <td>134,966,411</td>\n",
       "    </tr>\n",
       "    <tr>\n",
       "      <th>2</th>\n",
       "      <td>https://m.media-amazon.com/images/M/MV5BMTMxNT...</td>\n",
       "      <td>The Dark Knight</td>\n",
       "      <td>2008</td>\n",
       "      <td>UA</td>\n",
       "      <td>152 min</td>\n",
       "      <td>Action, Crime, Drama</td>\n",
       "      <td>9.0</td>\n",
       "      <td>When the menace known as the Joker wreaks havo...</td>\n",
       "      <td>84.0</td>\n",
       "      <td>Christopher Nolan</td>\n",
       "      <td>Christian Bale</td>\n",
       "      <td>Heath Ledger</td>\n",
       "      <td>Aaron Eckhart</td>\n",
       "      <td>Michael Caine</td>\n",
       "      <td>2303232</td>\n",
       "      <td>534,858,444</td>\n",
       "    </tr>\n",
       "    <tr>\n",
       "      <th>3</th>\n",
       "      <td>https://m.media-amazon.com/images/M/MV5BMWMwMG...</td>\n",
       "      <td>The Godfather: Part II</td>\n",
       "      <td>1974</td>\n",
       "      <td>A</td>\n",
       "      <td>202 min</td>\n",
       "      <td>Crime, Drama</td>\n",
       "      <td>9.0</td>\n",
       "      <td>The early life and career of Vito Corleone in ...</td>\n",
       "      <td>90.0</td>\n",
       "      <td>Francis Ford Coppola</td>\n",
       "      <td>Al Pacino</td>\n",
       "      <td>Robert De Niro</td>\n",
       "      <td>Robert Duvall</td>\n",
       "      <td>Diane Keaton</td>\n",
       "      <td>1129952</td>\n",
       "      <td>57,300,000</td>\n",
       "    </tr>\n",
       "    <tr>\n",
       "      <th>4</th>\n",
       "      <td>https://m.media-amazon.com/images/M/MV5BMWU4N2...</td>\n",
       "      <td>12 Angry Men</td>\n",
       "      <td>1957</td>\n",
       "      <td>U</td>\n",
       "      <td>96 min</td>\n",
       "      <td>Crime, Drama</td>\n",
       "      <td>9.0</td>\n",
       "      <td>A jury holdout attempts to prevent a miscarria...</td>\n",
       "      <td>96.0</td>\n",
       "      <td>Sidney Lumet</td>\n",
       "      <td>Henry Fonda</td>\n",
       "      <td>Lee J. Cobb</td>\n",
       "      <td>Martin Balsam</td>\n",
       "      <td>John Fiedler</td>\n",
       "      <td>689845</td>\n",
       "      <td>4,360,000</td>\n",
       "    </tr>\n",
       "  </tbody>\n",
       "</table>\n",
       "</div>"
      ],
      "text/plain": [
       "                                         Poster_Link  \\\n",
       "0  https://m.media-amazon.com/images/M/MV5BMDFkYT...   \n",
       "1  https://m.media-amazon.com/images/M/MV5BM2MyNj...   \n",
       "2  https://m.media-amazon.com/images/M/MV5BMTMxNT...   \n",
       "3  https://m.media-amazon.com/images/M/MV5BMWMwMG...   \n",
       "4  https://m.media-amazon.com/images/M/MV5BMWU4N2...   \n",
       "\n",
       "               Series_Title Released_Year Certificate  Runtime  \\\n",
       "0  The Shawshank Redemption          1994           A  142 min   \n",
       "1             The Godfather          1972           A  175 min   \n",
       "2           The Dark Knight          2008          UA  152 min   \n",
       "3    The Godfather: Part II          1974           A  202 min   \n",
       "4              12 Angry Men          1957           U   96 min   \n",
       "\n",
       "                  Genre  IMDB_Rating  \\\n",
       "0                 Drama          9.3   \n",
       "1          Crime, Drama          9.2   \n",
       "2  Action, Crime, Drama          9.0   \n",
       "3          Crime, Drama          9.0   \n",
       "4          Crime, Drama          9.0   \n",
       "\n",
       "                                            Overview  Meta_score  \\\n",
       "0  Two imprisoned men bond over a number of years...        80.0   \n",
       "1  An organized crime dynasty's aging patriarch t...       100.0   \n",
       "2  When the menace known as the Joker wreaks havo...        84.0   \n",
       "3  The early life and career of Vito Corleone in ...        90.0   \n",
       "4  A jury holdout attempts to prevent a miscarria...        96.0   \n",
       "\n",
       "               Director           Star1           Star2          Star3  \\\n",
       "0        Frank Darabont     Tim Robbins  Morgan Freeman     Bob Gunton   \n",
       "1  Francis Ford Coppola   Marlon Brando       Al Pacino     James Caan   \n",
       "2     Christopher Nolan  Christian Bale    Heath Ledger  Aaron Eckhart   \n",
       "3  Francis Ford Coppola       Al Pacino  Robert De Niro  Robert Duvall   \n",
       "4          Sidney Lumet     Henry Fonda     Lee J. Cobb  Martin Balsam   \n",
       "\n",
       "            Star4  No_of_Votes        Gross  \n",
       "0  William Sadler      2343110   28,341,469  \n",
       "1    Diane Keaton      1620367  134,966,411  \n",
       "2   Michael Caine      2303232  534,858,444  \n",
       "3    Diane Keaton      1129952   57,300,000  \n",
       "4    John Fiedler       689845    4,360,000  "
      ]
     },
     "execution_count": 4,
     "metadata": {},
     "output_type": "execute_result"
    }
   ],
   "source": [
    "imdb.head()"
   ]
  },
  {
   "cell_type": "markdown",
   "id": "bf2a3e02-b361-41b6-893d-29705d841591",
   "metadata": {},
   "source": [
    "**ייעול**  \n",
    "3.  על מנת ליעל את העבודה כדאי לשנות טיפוס לכמה מהעמודות. הרץ  \n",
    "info ו nunique ו describe לפני השינויים  \n",
    "4. שני את טיפוסי העמודות הבאות:  \n",
    "Released_Year, Certificate   \n",
    "שימי לב את בטח תתקלי בבעיה בעמודת השנה\n",
    "אבל את יודעת לפתור את זה!  \n",
    "5. נסה לשנות גם את עמודת \n",
    "Genre  \n",
    " האם זה היה כדאי? אם לא שנה אותה בחזרה וחשוב איך אפשר היה לצפות מראש שזאת תהיה בעיה.\n"
   ]
  },
  {
   "cell_type": "code",
   "execution_count": 5,
   "id": "08f29bc1-56b0-4bbe-a6fd-7c85d60d5650",
   "metadata": {},
   "outputs": [
    {
     "data": {
      "text/html": [
       "<div>\n",
       "<style scoped>\n",
       "    .dataframe tbody tr th:only-of-type {\n",
       "        vertical-align: middle;\n",
       "    }\n",
       "\n",
       "    .dataframe tbody tr th {\n",
       "        vertical-align: top;\n",
       "    }\n",
       "\n",
       "    .dataframe thead th {\n",
       "        text-align: right;\n",
       "    }\n",
       "</style>\n",
       "<table border=\"1\" class=\"dataframe\">\n",
       "  <thead>\n",
       "    <tr style=\"text-align: right;\">\n",
       "      <th></th>\n",
       "      <th>Poster_Link</th>\n",
       "      <th>Series_Title</th>\n",
       "      <th>Released_Year</th>\n",
       "      <th>Certificate</th>\n",
       "      <th>Runtime</th>\n",
       "      <th>Genre</th>\n",
       "      <th>IMDB_Rating</th>\n",
       "      <th>Overview</th>\n",
       "      <th>Meta_score</th>\n",
       "      <th>Director</th>\n",
       "      <th>Star1</th>\n",
       "      <th>Star2</th>\n",
       "      <th>Star3</th>\n",
       "      <th>Star4</th>\n",
       "      <th>No_of_Votes</th>\n",
       "      <th>Gross</th>\n",
       "    </tr>\n",
       "  </thead>\n",
       "  <tbody>\n",
       "    <tr>\n",
       "      <th>966</th>\n",
       "      <td>https://m.media-amazon.com/images/M/MV5BNjEzYj...</td>\n",
       "      <td>Apollo 13</td>\n",
       "      <td>PG</td>\n",
       "      <td>U</td>\n",
       "      <td>140 min</td>\n",
       "      <td>Adventure, Drama, History</td>\n",
       "      <td>7.6</td>\n",
       "      <td>NASA must devise a strategy to return Apollo 1...</td>\n",
       "      <td>77.0</td>\n",
       "      <td>Ron Howard</td>\n",
       "      <td>Tom Hanks</td>\n",
       "      <td>Bill Paxton</td>\n",
       "      <td>Kevin Bacon</td>\n",
       "      <td>Gary Sinise</td>\n",
       "      <td>269197</td>\n",
       "      <td>173,837,933</td>\n",
       "    </tr>\n",
       "  </tbody>\n",
       "</table>\n",
       "</div>"
      ],
      "text/plain": [
       "                                           Poster_Link Series_Title  \\\n",
       "966  https://m.media-amazon.com/images/M/MV5BNjEzYj...    Apollo 13   \n",
       "\n",
       "    Released_Year Certificate  Runtime                      Genre  \\\n",
       "966            PG           U  140 min  Adventure, Drama, History   \n",
       "\n",
       "     IMDB_Rating                                           Overview  \\\n",
       "966          7.6  NASA must devise a strategy to return Apollo 1...   \n",
       "\n",
       "     Meta_score    Director      Star1        Star2        Star3        Star4  \\\n",
       "966        77.0  Ron Howard  Tom Hanks  Bill Paxton  Kevin Bacon  Gary Sinise   \n",
       "\n",
       "     No_of_Votes        Gross  \n",
       "966       269197  173,837,933  "
      ]
     },
     "execution_count": 5,
     "metadata": {},
     "output_type": "execute_result"
    }
   ],
   "source": [
    "imdb[imdb[\"Released_Year\"] == \"PG\"]"
   ]
  },
  {
   "cell_type": "code",
   "execution_count": 6,
   "id": "dd258d8a-041b-4d53-980c-3ef4f2c1fe22",
   "metadata": {},
   "outputs": [],
   "source": [
    "imdb.loc[966, \"Released_Year\"] = 1995"
   ]
  },
  {
   "cell_type": "code",
   "execution_count": 7,
   "id": "eda9888c-01c0-447e-be0a-bcac95b469a4",
   "metadata": {},
   "outputs": [],
   "source": [
    "imdb[\"Released_Year\"] = imdb[\"Released_Year\"].astype(\"int16\")"
   ]
  },
  {
   "cell_type": "code",
   "execution_count": 8,
   "id": "25c2f45e-cd01-47a5-9bf0-b255ca5da577",
   "metadata": {},
   "outputs": [
    {
     "name": "stdout",
     "output_type": "stream",
     "text": [
      "<class 'pandas.core.frame.DataFrame'>\n",
      "RangeIndex: 1000 entries, 0 to 999\n",
      "Data columns (total 16 columns):\n",
      " #   Column         Non-Null Count  Dtype  \n",
      "---  ------         --------------  -----  \n",
      " 0   Poster_Link    1000 non-null   object \n",
      " 1   Series_Title   1000 non-null   object \n",
      " 2   Released_Year  1000 non-null   int16  \n",
      " 3   Certificate    899 non-null    object \n",
      " 4   Runtime        1000 non-null   object \n",
      " 5   Genre          1000 non-null   object \n",
      " 6   IMDB_Rating    1000 non-null   float64\n",
      " 7   Overview       1000 non-null   object \n",
      " 8   Meta_score     843 non-null    float64\n",
      " 9   Director       1000 non-null   object \n",
      " 10  Star1          1000 non-null   object \n",
      " 11  Star2          1000 non-null   object \n",
      " 12  Star3          1000 non-null   object \n",
      " 13  Star4          1000 non-null   object \n",
      " 14  No_of_Votes    1000 non-null   int64  \n",
      " 15  Gross          831 non-null    object \n",
      "dtypes: float64(2), int16(1), int64(1), object(12)\n",
      "memory usage: 119.3+ KB\n"
     ]
    }
   ],
   "source": [
    "imdb.info()"
   ]
  },
  {
   "cell_type": "code",
   "execution_count": 9,
   "id": "d1e61fa9-f646-4b78-89e0-557fd6cbfd53",
   "metadata": {},
   "outputs": [],
   "source": [
    "imdb[\"Certificate\"] = imdb[\"Certificate\"].astype(\"category\")"
   ]
  },
  {
   "cell_type": "code",
   "execution_count": 10,
   "id": "cd4c0117-8159-439d-8196-90c33df28986",
   "metadata": {},
   "outputs": [
    {
     "name": "stdout",
     "output_type": "stream",
     "text": [
      "<class 'pandas.core.frame.DataFrame'>\n",
      "RangeIndex: 1000 entries, 0 to 999\n",
      "Data columns (total 16 columns):\n",
      " #   Column         Non-Null Count  Dtype   \n",
      "---  ------         --------------  -----   \n",
      " 0   Poster_Link    1000 non-null   object  \n",
      " 1   Series_Title   1000 non-null   object  \n",
      " 2   Released_Year  1000 non-null   int16   \n",
      " 3   Certificate    899 non-null    category\n",
      " 4   Runtime        1000 non-null   object  \n",
      " 5   Genre          1000 non-null   object  \n",
      " 6   IMDB_Rating    1000 non-null   float64 \n",
      " 7   Overview       1000 non-null   object  \n",
      " 8   Meta_score     843 non-null    float64 \n",
      " 9   Director       1000 non-null   object  \n",
      " 10  Star1          1000 non-null   object  \n",
      " 11  Star2          1000 non-null   object  \n",
      " 12  Star3          1000 non-null   object  \n",
      " 13  Star4          1000 non-null   object  \n",
      " 14  No_of_Votes    1000 non-null   int64   \n",
      " 15  Gross          831 non-null    object  \n",
      "dtypes: category(1), float64(2), int16(1), int64(1), object(11)\n",
      "memory usage: 113.1+ KB\n"
     ]
    }
   ],
   "source": [
    "imdb.info()"
   ]
  },
  {
   "cell_type": "markdown",
   "id": "8e76b993-b76c-4921-95db-5b445966b81e",
   "metadata": {},
   "source": [
    "**ניקוי**  \n",
    "6. מחקי כל שורה שיש בה שדה ריק בעמודת   \n",
    "Meta_score   או Certificate  \n",
    "7. וודא את השינוי"
   ]
  },
  {
   "cell_type": "code",
   "execution_count": 11,
   "id": "ec6f2931-34c4-4aeb-bcde-a89c9f53403c",
   "metadata": {},
   "outputs": [],
   "source": [
    "imdb[\"Meta_score\"].dropna(inplace=True)"
   ]
  },
  {
   "cell_type": "code",
   "execution_count": 12,
   "id": "f7d50d3e-b756-47c7-a728-9bcdf98b1d2d",
   "metadata": {},
   "outputs": [],
   "source": [
    "imdb[\"Certificate\"].dropna(inplace=True)"
   ]
  },
  {
   "cell_type": "code",
   "execution_count": 13,
   "id": "83d1f39f-a614-4acf-af50-52803854ba9c",
   "metadata": {},
   "outputs": [
    {
     "name": "stdout",
     "output_type": "stream",
     "text": [
      "<class 'pandas.core.frame.DataFrame'>\n",
      "RangeIndex: 1000 entries, 0 to 999\n",
      "Data columns (total 16 columns):\n",
      " #   Column         Non-Null Count  Dtype   \n",
      "---  ------         --------------  -----   \n",
      " 0   Poster_Link    1000 non-null   object  \n",
      " 1   Series_Title   1000 non-null   object  \n",
      " 2   Released_Year  1000 non-null   int16   \n",
      " 3   Certificate    899 non-null    category\n",
      " 4   Runtime        1000 non-null   object  \n",
      " 5   Genre          1000 non-null   object  \n",
      " 6   IMDB_Rating    1000 non-null   float64 \n",
      " 7   Overview       1000 non-null   object  \n",
      " 8   Meta_score     843 non-null    float64 \n",
      " 9   Director       1000 non-null   object  \n",
      " 10  Star1          1000 non-null   object  \n",
      " 11  Star2          1000 non-null   object  \n",
      " 12  Star3          1000 non-null   object  \n",
      " 13  Star4          1000 non-null   object  \n",
      " 14  No_of_Votes    1000 non-null   int64   \n",
      " 15  Gross          831 non-null    object  \n",
      "dtypes: category(1), float64(2), int16(1), int64(1), object(11)\n",
      "memory usage: 113.1+ KB\n"
     ]
    }
   ],
   "source": [
    "imdb.info()"
   ]
  },
  {
   "cell_type": "markdown",
   "id": "535137bb-8a45-4bc6-9c6d-d90765dec4cd",
   "metadata": {},
   "source": [
    "**אינדוקס**  \n",
    "8. ודא שאין כפילויות בעמודת  \n",
    "Series_Title  \n",
    "9. הפכי את העמודה הזו לאינדקס   \n",
    "10. סדר את הטבלה על פי האינדקס שלה באופן קבוע  \n",
    "11.  מה המיקום של Apolo 13   \n",
    "עכשיו?"
   ]
  },
  {
   "cell_type": "code",
   "execution_count": 14,
   "id": "87517433-48d0-466b-95fa-70cc781295db",
   "metadata": {},
   "outputs": [
    {
     "data": {
      "text/plain": [
       "np.True_"
      ]
     },
     "execution_count": 14,
     "metadata": {},
     "output_type": "execute_result"
    }
   ],
   "source": [
    "imdb[\"Series_Title\"].duplicated().any()"
   ]
  },
  {
   "cell_type": "code",
   "execution_count": null,
   "id": "0aaaa28f-ead7-4e27-b19d-4dbc9ea00643",
   "metadata": {},
   "outputs": [],
   "source": []
  },
  {
   "cell_type": "code",
   "execution_count": null,
   "id": "53939714-2c9e-4aaa-8e6c-21997e36efc4",
   "metadata": {},
   "outputs": [],
   "source": []
  },
  {
   "cell_type": "markdown",
   "id": "606c6feb-c5d1-4616-baed-b3f734ea9c00",
   "metadata": {},
   "source": [
    " **שליפות**  \n",
    "12. מצא את כל הפרטים על הסרט \n",
    " Despicable Me\n",
    "13. הצגי סרטים שמורגן פרימן היה השחקן הראשי בהם\n",
    "14. עבור הסרטים   \n",
    "Star Trek ו The Big Lebowski  \n",
    "הצג את עמודות במאי וכוכב ראשי\n",
    "15.  בכמה סרטים שיחק טום הנקס\n",
    "        לי יצא 14...\n",
    "16. הצג סרטים שהאינדקס שלהם הוא בין \n",
    "    Avatar \n",
    "   Back to the Future ל  \n",
    "17.  מה  הציון (Meta_score) \n",
    "שקיבל Gattaca\n",
    "ומה לגבי:\n",
    "שקיבל Labyrinth\n",
    "אם קיבלת שגיאה- איזו שגיאה היא? מה פירושה?\n",
    "\n",
    "18. עמודת Meta_scor  \n",
    "מראה ציון שקיבל הסרט בסקאלה עד 100\n",
    "IMDB_Ratinואילו עמודת   \n",
    "מראה אותו כשבר עשרוני - התאמי את הציונים לאותו סולם והציגי רק סרטים שהציניום שלהם בשתי העמודות זהים\n",
    "\n",
    "\n",
    "\n",
    " "
   ]
  },
  {
   "cell_type": "code",
   "execution_count": null,
   "id": "3d6527d8-dbdd-47c9-8e8c-86a1c9be2ad2",
   "metadata": {},
   "outputs": [],
   "source": []
  },
  {
   "cell_type": "code",
   "execution_count": null,
   "id": "44374f6d-cab0-417c-b890-69757e44a103",
   "metadata": {},
   "outputs": [],
   "source": []
  },
  {
   "cell_type": "code",
   "execution_count": null,
   "id": "0739b5c9-a978-4e3c-bc59-6a0a92974fee",
   "metadata": {},
   "outputs": [],
   "source": []
  },
  {
   "cell_type": "code",
   "execution_count": null,
   "id": "68fef266-d9b7-4c2c-b6fd-4d9b596df8e9",
   "metadata": {},
   "outputs": [],
   "source": []
  },
  {
   "cell_type": "code",
   "execution_count": null,
   "id": "4c953b1d-58db-40db-ac31-1b76f7a8bd30",
   "metadata": {},
   "outputs": [],
   "source": []
  },
  {
   "cell_type": "code",
   "execution_count": null,
   "id": "58673c5a-549b-4c8d-ac84-1cca3bf8b604",
   "metadata": {},
   "outputs": [],
   "source": []
  },
  {
   "cell_type": "code",
   "execution_count": null,
   "id": "7e706c97-dfaa-40e1-89d1-9415ba9ad162",
   "metadata": {},
   "outputs": [],
   "source": []
  },
  {
   "cell_type": "code",
   "execution_count": null,
   "id": "16594f50-6dad-4eaf-9b62-c9e0589b5cc0",
   "metadata": {},
   "outputs": [],
   "source": []
  },
  {
   "cell_type": "markdown",
   "id": "f58e1211-03a8-451d-993d-274d6e943976",
   "metadata": {
    "scrolled": true
   },
   "source": [
    "**מניפולציות על מידע**\n",
    "\n",
    "20. שני  למה שתרצי את דירוג הסרט Eternal Sunshine of the Spotless Mind\n",
    "21. צור העתק של של הטבלה וכלול בו רק את האינדקס, שם הבמאי, שחקן ראשי ורייטינג\n",
    "22. בהעתק שיצרת - החליפי את עמודת רייטינג בעמודת דירוג שתצרי על פיה rank()\n",
    "    "
   ]
  },
  {
   "cell_type": "code",
   "execution_count": null,
   "id": "b4bf0e87-9938-48d6-bef2-fc1774728446",
   "metadata": {},
   "outputs": [],
   "source": []
  },
  {
   "cell_type": "code",
   "execution_count": null,
   "id": "b8e4df4b-e2b9-47e2-8196-55a8054812c1",
   "metadata": {},
   "outputs": [],
   "source": []
  },
  {
   "cell_type": "code",
   "execution_count": null,
   "id": "c6062064-2b8f-47ac-82c2-0b611b72b9e7",
   "metadata": {},
   "outputs": [],
   "source": []
  },
  {
   "cell_type": "code",
   "execution_count": null,
   "id": "a24e467d-5817-4a2b-bf22-dfd80322ed31",
   "metadata": {},
   "outputs": [],
   "source": []
  },
  {
   "cell_type": "code",
   "execution_count": null,
   "id": "3c7c190f-5dbb-49c3-997e-eb8b74e88d54",
   "metadata": {},
   "outputs": [],
   "source": []
  },
  {
   "cell_type": "markdown",
   "id": "6d030f9b-e53e-415f-8c94-f6882de1a7b6",
   "metadata": {},
   "source": [
    "**אחרון ודי**\n",
    "צרו פונקציה שמקבלת מיקום של שורה בטבלת הסרטים\n",
    "ומדפיסה את שם הסרט \n",
    "וגם\n",
    "מחזירה את הקישור לפוסטר של הסרט"
   ]
  },
  {
   "cell_type": "code",
   "execution_count": null,
   "id": "618d2447-323c-4d8a-97e2-ecd0630f6302",
   "metadata": {},
   "outputs": [],
   "source": []
  },
  {
   "cell_type": "code",
   "execution_count": null,
   "id": "8df8c855-ce71-4cdf-b977-a3a05b7741f8",
   "metadata": {},
   "outputs": [],
   "source": []
  }
 ],
 "metadata": {
  "kernelspec": {
   "display_name": "Python 3 (ipykernel)",
   "language": "python",
   "name": "python3"
  },
  "language_info": {
   "codemirror_mode": {
    "name": "ipython",
    "version": 3
   },
   "file_extension": ".py",
   "mimetype": "text/x-python",
   "name": "python",
   "nbconvert_exporter": "python",
   "pygments_lexer": "ipython3",
   "version": "3.12.4"
  }
 },
 "nbformat": 4,
 "nbformat_minor": 5
}
