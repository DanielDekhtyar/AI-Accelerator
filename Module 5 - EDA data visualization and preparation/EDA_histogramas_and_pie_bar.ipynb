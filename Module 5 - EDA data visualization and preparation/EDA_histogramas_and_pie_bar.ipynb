{
  "cells": [
    {
      "cell_type": "markdown",
      "metadata": {
        "id": "view-in-github",
        "colab_type": "text"
      },
      "source": [
        "<a href=\"https://colab.research.google.com/github/DanielDekhtyar/AI-Accelerator/blob/main/Module%205%20-%20EDA%20data%20visualization%20and%20preparation/EDA_histogramas_and_pie_bar.ipynb\" target=\"_parent\"><img src=\"https://colab.research.google.com/assets/colab-badge.svg\" alt=\"Open In Colab\"/></a>"
      ]
    },
    {
      "cell_type": "markdown",
      "id": "5160a30f-295d-44f1-bc59-7f36524fb97f",
      "metadata": {
        "id": "5160a30f-295d-44f1-bc59-7f36524fb97f"
      },
      "source": [
        "##### 1. Histogram\n",
        "Create a histogram of the salaries of all players.  \n",
        "* Customize the histogram with a title and labeled axes.\n",
        "* if you have time, custumize color, bins, edgecolor and alpha"
      ]
    },
    {
      "cell_type": "code",
      "execution_count": 1,
      "id": "94da6f88-bf7e-4984-a37a-58a2e0540860",
      "metadata": {
        "id": "94da6f88-bf7e-4984-a37a-58a2e0540860"
      },
      "outputs": [],
      "source": [
        "import pandas as pd\n",
        "import numpy as np\n",
        "import matplotlib.pyplot as plt"
      ]
    },
    {
      "cell_type": "code",
      "execution_count": 2,
      "id": "2515387a-1a29-4767-8710-5b67f15ce7db",
      "metadata": {
        "colab": {
          "base_uri": "https://localhost:8080/",
          "height": 423
        },
        "id": "2515387a-1a29-4767-8710-5b67f15ce7db",
        "outputId": "a78eddf7-f336-4d74-f031-a104e4ec773b"
      },
      "outputs": [
        {
          "output_type": "execute_result",
          "data": {
            "text/plain": [
              "    club last_name first_name position  base_salary  guaranteed_compensation\n",
              "0    ATL   Almiron     Miguel        M    1912500.0               2297000.00\n",
              "1    ATL   Ambrose      Mikey        D      65625.0                 65625.00\n",
              "2    ATL      Asad      Yamil        M     150000.0                150000.00\n",
              "3    ATL     Bloom       Mark        D      99225.0                106573.89\n",
              "4    ATL  Carleton     Andrew        F      65000.0                 77400.00\n",
              "..   ...       ...        ...      ...          ...                      ...\n",
              "610  VAN   Teibert    Russell        M     126500.0                194000.00\n",
              "611  VAN  Tornaghi      Paolo       GK      80000.0                 80000.00\n",
              "612  VAN    Waston    Kendall        D     350000.0                368125.00\n",
              "613  NaN       NaN        NaN      NaN          NaN                      NaN\n",
              "614  VAN  Williams    Sheanon        D     175000.0                184000.00\n",
              "\n",
              "[615 rows x 6 columns]"
            ],
            "text/html": [
              "\n",
              "  <div id=\"df-6398d405-a9c5-4941-85d0-4f6d7f428d44\" class=\"colab-df-container\">\n",
              "    <div>\n",
              "<style scoped>\n",
              "    .dataframe tbody tr th:only-of-type {\n",
              "        vertical-align: middle;\n",
              "    }\n",
              "\n",
              "    .dataframe tbody tr th {\n",
              "        vertical-align: top;\n",
              "    }\n",
              "\n",
              "    .dataframe thead th {\n",
              "        text-align: right;\n",
              "    }\n",
              "</style>\n",
              "<table border=\"1\" class=\"dataframe\">\n",
              "  <thead>\n",
              "    <tr style=\"text-align: right;\">\n",
              "      <th></th>\n",
              "      <th>club</th>\n",
              "      <th>last_name</th>\n",
              "      <th>first_name</th>\n",
              "      <th>position</th>\n",
              "      <th>base_salary</th>\n",
              "      <th>guaranteed_compensation</th>\n",
              "    </tr>\n",
              "  </thead>\n",
              "  <tbody>\n",
              "    <tr>\n",
              "      <th>0</th>\n",
              "      <td>ATL</td>\n",
              "      <td>Almiron</td>\n",
              "      <td>Miguel</td>\n",
              "      <td>M</td>\n",
              "      <td>1912500.0</td>\n",
              "      <td>2297000.00</td>\n",
              "    </tr>\n",
              "    <tr>\n",
              "      <th>1</th>\n",
              "      <td>ATL</td>\n",
              "      <td>Ambrose</td>\n",
              "      <td>Mikey</td>\n",
              "      <td>D</td>\n",
              "      <td>65625.0</td>\n",
              "      <td>65625.00</td>\n",
              "    </tr>\n",
              "    <tr>\n",
              "      <th>2</th>\n",
              "      <td>ATL</td>\n",
              "      <td>Asad</td>\n",
              "      <td>Yamil</td>\n",
              "      <td>M</td>\n",
              "      <td>150000.0</td>\n",
              "      <td>150000.00</td>\n",
              "    </tr>\n",
              "    <tr>\n",
              "      <th>3</th>\n",
              "      <td>ATL</td>\n",
              "      <td>Bloom</td>\n",
              "      <td>Mark</td>\n",
              "      <td>D</td>\n",
              "      <td>99225.0</td>\n",
              "      <td>106573.89</td>\n",
              "    </tr>\n",
              "    <tr>\n",
              "      <th>4</th>\n",
              "      <td>ATL</td>\n",
              "      <td>Carleton</td>\n",
              "      <td>Andrew</td>\n",
              "      <td>F</td>\n",
              "      <td>65000.0</td>\n",
              "      <td>77400.00</td>\n",
              "    </tr>\n",
              "    <tr>\n",
              "      <th>...</th>\n",
              "      <td>...</td>\n",
              "      <td>...</td>\n",
              "      <td>...</td>\n",
              "      <td>...</td>\n",
              "      <td>...</td>\n",
              "      <td>...</td>\n",
              "    </tr>\n",
              "    <tr>\n",
              "      <th>610</th>\n",
              "      <td>VAN</td>\n",
              "      <td>Teibert</td>\n",
              "      <td>Russell</td>\n",
              "      <td>M</td>\n",
              "      <td>126500.0</td>\n",
              "      <td>194000.00</td>\n",
              "    </tr>\n",
              "    <tr>\n",
              "      <th>611</th>\n",
              "      <td>VAN</td>\n",
              "      <td>Tornaghi</td>\n",
              "      <td>Paolo</td>\n",
              "      <td>GK</td>\n",
              "      <td>80000.0</td>\n",
              "      <td>80000.00</td>\n",
              "    </tr>\n",
              "    <tr>\n",
              "      <th>612</th>\n",
              "      <td>VAN</td>\n",
              "      <td>Waston</td>\n",
              "      <td>Kendall</td>\n",
              "      <td>D</td>\n",
              "      <td>350000.0</td>\n",
              "      <td>368125.00</td>\n",
              "    </tr>\n",
              "    <tr>\n",
              "      <th>613</th>\n",
              "      <td>NaN</td>\n",
              "      <td>NaN</td>\n",
              "      <td>NaN</td>\n",
              "      <td>NaN</td>\n",
              "      <td>NaN</td>\n",
              "      <td>NaN</td>\n",
              "    </tr>\n",
              "    <tr>\n",
              "      <th>614</th>\n",
              "      <td>VAN</td>\n",
              "      <td>Williams</td>\n",
              "      <td>Sheanon</td>\n",
              "      <td>D</td>\n",
              "      <td>175000.0</td>\n",
              "      <td>184000.00</td>\n",
              "    </tr>\n",
              "  </tbody>\n",
              "</table>\n",
              "<p>615 rows × 6 columns</p>\n",
              "</div>\n",
              "    <div class=\"colab-df-buttons\">\n",
              "\n",
              "  <div class=\"colab-df-container\">\n",
              "    <button class=\"colab-df-convert\" onclick=\"convertToInteractive('df-6398d405-a9c5-4941-85d0-4f6d7f428d44')\"\n",
              "            title=\"Convert this dataframe to an interactive table.\"\n",
              "            style=\"display:none;\">\n",
              "\n",
              "  <svg xmlns=\"http://www.w3.org/2000/svg\" height=\"24px\" viewBox=\"0 -960 960 960\">\n",
              "    <path d=\"M120-120v-720h720v720H120Zm60-500h600v-160H180v160Zm220 220h160v-160H400v160Zm0 220h160v-160H400v160ZM180-400h160v-160H180v160Zm440 0h160v-160H620v160ZM180-180h160v-160H180v160Zm440 0h160v-160H620v160Z\"/>\n",
              "  </svg>\n",
              "    </button>\n",
              "\n",
              "  <style>\n",
              "    .colab-df-container {\n",
              "      display:flex;\n",
              "      gap: 12px;\n",
              "    }\n",
              "\n",
              "    .colab-df-convert {\n",
              "      background-color: #E8F0FE;\n",
              "      border: none;\n",
              "      border-radius: 50%;\n",
              "      cursor: pointer;\n",
              "      display: none;\n",
              "      fill: #1967D2;\n",
              "      height: 32px;\n",
              "      padding: 0 0 0 0;\n",
              "      width: 32px;\n",
              "    }\n",
              "\n",
              "    .colab-df-convert:hover {\n",
              "      background-color: #E2EBFA;\n",
              "      box-shadow: 0px 1px 2px rgba(60, 64, 67, 0.3), 0px 1px 3px 1px rgba(60, 64, 67, 0.15);\n",
              "      fill: #174EA6;\n",
              "    }\n",
              "\n",
              "    .colab-df-buttons div {\n",
              "      margin-bottom: 4px;\n",
              "    }\n",
              "\n",
              "    [theme=dark] .colab-df-convert {\n",
              "      background-color: #3B4455;\n",
              "      fill: #D2E3FC;\n",
              "    }\n",
              "\n",
              "    [theme=dark] .colab-df-convert:hover {\n",
              "      background-color: #434B5C;\n",
              "      box-shadow: 0px 1px 3px 1px rgba(0, 0, 0, 0.15);\n",
              "      filter: drop-shadow(0px 1px 2px rgba(0, 0, 0, 0.3));\n",
              "      fill: #FFFFFF;\n",
              "    }\n",
              "  </style>\n",
              "\n",
              "    <script>\n",
              "      const buttonEl =\n",
              "        document.querySelector('#df-6398d405-a9c5-4941-85d0-4f6d7f428d44 button.colab-df-convert');\n",
              "      buttonEl.style.display =\n",
              "        google.colab.kernel.accessAllowed ? 'block' : 'none';\n",
              "\n",
              "      async function convertToInteractive(key) {\n",
              "        const element = document.querySelector('#df-6398d405-a9c5-4941-85d0-4f6d7f428d44');\n",
              "        const dataTable =\n",
              "          await google.colab.kernel.invokeFunction('convertToInteractive',\n",
              "                                                    [key], {});\n",
              "        if (!dataTable) return;\n",
              "\n",
              "        const docLinkHtml = 'Like what you see? Visit the ' +\n",
              "          '<a target=\"_blank\" href=https://colab.research.google.com/notebooks/data_table.ipynb>data table notebook</a>'\n",
              "          + ' to learn more about interactive tables.';\n",
              "        element.innerHTML = '';\n",
              "        dataTable['output_type'] = 'display_data';\n",
              "        await google.colab.output.renderOutput(dataTable, element);\n",
              "        const docLink = document.createElement('div');\n",
              "        docLink.innerHTML = docLinkHtml;\n",
              "        element.appendChild(docLink);\n",
              "      }\n",
              "    </script>\n",
              "  </div>\n",
              "\n",
              "\n",
              "<div id=\"df-ece12502-9af9-40ff-b1bd-5728a9905df5\">\n",
              "  <button class=\"colab-df-quickchart\" onclick=\"quickchart('df-ece12502-9af9-40ff-b1bd-5728a9905df5')\"\n",
              "            title=\"Suggest charts\"\n",
              "            style=\"display:none;\">\n",
              "\n",
              "<svg xmlns=\"http://www.w3.org/2000/svg\" height=\"24px\"viewBox=\"0 0 24 24\"\n",
              "     width=\"24px\">\n",
              "    <g>\n",
              "        <path d=\"M19 3H5c-1.1 0-2 .9-2 2v14c0 1.1.9 2 2 2h14c1.1 0 2-.9 2-2V5c0-1.1-.9-2-2-2zM9 17H7v-7h2v7zm4 0h-2V7h2v10zm4 0h-2v-4h2v4z\"/>\n",
              "    </g>\n",
              "</svg>\n",
              "  </button>\n",
              "\n",
              "<style>\n",
              "  .colab-df-quickchart {\n",
              "      --bg-color: #E8F0FE;\n",
              "      --fill-color: #1967D2;\n",
              "      --hover-bg-color: #E2EBFA;\n",
              "      --hover-fill-color: #174EA6;\n",
              "      --disabled-fill-color: #AAA;\n",
              "      --disabled-bg-color: #DDD;\n",
              "  }\n",
              "\n",
              "  [theme=dark] .colab-df-quickchart {\n",
              "      --bg-color: #3B4455;\n",
              "      --fill-color: #D2E3FC;\n",
              "      --hover-bg-color: #434B5C;\n",
              "      --hover-fill-color: #FFFFFF;\n",
              "      --disabled-bg-color: #3B4455;\n",
              "      --disabled-fill-color: #666;\n",
              "  }\n",
              "\n",
              "  .colab-df-quickchart {\n",
              "    background-color: var(--bg-color);\n",
              "    border: none;\n",
              "    border-radius: 50%;\n",
              "    cursor: pointer;\n",
              "    display: none;\n",
              "    fill: var(--fill-color);\n",
              "    height: 32px;\n",
              "    padding: 0;\n",
              "    width: 32px;\n",
              "  }\n",
              "\n",
              "  .colab-df-quickchart:hover {\n",
              "    background-color: var(--hover-bg-color);\n",
              "    box-shadow: 0 1px 2px rgba(60, 64, 67, 0.3), 0 1px 3px 1px rgba(60, 64, 67, 0.15);\n",
              "    fill: var(--button-hover-fill-color);\n",
              "  }\n",
              "\n",
              "  .colab-df-quickchart-complete:disabled,\n",
              "  .colab-df-quickchart-complete:disabled:hover {\n",
              "    background-color: var(--disabled-bg-color);\n",
              "    fill: var(--disabled-fill-color);\n",
              "    box-shadow: none;\n",
              "  }\n",
              "\n",
              "  .colab-df-spinner {\n",
              "    border: 2px solid var(--fill-color);\n",
              "    border-color: transparent;\n",
              "    border-bottom-color: var(--fill-color);\n",
              "    animation:\n",
              "      spin 1s steps(1) infinite;\n",
              "  }\n",
              "\n",
              "  @keyframes spin {\n",
              "    0% {\n",
              "      border-color: transparent;\n",
              "      border-bottom-color: var(--fill-color);\n",
              "      border-left-color: var(--fill-color);\n",
              "    }\n",
              "    20% {\n",
              "      border-color: transparent;\n",
              "      border-left-color: var(--fill-color);\n",
              "      border-top-color: var(--fill-color);\n",
              "    }\n",
              "    30% {\n",
              "      border-color: transparent;\n",
              "      border-left-color: var(--fill-color);\n",
              "      border-top-color: var(--fill-color);\n",
              "      border-right-color: var(--fill-color);\n",
              "    }\n",
              "    40% {\n",
              "      border-color: transparent;\n",
              "      border-right-color: var(--fill-color);\n",
              "      border-top-color: var(--fill-color);\n",
              "    }\n",
              "    60% {\n",
              "      border-color: transparent;\n",
              "      border-right-color: var(--fill-color);\n",
              "    }\n",
              "    80% {\n",
              "      border-color: transparent;\n",
              "      border-right-color: var(--fill-color);\n",
              "      border-bottom-color: var(--fill-color);\n",
              "    }\n",
              "    90% {\n",
              "      border-color: transparent;\n",
              "      border-bottom-color: var(--fill-color);\n",
              "    }\n",
              "  }\n",
              "</style>\n",
              "\n",
              "  <script>\n",
              "    async function quickchart(key) {\n",
              "      const quickchartButtonEl =\n",
              "        document.querySelector('#' + key + ' button');\n",
              "      quickchartButtonEl.disabled = true;  // To prevent multiple clicks.\n",
              "      quickchartButtonEl.classList.add('colab-df-spinner');\n",
              "      try {\n",
              "        const charts = await google.colab.kernel.invokeFunction(\n",
              "            'suggestCharts', [key], {});\n",
              "      } catch (error) {\n",
              "        console.error('Error during call to suggestCharts:', error);\n",
              "      }\n",
              "      quickchartButtonEl.classList.remove('colab-df-spinner');\n",
              "      quickchartButtonEl.classList.add('colab-df-quickchart-complete');\n",
              "    }\n",
              "    (() => {\n",
              "      let quickchartButtonEl =\n",
              "        document.querySelector('#df-ece12502-9af9-40ff-b1bd-5728a9905df5 button');\n",
              "      quickchartButtonEl.style.display =\n",
              "        google.colab.kernel.accessAllowed ? 'block' : 'none';\n",
              "    })();\n",
              "  </script>\n",
              "</div>\n",
              "\n",
              "  <div id=\"id_e3499412-10a0-4ccc-a1d4-a1ab74a17ed1\">\n",
              "    <style>\n",
              "      .colab-df-generate {\n",
              "        background-color: #E8F0FE;\n",
              "        border: none;\n",
              "        border-radius: 50%;\n",
              "        cursor: pointer;\n",
              "        display: none;\n",
              "        fill: #1967D2;\n",
              "        height: 32px;\n",
              "        padding: 0 0 0 0;\n",
              "        width: 32px;\n",
              "      }\n",
              "\n",
              "      .colab-df-generate:hover {\n",
              "        background-color: #E2EBFA;\n",
              "        box-shadow: 0px 1px 2px rgba(60, 64, 67, 0.3), 0px 1px 3px 1px rgba(60, 64, 67, 0.15);\n",
              "        fill: #174EA6;\n",
              "      }\n",
              "\n",
              "      [theme=dark] .colab-df-generate {\n",
              "        background-color: #3B4455;\n",
              "        fill: #D2E3FC;\n",
              "      }\n",
              "\n",
              "      [theme=dark] .colab-df-generate:hover {\n",
              "        background-color: #434B5C;\n",
              "        box-shadow: 0px 1px 3px 1px rgba(0, 0, 0, 0.15);\n",
              "        filter: drop-shadow(0px 1px 2px rgba(0, 0, 0, 0.3));\n",
              "        fill: #FFFFFF;\n",
              "      }\n",
              "    </style>\n",
              "    <button class=\"colab-df-generate\" onclick=\"generateWithVariable('mls')\"\n",
              "            title=\"Generate code using this dataframe.\"\n",
              "            style=\"display:none;\">\n",
              "\n",
              "  <svg xmlns=\"http://www.w3.org/2000/svg\" height=\"24px\"viewBox=\"0 0 24 24\"\n",
              "       width=\"24px\">\n",
              "    <path d=\"M7,19H8.4L18.45,9,17,7.55,7,17.6ZM5,21V16.75L18.45,3.32a2,2,0,0,1,2.83,0l1.4,1.43a1.91,1.91,0,0,1,.58,1.4,1.91,1.91,0,0,1-.58,1.4L9.25,21ZM18.45,9,17,7.55Zm-12,3A5.31,5.31,0,0,0,4.9,8.1,5.31,5.31,0,0,0,1,6.5,5.31,5.31,0,0,0,4.9,4.9,5.31,5.31,0,0,0,6.5,1,5.31,5.31,0,0,0,8.1,4.9,5.31,5.31,0,0,0,12,6.5,5.46,5.46,0,0,0,6.5,12Z\"/>\n",
              "  </svg>\n",
              "    </button>\n",
              "    <script>\n",
              "      (() => {\n",
              "      const buttonEl =\n",
              "        document.querySelector('#id_e3499412-10a0-4ccc-a1d4-a1ab74a17ed1 button.colab-df-generate');\n",
              "      buttonEl.style.display =\n",
              "        google.colab.kernel.accessAllowed ? 'block' : 'none';\n",
              "\n",
              "      buttonEl.onclick = () => {\n",
              "        google.colab.notebook.generateWithVariable('mls');\n",
              "      }\n",
              "      })();\n",
              "    </script>\n",
              "  </div>\n",
              "\n",
              "    </div>\n",
              "  </div>\n"
            ],
            "application/vnd.google.colaboratory.intrinsic+json": {
              "type": "dataframe",
              "variable_name": "mls",
              "summary": "{\n  \"name\": \"mls\",\n  \"rows\": 615,\n  \"fields\": [\n    {\n      \"column\": \"club\",\n      \"properties\": {\n        \"dtype\": \"category\",\n        \"num_unique_values\": 23,\n        \"samples\": [\n          \"ORL\",\n          \"LAFC\",\n          \"ATL\"\n        ],\n        \"semantic_type\": \"\",\n        \"description\": \"\"\n      }\n    },\n    {\n      \"column\": \"last_name\",\n      \"properties\": {\n        \"dtype\": \"string\",\n        \"num_unique_values\": 567,\n        \"samples\": [\n          \"de Jong\",\n          \"Endoh\",\n          \"Smith\"\n        ],\n        \"semantic_type\": \"\",\n        \"description\": \"\"\n      }\n    },\n    {\n      \"column\": \"first_name\",\n      \"properties\": {\n        \"dtype\": \"string\",\n        \"num_unique_values\": 391,\n        \"samples\": [\n          \"Julian\",\n          \"Matt\",\n          \"Jonathan\"\n        ],\n        \"semantic_type\": \"\",\n        \"description\": \"\"\n      }\n    },\n    {\n      \"column\": \"position\",\n      \"properties\": {\n        \"dtype\": \"category\",\n        \"num_unique_values\": 10,\n        \"samples\": [\n          \"M/F\",\n          \"D\",\n          \"D-M\"\n        ],\n        \"semantic_type\": \"\",\n        \"description\": \"\"\n      }\n    },\n    {\n      \"column\": \"base_salary\",\n      \"properties\": {\n        \"dtype\": \"number\",\n        \"std\": 672583.8979853933,\n        \"min\": 52999.92,\n        \"max\": 6660000.0,\n        \"num_unique_values\": 248,\n        \"samples\": [\n          230000.0,\n          250008.0,\n          65620.8\n        ],\n        \"semantic_type\": \"\",\n        \"description\": \"\"\n      }\n    },\n    {\n      \"column\": \"guaranteed_compensation\",\n      \"properties\": {\n        \"dtype\": \"number\",\n        \"std\": 749121.6785384938,\n        \"min\": 52999.92,\n        \"max\": 7167500.0,\n        \"num_unique_values\": 419,\n        \"samples\": [\n          88333.33,\n          192000.0,\n          72375.0\n        ],\n        \"semantic_type\": \"\",\n        \"description\": \"\"\n      }\n    }\n  ]\n}"
            }
          },
          "metadata": {},
          "execution_count": 2
        }
      ],
      "source": [
        "mls = pd.read_csv('mls_salaries.csv')\n",
        "mls"
      ]
    },
    {
      "cell_type": "code",
      "execution_count": 3,
      "id": "f38cb07e-206a-483b-95e2-9794cf3bd694",
      "metadata": {
        "colab": {
          "base_uri": "https://localhost:8080/",
          "height": 448
        },
        "id": "f38cb07e-206a-483b-95e2-9794cf3bd694",
        "outputId": "2134ad63-8952-486e-9975-5d8f47b92711"
      },
      "outputs": [
        {
          "output_type": "display_data",
          "data": {
            "text/plain": [
              "<Figure size 640x480 with 1 Axes>"
            ],
            "image/png": "[encoded data removed]"
          },
          "metadata": {}
        }
      ],
      "source": [
        "sal = mls['base_salary']\n",
        "plt.hist(sal, bins=20, edgecolor=\"white\")\n",
        "plt.yscale('log')\n",
        "plt.xlable = \"Base Salary\"\n",
        "plt.ylable = \"Number of players\"\n",
        "plt.title = \"Histogram of Salaries of MLS players\"\n",
        "plt.show()"
      ]
    },
    {
      "cell_type": "markdown",
      "id": "055e7e82-2189-40e9-8342-9ecc0552950d",
      "metadata": {
        "id": "055e7e82-2189-40e9-8342-9ecc0552950d"
      },
      "source": [
        "##### 2. Bar Plot\n",
        "Group the data by club and calculate the average salary for each team.\n",
        "* Create a bar plot to visualize the average salary by team, and add titles and labels."
      ]
    },
    {
      "cell_type": "code",
      "execution_count": 4,
      "id": "087e7b17-c8ca-417d-9892-63f48d42dd97",
      "metadata": {
        "id": "087e7b17-c8ca-417d-9892-63f48d42dd97"
      },
      "outputs": [],
      "source": [
        "clubs = mls.groupby('club')\n",
        "mean_sal = clubs['base_salary'].mean()"
      ]
    },
    {
      "cell_type": "code",
      "source": [
        "plt.bar(mean_sal.index, mean_sal)\n",
        "plt.title = \"Average salary by team\"\n",
        "plt.show()"
      ],
      "metadata": {
        "colab": {
          "base_uri": "https://localhost:8080/",
          "height": 430
        },
        "id": "pUhz2JfzEk8_",
        "outputId": "3bffe926-436d-41dd-d5c2-e5afd73ac10a"
      },
      "id": "pUhz2JfzEk8_",
      "execution_count": 5,
      "outputs": [
        {
          "output_type": "display_data",
          "data": {
            "text/plain": [
              "<Figure size 640x480 with 1 Axes>"
            ],
            "image/png": "[encoded data removed]"
          },
          "metadata": {}
        }
      ]
    },
    {
      "cell_type": "markdown",
      "id": "d031bb5b-0176-448c-a39b-98840ede93c2",
      "metadata": {
        "id": "d031bb5b-0176-448c-a39b-98840ede93c2"
      },
      "source": [
        "##### 3. Bar Plot with Alpha\n",
        "remake the last bar chart only for clubs: atl,chi and clb.  \n",
        "Add another bar plot (for the same clubs only) with the median salary by team.  \n",
        "show the result on the same figure.\n",
        " * Use a different color and set alpha to make it semi-transparent."
      ]
    },
    {
      "cell_type": "code",
      "execution_count": 6,
      "id": "e40cc486-7a02-47ed-b9b7-e5b8cebc7f68",
      "metadata": {
        "id": "e40cc486-7a02-47ed-b9b7-e5b8cebc7f68"
      },
      "outputs": [],
      "source": [
        "new_mls = mls[mls['club'].isin(['ATL', 'CHI', 'CLB'])]\n",
        "clubs = new_mls.groupby('club')\n",
        "mean_sal = clubs['base_salary'].mean()"
      ]
    },
    {
      "cell_type": "code",
      "execution_count": 7,
      "id": "0dfc8bcd-cf7d-45bc-b6c7-2cd46188fa24",
      "metadata": {
        "id": "0dfc8bcd-cf7d-45bc-b6c7-2cd46188fa24",
        "colab": {
          "base_uri": "https://localhost:8080/",
          "height": 209
        },
        "outputId": "d55cf98f-7f85-474e-9089-9bc78a6044d3"
      },
      "outputs": [
        {
          "output_type": "execute_result",
          "data": {
            "text/plain": [
              "club\n",
              "ATL    259213.420645\n",
              "CHI    454541.629630\n",
              "CLB    211507.749333\n",
              "Name: base_salary, dtype: float64"
            ],
            "text/html": [
              "<div>\n",
              "<style scoped>\n",
              "    .dataframe tbody tr th:only-of-type {\n",
              "        vertical-align: middle;\n",
              "    }\n",
              "\n",
              "    .dataframe tbody tr th {\n",
              "        vertical-align: top;\n",
              "    }\n",
              "\n",
              "    .dataframe thead th {\n",
              "        text-align: right;\n",
              "    }\n",
              "</style>\n",
              "<table border=\"1\" class=\"dataframe\">\n",
              "  <thead>\n",
              "    <tr style=\"text-align: right;\">\n",
              "      <th></th>\n",
              "      <th>base_salary</th>\n",
              "    </tr>\n",
              "    <tr>\n",
              "      <th>club</th>\n",
              "      <th></th>\n",
              "    </tr>\n",
              "  </thead>\n",
              "  <tbody>\n",
              "    <tr>\n",
              "      <th>ATL</th>\n",
              "      <td>259213.420645</td>\n",
              "    </tr>\n",
              "    <tr>\n",
              "      <th>CHI</th>\n",
              "      <td>454541.629630</td>\n",
              "    </tr>\n",
              "    <tr>\n",
              "      <th>CLB</th>\n",
              "      <td>211507.749333</td>\n",
              "    </tr>\n",
              "  </tbody>\n",
              "</table>\n",
              "</div><br><label><b>dtype:</b> float64</label>"
            ]
          },
          "metadata": {},
          "execution_count": 7
        }
      ],
      "source": [
        "mean_sal"
      ]
    },
    {
      "cell_type": "code",
      "source": [
        "plt.bar(mean_sal.index, mean_sal, alpha=0.5)\n",
        "plt.title = \"Average salary by team\"\n",
        "plt.show()"
      ],
      "metadata": {
        "colab": {
          "base_uri": "https://localhost:8080/",
          "height": 430
        },
        "id": "uezow7OJAXIT",
        "outputId": "ef5d1632-09e3-48a3-f027-97895f73b51c"
      },
      "id": "uezow7OJAXIT",
      "execution_count": 8,
      "outputs": [
        {
          "output_type": "display_data",
          "data": {
            "text/plain": [
              "<Figure size 640x480 with 1 Axes>"
            ],
            "image/png": "[encoded data removed]"
          },
          "metadata": {}
        }
      ]
    },
    {
      "cell_type": "markdown",
      "id": "4afeaeac-e258-49dc-8238-0f56f6a8db0a",
      "metadata": {
        "id": "4afeaeac-e258-49dc-8238-0f56f6a8db0a"
      },
      "source": [
        "##### 5 hist funnction\n",
        "Using the cereal dataset,   \n",
        "create a function that accepts a column name and displays a histogram of that column,  \n",
        "including three lines indicating the median, mean, and mode.\n",
        "the default value of the function parameter should be 'sugars'"
      ]
    },
    {
      "cell_type": "code",
      "source": [
        "cereal = pd.read_csv('cereal.csv')"
      ],
      "metadata": {
        "id": "JpwAXHa-OysB"
      },
      "id": "JpwAXHa-OysB",
      "execution_count": 9,
      "outputs": []
    },
    {
      "cell_type": "code",
      "execution_count": 22,
      "id": "2bdf0976-d721-4527-b5c2-336d52fe4625",
      "metadata": {
        "id": "2bdf0976-d721-4527-b5c2-336d52fe4625"
      },
      "outputs": [],
      "source": [
        "def func(column='sugars'):\n",
        "    col = cereal[column]\n",
        "    col.plot(kind=\"hist\")\n",
        "    plt.axvline(col.mean(), label = 'Mean', color='yellow')\n",
        "    plt.axvline(col.median(), label = 'Median', color='green')\n",
        "    plt.axvline(col.mode()[0], label = 'Mode', color='pink')\n",
        "    plt.legend()\n",
        "    plt.show()"
      ]
    },
    {
      "cell_type": "code",
      "execution_count": 23,
      "id": "5023e7a0-9ea5-4a56-958e-ec6dfeafebdf",
      "metadata": {
        "id": "5023e7a0-9ea5-4a56-958e-ec6dfeafebdf",
        "colab": {
          "base_uri": "https://localhost:8080/",
          "height": 430
        },
        "outputId": "d7a83fc5-edd6-4015-cf9d-26a28bb9fb90"
      },
      "outputs": [
        {
          "output_type": "display_data",
          "data": {
            "text/plain": [
              "<Figure size 640x480 with 1 Axes>"
            ],
            "image/png": "[encoded data removed]"
          },
          "metadata": {}
        }
      ],
      "source": [
        "func()"
      ]
    }
  ],
  "metadata": {
    "kernelspec": {
      "display_name": "Python 3 (ipykernel)",
      "language": "python",
      "name": "python3"
    },
    "language_info": {
      "codemirror_mode": {
        "name": "ipython",
        "version": 3
      },
      "file_extension": ".py",
      "mimetype": "text/x-python",
      "name": "python",
      "nbconvert_exporter": "python",
      "pygments_lexer": "ipython3",
      "version": "3.12.2"
    },
    "colab": {
      "provenance": [],
      "include_colab_link": true
    }
  },
  "nbformat": 4,
  "nbformat_minor": 5
}