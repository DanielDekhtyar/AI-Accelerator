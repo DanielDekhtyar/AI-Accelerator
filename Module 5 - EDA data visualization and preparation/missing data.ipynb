{
 "cells": [
  {
   "cell_type": "markdown",
   "id": "51fd273b-da65-408b-bd98-587f626e1ec3",
   "metadata": {},
   "source": [
    "intro: in this exercise you will use mls_salaries_nans.csv as the data frame.\n",
    "\n",
    "1. look at your data and get to know it a little. use info(), head(), tail, describe()- or whatever it is you want to map for yourself what needs to be done."
   ]
  },
  {
   "cell_type": "code",
   "execution_count": 1,
   "id": "b9eb9db7-c1f6-4232-b6e8-d8c2790dbae4",
   "metadata": {},
   "outputs": [],
   "source": [
    "import pandas as pd"
   ]
  },
  {
   "cell_type": "code",
   "execution_count": 3,
   "id": "31591107-a607-4d2a-940e-51538e053900",
   "metadata": {},
   "outputs": [],
   "source": [
    "df = pd.read_csv('mls_salaries_nans.csv')"
   ]
  },
  {
   "cell_type": "code",
   "execution_count": 4,
   "id": "ef7c0648-dcd8-4ad7-99d3-ce759a8a5896",
   "metadata": {},
   "outputs": [
    {
     "name": "stdout",
     "output_type": "stream",
     "text": [
      "<class 'pandas.core.frame.DataFrame'>\n",
      "RangeIndex: 615 entries, 0 to 614\n",
      "Data columns (total 6 columns):\n",
      " #   Column                   Non-Null Count  Dtype  \n",
      "---  ------                   --------------  -----  \n",
      " 0   club                     614 non-null    object \n",
      " 1   last_name                614 non-null    object \n",
      " 2   first_name               610 non-null    object \n",
      " 3   position                 604 non-null    object \n",
      " 4   base_salary              612 non-null    float64\n",
      " 5   guaranteed_compensation  614 non-null    float64\n",
      "dtypes: float64(2), object(4)\n",
      "memory usage: 29.0+ KB\n"
     ]
    }
   ],
   "source": [
    "df.info()"
   ]
  },
  {
   "cell_type": "code",
   "execution_count": 5,
   "id": "64bd212b-de65-4ba7-a0b9-b1b13ffcc7de",
   "metadata": {},
   "outputs": [
    {
     "data": {
      "text/html": [
       "<div>\n",
       "<style scoped>\n",
       "    .dataframe tbody tr th:only-of-type {\n",
       "        vertical-align: middle;\n",
       "    }\n",
       "\n",
       "    .dataframe tbody tr th {\n",
       "        vertical-align: top;\n",
       "    }\n",
       "\n",
       "    .dataframe thead th {\n",
       "        text-align: right;\n",
       "    }\n",
       "</style>\n",
       "<table border=\"1\" class=\"dataframe\">\n",
       "  <thead>\n",
       "    <tr style=\"text-align: right;\">\n",
       "      <th></th>\n",
       "      <th>club</th>\n",
       "      <th>last_name</th>\n",
       "      <th>first_name</th>\n",
       "      <th>position</th>\n",
       "      <th>base_salary</th>\n",
       "      <th>guaranteed_compensation</th>\n",
       "    </tr>\n",
       "  </thead>\n",
       "  <tbody>\n",
       "    <tr>\n",
       "      <th>0</th>\n",
       "      <td>ATL</td>\n",
       "      <td>Almiron</td>\n",
       "      <td>Miguel</td>\n",
       "      <td>M</td>\n",
       "      <td>1912500.0</td>\n",
       "      <td>2297000.00</td>\n",
       "    </tr>\n",
       "    <tr>\n",
       "      <th>1</th>\n",
       "      <td>ATL</td>\n",
       "      <td>Ambrose</td>\n",
       "      <td>Mikey</td>\n",
       "      <td>D</td>\n",
       "      <td>65625.0</td>\n",
       "      <td>65625.00</td>\n",
       "    </tr>\n",
       "    <tr>\n",
       "      <th>2</th>\n",
       "      <td>ATL</td>\n",
       "      <td>Asad</td>\n",
       "      <td>Yamil</td>\n",
       "      <td>M</td>\n",
       "      <td>150000.0</td>\n",
       "      <td>150000.00</td>\n",
       "    </tr>\n",
       "    <tr>\n",
       "      <th>3</th>\n",
       "      <td>ATL</td>\n",
       "      <td>Bloom</td>\n",
       "      <td>Mark</td>\n",
       "      <td>D</td>\n",
       "      <td>99225.0</td>\n",
       "      <td>106573.89</td>\n",
       "    </tr>\n",
       "    <tr>\n",
       "      <th>4</th>\n",
       "      <td>ATL</td>\n",
       "      <td>Carleton</td>\n",
       "      <td>Andrew</td>\n",
       "      <td>F</td>\n",
       "      <td>65000.0</td>\n",
       "      <td>77400.00</td>\n",
       "    </tr>\n",
       "    <tr>\n",
       "      <th>5</th>\n",
       "      <td>ATL</td>\n",
       "      <td>Carmona</td>\n",
       "      <td>Carlos</td>\n",
       "      <td>M</td>\n",
       "      <td>675000.0</td>\n",
       "      <td>725000.00</td>\n",
       "    </tr>\n",
       "    <tr>\n",
       "      <th>6</th>\n",
       "      <td>ATL</td>\n",
       "      <td>Garza</td>\n",
       "      <td>Greg</td>\n",
       "      <td>D</td>\n",
       "      <td>150000.0</td>\n",
       "      <td>150000.00</td>\n",
       "    </tr>\n",
       "    <tr>\n",
       "      <th>7</th>\n",
       "      <td>ATL</td>\n",
       "      <td>Gonzalez Pirez</td>\n",
       "      <td>Leandro</td>\n",
       "      <td>D</td>\n",
       "      <td>250008.0</td>\n",
       "      <td>285008.00</td>\n",
       "    </tr>\n",
       "    <tr>\n",
       "      <th>8</th>\n",
       "      <td>ATL</td>\n",
       "      <td>Goslin</td>\n",
       "      <td>Chris</td>\n",
       "      <td>M</td>\n",
       "      <td>70000.0</td>\n",
       "      <td>74000.00</td>\n",
       "    </tr>\n",
       "    <tr>\n",
       "      <th>9</th>\n",
       "      <td>ATL</td>\n",
       "      <td>Gressel</td>\n",
       "      <td>Julian</td>\n",
       "      <td>NaN</td>\n",
       "      <td>75000.0</td>\n",
       "      <td>93750.00</td>\n",
       "    </tr>\n",
       "    <tr>\n",
       "      <th>10</th>\n",
       "      <td>ATL</td>\n",
       "      <td>Heath</td>\n",
       "      <td>Harrison</td>\n",
       "      <td>M</td>\n",
       "      <td>66150.0</td>\n",
       "      <td>66150.00</td>\n",
       "    </tr>\n",
       "    <tr>\n",
       "      <th>11</th>\n",
       "      <td>ATL</td>\n",
       "      <td>Jones</td>\n",
       "      <td>Kenwyne</td>\n",
       "      <td>F</td>\n",
       "      <td>390000.0</td>\n",
       "      <td>413333.33</td>\n",
       "    </tr>\n",
       "    <tr>\n",
       "      <th>12</th>\n",
       "      <td>ATL</td>\n",
       "      <td>Kann</td>\n",
       "      <td>Alec</td>\n",
       "      <td>GK</td>\n",
       "      <td>77004.0</td>\n",
       "      <td>77004.00</td>\n",
       "    </tr>\n",
       "    <tr>\n",
       "      <th>13</th>\n",
       "      <td>ATL</td>\n",
       "      <td>Kratz</td>\n",
       "      <td>Kevin</td>\n",
       "      <td>M</td>\n",
       "      <td>150000.0</td>\n",
       "      <td>164250.00</td>\n",
       "    </tr>\n",
       "    <tr>\n",
       "      <th>14</th>\n",
       "      <td>ATL</td>\n",
       "      <td>Larentowicz</td>\n",
       "      <td>Jeff</td>\n",
       "      <td>M</td>\n",
       "      <td>175008.0</td>\n",
       "      <td>175008.00</td>\n",
       "    </tr>\n",
       "  </tbody>\n",
       "</table>\n",
       "</div>"
      ],
      "text/plain": [
       "   club       last_name first_name position  base_salary  \\\n",
       "0   ATL         Almiron     Miguel        M    1912500.0   \n",
       "1   ATL         Ambrose      Mikey        D      65625.0   \n",
       "2   ATL            Asad      Yamil        M     150000.0   \n",
       "3   ATL           Bloom       Mark        D      99225.0   \n",
       "4   ATL        Carleton     Andrew        F      65000.0   \n",
       "5   ATL         Carmona     Carlos        M     675000.0   \n",
       "6   ATL           Garza       Greg        D     150000.0   \n",
       "7   ATL  Gonzalez Pirez    Leandro        D     250008.0   \n",
       "8   ATL          Goslin      Chris        M      70000.0   \n",
       "9   ATL         Gressel     Julian      NaN      75000.0   \n",
       "10  ATL           Heath   Harrison        M      66150.0   \n",
       "11  ATL           Jones    Kenwyne        F     390000.0   \n",
       "12  ATL            Kann       Alec       GK      77004.0   \n",
       "13  ATL           Kratz      Kevin        M     150000.0   \n",
       "14  ATL     Larentowicz       Jeff        M     175008.0   \n",
       "\n",
       "    guaranteed_compensation  \n",
       "0                2297000.00  \n",
       "1                  65625.00  \n",
       "2                 150000.00  \n",
       "3                 106573.89  \n",
       "4                  77400.00  \n",
       "5                 725000.00  \n",
       "6                 150000.00  \n",
       "7                 285008.00  \n",
       "8                  74000.00  \n",
       "9                  93750.00  \n",
       "10                 66150.00  \n",
       "11                413333.33  \n",
       "12                 77004.00  \n",
       "13                164250.00  \n",
       "14                175008.00  "
      ]
     },
     "execution_count": 5,
     "metadata": {},
     "output_type": "execute_result"
    }
   ],
   "source": [
    "df.head(15)"
   ]
  },
  {
   "cell_type": "code",
   "execution_count": 6,
   "id": "9e974c1d-5946-4a63-96cb-f0e56f4f423a",
   "metadata": {},
   "outputs": [
    {
     "data": {
      "text/html": [
       "<div>\n",
       "<style scoped>\n",
       "    .dataframe tbody tr th:only-of-type {\n",
       "        vertical-align: middle;\n",
       "    }\n",
       "\n",
       "    .dataframe tbody tr th {\n",
       "        vertical-align: top;\n",
       "    }\n",
       "\n",
       "    .dataframe thead th {\n",
       "        text-align: right;\n",
       "    }\n",
       "</style>\n",
       "<table border=\"1\" class=\"dataframe\">\n",
       "  <thead>\n",
       "    <tr style=\"text-align: right;\">\n",
       "      <th></th>\n",
       "      <th>club</th>\n",
       "      <th>last_name</th>\n",
       "      <th>first_name</th>\n",
       "      <th>position</th>\n",
       "      <th>base_salary</th>\n",
       "      <th>guaranteed_compensation</th>\n",
       "    </tr>\n",
       "  </thead>\n",
       "  <tbody>\n",
       "    <tr>\n",
       "      <th>610</th>\n",
       "      <td>VAN</td>\n",
       "      <td>Teibert</td>\n",
       "      <td>Russell</td>\n",
       "      <td>M</td>\n",
       "      <td>126500.0</td>\n",
       "      <td>194000.0</td>\n",
       "    </tr>\n",
       "    <tr>\n",
       "      <th>611</th>\n",
       "      <td>VAN</td>\n",
       "      <td>Tornaghi</td>\n",
       "      <td>Paolo</td>\n",
       "      <td>GK</td>\n",
       "      <td>80000.0</td>\n",
       "      <td>80000.0</td>\n",
       "    </tr>\n",
       "    <tr>\n",
       "      <th>612</th>\n",
       "      <td>VAN</td>\n",
       "      <td>Waston</td>\n",
       "      <td>Kendall</td>\n",
       "      <td>D</td>\n",
       "      <td>350000.0</td>\n",
       "      <td>368125.0</td>\n",
       "    </tr>\n",
       "    <tr>\n",
       "      <th>613</th>\n",
       "      <td>NaN</td>\n",
       "      <td>NaN</td>\n",
       "      <td>NaN</td>\n",
       "      <td>NaN</td>\n",
       "      <td>NaN</td>\n",
       "      <td>NaN</td>\n",
       "    </tr>\n",
       "    <tr>\n",
       "      <th>614</th>\n",
       "      <td>VAN</td>\n",
       "      <td>Williams</td>\n",
       "      <td>Sheanon</td>\n",
       "      <td>D</td>\n",
       "      <td>175000.0</td>\n",
       "      <td>184000.0</td>\n",
       "    </tr>\n",
       "  </tbody>\n",
       "</table>\n",
       "</div>"
      ],
      "text/plain": [
       "    club last_name first_name position  base_salary  guaranteed_compensation\n",
       "610  VAN   Teibert    Russell        M     126500.0                 194000.0\n",
       "611  VAN  Tornaghi      Paolo       GK      80000.0                  80000.0\n",
       "612  VAN    Waston    Kendall        D     350000.0                 368125.0\n",
       "613  NaN       NaN        NaN      NaN          NaN                      NaN\n",
       "614  VAN  Williams    Sheanon        D     175000.0                 184000.0"
      ]
     },
     "execution_count": 6,
     "metadata": {},
     "output_type": "execute_result"
    }
   ],
   "source": [
    "df.tail()"
   ]
  },
  {
   "cell_type": "code",
   "execution_count": 7,
   "id": "b686a232-bc09-4a26-b870-ac7c1a3e9f48",
   "metadata": {},
   "outputs": [
    {
     "data": {
      "text/html": [
       "<div>\n",
       "<style scoped>\n",
       "    .dataframe tbody tr th:only-of-type {\n",
       "        vertical-align: middle;\n",
       "    }\n",
       "\n",
       "    .dataframe tbody tr th {\n",
       "        vertical-align: top;\n",
       "    }\n",
       "\n",
       "    .dataframe thead th {\n",
       "        text-align: right;\n",
       "    }\n",
       "</style>\n",
       "<table border=\"1\" class=\"dataframe\">\n",
       "  <thead>\n",
       "    <tr style=\"text-align: right;\">\n",
       "      <th></th>\n",
       "      <th>base_salary</th>\n",
       "      <th>guaranteed_compensation</th>\n",
       "    </tr>\n",
       "  </thead>\n",
       "  <tbody>\n",
       "    <tr>\n",
       "      <th>count</th>\n",
       "      <td>6.120000e+02</td>\n",
       "      <td>6.140000e+02</td>\n",
       "    </tr>\n",
       "    <tr>\n",
       "      <th>mean</th>\n",
       "      <td>2.972454e+05</td>\n",
       "      <td>3.263752e+05</td>\n",
       "    </tr>\n",
       "    <tr>\n",
       "      <th>std</th>\n",
       "      <td>6.736826e+05</td>\n",
       "      <td>7.491217e+05</td>\n",
       "    </tr>\n",
       "    <tr>\n",
       "      <th>min</th>\n",
       "      <td>5.299992e+04</td>\n",
       "      <td>5.299992e+04</td>\n",
       "    </tr>\n",
       "    <tr>\n",
       "      <th>25%</th>\n",
       "      <td>6.563130e+04</td>\n",
       "      <td>7.003035e+04</td>\n",
       "    </tr>\n",
       "    <tr>\n",
       "      <th>50%</th>\n",
       "      <td>1.250000e+05</td>\n",
       "      <td>1.350020e+05</td>\n",
       "    </tr>\n",
       "    <tr>\n",
       "      <th>75%</th>\n",
       "      <td>2.512560e+05</td>\n",
       "      <td>2.798750e+05</td>\n",
       "    </tr>\n",
       "    <tr>\n",
       "      <th>max</th>\n",
       "      <td>6.660000e+06</td>\n",
       "      <td>7.167500e+06</td>\n",
       "    </tr>\n",
       "  </tbody>\n",
       "</table>\n",
       "</div>"
      ],
      "text/plain": [
       "        base_salary  guaranteed_compensation\n",
       "count  6.120000e+02             6.140000e+02\n",
       "mean   2.972454e+05             3.263752e+05\n",
       "std    6.736826e+05             7.491217e+05\n",
       "min    5.299992e+04             5.299992e+04\n",
       "25%    6.563130e+04             7.003035e+04\n",
       "50%    1.250000e+05             1.350020e+05\n",
       "75%    2.512560e+05             2.798750e+05\n",
       "max    6.660000e+06             7.167500e+06"
      ]
     },
     "execution_count": 7,
     "metadata": {},
     "output_type": "execute_result"
    }
   ],
   "source": [
    "df.describe()"
   ]
  },
  {
   "cell_type": "markdown",
   "id": "d584ebb3-6c50-428e-91a1-65b92fcd8d33",
   "metadata": {},
   "source": [
    "2. The 'club' column contains NaN values. Delete rows with null values in this column and make the changes permanent"
   ]
  },
  {
   "cell_type": "code",
   "execution_count": 11,
   "id": "3c390ef0-771a-46bd-8fc2-be2334563a9d",
   "metadata": {},
   "outputs": [],
   "source": [
    "df.dropna(subset=['club'], inplace=True)"
   ]
  },
  {
   "cell_type": "code",
   "execution_count": 13,
   "id": "cc6d1082-340d-4dc3-82bb-b6889a0bcc36",
   "metadata": {},
   "outputs": [
    {
     "name": "stdout",
     "output_type": "stream",
     "text": [
      "<class 'pandas.core.frame.DataFrame'>\n",
      "Index: 614 entries, 0 to 614\n",
      "Data columns (total 6 columns):\n",
      " #   Column                   Non-Null Count  Dtype  \n",
      "---  ------                   --------------  -----  \n",
      " 0   club                     614 non-null    object \n",
      " 1   last_name                614 non-null    object \n",
      " 2   first_name               610 non-null    object \n",
      " 3   position                 604 non-null    object \n",
      " 4   base_salary              612 non-null    float64\n",
      " 5   guaranteed_compensation  614 non-null    float64\n",
      "dtypes: float64(2), object(4)\n",
      "memory usage: 33.6+ KB\n"
     ]
    }
   ],
   "source": [
    "df.info()"
   ]
  },
  {
   "cell_type": "markdown",
   "id": "ad4dd1ed-9ede-4ed3-b0a7-dc4077f19ef2",
   "metadata": {},
   "source": [
    "3. The 'base_salary' and 'position' columns contain NaN values. Delete rows with null values in them and make the changes permanent"
   ]
  },
  {
   "cell_type": "code",
   "execution_count": 14,
   "id": "3ccdc2ba-92c7-4f50-9d29-668eda8f80dd",
   "metadata": {},
   "outputs": [],
   "source": [
    "df.dropna(subset=['base_salary', 'position'], inplace=True)"
   ]
  },
  {
   "cell_type": "code",
   "execution_count": 15,
   "id": "15b4387c-276c-4730-b3c0-027d63033c2b",
   "metadata": {},
   "outputs": [
    {
     "name": "stdout",
     "output_type": "stream",
     "text": [
      "<class 'pandas.core.frame.DataFrame'>\n",
      "Index: 602 entries, 0 to 614\n",
      "Data columns (total 6 columns):\n",
      " #   Column                   Non-Null Count  Dtype  \n",
      "---  ------                   --------------  -----  \n",
      " 0   club                     602 non-null    object \n",
      " 1   last_name                602 non-null    object \n",
      " 2   first_name               598 non-null    object \n",
      " 3   position                 602 non-null    object \n",
      " 4   base_salary              602 non-null    float64\n",
      " 5   guaranteed_compensation  602 non-null    float64\n",
      "dtypes: float64(2), object(4)\n",
      "memory usage: 32.9+ KB\n"
     ]
    }
   ],
   "source": [
    "df.info()"
   ]
  },
  {
   "cell_type": "markdown",
   "id": "12e71085-cf8d-4bab-b34d-9b53d4e507bc",
   "metadata": {},
   "source": [
    "4.restore the data from the original file to continue this exercise.\n"
   ]
  },
  {
   "cell_type": "code",
   "execution_count": 16,
   "id": "1b3c003d-ee4d-4354-b31f-5bd1d70f0237",
   "metadata": {},
   "outputs": [],
   "source": [
    "df = pd.read_csv('mls_salaries_nans.csv')"
   ]
  },
  {
   "cell_type": "markdown",
   "id": "85b71855-2d54-456d-b0b4-392d632cdf98",
   "metadata": {},
   "source": [
    "5. there is 1 row that has NaN values in all columns. delete it, make the changes permanent."
   ]
  },
  {
   "cell_type": "code",
   "execution_count": 17,
   "id": "662de73b-43da-4a06-8d54-01d9ba54202a",
   "metadata": {},
   "outputs": [],
   "source": [
    "df.dropna(how=\"all\", inplace=True)"
   ]
  },
  {
   "cell_type": "code",
   "execution_count": 18,
   "id": "91101aff-4c14-4e68-a6d0-b4d7cbf815f2",
   "metadata": {},
   "outputs": [
    {
     "name": "stdout",
     "output_type": "stream",
     "text": [
      "<class 'pandas.core.frame.DataFrame'>\n",
      "Index: 614 entries, 0 to 614\n",
      "Data columns (total 6 columns):\n",
      " #   Column                   Non-Null Count  Dtype  \n",
      "---  ------                   --------------  -----  \n",
      " 0   club                     614 non-null    object \n",
      " 1   last_name                614 non-null    object \n",
      " 2   first_name               610 non-null    object \n",
      " 3   position                 604 non-null    object \n",
      " 4   base_salary              612 non-null    float64\n",
      " 5   guaranteed_compensation  614 non-null    float64\n",
      "dtypes: float64(2), object(4)\n",
      "memory usage: 33.6+ KB\n"
     ]
    }
   ],
   "source": [
    "df.info()"
   ]
  },
  {
   "cell_type": "markdown",
   "id": "f1c714f2-e33b-45f9-a8ba-66f89422a2c7",
   "metadata": {},
   "source": [
    "6.The 'base_salary' column contains NaN values. Replace them with something that makes sense to you. make sure to make the change permanent"
   ]
  },
  {
   "cell_type": "code",
   "execution_count": 22,
   "id": "c31d1628-b00b-4f76-ae89-6ea917ccb58c",
   "metadata": {},
   "outputs": [
    {
     "data": {
      "text/plain": [
       "count    6.120000e+02\n",
       "mean     2.972454e+05\n",
       "std      6.736826e+05\n",
       "min      5.299992e+04\n",
       "25%      6.563130e+04\n",
       "50%      1.250000e+05\n",
       "75%      2.512560e+05\n",
       "max      6.660000e+06\n",
       "Name: base_salary, dtype: float64"
      ]
     },
     "execution_count": 22,
     "metadata": {},
     "output_type": "execute_result"
    }
   ],
   "source": [
    "df['base_salary'].describe() # We choose to use the median as a filler for NaN values"
   ]
  },
  {
   "cell_type": "code",
   "execution_count": 23,
   "id": "122d1dd3-7be0-4af5-986e-ceaa2bd3ce8c",
   "metadata": {},
   "outputs": [
    {
     "name": "stderr",
     "output_type": "stream",
     "text": [
      "C:\\Users\\Daniel\\AppData\\Local\\Temp\\ipykernel_13272\\2364823537.py:1: FutureWarning: A value is trying to be set on a copy of a DataFrame or Series through chained assignment using an inplace method.\n",
      "The behavior will change in pandas 3.0. This inplace method will never work because the intermediate object on which we are setting values always behaves as a copy.\n",
      "\n",
      "For example, when doing 'df[col].method(value, inplace=True)', try using 'df.method({col: value}, inplace=True)' or df[col] = df[col].method(value) instead, to perform the operation inplace on the original object.\n",
      "\n",
      "\n",
      "  df['base_salary'].fillna(df['base_salary'].median(), inplace=True)\n"
     ]
    }
   ],
   "source": [
    "df['base_salary'].fillna(df['base_salary'].median(), inplace=True)"
   ]
  },
  {
   "cell_type": "markdown",
   "id": "27d2b766-5ff4-47ed-be8d-8467328bdcf5",
   "metadata": {},
   "source": [
    "7. The 'club' column contains NaN values. Replace them with something that makes sense to you. make sure to make the change permanent"
   ]
  },
  {
   "cell_type": "code",
   "execution_count": 24,
   "id": "bcff60a3-4862-43e2-9d2f-68b341062cdf",
   "metadata": {},
   "outputs": [
    {
     "data": {
      "text/plain": [
       "0    VAN\n",
       "Name: club, dtype: object"
      ]
     },
     "execution_count": 24,
     "metadata": {},
     "output_type": "execute_result"
    }
   ],
   "source": [
    "df['club'].mode()"
   ]
  },
  {
   "cell_type": "code",
   "execution_count": 25,
   "id": "2f7e7c3c-030a-4f88-9efe-058a677621c7",
   "metadata": {},
   "outputs": [
    {
     "name": "stderr",
     "output_type": "stream",
     "text": [
      "C:\\Users\\Daniel\\AppData\\Local\\Temp\\ipykernel_13272\\573944943.py:1: FutureWarning: A value is trying to be set on a copy of a DataFrame or Series through chained assignment using an inplace method.\n",
      "The behavior will change in pandas 3.0. This inplace method will never work because the intermediate object on which we are setting values always behaves as a copy.\n",
      "\n",
      "For example, when doing 'df[col].method(value, inplace=True)', try using 'df.method({col: value}, inplace=True)' or df[col] = df[col].method(value) instead, to perform the operation inplace on the original object.\n",
      "\n",
      "\n",
      "  df['club'].fillna(df['club'].mode(), inplace=True)\n"
     ]
    }
   ],
   "source": [
    "df['club'].fillna(df['club'].mode(), inplace=True)"
   ]
  },
  {
   "cell_type": "code",
   "execution_count": 26,
   "id": "dad47bbd-62a4-4f9f-90a0-e9f9e6641718",
   "metadata": {},
   "outputs": [
    {
     "name": "stdout",
     "output_type": "stream",
     "text": [
      "<class 'pandas.core.frame.DataFrame'>\n",
      "Index: 614 entries, 0 to 614\n",
      "Data columns (total 6 columns):\n",
      " #   Column                   Non-Null Count  Dtype  \n",
      "---  ------                   --------------  -----  \n",
      " 0   club                     614 non-null    object \n",
      " 1   last_name                614 non-null    object \n",
      " 2   first_name               610 non-null    object \n",
      " 3   position                 604 non-null    object \n",
      " 4   base_salary              614 non-null    float64\n",
      " 5   guaranteed_compensation  614 non-null    float64\n",
      "dtypes: float64(2), object(4)\n",
      "memory usage: 33.6+ KB\n"
     ]
    }
   ],
   "source": [
    "df.info()"
   ]
  }
 ],
 "metadata": {
  "kernelspec": {
   "display_name": "Python 3 (ipykernel)",
   "language": "python",
   "name": "python3"
  },
  "language_info": {
   "codemirror_mode": {
    "name": "ipython",
    "version": 3
   },
   "file_extension": ".py",
   "mimetype": "text/x-python",
   "name": "python",
   "nbconvert_exporter": "python",
   "pygments_lexer": "ipython3",
   "version": "3.12.4"
  }
 },
 "nbformat": 4,
 "nbformat_minor": 5
}
