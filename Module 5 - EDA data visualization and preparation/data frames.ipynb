{
 "cells": [
  {
   "cell_type": "markdown",
   "id": "0f86b46a-9953-4557-9fe0-6bc3cabeb19c",
   "metadata": {},
   "source": [
    "1. import pandas"
   ]
  },
  {
   "cell_type": "code",
   "execution_count": 1,
   "id": "88c36b66-d430-42b7-aa83-212443d4bac7",
   "metadata": {},
   "outputs": [],
   "source": [
    "import pandas as pd\n",
    "import numpy as np"
   ]
  },
  {
   "cell_type": "markdown",
   "id": "7ab44239-210e-4a48-bf3b-8aba9c370287",
   "metadata": {},
   "source": [
    "2.1 create a data frame, name it df, and load the the data in mls_salaries.csv to it."
   ]
  },
  {
   "cell_type": "code",
   "execution_count": 2,
   "id": "e00d371b-37dc-4084-90b1-f4b3d7682442",
   "metadata": {},
   "outputs": [],
   "source": [
    "df = pd.read_csv('mls_salaries.csv')"
   ]
  },
  {
   "cell_type": "markdown",
   "id": "32797872-b55c-4b03-9cbf-a1b2aac4990a",
   "metadata": {},
   "source": [
    "2.2 explore your data using head(), tail(), describe() and info()"
   ]
  },
  {
   "cell_type": "code",
   "execution_count": 3,
   "id": "61bb14d2-2e4b-4dc1-a4e4-35a24bc22fe0",
   "metadata": {},
   "outputs": [
    {
     "data": {
      "text/html": [
       "<div>\n",
       "<style scoped>\n",
       "    .dataframe tbody tr th:only-of-type {\n",
       "        vertical-align: middle;\n",
       "    }\n",
       "\n",
       "    .dataframe tbody tr th {\n",
       "        vertical-align: top;\n",
       "    }\n",
       "\n",
       "    .dataframe thead th {\n",
       "        text-align: right;\n",
       "    }\n",
       "</style>\n",
       "<table border=\"1\" class=\"dataframe\">\n",
       "  <thead>\n",
       "    <tr style=\"text-align: right;\">\n",
       "      <th></th>\n",
       "      <th>club</th>\n",
       "      <th>last_name</th>\n",
       "      <th>first_name</th>\n",
       "      <th>position</th>\n",
       "      <th>base_salary</th>\n",
       "      <th>guaranteed_compensation</th>\n",
       "    </tr>\n",
       "  </thead>\n",
       "  <tbody>\n",
       "    <tr>\n",
       "      <th>0</th>\n",
       "      <td>ATL</td>\n",
       "      <td>Almiron</td>\n",
       "      <td>Miguel</td>\n",
       "      <td>M</td>\n",
       "      <td>1912500.0</td>\n",
       "      <td>2297000.00</td>\n",
       "    </tr>\n",
       "    <tr>\n",
       "      <th>1</th>\n",
       "      <td>ATL</td>\n",
       "      <td>Ambrose</td>\n",
       "      <td>Mikey</td>\n",
       "      <td>D</td>\n",
       "      <td>65625.0</td>\n",
       "      <td>65625.00</td>\n",
       "    </tr>\n",
       "    <tr>\n",
       "      <th>2</th>\n",
       "      <td>ATL</td>\n",
       "      <td>Asad</td>\n",
       "      <td>Yamil</td>\n",
       "      <td>M</td>\n",
       "      <td>150000.0</td>\n",
       "      <td>150000.00</td>\n",
       "    </tr>\n",
       "    <tr>\n",
       "      <th>3</th>\n",
       "      <td>ATL</td>\n",
       "      <td>Bloom</td>\n",
       "      <td>Mark</td>\n",
       "      <td>D</td>\n",
       "      <td>99225.0</td>\n",
       "      <td>106573.89</td>\n",
       "    </tr>\n",
       "    <tr>\n",
       "      <th>4</th>\n",
       "      <td>ATL</td>\n",
       "      <td>Carleton</td>\n",
       "      <td>Andrew</td>\n",
       "      <td>F</td>\n",
       "      <td>65000.0</td>\n",
       "      <td>77400.00</td>\n",
       "    </tr>\n",
       "  </tbody>\n",
       "</table>\n",
       "</div>"
      ],
      "text/plain": [
       "  club last_name first_name position  base_salary  guaranteed_compensation\n",
       "0  ATL   Almiron     Miguel        M    1912500.0               2297000.00\n",
       "1  ATL   Ambrose      Mikey        D      65625.0                 65625.00\n",
       "2  ATL      Asad      Yamil        M     150000.0                150000.00\n",
       "3  ATL     Bloom       Mark        D      99225.0                106573.89\n",
       "4  ATL  Carleton     Andrew        F      65000.0                 77400.00"
      ]
     },
     "execution_count": 3,
     "metadata": {},
     "output_type": "execute_result"
    }
   ],
   "source": [
    "df.head()"
   ]
  },
  {
   "cell_type": "code",
   "execution_count": 4,
   "id": "b4877e11-ef70-45d8-9a91-82d7f66a73db",
   "metadata": {},
   "outputs": [
    {
     "data": {
      "text/html": [
       "<div>\n",
       "<style scoped>\n",
       "    .dataframe tbody tr th:only-of-type {\n",
       "        vertical-align: middle;\n",
       "    }\n",
       "\n",
       "    .dataframe tbody tr th {\n",
       "        vertical-align: top;\n",
       "    }\n",
       "\n",
       "    .dataframe thead th {\n",
       "        text-align: right;\n",
       "    }\n",
       "</style>\n",
       "<table border=\"1\" class=\"dataframe\">\n",
       "  <thead>\n",
       "    <tr style=\"text-align: right;\">\n",
       "      <th></th>\n",
       "      <th>club</th>\n",
       "      <th>last_name</th>\n",
       "      <th>first_name</th>\n",
       "      <th>position</th>\n",
       "      <th>base_salary</th>\n",
       "      <th>guaranteed_compensation</th>\n",
       "    </tr>\n",
       "  </thead>\n",
       "  <tbody>\n",
       "    <tr>\n",
       "      <th>610</th>\n",
       "      <td>VAN</td>\n",
       "      <td>Teibert</td>\n",
       "      <td>Russell</td>\n",
       "      <td>M</td>\n",
       "      <td>126500.0</td>\n",
       "      <td>194000.0</td>\n",
       "    </tr>\n",
       "    <tr>\n",
       "      <th>611</th>\n",
       "      <td>VAN</td>\n",
       "      <td>Tornaghi</td>\n",
       "      <td>Paolo</td>\n",
       "      <td>GK</td>\n",
       "      <td>80000.0</td>\n",
       "      <td>80000.0</td>\n",
       "    </tr>\n",
       "    <tr>\n",
       "      <th>612</th>\n",
       "      <td>VAN</td>\n",
       "      <td>Waston</td>\n",
       "      <td>Kendall</td>\n",
       "      <td>D</td>\n",
       "      <td>350000.0</td>\n",
       "      <td>368125.0</td>\n",
       "    </tr>\n",
       "    <tr>\n",
       "      <th>613</th>\n",
       "      <td>NaN</td>\n",
       "      <td>NaN</td>\n",
       "      <td>NaN</td>\n",
       "      <td>NaN</td>\n",
       "      <td>NaN</td>\n",
       "      <td>NaN</td>\n",
       "    </tr>\n",
       "    <tr>\n",
       "      <th>614</th>\n",
       "      <td>VAN</td>\n",
       "      <td>Williams</td>\n",
       "      <td>Sheanon</td>\n",
       "      <td>D</td>\n",
       "      <td>175000.0</td>\n",
       "      <td>184000.0</td>\n",
       "    </tr>\n",
       "  </tbody>\n",
       "</table>\n",
       "</div>"
      ],
      "text/plain": [
       "    club last_name first_name position  base_salary  guaranteed_compensation\n",
       "610  VAN   Teibert    Russell        M     126500.0                 194000.0\n",
       "611  VAN  Tornaghi      Paolo       GK      80000.0                  80000.0\n",
       "612  VAN    Waston    Kendall        D     350000.0                 368125.0\n",
       "613  NaN       NaN        NaN      NaN          NaN                      NaN\n",
       "614  VAN  Williams    Sheanon        D     175000.0                 184000.0"
      ]
     },
     "execution_count": 4,
     "metadata": {},
     "output_type": "execute_result"
    }
   ],
   "source": [
    "df.tail()"
   ]
  },
  {
   "cell_type": "code",
   "execution_count": 5,
   "id": "dbc2144a-a7f9-4dc1-b270-1d505e422a33",
   "metadata": {},
   "outputs": [
    {
     "data": {
      "text/html": [
       "<div>\n",
       "<style scoped>\n",
       "    .dataframe tbody tr th:only-of-type {\n",
       "        vertical-align: middle;\n",
       "    }\n",
       "\n",
       "    .dataframe tbody tr th {\n",
       "        vertical-align: top;\n",
       "    }\n",
       "\n",
       "    .dataframe thead th {\n",
       "        text-align: right;\n",
       "    }\n",
       "</style>\n",
       "<table border=\"1\" class=\"dataframe\">\n",
       "  <thead>\n",
       "    <tr style=\"text-align: right;\">\n",
       "      <th></th>\n",
       "      <th>base_salary</th>\n",
       "      <th>guaranteed_compensation</th>\n",
       "    </tr>\n",
       "  </thead>\n",
       "  <tbody>\n",
       "    <tr>\n",
       "      <th>count</th>\n",
       "      <td>6.140000e+02</td>\n",
       "      <td>6.140000e+02</td>\n",
       "    </tr>\n",
       "    <tr>\n",
       "      <th>mean</th>\n",
       "      <td>2.971730e+05</td>\n",
       "      <td>3.263752e+05</td>\n",
       "    </tr>\n",
       "    <tr>\n",
       "      <th>std</th>\n",
       "      <td>6.725839e+05</td>\n",
       "      <td>7.491217e+05</td>\n",
       "    </tr>\n",
       "    <tr>\n",
       "      <th>min</th>\n",
       "      <td>5.299992e+04</td>\n",
       "      <td>5.299992e+04</td>\n",
       "    </tr>\n",
       "    <tr>\n",
       "      <th>25%</th>\n",
       "      <td>6.563340e+04</td>\n",
       "      <td>7.003035e+04</td>\n",
       "    </tr>\n",
       "    <tr>\n",
       "      <th>50%</th>\n",
       "      <td>1.250000e+05</td>\n",
       "      <td>1.350020e+05</td>\n",
       "    </tr>\n",
       "    <tr>\n",
       "      <th>75%</th>\n",
       "      <td>2.550000e+05</td>\n",
       "      <td>2.798750e+05</td>\n",
       "    </tr>\n",
       "    <tr>\n",
       "      <th>max</th>\n",
       "      <td>6.660000e+06</td>\n",
       "      <td>7.167500e+06</td>\n",
       "    </tr>\n",
       "  </tbody>\n",
       "</table>\n",
       "</div>"
      ],
      "text/plain": [
       "        base_salary  guaranteed_compensation\n",
       "count  6.140000e+02             6.140000e+02\n",
       "mean   2.971730e+05             3.263752e+05\n",
       "std    6.725839e+05             7.491217e+05\n",
       "min    5.299992e+04             5.299992e+04\n",
       "25%    6.563340e+04             7.003035e+04\n",
       "50%    1.250000e+05             1.350020e+05\n",
       "75%    2.550000e+05             2.798750e+05\n",
       "max    6.660000e+06             7.167500e+06"
      ]
     },
     "execution_count": 5,
     "metadata": {},
     "output_type": "execute_result"
    }
   ],
   "source": [
    "df.describe()"
   ]
  },
  {
   "cell_type": "code",
   "execution_count": 6,
   "id": "a86ef102-f472-4b33-a14e-3e61f14b9f11",
   "metadata": {},
   "outputs": [
    {
     "name": "stdout",
     "output_type": "stream",
     "text": [
      "<class 'pandas.core.frame.DataFrame'>\n",
      "RangeIndex: 615 entries, 0 to 614\n",
      "Data columns (total 6 columns):\n",
      " #   Column                   Non-Null Count  Dtype  \n",
      "---  ------                   --------------  -----  \n",
      " 0   club                     614 non-null    object \n",
      " 1   last_name                614 non-null    object \n",
      " 2   first_name               610 non-null    object \n",
      " 3   position                 604 non-null    object \n",
      " 4   base_salary              614 non-null    float64\n",
      " 5   guaranteed_compensation  614 non-null    float64\n",
      "dtypes: float64(2), object(4)\n",
      "memory usage: 29.0+ KB\n"
     ]
    }
   ],
   "source": [
    "df.info()"
   ]
  },
  {
   "cell_type": "markdown",
   "id": "946a431b-3b90-48b8-a5f9-3fb9eda138e7",
   "metadata": {},
   "source": [
    "3.1  display only the first_name column "
   ]
  },
  {
   "cell_type": "code",
   "execution_count": 7,
   "id": "bd4f3193-7a10-410c-9bae-7a2486b159c1",
   "metadata": {},
   "outputs": [
    {
     "data": {
      "text/plain": [
       "0       Miguel\n",
       "1        Mikey\n",
       "2        Yamil\n",
       "3         Mark\n",
       "4       Andrew\n",
       "        ...   \n",
       "610    Russell\n",
       "611      Paolo\n",
       "612    Kendall\n",
       "613        NaN\n",
       "614    Sheanon\n",
       "Name: first_name, Length: 615, dtype: object"
      ]
     },
     "execution_count": 7,
     "metadata": {},
     "output_type": "execute_result"
    }
   ],
   "source": [
    "df['first_name']"
   ]
  },
  {
   "cell_type": "markdown",
   "id": "f7bff937-9af0-4d0e-a016-6ba88e8745a9",
   "metadata": {},
   "source": [
    "3.2 display only the first_name ,position and last name columns"
   ]
  },
  {
   "cell_type": "code",
   "execution_count": 8,
   "id": "8cfc5220-d29a-4e58-a1fe-aa068f4c3265",
   "metadata": {},
   "outputs": [
    {
     "data": {
      "text/html": [
       "<div>\n",
       "<style scoped>\n",
       "    .dataframe tbody tr th:only-of-type {\n",
       "        vertical-align: middle;\n",
       "    }\n",
       "\n",
       "    .dataframe tbody tr th {\n",
       "        vertical-align: top;\n",
       "    }\n",
       "\n",
       "    .dataframe thead th {\n",
       "        text-align: right;\n",
       "    }\n",
       "</style>\n",
       "<table border=\"1\" class=\"dataframe\">\n",
       "  <thead>\n",
       "    <tr style=\"text-align: right;\">\n",
       "      <th></th>\n",
       "      <th>first_name</th>\n",
       "      <th>position</th>\n",
       "      <th>last_name</th>\n",
       "    </tr>\n",
       "  </thead>\n",
       "  <tbody>\n",
       "    <tr>\n",
       "      <th>0</th>\n",
       "      <td>Miguel</td>\n",
       "      <td>M</td>\n",
       "      <td>Almiron</td>\n",
       "    </tr>\n",
       "    <tr>\n",
       "      <th>1</th>\n",
       "      <td>Mikey</td>\n",
       "      <td>D</td>\n",
       "      <td>Ambrose</td>\n",
       "    </tr>\n",
       "    <tr>\n",
       "      <th>2</th>\n",
       "      <td>Yamil</td>\n",
       "      <td>M</td>\n",
       "      <td>Asad</td>\n",
       "    </tr>\n",
       "    <tr>\n",
       "      <th>3</th>\n",
       "      <td>Mark</td>\n",
       "      <td>D</td>\n",
       "      <td>Bloom</td>\n",
       "    </tr>\n",
       "    <tr>\n",
       "      <th>4</th>\n",
       "      <td>Andrew</td>\n",
       "      <td>F</td>\n",
       "      <td>Carleton</td>\n",
       "    </tr>\n",
       "    <tr>\n",
       "      <th>...</th>\n",
       "      <td>...</td>\n",
       "      <td>...</td>\n",
       "      <td>...</td>\n",
       "    </tr>\n",
       "    <tr>\n",
       "      <th>610</th>\n",
       "      <td>Russell</td>\n",
       "      <td>M</td>\n",
       "      <td>Teibert</td>\n",
       "    </tr>\n",
       "    <tr>\n",
       "      <th>611</th>\n",
       "      <td>Paolo</td>\n",
       "      <td>GK</td>\n",
       "      <td>Tornaghi</td>\n",
       "    </tr>\n",
       "    <tr>\n",
       "      <th>612</th>\n",
       "      <td>Kendall</td>\n",
       "      <td>D</td>\n",
       "      <td>Waston</td>\n",
       "    </tr>\n",
       "    <tr>\n",
       "      <th>613</th>\n",
       "      <td>NaN</td>\n",
       "      <td>NaN</td>\n",
       "      <td>NaN</td>\n",
       "    </tr>\n",
       "    <tr>\n",
       "      <th>614</th>\n",
       "      <td>Sheanon</td>\n",
       "      <td>D</td>\n",
       "      <td>Williams</td>\n",
       "    </tr>\n",
       "  </tbody>\n",
       "</table>\n",
       "<p>615 rows × 3 columns</p>\n",
       "</div>"
      ],
      "text/plain": [
       "    first_name position last_name\n",
       "0       Miguel        M   Almiron\n",
       "1        Mikey        D   Ambrose\n",
       "2        Yamil        M      Asad\n",
       "3         Mark        D     Bloom\n",
       "4       Andrew        F  Carleton\n",
       "..         ...      ...       ...\n",
       "610    Russell        M   Teibert\n",
       "611      Paolo       GK  Tornaghi\n",
       "612    Kendall        D    Waston\n",
       "613        NaN      NaN       NaN\n",
       "614    Sheanon        D  Williams\n",
       "\n",
       "[615 rows x 3 columns]"
      ]
     },
     "execution_count": 8,
     "metadata": {},
     "output_type": "execute_result"
    }
   ],
   "source": [
    "df[['first_name', 'position', 'last_name']]"
   ]
  },
  {
   "cell_type": "markdown",
   "id": "5f531083-aaaf-4873-9c15-48eb13a34a13",
   "metadata": {},
   "source": [
    "4. add 1$ to base salary, make sure your changes are saved to the data frame"
   ]
  },
  {
   "cell_type": "code",
   "execution_count": 9,
   "id": "705778c6-3be3-4591-bd58-ff4eec08bc34",
   "metadata": {},
   "outputs": [],
   "source": [
    "df['base_salary'] = df['base_salary'].add(1)"
   ]
  },
  {
   "cell_type": "markdown",
   "id": "016ce16f-02d2-4669-8102-b45133402a49",
   "metadata": {},
   "source": [
    "5. add a new column, name it \"best team\" use \"super strikers\" as the default value in that column"
   ]
  },
  {
   "cell_type": "code",
   "execution_count": 10,
   "id": "16d7a347-6c02-4644-a88b-bb4178b6f224",
   "metadata": {},
   "outputs": [],
   "source": [
    "df.insert(0, column='best team', value='super strikers')"
   ]
  },
  {
   "cell_type": "markdown",
   "id": "c94d089d-5d58-4f4e-845a-ee9af870472e",
   "metadata": {},
   "source": [
    "6. add a column in the 2nd position, name it \"age\" use NaN as default (this may be a little harder that you expect)"
   ]
  },
  {
   "cell_type": "code",
   "execution_count": 11,
   "id": "19326f70-1e76-4f15-9bb3-ff8c7a604476",
   "metadata": {},
   "outputs": [],
   "source": [
    "df.insert(1, column=\"age\", value= np.nan)"
   ]
  },
  {
   "cell_type": "markdown",
   "id": "bd57d649-9a3e-4a1c-993b-a9b12c9fafc4",
   "metadata": {},
   "source": [
    "7. how many types of clubs are there?"
   ]
  },
  {
   "cell_type": "code",
   "execution_count": 12,
   "id": "2d81c68a-1381-46fa-b357-1054cdc9207c",
   "metadata": {},
   "outputs": [
    {
     "data": {
      "text/plain": [
       "23"
      ]
     },
     "execution_count": 12,
     "metadata": {},
     "output_type": "execute_result"
    }
   ],
   "source": [
    "df['club'].nunique()"
   ]
  },
  {
   "cell_type": "markdown",
   "id": "304de762-b9e5-4f46-8bb7-182a1462eeb2",
   "metadata": {},
   "source": [
    "8. Which club is the most common?"
   ]
  },
  {
   "cell_type": "code",
   "execution_count": 13,
   "id": "ffa8637a-85f7-4367-89ff-b8b440420789",
   "metadata": {},
   "outputs": [
    {
     "data": {
      "text/plain": [
       "0    VAN\n",
       "Name: club, dtype: object"
      ]
     },
     "execution_count": 13,
     "metadata": {},
     "output_type": "execute_result"
    }
   ],
   "source": [
    "df['club'].mode()"
   ]
  },
  {
   "cell_type": "markdown",
   "id": "8021d9d3-1425-41ab-ae4c-88324fb8d8e9",
   "metadata": {},
   "source": [
    "9. If you have some time left, you can create a function that receives a float between 0 and 1 and prints the corresponding quantile with a sentence.\n",
    "For example, if it receives the number 0.7, it should print: 'The 70.0% quantile salary is 225000.0.'"
   ]
  },
  {
   "cell_type": "code",
   "execution_count": 14,
   "id": "281c02f6-cc9e-4603-9fc5-c7529d9ce8e2",
   "metadata": {},
   "outputs": [
    {
     "data": {
      "text/plain": [
       "np.float64(225001.0)"
      ]
     },
     "execution_count": 14,
     "metadata": {},
     "output_type": "execute_result"
    }
   ],
   "source": [
    "df['base_salary'].quantile(0.7)"
   ]
  },
  {
   "cell_type": "code",
   "execution_count": 15,
   "id": "62d36fdb-a5ae-4f92-b214-5a2e0de1df72",
   "metadata": {},
   "outputs": [],
   "source": [
    "def quant_func(num):\n",
    "    pct = num * 100\n",
    "    print(f\"The {pct}% quantile salary is {num}\")"
   ]
  },
  {
   "cell_type": "code",
   "execution_count": 16,
   "id": "2a3291ca-bcc6-4cc8-a1a6-f00205aa10ea",
   "metadata": {},
   "outputs": [
    {
     "name": "stdout",
     "output_type": "stream",
     "text": [
      "The 22500100.0% quantile salary is 225001.0\n",
      "None\n"
     ]
    }
   ],
   "source": [
    "print(quant_func(df['base_salary'].quantile(0.7)))"
   ]
  }
 ],
 "metadata": {
  "kernelspec": {
   "display_name": "Python 3 (ipykernel)",
   "language": "python",
   "name": "python3"
  },
  "language_info": {
   "codemirror_mode": {
    "name": "ipython",
    "version": 3
   },
   "file_extension": ".py",
   "mimetype": "text/x-python",
   "name": "python",
   "nbconvert_exporter": "python",
   "pygments_lexer": "ipython3",
   "version": "3.12.4"
  }
 },
 "nbformat": 4,
 "nbformat_minor": 5
}
