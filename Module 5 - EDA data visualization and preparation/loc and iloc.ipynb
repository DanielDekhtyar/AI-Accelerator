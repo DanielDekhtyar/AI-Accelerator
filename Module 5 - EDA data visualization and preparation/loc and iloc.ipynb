{
 "cells": [
  {
   "cell_type": "markdown",
   "id": "703aa3bf-cf9c-4947-97d0-9d2953bf8229",
   "metadata": {},
   "source": [
    "בתרגיל זה תעבדו עם  \n",
    "employee.csv\n",
    "לפני התחלת התרגיל יש להסיר את כל הכפילויות מעמודת שם המשפחה ולהפוך את העמודה הזו לאינדקס.\n",
    "על מנת ליעל ביצועים - לאחר האינדוקס יש לסדר את הערכים מחדש על פי האינדקס שיצרתם"
   ]
  },
  {
   "cell_type": "code",
   "execution_count": 1,
   "id": "1970501f-03b9-4fb3-a0ff-b11c5f788355",
   "metadata": {},
   "outputs": [],
   "source": [
    "import pandas as pd"
   ]
  },
  {
   "cell_type": "code",
   "execution_count": 2,
   "id": "d30e5b6a-741e-4662-9a08-121ed563316a",
   "metadata": {},
   "outputs": [],
   "source": [
    "emps = pd.read_csv(\"employee.csv\")"
   ]
  },
  {
   "cell_type": "code",
   "execution_count": 3,
   "id": "959c88f7-1f2c-464e-affc-ade648576d7d",
   "metadata": {},
   "outputs": [
    {
     "data": {
      "text/html": [
       "<div>\n",
       "<style scoped>\n",
       "    .dataframe tbody tr th:only-of-type {\n",
       "        vertical-align: middle;\n",
       "    }\n",
       "\n",
       "    .dataframe tbody tr th {\n",
       "        vertical-align: top;\n",
       "    }\n",
       "\n",
       "    .dataframe thead th {\n",
       "        text-align: right;\n",
       "    }\n",
       "</style>\n",
       "<table border=\"1\" class=\"dataframe\">\n",
       "  <thead>\n",
       "    <tr style=\"text-align: right;\">\n",
       "      <th></th>\n",
       "      <th>first_name</th>\n",
       "      <th>last_name</th>\n",
       "      <th>salary</th>\n",
       "      <th>start_date</th>\n",
       "      <th>gender</th>\n",
       "      <th>remote</th>\n",
       "      <th>team</th>\n",
       "    </tr>\n",
       "  </thead>\n",
       "  <tbody>\n",
       "    <tr>\n",
       "      <th>0</th>\n",
       "      <td>Haleigh</td>\n",
       "      <td>Calderhead</td>\n",
       "      <td>334473</td>\n",
       "      <td>5/9/2020</td>\n",
       "      <td>NaN</td>\n",
       "      <td>True</td>\n",
       "      <td>management</td>\n",
       "    </tr>\n",
       "    <tr>\n",
       "      <th>1</th>\n",
       "      <td>Coretta</td>\n",
       "      <td>McEvon</td>\n",
       "      <td>637457</td>\n",
       "      <td>3/20/2020</td>\n",
       "      <td>Male</td>\n",
       "      <td>False</td>\n",
       "      <td>engineering</td>\n",
       "    </tr>\n",
       "    <tr>\n",
       "      <th>2</th>\n",
       "      <td>Clarette</td>\n",
       "      <td>Tarbett</td>\n",
       "      <td>977749</td>\n",
       "      <td>11/22/2020</td>\n",
       "      <td>Agender</td>\n",
       "      <td>True</td>\n",
       "      <td>engineering</td>\n",
       "    </tr>\n",
       "    <tr>\n",
       "      <th>3</th>\n",
       "      <td>Jaime</td>\n",
       "      <td>Gianneschi</td>\n",
       "      <td>253523</td>\n",
       "      <td>9/2/2020</td>\n",
       "      <td>Bigender</td>\n",
       "      <td>False</td>\n",
       "      <td>marketing</td>\n",
       "    </tr>\n",
       "    <tr>\n",
       "      <th>4</th>\n",
       "      <td>Ediva</td>\n",
       "      <td>Skelton</td>\n",
       "      <td>325185</td>\n",
       "      <td>2/4/2020</td>\n",
       "      <td>Female</td>\n",
       "      <td>True</td>\n",
       "      <td>marketing</td>\n",
       "    </tr>\n",
       "  </tbody>\n",
       "</table>\n",
       "</div>"
      ],
      "text/plain": [
       "  first_name   last_name  salary  start_date    gender  remote         team\n",
       "0    Haleigh  Calderhead  334473    5/9/2020       NaN    True   management\n",
       "1    Coretta      McEvon  637457   3/20/2020      Male   False  engineering\n",
       "2   Clarette     Tarbett  977749  11/22/2020   Agender    True  engineering\n",
       "3      Jaime  Gianneschi  253523    9/2/2020  Bigender   False    marketing\n",
       "4      Ediva     Skelton  325185    2/4/2020    Female    True    marketing"
      ]
     },
     "execution_count": 3,
     "metadata": {},
     "output_type": "execute_result"
    }
   ],
   "source": [
    "emps.head()"
   ]
  },
  {
   "cell_type": "code",
   "execution_count": 4,
   "id": "64e5688c-5782-41b9-a160-798fc61cdb9e",
   "metadata": {},
   "outputs": [
    {
     "data": {
      "text/plain": [
       "np.int64(6)"
      ]
     },
     "execution_count": 4,
     "metadata": {},
     "output_type": "execute_result"
    }
   ],
   "source": [
    "emps.duplicated(\"last_name\").sum()"
   ]
  },
  {
   "cell_type": "code",
   "execution_count": 5,
   "id": "12055c97-afd0-4a13-9bbd-bd8fc9115aeb",
   "metadata": {},
   "outputs": [],
   "source": [
    "emps = emps.drop_duplicates(\"last_name\")"
   ]
  },
  {
   "cell_type": "code",
   "execution_count": 6,
   "id": "ee364c1e-85c0-4b1f-9062-10534a6c4fdb",
   "metadata": {},
   "outputs": [
    {
     "name": "stdout",
     "output_type": "stream",
     "text": [
      "<class 'pandas.core.frame.DataFrame'>\n",
      "Index: 994 entries, 0 to 999\n",
      "Data columns (total 7 columns):\n",
      " #   Column      Non-Null Count  Dtype \n",
      "---  ------      --------------  ----- \n",
      " 0   first_name  994 non-null    object\n",
      " 1   last_name   994 non-null    object\n",
      " 2   salary      994 non-null    int64 \n",
      " 3   start_date  970 non-null    object\n",
      " 4   gender      960 non-null    object\n",
      " 5   remote      994 non-null    bool  \n",
      " 6   team        994 non-null    object\n",
      "dtypes: bool(1), int64(1), object(5)\n",
      "memory usage: 55.3+ KB\n"
     ]
    }
   ],
   "source": [
    "emps.info()"
   ]
  },
  {
   "cell_type": "code",
   "execution_count": 7,
   "id": "f133befe-d49a-4771-9e3e-e24960f6dbaa",
   "metadata": {},
   "outputs": [],
   "source": [
    "emps = emps.set_index(keys=\"last_name\")"
   ]
  },
  {
   "cell_type": "code",
   "execution_count": 8,
   "id": "803c0358-1469-483f-b9bb-da85d2494189",
   "metadata": {},
   "outputs": [
    {
     "name": "stdout",
     "output_type": "stream",
     "text": [
      "<class 'pandas.core.frame.DataFrame'>\n",
      "Index: 994 entries, Calderhead to Hunt\n",
      "Data columns (total 6 columns):\n",
      " #   Column      Non-Null Count  Dtype \n",
      "---  ------      --------------  ----- \n",
      " 0   first_name  994 non-null    object\n",
      " 1   salary      994 non-null    int64 \n",
      " 2   start_date  970 non-null    object\n",
      " 3   gender      960 non-null    object\n",
      " 4   remote      994 non-null    bool  \n",
      " 5   team        994 non-null    object\n",
      "dtypes: bool(1), int64(1), object(4)\n",
      "memory usage: 47.6+ KB\n"
     ]
    }
   ],
   "source": [
    "emps.info()"
   ]
  },
  {
   "cell_type": "code",
   "execution_count": 9,
   "id": "651e2c7d-f5f5-4990-a1a0-1ba97418d4cb",
   "metadata": {},
   "outputs": [],
   "source": [
    "emps = emps.sort_index()"
   ]
  },
  {
   "cell_type": "code",
   "execution_count": 10,
   "id": "6d481297-b6ea-414a-b6d4-dd66a7a47a9c",
   "metadata": {},
   "outputs": [
    {
     "data": {
      "text/html": [
       "<div>\n",
       "<style scoped>\n",
       "    .dataframe tbody tr th:only-of-type {\n",
       "        vertical-align: middle;\n",
       "    }\n",
       "\n",
       "    .dataframe tbody tr th {\n",
       "        vertical-align: top;\n",
       "    }\n",
       "\n",
       "    .dataframe thead th {\n",
       "        text-align: right;\n",
       "    }\n",
       "</style>\n",
       "<table border=\"1\" class=\"dataframe\">\n",
       "  <thead>\n",
       "    <tr style=\"text-align: right;\">\n",
       "      <th></th>\n",
       "      <th>first_name</th>\n",
       "      <th>salary</th>\n",
       "      <th>start_date</th>\n",
       "      <th>gender</th>\n",
       "      <th>remote</th>\n",
       "      <th>team</th>\n",
       "    </tr>\n",
       "    <tr>\n",
       "      <th>last_name</th>\n",
       "      <th></th>\n",
       "      <th></th>\n",
       "      <th></th>\n",
       "      <th></th>\n",
       "      <th></th>\n",
       "      <th></th>\n",
       "    </tr>\n",
       "  </thead>\n",
       "  <tbody>\n",
       "    <tr>\n",
       "      <th>Abdon</th>\n",
       "      <td>Kattie</td>\n",
       "      <td>589227</td>\n",
       "      <td>9/28/2020</td>\n",
       "      <td>Male</td>\n",
       "      <td>True</td>\n",
       "      <td>engineering</td>\n",
       "    </tr>\n",
       "    <tr>\n",
       "      <th>Ablewhite</th>\n",
       "      <td>Aeriela</td>\n",
       "      <td>357296</td>\n",
       "      <td>5/19/2020</td>\n",
       "      <td>Agender</td>\n",
       "      <td>False</td>\n",
       "      <td>engineering</td>\n",
       "    </tr>\n",
       "    <tr>\n",
       "      <th>Abramino</th>\n",
       "      <td>Kaitlyn</td>\n",
       "      <td>133860</td>\n",
       "      <td>7/12/2020</td>\n",
       "      <td>Polygender</td>\n",
       "      <td>True</td>\n",
       "      <td>management</td>\n",
       "    </tr>\n",
       "    <tr>\n",
       "      <th>Abramowitch</th>\n",
       "      <td>Gwyneth</td>\n",
       "      <td>599067</td>\n",
       "      <td>9/24/2020</td>\n",
       "      <td>Genderqueer</td>\n",
       "      <td>True</td>\n",
       "      <td>engineering</td>\n",
       "    </tr>\n",
       "    <tr>\n",
       "      <th>Ackenhead</th>\n",
       "      <td>Timofei</td>\n",
       "      <td>916900</td>\n",
       "      <td>10/14/2020</td>\n",
       "      <td>Male</td>\n",
       "      <td>True</td>\n",
       "      <td>data analytics</td>\n",
       "    </tr>\n",
       "  </tbody>\n",
       "</table>\n",
       "</div>"
      ],
      "text/plain": [
       "            first_name  salary  start_date       gender  remote  \\\n",
       "last_name                                                         \n",
       "Abdon           Kattie  589227   9/28/2020         Male    True   \n",
       "Ablewhite      Aeriela  357296   5/19/2020      Agender   False   \n",
       "Abramino       Kaitlyn  133860   7/12/2020   Polygender    True   \n",
       "Abramowitch    Gwyneth  599067   9/24/2020  Genderqueer    True   \n",
       "Ackenhead      Timofei  916900  10/14/2020         Male    True   \n",
       "\n",
       "                       team  \n",
       "last_name                    \n",
       "Abdon           engineering  \n",
       "Ablewhite       engineering  \n",
       "Abramino         management  \n",
       "Abramowitch     engineering  \n",
       "Ackenhead    data analytics  "
      ]
     },
     "execution_count": 10,
     "metadata": {},
     "output_type": "execute_result"
    }
   ],
   "source": [
    "emps.head()"
   ]
  },
  {
   "cell_type": "markdown",
   "id": "a48a4a00-cafe-4318-9eb2-b6af215db2aa",
   "metadata": {},
   "source": [
    "---"
   ]
  },
  {
   "cell_type": "markdown",
   "id": "afb1b388-2f81-411b-994d-39feced3f460",
   "metadata": {},
   "source": [
    "**את השאלות הבאות יש לפתור בעזרת loc/iloc**  \n",
    "1. מה הפרטים בשורה שהאינדקס שלה הוא \n",
    "Hilliam\n",
    "2.  מה הפרטים של העובדים מ  \n",
    "   Dunne  \n",
    "עד Edden\n",
    "3. עבור העובדים מסעיף 2 הציגו רק כל עובד שלישי ורק את העמודות משכורת וצוות"
   ]
  },
  {
   "cell_type": "code",
   "execution_count": 11,
   "id": "42299ee3-6db2-4186-bead-226a887ec4d4",
   "metadata": {},
   "outputs": [
    {
     "data": {
      "text/plain": [
       "first_name        Lishe\n",
       "salary           882890\n",
       "start_date    5/11/2020\n",
       "gender           Female\n",
       "remote            False\n",
       "team          marketing\n",
       "Name: Hilliam, dtype: object"
      ]
     },
     "execution_count": 11,
     "metadata": {},
     "output_type": "execute_result"
    }
   ],
   "source": [
    "emps.loc[\"Hilliam\"]"
   ]
  },
  {
   "cell_type": "code",
   "execution_count": 14,
   "id": "5b7a903d-99f6-4eb0-ac17-236935398e95",
   "metadata": {},
   "outputs": [
    {
     "data": {
      "text/html": [
       "<div>\n",
       "<style scoped>\n",
       "    .dataframe tbody tr th:only-of-type {\n",
       "        vertical-align: middle;\n",
       "    }\n",
       "\n",
       "    .dataframe tbody tr th {\n",
       "        vertical-align: top;\n",
       "    }\n",
       "\n",
       "    .dataframe thead th {\n",
       "        text-align: right;\n",
       "    }\n",
       "</style>\n",
       "<table border=\"1\" class=\"dataframe\">\n",
       "  <thead>\n",
       "    <tr style=\"text-align: right;\">\n",
       "      <th></th>\n",
       "      <th>first_name</th>\n",
       "      <th>salary</th>\n",
       "      <th>start_date</th>\n",
       "      <th>gender</th>\n",
       "      <th>remote</th>\n",
       "      <th>team</th>\n",
       "    </tr>\n",
       "    <tr>\n",
       "      <th>last_name</th>\n",
       "      <th></th>\n",
       "      <th></th>\n",
       "      <th></th>\n",
       "      <th></th>\n",
       "      <th></th>\n",
       "      <th></th>\n",
       "    </tr>\n",
       "  </thead>\n",
       "  <tbody>\n",
       "    <tr>\n",
       "      <th>Dunne</th>\n",
       "      <td>Kikelia</td>\n",
       "      <td>389606</td>\n",
       "      <td>12/11/2020</td>\n",
       "      <td>Agender</td>\n",
       "      <td>False</td>\n",
       "      <td>data analytics</td>\n",
       "    </tr>\n",
       "    <tr>\n",
       "      <th>Dunnion</th>\n",
       "      <td>Valeda</td>\n",
       "      <td>358348</td>\n",
       "      <td>9/16/2020</td>\n",
       "      <td>Female</td>\n",
       "      <td>False</td>\n",
       "      <td>engineering</td>\n",
       "    </tr>\n",
       "    <tr>\n",
       "      <th>Durtnel</th>\n",
       "      <td>Lucien</td>\n",
       "      <td>482986</td>\n",
       "      <td>10/21/2020</td>\n",
       "      <td>Genderqueer</td>\n",
       "      <td>False</td>\n",
       "      <td>data analytics</td>\n",
       "    </tr>\n",
       "    <tr>\n",
       "      <th>Dyers</th>\n",
       "      <td>Grata</td>\n",
       "      <td>770722</td>\n",
       "      <td>7/3/2020</td>\n",
       "      <td>Agender</td>\n",
       "      <td>True</td>\n",
       "      <td>engineering</td>\n",
       "    </tr>\n",
       "    <tr>\n",
       "      <th>Eakins</th>\n",
       "      <td>Celine</td>\n",
       "      <td>199060</td>\n",
       "      <td>4/10/2020</td>\n",
       "      <td>Male</td>\n",
       "      <td>True</td>\n",
       "      <td>engineering</td>\n",
       "    </tr>\n",
       "    <tr>\n",
       "      <th>Earingey</th>\n",
       "      <td>Cherlyn</td>\n",
       "      <td>270537</td>\n",
       "      <td>5/22/2020</td>\n",
       "      <td>Agender</td>\n",
       "      <td>True</td>\n",
       "      <td>management</td>\n",
       "    </tr>\n",
       "    <tr>\n",
       "      <th>Eassom</th>\n",
       "      <td>Ase</td>\n",
       "      <td>530597</td>\n",
       "      <td>6/16/2020</td>\n",
       "      <td>Female</td>\n",
       "      <td>True</td>\n",
       "      <td>engineering</td>\n",
       "    </tr>\n",
       "    <tr>\n",
       "      <th>Eastgate</th>\n",
       "      <td>Lexi</td>\n",
       "      <td>194376</td>\n",
       "      <td>3/30/2020</td>\n",
       "      <td>Bigender</td>\n",
       "      <td>False</td>\n",
       "      <td>engineering</td>\n",
       "    </tr>\n",
       "    <tr>\n",
       "      <th>Eates</th>\n",
       "      <td>Hoebart</td>\n",
       "      <td>508366</td>\n",
       "      <td>12/6/2020</td>\n",
       "      <td>Genderfluid</td>\n",
       "      <td>False</td>\n",
       "      <td>engineering</td>\n",
       "    </tr>\n",
       "    <tr>\n",
       "      <th>Ebbett</th>\n",
       "      <td>Cris</td>\n",
       "      <td>590135</td>\n",
       "      <td>12/26/2020</td>\n",
       "      <td>Non-binary</td>\n",
       "      <td>False</td>\n",
       "      <td>data analytics</td>\n",
       "    </tr>\n",
       "    <tr>\n",
       "      <th>Eckery</th>\n",
       "      <td>Deb</td>\n",
       "      <td>506010</td>\n",
       "      <td>2/21/2020</td>\n",
       "      <td>Non-binary</td>\n",
       "      <td>True</td>\n",
       "      <td>data analytics</td>\n",
       "    </tr>\n",
       "    <tr>\n",
       "      <th>Edbrooke</th>\n",
       "      <td>Charisse</td>\n",
       "      <td>422117</td>\n",
       "      <td>7/9/2020</td>\n",
       "      <td>Agender</td>\n",
       "      <td>False</td>\n",
       "      <td>engineering</td>\n",
       "    </tr>\n",
       "    <tr>\n",
       "      <th>Edden</th>\n",
       "      <td>Wyn</td>\n",
       "      <td>565477</td>\n",
       "      <td>2/28/2020</td>\n",
       "      <td>Genderqueer</td>\n",
       "      <td>False</td>\n",
       "      <td>management</td>\n",
       "    </tr>\n",
       "  </tbody>\n",
       "</table>\n",
       "</div>"
      ],
      "text/plain": [
       "          first_name  salary  start_date       gender  remote            team\n",
       "last_name                                                                    \n",
       "Dunne        Kikelia  389606  12/11/2020      Agender   False  data analytics\n",
       "Dunnion       Valeda  358348   9/16/2020       Female   False     engineering\n",
       "Durtnel       Lucien  482986  10/21/2020  Genderqueer   False  data analytics\n",
       "Dyers          Grata  770722    7/3/2020      Agender    True     engineering\n",
       "Eakins        Celine  199060   4/10/2020         Male    True     engineering\n",
       "Earingey     Cherlyn  270537   5/22/2020      Agender    True      management\n",
       "Eassom           Ase  530597   6/16/2020       Female    True     engineering\n",
       "Eastgate        Lexi  194376   3/30/2020     Bigender   False     engineering\n",
       "Eates        Hoebart  508366   12/6/2020  Genderfluid   False     engineering\n",
       "Ebbett          Cris  590135  12/26/2020   Non-binary   False  data analytics\n",
       "Eckery           Deb  506010   2/21/2020   Non-binary    True  data analytics\n",
       "Edbrooke    Charisse  422117    7/9/2020      Agender   False     engineering\n",
       "Edden            Wyn  565477   2/28/2020  Genderqueer   False      management"
      ]
     },
     "execution_count": 14,
     "metadata": {},
     "output_type": "execute_result"
    }
   ],
   "source": [
    "emps.loc[\"Dunne\":\"Edden\"]"
   ]
  },
  {
   "cell_type": "code",
   "execution_count": 19,
   "id": "d94f61b3-acbc-497f-97a3-056d0bbdf4e0",
   "metadata": {},
   "outputs": [
    {
     "data": {
      "text/html": [
       "<div>\n",
       "<style scoped>\n",
       "    .dataframe tbody tr th:only-of-type {\n",
       "        vertical-align: middle;\n",
       "    }\n",
       "\n",
       "    .dataframe tbody tr th {\n",
       "        vertical-align: top;\n",
       "    }\n",
       "\n",
       "    .dataframe thead th {\n",
       "        text-align: right;\n",
       "    }\n",
       "</style>\n",
       "<table border=\"1\" class=\"dataframe\">\n",
       "  <thead>\n",
       "    <tr style=\"text-align: right;\">\n",
       "      <th></th>\n",
       "      <th>salary</th>\n",
       "    </tr>\n",
       "    <tr>\n",
       "      <th>last_name</th>\n",
       "      <th></th>\n",
       "    </tr>\n",
       "  </thead>\n",
       "  <tbody>\n",
       "    <tr>\n",
       "      <th>Dunne</th>\n",
       "      <td>389606</td>\n",
       "    </tr>\n",
       "    <tr>\n",
       "      <th>Dyers</th>\n",
       "      <td>770722</td>\n",
       "    </tr>\n",
       "    <tr>\n",
       "      <th>Eassom</th>\n",
       "      <td>530597</td>\n",
       "    </tr>\n",
       "    <tr>\n",
       "      <th>Ebbett</th>\n",
       "      <td>590135</td>\n",
       "    </tr>\n",
       "    <tr>\n",
       "      <th>Edden</th>\n",
       "      <td>565477</td>\n",
       "    </tr>\n",
       "  </tbody>\n",
       "</table>\n",
       "</div>"
      ],
      "text/plain": [
       "           salary\n",
       "last_name        \n",
       "Dunne      389606\n",
       "Dyers      770722\n",
       "Eassom     530597\n",
       "Ebbett     590135\n",
       "Edden      565477"
      ]
     },
     "execution_count": 19,
     "metadata": {},
     "output_type": "execute_result"
    }
   ],
   "source": [
    "emps.loc[\"Dunne\":\"Edden\":3, [\"salary\"]]"
   ]
  }
 ],
 "metadata": {
  "kernelspec": {
   "display_name": "Python 3 (ipykernel)",
   "language": "python",
   "name": "python3"
  },
  "language_info": {
   "codemirror_mode": {
    "name": "ipython",
    "version": 3
   },
   "file_extension": ".py",
   "mimetype": "text/x-python",
   "name": "python",
   "nbconvert_exporter": "python",
   "pygments_lexer": "ipython3",
   "version": "3.12.4"
  }
 },
 "nbformat": 4,
 "nbformat_minor": 5
}
