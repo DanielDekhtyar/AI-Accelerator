{
 "cells": [
  {
   "cell_type": "markdown",
   "id": "cba8b1cd-1ac6-4da8-84bd-a5b587b59efd",
   "metadata": {},
   "source": [
    "In this exercise, you will use the mls_salaries.csv dataset:\n",
    "\n",
    "1. Load the data and examine the information using info, describe, and head."
   ]
  },
  {
   "cell_type": "code",
   "execution_count": 1,
   "id": "38345b40-c76a-4384-bc38-2256c96859f6",
   "metadata": {},
   "outputs": [],
   "source": [
    "import pandas as pd"
   ]
  },
  {
   "cell_type": "code",
   "execution_count": 3,
   "id": "662357e7-05d3-4ad3-90e8-726d7ae784d7",
   "metadata": {},
   "outputs": [],
   "source": [
    "mls = pd.read_csv(\"datasets/mls_salaries.csv\")"
   ]
  },
  {
   "cell_type": "code",
   "execution_count": 4,
   "id": "ffa8a337-64d4-4d59-a1b6-b7d705f6c158",
   "metadata": {},
   "outputs": [
    {
     "data": {
      "text/html": [
       "<div>\n",
       "<style scoped>\n",
       "    .dataframe tbody tr th:only-of-type {\n",
       "        vertical-align: middle;\n",
       "    }\n",
       "\n",
       "    .dataframe tbody tr th {\n",
       "        vertical-align: top;\n",
       "    }\n",
       "\n",
       "    .dataframe thead th {\n",
       "        text-align: right;\n",
       "    }\n",
       "</style>\n",
       "<table border=\"1\" class=\"dataframe\">\n",
       "  <thead>\n",
       "    <tr style=\"text-align: right;\">\n",
       "      <th></th>\n",
       "      <th>club</th>\n",
       "      <th>last_name</th>\n",
       "      <th>first_name</th>\n",
       "      <th>position</th>\n",
       "      <th>base_salary</th>\n",
       "      <th>guaranteed_compensation</th>\n",
       "    </tr>\n",
       "  </thead>\n",
       "  <tbody>\n",
       "    <tr>\n",
       "      <th>0</th>\n",
       "      <td>ATL</td>\n",
       "      <td>Almiron</td>\n",
       "      <td>Miguel</td>\n",
       "      <td>M</td>\n",
       "      <td>1912500.0</td>\n",
       "      <td>2297000.00</td>\n",
       "    </tr>\n",
       "    <tr>\n",
       "      <th>1</th>\n",
       "      <td>ATL</td>\n",
       "      <td>Ambrose</td>\n",
       "      <td>Mikey</td>\n",
       "      <td>D</td>\n",
       "      <td>65625.0</td>\n",
       "      <td>65625.00</td>\n",
       "    </tr>\n",
       "    <tr>\n",
       "      <th>2</th>\n",
       "      <td>ATL</td>\n",
       "      <td>Asad</td>\n",
       "      <td>Yamil</td>\n",
       "      <td>M</td>\n",
       "      <td>150000.0</td>\n",
       "      <td>150000.00</td>\n",
       "    </tr>\n",
       "    <tr>\n",
       "      <th>3</th>\n",
       "      <td>ATL</td>\n",
       "      <td>Bloom</td>\n",
       "      <td>Mark</td>\n",
       "      <td>D</td>\n",
       "      <td>99225.0</td>\n",
       "      <td>106573.89</td>\n",
       "    </tr>\n",
       "    <tr>\n",
       "      <th>4</th>\n",
       "      <td>ATL</td>\n",
       "      <td>Carleton</td>\n",
       "      <td>Andrew</td>\n",
       "      <td>F</td>\n",
       "      <td>65000.0</td>\n",
       "      <td>77400.00</td>\n",
       "    </tr>\n",
       "  </tbody>\n",
       "</table>\n",
       "</div>"
      ],
      "text/plain": [
       "  club last_name first_name position  base_salary  guaranteed_compensation\n",
       "0  ATL   Almiron     Miguel        M    1912500.0               2297000.00\n",
       "1  ATL   Ambrose      Mikey        D      65625.0                 65625.00\n",
       "2  ATL      Asad      Yamil        M     150000.0                150000.00\n",
       "3  ATL     Bloom       Mark        D      99225.0                106573.89\n",
       "4  ATL  Carleton     Andrew        F      65000.0                 77400.00"
      ]
     },
     "execution_count": 4,
     "metadata": {},
     "output_type": "execute_result"
    }
   ],
   "source": [
    "mls.head()"
   ]
  },
  {
   "cell_type": "code",
   "execution_count": 5,
   "id": "7619c2cb-f2fd-4af8-a571-df0ddda13fad",
   "metadata": {},
   "outputs": [
    {
     "name": "stdout",
     "output_type": "stream",
     "text": [
      "<class 'pandas.core.frame.DataFrame'>\n",
      "RangeIndex: 615 entries, 0 to 614\n",
      "Data columns (total 6 columns):\n",
      " #   Column                   Non-Null Count  Dtype  \n",
      "---  ------                   --------------  -----  \n",
      " 0   club                     614 non-null    object \n",
      " 1   last_name                614 non-null    object \n",
      " 2   first_name               610 non-null    object \n",
      " 3   position                 604 non-null    object \n",
      " 4   base_salary              614 non-null    float64\n",
      " 5   guaranteed_compensation  614 non-null    float64\n",
      "dtypes: float64(2), object(4)\n",
      "memory usage: 29.0+ KB\n"
     ]
    }
   ],
   "source": [
    "mls.info()"
   ]
  },
  {
   "cell_type": "code",
   "execution_count": 8,
   "id": "e3cd2348-e403-4d35-93a7-a26bc523f107",
   "metadata": {},
   "outputs": [],
   "source": [
    "masknan = mls.isna().any(axis=1)"
   ]
  },
  {
   "cell_type": "code",
   "execution_count": 9,
   "id": "92ca0c5b-ac7b-4c29-a431-312a5bec50e7",
   "metadata": {},
   "outputs": [
    {
     "data": {
      "text/html": [
       "<div>\n",
       "<style scoped>\n",
       "    .dataframe tbody tr th:only-of-type {\n",
       "        vertical-align: middle;\n",
       "    }\n",
       "\n",
       "    .dataframe tbody tr th {\n",
       "        vertical-align: top;\n",
       "    }\n",
       "\n",
       "    .dataframe thead th {\n",
       "        text-align: right;\n",
       "    }\n",
       "</style>\n",
       "<table border=\"1\" class=\"dataframe\">\n",
       "  <thead>\n",
       "    <tr style=\"text-align: right;\">\n",
       "      <th></th>\n",
       "      <th>club</th>\n",
       "      <th>last_name</th>\n",
       "      <th>first_name</th>\n",
       "      <th>position</th>\n",
       "      <th>base_salary</th>\n",
       "      <th>guaranteed_compensation</th>\n",
       "    </tr>\n",
       "  </thead>\n",
       "  <tbody>\n",
       "    <tr>\n",
       "      <th>9</th>\n",
       "      <td>ATL</td>\n",
       "      <td>Gressel</td>\n",
       "      <td>Julian</td>\n",
       "      <td>NaN</td>\n",
       "      <td>75000.0</td>\n",
       "      <td>93750.00</td>\n",
       "    </tr>\n",
       "    <tr>\n",
       "      <th>19</th>\n",
       "      <td>ATL</td>\n",
       "      <td>Oblitey Otoo</td>\n",
       "      <td>Jeffrey</td>\n",
       "      <td>NaN</td>\n",
       "      <td>53000.0</td>\n",
       "      <td>53000.00</td>\n",
       "    </tr>\n",
       "    <tr>\n",
       "      <th>46</th>\n",
       "      <td>CHI</td>\n",
       "      <td>Juninho</td>\n",
       "      <td>NaN</td>\n",
       "      <td>M</td>\n",
       "      <td>700008.0</td>\n",
       "      <td>716674.67</td>\n",
       "    </tr>\n",
       "    <tr>\n",
       "      <th>83</th>\n",
       "      <td>CLB</td>\n",
       "      <td>Steffen</td>\n",
       "      <td>Zack</td>\n",
       "      <td>NaN</td>\n",
       "      <td>105000.0</td>\n",
       "      <td>105000.00</td>\n",
       "    </tr>\n",
       "    <tr>\n",
       "      <th>109</th>\n",
       "      <td>COL</td>\n",
       "      <td>Saeid</td>\n",
       "      <td>Mohammed</td>\n",
       "      <td>NaN</td>\n",
       "      <td>160000.0</td>\n",
       "      <td>170000.00</td>\n",
       "    </tr>\n",
       "    <tr>\n",
       "      <th>116</th>\n",
       "      <td>DAL</td>\n",
       "      <td>Barrios</td>\n",
       "      <td>Michael</td>\n",
       "      <td>NaN</td>\n",
       "      <td>100000.0</td>\n",
       "      <td>100000.00</td>\n",
       "    </tr>\n",
       "    <tr>\n",
       "      <th>184</th>\n",
       "      <td>HOU</td>\n",
       "      <td>Hunter</td>\n",
       "      <td>Taylor</td>\n",
       "      <td>NaN</td>\n",
       "      <td>53004.0</td>\n",
       "      <td>53004.00</td>\n",
       "    </tr>\n",
       "    <tr>\n",
       "      <th>241</th>\n",
       "      <td>LA</td>\n",
       "      <td>Pedro</td>\n",
       "      <td>Joao</td>\n",
       "      <td>NaN</td>\n",
       "      <td>120000.0</td>\n",
       "      <td>141000.00</td>\n",
       "    </tr>\n",
       "    <tr>\n",
       "      <th>265</th>\n",
       "      <td>MNUFC</td>\n",
       "      <td>Ibson</td>\n",
       "      <td>NaN</td>\n",
       "      <td>M</td>\n",
       "      <td>200004.0</td>\n",
       "      <td>210337.40</td>\n",
       "    </tr>\n",
       "    <tr>\n",
       "      <th>321</th>\n",
       "      <td>NE</td>\n",
       "      <td>Nguyen</td>\n",
       "      <td>Lee</td>\n",
       "      <td>NaN</td>\n",
       "      <td>500000.0</td>\n",
       "      <td>500000.00</td>\n",
       "    </tr>\n",
       "    <tr>\n",
       "      <th>401</th>\n",
       "      <td>ORL</td>\n",
       "      <td>Kaka</td>\n",
       "      <td>NaN</td>\n",
       "      <td>M</td>\n",
       "      <td>6660000.0</td>\n",
       "      <td>7167500.00</td>\n",
       "    </tr>\n",
       "    <tr>\n",
       "      <th>429</th>\n",
       "      <td>PHI</td>\n",
       "      <td>Ilsinho</td>\n",
       "      <td>NaN</td>\n",
       "      <td>M</td>\n",
       "      <td>470000.0</td>\n",
       "      <td>518333.33</td>\n",
       "    </tr>\n",
       "    <tr>\n",
       "      <th>435</th>\n",
       "      <td>PHI</td>\n",
       "      <td>Medunjanin</td>\n",
       "      <td>Haris</td>\n",
       "      <td>NaN</td>\n",
       "      <td>460008.0</td>\n",
       "      <td>505008.00</td>\n",
       "    </tr>\n",
       "    <tr>\n",
       "      <th>553</th>\n",
       "      <td>SJ</td>\n",
       "      <td>Wynne</td>\n",
       "      <td>Marvell</td>\n",
       "      <td>NaN</td>\n",
       "      <td>245808.0</td>\n",
       "      <td>257058.00</td>\n",
       "    </tr>\n",
       "    <tr>\n",
       "      <th>613</th>\n",
       "      <td>NaN</td>\n",
       "      <td>NaN</td>\n",
       "      <td>NaN</td>\n",
       "      <td>NaN</td>\n",
       "      <td>NaN</td>\n",
       "      <td>NaN</td>\n",
       "    </tr>\n",
       "  </tbody>\n",
       "</table>\n",
       "</div>"
      ],
      "text/plain": [
       "      club     last_name first_name position  base_salary  \\\n",
       "9      ATL       Gressel     Julian      NaN      75000.0   \n",
       "19     ATL  Oblitey Otoo    Jeffrey      NaN      53000.0   \n",
       "46     CHI       Juninho        NaN        M     700008.0   \n",
       "83     CLB       Steffen       Zack      NaN     105000.0   \n",
       "109    COL         Saeid   Mohammed      NaN     160000.0   \n",
       "116    DAL       Barrios    Michael      NaN     100000.0   \n",
       "184    HOU        Hunter     Taylor      NaN      53004.0   \n",
       "241     LA         Pedro       Joao      NaN     120000.0   \n",
       "265  MNUFC         Ibson        NaN        M     200004.0   \n",
       "321     NE        Nguyen        Lee      NaN     500000.0   \n",
       "401    ORL          Kaka        NaN        M    6660000.0   \n",
       "429    PHI       Ilsinho        NaN        M     470000.0   \n",
       "435    PHI    Medunjanin      Haris      NaN     460008.0   \n",
       "553     SJ         Wynne    Marvell      NaN     245808.0   \n",
       "613    NaN           NaN        NaN      NaN          NaN   \n",
       "\n",
       "     guaranteed_compensation  \n",
       "9                   93750.00  \n",
       "19                  53000.00  \n",
       "46                 716674.67  \n",
       "83                 105000.00  \n",
       "109                170000.00  \n",
       "116                100000.00  \n",
       "184                 53004.00  \n",
       "241                141000.00  \n",
       "265                210337.40  \n",
       "321                500000.00  \n",
       "401               7167500.00  \n",
       "429                518333.33  \n",
       "435                505008.00  \n",
       "553                257058.00  \n",
       "613                      NaN  "
      ]
     },
     "execution_count": 9,
     "metadata": {},
     "output_type": "execute_result"
    }
   ],
   "source": [
    "mls[masknan]"
   ]
  },
  {
   "cell_type": "code",
   "execution_count": 14,
   "id": "050dd58f-89c2-4349-a2d4-63e671e32b27",
   "metadata": {},
   "outputs": [],
   "source": [
    "mls.dropna(how=\"all\", inplace=True)"
   ]
  },
  {
   "cell_type": "markdown",
   "id": "03f66e56-5b99-48b4-9b60-8ac6443264c3",
   "metadata": {},
   "source": [
    "2. Check the unique clubs and unique positions."
   ]
  },
  {
   "cell_type": "code",
   "execution_count": 15,
   "id": "19914315-5c74-4ede-8a79-f16bfc20b82f",
   "metadata": {},
   "outputs": [
    {
     "data": {
      "text/plain": [
       "array(['ATL', 'CHI', 'CLB', 'COL', 'DAL', 'DC', 'HOU', 'KC', 'LA', 'LAFC',\n",
       "       'MNUFC', 'MTL', 'NE', 'NYCFC', 'NYRB', 'ORL', 'PHI', 'POR', 'RSL',\n",
       "       'SEA', 'SJ', 'TOR', 'VAN'], dtype=object)"
      ]
     },
     "execution_count": 15,
     "metadata": {},
     "output_type": "execute_result"
    }
   ],
   "source": [
    "mls.club.unique()"
   ]
  },
  {
   "cell_type": "code",
   "execution_count": 16,
   "id": "13856f91-5830-4502-b114-d88451147496",
   "metadata": {},
   "outputs": [
    {
     "data": {
      "text/plain": [
       "array(['M', 'D', 'F', nan, 'GK', 'F-M', 'D-M', 'M-F', 'M-D', 'M/F', 'F/M'],\n",
       "      dtype=object)"
      ]
     },
     "execution_count": 16,
     "metadata": {},
     "output_type": "execute_result"
    }
   ],
   "source": [
    "mls.position.unique()"
   ]
  },
  {
   "cell_type": "markdown",
   "id": "eb33677a-8eb5-4285-84ce-8e56c285e975",
   "metadata": {},
   "source": [
    "3. What is the average base salary for each club?"
   ]
  },
  {
   "cell_type": "code",
   "execution_count": 23,
   "id": "6db866d4-2c58-4240-85f8-408b1813ea61",
   "metadata": {},
   "outputs": [],
   "source": [
    "clubs = mls.groupby(\"club\")"
   ]
  },
  {
   "cell_type": "code",
   "execution_count": 25,
   "id": "e345a25a-c5c6-48fd-baa2-d60bd67c7fd7",
   "metadata": {},
   "outputs": [],
   "source": [
    "avg_base_sal = clubs[\"base_salary\"].mean()"
   ]
  },
  {
   "cell_type": "markdown",
   "id": "b97d2640-9519-42d4-849e-5fe1afde2e26",
   "metadata": {},
   "source": [
    "4. Which club has the highest average base salary?"
   ]
  },
  {
   "cell_type": "code",
   "execution_count": 30,
   "id": "f4ce550b-5a4e-4e3c-a9e5-0f2cf04fb79f",
   "metadata": {},
   "outputs": [
    {
     "data": {
      "text/plain": [
       "743516.5555555555"
      ]
     },
     "execution_count": 30,
     "metadata": {},
     "output_type": "execute_result"
    }
   ],
   "source": [
    "avg_base_sal.max()"
   ]
  },
  {
   "cell_type": "markdown",
   "id": "94d61399-b951-444d-96d7-d6fb0bc80e99",
   "metadata": {},
   "source": [
    "5. Which club has the highest base salary?"
   ]
  },
  {
   "cell_type": "code",
   "execution_count": 34,
   "id": "4547cee3-266c-4c2d-888d-51679636601b",
   "metadata": {},
   "outputs": [],
   "source": [
    "club_max_sal = clubs.base_salary.max()"
   ]
  },
  {
   "cell_type": "code",
   "execution_count": 44,
   "id": "7b6e5363-780a-4e80-9b16-a952bb422abf",
   "metadata": {},
   "outputs": [
    {
     "data": {
      "text/plain": [
       "np.float64(6660000.0)"
      ]
     },
     "execution_count": 44,
     "metadata": {},
     "output_type": "execute_result"
    }
   ],
   "source": [
    "club_max_sal.sort_values(ascending=False).iloc[0]"
   ]
  },
  {
   "cell_type": "markdown",
   "id": "6c85aca4-da0b-4201-be0b-4bb5c41ec321",
   "metadata": {},
   "source": [
    "6. What is the average guaranteed compensation for each position?"
   ]
  },
  {
   "cell_type": "code",
   "execution_count": 46,
   "id": "22795009-ccd8-4408-a19c-16d767810bae",
   "metadata": {},
   "outputs": [],
   "source": [
    "positions = mls.groupby(\"position\")"
   ]
  },
  {
   "cell_type": "code",
   "execution_count": 47,
   "id": "5c460381-8ba3-4bd3-80c7-178878381864",
   "metadata": {},
   "outputs": [
    {
     "data": {
      "text/plain": [
       "position\n",
       "D      178298.043187\n",
       "D-M    154328.927857\n",
       "F      562097.967685\n",
       "F-M    367920.805000\n",
       "F/M    131250.000000\n",
       "GK     159503.673750\n",
       "M      411300.879320\n",
       "M-D    230282.250000\n",
       "M-F    240999.248889\n",
       "M/F    565000.000000\n",
       "Name: guaranteed_compensation, dtype: float64"
      ]
     },
     "execution_count": 47,
     "metadata": {},
     "output_type": "execute_result"
    }
   ],
   "source": [
    "positions.guaranteed_compensation.mean()"
   ]
  },
  {
   "cell_type": "markdown",
   "id": "9031ac89-8a63-470f-9c47-4a1dfd2ee19b",
   "metadata": {},
   "source": [
    "8. what is the median salary per club?\n",
    "and what is the avarege median salary of all clubs? is it differant then the (\"avarage\") median salary in general? why?"
   ]
  },
  {
   "cell_type": "code",
   "execution_count": 49,
   "id": "6efbe428-2832-417f-a4c7-472f23e5546d",
   "metadata": {},
   "outputs": [
    {
     "data": {
      "text/plain": [
       "club\n",
       "ATL      125000.04\n",
       "CHI      135000.00\n",
       "CLB      117504.00\n",
       "COL      109175.00\n",
       "DAL      150000.00\n",
       "DC       120000.00\n",
       "HOU      156500.00\n",
       "KC       127504.00\n",
       "LA       105000.00\n",
       "LAFC      59004.00\n",
       "MNUFC    155000.00\n",
       "MTL      100000.08\n",
       "NE       140000.00\n",
       "NYCFC    126778.52\n",
       "NYRB     100004.00\n",
       "ORL      132500.00\n",
       "PHI      114999.96\n",
       "POR      135000.00\n",
       "RSL      134004.00\n",
       "SEA      115000.00\n",
       "SJ       150000.00\n",
       "TOR      102850.00\n",
       "VAN      123000.00\n",
       "Name: base_salary, dtype: float64"
      ]
     },
     "execution_count": 49,
     "metadata": {},
     "output_type": "execute_result"
    }
   ],
   "source": [
    "clubs.base_salary.median()"
   ]
  },
  {
   "cell_type": "code",
   "execution_count": 50,
   "id": "c08b1a54-f387-4254-b98f-57f8fc2abee2",
   "metadata": {},
   "outputs": [
    {
     "data": {
      "text/plain": [
       "np.float64(123209.72173913044)"
      ]
     },
     "execution_count": 50,
     "metadata": {},
     "output_type": "execute_result"
    }
   ],
   "source": [
    "clubs.base_salary.median().mean()"
   ]
  },
  {
   "cell_type": "markdown",
   "id": "bd596a78-7e86-44d9-91a9-c6a7581b518d",
   "metadata": {},
   "source": [
    "9.  Using get_group, display the players from the club with the fewest members."
   ]
  },
  {
   "cell_type": "code",
   "execution_count": 52,
   "id": "b161f782-788f-4276-8d46-c926594585a3",
   "metadata": {},
   "outputs": [
    {
     "data": {
      "text/plain": [
       "'LAFC'"
      ]
     },
     "execution_count": 52,
     "metadata": {},
     "output_type": "execute_result"
    }
   ],
   "source": [
    "clubs.size().idxmin()"
   ]
  }
 ],
 "metadata": {
  "kernelspec": {
   "display_name": "Python 3 (ipykernel)",
   "language": "python",
   "name": "python3"
  },
  "language_info": {
   "codemirror_mode": {
    "name": "ipython",
    "version": 3
   },
   "file_extension": ".py",
   "mimetype": "text/x-python",
   "name": "python",
   "nbconvert_exporter": "python",
   "pygments_lexer": "ipython3",
   "version": "3.12.4"
  }
 },
 "nbformat": 4,
 "nbformat_minor": 5
}
