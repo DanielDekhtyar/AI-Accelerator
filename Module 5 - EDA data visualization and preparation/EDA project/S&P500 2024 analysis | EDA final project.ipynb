{
  "nbformat": 4,
  "nbformat_minor": 0,
  "metadata": {
    "colab": {
      "provenance": [],
      "include_colab_link": true
    },
    "kernelspec": {
      "name": "python3",
      "display_name": "Python 3"
    },
    "language_info": {
      "name": "python"
    }
  },
  "cells": [
    {
      "cell_type": "markdown",
      "metadata": {
        "id": "view-in-github",
        "colab_type": "text"
      },
      "source": [
        "<a href=\"https://colab.research.google.com/github/DanielDekhtyar/AI-Accelerator/blob/main/Module%205%20-%20EDA%20data%20visualization%20and%20preparation/EDA%20project/S%26P500%202024%20analysis%20%7C%20EDA%20final%20project.ipynb\" target=\"_parent\"><img src=\"https://colab.research.google.com/assets/colab-badge.svg\" alt=\"Open In Colab\"/></a>"
      ]
    },
    {
      "cell_type": "markdown",
      "source": [
        "#<u>EDA Final project - Yahoo Finance S&P500 2024 analysis<u/>"
      ],
      "metadata": {
        "id": "4vbqukm3ZmuO"
      }
    },
    {
      "cell_type": "code",
      "source": [
        "import pandas as pd\n",
        "import numpy as np\n",
        "import matplotlib.pyplot as plt\n",
        "import seaborn as sns\n",
        "import yfinance as yf"
      ],
      "metadata": {
        "id": "kOnhtTXRZmVh"
      },
      "execution_count": 1,
      "outputs": []
    },
    {
      "cell_type": "markdown",
      "source": [
        "##<u>**Part 1**<u/>"
      ],
      "metadata": {
        "id": "XUgIZ6uOqSLx"
      }
    },
    {
      "cell_type": "code",
      "source": [
        "# Importing S&P500 data for all of 2024 (Ticker : VOO)\n",
        "snp = yf.download(\"VOO\", start = '2024-01-01', end = '2024-12-31')"
      ],
      "metadata": {
        "colab": {
          "base_uri": "https://localhost:8080/"
        },
        "id": "1M9NI3BzZ2LV",
        "outputId": "25e7cfde-1d05-4da8-d36b-9357b84f8021"
      },
      "execution_count": 2,
      "outputs": [
        {
          "output_type": "stream",
          "name": "stderr",
          "text": [
            "\r[*********************100%***********************]  1 of 1 completed\n"
          ]
        }
      ]
    },
    {
      "cell_type": "code",
      "source": [
        "snp"
      ],
      "metadata": {
        "id": "aJCozo4aYGNz",
        "colab": {
          "base_uri": "https://localhost:8080/",
          "height": 486
        },
        "outputId": "ebe08c47-aacc-491a-f927-d2df57626a21"
      },
      "execution_count": 3,
      "outputs": [
        {
          "output_type": "execute_result",
          "data": {
            "text/plain": [
              "Price            Close        High         Low        Open   Volume\n",
              "Ticker             VOO         VOO         VOO         VOO      VOO\n",
              "Date                                                               \n",
              "2024-01-02  428.376923  429.620548  426.748314  428.278214  9076000\n",
              "2024-01-03  425.198700  427.380007  424.665700  426.708841  4805000\n",
              "2024-01-04  423.856354  427.162880  423.639208  424.744666  3945300\n",
              "2024-01-05  424.399200  426.689066  423.076596  424.014248  5723100\n",
              "2024-01-08  430.469360  430.607528  424.784111  424.863090  7222400\n",
              "...                ...         ...         ...         ...      ...\n",
              "2024-12-23  547.190002  547.359985  540.320007  543.309998  7063400\n",
              "2024-12-24  552.820007  552.900024  547.539978  548.059998  3439300\n",
              "2024-12-26  552.809998  553.969971  549.919983  551.200012  4492000\n",
              "2024-12-27  547.080017  549.619995  543.200012  549.369995  7077100\n",
              "2024-12-30  540.989990  544.090027  537.400024  540.559998  6505100\n",
              "\n",
              "[251 rows x 5 columns]"
            ],
            "text/html": [
              "\n",
              "  <div id=\"df-45dbca03-f486-4a3b-add4-a88321d7b7ec\" class=\"colab-df-container\">\n",
              "    <div>\n",
              "<style scoped>\n",
              "    .dataframe tbody tr th:only-of-type {\n",
              "        vertical-align: middle;\n",
              "    }\n",
              "\n",
              "    .dataframe tbody tr th {\n",
              "        vertical-align: top;\n",
              "    }\n",
              "\n",
              "    .dataframe thead tr th {\n",
              "        text-align: left;\n",
              "    }\n",
              "\n",
              "    .dataframe thead tr:last-of-type th {\n",
              "        text-align: right;\n",
              "    }\n",
              "</style>\n",
              "<table border=\"1\" class=\"dataframe\">\n",
              "  <thead>\n",
              "    <tr>\n",
              "      <th>Price</th>\n",
              "      <th>Close</th>\n",
              "      <th>High</th>\n",
              "      <th>Low</th>\n",
              "      <th>Open</th>\n",
              "      <th>Volume</th>\n",
              "    </tr>\n",
              "    <tr>\n",
              "      <th>Ticker</th>\n",
              "      <th>VOO</th>\n",
              "      <th>VOO</th>\n",
              "      <th>VOO</th>\n",
              "      <th>VOO</th>\n",
              "      <th>VOO</th>\n",
              "    </tr>\n",
              "    <tr>\n",
              "      <th>Date</th>\n",
              "      <th></th>\n",
              "      <th></th>\n",
              "      <th></th>\n",
              "      <th></th>\n",
              "      <th></th>\n",
              "    </tr>\n",
              "  </thead>\n",
              "  <tbody>\n",
              "    <tr>\n",
              "      <th>2024-01-02</th>\n",
              "      <td>428.376923</td>\n",
              "      <td>429.620548</td>\n",
              "      <td>426.748314</td>\n",
              "      <td>428.278214</td>\n",
              "      <td>9076000</td>\n",
              "    </tr>\n",
              "    <tr>\n",
              "      <th>2024-01-03</th>\n",
              "      <td>425.198700</td>\n",
              "      <td>427.380007</td>\n",
              "      <td>424.665700</td>\n",
              "      <td>426.708841</td>\n",
              "      <td>4805000</td>\n",
              "    </tr>\n",
              "    <tr>\n",
              "      <th>2024-01-04</th>\n",
              "      <td>423.856354</td>\n",
              "      <td>427.162880</td>\n",
              "      <td>423.639208</td>\n",
              "      <td>424.744666</td>\n",
              "      <td>3945300</td>\n",
              "    </tr>\n",
              "    <tr>\n",
              "      <th>2024-01-05</th>\n",
              "      <td>424.399200</td>\n",
              "      <td>426.689066</td>\n",
              "      <td>423.076596</td>\n",
              "      <td>424.014248</td>\n",
              "      <td>5723100</td>\n",
              "    </tr>\n",
              "    <tr>\n",
              "      <th>2024-01-08</th>\n",
              "      <td>430.469360</td>\n",
              "      <td>430.607528</td>\n",
              "      <td>424.784111</td>\n",
              "      <td>424.863090</td>\n",
              "      <td>7222400</td>\n",
              "    </tr>\n",
              "    <tr>\n",
              "      <th>...</th>\n",
              "      <td>...</td>\n",
              "      <td>...</td>\n",
              "      <td>...</td>\n",
              "      <td>...</td>\n",
              "      <td>...</td>\n",
              "    </tr>\n",
              "    <tr>\n",
              "      <th>2024-12-23</th>\n",
              "      <td>547.190002</td>\n",
              "      <td>547.359985</td>\n",
              "      <td>540.320007</td>\n",
              "      <td>543.309998</td>\n",
              "      <td>7063400</td>\n",
              "    </tr>\n",
              "    <tr>\n",
              "      <th>2024-12-24</th>\n",
              "      <td>552.820007</td>\n",
              "      <td>552.900024</td>\n",
              "      <td>547.539978</td>\n",
              "      <td>548.059998</td>\n",
              "      <td>3439300</td>\n",
              "    </tr>\n",
              "    <tr>\n",
              "      <th>2024-12-26</th>\n",
              "      <td>552.809998</td>\n",
              "      <td>553.969971</td>\n",
              "      <td>549.919983</td>\n",
              "      <td>551.200012</td>\n",
              "      <td>4492000</td>\n",
              "    </tr>\n",
              "    <tr>\n",
              "      <th>2024-12-27</th>\n",
              "      <td>547.080017</td>\n",
              "      <td>549.619995</td>\n",
              "      <td>543.200012</td>\n",
              "      <td>549.369995</td>\n",
              "      <td>7077100</td>\n",
              "    </tr>\n",
              "    <tr>\n",
              "      <th>2024-12-30</th>\n",
              "      <td>540.989990</td>\n",
              "      <td>544.090027</td>\n",
              "      <td>537.400024</td>\n",
              "      <td>540.559998</td>\n",
              "      <td>6505100</td>\n",
              "    </tr>\n",
              "  </tbody>\n",
              "</table>\n",
              "<p>251 rows × 5 columns</p>\n",
              "</div>\n",
              "    <div class=\"colab-df-buttons\">\n",
              "\n",
              "  <div class=\"colab-df-container\">\n",
              "    <button class=\"colab-df-convert\" onclick=\"convertToInteractive('df-45dbca03-f486-4a3b-add4-a88321d7b7ec')\"\n",
              "            title=\"Convert this dataframe to an interactive table.\"\n",
              "            style=\"display:none;\">\n",
              "\n",
              "  <svg xmlns=\"http://www.w3.org/2000/svg\" height=\"24px\" viewBox=\"0 -960 960 960\">\n",
              "    <path d=\"M120-120v-720h720v720H120Zm60-500h600v-160H180v160Zm220 220h160v-160H400v160Zm0 220h160v-160H400v160ZM180-400h160v-160H180v160Zm440 0h160v-160H620v160ZM180-180h160v-160H180v160Zm440 0h160v-160H620v160Z\"/>\n",
              "  </svg>\n",
              "    </button>\n",
              "\n",
              "  <style>\n",
              "    .colab-df-container {\n",
              "      display:flex;\n",
              "      gap: 12px;\n",
              "    }\n",
              "\n",
              "    .colab-df-convert {\n",
              "      background-color: #E8F0FE;\n",
              "      border: none;\n",
              "      border-radius: 50%;\n",
              "      cursor: pointer;\n",
              "      display: none;\n",
              "      fill: #1967D2;\n",
              "      height: 32px;\n",
              "      padding: 0 0 0 0;\n",
              "      width: 32px;\n",
              "    }\n",
              "\n",
              "    .colab-df-convert:hover {\n",
              "      background-color: #E2EBFA;\n",
              "      box-shadow: 0px 1px 2px rgba(60, 64, 67, 0.3), 0px 1px 3px 1px rgba(60, 64, 67, 0.15);\n",
              "      fill: #174EA6;\n",
              "    }\n",
              "\n",
              "    .colab-df-buttons div {\n",
              "      margin-bottom: 4px;\n",
              "    }\n",
              "\n",
              "    [theme=dark] .colab-df-convert {\n",
              "      background-color: #3B4455;\n",
              "      fill: #D2E3FC;\n",
              "    }\n",
              "\n",
              "    [theme=dark] .colab-df-convert:hover {\n",
              "      background-color: #434B5C;\n",
              "      box-shadow: 0px 1px 3px 1px rgba(0, 0, 0, 0.15);\n",
              "      filter: drop-shadow(0px 1px 2px rgba(0, 0, 0, 0.3));\n",
              "      fill: #FFFFFF;\n",
              "    }\n",
              "  </style>\n",
              "\n",
              "    <script>\n",
              "      const buttonEl =\n",
              "        document.querySelector('#df-45dbca03-f486-4a3b-add4-a88321d7b7ec button.colab-df-convert');\n",
              "      buttonEl.style.display =\n",
              "        google.colab.kernel.accessAllowed ? 'block' : 'none';\n",
              "\n",
              "      async function convertToInteractive(key) {\n",
              "        const element = document.querySelector('#df-45dbca03-f486-4a3b-add4-a88321d7b7ec');\n",
              "        const dataTable =\n",
              "          await google.colab.kernel.invokeFunction('convertToInteractive',\n",
              "                                                    [key], {});\n",
              "        if (!dataTable) return;\n",
              "\n",
              "        const docLinkHtml = 'Like what you see? Visit the ' +\n",
              "          '<a target=\"_blank\" href=https://colab.research.google.com/notebooks/data_table.ipynb>data table notebook</a>'\n",
              "          + ' to learn more about interactive tables.';\n",
              "        element.innerHTML = '';\n",
              "        dataTable['output_type'] = 'display_data';\n",
              "        await google.colab.output.renderOutput(dataTable, element);\n",
              "        const docLink = document.createElement('div');\n",
              "        docLink.innerHTML = docLinkHtml;\n",
              "        element.appendChild(docLink);\n",
              "      }\n",
              "    </script>\n",
              "  </div>\n",
              "\n",
              "\n",
              "<div id=\"df-dcb4ed7e-ee5d-4983-b0af-067524dde900\">\n",
              "  <button class=\"colab-df-quickchart\" onclick=\"quickchart('df-dcb4ed7e-ee5d-4983-b0af-067524dde900')\"\n",
              "            title=\"Suggest charts\"\n",
              "            style=\"display:none;\">\n",
              "\n",
              "<svg xmlns=\"http://www.w3.org/2000/svg\" height=\"24px\"viewBox=\"0 0 24 24\"\n",
              "     width=\"24px\">\n",
              "    <g>\n",
              "        <path d=\"M19 3H5c-1.1 0-2 .9-2 2v14c0 1.1.9 2 2 2h14c1.1 0 2-.9 2-2V5c0-1.1-.9-2-2-2zM9 17H7v-7h2v7zm4 0h-2V7h2v10zm4 0h-2v-4h2v4z\"/>\n",
              "    </g>\n",
              "</svg>\n",
              "  </button>\n",
              "\n",
              "<style>\n",
              "  .colab-df-quickchart {\n",
              "      --bg-color: #E8F0FE;\n",
              "      --fill-color: #1967D2;\n",
              "      --hover-bg-color: #E2EBFA;\n",
              "      --hover-fill-color: #174EA6;\n",
              "      --disabled-fill-color: #AAA;\n",
              "      --disabled-bg-color: #DDD;\n",
              "  }\n",
              "\n",
              "  [theme=dark] .colab-df-quickchart {\n",
              "      --bg-color: #3B4455;\n",
              "      --fill-color: #D2E3FC;\n",
              "      --hover-bg-color: #434B5C;\n",
              "      --hover-fill-color: #FFFFFF;\n",
              "      --disabled-bg-color: #3B4455;\n",
              "      --disabled-fill-color: #666;\n",
              "  }\n",
              "\n",
              "  .colab-df-quickchart {\n",
              "    background-color: var(--bg-color);\n",
              "    border: none;\n",
              "    border-radius: 50%;\n",
              "    cursor: pointer;\n",
              "    display: none;\n",
              "    fill: var(--fill-color);\n",
              "    height: 32px;\n",
              "    padding: 0;\n",
              "    width: 32px;\n",
              "  }\n",
              "\n",
              "  .colab-df-quickchart:hover {\n",
              "    background-color: var(--hover-bg-color);\n",
              "    box-shadow: 0 1px 2px rgba(60, 64, 67, 0.3), 0 1px 3px 1px rgba(60, 64, 67, 0.15);\n",
              "    fill: var(--button-hover-fill-color);\n",
              "  }\n",
              "\n",
              "  .colab-df-quickchart-complete:disabled,\n",
              "  .colab-df-quickchart-complete:disabled:hover {\n",
              "    background-color: var(--disabled-bg-color);\n",
              "    fill: var(--disabled-fill-color);\n",
              "    box-shadow: none;\n",
              "  }\n",
              "\n",
              "  .colab-df-spinner {\n",
              "    border: 2px solid var(--fill-color);\n",
              "    border-color: transparent;\n",
              "    border-bottom-color: var(--fill-color);\n",
              "    animation:\n",
              "      spin 1s steps(1) infinite;\n",
              "  }\n",
              "\n",
              "  @keyframes spin {\n",
              "    0% {\n",
              "      border-color: transparent;\n",
              "      border-bottom-color: var(--fill-color);\n",
              "      border-left-color: var(--fill-color);\n",
              "    }\n",
              "    20% {\n",
              "      border-color: transparent;\n",
              "      border-left-color: var(--fill-color);\n",
              "      border-top-color: var(--fill-color);\n",
              "    }\n",
              "    30% {\n",
              "      border-color: transparent;\n",
              "      border-left-color: var(--fill-color);\n",
              "      border-top-color: var(--fill-color);\n",
              "      border-right-color: var(--fill-color);\n",
              "    }\n",
              "    40% {\n",
              "      border-color: transparent;\n",
              "      border-right-color: var(--fill-color);\n",
              "      border-top-color: var(--fill-color);\n",
              "    }\n",
              "    60% {\n",
              "      border-color: transparent;\n",
              "      border-right-color: var(--fill-color);\n",
              "    }\n",
              "    80% {\n",
              "      border-color: transparent;\n",
              "      border-right-color: var(--fill-color);\n",
              "      border-bottom-color: var(--fill-color);\n",
              "    }\n",
              "    90% {\n",
              "      border-color: transparent;\n",
              "      border-bottom-color: var(--fill-color);\n",
              "    }\n",
              "  }\n",
              "</style>\n",
              "\n",
              "  <script>\n",
              "    async function quickchart(key) {\n",
              "      const quickchartButtonEl =\n",
              "        document.querySelector('#' + key + ' button');\n",
              "      quickchartButtonEl.disabled = true;  // To prevent multiple clicks.\n",
              "      quickchartButtonEl.classList.add('colab-df-spinner');\n",
              "      try {\n",
              "        const charts = await google.colab.kernel.invokeFunction(\n",
              "            'suggestCharts', [key], {});\n",
              "      } catch (error) {\n",
              "        console.error('Error during call to suggestCharts:', error);\n",
              "      }\n",
              "      quickchartButtonEl.classList.remove('colab-df-spinner');\n",
              "      quickchartButtonEl.classList.add('colab-df-quickchart-complete');\n",
              "    }\n",
              "    (() => {\n",
              "      let quickchartButtonEl =\n",
              "        document.querySelector('#df-dcb4ed7e-ee5d-4983-b0af-067524dde900 button');\n",
              "      quickchartButtonEl.style.display =\n",
              "        google.colab.kernel.accessAllowed ? 'block' : 'none';\n",
              "    })();\n",
              "  </script>\n",
              "</div>\n",
              "\n",
              "  <div id=\"id_54f23194-9b9e-4ba5-acd1-c1094021f340\">\n",
              "    <style>\n",
              "      .colab-df-generate {\n",
              "        background-color: #E8F0FE;\n",
              "        border: none;\n",
              "        border-radius: 50%;\n",
              "        cursor: pointer;\n",
              "        display: none;\n",
              "        fill: #1967D2;\n",
              "        height: 32px;\n",
              "        padding: 0 0 0 0;\n",
              "        width: 32px;\n",
              "      }\n",
              "\n",
              "      .colab-df-generate:hover {\n",
              "        background-color: #E2EBFA;\n",
              "        box-shadow: 0px 1px 2px rgba(60, 64, 67, 0.3), 0px 1px 3px 1px rgba(60, 64, 67, 0.15);\n",
              "        fill: #174EA6;\n",
              "      }\n",
              "\n",
              "      [theme=dark] .colab-df-generate {\n",
              "        background-color: #3B4455;\n",
              "        fill: #D2E3FC;\n",
              "      }\n",
              "\n",
              "      [theme=dark] .colab-df-generate:hover {\n",
              "        background-color: #434B5C;\n",
              "        box-shadow: 0px 1px 3px 1px rgba(0, 0, 0, 0.15);\n",
              "        filter: drop-shadow(0px 1px 2px rgba(0, 0, 0, 0.3));\n",
              "        fill: #FFFFFF;\n",
              "      }\n",
              "    </style>\n",
              "    <button class=\"colab-df-generate\" onclick=\"generateWithVariable('snp')\"\n",
              "            title=\"Generate code using this dataframe.\"\n",
              "            style=\"display:none;\">\n",
              "\n",
              "  <svg xmlns=\"http://www.w3.org/2000/svg\" height=\"24px\"viewBox=\"0 0 24 24\"\n",
              "       width=\"24px\">\n",
              "    <path d=\"M7,19H8.4L18.45,9,17,7.55,7,17.6ZM5,21V16.75L18.45,3.32a2,2,0,0,1,2.83,0l1.4,1.43a1.91,1.91,0,0,1,.58,1.4,1.91,1.91,0,0,1-.58,1.4L9.25,21ZM18.45,9,17,7.55Zm-12,3A5.31,5.31,0,0,0,4.9,8.1,5.31,5.31,0,0,0,1,6.5,5.31,5.31,0,0,0,4.9,4.9,5.31,5.31,0,0,0,6.5,1,5.31,5.31,0,0,0,8.1,4.9,5.31,5.31,0,0,0,12,6.5,5.46,5.46,0,0,0,6.5,12Z\"/>\n",
              "  </svg>\n",
              "    </button>\n",
              "    <script>\n",
              "      (() => {\n",
              "      const buttonEl =\n",
              "        document.querySelector('#id_54f23194-9b9e-4ba5-acd1-c1094021f340 button.colab-df-generate');\n",
              "      buttonEl.style.display =\n",
              "        google.colab.kernel.accessAllowed ? 'block' : 'none';\n",
              "\n",
              "      buttonEl.onclick = () => {\n",
              "        google.colab.notebook.generateWithVariable('snp');\n",
              "      }\n",
              "      })();\n",
              "    </script>\n",
              "  </div>\n",
              "\n",
              "    </div>\n",
              "  </div>\n"
            ],
            "application/vnd.google.colaboratory.intrinsic+json": {
              "type": "dataframe",
              "variable_name": "snp",
              "summary": "{\n  \"name\": \"snp\",\n  \"rows\": 251,\n  \"fields\": [\n    {\n      \"column\": [\n        \"Date\",\n        \"\"\n      ],\n      \"properties\": {\n        \"dtype\": \"date\",\n        \"min\": \"2024-01-02 00:00:00\",\n        \"max\": \"2024-12-30 00:00:00\",\n        \"num_unique_values\": 251,\n        \"samples\": [\n          \"2024-08-14 00:00:00\",\n          \"2024-01-10 00:00:00\",\n          \"2024-08-27 00:00:00\"\n        ],\n        \"semantic_type\": \"\",\n        \"description\": \"\"\n      }\n    },\n    {\n      \"column\": [\n        \"Close\",\n        \"VOO\"\n      ],\n      \"properties\": {\n        \"dtype\": \"number\",\n        \"std\": 35.32213760048921,\n        \"min\": 423.8563537597656,\n        \"max\": 557.0370483398438,\n        \"num_unique_values\": 251,\n        \"samples\": [\n          496.6579284667969,\n          432.2558898925781,\n          512.8356323242188\n        ],\n        \"semantic_type\": \"\",\n        \"description\": \"\"\n      }\n    },\n    {\n      \"column\": [\n        \"High\",\n        \"VOO\"\n      ],\n      \"properties\": {\n        \"dtype\": \"number\",\n        \"std\": 35.46890573596664,\n        \"min\": 426.6890657276506,\n        \"max\": 558.1734256822916,\n        \"num_unique_values\": 251,\n        \"samples\": [\n          497.7013456970999,\n          433.04549448093536,\n          513.3424358662755\n        ],\n        \"semantic_type\": \"\",\n        \"description\": \"\"\n      }\n    },\n    {\n      \"column\": [\n        \"Low\",\n        \"VOO\"\n      ],\n      \"properties\": {\n        \"dtype\": \"number\",\n        \"std\": 35.255038449783754,\n        \"min\": 423.07659622562454,\n        \"max\": 556.2994191022467,\n        \"num_unique_values\": 251,\n        \"samples\": [\n          493.3588231374327,\n          429.82782716796964,\n          509.933945505277\n        ],\n        \"semantic_type\": \"\",\n        \"description\": \"\"\n      }\n    },\n    {\n      \"column\": [\n        \"Open\",\n        \"VOO\"\n      ],\n      \"properties\": {\n        \"dtype\": \"number\",\n        \"std\": 35.48707290082242,\n        \"min\": 424.01424788182874,\n        \"max\": 556.9274065200127,\n        \"num_unique_values\": 251,\n        \"samples\": [\n          495.78348617785025,\n          430.11404151139567,\n          511.02706664439717\n        ],\n        \"semantic_type\": \"\",\n        \"description\": \"\"\n      }\n    },\n    {\n      \"column\": [\n        \"Volume\",\n        \"VOO\"\n      ],\n      \"properties\": {\n        \"dtype\": \"number\",\n        \"std\": 3622691,\n        \"min\": 2131100,\n        \"max\": 35418000,\n        \"num_unique_values\": 250,\n        \"samples\": [\n          3636000,\n          4278800,\n          2453600\n        ],\n        \"semantic_type\": \"\",\n        \"description\": \"\"\n      }\n    }\n  ]\n}"
            }
          },
          "metadata": {},
          "execution_count": 3
        }
      ]
    },
    {
      "cell_type": "code",
      "source": [
        "# Removing the 'Ticker' column level leaving only the 'Price' level\n",
        "# The 'Ticker' level has no valuable information becouse all the information in this DF is about the same ticker\n",
        "snp.columns = snp.columns.get_level_values(0)"
      ],
      "metadata": {
        "id": "Iehn7AfKx9t6"
      },
      "execution_count": 4,
      "outputs": []
    },
    {
      "cell_type": "code",
      "source": [
        "snp"
      ],
      "metadata": {
        "colab": {
          "base_uri": "https://localhost:8080/",
          "height": 455
        },
        "id": "OIn3uiAIceYZ",
        "outputId": "e74b52fd-de18-4672-8e08-ab25d5417dc4"
      },
      "execution_count": 5,
      "outputs": [
        {
          "output_type": "execute_result",
          "data": {
            "text/plain": [
              "Price            Close        High         Low        Open   Volume\n",
              "Date                                                               \n",
              "2024-01-02  428.376923  429.620548  426.748314  428.278214  9076000\n",
              "2024-01-03  425.198700  427.380007  424.665700  426.708841  4805000\n",
              "2024-01-04  423.856354  427.162880  423.639208  424.744666  3945300\n",
              "2024-01-05  424.399200  426.689066  423.076596  424.014248  5723100\n",
              "2024-01-08  430.469360  430.607528  424.784111  424.863090  7222400\n",
              "...                ...         ...         ...         ...      ...\n",
              "2024-12-23  547.190002  547.359985  540.320007  543.309998  7063400\n",
              "2024-12-24  552.820007  552.900024  547.539978  548.059998  3439300\n",
              "2024-12-26  552.809998  553.969971  549.919983  551.200012  4492000\n",
              "2024-12-27  547.080017  549.619995  543.200012  549.369995  7077100\n",
              "2024-12-30  540.989990  544.090027  537.400024  540.559998  6505100\n",
              "\n",
              "[251 rows x 5 columns]"
            ],
            "text/html": [
              "\n",
              "  <div id=\"df-7ae3c0f8-b9f6-41ab-b345-a83e61ed694b\" class=\"colab-df-container\">\n",
              "    <div>\n",
              "<style scoped>\n",
              "    .dataframe tbody tr th:only-of-type {\n",
              "        vertical-align: middle;\n",
              "    }\n",
              "\n",
              "    .dataframe tbody tr th {\n",
              "        vertical-align: top;\n",
              "    }\n",
              "\n",
              "    .dataframe thead th {\n",
              "        text-align: right;\n",
              "    }\n",
              "</style>\n",
              "<table border=\"1\" class=\"dataframe\">\n",
              "  <thead>\n",
              "    <tr style=\"text-align: right;\">\n",
              "      <th>Price</th>\n",
              "      <th>Close</th>\n",
              "      <th>High</th>\n",
              "      <th>Low</th>\n",
              "      <th>Open</th>\n",
              "      <th>Volume</th>\n",
              "    </tr>\n",
              "    <tr>\n",
              "      <th>Date</th>\n",
              "      <th></th>\n",
              "      <th></th>\n",
              "      <th></th>\n",
              "      <th></th>\n",
              "      <th></th>\n",
              "    </tr>\n",
              "  </thead>\n",
              "  <tbody>\n",
              "    <tr>\n",
              "      <th>2024-01-02</th>\n",
              "      <td>428.376923</td>\n",
              "      <td>429.620548</td>\n",
              "      <td>426.748314</td>\n",
              "      <td>428.278214</td>\n",
              "      <td>9076000</td>\n",
              "    </tr>\n",
              "    <tr>\n",
              "      <th>2024-01-03</th>\n",
              "      <td>425.198700</td>\n",
              "      <td>427.380007</td>\n",
              "      <td>424.665700</td>\n",
              "      <td>426.708841</td>\n",
              "      <td>4805000</td>\n",
              "    </tr>\n",
              "    <tr>\n",
              "      <th>2024-01-04</th>\n",
              "      <td>423.856354</td>\n",
              "      <td>427.162880</td>\n",
              "      <td>423.639208</td>\n",
              "      <td>424.744666</td>\n",
              "      <td>3945300</td>\n",
              "    </tr>\n",
              "    <tr>\n",
              "      <th>2024-01-05</th>\n",
              "      <td>424.399200</td>\n",
              "      <td>426.689066</td>\n",
              "      <td>423.076596</td>\n",
              "      <td>424.014248</td>\n",
              "      <td>5723100</td>\n",
              "    </tr>\n",
              "    <tr>\n",
              "      <th>2024-01-08</th>\n",
              "      <td>430.469360</td>\n",
              "      <td>430.607528</td>\n",
              "      <td>424.784111</td>\n",
              "      <td>424.863090</td>\n",
              "      <td>7222400</td>\n",
              "    </tr>\n",
              "    <tr>\n",
              "      <th>...</th>\n",
              "      <td>...</td>\n",
              "      <td>...</td>\n",
              "      <td>...</td>\n",
              "      <td>...</td>\n",
              "      <td>...</td>\n",
              "    </tr>\n",
              "    <tr>\n",
              "      <th>2024-12-23</th>\n",
              "      <td>547.190002</td>\n",
              "      <td>547.359985</td>\n",
              "      <td>540.320007</td>\n",
              "      <td>543.309998</td>\n",
              "      <td>7063400</td>\n",
              "    </tr>\n",
              "    <tr>\n",
              "      <th>2024-12-24</th>\n",
              "      <td>552.820007</td>\n",
              "      <td>552.900024</td>\n",
              "      <td>547.539978</td>\n",
              "      <td>548.059998</td>\n",
              "      <td>3439300</td>\n",
              "    </tr>\n",
              "    <tr>\n",
              "      <th>2024-12-26</th>\n",
              "      <td>552.809998</td>\n",
              "      <td>553.969971</td>\n",
              "      <td>549.919983</td>\n",
              "      <td>551.200012</td>\n",
              "      <td>4492000</td>\n",
              "    </tr>\n",
              "    <tr>\n",
              "      <th>2024-12-27</th>\n",
              "      <td>547.080017</td>\n",
              "      <td>549.619995</td>\n",
              "      <td>543.200012</td>\n",
              "      <td>549.369995</td>\n",
              "      <td>7077100</td>\n",
              "    </tr>\n",
              "    <tr>\n",
              "      <th>2024-12-30</th>\n",
              "      <td>540.989990</td>\n",
              "      <td>544.090027</td>\n",
              "      <td>537.400024</td>\n",
              "      <td>540.559998</td>\n",
              "      <td>6505100</td>\n",
              "    </tr>\n",
              "  </tbody>\n",
              "</table>\n",
              "<p>251 rows × 5 columns</p>\n",
              "</div>\n",
              "    <div class=\"colab-df-buttons\">\n",
              "\n",
              "  <div class=\"colab-df-container\">\n",
              "    <button class=\"colab-df-convert\" onclick=\"convertToInteractive('df-7ae3c0f8-b9f6-41ab-b345-a83e61ed694b')\"\n",
              "            title=\"Convert this dataframe to an interactive table.\"\n",
              "            style=\"display:none;\">\n",
              "\n",
              "  <svg xmlns=\"http://www.w3.org/2000/svg\" height=\"24px\" viewBox=\"0 -960 960 960\">\n",
              "    <path d=\"M120-120v-720h720v720H120Zm60-500h600v-160H180v160Zm220 220h160v-160H400v160Zm0 220h160v-160H400v160ZM180-400h160v-160H180v160Zm440 0h160v-160H620v160ZM180-180h160v-160H180v160Zm440 0h160v-160H620v160Z\"/>\n",
              "  </svg>\n",
              "    </button>\n",
              "\n",
              "  <style>\n",
              "    .colab-df-container {\n",
              "      display:flex;\n",
              "      gap: 12px;\n",
              "    }\n",
              "\n",
              "    .colab-df-convert {\n",
              "      background-color: #E8F0FE;\n",
              "      border: none;\n",
              "      border-radius: 50%;\n",
              "      cursor: pointer;\n",
              "      display: none;\n",
              "      fill: #1967D2;\n",
              "      height: 32px;\n",
              "      padding: 0 0 0 0;\n",
              "      width: 32px;\n",
              "    }\n",
              "\n",
              "    .colab-df-convert:hover {\n",
              "      background-color: #E2EBFA;\n",
              "      box-shadow: 0px 1px 2px rgba(60, 64, 67, 0.3), 0px 1px 3px 1px rgba(60, 64, 67, 0.15);\n",
              "      fill: #174EA6;\n",
              "    }\n",
              "\n",
              "    .colab-df-buttons div {\n",
              "      margin-bottom: 4px;\n",
              "    }\n",
              "\n",
              "    [theme=dark] .colab-df-convert {\n",
              "      background-color: #3B4455;\n",
              "      fill: #D2E3FC;\n",
              "    }\n",
              "\n",
              "    [theme=dark] .colab-df-convert:hover {\n",
              "      background-color: #434B5C;\n",
              "      box-shadow: 0px 1px 3px 1px rgba(0, 0, 0, 0.15);\n",
              "      filter: drop-shadow(0px 1px 2px rgba(0, 0, 0, 0.3));\n",
              "      fill: #FFFFFF;\n",
              "    }\n",
              "  </style>\n",
              "\n",
              "    <script>\n",
              "      const buttonEl =\n",
              "        document.querySelector('#df-7ae3c0f8-b9f6-41ab-b345-a83e61ed694b button.colab-df-convert');\n",
              "      buttonEl.style.display =\n",
              "        google.colab.kernel.accessAllowed ? 'block' : 'none';\n",
              "\n",
              "      async function convertToInteractive(key) {\n",
              "        const element = document.querySelector('#df-7ae3c0f8-b9f6-41ab-b345-a83e61ed694b');\n",
              "        const dataTable =\n",
              "          await google.colab.kernel.invokeFunction('convertToInteractive',\n",
              "                                                    [key], {});\n",
              "        if (!dataTable) return;\n",
              "\n",
              "        const docLinkHtml = 'Like what you see? Visit the ' +\n",
              "          '<a target=\"_blank\" href=https://colab.research.google.com/notebooks/data_table.ipynb>data table notebook</a>'\n",
              "          + ' to learn more about interactive tables.';\n",
              "        element.innerHTML = '';\n",
              "        dataTable['output_type'] = 'display_data';\n",
              "        await google.colab.output.renderOutput(dataTable, element);\n",
              "        const docLink = document.createElement('div');\n",
              "        docLink.innerHTML = docLinkHtml;\n",
              "        element.appendChild(docLink);\n",
              "      }\n",
              "    </script>\n",
              "  </div>\n",
              "\n",
              "\n",
              "<div id=\"df-c86abf2b-8c79-457c-9659-fe72af708025\">\n",
              "  <button class=\"colab-df-quickchart\" onclick=\"quickchart('df-c86abf2b-8c79-457c-9659-fe72af708025')\"\n",
              "            title=\"Suggest charts\"\n",
              "            style=\"display:none;\">\n",
              "\n",
              "<svg xmlns=\"http://www.w3.org/2000/svg\" height=\"24px\"viewBox=\"0 0 24 24\"\n",
              "     width=\"24px\">\n",
              "    <g>\n",
              "        <path d=\"M19 3H5c-1.1 0-2 .9-2 2v14c0 1.1.9 2 2 2h14c1.1 0 2-.9 2-2V5c0-1.1-.9-2-2-2zM9 17H7v-7h2v7zm4 0h-2V7h2v10zm4 0h-2v-4h2v4z\"/>\n",
              "    </g>\n",
              "</svg>\n",
              "  </button>\n",
              "\n",
              "<style>\n",
              "  .colab-df-quickchart {\n",
              "      --bg-color: #E8F0FE;\n",
              "      --fill-color: #1967D2;\n",
              "      --hover-bg-color: #E2EBFA;\n",
              "      --hover-fill-color: #174EA6;\n",
              "      --disabled-fill-color: #AAA;\n",
              "      --disabled-bg-color: #DDD;\n",
              "  }\n",
              "\n",
              "  [theme=dark] .colab-df-quickchart {\n",
              "      --bg-color: #3B4455;\n",
              "      --fill-color: #D2E3FC;\n",
              "      --hover-bg-color: #434B5C;\n",
              "      --hover-fill-color: #FFFFFF;\n",
              "      --disabled-bg-color: #3B4455;\n",
              "      --disabled-fill-color: #666;\n",
              "  }\n",
              "\n",
              "  .colab-df-quickchart {\n",
              "    background-color: var(--bg-color);\n",
              "    border: none;\n",
              "    border-radius: 50%;\n",
              "    cursor: pointer;\n",
              "    display: none;\n",
              "    fill: var(--fill-color);\n",
              "    height: 32px;\n",
              "    padding: 0;\n",
              "    width: 32px;\n",
              "  }\n",
              "\n",
              "  .colab-df-quickchart:hover {\n",
              "    background-color: var(--hover-bg-color);\n",
              "    box-shadow: 0 1px 2px rgba(60, 64, 67, 0.3), 0 1px 3px 1px rgba(60, 64, 67, 0.15);\n",
              "    fill: var(--button-hover-fill-color);\n",
              "  }\n",
              "\n",
              "  .colab-df-quickchart-complete:disabled,\n",
              "  .colab-df-quickchart-complete:disabled:hover {\n",
              "    background-color: var(--disabled-bg-color);\n",
              "    fill: var(--disabled-fill-color);\n",
              "    box-shadow: none;\n",
              "  }\n",
              "\n",
              "  .colab-df-spinner {\n",
              "    border: 2px solid var(--fill-color);\n",
              "    border-color: transparent;\n",
              "    border-bottom-color: var(--fill-color);\n",
              "    animation:\n",
              "      spin 1s steps(1) infinite;\n",
              "  }\n",
              "\n",
              "  @keyframes spin {\n",
              "    0% {\n",
              "      border-color: transparent;\n",
              "      border-bottom-color: var(--fill-color);\n",
              "      border-left-color: var(--fill-color);\n",
              "    }\n",
              "    20% {\n",
              "      border-color: transparent;\n",
              "      border-left-color: var(--fill-color);\n",
              "      border-top-color: var(--fill-color);\n",
              "    }\n",
              "    30% {\n",
              "      border-color: transparent;\n",
              "      border-left-color: var(--fill-color);\n",
              "      border-top-color: var(--fill-color);\n",
              "      border-right-color: var(--fill-color);\n",
              "    }\n",
              "    40% {\n",
              "      border-color: transparent;\n",
              "      border-right-color: var(--fill-color);\n",
              "      border-top-color: var(--fill-color);\n",
              "    }\n",
              "    60% {\n",
              "      border-color: transparent;\n",
              "      border-right-color: var(--fill-color);\n",
              "    }\n",
              "    80% {\n",
              "      border-color: transparent;\n",
              "      border-right-color: var(--fill-color);\n",
              "      border-bottom-color: var(--fill-color);\n",
              "    }\n",
              "    90% {\n",
              "      border-color: transparent;\n",
              "      border-bottom-color: var(--fill-color);\n",
              "    }\n",
              "  }\n",
              "</style>\n",
              "\n",
              "  <script>\n",
              "    async function quickchart(key) {\n",
              "      const quickchartButtonEl =\n",
              "        document.querySelector('#' + key + ' button');\n",
              "      quickchartButtonEl.disabled = true;  // To prevent multiple clicks.\n",
              "      quickchartButtonEl.classList.add('colab-df-spinner');\n",
              "      try {\n",
              "        const charts = await google.colab.kernel.invokeFunction(\n",
              "            'suggestCharts', [key], {});\n",
              "      } catch (error) {\n",
              "        console.error('Error during call to suggestCharts:', error);\n",
              "      }\n",
              "      quickchartButtonEl.classList.remove('colab-df-spinner');\n",
              "      quickchartButtonEl.classList.add('colab-df-quickchart-complete');\n",
              "    }\n",
              "    (() => {\n",
              "      let quickchartButtonEl =\n",
              "        document.querySelector('#df-c86abf2b-8c79-457c-9659-fe72af708025 button');\n",
              "      quickchartButtonEl.style.display =\n",
              "        google.colab.kernel.accessAllowed ? 'block' : 'none';\n",
              "    })();\n",
              "  </script>\n",
              "</div>\n",
              "\n",
              "  <div id=\"id_c892cfdc-c301-41be-b471-f58b2c72f949\">\n",
              "    <style>\n",
              "      .colab-df-generate {\n",
              "        background-color: #E8F0FE;\n",
              "        border: none;\n",
              "        border-radius: 50%;\n",
              "        cursor: pointer;\n",
              "        display: none;\n",
              "        fill: #1967D2;\n",
              "        height: 32px;\n",
              "        padding: 0 0 0 0;\n",
              "        width: 32px;\n",
              "      }\n",
              "\n",
              "      .colab-df-generate:hover {\n",
              "        background-color: #E2EBFA;\n",
              "        box-shadow: 0px 1px 2px rgba(60, 64, 67, 0.3), 0px 1px 3px 1px rgba(60, 64, 67, 0.15);\n",
              "        fill: #174EA6;\n",
              "      }\n",
              "\n",
              "      [theme=dark] .colab-df-generate {\n",
              "        background-color: #3B4455;\n",
              "        fill: #D2E3FC;\n",
              "      }\n",
              "\n",
              "      [theme=dark] .colab-df-generate:hover {\n",
              "        background-color: #434B5C;\n",
              "        box-shadow: 0px 1px 3px 1px rgba(0, 0, 0, 0.15);\n",
              "        filter: drop-shadow(0px 1px 2px rgba(0, 0, 0, 0.3));\n",
              "        fill: #FFFFFF;\n",
              "      }\n",
              "    </style>\n",
              "    <button class=\"colab-df-generate\" onclick=\"generateWithVariable('snp')\"\n",
              "            title=\"Generate code using this dataframe.\"\n",
              "            style=\"display:none;\">\n",
              "\n",
              "  <svg xmlns=\"http://www.w3.org/2000/svg\" height=\"24px\"viewBox=\"0 0 24 24\"\n",
              "       width=\"24px\">\n",
              "    <path d=\"M7,19H8.4L18.45,9,17,7.55,7,17.6ZM5,21V16.75L18.45,3.32a2,2,0,0,1,2.83,0l1.4,1.43a1.91,1.91,0,0,1,.58,1.4,1.91,1.91,0,0,1-.58,1.4L9.25,21ZM18.45,9,17,7.55Zm-12,3A5.31,5.31,0,0,0,4.9,8.1,5.31,5.31,0,0,0,1,6.5,5.31,5.31,0,0,0,4.9,4.9,5.31,5.31,0,0,0,6.5,1,5.31,5.31,0,0,0,8.1,4.9,5.31,5.31,0,0,0,12,6.5,5.46,5.46,0,0,0,6.5,12Z\"/>\n",
              "  </svg>\n",
              "    </button>\n",
              "    <script>\n",
              "      (() => {\n",
              "      const buttonEl =\n",
              "        document.querySelector('#id_c892cfdc-c301-41be-b471-f58b2c72f949 button.colab-df-generate');\n",
              "      buttonEl.style.display =\n",
              "        google.colab.kernel.accessAllowed ? 'block' : 'none';\n",
              "\n",
              "      buttonEl.onclick = () => {\n",
              "        google.colab.notebook.generateWithVariable('snp');\n",
              "      }\n",
              "      })();\n",
              "    </script>\n",
              "  </div>\n",
              "\n",
              "    </div>\n",
              "  </div>\n"
            ],
            "application/vnd.google.colaboratory.intrinsic+json": {
              "type": "dataframe",
              "variable_name": "snp",
              "summary": "{\n  \"name\": \"snp\",\n  \"rows\": 251,\n  \"fields\": [\n    {\n      \"column\": \"Date\",\n      \"properties\": {\n        \"dtype\": \"date\",\n        \"min\": \"2024-01-02 00:00:00\",\n        \"max\": \"2024-12-30 00:00:00\",\n        \"num_unique_values\": 251,\n        \"samples\": [\n          \"2024-08-14 00:00:00\",\n          \"2024-01-10 00:00:00\",\n          \"2024-08-27 00:00:00\"\n        ],\n        \"semantic_type\": \"\",\n        \"description\": \"\"\n      }\n    },\n    {\n      \"column\": \"Close\",\n      \"properties\": {\n        \"dtype\": \"number\",\n        \"std\": 35.32213760048921,\n        \"min\": 423.8563537597656,\n        \"max\": 557.0370483398438,\n        \"num_unique_values\": 251,\n        \"samples\": [\n          496.6579284667969,\n          432.2558898925781,\n          512.8356323242188\n        ],\n        \"semantic_type\": \"\",\n        \"description\": \"\"\n      }\n    },\n    {\n      \"column\": \"High\",\n      \"properties\": {\n        \"dtype\": \"number\",\n        \"std\": 35.46890573596664,\n        \"min\": 426.6890657276506,\n        \"max\": 558.1734256822916,\n        \"num_unique_values\": 251,\n        \"samples\": [\n          497.7013456970999,\n          433.04549448093536,\n          513.3424358662755\n        ],\n        \"semantic_type\": \"\",\n        \"description\": \"\"\n      }\n    },\n    {\n      \"column\": \"Low\",\n      \"properties\": {\n        \"dtype\": \"number\",\n        \"std\": 35.255038449783754,\n        \"min\": 423.07659622562454,\n        \"max\": 556.2994191022467,\n        \"num_unique_values\": 251,\n        \"samples\": [\n          493.3588231374327,\n          429.82782716796964,\n          509.933945505277\n        ],\n        \"semantic_type\": \"\",\n        \"description\": \"\"\n      }\n    },\n    {\n      \"column\": \"Open\",\n      \"properties\": {\n        \"dtype\": \"number\",\n        \"std\": 35.48707290082242,\n        \"min\": 424.01424788182874,\n        \"max\": 556.9274065200127,\n        \"num_unique_values\": 251,\n        \"samples\": [\n          495.78348617785025,\n          430.11404151139567,\n          511.02706664439717\n        ],\n        \"semantic_type\": \"\",\n        \"description\": \"\"\n      }\n    },\n    {\n      \"column\": \"Volume\",\n      \"properties\": {\n        \"dtype\": \"number\",\n        \"std\": 3622691,\n        \"min\": 2131100,\n        \"max\": 35418000,\n        \"num_unique_values\": 250,\n        \"samples\": [\n          3636000,\n          4278800,\n          2453600\n        ],\n        \"semantic_type\": \"\",\n        \"description\": \"\"\n      }\n    }\n  ]\n}"
            }
          },
          "metadata": {},
          "execution_count": 5
        }
      ]
    },
    {
      "cell_type": "code",
      "source": [
        "# Plot the graph of the S&P500 throught 2024\n",
        "plt.figure(figsize=(10, 5))\n",
        "plt.plot(snp.index, snp['Close'])\n",
        "\n",
        "\n",
        "plt.xlabel('Date')\n",
        "plt.ylabel('Price')\n",
        "plt.title('S&P500 price Jan 1st-Dec 31 2024')\n",
        "plt.show()"
      ],
      "metadata": {
        "colab": {
          "base_uri": "https://localhost:8080/",
          "height": 487
        },
        "id": "x310SocQgwop",
        "outputId": "29a769eb-3067-4d4b-c970-1a62cb723c22"
      },
      "execution_count": 6,
      "outputs": [
        {
          "output_type": "display_data",
          "data": {
            "text/plain": [
              "<Figure size 1000x500 with 1 Axes>"
            ],
            "image/png": "[encoded data removed]"
          },
          "metadata": {}
        }
      ]
    },
    {
      "cell_type": "markdown",
      "source": [
        "\n",
        "##<u>**Part 2**<u/>"
      ],
      "metadata": {
        "id": "o9-hUQ8iq0CU"
      }
    },
    {
      "cell_type": "code",
      "source": [
        "snp.head(5)"
      ],
      "metadata": {
        "colab": {
          "base_uri": "https://localhost:8080/",
          "height": 237
        },
        "id": "7F8ZcM10q6Rs",
        "outputId": "1d2bd7ac-38a7-4f77-f160-7e9a4a8159ed"
      },
      "execution_count": 7,
      "outputs": [
        {
          "output_type": "execute_result",
          "data": {
            "text/plain": [
              "Price            Close        High         Low        Open   Volume\n",
              "Date                                                               \n",
              "2024-01-02  428.376923  429.620548  426.748314  428.278214  9076000\n",
              "2024-01-03  425.198700  427.380007  424.665700  426.708841  4805000\n",
              "2024-01-04  423.856354  427.162880  423.639208  424.744666  3945300\n",
              "2024-01-05  424.399200  426.689066  423.076596  424.014248  5723100\n",
              "2024-01-08  430.469360  430.607528  424.784111  424.863090  7222400"
            ],
            "text/html": [
              "\n",
              "  <div id=\"df-f0c857e4-34d9-4fb4-abf0-5650b2529629\" class=\"colab-df-container\">\n",
              "    <div>\n",
              "<style scoped>\n",
              "    .dataframe tbody tr th:only-of-type {\n",
              "        vertical-align: middle;\n",
              "    }\n",
              "\n",
              "    .dataframe tbody tr th {\n",
              "        vertical-align: top;\n",
              "    }\n",
              "\n",
              "    .dataframe thead th {\n",
              "        text-align: right;\n",
              "    }\n",
              "</style>\n",
              "<table border=\"1\" class=\"dataframe\">\n",
              "  <thead>\n",
              "    <tr style=\"text-align: right;\">\n",
              "      <th>Price</th>\n",
              "      <th>Close</th>\n",
              "      <th>High</th>\n",
              "      <th>Low</th>\n",
              "      <th>Open</th>\n",
              "      <th>Volume</th>\n",
              "    </tr>\n",
              "    <tr>\n",
              "      <th>Date</th>\n",
              "      <th></th>\n",
              "      <th></th>\n",
              "      <th></th>\n",
              "      <th></th>\n",
              "      <th></th>\n",
              "    </tr>\n",
              "  </thead>\n",
              "  <tbody>\n",
              "    <tr>\n",
              "      <th>2024-01-02</th>\n",
              "      <td>428.376923</td>\n",
              "      <td>429.620548</td>\n",
              "      <td>426.748314</td>\n",
              "      <td>428.278214</td>\n",
              "      <td>9076000</td>\n",
              "    </tr>\n",
              "    <tr>\n",
              "      <th>2024-01-03</th>\n",
              "      <td>425.198700</td>\n",
              "      <td>427.380007</td>\n",
              "      <td>424.665700</td>\n",
              "      <td>426.708841</td>\n",
              "      <td>4805000</td>\n",
              "    </tr>\n",
              "    <tr>\n",
              "      <th>2024-01-04</th>\n",
              "      <td>423.856354</td>\n",
              "      <td>427.162880</td>\n",
              "      <td>423.639208</td>\n",
              "      <td>424.744666</td>\n",
              "      <td>3945300</td>\n",
              "    </tr>\n",
              "    <tr>\n",
              "      <th>2024-01-05</th>\n",
              "      <td>424.399200</td>\n",
              "      <td>426.689066</td>\n",
              "      <td>423.076596</td>\n",
              "      <td>424.014248</td>\n",
              "      <td>5723100</td>\n",
              "    </tr>\n",
              "    <tr>\n",
              "      <th>2024-01-08</th>\n",
              "      <td>430.469360</td>\n",
              "      <td>430.607528</td>\n",
              "      <td>424.784111</td>\n",
              "      <td>424.863090</td>\n",
              "      <td>7222400</td>\n",
              "    </tr>\n",
              "  </tbody>\n",
              "</table>\n",
              "</div>\n",
              "    <div class=\"colab-df-buttons\">\n",
              "\n",
              "  <div class=\"colab-df-container\">\n",
              "    <button class=\"colab-df-convert\" onclick=\"convertToInteractive('df-f0c857e4-34d9-4fb4-abf0-5650b2529629')\"\n",
              "            title=\"Convert this dataframe to an interactive table.\"\n",
              "            style=\"display:none;\">\n",
              "\n",
              "  <svg xmlns=\"http://www.w3.org/2000/svg\" height=\"24px\" viewBox=\"0 -960 960 960\">\n",
              "    <path d=\"M120-120v-720h720v720H120Zm60-500h600v-160H180v160Zm220 220h160v-160H400v160Zm0 220h160v-160H400v160ZM180-400h160v-160H180v160Zm440 0h160v-160H620v160ZM180-180h160v-160H180v160Zm440 0h160v-160H620v160Z\"/>\n",
              "  </svg>\n",
              "    </button>\n",
              "\n",
              "  <style>\n",
              "    .colab-df-container {\n",
              "      display:flex;\n",
              "      gap: 12px;\n",
              "    }\n",
              "\n",
              "    .colab-df-convert {\n",
              "      background-color: #E8F0FE;\n",
              "      border: none;\n",
              "      border-radius: 50%;\n",
              "      cursor: pointer;\n",
              "      display: none;\n",
              "      fill: #1967D2;\n",
              "      height: 32px;\n",
              "      padding: 0 0 0 0;\n",
              "      width: 32px;\n",
              "    }\n",
              "\n",
              "    .colab-df-convert:hover {\n",
              "      background-color: #E2EBFA;\n",
              "      box-shadow: 0px 1px 2px rgba(60, 64, 67, 0.3), 0px 1px 3px 1px rgba(60, 64, 67, 0.15);\n",
              "      fill: #174EA6;\n",
              "    }\n",
              "\n",
              "    .colab-df-buttons div {\n",
              "      margin-bottom: 4px;\n",
              "    }\n",
              "\n",
              "    [theme=dark] .colab-df-convert {\n",
              "      background-color: #3B4455;\n",
              "      fill: #D2E3FC;\n",
              "    }\n",
              "\n",
              "    [theme=dark] .colab-df-convert:hover {\n",
              "      background-color: #434B5C;\n",
              "      box-shadow: 0px 1px 3px 1px rgba(0, 0, 0, 0.15);\n",
              "      filter: drop-shadow(0px 1px 2px rgba(0, 0, 0, 0.3));\n",
              "      fill: #FFFFFF;\n",
              "    }\n",
              "  </style>\n",
              "\n",
              "    <script>\n",
              "      const buttonEl =\n",
              "        document.querySelector('#df-f0c857e4-34d9-4fb4-abf0-5650b2529629 button.colab-df-convert');\n",
              "      buttonEl.style.display =\n",
              "        google.colab.kernel.accessAllowed ? 'block' : 'none';\n",
              "\n",
              "      async function convertToInteractive(key) {\n",
              "        const element = document.querySelector('#df-f0c857e4-34d9-4fb4-abf0-5650b2529629');\n",
              "        const dataTable =\n",
              "          await google.colab.kernel.invokeFunction('convertToInteractive',\n",
              "                                                    [key], {});\n",
              "        if (!dataTable) return;\n",
              "\n",
              "        const docLinkHtml = 'Like what you see? Visit the ' +\n",
              "          '<a target=\"_blank\" href=https://colab.research.google.com/notebooks/data_table.ipynb>data table notebook</a>'\n",
              "          + ' to learn more about interactive tables.';\n",
              "        element.innerHTML = '';\n",
              "        dataTable['output_type'] = 'display_data';\n",
              "        await google.colab.output.renderOutput(dataTable, element);\n",
              "        const docLink = document.createElement('div');\n",
              "        docLink.innerHTML = docLinkHtml;\n",
              "        element.appendChild(docLink);\n",
              "      }\n",
              "    </script>\n",
              "  </div>\n",
              "\n",
              "\n",
              "<div id=\"df-e769d952-9bb0-4ec1-b1cb-1c9ddbbd1194\">\n",
              "  <button class=\"colab-df-quickchart\" onclick=\"quickchart('df-e769d952-9bb0-4ec1-b1cb-1c9ddbbd1194')\"\n",
              "            title=\"Suggest charts\"\n",
              "            style=\"display:none;\">\n",
              "\n",
              "<svg xmlns=\"http://www.w3.org/2000/svg\" height=\"24px\"viewBox=\"0 0 24 24\"\n",
              "     width=\"24px\">\n",
              "    <g>\n",
              "        <path d=\"M19 3H5c-1.1 0-2 .9-2 2v14c0 1.1.9 2 2 2h14c1.1 0 2-.9 2-2V5c0-1.1-.9-2-2-2zM9 17H7v-7h2v7zm4 0h-2V7h2v10zm4 0h-2v-4h2v4z\"/>\n",
              "    </g>\n",
              "</svg>\n",
              "  </button>\n",
              "\n",
              "<style>\n",
              "  .colab-df-quickchart {\n",
              "      --bg-color: #E8F0FE;\n",
              "      --fill-color: #1967D2;\n",
              "      --hover-bg-color: #E2EBFA;\n",
              "      --hover-fill-color: #174EA6;\n",
              "      --disabled-fill-color: #AAA;\n",
              "      --disabled-bg-color: #DDD;\n",
              "  }\n",
              "\n",
              "  [theme=dark] .colab-df-quickchart {\n",
              "      --bg-color: #3B4455;\n",
              "      --fill-color: #D2E3FC;\n",
              "      --hover-bg-color: #434B5C;\n",
              "      --hover-fill-color: #FFFFFF;\n",
              "      --disabled-bg-color: #3B4455;\n",
              "      --disabled-fill-color: #666;\n",
              "  }\n",
              "\n",
              "  .colab-df-quickchart {\n",
              "    background-color: var(--bg-color);\n",
              "    border: none;\n",
              "    border-radius: 50%;\n",
              "    cursor: pointer;\n",
              "    display: none;\n",
              "    fill: var(--fill-color);\n",
              "    height: 32px;\n",
              "    padding: 0;\n",
              "    width: 32px;\n",
              "  }\n",
              "\n",
              "  .colab-df-quickchart:hover {\n",
              "    background-color: var(--hover-bg-color);\n",
              "    box-shadow: 0 1px 2px rgba(60, 64, 67, 0.3), 0 1px 3px 1px rgba(60, 64, 67, 0.15);\n",
              "    fill: var(--button-hover-fill-color);\n",
              "  }\n",
              "\n",
              "  .colab-df-quickchart-complete:disabled,\n",
              "  .colab-df-quickchart-complete:disabled:hover {\n",
              "    background-color: var(--disabled-bg-color);\n",
              "    fill: var(--disabled-fill-color);\n",
              "    box-shadow: none;\n",
              "  }\n",
              "\n",
              "  .colab-df-spinner {\n",
              "    border: 2px solid var(--fill-color);\n",
              "    border-color: transparent;\n",
              "    border-bottom-color: var(--fill-color);\n",
              "    animation:\n",
              "      spin 1s steps(1) infinite;\n",
              "  }\n",
              "\n",
              "  @keyframes spin {\n",
              "    0% {\n",
              "      border-color: transparent;\n",
              "      border-bottom-color: var(--fill-color);\n",
              "      border-left-color: var(--fill-color);\n",
              "    }\n",
              "    20% {\n",
              "      border-color: transparent;\n",
              "      border-left-color: var(--fill-color);\n",
              "      border-top-color: var(--fill-color);\n",
              "    }\n",
              "    30% {\n",
              "      border-color: transparent;\n",
              "      border-left-color: var(--fill-color);\n",
              "      border-top-color: var(--fill-color);\n",
              "      border-right-color: var(--fill-color);\n",
              "    }\n",
              "    40% {\n",
              "      border-color: transparent;\n",
              "      border-right-color: var(--fill-color);\n",
              "      border-top-color: var(--fill-color);\n",
              "    }\n",
              "    60% {\n",
              "      border-color: transparent;\n",
              "      border-right-color: var(--fill-color);\n",
              "    }\n",
              "    80% {\n",
              "      border-color: transparent;\n",
              "      border-right-color: var(--fill-color);\n",
              "      border-bottom-color: var(--fill-color);\n",
              "    }\n",
              "    90% {\n",
              "      border-color: transparent;\n",
              "      border-bottom-color: var(--fill-color);\n",
              "    }\n",
              "  }\n",
              "</style>\n",
              "\n",
              "  <script>\n",
              "    async function quickchart(key) {\n",
              "      const quickchartButtonEl =\n",
              "        document.querySelector('#' + key + ' button');\n",
              "      quickchartButtonEl.disabled = true;  // To prevent multiple clicks.\n",
              "      quickchartButtonEl.classList.add('colab-df-spinner');\n",
              "      try {\n",
              "        const charts = await google.colab.kernel.invokeFunction(\n",
              "            'suggestCharts', [key], {});\n",
              "      } catch (error) {\n",
              "        console.error('Error during call to suggestCharts:', error);\n",
              "      }\n",
              "      quickchartButtonEl.classList.remove('colab-df-spinner');\n",
              "      quickchartButtonEl.classList.add('colab-df-quickchart-complete');\n",
              "    }\n",
              "    (() => {\n",
              "      let quickchartButtonEl =\n",
              "        document.querySelector('#df-e769d952-9bb0-4ec1-b1cb-1c9ddbbd1194 button');\n",
              "      quickchartButtonEl.style.display =\n",
              "        google.colab.kernel.accessAllowed ? 'block' : 'none';\n",
              "    })();\n",
              "  </script>\n",
              "</div>\n",
              "\n",
              "    </div>\n",
              "  </div>\n"
            ],
            "application/vnd.google.colaboratory.intrinsic+json": {
              "type": "dataframe",
              "variable_name": "snp",
              "summary": "{\n  \"name\": \"snp\",\n  \"rows\": 251,\n  \"fields\": [\n    {\n      \"column\": \"Date\",\n      \"properties\": {\n        \"dtype\": \"date\",\n        \"min\": \"2024-01-02 00:00:00\",\n        \"max\": \"2024-12-30 00:00:00\",\n        \"num_unique_values\": 251,\n        \"samples\": [\n          \"2024-08-14 00:00:00\",\n          \"2024-01-10 00:00:00\",\n          \"2024-08-27 00:00:00\"\n        ],\n        \"semantic_type\": \"\",\n        \"description\": \"\"\n      }\n    },\n    {\n      \"column\": \"Close\",\n      \"properties\": {\n        \"dtype\": \"number\",\n        \"std\": 35.32213760048921,\n        \"min\": 423.8563537597656,\n        \"max\": 557.0370483398438,\n        \"num_unique_values\": 251,\n        \"samples\": [\n          496.6579284667969,\n          432.2558898925781,\n          512.8356323242188\n        ],\n        \"semantic_type\": \"\",\n        \"description\": \"\"\n      }\n    },\n    {\n      \"column\": \"High\",\n      \"properties\": {\n        \"dtype\": \"number\",\n        \"std\": 35.46890573596664,\n        \"min\": 426.6890657276506,\n        \"max\": 558.1734256822916,\n        \"num_unique_values\": 251,\n        \"samples\": [\n          497.7013456970999,\n          433.04549448093536,\n          513.3424358662755\n        ],\n        \"semantic_type\": \"\",\n        \"description\": \"\"\n      }\n    },\n    {\n      \"column\": \"Low\",\n      \"properties\": {\n        \"dtype\": \"number\",\n        \"std\": 35.255038449783754,\n        \"min\": 423.07659622562454,\n        \"max\": 556.2994191022467,\n        \"num_unique_values\": 251,\n        \"samples\": [\n          493.3588231374327,\n          429.82782716796964,\n          509.933945505277\n        ],\n        \"semantic_type\": \"\",\n        \"description\": \"\"\n      }\n    },\n    {\n      \"column\": \"Open\",\n      \"properties\": {\n        \"dtype\": \"number\",\n        \"std\": 35.48707290082242,\n        \"min\": 424.01424788182874,\n        \"max\": 556.9274065200127,\n        \"num_unique_values\": 251,\n        \"samples\": [\n          495.78348617785025,\n          430.11404151139567,\n          511.02706664439717\n        ],\n        \"semantic_type\": \"\",\n        \"description\": \"\"\n      }\n    },\n    {\n      \"column\": \"Volume\",\n      \"properties\": {\n        \"dtype\": \"number\",\n        \"std\": 3622691,\n        \"min\": 2131100,\n        \"max\": 35418000,\n        \"num_unique_values\": 250,\n        \"samples\": [\n          3636000,\n          4278800,\n          2453600\n        ],\n        \"semantic_type\": \"\",\n        \"description\": \"\"\n      }\n    }\n  ]\n}"
            }
          },
          "metadata": {},
          "execution_count": 7
        }
      ]
    },
    {
      "cell_type": "code",
      "source": [
        "snp.info()"
      ],
      "metadata": {
        "colab": {
          "base_uri": "https://localhost:8080/"
        },
        "id": "GwYsZG28xLBd",
        "outputId": "8056f10b-226a-4e72-82fc-3f8cafdf9353"
      },
      "execution_count": 8,
      "outputs": [
        {
          "output_type": "stream",
          "name": "stdout",
          "text": [
            "<class 'pandas.core.frame.DataFrame'>\n",
            "DatetimeIndex: 251 entries, 2024-01-02 to 2024-12-30\n",
            "Data columns (total 5 columns):\n",
            " #   Column  Non-Null Count  Dtype  \n",
            "---  ------  --------------  -----  \n",
            " 0   Close   251 non-null    float64\n",
            " 1   High    251 non-null    float64\n",
            " 2   Low     251 non-null    float64\n",
            " 3   Open    251 non-null    float64\n",
            " 4   Volume  251 non-null    int64  \n",
            "dtypes: float64(4), int64(1)\n",
            "memory usage: 11.8 KB\n"
          ]
        }
      ]
    },
    {
      "cell_type": "markdown",
      "source": [
        "##<u>**Part 3**<u/>"
      ],
      "metadata": {
        "id": "9FwgJVbW_GT3"
      }
    },
    {
      "cell_type": "code",
      "source": [
        "# A function to retrive the price type of the stock in a specified date\n",
        "# I will use this function alot in this code\n",
        "def get_stock_statistics(date_type, date: str | int, type_of_data: str):\n",
        "    \"\"\"\n",
        "    This function takes a date and the type of data you need from that date\n",
        "    and returns the data you requested.\n",
        "    Types of data:\n",
        "        - Adj Close\n",
        "        - Close\n",
        "        - High\n",
        "        - Low\n",
        "        - Open\n",
        "        - Volume\n",
        "\n",
        "    Date formats:\n",
        "        - \"full\" : \"YYYY-MM-DD\": str\n",
        "        - \"month\" : M: int\n",
        "        - \"day\" : D: int\n",
        "    \"\"\"\n",
        "\n",
        "    date_type = date_type.lower()\n",
        "    type_of_data = type_of_data.capitalize()\n",
        "\n",
        "    if date_type == \"full\":\n",
        "        return snp[snp.index == date][type_of_data].values[0]\n",
        "    elif date_type == \"month\":\n",
        "        return snp[snp.index.month == date][type_of_data]\n",
        "    elif date_type == \"day\":\n",
        "        return snp[snp.index.day == date][type_of_data]"
      ],
      "metadata": {
        "id": "rXPh0glagt4c"
      },
      "execution_count": 9,
      "outputs": []
    },
    {
      "cell_type": "markdown",
      "source": [
        "### What was the price on Daniel's birthday? Saturday July 27, 2024"
      ],
      "metadata": {
        "id": "7Mlj0lEVd2bS"
      }
    },
    {
      "cell_type": "code",
      "source": [
        "# Find the price at a given date (type: float)\n",
        "daniel_price = get_stock_statistics(\"full\", '2024-07-26', \"Close\").mean() # 27.07.2024 was a Saturday so I took a day before\n",
        "# Print the data in visuly apealing format\n",
        "print(f\"${daniel_price:.2f}\")"
      ],
      "metadata": {
        "colab": {
          "base_uri": "https://localhost:8080/"
        },
        "id": "4leh5CL1dplE",
        "outputId": "89d132af-f10b-4674-bf4e-f9df8ea11afc"
      },
      "execution_count": 10,
      "outputs": [
        {
          "output_type": "stream",
          "name": "stdout",
          "text": [
            "$497.18\n"
          ]
        }
      ]
    },
    {
      "cell_type": "markdown",
      "source": [
        "### What was the price on Sivan's birthday? Saturday Novemer 7, 2024"
      ],
      "metadata": {
        "id": "PFHUBd8lffZy"
      }
    },
    {
      "cell_type": "code",
      "source": [
        "# Find the price at a given date (type: float)\n",
        "sivan_price = get_stock_statistics(\"full\", '2024-11-07', \"Close\").mean()\n",
        "# Print the data in visuly apealing format\n",
        "print(f\"${sivan_price:.2f}\")"
      ],
      "metadata": {
        "colab": {
          "base_uri": "https://localhost:8080/"
        },
        "id": "obwUik_KeFMf",
        "outputId": "acf8aa16-49e2-4fbf-f42f-3c4b0e034391"
      },
      "execution_count": 11,
      "outputs": [
        {
          "output_type": "stream",
          "name": "stdout",
          "text": [
            "$545.78\n"
          ]
        }
      ]
    },
    {
      "cell_type": "markdown",
      "source": [
        "---\n",
        "##What the price at the start of each quarter?"
      ],
      "metadata": {
        "id": "zQUvnHywh20J"
      }
    },
    {
      "cell_type": "markdown",
      "source": [
        "####Q1"
      ],
      "metadata": {
        "id": "20ZbgxVxiJiX"
      }
    },
    {
      "cell_type": "code",
      "source": [
        "q1_price = get_stock_statistics(\"full\", '2024-01-02', \"Open\") # In 2024 trading started on the 2nd of January\n",
        "print(f\"${q1_price:.2f}\")"
      ],
      "metadata": {
        "colab": {
          "base_uri": "https://localhost:8080/"
        },
        "id": "vwzlanrnh8_u",
        "outputId": "b94ef7b7-4694-4cbb-f019-3c8b31ddc67c"
      },
      "execution_count": 12,
      "outputs": [
        {
          "output_type": "stream",
          "name": "stdout",
          "text": [
            "$428.28\n"
          ]
        }
      ]
    },
    {
      "cell_type": "markdown",
      "source": [
        "####Q2"
      ],
      "metadata": {
        "id": "m2LJa2B_pfq5"
      }
    },
    {
      "cell_type": "code",
      "source": [
        "q1_price = get_stock_statistics(\"full\", '2024-04-01', \"Open\")\n",
        "print(f\"${q1_price:.2f}\")"
      ],
      "metadata": {
        "colab": {
          "base_uri": "https://localhost:8080/"
        },
        "id": "JlEljPMsiQh-",
        "outputId": "600db16d-7a3f-41db-fc94-120da6b76679"
      },
      "execution_count": 13,
      "outputs": [
        {
          "output_type": "stream",
          "name": "stdout",
          "text": [
            "$476.72\n"
          ]
        }
      ]
    },
    {
      "cell_type": "markdown",
      "source": [
        "####Q3"
      ],
      "metadata": {
        "id": "PnS2XMvCpkvK"
      }
    },
    {
      "cell_type": "code",
      "source": [
        "q1_price = get_stock_statistics(\"full\", '2024-07-01', \"Open\")\n",
        "print(f\"${q1_price:.2f}\")"
      ],
      "metadata": {
        "colab": {
          "base_uri": "https://localhost:8080/"
        },
        "id": "zRBcQhr2pjMU",
        "outputId": "ca1a7148-0f45-488e-8736-e320c26ec6ca"
      },
      "execution_count": 14,
      "outputs": [
        {
          "output_type": "stream",
          "name": "stdout",
          "text": [
            "$498.34\n"
          ]
        }
      ]
    },
    {
      "cell_type": "markdown",
      "source": [
        "####Q4"
      ],
      "metadata": {
        "id": "ailF_jjRpscU"
      }
    },
    {
      "cell_type": "code",
      "source": [
        "q1_price = get_stock_statistics(\"full\", '2024-10-01', \"Open\")\n",
        "print(f\"${q1_price:.2f}\")"
      ],
      "metadata": {
        "colab": {
          "base_uri": "https://localhost:8080/"
        },
        "id": "bHPxPVPZprPu",
        "outputId": "e441a5df-73b4-4086-a23c-a6e2b99b818c"
      },
      "execution_count": 15,
      "outputs": [
        {
          "output_type": "stream",
          "name": "stdout",
          "text": [
            "$525.36\n"
          ]
        }
      ]
    },
    {
      "cell_type": "markdown",
      "source": [
        "---\n",
        "###April Avarages"
      ],
      "metadata": {
        "id": "IuVAtWWMI00R"
      }
    },
    {
      "cell_type": "code",
      "source": [
        "# Save all the April statisitics in to variables and then print it\n",
        "apr_open_mean = get_stock_statistics('month', 4, 'Open').mean()\n",
        "apr_close_mean = get_stock_statistics('month', 4, 'Close').mean()\n",
        "apr_high_mean = get_stock_statistics('month', 4, 'High').mean()\n",
        "apr_low_mean = get_stock_statistics('month', 4, 'Low').mean()\n",
        "apr_volume_mean = get_stock_statistics('month', 4, 'Volume').mean()"
      ],
      "metadata": {
        "id": "IqwjdRf7IeOO"
      },
      "execution_count": 16,
      "outputs": []
    },
    {
      "cell_type": "code",
      "source": [
        "print(\"April Avarages :\")\n",
        "print(f\"Open : ${apr_open_mean:.2f}\")\n",
        "print(f\"Close : ${apr_close_mean:.2f}\")\n",
        "print(f\"High : ${apr_high_mean:.2f}\")\n",
        "print(f\"Low : ${apr_low_mean:.2f}\")\n",
        "print(f\"Vloume : {int(apr_volume_mean)} stocks per day\")"
      ],
      "metadata": {
        "colab": {
          "base_uri": "https://localhost:8080/"
        },
        "id": "TzDa07JSMFz1",
        "outputId": "0780c685-3e30-46af-f612-52f9e80953ee"
      },
      "execution_count": 17,
      "outputs": [
        {
          "output_type": "stream",
          "name": "stdout",
          "text": [
            "April Avarages :\n",
            "Open : $464.92\n",
            "Close : $463.75\n",
            "High : $466.77\n",
            "Low : $461.54\n",
            "Vloume : 6010645 stocks per day\n"
          ]
        }
      ]
    },
    {
      "cell_type": "code",
      "source": [
        "snp.describe()"
      ],
      "metadata": {
        "colab": {
          "base_uri": "https://localhost:8080/",
          "height": 300
        },
        "id": "LOFNBqNXZaM1",
        "outputId": "df784a06-656f-42a6-88b3-0d7607ffe2ca"
      },
      "execution_count": 18,
      "outputs": [
        {
          "output_type": "execute_result",
          "data": {
            "text/plain": [
              "Price       Close        High         Low        Open        Volume\n",
              "count  251.000000  251.000000  251.000000  251.000000  2.510000e+02\n",
              "mean   493.785317  495.854111  491.385191  493.783532  5.423427e+06\n",
              "std     35.322138   35.468906   35.255038   35.487073  3.622692e+06\n",
              "min    423.856354  426.689066  423.076596  424.014248  2.131100e+06\n",
              "25%    465.341507  469.028817  463.598733  465.933040  3.664100e+06\n",
              "50%    494.948730  498.285868  492.633413  495.226984  4.609500e+06\n",
              "75%    521.998627  524.321753  520.444183  522.874489  5.916850e+06\n",
              "max    557.037048  558.173426  556.299419  556.927407  3.541800e+07"
            ],
            "text/html": [
              "\n",
              "  <div id=\"df-d9dc254c-3d91-44a6-88e4-4427d7d58039\" class=\"colab-df-container\">\n",
              "    <div>\n",
              "<style scoped>\n",
              "    .dataframe tbody tr th:only-of-type {\n",
              "        vertical-align: middle;\n",
              "    }\n",
              "\n",
              "    .dataframe tbody tr th {\n",
              "        vertical-align: top;\n",
              "    }\n",
              "\n",
              "    .dataframe thead th {\n",
              "        text-align: right;\n",
              "    }\n",
              "</style>\n",
              "<table border=\"1\" class=\"dataframe\">\n",
              "  <thead>\n",
              "    <tr style=\"text-align: right;\">\n",
              "      <th>Price</th>\n",
              "      <th>Close</th>\n",
              "      <th>High</th>\n",
              "      <th>Low</th>\n",
              "      <th>Open</th>\n",
              "      <th>Volume</th>\n",
              "    </tr>\n",
              "  </thead>\n",
              "  <tbody>\n",
              "    <tr>\n",
              "      <th>count</th>\n",
              "      <td>251.000000</td>\n",
              "      <td>251.000000</td>\n",
              "      <td>251.000000</td>\n",
              "      <td>251.000000</td>\n",
              "      <td>2.510000e+02</td>\n",
              "    </tr>\n",
              "    <tr>\n",
              "      <th>mean</th>\n",
              "      <td>493.785317</td>\n",
              "      <td>495.854111</td>\n",
              "      <td>491.385191</td>\n",
              "      <td>493.783532</td>\n",
              "      <td>5.423427e+06</td>\n",
              "    </tr>\n",
              "    <tr>\n",
              "      <th>std</th>\n",
              "      <td>35.322138</td>\n",
              "      <td>35.468906</td>\n",
              "      <td>35.255038</td>\n",
              "      <td>35.487073</td>\n",
              "      <td>3.622692e+06</td>\n",
              "    </tr>\n",
              "    <tr>\n",
              "      <th>min</th>\n",
              "      <td>423.856354</td>\n",
              "      <td>426.689066</td>\n",
              "      <td>423.076596</td>\n",
              "      <td>424.014248</td>\n",
              "      <td>2.131100e+06</td>\n",
              "    </tr>\n",
              "    <tr>\n",
              "      <th>25%</th>\n",
              "      <td>465.341507</td>\n",
              "      <td>469.028817</td>\n",
              "      <td>463.598733</td>\n",
              "      <td>465.933040</td>\n",
              "      <td>3.664100e+06</td>\n",
              "    </tr>\n",
              "    <tr>\n",
              "      <th>50%</th>\n",
              "      <td>494.948730</td>\n",
              "      <td>498.285868</td>\n",
              "      <td>492.633413</td>\n",
              "      <td>495.226984</td>\n",
              "      <td>4.609500e+06</td>\n",
              "    </tr>\n",
              "    <tr>\n",
              "      <th>75%</th>\n",
              "      <td>521.998627</td>\n",
              "      <td>524.321753</td>\n",
              "      <td>520.444183</td>\n",
              "      <td>522.874489</td>\n",
              "      <td>5.916850e+06</td>\n",
              "    </tr>\n",
              "    <tr>\n",
              "      <th>max</th>\n",
              "      <td>557.037048</td>\n",
              "      <td>558.173426</td>\n",
              "      <td>556.299419</td>\n",
              "      <td>556.927407</td>\n",
              "      <td>3.541800e+07</td>\n",
              "    </tr>\n",
              "  </tbody>\n",
              "</table>\n",
              "</div>\n",
              "    <div class=\"colab-df-buttons\">\n",
              "\n",
              "  <div class=\"colab-df-container\">\n",
              "    <button class=\"colab-df-convert\" onclick=\"convertToInteractive('df-d9dc254c-3d91-44a6-88e4-4427d7d58039')\"\n",
              "            title=\"Convert this dataframe to an interactive table.\"\n",
              "            style=\"display:none;\">\n",
              "\n",
              "  <svg xmlns=\"http://www.w3.org/2000/svg\" height=\"24px\" viewBox=\"0 -960 960 960\">\n",
              "    <path d=\"M120-120v-720h720v720H120Zm60-500h600v-160H180v160Zm220 220h160v-160H400v160Zm0 220h160v-160H400v160ZM180-400h160v-160H180v160Zm440 0h160v-160H620v160ZM180-180h160v-160H180v160Zm440 0h160v-160H620v160Z\"/>\n",
              "  </svg>\n",
              "    </button>\n",
              "\n",
              "  <style>\n",
              "    .colab-df-container {\n",
              "      display:flex;\n",
              "      gap: 12px;\n",
              "    }\n",
              "\n",
              "    .colab-df-convert {\n",
              "      background-color: #E8F0FE;\n",
              "      border: none;\n",
              "      border-radius: 50%;\n",
              "      cursor: pointer;\n",
              "      display: none;\n",
              "      fill: #1967D2;\n",
              "      height: 32px;\n",
              "      padding: 0 0 0 0;\n",
              "      width: 32px;\n",
              "    }\n",
              "\n",
              "    .colab-df-convert:hover {\n",
              "      background-color: #E2EBFA;\n",
              "      box-shadow: 0px 1px 2px rgba(60, 64, 67, 0.3), 0px 1px 3px 1px rgba(60, 64, 67, 0.15);\n",
              "      fill: #174EA6;\n",
              "    }\n",
              "\n",
              "    .colab-df-buttons div {\n",
              "      margin-bottom: 4px;\n",
              "    }\n",
              "\n",
              "    [theme=dark] .colab-df-convert {\n",
              "      background-color: #3B4455;\n",
              "      fill: #D2E3FC;\n",
              "    }\n",
              "\n",
              "    [theme=dark] .colab-df-convert:hover {\n",
              "      background-color: #434B5C;\n",
              "      box-shadow: 0px 1px 3px 1px rgba(0, 0, 0, 0.15);\n",
              "      filter: drop-shadow(0px 1px 2px rgba(0, 0, 0, 0.3));\n",
              "      fill: #FFFFFF;\n",
              "    }\n",
              "  </style>\n",
              "\n",
              "    <script>\n",
              "      const buttonEl =\n",
              "        document.querySelector('#df-d9dc254c-3d91-44a6-88e4-4427d7d58039 button.colab-df-convert');\n",
              "      buttonEl.style.display =\n",
              "        google.colab.kernel.accessAllowed ? 'block' : 'none';\n",
              "\n",
              "      async function convertToInteractive(key) {\n",
              "        const element = document.querySelector('#df-d9dc254c-3d91-44a6-88e4-4427d7d58039');\n",
              "        const dataTable =\n",
              "          await google.colab.kernel.invokeFunction('convertToInteractive',\n",
              "                                                    [key], {});\n",
              "        if (!dataTable) return;\n",
              "\n",
              "        const docLinkHtml = 'Like what you see? Visit the ' +\n",
              "          '<a target=\"_blank\" href=https://colab.research.google.com/notebooks/data_table.ipynb>data table notebook</a>'\n",
              "          + ' to learn more about interactive tables.';\n",
              "        element.innerHTML = '';\n",
              "        dataTable['output_type'] = 'display_data';\n",
              "        await google.colab.output.renderOutput(dataTable, element);\n",
              "        const docLink = document.createElement('div');\n",
              "        docLink.innerHTML = docLinkHtml;\n",
              "        element.appendChild(docLink);\n",
              "      }\n",
              "    </script>\n",
              "  </div>\n",
              "\n",
              "\n",
              "<div id=\"df-38c0bfcf-5cf2-4655-add1-e068a41a4463\">\n",
              "  <button class=\"colab-df-quickchart\" onclick=\"quickchart('df-38c0bfcf-5cf2-4655-add1-e068a41a4463')\"\n",
              "            title=\"Suggest charts\"\n",
              "            style=\"display:none;\">\n",
              "\n",
              "<svg xmlns=\"http://www.w3.org/2000/svg\" height=\"24px\"viewBox=\"0 0 24 24\"\n",
              "     width=\"24px\">\n",
              "    <g>\n",
              "        <path d=\"M19 3H5c-1.1 0-2 .9-2 2v14c0 1.1.9 2 2 2h14c1.1 0 2-.9 2-2V5c0-1.1-.9-2-2-2zM9 17H7v-7h2v7zm4 0h-2V7h2v10zm4 0h-2v-4h2v4z\"/>\n",
              "    </g>\n",
              "</svg>\n",
              "  </button>\n",
              "\n",
              "<style>\n",
              "  .colab-df-quickchart {\n",
              "      --bg-color: #E8F0FE;\n",
              "      --fill-color: #1967D2;\n",
              "      --hover-bg-color: #E2EBFA;\n",
              "      --hover-fill-color: #174EA6;\n",
              "      --disabled-fill-color: #AAA;\n",
              "      --disabled-bg-color: #DDD;\n",
              "  }\n",
              "\n",
              "  [theme=dark] .colab-df-quickchart {\n",
              "      --bg-color: #3B4455;\n",
              "      --fill-color: #D2E3FC;\n",
              "      --hover-bg-color: #434B5C;\n",
              "      --hover-fill-color: #FFFFFF;\n",
              "      --disabled-bg-color: #3B4455;\n",
              "      --disabled-fill-color: #666;\n",
              "  }\n",
              "\n",
              "  .colab-df-quickchart {\n",
              "    background-color: var(--bg-color);\n",
              "    border: none;\n",
              "    border-radius: 50%;\n",
              "    cursor: pointer;\n",
              "    display: none;\n",
              "    fill: var(--fill-color);\n",
              "    height: 32px;\n",
              "    padding: 0;\n",
              "    width: 32px;\n",
              "  }\n",
              "\n",
              "  .colab-df-quickchart:hover {\n",
              "    background-color: var(--hover-bg-color);\n",
              "    box-shadow: 0 1px 2px rgba(60, 64, 67, 0.3), 0 1px 3px 1px rgba(60, 64, 67, 0.15);\n",
              "    fill: var(--button-hover-fill-color);\n",
              "  }\n",
              "\n",
              "  .colab-df-quickchart-complete:disabled,\n",
              "  .colab-df-quickchart-complete:disabled:hover {\n",
              "    background-color: var(--disabled-bg-color);\n",
              "    fill: var(--disabled-fill-color);\n",
              "    box-shadow: none;\n",
              "  }\n",
              "\n",
              "  .colab-df-spinner {\n",
              "    border: 2px solid var(--fill-color);\n",
              "    border-color: transparent;\n",
              "    border-bottom-color: var(--fill-color);\n",
              "    animation:\n",
              "      spin 1s steps(1) infinite;\n",
              "  }\n",
              "\n",
              "  @keyframes spin {\n",
              "    0% {\n",
              "      border-color: transparent;\n",
              "      border-bottom-color: var(--fill-color);\n",
              "      border-left-color: var(--fill-color);\n",
              "    }\n",
              "    20% {\n",
              "      border-color: transparent;\n",
              "      border-left-color: var(--fill-color);\n",
              "      border-top-color: var(--fill-color);\n",
              "    }\n",
              "    30% {\n",
              "      border-color: transparent;\n",
              "      border-left-color: var(--fill-color);\n",
              "      border-top-color: var(--fill-color);\n",
              "      border-right-color: var(--fill-color);\n",
              "    }\n",
              "    40% {\n",
              "      border-color: transparent;\n",
              "      border-right-color: var(--fill-color);\n",
              "      border-top-color: var(--fill-color);\n",
              "    }\n",
              "    60% {\n",
              "      border-color: transparent;\n",
              "      border-right-color: var(--fill-color);\n",
              "    }\n",
              "    80% {\n",
              "      border-color: transparent;\n",
              "      border-right-color: var(--fill-color);\n",
              "      border-bottom-color: var(--fill-color);\n",
              "    }\n",
              "    90% {\n",
              "      border-color: transparent;\n",
              "      border-bottom-color: var(--fill-color);\n",
              "    }\n",
              "  }\n",
              "</style>\n",
              "\n",
              "  <script>\n",
              "    async function quickchart(key) {\n",
              "      const quickchartButtonEl =\n",
              "        document.querySelector('#' + key + ' button');\n",
              "      quickchartButtonEl.disabled = true;  // To prevent multiple clicks.\n",
              "      quickchartButtonEl.classList.add('colab-df-spinner');\n",
              "      try {\n",
              "        const charts = await google.colab.kernel.invokeFunction(\n",
              "            'suggestCharts', [key], {});\n",
              "      } catch (error) {\n",
              "        console.error('Error during call to suggestCharts:', error);\n",
              "      }\n",
              "      quickchartButtonEl.classList.remove('colab-df-spinner');\n",
              "      quickchartButtonEl.classList.add('colab-df-quickchart-complete');\n",
              "    }\n",
              "    (() => {\n",
              "      let quickchartButtonEl =\n",
              "        document.querySelector('#df-38c0bfcf-5cf2-4655-add1-e068a41a4463 button');\n",
              "      quickchartButtonEl.style.display =\n",
              "        google.colab.kernel.accessAllowed ? 'block' : 'none';\n",
              "    })();\n",
              "  </script>\n",
              "</div>\n",
              "\n",
              "    </div>\n",
              "  </div>\n"
            ],
            "application/vnd.google.colaboratory.intrinsic+json": {
              "type": "dataframe",
              "summary": "{\n  \"name\": \"snp\",\n  \"rows\": 8,\n  \"fields\": [\n    {\n      \"column\": \"Close\",\n      \"properties\": {\n        \"dtype\": \"number\",\n        \"std\": 176.12924557492556,\n        \"min\": 35.32213760048921,\n        \"max\": 557.0370483398438,\n        \"num_unique_values\": 8,\n        \"samples\": [\n          493.7853168624331,\n          494.94873046875,\n          251.0\n        ],\n        \"semantic_type\": \"\",\n        \"description\": \"\"\n      }\n    },\n    {\n      \"column\": \"High\",\n      \"properties\": {\n        \"dtype\": \"number\",\n        \"std\": 177.05993862037917,\n        \"min\": 35.46890573596664,\n        \"max\": 558.1734256822916,\n        \"num_unique_values\": 8,\n        \"samples\": [\n          495.85411081732315,\n          498.28586839529464,\n          251.0\n        ],\n        \"semantic_type\": \"\",\n        \"description\": \"\"\n      }\n    },\n    {\n      \"column\": \"Low\",\n      \"properties\": {\n        \"dtype\": \"number\",\n        \"std\": 175.47642434241445,\n        \"min\": 35.255038449783754,\n        \"max\": 556.2994191022467,\n        \"num_unique_values\": 8,\n        \"samples\": [\n          491.3851914491552,\n          492.6334130422087,\n          251.0\n        ],\n        \"semantic_type\": \"\",\n        \"description\": \"\"\n      }\n    },\n    {\n      \"column\": \"Open\",\n      \"properties\": {\n        \"dtype\": \"number\",\n        \"std\": 176.20057376997727,\n        \"min\": 35.48707290082242,\n        \"max\": 556.9274065200127,\n        \"num_unique_values\": 8,\n        \"samples\": [\n          493.7835318084858,\n          495.2269842633394,\n          251.0\n        ],\n        \"semantic_type\": \"\",\n        \"description\": \"\"\n      }\n    },\n    {\n      \"column\": \"Volume\",\n      \"properties\": {\n        \"dtype\": \"number\",\n        \"std\": 11397556.095997553,\n        \"min\": 251.0,\n        \"max\": 35418000.0,\n        \"num_unique_values\": 8,\n        \"samples\": [\n          5423426.693227092,\n          4609500.0,\n          251.0\n        ],\n        \"semantic_type\": \"\",\n        \"description\": \"\"\n      }\n    }\n  ]\n}"
            }
          },
          "metadata": {},
          "execution_count": 18
        }
      ]
    },
    {
      "cell_type": "markdown",
      "source": [
        "---\n",
        "##Statistics per month"
      ],
      "metadata": {
        "id": "M41gysuyd9k6"
      }
    },
    {
      "cell_type": "markdown",
      "source": [
        "###Calculating the numbers and shwoing them in a bar plot"
      ],
      "metadata": {
        "id": "mKf23TymemQr"
      }
    },
    {
      "cell_type": "markdown",
      "source": [
        "####January"
      ],
      "metadata": {
        "id": "PtLvoXSRaZzn"
      }
    },
    {
      "cell_type": "code",
      "source": [
        "# Save all the January statisitics in to variables\n",
        "jan_open_mean = get_stock_statistics('month', 1, 'Open').mean()\n",
        "jan_close_mean = get_stock_statistics('month', 1, 'Close').mean()\n",
        "jan_high_mean = get_stock_statistics('month', 1, 'Close').mean()\n",
        "jan_low_mean = get_stock_statistics('month', 1, 'Close').mean()\n",
        "jan_volume_mean = get_stock_statistics('month', 1, 'Volume').mean()\n",
        "\n",
        "# Print the statistics\n",
        "print(\"January Avarages :\")\n",
        "print(f\"Open : ${jan_open_mean:.2f}\")\n",
        "print(f\"Close : ${jan_close_mean:.2f}\")\n",
        "print(f\"High : ${jan_high_mean:.2f}\")\n",
        "print(f\"Low : ${jan_low_mean:.2f}\")\n",
        "print(f\"Vloume : {int(jan_volume_mean)} stocks per day\")"
      ],
      "metadata": {
        "colab": {
          "base_uri": "https://localhost:8080/"
        },
        "id": "KiW0fIFYVcn7",
        "outputId": "b6f088a7-54c1-4ebd-98b6-a4776ebb86af"
      },
      "execution_count": 19,
      "outputs": [
        {
          "output_type": "stream",
          "name": "stdout",
          "text": [
            "January Avarages :\n",
            "Open : $433.88\n",
            "Close : $434.29\n",
            "High : $434.29\n",
            "Low : $434.29\n",
            "Vloume : 5391885 stocks per day\n"
          ]
        }
      ]
    },
    {
      "cell_type": "markdown",
      "source": [
        "####February"
      ],
      "metadata": {
        "id": "1EqgWyskaebJ"
      }
    },
    {
      "cell_type": "code",
      "source": [
        "# Save all the February statisitics in to variables\n",
        "feb_open_mean = get_stock_statistics('month', 2, 'Open').mean()\n",
        "feb_close_mean = get_stock_statistics('month', 2, 'Close').mean()\n",
        "feb_high_mean = get_stock_statistics('month', 2, 'High').mean()\n",
        "feb_low_mean = get_stock_statistics('month', 2, 'Low').mean()\n",
        "feb_volume_mean = get_stock_statistics('month', 2, 'Volume').mean()\n",
        "\n",
        "# Print the statistics\n",
        "print(\"February Avarages :\")\n",
        "print(f\"Open : ${feb_open_mean:.2f}\")\n",
        "print(f\"Close : ${feb_close_mean:.2f}\")\n",
        "print(f\"High : ${feb_high_mean:.2f}\")\n",
        "print(f\"Low : ${feb_low_mean:.2f}\")\n",
        "print(f\"Vloume : {int(feb_volume_mean)} stocks per day\")"
      ],
      "metadata": {
        "colab": {
          "base_uri": "https://localhost:8080/"
        },
        "id": "j1sVeAuEae0P",
        "outputId": "6608cb89-eb55-4493-a8be-aa2389ee62a6"
      },
      "execution_count": 20,
      "outputs": [
        {
          "output_type": "stream",
          "name": "stdout",
          "text": [
            "February Avarages :\n",
            "Open : $452.81\n",
            "Close : $453.55\n",
            "High : $454.61\n",
            "Low : $451.24\n",
            "Vloume : 5173430 stocks per day\n"
          ]
        }
      ]
    },
    {
      "cell_type": "markdown",
      "source": [
        "####March"
      ],
      "metadata": {
        "id": "_tDPy3oQai1R"
      }
    },
    {
      "cell_type": "code",
      "source": [
        "# Save all the March statisitics in to variables\n",
        "mar_open_mean = get_stock_statistics('month', 3, 'Open').mean()\n",
        "mar_close_mean = get_stock_statistics('month', 3, 'Close').mean()\n",
        "mar_high_mean = get_stock_statistics('month', 3, 'High').mean()\n",
        "mar_low_mean = get_stock_statistics('month', 3, 'Low').mean()\n",
        "mar_volume_mean = get_stock_statistics('month', 3, 'Low').mean()\n",
        "\n",
        "# Print the statistics\n",
        "print(\"March Avarages :\")\n",
        "print(f\"Open : ${mar_open_mean:.2f}\")\n",
        "print(f\"Close : ${mar_close_mean:.2f}\")\n",
        "print(f\"High : ${mar_high_mean:.2f}\")\n",
        "print(f\"Low : ${mar_low_mean:.2f}\")\n",
        "print(f\"Vloume : {int(mar_volume_mean)} stocks per day\")"
      ],
      "metadata": {
        "colab": {
          "base_uri": "https://localhost:8080/"
        },
        "id": "2l7wtSsSaklw",
        "outputId": "0c66aa36-4272-4260-ffcc-a03c13bf4692"
      },
      "execution_count": 21,
      "outputs": [
        {
          "output_type": "stream",
          "name": "stdout",
          "text": [
            "March Avarages :\n",
            "Open : $468.49\n",
            "Close : $468.63\n",
            "High : $470.17\n",
            "Low : $466.73\n",
            "Vloume : 466 stocks per day\n"
          ]
        }
      ]
    },
    {
      "cell_type": "markdown",
      "source": [
        "####April"
      ],
      "metadata": {
        "id": "XXomsdL3alDs"
      }
    },
    {
      "cell_type": "code",
      "source": [
        "# Save all the April statisitics in to variables\n",
        "apr_open_mean = get_stock_statistics('month', 4, 'Open').mean()\n",
        "apr_close_mean = get_stock_statistics('month', 4, 'Close').mean()\n",
        "apr_high_mean = get_stock_statistics('month', 4, 'High').mean()\n",
        "apr_low_mean = get_stock_statistics('month', 4, 'Low').mean()\n",
        "apr_volume_mean = get_stock_statistics('month', 4, 'Volume').mean()\n",
        "\n",
        "# Print the statistics\n",
        "print(\"April Avarages :\")\n",
        "print(f\"Open : ${apr_open_mean:.2f}\")\n",
        "print(f\"Close : ${apr_close_mean:.2f}\")\n",
        "print(f\"High : ${apr_high_mean:.2f}\")\n",
        "print(f\"Low : ${apr_low_mean:.2f}\")\n",
        "print(f\"Vloume : {int(apr_volume_mean)} stocks per day\")"
      ],
      "metadata": {
        "colab": {
          "base_uri": "https://localhost:8080/"
        },
        "id": "NY06MGWeam-S",
        "outputId": "1d8036e0-e055-4bb8-d8c1-d3c168b8630e"
      },
      "execution_count": 22,
      "outputs": [
        {
          "output_type": "stream",
          "name": "stdout",
          "text": [
            "April Avarages :\n",
            "Open : $464.92\n",
            "Close : $463.75\n",
            "High : $466.77\n",
            "Low : $461.54\n",
            "Vloume : 6010645 stocks per day\n"
          ]
        }
      ]
    },
    {
      "cell_type": "markdown",
      "source": [
        "####May"
      ],
      "metadata": {
        "id": "HK5Bmx3Ra3vp"
      }
    },
    {
      "cell_type": "code",
      "source": [
        "# Save all the May statisitics in to variables\n",
        "may_open_mean = get_stock_statistics('month', 5, 'Open').mean()\n",
        "may_close_mean = get_stock_statistics('month', 5, 'Close').mean()\n",
        "may_high_mean = get_stock_statistics('month', 5, 'High').mean()\n",
        "may_low_mean = get_stock_statistics('month', 5, 'Low').mean()\n",
        "may_volume_mean = get_stock_statistics('month', 5, 'Volume').mean()\n",
        "\n",
        "# Print the statistics\n",
        "print(\"May Avarages :\")\n",
        "print(f\"Open : ${may_open_mean:.2f}\")\n",
        "print(f\"Close : ${may_close_mean:.2f}\")\n",
        "print(f\"High : ${may_high_mean:.2f}\")\n",
        "print(f\"Low : ${may_low_mean:.2f}\")\n",
        "print(f\"Vloume : {int(may_volume_mean)} stocks per day\")"
      ],
      "metadata": {
        "colab": {
          "base_uri": "https://localhost:8080/"
        },
        "id": "jY3WY27Ua8Z7",
        "outputId": "c31b1b71-d3fc-4b12-da76-eb8cb2bf6f04"
      },
      "execution_count": 23,
      "outputs": [
        {
          "output_type": "stream",
          "name": "stdout",
          "text": [
            "May Avarages :\n",
            "Open : $475.14\n",
            "Close : $475.50\n",
            "High : $476.93\n",
            "Low : $473.30\n",
            "Vloume : 3789881 stocks per day\n"
          ]
        }
      ]
    },
    {
      "cell_type": "markdown",
      "source": [
        "####June"
      ],
      "metadata": {
        "id": "qLS5K9REbAFq"
      }
    },
    {
      "cell_type": "code",
      "source": [
        "# Save all the June statisitics in to variables\n",
        "jun_open_mean = get_stock_statistics('month', 6, 'Open').mean()\n",
        "jun_close_mean = get_stock_statistics('month', 6, 'Close').mean()\n",
        "jun_high_mean = get_stock_statistics('month', 6, 'High').mean()\n",
        "jun_low_mean = get_stock_statistics('month', 6, 'Low').mean()\n",
        "jun_volume_mean = get_stock_statistics('month', 6, 'Volume').mean()\n",
        "\n",
        "# Print the statistics\n",
        "print(\"June Avarages :\")\n",
        "print(f\"Open : ${jun_open_mean:.2f}\")\n",
        "print(f\"Close : ${jun_close_mean:.2f}\")\n",
        "print(f\"High : ${jun_high_mean:.2f}\")\n",
        "print(f\"Low : ${jun_low_mean:.2f}\")\n",
        "print(f\"Vloume : {int(jun_volume_mean)} stocks per day\")"
      ],
      "metadata": {
        "colab": {
          "base_uri": "https://localhost:8080/"
        },
        "id": "pEKCTuU4bB2W",
        "outputId": "e9198f81-a1db-4f65-e5ea-0b92b90df92a"
      },
      "execution_count": 24,
      "outputs": [
        {
          "output_type": "stream",
          "name": "stdout",
          "text": [
            "June Avarages :\n",
            "Open : $491.86\n",
            "Close : $492.46\n",
            "High : $493.83\n",
            "Low : $490.06\n",
            "Vloume : 5421000 stocks per day\n"
          ]
        }
      ]
    },
    {
      "cell_type": "markdown",
      "source": [
        "####July"
      ],
      "metadata": {
        "id": "OkrwgclVbCP9"
      }
    },
    {
      "cell_type": "code",
      "source": [
        "# Save all the July statisitics in to variables\n",
        "jul_open_mean = get_stock_statistics('month', 7, 'Open').mean()\n",
        "jul_close_mean = get_stock_statistics('month', 7, 'Close').mean()\n",
        "jul_high_mean = get_stock_statistics('month', 7, 'High').mean()\n",
        "jul_low_mean = get_stock_statistics('month', 7, 'Low').mean()\n",
        "jul_volume_mean = get_stock_statistics('month', 7, 'Volume').mean()\n",
        "\n",
        "# Print the statistics\n",
        "print(\"July Avarages :\")\n",
        "print(f\"Open : ${jul_open_mean:.2f}\")\n",
        "print(f\"Close : ${jul_close_mean:.2f}\")\n",
        "print(f\"High : ${jul_high_mean:.2f}\")\n",
        "print(f\"Low : ${jul_low_mean:.2f}\")\n",
        "print(f\"Vloume : {int(jul_volume_mean)} stocks per day\")"
      ],
      "metadata": {
        "colab": {
          "base_uri": "https://localhost:8080/"
        },
        "id": "eoeu9abXbDye",
        "outputId": "63d81fdd-c30a-4cf5-c9de-cc4799ef841f"
      },
      "execution_count": 25,
      "outputs": [
        {
          "output_type": "stream",
          "name": "stdout",
          "text": [
            "July Avarages :\n",
            "Open : $504.52\n",
            "Close : $504.12\n",
            "High : $506.88\n",
            "Low : $502.07\n",
            "Vloume : 4344063 stocks per day\n"
          ]
        }
      ]
    },
    {
      "cell_type": "markdown",
      "source": [
        "####August"
      ],
      "metadata": {
        "id": "ien3A0LebEET"
      }
    },
    {
      "cell_type": "code",
      "source": [
        "# Save all the August statisitics in to variables\n",
        "aug_open_mean = get_stock_statistics('month', 8, 'Open').mean()\n",
        "aug_close_mean = get_stock_statistics('month', 8, 'Close').mean()\n",
        "aug_high_mean = get_stock_statistics('month', 8, 'High').mean()\n",
        "aug_low_mean = get_stock_statistics('month', 8, 'Low').mean()\n",
        "aug_volume_mean = get_stock_statistics('month', 8, 'Volume').mean()\n",
        "\n",
        "# Print the statistics\n",
        "print(\"August Avarages :\")\n",
        "print(f\"Open : ${aug_open_mean:.2f}\")\n",
        "print(f\"Close : ${aug_close_mean:.2f}\")\n",
        "print(f\"High : ${aug_high_mean:.2f}\")\n",
        "print(f\"Low : ${aug_low_mean:.2f}\")\n",
        "print(f\"Vloume : {int(aug_volume_mean)} stocks per day\")"
      ],
      "metadata": {
        "colab": {
          "base_uri": "https://localhost:8080/"
        },
        "id": "SNATA7H-bHrJ",
        "outputId": "36203e5f-2c1b-44a5-d055-a24ed1ddeffb"
      },
      "execution_count": 26,
      "outputs": [
        {
          "output_type": "stream",
          "name": "stdout",
          "text": [
            "August Avarages :\n",
            "Open : $498.87\n",
            "Close : $499.16\n",
            "High : $502.24\n",
            "Low : $495.70\n",
            "Vloume : 5165877 stocks per day\n"
          ]
        }
      ]
    },
    {
      "cell_type": "markdown",
      "source": [
        "####September"
      ],
      "metadata": {
        "id": "6bKgEG9qbICD"
      }
    },
    {
      "cell_type": "code",
      "source": [
        "# Save all the Spetember statisitics in to variables\n",
        "sep_open_mean = get_stock_statistics('month', 9, 'Open').mean()\n",
        "sep_close_mean = get_stock_statistics('month', 9, 'Close').mean()\n",
        "sep_high_mean = get_stock_statistics('month', 9, 'High').mean()\n",
        "sep_low_mean = get_stock_statistics('month', 9, 'Low').mean()\n",
        "sep_volume_mean = get_stock_statistics('month', 9, 'Volume').mean()\n",
        "\n",
        "# Print the statistics\n",
        "print(\"Spetember Avarages :\")\n",
        "print(f\"Open : ${sep_open_mean:.2f}\")\n",
        "print(f\"Close : ${sep_close_mean:.2f}\")\n",
        "print(f\"High : ${sep_high_mean:.2f}\")\n",
        "print(f\"Low : ${sep_low_mean:.2f}\")\n",
        "print(f\"Vloume : {int(sep_volume_mean)} stocks per day\")"
      ],
      "metadata": {
        "colab": {
          "base_uri": "https://localhost:8080/"
        },
        "id": "aZB35TJybJsb",
        "outputId": "6de48c1a-b965-4aa5-e3ec-1ec1c425c1f0"
      },
      "execution_count": 27,
      "outputs": [
        {
          "output_type": "stream",
          "name": "stdout",
          "text": [
            "Spetember Avarages :\n",
            "Open : $513.26\n",
            "Close : $512.91\n",
            "High : $515.37\n",
            "Low : $509.85\n",
            "Vloume : 8007600 stocks per day\n"
          ]
        }
      ]
    },
    {
      "cell_type": "markdown",
      "source": [
        "####October"
      ],
      "metadata": {
        "id": "QCFtT7VvbKEH"
      }
    },
    {
      "cell_type": "code",
      "source": [
        "# Save all the OCtober statisitics in to variables\n",
        "oct_open_mean = get_stock_statistics('month', 10, 'Open').mean()\n",
        "oct_close_mean = get_stock_statistics('month', 10, 'Close').mean()\n",
        "oct_high_mean = get_stock_statistics('month', 10, 'High').mean()\n",
        "oct_low_mean = get_stock_statistics('month', 10, 'Low').mean()\n",
        "oct_volume_mean = get_stock_statistics('month', 10, 'Volume').mean()\n",
        "\n",
        "# Print the statistics\n",
        "print(\"October Avarages :\")\n",
        "print(f\"Open : ${oct_open_mean:.2f}\")\n",
        "print(f\"Close : ${oct_close_mean:.2f}\")\n",
        "print(f\"High : ${oct_high_mean:.2f}\")\n",
        "print(f\"Low : ${oct_low_mean:.2f}\")\n",
        "print(f\"Vloume : {int(oct_volume_mean)} stocks per day\")"
      ],
      "metadata": {
        "colab": {
          "base_uri": "https://localhost:8080/"
        },
        "id": "go5N8NJ1bN-Q",
        "outputId": "ae44c4f8-5874-4d30-ffb3-96df0f81f774"
      },
      "execution_count": 28,
      "outputs": [
        {
          "output_type": "stream",
          "name": "stdout",
          "text": [
            "October Avarages :\n",
            "Open : $529.47\n",
            "Close : $529.03\n",
            "High : $531.14\n",
            "Low : $526.83\n",
            "Vloume : 4259426 stocks per day\n"
          ]
        }
      ]
    },
    {
      "cell_type": "markdown",
      "source": [
        "####November"
      ],
      "metadata": {
        "id": "8BaZQ1JgbOS5"
      }
    },
    {
      "cell_type": "code",
      "source": [
        "# Save all the November statisitics in to variables\n",
        "nov_open_mean = get_stock_statistics('month', 11, 'Open').mean()\n",
        "nov_close_mean = get_stock_statistics('month', 11, 'Close').mean()\n",
        "nov_high_mean = get_stock_statistics('month', 11, 'High').mean()\n",
        "nov_low_mean = get_stock_statistics('month', 11, 'Low').mean()\n",
        "nov_volume_mean = get_stock_statistics('month', 11, 'Volume').mean()\n",
        "\n",
        "# Print the statistics\n",
        "print(\"November Avarages :\")\n",
        "print(f\"Open : ${nov_open_mean:.2f}\")\n",
        "print(f\"Close : ${nov_close_mean:.2f}\")\n",
        "print(f\"High : ${nov_high_mean:.2f}\")\n",
        "print(f\"Low : ${nov_low_mean:.2f}\")\n",
        "print(f\"Vloume : {int(nov_volume_mean)} stocks per day\")"
      ],
      "metadata": {
        "colab": {
          "base_uri": "https://localhost:8080/"
        },
        "id": "sERNg1BcbQSr",
        "outputId": "ac655263-2f5d-4f4e-b328-3683a6623b82"
      },
      "execution_count": 29,
      "outputs": [
        {
          "output_type": "stream",
          "name": "stdout",
          "text": [
            "November Avarages :\n",
            "Open : $541.65\n",
            "Close : $542.11\n",
            "High : $543.80\n",
            "Low : $539.35\n",
            "Vloume : 4985820 stocks per day\n"
          ]
        }
      ]
    },
    {
      "cell_type": "markdown",
      "source": [
        "####December"
      ],
      "metadata": {
        "id": "ct0R6RCubQqM"
      }
    },
    {
      "cell_type": "code",
      "source": [
        "# Save all the December statisitics in to variables\n",
        "dec_open_mean = get_stock_statistics('month', 12, 'Open').mean()\n",
        "dec_close_mean = get_stock_statistics('month', 12, 'Close').mean()\n",
        "dec_high_mean = get_stock_statistics('month', 12, 'High').mean()\n",
        "dec_low_mean = get_stock_statistics('month', 12, 'Low').mean()\n",
        "dec_volume_mean = get_stock_statistics('month', 12, 'Volume').mean()\n",
        "\n",
        "# Print the statistics\n",
        "print(\"December Avarages :\")\n",
        "print(f\"Open : ${dec_open_mean:.2f}\")\n",
        "print(f\"Close : ${dec_close_mean:.2f}\")\n",
        "print(f\"High : ${dec_high_mean:.2f}\")\n",
        "print(f\"Low : ${dec_low_mean:.2f}\")\n",
        "print(f\"Vloume : {int(dec_volume_mean)} stocks per day\")"
      ],
      "metadata": {
        "colab": {
          "base_uri": "https://localhost:8080/"
        },
        "id": "kkFa9w42dxyu",
        "outputId": "14a73993-591d-451a-fc90-1306a6ade5ff"
      },
      "execution_count": 30,
      "outputs": [
        {
          "output_type": "stream",
          "name": "stdout",
          "text": [
            "December Avarages :\n",
            "Open : $551.23\n",
            "Close : $550.81\n",
            "High : $553.47\n",
            "Low : $548.53\n",
            "Vloume : 7617200 stocks per day\n"
          ]
        }
      ]
    },
    {
      "cell_type": "markdown",
      "source": [
        "##Comparing the statistical data using bar plots"
      ],
      "metadata": {
        "id": "HJorfzcOivhV"
      }
    },
    {
      "cell_type": "code",
      "source": [
        "monthly_means = snp.groupby(snp.index.month)[['High', 'Low', 'Open', 'Close', 'Volume']].mean()"
      ],
      "metadata": {
        "id": "VH8bL1yznU13"
      },
      "execution_count": 31,
      "outputs": []
    },
    {
      "cell_type": "code",
      "source": [
        "monthly_means"
      ],
      "metadata": {
        "colab": {
          "base_uri": "https://localhost:8080/",
          "height": 457
        },
        "id": "o4dmI14JoOk2",
        "outputId": "18e23ff3-9113-485f-ab76-5e06445a19cf"
      },
      "execution_count": 32,
      "outputs": [
        {
          "output_type": "execute_result",
          "data": {
            "text/plain": [
              "Price        High         Low        Open       Close        Volume\n",
              "Date                                                               \n",
              "1      435.722676  432.296304  433.879298  434.291029  5.391886e+06\n",
              "2      454.608449  451.236787  452.808124  453.545926  5.173430e+06\n",
              "3      470.167492  466.732930  468.494281  468.631181  5.328670e+06\n",
              "4      466.773379  461.537049  464.918561  463.745629  6.010645e+06\n",
              "5      476.926919  473.295606  475.141866  475.504189  3.789882e+06\n",
              "6      493.826712  490.055434  491.863530  492.463898  5.421000e+06\n",
              "7      506.879654  502.072335  504.521389  504.115319  4.344064e+06\n",
              "8      502.241715  495.701731  498.871224  499.157596  5.165877e+06\n",
              "9      515.365566  509.854493  513.263192  512.909183  8.007600e+06\n",
              "10     531.136463  526.831982  529.470927  529.031895  4.259426e+06\n",
              "11     543.801902  539.345660  541.652276  542.105829  4.985820e+06\n",
              "12     553.470732  548.526328  551.231924  550.805640  7.617200e+06"
            ],
            "text/html": [
              "\n",
              "  <div id=\"df-6b9ea9fc-c633-4f97-9365-6b2f8e7e82f2\" class=\"colab-df-container\">\n",
              "    <div>\n",
              "<style scoped>\n",
              "    .dataframe tbody tr th:only-of-type {\n",
              "        vertical-align: middle;\n",
              "    }\n",
              "\n",
              "    .dataframe tbody tr th {\n",
              "        vertical-align: top;\n",
              "    }\n",
              "\n",
              "    .dataframe thead th {\n",
              "        text-align: right;\n",
              "    }\n",
              "</style>\n",
              "<table border=\"1\" class=\"dataframe\">\n",
              "  <thead>\n",
              "    <tr style=\"text-align: right;\">\n",
              "      <th>Price</th>\n",
              "      <th>High</th>\n",
              "      <th>Low</th>\n",
              "      <th>Open</th>\n",
              "      <th>Close</th>\n",
              "      <th>Volume</th>\n",
              "    </tr>\n",
              "    <tr>\n",
              "      <th>Date</th>\n",
              "      <th></th>\n",
              "      <th></th>\n",
              "      <th></th>\n",
              "      <th></th>\n",
              "      <th></th>\n",
              "    </tr>\n",
              "  </thead>\n",
              "  <tbody>\n",
              "    <tr>\n",
              "      <th>1</th>\n",
              "      <td>435.722676</td>\n",
              "      <td>432.296304</td>\n",
              "      <td>433.879298</td>\n",
              "      <td>434.291029</td>\n",
              "      <td>5.391886e+06</td>\n",
              "    </tr>\n",
              "    <tr>\n",
              "      <th>2</th>\n",
              "      <td>454.608449</td>\n",
              "      <td>451.236787</td>\n",
              "      <td>452.808124</td>\n",
              "      <td>453.545926</td>\n",
              "      <td>5.173430e+06</td>\n",
              "    </tr>\n",
              "    <tr>\n",
              "      <th>3</th>\n",
              "      <td>470.167492</td>\n",
              "      <td>466.732930</td>\n",
              "      <td>468.494281</td>\n",
              "      <td>468.631181</td>\n",
              "      <td>5.328670e+06</td>\n",
              "    </tr>\n",
              "    <tr>\n",
              "      <th>4</th>\n",
              "      <td>466.773379</td>\n",
              "      <td>461.537049</td>\n",
              "      <td>464.918561</td>\n",
              "      <td>463.745629</td>\n",
              "      <td>6.010645e+06</td>\n",
              "    </tr>\n",
              "    <tr>\n",
              "      <th>5</th>\n",
              "      <td>476.926919</td>\n",
              "      <td>473.295606</td>\n",
              "      <td>475.141866</td>\n",
              "      <td>475.504189</td>\n",
              "      <td>3.789882e+06</td>\n",
              "    </tr>\n",
              "    <tr>\n",
              "      <th>6</th>\n",
              "      <td>493.826712</td>\n",
              "      <td>490.055434</td>\n",
              "      <td>491.863530</td>\n",
              "      <td>492.463898</td>\n",
              "      <td>5.421000e+06</td>\n",
              "    </tr>\n",
              "    <tr>\n",
              "      <th>7</th>\n",
              "      <td>506.879654</td>\n",
              "      <td>502.072335</td>\n",
              "      <td>504.521389</td>\n",
              "      <td>504.115319</td>\n",
              "      <td>4.344064e+06</td>\n",
              "    </tr>\n",
              "    <tr>\n",
              "      <th>8</th>\n",
              "      <td>502.241715</td>\n",
              "      <td>495.701731</td>\n",
              "      <td>498.871224</td>\n",
              "      <td>499.157596</td>\n",
              "      <td>5.165877e+06</td>\n",
              "    </tr>\n",
              "    <tr>\n",
              "      <th>9</th>\n",
              "      <td>515.365566</td>\n",
              "      <td>509.854493</td>\n",
              "      <td>513.263192</td>\n",
              "      <td>512.909183</td>\n",
              "      <td>8.007600e+06</td>\n",
              "    </tr>\n",
              "    <tr>\n",
              "      <th>10</th>\n",
              "      <td>531.136463</td>\n",
              "      <td>526.831982</td>\n",
              "      <td>529.470927</td>\n",
              "      <td>529.031895</td>\n",
              "      <td>4.259426e+06</td>\n",
              "    </tr>\n",
              "    <tr>\n",
              "      <th>11</th>\n",
              "      <td>543.801902</td>\n",
              "      <td>539.345660</td>\n",
              "      <td>541.652276</td>\n",
              "      <td>542.105829</td>\n",
              "      <td>4.985820e+06</td>\n",
              "    </tr>\n",
              "    <tr>\n",
              "      <th>12</th>\n",
              "      <td>553.470732</td>\n",
              "      <td>548.526328</td>\n",
              "      <td>551.231924</td>\n",
              "      <td>550.805640</td>\n",
              "      <td>7.617200e+06</td>\n",
              "    </tr>\n",
              "  </tbody>\n",
              "</table>\n",
              "</div>\n",
              "    <div class=\"colab-df-buttons\">\n",
              "\n",
              "  <div class=\"colab-df-container\">\n",
              "    <button class=\"colab-df-convert\" onclick=\"convertToInteractive('df-6b9ea9fc-c633-4f97-9365-6b2f8e7e82f2')\"\n",
              "            title=\"Convert this dataframe to an interactive table.\"\n",
              "            style=\"display:none;\">\n",
              "\n",
              "  <svg xmlns=\"http://www.w3.org/2000/svg\" height=\"24px\" viewBox=\"0 -960 960 960\">\n",
              "    <path d=\"M120-120v-720h720v720H120Zm60-500h600v-160H180v160Zm220 220h160v-160H400v160Zm0 220h160v-160H400v160ZM180-400h160v-160H180v160Zm440 0h160v-160H620v160ZM180-180h160v-160H180v160Zm440 0h160v-160H620v160Z\"/>\n",
              "  </svg>\n",
              "    </button>\n",
              "\n",
              "  <style>\n",
              "    .colab-df-container {\n",
              "      display:flex;\n",
              "      gap: 12px;\n",
              "    }\n",
              "\n",
              "    .colab-df-convert {\n",
              "      background-color: #E8F0FE;\n",
              "      border: none;\n",
              "      border-radius: 50%;\n",
              "      cursor: pointer;\n",
              "      display: none;\n",
              "      fill: #1967D2;\n",
              "      height: 32px;\n",
              "      padding: 0 0 0 0;\n",
              "      width: 32px;\n",
              "    }\n",
              "\n",
              "    .colab-df-convert:hover {\n",
              "      background-color: #E2EBFA;\n",
              "      box-shadow: 0px 1px 2px rgba(60, 64, 67, 0.3), 0px 1px 3px 1px rgba(60, 64, 67, 0.15);\n",
              "      fill: #174EA6;\n",
              "    }\n",
              "\n",
              "    .colab-df-buttons div {\n",
              "      margin-bottom: 4px;\n",
              "    }\n",
              "\n",
              "    [theme=dark] .colab-df-convert {\n",
              "      background-color: #3B4455;\n",
              "      fill: #D2E3FC;\n",
              "    }\n",
              "\n",
              "    [theme=dark] .colab-df-convert:hover {\n",
              "      background-color: #434B5C;\n",
              "      box-shadow: 0px 1px 3px 1px rgba(0, 0, 0, 0.15);\n",
              "      filter: drop-shadow(0px 1px 2px rgba(0, 0, 0, 0.3));\n",
              "      fill: #FFFFFF;\n",
              "    }\n",
              "  </style>\n",
              "\n",
              "    <script>\n",
              "      const buttonEl =\n",
              "        document.querySelector('#df-6b9ea9fc-c633-4f97-9365-6b2f8e7e82f2 button.colab-df-convert');\n",
              "      buttonEl.style.display =\n",
              "        google.colab.kernel.accessAllowed ? 'block' : 'none';\n",
              "\n",
              "      async function convertToInteractive(key) {\n",
              "        const element = document.querySelector('#df-6b9ea9fc-c633-4f97-9365-6b2f8e7e82f2');\n",
              "        const dataTable =\n",
              "          await google.colab.kernel.invokeFunction('convertToInteractive',\n",
              "                                                    [key], {});\n",
              "        if (!dataTable) return;\n",
              "\n",
              "        const docLinkHtml = 'Like what you see? Visit the ' +\n",
              "          '<a target=\"_blank\" href=https://colab.research.google.com/notebooks/data_table.ipynb>data table notebook</a>'\n",
              "          + ' to learn more about interactive tables.';\n",
              "        element.innerHTML = '';\n",
              "        dataTable['output_type'] = 'display_data';\n",
              "        await google.colab.output.renderOutput(dataTable, element);\n",
              "        const docLink = document.createElement('div');\n",
              "        docLink.innerHTML = docLinkHtml;\n",
              "        element.appendChild(docLink);\n",
              "      }\n",
              "    </script>\n",
              "  </div>\n",
              "\n",
              "\n",
              "<div id=\"df-1a14b574-acc5-4dd4-870b-a836018a6664\">\n",
              "  <button class=\"colab-df-quickchart\" onclick=\"quickchart('df-1a14b574-acc5-4dd4-870b-a836018a6664')\"\n",
              "            title=\"Suggest charts\"\n",
              "            style=\"display:none;\">\n",
              "\n",
              "<svg xmlns=\"http://www.w3.org/2000/svg\" height=\"24px\"viewBox=\"0 0 24 24\"\n",
              "     width=\"24px\">\n",
              "    <g>\n",
              "        <path d=\"M19 3H5c-1.1 0-2 .9-2 2v14c0 1.1.9 2 2 2h14c1.1 0 2-.9 2-2V5c0-1.1-.9-2-2-2zM9 17H7v-7h2v7zm4 0h-2V7h2v10zm4 0h-2v-4h2v4z\"/>\n",
              "    </g>\n",
              "</svg>\n",
              "  </button>\n",
              "\n",
              "<style>\n",
              "  .colab-df-quickchart {\n",
              "      --bg-color: #E8F0FE;\n",
              "      --fill-color: #1967D2;\n",
              "      --hover-bg-color: #E2EBFA;\n",
              "      --hover-fill-color: #174EA6;\n",
              "      --disabled-fill-color: #AAA;\n",
              "      --disabled-bg-color: #DDD;\n",
              "  }\n",
              "\n",
              "  [theme=dark] .colab-df-quickchart {\n",
              "      --bg-color: #3B4455;\n",
              "      --fill-color: #D2E3FC;\n",
              "      --hover-bg-color: #434B5C;\n",
              "      --hover-fill-color: #FFFFFF;\n",
              "      --disabled-bg-color: #3B4455;\n",
              "      --disabled-fill-color: #666;\n",
              "  }\n",
              "\n",
              "  .colab-df-quickchart {\n",
              "    background-color: var(--bg-color);\n",
              "    border: none;\n",
              "    border-radius: 50%;\n",
              "    cursor: pointer;\n",
              "    display: none;\n",
              "    fill: var(--fill-color);\n",
              "    height: 32px;\n",
              "    padding: 0;\n",
              "    width: 32px;\n",
              "  }\n",
              "\n",
              "  .colab-df-quickchart:hover {\n",
              "    background-color: var(--hover-bg-color);\n",
              "    box-shadow: 0 1px 2px rgba(60, 64, 67, 0.3), 0 1px 3px 1px rgba(60, 64, 67, 0.15);\n",
              "    fill: var(--button-hover-fill-color);\n",
              "  }\n",
              "\n",
              "  .colab-df-quickchart-complete:disabled,\n",
              "  .colab-df-quickchart-complete:disabled:hover {\n",
              "    background-color: var(--disabled-bg-color);\n",
              "    fill: var(--disabled-fill-color);\n",
              "    box-shadow: none;\n",
              "  }\n",
              "\n",
              "  .colab-df-spinner {\n",
              "    border: 2px solid var(--fill-color);\n",
              "    border-color: transparent;\n",
              "    border-bottom-color: var(--fill-color);\n",
              "    animation:\n",
              "      spin 1s steps(1) infinite;\n",
              "  }\n",
              "\n",
              "  @keyframes spin {\n",
              "    0% {\n",
              "      border-color: transparent;\n",
              "      border-bottom-color: var(--fill-color);\n",
              "      border-left-color: var(--fill-color);\n",
              "    }\n",
              "    20% {\n",
              "      border-color: transparent;\n",
              "      border-left-color: var(--fill-color);\n",
              "      border-top-color: var(--fill-color);\n",
              "    }\n",
              "    30% {\n",
              "      border-color: transparent;\n",
              "      border-left-color: var(--fill-color);\n",
              "      border-top-color: var(--fill-color);\n",
              "      border-right-color: var(--fill-color);\n",
              "    }\n",
              "    40% {\n",
              "      border-color: transparent;\n",
              "      border-right-color: var(--fill-color);\n",
              "      border-top-color: var(--fill-color);\n",
              "    }\n",
              "    60% {\n",
              "      border-color: transparent;\n",
              "      border-right-color: var(--fill-color);\n",
              "    }\n",
              "    80% {\n",
              "      border-color: transparent;\n",
              "      border-right-color: var(--fill-color);\n",
              "      border-bottom-color: var(--fill-color);\n",
              "    }\n",
              "    90% {\n",
              "      border-color: transparent;\n",
              "      border-bottom-color: var(--fill-color);\n",
              "    }\n",
              "  }\n",
              "</style>\n",
              "\n",
              "  <script>\n",
              "    async function quickchart(key) {\n",
              "      const quickchartButtonEl =\n",
              "        document.querySelector('#' + key + ' button');\n",
              "      quickchartButtonEl.disabled = true;  // To prevent multiple clicks.\n",
              "      quickchartButtonEl.classList.add('colab-df-spinner');\n",
              "      try {\n",
              "        const charts = await google.colab.kernel.invokeFunction(\n",
              "            'suggestCharts', [key], {});\n",
              "      } catch (error) {\n",
              "        console.error('Error during call to suggestCharts:', error);\n",
              "      }\n",
              "      quickchartButtonEl.classList.remove('colab-df-spinner');\n",
              "      quickchartButtonEl.classList.add('colab-df-quickchart-complete');\n",
              "    }\n",
              "    (() => {\n",
              "      let quickchartButtonEl =\n",
              "        document.querySelector('#df-1a14b574-acc5-4dd4-870b-a836018a6664 button');\n",
              "      quickchartButtonEl.style.display =\n",
              "        google.colab.kernel.accessAllowed ? 'block' : 'none';\n",
              "    })();\n",
              "  </script>\n",
              "</div>\n",
              "\n",
              "  <div id=\"id_213d7874-99d2-4046-a856-a5be4ecf441b\">\n",
              "    <style>\n",
              "      .colab-df-generate {\n",
              "        background-color: #E8F0FE;\n",
              "        border: none;\n",
              "        border-radius: 50%;\n",
              "        cursor: pointer;\n",
              "        display: none;\n",
              "        fill: #1967D2;\n",
              "        height: 32px;\n",
              "        padding: 0 0 0 0;\n",
              "        width: 32px;\n",
              "      }\n",
              "\n",
              "      .colab-df-generate:hover {\n",
              "        background-color: #E2EBFA;\n",
              "        box-shadow: 0px 1px 2px rgba(60, 64, 67, 0.3), 0px 1px 3px 1px rgba(60, 64, 67, 0.15);\n",
              "        fill: #174EA6;\n",
              "      }\n",
              "\n",
              "      [theme=dark] .colab-df-generate {\n",
              "        background-color: #3B4455;\n",
              "        fill: #D2E3FC;\n",
              "      }\n",
              "\n",
              "      [theme=dark] .colab-df-generate:hover {\n",
              "        background-color: #434B5C;\n",
              "        box-shadow: 0px 1px 3px 1px rgba(0, 0, 0, 0.15);\n",
              "        filter: drop-shadow(0px 1px 2px rgba(0, 0, 0, 0.3));\n",
              "        fill: #FFFFFF;\n",
              "      }\n",
              "    </style>\n",
              "    <button class=\"colab-df-generate\" onclick=\"generateWithVariable('monthly_means')\"\n",
              "            title=\"Generate code using this dataframe.\"\n",
              "            style=\"display:none;\">\n",
              "\n",
              "  <svg xmlns=\"http://www.w3.org/2000/svg\" height=\"24px\"viewBox=\"0 0 24 24\"\n",
              "       width=\"24px\">\n",
              "    <path d=\"M7,19H8.4L18.45,9,17,7.55,7,17.6ZM5,21V16.75L18.45,3.32a2,2,0,0,1,2.83,0l1.4,1.43a1.91,1.91,0,0,1,.58,1.4,1.91,1.91,0,0,1-.58,1.4L9.25,21ZM18.45,9,17,7.55Zm-12,3A5.31,5.31,0,0,0,4.9,8.1,5.31,5.31,0,0,0,1,6.5,5.31,5.31,0,0,0,4.9,4.9,5.31,5.31,0,0,0,6.5,1,5.31,5.31,0,0,0,8.1,4.9,5.31,5.31,0,0,0,12,6.5,5.46,5.46,0,0,0,6.5,12Z\"/>\n",
              "  </svg>\n",
              "    </button>\n",
              "    <script>\n",
              "      (() => {\n",
              "      const buttonEl =\n",
              "        document.querySelector('#id_213d7874-99d2-4046-a856-a5be4ecf441b button.colab-df-generate');\n",
              "      buttonEl.style.display =\n",
              "        google.colab.kernel.accessAllowed ? 'block' : 'none';\n",
              "\n",
              "      buttonEl.onclick = () => {\n",
              "        google.colab.notebook.generateWithVariable('monthly_means');\n",
              "      }\n",
              "      })();\n",
              "    </script>\n",
              "  </div>\n",
              "\n",
              "    </div>\n",
              "  </div>\n"
            ],
            "application/vnd.google.colaboratory.intrinsic+json": {
              "type": "dataframe",
              "variable_name": "monthly_means",
              "summary": "{\n  \"name\": \"monthly_means\",\n  \"rows\": 12,\n  \"fields\": [\n    {\n      \"column\": \"Date\",\n      \"properties\": {\n        \"dtype\": \"int32\",\n        \"num_unique_values\": 12,\n        \"samples\": [\n          11,\n          10,\n          1\n        ],\n        \"semantic_type\": \"\",\n        \"description\": \"\"\n      }\n    },\n    {\n      \"column\": \"High\",\n      \"properties\": {\n        \"dtype\": \"number\",\n        \"std\": 36.42098269310654,\n        \"min\": 435.7226755946085,\n        \"max\": 553.470732044311,\n        \"num_unique_values\": 12,\n        \"samples\": [\n          543.8019015339546,\n          531.1364628085327,\n          435.7226755946085\n        ],\n        \"semantic_type\": \"\",\n        \"description\": \"\"\n      }\n    },\n    {\n      \"column\": \"Low\",\n      \"properties\": {\n        \"dtype\": \"number\",\n        \"std\": 35.96302312290766,\n        \"min\": 432.29630371570784,\n        \"max\": 548.5263280212658,\n        \"num_unique_values\": 12,\n        \"samples\": [\n          539.3456603043112,\n          526.8319820203927,\n          432.29630371570784\n        ],\n        \"semantic_type\": \"\",\n        \"description\": \"\"\n      }\n    },\n    {\n      \"column\": \"Open\",\n      \"properties\": {\n        \"dtype\": \"number\",\n        \"std\": 36.278415309432305,\n        \"min\": 433.8792981472404,\n        \"max\": 551.2319242114556,\n        \"num_unique_values\": 12,\n        \"samples\": [\n          541.652275687796,\n          529.4709272471251,\n          433.8792981472404\n        ],\n        \"semantic_type\": \"\",\n        \"description\": \"\"\n      }\n    },\n    {\n      \"column\": \"Close\",\n      \"properties\": {\n        \"dtype\": \"number\",\n        \"std\": 36.130541011086464,\n        \"min\": 434.29102870396207,\n        \"max\": 550.8056396484375,\n        \"num_unique_values\": 12,\n        \"samples\": [\n          542.1058288574219,\n          529.0318948496943,\n          434.29102870396207\n        ],\n        \"semantic_type\": \"\",\n        \"description\": \"\"\n      }\n    },\n    {\n      \"column\": \"Volume\",\n      \"properties\": {\n        \"dtype\": \"number\",\n        \"std\": 1255526.320861347,\n        \"min\": 3789881.8181818184,\n        \"max\": 8007600.0,\n        \"num_unique_values\": 12,\n        \"samples\": [\n          4985820.0,\n          4259426.0869565215,\n          5391885.714285715\n        ],\n        \"semantic_type\": \"\",\n        \"description\": \"\"\n      }\n    }\n  ]\n}"
            }
          },
          "metadata": {},
          "execution_count": 32
        }
      ]
    },
    {
      "cell_type": "code",
      "source": [
        "months = monthly_means.index"
      ],
      "metadata": {
        "id": "Qq3_ZOt1rTMu"
      },
      "execution_count": 33,
      "outputs": []
    },
    {
      "cell_type": "markdown",
      "source": [
        "####Open"
      ],
      "metadata": {
        "id": "2tFSUAFIi70T"
      }
    },
    {
      "cell_type": "code",
      "source": [
        "sns.barplot(x=months, y=monthly_means['Open'])\n",
        "plt.xlabel('Month')\n",
        "plt.ylabel('Average Open Price $')\n",
        "plt.title('Average Open Price by Month')\n",
        "plt.show()"
      ],
      "metadata": {
        "colab": {
          "base_uri": "https://localhost:8080/",
          "height": 472
        },
        "id": "uU_QOFJwqzxO",
        "outputId": "f3bb04bb-9e46-4323-aa25-7a48179f6820"
      },
      "execution_count": 34,
      "outputs": [
        {
          "output_type": "display_data",
          "data": {
            "text/plain": [
              "<Figure size 640x480 with 1 Axes>"
            ],
            "image/png": "[encoded data removed]"
          },
          "metadata": {}
        }
      ]
    },
    {
      "cell_type": "markdown",
      "source": [
        "###Close"
      ],
      "metadata": {
        "id": "EJIrjV3SrB4R"
      }
    },
    {
      "cell_type": "code",
      "source": [
        "sns.barplot(x = months, y = monthly_means[\"Close\"])\n",
        "plt.xlabel('Month')\n",
        "plt.ylabel('Average Close Price $')\n",
        "plt.title(\"Average Close Price by Month\")\n",
        "plt.show()"
      ],
      "metadata": {
        "colab": {
          "base_uri": "https://localhost:8080/",
          "height": 472
        },
        "id": "hXhXgpQbrEPd",
        "outputId": "0df9e69b-d13c-4aad-b836-798ebf911cf6"
      },
      "execution_count": 35,
      "outputs": [
        {
          "output_type": "display_data",
          "data": {
            "text/plain": [
              "<Figure size 640x480 with 1 Axes>"
            ],
            "image/png": "[encoded data removed]"
          },
          "metadata": {}
        }
      ]
    },
    {
      "cell_type": "markdown",
      "source": [
        "###High"
      ],
      "metadata": {
        "id": "JrlzBBKArwzx"
      }
    },
    {
      "cell_type": "code",
      "source": [
        "sns.barplot(x = months, y = monthly_means[\"High\"])\n",
        "plt.xlabel('Month')\n",
        "plt.ylabel('Average High Price $')\n",
        "plt.title(\"Average High Price by Month\")\n",
        "plt.show()"
      ],
      "metadata": {
        "colab": {
          "base_uri": "https://localhost:8080/",
          "height": 472
        },
        "id": "njkQbYHVryPD",
        "outputId": "ed06ac85-880d-4535-ec6c-bedd60d75af1"
      },
      "execution_count": 36,
      "outputs": [
        {
          "output_type": "display_data",
          "data": {
            "text/plain": [
              "<Figure size 640x480 with 1 Axes>"
            ],
            "image/png": "[encoded data removed]"
          },
          "metadata": {}
        }
      ]
    },
    {
      "cell_type": "markdown",
      "source": [
        "###Low"
      ],
      "metadata": {
        "id": "qovGktdTtIEi"
      }
    },
    {
      "cell_type": "code",
      "source": [
        "sns.barplot(x = months, y = monthly_means[\"Low\"])\n",
        "plt.xlabel('Month')\n",
        "plt.ylabel('Average Low Price $')\n",
        "plt.title(\"Average Low Price by Month\")\n",
        "plt.show()"
      ],
      "metadata": {
        "colab": {
          "base_uri": "https://localhost:8080/",
          "height": 472
        },
        "id": "TFWelCwNtKBl",
        "outputId": "40904c1c-b022-41dc-9177-07a10da924a4"
      },
      "execution_count": 37,
      "outputs": [
        {
          "output_type": "display_data",
          "data": {
            "text/plain": [
              "<Figure size 640x480 with 1 Axes>"
            ],
            "image/png": "[encoded data removed]"
          },
          "metadata": {}
        }
      ]
    },
    {
      "cell_type": "markdown",
      "source": [
        "###Volume"
      ],
      "metadata": {
        "id": "5axQTEvGtkPZ"
      }
    },
    {
      "cell_type": "code",
      "source": [
        "sns.barplot(x = months, y = monthly_means[\"Volume\"])\n",
        "plt.xlabel('Month')\n",
        "plt.ylabel('Average Volume (In millions of shares)')\n",
        "plt.title(\"Average Volume by Month\")\n",
        "plt.show()"
      ],
      "metadata": {
        "colab": {
          "base_uri": "https://localhost:8080/",
          "height": 472
        },
        "id": "mHYN5--stmZA",
        "outputId": "44c34e80-0140-4cb8-813f-77216f957683"
      },
      "execution_count": 38,
      "outputs": [
        {
          "output_type": "display_data",
          "data": {
            "text/plain": [
              "<Figure size 640x480 with 1 Axes>"
            ],
            "image/png": "[encoded data removed]"
          },
          "metadata": {}
        }
      ]
    },
    {
      "cell_type": "markdown",
      "source": [
        "###Weekdays statistics"
      ],
      "metadata": {
        "id": "qUaSMVRWB1SX"
      }
    },
    {
      "cell_type": "code",
      "source": [
        "days_of_the_week = snp.index.day_of_week"
      ],
      "metadata": {
        "id": "MCr4z5mZJFiB"
      },
      "execution_count": 39,
      "outputs": []
    },
    {
      "cell_type": "code",
      "source": [
        "# Calculate the mean close price for every day of the week\n",
        "weekly_close = snp.groupby(days_of_the_week)['Close']"
      ],
      "metadata": {
        "id": "3sck8b5Pvn22"
      },
      "execution_count": 40,
      "outputs": []
    },
    {
      "cell_type": "code",
      "source": [
        "# A list of all the days in the week. The list is later used to order the data by the day of the week\n",
        "weekday_order = ['Monday', 'Tuesday', 'Wednesday', 'Thursday', 'Friday']"
      ],
      "metadata": {
        "id": "qzwfl894Mgnz"
      },
      "execution_count": 41,
      "outputs": []
    },
    {
      "cell_type": "markdown",
      "source": [
        "####Mean"
      ],
      "metadata": {
        "id": "TLl1pvNhLlgm"
      }
    },
    {
      "cell_type": "code",
      "source": [
        "print(\"Mean stock price per week day for 2024\")\n",
        "weekly_close.mean()"
      ],
      "metadata": {
        "colab": {
          "base_uri": "https://localhost:8080/",
          "height": 289
        },
        "id": "67ascBRiB_bs",
        "outputId": "2f2e0e34-17ca-4eba-d5ec-743b6bbb57a2"
      },
      "execution_count": 42,
      "outputs": [
        {
          "output_type": "stream",
          "name": "stdout",
          "text": [
            "Mean stock price per week day for 2024\n"
          ]
        },
        {
          "output_type": "execute_result",
          "data": {
            "text/plain": [
              "Date\n",
              "0    496.960173\n",
              "1    493.056597\n",
              "2    491.892512\n",
              "3    492.381334\n",
              "4    494.772372\n",
              "Name: Close, dtype: float64"
            ],
            "text/html": [
              "<div>\n",
              "<style scoped>\n",
              "    .dataframe tbody tr th:only-of-type {\n",
              "        vertical-align: middle;\n",
              "    }\n",
              "\n",
              "    .dataframe tbody tr th {\n",
              "        vertical-align: top;\n",
              "    }\n",
              "\n",
              "    .dataframe thead th {\n",
              "        text-align: right;\n",
              "    }\n",
              "</style>\n",
              "<table border=\"1\" class=\"dataframe\">\n",
              "  <thead>\n",
              "    <tr style=\"text-align: right;\">\n",
              "      <th></th>\n",
              "      <th>Close</th>\n",
              "    </tr>\n",
              "    <tr>\n",
              "      <th>Date</th>\n",
              "      <th></th>\n",
              "    </tr>\n",
              "  </thead>\n",
              "  <tbody>\n",
              "    <tr>\n",
              "      <th>0</th>\n",
              "      <td>496.960173</td>\n",
              "    </tr>\n",
              "    <tr>\n",
              "      <th>1</th>\n",
              "      <td>493.056597</td>\n",
              "    </tr>\n",
              "    <tr>\n",
              "      <th>2</th>\n",
              "      <td>491.892512</td>\n",
              "    </tr>\n",
              "    <tr>\n",
              "      <th>3</th>\n",
              "      <td>492.381334</td>\n",
              "    </tr>\n",
              "    <tr>\n",
              "      <th>4</th>\n",
              "      <td>494.772372</td>\n",
              "    </tr>\n",
              "  </tbody>\n",
              "</table>\n",
              "</div><br><label><b>dtype:</b> float64</label>"
            ]
          },
          "metadata": {},
          "execution_count": 42
        }
      ]
    },
    {
      "cell_type": "code",
      "source": [
        "snp[\"Day of the week\"] = snp.index.day_name()"
      ],
      "metadata": {
        "id": "9NpXRfNH82t1"
      },
      "execution_count": 43,
      "outputs": []
    },
    {
      "cell_type": "code",
      "source": [
        "groupbyday = snp.groupby('Day of the week')\n",
        "df = groupbyday.mean()\n",
        "plt.bar(df.index, df['Close'])\n",
        "plt.xlabel('Day of the week')\n",
        "plt.ylabel('Mean price %')\n",
        "plt.title(\"Average price by the day of the week\")\n",
        "plt.show()"
      ],
      "metadata": {
        "colab": {
          "base_uri": "https://localhost:8080/",
          "height": 472
        },
        "id": "VDJAVOgE8usq",
        "outputId": "6c0dc3e5-bbc7-401f-bec1-77657db6a1b4"
      },
      "execution_count": 44,
      "outputs": [
        {
          "output_type": "display_data",
          "data": {
            "text/plain": [
              "<Figure size 640x480 with 1 Axes>"
            ],
            "image/png": "[encoded data removed]"
          },
          "metadata": {}
        }
      ]
    },
    {
      "cell_type": "markdown",
      "source": [
        "####Median"
      ],
      "metadata": {
        "id": "8PWsH5Tm8EpJ"
      }
    },
    {
      "cell_type": "code",
      "source": [
        "print(\"Median stock price per week day for 2024\")\n",
        "weekly_close.median()"
      ],
      "metadata": {
        "colab": {
          "base_uri": "https://localhost:8080/",
          "height": 289
        },
        "id": "UCO23EqvDJ16",
        "outputId": "45a8da04-574d-4a23-d1c2-abf9a2dd5aeb"
      },
      "execution_count": 45,
      "outputs": [
        {
          "output_type": "stream",
          "name": "stdout",
          "text": [
            "Median stock price per week day for 2024\n"
          ]
        },
        {
          "output_type": "execute_result",
          "data": {
            "text/plain": [
              "Date\n",
              "0    497.780457\n",
              "1    495.013336\n",
              "2    493.462173\n",
              "3    492.680435\n",
              "4    494.087463\n",
              "Name: Close, dtype: float64"
            ],
            "text/html": [
              "<div>\n",
              "<style scoped>\n",
              "    .dataframe tbody tr th:only-of-type {\n",
              "        vertical-align: middle;\n",
              "    }\n",
              "\n",
              "    .dataframe tbody tr th {\n",
              "        vertical-align: top;\n",
              "    }\n",
              "\n",
              "    .dataframe thead th {\n",
              "        text-align: right;\n",
              "    }\n",
              "</style>\n",
              "<table border=\"1\" class=\"dataframe\">\n",
              "  <thead>\n",
              "    <tr style=\"text-align: right;\">\n",
              "      <th></th>\n",
              "      <th>Close</th>\n",
              "    </tr>\n",
              "    <tr>\n",
              "      <th>Date</th>\n",
              "      <th></th>\n",
              "    </tr>\n",
              "  </thead>\n",
              "  <tbody>\n",
              "    <tr>\n",
              "      <th>0</th>\n",
              "      <td>497.780457</td>\n",
              "    </tr>\n",
              "    <tr>\n",
              "      <th>1</th>\n",
              "      <td>495.013336</td>\n",
              "    </tr>\n",
              "    <tr>\n",
              "      <th>2</th>\n",
              "      <td>493.462173</td>\n",
              "    </tr>\n",
              "    <tr>\n",
              "      <th>3</th>\n",
              "      <td>492.680435</td>\n",
              "    </tr>\n",
              "    <tr>\n",
              "      <th>4</th>\n",
              "      <td>494.087463</td>\n",
              "    </tr>\n",
              "  </tbody>\n",
              "</table>\n",
              "</div><br><label><b>dtype:</b> float64</label>"
            ]
          },
          "metadata": {},
          "execution_count": 45
        }
      ]
    },
    {
      "cell_type": "code",
      "source": [
        "groupbyday = snp.groupby('Day of the week')\n",
        "df = groupbyday.median()\n",
        "plt.bar(df.index, df['Close'])\n",
        "plt.xlabel('Day of the week')\n",
        "plt.ylabel('Median price %')\n",
        "plt.title(\"Median price by the day of the week\")\n",
        "plt.show()"
      ],
      "metadata": {
        "colab": {
          "base_uri": "https://localhost:8080/",
          "height": 472
        },
        "id": "bRameMNSA25e",
        "outputId": "527eba1f-6fbe-4d54-b3bd-de9f6f0008f0"
      },
      "execution_count": 46,
      "outputs": [
        {
          "output_type": "display_data",
          "data": {
            "text/plain": [
              "<Figure size 640x480 with 1 Axes>"
            ],
            "image/png": "[encoded data removed]"
          },
          "metadata": {}
        }
      ]
    },
    {
      "cell_type": "markdown",
      "source": [
        "####High"
      ],
      "metadata": {
        "id": "b0bCfbGH8Ifq"
      }
    },
    {
      "cell_type": "code",
      "source": [
        "print(\"Highest stock price per week day for 2024\")\n",
        "weekly_close.max()"
      ],
      "metadata": {
        "colab": {
          "base_uri": "https://localhost:8080/",
          "height": 289
        },
        "id": "shd0WWZlDOAr",
        "outputId": "5e37f5bc-0e2b-4dc0-94a6-b26822e8601a"
      },
      "execution_count": 47,
      "outputs": [
        {
          "output_type": "stream",
          "name": "stdout",
          "text": [
            "Highest stock price per week day for 2024\n"
          ]
        },
        {
          "output_type": "execute_result",
          "data": {
            "text/plain": [
              "Date\n",
              "0    556.010315\n",
              "1    553.677795\n",
              "2    556.857605\n",
              "3    555.930603\n",
              "4    557.037048\n",
              "Name: Close, dtype: float64"
            ],
            "text/html": [
              "<div>\n",
              "<style scoped>\n",
              "    .dataframe tbody tr th:only-of-type {\n",
              "        vertical-align: middle;\n",
              "    }\n",
              "\n",
              "    .dataframe tbody tr th {\n",
              "        vertical-align: top;\n",
              "    }\n",
              "\n",
              "    .dataframe thead th {\n",
              "        text-align: right;\n",
              "    }\n",
              "</style>\n",
              "<table border=\"1\" class=\"dataframe\">\n",
              "  <thead>\n",
              "    <tr style=\"text-align: right;\">\n",
              "      <th></th>\n",
              "      <th>Close</th>\n",
              "    </tr>\n",
              "    <tr>\n",
              "      <th>Date</th>\n",
              "      <th></th>\n",
              "    </tr>\n",
              "  </thead>\n",
              "  <tbody>\n",
              "    <tr>\n",
              "      <th>0</th>\n",
              "      <td>556.010315</td>\n",
              "    </tr>\n",
              "    <tr>\n",
              "      <th>1</th>\n",
              "      <td>553.677795</td>\n",
              "    </tr>\n",
              "    <tr>\n",
              "      <th>2</th>\n",
              "      <td>556.857605</td>\n",
              "    </tr>\n",
              "    <tr>\n",
              "      <th>3</th>\n",
              "      <td>555.930603</td>\n",
              "    </tr>\n",
              "    <tr>\n",
              "      <th>4</th>\n",
              "      <td>557.037048</td>\n",
              "    </tr>\n",
              "  </tbody>\n",
              "</table>\n",
              "</div><br><label><b>dtype:</b> float64</label>"
            ]
          },
          "metadata": {},
          "execution_count": 47
        }
      ]
    },
    {
      "cell_type": "code",
      "source": [
        "groupbyday = snp.groupby('Day of the week')\n",
        "df = groupbyday.max()\n",
        "plt.bar(df.index, df['Close'])\n",
        "plt.xlabel('Day of the week')\n",
        "plt.ylabel('Highest price %')\n",
        "plt.title(\"Highest price by the day of the week\")\n",
        "plt.show()"
      ],
      "metadata": {
        "colab": {
          "base_uri": "https://localhost:8080/",
          "height": 472
        },
        "id": "W6QCHS7KA-uX",
        "outputId": "f9eb35c7-8621-49ae-a274-41a17bfdd152"
      },
      "execution_count": 48,
      "outputs": [
        {
          "output_type": "display_data",
          "data": {
            "text/plain": [
              "<Figure size 640x480 with 1 Axes>"
            ],
            "image/png": "[encoded data removed]"
          },
          "metadata": {}
        }
      ]
    },
    {
      "cell_type": "markdown",
      "source": [
        "---"
      ],
      "metadata": {
        "id": "RJs-4ddWd4K5"
      }
    },
    {
      "cell_type": "markdown",
      "source": [
        "##Corolation"
      ],
      "metadata": {
        "id": "ePpi2bE98dHg"
      }
    },
    {
      "cell_type": "code",
      "source": [
        "snp.select_dtypes(['number']).corr()"
      ],
      "metadata": {
        "colab": {
          "base_uri": "https://localhost:8080/",
          "height": 237
        },
        "id": "kcL7egqm8ic4",
        "outputId": "2755a886-f9b4-4ba3-b4ee-d5d9555666de"
      },
      "execution_count": 49,
      "outputs": [
        {
          "output_type": "execute_result",
          "data": {
            "text/plain": [
              "Price      Close      High       Low      Open    Volume\n",
              "Price                                                   \n",
              "Close   1.000000  0.997757  0.998696  0.996356  0.049561\n",
              "High    0.997757  1.000000  0.997673  0.998705  0.068253\n",
              "Low     0.998696  0.997673  1.000000  0.997820  0.052002\n",
              "Open    0.996356  0.998705  0.997820  1.000000  0.066838\n",
              "Volume  0.049561  0.068253  0.052002  0.066838  1.000000"
            ],
            "text/html": [
              "\n",
              "  <div id=\"df-2de47399-cc6a-4fe8-a936-c069c2bae211\" class=\"colab-df-container\">\n",
              "    <div>\n",
              "<style scoped>\n",
              "    .dataframe tbody tr th:only-of-type {\n",
              "        vertical-align: middle;\n",
              "    }\n",
              "\n",
              "    .dataframe tbody tr th {\n",
              "        vertical-align: top;\n",
              "    }\n",
              "\n",
              "    .dataframe thead th {\n",
              "        text-align: right;\n",
              "    }\n",
              "</style>\n",
              "<table border=\"1\" class=\"dataframe\">\n",
              "  <thead>\n",
              "    <tr style=\"text-align: right;\">\n",
              "      <th>Price</th>\n",
              "      <th>Close</th>\n",
              "      <th>High</th>\n",
              "      <th>Low</th>\n",
              "      <th>Open</th>\n",
              "      <th>Volume</th>\n",
              "    </tr>\n",
              "    <tr>\n",
              "      <th>Price</th>\n",
              "      <th></th>\n",
              "      <th></th>\n",
              "      <th></th>\n",
              "      <th></th>\n",
              "      <th></th>\n",
              "    </tr>\n",
              "  </thead>\n",
              "  <tbody>\n",
              "    <tr>\n",
              "      <th>Close</th>\n",
              "      <td>1.000000</td>\n",
              "      <td>0.997757</td>\n",
              "      <td>0.998696</td>\n",
              "      <td>0.996356</td>\n",
              "      <td>0.049561</td>\n",
              "    </tr>\n",
              "    <tr>\n",
              "      <th>High</th>\n",
              "      <td>0.997757</td>\n",
              "      <td>1.000000</td>\n",
              "      <td>0.997673</td>\n",
              "      <td>0.998705</td>\n",
              "      <td>0.068253</td>\n",
              "    </tr>\n",
              "    <tr>\n",
              "      <th>Low</th>\n",
              "      <td>0.998696</td>\n",
              "      <td>0.997673</td>\n",
              "      <td>1.000000</td>\n",
              "      <td>0.997820</td>\n",
              "      <td>0.052002</td>\n",
              "    </tr>\n",
              "    <tr>\n",
              "      <th>Open</th>\n",
              "      <td>0.996356</td>\n",
              "      <td>0.998705</td>\n",
              "      <td>0.997820</td>\n",
              "      <td>1.000000</td>\n",
              "      <td>0.066838</td>\n",
              "    </tr>\n",
              "    <tr>\n",
              "      <th>Volume</th>\n",
              "      <td>0.049561</td>\n",
              "      <td>0.068253</td>\n",
              "      <td>0.052002</td>\n",
              "      <td>0.066838</td>\n",
              "      <td>1.000000</td>\n",
              "    </tr>\n",
              "  </tbody>\n",
              "</table>\n",
              "</div>\n",
              "    <div class=\"colab-df-buttons\">\n",
              "\n",
              "  <div class=\"colab-df-container\">\n",
              "    <button class=\"colab-df-convert\" onclick=\"convertToInteractive('df-2de47399-cc6a-4fe8-a936-c069c2bae211')\"\n",
              "            title=\"Convert this dataframe to an interactive table.\"\n",
              "            style=\"display:none;\">\n",
              "\n",
              "  <svg xmlns=\"http://www.w3.org/2000/svg\" height=\"24px\" viewBox=\"0 -960 960 960\">\n",
              "    <path d=\"M120-120v-720h720v720H120Zm60-500h600v-160H180v160Zm220 220h160v-160H400v160Zm0 220h160v-160H400v160ZM180-400h160v-160H180v160Zm440 0h160v-160H620v160ZM180-180h160v-160H180v160Zm440 0h160v-160H620v160Z\"/>\n",
              "  </svg>\n",
              "    </button>\n",
              "\n",
              "  <style>\n",
              "    .colab-df-container {\n",
              "      display:flex;\n",
              "      gap: 12px;\n",
              "    }\n",
              "\n",
              "    .colab-df-convert {\n",
              "      background-color: #E8F0FE;\n",
              "      border: none;\n",
              "      border-radius: 50%;\n",
              "      cursor: pointer;\n",
              "      display: none;\n",
              "      fill: #1967D2;\n",
              "      height: 32px;\n",
              "      padding: 0 0 0 0;\n",
              "      width: 32px;\n",
              "    }\n",
              "\n",
              "    .colab-df-convert:hover {\n",
              "      background-color: #E2EBFA;\n",
              "      box-shadow: 0px 1px 2px rgba(60, 64, 67, 0.3), 0px 1px 3px 1px rgba(60, 64, 67, 0.15);\n",
              "      fill: #174EA6;\n",
              "    }\n",
              "\n",
              "    .colab-df-buttons div {\n",
              "      margin-bottom: 4px;\n",
              "    }\n",
              "\n",
              "    [theme=dark] .colab-df-convert {\n",
              "      background-color: #3B4455;\n",
              "      fill: #D2E3FC;\n",
              "    }\n",
              "\n",
              "    [theme=dark] .colab-df-convert:hover {\n",
              "      background-color: #434B5C;\n",
              "      box-shadow: 0px 1px 3px 1px rgba(0, 0, 0, 0.15);\n",
              "      filter: drop-shadow(0px 1px 2px rgba(0, 0, 0, 0.3));\n",
              "      fill: #FFFFFF;\n",
              "    }\n",
              "  </style>\n",
              "\n",
              "    <script>\n",
              "      const buttonEl =\n",
              "        document.querySelector('#df-2de47399-cc6a-4fe8-a936-c069c2bae211 button.colab-df-convert');\n",
              "      buttonEl.style.display =\n",
              "        google.colab.kernel.accessAllowed ? 'block' : 'none';\n",
              "\n",
              "      async function convertToInteractive(key) {\n",
              "        const element = document.querySelector('#df-2de47399-cc6a-4fe8-a936-c069c2bae211');\n",
              "        const dataTable =\n",
              "          await google.colab.kernel.invokeFunction('convertToInteractive',\n",
              "                                                    [key], {});\n",
              "        if (!dataTable) return;\n",
              "\n",
              "        const docLinkHtml = 'Like what you see? Visit the ' +\n",
              "          '<a target=\"_blank\" href=https://colab.research.google.com/notebooks/data_table.ipynb>data table notebook</a>'\n",
              "          + ' to learn more about interactive tables.';\n",
              "        element.innerHTML = '';\n",
              "        dataTable['output_type'] = 'display_data';\n",
              "        await google.colab.output.renderOutput(dataTable, element);\n",
              "        const docLink = document.createElement('div');\n",
              "        docLink.innerHTML = docLinkHtml;\n",
              "        element.appendChild(docLink);\n",
              "      }\n",
              "    </script>\n",
              "  </div>\n",
              "\n",
              "\n",
              "<div id=\"df-25df7087-ff93-4fef-a3a6-2e35dcd66c28\">\n",
              "  <button class=\"colab-df-quickchart\" onclick=\"quickchart('df-25df7087-ff93-4fef-a3a6-2e35dcd66c28')\"\n",
              "            title=\"Suggest charts\"\n",
              "            style=\"display:none;\">\n",
              "\n",
              "<svg xmlns=\"http://www.w3.org/2000/svg\" height=\"24px\"viewBox=\"0 0 24 24\"\n",
              "     width=\"24px\">\n",
              "    <g>\n",
              "        <path d=\"M19 3H5c-1.1 0-2 .9-2 2v14c0 1.1.9 2 2 2h14c1.1 0 2-.9 2-2V5c0-1.1-.9-2-2-2zM9 17H7v-7h2v7zm4 0h-2V7h2v10zm4 0h-2v-4h2v4z\"/>\n",
              "    </g>\n",
              "</svg>\n",
              "  </button>\n",
              "\n",
              "<style>\n",
              "  .colab-df-quickchart {\n",
              "      --bg-color: #E8F0FE;\n",
              "      --fill-color: #1967D2;\n",
              "      --hover-bg-color: #E2EBFA;\n",
              "      --hover-fill-color: #174EA6;\n",
              "      --disabled-fill-color: #AAA;\n",
              "      --disabled-bg-color: #DDD;\n",
              "  }\n",
              "\n",
              "  [theme=dark] .colab-df-quickchart {\n",
              "      --bg-color: #3B4455;\n",
              "      --fill-color: #D2E3FC;\n",
              "      --hover-bg-color: #434B5C;\n",
              "      --hover-fill-color: #FFFFFF;\n",
              "      --disabled-bg-color: #3B4455;\n",
              "      --disabled-fill-color: #666;\n",
              "  }\n",
              "\n",
              "  .colab-df-quickchart {\n",
              "    background-color: var(--bg-color);\n",
              "    border: none;\n",
              "    border-radius: 50%;\n",
              "    cursor: pointer;\n",
              "    display: none;\n",
              "    fill: var(--fill-color);\n",
              "    height: 32px;\n",
              "    padding: 0;\n",
              "    width: 32px;\n",
              "  }\n",
              "\n",
              "  .colab-df-quickchart:hover {\n",
              "    background-color: var(--hover-bg-color);\n",
              "    box-shadow: 0 1px 2px rgba(60, 64, 67, 0.3), 0 1px 3px 1px rgba(60, 64, 67, 0.15);\n",
              "    fill: var(--button-hover-fill-color);\n",
              "  }\n",
              "\n",
              "  .colab-df-quickchart-complete:disabled,\n",
              "  .colab-df-quickchart-complete:disabled:hover {\n",
              "    background-color: var(--disabled-bg-color);\n",
              "    fill: var(--disabled-fill-color);\n",
              "    box-shadow: none;\n",
              "  }\n",
              "\n",
              "  .colab-df-spinner {\n",
              "    border: 2px solid var(--fill-color);\n",
              "    border-color: transparent;\n",
              "    border-bottom-color: var(--fill-color);\n",
              "    animation:\n",
              "      spin 1s steps(1) infinite;\n",
              "  }\n",
              "\n",
              "  @keyframes spin {\n",
              "    0% {\n",
              "      border-color: transparent;\n",
              "      border-bottom-color: var(--fill-color);\n",
              "      border-left-color: var(--fill-color);\n",
              "    }\n",
              "    20% {\n",
              "      border-color: transparent;\n",
              "      border-left-color: var(--fill-color);\n",
              "      border-top-color: var(--fill-color);\n",
              "    }\n",
              "    30% {\n",
              "      border-color: transparent;\n",
              "      border-left-color: var(--fill-color);\n",
              "      border-top-color: var(--fill-color);\n",
              "      border-right-color: var(--fill-color);\n",
              "    }\n",
              "    40% {\n",
              "      border-color: transparent;\n",
              "      border-right-color: var(--fill-color);\n",
              "      border-top-color: var(--fill-color);\n",
              "    }\n",
              "    60% {\n",
              "      border-color: transparent;\n",
              "      border-right-color: var(--fill-color);\n",
              "    }\n",
              "    80% {\n",
              "      border-color: transparent;\n",
              "      border-right-color: var(--fill-color);\n",
              "      border-bottom-color: var(--fill-color);\n",
              "    }\n",
              "    90% {\n",
              "      border-color: transparent;\n",
              "      border-bottom-color: var(--fill-color);\n",
              "    }\n",
              "  }\n",
              "</style>\n",
              "\n",
              "  <script>\n",
              "    async function quickchart(key) {\n",
              "      const quickchartButtonEl =\n",
              "        document.querySelector('#' + key + ' button');\n",
              "      quickchartButtonEl.disabled = true;  // To prevent multiple clicks.\n",
              "      quickchartButtonEl.classList.add('colab-df-spinner');\n",
              "      try {\n",
              "        const charts = await google.colab.kernel.invokeFunction(\n",
              "            'suggestCharts', [key], {});\n",
              "      } catch (error) {\n",
              "        console.error('Error during call to suggestCharts:', error);\n",
              "      }\n",
              "      quickchartButtonEl.classList.remove('colab-df-spinner');\n",
              "      quickchartButtonEl.classList.add('colab-df-quickchart-complete');\n",
              "    }\n",
              "    (() => {\n",
              "      let quickchartButtonEl =\n",
              "        document.querySelector('#df-25df7087-ff93-4fef-a3a6-2e35dcd66c28 button');\n",
              "      quickchartButtonEl.style.display =\n",
              "        google.colab.kernel.accessAllowed ? 'block' : 'none';\n",
              "    })();\n",
              "  </script>\n",
              "</div>\n",
              "\n",
              "    </div>\n",
              "  </div>\n"
            ],
            "application/vnd.google.colaboratory.intrinsic+json": {
              "type": "dataframe",
              "summary": "{\n  \"name\": \"snp\",\n  \"rows\": 5,\n  \"fields\": [\n    {\n      \"column\": \"Price\",\n      \"properties\": {\n        \"dtype\": \"string\",\n        \"num_unique_values\": 5,\n        \"samples\": [\n          \"High\",\n          \"Volume\",\n          \"Low\"\n        ],\n        \"semantic_type\": \"\",\n        \"description\": \"\"\n      }\n    },\n    {\n      \"column\": \"Close\",\n      \"properties\": {\n        \"dtype\": \"number\",\n        \"std\": 0.42424715994096746,\n        \"min\": 0.04956142486330285,\n        \"max\": 1.0,\n        \"num_unique_values\": 5,\n        \"samples\": [\n          0.997756957976231,\n          0.04956142486330285,\n          0.99869608787505\n        ],\n        \"semantic_type\": \"\",\n        \"description\": \"\"\n      }\n    },\n    {\n      \"column\": \"High\",\n      \"properties\": {\n        \"dtype\": \"number\",\n        \"std\": 0.4160354434739043,\n        \"min\": 0.06825262697959301,\n        \"max\": 1.0,\n        \"num_unique_values\": 5,\n        \"samples\": [\n          1.0,\n          0.06825262697959301,\n          0.9976728387998838\n        ],\n        \"semantic_type\": \"\",\n        \"description\": \"\"\n      }\n    },\n    {\n      \"column\": \"Low\",\n      \"properties\": {\n        \"dtype\": \"number\",\n        \"std\": 0.4233088511740966,\n        \"min\": 0.05200217392027092,\n        \"max\": 1.0,\n        \"num_unique_values\": 5,\n        \"samples\": [\n          0.9976728387998838,\n          0.05200217392027092,\n          1.0\n        ],\n        \"semantic_type\": \"\",\n        \"description\": \"\"\n      }\n    },\n    {\n      \"column\": \"Open\",\n      \"properties\": {\n        \"dtype\": \"number\",\n        \"std\": 0.4165288626367457,\n        \"min\": 0.06683824735728411,\n        \"max\": 1.0,\n        \"num_unique_values\": 5,\n        \"samples\": [\n          0.9987053717498268,\n          0.06683824735728411,\n          0.9978201875263085\n        ],\n        \"semantic_type\": \"\",\n        \"description\": \"\"\n      }\n    },\n    {\n      \"column\": \"Volume\",\n      \"properties\": {\n        \"dtype\": \"number\",\n        \"std\": 0.4208394813193505,\n        \"min\": 0.04956142486330285,\n        \"max\": 1.0,\n        \"num_unique_values\": 5,\n        \"samples\": [\n          0.06825262697959301,\n          1.0,\n          0.05200217392027092\n        ],\n        \"semantic_type\": \"\",\n        \"description\": \"\"\n      }\n    }\n  ]\n}"
            }
          },
          "metadata": {},
          "execution_count": 49
        }
      ]
    },
    {
      "cell_type": "code",
      "source": [
        "sns.heatmap(snp.select_dtypes(['number']).corr(),\n",
        "            annot= True, fmt='.4g', annot_kws={\"size\": 8}, cmap= 'Blues')\n",
        "plt.title(\"Corellation Matrix\")\n",
        "plt.show()"
      ],
      "metadata": {
        "colab": {
          "base_uri": "https://localhost:8080/",
          "height": 472
        },
        "id": "cuTTEfzE8p7l",
        "outputId": "8696c60f-9433-4f85-d43b-4297bc03d4c9"
      },
      "execution_count": 50,
      "outputs": [
        {
          "output_type": "display_data",
          "data": {
            "text/plain": [
              "<Figure size 640x480 with 2 Axes>"
            ],
            "image/png": "[encoded data removed]"
          },
          "metadata": {}
        }
      ]
    },
    {
      "cell_type": "markdown",
      "source": [
        "There is close perfect corrolation between the different prices, and close to no corrolation between the stock price and it's volume"
      ],
      "metadata": {
        "id": "Hox-BHPC-cF3"
      }
    },
    {
      "cell_type": "markdown",
      "source": [
        "####Analizing the corrolation between the Open and Close prices"
      ],
      "metadata": {
        "id": "p1gA6R3QFXqH"
      }
    },
    {
      "cell_type": "code",
      "source": [
        "sns.regplot(x = snp[\"Open\"], y = snp[\"Close\"], marker = '.',\n",
        "            scatter_kws={'color' : 'gray'}, line_kws={'color' : 'Green'})\n",
        "plt.title(\"Correlation between Open and Close prices\")\n",
        "plt.show()"
      ],
      "metadata": {
        "colab": {
          "base_uri": "https://localhost:8080/",
          "height": 472
        },
        "id": "JNCX461SFXB2",
        "outputId": "4e10d551-8dcb-4f56-9522-ddff9b42d341"
      },
      "execution_count": 51,
      "outputs": [
        {
          "output_type": "display_data",
          "data": {
            "text/plain": [
              "<Figure size 640x480 with 1 Axes>"
            ],
            "image/png": "[encoded data removed]"
          },
          "metadata": {}
        }
      ]
    },
    {
      "cell_type": "markdown",
      "source": [
        "We can see a corolation of 1 between the Open and Close price of the stock throught 2024"
      ],
      "metadata": {
        "id": "dvrtXTfvVWvJ"
      }
    },
    {
      "cell_type": "markdown",
      "source": [
        "---"
      ],
      "metadata": {
        "id": "7ATzTsZo8qbz"
      }
    },
    {
      "cell_type": "markdown",
      "source": [
        "##Quarter statisitcs"
      ],
      "metadata": {
        "id": "ejpa_OdvG_tu"
      }
    },
    {
      "cell_type": "markdown",
      "source": [
        "###Q1"
      ],
      "metadata": {
        "id": "EPH0tojMVJnA"
      }
    },
    {
      "cell_type": "code",
      "source": [
        "# 1st of January was a holiday so we took information from the second of January\n",
        "q1_open = get_stock_statistics('full', '2024-01-02', \"Open\")\n",
        "q1_close = get_stock_statistics('full', '2024-01-02', \"Close\")\n",
        "q1_high = get_stock_statistics('full', '2024-01-02', \"High\")\n",
        "q1_low = get_stock_statistics('full', '2024-01-02', \"Low\")\n",
        "q1_volume = get_stock_statistics('full', '2024-01-02', \"Volume\")\n",
        "\n",
        "# Print the values\n",
        "print(\"Q1 start statistics :\")\n",
        "print(f\"Open : ${q1_open:.2f}\")\n",
        "print(f\"Close : ${q1_close:.2f}\")\n",
        "print(f\"High : ${q1_high:.2f}\")\n",
        "print(f\"Low : ${q1_low:.2f}\")\n",
        "print(f\"Vloume : {int(q1_volume)} stocks per day\")"
      ],
      "metadata": {
        "colab": {
          "base_uri": "https://localhost:8080/"
        },
        "id": "Oy5th9KvVOCU",
        "outputId": "3b635959-7fab-4586-eccd-7497ee337367"
      },
      "execution_count": 52,
      "outputs": [
        {
          "output_type": "stream",
          "name": "stdout",
          "text": [
            "Q1 start statistics :\n",
            "Open : $428.28\n",
            "Close : $428.38\n",
            "High : $429.62\n",
            "Low : $426.75\n",
            "Vloume : 9076000 stocks per day\n"
          ]
        }
      ]
    },
    {
      "cell_type": "markdown",
      "source": [
        "###Q2"
      ],
      "metadata": {
        "id": "xUJicPwqWQb9"
      }
    },
    {
      "cell_type": "code",
      "source": [
        "q2_open = get_stock_statistics('full', '2024-04-01', \"Open\")\n",
        "q2_close = get_stock_statistics('full', '2024-04-01', \"Close\")\n",
        "q2_high = get_stock_statistics('full', '2024-04-01', \"High\")\n",
        "q2_low = get_stock_statistics('full', '2024-04-01', \"Low\")\n",
        "q2_volume = get_stock_statistics('full', '2024-04-01', \"Volume\")\n",
        "\n",
        "# Print the values\n",
        "print(\"Q2 start statistics :\")\n",
        "print(f\"Open : ${q2_open:.2f}\")\n",
        "print(f\"Close : ${q2_close:.2f}\")\n",
        "print(f\"High : ${q2_high:.2f}\")\n",
        "print(f\"Low : ${q2_low:.2f}\")\n",
        "print(f\"Vloume : {int(q2_volume)} stocks per day\")"
      ],
      "metadata": {
        "id": "ADkS4oPcWRrp",
        "colab": {
          "base_uri": "https://localhost:8080/"
        },
        "outputId": "943bc614-2396-444d-ebc2-68597a01bd9f"
      },
      "execution_count": 53,
      "outputs": [
        {
          "output_type": "stream",
          "name": "stdout",
          "text": [
            "Q2 start statistics :\n",
            "Open : $476.72\n",
            "Close : $475.36\n",
            "High : $477.23\n",
            "Low : $474.14\n",
            "Vloume : 5734000 stocks per day\n"
          ]
        }
      ]
    },
    {
      "cell_type": "markdown",
      "source": [
        "###Q3"
      ],
      "metadata": {
        "id": "-9UIRDCNge8j"
      }
    },
    {
      "cell_type": "code",
      "source": [
        "q3_open = get_stock_statistics('full', '2024-07-01', \"Open\")\n",
        "q3_close = get_stock_statistics('full', '2024-07-01', \"Close\")\n",
        "q3_high = get_stock_statistics('full', '2024-07-01', \"High\")\n",
        "q3_low = get_stock_statistics('full', '2024-07-01', \"Low\")\n",
        "q3_volume = get_stock_statistics('full', '2024-07-01', \"Volume\")\n",
        "\n",
        "# Print the values\n",
        "print(\"Q3 start statistics :\")\n",
        "print(f\"Open : ${q3_open:.2f}\")\n",
        "print(f\"Close : ${q3_close:.2f}\")\n",
        "print(f\"High : ${q3_high:.2f}\")\n",
        "print(f\"Low : ${q3_low:.2f}\")\n",
        "print(f\"Vloume : {int(q3_volume)} stocks per day\")"
      ],
      "metadata": {
        "id": "zA2VkD4bgg48",
        "colab": {
          "base_uri": "https://localhost:8080/"
        },
        "outputId": "07435e8c-dfc7-4dda-c270-7aed461b9483"
      },
      "execution_count": 54,
      "outputs": [
        {
          "output_type": "stream",
          "name": "stdout",
          "text": [
            "Q3 start statistics :\n",
            "Open : $498.34\n",
            "Close : $498.13\n",
            "High : $498.53\n",
            "Low : $495.47\n",
            "Vloume : 4368500 stocks per day\n"
          ]
        }
      ]
    },
    {
      "cell_type": "markdown",
      "source": [
        "###Q4"
      ],
      "metadata": {
        "id": "hJWLgkdeh0hs"
      }
    },
    {
      "cell_type": "code",
      "source": [
        "q4_open = get_stock_statistics('full', '2024-10-01', \"Open\")\n",
        "q4_close = get_stock_statistics('full', '2024-10-01', \"Close\")\n",
        "q4_high = get_stock_statistics('full', '2024-10-01', \"High\")\n",
        "q4_low = get_stock_statistics('full', '2024-10-01', \"Low\")\n",
        "q4_volume = get_stock_statistics('full', '2024-10-01', \"Volume\")\n",
        "\n",
        "# Print the values\n",
        "print(\"Q4 start statistics :\")\n",
        "print(f\"Open : ${q4_open:.2f}\")\n",
        "print(f\"Close : ${q4_close:.2f}\")\n",
        "print(f\"High : ${q4_high:.2f}\")\n",
        "print(f\"Low : ${q4_low:.2f}\")\n",
        "print(f\"Vloume : {int(q4_volume)} stocks per day\")"
      ],
      "metadata": {
        "id": "gfLkNbhVh2fm",
        "colab": {
          "base_uri": "https://localhost:8080/"
        },
        "outputId": "3ce9756b-20b1-4ebd-bf2a-e73dd89b132e"
      },
      "execution_count": 55,
      "outputs": [
        {
          "output_type": "stream",
          "name": "stdout",
          "text": [
            "Q4 start statistics :\n",
            "Open : $525.36\n",
            "Close : $521.07\n",
            "High : $525.42\n",
            "Low : $518.57\n",
            "Vloume : 9198700 stocks per day\n"
          ]
        }
      ]
    },
    {
      "cell_type": "markdown",
      "source": [
        "###Pie Chart 🎂"
      ],
      "metadata": {
        "id": "Rl5jlLEoSvlv"
      }
    },
    {
      "cell_type": "code",
      "source": [
        "# put all the data about the trading volume into one variable\n",
        "volume_per_quarter = [q1_volume, q2_volume, q3_volume, q4_volume]\n",
        "# the quarters to later put it on the chart\n",
        "keys = ['Q1', 'Q2', 'Q3', 'Q4']\n",
        "\n",
        "# plotting data on chart\n",
        "plt.pie(volume_per_quarter, labels=keys, autopct='%.2f%%')\n",
        "plt.title(\"Trading volume by quarter\")\n",
        "plt.show()"
      ],
      "metadata": {
        "colab": {
          "base_uri": "https://localhost:8080/",
          "height": 428
        },
        "id": "3ZVwJvd2TKSj",
        "outputId": "c58f2bac-fb2a-4f69-b5b5-7c25a92667f5"
      },
      "execution_count": 56,
      "outputs": [
        {
          "output_type": "display_data",
          "data": {
            "text/plain": [
              "<Figure size 640x480 with 1 Axes>"
            ],
            "image/png": "[encoded data removed]"
          },
          "metadata": {}
        }
      ]
    },
    {
      "cell_type": "markdown",
      "source": [
        "---"
      ],
      "metadata": {
        "id": "2-qTuGOwNWbQ"
      }
    },
    {
      "cell_type": "markdown",
      "source": [
        "\n",
        "##<u>**Part 4**<u/>"
      ],
      "metadata": {
        "id": "miFu1XlRUOPz"
      }
    },
    {
      "cell_type": "code",
      "source": [
        "plt.figure(figsize=(10, 5))\n",
        "plt.plot(snp.index, snp['Close'])\n",
        "# Add markers for the highest and lowest prices\n",
        "# Highest price of the year\n",
        "plt.scatter(x = snp.loc[snp['Close'].idxmax()].name,\n",
        "            y = snp.loc[snp['High'].idxmax()]['Close'],\n",
        "            color='red', label='Highest price')\n",
        "# Lowest price of the year\n",
        "plt.scatter(x = snp.loc[snp['Close'].idxmin()].name,\n",
        "            y = snp.loc[snp['High'].idxmin()]['Close'],\n",
        "            color='green', label='Lowest price')\n",
        "plt.xlabel('Month')\n",
        "plt.ylabel('Price')\n",
        "plt.title('S&P500 price Jan 1st-Dec 31 2024')\n",
        "plt.legend()\n",
        "plt.show()"
      ],
      "metadata": {
        "colab": {
          "base_uri": "https://localhost:8080/",
          "height": 487
        },
        "id": "vzi1VBj_6y4d",
        "outputId": "e5788ba9-7b08-4909-f82c-c234a7c07808"
      },
      "execution_count": 57,
      "outputs": [
        {
          "output_type": "display_data",
          "data": {
            "text/plain": [
              "<Figure size 1000x500 with 1 Axes>"
            ],
            "image/png": "[encoded data removed]"
          },
          "metadata": {}
        }
      ]
    },
    {
      "cell_type": "code",
      "source": [
        "snp.loc[snp['Close'].idxmax()]"
      ],
      "metadata": {
        "colab": {
          "base_uri": "https://localhost:8080/",
          "height": 303
        },
        "id": "KRwf47kneWWJ",
        "outputId": "398b7a0f-bb3c-4f74-87dc-7d6a7327bb0e"
      },
      "execution_count": 58,
      "outputs": [
        {
          "output_type": "execute_result",
          "data": {
            "text/plain": [
              "Price\n",
              "Close              557.037048\n",
              "High               558.173426\n",
              "Low                556.299419\n",
              "Open               556.688129\n",
              "Volume                5134900\n",
              "Day of the week        Friday\n",
              "Name: 2024-12-06 00:00:00, dtype: object"
            ],
            "text/html": [
              "<div>\n",
              "<style scoped>\n",
              "    .dataframe tbody tr th:only-of-type {\n",
              "        vertical-align: middle;\n",
              "    }\n",
              "\n",
              "    .dataframe tbody tr th {\n",
              "        vertical-align: top;\n",
              "    }\n",
              "\n",
              "    .dataframe thead th {\n",
              "        text-align: right;\n",
              "    }\n",
              "</style>\n",
              "<table border=\"1\" class=\"dataframe\">\n",
              "  <thead>\n",
              "    <tr style=\"text-align: right;\">\n",
              "      <th></th>\n",
              "      <th>2024-12-06</th>\n",
              "    </tr>\n",
              "    <tr>\n",
              "      <th>Price</th>\n",
              "      <th></th>\n",
              "    </tr>\n",
              "  </thead>\n",
              "  <tbody>\n",
              "    <tr>\n",
              "      <th>Close</th>\n",
              "      <td>557.037048</td>\n",
              "    </tr>\n",
              "    <tr>\n",
              "      <th>High</th>\n",
              "      <td>558.173426</td>\n",
              "    </tr>\n",
              "    <tr>\n",
              "      <th>Low</th>\n",
              "      <td>556.299419</td>\n",
              "    </tr>\n",
              "    <tr>\n",
              "      <th>Open</th>\n",
              "      <td>556.688129</td>\n",
              "    </tr>\n",
              "    <tr>\n",
              "      <th>Volume</th>\n",
              "      <td>5134900</td>\n",
              "    </tr>\n",
              "    <tr>\n",
              "      <th>Day of the week</th>\n",
              "      <td>Friday</td>\n",
              "    </tr>\n",
              "  </tbody>\n",
              "</table>\n",
              "</div><br><label><b>dtype:</b> object</label>"
            ]
          },
          "metadata": {},
          "execution_count": 58
        }
      ]
    },
    {
      "cell_type": "markdown",
      "source": [
        "###Identifying odds"
      ],
      "metadata": {
        "id": "bJPnK0Kr63XX"
      }
    },
    {
      "cell_type": "markdown",
      "source": [
        "Highest price of the year"
      ],
      "metadata": {
        "id": "3iwizj-X6mXo"
      }
    },
    {
      "cell_type": "code",
      "source": [
        "snp.loc[snp['High'].idxmax()]"
      ],
      "metadata": {
        "colab": {
          "base_uri": "https://localhost:8080/",
          "height": 303
        },
        "id": "OstEobL746-E",
        "outputId": "009985b5-559d-4f21-b52f-632783889d83"
      },
      "execution_count": 59,
      "outputs": [
        {
          "output_type": "execute_result",
          "data": {
            "text/plain": [
              "Price\n",
              "Close              557.037048\n",
              "High               558.173426\n",
              "Low                556.299419\n",
              "Open               556.688129\n",
              "Volume                5134900\n",
              "Day of the week        Friday\n",
              "Name: 2024-12-06 00:00:00, dtype: object"
            ],
            "text/html": [
              "<div>\n",
              "<style scoped>\n",
              "    .dataframe tbody tr th:only-of-type {\n",
              "        vertical-align: middle;\n",
              "    }\n",
              "\n",
              "    .dataframe tbody tr th {\n",
              "        vertical-align: top;\n",
              "    }\n",
              "\n",
              "    .dataframe thead th {\n",
              "        text-align: right;\n",
              "    }\n",
              "</style>\n",
              "<table border=\"1\" class=\"dataframe\">\n",
              "  <thead>\n",
              "    <tr style=\"text-align: right;\">\n",
              "      <th></th>\n",
              "      <th>2024-12-06</th>\n",
              "    </tr>\n",
              "    <tr>\n",
              "      <th>Price</th>\n",
              "      <th></th>\n",
              "    </tr>\n",
              "  </thead>\n",
              "  <tbody>\n",
              "    <tr>\n",
              "      <th>Close</th>\n",
              "      <td>557.037048</td>\n",
              "    </tr>\n",
              "    <tr>\n",
              "      <th>High</th>\n",
              "      <td>558.173426</td>\n",
              "    </tr>\n",
              "    <tr>\n",
              "      <th>Low</th>\n",
              "      <td>556.299419</td>\n",
              "    </tr>\n",
              "    <tr>\n",
              "      <th>Open</th>\n",
              "      <td>556.688129</td>\n",
              "    </tr>\n",
              "    <tr>\n",
              "      <th>Volume</th>\n",
              "      <td>5134900</td>\n",
              "    </tr>\n",
              "    <tr>\n",
              "      <th>Day of the week</th>\n",
              "      <td>Friday</td>\n",
              "    </tr>\n",
              "  </tbody>\n",
              "</table>\n",
              "</div><br><label><b>dtype:</b> object</label>"
            ]
          },
          "metadata": {},
          "execution_count": 59
        }
      ]
    },
    {
      "cell_type": "markdown",
      "source": [
        "Lowest price of the year"
      ],
      "metadata": {
        "id": "p9zouvMN6tVr"
      }
    },
    {
      "cell_type": "code",
      "source": [
        "snp.loc[snp['High'].idxmin()]"
      ],
      "metadata": {
        "colab": {
          "base_uri": "https://localhost:8080/",
          "height": 303
        },
        "id": "nhiXQ8ax5Cwb",
        "outputId": "3884902e-660c-4fca-fed7-1f06a997d6c5"
      },
      "execution_count": 60,
      "outputs": [
        {
          "output_type": "execute_result",
          "data": {
            "text/plain": [
              "Price\n",
              "Close                424.3992\n",
              "High               426.689066\n",
              "Low                423.076596\n",
              "Open               424.014248\n",
              "Volume                5723100\n",
              "Day of the week        Friday\n",
              "Name: 2024-01-05 00:00:00, dtype: object"
            ],
            "text/html": [
              "<div>\n",
              "<style scoped>\n",
              "    .dataframe tbody tr th:only-of-type {\n",
              "        vertical-align: middle;\n",
              "    }\n",
              "\n",
              "    .dataframe tbody tr th {\n",
              "        vertical-align: top;\n",
              "    }\n",
              "\n",
              "    .dataframe thead th {\n",
              "        text-align: right;\n",
              "    }\n",
              "</style>\n",
              "<table border=\"1\" class=\"dataframe\">\n",
              "  <thead>\n",
              "    <tr style=\"text-align: right;\">\n",
              "      <th></th>\n",
              "      <th>2024-01-05</th>\n",
              "    </tr>\n",
              "    <tr>\n",
              "      <th>Price</th>\n",
              "      <th></th>\n",
              "    </tr>\n",
              "  </thead>\n",
              "  <tbody>\n",
              "    <tr>\n",
              "      <th>Close</th>\n",
              "      <td>424.3992</td>\n",
              "    </tr>\n",
              "    <tr>\n",
              "      <th>High</th>\n",
              "      <td>426.689066</td>\n",
              "    </tr>\n",
              "    <tr>\n",
              "      <th>Low</th>\n",
              "      <td>423.076596</td>\n",
              "    </tr>\n",
              "    <tr>\n",
              "      <th>Open</th>\n",
              "      <td>424.014248</td>\n",
              "    </tr>\n",
              "    <tr>\n",
              "      <th>Volume</th>\n",
              "      <td>5723100</td>\n",
              "    </tr>\n",
              "    <tr>\n",
              "      <th>Day of the week</th>\n",
              "      <td>Friday</td>\n",
              "    </tr>\n",
              "  </tbody>\n",
              "</table>\n",
              "</div><br><label><b>dtype:</b> object</label>"
            ]
          },
          "metadata": {},
          "execution_count": 60
        }
      ]
    },
    {
      "cell_type": "markdown",
      "source": [
        "# **PART 4**"
      ],
      "metadata": {
        "id": "KRI4dAuFubow"
      }
    },
    {
      "cell_type": "markdown",
      "source": [
        "1.\n",
        "\n"
      ],
      "metadata": {
        "id": "3F9qbP1Mupon"
      }
    },
    {
      "cell_type": "code",
      "source": [
        "plt.figure(figsize=(10, 5))\n",
        "\n",
        "gbweek = snp.groupby(snp.index.to_period('W'))\n",
        "\n",
        "#plot the average close price with week numbers\n",
        "plt.plot(list(range(len(gbweek['Close'].mean()))),\n",
        "         gbweek['Close'].mean(), marker= '.')\n",
        "\n",
        "#labels and title\n",
        "plt.xlabel('Week Number')\n",
        "plt.ylabel('Average Closing Price Per Week')\n",
        "plt.title('S&P500 Average Price Jan 1st-Dec 31 2024 by Week')\n",
        "plt.legend()\n",
        "plt.show()"
      ],
      "metadata": {
        "colab": {
          "base_uri": "https://localhost:8080/",
          "height": 522
        },
        "id": "gfVaV5RGZySk",
        "outputId": "168a7eaa-f4f2-4f78-dd2f-8111d4024554"
      },
      "execution_count": 61,
      "outputs": [
        {
          "output_type": "stream",
          "name": "stderr",
          "text": [
            "<ipython-input-61-ca8b9a8fc44f>:13: UserWarning: No artists with labels found to put in legend.  Note that artists whose label start with an underscore are ignored when legend() is called with no argument.\n",
            "  plt.legend()\n"
          ]
        },
        {
          "output_type": "display_data",
          "data": {
            "text/plain": [
              "<Figure size 1000x500 with 1 Axes>"
            ],
            "image/png": "[encoded data removed]"
          },
          "metadata": {}
        }
      ]
    },
    {
      "cell_type": "markdown",
      "source": [
        "2.\n"
      ],
      "metadata": {
        "id": "-xRvv1pcu2Y3"
      }
    },
    {
      "cell_type": "code",
      "source": [
        "plt.figure(figsize=(10, 5))\n",
        "#plotting the closing price for this year\n",
        "plt.plot(snp.index, snp['Close'])\n",
        "#marking the highest and lowest points in this year\n",
        "plt.scatter(snp['Close'].idxmax(),snp['Close'].max() ,color='green', label='Highest Price', zorder=5)\n",
        "plt.scatter(snp['Close'].idxmin(),snp['Close'].min() ,color='red', label='Lowest Price', zorder=5)\n",
        "#labels and title\n",
        "plt.xlabel('Date')\n",
        "plt.ylabel('Closing Price')\n",
        "plt.title('S&P500 Closing Price Jan 1st-Dec 31 2024')\n",
        "plt.legend()\n",
        "plt.show()"
      ],
      "metadata": {
        "colab": {
          "base_uri": "https://localhost:8080/",
          "height": 487
        },
        "id": "Z6vzKKUOu5RC",
        "outputId": "2f73bbe7-f294-4603-d575-c2c28749085a"
      },
      "execution_count": 62,
      "outputs": [
        {
          "output_type": "display_data",
          "data": {
            "text/plain": [
              "<Figure size 1000x500 with 1 Axes>"
            ],
            "image/png": "[encoded data removed]"
          },
          "metadata": {}
        }
      ]
    },
    {
      "cell_type": "markdown",
      "source": [
        "3."
      ],
      "metadata": {
        "id": "0fvqzJ4A2f2u"
      }
    },
    {
      "cell_type": "code",
      "source": [
        "plt.figure(figsize=(6, 5))\n",
        "#bar chart for closing price each day\n",
        "plt.bar(snp.index, snp['Close'], label= 'Average Price Per Day')\n",
        "#line that marks the average closing price\n",
        "plt.axhline(snp['Close'].mean(), color= 'black', label= 'Average Price')\n",
        "#labels and title\n",
        "plt.xlabel('Date')\n",
        "plt.ylabel('Closing Price')\n",
        "plt.title('S&P500 Closing Price Jan 1st-Dec 31 2024')\n",
        "plt.legend()\n",
        "plt.show()"
      ],
      "metadata": {
        "colab": {
          "base_uri": "https://localhost:8080/",
          "height": 487
        },
        "id": "bWd5a8KKy--l",
        "outputId": "aa68daf6-3259-4702-a467-bcb21e70f3d3"
      },
      "execution_count": 63,
      "outputs": [
        {
          "output_type": "display_data",
          "data": {
            "text/plain": [
              "<Figure size 600x500 with 1 Axes>"
            ],
            "image/png": "[encoded data removed]"
          },
          "metadata": {}
        }
      ]
    },
    {
      "cell_type": "markdown",
      "source": [
        "4."
      ],
      "metadata": {
        "id": "J0Ib-_4l6rRe"
      }
    },
    {
      "cell_type": "code",
      "source": [
        "sns.jointplot(x = 'Close', y = 'Volume', data = snp, zorder = 2)\n",
        "sns.regplot(x = 'Close', y = 'Volume', data = snp, color = 'green')\n",
        "plt.show()"
      ],
      "metadata": {
        "colab": {
          "base_uri": "https://localhost:8080/",
          "height": 607
        },
        "id": "haEQZUaN6tHV",
        "outputId": "ee4cdb09-3f58-4a44-8f81-43b3db6fabea"
      },
      "execution_count": 64,
      "outputs": [
        {
          "output_type": "display_data",
          "data": {
            "text/plain": [
              "<Figure size 600x600 with 3 Axes>"
            ],
            "image/png": "[encoded data removed]"
          },
          "metadata": {}
        }
      ]
    },
    {
      "cell_type": "markdown",
      "source": [
        "5."
      ],
      "metadata": {
        "id": "zz9iCZNM-2i6"
      }
    },
    {
      "cell_type": "code",
      "source": [
        "sns.jointplot(x = 'High', y = 'Low', data = snp)\n",
        "plt.show()"
      ],
      "metadata": {
        "colab": {
          "base_uri": "https://localhost:8080/",
          "height": 607
        },
        "id": "UxBEpGtx8D3z",
        "outputId": "c23e094f-61e9-430b-f613-4d33357bd29c"
      },
      "execution_count": 65,
      "outputs": [
        {
          "output_type": "display_data",
          "data": {
            "text/plain": [
              "<Figure size 600x600 with 3 Axes>"
            ],
            "image/png": "[encoded data removed]"
          },
          "metadata": {}
        }
      ]
    },
    {
      "cell_type": "markdown",
      "source": [
        "#The end!"
      ],
      "metadata": {
        "id": "I3xLVXhfCffz"
      }
    }
  ]
}