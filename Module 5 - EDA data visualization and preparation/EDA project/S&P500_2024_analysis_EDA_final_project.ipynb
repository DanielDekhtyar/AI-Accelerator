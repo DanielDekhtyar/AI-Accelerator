{
  "nbformat": 4,
  "nbformat_minor": 0,
  "metadata": {
    "colab": {
      "provenance": [],
      "include_colab_link": true
    },
    "kernelspec": {
      "name": "python3",
      "display_name": "Python 3"
    },
    "language_info": {
      "name": "python"
    }
  },
  "cells": [
    {
      "cell_type": "markdown",
      "metadata": {
        "id": "view-in-github",
        "colab_type": "text"
      },
      "source": [
        "<a href=\"https://colab.research.google.com/github/DanielDekhtyar/AI-Accelerator/blob/main/Module%205%20-%20EDA%20data%20visualization%20and%20preparation/EDA%20project/S%26P500_2024_analysis_EDA_final_project.ipynb\" target=\"_parent\"><img src=\"https://colab.research.google.com/assets/colab-badge.svg\" alt=\"Open In Colab\"/></a>"
      ]
    },
    {
      "cell_type": "markdown",
      "source": [
        "#<u>EDA Final project - Yahoo Finance S&P500 2024 analysis<u/>"
      ],
      "metadata": {
        "id": "4vbqukm3ZmuO"
      }
    },
    {
      "cell_type": "code",
      "source": [
        "import pandas as pd\n",
        "import numpy as np\n",
        "import matplotlib.pyplot as plt\n",
        "import seaborn as sns\n",
        "import yfinance as yf"
      ],
      "metadata": {
        "id": "kOnhtTXRZmVh"
      },
      "execution_count": 1,
      "outputs": []
    },
    {
      "cell_type": "markdown",
      "source": [
        "##<u>**Part 1**<u/>"
      ],
      "metadata": {
        "id": "XUgIZ6uOqSLx"
      }
    },
    {
      "cell_type": "code",
      "source": [
        "# Importing S&P500 data for all of 2024 (Ticker : VOO)\n",
        "snp = yf.download(\"VOO\", start = '2024-01-01', end = '2024-12-31')"
      ],
      "metadata": {
        "colab": {
          "base_uri": "https://localhost:8080/"
        },
        "id": "1M9NI3BzZ2LV",
        "outputId": "c33ecdc8-235e-451f-b6ec-a1bb520ae491"
      },
      "execution_count": 2,
      "outputs": [
        {
          "output_type": "stream",
          "name": "stderr",
          "text": [
            "\r[*********************100%***********************]  1 of 1 completed\n"
          ]
        }
      ]
    },
    {
      "cell_type": "code",
      "source": [
        "snp"
      ],
      "metadata": {
        "id": "aJCozo4aYGNz",
        "colab": {
          "base_uri": "https://localhost:8080/",
          "height": 486
        },
        "outputId": "49499a98-ba1e-46c7-8bc5-8fd49f5978e9"
      },
      "execution_count": 3,
      "outputs": [
        {
          "output_type": "execute_result",
          "data": {
            "text/plain": [
              "Price            Close        High         Low        Open   Volume\n",
              "Ticker             VOO         VOO         VOO         VOO      VOO\n",
              "Date                                                               \n",
              "2024-01-02  428.376892  429.620518  426.748284  428.278184  9076000\n",
              "2024-01-03  425.198700  427.380007  424.665700  426.708841  4805000\n",
              "2024-01-04  423.856323  427.162849  423.639177  424.744636  3945300\n",
              "2024-01-05  424.399200  426.689066  423.076596  424.014248  5723100\n",
              "2024-01-08  430.469360  430.607528  424.784111  424.863090  7222400\n",
              "...                ...         ...         ...         ...      ...\n",
              "2024-12-23  547.190002  547.359985  540.320007  543.309998  7063400\n",
              "2024-12-24  552.820007  552.900024  547.539978  548.059998  3439300\n",
              "2024-12-26  552.809998  553.969971  549.919983  551.200012  4492000\n",
              "2024-12-27  547.080017  549.619995  543.200012  549.369995  7077100\n",
              "2024-12-30  540.989990  544.090027  537.400024  540.559998  6505100\n",
              "\n",
              "[251 rows x 5 columns]"
            ],
            "text/html": [
              "\n",
              "  <div id=\"df-c2b17295-4452-452a-a311-c70b039bb3bd\" class=\"colab-df-container\">\n",
              "    <div>\n",
              "<style scoped>\n",
              "    .dataframe tbody tr th:only-of-type {\n",
              "        vertical-align: middle;\n",
              "    }\n",
              "\n",
              "    .dataframe tbody tr th {\n",
              "        vertical-align: top;\n",
              "    }\n",
              "\n",
              "    .dataframe thead tr th {\n",
              "        text-align: left;\n",
              "    }\n",
              "\n",
              "    .dataframe thead tr:last-of-type th {\n",
              "        text-align: right;\n",
              "    }\n",
              "</style>\n",
              "<table border=\"1\" class=\"dataframe\">\n",
              "  <thead>\n",
              "    <tr>\n",
              "      <th>Price</th>\n",
              "      <th>Close</th>\n",
              "      <th>High</th>\n",
              "      <th>Low</th>\n",
              "      <th>Open</th>\n",
              "      <th>Volume</th>\n",
              "    </tr>\n",
              "    <tr>\n",
              "      <th>Ticker</th>\n",
              "      <th>VOO</th>\n",
              "      <th>VOO</th>\n",
              "      <th>VOO</th>\n",
              "      <th>VOO</th>\n",
              "      <th>VOO</th>\n",
              "    </tr>\n",
              "    <tr>\n",
              "      <th>Date</th>\n",
              "      <th></th>\n",
              "      <th></th>\n",
              "      <th></th>\n",
              "      <th></th>\n",
              "      <th></th>\n",
              "    </tr>\n",
              "  </thead>\n",
              "  <tbody>\n",
              "    <tr>\n",
              "      <th>2024-01-02</th>\n",
              "      <td>428.376892</td>\n",
              "      <td>429.620518</td>\n",
              "      <td>426.748284</td>\n",
              "      <td>428.278184</td>\n",
              "      <td>9076000</td>\n",
              "    </tr>\n",
              "    <tr>\n",
              "      <th>2024-01-03</th>\n",
              "      <td>425.198700</td>\n",
              "      <td>427.380007</td>\n",
              "      <td>424.665700</td>\n",
              "      <td>426.708841</td>\n",
              "      <td>4805000</td>\n",
              "    </tr>\n",
              "    <tr>\n",
              "      <th>2024-01-04</th>\n",
              "      <td>423.856323</td>\n",
              "      <td>427.162849</td>\n",
              "      <td>423.639177</td>\n",
              "      <td>424.744636</td>\n",
              "      <td>3945300</td>\n",
              "    </tr>\n",
              "    <tr>\n",
              "      <th>2024-01-05</th>\n",
              "      <td>424.399200</td>\n",
              "      <td>426.689066</td>\n",
              "      <td>423.076596</td>\n",
              "      <td>424.014248</td>\n",
              "      <td>5723100</td>\n",
              "    </tr>\n",
              "    <tr>\n",
              "      <th>2024-01-08</th>\n",
              "      <td>430.469360</td>\n",
              "      <td>430.607528</td>\n",
              "      <td>424.784111</td>\n",
              "      <td>424.863090</td>\n",
              "      <td>7222400</td>\n",
              "    </tr>\n",
              "    <tr>\n",
              "      <th>...</th>\n",
              "      <td>...</td>\n",
              "      <td>...</td>\n",
              "      <td>...</td>\n",
              "      <td>...</td>\n",
              "      <td>...</td>\n",
              "    </tr>\n",
              "    <tr>\n",
              "      <th>2024-12-23</th>\n",
              "      <td>547.190002</td>\n",
              "      <td>547.359985</td>\n",
              "      <td>540.320007</td>\n",
              "      <td>543.309998</td>\n",
              "      <td>7063400</td>\n",
              "    </tr>\n",
              "    <tr>\n",
              "      <th>2024-12-24</th>\n",
              "      <td>552.820007</td>\n",
              "      <td>552.900024</td>\n",
              "      <td>547.539978</td>\n",
              "      <td>548.059998</td>\n",
              "      <td>3439300</td>\n",
              "    </tr>\n",
              "    <tr>\n",
              "      <th>2024-12-26</th>\n",
              "      <td>552.809998</td>\n",
              "      <td>553.969971</td>\n",
              "      <td>549.919983</td>\n",
              "      <td>551.200012</td>\n",
              "      <td>4492000</td>\n",
              "    </tr>\n",
              "    <tr>\n",
              "      <th>2024-12-27</th>\n",
              "      <td>547.080017</td>\n",
              "      <td>549.619995</td>\n",
              "      <td>543.200012</td>\n",
              "      <td>549.369995</td>\n",
              "      <td>7077100</td>\n",
              "    </tr>\n",
              "    <tr>\n",
              "      <th>2024-12-30</th>\n",
              "      <td>540.989990</td>\n",
              "      <td>544.090027</td>\n",
              "      <td>537.400024</td>\n",
              "      <td>540.559998</td>\n",
              "      <td>6505100</td>\n",
              "    </tr>\n",
              "  </tbody>\n",
              "</table>\n",
              "<p>251 rows × 5 columns</p>\n",
              "</div>\n",
              "    <div class=\"colab-df-buttons\">\n",
              "\n",
              "  <div class=\"colab-df-container\">\n",
              "    <button class=\"colab-df-convert\" onclick=\"convertToInteractive('df-c2b17295-4452-452a-a311-c70b039bb3bd')\"\n",
              "            title=\"Convert this dataframe to an interactive table.\"\n",
              "            style=\"display:none;\">\n",
              "\n",
              "  <svg xmlns=\"http://www.w3.org/2000/svg\" height=\"24px\" viewBox=\"0 -960 960 960\">\n",
              "    <path d=\"M120-120v-720h720v720H120Zm60-500h600v-160H180v160Zm220 220h160v-160H400v160Zm0 220h160v-160H400v160ZM180-400h160v-160H180v160Zm440 0h160v-160H620v160ZM180-180h160v-160H180v160Zm440 0h160v-160H620v160Z\"/>\n",
              "  </svg>\n",
              "    </button>\n",
              "\n",
              "  <style>\n",
              "    .colab-df-container {\n",
              "      display:flex;\n",
              "      gap: 12px;\n",
              "    }\n",
              "\n",
              "    .colab-df-convert {\n",
              "      background-color: #E8F0FE;\n",
              "      border: none;\n",
              "      border-radius: 50%;\n",
              "      cursor: pointer;\n",
              "      display: none;\n",
              "      fill: #1967D2;\n",
              "      height: 32px;\n",
              "      padding: 0 0 0 0;\n",
              "      width: 32px;\n",
              "    }\n",
              "\n",
              "    .colab-df-convert:hover {\n",
              "      background-color: #E2EBFA;\n",
              "      box-shadow: 0px 1px 2px rgba(60, 64, 67, 0.3), 0px 1px 3px 1px rgba(60, 64, 67, 0.15);\n",
              "      fill: #174EA6;\n",
              "    }\n",
              "\n",
              "    .colab-df-buttons div {\n",
              "      margin-bottom: 4px;\n",
              "    }\n",
              "\n",
              "    [theme=dark] .colab-df-convert {\n",
              "      background-color: #3B4455;\n",
              "      fill: #D2E3FC;\n",
              "    }\n",
              "\n",
              "    [theme=dark] .colab-df-convert:hover {\n",
              "      background-color: #434B5C;\n",
              "      box-shadow: 0px 1px 3px 1px rgba(0, 0, 0, 0.15);\n",
              "      filter: drop-shadow(0px 1px 2px rgba(0, 0, 0, 0.3));\n",
              "      fill: #FFFFFF;\n",
              "    }\n",
              "  </style>\n",
              "\n",
              "    <script>\n",
              "      const buttonEl =\n",
              "        document.querySelector('#df-c2b17295-4452-452a-a311-c70b039bb3bd button.colab-df-convert');\n",
              "      buttonEl.style.display =\n",
              "        google.colab.kernel.accessAllowed ? 'block' : 'none';\n",
              "\n",
              "      async function convertToInteractive(key) {\n",
              "        const element = document.querySelector('#df-c2b17295-4452-452a-a311-c70b039bb3bd');\n",
              "        const dataTable =\n",
              "          await google.colab.kernel.invokeFunction('convertToInteractive',\n",
              "                                                    [key], {});\n",
              "        if (!dataTable) return;\n",
              "\n",
              "        const docLinkHtml = 'Like what you see? Visit the ' +\n",
              "          '<a target=\"_blank\" href=https://colab.research.google.com/notebooks/data_table.ipynb>data table notebook</a>'\n",
              "          + ' to learn more about interactive tables.';\n",
              "        element.innerHTML = '';\n",
              "        dataTable['output_type'] = 'display_data';\n",
              "        await google.colab.output.renderOutput(dataTable, element);\n",
              "        const docLink = document.createElement('div');\n",
              "        docLink.innerHTML = docLinkHtml;\n",
              "        element.appendChild(docLink);\n",
              "      }\n",
              "    </script>\n",
              "  </div>\n",
              "\n",
              "\n",
              "<div id=\"df-3940002c-9d41-441a-9cf1-d9d7f27b0688\">\n",
              "  <button class=\"colab-df-quickchart\" onclick=\"quickchart('df-3940002c-9d41-441a-9cf1-d9d7f27b0688')\"\n",
              "            title=\"Suggest charts\"\n",
              "            style=\"display:none;\">\n",
              "\n",
              "<svg xmlns=\"http://www.w3.org/2000/svg\" height=\"24px\"viewBox=\"0 0 24 24\"\n",
              "     width=\"24px\">\n",
              "    <g>\n",
              "        <path d=\"M19 3H5c-1.1 0-2 .9-2 2v14c0 1.1.9 2 2 2h14c1.1 0 2-.9 2-2V5c0-1.1-.9-2-2-2zM9 17H7v-7h2v7zm4 0h-2V7h2v10zm4 0h-2v-4h2v4z\"/>\n",
              "    </g>\n",
              "</svg>\n",
              "  </button>\n",
              "\n",
              "<style>\n",
              "  .colab-df-quickchart {\n",
              "      --bg-color: #E8F0FE;\n",
              "      --fill-color: #1967D2;\n",
              "      --hover-bg-color: #E2EBFA;\n",
              "      --hover-fill-color: #174EA6;\n",
              "      --disabled-fill-color: #AAA;\n",
              "      --disabled-bg-color: #DDD;\n",
              "  }\n",
              "\n",
              "  [theme=dark] .colab-df-quickchart {\n",
              "      --bg-color: #3B4455;\n",
              "      --fill-color: #D2E3FC;\n",
              "      --hover-bg-color: #434B5C;\n",
              "      --hover-fill-color: #FFFFFF;\n",
              "      --disabled-bg-color: #3B4455;\n",
              "      --disabled-fill-color: #666;\n",
              "  }\n",
              "\n",
              "  .colab-df-quickchart {\n",
              "    background-color: var(--bg-color);\n",
              "    border: none;\n",
              "    border-radius: 50%;\n",
              "    cursor: pointer;\n",
              "    display: none;\n",
              "    fill: var(--fill-color);\n",
              "    height: 32px;\n",
              "    padding: 0;\n",
              "    width: 32px;\n",
              "  }\n",
              "\n",
              "  .colab-df-quickchart:hover {\n",
              "    background-color: var(--hover-bg-color);\n",
              "    box-shadow: 0 1px 2px rgba(60, 64, 67, 0.3), 0 1px 3px 1px rgba(60, 64, 67, 0.15);\n",
              "    fill: var(--button-hover-fill-color);\n",
              "  }\n",
              "\n",
              "  .colab-df-quickchart-complete:disabled,\n",
              "  .colab-df-quickchart-complete:disabled:hover {\n",
              "    background-color: var(--disabled-bg-color);\n",
              "    fill: var(--disabled-fill-color);\n",
              "    box-shadow: none;\n",
              "  }\n",
              "\n",
              "  .colab-df-spinner {\n",
              "    border: 2px solid var(--fill-color);\n",
              "    border-color: transparent;\n",
              "    border-bottom-color: var(--fill-color);\n",
              "    animation:\n",
              "      spin 1s steps(1) infinite;\n",
              "  }\n",
              "\n",
              "  @keyframes spin {\n",
              "    0% {\n",
              "      border-color: transparent;\n",
              "      border-bottom-color: var(--fill-color);\n",
              "      border-left-color: var(--fill-color);\n",
              "    }\n",
              "    20% {\n",
              "      border-color: transparent;\n",
              "      border-left-color: var(--fill-color);\n",
              "      border-top-color: var(--fill-color);\n",
              "    }\n",
              "    30% {\n",
              "      border-color: transparent;\n",
              "      border-left-color: var(--fill-color);\n",
              "      border-top-color: var(--fill-color);\n",
              "      border-right-color: var(--fill-color);\n",
              "    }\n",
              "    40% {\n",
              "      border-color: transparent;\n",
              "      border-right-color: var(--fill-color);\n",
              "      border-top-color: var(--fill-color);\n",
              "    }\n",
              "    60% {\n",
              "      border-color: transparent;\n",
              "      border-right-color: var(--fill-color);\n",
              "    }\n",
              "    80% {\n",
              "      border-color: transparent;\n",
              "      border-right-color: var(--fill-color);\n",
              "      border-bottom-color: var(--fill-color);\n",
              "    }\n",
              "    90% {\n",
              "      border-color: transparent;\n",
              "      border-bottom-color: var(--fill-color);\n",
              "    }\n",
              "  }\n",
              "</style>\n",
              "\n",
              "  <script>\n",
              "    async function quickchart(key) {\n",
              "      const quickchartButtonEl =\n",
              "        document.querySelector('#' + key + ' button');\n",
              "      quickchartButtonEl.disabled = true;  // To prevent multiple clicks.\n",
              "      quickchartButtonEl.classList.add('colab-df-spinner');\n",
              "      try {\n",
              "        const charts = await google.colab.kernel.invokeFunction(\n",
              "            'suggestCharts', [key], {});\n",
              "      } catch (error) {\n",
              "        console.error('Error during call to suggestCharts:', error);\n",
              "      }\n",
              "      quickchartButtonEl.classList.remove('colab-df-spinner');\n",
              "      quickchartButtonEl.classList.add('colab-df-quickchart-complete');\n",
              "    }\n",
              "    (() => {\n",
              "      let quickchartButtonEl =\n",
              "        document.querySelector('#df-3940002c-9d41-441a-9cf1-d9d7f27b0688 button');\n",
              "      quickchartButtonEl.style.display =\n",
              "        google.colab.kernel.accessAllowed ? 'block' : 'none';\n",
              "    })();\n",
              "  </script>\n",
              "</div>\n",
              "\n",
              "  <div id=\"id_a6898410-3df1-49a0-8712-68fa048196bf\">\n",
              "    <style>\n",
              "      .colab-df-generate {\n",
              "        background-color: #E8F0FE;\n",
              "        border: none;\n",
              "        border-radius: 50%;\n",
              "        cursor: pointer;\n",
              "        display: none;\n",
              "        fill: #1967D2;\n",
              "        height: 32px;\n",
              "        padding: 0 0 0 0;\n",
              "        width: 32px;\n",
              "      }\n",
              "\n",
              "      .colab-df-generate:hover {\n",
              "        background-color: #E2EBFA;\n",
              "        box-shadow: 0px 1px 2px rgba(60, 64, 67, 0.3), 0px 1px 3px 1px rgba(60, 64, 67, 0.15);\n",
              "        fill: #174EA6;\n",
              "      }\n",
              "\n",
              "      [theme=dark] .colab-df-generate {\n",
              "        background-color: #3B4455;\n",
              "        fill: #D2E3FC;\n",
              "      }\n",
              "\n",
              "      [theme=dark] .colab-df-generate:hover {\n",
              "        background-color: #434B5C;\n",
              "        box-shadow: 0px 1px 3px 1px rgba(0, 0, 0, 0.15);\n",
              "        filter: drop-shadow(0px 1px 2px rgba(0, 0, 0, 0.3));\n",
              "        fill: #FFFFFF;\n",
              "      }\n",
              "    </style>\n",
              "    <button class=\"colab-df-generate\" onclick=\"generateWithVariable('snp')\"\n",
              "            title=\"Generate code using this dataframe.\"\n",
              "            style=\"display:none;\">\n",
              "\n",
              "  <svg xmlns=\"http://www.w3.org/2000/svg\" height=\"24px\"viewBox=\"0 0 24 24\"\n",
              "       width=\"24px\">\n",
              "    <path d=\"M7,19H8.4L18.45,9,17,7.55,7,17.6ZM5,21V16.75L18.45,3.32a2,2,0,0,1,2.83,0l1.4,1.43a1.91,1.91,0,0,1,.58,1.4,1.91,1.91,0,0,1-.58,1.4L9.25,21ZM18.45,9,17,7.55Zm-12,3A5.31,5.31,0,0,0,4.9,8.1,5.31,5.31,0,0,0,1,6.5,5.31,5.31,0,0,0,4.9,4.9,5.31,5.31,0,0,0,6.5,1,5.31,5.31,0,0,0,8.1,4.9,5.31,5.31,0,0,0,12,6.5,5.46,5.46,0,0,0,6.5,12Z\"/>\n",
              "  </svg>\n",
              "    </button>\n",
              "    <script>\n",
              "      (() => {\n",
              "      const buttonEl =\n",
              "        document.querySelector('#id_a6898410-3df1-49a0-8712-68fa048196bf button.colab-df-generate');\n",
              "      buttonEl.style.display =\n",
              "        google.colab.kernel.accessAllowed ? 'block' : 'none';\n",
              "\n",
              "      buttonEl.onclick = () => {\n",
              "        google.colab.notebook.generateWithVariable('snp');\n",
              "      }\n",
              "      })();\n",
              "    </script>\n",
              "  </div>\n",
              "\n",
              "    </div>\n",
              "  </div>\n"
            ],
            "application/vnd.google.colaboratory.intrinsic+json": {
              "type": "dataframe",
              "variable_name": "snp",
              "summary": "{\n  \"name\": \"snp\",\n  \"rows\": 251,\n  \"fields\": [\n    {\n      \"column\": [\n        \"Date\",\n        \"\"\n      ],\n      \"properties\": {\n        \"dtype\": \"date\",\n        \"min\": \"2024-01-02 00:00:00\",\n        \"max\": \"2024-12-30 00:00:00\",\n        \"num_unique_values\": 251,\n        \"samples\": [\n          \"2024-08-14 00:00:00\",\n          \"2024-01-10 00:00:00\",\n          \"2024-08-27 00:00:00\"\n        ],\n        \"semantic_type\": \"\",\n        \"description\": \"\"\n      }\n    },\n    {\n      \"column\": [\n        \"Close\",\n        \"VOO\"\n      ],\n      \"properties\": {\n        \"dtype\": \"number\",\n        \"std\": 35.32213793552329,\n        \"min\": 423.8563232421875,\n        \"max\": 557.0370483398438,\n        \"num_unique_values\": 251,\n        \"samples\": [\n          496.6579284667969,\n          432.2558898925781,\n          512.8356323242188\n        ],\n        \"semantic_type\": \"\",\n        \"description\": \"\"\n      }\n    },\n    {\n      \"column\": [\n        \"High\",\n        \"VOO\"\n      ],\n      \"properties\": {\n        \"dtype\": \"number\",\n        \"std\": 35.468906061503894,\n        \"min\": 426.6890657276506,\n        \"max\": 558.1734256822916,\n        \"num_unique_values\": 251,\n        \"samples\": [\n          497.7013456970999,\n          433.04549448093536,\n          513.3424358662755\n        ],\n        \"semantic_type\": \"\",\n        \"description\": \"\"\n      }\n    },\n    {\n      \"column\": [\n        \"Low\",\n        \"VOO\"\n      ],\n      \"properties\": {\n        \"dtype\": \"number\",\n        \"std\": 35.255038795404765,\n        \"min\": 423.07659622562454,\n        \"max\": 556.2994191022467,\n        \"num_unique_values\": 251,\n        \"samples\": [\n          493.3588231374327,\n          429.82782716796964,\n          509.933945505277\n        ],\n        \"semantic_type\": \"\",\n        \"description\": \"\"\n      }\n    },\n    {\n      \"column\": [\n        \"Open\",\n        \"VOO\"\n      ],\n      \"properties\": {\n        \"dtype\": \"number\",\n        \"std\": 35.48707322691522,\n        \"min\": 424.01424788182874,\n        \"max\": 556.9274065200127,\n        \"num_unique_values\": 251,\n        \"samples\": [\n          495.78348617785025,\n          430.11404151139567,\n          511.02706664439717\n        ],\n        \"semantic_type\": \"\",\n        \"description\": \"\"\n      }\n    },\n    {\n      \"column\": [\n        \"Volume\",\n        \"VOO\"\n      ],\n      \"properties\": {\n        \"dtype\": \"number\",\n        \"std\": 3622691,\n        \"min\": 2131100,\n        \"max\": 35418000,\n        \"num_unique_values\": 250,\n        \"samples\": [\n          3636000,\n          4278800,\n          2453600\n        ],\n        \"semantic_type\": \"\",\n        \"description\": \"\"\n      }\n    }\n  ]\n}"
            }
          },
          "metadata": {},
          "execution_count": 3
        }
      ]
    },
    {
      "cell_type": "code",
      "source": [
        "# Removing the 'Ticker' column level leaving only the 'Price' level\n",
        "# The 'Ticker' level has no valuable information becouse all the information in this DF is about the same ticker\n",
        "snp.columns = snp.columns.get_level_values(0)"
      ],
      "metadata": {
        "id": "Iehn7AfKx9t6"
      },
      "execution_count": 4,
      "outputs": []
    },
    {
      "cell_type": "code",
      "source": [
        "snp"
      ],
      "metadata": {
        "colab": {
          "base_uri": "https://localhost:8080/",
          "height": 455
        },
        "id": "OIn3uiAIceYZ",
        "outputId": "c46485b3-57f0-4184-f97d-2f2177571c0d"
      },
      "execution_count": 5,
      "outputs": [
        {
          "output_type": "execute_result",
          "data": {
            "text/plain": [
              "Price            Close        High         Low        Open   Volume\n",
              "Date                                                               \n",
              "2024-01-02  428.376892  429.620518  426.748284  428.278184  9076000\n",
              "2024-01-03  425.198700  427.380007  424.665700  426.708841  4805000\n",
              "2024-01-04  423.856323  427.162849  423.639177  424.744636  3945300\n",
              "2024-01-05  424.399200  426.689066  423.076596  424.014248  5723100\n",
              "2024-01-08  430.469360  430.607528  424.784111  424.863090  7222400\n",
              "...                ...         ...         ...         ...      ...\n",
              "2024-12-23  547.190002  547.359985  540.320007  543.309998  7063400\n",
              "2024-12-24  552.820007  552.900024  547.539978  548.059998  3439300\n",
              "2024-12-26  552.809998  553.969971  549.919983  551.200012  4492000\n",
              "2024-12-27  547.080017  549.619995  543.200012  549.369995  7077100\n",
              "2024-12-30  540.989990  544.090027  537.400024  540.559998  6505100\n",
              "\n",
              "[251 rows x 5 columns]"
            ],
            "text/html": [
              "\n",
              "  <div id=\"df-4e8665fb-65a3-4a12-8d52-40ff331ee035\" class=\"colab-df-container\">\n",
              "    <div>\n",
              "<style scoped>\n",
              "    .dataframe tbody tr th:only-of-type {\n",
              "        vertical-align: middle;\n",
              "    }\n",
              "\n",
              "    .dataframe tbody tr th {\n",
              "        vertical-align: top;\n",
              "    }\n",
              "\n",
              "    .dataframe thead th {\n",
              "        text-align: right;\n",
              "    }\n",
              "</style>\n",
              "<table border=\"1\" class=\"dataframe\">\n",
              "  <thead>\n",
              "    <tr style=\"text-align: right;\">\n",
              "      <th>Price</th>\n",
              "      <th>Close</th>\n",
              "      <th>High</th>\n",
              "      <th>Low</th>\n",
              "      <th>Open</th>\n",
              "      <th>Volume</th>\n",
              "    </tr>\n",
              "    <tr>\n",
              "      <th>Date</th>\n",
              "      <th></th>\n",
              "      <th></th>\n",
              "      <th></th>\n",
              "      <th></th>\n",
              "      <th></th>\n",
              "    </tr>\n",
              "  </thead>\n",
              "  <tbody>\n",
              "    <tr>\n",
              "      <th>2024-01-02</th>\n",
              "      <td>428.376892</td>\n",
              "      <td>429.620518</td>\n",
              "      <td>426.748284</td>\n",
              "      <td>428.278184</td>\n",
              "      <td>9076000</td>\n",
              "    </tr>\n",
              "    <tr>\n",
              "      <th>2024-01-03</th>\n",
              "      <td>425.198700</td>\n",
              "      <td>427.380007</td>\n",
              "      <td>424.665700</td>\n",
              "      <td>426.708841</td>\n",
              "      <td>4805000</td>\n",
              "    </tr>\n",
              "    <tr>\n",
              "      <th>2024-01-04</th>\n",
              "      <td>423.856323</td>\n",
              "      <td>427.162849</td>\n",
              "      <td>423.639177</td>\n",
              "      <td>424.744636</td>\n",
              "      <td>3945300</td>\n",
              "    </tr>\n",
              "    <tr>\n",
              "      <th>2024-01-05</th>\n",
              "      <td>424.399200</td>\n",
              "      <td>426.689066</td>\n",
              "      <td>423.076596</td>\n",
              "      <td>424.014248</td>\n",
              "      <td>5723100</td>\n",
              "    </tr>\n",
              "    <tr>\n",
              "      <th>2024-01-08</th>\n",
              "      <td>430.469360</td>\n",
              "      <td>430.607528</td>\n",
              "      <td>424.784111</td>\n",
              "      <td>424.863090</td>\n",
              "      <td>7222400</td>\n",
              "    </tr>\n",
              "    <tr>\n",
              "      <th>...</th>\n",
              "      <td>...</td>\n",
              "      <td>...</td>\n",
              "      <td>...</td>\n",
              "      <td>...</td>\n",
              "      <td>...</td>\n",
              "    </tr>\n",
              "    <tr>\n",
              "      <th>2024-12-23</th>\n",
              "      <td>547.190002</td>\n",
              "      <td>547.359985</td>\n",
              "      <td>540.320007</td>\n",
              "      <td>543.309998</td>\n",
              "      <td>7063400</td>\n",
              "    </tr>\n",
              "    <tr>\n",
              "      <th>2024-12-24</th>\n",
              "      <td>552.820007</td>\n",
              "      <td>552.900024</td>\n",
              "      <td>547.539978</td>\n",
              "      <td>548.059998</td>\n",
              "      <td>3439300</td>\n",
              "    </tr>\n",
              "    <tr>\n",
              "      <th>2024-12-26</th>\n",
              "      <td>552.809998</td>\n",
              "      <td>553.969971</td>\n",
              "      <td>549.919983</td>\n",
              "      <td>551.200012</td>\n",
              "      <td>4492000</td>\n",
              "    </tr>\n",
              "    <tr>\n",
              "      <th>2024-12-27</th>\n",
              "      <td>547.080017</td>\n",
              "      <td>549.619995</td>\n",
              "      <td>543.200012</td>\n",
              "      <td>549.369995</td>\n",
              "      <td>7077100</td>\n",
              "    </tr>\n",
              "    <tr>\n",
              "      <th>2024-12-30</th>\n",
              "      <td>540.989990</td>\n",
              "      <td>544.090027</td>\n",
              "      <td>537.400024</td>\n",
              "      <td>540.559998</td>\n",
              "      <td>6505100</td>\n",
              "    </tr>\n",
              "  </tbody>\n",
              "</table>\n",
              "<p>251 rows × 5 columns</p>\n",
              "</div>\n",
              "    <div class=\"colab-df-buttons\">\n",
              "\n",
              "  <div class=\"colab-df-container\">\n",
              "    <button class=\"colab-df-convert\" onclick=\"convertToInteractive('df-4e8665fb-65a3-4a12-8d52-40ff331ee035')\"\n",
              "            title=\"Convert this dataframe to an interactive table.\"\n",
              "            style=\"display:none;\">\n",
              "\n",
              "  <svg xmlns=\"http://www.w3.org/2000/svg\" height=\"24px\" viewBox=\"0 -960 960 960\">\n",
              "    <path d=\"M120-120v-720h720v720H120Zm60-500h600v-160H180v160Zm220 220h160v-160H400v160Zm0 220h160v-160H400v160ZM180-400h160v-160H180v160Zm440 0h160v-160H620v160ZM180-180h160v-160H180v160Zm440 0h160v-160H620v160Z\"/>\n",
              "  </svg>\n",
              "    </button>\n",
              "\n",
              "  <style>\n",
              "    .colab-df-container {\n",
              "      display:flex;\n",
              "      gap: 12px;\n",
              "    }\n",
              "\n",
              "    .colab-df-convert {\n",
              "      background-color: #E8F0FE;\n",
              "      border: none;\n",
              "      border-radius: 50%;\n",
              "      cursor: pointer;\n",
              "      display: none;\n",
              "      fill: #1967D2;\n",
              "      height: 32px;\n",
              "      padding: 0 0 0 0;\n",
              "      width: 32px;\n",
              "    }\n",
              "\n",
              "    .colab-df-convert:hover {\n",
              "      background-color: #E2EBFA;\n",
              "      box-shadow: 0px 1px 2px rgba(60, 64, 67, 0.3), 0px 1px 3px 1px rgba(60, 64, 67, 0.15);\n",
              "      fill: #174EA6;\n",
              "    }\n",
              "\n",
              "    .colab-df-buttons div {\n",
              "      margin-bottom: 4px;\n",
              "    }\n",
              "\n",
              "    [theme=dark] .colab-df-convert {\n",
              "      background-color: #3B4455;\n",
              "      fill: #D2E3FC;\n",
              "    }\n",
              "\n",
              "    [theme=dark] .colab-df-convert:hover {\n",
              "      background-color: #434B5C;\n",
              "      box-shadow: 0px 1px 3px 1px rgba(0, 0, 0, 0.15);\n",
              "      filter: drop-shadow(0px 1px 2px rgba(0, 0, 0, 0.3));\n",
              "      fill: #FFFFFF;\n",
              "    }\n",
              "  </style>\n",
              "\n",
              "    <script>\n",
              "      const buttonEl =\n",
              "        document.querySelector('#df-4e8665fb-65a3-4a12-8d52-40ff331ee035 button.colab-df-convert');\n",
              "      buttonEl.style.display =\n",
              "        google.colab.kernel.accessAllowed ? 'block' : 'none';\n",
              "\n",
              "      async function convertToInteractive(key) {\n",
              "        const element = document.querySelector('#df-4e8665fb-65a3-4a12-8d52-40ff331ee035');\n",
              "        const dataTable =\n",
              "          await google.colab.kernel.invokeFunction('convertToInteractive',\n",
              "                                                    [key], {});\n",
              "        if (!dataTable) return;\n",
              "\n",
              "        const docLinkHtml = 'Like what you see? Visit the ' +\n",
              "          '<a target=\"_blank\" href=https://colab.research.google.com/notebooks/data_table.ipynb>data table notebook</a>'\n",
              "          + ' to learn more about interactive tables.';\n",
              "        element.innerHTML = '';\n",
              "        dataTable['output_type'] = 'display_data';\n",
              "        await google.colab.output.renderOutput(dataTable, element);\n",
              "        const docLink = document.createElement('div');\n",
              "        docLink.innerHTML = docLinkHtml;\n",
              "        element.appendChild(docLink);\n",
              "      }\n",
              "    </script>\n",
              "  </div>\n",
              "\n",
              "\n",
              "<div id=\"df-4c390743-739d-46a7-82bd-549c2a8c35ec\">\n",
              "  <button class=\"colab-df-quickchart\" onclick=\"quickchart('df-4c390743-739d-46a7-82bd-549c2a8c35ec')\"\n",
              "            title=\"Suggest charts\"\n",
              "            style=\"display:none;\">\n",
              "\n",
              "<svg xmlns=\"http://www.w3.org/2000/svg\" height=\"24px\"viewBox=\"0 0 24 24\"\n",
              "     width=\"24px\">\n",
              "    <g>\n",
              "        <path d=\"M19 3H5c-1.1 0-2 .9-2 2v14c0 1.1.9 2 2 2h14c1.1 0 2-.9 2-2V5c0-1.1-.9-2-2-2zM9 17H7v-7h2v7zm4 0h-2V7h2v10zm4 0h-2v-4h2v4z\"/>\n",
              "    </g>\n",
              "</svg>\n",
              "  </button>\n",
              "\n",
              "<style>\n",
              "  .colab-df-quickchart {\n",
              "      --bg-color: #E8F0FE;\n",
              "      --fill-color: #1967D2;\n",
              "      --hover-bg-color: #E2EBFA;\n",
              "      --hover-fill-color: #174EA6;\n",
              "      --disabled-fill-color: #AAA;\n",
              "      --disabled-bg-color: #DDD;\n",
              "  }\n",
              "\n",
              "  [theme=dark] .colab-df-quickchart {\n",
              "      --bg-color: #3B4455;\n",
              "      --fill-color: #D2E3FC;\n",
              "      --hover-bg-color: #434B5C;\n",
              "      --hover-fill-color: #FFFFFF;\n",
              "      --disabled-bg-color: #3B4455;\n",
              "      --disabled-fill-color: #666;\n",
              "  }\n",
              "\n",
              "  .colab-df-quickchart {\n",
              "    background-color: var(--bg-color);\n",
              "    border: none;\n",
              "    border-radius: 50%;\n",
              "    cursor: pointer;\n",
              "    display: none;\n",
              "    fill: var(--fill-color);\n",
              "    height: 32px;\n",
              "    padding: 0;\n",
              "    width: 32px;\n",
              "  }\n",
              "\n",
              "  .colab-df-quickchart:hover {\n",
              "    background-color: var(--hover-bg-color);\n",
              "    box-shadow: 0 1px 2px rgba(60, 64, 67, 0.3), 0 1px 3px 1px rgba(60, 64, 67, 0.15);\n",
              "    fill: var(--button-hover-fill-color);\n",
              "  }\n",
              "\n",
              "  .colab-df-quickchart-complete:disabled,\n",
              "  .colab-df-quickchart-complete:disabled:hover {\n",
              "    background-color: var(--disabled-bg-color);\n",
              "    fill: var(--disabled-fill-color);\n",
              "    box-shadow: none;\n",
              "  }\n",
              "\n",
              "  .colab-df-spinner {\n",
              "    border: 2px solid var(--fill-color);\n",
              "    border-color: transparent;\n",
              "    border-bottom-color: var(--fill-color);\n",
              "    animation:\n",
              "      spin 1s steps(1) infinite;\n",
              "  }\n",
              "\n",
              "  @keyframes spin {\n",
              "    0% {\n",
              "      border-color: transparent;\n",
              "      border-bottom-color: var(--fill-color);\n",
              "      border-left-color: var(--fill-color);\n",
              "    }\n",
              "    20% {\n",
              "      border-color: transparent;\n",
              "      border-left-color: var(--fill-color);\n",
              "      border-top-color: var(--fill-color);\n",
              "    }\n",
              "    30% {\n",
              "      border-color: transparent;\n",
              "      border-left-color: var(--fill-color);\n",
              "      border-top-color: var(--fill-color);\n",
              "      border-right-color: var(--fill-color);\n",
              "    }\n",
              "    40% {\n",
              "      border-color: transparent;\n",
              "      border-right-color: var(--fill-color);\n",
              "      border-top-color: var(--fill-color);\n",
              "    }\n",
              "    60% {\n",
              "      border-color: transparent;\n",
              "      border-right-color: var(--fill-color);\n",
              "    }\n",
              "    80% {\n",
              "      border-color: transparent;\n",
              "      border-right-color: var(--fill-color);\n",
              "      border-bottom-color: var(--fill-color);\n",
              "    }\n",
              "    90% {\n",
              "      border-color: transparent;\n",
              "      border-bottom-color: var(--fill-color);\n",
              "    }\n",
              "  }\n",
              "</style>\n",
              "\n",
              "  <script>\n",
              "    async function quickchart(key) {\n",
              "      const quickchartButtonEl =\n",
              "        document.querySelector('#' + key + ' button');\n",
              "      quickchartButtonEl.disabled = true;  // To prevent multiple clicks.\n",
              "      quickchartButtonEl.classList.add('colab-df-spinner');\n",
              "      try {\n",
              "        const charts = await google.colab.kernel.invokeFunction(\n",
              "            'suggestCharts', [key], {});\n",
              "      } catch (error) {\n",
              "        console.error('Error during call to suggestCharts:', error);\n",
              "      }\n",
              "      quickchartButtonEl.classList.remove('colab-df-spinner');\n",
              "      quickchartButtonEl.classList.add('colab-df-quickchart-complete');\n",
              "    }\n",
              "    (() => {\n",
              "      let quickchartButtonEl =\n",
              "        document.querySelector('#df-4c390743-739d-46a7-82bd-549c2a8c35ec button');\n",
              "      quickchartButtonEl.style.display =\n",
              "        google.colab.kernel.accessAllowed ? 'block' : 'none';\n",
              "    })();\n",
              "  </script>\n",
              "</div>\n",
              "\n",
              "  <div id=\"id_0ccdfe09-44e8-4c3f-98f2-ea7a598714b1\">\n",
              "    <style>\n",
              "      .colab-df-generate {\n",
              "        background-color: #E8F0FE;\n",
              "        border: none;\n",
              "        border-radius: 50%;\n",
              "        cursor: pointer;\n",
              "        display: none;\n",
              "        fill: #1967D2;\n",
              "        height: 32px;\n",
              "        padding: 0 0 0 0;\n",
              "        width: 32px;\n",
              "      }\n",
              "\n",
              "      .colab-df-generate:hover {\n",
              "        background-color: #E2EBFA;\n",
              "        box-shadow: 0px 1px 2px rgba(60, 64, 67, 0.3), 0px 1px 3px 1px rgba(60, 64, 67, 0.15);\n",
              "        fill: #174EA6;\n",
              "      }\n",
              "\n",
              "      [theme=dark] .colab-df-generate {\n",
              "        background-color: #3B4455;\n",
              "        fill: #D2E3FC;\n",
              "      }\n",
              "\n",
              "      [theme=dark] .colab-df-generate:hover {\n",
              "        background-color: #434B5C;\n",
              "        box-shadow: 0px 1px 3px 1px rgba(0, 0, 0, 0.15);\n",
              "        filter: drop-shadow(0px 1px 2px rgba(0, 0, 0, 0.3));\n",
              "        fill: #FFFFFF;\n",
              "      }\n",
              "    </style>\n",
              "    <button class=\"colab-df-generate\" onclick=\"generateWithVariable('snp')\"\n",
              "            title=\"Generate code using this dataframe.\"\n",
              "            style=\"display:none;\">\n",
              "\n",
              "  <svg xmlns=\"http://www.w3.org/2000/svg\" height=\"24px\"viewBox=\"0 0 24 24\"\n",
              "       width=\"24px\">\n",
              "    <path d=\"M7,19H8.4L18.45,9,17,7.55,7,17.6ZM5,21V16.75L18.45,3.32a2,2,0,0,1,2.83,0l1.4,1.43a1.91,1.91,0,0,1,.58,1.4,1.91,1.91,0,0,1-.58,1.4L9.25,21ZM18.45,9,17,7.55Zm-12,3A5.31,5.31,0,0,0,4.9,8.1,5.31,5.31,0,0,0,1,6.5,5.31,5.31,0,0,0,4.9,4.9,5.31,5.31,0,0,0,6.5,1,5.31,5.31,0,0,0,8.1,4.9,5.31,5.31,0,0,0,12,6.5,5.46,5.46,0,0,0,6.5,12Z\"/>\n",
              "  </svg>\n",
              "    </button>\n",
              "    <script>\n",
              "      (() => {\n",
              "      const buttonEl =\n",
              "        document.querySelector('#id_0ccdfe09-44e8-4c3f-98f2-ea7a598714b1 button.colab-df-generate');\n",
              "      buttonEl.style.display =\n",
              "        google.colab.kernel.accessAllowed ? 'block' : 'none';\n",
              "\n",
              "      buttonEl.onclick = () => {\n",
              "        google.colab.notebook.generateWithVariable('snp');\n",
              "      }\n",
              "      })();\n",
              "    </script>\n",
              "  </div>\n",
              "\n",
              "    </div>\n",
              "  </div>\n"
            ],
            "application/vnd.google.colaboratory.intrinsic+json": {
              "type": "dataframe",
              "variable_name": "snp",
              "summary": "{\n  \"name\": \"snp\",\n  \"rows\": 251,\n  \"fields\": [\n    {\n      \"column\": \"Date\",\n      \"properties\": {\n        \"dtype\": \"date\",\n        \"min\": \"2024-01-02 00:00:00\",\n        \"max\": \"2024-12-30 00:00:00\",\n        \"num_unique_values\": 251,\n        \"samples\": [\n          \"2024-08-14 00:00:00\",\n          \"2024-01-10 00:00:00\",\n          \"2024-08-27 00:00:00\"\n        ],\n        \"semantic_type\": \"\",\n        \"description\": \"\"\n      }\n    },\n    {\n      \"column\": \"Close\",\n      \"properties\": {\n        \"dtype\": \"number\",\n        \"std\": 35.32213793552329,\n        \"min\": 423.8563232421875,\n        \"max\": 557.0370483398438,\n        \"num_unique_values\": 251,\n        \"samples\": [\n          496.6579284667969,\n          432.2558898925781,\n          512.8356323242188\n        ],\n        \"semantic_type\": \"\",\n        \"description\": \"\"\n      }\n    },\n    {\n      \"column\": \"High\",\n      \"properties\": {\n        \"dtype\": \"number\",\n        \"std\": 35.468906061503894,\n        \"min\": 426.6890657276506,\n        \"max\": 558.1734256822916,\n        \"num_unique_values\": 251,\n        \"samples\": [\n          497.7013456970999,\n          433.04549448093536,\n          513.3424358662755\n        ],\n        \"semantic_type\": \"\",\n        \"description\": \"\"\n      }\n    },\n    {\n      \"column\": \"Low\",\n      \"properties\": {\n        \"dtype\": \"number\",\n        \"std\": 35.255038795404765,\n        \"min\": 423.07659622562454,\n        \"max\": 556.2994191022467,\n        \"num_unique_values\": 251,\n        \"samples\": [\n          493.3588231374327,\n          429.82782716796964,\n          509.933945505277\n        ],\n        \"semantic_type\": \"\",\n        \"description\": \"\"\n      }\n    },\n    {\n      \"column\": \"Open\",\n      \"properties\": {\n        \"dtype\": \"number\",\n        \"std\": 35.48707322691522,\n        \"min\": 424.01424788182874,\n        \"max\": 556.9274065200127,\n        \"num_unique_values\": 251,\n        \"samples\": [\n          495.78348617785025,\n          430.11404151139567,\n          511.02706664439717\n        ],\n        \"semantic_type\": \"\",\n        \"description\": \"\"\n      }\n    },\n    {\n      \"column\": \"Volume\",\n      \"properties\": {\n        \"dtype\": \"number\",\n        \"std\": 3622691,\n        \"min\": 2131100,\n        \"max\": 35418000,\n        \"num_unique_values\": 250,\n        \"samples\": [\n          3636000,\n          4278800,\n          2453600\n        ],\n        \"semantic_type\": \"\",\n        \"description\": \"\"\n      }\n    }\n  ]\n}"
            }
          },
          "metadata": {},
          "execution_count": 5
        }
      ]
    },
    {
      "cell_type": "code",
      "source": [
        "# Plot the graph of the S&P500 throught 2024\n",
        "plt.figure(figsize=(10, 5))\n",
        "plt.plot(snp.index, snp['Close'])\n",
        "\n",
        "\n",
        "plt.xlabel('Date')\n",
        "plt.ylabel('Price')\n",
        "plt.title('S&P500 price Jan 1st-Dec 31 2024')\n",
        "plt.show()"
      ],
      "metadata": {
        "colab": {
          "base_uri": "https://localhost:8080/",
          "height": 487
        },
        "id": "x310SocQgwop",
        "outputId": "176fdddc-a6ea-476a-efe9-40f2be03350a"
      },
      "execution_count": 6,
      "outputs": [
        {
          "output_type": "display_data",
          "data": {
            "text/plain": [
              "<Figure size 1000x500 with 1 Axes>"
            ],
            "image/png": "[encoded data removed]"
          },
          "metadata": {}
        }
      ]
    },
    {
      "cell_type": "markdown",
      "source": [
        "\n",
        "##<u>**Part 2**<u/>"
      ],
      "metadata": {
        "id": "o9-hUQ8iq0CU"
      }
    },
    {
      "cell_type": "code",
      "source": [
        "snp.head(5)"
      ],
      "metadata": {
        "colab": {
          "base_uri": "https://localhost:8080/",
          "height": 237
        },
        "id": "7F8ZcM10q6Rs",
        "outputId": "d5b38fcb-2154-48ea-f573-ae2b987b82a5"
      },
      "execution_count": 7,
      "outputs": [
        {
          "output_type": "execute_result",
          "data": {
            "text/plain": [
              "Price            Close        High         Low        Open   Volume\n",
              "Date                                                               \n",
              "2024-01-02  428.376892  429.620518  426.748284  428.278184  9076000\n",
              "2024-01-03  425.198700  427.380007  424.665700  426.708841  4805000\n",
              "2024-01-04  423.856323  427.162849  423.639177  424.744636  3945300\n",
              "2024-01-05  424.399200  426.689066  423.076596  424.014248  5723100\n",
              "2024-01-08  430.469360  430.607528  424.784111  424.863090  7222400"
            ],
            "text/html": [
              "\n",
              "  <div id=\"df-f7e3a7af-38c0-4155-9b02-6657397cd84a\" class=\"colab-df-container\">\n",
              "    <div>\n",
              "<style scoped>\n",
              "    .dataframe tbody tr th:only-of-type {\n",
              "        vertical-align: middle;\n",
              "    }\n",
              "\n",
              "    .dataframe tbody tr th {\n",
              "        vertical-align: top;\n",
              "    }\n",
              "\n",
              "    .dataframe thead th {\n",
              "        text-align: right;\n",
              "    }\n",
              "</style>\n",
              "<table border=\"1\" class=\"dataframe\">\n",
              "  <thead>\n",
              "    <tr style=\"text-align: right;\">\n",
              "      <th>Price</th>\n",
              "      <th>Close</th>\n",
              "      <th>High</th>\n",
              "      <th>Low</th>\n",
              "      <th>Open</th>\n",
              "      <th>Volume</th>\n",
              "    </tr>\n",
              "    <tr>\n",
              "      <th>Date</th>\n",
              "      <th></th>\n",
              "      <th></th>\n",
              "      <th></th>\n",
              "      <th></th>\n",
              "      <th></th>\n",
              "    </tr>\n",
              "  </thead>\n",
              "  <tbody>\n",
              "    <tr>\n",
              "      <th>2024-01-02</th>\n",
              "      <td>428.376892</td>\n",
              "      <td>429.620518</td>\n",
              "      <td>426.748284</td>\n",
              "      <td>428.278184</td>\n",
              "      <td>9076000</td>\n",
              "    </tr>\n",
              "    <tr>\n",
              "      <th>2024-01-03</th>\n",
              "      <td>425.198700</td>\n",
              "      <td>427.380007</td>\n",
              "      <td>424.665700</td>\n",
              "      <td>426.708841</td>\n",
              "      <td>4805000</td>\n",
              "    </tr>\n",
              "    <tr>\n",
              "      <th>2024-01-04</th>\n",
              "      <td>423.856323</td>\n",
              "      <td>427.162849</td>\n",
              "      <td>423.639177</td>\n",
              "      <td>424.744636</td>\n",
              "      <td>3945300</td>\n",
              "    </tr>\n",
              "    <tr>\n",
              "      <th>2024-01-05</th>\n",
              "      <td>424.399200</td>\n",
              "      <td>426.689066</td>\n",
              "      <td>423.076596</td>\n",
              "      <td>424.014248</td>\n",
              "      <td>5723100</td>\n",
              "    </tr>\n",
              "    <tr>\n",
              "      <th>2024-01-08</th>\n",
              "      <td>430.469360</td>\n",
              "      <td>430.607528</td>\n",
              "      <td>424.784111</td>\n",
              "      <td>424.863090</td>\n",
              "      <td>7222400</td>\n",
              "    </tr>\n",
              "  </tbody>\n",
              "</table>\n",
              "</div>\n",
              "    <div class=\"colab-df-buttons\">\n",
              "\n",
              "  <div class=\"colab-df-container\">\n",
              "    <button class=\"colab-df-convert\" onclick=\"convertToInteractive('df-f7e3a7af-38c0-4155-9b02-6657397cd84a')\"\n",
              "            title=\"Convert this dataframe to an interactive table.\"\n",
              "            style=\"display:none;\">\n",
              "\n",
              "  <svg xmlns=\"http://www.w3.org/2000/svg\" height=\"24px\" viewBox=\"0 -960 960 960\">\n",
              "    <path d=\"M120-120v-720h720v720H120Zm60-500h600v-160H180v160Zm220 220h160v-160H400v160Zm0 220h160v-160H400v160ZM180-400h160v-160H180v160Zm440 0h160v-160H620v160ZM180-180h160v-160H180v160Zm440 0h160v-160H620v160Z\"/>\n",
              "  </svg>\n",
              "    </button>\n",
              "\n",
              "  <style>\n",
              "    .colab-df-container {\n",
              "      display:flex;\n",
              "      gap: 12px;\n",
              "    }\n",
              "\n",
              "    .colab-df-convert {\n",
              "      background-color: #E8F0FE;\n",
              "      border: none;\n",
              "      border-radius: 50%;\n",
              "      cursor: pointer;\n",
              "      display: none;\n",
              "      fill: #1967D2;\n",
              "      height: 32px;\n",
              "      padding: 0 0 0 0;\n",
              "      width: 32px;\n",
              "    }\n",
              "\n",
              "    .colab-df-convert:hover {\n",
              "      background-color: #E2EBFA;\n",
              "      box-shadow: 0px 1px 2px rgba(60, 64, 67, 0.3), 0px 1px 3px 1px rgba(60, 64, 67, 0.15);\n",
              "      fill: #174EA6;\n",
              "    }\n",
              "\n",
              "    .colab-df-buttons div {\n",
              "      margin-bottom: 4px;\n",
              "    }\n",
              "\n",
              "    [theme=dark] .colab-df-convert {\n",
              "      background-color: #3B4455;\n",
              "      fill: #D2E3FC;\n",
              "    }\n",
              "\n",
              "    [theme=dark] .colab-df-convert:hover {\n",
              "      background-color: #434B5C;\n",
              "      box-shadow: 0px 1px 3px 1px rgba(0, 0, 0, 0.15);\n",
              "      filter: drop-shadow(0px 1px 2px rgba(0, 0, 0, 0.3));\n",
              "      fill: #FFFFFF;\n",
              "    }\n",
              "  </style>\n",
              "\n",
              "    <script>\n",
              "      const buttonEl =\n",
              "        document.querySelector('#df-f7e3a7af-38c0-4155-9b02-6657397cd84a button.colab-df-convert');\n",
              "      buttonEl.style.display =\n",
              "        google.colab.kernel.accessAllowed ? 'block' : 'none';\n",
              "\n",
              "      async function convertToInteractive(key) {\n",
              "        const element = document.querySelector('#df-f7e3a7af-38c0-4155-9b02-6657397cd84a');\n",
              "        const dataTable =\n",
              "          await google.colab.kernel.invokeFunction('convertToInteractive',\n",
              "                                                    [key], {});\n",
              "        if (!dataTable) return;\n",
              "\n",
              "        const docLinkHtml = 'Like what you see? Visit the ' +\n",
              "          '<a target=\"_blank\" href=https://colab.research.google.com/notebooks/data_table.ipynb>data table notebook</a>'\n",
              "          + ' to learn more about interactive tables.';\n",
              "        element.innerHTML = '';\n",
              "        dataTable['output_type'] = 'display_data';\n",
              "        await google.colab.output.renderOutput(dataTable, element);\n",
              "        const docLink = document.createElement('div');\n",
              "        docLink.innerHTML = docLinkHtml;\n",
              "        element.appendChild(docLink);\n",
              "      }\n",
              "    </script>\n",
              "  </div>\n",
              "\n",
              "\n",
              "<div id=\"df-9626ab6d-a615-4802-bffd-5f0fd44d57a6\">\n",
              "  <button class=\"colab-df-quickchart\" onclick=\"quickchart('df-9626ab6d-a615-4802-bffd-5f0fd44d57a6')\"\n",
              "            title=\"Suggest charts\"\n",
              "            style=\"display:none;\">\n",
              "\n",
              "<svg xmlns=\"http://www.w3.org/2000/svg\" height=\"24px\"viewBox=\"0 0 24 24\"\n",
              "     width=\"24px\">\n",
              "    <g>\n",
              "        <path d=\"M19 3H5c-1.1 0-2 .9-2 2v14c0 1.1.9 2 2 2h14c1.1 0 2-.9 2-2V5c0-1.1-.9-2-2-2zM9 17H7v-7h2v7zm4 0h-2V7h2v10zm4 0h-2v-4h2v4z\"/>\n",
              "    </g>\n",
              "</svg>\n",
              "  </button>\n",
              "\n",
              "<style>\n",
              "  .colab-df-quickchart {\n",
              "      --bg-color: #E8F0FE;\n",
              "      --fill-color: #1967D2;\n",
              "      --hover-bg-color: #E2EBFA;\n",
              "      --hover-fill-color: #174EA6;\n",
              "      --disabled-fill-color: #AAA;\n",
              "      --disabled-bg-color: #DDD;\n",
              "  }\n",
              "\n",
              "  [theme=dark] .colab-df-quickchart {\n",
              "      --bg-color: #3B4455;\n",
              "      --fill-color: #D2E3FC;\n",
              "      --hover-bg-color: #434B5C;\n",
              "      --hover-fill-color: #FFFFFF;\n",
              "      --disabled-bg-color: #3B4455;\n",
              "      --disabled-fill-color: #666;\n",
              "  }\n",
              "\n",
              "  .colab-df-quickchart {\n",
              "    background-color: var(--bg-color);\n",
              "    border: none;\n",
              "    border-radius: 50%;\n",
              "    cursor: pointer;\n",
              "    display: none;\n",
              "    fill: var(--fill-color);\n",
              "    height: 32px;\n",
              "    padding: 0;\n",
              "    width: 32px;\n",
              "  }\n",
              "\n",
              "  .colab-df-quickchart:hover {\n",
              "    background-color: var(--hover-bg-color);\n",
              "    box-shadow: 0 1px 2px rgba(60, 64, 67, 0.3), 0 1px 3px 1px rgba(60, 64, 67, 0.15);\n",
              "    fill: var(--button-hover-fill-color);\n",
              "  }\n",
              "\n",
              "  .colab-df-quickchart-complete:disabled,\n",
              "  .colab-df-quickchart-complete:disabled:hover {\n",
              "    background-color: var(--disabled-bg-color);\n",
              "    fill: var(--disabled-fill-color);\n",
              "    box-shadow: none;\n",
              "  }\n",
              "\n",
              "  .colab-df-spinner {\n",
              "    border: 2px solid var(--fill-color);\n",
              "    border-color: transparent;\n",
              "    border-bottom-color: var(--fill-color);\n",
              "    animation:\n",
              "      spin 1s steps(1) infinite;\n",
              "  }\n",
              "\n",
              "  @keyframes spin {\n",
              "    0% {\n",
              "      border-color: transparent;\n",
              "      border-bottom-color: var(--fill-color);\n",
              "      border-left-color: var(--fill-color);\n",
              "    }\n",
              "    20% {\n",
              "      border-color: transparent;\n",
              "      border-left-color: var(--fill-color);\n",
              "      border-top-color: var(--fill-color);\n",
              "    }\n",
              "    30% {\n",
              "      border-color: transparent;\n",
              "      border-left-color: var(--fill-color);\n",
              "      border-top-color: var(--fill-color);\n",
              "      border-right-color: var(--fill-color);\n",
              "    }\n",
              "    40% {\n",
              "      border-color: transparent;\n",
              "      border-right-color: var(--fill-color);\n",
              "      border-top-color: var(--fill-color);\n",
              "    }\n",
              "    60% {\n",
              "      border-color: transparent;\n",
              "      border-right-color: var(--fill-color);\n",
              "    }\n",
              "    80% {\n",
              "      border-color: transparent;\n",
              "      border-right-color: var(--fill-color);\n",
              "      border-bottom-color: var(--fill-color);\n",
              "    }\n",
              "    90% {\n",
              "      border-color: transparent;\n",
              "      border-bottom-color: var(--fill-color);\n",
              "    }\n",
              "  }\n",
              "</style>\n",
              "\n",
              "  <script>\n",
              "    async function quickchart(key) {\n",
              "      const quickchartButtonEl =\n",
              "        document.querySelector('#' + key + ' button');\n",
              "      quickchartButtonEl.disabled = true;  // To prevent multiple clicks.\n",
              "      quickchartButtonEl.classList.add('colab-df-spinner');\n",
              "      try {\n",
              "        const charts = await google.colab.kernel.invokeFunction(\n",
              "            'suggestCharts', [key], {});\n",
              "      } catch (error) {\n",
              "        console.error('Error during call to suggestCharts:', error);\n",
              "      }\n",
              "      quickchartButtonEl.classList.remove('colab-df-spinner');\n",
              "      quickchartButtonEl.classList.add('colab-df-quickchart-complete');\n",
              "    }\n",
              "    (() => {\n",
              "      let quickchartButtonEl =\n",
              "        document.querySelector('#df-9626ab6d-a615-4802-bffd-5f0fd44d57a6 button');\n",
              "      quickchartButtonEl.style.display =\n",
              "        google.colab.kernel.accessAllowed ? 'block' : 'none';\n",
              "    })();\n",
              "  </script>\n",
              "</div>\n",
              "\n",
              "    </div>\n",
              "  </div>\n"
            ],
            "application/vnd.google.colaboratory.intrinsic+json": {
              "type": "dataframe",
              "variable_name": "snp",
              "summary": "{\n  \"name\": \"snp\",\n  \"rows\": 251,\n  \"fields\": [\n    {\n      \"column\": \"Date\",\n      \"properties\": {\n        \"dtype\": \"date\",\n        \"min\": \"2024-01-02 00:00:00\",\n        \"max\": \"2024-12-30 00:00:00\",\n        \"num_unique_values\": 251,\n        \"samples\": [\n          \"2024-08-14 00:00:00\",\n          \"2024-01-10 00:00:00\",\n          \"2024-08-27 00:00:00\"\n        ],\n        \"semantic_type\": \"\",\n        \"description\": \"\"\n      }\n    },\n    {\n      \"column\": \"Close\",\n      \"properties\": {\n        \"dtype\": \"number\",\n        \"std\": 35.32213793552329,\n        \"min\": 423.8563232421875,\n        \"max\": 557.0370483398438,\n        \"num_unique_values\": 251,\n        \"samples\": [\n          496.6579284667969,\n          432.2558898925781,\n          512.8356323242188\n        ],\n        \"semantic_type\": \"\",\n        \"description\": \"\"\n      }\n    },\n    {\n      \"column\": \"High\",\n      \"properties\": {\n        \"dtype\": \"number\",\n        \"std\": 35.468906061503894,\n        \"min\": 426.6890657276506,\n        \"max\": 558.1734256822916,\n        \"num_unique_values\": 251,\n        \"samples\": [\n          497.7013456970999,\n          433.04549448093536,\n          513.3424358662755\n        ],\n        \"semantic_type\": \"\",\n        \"description\": \"\"\n      }\n    },\n    {\n      \"column\": \"Low\",\n      \"properties\": {\n        \"dtype\": \"number\",\n        \"std\": 35.255038795404765,\n        \"min\": 423.07659622562454,\n        \"max\": 556.2994191022467,\n        \"num_unique_values\": 251,\n        \"samples\": [\n          493.3588231374327,\n          429.82782716796964,\n          509.933945505277\n        ],\n        \"semantic_type\": \"\",\n        \"description\": \"\"\n      }\n    },\n    {\n      \"column\": \"Open\",\n      \"properties\": {\n        \"dtype\": \"number\",\n        \"std\": 35.48707322691522,\n        \"min\": 424.01424788182874,\n        \"max\": 556.9274065200127,\n        \"num_unique_values\": 251,\n        \"samples\": [\n          495.78348617785025,\n          430.11404151139567,\n          511.02706664439717\n        ],\n        \"semantic_type\": \"\",\n        \"description\": \"\"\n      }\n    },\n    {\n      \"column\": \"Volume\",\n      \"properties\": {\n        \"dtype\": \"number\",\n        \"std\": 3622691,\n        \"min\": 2131100,\n        \"max\": 35418000,\n        \"num_unique_values\": 250,\n        \"samples\": [\n          3636000,\n          4278800,\n          2453600\n        ],\n        \"semantic_type\": \"\",\n        \"description\": \"\"\n      }\n    }\n  ]\n}"
            }
          },
          "metadata": {},
          "execution_count": 7
        }
      ]
    },
    {
      "cell_type": "code",
      "source": [
        "snp.info()"
      ],
      "metadata": {
        "colab": {
          "base_uri": "https://localhost:8080/"
        },
        "id": "GwYsZG28xLBd",
        "outputId": "9b98abcb-0b4c-4562-f65b-5f55a6a2c0b6"
      },
      "execution_count": 8,
      "outputs": [
        {
          "output_type": "stream",
          "name": "stdout",
          "text": [
            "<class 'pandas.core.frame.DataFrame'>\n",
            "DatetimeIndex: 251 entries, 2024-01-02 to 2024-12-30\n",
            "Data columns (total 5 columns):\n",
            " #   Column  Non-Null Count  Dtype  \n",
            "---  ------  --------------  -----  \n",
            " 0   Close   251 non-null    float64\n",
            " 1   High    251 non-null    float64\n",
            " 2   Low     251 non-null    float64\n",
            " 3   Open    251 non-null    float64\n",
            " 4   Volume  251 non-null    int64  \n",
            "dtypes: float64(4), int64(1)\n",
            "memory usage: 11.8 KB\n"
          ]
        }
      ]
    },
    {
      "cell_type": "markdown",
      "source": [
        "##<u>**Part 3**<u/>"
      ],
      "metadata": {
        "id": "9FwgJVbW_GT3"
      }
    },
    {
      "cell_type": "code",
      "source": [
        "# A function to retrive the price type of the stock in a specified date\n",
        "# I will use this function alot in this code\n",
        "def get_stock_statistics(date_type, date: str | int, type_of_data: str):\n",
        "    \"\"\"\n",
        "    This function takes a date and the type of data you need from that date\n",
        "    and returns the data you requested.\n",
        "    Types of data:\n",
        "        - Adj Close\n",
        "        - Close\n",
        "        - High\n",
        "        - Low\n",
        "        - Open\n",
        "        - Volume\n",
        "\n",
        "    Date formats:\n",
        "        - \"full\" : \"YYYY-MM-DD\": str\n",
        "        - \"month\" : M: int\n",
        "        - \"day\" : D: int\n",
        "    \"\"\"\n",
        "\n",
        "    date_type = date_type.lower()\n",
        "    type_of_data = type_of_data.capitalize()\n",
        "\n",
        "    if date_type == \"full\":\n",
        "        return snp[snp.index == date][type_of_data].values[0]\n",
        "    elif date_type == \"month\":\n",
        "        return snp[snp.index.month == date][type_of_data]\n",
        "    elif date_type == \"day\":\n",
        "        return snp[snp.index.day == date][type_of_data]"
      ],
      "metadata": {
        "id": "rXPh0glagt4c"
      },
      "execution_count": 9,
      "outputs": []
    },
    {
      "cell_type": "markdown",
      "source": [
        "### What was the price on Daniel's birthday? Saturday July 27, 2024"
      ],
      "metadata": {
        "id": "7Mlj0lEVd2bS"
      }
    },
    {
      "cell_type": "code",
      "source": [
        "# Find the price at a given date (type: float)\n",
        "daniel_price = get_stock_statistics(\"full\", '2024-07-26', \"Close\").mean() # 27.07.2024 was a Saturday so I took a day before\n",
        "# Print the data in visuly apealing format\n",
        "print(f\"${daniel_price:.2f}\")"
      ],
      "metadata": {
        "colab": {
          "base_uri": "https://localhost:8080/"
        },
        "id": "4leh5CL1dplE",
        "outputId": "d16e92e4-706f-49da-bfea-62515cf9c3ab"
      },
      "execution_count": 10,
      "outputs": [
        {
          "output_type": "stream",
          "name": "stdout",
          "text": [
            "$497.18\n"
          ]
        }
      ]
    },
    {
      "cell_type": "markdown",
      "source": [
        "### What was the price on Sivan's birthday? Saturday Novemer 7, 2024"
      ],
      "metadata": {
        "id": "PFHUBd8lffZy"
      }
    },
    {
      "cell_type": "code",
      "source": [
        "# Find the price at a given date (type: float)\n",
        "sivan_price = get_stock_statistics(\"full\", '2024-11-07', \"Close\").mean()\n",
        "# Print the data in visuly apealing format\n",
        "print(f\"${sivan_price:.2f}\")"
      ],
      "metadata": {
        "colab": {
          "base_uri": "https://localhost:8080/"
        },
        "id": "obwUik_KeFMf",
        "outputId": "878c0246-ed0c-4c82-94ef-dd892fca752d"
      },
      "execution_count": 11,
      "outputs": [
        {
          "output_type": "stream",
          "name": "stdout",
          "text": [
            "$545.78\n"
          ]
        }
      ]
    },
    {
      "cell_type": "markdown",
      "source": [
        "---\n",
        "##What the price at the start of each quarter?"
      ],
      "metadata": {
        "id": "zQUvnHywh20J"
      }
    },
    {
      "cell_type": "markdown",
      "source": [
        "####Q1"
      ],
      "metadata": {
        "id": "20ZbgxVxiJiX"
      }
    },
    {
      "cell_type": "code",
      "source": [
        "q1_price = get_stock_statistics(\"full\", '2024-01-02', \"Open\") # In 2024 trading started on the 2nd of January\n",
        "print(f\"${q1_price:.2f}\")"
      ],
      "metadata": {
        "colab": {
          "base_uri": "https://localhost:8080/"
        },
        "id": "vwzlanrnh8_u",
        "outputId": "f8eb0115-30fc-4dc1-de69-52b8d4f34069"
      },
      "execution_count": 12,
      "outputs": [
        {
          "output_type": "stream",
          "name": "stdout",
          "text": [
            "$428.28\n"
          ]
        }
      ]
    },
    {
      "cell_type": "markdown",
      "source": [
        "####Q2"
      ],
      "metadata": {
        "id": "m2LJa2B_pfq5"
      }
    },
    {
      "cell_type": "code",
      "source": [
        "q1_price = get_stock_statistics(\"full\", '2024-04-01', \"Open\")\n",
        "print(f\"${q1_price:.2f}\")"
      ],
      "metadata": {
        "colab": {
          "base_uri": "https://localhost:8080/"
        },
        "id": "JlEljPMsiQh-",
        "outputId": "e841fa2b-569c-4f62-ee30-bad4da6efe94"
      },
      "execution_count": 13,
      "outputs": [
        {
          "output_type": "stream",
          "name": "stdout",
          "text": [
            "$476.72\n"
          ]
        }
      ]
    },
    {
      "cell_type": "markdown",
      "source": [
        "####Q3"
      ],
      "metadata": {
        "id": "PnS2XMvCpkvK"
      }
    },
    {
      "cell_type": "code",
      "source": [
        "q1_price = get_stock_statistics(\"full\", '2024-07-01', \"Open\")\n",
        "print(f\"${q1_price:.2f}\")"
      ],
      "metadata": {
        "colab": {
          "base_uri": "https://localhost:8080/"
        },
        "id": "zRBcQhr2pjMU",
        "outputId": "f6ed1f6a-6b80-47b1-9049-3bc952bcffb7"
      },
      "execution_count": 14,
      "outputs": [
        {
          "output_type": "stream",
          "name": "stdout",
          "text": [
            "$498.34\n"
          ]
        }
      ]
    },
    {
      "cell_type": "markdown",
      "source": [
        "####Q4"
      ],
      "metadata": {
        "id": "ailF_jjRpscU"
      }
    },
    {
      "cell_type": "code",
      "source": [
        "q1_price = get_stock_statistics(\"full\", '2024-10-01', \"Open\")\n",
        "print(f\"${q1_price:.2f}\")"
      ],
      "metadata": {
        "colab": {
          "base_uri": "https://localhost:8080/"
        },
        "id": "bHPxPVPZprPu",
        "outputId": "a812b88a-2017-4f0f-b474-c64cf1d6a620"
      },
      "execution_count": 15,
      "outputs": [
        {
          "output_type": "stream",
          "name": "stdout",
          "text": [
            "$525.36\n"
          ]
        }
      ]
    },
    {
      "cell_type": "markdown",
      "source": [
        "---\n",
        "###April Avarages"
      ],
      "metadata": {
        "id": "IuVAtWWMI00R"
      }
    },
    {
      "cell_type": "code",
      "source": [
        "# Save all the April statisitics in to variables and then print it\n",
        "apr_open_mean = get_stock_statistics('month', 4, 'Open').mean()\n",
        "apr_close_mean = get_stock_statistics('month', 4, 'Close').mean()\n",
        "apr_high_mean = get_stock_statistics('month', 4, 'High').mean()\n",
        "apr_low_mean = get_stock_statistics('month', 4, 'Low').mean()\n",
        "apr_volume_mean = get_stock_statistics('month', 4, 'Volume').mean()"
      ],
      "metadata": {
        "id": "IqwjdRf7IeOO"
      },
      "execution_count": 16,
      "outputs": []
    },
    {
      "cell_type": "code",
      "source": [
        "print(\"April Avarages :\")\n",
        "print(f\"Open : ${apr_open_mean:.2f}\")\n",
        "print(f\"Close : ${apr_close_mean:.2f}\")\n",
        "print(f\"High : ${apr_high_mean:.2f}\")\n",
        "print(f\"Low : ${apr_low_mean:.2f}\")\n",
        "print(f\"Vloume : {int(apr_volume_mean)} stocks per day\")"
      ],
      "metadata": {
        "colab": {
          "base_uri": "https://localhost:8080/"
        },
        "id": "TzDa07JSMFz1",
        "outputId": "8b14f6b1-19f1-44bd-e6ef-bdedb7418869"
      },
      "execution_count": 17,
      "outputs": [
        {
          "output_type": "stream",
          "name": "stdout",
          "text": [
            "April Avarages :\n",
            "Open : $464.92\n",
            "Close : $463.75\n",
            "High : $466.77\n",
            "Low : $461.54\n",
            "Vloume : 6010645 stocks per day\n"
          ]
        }
      ]
    },
    {
      "cell_type": "code",
      "source": [
        "snp.describe()"
      ],
      "metadata": {
        "colab": {
          "base_uri": "https://localhost:8080/",
          "height": 300
        },
        "id": "LOFNBqNXZaM1",
        "outputId": "f4aabf2c-5af2-492e-8a37-a04f50b5e992"
      },
      "execution_count": 18,
      "outputs": [
        {
          "output_type": "execute_result",
          "data": {
            "text/plain": [
              "Price       Close        High         Low        Open        Volume\n",
              "count  251.000000  251.000000  251.000000  251.000000  2.510000e+02\n",
              "mean   493.785316  495.854110  491.385191  493.783531  5.423427e+06\n",
              "std     35.322138   35.468906   35.255039   35.487073  3.622692e+06\n",
              "min    423.856323  426.689066  423.076596  424.014248  2.131100e+06\n",
              "25%    465.341507  469.028832  463.598748  465.933055  3.664100e+06\n",
              "50%    494.948730  498.285868  492.633413  495.226984  4.609500e+06\n",
              "75%    521.998627  524.321753  520.444183  522.874489  5.916850e+06\n",
              "max    557.037048  558.173426  556.299419  556.927407  3.541800e+07"
            ],
            "text/html": [
              "\n",
              "  <div id=\"df-3e00c493-5806-4092-beb4-f4a9770ef404\" class=\"colab-df-container\">\n",
              "    <div>\n",
              "<style scoped>\n",
              "    .dataframe tbody tr th:only-of-type {\n",
              "        vertical-align: middle;\n",
              "    }\n",
              "\n",
              "    .dataframe tbody tr th {\n",
              "        vertical-align: top;\n",
              "    }\n",
              "\n",
              "    .dataframe thead th {\n",
              "        text-align: right;\n",
              "    }\n",
              "</style>\n",
              "<table border=\"1\" class=\"dataframe\">\n",
              "  <thead>\n",
              "    <tr style=\"text-align: right;\">\n",
              "      <th>Price</th>\n",
              "      <th>Close</th>\n",
              "      <th>High</th>\n",
              "      <th>Low</th>\n",
              "      <th>Open</th>\n",
              "      <th>Volume</th>\n",
              "    </tr>\n",
              "  </thead>\n",
              "  <tbody>\n",
              "    <tr>\n",
              "      <th>count</th>\n",
              "      <td>251.000000</td>\n",
              "      <td>251.000000</td>\n",
              "      <td>251.000000</td>\n",
              "      <td>251.000000</td>\n",
              "      <td>2.510000e+02</td>\n",
              "    </tr>\n",
              "    <tr>\n",
              "      <th>mean</th>\n",
              "      <td>493.785316</td>\n",
              "      <td>495.854110</td>\n",
              "      <td>491.385191</td>\n",
              "      <td>493.783531</td>\n",
              "      <td>5.423427e+06</td>\n",
              "    </tr>\n",
              "    <tr>\n",
              "      <th>std</th>\n",
              "      <td>35.322138</td>\n",
              "      <td>35.468906</td>\n",
              "      <td>35.255039</td>\n",
              "      <td>35.487073</td>\n",
              "      <td>3.622692e+06</td>\n",
              "    </tr>\n",
              "    <tr>\n",
              "      <th>min</th>\n",
              "      <td>423.856323</td>\n",
              "      <td>426.689066</td>\n",
              "      <td>423.076596</td>\n",
              "      <td>424.014248</td>\n",
              "      <td>2.131100e+06</td>\n",
              "    </tr>\n",
              "    <tr>\n",
              "      <th>25%</th>\n",
              "      <td>465.341507</td>\n",
              "      <td>469.028832</td>\n",
              "      <td>463.598748</td>\n",
              "      <td>465.933055</td>\n",
              "      <td>3.664100e+06</td>\n",
              "    </tr>\n",
              "    <tr>\n",
              "      <th>50%</th>\n",
              "      <td>494.948730</td>\n",
              "      <td>498.285868</td>\n",
              "      <td>492.633413</td>\n",
              "      <td>495.226984</td>\n",
              "      <td>4.609500e+06</td>\n",
              "    </tr>\n",
              "    <tr>\n",
              "      <th>75%</th>\n",
              "      <td>521.998627</td>\n",
              "      <td>524.321753</td>\n",
              "      <td>520.444183</td>\n",
              "      <td>522.874489</td>\n",
              "      <td>5.916850e+06</td>\n",
              "    </tr>\n",
              "    <tr>\n",
              "      <th>max</th>\n",
              "      <td>557.037048</td>\n",
              "      <td>558.173426</td>\n",
              "      <td>556.299419</td>\n",
              "      <td>556.927407</td>\n",
              "      <td>3.541800e+07</td>\n",
              "    </tr>\n",
              "  </tbody>\n",
              "</table>\n",
              "</div>\n",
              "    <div class=\"colab-df-buttons\">\n",
              "\n",
              "  <div class=\"colab-df-container\">\n",
              "    <button class=\"colab-df-convert\" onclick=\"convertToInteractive('df-3e00c493-5806-4092-beb4-f4a9770ef404')\"\n",
              "            title=\"Convert this dataframe to an interactive table.\"\n",
              "            style=\"display:none;\">\n",
              "\n",
              "  <svg xmlns=\"http://www.w3.org/2000/svg\" height=\"24px\" viewBox=\"0 -960 960 960\">\n",
              "    <path d=\"M120-120v-720h720v720H120Zm60-500h600v-160H180v160Zm220 220h160v-160H400v160Zm0 220h160v-160H400v160ZM180-400h160v-160H180v160Zm440 0h160v-160H620v160ZM180-180h160v-160H180v160Zm440 0h160v-160H620v160Z\"/>\n",
              "  </svg>\n",
              "    </button>\n",
              "\n",
              "  <style>\n",
              "    .colab-df-container {\n",
              "      display:flex;\n",
              "      gap: 12px;\n",
              "    }\n",
              "\n",
              "    .colab-df-convert {\n",
              "      background-color: #E8F0FE;\n",
              "      border: none;\n",
              "      border-radius: 50%;\n",
              "      cursor: pointer;\n",
              "      display: none;\n",
              "      fill: #1967D2;\n",
              "      height: 32px;\n",
              "      padding: 0 0 0 0;\n",
              "      width: 32px;\n",
              "    }\n",
              "\n",
              "    .colab-df-convert:hover {\n",
              "      background-color: #E2EBFA;\n",
              "      box-shadow: 0px 1px 2px rgba(60, 64, 67, 0.3), 0px 1px 3px 1px rgba(60, 64, 67, 0.15);\n",
              "      fill: #174EA6;\n",
              "    }\n",
              "\n",
              "    .colab-df-buttons div {\n",
              "      margin-bottom: 4px;\n",
              "    }\n",
              "\n",
              "    [theme=dark] .colab-df-convert {\n",
              "      background-color: #3B4455;\n",
              "      fill: #D2E3FC;\n",
              "    }\n",
              "\n",
              "    [theme=dark] .colab-df-convert:hover {\n",
              "      background-color: #434B5C;\n",
              "      box-shadow: 0px 1px 3px 1px rgba(0, 0, 0, 0.15);\n",
              "      filter: drop-shadow(0px 1px 2px rgba(0, 0, 0, 0.3));\n",
              "      fill: #FFFFFF;\n",
              "    }\n",
              "  </style>\n",
              "\n",
              "    <script>\n",
              "      const buttonEl =\n",
              "        document.querySelector('#df-3e00c493-5806-4092-beb4-f4a9770ef404 button.colab-df-convert');\n",
              "      buttonEl.style.display =\n",
              "        google.colab.kernel.accessAllowed ? 'block' : 'none';\n",
              "\n",
              "      async function convertToInteractive(key) {\n",
              "        const element = document.querySelector('#df-3e00c493-5806-4092-beb4-f4a9770ef404');\n",
              "        const dataTable =\n",
              "          await google.colab.kernel.invokeFunction('convertToInteractive',\n",
              "                                                    [key], {});\n",
              "        if (!dataTable) return;\n",
              "\n",
              "        const docLinkHtml = 'Like what you see? Visit the ' +\n",
              "          '<a target=\"_blank\" href=https://colab.research.google.com/notebooks/data_table.ipynb>data table notebook</a>'\n",
              "          + ' to learn more about interactive tables.';\n",
              "        element.innerHTML = '';\n",
              "        dataTable['output_type'] = 'display_data';\n",
              "        await google.colab.output.renderOutput(dataTable, element);\n",
              "        const docLink = document.createElement('div');\n",
              "        docLink.innerHTML = docLinkHtml;\n",
              "        element.appendChild(docLink);\n",
              "      }\n",
              "    </script>\n",
              "  </div>\n",
              "\n",
              "\n",
              "<div id=\"df-faa401aa-135a-465d-859e-33af08168c13\">\n",
              "  <button class=\"colab-df-quickchart\" onclick=\"quickchart('df-faa401aa-135a-465d-859e-33af08168c13')\"\n",
              "            title=\"Suggest charts\"\n",
              "            style=\"display:none;\">\n",
              "\n",
              "<svg xmlns=\"http://www.w3.org/2000/svg\" height=\"24px\"viewBox=\"0 0 24 24\"\n",
              "     width=\"24px\">\n",
              "    <g>\n",
              "        <path d=\"M19 3H5c-1.1 0-2 .9-2 2v14c0 1.1.9 2 2 2h14c1.1 0 2-.9 2-2V5c0-1.1-.9-2-2-2zM9 17H7v-7h2v7zm4 0h-2V7h2v10zm4 0h-2v-4h2v4z\"/>\n",
              "    </g>\n",
              "</svg>\n",
              "  </button>\n",
              "\n",
              "<style>\n",
              "  .colab-df-quickchart {\n",
              "      --bg-color: #E8F0FE;\n",
              "      --fill-color: #1967D2;\n",
              "      --hover-bg-color: #E2EBFA;\n",
              "      --hover-fill-color: #174EA6;\n",
              "      --disabled-fill-color: #AAA;\n",
              "      --disabled-bg-color: #DDD;\n",
              "  }\n",
              "\n",
              "  [theme=dark] .colab-df-quickchart {\n",
              "      --bg-color: #3B4455;\n",
              "      --fill-color: #D2E3FC;\n",
              "      --hover-bg-color: #434B5C;\n",
              "      --hover-fill-color: #FFFFFF;\n",
              "      --disabled-bg-color: #3B4455;\n",
              "      --disabled-fill-color: #666;\n",
              "  }\n",
              "\n",
              "  .colab-df-quickchart {\n",
              "    background-color: var(--bg-color);\n",
              "    border: none;\n",
              "    border-radius: 50%;\n",
              "    cursor: pointer;\n",
              "    display: none;\n",
              "    fill: var(--fill-color);\n",
              "    height: 32px;\n",
              "    padding: 0;\n",
              "    width: 32px;\n",
              "  }\n",
              "\n",
              "  .colab-df-quickchart:hover {\n",
              "    background-color: var(--hover-bg-color);\n",
              "    box-shadow: 0 1px 2px rgba(60, 64, 67, 0.3), 0 1px 3px 1px rgba(60, 64, 67, 0.15);\n",
              "    fill: var(--button-hover-fill-color);\n",
              "  }\n",
              "\n",
              "  .colab-df-quickchart-complete:disabled,\n",
              "  .colab-df-quickchart-complete:disabled:hover {\n",
              "    background-color: var(--disabled-bg-color);\n",
              "    fill: var(--disabled-fill-color);\n",
              "    box-shadow: none;\n",
              "  }\n",
              "\n",
              "  .colab-df-spinner {\n",
              "    border: 2px solid var(--fill-color);\n",
              "    border-color: transparent;\n",
              "    border-bottom-color: var(--fill-color);\n",
              "    animation:\n",
              "      spin 1s steps(1) infinite;\n",
              "  }\n",
              "\n",
              "  @keyframes spin {\n",
              "    0% {\n",
              "      border-color: transparent;\n",
              "      border-bottom-color: var(--fill-color);\n",
              "      border-left-color: var(--fill-color);\n",
              "    }\n",
              "    20% {\n",
              "      border-color: transparent;\n",
              "      border-left-color: var(--fill-color);\n",
              "      border-top-color: var(--fill-color);\n",
              "    }\n",
              "    30% {\n",
              "      border-color: transparent;\n",
              "      border-left-color: var(--fill-color);\n",
              "      border-top-color: var(--fill-color);\n",
              "      border-right-color: var(--fill-color);\n",
              "    }\n",
              "    40% {\n",
              "      border-color: transparent;\n",
              "      border-right-color: var(--fill-color);\n",
              "      border-top-color: var(--fill-color);\n",
              "    }\n",
              "    60% {\n",
              "      border-color: transparent;\n",
              "      border-right-color: var(--fill-color);\n",
              "    }\n",
              "    80% {\n",
              "      border-color: transparent;\n",
              "      border-right-color: var(--fill-color);\n",
              "      border-bottom-color: var(--fill-color);\n",
              "    }\n",
              "    90% {\n",
              "      border-color: transparent;\n",
              "      border-bottom-color: var(--fill-color);\n",
              "    }\n",
              "  }\n",
              "</style>\n",
              "\n",
              "  <script>\n",
              "    async function quickchart(key) {\n",
              "      const quickchartButtonEl =\n",
              "        document.querySelector('#' + key + ' button');\n",
              "      quickchartButtonEl.disabled = true;  // To prevent multiple clicks.\n",
              "      quickchartButtonEl.classList.add('colab-df-spinner');\n",
              "      try {\n",
              "        const charts = await google.colab.kernel.invokeFunction(\n",
              "            'suggestCharts', [key], {});\n",
              "      } catch (error) {\n",
              "        console.error('Error during call to suggestCharts:', error);\n",
              "      }\n",
              "      quickchartButtonEl.classList.remove('colab-df-spinner');\n",
              "      quickchartButtonEl.classList.add('colab-df-quickchart-complete');\n",
              "    }\n",
              "    (() => {\n",
              "      let quickchartButtonEl =\n",
              "        document.querySelector('#df-faa401aa-135a-465d-859e-33af08168c13 button');\n",
              "      quickchartButtonEl.style.display =\n",
              "        google.colab.kernel.accessAllowed ? 'block' : 'none';\n",
              "    })();\n",
              "  </script>\n",
              "</div>\n",
              "\n",
              "    </div>\n",
              "  </div>\n"
            ],
            "application/vnd.google.colaboratory.intrinsic+json": {
              "type": "dataframe",
              "summary": "{\n  \"name\": \"snp\",\n  \"rows\": 8,\n  \"fields\": [\n    {\n      \"column\": \"Close\",\n      \"properties\": {\n        \"dtype\": \"number\",\n        \"std\": 176.1292449916464,\n        \"min\": 35.32213793552329,\n        \"max\": 557.0370483398438,\n        \"num_unique_values\": 8,\n        \"samples\": [\n          493.78531649768115,\n          494.94873046875,\n          251.0\n        ],\n        \"semantic_type\": \"\",\n        \"description\": \"\"\n      }\n    },\n    {\n      \"column\": \"High\",\n      \"properties\": {\n        \"dtype\": \"number\",\n        \"std\": 177.059939259526,\n        \"min\": 35.468906061503894,\n        \"max\": 558.1734256822916,\n        \"num_unique_values\": 8,\n        \"samples\": [\n          495.85411045003485,\n          498.28586839529464,\n          251.0\n        ],\n        \"semantic_type\": \"\",\n        \"description\": \"\"\n      }\n    },\n    {\n      \"column\": \"Low\",\n      \"properties\": {\n        \"dtype\": \"number\",\n        \"std\": 175.47642494216237,\n        \"min\": 35.255038795404765,\n        \"max\": 556.2994191022467,\n        \"num_unique_values\": 8,\n        \"samples\": [\n          491.385191087231,\n          492.6334130422087,\n          251.0\n        ],\n        \"semantic_type\": \"\",\n        \"description\": \"\"\n      }\n    },\n    {\n      \"column\": \"Open\",\n      \"properties\": {\n        \"dtype\": \"number\",\n        \"std\": 176.200574386839,\n        \"min\": 35.48707322691522,\n        \"max\": 556.9274065200127,\n        \"num_unique_values\": 8,\n        \"samples\": [\n          493.78353144326144,\n          495.2269842633394,\n          251.0\n        ],\n        \"semantic_type\": \"\",\n        \"description\": \"\"\n      }\n    },\n    {\n      \"column\": \"Volume\",\n      \"properties\": {\n        \"dtype\": \"number\",\n        \"std\": 11397556.095997553,\n        \"min\": 251.0,\n        \"max\": 35418000.0,\n        \"num_unique_values\": 8,\n        \"samples\": [\n          5423426.693227092,\n          4609500.0,\n          251.0\n        ],\n        \"semantic_type\": \"\",\n        \"description\": \"\"\n      }\n    }\n  ]\n}"
            }
          },
          "metadata": {},
          "execution_count": 18
        }
      ]
    },
    {
      "cell_type": "markdown",
      "source": [
        "---\n",
        "##Statistics per month"
      ],
      "metadata": {
        "id": "M41gysuyd9k6"
      }
    },
    {
      "cell_type": "markdown",
      "source": [
        "###Calculating the numbers and shwoing them in a bar plot"
      ],
      "metadata": {
        "id": "mKf23TymemQr"
      }
    },
    {
      "cell_type": "markdown",
      "source": [
        "####January"
      ],
      "metadata": {
        "id": "PtLvoXSRaZzn"
      }
    },
    {
      "cell_type": "code",
      "source": [
        "# Save all the January statisitics in to variables\n",
        "jan_open_mean = get_stock_statistics('month', 1, 'Open').mean()\n",
        "jan_close_mean = get_stock_statistics('month', 1, 'Close').mean()\n",
        "jan_high_mean = get_stock_statistics('month', 1, 'Close').mean()\n",
        "jan_low_mean = get_stock_statistics('month', 1, 'Close').mean()\n",
        "jan_volume_mean = get_stock_statistics('month', 1, 'Volume').mean()\n",
        "\n",
        "# Print the statistics\n",
        "print(\"January Avarages :\")\n",
        "print(f\"Open : ${jan_open_mean:.2f}\")\n",
        "print(f\"Close : ${jan_close_mean:.2f}\")\n",
        "print(f\"High : ${jan_high_mean:.2f}\")\n",
        "print(f\"Low : ${jan_low_mean:.2f}\")\n",
        "print(f\"Vloume : {int(jan_volume_mean)} stocks per day\")"
      ],
      "metadata": {
        "colab": {
          "base_uri": "https://localhost:8080/"
        },
        "id": "KiW0fIFYVcn7",
        "outputId": "361826bf-1a6c-40fe-818a-bcff83c50b0e"
      },
      "execution_count": 19,
      "outputs": [
        {
          "output_type": "stream",
          "name": "stdout",
          "text": [
            "January Avarages :\n",
            "Open : $433.88\n",
            "Close : $434.29\n",
            "High : $434.29\n",
            "Low : $434.29\n",
            "Vloume : 5391885 stocks per day\n"
          ]
        }
      ]
    },
    {
      "cell_type": "markdown",
      "source": [
        "####February"
      ],
      "metadata": {
        "id": "1EqgWyskaebJ"
      }
    },
    {
      "cell_type": "code",
      "source": [
        "# Save all the February statisitics in to variables\n",
        "feb_open_mean = get_stock_statistics('month', 2, 'Open').mean()\n",
        "feb_close_mean = get_stock_statistics('month', 2, 'Close').mean()\n",
        "feb_high_mean = get_stock_statistics('month', 2, 'High').mean()\n",
        "feb_low_mean = get_stock_statistics('month', 2, 'Low').mean()\n",
        "feb_volume_mean = get_stock_statistics('month', 2, 'Volume').mean()\n",
        "\n",
        "# Print the statistics\n",
        "print(\"February Avarages :\")\n",
        "print(f\"Open : ${feb_open_mean:.2f}\")\n",
        "print(f\"Close : ${feb_close_mean:.2f}\")\n",
        "print(f\"High : ${feb_high_mean:.2f}\")\n",
        "print(f\"Low : ${feb_low_mean:.2f}\")\n",
        "print(f\"Vloume : {int(feb_volume_mean)} stocks per day\")"
      ],
      "metadata": {
        "colab": {
          "base_uri": "https://localhost:8080/"
        },
        "id": "j1sVeAuEae0P",
        "outputId": "6a139a13-ee62-46de-d584-1188bc526731"
      },
      "execution_count": 20,
      "outputs": [
        {
          "output_type": "stream",
          "name": "stdout",
          "text": [
            "February Avarages :\n",
            "Open : $452.81\n",
            "Close : $453.55\n",
            "High : $454.61\n",
            "Low : $451.24\n",
            "Vloume : 5173430 stocks per day\n"
          ]
        }
      ]
    },
    {
      "cell_type": "markdown",
      "source": [
        "####March"
      ],
      "metadata": {
        "id": "_tDPy3oQai1R"
      }
    },
    {
      "cell_type": "code",
      "source": [
        "# Save all the March statisitics in to variables\n",
        "mar_open_mean = get_stock_statistics('month', 3, 'Open').mean()\n",
        "mar_close_mean = get_stock_statistics('month', 3, 'Close').mean()\n",
        "mar_high_mean = get_stock_statistics('month', 3, 'High').mean()\n",
        "mar_low_mean = get_stock_statistics('month', 3, 'Low').mean()\n",
        "mar_volume_mean = get_stock_statistics('month', 3, 'Low').mean()\n",
        "\n",
        "# Print the statistics\n",
        "print(\"March Avarages :\")\n",
        "print(f\"Open : ${mar_open_mean:.2f}\")\n",
        "print(f\"Close : ${mar_close_mean:.2f}\")\n",
        "print(f\"High : ${mar_high_mean:.2f}\")\n",
        "print(f\"Low : ${mar_low_mean:.2f}\")\n",
        "print(f\"Vloume : {int(mar_volume_mean)} stocks per day\")"
      ],
      "metadata": {
        "colab": {
          "base_uri": "https://localhost:8080/"
        },
        "id": "2l7wtSsSaklw",
        "outputId": "bcfd7c3f-941f-4014-88ee-eeafbd3998ab"
      },
      "execution_count": 21,
      "outputs": [
        {
          "output_type": "stream",
          "name": "stdout",
          "text": [
            "March Avarages :\n",
            "Open : $468.49\n",
            "Close : $468.63\n",
            "High : $470.17\n",
            "Low : $466.73\n",
            "Vloume : 466 stocks per day\n"
          ]
        }
      ]
    },
    {
      "cell_type": "markdown",
      "source": [
        "####April"
      ],
      "metadata": {
        "id": "XXomsdL3alDs"
      }
    },
    {
      "cell_type": "code",
      "source": [
        "# Save all the April statisitics in to variables\n",
        "apr_open_mean = get_stock_statistics('month', 4, 'Open').mean()\n",
        "apr_close_mean = get_stock_statistics('month', 4, 'Close').mean()\n",
        "apr_high_mean = get_stock_statistics('month', 4, 'High').mean()\n",
        "apr_low_mean = get_stock_statistics('month', 4, 'Low').mean()\n",
        "apr_volume_mean = get_stock_statistics('month', 4, 'Volume').mean()\n",
        "\n",
        "# Print the statistics\n",
        "print(\"April Avarages :\")\n",
        "print(f\"Open : ${apr_open_mean:.2f}\")\n",
        "print(f\"Close : ${apr_close_mean:.2f}\")\n",
        "print(f\"High : ${apr_high_mean:.2f}\")\n",
        "print(f\"Low : ${apr_low_mean:.2f}\")\n",
        "print(f\"Vloume : {int(apr_volume_mean)} stocks per day\")"
      ],
      "metadata": {
        "colab": {
          "base_uri": "https://localhost:8080/"
        },
        "id": "NY06MGWeam-S",
        "outputId": "eb9d4c72-bcac-4c29-a963-e17866877d22"
      },
      "execution_count": 22,
      "outputs": [
        {
          "output_type": "stream",
          "name": "stdout",
          "text": [
            "April Avarages :\n",
            "Open : $464.92\n",
            "Close : $463.75\n",
            "High : $466.77\n",
            "Low : $461.54\n",
            "Vloume : 6010645 stocks per day\n"
          ]
        }
      ]
    },
    {
      "cell_type": "markdown",
      "source": [
        "####May"
      ],
      "metadata": {
        "id": "HK5Bmx3Ra3vp"
      }
    },
    {
      "cell_type": "code",
      "source": [
        "# Save all the May statisitics in to variables\n",
        "may_open_mean = get_stock_statistics('month', 5, 'Open').mean()\n",
        "may_close_mean = get_stock_statistics('month', 5, 'Close').mean()\n",
        "may_high_mean = get_stock_statistics('month', 5, 'High').mean()\n",
        "may_low_mean = get_stock_statistics('month', 5, 'Low').mean()\n",
        "may_volume_mean = get_stock_statistics('month', 5, 'Volume').mean()\n",
        "\n",
        "# Print the statistics\n",
        "print(\"May Avarages :\")\n",
        "print(f\"Open : ${may_open_mean:.2f}\")\n",
        "print(f\"Close : ${may_close_mean:.2f}\")\n",
        "print(f\"High : ${may_high_mean:.2f}\")\n",
        "print(f\"Low : ${may_low_mean:.2f}\")\n",
        "print(f\"Vloume : {int(may_volume_mean)} stocks per day\")"
      ],
      "metadata": {
        "colab": {
          "base_uri": "https://localhost:8080/"
        },
        "id": "jY3WY27Ua8Z7",
        "outputId": "14933d22-ef49-4bc2-b520-cd6a968e3851"
      },
      "execution_count": 23,
      "outputs": [
        {
          "output_type": "stream",
          "name": "stdout",
          "text": [
            "May Avarages :\n",
            "Open : $475.14\n",
            "Close : $475.50\n",
            "High : $476.93\n",
            "Low : $473.30\n",
            "Vloume : 3789881 stocks per day\n"
          ]
        }
      ]
    },
    {
      "cell_type": "markdown",
      "source": [
        "####June"
      ],
      "metadata": {
        "id": "qLS5K9REbAFq"
      }
    },
    {
      "cell_type": "code",
      "source": [
        "# Save all the June statisitics in to variables\n",
        "jun_open_mean = get_stock_statistics('month', 6, 'Open').mean()\n",
        "jun_close_mean = get_stock_statistics('month', 6, 'Close').mean()\n",
        "jun_high_mean = get_stock_statistics('month', 6, 'High').mean()\n",
        "jun_low_mean = get_stock_statistics('month', 6, 'Low').mean()\n",
        "jun_volume_mean = get_stock_statistics('month', 6, 'Volume').mean()\n",
        "\n",
        "# Print the statistics\n",
        "print(\"June Avarages :\")\n",
        "print(f\"Open : ${jun_open_mean:.2f}\")\n",
        "print(f\"Close : ${jun_close_mean:.2f}\")\n",
        "print(f\"High : ${jun_high_mean:.2f}\")\n",
        "print(f\"Low : ${jun_low_mean:.2f}\")\n",
        "print(f\"Vloume : {int(jun_volume_mean)} stocks per day\")"
      ],
      "metadata": {
        "colab": {
          "base_uri": "https://localhost:8080/"
        },
        "id": "pEKCTuU4bB2W",
        "outputId": "3458b53d-e8a2-46d1-8a05-8fb68ef4d6dd"
      },
      "execution_count": 24,
      "outputs": [
        {
          "output_type": "stream",
          "name": "stdout",
          "text": [
            "June Avarages :\n",
            "Open : $491.86\n",
            "Close : $492.46\n",
            "High : $493.83\n",
            "Low : $490.06\n",
            "Vloume : 5421000 stocks per day\n"
          ]
        }
      ]
    },
    {
      "cell_type": "markdown",
      "source": [
        "####July"
      ],
      "metadata": {
        "id": "OkrwgclVbCP9"
      }
    },
    {
      "cell_type": "code",
      "source": [
        "# Save all the July statisitics in to variables\n",
        "jul_open_mean = get_stock_statistics('month', 7, 'Open').mean()\n",
        "jul_close_mean = get_stock_statistics('month', 7, 'Close').mean()\n",
        "jul_high_mean = get_stock_statistics('month', 7, 'High').mean()\n",
        "jul_low_mean = get_stock_statistics('month', 7, 'Low').mean()\n",
        "jul_volume_mean = get_stock_statistics('month', 7, 'Volume').mean()\n",
        "\n",
        "# Print the statistics\n",
        "print(\"July Avarages :\")\n",
        "print(f\"Open : ${jul_open_mean:.2f}\")\n",
        "print(f\"Close : ${jul_close_mean:.2f}\")\n",
        "print(f\"High : ${jul_high_mean:.2f}\")\n",
        "print(f\"Low : ${jul_low_mean:.2f}\")\n",
        "print(f\"Vloume : {int(jul_volume_mean)} stocks per day\")"
      ],
      "metadata": {
        "colab": {
          "base_uri": "https://localhost:8080/"
        },
        "id": "eoeu9abXbDye",
        "outputId": "a2c7debc-d10f-46f3-aa3b-e4a8c8c08234"
      },
      "execution_count": 25,
      "outputs": [
        {
          "output_type": "stream",
          "name": "stdout",
          "text": [
            "July Avarages :\n",
            "Open : $504.52\n",
            "Close : $504.12\n",
            "High : $506.88\n",
            "Low : $502.07\n",
            "Vloume : 4344063 stocks per day\n"
          ]
        }
      ]
    },
    {
      "cell_type": "markdown",
      "source": [
        "####August"
      ],
      "metadata": {
        "id": "ien3A0LebEET"
      }
    },
    {
      "cell_type": "code",
      "source": [
        "# Save all the August statisitics in to variables\n",
        "aug_open_mean = get_stock_statistics('month', 8, 'Open').mean()\n",
        "aug_close_mean = get_stock_statistics('month', 8, 'Close').mean()\n",
        "aug_high_mean = get_stock_statistics('month', 8, 'High').mean()\n",
        "aug_low_mean = get_stock_statistics('month', 8, 'Low').mean()\n",
        "aug_volume_mean = get_stock_statistics('month', 8, 'Volume').mean()\n",
        "\n",
        "# Print the statistics\n",
        "print(\"August Avarages :\")\n",
        "print(f\"Open : ${aug_open_mean:.2f}\")\n",
        "print(f\"Close : ${aug_close_mean:.2f}\")\n",
        "print(f\"High : ${aug_high_mean:.2f}\")\n",
        "print(f\"Low : ${aug_low_mean:.2f}\")\n",
        "print(f\"Vloume : {int(aug_volume_mean)} stocks per day\")"
      ],
      "metadata": {
        "colab": {
          "base_uri": "https://localhost:8080/"
        },
        "id": "SNATA7H-bHrJ",
        "outputId": "79d7803e-3679-4646-d612-b73c6203ffdf"
      },
      "execution_count": 26,
      "outputs": [
        {
          "output_type": "stream",
          "name": "stdout",
          "text": [
            "August Avarages :\n",
            "Open : $498.87\n",
            "Close : $499.16\n",
            "High : $502.24\n",
            "Low : $495.70\n",
            "Vloume : 5165877 stocks per day\n"
          ]
        }
      ]
    },
    {
      "cell_type": "markdown",
      "source": [
        "####September"
      ],
      "metadata": {
        "id": "6bKgEG9qbICD"
      }
    },
    {
      "cell_type": "code",
      "source": [
        "# Save all the Spetember statisitics in to variables\n",
        "sep_open_mean = get_stock_statistics('month', 9, 'Open').mean()\n",
        "sep_close_mean = get_stock_statistics('month', 9, 'Close').mean()\n",
        "sep_high_mean = get_stock_statistics('month', 9, 'High').mean()\n",
        "sep_low_mean = get_stock_statistics('month', 9, 'Low').mean()\n",
        "sep_volume_mean = get_stock_statistics('month', 9, 'Volume').mean()\n",
        "\n",
        "# Print the statistics\n",
        "print(\"Spetember Avarages :\")\n",
        "print(f\"Open : ${sep_open_mean:.2f}\")\n",
        "print(f\"Close : ${sep_close_mean:.2f}\")\n",
        "print(f\"High : ${sep_high_mean:.2f}\")\n",
        "print(f\"Low : ${sep_low_mean:.2f}\")\n",
        "print(f\"Vloume : {int(sep_volume_mean)} stocks per day\")"
      ],
      "metadata": {
        "colab": {
          "base_uri": "https://localhost:8080/"
        },
        "id": "aZB35TJybJsb",
        "outputId": "d303db6e-493a-498c-8c79-45012dd93303"
      },
      "execution_count": 27,
      "outputs": [
        {
          "output_type": "stream",
          "name": "stdout",
          "text": [
            "Spetember Avarages :\n",
            "Open : $513.26\n",
            "Close : $512.91\n",
            "High : $515.37\n",
            "Low : $509.85\n",
            "Vloume : 8007600 stocks per day\n"
          ]
        }
      ]
    },
    {
      "cell_type": "markdown",
      "source": [
        "####October"
      ],
      "metadata": {
        "id": "QCFtT7VvbKEH"
      }
    },
    {
      "cell_type": "code",
      "source": [
        "# Save all the OCtober statisitics in to variables\n",
        "oct_open_mean = get_stock_statistics('month', 10, 'Open').mean()\n",
        "oct_close_mean = get_stock_statistics('month', 10, 'Close').mean()\n",
        "oct_high_mean = get_stock_statistics('month', 10, 'High').mean()\n",
        "oct_low_mean = get_stock_statistics('month', 10, 'Low').mean()\n",
        "oct_volume_mean = get_stock_statistics('month', 10, 'Volume').mean()\n",
        "\n",
        "# Print the statistics\n",
        "print(\"October Avarages :\")\n",
        "print(f\"Open : ${oct_open_mean:.2f}\")\n",
        "print(f\"Close : ${oct_close_mean:.2f}\")\n",
        "print(f\"High : ${oct_high_mean:.2f}\")\n",
        "print(f\"Low : ${oct_low_mean:.2f}\")\n",
        "print(f\"Vloume : {int(oct_volume_mean)} stocks per day\")"
      ],
      "metadata": {
        "colab": {
          "base_uri": "https://localhost:8080/"
        },
        "id": "go5N8NJ1bN-Q",
        "outputId": "af9be46d-4bee-4f4e-ed4a-213cc2e6fc84"
      },
      "execution_count": 28,
      "outputs": [
        {
          "output_type": "stream",
          "name": "stdout",
          "text": [
            "October Avarages :\n",
            "Open : $529.47\n",
            "Close : $529.03\n",
            "High : $531.14\n",
            "Low : $526.83\n",
            "Vloume : 4259426 stocks per day\n"
          ]
        }
      ]
    },
    {
      "cell_type": "markdown",
      "source": [
        "####November"
      ],
      "metadata": {
        "id": "8BaZQ1JgbOS5"
      }
    },
    {
      "cell_type": "code",
      "source": [
        "# Save all the November statisitics in to variables\n",
        "nov_open_mean = get_stock_statistics('month', 11, 'Open').mean()\n",
        "nov_close_mean = get_stock_statistics('month', 11, 'Close').mean()\n",
        "nov_high_mean = get_stock_statistics('month', 11, 'High').mean()\n",
        "nov_low_mean = get_stock_statistics('month', 11, 'Low').mean()\n",
        "nov_volume_mean = get_stock_statistics('month', 11, 'Volume').mean()\n",
        "\n",
        "# Print the statistics\n",
        "print(\"November Avarages :\")\n",
        "print(f\"Open : ${nov_open_mean:.2f}\")\n",
        "print(f\"Close : ${nov_close_mean:.2f}\")\n",
        "print(f\"High : ${nov_high_mean:.2f}\")\n",
        "print(f\"Low : ${nov_low_mean:.2f}\")\n",
        "print(f\"Vloume : {int(nov_volume_mean)} stocks per day\")"
      ],
      "metadata": {
        "colab": {
          "base_uri": "https://localhost:8080/"
        },
        "id": "sERNg1BcbQSr",
        "outputId": "c913b742-01ad-43ba-f45c-cc090175a5b4"
      },
      "execution_count": 29,
      "outputs": [
        {
          "output_type": "stream",
          "name": "stdout",
          "text": [
            "November Avarages :\n",
            "Open : $541.65\n",
            "Close : $542.11\n",
            "High : $543.80\n",
            "Low : $539.35\n",
            "Vloume : 4985820 stocks per day\n"
          ]
        }
      ]
    },
    {
      "cell_type": "markdown",
      "source": [
        "####December"
      ],
      "metadata": {
        "id": "ct0R6RCubQqM"
      }
    },
    {
      "cell_type": "code",
      "source": [
        "# Save all the December statisitics in to variables\n",
        "dec_open_mean = get_stock_statistics('month', 12, 'Open').mean()\n",
        "dec_close_mean = get_stock_statistics('month', 12, 'Close').mean()\n",
        "dec_high_mean = get_stock_statistics('month', 12, 'High').mean()\n",
        "dec_low_mean = get_stock_statistics('month', 12, 'Low').mean()\n",
        "dec_volume_mean = get_stock_statistics('month', 12, 'Volume').mean()\n",
        "\n",
        "# Print the statistics\n",
        "print(\"December Avarages :\")\n",
        "print(f\"Open : ${dec_open_mean:.2f}\")\n",
        "print(f\"Close : ${dec_close_mean:.2f}\")\n",
        "print(f\"High : ${dec_high_mean:.2f}\")\n",
        "print(f\"Low : ${dec_low_mean:.2f}\")\n",
        "print(f\"Vloume : {int(dec_volume_mean)} stocks per day\")"
      ],
      "metadata": {
        "colab": {
          "base_uri": "https://localhost:8080/"
        },
        "id": "kkFa9w42dxyu",
        "outputId": "fb144a7b-6b9f-499f-f5c4-ec5e1afc6cda"
      },
      "execution_count": 30,
      "outputs": [
        {
          "output_type": "stream",
          "name": "stdout",
          "text": [
            "December Avarages :\n",
            "Open : $551.23\n",
            "Close : $550.81\n",
            "High : $553.47\n",
            "Low : $548.53\n",
            "Vloume : 7617200 stocks per day\n"
          ]
        }
      ]
    },
    {
      "cell_type": "markdown",
      "source": [
        "##Comparing the statistical data using bar plots"
      ],
      "metadata": {
        "id": "HJorfzcOivhV"
      }
    },
    {
      "cell_type": "code",
      "source": [
        "monthly_means = snp.groupby(snp.index.month)[['High', 'Low', 'Open', 'Close', 'Volume']].mean()"
      ],
      "metadata": {
        "id": "VH8bL1yznU13"
      },
      "execution_count": 31,
      "outputs": []
    },
    {
      "cell_type": "code",
      "source": [
        "monthly_means"
      ],
      "metadata": {
        "colab": {
          "base_uri": "https://localhost:8080/",
          "height": 457
        },
        "id": "o4dmI14JoOk2",
        "outputId": "eaf33c56-40a3-40d6-dba0-0be86b63ad60"
      },
      "execution_count": 32,
      "outputs": [
        {
          "output_type": "execute_result",
          "data": {
            "text/plain": [
              "Price        High         Low        Open       Close        Volume\n",
              "Date                                                               \n",
              "1      435.722679  432.296307  433.879301  434.291032  5.391886e+06\n",
              "2      454.608448  451.236786  452.808123  453.545924  5.173430e+06\n",
              "3      470.167493  466.732932  468.494282  468.631183  5.328670e+06\n",
              "4      466.773370  461.537041  464.918553  463.745621  6.010645e+06\n",
              "5      476.926920  473.295607  475.141867  475.504191  3.789882e+06\n",
              "6      493.826712  490.055434  491.863530  492.463898  5.421000e+06\n",
              "7      506.879654  502.072335  504.521389  504.115319  4.344064e+06\n",
              "8      502.241715  495.701731  498.871224  499.157596  5.165877e+06\n",
              "9      515.365566  509.854493  513.263192  512.909183  8.007600e+06\n",
              "10     531.136463  526.831982  529.470927  529.031895  4.259426e+06\n",
              "11     543.801902  539.345660  541.652276  542.105829  4.985820e+06\n",
              "12     553.470732  548.526328  551.231924  550.805640  7.617200e+06"
            ],
            "text/html": [
              "\n",
              "  <div id=\"df-31d0011d-1f3d-40b4-8aa8-f4ef607f1f32\" class=\"colab-df-container\">\n",
              "    <div>\n",
              "<style scoped>\n",
              "    .dataframe tbody tr th:only-of-type {\n",
              "        vertical-align: middle;\n",
              "    }\n",
              "\n",
              "    .dataframe tbody tr th {\n",
              "        vertical-align: top;\n",
              "    }\n",
              "\n",
              "    .dataframe thead th {\n",
              "        text-align: right;\n",
              "    }\n",
              "</style>\n",
              "<table border=\"1\" class=\"dataframe\">\n",
              "  <thead>\n",
              "    <tr style=\"text-align: right;\">\n",
              "      <th>Price</th>\n",
              "      <th>High</th>\n",
              "      <th>Low</th>\n",
              "      <th>Open</th>\n",
              "      <th>Close</th>\n",
              "      <th>Volume</th>\n",
              "    </tr>\n",
              "    <tr>\n",
              "      <th>Date</th>\n",
              "      <th></th>\n",
              "      <th></th>\n",
              "      <th></th>\n",
              "      <th></th>\n",
              "      <th></th>\n",
              "    </tr>\n",
              "  </thead>\n",
              "  <tbody>\n",
              "    <tr>\n",
              "      <th>1</th>\n",
              "      <td>435.722679</td>\n",
              "      <td>432.296307</td>\n",
              "      <td>433.879301</td>\n",
              "      <td>434.291032</td>\n",
              "      <td>5.391886e+06</td>\n",
              "    </tr>\n",
              "    <tr>\n",
              "      <th>2</th>\n",
              "      <td>454.608448</td>\n",
              "      <td>451.236786</td>\n",
              "      <td>452.808123</td>\n",
              "      <td>453.545924</td>\n",
              "      <td>5.173430e+06</td>\n",
              "    </tr>\n",
              "    <tr>\n",
              "      <th>3</th>\n",
              "      <td>470.167493</td>\n",
              "      <td>466.732932</td>\n",
              "      <td>468.494282</td>\n",
              "      <td>468.631183</td>\n",
              "      <td>5.328670e+06</td>\n",
              "    </tr>\n",
              "    <tr>\n",
              "      <th>4</th>\n",
              "      <td>466.773370</td>\n",
              "      <td>461.537041</td>\n",
              "      <td>464.918553</td>\n",
              "      <td>463.745621</td>\n",
              "      <td>6.010645e+06</td>\n",
              "    </tr>\n",
              "    <tr>\n",
              "      <th>5</th>\n",
              "      <td>476.926920</td>\n",
              "      <td>473.295607</td>\n",
              "      <td>475.141867</td>\n",
              "      <td>475.504191</td>\n",
              "      <td>3.789882e+06</td>\n",
              "    </tr>\n",
              "    <tr>\n",
              "      <th>6</th>\n",
              "      <td>493.826712</td>\n",
              "      <td>490.055434</td>\n",
              "      <td>491.863530</td>\n",
              "      <td>492.463898</td>\n",
              "      <td>5.421000e+06</td>\n",
              "    </tr>\n",
              "    <tr>\n",
              "      <th>7</th>\n",
              "      <td>506.879654</td>\n",
              "      <td>502.072335</td>\n",
              "      <td>504.521389</td>\n",
              "      <td>504.115319</td>\n",
              "      <td>4.344064e+06</td>\n",
              "    </tr>\n",
              "    <tr>\n",
              "      <th>8</th>\n",
              "      <td>502.241715</td>\n",
              "      <td>495.701731</td>\n",
              "      <td>498.871224</td>\n",
              "      <td>499.157596</td>\n",
              "      <td>5.165877e+06</td>\n",
              "    </tr>\n",
              "    <tr>\n",
              "      <th>9</th>\n",
              "      <td>515.365566</td>\n",
              "      <td>509.854493</td>\n",
              "      <td>513.263192</td>\n",
              "      <td>512.909183</td>\n",
              "      <td>8.007600e+06</td>\n",
              "    </tr>\n",
              "    <tr>\n",
              "      <th>10</th>\n",
              "      <td>531.136463</td>\n",
              "      <td>526.831982</td>\n",
              "      <td>529.470927</td>\n",
              "      <td>529.031895</td>\n",
              "      <td>4.259426e+06</td>\n",
              "    </tr>\n",
              "    <tr>\n",
              "      <th>11</th>\n",
              "      <td>543.801902</td>\n",
              "      <td>539.345660</td>\n",
              "      <td>541.652276</td>\n",
              "      <td>542.105829</td>\n",
              "      <td>4.985820e+06</td>\n",
              "    </tr>\n",
              "    <tr>\n",
              "      <th>12</th>\n",
              "      <td>553.470732</td>\n",
              "      <td>548.526328</td>\n",
              "      <td>551.231924</td>\n",
              "      <td>550.805640</td>\n",
              "      <td>7.617200e+06</td>\n",
              "    </tr>\n",
              "  </tbody>\n",
              "</table>\n",
              "</div>\n",
              "    <div class=\"colab-df-buttons\">\n",
              "\n",
              "  <div class=\"colab-df-container\">\n",
              "    <button class=\"colab-df-convert\" onclick=\"convertToInteractive('df-31d0011d-1f3d-40b4-8aa8-f4ef607f1f32')\"\n",
              "            title=\"Convert this dataframe to an interactive table.\"\n",
              "            style=\"display:none;\">\n",
              "\n",
              "  <svg xmlns=\"http://www.w3.org/2000/svg\" height=\"24px\" viewBox=\"0 -960 960 960\">\n",
              "    <path d=\"M120-120v-720h720v720H120Zm60-500h600v-160H180v160Zm220 220h160v-160H400v160Zm0 220h160v-160H400v160ZM180-400h160v-160H180v160Zm440 0h160v-160H620v160ZM180-180h160v-160H180v160Zm440 0h160v-160H620v160Z\"/>\n",
              "  </svg>\n",
              "    </button>\n",
              "\n",
              "  <style>\n",
              "    .colab-df-container {\n",
              "      display:flex;\n",
              "      gap: 12px;\n",
              "    }\n",
              "\n",
              "    .colab-df-convert {\n",
              "      background-color: #E8F0FE;\n",
              "      border: none;\n",
              "      border-radius: 50%;\n",
              "      cursor: pointer;\n",
              "      display: none;\n",
              "      fill: #1967D2;\n",
              "      height: 32px;\n",
              "      padding: 0 0 0 0;\n",
              "      width: 32px;\n",
              "    }\n",
              "\n",
              "    .colab-df-convert:hover {\n",
              "      background-color: #E2EBFA;\n",
              "      box-shadow: 0px 1px 2px rgba(60, 64, 67, 0.3), 0px 1px 3px 1px rgba(60, 64, 67, 0.15);\n",
              "      fill: #174EA6;\n",
              "    }\n",
              "\n",
              "    .colab-df-buttons div {\n",
              "      margin-bottom: 4px;\n",
              "    }\n",
              "\n",
              "    [theme=dark] .colab-df-convert {\n",
              "      background-color: #3B4455;\n",
              "      fill: #D2E3FC;\n",
              "    }\n",
              "\n",
              "    [theme=dark] .colab-df-convert:hover {\n",
              "      background-color: #434B5C;\n",
              "      box-shadow: 0px 1px 3px 1px rgba(0, 0, 0, 0.15);\n",
              "      filter: drop-shadow(0px 1px 2px rgba(0, 0, 0, 0.3));\n",
              "      fill: #FFFFFF;\n",
              "    }\n",
              "  </style>\n",
              "\n",
              "    <script>\n",
              "      const buttonEl =\n",
              "        document.querySelector('#df-31d0011d-1f3d-40b4-8aa8-f4ef607f1f32 button.colab-df-convert');\n",
              "      buttonEl.style.display =\n",
              "        google.colab.kernel.accessAllowed ? 'block' : 'none';\n",
              "\n",
              "      async function convertToInteractive(key) {\n",
              "        const element = document.querySelector('#df-31d0011d-1f3d-40b4-8aa8-f4ef607f1f32');\n",
              "        const dataTable =\n",
              "          await google.colab.kernel.invokeFunction('convertToInteractive',\n",
              "                                                    [key], {});\n",
              "        if (!dataTable) return;\n",
              "\n",
              "        const docLinkHtml = 'Like what you see? Visit the ' +\n",
              "          '<a target=\"_blank\" href=https://colab.research.google.com/notebooks/data_table.ipynb>data table notebook</a>'\n",
              "          + ' to learn more about interactive tables.';\n",
              "        element.innerHTML = '';\n",
              "        dataTable['output_type'] = 'display_data';\n",
              "        await google.colab.output.renderOutput(dataTable, element);\n",
              "        const docLink = document.createElement('div');\n",
              "        docLink.innerHTML = docLinkHtml;\n",
              "        element.appendChild(docLink);\n",
              "      }\n",
              "    </script>\n",
              "  </div>\n",
              "\n",
              "\n",
              "<div id=\"df-8b566e8c-0af1-49ea-b3b5-2c3ca0d851e6\">\n",
              "  <button class=\"colab-df-quickchart\" onclick=\"quickchart('df-8b566e8c-0af1-49ea-b3b5-2c3ca0d851e6')\"\n",
              "            title=\"Suggest charts\"\n",
              "            style=\"display:none;\">\n",
              "\n",
              "<svg xmlns=\"http://www.w3.org/2000/svg\" height=\"24px\"viewBox=\"0 0 24 24\"\n",
              "     width=\"24px\">\n",
              "    <g>\n",
              "        <path d=\"M19 3H5c-1.1 0-2 .9-2 2v14c0 1.1.9 2 2 2h14c1.1 0 2-.9 2-2V5c0-1.1-.9-2-2-2zM9 17H7v-7h2v7zm4 0h-2V7h2v10zm4 0h-2v-4h2v4z\"/>\n",
              "    </g>\n",
              "</svg>\n",
              "  </button>\n",
              "\n",
              "<style>\n",
              "  .colab-df-quickchart {\n",
              "      --bg-color: #E8F0FE;\n",
              "      --fill-color: #1967D2;\n",
              "      --hover-bg-color: #E2EBFA;\n",
              "      --hover-fill-color: #174EA6;\n",
              "      --disabled-fill-color: #AAA;\n",
              "      --disabled-bg-color: #DDD;\n",
              "  }\n",
              "\n",
              "  [theme=dark] .colab-df-quickchart {\n",
              "      --bg-color: #3B4455;\n",
              "      --fill-color: #D2E3FC;\n",
              "      --hover-bg-color: #434B5C;\n",
              "      --hover-fill-color: #FFFFFF;\n",
              "      --disabled-bg-color: #3B4455;\n",
              "      --disabled-fill-color: #666;\n",
              "  }\n",
              "\n",
              "  .colab-df-quickchart {\n",
              "    background-color: var(--bg-color);\n",
              "    border: none;\n",
              "    border-radius: 50%;\n",
              "    cursor: pointer;\n",
              "    display: none;\n",
              "    fill: var(--fill-color);\n",
              "    height: 32px;\n",
              "    padding: 0;\n",
              "    width: 32px;\n",
              "  }\n",
              "\n",
              "  .colab-df-quickchart:hover {\n",
              "    background-color: var(--hover-bg-color);\n",
              "    box-shadow: 0 1px 2px rgba(60, 64, 67, 0.3), 0 1px 3px 1px rgba(60, 64, 67, 0.15);\n",
              "    fill: var(--button-hover-fill-color);\n",
              "  }\n",
              "\n",
              "  .colab-df-quickchart-complete:disabled,\n",
              "  .colab-df-quickchart-complete:disabled:hover {\n",
              "    background-color: var(--disabled-bg-color);\n",
              "    fill: var(--disabled-fill-color);\n",
              "    box-shadow: none;\n",
              "  }\n",
              "\n",
              "  .colab-df-spinner {\n",
              "    border: 2px solid var(--fill-color);\n",
              "    border-color: transparent;\n",
              "    border-bottom-color: var(--fill-color);\n",
              "    animation:\n",
              "      spin 1s steps(1) infinite;\n",
              "  }\n",
              "\n",
              "  @keyframes spin {\n",
              "    0% {\n",
              "      border-color: transparent;\n",
              "      border-bottom-color: var(--fill-color);\n",
              "      border-left-color: var(--fill-color);\n",
              "    }\n",
              "    20% {\n",
              "      border-color: transparent;\n",
              "      border-left-color: var(--fill-color);\n",
              "      border-top-color: var(--fill-color);\n",
              "    }\n",
              "    30% {\n",
              "      border-color: transparent;\n",
              "      border-left-color: var(--fill-color);\n",
              "      border-top-color: var(--fill-color);\n",
              "      border-right-color: var(--fill-color);\n",
              "    }\n",
              "    40% {\n",
              "      border-color: transparent;\n",
              "      border-right-color: var(--fill-color);\n",
              "      border-top-color: var(--fill-color);\n",
              "    }\n",
              "    60% {\n",
              "      border-color: transparent;\n",
              "      border-right-color: var(--fill-color);\n",
              "    }\n",
              "    80% {\n",
              "      border-color: transparent;\n",
              "      border-right-color: var(--fill-color);\n",
              "      border-bottom-color: var(--fill-color);\n",
              "    }\n",
              "    90% {\n",
              "      border-color: transparent;\n",
              "      border-bottom-color: var(--fill-color);\n",
              "    }\n",
              "  }\n",
              "</style>\n",
              "\n",
              "  <script>\n",
              "    async function quickchart(key) {\n",
              "      const quickchartButtonEl =\n",
              "        document.querySelector('#' + key + ' button');\n",
              "      quickchartButtonEl.disabled = true;  // To prevent multiple clicks.\n",
              "      quickchartButtonEl.classList.add('colab-df-spinner');\n",
              "      try {\n",
              "        const charts = await google.colab.kernel.invokeFunction(\n",
              "            'suggestCharts', [key], {});\n",
              "      } catch (error) {\n",
              "        console.error('Error during call to suggestCharts:', error);\n",
              "      }\n",
              "      quickchartButtonEl.classList.remove('colab-df-spinner');\n",
              "      quickchartButtonEl.classList.add('colab-df-quickchart-complete');\n",
              "    }\n",
              "    (() => {\n",
              "      let quickchartButtonEl =\n",
              "        document.querySelector('#df-8b566e8c-0af1-49ea-b3b5-2c3ca0d851e6 button');\n",
              "      quickchartButtonEl.style.display =\n",
              "        google.colab.kernel.accessAllowed ? 'block' : 'none';\n",
              "    })();\n",
              "  </script>\n",
              "</div>\n",
              "\n",
              "  <div id=\"id_52de1b2f-a179-466b-b841-adc8b535286d\">\n",
              "    <style>\n",
              "      .colab-df-generate {\n",
              "        background-color: #E8F0FE;\n",
              "        border: none;\n",
              "        border-radius: 50%;\n",
              "        cursor: pointer;\n",
              "        display: none;\n",
              "        fill: #1967D2;\n",
              "        height: 32px;\n",
              "        padding: 0 0 0 0;\n",
              "        width: 32px;\n",
              "      }\n",
              "\n",
              "      .colab-df-generate:hover {\n",
              "        background-color: #E2EBFA;\n",
              "        box-shadow: 0px 1px 2px rgba(60, 64, 67, 0.3), 0px 1px 3px 1px rgba(60, 64, 67, 0.15);\n",
              "        fill: #174EA6;\n",
              "      }\n",
              "\n",
              "      [theme=dark] .colab-df-generate {\n",
              "        background-color: #3B4455;\n",
              "        fill: #D2E3FC;\n",
              "      }\n",
              "\n",
              "      [theme=dark] .colab-df-generate:hover {\n",
              "        background-color: #434B5C;\n",
              "        box-shadow: 0px 1px 3px 1px rgba(0, 0, 0, 0.15);\n",
              "        filter: drop-shadow(0px 1px 2px rgba(0, 0, 0, 0.3));\n",
              "        fill: #FFFFFF;\n",
              "      }\n",
              "    </style>\n",
              "    <button class=\"colab-df-generate\" onclick=\"generateWithVariable('monthly_means')\"\n",
              "            title=\"Generate code using this dataframe.\"\n",
              "            style=\"display:none;\">\n",
              "\n",
              "  <svg xmlns=\"http://www.w3.org/2000/svg\" height=\"24px\"viewBox=\"0 0 24 24\"\n",
              "       width=\"24px\">\n",
              "    <path d=\"M7,19H8.4L18.45,9,17,7.55,7,17.6ZM5,21V16.75L18.45,3.32a2,2,0,0,1,2.83,0l1.4,1.43a1.91,1.91,0,0,1,.58,1.4,1.91,1.91,0,0,1-.58,1.4L9.25,21ZM18.45,9,17,7.55Zm-12,3A5.31,5.31,0,0,0,4.9,8.1,5.31,5.31,0,0,0,1,6.5,5.31,5.31,0,0,0,4.9,4.9,5.31,5.31,0,0,0,6.5,1,5.31,5.31,0,0,0,8.1,4.9,5.31,5.31,0,0,0,12,6.5,5.46,5.46,0,0,0,6.5,12Z\"/>\n",
              "  </svg>\n",
              "    </button>\n",
              "    <script>\n",
              "      (() => {\n",
              "      const buttonEl =\n",
              "        document.querySelector('#id_52de1b2f-a179-466b-b841-adc8b535286d button.colab-df-generate');\n",
              "      buttonEl.style.display =\n",
              "        google.colab.kernel.accessAllowed ? 'block' : 'none';\n",
              "\n",
              "      buttonEl.onclick = () => {\n",
              "        google.colab.notebook.generateWithVariable('monthly_means');\n",
              "      }\n",
              "      })();\n",
              "    </script>\n",
              "  </div>\n",
              "\n",
              "    </div>\n",
              "  </div>\n"
            ],
            "application/vnd.google.colaboratory.intrinsic+json": {
              "type": "dataframe",
              "variable_name": "monthly_means",
              "summary": "{\n  \"name\": \"monthly_means\",\n  \"rows\": 12,\n  \"fields\": [\n    {\n      \"column\": \"Date\",\n      \"properties\": {\n        \"dtype\": \"int32\",\n        \"num_unique_values\": 12,\n        \"samples\": [\n          11,\n          10,\n          1\n        ],\n        \"semantic_type\": \"\",\n        \"description\": \"\"\n      }\n    },\n    {\n      \"column\": \"High\",\n      \"properties\": {\n        \"dtype\": \"number\",\n        \"std\": 36.42098285698891,\n        \"min\": 435.72267851104283,\n        \"max\": 553.470732044311,\n        \"num_unique_values\": 12,\n        \"samples\": [\n          543.8019015339546,\n          531.1364628085327,\n          435.72267851104283\n        ],\n        \"semantic_type\": \"\",\n        \"description\": \"\"\n      }\n    },\n    {\n      \"column\": \"Low\",\n      \"properties\": {\n        \"dtype\": \"number\",\n        \"std\": 35.96302331188977,\n        \"min\": 432.2963066146195,\n        \"max\": 548.5263280212658,\n        \"num_unique_values\": 12,\n        \"samples\": [\n          539.3456603043112,\n          526.8319820203927,\n          432.2963066146195\n        ],\n        \"semantic_type\": \"\",\n        \"description\": \"\"\n      }\n    },\n    {\n      \"column\": \"Open\",\n      \"properties\": {\n        \"dtype\": \"number\",\n        \"std\": 36.278415469717146,\n        \"min\": 433.87930106540676,\n        \"max\": 551.2319242114556,\n        \"num_unique_values\": 12,\n        \"samples\": [\n          541.652275687796,\n          529.4709272471251,\n          433.87930106540676\n        ],\n        \"semantic_type\": \"\",\n        \"description\": \"\"\n      }\n    },\n    {\n      \"column\": \"Close\",\n      \"properties\": {\n        \"dtype\": \"number\",\n        \"std\": 36.13054119994542,\n        \"min\": 434.2910316103981,\n        \"max\": 550.8056396484375,\n        \"num_unique_values\": 12,\n        \"samples\": [\n          542.1058288574219,\n          529.0318948496943,\n          434.2910316103981\n        ],\n        \"semantic_type\": \"\",\n        \"description\": \"\"\n      }\n    },\n    {\n      \"column\": \"Volume\",\n      \"properties\": {\n        \"dtype\": \"number\",\n        \"std\": 1255526.320861347,\n        \"min\": 3789881.8181818184,\n        \"max\": 8007600.0,\n        \"num_unique_values\": 12,\n        \"samples\": [\n          4985820.0,\n          4259426.0869565215,\n          5391885.714285715\n        ],\n        \"semantic_type\": \"\",\n        \"description\": \"\"\n      }\n    }\n  ]\n}"
            }
          },
          "metadata": {},
          "execution_count": 32
        }
      ]
    },
    {
      "cell_type": "code",
      "source": [
        "months = monthly_means.index"
      ],
      "metadata": {
        "id": "Qq3_ZOt1rTMu"
      },
      "execution_count": 33,
      "outputs": []
    },
    {
      "cell_type": "markdown",
      "source": [
        "####Open"
      ],
      "metadata": {
        "id": "2tFSUAFIi70T"
      }
    },
    {
      "cell_type": "code",
      "source": [
        "sns.barplot(x=months, y=monthly_means['Open'])\n",
        "plt.xlabel('Month')\n",
        "plt.ylabel('Average Open Price $')\n",
        "plt.title('Average Open Price by Month')\n",
        "plt.show()"
      ],
      "metadata": {
        "colab": {
          "base_uri": "https://localhost:8080/",
          "height": 472
        },
        "id": "uU_QOFJwqzxO",
        "outputId": "416acaec-2989-4cf1-f2d2-6ed8475e6b6b"
      },
      "execution_count": 34,
      "outputs": [
        {
          "output_type": "display_data",
          "data": {
            "text/plain": [
              "<Figure size 640x480 with 1 Axes>"
            ],
            "image/png": "[encoded data removed]"
          },
          "metadata": {}
        }
      ]
    },
    {
      "cell_type": "markdown",
      "source": [
        "###Close"
      ],
      "metadata": {
        "id": "EJIrjV3SrB4R"
      }
    },
    {
      "cell_type": "code",
      "source": [
        "sns.barplot(x = months, y = monthly_means[\"Close\"])\n",
        "plt.xlabel('Month')\n",
        "plt.ylabel('Average Close Price $')\n",
        "plt.title(\"Average Close Price by Month\")\n",
        "plt.show()"
      ],
      "metadata": {
        "colab": {
          "base_uri": "https://localhost:8080/",
          "height": 472
        },
        "id": "hXhXgpQbrEPd",
        "outputId": "ef70f220-930d-41b2-f1f2-2c8656da3cc7"
      },
      "execution_count": 35,
      "outputs": [
        {
          "output_type": "display_data",
          "data": {
            "text/plain": [
              "<Figure size 640x480 with 1 Axes>"
            ],
            "image/png": "[encoded data removed]"
          },
          "metadata": {}
        }
      ]
    },
    {
      "cell_type": "markdown",
      "source": [
        "###High"
      ],
      "metadata": {
        "id": "JrlzBBKArwzx"
      }
    },
    {
      "cell_type": "code",
      "source": [
        "sns.barplot(x = months, y = monthly_means[\"High\"])\n",
        "plt.xlabel('Month')\n",
        "plt.ylabel('Average High Price $')\n",
        "plt.title(\"Average High Price by Month\")\n",
        "plt.show()"
      ],
      "metadata": {
        "colab": {
          "base_uri": "https://localhost:8080/",
          "height": 472
        },
        "id": "njkQbYHVryPD",
        "outputId": "5fef62fb-a7b7-4030-ea8f-3f2693d60a36"
      },
      "execution_count": 36,
      "outputs": [
        {
          "output_type": "display_data",
          "data": {
            "text/plain": [
              "<Figure size 640x480 with 1 Axes>"
            ],
            "image/png": "[encoded data removed]"
          },
          "metadata": {}
        }
      ]
    },
    {
      "cell_type": "markdown",
      "source": [
        "###Low"
      ],
      "metadata": {
        "id": "qovGktdTtIEi"
      }
    },
    {
      "cell_type": "code",
      "source": [
        "sns.barplot(x = months, y = monthly_means[\"Low\"])\n",
        "plt.xlabel('Month')\n",
        "plt.ylabel('Average Low Price $')\n",
        "plt.title(\"Average Low Price by Month\")\n",
        "plt.show()"
      ],
      "metadata": {
        "colab": {
          "base_uri": "https://localhost:8080/",
          "height": 472
        },
        "id": "TFWelCwNtKBl",
        "outputId": "d4ca9265-934b-4563-e4f8-e868e9a447bd"
      },
      "execution_count": 37,
      "outputs": [
        {
          "output_type": "display_data",
          "data": {
            "text/plain": [
              "<Figure size 640x480 with 1 Axes>"
            ],
            "image/png": "[encoded data removed]"
          },
          "metadata": {}
        }
      ]
    },
    {
      "cell_type": "markdown",
      "source": [
        "###Volume"
      ],
      "metadata": {
        "id": "5axQTEvGtkPZ"
      }
    },
    {
      "cell_type": "code",
      "source": [
        "sns.barplot(x = months, y = monthly_means[\"Volume\"])\n",
        "plt.xlabel('Month')\n",
        "plt.ylabel('Average Volume (In millions of shares)')\n",
        "plt.title(\"Average Volume by Month\")\n",
        "plt.show()"
      ],
      "metadata": {
        "colab": {
          "base_uri": "https://localhost:8080/",
          "height": 472
        },
        "id": "mHYN5--stmZA",
        "outputId": "2253dd02-7244-42a0-da66-2946130d6a54"
      },
      "execution_count": 38,
      "outputs": [
        {
          "output_type": "display_data",
          "data": {
            "text/plain": [
              "<Figure size 640x480 with 1 Axes>"
            ],
            "image/png": "[encoded data removed]"
          },
          "metadata": {}
        }
      ]
    },
    {
      "cell_type": "markdown",
      "source": [
        "###Weekdays statistics"
      ],
      "metadata": {
        "id": "qUaSMVRWB1SX"
      }
    },
    {
      "cell_type": "code",
      "source": [
        "days_of_the_week = snp.index.day_of_week"
      ],
      "metadata": {
        "id": "MCr4z5mZJFiB"
      },
      "execution_count": 39,
      "outputs": []
    },
    {
      "cell_type": "code",
      "source": [
        "# Calculate the mean close price for every day of the week\n",
        "weekly_close = snp.groupby(days_of_the_week)['Close']"
      ],
      "metadata": {
        "id": "3sck8b5Pvn22"
      },
      "execution_count": 40,
      "outputs": []
    },
    {
      "cell_type": "code",
      "source": [
        "# A list of all the days in the week. The list is later used to order the data by the day of the week\n",
        "weekday_order = ['Monday', 'Tuesday', 'Wednesday', 'Thursday', 'Friday']"
      ],
      "metadata": {
        "id": "qzwfl894Mgnz"
      },
      "execution_count": 41,
      "outputs": []
    },
    {
      "cell_type": "markdown",
      "source": [
        "####Mean"
      ],
      "metadata": {
        "id": "TLl1pvNhLlgm"
      }
    },
    {
      "cell_type": "code",
      "source": [
        "print(\"Mean stock price per week day for 2024\")\n",
        "weekly_close.mean()"
      ],
      "metadata": {
        "colab": {
          "base_uri": "https://localhost:8080/",
          "height": 289
        },
        "id": "67ascBRiB_bs",
        "outputId": "132cd9fb-fdd0-4f49-c4da-58c9385e47d9"
      },
      "execution_count": 42,
      "outputs": [
        {
          "output_type": "stream",
          "name": "stdout",
          "text": [
            "Mean stock price per week day for 2024\n"
          ]
        },
        {
          "output_type": "execute_result",
          "data": {
            "text/plain": [
              "Date\n",
              "0    496.960171\n",
              "1    493.056597\n",
              "2    491.892514\n",
              "3    492.381332\n",
              "4    494.772371\n",
              "Name: Close, dtype: float64"
            ],
            "text/html": [
              "<div>\n",
              "<style scoped>\n",
              "    .dataframe tbody tr th:only-of-type {\n",
              "        vertical-align: middle;\n",
              "    }\n",
              "\n",
              "    .dataframe tbody tr th {\n",
              "        vertical-align: top;\n",
              "    }\n",
              "\n",
              "    .dataframe thead th {\n",
              "        text-align: right;\n",
              "    }\n",
              "</style>\n",
              "<table border=\"1\" class=\"dataframe\">\n",
              "  <thead>\n",
              "    <tr style=\"text-align: right;\">\n",
              "      <th></th>\n",
              "      <th>Close</th>\n",
              "    </tr>\n",
              "    <tr>\n",
              "      <th>Date</th>\n",
              "      <th></th>\n",
              "    </tr>\n",
              "  </thead>\n",
              "  <tbody>\n",
              "    <tr>\n",
              "      <th>0</th>\n",
              "      <td>496.960171</td>\n",
              "    </tr>\n",
              "    <tr>\n",
              "      <th>1</th>\n",
              "      <td>493.056597</td>\n",
              "    </tr>\n",
              "    <tr>\n",
              "      <th>2</th>\n",
              "      <td>491.892514</td>\n",
              "    </tr>\n",
              "    <tr>\n",
              "      <th>3</th>\n",
              "      <td>492.381332</td>\n",
              "    </tr>\n",
              "    <tr>\n",
              "      <th>4</th>\n",
              "      <td>494.772371</td>\n",
              "    </tr>\n",
              "  </tbody>\n",
              "</table>\n",
              "</div><br><label><b>dtype:</b> float64</label>"
            ]
          },
          "metadata": {},
          "execution_count": 42
        }
      ]
    },
    {
      "cell_type": "code",
      "source": [
        "snp[\"Day of the week\"] = snp.index.day_name()"
      ],
      "metadata": {
        "id": "9NpXRfNH82t1"
      },
      "execution_count": 43,
      "outputs": []
    },
    {
      "cell_type": "code",
      "source": [
        "groupbyday = snp.groupby('Day of the week')\n",
        "df = groupbyday.mean()\n",
        "plt.bar(df.index, df['Close'])\n",
        "plt.xlabel('Day of the week')\n",
        "plt.ylabel('Mean price %')\n",
        "plt.title(\"Average price by the day of the week\")\n",
        "plt.show()"
      ],
      "metadata": {
        "colab": {
          "base_uri": "https://localhost:8080/",
          "height": 472
        },
        "id": "VDJAVOgE8usq",
        "outputId": "7bf61b2a-277f-412d-875d-2bf7e7200008"
      },
      "execution_count": 44,
      "outputs": [
        {
          "output_type": "display_data",
          "data": {
            "text/plain": [
              "<Figure size 640x480 with 1 Axes>"
            ],
            "image/png": "[encoded data removed]"
          },
          "metadata": {}
        }
      ]
    },
    {
      "cell_type": "markdown",
      "source": [
        "####Median"
      ],
      "metadata": {
        "id": "8PWsH5Tm8EpJ"
      }
    },
    {
      "cell_type": "code",
      "source": [
        "print(\"Median stock price per week day for 2024\")\n",
        "weekly_close.median()"
      ],
      "metadata": {
        "colab": {
          "base_uri": "https://localhost:8080/",
          "height": 289
        },
        "id": "UCO23EqvDJ16",
        "outputId": "88e615c7-e59c-4c37-e0c1-b9f3c6f54b41"
      },
      "execution_count": 45,
      "outputs": [
        {
          "output_type": "stream",
          "name": "stdout",
          "text": [
            "Median stock price per week day for 2024\n"
          ]
        },
        {
          "output_type": "execute_result",
          "data": {
            "text/plain": [
              "Date\n",
              "0    497.780457\n",
              "1    495.013336\n",
              "2    493.462173\n",
              "3    492.680435\n",
              "4    494.087433\n",
              "Name: Close, dtype: float64"
            ],
            "text/html": [
              "<div>\n",
              "<style scoped>\n",
              "    .dataframe tbody tr th:only-of-type {\n",
              "        vertical-align: middle;\n",
              "    }\n",
              "\n",
              "    .dataframe tbody tr th {\n",
              "        vertical-align: top;\n",
              "    }\n",
              "\n",
              "    .dataframe thead th {\n",
              "        text-align: right;\n",
              "    }\n",
              "</style>\n",
              "<table border=\"1\" class=\"dataframe\">\n",
              "  <thead>\n",
              "    <tr style=\"text-align: right;\">\n",
              "      <th></th>\n",
              "      <th>Close</th>\n",
              "    </tr>\n",
              "    <tr>\n",
              "      <th>Date</th>\n",
              "      <th></th>\n",
              "    </tr>\n",
              "  </thead>\n",
              "  <tbody>\n",
              "    <tr>\n",
              "      <th>0</th>\n",
              "      <td>497.780457</td>\n",
              "    </tr>\n",
              "    <tr>\n",
              "      <th>1</th>\n",
              "      <td>495.013336</td>\n",
              "    </tr>\n",
              "    <tr>\n",
              "      <th>2</th>\n",
              "      <td>493.462173</td>\n",
              "    </tr>\n",
              "    <tr>\n",
              "      <th>3</th>\n",
              "      <td>492.680435</td>\n",
              "    </tr>\n",
              "    <tr>\n",
              "      <th>4</th>\n",
              "      <td>494.087433</td>\n",
              "    </tr>\n",
              "  </tbody>\n",
              "</table>\n",
              "</div><br><label><b>dtype:</b> float64</label>"
            ]
          },
          "metadata": {},
          "execution_count": 45
        }
      ]
    },
    {
      "cell_type": "code",
      "source": [
        "groupbyday = snp.groupby('Day of the week')\n",
        "df = groupbyday.median()\n",
        "plt.bar(df.index, df['Close'])\n",
        "plt.xlabel('Day of the week')\n",
        "plt.ylabel('Median price %')\n",
        "plt.title(\"Median price by the day of the week\")\n",
        "plt.show()"
      ],
      "metadata": {
        "colab": {
          "base_uri": "https://localhost:8080/",
          "height": 472
        },
        "id": "bRameMNSA25e",
        "outputId": "e30a7a70-e53e-48f1-d391-f3f47c520b9e"
      },
      "execution_count": 46,
      "outputs": [
        {
          "output_type": "display_data",
          "data": {
            "text/plain": [
              "<Figure size 640x480 with 1 Axes>"
            ],
            "image/png": "[encoded data removed]"
          },
          "metadata": {}
        }
      ]
    },
    {
      "cell_type": "markdown",
      "source": [
        "####High"
      ],
      "metadata": {
        "id": "b0bCfbGH8Ifq"
      }
    },
    {
      "cell_type": "code",
      "source": [
        "print(\"Highest stock price per week day for 2024\")\n",
        "weekly_close.max()"
      ],
      "metadata": {
        "colab": {
          "base_uri": "https://localhost:8080/",
          "height": 289
        },
        "id": "shd0WWZlDOAr",
        "outputId": "9dc063d5-bcc7-4229-eab7-f6126bca3ad8"
      },
      "execution_count": 47,
      "outputs": [
        {
          "output_type": "stream",
          "name": "stdout",
          "text": [
            "Highest stock price per week day for 2024\n"
          ]
        },
        {
          "output_type": "execute_result",
          "data": {
            "text/plain": [
              "Date\n",
              "0    556.010315\n",
              "1    553.677795\n",
              "2    556.857605\n",
              "3    555.930603\n",
              "4    557.037048\n",
              "Name: Close, dtype: float64"
            ],
            "text/html": [
              "<div>\n",
              "<style scoped>\n",
              "    .dataframe tbody tr th:only-of-type {\n",
              "        vertical-align: middle;\n",
              "    }\n",
              "\n",
              "    .dataframe tbody tr th {\n",
              "        vertical-align: top;\n",
              "    }\n",
              "\n",
              "    .dataframe thead th {\n",
              "        text-align: right;\n",
              "    }\n",
              "</style>\n",
              "<table border=\"1\" class=\"dataframe\">\n",
              "  <thead>\n",
              "    <tr style=\"text-align: right;\">\n",
              "      <th></th>\n",
              "      <th>Close</th>\n",
              "    </tr>\n",
              "    <tr>\n",
              "      <th>Date</th>\n",
              "      <th></th>\n",
              "    </tr>\n",
              "  </thead>\n",
              "  <tbody>\n",
              "    <tr>\n",
              "      <th>0</th>\n",
              "      <td>556.010315</td>\n",
              "    </tr>\n",
              "    <tr>\n",
              "      <th>1</th>\n",
              "      <td>553.677795</td>\n",
              "    </tr>\n",
              "    <tr>\n",
              "      <th>2</th>\n",
              "      <td>556.857605</td>\n",
              "    </tr>\n",
              "    <tr>\n",
              "      <th>3</th>\n",
              "      <td>555.930603</td>\n",
              "    </tr>\n",
              "    <tr>\n",
              "      <th>4</th>\n",
              "      <td>557.037048</td>\n",
              "    </tr>\n",
              "  </tbody>\n",
              "</table>\n",
              "</div><br><label><b>dtype:</b> float64</label>"
            ]
          },
          "metadata": {},
          "execution_count": 47
        }
      ]
    },
    {
      "cell_type": "code",
      "source": [
        "groupbyday = snp.groupby('Day of the week')\n",
        "df = groupbyday.max()\n",
        "plt.bar(df.index, df['Close'])\n",
        "plt.xlabel('Day of the week')\n",
        "plt.ylabel('Highest price %')\n",
        "plt.title(\"Highest price by the day of the week\")\n",
        "plt.show()"
      ],
      "metadata": {
        "colab": {
          "base_uri": "https://localhost:8080/",
          "height": 472
        },
        "id": "W6QCHS7KA-uX",
        "outputId": "f2c66ff3-5cbc-4097-df5f-689bb1cdcee2"
      },
      "execution_count": 48,
      "outputs": [
        {
          "output_type": "display_data",
          "data": {
            "text/plain": [
              "<Figure size 640x480 with 1 Axes>"
            ],
            "image/png": "[encoded data removed]"
          },
          "metadata": {}
        }
      ]
    },
    {
      "cell_type": "markdown",
      "source": [
        "---"
      ],
      "metadata": {
        "id": "RJs-4ddWd4K5"
      }
    },
    {
      "cell_type": "markdown",
      "source": [
        "##Corolation"
      ],
      "metadata": {
        "id": "ePpi2bE98dHg"
      }
    },
    {
      "cell_type": "code",
      "source": [
        "snp.select_dtypes(['number']).corr()"
      ],
      "metadata": {
        "colab": {
          "base_uri": "https://localhost:8080/",
          "height": 237
        },
        "id": "kcL7egqm8ic4",
        "outputId": "67d5ff4e-f576-4b8a-98db-d3ca3951014f"
      },
      "execution_count": 49,
      "outputs": [
        {
          "output_type": "execute_result",
          "data": {
            "text/plain": [
              "Price      Close      High       Low      Open    Volume\n",
              "Price                                                   \n",
              "Close   1.000000  0.997757  0.998696  0.996356  0.049561\n",
              "High    0.997757  1.000000  0.997673  0.998705  0.068253\n",
              "Low     0.998696  0.997673  1.000000  0.997820  0.052002\n",
              "Open    0.996356  0.998705  0.997820  1.000000  0.066838\n",
              "Volume  0.049561  0.068253  0.052002  0.066838  1.000000"
            ],
            "text/html": [
              "\n",
              "  <div id=\"df-e4de200e-ec74-4074-9e75-52f4f133edde\" class=\"colab-df-container\">\n",
              "    <div>\n",
              "<style scoped>\n",
              "    .dataframe tbody tr th:only-of-type {\n",
              "        vertical-align: middle;\n",
              "    }\n",
              "\n",
              "    .dataframe tbody tr th {\n",
              "        vertical-align: top;\n",
              "    }\n",
              "\n",
              "    .dataframe thead th {\n",
              "        text-align: right;\n",
              "    }\n",
              "</style>\n",
              "<table border=\"1\" class=\"dataframe\">\n",
              "  <thead>\n",
              "    <tr style=\"text-align: right;\">\n",
              "      <th>Price</th>\n",
              "      <th>Close</th>\n",
              "      <th>High</th>\n",
              "      <th>Low</th>\n",
              "      <th>Open</th>\n",
              "      <th>Volume</th>\n",
              "    </tr>\n",
              "    <tr>\n",
              "      <th>Price</th>\n",
              "      <th></th>\n",
              "      <th></th>\n",
              "      <th></th>\n",
              "      <th></th>\n",
              "      <th></th>\n",
              "    </tr>\n",
              "  </thead>\n",
              "  <tbody>\n",
              "    <tr>\n",
              "      <th>Close</th>\n",
              "      <td>1.000000</td>\n",
              "      <td>0.997757</td>\n",
              "      <td>0.998696</td>\n",
              "      <td>0.996356</td>\n",
              "      <td>0.049561</td>\n",
              "    </tr>\n",
              "    <tr>\n",
              "      <th>High</th>\n",
              "      <td>0.997757</td>\n",
              "      <td>1.000000</td>\n",
              "      <td>0.997673</td>\n",
              "      <td>0.998705</td>\n",
              "      <td>0.068253</td>\n",
              "    </tr>\n",
              "    <tr>\n",
              "      <th>Low</th>\n",
              "      <td>0.998696</td>\n",
              "      <td>0.997673</td>\n",
              "      <td>1.000000</td>\n",
              "      <td>0.997820</td>\n",
              "      <td>0.052002</td>\n",
              "    </tr>\n",
              "    <tr>\n",
              "      <th>Open</th>\n",
              "      <td>0.996356</td>\n",
              "      <td>0.998705</td>\n",
              "      <td>0.997820</td>\n",
              "      <td>1.000000</td>\n",
              "      <td>0.066838</td>\n",
              "    </tr>\n",
              "    <tr>\n",
              "      <th>Volume</th>\n",
              "      <td>0.049561</td>\n",
              "      <td>0.068253</td>\n",
              "      <td>0.052002</td>\n",
              "      <td>0.066838</td>\n",
              "      <td>1.000000</td>\n",
              "    </tr>\n",
              "  </tbody>\n",
              "</table>\n",
              "</div>\n",
              "    <div class=\"colab-df-buttons\">\n",
              "\n",
              "  <div class=\"colab-df-container\">\n",
              "    <button class=\"colab-df-convert\" onclick=\"convertToInteractive('df-e4de200e-ec74-4074-9e75-52f4f133edde')\"\n",
              "            title=\"Convert this dataframe to an interactive table.\"\n",
              "            style=\"display:none;\">\n",
              "\n",
              "  <svg xmlns=\"http://www.w3.org/2000/svg\" height=\"24px\" viewBox=\"0 -960 960 960\">\n",
              "    <path d=\"M120-120v-720h720v720H120Zm60-500h600v-160H180v160Zm220 220h160v-160H400v160Zm0 220h160v-160H400v160ZM180-400h160v-160H180v160Zm440 0h160v-160H620v160ZM180-180h160v-160H180v160Zm440 0h160v-160H620v160Z\"/>\n",
              "  </svg>\n",
              "    </button>\n",
              "\n",
              "  <style>\n",
              "    .colab-df-container {\n",
              "      display:flex;\n",
              "      gap: 12px;\n",
              "    }\n",
              "\n",
              "    .colab-df-convert {\n",
              "      background-color: #E8F0FE;\n",
              "      border: none;\n",
              "      border-radius: 50%;\n",
              "      cursor: pointer;\n",
              "      display: none;\n",
              "      fill: #1967D2;\n",
              "      height: 32px;\n",
              "      padding: 0 0 0 0;\n",
              "      width: 32px;\n",
              "    }\n",
              "\n",
              "    .colab-df-convert:hover {\n",
              "      background-color: #E2EBFA;\n",
              "      box-shadow: 0px 1px 2px rgba(60, 64, 67, 0.3), 0px 1px 3px 1px rgba(60, 64, 67, 0.15);\n",
              "      fill: #174EA6;\n",
              "    }\n",
              "\n",
              "    .colab-df-buttons div {\n",
              "      margin-bottom: 4px;\n",
              "    }\n",
              "\n",
              "    [theme=dark] .colab-df-convert {\n",
              "      background-color: #3B4455;\n",
              "      fill: #D2E3FC;\n",
              "    }\n",
              "\n",
              "    [theme=dark] .colab-df-convert:hover {\n",
              "      background-color: #434B5C;\n",
              "      box-shadow: 0px 1px 3px 1px rgba(0, 0, 0, 0.15);\n",
              "      filter: drop-shadow(0px 1px 2px rgba(0, 0, 0, 0.3));\n",
              "      fill: #FFFFFF;\n",
              "    }\n",
              "  </style>\n",
              "\n",
              "    <script>\n",
              "      const buttonEl =\n",
              "        document.querySelector('#df-e4de200e-ec74-4074-9e75-52f4f133edde button.colab-df-convert');\n",
              "      buttonEl.style.display =\n",
              "        google.colab.kernel.accessAllowed ? 'block' : 'none';\n",
              "\n",
              "      async function convertToInteractive(key) {\n",
              "        const element = document.querySelector('#df-e4de200e-ec74-4074-9e75-52f4f133edde');\n",
              "        const dataTable =\n",
              "          await google.colab.kernel.invokeFunction('convertToInteractive',\n",
              "                                                    [key], {});\n",
              "        if (!dataTable) return;\n",
              "\n",
              "        const docLinkHtml = 'Like what you see? Visit the ' +\n",
              "          '<a target=\"_blank\" href=https://colab.research.google.com/notebooks/data_table.ipynb>data table notebook</a>'\n",
              "          + ' to learn more about interactive tables.';\n",
              "        element.innerHTML = '';\n",
              "        dataTable['output_type'] = 'display_data';\n",
              "        await google.colab.output.renderOutput(dataTable, element);\n",
              "        const docLink = document.createElement('div');\n",
              "        docLink.innerHTML = docLinkHtml;\n",
              "        element.appendChild(docLink);\n",
              "      }\n",
              "    </script>\n",
              "  </div>\n",
              "\n",
              "\n",
              "<div id=\"df-2a3593df-d530-4a8b-8ea7-bdf5f2b96158\">\n",
              "  <button class=\"colab-df-quickchart\" onclick=\"quickchart('df-2a3593df-d530-4a8b-8ea7-bdf5f2b96158')\"\n",
              "            title=\"Suggest charts\"\n",
              "            style=\"display:none;\">\n",
              "\n",
              "<svg xmlns=\"http://www.w3.org/2000/svg\" height=\"24px\"viewBox=\"0 0 24 24\"\n",
              "     width=\"24px\">\n",
              "    <g>\n",
              "        <path d=\"M19 3H5c-1.1 0-2 .9-2 2v14c0 1.1.9 2 2 2h14c1.1 0 2-.9 2-2V5c0-1.1-.9-2-2-2zM9 17H7v-7h2v7zm4 0h-2V7h2v10zm4 0h-2v-4h2v4z\"/>\n",
              "    </g>\n",
              "</svg>\n",
              "  </button>\n",
              "\n",
              "<style>\n",
              "  .colab-df-quickchart {\n",
              "      --bg-color: #E8F0FE;\n",
              "      --fill-color: #1967D2;\n",
              "      --hover-bg-color: #E2EBFA;\n",
              "      --hover-fill-color: #174EA6;\n",
              "      --disabled-fill-color: #AAA;\n",
              "      --disabled-bg-color: #DDD;\n",
              "  }\n",
              "\n",
              "  [theme=dark] .colab-df-quickchart {\n",
              "      --bg-color: #3B4455;\n",
              "      --fill-color: #D2E3FC;\n",
              "      --hover-bg-color: #434B5C;\n",
              "      --hover-fill-color: #FFFFFF;\n",
              "      --disabled-bg-color: #3B4455;\n",
              "      --disabled-fill-color: #666;\n",
              "  }\n",
              "\n",
              "  .colab-df-quickchart {\n",
              "    background-color: var(--bg-color);\n",
              "    border: none;\n",
              "    border-radius: 50%;\n",
              "    cursor: pointer;\n",
              "    display: none;\n",
              "    fill: var(--fill-color);\n",
              "    height: 32px;\n",
              "    padding: 0;\n",
              "    width: 32px;\n",
              "  }\n",
              "\n",
              "  .colab-df-quickchart:hover {\n",
              "    background-color: var(--hover-bg-color);\n",
              "    box-shadow: 0 1px 2px rgba(60, 64, 67, 0.3), 0 1px 3px 1px rgba(60, 64, 67, 0.15);\n",
              "    fill: var(--button-hover-fill-color);\n",
              "  }\n",
              "\n",
              "  .colab-df-quickchart-complete:disabled,\n",
              "  .colab-df-quickchart-complete:disabled:hover {\n",
              "    background-color: var(--disabled-bg-color);\n",
              "    fill: var(--disabled-fill-color);\n",
              "    box-shadow: none;\n",
              "  }\n",
              "\n",
              "  .colab-df-spinner {\n",
              "    border: 2px solid var(--fill-color);\n",
              "    border-color: transparent;\n",
              "    border-bottom-color: var(--fill-color);\n",
              "    animation:\n",
              "      spin 1s steps(1) infinite;\n",
              "  }\n",
              "\n",
              "  @keyframes spin {\n",
              "    0% {\n",
              "      border-color: transparent;\n",
              "      border-bottom-color: var(--fill-color);\n",
              "      border-left-color: var(--fill-color);\n",
              "    }\n",
              "    20% {\n",
              "      border-color: transparent;\n",
              "      border-left-color: var(--fill-color);\n",
              "      border-top-color: var(--fill-color);\n",
              "    }\n",
              "    30% {\n",
              "      border-color: transparent;\n",
              "      border-left-color: var(--fill-color);\n",
              "      border-top-color: var(--fill-color);\n",
              "      border-right-color: var(--fill-color);\n",
              "    }\n",
              "    40% {\n",
              "      border-color: transparent;\n",
              "      border-right-color: var(--fill-color);\n",
              "      border-top-color: var(--fill-color);\n",
              "    }\n",
              "    60% {\n",
              "      border-color: transparent;\n",
              "      border-right-color: var(--fill-color);\n",
              "    }\n",
              "    80% {\n",
              "      border-color: transparent;\n",
              "      border-right-color: var(--fill-color);\n",
              "      border-bottom-color: var(--fill-color);\n",
              "    }\n",
              "    90% {\n",
              "      border-color: transparent;\n",
              "      border-bottom-color: var(--fill-color);\n",
              "    }\n",
              "  }\n",
              "</style>\n",
              "\n",
              "  <script>\n",
              "    async function quickchart(key) {\n",
              "      const quickchartButtonEl =\n",
              "        document.querySelector('#' + key + ' button');\n",
              "      quickchartButtonEl.disabled = true;  // To prevent multiple clicks.\n",
              "      quickchartButtonEl.classList.add('colab-df-spinner');\n",
              "      try {\n",
              "        const charts = await google.colab.kernel.invokeFunction(\n",
              "            'suggestCharts', [key], {});\n",
              "      } catch (error) {\n",
              "        console.error('Error during call to suggestCharts:', error);\n",
              "      }\n",
              "      quickchartButtonEl.classList.remove('colab-df-spinner');\n",
              "      quickchartButtonEl.classList.add('colab-df-quickchart-complete');\n",
              "    }\n",
              "    (() => {\n",
              "      let quickchartButtonEl =\n",
              "        document.querySelector('#df-2a3593df-d530-4a8b-8ea7-bdf5f2b96158 button');\n",
              "      quickchartButtonEl.style.display =\n",
              "        google.colab.kernel.accessAllowed ? 'block' : 'none';\n",
              "    })();\n",
              "  </script>\n",
              "</div>\n",
              "\n",
              "    </div>\n",
              "  </div>\n"
            ],
            "application/vnd.google.colaboratory.intrinsic+json": {
              "type": "dataframe",
              "summary": "{\n  \"name\": \"snp\",\n  \"rows\": 5,\n  \"fields\": [\n    {\n      \"column\": \"Price\",\n      \"properties\": {\n        \"dtype\": \"string\",\n        \"num_unique_values\": 5,\n        \"samples\": [\n          \"High\",\n          \"Volume\",\n          \"Low\"\n        ],\n        \"semantic_type\": \"\",\n        \"description\": \"\"\n      }\n    },\n    {\n      \"column\": \"Close\",\n      \"properties\": {\n        \"dtype\": \"number\",\n        \"std\": 0.4242471588140507,\n        \"min\": 0.04956142742125917,\n        \"max\": 1.0,\n        \"num_unique_values\": 5,\n        \"samples\": [\n          0.9977569580225524,\n          0.04956142742125917,\n          0.9986960879039884\n        ],\n        \"semantic_type\": \"\",\n        \"description\": \"\"\n      }\n    },\n    {\n      \"column\": \"High\",\n      \"properties\": {\n        \"dtype\": \"number\",\n        \"std\": 0.4160354423975734,\n        \"min\": 0.06825262941698039,\n        \"max\": 1.0,\n        \"num_unique_values\": 5,\n        \"samples\": [\n          1.0,\n          0.06825262941698039,\n          0.9976728388478251\n        ],\n        \"semantic_type\": \"\",\n        \"description\": \"\"\n      }\n    },\n    {\n      \"column\": \"Low\",\n      \"properties\": {\n        \"dtype\": \"number\",\n        \"std\": 0.42330885005288066,\n        \"min\": 0.05200217645865394,\n        \"max\": 1.0,\n        \"num_unique_values\": 5,\n        \"samples\": [\n          0.9976728388478251,\n          0.05200217645865394,\n          1.0\n        ],\n        \"semantic_type\": \"\",\n        \"description\": \"\"\n      }\n    },\n    {\n      \"column\": \"Open\",\n      \"properties\": {\n        \"dtype\": \"number\",\n        \"std\": 0.4165288615607923,\n        \"min\": 0.06683824980176496,\n        \"max\": 1.0,\n        \"num_unique_values\": 5,\n        \"samples\": [\n          0.9987053717784814,\n          0.06683824980176496,\n          0.9978201875748615\n        ],\n        \"semantic_type\": \"\",\n        \"description\": \"\"\n      }\n    },\n    {\n      \"column\": \"Volume\",\n      \"properties\": {\n        \"dtype\": \"number\",\n        \"std\": 0.42083948020289236,\n        \"min\": 0.04956142742125917,\n        \"max\": 1.0,\n        \"num_unique_values\": 5,\n        \"samples\": [\n          0.06825262941698039,\n          1.0,\n          0.05200217645865394\n        ],\n        \"semantic_type\": \"\",\n        \"description\": \"\"\n      }\n    }\n  ]\n}"
            }
          },
          "metadata": {},
          "execution_count": 49
        }
      ]
    },
    {
      "cell_type": "code",
      "source": [
        "sns.heatmap(snp.select_dtypes(['number']).corr(),\n",
        "            annot= True, fmt='.4g', annot_kws={\"size\": 8}, cmap= 'Blues')\n",
        "plt.title(\"Corellation Matrix\")\n",
        "plt.show()"
      ],
      "metadata": {
        "colab": {
          "base_uri": "https://localhost:8080/",
          "height": 472
        },
        "id": "cuTTEfzE8p7l",
        "outputId": "b09c5cd0-faf3-4498-9dc9-c8ca39872532"
      },
      "execution_count": 50,
      "outputs": [
        {
          "output_type": "display_data",
          "data": {
            "text/plain": [
              "<Figure size 640x480 with 2 Axes>"
            ],
            "image/png": "[encoded data removed]"
          },
          "metadata": {}
        }
      ]
    },
    {
      "cell_type": "markdown",
      "source": [
        "There is close perfect corrolation between the different prices, and close to no corrolation between the stock price and it's volume"
      ],
      "metadata": {
        "id": "Hox-BHPC-cF3"
      }
    },
    {
      "cell_type": "markdown",
      "source": [
        "####Analizing the corrolation between the Open and Close prices"
      ],
      "metadata": {
        "id": "p1gA6R3QFXqH"
      }
    },
    {
      "cell_type": "code",
      "source": [
        "sns.regplot(x = snp[\"Open\"], y = snp[\"Close\"], marker = '.',\n",
        "            scatter_kws={'color' : 'gray'}, line_kws={'color' : 'Green'})\n",
        "plt.title(\"Correlation between Open and Close prices\")\n",
        "plt.show()"
      ],
      "metadata": {
        "colab": {
          "base_uri": "https://localhost:8080/",
          "height": 472
        },
        "id": "JNCX461SFXB2",
        "outputId": "ce1a70f5-f2ec-4ef5-8351-d424fff7e8bf"
      },
      "execution_count": 51,
      "outputs": [
        {
          "output_type": "display_data",
          "data": {
            "text/plain": [
              "<Figure size 640x480 with 1 Axes>"
            ],
            "image/png": "[encoded data removed]"
          },
          "metadata": {}
        }
      ]
    },
    {
      "cell_type": "markdown",
      "source": [
        "We can see a corolation of 1 between the Open and Close price of the stock throught 2024"
      ],
      "metadata": {
        "id": "dvrtXTfvVWvJ"
      }
    },
    {
      "cell_type": "markdown",
      "source": [
        "---"
      ],
      "metadata": {
        "id": "7ATzTsZo8qbz"
      }
    },
    {
      "cell_type": "markdown",
      "source": [
        "##Quarter statisitcs"
      ],
      "metadata": {
        "id": "ejpa_OdvG_tu"
      }
    },
    {
      "cell_type": "markdown",
      "source": [
        "###Q1"
      ],
      "metadata": {
        "id": "EPH0tojMVJnA"
      }
    },
    {
      "cell_type": "code",
      "source": [
        "# 1st of January was a holiday so we took information from the second of January\n",
        "q1_open = get_stock_statistics('full', '2024-01-02', \"Open\")\n",
        "q1_close = get_stock_statistics('full', '2024-01-02', \"Close\")\n",
        "q1_high = get_stock_statistics('full', '2024-01-02', \"High\")\n",
        "q1_low = get_stock_statistics('full', '2024-01-02', \"Low\")\n",
        "q1_volume = get_stock_statistics('full', '2024-01-02', \"Volume\")\n",
        "\n",
        "# Print the values\n",
        "print(\"Q1 start statistics :\")\n",
        "print(f\"Open : ${q1_open:.2f}\")\n",
        "print(f\"Close : ${q1_close:.2f}\")\n",
        "print(f\"High : ${q1_high:.2f}\")\n",
        "print(f\"Low : ${q1_low:.2f}\")\n",
        "print(f\"Vloume : {int(q1_volume)} stocks per day\")"
      ],
      "metadata": {
        "colab": {
          "base_uri": "https://localhost:8080/"
        },
        "id": "Oy5th9KvVOCU",
        "outputId": "c22f6c27-5b66-44b1-dacb-60c9e419c171"
      },
      "execution_count": 52,
      "outputs": [
        {
          "output_type": "stream",
          "name": "stdout",
          "text": [
            "Q1 start statistics :\n",
            "Open : $428.28\n",
            "Close : $428.38\n",
            "High : $429.62\n",
            "Low : $426.75\n",
            "Vloume : 9076000 stocks per day\n"
          ]
        }
      ]
    },
    {
      "cell_type": "markdown",
      "source": [
        "###Q2"
      ],
      "metadata": {
        "id": "xUJicPwqWQb9"
      }
    },
    {
      "cell_type": "code",
      "source": [
        "q2_open = get_stock_statistics('full', '2024-04-01', \"Open\")\n",
        "q2_close = get_stock_statistics('full', '2024-04-01', \"Close\")\n",
        "q2_high = get_stock_statistics('full', '2024-04-01', \"High\")\n",
        "q2_low = get_stock_statistics('full', '2024-04-01', \"Low\")\n",
        "q2_volume = get_stock_statistics('full', '2024-04-01', \"Volume\")\n",
        "\n",
        "# Print the values\n",
        "print(\"Q2 start statistics :\")\n",
        "print(f\"Open : ${q2_open:.2f}\")\n",
        "print(f\"Close : ${q2_close:.2f}\")\n",
        "print(f\"High : ${q2_high:.2f}\")\n",
        "print(f\"Low : ${q2_low:.2f}\")\n",
        "print(f\"Vloume : {int(q2_volume)} stocks per day\")"
      ],
      "metadata": {
        "id": "ADkS4oPcWRrp",
        "colab": {
          "base_uri": "https://localhost:8080/"
        },
        "outputId": "c16350f3-7ea6-45a7-8ca7-343403dbaca0"
      },
      "execution_count": 53,
      "outputs": [
        {
          "output_type": "stream",
          "name": "stdout",
          "text": [
            "Q2 start statistics :\n",
            "Open : $476.72\n",
            "Close : $475.36\n",
            "High : $477.23\n",
            "Low : $474.13\n",
            "Vloume : 5734000 stocks per day\n"
          ]
        }
      ]
    },
    {
      "cell_type": "markdown",
      "source": [
        "###Q3"
      ],
      "metadata": {
        "id": "-9UIRDCNge8j"
      }
    },
    {
      "cell_type": "code",
      "source": [
        "q3_open = get_stock_statistics('full', '2024-07-01', \"Open\")\n",
        "q3_close = get_stock_statistics('full', '2024-07-01', \"Close\")\n",
        "q3_high = get_stock_statistics('full', '2024-07-01', \"High\")\n",
        "q3_low = get_stock_statistics('full', '2024-07-01', \"Low\")\n",
        "q3_volume = get_stock_statistics('full', '2024-07-01', \"Volume\")\n",
        "\n",
        "# Print the values\n",
        "print(\"Q3 start statistics :\")\n",
        "print(f\"Open : ${q3_open:.2f}\")\n",
        "print(f\"Close : ${q3_close:.2f}\")\n",
        "print(f\"High : ${q3_high:.2f}\")\n",
        "print(f\"Low : ${q3_low:.2f}\")\n",
        "print(f\"Vloume : {int(q3_volume)} stocks per day\")"
      ],
      "metadata": {
        "id": "zA2VkD4bgg48",
        "colab": {
          "base_uri": "https://localhost:8080/"
        },
        "outputId": "c71c7c60-07a0-403a-ee3e-b928355333a3"
      },
      "execution_count": 54,
      "outputs": [
        {
          "output_type": "stream",
          "name": "stdout",
          "text": [
            "Q3 start statistics :\n",
            "Open : $498.34\n",
            "Close : $498.13\n",
            "High : $498.53\n",
            "Low : $495.47\n",
            "Vloume : 4368500 stocks per day\n"
          ]
        }
      ]
    },
    {
      "cell_type": "markdown",
      "source": [
        "###Q4"
      ],
      "metadata": {
        "id": "hJWLgkdeh0hs"
      }
    },
    {
      "cell_type": "code",
      "source": [
        "q4_open = get_stock_statistics('full', '2024-10-01', \"Open\")\n",
        "q4_close = get_stock_statistics('full', '2024-10-01', \"Close\")\n",
        "q4_high = get_stock_statistics('full', '2024-10-01', \"High\")\n",
        "q4_low = get_stock_statistics('full', '2024-10-01', \"Low\")\n",
        "q4_volume = get_stock_statistics('full', '2024-10-01', \"Volume\")\n",
        "\n",
        "# Print the values\n",
        "print(\"Q4 start statistics :\")\n",
        "print(f\"Open : ${q4_open:.2f}\")\n",
        "print(f\"Close : ${q4_close:.2f}\")\n",
        "print(f\"High : ${q4_high:.2f}\")\n",
        "print(f\"Low : ${q4_low:.2f}\")\n",
        "print(f\"Vloume : {int(q4_volume)} stocks per day\")"
      ],
      "metadata": {
        "id": "gfLkNbhVh2fm",
        "colab": {
          "base_uri": "https://localhost:8080/"
        },
        "outputId": "5f0768fb-87ab-4cf6-d5ac-016d588889b2"
      },
      "execution_count": 55,
      "outputs": [
        {
          "output_type": "stream",
          "name": "stdout",
          "text": [
            "Q4 start statistics :\n",
            "Open : $525.36\n",
            "Close : $521.07\n",
            "High : $525.42\n",
            "Low : $518.57\n",
            "Vloume : 9198700 stocks per day\n"
          ]
        }
      ]
    },
    {
      "cell_type": "markdown",
      "source": [
        "###Pie Chart 🎂"
      ],
      "metadata": {
        "id": "Rl5jlLEoSvlv"
      }
    },
    {
      "cell_type": "code",
      "source": [
        "# put all the data about the trading volume into one variable\n",
        "volume_per_quarter = [q1_volume, q2_volume, q3_volume, q4_volume]\n",
        "# the quarters to later put it on the chart\n",
        "keys = ['Q1', 'Q2', 'Q3', 'Q4']\n",
        "\n",
        "# plotting data on chart\n",
        "plt.pie(volume_per_quarter, labels=keys, autopct='%.2f%%')\n",
        "plt.title(\"Trading volume by quarter\")\n",
        "plt.show()"
      ],
      "metadata": {
        "colab": {
          "base_uri": "https://localhost:8080/",
          "height": 428
        },
        "id": "3ZVwJvd2TKSj",
        "outputId": "62ea3f6c-ee3e-4466-f48e-72134c020a9b"
      },
      "execution_count": 56,
      "outputs": [
        {
          "output_type": "display_data",
          "data": {
            "text/plain": [
              "<Figure size 640x480 with 1 Axes>"
            ],
            "image/png": "[encoded data removed]"
          },
          "metadata": {}
        }
      ]
    },
    {
      "cell_type": "markdown",
      "source": [
        "---"
      ],
      "metadata": {
        "id": "2-qTuGOwNWbQ"
      }
    },
    {
      "cell_type": "markdown",
      "source": [
        "\n",
        "##<u>**Part 4**<u/>"
      ],
      "metadata": {
        "id": "miFu1XlRUOPz"
      }
    },
    {
      "cell_type": "code",
      "source": [
        "plt.figure(figsize=(10, 5))\n",
        "plt.plot(snp.index, snp['Close'])\n",
        "# Add markers for the highest and lowest prices\n",
        "# Highest price of the year\n",
        "plt.scatter(x = snp.loc[snp['Close'].idxmax()].name,\n",
        "            y = snp.loc[snp['High'].idxmax()]['Close'],\n",
        "            color='red', label='Highest price')\n",
        "# Lowest price of the year\n",
        "plt.scatter(x = snp.loc[snp['Close'].idxmin()].name,\n",
        "            y = snp.loc[snp['High'].idxmin()]['Close'],\n",
        "            color='green', label='Lowest price')\n",
        "plt.xlabel('Month')\n",
        "plt.ylabel('Price')\n",
        "plt.title('S&P500 price Jan 1st-Dec 31 2024')\n",
        "plt.legend()\n",
        "plt.show()"
      ],
      "metadata": {
        "colab": {
          "base_uri": "https://localhost:8080/",
          "height": 487
        },
        "id": "vzi1VBj_6y4d",
        "outputId": "c1d0878e-d9fb-4983-a70a-a30a9b5e9690"
      },
      "execution_count": 57,
      "outputs": [
        {
          "output_type": "display_data",
          "data": {
            "text/plain": [
              "<Figure size 1000x500 with 1 Axes>"
            ],
            "image/png": "[encoded data removed]"
          },
          "metadata": {}
        }
      ]
    },
    {
      "cell_type": "code",
      "source": [
        "snp.loc[snp['Close'].idxmax()]"
      ],
      "metadata": {
        "colab": {
          "base_uri": "https://localhost:8080/",
          "height": 303
        },
        "id": "KRwf47kneWWJ",
        "outputId": "45542248-0280-48b1-a384-d207e27a40ff"
      },
      "execution_count": 58,
      "outputs": [
        {
          "output_type": "execute_result",
          "data": {
            "text/plain": [
              "Price\n",
              "Close              557.037048\n",
              "High               558.173426\n",
              "Low                556.299419\n",
              "Open               556.688129\n",
              "Volume                5134900\n",
              "Day of the week        Friday\n",
              "Name: 2024-12-06 00:00:00, dtype: object"
            ],
            "text/html": [
              "<div>\n",
              "<style scoped>\n",
              "    .dataframe tbody tr th:only-of-type {\n",
              "        vertical-align: middle;\n",
              "    }\n",
              "\n",
              "    .dataframe tbody tr th {\n",
              "        vertical-align: top;\n",
              "    }\n",
              "\n",
              "    .dataframe thead th {\n",
              "        text-align: right;\n",
              "    }\n",
              "</style>\n",
              "<table border=\"1\" class=\"dataframe\">\n",
              "  <thead>\n",
              "    <tr style=\"text-align: right;\">\n",
              "      <th></th>\n",
              "      <th>2024-12-06</th>\n",
              "    </tr>\n",
              "    <tr>\n",
              "      <th>Price</th>\n",
              "      <th></th>\n",
              "    </tr>\n",
              "  </thead>\n",
              "  <tbody>\n",
              "    <tr>\n",
              "      <th>Close</th>\n",
              "      <td>557.037048</td>\n",
              "    </tr>\n",
              "    <tr>\n",
              "      <th>High</th>\n",
              "      <td>558.173426</td>\n",
              "    </tr>\n",
              "    <tr>\n",
              "      <th>Low</th>\n",
              "      <td>556.299419</td>\n",
              "    </tr>\n",
              "    <tr>\n",
              "      <th>Open</th>\n",
              "      <td>556.688129</td>\n",
              "    </tr>\n",
              "    <tr>\n",
              "      <th>Volume</th>\n",
              "      <td>5134900</td>\n",
              "    </tr>\n",
              "    <tr>\n",
              "      <th>Day of the week</th>\n",
              "      <td>Friday</td>\n",
              "    </tr>\n",
              "  </tbody>\n",
              "</table>\n",
              "</div><br><label><b>dtype:</b> object</label>"
            ]
          },
          "metadata": {},
          "execution_count": 58
        }
      ]
    },
    {
      "cell_type": "markdown",
      "source": [
        "###Identifying odds"
      ],
      "metadata": {
        "id": "bJPnK0Kr63XX"
      }
    },
    {
      "cell_type": "markdown",
      "source": [
        "Highest price of the year"
      ],
      "metadata": {
        "id": "3iwizj-X6mXo"
      }
    },
    {
      "cell_type": "code",
      "source": [
        "snp.loc[snp['High'].idxmax()]"
      ],
      "metadata": {
        "colab": {
          "base_uri": "https://localhost:8080/",
          "height": 303
        },
        "id": "OstEobL746-E",
        "outputId": "c230ac09-ff0a-4d65-d8ef-8102d70421ae"
      },
      "execution_count": 59,
      "outputs": [
        {
          "output_type": "execute_result",
          "data": {
            "text/plain": [
              "Price\n",
              "Close              557.037048\n",
              "High               558.173426\n",
              "Low                556.299419\n",
              "Open               556.688129\n",
              "Volume                5134900\n",
              "Day of the week        Friday\n",
              "Name: 2024-12-06 00:00:00, dtype: object"
            ],
            "text/html": [
              "<div>\n",
              "<style scoped>\n",
              "    .dataframe tbody tr th:only-of-type {\n",
              "        vertical-align: middle;\n",
              "    }\n",
              "\n",
              "    .dataframe tbody tr th {\n",
              "        vertical-align: top;\n",
              "    }\n",
              "\n",
              "    .dataframe thead th {\n",
              "        text-align: right;\n",
              "    }\n",
              "</style>\n",
              "<table border=\"1\" class=\"dataframe\">\n",
              "  <thead>\n",
              "    <tr style=\"text-align: right;\">\n",
              "      <th></th>\n",
              "      <th>2024-12-06</th>\n",
              "    </tr>\n",
              "    <tr>\n",
              "      <th>Price</th>\n",
              "      <th></th>\n",
              "    </tr>\n",
              "  </thead>\n",
              "  <tbody>\n",
              "    <tr>\n",
              "      <th>Close</th>\n",
              "      <td>557.037048</td>\n",
              "    </tr>\n",
              "    <tr>\n",
              "      <th>High</th>\n",
              "      <td>558.173426</td>\n",
              "    </tr>\n",
              "    <tr>\n",
              "      <th>Low</th>\n",
              "      <td>556.299419</td>\n",
              "    </tr>\n",
              "    <tr>\n",
              "      <th>Open</th>\n",
              "      <td>556.688129</td>\n",
              "    </tr>\n",
              "    <tr>\n",
              "      <th>Volume</th>\n",
              "      <td>5134900</td>\n",
              "    </tr>\n",
              "    <tr>\n",
              "      <th>Day of the week</th>\n",
              "      <td>Friday</td>\n",
              "    </tr>\n",
              "  </tbody>\n",
              "</table>\n",
              "</div><br><label><b>dtype:</b> object</label>"
            ]
          },
          "metadata": {},
          "execution_count": 59
        }
      ]
    },
    {
      "cell_type": "markdown",
      "source": [
        "Lowest price of the year"
      ],
      "metadata": {
        "id": "p9zouvMN6tVr"
      }
    },
    {
      "cell_type": "code",
      "source": [
        "snp.loc[snp['High'].idxmin()]"
      ],
      "metadata": {
        "colab": {
          "base_uri": "https://localhost:8080/",
          "height": 303
        },
        "id": "nhiXQ8ax5Cwb",
        "outputId": "8dfa5e8a-3d0b-4fcf-b3de-61aa298e1602"
      },
      "execution_count": 60,
      "outputs": [
        {
          "output_type": "execute_result",
          "data": {
            "text/plain": [
              "Price\n",
              "Close                424.3992\n",
              "High               426.689066\n",
              "Low                423.076596\n",
              "Open               424.014248\n",
              "Volume                5723100\n",
              "Day of the week        Friday\n",
              "Name: 2024-01-05 00:00:00, dtype: object"
            ],
            "text/html": [
              "<div>\n",
              "<style scoped>\n",
              "    .dataframe tbody tr th:only-of-type {\n",
              "        vertical-align: middle;\n",
              "    }\n",
              "\n",
              "    .dataframe tbody tr th {\n",
              "        vertical-align: top;\n",
              "    }\n",
              "\n",
              "    .dataframe thead th {\n",
              "        text-align: right;\n",
              "    }\n",
              "</style>\n",
              "<table border=\"1\" class=\"dataframe\">\n",
              "  <thead>\n",
              "    <tr style=\"text-align: right;\">\n",
              "      <th></th>\n",
              "      <th>2024-01-05</th>\n",
              "    </tr>\n",
              "    <tr>\n",
              "      <th>Price</th>\n",
              "      <th></th>\n",
              "    </tr>\n",
              "  </thead>\n",
              "  <tbody>\n",
              "    <tr>\n",
              "      <th>Close</th>\n",
              "      <td>424.3992</td>\n",
              "    </tr>\n",
              "    <tr>\n",
              "      <th>High</th>\n",
              "      <td>426.689066</td>\n",
              "    </tr>\n",
              "    <tr>\n",
              "      <th>Low</th>\n",
              "      <td>423.076596</td>\n",
              "    </tr>\n",
              "    <tr>\n",
              "      <th>Open</th>\n",
              "      <td>424.014248</td>\n",
              "    </tr>\n",
              "    <tr>\n",
              "      <th>Volume</th>\n",
              "      <td>5723100</td>\n",
              "    </tr>\n",
              "    <tr>\n",
              "      <th>Day of the week</th>\n",
              "      <td>Friday</td>\n",
              "    </tr>\n",
              "  </tbody>\n",
              "</table>\n",
              "</div><br><label><b>dtype:</b> object</label>"
            ]
          },
          "metadata": {},
          "execution_count": 60
        }
      ]
    },
    {
      "cell_type": "markdown",
      "source": [
        "# **PART 4**"
      ],
      "metadata": {
        "id": "KRI4dAuFubow"
      }
    },
    {
      "cell_type": "markdown",
      "source": [
        "1.\n",
        "\n"
      ],
      "metadata": {
        "id": "3F9qbP1Mupon"
      }
    },
    {
      "cell_type": "code",
      "source": [
        "plt.figure(figsize=(10, 5))\n",
        "\n",
        "gbweek = snp.groupby(snp.index.to_period('W'))\n",
        "\n",
        "#plot the average close price with week numbers\n",
        "plt.plot(list(range(len(gbweek['Close'].mean()))),\n",
        "         gbweek['Close'].mean(), marker= '.')\n",
        "\n",
        "#labels and title\n",
        "plt.xlabel('Week Number')\n",
        "plt.ylabel('Average Closing Price Per Week')\n",
        "plt.title('S&P500 Average Price Jan 1st-Dec 31 2024 by Week')\n",
        "plt.legend()\n",
        "plt.show()"
      ],
      "metadata": {
        "colab": {
          "base_uri": "https://localhost:8080/",
          "height": 542
        },
        "id": "gfVaV5RGZySk",
        "outputId": "c5d506b3-7929-48cc-a827-28d8ab6b557b"
      },
      "execution_count": 61,
      "outputs": [
        {
          "output_type": "stream",
          "name": "stderr",
          "text": [
            "<ipython-input-61-ca8b9a8fc44f>:13: UserWarning: No artists with labels found to put in legend.  Note that artists whose label start with an underscore are ignored when legend() is called with no argument.\n",
            "  plt.legend()\n"
          ]
        },
        {
          "output_type": "display_data",
          "data": {
            "text/plain": [
              "<Figure size 1000x500 with 1 Axes>"
            ],
            "image/png": "[encoded data removed]"
          },
          "metadata": {}
        }
      ]
    },
    {
      "cell_type": "markdown",
      "source": [
        "2.\n"
      ],
      "metadata": {
        "id": "-xRvv1pcu2Y3"
      }
    },
    {
      "cell_type": "code",
      "source": [
        "plt.figure(figsize=(10, 5))\n",
        "#plotting the closing price for this year\n",
        "plt.plot(snp.index, snp['Close'])\n",
        "#marking the highest and lowest points in this year\n",
        "plt.scatter(snp['Close'].idxmax(),snp['Close'].max() ,color='green', label='Highest Price', zorder=5)\n",
        "plt.scatter(snp['Close'].idxmin(),snp['Close'].min() ,color='red', label='Lowest Price', zorder=5)\n",
        "#labels and title\n",
        "plt.xlabel('Date')\n",
        "plt.ylabel('Closing Price')\n",
        "plt.title('S&P500 Closing Price Jan 1st-Dec 31 2024')\n",
        "plt.legend()\n",
        "plt.show()"
      ],
      "metadata": {
        "colab": {
          "base_uri": "https://localhost:8080/",
          "height": 487
        },
        "id": "Z6vzKKUOu5RC",
        "outputId": "f668a8e9-9d24-43c9-ebed-8f8e37da9584"
      },
      "execution_count": 62,
      "outputs": [
        {
          "output_type": "display_data",
          "data": {
            "text/plain": [
              "<Figure size 1000x500 with 1 Axes>"
            ],
            "image/png": "[encoded data removed]"
          },
          "metadata": {}
        }
      ]
    },
    {
      "cell_type": "markdown",
      "source": [
        "3."
      ],
      "metadata": {
        "id": "0fvqzJ4A2f2u"
      }
    },
    {
      "cell_type": "code",
      "source": [
        "plt.figure(figsize=(6, 5))\n",
        "#bar chart for closing price each day\n",
        "plt.bar(snp.index, snp['Close'], label= 'Average Price Per Day')\n",
        "#line that marks the average closing price\n",
        "plt.axhline(snp['Close'].mean(), color= 'black', label= 'Average Price')\n",
        "#labels and title\n",
        "plt.xlabel('Date')\n",
        "plt.ylabel('Closing Price')\n",
        "plt.title('S&P500 Closing Price Jan 1st-Dec 31 2024')\n",
        "plt.legend()\n",
        "plt.show()"
      ],
      "metadata": {
        "colab": {
          "base_uri": "https://localhost:8080/",
          "height": 487
        },
        "id": "bWd5a8KKy--l",
        "outputId": "dad7fbb1-a128-454e-bdba-3d4d1da1f5ca"
      },
      "execution_count": 63,
      "outputs": [
        {
          "output_type": "display_data",
          "data": {
            "text/plain": [
              "<Figure size 600x500 with 1 Axes>"
            ],
            "image/png": "[encoded data removed]"
          },
          "metadata": {}
        }
      ]
    },
    {
      "cell_type": "markdown",
      "source": [
        "4."
      ],
      "metadata": {
        "id": "J0Ib-_4l6rRe"
      }
    },
    {
      "cell_type": "code",
      "source": [
        "sns.jointplot(x = 'Close', y = 'Volume', data = snp, zorder = 2)\n",
        "sns.regplot(x = 'Close', y = 'Volume', data = snp, color = 'green')\n",
        "plt.show()"
      ],
      "metadata": {
        "colab": {
          "base_uri": "https://localhost:8080/",
          "height": 607
        },
        "id": "haEQZUaN6tHV",
        "outputId": "5861ce20-6f4d-488e-d764-fa3aab304e08"
      },
      "execution_count": 64,
      "outputs": [
        {
          "output_type": "display_data",
          "data": {
            "text/plain": [
              "<Figure size 600x600 with 3 Axes>"
            ],
            "image/png": "[encoded data removed]"
          },
          "metadata": {}
        }
      ]
    },
    {
      "cell_type": "markdown",
      "source": [
        "5."
      ],
      "metadata": {
        "id": "zz9iCZNM-2i6"
      }
    },
    {
      "cell_type": "code",
      "source": [
        "sns.jointplot(x = 'High', y = 'Low', data = snp)\n",
        "plt.show()"
      ],
      "metadata": {
        "colab": {
          "base_uri": "https://localhost:8080/",
          "height": 607
        },
        "id": "UxBEpGtx8D3z",
        "outputId": "789b96aa-22b8-4be7-ce40-bc4811be053a"
      },
      "execution_count": 65,
      "outputs": [
        {
          "output_type": "display_data",
          "data": {
            "text/plain": [
              "<Figure size 600x600 with 3 Axes>"
            ],
            "image/png": "[encoded data removed]"
          },
          "metadata": {}
        }
      ]
    },
    {
      "cell_type": "markdown",
      "source": [
        "#The end!"
      ],
      "metadata": {
        "id": "I3xLVXhfCffz"
      }
    }
  ]
}