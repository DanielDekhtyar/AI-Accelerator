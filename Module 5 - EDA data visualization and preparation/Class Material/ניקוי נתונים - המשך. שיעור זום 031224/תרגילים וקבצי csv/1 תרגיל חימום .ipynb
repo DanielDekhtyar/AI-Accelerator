{
 "cells": [
  {
   "cell_type": "markdown",
   "id": "6baf83e0-e561-4f53-abff-225b9c0f1755",
   "metadata": {},
   "source": [
    "1. upload the used_car_dataset csv file and name it df"
   ]
  },
  {
   "cell_type": "code",
   "execution_count": null,
   "id": "9e0c7f08-14f0-45cc-a1b8-6a53eabf1015",
   "metadata": {},
   "outputs": [],
   "source": []
  },
  {
   "cell_type": "code",
   "execution_count": null,
   "id": "a6213f90-785e-4d86-8432-1b9341c2c0b7",
   "metadata": {},
   "outputs": [],
   "source": []
  },
  {
   "cell_type": "markdown",
   "id": "01dce7fb-d39c-4f92-b7ca-38d3caaf63cc",
   "metadata": {},
   "source": [
    "2. inspect your df, use at least head, info and describe"
   ]
  },
  {
   "cell_type": "code",
   "execution_count": null,
   "id": "2b7d0f30-c935-4073-8678-8ba2148f9ef4",
   "metadata": {},
   "outputs": [],
   "source": []
  },
  {
   "cell_type": "code",
   "execution_count": null,
   "id": "71d710ef-cd1c-427d-969d-efcbc88df9aa",
   "metadata": {},
   "outputs": [],
   "source": []
  },
  {
   "cell_type": "code",
   "execution_count": null,
   "id": "cea82bc5-91d1-4981-a3da-ddb1a0a82f69",
   "metadata": {},
   "outputs": [],
   "source": []
  },
  {
   "cell_type": "markdown",
   "id": "355d1492-5842-4eac-bc51-bf8fec8997d7",
   "metadata": {},
   "source": [
    "2.1. What is the shape of the DataFrame? How many dimensions does it have?"
   ]
  },
  {
   "cell_type": "code",
   "execution_count": null,
   "id": "4ede63a9-eae8-4a5d-9ec1-c4649416e686",
   "metadata": {},
   "outputs": [],
   "source": []
  },
  {
   "cell_type": "code",
   "execution_count": null,
   "id": "19bb9bc3-37ac-4224-abd3-7ee83f845002",
   "metadata": {},
   "outputs": [],
   "source": []
  },
  {
   "cell_type": "markdown",
   "id": "3d7ab755-f64d-4c08-b52c-5b1a12878b46",
   "metadata": {},
   "source": [
    "3. display only the Brand ,model and year columns"
   ]
  },
  {
   "cell_type": "code",
   "execution_count": null,
   "id": "30956091-dc51-48e0-8b13-3ec72bdd2f21",
   "metadata": {},
   "outputs": [],
   "source": []
  },
  {
   "cell_type": "markdown",
   "id": "514e2e07-2991-4204-a054-50919f6d1e62",
   "metadata": {},
   "source": [
    "4. what brand is most sold?"
   ]
  },
  {
   "cell_type": "code",
   "execution_count": null,
   "id": "ce1c25c5-4f75-4d79-8911-fca48b4f9229",
   "metadata": {},
   "outputs": [],
   "source": []
  },
  {
   "cell_type": "markdown",
   "id": "f2ba68a9-b1b3-4aee-b793-775916390481",
   "metadata": {},
   "source": [
    "5. how many different models are there?"
   ]
  },
  {
   "cell_type": "code",
   "execution_count": null,
   "id": "5dc27532-bf2a-4c1e-9b82-aa9c46155022",
   "metadata": {},
   "outputs": [],
   "source": []
  },
  {
   "cell_type": "markdown",
   "id": "e9109ca1-7900-459a-97b0-f06cd28a1241",
   "metadata": {},
   "source": [
    "6. What is the percentage of occurrences for each brand in the given column of the DataFrame?"
   ]
  },
  {
   "cell_type": "code",
   "execution_count": null,
   "id": "f1d61932-5f12-457c-9dab-180030aada6c",
   "metadata": {},
   "outputs": [],
   "source": []
  },
  {
   "cell_type": "markdown",
   "id": "1664b5f6-4ced-4419-9115-f62f902270e2",
   "metadata": {},
   "source": [
    "##### if you have more time\n",
    "7. Write a program to print the unique values from the 'Brand' column of the DataFrame. For each unique value, print its index (starting from 1) and the brand name in the format:\n",
    "1) Honda\r\n",
    "2) Toyota\n",
    "and so on."
   ]
  },
  {
   "cell_type": "code",
   "execution_count": null,
   "id": "2a3bd2f5-5da9-499a-bc99-f9a8c163638c",
   "metadata": {},
   "outputs": [],
   "source": []
  },
  {
   "cell_type": "code",
   "execution_count": null,
   "id": "8618d9ec-1e5c-43c4-8ad4-cfc80f63d497",
   "metadata": {},
   "outputs": [],
   "source": []
  },
  {
   "cell_type": "markdown",
   "id": "e5387189-6d54-4c94-98a1-66bdeadf4e04",
   "metadata": {},
   "source": [
    "8. Using the program you wrote in the previous exercise, modify it to create a function called print_unique_values that accepts a DataFrame and a column name as input. The function should print the unique values from the specified column, numbered starting from 1. If there are more than 50 unique values, the function should stop after displaying the first 50 and print a message saying, 'Too many unique values, stopping at 50.\n",
    "\n",
    "    או בעברית: קחו את הקוד מהשאלה הקודמת ותעשו ממנו פונקציה שתקבל שם עמודה ושם לוח נתונים ותדפיס את הערכים היחודיים של העמודה .\n",
    "   בגלל שיש המון שורות , בואו נגביל את הפונקציה למקסימום 50 שורות הדפסה, ואם במקרה יש יותר אז נודיע למשתמש שזהו, חלאס, אנחנו מדפיסים רק 50"
   ]
  },
  {
   "cell_type": "code",
   "execution_count": null,
   "id": "69d74e1c-b73e-430e-92c3-a213d80c7731",
   "metadata": {},
   "outputs": [],
   "source": []
  }
 ],
 "metadata": {
  "kernelspec": {
   "display_name": "Python 3 (ipykernel)",
   "language": "python",
   "name": "python3"
  },
  "language_info": {
   "codemirror_mode": {
    "name": "ipython",
    "version": 3
   },
   "file_extension": ".py",
   "mimetype": "text/x-python",
   "name": "python",
   "nbconvert_exporter": "python",
   "pygments_lexer": "ipython3",
   "version": "3.12.2"
  }
 },
 "nbformat": 4,
 "nbformat_minor": 5
}
