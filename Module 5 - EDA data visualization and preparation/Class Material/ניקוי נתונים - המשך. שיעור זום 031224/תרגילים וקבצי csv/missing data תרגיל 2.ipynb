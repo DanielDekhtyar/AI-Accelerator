{
 "cells": [
  {
   "cell_type": "markdown",
   "id": "51fd273b-da65-408b-bd98-587f626e1ec3",
   "metadata": {},
   "source": [
    "intro: in this exercise you will use mls_salaries_nans.csv as the data frame.\n",
    "\n",
    "1. look at your data and get to know it a little. use info(), head(), tail, describe()- or whatever it is you want to map for yourself what needs to be done."
   ]
  },
  {
   "cell_type": "code",
   "execution_count": 1,
   "id": "b9eb9db7-c1f6-4232-b6e8-d8c2790dbae4",
   "metadata": {},
   "outputs": [],
   "source": []
  },
  {
   "cell_type": "raw",
   "id": "68bc2af0-1d92-4b5c-a23e-06f094e641b7",
   "metadata": {},
   "source": []
  },
  {
   "cell_type": "markdown",
   "id": "d584ebb3-6c50-428e-91a1-65b92fcd8d33",
   "metadata": {},
   "source": [
    "2. The 'club' column contains NaN values. Delete rows with null values in this column and make the changes permanent"
   ]
  },
  {
   "cell_type": "code",
   "execution_count": null,
   "id": "3c390ef0-771a-46bd-8fc2-be2334563a9d",
   "metadata": {},
   "outputs": [],
   "source": []
  },
  {
   "cell_type": "markdown",
   "id": "ad4dd1ed-9ede-4ed3-b0a7-dc4077f19ef2",
   "metadata": {},
   "source": [
    "3. The 'base_salary' and 'position' columns contain NaN values. Delete rows with null values in them and make the changes permanent"
   ]
  },
  {
   "cell_type": "code",
   "execution_count": null,
   "id": "3ccdc2ba-92c7-4f50-9d29-668eda8f80dd",
   "metadata": {},
   "outputs": [],
   "source": []
  },
  {
   "cell_type": "markdown",
   "id": "12e71085-cf8d-4bab-b34d-9b53d4e507bc",
   "metadata": {},
   "source": [
    "4.restore the data from the original file to continue this exercise.\n"
   ]
  },
  {
   "cell_type": "code",
   "execution_count": null,
   "id": "1b3c003d-ee4d-4354-b31f-5bd1d70f0237",
   "metadata": {},
   "outputs": [],
   "source": []
  },
  {
   "cell_type": "markdown",
   "id": "85b71855-2d54-456d-b0b4-392d632cdf98",
   "metadata": {},
   "source": [
    "5. there is 1 row that has NaN values in all columns. delete it, make the changes permanent."
   ]
  },
  {
   "cell_type": "code",
   "execution_count": null,
   "id": "662de73b-43da-4a06-8d54-01d9ba54202a",
   "metadata": {},
   "outputs": [],
   "source": []
  },
  {
   "cell_type": "markdown",
   "id": "f1c714f2-e33b-45f9-a8ba-66f89422a2c7",
   "metadata": {},
   "source": [
    "6.The 'base_salary' column contains NaN values. Replace them with something that makes sense to you. make sure to make the change permanent"
   ]
  },
  {
   "cell_type": "code",
   "execution_count": null,
   "id": "c31d1628-b00b-4f76-ae89-6ea917ccb58c",
   "metadata": {},
   "outputs": [],
   "source": []
  },
  {
   "cell_type": "markdown",
   "id": "27d2b766-5ff4-47ed-be8d-8467328bdcf5",
   "metadata": {},
   "source": [
    "7. The 'club' column contains NaN values. Replace them with something that makes sense to you. make sure to make the change permanent"
   ]
  },
  {
   "cell_type": "code",
   "execution_count": null,
   "id": "bcff60a3-4862-43e2-9d2f-68b341062cdf",
   "metadata": {},
   "outputs": [],
   "source": []
  },
  {
   "cell_type": "markdown",
   "id": "29ea409a-ad99-4a15-97b3-b15bbcd8ca44",
   "metadata": {},
   "source": [
    "8. The 'position' columns contains NaN values.\n",
    "   use isnull to mask the relevant rows and show only them"
   ]
  },
  {
   "cell_type": "code",
   "execution_count": null,
   "id": "6786d09b-349c-483e-8b71-596f05295809",
   "metadata": {},
   "outputs": [],
   "source": []
  }
 ],
 "metadata": {
  "kernelspec": {
   "display_name": "Python 3 (ipykernel)",
   "language": "python",
   "name": "python3"
  },
  "language_info": {
   "codemirror_mode": {
    "name": "ipython",
    "version": 3
   },
   "file_extension": ".py",
   "mimetype": "text/x-python",
   "name": "python",
   "nbconvert_exporter": "python",
   "pygments_lexer": "ipython3",
   "version": "3.12.2"
  }
 },
 "nbformat": 4,
 "nbformat_minor": 5
}
