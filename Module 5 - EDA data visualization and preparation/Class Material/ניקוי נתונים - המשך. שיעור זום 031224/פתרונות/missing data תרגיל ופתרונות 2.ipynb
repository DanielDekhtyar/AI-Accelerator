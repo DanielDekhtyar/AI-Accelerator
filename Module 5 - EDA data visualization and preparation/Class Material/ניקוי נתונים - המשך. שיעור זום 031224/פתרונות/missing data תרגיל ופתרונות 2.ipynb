{
 "cells": [
  {
   "cell_type": "markdown",
   "id": "517e01e1-42d3-4144-a2ac-a1f84f3f85fa",
   "metadata": {},
   "source": [
    "intro: in this exercise you will use mls_salaries_nans.csv as the data frame.\n",
    "\n",
    "1. look at your data and get to know it a little. use info(), head(), tail, describe()- or whatever it is you want to map for yourself what needs to be done."
   ]
  },
  {
   "cell_type": "code",
   "execution_count": null,
   "id": "b9eb9db7-c1f6-4232-b6e8-d8c2790dbae4",
   "metadata": {},
   "outputs": [],
   "source": [
    "import pandas as pd"
   ]
  },
  {
   "cell_type": "code",
   "execution_count": null,
   "id": "517092b2-b62f-4901-8871-f43c0f9ac1e8",
   "metadata": {},
   "outputs": [],
   "source": [
    "df = pd.read_csv('mls_salaries_nans.csv')"
   ]
  },
  {
   "cell_type": "code",
   "execution_count": null,
   "id": "bf43bd9c-c03d-4f79-89f8-c549df2079d9",
   "metadata": {},
   "outputs": [],
   "source": [
    "df.info()"
   ]
  },
  {
   "cell_type": "code",
   "execution_count": null,
   "id": "14331585-5ace-4666-bc30-62901e756d4f",
   "metadata": {},
   "outputs": [],
   "source": [
    "df.head()"
   ]
  },
  {
   "cell_type": "code",
   "execution_count": null,
   "id": "0c68600f-5440-40b6-9ccb-df20910a80f5",
   "metadata": {},
   "outputs": [],
   "source": [
    "df.describe()"
   ]
  },
  {
   "cell_type": "markdown",
   "id": "b4df466a-7f8f-43e9-ab20-77626d9ef295",
   "metadata": {},
   "source": [
    "2. The 'club' column contains NaN values. Delete rows with null values in this column and make the changes permanent"
   ]
  },
  {
   "cell_type": "code",
   "execution_count": null,
   "id": "3c390ef0-771a-46bd-8fc2-be2334563a9d",
   "metadata": {},
   "outputs": [],
   "source": [
    "df.dropna(subset =['club'], inplace=True)"
   ]
  },
  {
   "cell_type": "code",
   "execution_count": null,
   "id": "1c36bd5f-c81c-45e1-8a47-356fd954ea4d",
   "metadata": {},
   "outputs": [],
   "source": [
    "df.info()"
   ]
  },
  {
   "cell_type": "markdown",
   "id": "ad4dd1ed-9ede-4ed3-b0a7-dc4077f19ef2",
   "metadata": {},
   "source": [
    "3. The 'base_salary' and 'position' columns contain NaN values. Delete rows with null values in them and make the changes permanent"
   ]
  },
  {
   "cell_type": "code",
   "execution_count": null,
   "id": "3ccdc2ba-92c7-4f50-9d29-668eda8f80dd",
   "metadata": {},
   "outputs": [],
   "source": [
    "df.dropna(subset =['base_salary','position'], inplace = True)"
   ]
  },
  {
   "cell_type": "code",
   "execution_count": null,
   "id": "689e6dd6-e285-4f06-a696-a18a9d711aa8",
   "metadata": {},
   "outputs": [],
   "source": [
    "df.info()"
   ]
  },
  {
   "cell_type": "markdown",
   "id": "12e71085-cf8d-4bab-b34d-9b53d4e507bc",
   "metadata": {},
   "source": [
    "4.restore the data from the original file to continue this exercise.\n"
   ]
  },
  {
   "cell_type": "code",
   "execution_count": null,
   "id": "1b3c003d-ee4d-4354-b31f-5bd1d70f0237",
   "metadata": {},
   "outputs": [],
   "source": [
    "df = pd.read_csv('mls_salaries_nans.csv')"
   ]
  },
  {
   "cell_type": "markdown",
   "id": "85b71855-2d54-456d-b0b4-392d632cdf98",
   "metadata": {},
   "source": [
    "5. there is 1 row that has NaN values in all columns. delete it, make the changes permanent."
   ]
  },
  {
   "cell_type": "code",
   "execution_count": null,
   "id": "662de73b-43da-4a06-8d54-01d9ba54202a",
   "metadata": {},
   "outputs": [],
   "source": [
    "df.dropna(how=\"all\", inplace=True)"
   ]
  },
  {
   "cell_type": "markdown",
   "id": "f1c714f2-e33b-45f9-a8ba-66f89422a2c7",
   "metadata": {},
   "source": [
    "6.The 'base_salary' column contains NaN values. Replace them with something that makes sense to you. make sure to make the change permanent"
   ]
  },
  {
   "cell_type": "code",
   "execution_count": null,
   "id": "c31d1628-b00b-4f76-ae89-6ea917ccb58c",
   "metadata": {},
   "outputs": [],
   "source": [
    "df['base_salary'].describe()\n",
    "df['base_salary'].median()"
   ]
  },
  {
   "cell_type": "code",
   "execution_count": null,
   "id": "06c209a9-fcac-43c8-95eb-3111d9c86c43",
   "metadata": {},
   "outputs": [],
   "source": [
    "#median\n",
    "#warning but no error\n",
    "df['base_salary'].fillna(df['base_salary'].median(), inplace=True)"
   ]
  },
  {
   "cell_type": "code",
   "execution_count": null,
   "id": "090377d5-6dcf-48ac-966d-3fc7fe7ff6dc",
   "metadata": {},
   "outputs": [],
   "source": [
    "df.info()"
   ]
  },
  {
   "cell_type": "markdown",
   "id": "27d2b766-5ff4-47ed-be8d-8467328bdcf5",
   "metadata": {},
   "source": [
    "7. The 'club' column contains NaN values. Replace them with something that makes sense to you. make sure to make the change permanent"
   ]
  },
  {
   "cell_type": "code",
   "execution_count": null,
   "id": "bcff60a3-4862-43e2-9d2f-68b341062cdf",
   "metadata": {},
   "outputs": [],
   "source": [
    "df['club'].mode()\n"
   ]
  },
  {
   "cell_type": "code",
   "execution_count": null,
   "id": "d8869c50-3620-4763-9bfe-03e762555478",
   "metadata": {},
   "outputs": [],
   "source": [
    "df['club'].fillna(df['club'].mode(),inplace=True)"
   ]
  },
  {
   "cell_type": "code",
   "execution_count": null,
   "id": "e0b21803-8200-4cb7-9b45-54b3fb2334e4",
   "metadata": {},
   "outputs": [],
   "source": [
    "df.info()"
   ]
  },
  {
   "cell_type": "markdown",
   "id": "29ea409a-ad99-4a15-97b3-b15bbcd8ca44",
   "metadata": {},
   "source": [
    "8. The 'position' columns contains NaN values.\n",
    "   use isnull to mask the relevant rows and show only them"
   ]
  },
  {
   "cell_type": "code",
   "execution_count": null,
   "id": "6786d09b-349c-483e-8b71-596f05295809",
   "metadata": {},
   "outputs": [],
   "source": [
    "df['position'].isnull().head(15)"
   ]
  },
  {
   "cell_type": "code",
   "execution_count": null,
   "id": "2a96f3c2-33a7-4859-a411-2234b31b3765",
   "metadata": {},
   "outputs": [],
   "source": [
    "mask= df['position'].isnull()"
   ]
  },
  {
   "cell_type": "code",
   "execution_count": null,
   "id": "aa81fdbc-057c-4b44-b220-4c03cfae55f2",
   "metadata": {},
   "outputs": [],
   "source": [
    "df[mask]"
   ]
  },
  {
   "cell_type": "code",
   "execution_count": null,
   "id": "7cde3799-373c-4a41-9365-4f591ab0873f",
   "metadata": {},
   "outputs": [],
   "source": []
  }
 ],
 "metadata": {
  "kernelspec": {
   "display_name": "Python 3 (ipykernel)",
   "language": "python",
   "name": "python3"
  },
  "language_info": {
   "codemirror_mode": {
    "name": "ipython",
    "version": 3
   },
   "file_extension": ".py",
   "mimetype": "text/x-python",
   "name": "python",
   "nbconvert_exporter": "python",
   "pygments_lexer": "ipython3",
   "version": "3.12.2"
  }
 },
 "nbformat": 4,
 "nbformat_minor": 5
}
