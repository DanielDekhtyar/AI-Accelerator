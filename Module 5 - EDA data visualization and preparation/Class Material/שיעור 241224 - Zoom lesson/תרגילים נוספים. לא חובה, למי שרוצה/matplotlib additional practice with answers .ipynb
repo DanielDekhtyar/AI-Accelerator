{
 "cells": [
  {
   "cell_type": "markdown",
   "id": "65e5b299-8f7c-47f7-acd9-e4b5e89c1621",
   "metadata": {},
   "source": [
    "#### Practice Exercise: Data Visualization with Matplotlib\n",
    "\n",
    "##### 1. Scatter Plot:\n",
    "\n",
    " a. Basic Scatter Plot:  \n",
    " Plot total_bill (x-axis) vs. tip (y-axis)."
   ]
  },
  {
   "cell_type": "code",
   "execution_count": null,
   "id": "c3239621-daf1-412a-ab2d-b546bc2ad99a",
   "metadata": {},
   "outputs": [],
   "source": [
    "# Import necessary libraries\n",
    "import pandas as pd\n",
    "import matplotlib.pyplot as plt\n",
    "import numpy as np"
   ]
  },
  {
   "cell_type": "code",
   "execution_count": null,
   "id": "d0db065f-bb4d-4b7c-8716-92939694beff",
   "metadata": {},
   "outputs": [],
   "source": [
    "# Load the tips dataset\n",
    "\n",
    "df = pd.read_csv('tips.csv')"
   ]
  },
  {
   "cell_type": "code",
   "execution_count": null,
   "id": "d2d2fc8c-c8e6-4789-a6db-93c55c1fd310",
   "metadata": {},
   "outputs": [],
   "source": [
    "df.head()"
   ]
  },
  {
   "cell_type": "code",
   "execution_count": null,
   "id": "8e97bc61-2d0a-4294-9ba1-b7494ceaccaf",
   "metadata": {},
   "outputs": [],
   "source": [
    "df.info()"
   ]
  },
  {
   "cell_type": "code",
   "execution_count": null,
   "id": "336aa4d3-6840-493a-a52d-2f2ee9b099b7",
   "metadata": {},
   "outputs": [],
   "source": [
    "df.nunique()"
   ]
  },
  {
   "cell_type": "code",
   "execution_count": null,
   "id": "4178383f-cff3-49e9-9977-a9560b3e5201",
   "metadata": {},
   "outputs": [],
   "source": [
    "plt.figure(figsize=(8, 6))\n",
    "plt.scatter(df['total_bill'], df['tip'])\n",
    "plt.title('Total Bill vs. Tip')\n",
    "plt.xlabel('Total Bill')\n",
    "plt.ylabel('Tip')\n",
    "plt.show()"
   ]
  },
  {
   "cell_type": "markdown",
   "id": "61b3eaf2-54f7-48b4-a276-53715c67c559",
   "metadata": {},
   "source": [
    " b. Enhance the Plot:\n",
    "Add the following parameters:  \n",
    "Transparency: 0.6,\n",
    "Color: 'blue',\n",
    "Colormap: 'viridis',\n",
    "Size: 50"
   ]
  },
  {
   "cell_type": "code",
   "execution_count": null,
   "id": "3937c252-5438-4140-9b0b-6e3708b03787",
   "metadata": {},
   "outputs": [],
   "source": [
    "plt.figure(figsize=(8, 6))\n",
    "plt.scatter(df['total_bill'], df['tip'], alpha=0.6, c='blue', s=50, cmap='viridis')\n",
    "plt.title('Total Bill vs. Tip with Enhancements')\n",
    "plt.xlabel('Total Bill')\n",
    "plt.ylabel('Tip')\n",
    "plt.show()"
   ]
  },
  {
   "cell_type": "markdown",
   "id": "83190a81-dab1-41c5-bb9f-5cf494f868f1",
   "metadata": {},
   "source": [
    "c. Reflect Additional Data:\n",
    "Modify the parameters to represent more data:  \n",
    "Use size to reflect the size column (number of people).  \n",
    "Use color (c) to reflect the time column (Lunch/Dinner), assigning numerical values (e.g., Lunch=0, Dinner=1)  \n",
    "Apply the 'plasma' colormap (cmap).  "
   ]
  },
  {
   "cell_type": "code",
   "execution_count": null,
   "id": "a3d9440e-6bc3-45b4-a7cc-f4d5bc4d8543",
   "metadata": {},
   "outputs": [],
   "source": [
    "#time_numeric = df['time'].apply(lambda x: 0 if x == 'Lunch' else 1) #this is an option but it's better to use select"
   ]
  },
  {
   "cell_type": "code",
   "execution_count": null,
   "id": "e49ad0bd-4ba5-4275-8de7-6cff39eb336f",
   "metadata": {},
   "outputs": [],
   "source": [
    "# Define the conditions\n",
    "conditions = [\n",
    "    df['time'] == 'Lunch',\n",
    "    df['time'] == 'Dinner'\n",
    "]\n",
    "\n",
    "# Define the corresponding values\n",
    "values = [0, 1]\n",
    "\n",
    "# Apply np.select to create the new column\n",
    "df['time_numeric'] = np.select(conditions, values, default=np.nan)\n"
   ]
  },
  {
   "cell_type": "code",
   "execution_count": null,
   "id": "09d63744-ff47-4219-9a9f-cad21b5492f9",
   "metadata": {},
   "outputs": [],
   "source": [
    "plt.figure(figsize=(8, 6))\n",
    "scatter = plt.scatter(df['total_bill'], df['tip'], alpha=0.6, c=df['time_numeric'], s=df['size']*20, cmap='plasma')\n",
    "plt.title('Total Bill vs. Tip with Size and Time')\n",
    "plt.xlabel('Total Bill')\n",
    "plt.ylabel('Tip')\n",
    "plt.colorbar(scatter, ticks=[0, 1], label='Time (0=Lunch, 1=Dinner)')\n",
    "plt.show()"
   ]
  },
  {
   "cell_type": "markdown",
   "id": "de30b863-0f91-4ec3-a590-8d39d3e5321a",
   "metadata": {},
   "source": [
    "d.\n",
    "Experiment with different colormaps available in Matplotlib to see how they affect the visualization.  \n",
    "Try using other columns, such as day or sex, to define colors or sizes and observe the patterns that emerge."
   ]
  },
  {
   "cell_type": "code",
   "execution_count": null,
   "id": "06ca50be-a933-4dd1-8227-4bd93f567489",
   "metadata": {},
   "outputs": [],
   "source": []
  },
  {
   "cell_type": "markdown",
   "id": "87ac9e4c-3722-4c7a-87cd-5297da1b7feb",
   "metadata": {},
   "source": [
    "##### 2. Second Scatter Plot:\n",
    "\n",
    "a. Create a Scatter Plot:\n",
    "Plot total_bill (x-axis) vs. size (y-axis)."
   ]
  },
  {
   "cell_type": "code",
   "execution_count": null,
   "id": "46701f65-afa2-424c-a7e8-8f1ed56b51b8",
   "metadata": {},
   "outputs": [],
   "source": [
    "plt.figure(figsize=(8, 6))\n",
    "plt.scatter(df['total_bill'], df['size'])\n",
    "plt.title('Total Bill vs. Size')\n",
    "plt.xlabel('Total Bill')\n",
    "plt.ylabel('Size')\n",
    "plt.show()"
   ]
  },
  {
   "cell_type": "markdown",
   "id": "457da181-dd57-428a-ba9c-5b5650c5ad0f",
   "metadata": {},
   "source": [
    "b. Enhance the Plot:\n",
    "Add the following parameters:  \n",
    "Transparency: 0.7  \n",
    "Size: 80  \n",
    "Color: 'green'  \n",
    "Titles: Add appropriate titles for the plot and axes."
   ]
  },
  {
   "cell_type": "code",
   "execution_count": null,
   "id": "d1e4aa99-b266-479a-9b0e-1e5ddb688e30",
   "metadata": {},
   "outputs": [],
   "source": [
    "plt.figure(figsize=(8, 6))\n",
    "plt.scatter(df['total_bill'], df['size'], alpha=0.7, c='green', s=80)\n",
    "plt.title('Total Bill vs. Size with Enhancements')\n",
    "plt.xlabel('Total Bill')\n",
    "plt.ylabel('Size')\n",
    "plt.show()"
   ]
  },
  {
   "cell_type": "markdown",
   "id": "943fefee-c5bf-41d8-b7c4-62ed81a48818",
   "metadata": {},
   "source": [
    "c. Reflect Additional Data:  \n",
    "Adjust parameters to represent more data:  \n",
    "Use size to reflect the tip column.  \n",
    "Use color to reflect the day column, assigning numerical values (e.g., Thur=0, Fri=1, Sat=2, Sun=3).  \n",
    "Apply the 'inferno' colormap (cmap).  "
   ]
  },
  {
   "cell_type": "code",
   "execution_count": null,
   "id": "9ba91a18-2bc4-4b92-8f49-0afbf6ea1aab",
   "metadata": {},
   "outputs": [],
   "source": [
    "#one way:\n",
    "day_numeric = df['day'].map({'Thur': 0, 'Fri': 1, 'Sat': 2, 'Sun': 3}) \n",
    "#we didn't talk about map. it uses a dictionary to map values.\n",
    "#good for categorial data\n",
    "#it is vectorized\n",
    "#you can read more about it here: https://pandas.pydata.org/docs/reference/api/pandas.Series.map.html"
   ]
  },
  {
   "cell_type": "code",
   "execution_count": null,
   "id": "154404a1-2e8b-4619-a00a-2dc034830247",
   "metadata": {},
   "outputs": [],
   "source": [
    "#another way:\n",
    "conditions = [\n",
    "    df['day'] == 'Thur',\n",
    "    df['day'] == 'Fri',\n",
    "    df['day'] == 'Sat',\n",
    "    df['day'] == 'Sun'\n",
    "]\n",
    "choices = [0, 1, 2, 3]\n",
    "\n",
    "df['day_numeric'] = np.select(conditions, choices, default=np.nan)"
   ]
  },
  {
   "cell_type": "code",
   "execution_count": null,
   "id": "836f1113-a253-4564-bef9-8aafd314e97f",
   "metadata": {},
   "outputs": [],
   "source": [
    "plt.figure(figsize=(8, 6))\n",
    "scatter = plt.scatter(df['total_bill'], df['size'], alpha=0.7, c=day_numeric, s=df['tip']*20, cmap='inferno')\n",
    "plt.title('Total Bill vs. Size with Tip and Day')\n",
    "plt.xlabel('Total Bill')\n",
    "plt.ylabel('Size')\n",
    "cbar = plt.colorbar(scatter, ticks=[0, 1, 2, 3])\n",
    "cbar.ax.set_yticklabels(['Thur', 'Fri', 'Sat', 'Sun'])\n",
    "plt.show()"
   ]
  },
  {
   "cell_type": "markdown",
   "id": "de7fac37-0316-49e6-935e-b79f215c7ea2",
   "metadata": {},
   "source": [
    "d.  \n",
    "Modify the marker styles (e.g., circles, squares) to differentiate data points.  \n",
    "Incorporate annotations for specific data points to highlight outliers or interesting cases."
   ]
  },
  {
   "cell_type": "code",
   "execution_count": null,
   "id": "2ec20ade-e101-460c-8a12-ab083c0d7bec",
   "metadata": {},
   "outputs": [],
   "source": []
  },
  {
   "cell_type": "markdown",
   "id": "8d898e60-8abe-4a44-895b-bf7708af46fb",
   "metadata": {},
   "source": [
    "##### 3. Histogram:\n",
    "a. Basic Histogram:  \n",
    "Create a histogram of the total_bill column."
   ]
  },
  {
   "cell_type": "code",
   "execution_count": null,
   "id": "66a6a5d5-e952-4a0e-a13d-8e291ad9eede",
   "metadata": {},
   "outputs": [],
   "source": [
    "plt.figure(figsize=(8, 6))\n",
    "plt.hist(df['total_bill'])\n",
    "plt.title('Histogram of Total Bill')\n",
    "plt.xlabel('Total Bill')\n",
    "plt.ylabel('Frequency')\n",
    "plt.show()"
   ]
  },
  {
   "cell_type": "markdown",
   "id": "b6787f6f-5a9d-4817-808f-9a77d8021e37",
   "metadata": {},
   "source": [
    "b. Customize the Histogram:  \n",
    "Change the number of bins to 20.  \n",
    "Set the bar color to 'skyblue'.  \n",
    "Set the edge color of the bars to 'black'.  "
   ]
  },
  {
   "cell_type": "code",
   "execution_count": null,
   "id": "c0781cfc-8303-4c93-a0a4-fa4d41621d84",
   "metadata": {},
   "outputs": [],
   "source": [
    "plt.figure(figsize=(8, 6))\n",
    "plt.hist(df['total_bill'], bins=20, color='skyblue', edgecolor='black')\n",
    "plt.title('Histogram of Total Bill with Customizations')\n",
    "plt.xlabel('Total Bill')\n",
    "plt.ylabel('Frequency')\n",
    "plt.show()"
   ]
  },
  {
   "cell_type": "markdown",
   "id": "1e95260f-f03a-4896-9b6d-bb78fc8c8495",
   "metadata": {},
   "source": [
    "c. Repeat with Another Column:\n",
    "Create a histogram for the tip column.  \n",
    "Set the bar color to 'lightgreen'.  \n",
    "Set the edge color to 'darkgreen'.  "
   ]
  },
  {
   "cell_type": "code",
   "execution_count": null,
   "id": "ee388ede-80f8-4e10-9f6c-3140bd8ba98d",
   "metadata": {},
   "outputs": [],
   "source": [
    "plt.figure(figsize=(8, 6))\n",
    "plt.hist(df['tip'], bins=20, color='lightgreen', edgecolor='darkgreen')\n",
    "plt.title('Histogram of Tip with Customizations')\n",
    "plt.xlabel('Tip')\n",
    "plt.ylabel('Frequency')\n",
    "plt.show()"
   ]
  },
  {
   "cell_type": "markdown",
   "id": "bf209f50-33b8-428c-8655-f1dc3a3e9116",
   "metadata": {},
   "source": [
    "d. Display Both Histograms Together one on tio of the other.\n",
    "adjust labels and adjust the transparency (alpha) of the histograms to visualize overlapping distributions."
   ]
  },
  {
   "cell_type": "code",
   "execution_count": null,
   "id": "4dd7a396-19bb-4781-be9e-883a7fb2cbaa",
   "metadata": {},
   "outputs": [],
   "source": [
    "plt.hist(df['total_bill'], bins=20, color='skyblue', edgecolor='black', label = 'tip')\n",
    "plt.hist(df['tip'], bins=20, color='lightgreen',alpha =0.5, edgecolor='darkgreen', label= 'total bill')\n",
    "\n",
    "plt.title('Histogram of Total Bill with Customizations')\n",
    "plt.title('Histogram of Tip with Customizations')\n",
    "plt.ylabel('Frequency')\n",
    "plt.legend()\n",
    "\n",
    "plt.show()"
   ]
  },
  {
   "cell_type": "code",
   "execution_count": null,
   "id": "525b6386-e8c5-45cb-a3b5-3d04525dbcf9",
   "metadata": {},
   "outputs": [],
   "source": [
    "e. \n",
    "Explore the effect of different bin sizes on the representation of data distribution."
   ]
  },
  {
   "cell_type": "markdown",
   "id": "6d76cd83-22fe-4f24-972b-9a72af3d0ebf",
   "metadata": {},
   "source": [
    "##### 4. Bar Plot:\n",
    "\n",
    "a. Basic Bar Plot:  \n",
    "Create a bar plot showing the average tip amount for each day of the week."
   ]
  },
  {
   "cell_type": "code",
   "execution_count": null,
   "id": "e7c14016-210f-4a0c-b981-8ed5ac0b2f9a",
   "metadata": {},
   "outputs": [],
   "source": [
    "avg_tip_per_day = df.groupby('day')['tip'].mean()\n",
    "plt.figure(figsize=(8, 6))\n",
    "plt.bar(avg_tip_per_day.index, avg_tip_per_day.values)\n",
    "\n",
    "plt.show()"
   ]
  },
  {
   "cell_type": "markdown",
   "id": "c9569d6c-5f8d-40f3-93da-2cd1daccb143",
   "metadata": {},
   "source": [
    "##### b. Enhance the Bar Plot:\n",
    "Change the bar color to 'coral'.  \n",
    "Set the edge color to 'black'.  \n",
    "Add titles and labels to the axes.  "
   ]
  },
  {
   "cell_type": "code",
   "execution_count": null,
   "id": "71c08c1c-54f1-451f-bd86-8a3aed0afd51",
   "metadata": {},
   "outputs": [],
   "source": [
    "plt.bar(avg_tip_per_day.index, avg_tip_per_day.values,color='coral', edgecolor='black')\n",
    "plt.title('Average Tip by Day')\n",
    "plt.xlabel('Day')\n",
    "plt.ylabel('Average Tip')\n",
    "plt.show()\n",
    " \n"
   ]
  },
  {
   "cell_type": "markdown",
   "id": "f9c9980d-b94c-4f3a-9f65-96ba920c4a52",
   "metadata": {},
   "source": [
    "##### 5. Pie Charts\n",
    "a. Pie Chart for 'smoker'  \n",
    "Create a pie chart showing the proportion of smokers vs. non-smokers.  \n",
    "Set the colors to ['lightcoral', 'lightskyblue'].\n",
    "use the autopct='%1.1f%%' in the plt.pie to format the precentage."
   ]
  },
  {
   "cell_type": "code",
   "execution_count": null,
   "id": "bda0a47a-0def-4395-97b5-226963fcfbb4",
   "metadata": {},
   "outputs": [],
   "source": [
    "smoker_counts = df['smoker'].value_counts()"
   ]
  },
  {
   "cell_type": "code",
   "execution_count": null,
   "id": "be23d85b-ad61-4cb6-a008-fa4c6ec9bfbc",
   "metadata": {},
   "outputs": [],
   "source": [
    "plt.figure(figsize=(6, 6))\n",
    "plt.pie(smoker_counts, labels=smoker_counts.index, \n",
    "        colors=['lightcoral', 'lightskyblue'], \n",
    "        autopct='%1.1f%%', #we didnt show this in class it is a way to formt the numbres\n",
    "        startangle=90)\n",
    "plt.title('Proportion of Smokers vs. Non-Smokers')\n",
    "plt.show()"
   ]
  },
  {
   "cell_type": "markdown",
   "id": "bd0eb1e5-29a7-4fbc-aba4-611a7e49cec7",
   "metadata": {},
   "source": [
    "b. Pie Chart for 'time'  \n",
    "Create a pie chart showing the proportion of Lunch vs. Dinner.  \n",
    "Set the colors to ['lightgreen', 'lightblue'].  \n",
    "use startangle=90 inside plt.pie, see what it does to your chart  "
   ]
  },
  {
   "cell_type": "code",
   "execution_count": null,
   "id": "27debcc3-6524-4891-adaf-3912c77a4371",
   "metadata": {},
   "outputs": [],
   "source": [
    "time_counts = df['time'].value_counts()"
   ]
  },
  {
   "cell_type": "code",
   "execution_count": null,
   "id": "80438f17-a19c-4df8-85a8-95a456213c5f",
   "metadata": {},
   "outputs": [],
   "source": [
    "plt.figure(figsize=(6, 6))\n",
    "plt.pie(time_counts,\n",
    "        labels=time_counts.index, \n",
    "        colors=['lightgreen', 'lightblue'],\n",
    "        autopct='%1.1f%%', \n",
    "        #startangle=90\n",
    "       )\n",
    "plt.title('Proportion of Lunch vs. Dinner')\n",
    "plt.show()"
   ]
  },
  {
   "cell_type": "markdown",
   "id": "81ccec14-1b9a-4eac-b62f-acd632a9de1f",
   "metadata": {},
   "source": [
    "c. Pie Chart for 'day'\n",
    "Create a pie chart showing the distribution of days.  \n",
    "Include the following customizations:\n",
    "- Explode the 'Sunday' slice by 0.1.\n",
    "- Set the colors to ['gold', 'yellowgreen', 'lightcoral', 'lightskyblue'].\n",
    "- Add a shadow to the pie chart."
   ]
  },
  {
   "cell_type": "code",
   "execution_count": null,
   "id": "cab3cadc-feb0-4449-97e8-712b6d617040",
   "metadata": {},
   "outputs": [],
   "source": [
    "day_counts = df['day'].value_counts()\n",
    "explode = [0, 0, 0, 0.1]  # Explode Sunday slice\n",
    "colors = ['gold', 'yellowgreen', 'lightcoral', 'lightskyblue']\n",
    "plt.figure(figsize=(6, 6))\n",
    "plt.pie(day_counts,\n",
    "        labels=day_counts.index,\n",
    "        colors=colors, explode=explode,\n",
    "        shadow=True)\n",
    "plt.title('Distribution of Days')\n",
    "plt.show()"
   ]
  },
  {
   "cell_type": "markdown",
   "id": "4605a75a-f537-496c-88d0-e44b19f5a66b",
   "metadata": {},
   "source": [
    "d.\n",
    "- Experiment with different start angles to rotate the pie chart and observe the visual effect.\n",
    "- Experiment with different Explode values."
   ]
  },
  {
   "cell_type": "code",
   "execution_count": null,
   "id": "4c2d080f-0edc-4c43-b1c9-50c25d2b9ab7",
   "metadata": {},
   "outputs": [],
   "source": []
  }
 ],
 "metadata": {
  "kernelspec": {
   "display_name": "Python 3 (ipykernel)",
   "language": "python",
   "name": "python3"
  },
  "language_info": {
   "codemirror_mode": {
    "name": "ipython",
    "version": 3
   },
   "file_extension": ".py",
   "mimetype": "text/x-python",
   "name": "python",
   "nbconvert_exporter": "python",
   "pygments_lexer": "ipython3",
   "version": "3.12.2"
  }
 },
 "nbformat": 4,
 "nbformat_minor": 5
}
