{
 "cells": [
  {
   "cell_type": "markdown",
   "id": "7e7587ab-8653-4abf-8d1b-b0fadbcdce3f",
   "metadata": {},
   "source": [
    " 1. Create a function called f3 that takes an argument and multiplies it by 3.\n",
    "2. Use np.linspace to create an array of 100 numbers between -20 and 20.\n",
    "3. Plot the array and the results of the function applied to it."
   ]
  },
  {
   "cell_type": "code",
   "execution_count": null,
   "id": "f64ffddf-f873-43bc-adb1-7a92f976466b",
   "metadata": {},
   "outputs": [],
   "source": []
  },
  {
   "cell_type": "code",
   "execution_count": null,
   "id": "5468ed0e-9ca4-4ee2-9221-c6f98c471a30",
   "metadata": {},
   "outputs": [],
   "source": []
  },
  {
   "cell_type": "markdown",
   "id": "b8c87159-0cf5-40e7-a5de-d357ceae6f25",
   "metadata": {},
   "source": [
    "\n",
    "4. Change the line color to green.\n",
    "5. Change the line style to dashed.\n",
    "6. Add titles to the axes and the plot."
   ]
  },
  {
   "cell_type": "code",
   "execution_count": null,
   "id": "db298a09-71ad-4e70-b956-7964d4ef270c",
   "metadata": {},
   "outputs": [],
   "source": []
  },
  {
   "cell_type": "markdown",
   "id": "5a92b644-0425-4ddf-a120-52a7e1fde92a",
   "metadata": {},
   "source": [
    "7. Create a function called p3 that takes an argument and returns it raised to the power of 3.\n",
    "8. Use the array of numbers from section A to plot this function."
   ]
  },
  {
   "cell_type": "code",
   "execution_count": null,
   "id": "033d1c3f-a9ae-492e-aebe-0b5080b37beb",
   "metadata": {},
   "outputs": [],
   "source": []
  },
  {
   "cell_type": "markdown",
   "id": "8adacb71-02a6-4dba-9da8-90ce6adb65be",
   "metadata": {},
   "source": [
    " \n",
    "9. Combine the two plots (from sections A and C) into a single figure.\n",
    "10. Add a legend to distinguish between the two functions.  \n",
    "**math note if you finished everithing else:**  \n",
    "* the dashed line seems strait now, you need to play with the numbers to fix this "
   ]
  },
  {
   "cell_type": "code",
   "execution_count": null,
   "id": "7da43021-2ac3-47eb-b59e-7eee5274b80b",
   "metadata": {},
   "outputs": [],
   "source": []
  },
  {
   "cell_type": "markdown",
   "id": "2a1f0629-3936-40fa-8bf9-8d2a344e8661",
   "metadata": {},
   "source": [
    "11.\tLoad the Iris dataset and create a scatter plot.\r",
    "125.\tCreate a scatter plot of sepal length vs. petal width.13\n",
    "6.\tEnhance the scatter plot by using petal width as the size of the points and sepal width as the color14\r\n",
    "7.\tIn the time left you customize your plot\r\n"
   ]
  },
  {
   "cell_type": "code",
   "execution_count": null,
   "id": "9831bad5-4e85-4f2b-853a-c688f3a9d38a",
   "metadata": {},
   "outputs": [],
   "source": []
  },
  {
   "cell_type": "code",
   "execution_count": null,
   "id": "f7cc421c-09b7-4f7b-aa37-b41940ee19b1",
   "metadata": {},
   "outputs": [],
   "source": []
  },
  {
   "cell_type": "code",
   "execution_count": null,
   "id": "00a3e128-cc9d-4f4f-95bb-6ebd83b58e38",
   "metadata": {},
   "outputs": [],
   "source": []
  }
 ],
 "metadata": {
  "kernelspec": {
   "display_name": "Python 3 (ipykernel)",
   "language": "python",
   "name": "python3"
  },
  "language_info": {
   "codemirror_mode": {
    "name": "ipython",
    "version": 3
   },
   "file_extension": ".py",
   "mimetype": "text/x-python",
   "name": "python",
   "nbconvert_exporter": "python",
   "pygments_lexer": "ipython3",
   "version": "3.12.2"
  }
 },
 "nbformat": 4,
 "nbformat_minor": 5
}
