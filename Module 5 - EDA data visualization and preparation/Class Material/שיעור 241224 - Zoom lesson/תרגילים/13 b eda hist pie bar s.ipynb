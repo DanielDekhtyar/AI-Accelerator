{
 "cells": [
  {
   "cell_type": "markdown",
   "id": "5160a30f-295d-44f1-bc59-7f36524fb97f",
   "metadata": {},
   "source": [
    "##### 1. Histogram\n",
    "Create a histogram of the salaries of all players.  \n",
    "* Customize the histogram with a title and labeled axes.\n",
    "* if you have time, custumize color, bins, edgecolor and alpha"
   ]
  },
  {
   "cell_type": "code",
   "execution_count": null,
   "id": "94da6f88-bf7e-4984-a37a-58a2e0540860",
   "metadata": {},
   "outputs": [],
   "source": []
  },
  {
   "cell_type": "code",
   "execution_count": null,
   "id": "2515387a-1a29-4767-8710-5b67f15ce7db",
   "metadata": {},
   "outputs": [],
   "source": []
  },
  {
   "cell_type": "code",
   "execution_count": null,
   "id": "f38cb07e-206a-483b-95e2-9794cf3bd694",
   "metadata": {},
   "outputs": [],
   "source": []
  },
  {
   "cell_type": "code",
   "execution_count": null,
   "id": "446eac3b-83f9-4b8a-b6cd-694d2b7a2b2f",
   "metadata": {},
   "outputs": [],
   "source": []
  },
  {
   "cell_type": "markdown",
   "id": "055e7e82-2189-40e9-8342-9ecc0552950d",
   "metadata": {},
   "source": [
    "##### 2. Bar Plot\n",
    "Group the data by club and calculate the average salary for each team.\n",
    "* Create a bar plot to visualize the average salary by team, and add titles and labels."
   ]
  },
  {
   "cell_type": "code",
   "execution_count": null,
   "id": "087e7b17-c8ca-417d-9892-63f48d42dd97",
   "metadata": {},
   "outputs": [],
   "source": []
  },
  {
   "cell_type": "markdown",
   "id": "d031bb5b-0176-448c-a39b-98840ede93c2",
   "metadata": {},
   "source": [
    "##### 3. Bar Plot with Alpha\n",
    "remake the last bar chart only for clubs: atl,chi and clb.  \n",
    "Add another bar plot (for the same clubs only) with the median salary by team.  \n",
    "show the result on the same figure.\n",
    " * Use a different color and set alpha to make it semi-transparent."
   ]
  },
  {
   "cell_type": "code",
   "execution_count": null,
   "id": "e40cc486-7a02-47ed-b9b7-e5b8cebc7f68",
   "metadata": {},
   "outputs": [],
   "source": []
  },
  {
   "cell_type": "code",
   "execution_count": null,
   "id": "0dfc8bcd-cf7d-45bc-b6c7-2cd46188fa24",
   "metadata": {},
   "outputs": [],
   "source": []
  },
  {
   "cell_type": "markdown",
   "id": "143bf81f-ecce-4697-af50-2fc9ee06798b",
   "metadata": {},
   "source": [
    "##### 4. Pie Chart\n",
    "for the same 3 clubs only:\n",
    "Create a pie chart showing the proportion of players by position.  \n",
    "* Customize the pie chart with lables and explode"
   ]
  },
  {
   "cell_type": "code",
   "execution_count": null,
   "id": "02d984d4-f1dc-486b-a59e-e872a7f4345b",
   "metadata": {},
   "outputs": [],
   "source": []
  },
  {
   "cell_type": "markdown",
   "id": "4afeaeac-e258-49dc-8238-0f56f6a8db0a",
   "metadata": {},
   "source": [
    "##### 5 hist funnction\n",
    "Using the cereal dataset,   \n",
    "create a function that accepts a column name and displays a histogram of that column,  \n",
    "including three lines indicating the median, mean, and mode.\n",
    "the default value of the function parameter should be 'sugars'"
   ]
  },
  {
   "cell_type": "code",
   "execution_count": null,
   "id": "2bdf0976-d721-4527-b5c2-336d52fe4625",
   "metadata": {},
   "outputs": [],
   "source": []
  },
  {
   "cell_type": "code",
   "execution_count": null,
   "id": "5023e7a0-9ea5-4a56-958e-ec6dfeafebdf",
   "metadata": {},
   "outputs": [],
   "source": []
  },
  {
   "cell_type": "code",
   "execution_count": null,
   "id": "b0cc7a3e-3c39-410f-82bc-ea2373ba19a0",
   "metadata": {},
   "outputs": [],
   "source": []
  }
 ],
 "metadata": {
  "kernelspec": {
   "display_name": "Python 3 (ipykernel)",
   "language": "python",
   "name": "python3"
  },
  "language_info": {
   "codemirror_mode": {
    "name": "ipython",
    "version": 3
   },
   "file_extension": ".py",
   "mimetype": "text/x-python",
   "name": "python",
   "nbconvert_exporter": "python",
   "pygments_lexer": "ipython3",
   "version": "3.12.2"
  }
 },
 "nbformat": 4,
 "nbformat_minor": 5
}
