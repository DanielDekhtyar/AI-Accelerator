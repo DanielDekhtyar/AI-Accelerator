{
 "cells": [
  {
   "cell_type": "markdown",
   "id": "887d6141-25a8-4290-82e3-a7679b49eddb",
   "metadata": {},
   "source": [
    "על הטיטאניק:\n",
    "1. צרו העתק של עמודת של עמודת\n",
    "   Siblings/Spouses Aboard\n",
    "2. עדכנו את כל עשרת הערכים הראשונים בעמודה לאפס\n",
    "3. ודאו שהשינוי קרה אך ורק בהעתק שיצרתם ולא על העמודה המקורית\n",
    "4. מחקו את השורה הראשונה בעזרת drop()\n",
    "5. מחקו שורה שבה השם הוא\n",
    "   Miss. Elizabeth Bonnell\n",
    "   בעזרת drop()\n",
    "6.  חפשו  והציגו את מי ששלמו בין 40 ל 45 בעזרת .query()\n",
    "7.  מחקו את השורות שמצאתם בסעיף הקודם\n",
    "8.  בעזרת nlargest() ו nsmallest() מצאו את חמשת המבוגרים ביותר וחמשת הצעירים ביותר\n",
    "9.  הציגו את הטבלה כולה כך שיהיו נתונים רק לגבי מי ששרד ועבור מי שלא שרד יופיעו שדות ריקים NaN\n",
    "10.  בונוס הציגו את ארבעת הנוסעים ששלמו הכי הרבה מבין אלו שלא שרדו. עדיף שתשתמשו ב\n",
    "    .where(), .nlargest()\n",
    "11. בונוס נוסף- החליפו את עמודת מחיר לעמודה שבה כתוב \"שלמו יותר מידי\" עבור כל מי ששילם מעל 85 .\n",
    "    כדי לוודא שהצלחתם שלפו 30 שורות ראשונות\n",
    "   "
   ]
  },
  {
   "cell_type": "code",
   "execution_count": null,
   "id": "fe490996-0d4a-47d8-9c8b-f64f0a80a954",
   "metadata": {},
   "outputs": [],
   "source": [
    "#import pandas and uplaod dataset\n"
   ]
  },
  {
   "cell_type": "code",
   "execution_count": null,
   "id": "aa9fc845-9aab-490d-8aaa-cd42b0b3feb2",
   "metadata": {},
   "outputs": [],
   "source": [
    "#1\n"
   ]
  },
  {
   "cell_type": "code",
   "execution_count": null,
   "id": "27ddd9bb-9a11-4490-9e3f-d0a98135eb0b",
   "metadata": {},
   "outputs": [],
   "source": [
    "#2\n"
   ]
  },
  {
   "cell_type": "code",
   "execution_count": null,
   "id": "9ae0ebc8-38b5-475b-968c-3237eab51f18",
   "metadata": {},
   "outputs": [],
   "source": [
    "#3"
   ]
  },
  {
   "cell_type": "code",
   "execution_count": null,
   "id": "fbba1c3c-771a-4424-9bbf-8a6b8072cfe3",
   "metadata": {},
   "outputs": [],
   "source": []
  },
  {
   "cell_type": "code",
   "execution_count": null,
   "id": "bff0ef38-d1b1-457d-88b0-0949d2996b7e",
   "metadata": {},
   "outputs": [],
   "source": [
    "#4\n"
   ]
  },
  {
   "cell_type": "code",
   "execution_count": null,
   "id": "d56f802f-5902-490a-b55e-3c650331c442",
   "metadata": {},
   "outputs": [],
   "source": []
  },
  {
   "cell_type": "code",
   "execution_count": null,
   "id": "312181ff-91fd-4c02-a4b6-7668a43d1b7f",
   "metadata": {},
   "outputs": [],
   "source": [
    "#5 \n"
   ]
  },
  {
   "cell_type": "code",
   "execution_count": null,
   "id": "0ce83332-c2f9-4ddb-a6b5-15cea3baf6f6",
   "metadata": {},
   "outputs": [],
   "source": []
  },
  {
   "cell_type": "code",
   "execution_count": null,
   "id": "0dae75ca-566a-4b47-96d7-184fbd1a0b38",
   "metadata": {},
   "outputs": [],
   "source": [
    "#6\n"
   ]
  },
  {
   "cell_type": "code",
   "execution_count": null,
   "id": "b34e0855-01f8-4aad-baba-cd5db14be5d9",
   "metadata": {},
   "outputs": [],
   "source": [
    "#7\n"
   ]
  },
  {
   "cell_type": "code",
   "execution_count": null,
   "id": "f2dccc5f-e677-4e2e-93c9-90e0055c52ec",
   "metadata": {},
   "outputs": [],
   "source": [
    "#8\n",
    "#oldest\n"
   ]
  },
  {
   "cell_type": "code",
   "execution_count": null,
   "id": "4d7c6cb2-3328-43f4-b4b9-636ac3af477d",
   "metadata": {},
   "outputs": [],
   "source": [
    "#youngest\n"
   ]
  },
  {
   "cell_type": "code",
   "execution_count": null,
   "id": "ec16f6a3-60a9-4340-92c8-03067b83e4d1",
   "metadata": {},
   "outputs": [],
   "source": [
    "#9\n"
   ]
  },
  {
   "cell_type": "code",
   "execution_count": null,
   "id": "490de649-4ed9-4a67-9221-f8a05a29d876",
   "metadata": {},
   "outputs": [],
   "source": [
    "#10\n"
   ]
  }
 ],
 "metadata": {
  "kernelspec": {
   "display_name": "Python 3 (ipykernel)",
   "language": "python",
   "name": "python3"
  },
  "language_info": {
   "codemirror_mode": {
    "name": "ipython",
    "version": 3
   },
   "file_extension": ".py",
   "mimetype": "text/x-python",
   "name": "python",
   "nbconvert_exporter": "python",
   "pygments_lexer": "ipython3",
   "version": "3.12.2"
  }
 },
 "nbformat": 4,
 "nbformat_minor": 5
}
