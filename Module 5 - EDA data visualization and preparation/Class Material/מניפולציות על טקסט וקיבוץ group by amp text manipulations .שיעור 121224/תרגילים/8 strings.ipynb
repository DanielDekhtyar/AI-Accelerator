{
 "cells": [
  {
   "cell_type": "markdown",
   "id": "50e1125e-12ca-4c95-8f02-3a5923d0aee3",
   "metadata": {},
   "source": [
    "### תרגיל עבודה עם מחרוזות \n",
    "בתרגיל זה תעבדו עם  imdb_top_1000.csv  \n",
    "\n",
    "   "
   ]
  },
  {
   "cell_type": "code",
   "execution_count": 2,
   "id": "8e83ea7d-6588-4d98-91c6-e7ae5341845e",
   "metadata": {},
   "outputs": [],
   "source": []
  },
  {
   "cell_type": "code",
   "execution_count": 3,
   "id": "a1436344-00aa-4161-a32b-a65734fb8d43",
   "metadata": {},
   "outputs": [],
   "source": []
  },
  {
   "cell_type": "code",
   "execution_count": null,
   "id": "eca8bf09-a23e-45e8-84f4-006be21f50cd",
   "metadata": {},
   "outputs": [],
   "source": []
  },
  {
   "cell_type": "markdown",
   "id": "b566593b-996e-44de-9896-173334d24efa",
   "metadata": {},
   "source": [
    "**חלק ראשון - הכרות עם מתודות**  \n",
    "1.  הציגו את שמות הבמאים באותיות קטנות\n",
    "2.  הציגו את שמות העמודות באותיות גדולות (בסוף, אם ישאר זמן שמרו את השינוי)"
   ]
  },
  {
   "cell_type": "code",
   "execution_count": null,
   "id": "b2a8de05-815b-462c-ae44-96ede6be6397",
   "metadata": {},
   "outputs": [],
   "source": []
  },
  {
   "cell_type": "code",
   "execution_count": null,
   "id": "911f227c-02e3-437d-aea1-84ac6129f4d8",
   "metadata": {},
   "outputs": [],
   "source": []
  },
  {
   "cell_type": "markdown",
   "id": "b9475fd9-cdda-4a2d-a058-50e6d67688e9",
   "metadata": {},
   "source": [
    " **תנאים עם מחרוזות**  \n",
    "\n",
    "3. הציגו 10 סרטים ראשונים שהמילה the  \n",
    "   מופיעה בהם\n",
    "4. הציגו רק סרטים שאורך שמם הוא עד 3 תוים כולל\n",
    "5. הציגו סרטים שאורך שמם הוא בין 12 ל20 תוים\n"
   ]
  },
  {
   "cell_type": "code",
   "execution_count": null,
   "id": "296ccb66-431a-4ca1-aa59-21a1799fc35f",
   "metadata": {},
   "outputs": [],
   "source": []
  },
  {
   "cell_type": "code",
   "execution_count": null,
   "id": "2ae40bd6-cc0d-4e3d-9720-76761356aadb",
   "metadata": {},
   "outputs": [],
   "source": []
  },
  {
   "cell_type": "code",
   "execution_count": null,
   "id": "1ace83a2-aa6e-4c27-895c-5192722d2ddb",
   "metadata": {},
   "outputs": [],
   "source": []
  },
  {
   "cell_type": "markdown",
   "id": "c7ad7130-7353-49e3-9e9b-c9e676e4f451",
   "metadata": {},
   "source": [
    "**ניקוי נתונים מחרוזתיים**\n",
    "\n",
    "6.  הפכו את עמודת gross\n",
    "   \n",
    "    לעמודה מספרית"
   ]
  },
  {
   "cell_type": "code",
   "execution_count": null,
   "id": "953e0aad-a37c-4df2-a8a2-4671e53b6ed7",
   "metadata": {},
   "outputs": [],
   "source": []
  },
  {
   "cell_type": "code",
   "execution_count": null,
   "id": "64fe389c-1820-44d3-9431-02856cea3635",
   "metadata": {},
   "outputs": [],
   "source": []
  },
  {
   "cell_type": "code",
   "execution_count": null,
   "id": "6ec8cfe3-8bcd-4a7f-a7ac-677e3fb862e5",
   "metadata": {},
   "outputs": [],
   "source": []
  },
  {
   "cell_type": "markdown",
   "id": "64d88c8c-37e6-4f91-bdb7-dc3898569f23",
   "metadata": {},
   "source": [
    "**פיצול עמודות**\n",
    "\n",
    "7. צרו העתק של הטבלה הכולל את שם הסרט, שם הבמאי ושם השחקן הראשי\n",
    "8. פצלו את שם השחקן הראשי לשתי עמודות- שם פרטי ושם משפחה"
   ]
  },
  {
   "cell_type": "code",
   "execution_count": null,
   "id": "de9a05fc-678c-442a-85fe-238e6a99b015",
   "metadata": {},
   "outputs": [],
   "source": []
  }
 ],
 "metadata": {
  "kernelspec": {
   "display_name": "Python 3 (ipykernel)",
   "language": "python",
   "name": "python3"
  },
  "language_info": {
   "codemirror_mode": {
    "name": "ipython",
    "version": 3
   },
   "file_extension": ".py",
   "mimetype": "text/x-python",
   "name": "python",
   "nbconvert_exporter": "python",
   "pygments_lexer": "ipython3",
   "version": "3.12.2"
  }
 },
 "nbformat": 4,
 "nbformat_minor": 5
}
