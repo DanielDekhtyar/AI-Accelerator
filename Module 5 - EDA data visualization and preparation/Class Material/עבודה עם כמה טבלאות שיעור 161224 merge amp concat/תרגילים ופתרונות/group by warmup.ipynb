{
 "cells": [
  {
   "cell_type": "markdown",
   "id": "cba8b1cd-1ac6-4da8-84bd-a5b587b59efd",
   "metadata": {},
   "source": [
    "In this exercise, you will use the mls_salaries.csv dataset:\n",
    "\n",
    "1. Load the data and examine the information using info, describe, and head."
   ]
  },
  {
   "cell_type": "code",
   "execution_count": null,
   "id": "38345b40-c76a-4384-bc38-2256c96859f6",
   "metadata": {},
   "outputs": [],
   "source": []
  },
  {
   "cell_type": "code",
   "execution_count": null,
   "id": "662357e7-05d3-4ad3-90e8-726d7ae784d7",
   "metadata": {},
   "outputs": [],
   "source": []
  },
  {
   "cell_type": "code",
   "execution_count": null,
   "id": "ffa8a337-64d4-4d59-a1b6-b7d705f6c158",
   "metadata": {},
   "outputs": [],
   "source": []
  },
  {
   "cell_type": "code",
   "execution_count": null,
   "id": "7619c2cb-f2fd-4af8-a571-df0ddda13fad",
   "metadata": {},
   "outputs": [],
   "source": []
  },
  {
   "cell_type": "code",
   "execution_count": null,
   "id": "e3cd2348-e403-4d35-93a7-a26bc523f107",
   "metadata": {},
   "outputs": [],
   "source": []
  },
  {
   "cell_type": "markdown",
   "id": "03f66e56-5b99-48b4-9b60-8ac6443264c3",
   "metadata": {},
   "source": [
    "2. Check the unique clubs and unique positions."
   ]
  },
  {
   "cell_type": "code",
   "execution_count": null,
   "id": "19914315-5c74-4ede-8a79-f16bfc20b82f",
   "metadata": {},
   "outputs": [],
   "source": []
  },
  {
   "cell_type": "code",
   "execution_count": null,
   "id": "13856f91-5830-4502-b114-d88451147496",
   "metadata": {},
   "outputs": [],
   "source": []
  },
  {
   "cell_type": "markdown",
   "id": "eb33677a-8eb5-4285-84ce-8e56c285e975",
   "metadata": {},
   "source": [
    "3. What is the average base salary for each club?"
   ]
  },
  {
   "cell_type": "code",
   "execution_count": null,
   "id": "6db866d4-2c58-4240-85f8-408b1813ea61",
   "metadata": {},
   "outputs": [],
   "source": []
  },
  {
   "cell_type": "code",
   "execution_count": null,
   "id": "e345a25a-c5c6-48fd-baa2-d60bd67c7fd7",
   "metadata": {},
   "outputs": [],
   "source": []
  },
  {
   "cell_type": "markdown",
   "id": "b97d2640-9519-42d4-849e-5fe1afde2e26",
   "metadata": {},
   "source": [
    "4. Which club has the highest average base salary?"
   ]
  },
  {
   "cell_type": "code",
   "execution_count": null,
   "id": "f4ce550b-5a4e-4e3c-a9e5-0f2cf04fb79f",
   "metadata": {},
   "outputs": [],
   "source": []
  },
  {
   "cell_type": "code",
   "execution_count": null,
   "id": "08a98838-eac1-4c28-9806-b6e693df16a4",
   "metadata": {},
   "outputs": [],
   "source": []
  },
  {
   "cell_type": "markdown",
   "id": "94d61399-b951-444d-96d7-d6fb0bc80e99",
   "metadata": {},
   "source": [
    "5. Which club has the highest base salary?"
   ]
  },
  {
   "cell_type": "code",
   "execution_count": null,
   "id": "4547cee3-266c-4c2d-888d-51679636601b",
   "metadata": {},
   "outputs": [],
   "source": []
  },
  {
   "cell_type": "code",
   "execution_count": null,
   "id": "7b6e5363-780a-4e80-9b16-a952bb422abf",
   "metadata": {},
   "outputs": [],
   "source": []
  },
  {
   "cell_type": "markdown",
   "id": "6c85aca4-da0b-4201-be0b-4bb5c41ec321",
   "metadata": {},
   "source": [
    "6. What is the average guaranteed compensation for each position?"
   ]
  },
  {
   "cell_type": "code",
   "execution_count": null,
   "id": "22795009-ccd8-4408-a19c-16d767810bae",
   "metadata": {},
   "outputs": [],
   "source": []
  },
  {
   "cell_type": "code",
   "execution_count": null,
   "id": "5c460381-8ba3-4bd3-80c7-178878381864",
   "metadata": {},
   "outputs": [],
   "source": []
  },
  {
   "cell_type": "markdown",
   "id": "9031ac89-8a63-470f-9c47-4a1dfd2ee19b",
   "metadata": {},
   "source": [
    "8. what is the median salary per club?\n",
    "and what is the avarege median salary of all clubs? is it differant then the (\"avarage\") median salary in general? why?"
   ]
  },
  {
   "cell_type": "code",
   "execution_count": null,
   "id": "6efbe428-2832-417f-a4c7-472f23e5546d",
   "metadata": {},
   "outputs": [],
   "source": []
  },
  {
   "cell_type": "code",
   "execution_count": null,
   "id": "c08b1a54-f387-4254-b98f-57f8fc2abee2",
   "metadata": {},
   "outputs": [],
   "source": []
  },
  {
   "cell_type": "code",
   "execution_count": null,
   "id": "f007fce9-6844-4d7d-a021-e6d1b6fe9cd5",
   "metadata": {},
   "outputs": [],
   "source": []
  },
  {
   "cell_type": "markdown",
   "id": "7883d9c4-3622-405b-b2f5-674e7a3870b9",
   "metadata": {},
   "source": [
    "9.What is the average difference between guaranteed compensation and base salary across the dataset, and what is the average difference for each club?"
   ]
  },
  {
   "cell_type": "code",
   "execution_count": null,
   "id": "503c341b-cebd-4ab9-8b23-790860a98fe9",
   "metadata": {},
   "outputs": [],
   "source": []
  },
  {
   "cell_type": "code",
   "execution_count": null,
   "id": "94170b6f-76f9-4df4-857b-c06ff53c9a82",
   "metadata": {},
   "outputs": [],
   "source": []
  },
  {
   "cell_type": "code",
   "execution_count": null,
   "id": "eceac5ee-24cc-4588-b42f-65d0468c937a",
   "metadata": {},
   "outputs": [],
   "source": []
  },
  {
   "cell_type": "markdown",
   "id": "bd596a78-7e86-44d9-91a9-c6a7581b518d",
   "metadata": {},
   "source": [
    "10.  Using get_group, display the players from the club with the fewest members."
   ]
  },
  {
   "cell_type": "code",
   "execution_count": null,
   "id": "b161f782-788f-4276-8d46-c926594585a3",
   "metadata": {},
   "outputs": [],
   "source": []
  },
  {
   "cell_type": "markdown",
   "id": "fbc4fa4b-ff7f-40ef-802c-b03a596c0bcd",
   "metadata": {},
   "source": [
    "11. Bonus: What is the average salary for each position within a club?"
   ]
  },
  {
   "cell_type": "code",
   "execution_count": null,
   "id": "3b0dbb86-db25-4dcb-abac-23c2fbc88e84",
   "metadata": {},
   "outputs": [],
   "source": []
  },
  {
   "cell_type": "markdown",
   "id": "386ce676-a8c4-41eb-b6a2-fc012f9bb35a",
   "metadata": {},
   "source": [
    "12. Write a function that takes a position and a club as input and the avarage, median and mode base salary for that group"
   ]
  },
  {
   "cell_type": "code",
   "execution_count": null,
   "id": "2e2bfb5b-d716-4400-9d43-dcb27a56d563",
   "metadata": {},
   "outputs": [],
   "source": []
  },
  {
   "cell_type": "code",
   "execution_count": null,
   "id": "76768677-c84e-4e4d-8911-d8f3233b02fb",
   "metadata": {},
   "outputs": [],
   "source": []
  }
 ],
 "metadata": {
  "kernelspec": {
   "display_name": "Python 3 (ipykernel)",
   "language": "python",
   "name": "python3"
  },
  "language_info": {
   "codemirror_mode": {
    "name": "ipython",
    "version": 3
   },
   "file_extension": ".py",
   "mimetype": "text/x-python",
   "name": "python",
   "nbconvert_exporter": "python",
   "pygments_lexer": "ipython3",
   "version": "3.12.2"
  }
 },
 "nbformat": 4,
 "nbformat_minor": 5
}
