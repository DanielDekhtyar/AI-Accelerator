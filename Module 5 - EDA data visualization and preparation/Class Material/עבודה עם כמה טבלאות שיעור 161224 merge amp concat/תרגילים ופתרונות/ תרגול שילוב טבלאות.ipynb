{
 "cells": [
  {
   "cell_type": "markdown",
   "id": "d5f011da-b002-4849-a958-7ca7a14c66c9",
   "metadata": {},
   "source": [
    "1. Use the gryffindor.json and slytherin.json files to create two corresponding DataFrames.\n",
    "2. Check the contents of both DataFrames to ensure they loaded correctly.\n",
    "3. Display the two DataFrames one after the other, each starting with an index of 0.\n",
    "4. Repeat step 3, but this time, reset the index for both DataFrames so they list rows from 0 to the last row.\n",
    "5. Repeat again, but use keys to differentiate between Gryffindor (g) and Slytherin (s).\n",
    "6. Retrieve and display the details of row number 4 in the Gryffindor DataFrame.\n",
    "7. Use .loc to find and display the first name of the first Slytherin student.\n",
    "8. Use .loc to find and display the last name and graduation year of Slytherin student number ."
   ]
  },
  {
   "cell_type": "code",
   "execution_count": null,
   "id": "0ae479a4-1cd6-4204-9770-a6992ed30758",
   "metadata": {},
   "outputs": [],
   "source": []
  },
  {
   "cell_type": "code",
   "execution_count": null,
   "id": "987243d8-c72a-4bf5-9b40-de91459aac0b",
   "metadata": {},
   "outputs": [],
   "source": []
  },
  {
   "cell_type": "code",
   "execution_count": null,
   "id": "e57f456b-308e-41f1-a244-28c6c14d78f2",
   "metadata": {},
   "outputs": [],
   "source": []
  },
  {
   "cell_type": "code",
   "execution_count": null,
   "id": "9bd2b7e6-24da-4f69-885e-d3b48c934022",
   "metadata": {},
   "outputs": [],
   "source": []
  },
  {
   "cell_type": "markdown",
   "id": "0afc2fd4-a064-41a4-9ffb-70ed28045aa3",
   "metadata": {},
   "source": [
    "9. Use pd.concat to add one last row to the Slytherin DataFrame with the following details:  \n",
    "student_id: 16  \n",
    "last_name: Riddle  \n",
    "first_name: Tom  \n",
    "gender: Male  \n",
    "class_of: 1945  \n",
    "\n"
   ]
  },
  {
   "cell_type": "code",
   "execution_count": null,
   "id": "ff1dd0c9-eb57-4f51-9b6a-794b83c39014",
   "metadata": {},
   "outputs": [],
   "source": []
  },
  {
   "cell_type": "markdown",
   "id": "6d29c26f-8fe6-4d37-8f5b-ea23254e15d7",
   "metadata": {},
   "source": [
    "10. Use pd.concat to add two rows at the beginning of the Gryffindor DataFrame with the following details:  \n",
    "student_id: 100  \n",
    "last_name: Dumbledore  \n",
    "first_name: Albus  \n",
    "gender: Male  \n",
    "class_of: 1899\n",
    "    \n",
    "student_id: 200    \n",
    "last_name: McGonagall  \n",
    "first_name: Minerva  \n",
    "gender: Female  \n",
    "class_of: 1954  "
   ]
  },
  {
   "cell_type": "code",
   "execution_count": null,
   "id": "5f1a6503-49a2-4ca5-b159-95b3fa6b2da9",
   "metadata": {},
   "outputs": [],
   "source": []
  },
  {
   "cell_type": "markdown",
   "id": "012ceff3-c929-4425-bab9-ff6d2c0f83ed",
   "metadata": {},
   "source": [
    "* Upload a new dataframe from test_results.txt. Inspect the dataframe to ensure you understand its structure.\n",
    "  \n",
    "11. Display the students alongside their test results.\n",
    "12. Include students who do not have test results.\n",
    "13. Add a column indicating whether the row is a result of an inner, left, or right join.\n",
    "14. Bonus: If time allows, use groupby to show the average grade for each subject in each house."
   ]
  },
  {
   "cell_type": "code",
   "execution_count": null,
   "id": "9668426c-5f95-4c28-a947-d43f9aa8f8a8",
   "metadata": {},
   "outputs": [],
   "source": []
  },
  {
   "cell_type": "code",
   "execution_count": null,
   "id": "63f575fa-8ade-4bc1-92c0-6ccbddabba4a",
   "metadata": {},
   "outputs": [],
   "source": []
  },
  {
   "cell_type": "code",
   "execution_count": null,
   "id": "9b7c11bd-9488-412d-9ca6-9bc4fded7c6b",
   "metadata": {},
   "outputs": [],
   "source": []
  },
  {
   "cell_type": "code",
   "execution_count": null,
   "id": "d6ca38c2-11cc-47f8-b6c8-9853da7f8ce1",
   "metadata": {},
   "outputs": [],
   "source": []
  },
  {
   "cell_type": "code",
   "execution_count": null,
   "id": "92424643-dd28-404b-9636-922c0b5fc11e",
   "metadata": {},
   "outputs": [],
   "source": []
  }
 ],
 "metadata": {
  "kernelspec": {
   "display_name": "Python 3 (ipykernel)",
   "language": "python",
   "name": "python3"
  },
  "language_info": {
   "codemirror_mode": {
    "name": "ipython",
    "version": 3
   },
   "file_extension": ".py",
   "mimetype": "text/x-python",
   "name": "python",
   "nbconvert_exporter": "python",
   "pygments_lexer": "ipython3",
   "version": "3.12.2"
  }
 },
 "nbformat": 4,
 "nbformat_minor": 5
}
