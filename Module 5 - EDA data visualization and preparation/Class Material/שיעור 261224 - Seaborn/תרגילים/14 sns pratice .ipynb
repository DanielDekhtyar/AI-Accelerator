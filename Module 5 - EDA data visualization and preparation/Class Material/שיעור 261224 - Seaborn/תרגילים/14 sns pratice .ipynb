{
 "cells": [
  {
   "cell_type": "markdown",
   "id": "18dba703-2ded-4e6c-8a5b-1c2518b6b5e9",
   "metadata": {},
   "source": [
    "1. Load the `cereal.csv` file into a pandas DataFrame.  \n",
    "   Use a heatmap to check for correlations between the columns. Identify:\n",
    "    - The strongest positive correlation.  \n",
    "    - The strongest negative correlation.  "
   ]
  },
  {
   "cell_type": "code",
   "execution_count": null,
   "id": "67ef7f86-5e12-4182-a9d7-3131b3ae5295",
   "metadata": {},
   "outputs": [],
   "source": []
  },
  {
   "cell_type": "code",
   "execution_count": null,
   "id": "044dac2d-7ad7-4030-810a-b142237e3f78",
   "metadata": {},
   "outputs": [],
   "source": []
  },
  {
   "cell_type": "code",
   "execution_count": null,
   "id": "764c2f5b-9a2d-4e15-b821-4a086da6e517",
   "metadata": {},
   "outputs": [],
   "source": []
  },
  {
   "cell_type": "code",
   "execution_count": null,
   "id": "c46c64b4-15b3-4c2a-9172-4117818f8154",
   "metadata": {},
   "outputs": [],
   "source": []
  },
  {
   "cell_type": "markdown",
   "id": "a6cf7107-351c-493d-9601-2a63ecd19055",
   "metadata": {},
   "source": [
    "2. Create a scatter plot in Seaborn to  \n",
    "visualize the strongest positive correlation you found."
   ]
  },
  {
   "cell_type": "code",
   "execution_count": null,
   "id": "00db6605-0084-4b15-9763-5b3f60b48626",
   "metadata": {},
   "outputs": [],
   "source": []
  },
  {
   "cell_type": "markdown",
   "id": "a4c5faa2-e526-441a-abdc-0e4c8e1beba1",
   "metadata": {},
   "source": [
    "3. Update the scatter plot to include:\n",
    "    - A `hue` based on the column: `mfr`.\n",
    "    - A `size` based on the column: `calories`.\n",
    "    - Use the palette: `coolwarm`."
   ]
  },
  {
   "cell_type": "code",
   "execution_count": null,
   "id": "a852d5b1-7b97-4360-b9c5-d6293571c1f5",
   "metadata": {},
   "outputs": [],
   "source": []
  },
  {
   "cell_type": "markdown",
   "id": "c8032fac-d090-4a98-be6f-041b0779e689",
   "metadata": {},
   "source": [
    "4. Create a scatter plot in Seaborn to  \n",
    "visualize the strongest negative correlation you found."
   ]
  },
  {
   "cell_type": "code",
   "execution_count": null,
   "id": "0fab2540-7ae0-4e55-addb-960009949d5e",
   "metadata": {},
   "outputs": [],
   "source": []
  },
  {
   "cell_type": "markdown",
   "id": "837a00bf-5c0d-4fb8-a245-379589c4a25e",
   "metadata": {},
   "source": [
    "5. For both the strongest positive and negative correlations,  \n",
    "    create separate regression plots (`regplot`) using Seaborn.  \n",
    " Regression plot for positive correlation"
   ]
  },
  {
   "cell_type": "code",
   "execution_count": null,
   "id": "f086c1a2-09dc-4c9a-b9c0-9c9ba863561f",
   "metadata": {},
   "outputs": [],
   "source": []
  },
  {
   "cell_type": "code",
   "execution_count": null,
   "id": "9f92a9ec-e8b6-42de-8977-c462fcce541e",
   "metadata": {},
   "outputs": [],
   "source": []
  },
  {
   "cell_type": "markdown",
   "id": "54780f8b-9aa9-4584-aa4b-6d12262c0f70",
   "metadata": {},
   "source": [
    "6. Bonus- if you have time come back to this  \n",
    "and combine both regression plots into one figure using subplots."
   ]
  },
  {
   "cell_type": "code",
   "execution_count": null,
   "id": "17bbee67-5234-45ad-92c3-a0a03a2dd9fe",
   "metadata": {},
   "outputs": [],
   "source": []
  },
  {
   "cell_type": "markdown",
   "id": "8f87eb0c-cfd4-48a2-859a-3cd2e7f121ce",
   "metadata": {},
   "source": [
    "7. Load the `tips` dataset from Seaborn.  \n",
    "   Create a histogram of the `tip` column with the following:\n",
    "    - Include a KDE curve.\n",
    "    - Change the bar color to `skyblue`.\n",
    "    - Change the estimator to `median`."
   ]
  },
  {
   "cell_type": "code",
   "execution_count": null,
   "id": "1b8a87bc-674d-44c5-a8b8-44a35e773876",
   "metadata": {},
   "outputs": [],
   "source": []
  },
  {
   "cell_type": "code",
   "execution_count": null,
   "id": "1f2fd8ac-79a5-40e1-b238-f92042dd0999",
   "metadata": {},
   "outputs": [],
   "source": []
  },
  {
   "cell_type": "markdown",
   "id": "2d4e03b9-e5fd-4e28-a4aa-ce8040f5f6e0",
   "metadata": {},
   "source": [
    "8. Create a boxplot of the `tip` column  \n",
    "    grouped by `day`, with a `hue` based on the `sex` column."
   ]
  },
  {
   "cell_type": "code",
   "execution_count": null,
   "id": "05489df9-d023-4c4b-b272-f6d274007ee7",
   "metadata": {},
   "outputs": [],
   "source": []
  },
  {
   "cell_type": "markdown",
   "id": "3b0c5996-451a-4818-8ee9-a6dc8475575b",
   "metadata": {},
   "source": [
    "9. Create a joint plot using any two columns  \n",
    " of your choice from the `tips` dataset.  \n",
    " Select columns that provide meaningful insights."
   ]
  },
  {
   "cell_type": "code",
   "execution_count": null,
   "id": "6995451b-d97e-4781-af44-a540d9f0ba92",
   "metadata": {},
   "outputs": [],
   "source": []
  },
  {
   "cell_type": "markdown",
   "id": "32b70967-1534-434b-860d-cd8ddde24fba",
   "metadata": {},
   "source": [
    "10. Create a pair plot for the entire `tips` dataset."
   ]
  },
  {
   "cell_type": "code",
   "execution_count": null,
   "id": "e47d126b-c79e-4b9b-b7eb-724c9b89920e",
   "metadata": {},
   "outputs": [],
   "source": []
  }
 ],
 "metadata": {
  "kernelspec": {
   "display_name": "Python 3 (ipykernel)",
   "language": "python",
   "name": "python3"
  },
  "language_info": {
   "codemirror_mode": {
    "name": "ipython",
    "version": 3
   },
   "file_extension": ".py",
   "mimetype": "text/x-python",
   "name": "python",
   "nbconvert_exporter": "python",
   "pygments_lexer": "ipython3",
   "version": "3.12.2"
  }
 },
 "nbformat": 4,
 "nbformat_minor": 5
}
