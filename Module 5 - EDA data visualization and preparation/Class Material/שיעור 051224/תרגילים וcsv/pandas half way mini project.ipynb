{
 "cells": [
  {
   "cell_type": "markdown",
   "id": "35d4f9e9-a1ae-4c56-bc95-2b843aab170f",
   "metadata": {},
   "source": [
    "A. In this exercise, you need to use the Disease_symptom_and_patient_profile_dataset.csv dataset. First, retrieve it and familiarize yourself with its contents."
   ]
  },
  {
   "cell_type": "code",
   "execution_count": null,
   "id": "2a5f0ca5-a5cb-4ee4-8a98-43c948e5e8c3",
   "metadata": {},
   "outputs": [],
   "source": []
  },
  {
   "cell_type": "code",
   "execution_count": null,
   "id": "8d8c093d-5123-4f9d-876a-a1692d2cdb98",
   "metadata": {},
   "outputs": [],
   "source": []
  },
  {
   "cell_type": "markdown",
   "id": "e45e45b5-50a7-4a96-9023-58dc590bb0f4",
   "metadata": {},
   "source": [
    "B. There is 1 empty row- delete it"
   ]
  },
  {
   "cell_type": "code",
   "execution_count": null,
   "id": "2980df26-6f45-453f-b6ad-de4b1d35a412",
   "metadata": {},
   "outputs": [],
   "source": []
  },
  {
   "cell_type": "markdown",
   "id": "a7727d3a-e7ac-42fa-8b9d-1378b4f88696",
   "metadata": {},
   "source": [
    "C. Look at the different columns and their memory usage. Can you change the data types to improve performance and usability? Which columns would be good candidates for 'category' or boolean data types? convert them."
   ]
  },
  {
   "cell_type": "code",
   "execution_count": null,
   "id": "56d55ae0-b613-48d4-9403-e5edf8d606f0",
   "metadata": {},
   "outputs": [],
   "source": []
  },
  {
   "cell_type": "code",
   "execution_count": null,
   "id": "fcdf1cbc-cb66-4186-a7f6-addc34152d32",
   "metadata": {},
   "outputs": [],
   "source": []
  },
  {
   "cell_type": "code",
   "execution_count": null,
   "id": "53ca0e6c-7d6f-4089-aa60-69699ca107bb",
   "metadata": {},
   "outputs": [],
   "source": []
  },
  {
   "cell_type": "markdown",
   "id": "d366c444-b9a0-4d9f-b2db-29569aceb995",
   "metadata": {},
   "source": [
    "D. run codes to answer the folowing questions:\n",
    "1. Show all rows where the gender is male.\n",
    "2. Show all rows where the age is greater than 50.sort the results by age in ascending order\n",
    "3. Show all rows where the disease is \"Hemorrhoids\", \"Schizophrenia\" or \"Malaria\"\n",
    "4. Show all rows where the gender is female and the disease is \"Diabetes\".\n",
    "5. Show all rows where the age is less than 30 or the disease is \"Asthma\".\n",
    "6. Show all rows where the gender is male and the disease is not \"Flu\".\n",
    "7. Show all rows where the gender is female and the disease is either \"Stroker\" or \"Diabetes\".\n",
    "8. Show all rows where the gender is not female and the age is greater than 40. use .shape[0] to dicover how many rows answer the cartiria"
   ]
  },
  {
   "cell_type": "code",
   "execution_count": null,
   "id": "37ab85a8-4fbe-4521-a484-bfe717c0cb86",
   "metadata": {},
   "outputs": [],
   "source": [
    "#1"
   ]
  },
  {
   "cell_type": "code",
   "execution_count": null,
   "id": "56c89e04-6fdf-49bc-929d-8ef0800b91db",
   "metadata": {},
   "outputs": [],
   "source": [
    "#2"
   ]
  },
  {
   "cell_type": "code",
   "execution_count": null,
   "id": "1299e349-5a68-4ed0-990d-1dd47458fdb0",
   "metadata": {},
   "outputs": [],
   "source": [
    "#3"
   ]
  },
  {
   "cell_type": "code",
   "execution_count": null,
   "id": "18ab2fc0-500b-42aa-8fa7-366ebec079b5",
   "metadata": {},
   "outputs": [],
   "source": [
    "#4"
   ]
  },
  {
   "cell_type": "code",
   "execution_count": null,
   "id": "4daa5a49-77ec-48c9-8156-3730b30e0cd0",
   "metadata": {},
   "outputs": [],
   "source": [
    "#5"
   ]
  },
  {
   "cell_type": "code",
   "execution_count": null,
   "id": "8310048b-7c1f-4179-a8f7-a494dc9ef8ca",
   "metadata": {},
   "outputs": [],
   "source": [
    "#6"
   ]
  },
  {
   "cell_type": "code",
   "execution_count": null,
   "id": "70f1f774-5ca0-4347-aaf6-b46c634ee84c",
   "metadata": {},
   "outputs": [],
   "source": [
    "#7"
   ]
  },
  {
   "cell_type": "code",
   "execution_count": null,
   "id": "64890d3b-4909-456e-9584-aa4081d3b79d",
   "metadata": {},
   "outputs": [],
   "source": [
    "#8"
   ]
  },
  {
   "cell_type": "markdown",
   "id": "bdf5e3ca-c310-47d9-9d94-b0f66b32647e",
   "metadata": {},
   "source": [
    "* Bonus Section\\\n",
    "D. create a program that loops over each unique value in the 'Disease' column and prints out the calculated avrage age for that disease "
   ]
  },
  {
   "cell_type": "code",
   "execution_count": null,
   "id": "35088e58-44c5-48ff-aba2-e561c990fbe0",
   "metadata": {},
   "outputs": [],
   "source": []
  },
  {
   "cell_type": "markdown",
   "id": "416cf410-b7dc-4295-a3de-33f0f48ef551",
   "metadata": {},
   "source": [
    "E. with the program you just wrote in mind, what would be the best value to replace the NaN you have in the 'Age' column? \n",
    "Replace it with what you think is best"
   ]
  },
  {
   "cell_type": "code",
   "execution_count": null,
   "id": "2f7ffa71-7cb6-4575-bba1-6adafe9775c7",
   "metadata": {},
   "outputs": [],
   "source": []
  },
  {
   "cell_type": "code",
   "execution_count": null,
   "id": "68382e47-9ef8-479c-82fe-4503090242ba",
   "metadata": {},
   "outputs": [],
   "source": []
  }
 ],
 "metadata": {
  "kernelspec": {
   "display_name": "Python 3 (ipykernel)",
   "language": "python",
   "name": "python3"
  },
  "language_info": {
   "codemirror_mode": {
    "name": "ipython",
    "version": 3
   },
   "file_extension": ".py",
   "mimetype": "text/x-python",
   "name": "python",
   "nbconvert_exporter": "python",
   "pygments_lexer": "ipython3",
   "version": "3.12.2"
  }
 },
 "nbformat": 4,
 "nbformat_minor": 5
}
