{
 "cells": [
  {
   "cell_type": "code",
   "execution_count": 2,
   "id": "cbcf280a",
   "metadata": {},
   "outputs": [],
   "source": [
    "import numpy as np\n",
    "import pandas as pd\n"
   ]
  },
  {
   "cell_type": "code",
   "execution_count": 9,
   "id": "9058bde1",
   "metadata": {},
   "outputs": [],
   "source": [
    "ar = np.array([1,2,3,1,1,1])"
   ]
  },
  {
   "cell_type": "code",
   "execution_count": 10,
   "id": "6d72a9cc",
   "metadata": {},
   "outputs": [
    {
     "data": {
      "text/plain": [
       "array([1, 2, 3, 1, 1, 1])"
      ]
     },
     "execution_count": 10,
     "metadata": {},
     "output_type": "execute_result"
    }
   ],
   "source": [
    "ar"
   ]
  },
  {
   "cell_type": "code",
   "execution_count": 11,
   "id": "4eafe7b2",
   "metadata": {},
   "outputs": [
    {
     "data": {
      "text/plain": [
       "numpy.ndarray"
      ]
     },
     "execution_count": 11,
     "metadata": {},
     "output_type": "execute_result"
    }
   ],
   "source": [
    "type(ar)"
   ]
  },
  {
   "cell_type": "code",
   "execution_count": 12,
   "id": "b764b0a6",
   "metadata": {},
   "outputs": [
    {
     "data": {
      "text/plain": [
       "1"
      ]
     },
     "execution_count": 12,
     "metadata": {},
     "output_type": "execute_result"
    }
   ],
   "source": [
    "ar.ndim"
   ]
  },
  {
   "cell_type": "code",
   "execution_count": 13,
   "id": "0d4e70c0",
   "metadata": {},
   "outputs": [
    {
     "data": {
      "text/plain": [
       "(6,)"
      ]
     },
     "execution_count": 13,
     "metadata": {},
     "output_type": "execute_result"
    }
   ],
   "source": [
    "ar.shape"
   ]
  },
  {
   "cell_type": "code",
   "execution_count": 14,
   "id": "f0c372c8",
   "metadata": {},
   "outputs": [
    {
     "data": {
      "text/plain": [
       "2"
      ]
     },
     "execution_count": 14,
     "metadata": {},
     "output_type": "execute_result"
    }
   ],
   "source": [
    "ar[1]"
   ]
  },
  {
   "cell_type": "code",
   "execution_count": 15,
   "id": "7b2fdae5",
   "metadata": {},
   "outputs": [
    {
     "data": {
      "text/plain": [
       "1"
      ]
     },
     "execution_count": 15,
     "metadata": {},
     "output_type": "execute_result"
    }
   ],
   "source": [
    "ar[0]"
   ]
  },
  {
   "cell_type": "code",
   "execution_count": 17,
   "id": "09ce25d3",
   "metadata": {},
   "outputs": [
    {
     "ename": "IndexError",
     "evalue": "too many indices for array: array is 1-dimensional, but 2 were indexed",
     "output_type": "error",
     "traceback": [
      "\u001b[1;31m---------------------------------------------------------------------------\u001b[0m",
      "\u001b[1;31mIndexError\u001b[0m                                Traceback (most recent call last)",
      "\u001b[1;32m~\\AppData\\Local\\Temp\\ipykernel_9736\\4001886906.py\u001b[0m in \u001b[0;36m<module>\u001b[1;34m\u001b[0m\n\u001b[1;32m----> 1\u001b[1;33m \u001b[0mar\u001b[0m\u001b[1;33m[\u001b[0m\u001b[1;36m0\u001b[0m\u001b[1;33m,\u001b[0m \u001b[1;36m0\u001b[0m\u001b[1;33m]\u001b[0m\u001b[1;33m\u001b[0m\u001b[1;33m\u001b[0m\u001b[0m\n\u001b[0m",
      "\u001b[1;31mIndexError\u001b[0m: too many indices for array: array is 1-dimensional, but 2 were indexed"
     ]
    }
   ],
   "source": [
    "#ar[0, 0] # error - ndim"
   ]
  },
  {
   "cell_type": "code",
   "execution_count": 20,
   "id": "94862c28",
   "metadata": {},
   "outputs": [],
   "source": [
    "ar2= np.array([[1,2,3],[4,5,6]])"
   ]
  },
  {
   "cell_type": "code",
   "execution_count": 54,
   "id": "b84c2914",
   "metadata": {},
   "outputs": [
    {
     "data": {
      "text/plain": [
       "6"
      ]
     },
     "execution_count": 54,
     "metadata": {},
     "output_type": "execute_result"
    }
   ],
   "source": [
    "ar2.size"
   ]
  },
  {
   "cell_type": "code",
   "execution_count": 21,
   "id": "c5a07770",
   "metadata": {},
   "outputs": [
    {
     "data": {
      "text/plain": [
       "array([[1, 2, 3],\n",
       "       [4, 5, 6]])"
      ]
     },
     "execution_count": 21,
     "metadata": {},
     "output_type": "execute_result"
    }
   ],
   "source": [
    "ar2"
   ]
  },
  {
   "cell_type": "code",
   "execution_count": 53,
   "id": "aa872900",
   "metadata": {},
   "outputs": [
    {
     "data": {
      "text/plain": [
       "2"
      ]
     },
     "execution_count": 53,
     "metadata": {},
     "output_type": "execute_result"
    }
   ],
   "source": [
    "len(ar2)"
   ]
  },
  {
   "cell_type": "code",
   "execution_count": 23,
   "id": "64248abb",
   "metadata": {},
   "outputs": [
    {
     "data": {
      "text/plain": [
       "2"
      ]
     },
     "execution_count": 23,
     "metadata": {},
     "output_type": "execute_result"
    }
   ],
   "source": [
    "ar2.ndim"
   ]
  },
  {
   "cell_type": "code",
   "execution_count": 24,
   "id": "f54f4458",
   "metadata": {},
   "outputs": [
    {
     "data": {
      "text/plain": [
       "(2, 3)"
      ]
     },
     "execution_count": 24,
     "metadata": {},
     "output_type": "execute_result"
    }
   ],
   "source": [
    "ar2.shape"
   ]
  },
  {
   "cell_type": "code",
   "execution_count": 27,
   "id": "9bf06fea",
   "metadata": {},
   "outputs": [
    {
     "data": {
      "text/plain": [
       "1"
      ]
     },
     "execution_count": 27,
     "metadata": {},
     "output_type": "execute_result"
    }
   ],
   "source": [
    "ar2[0,0]"
   ]
  },
  {
   "cell_type": "code",
   "execution_count": 28,
   "id": "d09ebf19",
   "metadata": {},
   "outputs": [
    {
     "data": {
      "text/plain": [
       "1"
      ]
     },
     "execution_count": 28,
     "metadata": {},
     "output_type": "execute_result"
    }
   ],
   "source": [
    "ar2[0][0]"
   ]
  },
  {
   "cell_type": "code",
   "execution_count": 30,
   "id": "2ca605a3",
   "metadata": {},
   "outputs": [
    {
     "data": {
      "text/plain": [
       "5"
      ]
     },
     "execution_count": 30,
     "metadata": {},
     "output_type": "execute_result"
    }
   ],
   "source": [
    "ar2[1][1]"
   ]
  },
  {
   "cell_type": "code",
   "execution_count": 56,
   "id": "39798f24",
   "metadata": {},
   "outputs": [],
   "source": [
    "ar3 = np.array([[[1,2,3],[4,5,6]],[[1,2,3],[4,5,6]]])"
   ]
  },
  {
   "cell_type": "code",
   "execution_count": 33,
   "id": "249bdebe",
   "metadata": {},
   "outputs": [
    {
     "data": {
      "text/plain": [
       "array([[[1, 2, 3],\n",
       "        [4, 5, 6]],\n",
       "\n",
       "       [[1, 2, 3],\n",
       "        [4, 5, 6]]])"
      ]
     },
     "execution_count": 33,
     "metadata": {},
     "output_type": "execute_result"
    }
   ],
   "source": [
    "ar3"
   ]
  },
  {
   "cell_type": "code",
   "execution_count": 57,
   "id": "0f374e91",
   "metadata": {},
   "outputs": [
    {
     "data": {
      "text/plain": [
       "2"
      ]
     },
     "execution_count": 57,
     "metadata": {},
     "output_type": "execute_result"
    }
   ],
   "source": [
    "len(ar3)"
   ]
  },
  {
   "cell_type": "code",
   "execution_count": 58,
   "id": "1f616451",
   "metadata": {},
   "outputs": [
    {
     "data": {
      "text/plain": [
       "12"
      ]
     },
     "execution_count": 58,
     "metadata": {},
     "output_type": "execute_result"
    }
   ],
   "source": [
    "ar3.size"
   ]
  },
  {
   "cell_type": "code",
   "execution_count": null,
   "id": "1b0f35e7",
   "metadata": {},
   "outputs": [],
   "source": []
  },
  {
   "cell_type": "code",
   "execution_count": 34,
   "id": "e04842f4",
   "metadata": {},
   "outputs": [
    {
     "data": {
      "text/plain": [
       "3"
      ]
     },
     "execution_count": 34,
     "metadata": {},
     "output_type": "execute_result"
    }
   ],
   "source": [
    "ar3.ndim"
   ]
  },
  {
   "cell_type": "code",
   "execution_count": 35,
   "id": "65499cc9",
   "metadata": {},
   "outputs": [
    {
     "data": {
      "text/plain": [
       "(2, 2, 3)"
      ]
     },
     "execution_count": 35,
     "metadata": {},
     "output_type": "execute_result"
    }
   ],
   "source": [
    "ar3.shape"
   ]
  },
  {
   "cell_type": "code",
   "execution_count": 36,
   "id": "4246fb44",
   "metadata": {},
   "outputs": [],
   "source": [
    "ar3 = np.array([[[1,2,3],[4,5,6]],\n",
    "                \n",
    "                [[1,2,3],[4,5,6]],\n",
    "                [[1,2,3],[4,5,6]],\n",
    "                [[1,2,3],[4,5,6]]])"
   ]
  },
  {
   "cell_type": "code",
   "execution_count": 37,
   "id": "de60a037",
   "metadata": {},
   "outputs": [
    {
     "data": {
      "text/plain": [
       "3"
      ]
     },
     "execution_count": 37,
     "metadata": {},
     "output_type": "execute_result"
    }
   ],
   "source": [
    "ar3.ndim"
   ]
  },
  {
   "cell_type": "code",
   "execution_count": 38,
   "id": "db170316",
   "metadata": {},
   "outputs": [
    {
     "data": {
      "text/plain": [
       "array([[[1, 2, 3],\n",
       "        [4, 5, 6]],\n",
       "\n",
       "       [[1, 2, 3],\n",
       "        [4, 5, 6]],\n",
       "\n",
       "       [[1, 2, 3],\n",
       "        [4, 5, 6]],\n",
       "\n",
       "       [[1, 2, 3],\n",
       "        [4, 5, 6]]])"
      ]
     },
     "execution_count": 38,
     "metadata": {},
     "output_type": "execute_result"
    }
   ],
   "source": [
    "ar3"
   ]
  },
  {
   "cell_type": "code",
   "execution_count": 39,
   "id": "66e66cd1",
   "metadata": {},
   "outputs": [
    {
     "data": {
      "text/plain": [
       "(4, 2, 3)"
      ]
     },
     "execution_count": 39,
     "metadata": {},
     "output_type": "execute_result"
    }
   ],
   "source": [
    "ar3.shape"
   ]
  },
  {
   "cell_type": "code",
   "execution_count": 40,
   "id": "b41336f0",
   "metadata": {},
   "outputs": [
    {
     "name": "stderr",
     "output_type": "stream",
     "text": [
      "C:\\Users\\AiFTW\\.conda\\envs\\env_2\\lib\\site-packages\\ipykernel_launcher.py:1: VisibleDeprecationWarning: Creating an ndarray from ragged nested sequences (which is a list-or-tuple of lists-or-tuples-or ndarrays with different lengths or shapes) is deprecated. If you meant to do this, you must specify 'dtype=object' when creating the ndarray.\n",
      "  \"\"\"Entry point for launching an IPython kernel.\n"
     ]
    }
   ],
   "source": [
    "ar3 = np.array([[[1,2,3],[4,5,6]],[[1,2,3],[4,5,6]],[[1,2,3],[4,5,6]],[[1,2,3],[4,5]]])"
   ]
  },
  {
   "cell_type": "code",
   "execution_count": 41,
   "id": "862494e6",
   "metadata": {},
   "outputs": [
    {
     "data": {
      "text/plain": [
       "array([[list([1, 2, 3]), list([4, 5, 6])],\n",
       "       [list([1, 2, 3]), list([4, 5, 6])],\n",
       "       [list([1, 2, 3]), list([4, 5, 6])],\n",
       "       [list([1, 2, 3]), list([4, 5])]], dtype=object)"
      ]
     },
     "execution_count": 41,
     "metadata": {},
     "output_type": "execute_result"
    }
   ],
   "source": [
    "ar3"
   ]
  },
  {
   "cell_type": "code",
   "execution_count": 42,
   "id": "222ef861",
   "metadata": {},
   "outputs": [
    {
     "data": {
      "text/plain": [
       "(4, 2)"
      ]
     },
     "execution_count": 42,
     "metadata": {},
     "output_type": "execute_result"
    }
   ],
   "source": [
    "ar3.shape"
   ]
  },
  {
   "cell_type": "code",
   "execution_count": 43,
   "id": "212265cd",
   "metadata": {},
   "outputs": [
    {
     "data": {
      "text/plain": [
       "2"
      ]
     },
     "execution_count": 43,
     "metadata": {},
     "output_type": "execute_result"
    }
   ],
   "source": [
    "ar3.ndim"
   ]
  },
  {
   "cell_type": "code",
   "execution_count": 44,
   "id": "213a7595",
   "metadata": {},
   "outputs": [],
   "source": [
    "a = np.array([1,2,3])\n",
    "b = np.array([4,5,6])"
   ]
  },
  {
   "cell_type": "code",
   "execution_count": 45,
   "id": "f62541ca",
   "metadata": {},
   "outputs": [],
   "source": [
    "c = a+b"
   ]
  },
  {
   "cell_type": "code",
   "execution_count": 46,
   "id": "e272be04",
   "metadata": {},
   "outputs": [
    {
     "data": {
      "text/plain": [
       "array([5, 7, 9])"
      ]
     },
     "execution_count": 46,
     "metadata": {},
     "output_type": "execute_result"
    }
   ],
   "source": [
    "c"
   ]
  },
  {
   "cell_type": "code",
   "execution_count": 47,
   "id": "ebc043cb",
   "metadata": {},
   "outputs": [
    {
     "data": {
      "text/plain": [
       "numpy.ndarray"
      ]
     },
     "execution_count": 47,
     "metadata": {},
     "output_type": "execute_result"
    }
   ],
   "source": [
    "type(c)"
   ]
  },
  {
   "cell_type": "code",
   "execution_count": 48,
   "id": "9cdaea30",
   "metadata": {},
   "outputs": [
    {
     "data": {
      "text/plain": [
       "1"
      ]
     },
     "execution_count": 48,
     "metadata": {},
     "output_type": "execute_result"
    }
   ],
   "source": [
    "c.ndim"
   ]
  },
  {
   "cell_type": "code",
   "execution_count": 51,
   "id": "65eb94c0",
   "metadata": {},
   "outputs": [
    {
     "data": {
      "text/plain": [
       "(3,)"
      ]
     },
     "execution_count": 51,
     "metadata": {},
     "output_type": "execute_result"
    }
   ],
   "source": [
    "c.shape"
   ]
  },
  {
   "cell_type": "code",
   "execution_count": 52,
   "id": "8408e093",
   "metadata": {},
   "outputs": [
    {
     "data": {
      "text/plain": [
       "3"
      ]
     },
     "execution_count": 52,
     "metadata": {},
     "output_type": "execute_result"
    }
   ],
   "source": [
    "len(a)"
   ]
  },
  {
   "cell_type": "code",
   "execution_count": 59,
   "id": "a089a5cf",
   "metadata": {},
   "outputs": [],
   "source": [
    "result  = []\n",
    "for  i in range(len(a)):\n",
    "    result.append(a[i]+ b[i])"
   ]
  },
  {
   "cell_type": "code",
   "execution_count": 60,
   "id": "63a09df4",
   "metadata": {},
   "outputs": [
    {
     "data": {
      "text/plain": [
       "[5, 7, 9]"
      ]
     },
     "execution_count": 60,
     "metadata": {},
     "output_type": "execute_result"
    }
   ],
   "source": [
    "result"
   ]
  },
  {
   "cell_type": "code",
   "execution_count": 63,
   "id": "792db28d",
   "metadata": {},
   "outputs": [],
   "source": [
    "result  = []\n",
    "for  i in range(len(a)): result.append(a[i]+ b[i])"
   ]
  },
  {
   "cell_type": "code",
   "execution_count": 64,
   "id": "b4a5c734",
   "metadata": {},
   "outputs": [
    {
     "data": {
      "text/plain": [
       "[5, 7, 9]"
      ]
     },
     "execution_count": 64,
     "metadata": {},
     "output_type": "execute_result"
    }
   ],
   "source": [
    "result"
   ]
  },
  {
   "cell_type": "code",
   "execution_count": 69,
   "id": "76fd2d4f",
   "metadata": {},
   "outputs": [
    {
     "data": {
      "text/plain": [
       "array([0.95860638, 0.22909671, 0.10909441])"
      ]
     },
     "execution_count": 69,
     "metadata": {},
     "output_type": "execute_result"
    }
   ],
   "source": [
    "np.random.rand(3)"
   ]
  },
  {
   "cell_type": "code",
   "execution_count": 70,
   "id": "822104e2",
   "metadata": {},
   "outputs": [],
   "source": [
    "big_a = np.random.rand(10**7)\n",
    "big_b = np.random.rand(10**7)"
   ]
  },
  {
   "cell_type": "code",
   "execution_count": 71,
   "id": "14da5436",
   "metadata": {},
   "outputs": [
    {
     "data": {
      "text/plain": [
       "10000000"
      ]
     },
     "execution_count": 71,
     "metadata": {},
     "output_type": "execute_result"
    }
   ],
   "source": [
    "big_a.size"
   ]
  },
  {
   "cell_type": "code",
   "execution_count": 74,
   "id": "e626cf7d",
   "metadata": {},
   "outputs": [
    {
     "name": "stdout",
     "output_type": "stream",
     "text": [
      "31.8 ms ± 2.99 ms per loop (mean ± std. dev. of 7 runs, 10 loops each)\n"
     ]
    }
   ],
   "source": [
    "%timeit big_c = big_a + big_b"
   ]
  },
  {
   "cell_type": "code",
   "execution_count": 75,
   "id": "be88ad50",
   "metadata": {},
   "outputs": [
    {
     "name": "stdout",
     "output_type": "stream",
     "text": [
      "3.53 s ± 107 ms per loop (mean ± std. dev. of 7 runs, 1 loop each)\n"
     ]
    }
   ],
   "source": [
    "\n",
    "result  = []\n",
    "%timeit for  i in range(len(big_a)): result.append(big_a[i]+ big_b[i])"
   ]
  },
  {
   "cell_type": "code",
   "execution_count": 93,
   "id": "685c4bf6",
   "metadata": {},
   "outputs": [],
   "source": [
    "df = pd.read_csv ('titanic.csv')"
   ]
  },
  {
   "cell_type": "code",
   "execution_count": 78,
   "id": "c65fe5a5",
   "metadata": {},
   "outputs": [
    {
     "data": {
      "text/html": [
       "<div>\n",
       "<style scoped>\n",
       "    .dataframe tbody tr th:only-of-type {\n",
       "        vertical-align: middle;\n",
       "    }\n",
       "\n",
       "    .dataframe tbody tr th {\n",
       "        vertical-align: top;\n",
       "    }\n",
       "\n",
       "    .dataframe thead th {\n",
       "        text-align: right;\n",
       "    }\n",
       "</style>\n",
       "<table border=\"1\" class=\"dataframe\">\n",
       "  <thead>\n",
       "    <tr style=\"text-align: right;\">\n",
       "      <th></th>\n",
       "      <th>Survived</th>\n",
       "      <th>Pclass</th>\n",
       "      <th>Name</th>\n",
       "      <th>Sex</th>\n",
       "      <th>Age</th>\n",
       "      <th>Siblings/Spouses Aboard</th>\n",
       "      <th>Parents/Children Aboard</th>\n",
       "      <th>Fare</th>\n",
       "    </tr>\n",
       "  </thead>\n",
       "  <tbody>\n",
       "    <tr>\n",
       "      <th>0</th>\n",
       "      <td>0</td>\n",
       "      <td>3</td>\n",
       "      <td>Mr. Owen Harris Braund</td>\n",
       "      <td>male</td>\n",
       "      <td>22.0</td>\n",
       "      <td>1</td>\n",
       "      <td>0</td>\n",
       "      <td>7.2500</td>\n",
       "    </tr>\n",
       "    <tr>\n",
       "      <th>1</th>\n",
       "      <td>1</td>\n",
       "      <td>1</td>\n",
       "      <td>Mrs. John Bradley (Florence Briggs Thayer) Cum...</td>\n",
       "      <td>female</td>\n",
       "      <td>38.0</td>\n",
       "      <td>1</td>\n",
       "      <td>0</td>\n",
       "      <td>71.2833</td>\n",
       "    </tr>\n",
       "    <tr>\n",
       "      <th>2</th>\n",
       "      <td>1</td>\n",
       "      <td>3</td>\n",
       "      <td>Miss. Laina Heikkinen</td>\n",
       "      <td>female</td>\n",
       "      <td>26.0</td>\n",
       "      <td>0</td>\n",
       "      <td>0</td>\n",
       "      <td>7.9250</td>\n",
       "    </tr>\n",
       "    <tr>\n",
       "      <th>3</th>\n",
       "      <td>1</td>\n",
       "      <td>1</td>\n",
       "      <td>Mrs. Jacques Heath (Lily May Peel) Futrelle</td>\n",
       "      <td>female</td>\n",
       "      <td>35.0</td>\n",
       "      <td>1</td>\n",
       "      <td>0</td>\n",
       "      <td>53.1000</td>\n",
       "    </tr>\n",
       "    <tr>\n",
       "      <th>4</th>\n",
       "      <td>0</td>\n",
       "      <td>3</td>\n",
       "      <td>Mr. William Henry Allen</td>\n",
       "      <td>male</td>\n",
       "      <td>35.0</td>\n",
       "      <td>0</td>\n",
       "      <td>0</td>\n",
       "      <td>8.0500</td>\n",
       "    </tr>\n",
       "  </tbody>\n",
       "</table>\n",
       "</div>"
      ],
      "text/plain": [
       "   Survived  Pclass                                               Name  \\\n",
       "0         0       3                             Mr. Owen Harris Braund   \n",
       "1         1       1  Mrs. John Bradley (Florence Briggs Thayer) Cum...   \n",
       "2         1       3                              Miss. Laina Heikkinen   \n",
       "3         1       1        Mrs. Jacques Heath (Lily May Peel) Futrelle   \n",
       "4         0       3                            Mr. William Henry Allen   \n",
       "\n",
       "      Sex   Age  Siblings/Spouses Aboard  Parents/Children Aboard     Fare  \n",
       "0    male  22.0                        1                        0   7.2500  \n",
       "1  female  38.0                        1                        0  71.2833  \n",
       "2  female  26.0                        0                        0   7.9250  \n",
       "3  female  35.0                        1                        0  53.1000  \n",
       "4    male  35.0                        0                        0   8.0500  "
      ]
     },
     "execution_count": 78,
     "metadata": {},
     "output_type": "execute_result"
    }
   ],
   "source": [
    "df.head()"
   ]
  },
  {
   "cell_type": "code",
   "execution_count": 79,
   "id": "1be9cf32",
   "metadata": {},
   "outputs": [
    {
     "data": {
      "text/plain": [
       "0      False\n",
       "1       True\n",
       "2      False\n",
       "3       True\n",
       "4      False\n",
       "       ...  \n",
       "882    False\n",
       "883    False\n",
       "884    False\n",
       "885    False\n",
       "886    False\n",
       "Name: Fare, Length: 887, dtype: bool"
      ]
     },
     "execution_count": 79,
     "metadata": {},
     "output_type": "execute_result"
    }
   ],
   "source": [
    "df['Fare'] >50"
   ]
  },
  {
   "cell_type": "code",
   "execution_count": 80,
   "id": "22bd6ed0",
   "metadata": {},
   "outputs": [
    {
     "data": {
      "text/plain": [
       "0       True\n",
       "1      False\n",
       "2       True\n",
       "3      False\n",
       "4       True\n",
       "       ...  \n",
       "882     True\n",
       "883    False\n",
       "884    False\n",
       "885    False\n",
       "886     True\n",
       "Name: Fare, Length: 887, dtype: bool"
      ]
     },
     "execution_count": 80,
     "metadata": {},
     "output_type": "execute_result"
    }
   ],
   "source": [
    "df['Fare'] <20"
   ]
  },
  {
   "cell_type": "code",
   "execution_count": 81,
   "id": "7068a620",
   "metadata": {},
   "outputs": [
    {
     "data": {
      "text/plain": [
       "array(['Cheep', 'Expensive', 'Cheep', 'Expensive', 'Cheep', 'Cheep',\n",
       "       'Expensive', '0', 'Cheep', '0', 'Cheep', '0', 'Cheep', '0',\n",
       "       'Cheep', 'Cheep', '0', 'Cheep', 'Cheep', 'Cheep', '0', 'Cheep',\n",
       "       'Cheep', '0', '0', '0', 'Cheep', 'Expensive', 'Cheep', 'Cheep',\n",
       "       '0', 'Expensive', 'Cheep', 'Cheep', 'Expensive', 'Expensive',\n",
       "       'Cheep', 'Cheep', 'Cheep', 'Cheep', 'Cheep', '0', '0', 'Cheep',\n",
       "       'Cheep', 'Cheep', 'Cheep', '0', 'Cheep', '0', 'Cheep', 'Expensive',\n",
       "       '0', 'Expensive', '0', 'Cheep', 'Cheep', '0', '0', 'Cheep',\n",
       "       'Expensive', 'Expensive', '0', '0', 'Cheep', 'Cheep', 'Cheep',\n",
       "       'Cheep', 'Cheep', 'Cheep', '0', 'Expensive', 'Cheep', 'Expensive',\n",
       "       'Cheep', 'Cheep', 'Cheep', '0', 'Cheep', 'Cheep', 'Cheep', 'Cheep',\n",
       "       '0', 'Cheep', 'Cheep', '0', 'Cheep', 'Expensive', 'Cheep', 'Cheep',\n",
       "       'Cheep', 'Expensive', '0', 'Cheep', 'Cheep', '0', 'Expensive', '0',\n",
       "       '0', 'Cheep', 'Cheep', 'Expensive', 'Cheep', 'Cheep', 'Cheep',\n",
       "       'Cheep', 'Cheep', 'Cheep', '0', 'Expensive', 'Cheep', 'Cheep',\n",
       "       'Cheep', 'Cheep', 'Cheep', 'Cheep', '0', 'Expensive', '0',\n",
       "       'Expensive', 'Cheep', '0', 'Cheep', 'Expensive', 'Cheep', 'Cheep',\n",
       "       'Cheep', '0', 'Cheep', 'Cheep', 'Cheep', 'Cheep', '0', 'Cheep',\n",
       "       'Cheep', '0', 'Expensive', 'Cheep', 'Expensive', 'Cheep', 'Cheep',\n",
       "       'Cheep', 'Cheep', 'Cheep', '0', 'Cheep', '0', '0', 'Cheep',\n",
       "       'Cheep', 'Expensive', 'Cheep', 'Cheep', 'Cheep', 'Expensive',\n",
       "       'Cheep', 'Cheep', 'Cheep', 'Expensive', 'Cheep', 'Cheep', 'Cheep',\n",
       "       'Cheep', '0', '0', 'Expensive', '0', '0', 'Expensive', '0', '0',\n",
       "       'Cheep', 'Cheep', '0', 'Cheep', '0', '0', 'Cheep', 'Cheep',\n",
       "       'Expensive', 'Cheep', '0', '0', '0', '0', 'Cheep', '0', 'Cheep',\n",
       "       'Cheep', 'Cheep', 'Cheep', 'Cheep', '0', '0', 'Expensive', 'Cheep',\n",
       "       'Cheep', 'Cheep', 'Cheep', 'Cheep', 'Expensive', 'Cheep', 'Cheep',\n",
       "       'Cheep', 'Cheep', 'Cheep', 'Cheep', 'Cheep', '0', 'Cheep', '0',\n",
       "       'Cheep', 'Cheep', 'Cheep', 'Expensive', 'Cheep', '0', 'Expensive',\n",
       "       'Cheep', 'Cheep', 'Cheep', 'Cheep', 'Cheep', 'Expensive', 'Cheep',\n",
       "       'Cheep', 'Cheep', 'Cheep', '0', 'Expensive', 'Cheep', 'Cheep', '0',\n",
       "       'Cheep', 'Cheep', '0', '0', 'Cheep', 'Cheep', 'Cheep', 'Cheep',\n",
       "       'Cheep', 'Cheep', 'Cheep', 'Expensive', 'Cheep', 'Cheep',\n",
       "       'Expensive', '0', 'Cheep', 'Cheep', '0', 'Cheep', '0', 'Cheep',\n",
       "       'Expensive', 'Expensive', 'Expensive', '0', '0', 'Expensive',\n",
       "       'Cheep', 'Cheep', 'Cheep', '0', 'Cheep', 'Expensive', 'Expensive',\n",
       "       '0', 'Cheep', 'Cheep', '0', 'Cheep', 'Expensive', 'Cheep', 'Cheep',\n",
       "       '0', '0', 'Cheep', 'Cheep', 'Cheep', 'Cheep', '0', 'Cheep',\n",
       "       'Cheep', 'Cheep', 'Cheep', 'Cheep', 'Expensive', 'Expensive',\n",
       "       'Cheep', 'Cheep', 'Cheep', '0', 'Cheep', 'Expensive', '0',\n",
       "       'Expensive', 'Cheep', '0', 'Cheep', 'Cheep', 'Cheep', 'Expensive',\n",
       "       'Expensive', 'Expensive', '0', 'Expensive', 'Expensive',\n",
       "       'Expensive', '0', 'Cheep', '0', 'Cheep', '0', 'Cheep', 'Expensive',\n",
       "       'Expensive', 'Cheep', 'Cheep', 'Cheep', '0', 'Expensive',\n",
       "       'Expensive', 'Cheep', 'Cheep', '0', 'Expensive', '0', '0',\n",
       "       'Expensive', 'Cheep', 'Expensive', 'Cheep', 'Expensive',\n",
       "       'Expensive', 'Cheep', '0', '0', 'Expensive', 'Cheep', 'Cheep',\n",
       "       'Cheep', 'Cheep', 'Cheep', 'Cheep', 'Cheep', 'Cheep', 'Cheep', '0',\n",
       "       'Cheep', 'Cheep', 'Cheep', 'Cheep', 'Expensive', 'Cheep', 'Cheep',\n",
       "       'Cheep', '0', '0', 'Cheep', 'Cheep', 'Cheep', 'Cheep', 'Expensive',\n",
       "       'Cheep', 'Cheep', 'Expensive', 'Expensive', 'Cheep', 'Cheep',\n",
       "       'Expensive', '0', 'Expensive', 'Cheep', 'Expensive', 'Cheep',\n",
       "       'Cheep', 'Expensive', 'Cheep', 'Cheep', 'Expensive', 'Cheep',\n",
       "       'Expensive', '0', 'Cheep', 'Cheep', 'Cheep', 'Expensive', 'Cheep',\n",
       "       'Cheep', 'Expensive', 'Cheep', 'Cheep', 'Cheep', '0', 'Cheep',\n",
       "       'Cheep', 'Cheep', 'Cheep', 'Cheep', 'Cheep', 'Cheep', '0', 'Cheep',\n",
       "       'Cheep', 'Cheep', '0', 'Cheep', 'Cheep', 'Expensive', 'Cheep',\n",
       "       'Cheep', 'Cheep', '0', 'Cheep', 'Cheep', '0', 'Cheep', 'Cheep',\n",
       "       'Cheep', '0', 'Cheep', '0', '0', 'Cheep', 'Cheep', '0', 'Cheep',\n",
       "       '0', 'Cheep', 'Expensive', 'Expensive', '0', 'Cheep', 'Expensive',\n",
       "       'Cheep', '0', 'Cheep', 'Cheep', 'Cheep', 'Cheep', 'Expensive',\n",
       "       'Cheep', '0', 'Cheep', '0', '0', 'Cheep', '0', 'Expensive',\n",
       "       'Cheep', 'Cheep', '0', 'Expensive', 'Cheep', 'Cheep', '0', 'Cheep',\n",
       "       '0', 'Cheep', 'Cheep', 'Cheep', 'Cheep', '0', 'Cheep', 'Cheep',\n",
       "       'Cheep', 'Cheep', '0', 'Cheep', 'Cheep', 'Expensive', '0', 'Cheep',\n",
       "       'Cheep', 'Cheep', '0', 'Cheep', 'Cheep', 'Cheep', 'Expensive', '0',\n",
       "       'Expensive', '0', 'Cheep', 'Cheep', 'Cheep', 'Cheep', '0', '0',\n",
       "       'Cheep', 'Cheep', 'Expensive', 'Cheep', 'Expensive', 'Cheep',\n",
       "       'Cheep', 'Cheep', 'Cheep', 'Cheep', 'Expensive', 'Expensive', '0',\n",
       "       '0', '0', 'Expensive', 'Cheep', 'Cheep', '0', 'Expensive', 'Cheep',\n",
       "       '0', 'Cheep', '0', '0', 'Cheep', 'Expensive', 'Cheep', 'Cheep',\n",
       "       'Expensive', 'Cheep', 'Cheep', 'Cheep', 'Expensive', 'Cheep',\n",
       "       'Cheep', '0', 'Cheep', 'Cheep', '0', 'Cheep', '0', '0',\n",
       "       'Expensive', 'Cheep', '0', 'Expensive', '0', '0', '0', 'Expensive',\n",
       "       '0', '0', 'Cheep', '0', '0', 'Expensive', '0', 'Cheep', 'Cheep',\n",
       "       'Cheep', '0', '0', 'Expensive', 'Expensive', 'Cheep', 'Cheep',\n",
       "       'Cheep', 'Cheep', 'Cheep', 'Cheep', '0', 'Cheep', '0', 'Cheep',\n",
       "       'Cheep', 'Cheep', 'Expensive', '0', 'Cheep', 'Cheep', 'Cheep',\n",
       "       'Cheep', 'Expensive', 'Cheep', 'Cheep', '0', 'Expensive', '0', '0',\n",
       "       'Cheep', 'Expensive', 'Cheep', 'Expensive', 'Cheep', 'Cheep',\n",
       "       'Cheep', 'Expensive', 'Cheep', 'Cheep', '0', '0', '0', 'Cheep',\n",
       "       'Cheep', 'Expensive', '0', 'Cheep', '0', 'Cheep', '0', 'Cheep',\n",
       "       'Cheep', '0', '0', 'Expensive', '0', 'Cheep', 'Cheep', 'Cheep',\n",
       "       'Cheep', 'Expensive', 'Cheep', 'Cheep', '0', 'Cheep', 'Cheep',\n",
       "       'Expensive', 'Cheep', 'Cheep', 'Cheep', '0', 'Cheep', 'Expensive',\n",
       "       'Cheep', 'Cheep', '0', 'Cheep', '0', 'Cheep', '0', 'Cheep',\n",
       "       'Cheep', '0', '0', 'Cheep', 'Cheep', 'Expensive', '0', 'Expensive',\n",
       "       'Cheep', 'Expensive', 'Cheep', '0', 'Cheep', 'Cheep', 'Cheep', '0',\n",
       "       'Cheep', 'Cheep', 'Cheep', 'Expensive', 'Cheep', 'Cheep', 'Cheep',\n",
       "       'Expensive', 'Expensive', 'Cheep', '0', 'Cheep', 'Cheep',\n",
       "       'Expensive', 'Cheep', 'Cheep', 'Cheep', 'Expensive', '0',\n",
       "       'Expensive', 'Cheep', 'Cheep', 'Cheep', 'Cheep', 'Cheep', 'Cheep',\n",
       "       '0', 'Expensive', 'Cheep', 'Expensive', 'Cheep', '0', '0', '0',\n",
       "       '0', 'Cheep', 'Cheep', 'Expensive', 'Expensive', 'Cheep',\n",
       "       'Expensive', 'Cheep', '0', 'Cheep', 'Cheep', 'Cheep', 'Expensive',\n",
       "       'Cheep', 'Expensive', '0', 'Cheep', 'Cheep', 'Cheep', '0', 'Cheep',\n",
       "       '0', 'Expensive', 'Cheep', '0', '0', 'Expensive', 'Cheep', 'Cheep',\n",
       "       'Cheep', 'Expensive', 'Cheep', 'Cheep', '0', 'Cheep', 'Cheep',\n",
       "       'Cheep', 'Expensive', 'Cheep', '0', 'Cheep', '0', 'Cheep',\n",
       "       'Expensive', 'Cheep', 'Cheep', 'Cheep', 'Cheep', 'Cheep', '0',\n",
       "       'Expensive', 'Cheep', 'Cheep', '0', 'Expensive', 'Expensive',\n",
       "       'Cheep', 'Cheep', 'Expensive', '0', 'Cheep', 'Expensive', 'Cheep',\n",
       "       '0', 'Cheep', 'Cheep', 'Cheep', 'Expensive', 'Cheep', 'Cheep',\n",
       "       'Cheep', 'Cheep', 'Expensive', 'Cheep', 'Cheep', 'Cheep',\n",
       "       'Expensive', 'Cheep', 'Expensive', '0', 'Cheep', '0', 'Cheep',\n",
       "       'Cheep', 'Cheep', 'Cheep', 'Cheep', '0', 'Cheep', 'Cheep', 'Cheep',\n",
       "       'Cheep', 'Expensive', 'Cheep', 'Expensive', '0', '0', 'Cheep',\n",
       "       'Cheep', 'Cheep', '0', '0', 'Expensive', 'Cheep', '0', 'Expensive',\n",
       "       '0', 'Cheep', 'Cheep', '0', 'Cheep', 'Cheep', '0', 'Cheep', '0',\n",
       "       'Expensive', 'Cheep', 'Cheep', 'Cheep', 'Cheep', 'Cheep', 'Cheep',\n",
       "       'Expensive', 'Cheep', '0', 'Cheep', '0', 'Cheep', 'Cheep', 'Cheep',\n",
       "       '0', 'Cheep', '0', 'Expensive', 'Cheep', 'Cheep', 'Cheep', '0',\n",
       "       'Cheep', 'Expensive', '0', 'Cheep', 'Expensive', 'Cheep', 'Cheep',\n",
       "       'Cheep', 'Cheep', 'Cheep', 'Expensive', 'Cheep', 'Cheep',\n",
       "       'Expensive', '0', 'Cheep', 'Cheep', '0', 'Cheep', 'Cheep', 'Cheep',\n",
       "       'Expensive', 'Cheep', '0', 'Expensive', '0', 'Cheep', 'Cheep', '0',\n",
       "       '0', 'Cheep', 'Expensive', '0', 'Cheep', 'Cheep', 'Cheep', 'Cheep',\n",
       "       '0', 'Expensive', 'Cheep', 'Cheep', 'Cheep', 'Expensive', 'Cheep',\n",
       "       'Cheep', 'Cheep', 'Expensive', 'Cheep', 'Cheep', '0', 'Cheep',\n",
       "       'Cheep', 'Cheep', 'Cheep', 'Expensive', '0', 'Cheep', 'Cheep',\n",
       "       'Cheep', 'Cheep', '0', 'Cheep', '0', '0', '0', 'Cheep'],\n",
       "      dtype='<U9')"
      ]
     },
     "execution_count": 81,
     "metadata": {},
     "output_type": "execute_result"
    }
   ],
   "source": [
    "conditions = [df['Fare'] >50, df['Fare'] <20]\n",
    "outcomes = ['Expensive', 'Cheep']\n",
    "np.select (conditions, outcomes)\n",
    "\n"
   ]
  },
  {
   "cell_type": "code",
   "execution_count": 85,
   "id": "d207c91e",
   "metadata": {},
   "outputs": [],
   "source": [
    " s1 = pd.Series(np.select (conditions, outcomes))"
   ]
  },
  {
   "cell_type": "code",
   "execution_count": 87,
   "id": "f12bc248",
   "metadata": {},
   "outputs": [
    {
     "data": {
      "text/html": [
       "<div>\n",
       "<style scoped>\n",
       "    .dataframe tbody tr th:only-of-type {\n",
       "        vertical-align: middle;\n",
       "    }\n",
       "\n",
       "    .dataframe tbody tr th {\n",
       "        vertical-align: top;\n",
       "    }\n",
       "\n",
       "    .dataframe thead th {\n",
       "        text-align: right;\n",
       "    }\n",
       "</style>\n",
       "<table border=\"1\" class=\"dataframe\">\n",
       "  <thead>\n",
       "    <tr style=\"text-align: right;\">\n",
       "      <th></th>\n",
       "      <th>0</th>\n",
       "      <th>Age</th>\n",
       "      <th>Fare</th>\n",
       "      <th>Name</th>\n",
       "      <th>Parents/Children Aboard</th>\n",
       "      <th>Pclass</th>\n",
       "      <th>Sex</th>\n",
       "      <th>Siblings/Spouses Aboard</th>\n",
       "      <th>Survived</th>\n",
       "    </tr>\n",
       "  </thead>\n",
       "  <tbody>\n",
       "    <tr>\n",
       "      <th>0</th>\n",
       "      <td>NaN</td>\n",
       "      <td>22.0</td>\n",
       "      <td>7.2500</td>\n",
       "      <td>Mr. Owen Harris Braund</td>\n",
       "      <td>0.0</td>\n",
       "      <td>3.0</td>\n",
       "      <td>male</td>\n",
       "      <td>1.0</td>\n",
       "      <td>0.0</td>\n",
       "    </tr>\n",
       "    <tr>\n",
       "      <th>1</th>\n",
       "      <td>NaN</td>\n",
       "      <td>38.0</td>\n",
       "      <td>71.2833</td>\n",
       "      <td>Mrs. John Bradley (Florence Briggs Thayer) Cum...</td>\n",
       "      <td>0.0</td>\n",
       "      <td>1.0</td>\n",
       "      <td>female</td>\n",
       "      <td>1.0</td>\n",
       "      <td>1.0</td>\n",
       "    </tr>\n",
       "    <tr>\n",
       "      <th>2</th>\n",
       "      <td>NaN</td>\n",
       "      <td>26.0</td>\n",
       "      <td>7.9250</td>\n",
       "      <td>Miss. Laina Heikkinen</td>\n",
       "      <td>0.0</td>\n",
       "      <td>3.0</td>\n",
       "      <td>female</td>\n",
       "      <td>0.0</td>\n",
       "      <td>1.0</td>\n",
       "    </tr>\n",
       "    <tr>\n",
       "      <th>3</th>\n",
       "      <td>NaN</td>\n",
       "      <td>35.0</td>\n",
       "      <td>53.1000</td>\n",
       "      <td>Mrs. Jacques Heath (Lily May Peel) Futrelle</td>\n",
       "      <td>0.0</td>\n",
       "      <td>1.0</td>\n",
       "      <td>female</td>\n",
       "      <td>1.0</td>\n",
       "      <td>1.0</td>\n",
       "    </tr>\n",
       "    <tr>\n",
       "      <th>4</th>\n",
       "      <td>NaN</td>\n",
       "      <td>35.0</td>\n",
       "      <td>8.0500</td>\n",
       "      <td>Mr. William Henry Allen</td>\n",
       "      <td>0.0</td>\n",
       "      <td>3.0</td>\n",
       "      <td>male</td>\n",
       "      <td>0.0</td>\n",
       "      <td>0.0</td>\n",
       "    </tr>\n",
       "    <tr>\n",
       "      <th>...</th>\n",
       "      <td>...</td>\n",
       "      <td>...</td>\n",
       "      <td>...</td>\n",
       "      <td>...</td>\n",
       "      <td>...</td>\n",
       "      <td>...</td>\n",
       "      <td>...</td>\n",
       "      <td>...</td>\n",
       "      <td>...</td>\n",
       "    </tr>\n",
       "    <tr>\n",
       "      <th>882</th>\n",
       "      <td>Cheep</td>\n",
       "      <td>NaN</td>\n",
       "      <td>NaN</td>\n",
       "      <td>NaN</td>\n",
       "      <td>NaN</td>\n",
       "      <td>NaN</td>\n",
       "      <td>NaN</td>\n",
       "      <td>NaN</td>\n",
       "      <td>NaN</td>\n",
       "    </tr>\n",
       "    <tr>\n",
       "      <th>883</th>\n",
       "      <td>0</td>\n",
       "      <td>NaN</td>\n",
       "      <td>NaN</td>\n",
       "      <td>NaN</td>\n",
       "      <td>NaN</td>\n",
       "      <td>NaN</td>\n",
       "      <td>NaN</td>\n",
       "      <td>NaN</td>\n",
       "      <td>NaN</td>\n",
       "    </tr>\n",
       "    <tr>\n",
       "      <th>884</th>\n",
       "      <td>0</td>\n",
       "      <td>NaN</td>\n",
       "      <td>NaN</td>\n",
       "      <td>NaN</td>\n",
       "      <td>NaN</td>\n",
       "      <td>NaN</td>\n",
       "      <td>NaN</td>\n",
       "      <td>NaN</td>\n",
       "      <td>NaN</td>\n",
       "    </tr>\n",
       "    <tr>\n",
       "      <th>885</th>\n",
       "      <td>0</td>\n",
       "      <td>NaN</td>\n",
       "      <td>NaN</td>\n",
       "      <td>NaN</td>\n",
       "      <td>NaN</td>\n",
       "      <td>NaN</td>\n",
       "      <td>NaN</td>\n",
       "      <td>NaN</td>\n",
       "      <td>NaN</td>\n",
       "    </tr>\n",
       "    <tr>\n",
       "      <th>886</th>\n",
       "      <td>Cheep</td>\n",
       "      <td>NaN</td>\n",
       "      <td>NaN</td>\n",
       "      <td>NaN</td>\n",
       "      <td>NaN</td>\n",
       "      <td>NaN</td>\n",
       "      <td>NaN</td>\n",
       "      <td>NaN</td>\n",
       "      <td>NaN</td>\n",
       "    </tr>\n",
       "  </tbody>\n",
       "</table>\n",
       "<p>1774 rows × 9 columns</p>\n",
       "</div>"
      ],
      "text/plain": [
       "         0   Age     Fare                                               Name  \\\n",
       "0      NaN  22.0   7.2500                             Mr. Owen Harris Braund   \n",
       "1      NaN  38.0  71.2833  Mrs. John Bradley (Florence Briggs Thayer) Cum...   \n",
       "2      NaN  26.0   7.9250                              Miss. Laina Heikkinen   \n",
       "3      NaN  35.0  53.1000        Mrs. Jacques Heath (Lily May Peel) Futrelle   \n",
       "4      NaN  35.0   8.0500                            Mr. William Henry Allen   \n",
       "..     ...   ...      ...                                                ...   \n",
       "882  Cheep   NaN      NaN                                                NaN   \n",
       "883      0   NaN      NaN                                                NaN   \n",
       "884      0   NaN      NaN                                                NaN   \n",
       "885      0   NaN      NaN                                                NaN   \n",
       "886  Cheep   NaN      NaN                                                NaN   \n",
       "\n",
       "     Parents/Children Aboard  Pclass     Sex  Siblings/Spouses Aboard  \\\n",
       "0                        0.0     3.0    male                      1.0   \n",
       "1                        0.0     1.0  female                      1.0   \n",
       "2                        0.0     3.0  female                      0.0   \n",
       "3                        0.0     1.0  female                      1.0   \n",
       "4                        0.0     3.0    male                      0.0   \n",
       "..                       ...     ...     ...                      ...   \n",
       "882                      NaN     NaN     NaN                      NaN   \n",
       "883                      NaN     NaN     NaN                      NaN   \n",
       "884                      NaN     NaN     NaN                      NaN   \n",
       "885                      NaN     NaN     NaN                      NaN   \n",
       "886                      NaN     NaN     NaN                      NaN   \n",
       "\n",
       "     Survived  \n",
       "0         0.0  \n",
       "1         1.0  \n",
       "2         1.0  \n",
       "3         1.0  \n",
       "4         0.0  \n",
       "..        ...  \n",
       "882       NaN  \n",
       "883       NaN  \n",
       "884       NaN  \n",
       "885       NaN  \n",
       "886       NaN  \n",
       "\n",
       "[1774 rows x 9 columns]"
      ]
     },
     "execution_count": 87,
     "metadata": {},
     "output_type": "execute_result"
    }
   ],
   "source": [
    "pd.concat([df,s1])"
   ]
  },
  {
   "cell_type": "code",
   "execution_count": 88,
   "id": "57f56ad9",
   "metadata": {},
   "outputs": [
    {
     "data": {
      "text/plain": [
       "array(['Cheep', 'Expensive', 'Cheep', 'Expensive', 'Cheep', 'Cheep',\n",
       "       'Expensive', 'ok', 'Cheep', 'ok', 'Cheep', 'ok', 'Cheep', 'ok',\n",
       "       'Cheep', 'Cheep', 'ok', 'Cheep', 'Cheep', 'Cheep', 'ok', 'Cheep',\n",
       "       'Cheep', 'ok', 'ok', 'ok', 'Cheep', 'Expensive', 'Cheep', 'Cheep',\n",
       "       'ok', 'Expensive', 'Cheep', 'Cheep', 'Expensive', 'Expensive',\n",
       "       'Cheep', 'Cheep', 'Cheep', 'Cheep', 'Cheep', 'ok', 'ok', 'Cheep',\n",
       "       'Cheep', 'Cheep', 'Cheep', 'ok', 'Cheep', 'ok', 'Cheep',\n",
       "       'Expensive', 'ok', 'Expensive', 'ok', 'Cheep', 'Cheep', 'ok', 'ok',\n",
       "       'Cheep', 'Expensive', 'Expensive', 'ok', 'ok', 'Cheep', 'Cheep',\n",
       "       'Cheep', 'Cheep', 'Cheep', 'Cheep', 'ok', 'Expensive', 'Cheep',\n",
       "       'Expensive', 'Cheep', 'Cheep', 'Cheep', 'ok', 'Cheep', 'Cheep',\n",
       "       'Cheep', 'Cheep', 'ok', 'Cheep', 'Cheep', 'ok', 'Cheep',\n",
       "       'Expensive', 'Cheep', 'Cheep', 'Cheep', 'Expensive', 'ok', 'Cheep',\n",
       "       'Cheep', 'ok', 'Expensive', 'ok', 'ok', 'Cheep', 'Cheep',\n",
       "       'Expensive', 'Cheep', 'Cheep', 'Cheep', 'Cheep', 'Cheep', 'Cheep',\n",
       "       'ok', 'Expensive', 'Cheep', 'Cheep', 'Cheep', 'Cheep', 'Cheep',\n",
       "       'Cheep', 'ok', 'Expensive', 'ok', 'Expensive', 'Cheep', 'ok',\n",
       "       'Cheep', 'Expensive', 'Cheep', 'Cheep', 'Cheep', 'ok', 'Cheep',\n",
       "       'Cheep', 'Cheep', 'Cheep', 'ok', 'Cheep', 'Cheep', 'ok',\n",
       "       'Expensive', 'Cheep', 'Expensive', 'Cheep', 'Cheep', 'Cheep',\n",
       "       'Cheep', 'Cheep', 'ok', 'Cheep', 'ok', 'ok', 'Cheep', 'Cheep',\n",
       "       'Expensive', 'Cheep', 'Cheep', 'Cheep', 'Expensive', 'Cheep',\n",
       "       'Cheep', 'Cheep', 'Expensive', 'Cheep', 'Cheep', 'Cheep', 'Cheep',\n",
       "       'ok', 'ok', 'Expensive', 'ok', 'ok', 'Expensive', 'ok', 'ok',\n",
       "       'Cheep', 'Cheep', 'ok', 'Cheep', 'ok', 'ok', 'Cheep', 'Cheep',\n",
       "       'Expensive', 'Cheep', 'ok', 'ok', 'ok', 'ok', 'Cheep', 'ok',\n",
       "       'Cheep', 'Cheep', 'Cheep', 'Cheep', 'Cheep', 'ok', 'ok',\n",
       "       'Expensive', 'Cheep', 'Cheep', 'Cheep', 'Cheep', 'Cheep',\n",
       "       'Expensive', 'Cheep', 'Cheep', 'Cheep', 'Cheep', 'Cheep', 'Cheep',\n",
       "       'Cheep', 'ok', 'Cheep', 'ok', 'Cheep', 'Cheep', 'Cheep',\n",
       "       'Expensive', 'Cheep', 'ok', 'Expensive', 'Cheep', 'Cheep', 'Cheep',\n",
       "       'Cheep', 'Cheep', 'Expensive', 'Cheep', 'Cheep', 'Cheep', 'Cheep',\n",
       "       'ok', 'Expensive', 'Cheep', 'Cheep', 'ok', 'Cheep', 'Cheep', 'ok',\n",
       "       'ok', 'Cheep', 'Cheep', 'Cheep', 'Cheep', 'Cheep', 'Cheep',\n",
       "       'Cheep', 'Expensive', 'Cheep', 'Cheep', 'Expensive', 'ok', 'Cheep',\n",
       "       'Cheep', 'ok', 'Cheep', 'ok', 'Cheep', 'Expensive', 'Expensive',\n",
       "       'Expensive', 'ok', 'ok', 'Expensive', 'Cheep', 'Cheep', 'Cheep',\n",
       "       'ok', 'Cheep', 'Expensive', 'Expensive', 'ok', 'Cheep', 'Cheep',\n",
       "       'ok', 'Cheep', 'Expensive', 'Cheep', 'Cheep', 'ok', 'ok', 'Cheep',\n",
       "       'Cheep', 'Cheep', 'Cheep', 'ok', 'Cheep', 'Cheep', 'Cheep',\n",
       "       'Cheep', 'Cheep', 'Expensive', 'Expensive', 'Cheep', 'Cheep',\n",
       "       'Cheep', 'ok', 'Cheep', 'Expensive', 'ok', 'Expensive', 'Cheep',\n",
       "       'ok', 'Cheep', 'Cheep', 'Cheep', 'Expensive', 'Expensive',\n",
       "       'Expensive', 'ok', 'Expensive', 'Expensive', 'Expensive', 'ok',\n",
       "       'Cheep', 'ok', 'Cheep', 'ok', 'Cheep', 'Expensive', 'Expensive',\n",
       "       'Cheep', 'Cheep', 'Cheep', 'ok', 'Expensive', 'Expensive', 'Cheep',\n",
       "       'Cheep', 'ok', 'Expensive', 'ok', 'ok', 'Expensive', 'Cheep',\n",
       "       'Expensive', 'Cheep', 'Expensive', 'Expensive', 'Cheep', 'ok',\n",
       "       'ok', 'Expensive', 'Cheep', 'Cheep', 'Cheep', 'Cheep', 'Cheep',\n",
       "       'Cheep', 'Cheep', 'Cheep', 'Cheep', 'ok', 'Cheep', 'Cheep',\n",
       "       'Cheep', 'Cheep', 'Expensive', 'Cheep', 'Cheep', 'Cheep', 'ok',\n",
       "       'ok', 'Cheep', 'Cheep', 'Cheep', 'Cheep', 'Expensive', 'Cheep',\n",
       "       'Cheep', 'Expensive', 'Expensive', 'Cheep', 'Cheep', 'Expensive',\n",
       "       'ok', 'Expensive', 'Cheep', 'Expensive', 'Cheep', 'Cheep',\n",
       "       'Expensive', 'Cheep', 'Cheep', 'Expensive', 'Cheep', 'Expensive',\n",
       "       'ok', 'Cheep', 'Cheep', 'Cheep', 'Expensive', 'Cheep', 'Cheep',\n",
       "       'Expensive', 'Cheep', 'Cheep', 'Cheep', 'ok', 'Cheep', 'Cheep',\n",
       "       'Cheep', 'Cheep', 'Cheep', 'Cheep', 'Cheep', 'ok', 'Cheep',\n",
       "       'Cheep', 'Cheep', 'ok', 'Cheep', 'Cheep', 'Expensive', 'Cheep',\n",
       "       'Cheep', 'Cheep', 'ok', 'Cheep', 'Cheep', 'ok', 'Cheep', 'Cheep',\n",
       "       'Cheep', 'ok', 'Cheep', 'ok', 'ok', 'Cheep', 'Cheep', 'ok',\n",
       "       'Cheep', 'ok', 'Cheep', 'Expensive', 'Expensive', 'ok', 'Cheep',\n",
       "       'Expensive', 'Cheep', 'ok', 'Cheep', 'Cheep', 'Cheep', 'Cheep',\n",
       "       'Expensive', 'Cheep', 'ok', 'Cheep', 'ok', 'ok', 'Cheep', 'ok',\n",
       "       'Expensive', 'Cheep', 'Cheep', 'ok', 'Expensive', 'Cheep', 'Cheep',\n",
       "       'ok', 'Cheep', 'ok', 'Cheep', 'Cheep', 'Cheep', 'Cheep', 'ok',\n",
       "       'Cheep', 'Cheep', 'Cheep', 'Cheep', 'ok', 'Cheep', 'Cheep',\n",
       "       'Expensive', 'ok', 'Cheep', 'Cheep', 'Cheep', 'ok', 'Cheep',\n",
       "       'Cheep', 'Cheep', 'Expensive', 'ok', 'Expensive', 'ok', 'Cheep',\n",
       "       'Cheep', 'Cheep', 'Cheep', 'ok', 'ok', 'Cheep', 'Cheep',\n",
       "       'Expensive', 'Cheep', 'Expensive', 'Cheep', 'Cheep', 'Cheep',\n",
       "       'Cheep', 'Cheep', 'Expensive', 'Expensive', 'ok', 'ok', 'ok',\n",
       "       'Expensive', 'Cheep', 'Cheep', 'ok', 'Expensive', 'Cheep', 'ok',\n",
       "       'Cheep', 'ok', 'ok', 'Cheep', 'Expensive', 'Cheep', 'Cheep',\n",
       "       'Expensive', 'Cheep', 'Cheep', 'Cheep', 'Expensive', 'Cheep',\n",
       "       'Cheep', 'ok', 'Cheep', 'Cheep', 'ok', 'Cheep', 'ok', 'ok',\n",
       "       'Expensive', 'Cheep', 'ok', 'Expensive', 'ok', 'ok', 'ok',\n",
       "       'Expensive', 'ok', 'ok', 'Cheep', 'ok', 'ok', 'Expensive', 'ok',\n",
       "       'Cheep', 'Cheep', 'Cheep', 'ok', 'ok', 'Expensive', 'Expensive',\n",
       "       'Cheep', 'Cheep', 'Cheep', 'Cheep', 'Cheep', 'Cheep', 'ok',\n",
       "       'Cheep', 'ok', 'Cheep', 'Cheep', 'Cheep', 'Expensive', 'ok',\n",
       "       'Cheep', 'Cheep', 'Cheep', 'Cheep', 'Expensive', 'Cheep', 'Cheep',\n",
       "       'ok', 'Expensive', 'ok', 'ok', 'Cheep', 'Expensive', 'Cheep',\n",
       "       'Expensive', 'Cheep', 'Cheep', 'Cheep', 'Expensive', 'Cheep',\n",
       "       'Cheep', 'ok', 'ok', 'ok', 'Cheep', 'Cheep', 'Expensive', 'ok',\n",
       "       'Cheep', 'ok', 'Cheep', 'ok', 'Cheep', 'Cheep', 'ok', 'ok',\n",
       "       'Expensive', 'ok', 'Cheep', 'Cheep', 'Cheep', 'Cheep', 'Expensive',\n",
       "       'Cheep', 'Cheep', 'ok', 'Cheep', 'Cheep', 'Expensive', 'Cheep',\n",
       "       'Cheep', 'Cheep', 'ok', 'Cheep', 'Expensive', 'Cheep', 'Cheep',\n",
       "       'ok', 'Cheep', 'ok', 'Cheep', 'ok', 'Cheep', 'Cheep', 'ok', 'ok',\n",
       "       'Cheep', 'Cheep', 'Expensive', 'ok', 'Expensive', 'Cheep',\n",
       "       'Expensive', 'Cheep', 'ok', 'Cheep', 'Cheep', 'Cheep', 'ok',\n",
       "       'Cheep', 'Cheep', 'Cheep', 'Expensive', 'Cheep', 'Cheep', 'Cheep',\n",
       "       'Expensive', 'Expensive', 'Cheep', 'ok', 'Cheep', 'Cheep',\n",
       "       'Expensive', 'Cheep', 'Cheep', 'Cheep', 'Expensive', 'ok',\n",
       "       'Expensive', 'Cheep', 'Cheep', 'Cheep', 'Cheep', 'Cheep', 'Cheep',\n",
       "       'ok', 'Expensive', 'Cheep', 'Expensive', 'Cheep', 'ok', 'ok', 'ok',\n",
       "       'ok', 'Cheep', 'Cheep', 'Expensive', 'Expensive', 'Cheep',\n",
       "       'Expensive', 'Cheep', 'ok', 'Cheep', 'Cheep', 'Cheep', 'Expensive',\n",
       "       'Cheep', 'Expensive', 'ok', 'Cheep', 'Cheep', 'Cheep', 'ok',\n",
       "       'Cheep', 'ok', 'Expensive', 'Cheep', 'ok', 'ok', 'Expensive',\n",
       "       'Cheep', 'Cheep', 'Cheep', 'Expensive', 'Cheep', 'Cheep', 'ok',\n",
       "       'Cheep', 'Cheep', 'Cheep', 'Expensive', 'Cheep', 'ok', 'Cheep',\n",
       "       'ok', 'Cheep', 'Expensive', 'Cheep', 'Cheep', 'Cheep', 'Cheep',\n",
       "       'Cheep', 'ok', 'Expensive', 'Cheep', 'Cheep', 'ok', 'Expensive',\n",
       "       'Expensive', 'Cheep', 'Cheep', 'Expensive', 'ok', 'Cheep',\n",
       "       'Expensive', 'Cheep', 'ok', 'Cheep', 'Cheep', 'Cheep', 'Expensive',\n",
       "       'Cheep', 'Cheep', 'Cheep', 'Cheep', 'Expensive', 'Cheep', 'Cheep',\n",
       "       'Cheep', 'Expensive', 'Cheep', 'Expensive', 'ok', 'Cheep', 'ok',\n",
       "       'Cheep', 'Cheep', 'Cheep', 'Cheep', 'Cheep', 'ok', 'Cheep',\n",
       "       'Cheep', 'Cheep', 'Cheep', 'Expensive', 'Cheep', 'Expensive', 'ok',\n",
       "       'ok', 'Cheep', 'Cheep', 'Cheep', 'ok', 'ok', 'Expensive', 'Cheep',\n",
       "       'ok', 'Expensive', 'ok', 'Cheep', 'Cheep', 'ok', 'Cheep', 'Cheep',\n",
       "       'ok', 'Cheep', 'ok', 'Expensive', 'Cheep', 'Cheep', 'Cheep',\n",
       "       'Cheep', 'Cheep', 'Cheep', 'Expensive', 'Cheep', 'ok', 'Cheep',\n",
       "       'ok', 'Cheep', 'Cheep', 'Cheep', 'ok', 'Cheep', 'ok', 'Expensive',\n",
       "       'Cheep', 'Cheep', 'Cheep', 'ok', 'Cheep', 'Expensive', 'ok',\n",
       "       'Cheep', 'Expensive', 'Cheep', 'Cheep', 'Cheep', 'Cheep', 'Cheep',\n",
       "       'Expensive', 'Cheep', 'Cheep', 'Expensive', 'ok', 'Cheep', 'Cheep',\n",
       "       'ok', 'Cheep', 'Cheep', 'Cheep', 'Expensive', 'Cheep', 'ok',\n",
       "       'Expensive', 'ok', 'Cheep', 'Cheep', 'ok', 'ok', 'Cheep',\n",
       "       'Expensive', 'ok', 'Cheep', 'Cheep', 'Cheep', 'Cheep', 'ok',\n",
       "       'Expensive', 'Cheep', 'Cheep', 'Cheep', 'Expensive', 'Cheep',\n",
       "       'Cheep', 'Cheep', 'Expensive', 'Cheep', 'Cheep', 'ok', 'Cheep',\n",
       "       'Cheep', 'Cheep', 'Cheep', 'Expensive', 'ok', 'Cheep', 'Cheep',\n",
       "       'Cheep', 'Cheep', 'ok', 'Cheep', 'ok', 'ok', 'ok', 'Cheep'],\n",
       "      dtype='<U9')"
      ]
     },
     "execution_count": 88,
     "metadata": {},
     "output_type": "execute_result"
    }
   ],
   "source": [
    "conditions = [df['Fare'] >50, df['Fare'] <20]\n",
    "outcomes = ['Expensive', 'Cheep']\n",
    "np.select (conditions, outcomes, 'ok')\n"
   ]
  },
  {
   "cell_type": "code",
   "execution_count": 89,
   "id": "968a9f33",
   "metadata": {},
   "outputs": [
    {
     "name": "stdout",
     "output_type": "stream",
     "text": [
      "<class 'pandas.core.frame.DataFrame'>\n",
      "RangeIndex: 887 entries, 0 to 886\n",
      "Data columns (total 8 columns):\n",
      " #   Column                   Non-Null Count  Dtype  \n",
      "---  ------                   --------------  -----  \n",
      " 0   Survived                 887 non-null    int64  \n",
      " 1   Pclass                   887 non-null    int64  \n",
      " 2   Name                     887 non-null    object \n",
      " 3   Sex                      887 non-null    object \n",
      " 4   Age                      887 non-null    float64\n",
      " 5   Siblings/Spouses Aboard  887 non-null    int64  \n",
      " 6   Parents/Children Aboard  887 non-null    int64  \n",
      " 7   Fare                     887 non-null    float64\n",
      "dtypes: float64(2), int64(4), object(2)\n",
      "memory usage: 55.6+ KB\n"
     ]
    }
   ],
   "source": [
    "df.info()"
   ]
  },
  {
   "cell_type": "code",
   "execution_count": 94,
   "id": "d273725f",
   "metadata": {},
   "outputs": [],
   "source": [
    "df1 = df[['Name', 'Sex', 'Fare', 'Age']]"
   ]
  },
  {
   "cell_type": "code",
   "execution_count": 95,
   "id": "9fa8d378",
   "metadata": {},
   "outputs": [
    {
     "data": {
      "text/html": [
       "<div>\n",
       "<style scoped>\n",
       "    .dataframe tbody tr th:only-of-type {\n",
       "        vertical-align: middle;\n",
       "    }\n",
       "\n",
       "    .dataframe tbody tr th {\n",
       "        vertical-align: top;\n",
       "    }\n",
       "\n",
       "    .dataframe thead th {\n",
       "        text-align: right;\n",
       "    }\n",
       "</style>\n",
       "<table border=\"1\" class=\"dataframe\">\n",
       "  <thead>\n",
       "    <tr style=\"text-align: right;\">\n",
       "      <th></th>\n",
       "      <th>Name</th>\n",
       "      <th>Sex</th>\n",
       "      <th>Fare</th>\n",
       "      <th>Age</th>\n",
       "    </tr>\n",
       "  </thead>\n",
       "  <tbody>\n",
       "    <tr>\n",
       "      <th>0</th>\n",
       "      <td>Mr. Owen Harris Braund</td>\n",
       "      <td>male</td>\n",
       "      <td>7.2500</td>\n",
       "      <td>22.0</td>\n",
       "    </tr>\n",
       "    <tr>\n",
       "      <th>1</th>\n",
       "      <td>Mrs. John Bradley (Florence Briggs Thayer) Cum...</td>\n",
       "      <td>female</td>\n",
       "      <td>71.2833</td>\n",
       "      <td>38.0</td>\n",
       "    </tr>\n",
       "    <tr>\n",
       "      <th>2</th>\n",
       "      <td>Miss. Laina Heikkinen</td>\n",
       "      <td>female</td>\n",
       "      <td>7.9250</td>\n",
       "      <td>26.0</td>\n",
       "    </tr>\n",
       "    <tr>\n",
       "      <th>3</th>\n",
       "      <td>Mrs. Jacques Heath (Lily May Peel) Futrelle</td>\n",
       "      <td>female</td>\n",
       "      <td>53.1000</td>\n",
       "      <td>35.0</td>\n",
       "    </tr>\n",
       "    <tr>\n",
       "      <th>4</th>\n",
       "      <td>Mr. William Henry Allen</td>\n",
       "      <td>male</td>\n",
       "      <td>8.0500</td>\n",
       "      <td>35.0</td>\n",
       "    </tr>\n",
       "    <tr>\n",
       "      <th>...</th>\n",
       "      <td>...</td>\n",
       "      <td>...</td>\n",
       "      <td>...</td>\n",
       "      <td>...</td>\n",
       "    </tr>\n",
       "    <tr>\n",
       "      <th>882</th>\n",
       "      <td>Rev. Juozas Montvila</td>\n",
       "      <td>male</td>\n",
       "      <td>13.0000</td>\n",
       "      <td>27.0</td>\n",
       "    </tr>\n",
       "    <tr>\n",
       "      <th>883</th>\n",
       "      <td>Miss. Margaret Edith Graham</td>\n",
       "      <td>female</td>\n",
       "      <td>30.0000</td>\n",
       "      <td>19.0</td>\n",
       "    </tr>\n",
       "    <tr>\n",
       "      <th>884</th>\n",
       "      <td>Miss. Catherine Helen Johnston</td>\n",
       "      <td>female</td>\n",
       "      <td>23.4500</td>\n",
       "      <td>7.0</td>\n",
       "    </tr>\n",
       "    <tr>\n",
       "      <th>885</th>\n",
       "      <td>Mr. Karl Howell Behr</td>\n",
       "      <td>male</td>\n",
       "      <td>30.0000</td>\n",
       "      <td>26.0</td>\n",
       "    </tr>\n",
       "    <tr>\n",
       "      <th>886</th>\n",
       "      <td>Mr. Patrick Dooley</td>\n",
       "      <td>male</td>\n",
       "      <td>7.7500</td>\n",
       "      <td>32.0</td>\n",
       "    </tr>\n",
       "  </tbody>\n",
       "</table>\n",
       "<p>887 rows × 4 columns</p>\n",
       "</div>"
      ],
      "text/plain": [
       "                                                  Name     Sex     Fare   Age\n",
       "0                               Mr. Owen Harris Braund    male   7.2500  22.0\n",
       "1    Mrs. John Bradley (Florence Briggs Thayer) Cum...  female  71.2833  38.0\n",
       "2                                Miss. Laina Heikkinen  female   7.9250  26.0\n",
       "3          Mrs. Jacques Heath (Lily May Peel) Futrelle  female  53.1000  35.0\n",
       "4                              Mr. William Henry Allen    male   8.0500  35.0\n",
       "..                                                 ...     ...      ...   ...\n",
       "882                               Rev. Juozas Montvila    male  13.0000  27.0\n",
       "883                        Miss. Margaret Edith Graham  female  30.0000  19.0\n",
       "884                     Miss. Catherine Helen Johnston  female  23.4500   7.0\n",
       "885                               Mr. Karl Howell Behr    male  30.0000  26.0\n",
       "886                                 Mr. Patrick Dooley    male   7.7500  32.0\n",
       "\n",
       "[887 rows x 4 columns]"
      ]
     },
     "execution_count": 95,
     "metadata": {},
     "output_type": "execute_result"
    }
   ],
   "source": [
    "df1"
   ]
  },
  {
   "cell_type": "code",
   "execution_count": 99,
   "id": "422f1b5d",
   "metadata": {},
   "outputs": [
    {
     "data": {
      "text/html": [
       "<div>\n",
       "<style scoped>\n",
       "    .dataframe tbody tr th:only-of-type {\n",
       "        vertical-align: middle;\n",
       "    }\n",
       "\n",
       "    .dataframe tbody tr th {\n",
       "        vertical-align: top;\n",
       "    }\n",
       "\n",
       "    .dataframe thead th {\n",
       "        text-align: right;\n",
       "    }\n",
       "</style>\n",
       "<table border=\"1\" class=\"dataframe\">\n",
       "  <thead>\n",
       "    <tr style=\"text-align: right;\">\n",
       "      <th></th>\n",
       "      <th>Name</th>\n",
       "      <th>Sex</th>\n",
       "      <th>Fare</th>\n",
       "      <th>Age</th>\n",
       "      <th>0</th>\n",
       "    </tr>\n",
       "  </thead>\n",
       "  <tbody>\n",
       "    <tr>\n",
       "      <th>0</th>\n",
       "      <td>Mr. Owen Harris Braund</td>\n",
       "      <td>male</td>\n",
       "      <td>7.2500</td>\n",
       "      <td>22.0</td>\n",
       "      <td>Cheep</td>\n",
       "    </tr>\n",
       "    <tr>\n",
       "      <th>1</th>\n",
       "      <td>Mrs. John Bradley (Florence Briggs Thayer) Cum...</td>\n",
       "      <td>female</td>\n",
       "      <td>71.2833</td>\n",
       "      <td>38.0</td>\n",
       "      <td>Expensive</td>\n",
       "    </tr>\n",
       "    <tr>\n",
       "      <th>2</th>\n",
       "      <td>Miss. Laina Heikkinen</td>\n",
       "      <td>female</td>\n",
       "      <td>7.9250</td>\n",
       "      <td>26.0</td>\n",
       "      <td>Cheep</td>\n",
       "    </tr>\n",
       "    <tr>\n",
       "      <th>3</th>\n",
       "      <td>Mrs. Jacques Heath (Lily May Peel) Futrelle</td>\n",
       "      <td>female</td>\n",
       "      <td>53.1000</td>\n",
       "      <td>35.0</td>\n",
       "      <td>Expensive</td>\n",
       "    </tr>\n",
       "    <tr>\n",
       "      <th>4</th>\n",
       "      <td>Mr. William Henry Allen</td>\n",
       "      <td>male</td>\n",
       "      <td>8.0500</td>\n",
       "      <td>35.0</td>\n",
       "      <td>Cheep</td>\n",
       "    </tr>\n",
       "    <tr>\n",
       "      <th>5</th>\n",
       "      <td>Mr. James Moran</td>\n",
       "      <td>male</td>\n",
       "      <td>8.4583</td>\n",
       "      <td>27.0</td>\n",
       "      <td>Cheep</td>\n",
       "    </tr>\n",
       "    <tr>\n",
       "      <th>6</th>\n",
       "      <td>Mr. Timothy J McCarthy</td>\n",
       "      <td>male</td>\n",
       "      <td>51.8625</td>\n",
       "      <td>54.0</td>\n",
       "      <td>Expensive</td>\n",
       "    </tr>\n",
       "    <tr>\n",
       "      <th>7</th>\n",
       "      <td>Master. Gosta Leonard Palsson</td>\n",
       "      <td>male</td>\n",
       "      <td>21.0750</td>\n",
       "      <td>2.0</td>\n",
       "      <td>ok</td>\n",
       "    </tr>\n",
       "    <tr>\n",
       "      <th>8</th>\n",
       "      <td>Mrs. Oscar W (Elisabeth Vilhelmina Berg) Johnson</td>\n",
       "      <td>female</td>\n",
       "      <td>11.1333</td>\n",
       "      <td>27.0</td>\n",
       "      <td>Cheep</td>\n",
       "    </tr>\n",
       "    <tr>\n",
       "      <th>9</th>\n",
       "      <td>Mrs. Nicholas (Adele Achem) Nasser</td>\n",
       "      <td>female</td>\n",
       "      <td>30.0708</td>\n",
       "      <td>14.0</td>\n",
       "      <td>ok</td>\n",
       "    </tr>\n",
       "  </tbody>\n",
       "</table>\n",
       "</div>"
      ],
      "text/plain": [
       "                                                Name     Sex     Fare   Age  \\\n",
       "0                             Mr. Owen Harris Braund    male   7.2500  22.0   \n",
       "1  Mrs. John Bradley (Florence Briggs Thayer) Cum...  female  71.2833  38.0   \n",
       "2                              Miss. Laina Heikkinen  female   7.9250  26.0   \n",
       "3        Mrs. Jacques Heath (Lily May Peel) Futrelle  female  53.1000  35.0   \n",
       "4                            Mr. William Henry Allen    male   8.0500  35.0   \n",
       "5                                    Mr. James Moran    male   8.4583  27.0   \n",
       "6                             Mr. Timothy J McCarthy    male  51.8625  54.0   \n",
       "7                      Master. Gosta Leonard Palsson    male  21.0750   2.0   \n",
       "8   Mrs. Oscar W (Elisabeth Vilhelmina Berg) Johnson  female  11.1333  27.0   \n",
       "9                 Mrs. Nicholas (Adele Achem) Nasser  female  30.0708  14.0   \n",
       "\n",
       "           0  \n",
       "0      Cheep  \n",
       "1  Expensive  \n",
       "2      Cheep  \n",
       "3  Expensive  \n",
       "4      Cheep  \n",
       "5      Cheep  \n",
       "6  Expensive  \n",
       "7         ok  \n",
       "8      Cheep  \n",
       "9         ok  "
      ]
     },
     "execution_count": 99,
     "metadata": {},
     "output_type": "execute_result"
    }
   ],
   "source": [
    "pd.concat ([df1, pd.Series(np.select (conditions, outcomes, 'ok'))], axis =1).head(10)"
   ]
  },
  {
   "cell_type": "code",
   "execution_count": 98,
   "id": "473a7d91",
   "metadata": {},
   "outputs": [
    {
     "ename": "SyntaxError",
     "evalue": "invalid syntax (542191708.py, line 2)",
     "output_type": "error",
     "traceback": [
      "\u001b[1;36m  File \u001b[1;32m\"C:\\Users\\AiFTW\\AppData\\Local\\Temp\\ipykernel_9736\\542191708.py\"\u001b[1;36m, line \u001b[1;32m2\u001b[0m\n\u001b[1;33m    pd.concat ([df1, s1], axis =1.head(10)\u001b[0m\n\u001b[1;37m                                     ^\u001b[0m\n\u001b[1;31mSyntaxError\u001b[0m\u001b[1;31m:\u001b[0m invalid syntax\n"
     ]
    }
   ],
   "source": [
    "s1 = pd.Series(np.select (conditions, outcomes, 'ok'))\n",
    "pd.concat ([df1, s1], axis =1)"
   ]
  },
  {
   "cell_type": "code",
   "execution_count": 100,
   "id": "e8c2cb14",
   "metadata": {},
   "outputs": [
    {
     "data": {
      "text/plain": [
       "0      False\n",
       "1      False\n",
       "2      False\n",
       "3      False\n",
       "4      False\n",
       "       ...  \n",
       "882    False\n",
       "883    False\n",
       "884     True\n",
       "885    False\n",
       "886    False\n",
       "Name: Age, Length: 887, dtype: bool"
      ]
     },
     "execution_count": 100,
     "metadata": {},
     "output_type": "execute_result"
    }
   ],
   "source": [
    "df1['Age'].between(0,15)"
   ]
  },
  {
   "cell_type": "code",
   "execution_count": null,
   "id": "647b296a",
   "metadata": {},
   "outputs": [],
   "source": []
  },
  {
   "cell_type": "code",
   "execution_count": null,
   "id": "803faa6a",
   "metadata": {},
   "outputs": [],
   "source": []
  },
  {
   "cell_type": "code",
   "execution_count": 101,
   "id": "602a3881",
   "metadata": {},
   "outputs": [
    {
     "data": {
      "text/plain": [
       "array(['adult', 'old', 'adult', 'old', 'old', 'adult', 'old', 'child',\n",
       "       'adult', 'child', 'child', 'old', 'adult', 'old', 'child', 'old',\n",
       "       'child', 'adult', 'old', 'adult', 'old', 'old', 'child', 'adult',\n",
       "       'child', 'old', 'adult', 'adult', 'adult', 'adult', 'old', 'old',\n",
       "       'adult', 'old', 'adult', 'old', 'adult', 'adult', 'adult', 'child',\n",
       "       'old', 'adult', 'child', 'adult', 'adult', 'adult', 'adult',\n",
       "       'adult', 'adult', 'child', 'adult', 'old', 'adult', 'old', 'old',\n",
       "       'adult', 'adult', 'child', 'child', 'adult', 'old', 'old', 'child',\n",
       "       'old', 'child', 'adult', 'adult', 'adult', 'adult', 'old', 'adult',\n",
       "       'adult', 'adult', 'old', 'adult', 'adult', 'adult', 'child',\n",
       "       'adult', 'adult', 'adult', 'old', 'adult', 'adult', 'old', 'adult',\n",
       "       'adult', 'adult', 'adult', 'adult', 'adult', 'old', 'adult', 'old',\n",
       "       'adult', 'old', 'adult', 'old', 'old', 'adult', 'adult', 'adult',\n",
       "       'old', 'old', 'adult', 'adult', 'adult', 'old', 'adult', 'old',\n",
       "       'child', 'adult', 'adult', 'adult', 'adult', 'old', 'adult',\n",
       "       'adult', 'child', 'adult', 'adult', 'old', 'old', 'old', 'child',\n",
       "       'adult', 'adult', 'child', 'old', 'old', 'adult', 'old', 'adult',\n",
       "       'adult', 'adult', 'adult', 'old', 'adult', 'adult', 'old', 'adult',\n",
       "       'adult', 'adult', 'adult', 'adult', 'adult', 'child', 'old', 'old',\n",
       "       'old', 'adult', 'old', 'old', 'adult', 'old', 'adult', 'adult',\n",
       "       'old', 'child', 'old', 'old', 'adult', 'adult', 'child', 'child',\n",
       "       'old', 'old', 'old', 'adult', 'old', 'child', 'child', 'adult',\n",
       "       'old', 'adult', 'child', 'old', 'adult', 'old', 'child', 'old',\n",
       "       'child', 'child', 'child', 'old', 'adult', 'old', 'old', 'old',\n",
       "       'old', 'adult', 'adult', 'child', 'old', 'old', 'adult', 'old',\n",
       "       'adult', 'adult', 'adult', 'adult', 'old', 'old', 'adult', 'child',\n",
       "       'old', 'adult', 'adult', 'old', 'adult', 'old', 'adult', 'adult',\n",
       "       'adult', 'old', 'adult', 'old', 'old', 'adult', 'adult', 'adult',\n",
       "       'old', 'adult', 'old', 'adult', 'adult', 'adult', 'adult', 'child',\n",
       "       'old', 'adult', 'old', 'child', 'adult', 'adult', 'old', 'child',\n",
       "       'adult', 'old', 'adult', 'adult', 'adult', 'adult', 'adult', 'old',\n",
       "       'adult', 'adult', 'old', 'old', 'adult', 'adult', 'old', 'adult',\n",
       "       'old', 'adult', 'old', 'adult', 'old', 'old', 'child', 'old',\n",
       "       'old', 'adult', 'old', 'adult', 'adult', 'old', 'old', 'adult',\n",
       "       'adult', 'old', 'old', 'old', 'old', 'old', 'adult', 'child',\n",
       "       'old', 'old', 'adult', 'adult', 'adult', 'old', 'old', 'adult',\n",
       "       'adult', 'old', 'adult', 'adult', 'adult', 'old', 'adult', 'adult',\n",
       "       'adult', 'adult', 'child', 'old', 'old', 'adult', 'adult', 'adult',\n",
       "       'old', 'adult', 'child', 'old', 'adult', 'adult', 'adult', 'adult',\n",
       "       'adult', 'adult', 'adult', 'old', 'adult', 'adult', 'old', 'old',\n",
       "       'old', 'adult', 'adult', 'adult', 'adult', 'adult', 'old', 'old',\n",
       "       'old', 'old', 'adult', 'adult', 'old', 'old', 'adult', 'old',\n",
       "       'adult', 'adult', 'old', 'old', 'old', 'child', 'adult', 'adult',\n",
       "       'adult', 'old', 'adult', 'old', 'old', 'child', 'old', 'adult',\n",
       "       'old', 'child', 'adult', 'adult', 'adult', 'adult', 'old', 'adult',\n",
       "       'adult', 'old', 'adult', 'old', 'old', 'adult', 'adult', 'old',\n",
       "       'old', 'adult', 'adult', 'adult', 'adult', 'adult', 'adult',\n",
       "       'child', 'adult', 'adult', 'adult', 'adult', 'adult', 'old',\n",
       "       'child', 'old', 'old', 'adult', 'adult', 'child', 'old', 'adult',\n",
       "       'adult', 'old', 'adult', 'adult', 'adult', 'adult', 'adult', 'old',\n",
       "       'old', 'adult', 'adult', 'old', 'adult', 'adult', 'adult', 'adult',\n",
       "       'old', 'old', 'child', 'adult', 'child', 'old', 'adult', 'old',\n",
       "       'adult', 'old', 'old', 'old', 'adult', 'adult', 'child', 'adult',\n",
       "       'adult', 'adult', 'adult', 'old', 'adult', 'adult', 'adult', 'old',\n",
       "       'adult', 'old', 'old', 'adult', 'old', 'child', 'adult', 'adult',\n",
       "       'old', 'old', 'old', 'adult', 'adult', 'adult', 'adult', 'child',\n",
       "       'child', 'old', 'child', 'old', 'old', 'adult', 'adult', 'old',\n",
       "       'adult', 'adult', 'old', 'old', 'old', 'adult', 'old', 'old',\n",
       "       'old', 'old', 'old', 'old', 'adult', 'old', 'adult', 'child',\n",
       "       'old', 'old', 'old', 'adult', 'adult', 'old', 'old', 'adult',\n",
       "       'adult', 'child', 'child', 'old', 'old', 'old', 'adult', 'child',\n",
       "       'old', 'old', 'adult', 'child', 'adult', 'adult', 'old', 'old',\n",
       "       'adult', 'adult', 'old', 'old', 'adult', 'adult', 'adult', 'adult',\n",
       "       'adult', 'old', 'adult', 'adult', 'old', 'old', 'adult', 'adult',\n",
       "       'adult', 'old', 'old', 'old', 'adult', 'old', 'old', 'adult',\n",
       "       'old', 'old', 'adult', 'adult', 'old', 'old', 'adult', 'old',\n",
       "       'old', 'old', 'old', 'adult', 'child', 'adult', 'adult', 'adult',\n",
       "       'adult', 'child', 'old', 'adult', 'old', 'adult', 'old', 'child',\n",
       "       'child', 'old', 'old', 'old', 'adult', 'adult', 'old', 'child',\n",
       "       'adult', 'adult', 'adult', 'adult', 'adult', 'old', 'old', 'old',\n",
       "       'old', 'old', 'adult', 'old', 'adult', 'old', 'old', 'adult',\n",
       "       'adult', 'adult', 'adult', 'old', 'old', 'old', 'old', 'adult',\n",
       "       'adult', 'adult', 'old', 'old', 'adult', 'old', 'adult', 'old',\n",
       "       'old', 'old', 'adult', 'adult', 'old', 'old', 'adult', 'adult',\n",
       "       'old', 'old', 'old', 'old', 'old', 'old', 'old', 'old', 'adult',\n",
       "       'old', 'adult', 'old', 'old', 'old', 'old', 'old', 'adult',\n",
       "       'adult', 'adult', 'old', 'old', 'adult', 'adult', 'adult', 'old',\n",
       "       'adult', 'old', 'adult', 'child', 'adult', 'adult', 'old', 'adult',\n",
       "       'adult', 'adult', 'old', 'old', 'adult', 'adult', 'adult', 'old',\n",
       "       'old', 'old', 'adult', 'child', 'adult', 'old', 'old', 'old',\n",
       "       'old', 'adult', 'adult', 'child', 'old', 'child', 'old', 'adult',\n",
       "       'old', 'adult', 'adult', 'adult', 'adult', 'adult', 'adult',\n",
       "       'adult', 'adult', 'adult', 'old', 'adult', 'old', 'old', 'old',\n",
       "       'old', 'old', 'adult', 'old', 'adult', 'old', 'old', 'old', 'old',\n",
       "       'old', 'old', 'old', 'adult', 'adult', 'adult', 'adult', 'old',\n",
       "       'old', 'adult', 'adult', 'adult', 'child', 'old', 'adult', 'child',\n",
       "       'adult', 'adult', 'child', 'old', 'child', 'old', 'adult', 'old',\n",
       "       'old', 'old', 'adult', 'old', 'old', 'adult', 'old', 'adult',\n",
       "       'adult', 'adult', 'old', 'old', 'old', 'adult', 'child', 'adult',\n",
       "       'old', 'old', 'adult', 'old', 'adult', 'old', 'adult', 'old',\n",
       "       'child', 'adult', 'old', 'old', 'adult', 'adult', 'adult', 'adult',\n",
       "       'adult', 'adult', 'adult', 'child', 'old', 'adult', 'adult',\n",
       "       'adult', 'old', 'old', 'adult', 'old', 'old', 'old', 'adult',\n",
       "       'adult', 'old', 'old', 'adult', 'adult', 'adult', 'old', 'child',\n",
       "       'child', 'old', 'adult', 'old', 'child', 'adult', 'adult', 'old',\n",
       "       'old', 'adult', 'old', 'adult', 'old', 'adult', 'old', 'old',\n",
       "       'old', 'adult', 'old', 'adult', 'old', 'old', 'adult', 'old',\n",
       "       'adult', 'adult', 'child', 'adult', 'old', 'child', 'adult',\n",
       "       'adult', 'old', 'adult', 'adult', 'adult', 'child', 'child', 'old',\n",
       "       'adult', 'adult', 'adult', 'old', 'adult', 'old', 'old', 'old',\n",
       "       'adult', 'adult', 'old', 'old', 'child', 'child', 'adult', 'old',\n",
       "       'old', 'adult', 'old', 'old', 'adult', 'old', 'old', 'child',\n",
       "       'old', 'old', 'adult', 'old', 'old', 'child', 'old', 'adult',\n",
       "       'old', 'adult', 'child', 'old', 'adult', 'child', 'adult', 'old',\n",
       "       'child', 'child', 'adult', 'adult', 'adult', 'old', 'adult',\n",
       "       'adult', 'old', 'adult', 'adult', 'adult', 'adult', 'old', 'adult',\n",
       "       'old', 'adult', 'old', 'adult', 'old', 'child', 'old', 'child',\n",
       "       'adult', 'old', 'adult', 'old', 'old', 'adult', 'adult', 'old',\n",
       "       'adult', 'old', 'child', 'adult', 'old', 'adult', 'old', 'adult',\n",
       "       'child', 'adult', 'old', 'old', 'old', 'adult', 'child', 'adult',\n",
       "       'adult', 'adult', 'old', 'adult', 'old', 'adult', 'adult', 'adult',\n",
       "       'old', 'adult', 'adult', 'child', 'adult', 'old'], dtype='<U5')"
      ]
     },
     "execution_count": 101,
     "metadata": {},
     "output_type": "execute_result"
    }
   ],
   "source": [
    "conditions = [df1['Age'].between(0,15),df1['Age'].between(16,30) ]\n",
    "outcomes = ['child', 'adult']\n",
    "np.select (conditions, outcomes, 'old')\n"
   ]
  },
  {
   "cell_type": "code",
   "execution_count": 102,
   "id": "7cff1956",
   "metadata": {},
   "outputs": [],
   "source": [
    "s2 = pd.Series(np.select (conditions, outcomes, 'old'))"
   ]
  },
  {
   "cell_type": "code",
   "execution_count": 104,
   "id": "ef0cee3f",
   "metadata": {},
   "outputs": [
    {
     "data": {
      "text/html": [
       "<div>\n",
       "<style scoped>\n",
       "    .dataframe tbody tr th:only-of-type {\n",
       "        vertical-align: middle;\n",
       "    }\n",
       "\n",
       "    .dataframe tbody tr th {\n",
       "        vertical-align: top;\n",
       "    }\n",
       "\n",
       "    .dataframe thead th {\n",
       "        text-align: right;\n",
       "    }\n",
       "</style>\n",
       "<table border=\"1\" class=\"dataframe\">\n",
       "  <thead>\n",
       "    <tr style=\"text-align: right;\">\n",
       "      <th></th>\n",
       "      <th>Name</th>\n",
       "      <th>Sex</th>\n",
       "      <th>Fare</th>\n",
       "      <th>Age</th>\n",
       "      <th>0</th>\n",
       "    </tr>\n",
       "  </thead>\n",
       "  <tbody>\n",
       "    <tr>\n",
       "      <th>0</th>\n",
       "      <td>Mr. Owen Harris Braund</td>\n",
       "      <td>male</td>\n",
       "      <td>7.2500</td>\n",
       "      <td>22.0</td>\n",
       "      <td>adult</td>\n",
       "    </tr>\n",
       "    <tr>\n",
       "      <th>1</th>\n",
       "      <td>Mrs. John Bradley (Florence Briggs Thayer) Cum...</td>\n",
       "      <td>female</td>\n",
       "      <td>71.2833</td>\n",
       "      <td>38.0</td>\n",
       "      <td>old</td>\n",
       "    </tr>\n",
       "    <tr>\n",
       "      <th>2</th>\n",
       "      <td>Miss. Laina Heikkinen</td>\n",
       "      <td>female</td>\n",
       "      <td>7.9250</td>\n",
       "      <td>26.0</td>\n",
       "      <td>adult</td>\n",
       "    </tr>\n",
       "    <tr>\n",
       "      <th>3</th>\n",
       "      <td>Mrs. Jacques Heath (Lily May Peel) Futrelle</td>\n",
       "      <td>female</td>\n",
       "      <td>53.1000</td>\n",
       "      <td>35.0</td>\n",
       "      <td>old</td>\n",
       "    </tr>\n",
       "    <tr>\n",
       "      <th>4</th>\n",
       "      <td>Mr. William Henry Allen</td>\n",
       "      <td>male</td>\n",
       "      <td>8.0500</td>\n",
       "      <td>35.0</td>\n",
       "      <td>old</td>\n",
       "    </tr>\n",
       "    <tr>\n",
       "      <th>5</th>\n",
       "      <td>Mr. James Moran</td>\n",
       "      <td>male</td>\n",
       "      <td>8.4583</td>\n",
       "      <td>27.0</td>\n",
       "      <td>adult</td>\n",
       "    </tr>\n",
       "    <tr>\n",
       "      <th>6</th>\n",
       "      <td>Mr. Timothy J McCarthy</td>\n",
       "      <td>male</td>\n",
       "      <td>51.8625</td>\n",
       "      <td>54.0</td>\n",
       "      <td>old</td>\n",
       "    </tr>\n",
       "    <tr>\n",
       "      <th>7</th>\n",
       "      <td>Master. Gosta Leonard Palsson</td>\n",
       "      <td>male</td>\n",
       "      <td>21.0750</td>\n",
       "      <td>2.0</td>\n",
       "      <td>child</td>\n",
       "    </tr>\n",
       "    <tr>\n",
       "      <th>8</th>\n",
       "      <td>Mrs. Oscar W (Elisabeth Vilhelmina Berg) Johnson</td>\n",
       "      <td>female</td>\n",
       "      <td>11.1333</td>\n",
       "      <td>27.0</td>\n",
       "      <td>adult</td>\n",
       "    </tr>\n",
       "    <tr>\n",
       "      <th>9</th>\n",
       "      <td>Mrs. Nicholas (Adele Achem) Nasser</td>\n",
       "      <td>female</td>\n",
       "      <td>30.0708</td>\n",
       "      <td>14.0</td>\n",
       "      <td>child</td>\n",
       "    </tr>\n",
       "  </tbody>\n",
       "</table>\n",
       "</div>"
      ],
      "text/plain": [
       "                                                Name     Sex     Fare   Age  \\\n",
       "0                             Mr. Owen Harris Braund    male   7.2500  22.0   \n",
       "1  Mrs. John Bradley (Florence Briggs Thayer) Cum...  female  71.2833  38.0   \n",
       "2                              Miss. Laina Heikkinen  female   7.9250  26.0   \n",
       "3        Mrs. Jacques Heath (Lily May Peel) Futrelle  female  53.1000  35.0   \n",
       "4                            Mr. William Henry Allen    male   8.0500  35.0   \n",
       "5                                    Mr. James Moran    male   8.4583  27.0   \n",
       "6                             Mr. Timothy J McCarthy    male  51.8625  54.0   \n",
       "7                      Master. Gosta Leonard Palsson    male  21.0750   2.0   \n",
       "8   Mrs. Oscar W (Elisabeth Vilhelmina Berg) Johnson  female  11.1333  27.0   \n",
       "9                 Mrs. Nicholas (Adele Achem) Nasser  female  30.0708  14.0   \n",
       "\n",
       "       0  \n",
       "0  adult  \n",
       "1    old  \n",
       "2  adult  \n",
       "3    old  \n",
       "4    old  \n",
       "5  adult  \n",
       "6    old  \n",
       "7  child  \n",
       "8  adult  \n",
       "9  child  "
      ]
     },
     "execution_count": 104,
     "metadata": {},
     "output_type": "execute_result"
    }
   ],
   "source": [
    "pd.concat([df1,s2],axis =1).head(10)"
   ]
  },
  {
   "cell_type": "code",
   "execution_count": 107,
   "id": "829ebc6d",
   "metadata": {},
   "outputs": [
    {
     "data": {
      "text/html": [
       "<div>\n",
       "<style scoped>\n",
       "    .dataframe tbody tr th:only-of-type {\n",
       "        vertical-align: middle;\n",
       "    }\n",
       "\n",
       "    .dataframe tbody tr th {\n",
       "        vertical-align: top;\n",
       "    }\n",
       "\n",
       "    .dataframe thead th {\n",
       "        text-align: right;\n",
       "    }\n",
       "</style>\n",
       "<table border=\"1\" class=\"dataframe\">\n",
       "  <thead>\n",
       "    <tr style=\"text-align: right;\">\n",
       "      <th></th>\n",
       "      <th>Name</th>\n",
       "      <th>Sex</th>\n",
       "      <th>Fare</th>\n",
       "      <th>Age</th>\n",
       "      <th>0</th>\n",
       "    </tr>\n",
       "  </thead>\n",
       "  <tbody>\n",
       "    <tr>\n",
       "      <th>0</th>\n",
       "      <td>Mr. Owen Harris Braund</td>\n",
       "      <td>male</td>\n",
       "      <td>7.2500</td>\n",
       "      <td>22.0</td>\n",
       "      <td>adult</td>\n",
       "    </tr>\n",
       "    <tr>\n",
       "      <th>1</th>\n",
       "      <td>Mrs. John Bradley (Florence Briggs Thayer) Cum...</td>\n",
       "      <td>female</td>\n",
       "      <td>71.2833</td>\n",
       "      <td>38.0</td>\n",
       "      <td>old</td>\n",
       "    </tr>\n",
       "    <tr>\n",
       "      <th>2</th>\n",
       "      <td>Miss. Laina Heikkinen</td>\n",
       "      <td>female</td>\n",
       "      <td>7.9250</td>\n",
       "      <td>26.0</td>\n",
       "      <td>adult</td>\n",
       "    </tr>\n",
       "    <tr>\n",
       "      <th>3</th>\n",
       "      <td>Mrs. Jacques Heath (Lily May Peel) Futrelle</td>\n",
       "      <td>female</td>\n",
       "      <td>53.1000</td>\n",
       "      <td>35.0</td>\n",
       "      <td>old</td>\n",
       "    </tr>\n",
       "    <tr>\n",
       "      <th>4</th>\n",
       "      <td>Mr. William Henry Allen</td>\n",
       "      <td>male</td>\n",
       "      <td>8.0500</td>\n",
       "      <td>35.0</td>\n",
       "      <td>old</td>\n",
       "    </tr>\n",
       "    <tr>\n",
       "      <th>5</th>\n",
       "      <td>Mr. James Moran</td>\n",
       "      <td>male</td>\n",
       "      <td>8.4583</td>\n",
       "      <td>27.0</td>\n",
       "      <td>adult</td>\n",
       "    </tr>\n",
       "    <tr>\n",
       "      <th>6</th>\n",
       "      <td>Mr. Timothy J McCarthy</td>\n",
       "      <td>male</td>\n",
       "      <td>51.8625</td>\n",
       "      <td>54.0</td>\n",
       "      <td>old</td>\n",
       "    </tr>\n",
       "    <tr>\n",
       "      <th>7</th>\n",
       "      <td>Master. Gosta Leonard Palsson</td>\n",
       "      <td>male</td>\n",
       "      <td>21.0750</td>\n",
       "      <td>2.0</td>\n",
       "      <td>child</td>\n",
       "    </tr>\n",
       "    <tr>\n",
       "      <th>8</th>\n",
       "      <td>Mrs. Oscar W (Elisabeth Vilhelmina Berg) Johnson</td>\n",
       "      <td>female</td>\n",
       "      <td>11.1333</td>\n",
       "      <td>27.0</td>\n",
       "      <td>adult</td>\n",
       "    </tr>\n",
       "    <tr>\n",
       "      <th>9</th>\n",
       "      <td>Mrs. Nicholas (Adele Achem) Nasser</td>\n",
       "      <td>female</td>\n",
       "      <td>30.0708</td>\n",
       "      <td>14.0</td>\n",
       "      <td>child</td>\n",
       "    </tr>\n",
       "  </tbody>\n",
       "</table>\n",
       "</div>"
      ],
      "text/plain": [
       "                                                Name     Sex     Fare   Age  \\\n",
       "0                             Mr. Owen Harris Braund    male   7.2500  22.0   \n",
       "1  Mrs. John Bradley (Florence Briggs Thayer) Cum...  female  71.2833  38.0   \n",
       "2                              Miss. Laina Heikkinen  female   7.9250  26.0   \n",
       "3        Mrs. Jacques Heath (Lily May Peel) Futrelle  female  53.1000  35.0   \n",
       "4                            Mr. William Henry Allen    male   8.0500  35.0   \n",
       "5                                    Mr. James Moran    male   8.4583  27.0   \n",
       "6                             Mr. Timothy J McCarthy    male  51.8625  54.0   \n",
       "7                      Master. Gosta Leonard Palsson    male  21.0750   2.0   \n",
       "8   Mrs. Oscar W (Elisabeth Vilhelmina Berg) Johnson  female  11.1333  27.0   \n",
       "9                 Mrs. Nicholas (Adele Achem) Nasser  female  30.0708  14.0   \n",
       "\n",
       "       0  \n",
       "0  adult  \n",
       "1    old  \n",
       "2  adult  \n",
       "3    old  \n",
       "4    old  \n",
       "5  adult  \n",
       "6    old  \n",
       "7  child  \n",
       "8  adult  \n",
       "9  child  "
      ]
     },
     "execution_count": 107,
     "metadata": {},
     "output_type": "execute_result"
    }
   ],
   "source": [
    "conditions = [df1['Age'].between(0,15),df1['Age'].between(10,30) ]\n",
    "outcomes = ['child', 'adult']\n",
    "np.select (conditions, outcomes, 'old')\n",
    "s3 = pd.Series(np.select (conditions, outcomes, 'old'))\n",
    "pd.concat([df1,s3],axis =1).head(10)"
   ]
  },
  {
   "cell_type": "code",
   "execution_count": 108,
   "id": "cc47b25a",
   "metadata": {},
   "outputs": [
    {
     "data": {
      "text/html": [
       "<div>\n",
       "<style scoped>\n",
       "    .dataframe tbody tr th:only-of-type {\n",
       "        vertical-align: middle;\n",
       "    }\n",
       "\n",
       "    .dataframe tbody tr th {\n",
       "        vertical-align: top;\n",
       "    }\n",
       "\n",
       "    .dataframe thead th {\n",
       "        text-align: right;\n",
       "    }\n",
       "</style>\n",
       "<table border=\"1\" class=\"dataframe\">\n",
       "  <thead>\n",
       "    <tr style=\"text-align: right;\">\n",
       "      <th></th>\n",
       "      <th>Name</th>\n",
       "      <th>Sex</th>\n",
       "      <th>Fare</th>\n",
       "      <th>Age</th>\n",
       "      <th>0</th>\n",
       "    </tr>\n",
       "  </thead>\n",
       "  <tbody>\n",
       "    <tr>\n",
       "      <th>0</th>\n",
       "      <td>Mr. Owen Harris Braund</td>\n",
       "      <td>male</td>\n",
       "      <td>7.2500</td>\n",
       "      <td>22.0</td>\n",
       "      <td>No condition</td>\n",
       "    </tr>\n",
       "    <tr>\n",
       "      <th>1</th>\n",
       "      <td>Mrs. John Bradley (Florence Briggs Thayer) Cum...</td>\n",
       "      <td>female</td>\n",
       "      <td>71.2833</td>\n",
       "      <td>38.0</td>\n",
       "      <td>Fare Condition</td>\n",
       "    </tr>\n",
       "    <tr>\n",
       "      <th>2</th>\n",
       "      <td>Miss. Laina Heikkinen</td>\n",
       "      <td>female</td>\n",
       "      <td>7.9250</td>\n",
       "      <td>26.0</td>\n",
       "      <td>No condition</td>\n",
       "    </tr>\n",
       "    <tr>\n",
       "      <th>3</th>\n",
       "      <td>Mrs. Jacques Heath (Lily May Peel) Futrelle</td>\n",
       "      <td>female</td>\n",
       "      <td>53.1000</td>\n",
       "      <td>35.0</td>\n",
       "      <td>Fare Condition</td>\n",
       "    </tr>\n",
       "    <tr>\n",
       "      <th>4</th>\n",
       "      <td>Mr. William Henry Allen</td>\n",
       "      <td>male</td>\n",
       "      <td>8.0500</td>\n",
       "      <td>35.0</td>\n",
       "      <td>No condition</td>\n",
       "    </tr>\n",
       "    <tr>\n",
       "      <th>5</th>\n",
       "      <td>Mr. James Moran</td>\n",
       "      <td>male</td>\n",
       "      <td>8.4583</td>\n",
       "      <td>27.0</td>\n",
       "      <td>No condition</td>\n",
       "    </tr>\n",
       "    <tr>\n",
       "      <th>6</th>\n",
       "      <td>Mr. Timothy J McCarthy</td>\n",
       "      <td>male</td>\n",
       "      <td>51.8625</td>\n",
       "      <td>54.0</td>\n",
       "      <td>Fare Condition</td>\n",
       "    </tr>\n",
       "    <tr>\n",
       "      <th>7</th>\n",
       "      <td>Master. Gosta Leonard Palsson</td>\n",
       "      <td>male</td>\n",
       "      <td>21.0750</td>\n",
       "      <td>2.0</td>\n",
       "      <td>Age condition</td>\n",
       "    </tr>\n",
       "    <tr>\n",
       "      <th>8</th>\n",
       "      <td>Mrs. Oscar W (Elisabeth Vilhelmina Berg) Johnson</td>\n",
       "      <td>female</td>\n",
       "      <td>11.1333</td>\n",
       "      <td>27.0</td>\n",
       "      <td>No condition</td>\n",
       "    </tr>\n",
       "    <tr>\n",
       "      <th>9</th>\n",
       "      <td>Mrs. Nicholas (Adele Achem) Nasser</td>\n",
       "      <td>female</td>\n",
       "      <td>30.0708</td>\n",
       "      <td>14.0</td>\n",
       "      <td>Age condition</td>\n",
       "    </tr>\n",
       "  </tbody>\n",
       "</table>\n",
       "</div>"
      ],
      "text/plain": [
       "                                                Name     Sex     Fare   Age  \\\n",
       "0                             Mr. Owen Harris Braund    male   7.2500  22.0   \n",
       "1  Mrs. John Bradley (Florence Briggs Thayer) Cum...  female  71.2833  38.0   \n",
       "2                              Miss. Laina Heikkinen  female   7.9250  26.0   \n",
       "3        Mrs. Jacques Heath (Lily May Peel) Futrelle  female  53.1000  35.0   \n",
       "4                            Mr. William Henry Allen    male   8.0500  35.0   \n",
       "5                                    Mr. James Moran    male   8.4583  27.0   \n",
       "6                             Mr. Timothy J McCarthy    male  51.8625  54.0   \n",
       "7                      Master. Gosta Leonard Palsson    male  21.0750   2.0   \n",
       "8   Mrs. Oscar W (Elisabeth Vilhelmina Berg) Johnson  female  11.1333  27.0   \n",
       "9                 Mrs. Nicholas (Adele Achem) Nasser  female  30.0708  14.0   \n",
       "\n",
       "                0  \n",
       "0    No condition  \n",
       "1  Fare Condition  \n",
       "2    No condition  \n",
       "3  Fare Condition  \n",
       "4    No condition  \n",
       "5    No condition  \n",
       "6  Fare Condition  \n",
       "7   Age condition  \n",
       "8    No condition  \n",
       "9   Age condition  "
      ]
     },
     "execution_count": 108,
     "metadata": {},
     "output_type": "execute_result"
    }
   ],
   "source": [
    "conditions = [df1['Age'].between(0,15),df['Fare'] >50 ]\n",
    "outcomes = ['Age condition', 'Fare Condition']\n",
    "np.select (conditions, outcomes, 'No condition')\n",
    "s4 = pd.Series(np.select (conditions, outcomes, 'No condition'))\n",
    "pd.concat([df1,s4],axis =1).head(10)"
   ]
  },
  {
   "cell_type": "code",
   "execution_count": null,
   "id": "5a466aa3",
   "metadata": {},
   "outputs": [],
   "source": []
  }
 ],
 "metadata": {
  "kernelspec": {
   "display_name": "Python 3 (ipykernel)",
   "language": "python",
   "name": "python3"
  },
  "language_info": {
   "codemirror_mode": {
    "name": "ipython",
    "version": 3
   },
   "file_extension": ".py",
   "mimetype": "text/x-python",
   "name": "python",
   "nbconvert_exporter": "python",
   "pygments_lexer": "ipython3",
   "version": "3.7.12"
  }
 },
 "nbformat": 4,
 "nbformat_minor": 5
}
