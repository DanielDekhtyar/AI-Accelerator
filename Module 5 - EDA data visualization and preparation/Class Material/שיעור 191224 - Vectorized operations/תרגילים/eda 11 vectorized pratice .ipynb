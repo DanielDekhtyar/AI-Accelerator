{
 "cells": [
  {
   "cell_type": "markdown",
   "id": "482332f6-2568-4875-95c5-f9abf09d4599",
   "metadata": {},
   "source": [
    "##### intro: numpy  \n",
    "a. Create a 1D NumPy array called arr with the elements [10, 20, 30, 40].  \n",
    "Print the type, number of dimensions, shape, and size of arr.  \n",
    "2D Array Operations:"
   ]
  },
  {
   "cell_type": "code",
   "execution_count": null,
   "id": "b4b8751d-5a6a-426d-9c50-6e15143acf46",
   "metadata": {},
   "outputs": [],
   "source": []
  },
  {
   "cell_type": "code",
   "execution_count": null,
   "id": "fac10dbf-7f0c-41c7-8f98-adecf8bc0cdc",
   "metadata": {},
   "outputs": [],
   "source": []
  },
  {
   "cell_type": "code",
   "execution_count": null,
   "id": "706d7946-6c91-488a-a858-54c56152a1b0",
   "metadata": {},
   "outputs": [],
   "source": []
  },
  {
   "cell_type": "markdown",
   "id": "44c90ff3-a36b-438b-8f9f-e19406cd6d8d",
   "metadata": {},
   "source": [
    "b. Create a 2D NumPy array called arr2 with the values [[1, 2, 3], [4, 5, 6]].\n",
    "Print the number of dimensions, shape, and size of arr2.\n",
    "Access and print the first element of the second row. "
   ]
  },
  {
   "cell_type": "code",
   "execution_count": null,
   "id": "fcadcab2-6282-45f7-9422-24827b52592b",
   "metadata": {},
   "outputs": [],
   "source": []
  },
  {
   "cell_type": "code",
   "execution_count": null,
   "id": "bcad3c14-ae0c-4893-aee7-d901244cd59c",
   "metadata": {},
   "outputs": [],
   "source": []
  },
  {
   "cell_type": "markdown",
   "id": "bb00304a-4adb-4c56-aa21-d508e7c99e53",
   "metadata": {},
   "source": [
    "**Array Arithmetic:**\n",
    "\n",
    "c. Create two arrays a = np.array([1, 2, 3]) and b = np.array([10, 20, 30]).\n",
    "Use vectorized addition to create a new array c that contains the sum of a and b.\n"
   ]
  },
  {
   "cell_type": "code",
   "execution_count": null,
   "id": "a330aa0f-805d-485f-9fdb-6974b68c96fa",
   "metadata": {},
   "outputs": [],
   "source": []
  },
  {
   "cell_type": "markdown",
   "id": "c4c0aa90-b467-4697-a8ed-d5567bddd8d1",
   "metadata": {},
   "source": [
    "**Random Array and Timing:**  \n",
    "d. Create a random array x of size 5 using np.random.rand().  \n",
    "e. Create two random arrays a and b of size 10**6 each.\n",
    "Measure the time it takes to perform vectorized addition a + b."
   ]
  },
  {
   "cell_type": "code",
   "execution_count": null,
   "id": "90046079-e9ca-4d78-848a-b80d0c160331",
   "metadata": {},
   "outputs": [],
   "source": []
  },
  {
   "cell_type": "code",
   "execution_count": null,
   "id": "ea59951e-2156-40f6-b197-15d08c45bda1",
   "metadata": {},
   "outputs": [],
   "source": []
  },
  {
   "cell_type": "markdown",
   "id": "9cace460-7fa1-430a-b260-63ce0ccb7a29",
   "metadata": {},
   "source": [
    "**Titanic Dataset:**  \n",
    "\n",
    "1. Create a new column Age_Category using the **apply** method  \n",
    "If age is less than 18, assign Child otherwise assign Adult.\n",
    "2. drop the column you created\n",
    "3. Create a new column Age_Category using the **apply** method:  \n",
    "If age is less than 18, assign Child.  \n",
    "If age is between 18 and 50, assign Adult.  \n",
    "If age is 60 or more, assign Senior.\n",
    "4. Use the **select** function to create a new column Fare_Range:  \n",
    " If the fare is less than 10, assign Low.  \n",
    " If the fare is between 10 and 50, assign Medium.\n",
    "Otherwise, assign High."
   ]
  },
  {
   "cell_type": "code",
   "execution_count": null,
   "id": "24dfb68e-f006-480b-8fc4-ed49f80e95c6",
   "metadata": {},
   "outputs": [],
   "source": []
  },
  {
   "cell_type": "code",
   "execution_count": null,
   "id": "111cb223-8d1f-48e8-9bea-e540c4f8b10a",
   "metadata": {},
   "outputs": [],
   "source": []
  },
  {
   "cell_type": "code",
   "execution_count": null,
   "id": "b6299dcc-49d2-44cc-aa1b-180e174e7128",
   "metadata": {},
   "outputs": [],
   "source": []
  },
  {
   "cell_type": "code",
   "execution_count": null,
   "id": "7a1304fa-7956-42ac-8eb9-502c8f2c0e53",
   "metadata": {},
   "outputs": [],
   "source": []
  },
  {
   "cell_type": "code",
   "execution_count": null,
   "id": "c8c15d97-ca9b-4aea-ae3b-f895227368e2",
   "metadata": {},
   "outputs": [],
   "source": []
  },
  {
   "cell_type": "markdown",
   "id": "1ce4609c-3e7d-4507-857d-e8aed01c8fd5",
   "metadata": {},
   "source": [
    "**Cereal Dataset:**  \n",
    "\n",
    "5. Use the **apply** method to create a new column Health_Score:\n",
    "Add the values of fiber and protein for each row.\n",
    "6. Use **select** to categorize cereals into Cereal_Type:  \n",
    "If calories are less than 100, assign Low Calorie.  \n",
    "If calories are between 100 and 150, assign Regular.  \n",
    "If calories are greater than 150, assign High Calorie.  \n",
    "7. Create a new column called High_Sugar:  \n",
    "\n",
    "Assign True if the cereal has sugar content greater than 10.\n",
    "Assign False otherwise.  "
   ]
  },
  {
   "cell_type": "code",
   "execution_count": null,
   "id": "989be517-bee2-4f05-91c4-1960e346fae9",
   "metadata": {},
   "outputs": [],
   "source": []
  },
  {
   "cell_type": "code",
   "execution_count": null,
   "id": "f5a6df1b-70ef-4d6e-8726-92c5a71b3ba7",
   "metadata": {},
   "outputs": [],
   "source": []
  },
  {
   "cell_type": "code",
   "execution_count": null,
   "id": "c1ff30e5-fd59-413e-8ce7-3f1cd5bd3ce5",
   "metadata": {},
   "outputs": [],
   "source": []
  },
  {
   "cell_type": "code",
   "execution_count": null,
   "id": "2f5a0319-c33f-4daf-ac10-3926ba84e3a4",
   "metadata": {},
   "outputs": [],
   "source": []
  },
  {
   "cell_type": "code",
   "execution_count": null,
   "id": "3e482eca-9328-4bb8-9933-c683a4335060",
   "metadata": {},
   "outputs": [],
   "source": []
  },
  {
   "cell_type": "code",
   "execution_count": null,
   "id": "98bce28f-1c90-41fd-9b20-43a9c9a2553f",
   "metadata": {},
   "outputs": [],
   "source": []
  },
  {
   "cell_type": "markdown",
   "id": "9addd298-1440-407b-a5d6-9a600a175d1c",
   "metadata": {},
   "source": [
    "if you have some time left to play:\n",
    "Using the Titanic dataset, create a new column with values based on the following conditions:\n",
    "\n",
    "If the passenger's name starts with 'Mr.', assign 'Sir'.  \n",
    "If the passenger's age is between 30 and 40 (inclusive), assign 'adult'.  \n",
    "If the passenger's sex is 'female', assign 'She/Her'.  \n",
    "Finally, display the DataFrame with the new column appended.  "
   ]
  },
  {
   "cell_type": "code",
   "execution_count": null,
   "id": "e740ffc5-fb65-4830-81a5-acefb4c6f094",
   "metadata": {},
   "outputs": [],
   "source": []
  }
 ],
 "metadata": {
  "kernelspec": {
   "display_name": "Python 3 (ipykernel)",
   "language": "python",
   "name": "python3"
  },
  "language_info": {
   "codemirror_mode": {
    "name": "ipython",
    "version": 3
   },
   "file_extension": ".py",
   "mimetype": "text/x-python",
   "name": "python",
   "nbconvert_exporter": "python",
   "pygments_lexer": "ipython3",
   "version": "3.12.2"
  }
 },
 "nbformat": 4,
 "nbformat_minor": 5
}
