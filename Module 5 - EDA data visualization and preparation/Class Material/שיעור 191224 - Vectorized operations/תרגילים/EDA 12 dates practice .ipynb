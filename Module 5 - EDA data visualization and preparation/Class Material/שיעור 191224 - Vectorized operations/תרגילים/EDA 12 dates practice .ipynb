{
 "cells": [
  {
   "cell_type": "markdown",
   "id": "180242f2-0bbc-4f1e-bd2d-e71f0e9f83df",
   "metadata": {},
   "source": [
    "\n",
    "##### Part 1 Creating a Python Date Object\n",
    "\n",
    "1. Create a datetime.date object for January 1, 2024.  \n",
    "Print the month from this object.  \n",
    "Creating a Full DateTime Object  \n",
    "\n",
    "2. Create a datetime.datetime object for December 31, 2025, at 11:59 PM.  \n",
    "Extract and print the year, month, and time from this object.  \n",
    "Converting Strings to Dates with Pandas  \n",
    "\n",
    "3. Convert the string \"2024-12-19\" to a pandas Timestamp object using to_datetime.  \n",
    "Check if the date represents the start of the month.  \n"
   ]
  },
  {
   "cell_type": "code",
   "execution_count": null,
   "id": "5be4bbf6-223f-400f-81c4-6b67b500793e",
   "metadata": {},
   "outputs": [],
   "source": []
  },
  {
   "cell_type": "code",
   "execution_count": null,
   "id": "65d6a5a0-c20a-4ad3-ae33-4b0da679701c",
   "metadata": {},
   "outputs": [],
   "source": []
  },
  {
   "cell_type": "code",
   "execution_count": null,
   "id": "03b1b83e-1e1d-492a-ab38-8d174c9baa23",
   "metadata": {},
   "outputs": [],
   "source": []
  },
  {
   "cell_type": "code",
   "execution_count": null,
   "id": "df9dc7ca-d8e3-4475-819a-07011bbcaad4",
   "metadata": {},
   "outputs": [],
   "source": []
  },
  {
   "cell_type": "markdown",
   "id": "392cada5-9e9b-4151-b80d-527246b66012",
   "metadata": {},
   "source": [
    "##### Prart 2 Generating a Biweekly Date Range\n",
    "\n",
    "4. Create a range of 14 dates starting from January 1, 2024, with a frequency of 7 days.  \n",
    "Convert the range into a DatetimeIndex.  \n",
    "Boolean Series with Date Index  \n",
    "\n",
    "5. Use the DatetimeIndex from the previous question to create a pandas Series with 14 Boolean values (True/False).  \n",
    "Assume these values represent whether tasks were completed on the corresponding dates.  \n",
    "Counting Wednesdays in a Month\n",
    "to quickly create a boolean series you can use the following code:  \n",
    "pd.Series(np.random.choice([True, False], size=14)\n",
    "\n",
    "7. Create a date range for February 2024 (a leap year).  \n",
    "Count how many Wednesdays occur in this month.  "
   ]
  },
  {
   "cell_type": "code",
   "execution_count": null,
   "id": "cd0d0188-71f1-453a-ba27-4dc08e6ece08",
   "metadata": {},
   "outputs": [],
   "source": []
  },
  {
   "cell_type": "code",
   "execution_count": null,
   "id": "45973b78-7d5d-402b-bd51-f209057ca047",
   "metadata": {},
   "outputs": [],
   "source": []
  },
  {
   "cell_type": "code",
   "execution_count": null,
   "id": "2b9bf85f-cd5f-4a4e-bac3-d3bed6330385",
   "metadata": {},
   "outputs": [],
   "source": []
  },
  {
   "cell_type": "markdown",
   "id": "e5a36eb4-55eb-4461-804e-a57c7b261a88",
   "metadata": {},
   "source": [
    "##### Part 3: Advanced Questions\n",
    "7. Counting Zoom Lessons Until the End of the Course  \n",
    "\n",
    "Assume Zoom lessons occur every Tuesday. The course will end on April 5, 2025.  \n",
    "Generate a list of all Zoom lesson dates and count how many lessons remain until the course ends.  \n",
    "Marking Jewish Weekends  \n",
    "\n",
    "8. Write a function that accepts a list of dates and returns a DataFrame with the following columns:  \n",
    "The date.  \n",
    "The name of the weekday (e.g., Monday, Tuesday).  \n",
    "A Boolean column indicating whether the date is a Friday or Saturday (Jewish weekend).  \n",
    "Use this function to analyze the February 2024 date range.  "
   ]
  },
  {
   "cell_type": "code",
   "execution_count": null,
   "id": "8370589b-f1c0-4a96-bb40-5bfa7fbcdd94",
   "metadata": {},
   "outputs": [],
   "source": []
  },
  {
   "cell_type": "code",
   "execution_count": null,
   "id": "265e96a0-95d3-4a4e-8818-bb0ecebeee5a",
   "metadata": {},
   "outputs": [],
   "source": [
    "\n"
   ]
  },
  {
   "cell_type": "markdown",
   "id": "87ea7a61-beb3-4904-ad45-ab26ee30d9a2",
   "metadata": {},
   "source": [
    "##### Part 4: Titanic Dataset\n",
    "9. Calculating Today's Age for Titanic Passengers  \n",
    "\n",
    "Write a function that accepts a Titanic passenger's index and calculates their age today if they were still alive.  \n",
    "Assume the data was collected on April 15, 1912, and calculate the birth year from the passenger's recorded age.  \n",
    "Finding the Weekday of the 100th Birthday  \n",
    "\n",
    "10. Write a function that calculates the weekday of the 100th birthday for Titanic passengers.  \n",
    "Assume all passengers were born on January 1 of their birth year."
   ]
  },
  {
   "cell_type": "code",
   "execution_count": null,
   "id": "7af0e64d-8b9f-4532-9b5d-6a286b47b658",
   "metadata": {},
   "outputs": [],
   "source": []
  },
  {
   "cell_type": "code",
   "execution_count": null,
   "id": "27e037a7-5458-42fb-b353-56b283066d12",
   "metadata": {},
   "outputs": [],
   "source": []
  },
  {
   "cell_type": "code",
   "execution_count": null,
   "id": "d13df475-dd52-44fb-8277-b986eeee42dd",
   "metadata": {},
   "outputs": [],
   "source": []
  }
 ],
 "metadata": {
  "kernelspec": {
   "display_name": "Python 3 (ipykernel)",
   "language": "python",
   "name": "python3"
  },
  "language_info": {
   "codemirror_mode": {
    "name": "ipython",
    "version": 3
   },
   "file_extension": ".py",
   "mimetype": "text/x-python",
   "name": "python",
   "nbconvert_exporter": "python",
   "pygments_lexer": "ipython3",
   "version": "3.12.2"
  }
 },
 "nbformat": 4,
 "nbformat_minor": 5
}
