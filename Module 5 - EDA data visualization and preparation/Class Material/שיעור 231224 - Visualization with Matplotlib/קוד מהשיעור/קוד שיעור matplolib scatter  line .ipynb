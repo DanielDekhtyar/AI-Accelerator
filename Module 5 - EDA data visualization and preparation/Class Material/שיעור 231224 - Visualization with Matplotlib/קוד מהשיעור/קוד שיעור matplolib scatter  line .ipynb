{
 "cells": [
  {
   "cell_type": "markdown",
   "id": "25dcab5d-d497-4e8a-9a83-18d0a7427124",
   "metadata": {},
   "source": [
    "##### matplotlib\n",
    "-- need to install **conda install maplotlib**  \n",
    "--lighter to only import matplotlib.pyplot   \n",
    "-- possible to import matplotlib intirely  "
   ]
  },
  {
   "cell_type": "code",
   "execution_count": null,
   "id": "9945cbec-8e85-4719-a8a0-1fcda4f0f7c1",
   "metadata": {},
   "outputs": [],
   "source": [
    "import numpy as np   #מי בנוי של מי:\n",
    "import pandas as pd\n",
    "import matplotlib.pyplot as plt"
   ]
  },
  {
   "cell_type": "code",
   "execution_count": null,
   "id": "e85b1426-6faf-4cdc-bf7e-781a9f951274",
   "metadata": {},
   "outputs": [],
   "source": [
    "#LINE PLOT\n",
    "#1 simple\n",
    "x = [1,2,3,4]\n",
    "y = [1,2,3,4]\n",
    "plt.plot(x,y)\n",
    "plt.show()"
   ]
  },
  {
   "cell_type": "code",
   "execution_count": null,
   "id": "3a42235f-e596-4418-8923-c84a7f1266a8",
   "metadata": {},
   "outputs": [],
   "source": [
    "plt.figure(figsize = (6,3))\n",
    "plt.plot(x,y)\n",
    "plt.xlabel('x')\n",
    "plt.ylabel('y')\n",
    "plt.title('x=y')\n",
    "plt.show()"
   ]
  },
  {
   "cell_type": "code",
   "execution_count": null,
   "id": "8172f9a4-5883-4670-a08f-3b99cb8ce16d",
   "metadata": {},
   "outputs": [],
   "source": [
    "#מספרים יותר מתוחכמים\n",
    "x =[1,2,3,4,5,6,7,8,9,10,11,12,13,14,15,16,17,18,19,20]\n",
    "y = [1,4,9,16,25,36,49,64,81,100,121,144,169,196,225,256,289,324,361,400]\n",
    "plt.plot(x,y)"
   ]
  },
  {
   "cell_type": "code",
   "execution_count": null,
   "id": "a7d04009-e80b-43c1-9b3f-07924b2179f8",
   "metadata": {},
   "outputs": [],
   "source": [
    "#נוסיף אחד אחד- כותרות לצירים לגרף וגודל תמונה\n",
    "#גודל תמונה צריך להופיע לפני  הפלוט\n",
    "plt.figure(figsize=(9,6))\n",
    "#plot\n",
    "plt.plot(x,y)\n",
    "# Add labels and title\n",
    "plt.xlabel('x')\n",
    "plt.ylabel('y')\n",
    "plt.title ('f(x) = x**2') #(r\"$f(x) = x^2$\")\n",
    "\n",
    "plt.show()"
   ]
  },
  {
   "cell_type": "code",
   "execution_count": null,
   "id": "03bf11a9-86d5-415f-b9ff-c87feb02e852",
   "metadata": {},
   "outputs": [],
   "source": [
    "np.linspace(-10, 10, 5) # זה יהיה תחום ההצבה. אלה המספרים שניתן לפונקציה\n",
    "#np.linespace(low limit, high limit, #items)"
   ]
  },
  {
   "cell_type": "code",
   "execution_count": null,
   "id": "62dbab36-9122-432d-956c-42aa4383ee37",
   "metadata": {},
   "outputs": [],
   "source": [
    "#עכשיו ניתן לו  לצייר לנו פונקציה   f(x)=x^2\n",
    "x = np.linspace(-10, 10, 100)\n",
    "plt.figure (figsize = (2,1))\n",
    "def f(x):\n",
    "    return x**2\n",
    "plt.xlabel ('x')\n",
    "plt.ylabel('y')\n",
    "plt.plot (x, f(x))\n",
    "plt.show()"
   ]
  },
  {
   "cell_type": "markdown",
   "id": "85274874-caef-4626-965e-66944f005de8",
   "metadata": {},
   "source": [
    "## $\\frac{1}{1 + e^{-x}}$"
   ]
  },
  {
   "cell_type": "code",
   "execution_count": null,
   "id": "2b4e4da8-69e2-4a8f-9d53-8707a44d5519",
   "metadata": {},
   "outputs": [],
   "source": [
    "#sigmoid function:\n",
    "plt.figure(figsize=(6,4))\n",
    "def f2 (x):\n",
    "    return 1/ (1+np.exp(-x))\n",
    "\n",
    "x = np.linspace(-10,10,100)\n",
    "plt.plot(x,f2(x))\n",
    "plt.show()"
   ]
  },
  {
   "cell_type": "code",
   "execution_count": null,
   "id": "162bd371-efc3-4078-b0d4-8944c4929a03",
   "metadata": {},
   "outputs": [],
   "source": [
    "#together, giving different x for each\n",
    "# 2 lines together\n",
    "x1 = np.linspace(-1,1,100)\n",
    "x2 = np.linspace(-10,10,100)\n",
    "\n",
    "plt.plot(x1,f(x1))\n",
    "plt.plot(x2,f2(x2))\n"
   ]
  },
  {
   "cell_type": "markdown",
   "id": "acb9768f-fe6e-43c8-b036-f523c5713aae",
   "metadata": {},
   "source": [
    "    c  color |legend()  |   marker . < *  | \n",
    "    linestyle -- -.- :  | linewidth 3  5  |"
   ]
  },
  {
   "cell_type": "code",
   "execution_count": null,
   "id": "59679895-c749-40f5-a159-16f28ca25d27",
   "metadata": {},
   "outputs": [],
   "source": [
    "# Plot x**2\n",
    "plt.plot(x1, f(x1), label = 'X**2'\n",
    "            ,linewidth=  3, marker  = 'o',\n",
    "             c ='deeppink')\n",
    "#plot sigmoid\n",
    "plt.plot(x2,f2(x2), label = \"sigmoid\",\n",
    "        linestyle ='--', \n",
    "         color = 'plum')\n",
    "# Add labels and title\n",
    "plt.legend()\n",
    "\n",
    "# Show the plot\n",
    "plt.show()"
   ]
  },
  {
   "cell_type": "code",
   "execution_count": null,
   "id": "7007d9d5-01f8-45db-98a5-3d14617bab2c",
   "metadata": {},
   "outputs": [],
   "source": [
    "#predefined styles:\n",
    "plt.style.available"
   ]
  },
  {
   "cell_type": "code",
   "execution_count": null,
   "id": "afe2b79d-e1fd-44e5-8521-5165cc03e96d",
   "metadata": {},
   "outputs": [],
   "source": [
    "plt.rcdefaults()\n",
    "plt.style.use('seaborn-v0_8-pastel') \n",
    "#fivethirtyeight #seaborn-v0_8-deep #dark_background\n",
    "plt.plot(x1,f(x1) ,label = 'X**2') # add -  move the lables here\n",
    "plt.plot(x2,f2(x2), label ='Sigmoid')#-lable\n",
    "\n",
    "# Add labels and title\n",
    "plt.legend()     #              <-------------legend\n",
    "#save plot\n",
    "plt.savefig('my_fig.jpeg')\n",
    "# Show the plot\n",
    "plt.show()"
   ]
  },
  {
   "cell_type": "markdown",
   "id": "b0fdc6e1-b0e4-4192-a294-8c199d556c29",
   "metadata": {},
   "source": [
    "scatter plot"
   ]
  },
  {
   "cell_type": "code",
   "execution_count": null,
   "id": "aa605085-fbba-45ea-baa9-c8883ee7a936",
   "metadata": {},
   "outputs": [],
   "source": [
    "df = pd.read_csv('cereal.csv')"
   ]
  },
  {
   "cell_type": "code",
   "execution_count": null,
   "id": "102ac763-68de-4409-9da9-5165b31bfc0a",
   "metadata": {},
   "outputs": [],
   "source": [
    "#scater by columns\n",
    "x = df['sugars']\n",
    "y = df['rating']\n",
    "\n",
    "plt.figure(figsize=(9, 3))\n",
    "plt.scatter(x,y)\n",
    "#labels\n",
    "plt.xlabel('sugars (g)')\n",
    "plt.ylabel('rating')"
   ]
  },
  {
   "cell_type": "code",
   "execution_count": null,
   "id": "060c55cc-d137-462c-bf8d-2dd159e72be3",
   "metadata": {},
   "outputs": [],
   "source": [
    "#scater by columns\n",
    "x = df['sugars']\n",
    "y = df['rating']\n",
    "plt.figure(figsize=(9, 3))\n",
    "plt.scatter(x,y, alpha = 0.5) #add alpha\n",
    "#labels\n",
    "plt.xlabel('sugars (g)')\n",
    "plt.ylabel('rating')"
   ]
  },
  {
   "cell_type": "code",
   "execution_count": null,
   "id": "f55395d7-0ced-495f-86c3-181d8c19f37c",
   "metadata": {},
   "outputs": [],
   "source": [
    "#ALPHA AS COLUMN\n",
    "x = df['sugars']\n",
    "y = df['rating']\n",
    "alp = 1/df['protein'] #use this as alpha\n",
    "plt.scatter(x,y, alpha = alp  )\n",
    "#labels\n",
    "plt.xlabel('sugars (g)')\n",
    "plt.ylabel('rating')"
   ]
  },
  {
   "cell_type": "code",
   "execution_count": null,
   "id": "2f1916e1-3e51-49c8-acae-f444c5351948",
   "metadata": {},
   "outputs": [],
   "source": [
    "#SIZE & c=\n",
    "x = df['sugars']\n",
    "y = df['rating']\n",
    "size = df['calories']**2/75\n",
    "plt.figure(figsize=(7, 5))\n",
    "plt.scatter(x,y, alpha = 0.7, s = 100, c = 'green') #replace s = size\n",
    "\n",
    "#labels\n",
    "plt.xlabel('sugars (g)')\n",
    "plt.ylabel('rating')\n",
    "plt.savefig('scatterfig.jpeg')"
   ]
  },
  {
   "cell_type": "code",
   "execution_count": null,
   "id": "d35cd320-9676-4826-b145-27a033663fe6",
   "metadata": {},
   "outputs": [],
   "source": [
    "# C= column\n",
    "x = df['sugars']\n",
    "y = df['rating']\n",
    "\n",
    "plt.scatter(x,y, alpha = 0.7, \n",
    "            s = df['calories']**2/75, \n",
    "            c =df['carbo']  )\n",
    "\n",
    "#labels\n",
    "#plt.colorbar().set_label('carbo')   #להוסיף!!\n",
    "plt.xlabel('sugars (g)')\n",
    "plt.ylabel('rating')\n"
   ]
  },
  {
   "cell_type": "code",
   "execution_count": null,
   "id": "2fa4ec6e-6b32-47c8-9728-407b755229a3",
   "metadata": {},
   "outputs": [],
   "source": [
    "#CMAP\n",
    "x = df['sugars']\n",
    "y = df['rating']\n",
    "plt.scatter(x,y, alpha = 0.7,\n",
    "            c =df['carbo'], \n",
    "            cmap ='twilight')\n",
    "\n",
    "#labels\n",
    "plt.colorbar().set_label('carbo')\n",
    "plt.xlabel('sugars (g)')\n",
    "plt.ylabel('rating')\n",
    "plt.savefig('scatterfig.jpeg')\n"
   ]
  },
  {
   "cell_type": "code",
   "execution_count": null,
   "id": "154ce076-7ae2-4106-a176-f8a60c4497c3",
   "metadata": {},
   "outputs": [],
   "source": [
    "#scater by columns\n",
    "x = df['sugars']\n",
    "y = df['rating']\n",
    "\n",
    "plt.figure(figsize=(7, 5))\n",
    "plt.scatter(x,y, alpha =0.5, \n",
    "            s = 100, \n",
    "            c =df['carbo'], \n",
    "            cmap ='twilight'  )\n",
    "\n",
    "#labels\n",
    "plt.colorbar().set_label('carbo')\n",
    "plt.xlabel('sugars (g)')\n",
    "plt.ylabel('rating')\n",
    "\n"
   ]
  },
  {
   "cell_type": "code",
   "execution_count": null,
   "id": "857a071c-2c8f-49c6-85e7-2c205c41e7ad",
   "metadata": {},
   "outputs": [],
   "source": []
  },
  {
   "cell_type": "code",
   "execution_count": null,
   "id": "39b87854-fc14-4e35-ae0e-3f3d68e5decd",
   "metadata": {},
   "outputs": [],
   "source": []
  }
 ],
 "metadata": {
  "kernelspec": {
   "display_name": "Python 3 (ipykernel)",
   "language": "python",
   "name": "python3"
  },
  "language_info": {
   "codemirror_mode": {
    "name": "ipython",
    "version": 3
   },
   "file_extension": ".py",
   "mimetype": "text/x-python",
   "name": "python",
   "nbconvert_exporter": "python",
   "pygments_lexer": "ipython3",
   "version": "3.12.2"
  }
 },
 "nbformat": 4,
 "nbformat_minor": 5
}
