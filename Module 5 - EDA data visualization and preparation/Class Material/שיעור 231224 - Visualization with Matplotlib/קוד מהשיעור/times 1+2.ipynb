{
 "cells": [
  {
   "cell_type": "code",
   "execution_count": 73,
   "id": "13e25ae2",
   "metadata": {},
   "outputs": [],
   "source": [
    "import pandas as pd\n",
    "import datetime as dt"
   ]
  },
  {
   "cell_type": "code",
   "execution_count": 2,
   "id": "c4c5b7e9",
   "metadata": {},
   "outputs": [
    {
     "data": {
      "text/plain": [
       "datetime.date(2024, 12, 19)"
      ]
     },
     "execution_count": 2,
     "metadata": {},
     "output_type": "execute_result"
    }
   ],
   "source": [
    "dt.date(2024,12,19)"
   ]
  },
  {
   "cell_type": "code",
   "execution_count": 3,
   "id": "ca34c139",
   "metadata": {},
   "outputs": [
    {
     "data": {
      "text/plain": [
       "datetime.date"
      ]
     },
     "execution_count": 3,
     "metadata": {},
     "output_type": "execute_result"
    }
   ],
   "source": [
    "type (dt.date(2024,12,19))"
   ]
  },
  {
   "cell_type": "code",
   "execution_count": 4,
   "id": "214adbee",
   "metadata": {},
   "outputs": [],
   "source": [
    "x = dt.date(2024,12,19)"
   ]
  },
  {
   "cell_type": "code",
   "execution_count": 5,
   "id": "97574e0a",
   "metadata": {},
   "outputs": [
    {
     "data": {
      "text/plain": [
       "datetime.date(2024, 12, 19)"
      ]
     },
     "execution_count": 5,
     "metadata": {},
     "output_type": "execute_result"
    }
   ],
   "source": [
    "x"
   ]
  },
  {
   "cell_type": "code",
   "execution_count": 6,
   "id": "c0b4a87a",
   "metadata": {},
   "outputs": [
    {
     "ename": "TypeError",
     "evalue": "function missing required argument 'month' (pos 2)",
     "output_type": "error",
     "traceback": [
      "\u001b[1;31m---------------------------------------------------------------------------\u001b[0m",
      "\u001b[1;31mTypeError\u001b[0m                                 Traceback (most recent call last)",
      "\u001b[1;32m~\\AppData\\Local\\Temp\\ipykernel_11300\\2343082044.py\u001b[0m in \u001b[0;36m<module>\u001b[1;34m\u001b[0m\n\u001b[1;32m----> 1\u001b[1;33m \u001b[0mdt\u001b[0m\u001b[1;33m.\u001b[0m\u001b[0mdate\u001b[0m\u001b[1;33m(\u001b[0m\u001b[1;36m2024\u001b[0m\u001b[1;33m)\u001b[0m\u001b[1;33m\u001b[0m\u001b[1;33m\u001b[0m\u001b[0m\n\u001b[0m",
      "\u001b[1;31mTypeError\u001b[0m: function missing required argument 'month' (pos 2)"
     ]
    }
   ],
   "source": [
    "dt.date(2024)"
   ]
  },
  {
   "cell_type": "code",
   "execution_count": 7,
   "id": "79fadc11",
   "metadata": {},
   "outputs": [
    {
     "ename": "TypeError",
     "evalue": "function missing required argument 'day' (pos 3)",
     "output_type": "error",
     "traceback": [
      "\u001b[1;31m---------------------------------------------------------------------------\u001b[0m",
      "\u001b[1;31mTypeError\u001b[0m                                 Traceback (most recent call last)",
      "\u001b[1;32m~\\AppData\\Local\\Temp\\ipykernel_11300\\1746198029.py\u001b[0m in \u001b[0;36m<module>\u001b[1;34m\u001b[0m\n\u001b[1;32m----> 1\u001b[1;33m \u001b[0mdt\u001b[0m\u001b[1;33m.\u001b[0m\u001b[0mdate\u001b[0m\u001b[1;33m(\u001b[0m\u001b[1;36m2024\u001b[0m\u001b[1;33m,\u001b[0m\u001b[1;36m12\u001b[0m\u001b[1;33m)\u001b[0m\u001b[1;33m\u001b[0m\u001b[1;33m\u001b[0m\u001b[0m\n\u001b[0m",
      "\u001b[1;31mTypeError\u001b[0m: function missing required argument 'day' (pos 3)"
     ]
    }
   ],
   "source": [
    "dt.date(2024,12)"
   ]
  },
  {
   "cell_type": "code",
   "execution_count": 8,
   "id": "48bee2a8",
   "metadata": {},
   "outputs": [
    {
     "ename": "TypeError",
     "evalue": "function takes at most 3 arguments (6 given)",
     "output_type": "error",
     "traceback": [
      "\u001b[1;31m---------------------------------------------------------------------------\u001b[0m",
      "\u001b[1;31mTypeError\u001b[0m                                 Traceback (most recent call last)",
      "\u001b[1;32m~\\AppData\\Local\\Temp\\ipykernel_11300\\2203918409.py\u001b[0m in \u001b[0;36m<module>\u001b[1;34m\u001b[0m\n\u001b[1;32m----> 1\u001b[1;33m \u001b[0mdt\u001b[0m\u001b[1;33m.\u001b[0m\u001b[0mdate\u001b[0m\u001b[1;33m(\u001b[0m\u001b[1;36m2024\u001b[0m\u001b[1;33m,\u001b[0m\u001b[1;36m12\u001b[0m\u001b[1;33m,\u001b[0m\u001b[1;36m19\u001b[0m\u001b[1;33m,\u001b[0m\u001b[1;36m1\u001b[0m\u001b[1;33m,\u001b[0m\u001b[1;36m1\u001b[0m\u001b[1;33m,\u001b[0m\u001b[1;36m2\u001b[0m\u001b[1;33m)\u001b[0m\u001b[1;33m\u001b[0m\u001b[1;33m\u001b[0m\u001b[0m\n\u001b[0m",
      "\u001b[1;31mTypeError\u001b[0m: function takes at most 3 arguments (6 given)"
     ]
    }
   ],
   "source": [
    "dt.date(2024,12,19,1,1,2)"
   ]
  },
  {
   "cell_type": "code",
   "execution_count": 9,
   "id": "e5f00fde",
   "metadata": {},
   "outputs": [
    {
     "ename": "TypeError",
     "evalue": "integer argument expected, got float",
     "output_type": "error",
     "traceback": [
      "\u001b[1;31m---------------------------------------------------------------------------\u001b[0m",
      "\u001b[1;31mTypeError\u001b[0m                                 Traceback (most recent call last)",
      "\u001b[1;32m~\\AppData\\Local\\Temp\\ipykernel_11300\\2397960470.py\u001b[0m in \u001b[0;36m<module>\u001b[1;34m\u001b[0m\n\u001b[1;32m----> 1\u001b[1;33m \u001b[0mdt\u001b[0m\u001b[1;33m.\u001b[0m\u001b[0mdate\u001b[0m\u001b[1;33m(\u001b[0m\u001b[1;36m2024\u001b[0m\u001b[1;33m,\u001b[0m\u001b[1;36m11.5\u001b[0m\u001b[1;33m,\u001b[0m\u001b[1;36m19\u001b[0m\u001b[1;33m)\u001b[0m\u001b[1;33m\u001b[0m\u001b[1;33m\u001b[0m\u001b[0m\n\u001b[0m",
      "\u001b[1;31mTypeError\u001b[0m: integer argument expected, got float"
     ]
    }
   ],
   "source": [
    "dt.date(2024,11.5,19)"
   ]
  },
  {
   "cell_type": "code",
   "execution_count": 10,
   "id": "91ae59d5",
   "metadata": {},
   "outputs": [
    {
     "ename": "ValueError",
     "evalue": "day is out of range for month",
     "output_type": "error",
     "traceback": [
      "\u001b[1;31m---------------------------------------------------------------------------\u001b[0m",
      "\u001b[1;31mValueError\u001b[0m                                Traceback (most recent call last)",
      "\u001b[1;32m~\\AppData\\Local\\Temp\\ipykernel_11300\\942016171.py\u001b[0m in \u001b[0;36m<module>\u001b[1;34m\u001b[0m\n\u001b[1;32m----> 1\u001b[1;33m \u001b[0mdt\u001b[0m\u001b[1;33m.\u001b[0m\u001b[0mdate\u001b[0m\u001b[1;33m(\u001b[0m\u001b[1;36m2024\u001b[0m\u001b[1;33m,\u001b[0m\u001b[1;36m5\u001b[0m\u001b[1;33m,\u001b[0m\u001b[1;36m35\u001b[0m\u001b[1;33m)\u001b[0m\u001b[1;33m\u001b[0m\u001b[1;33m\u001b[0m\u001b[0m\n\u001b[0m",
      "\u001b[1;31mValueError\u001b[0m: day is out of range for month"
     ]
    }
   ],
   "source": [
    "dt.date(2024,5,35)"
   ]
  },
  {
   "cell_type": "code",
   "execution_count": 12,
   "id": "6cd171d6",
   "metadata": {},
   "outputs": [
    {
     "ename": "ValueError",
     "evalue": "day is out of range for month",
     "output_type": "error",
     "traceback": [
      "\u001b[1;31m---------------------------------------------------------------------------\u001b[0m",
      "\u001b[1;31mValueError\u001b[0m                                Traceback (most recent call last)",
      "\u001b[1;32m~\\AppData\\Local\\Temp\\ipykernel_11300\\1932157524.py\u001b[0m in \u001b[0;36m<module>\u001b[1;34m\u001b[0m\n\u001b[1;32m----> 1\u001b[1;33m \u001b[0mdt\u001b[0m\u001b[1;33m.\u001b[0m\u001b[0mdate\u001b[0m\u001b[1;33m(\u001b[0m\u001b[1;36m2025\u001b[0m\u001b[1;33m,\u001b[0m\u001b[1;36m2\u001b[0m\u001b[1;33m,\u001b[0m\u001b[1;36m29\u001b[0m\u001b[1;33m)\u001b[0m\u001b[1;33m\u001b[0m\u001b[1;33m\u001b[0m\u001b[0m\n\u001b[0m",
      "\u001b[1;31mValueError\u001b[0m: day is out of range for month"
     ]
    }
   ],
   "source": [
    "dt.date(2025,2,29)"
   ]
  },
  {
   "cell_type": "code",
   "execution_count": 13,
   "id": "3049c09b",
   "metadata": {},
   "outputs": [
    {
     "data": {
      "text/plain": [
       "datetime.date(2024, 12, 19)"
      ]
     },
     "execution_count": 13,
     "metadata": {},
     "output_type": "execute_result"
    }
   ],
   "source": [
    "x"
   ]
  },
  {
   "cell_type": "code",
   "execution_count": 14,
   "id": "185a1d55",
   "metadata": {},
   "outputs": [
    {
     "data": {
      "text/plain": [
       "12"
      ]
     },
     "execution_count": 14,
     "metadata": {},
     "output_type": "execute_result"
    }
   ],
   "source": [
    "x.month"
   ]
  },
  {
   "cell_type": "code",
   "execution_count": 15,
   "id": "74eab34e",
   "metadata": {},
   "outputs": [
    {
     "data": {
      "text/plain": [
       "19"
      ]
     },
     "execution_count": 15,
     "metadata": {},
     "output_type": "execute_result"
    }
   ],
   "source": [
    "x.day"
   ]
  },
  {
   "cell_type": "code",
   "execution_count": 16,
   "id": "462c1bb4",
   "metadata": {},
   "outputs": [
    {
     "data": {
      "text/plain": [
       "2024"
      ]
     },
     "execution_count": 16,
     "metadata": {},
     "output_type": "execute_result"
    }
   ],
   "source": [
    "x.year"
   ]
  },
  {
   "cell_type": "code",
   "execution_count": 18,
   "id": "d02275ed",
   "metadata": {},
   "outputs": [
    {
     "ename": "AttributeError",
     "evalue": "'datetime.date' object has no attribute 'microseconds'",
     "output_type": "error",
     "traceback": [
      "\u001b[1;31m---------------------------------------------------------------------------\u001b[0m",
      "\u001b[1;31mAttributeError\u001b[0m                            Traceback (most recent call last)",
      "\u001b[1;32m~\\AppData\\Local\\Temp\\ipykernel_11300\\2383012825.py\u001b[0m in \u001b[0;36m<module>\u001b[1;34m\u001b[0m\n\u001b[1;32m----> 1\u001b[1;33m \u001b[0mx\u001b[0m\u001b[1;33m.\u001b[0m\u001b[0mmicroseconds\u001b[0m\u001b[1;33m\u001b[0m\u001b[1;33m\u001b[0m\u001b[0m\n\u001b[0m",
      "\u001b[1;31mAttributeError\u001b[0m: 'datetime.date' object has no attribute 'microseconds'"
     ]
    }
   ],
   "source": [
    "# x.microseconds"
   ]
  },
  {
   "cell_type": "code",
   "execution_count": 19,
   "id": "facc8cf3",
   "metadata": {},
   "outputs": [
    {
     "data": {
      "text/plain": [
       "datetime.datetime(2024, 12, 19, 16, 3, 8, 248562)"
      ]
     },
     "execution_count": 19,
     "metadata": {},
     "output_type": "execute_result"
    }
   ],
   "source": [
    "dt.datetime.now()"
   ]
  },
  {
   "cell_type": "code",
   "execution_count": 74,
   "id": "6173f36d",
   "metadata": {},
   "outputs": [
    {
     "data": {
      "text/plain": [
       "datetime.datetime(2024, 12, 23, 9, 13, 3, 980126)"
      ]
     },
     "execution_count": 74,
     "metadata": {},
     "output_type": "execute_result"
    }
   ],
   "source": [
    "dt.datetime.now()"
   ]
  },
  {
   "cell_type": "code",
   "execution_count": 20,
   "id": "a26fefa5",
   "metadata": {},
   "outputs": [
    {
     "data": {
      "text/plain": [
       "2024"
      ]
     },
     "execution_count": 20,
     "metadata": {},
     "output_type": "execute_result"
    }
   ],
   "source": [
    "dt.datetime.now().year"
   ]
  },
  {
   "cell_type": "code",
   "execution_count": 23,
   "id": "9ab934f1",
   "metadata": {},
   "outputs": [
    {
     "data": {
      "text/plain": [
       "430585"
      ]
     },
     "execution_count": 23,
     "metadata": {},
     "output_type": "execute_result"
    }
   ],
   "source": [
    "dt.datetime.now().microsecond #looks random"
   ]
  },
  {
   "cell_type": "code",
   "execution_count": 26,
   "id": "bdc12f2f",
   "metadata": {},
   "outputs": [
    {
     "name": "stdout",
     "output_type": "stream",
     "text": [
      "Your random number is 336449\n"
     ]
    }
   ],
   "source": [
    "print(f\"Your random number is {dt.datetime.now().microsecond}\")"
   ]
  },
  {
   "cell_type": "markdown",
   "id": "32accb11",
   "metadata": {},
   "source": [
    "#### pandas"
   ]
  },
  {
   "cell_type": "code",
   "execution_count": 27,
   "id": "925a7cc9",
   "metadata": {},
   "outputs": [
    {
     "data": {
      "text/plain": [
       "Timestamp('1970-01-01 00:00:00.000002024')"
      ]
     },
     "execution_count": 27,
     "metadata": {},
     "output_type": "execute_result"
    }
   ],
   "source": [
    "pd.Timestamp(2024)"
   ]
  },
  {
   "cell_type": "code",
   "execution_count": 28,
   "id": "23deecbd",
   "metadata": {},
   "outputs": [
    {
     "data": {
      "text/plain": [
       "Timestamp('2024-01-01 00:00:00')"
      ]
     },
     "execution_count": 28,
     "metadata": {},
     "output_type": "execute_result"
    }
   ],
   "source": [
    "pd.Timestamp(\"2024\")"
   ]
  },
  {
   "cell_type": "code",
   "execution_count": 29,
   "id": "64a5a390",
   "metadata": {},
   "outputs": [
    {
     "data": {
      "text/plain": [
       "Timestamp('2024-12-19 00:00:00')"
      ]
     },
     "execution_count": 29,
     "metadata": {},
     "output_type": "execute_result"
    }
   ],
   "source": [
    "pd.Timestamp(\"2024/12/19\")"
   ]
  },
  {
   "cell_type": "code",
   "execution_count": 30,
   "id": "25fcaaab",
   "metadata": {},
   "outputs": [
    {
     "data": {
      "text/plain": [
       "Timestamp('2024-12-15 00:00:00')"
      ]
     },
     "execution_count": 30,
     "metadata": {},
     "output_type": "execute_result"
    }
   ],
   "source": [
    "pd.Timestamp(\"12/15/2024\")"
   ]
  },
  {
   "cell_type": "code",
   "execution_count": 32,
   "id": "d676906f",
   "metadata": {},
   "outputs": [
    {
     "data": {
      "text/plain": [
       "Timestamp('2024-12-19 16:13:01')"
      ]
     },
     "execution_count": 32,
     "metadata": {},
     "output_type": "execute_result"
    }
   ],
   "source": [
    "#pd.Timestamp(\"12/2024/30\")\n",
    "pd.Timestamp(\"2024/12/19 16:13:01\")"
   ]
  },
  {
   "cell_type": "code",
   "execution_count": 33,
   "id": "e7cb807e",
   "metadata": {},
   "outputs": [
    {
     "data": {
      "text/plain": [
       "Timestamp('2024-12-19 16:13:01')"
      ]
     },
     "execution_count": 33,
     "metadata": {},
     "output_type": "execute_result"
    }
   ],
   "source": [
    "pd.Timestamp(\"2024/12/19 04:13:01 PM\")"
   ]
  },
  {
   "cell_type": "code",
   "execution_count": 34,
   "id": "cc8d20d1",
   "metadata": {},
   "outputs": [
    {
     "data": {
      "text/plain": [
       "Timestamp('2024-03-04 00:00:00')"
      ]
     },
     "execution_count": 34,
     "metadata": {},
     "output_type": "execute_result"
    }
   ],
   "source": [
    "pd.Timestamp(\"3/4/2024\")"
   ]
  },
  {
   "cell_type": "code",
   "execution_count": 37,
   "id": "4a4382db",
   "metadata": {},
   "outputs": [
    {
     "data": {
      "text/plain": [
       "Timestamp('2024-04-03 00:00:00')"
      ]
     },
     "execution_count": 37,
     "metadata": {},
     "output_type": "execute_result"
    }
   ],
   "source": [
    "pd.Timestamp(\"3/APR/2024\")"
   ]
  },
  {
   "cell_type": "code",
   "execution_count": 38,
   "id": "bc31a11c",
   "metadata": {},
   "outputs": [],
   "source": [
    "dates = ['2020/01/11', '2021/02/12', '2023/03/13']"
   ]
  },
  {
   "cell_type": "code",
   "execution_count": 40,
   "id": "29bfb258",
   "metadata": {},
   "outputs": [],
   "source": [
    "dates_ind  = pd.DatetimeIndex(dates)"
   ]
  },
  {
   "cell_type": "code",
   "execution_count": 41,
   "id": "35cd0e4d",
   "metadata": {},
   "outputs": [
    {
     "data": {
      "text/plain": [
       "DatetimeIndex(['2020-01-11', '2021-02-12', '2023-03-13'], dtype='datetime64[ns]', freq=None)"
      ]
     },
     "execution_count": 41,
     "metadata": {},
     "output_type": "execute_result"
    }
   ],
   "source": [
    "dates_ind "
   ]
  },
  {
   "cell_type": "code",
   "execution_count": 42,
   "id": "e6568ad4",
   "metadata": {},
   "outputs": [],
   "source": [
    "completed = [True, False, True]"
   ]
  },
  {
   "cell_type": "code",
   "execution_count": 43,
   "id": "f355be25",
   "metadata": {},
   "outputs": [],
   "source": [
    "my_ser = pd.Series(data = completed, index  = dates_ind)"
   ]
  },
  {
   "cell_type": "code",
   "execution_count": 44,
   "id": "96e4cbd8",
   "metadata": {},
   "outputs": [
    {
     "data": {
      "text/plain": [
       "2020-01-11     True\n",
       "2021-02-12    False\n",
       "2023-03-13     True\n",
       "dtype: bool"
      ]
     },
     "execution_count": 44,
     "metadata": {},
     "output_type": "execute_result"
    }
   ],
   "source": [
    "my_ser"
   ]
  },
  {
   "cell_type": "code",
   "execution_count": 45,
   "id": "7ff44076",
   "metadata": {},
   "outputs": [
    {
     "data": {
      "text/plain": [
       "pandas.core.series.Series"
      ]
     },
     "execution_count": 45,
     "metadata": {},
     "output_type": "execute_result"
    }
   ],
   "source": [
    "type(my_ser)"
   ]
  },
  {
   "cell_type": "markdown",
   "id": "a68e8c51",
   "metadata": {},
   "source": [
    "to_datetime"
   ]
  },
  {
   "cell_type": "code",
   "execution_count": 46,
   "id": "d48608f2",
   "metadata": {},
   "outputs": [
    {
     "data": {
      "text/plain": [
       "Timestamp('2020-05-14 00:00:00')"
      ]
     },
     "execution_count": 46,
     "metadata": {},
     "output_type": "execute_result"
    }
   ],
   "source": [
    "pd.to_datetime(\"2020-05-14\")"
   ]
  },
  {
   "cell_type": "code",
   "execution_count": 47,
   "id": "a805190c",
   "metadata": {},
   "outputs": [],
   "source": [
    "dates = ['2020/01/11', '2021/02/12', '2023/03/13']"
   ]
  },
  {
   "cell_type": "code",
   "execution_count": 48,
   "id": "58e7fd35",
   "metadata": {},
   "outputs": [
    {
     "data": {
      "text/plain": [
       "DatetimeIndex(['2020-01-11', '2021-02-12', '2023-03-13'], dtype='datetime64[ns]', freq=None)"
      ]
     },
     "execution_count": 48,
     "metadata": {},
     "output_type": "execute_result"
    }
   ],
   "source": [
    "pd.to_datetime(dates)"
   ]
  },
  {
   "cell_type": "code",
   "execution_count": 62,
   "id": "10bb8a41",
   "metadata": {},
   "outputs": [],
   "source": [
    "dates = ['2021-12-31', '2023/12/31']"
   ]
  },
  {
   "cell_type": "code",
   "execution_count": 63,
   "id": "994a8bbc",
   "metadata": {},
   "outputs": [
    {
     "ename": "ValueError",
     "evalue": "time data '2021-12-31' does not match format 'mixed' (match)",
     "output_type": "error",
     "traceback": [
      "\u001b[1;31m---------------------------------------------------------------------------\u001b[0m",
      "\u001b[1;31mTypeError\u001b[0m                                 Traceback (most recent call last)",
      "\u001b[1;32m~\\.conda\\envs\\env_2\\lib\\site-packages\\pandas\\core\\tools\\datetimes.py\u001b[0m in \u001b[0;36m_to_datetime_with_format\u001b[1;34m(arg, orig_arg, name, tz, fmt, exact, errors, infer_datetime_format)\u001b[0m\n\u001b[0;32m    508\u001b[0m         \u001b[1;32mtry\u001b[0m\u001b[1;33m:\u001b[0m\u001b[1;33m\u001b[0m\u001b[1;33m\u001b[0m\u001b[0m\n\u001b[1;32m--> 509\u001b[1;33m             \u001b[0mvalues\u001b[0m\u001b[1;33m,\u001b[0m \u001b[0mtz\u001b[0m \u001b[1;33m=\u001b[0m \u001b[0mconversion\u001b[0m\u001b[1;33m.\u001b[0m\u001b[0mdatetime_to_datetime64\u001b[0m\u001b[1;33m(\u001b[0m\u001b[0marg\u001b[0m\u001b[1;33m)\u001b[0m\u001b[1;33m\u001b[0m\u001b[1;33m\u001b[0m\u001b[0m\n\u001b[0m\u001b[0;32m    510\u001b[0m             \u001b[0mdta\u001b[0m \u001b[1;33m=\u001b[0m \u001b[0mDatetimeArray\u001b[0m\u001b[1;33m(\u001b[0m\u001b[0mvalues\u001b[0m\u001b[1;33m,\u001b[0m \u001b[0mdtype\u001b[0m\u001b[1;33m=\u001b[0m\u001b[0mtz_to_dtype\u001b[0m\u001b[1;33m(\u001b[0m\u001b[0mtz\u001b[0m\u001b[1;33m)\u001b[0m\u001b[1;33m)\u001b[0m\u001b[1;33m\u001b[0m\u001b[1;33m\u001b[0m\u001b[0m\n",
      "\u001b[1;32m~\\.conda\\envs\\env_2\\lib\\site-packages\\pandas\\_libs\\tslibs\\conversion.pyx\u001b[0m in \u001b[0;36mpandas._libs.tslibs.conversion.datetime_to_datetime64\u001b[1;34m()\u001b[0m\n",
      "\u001b[1;31mTypeError\u001b[0m: Unrecognized value type: <class 'str'>",
      "\nDuring handling of the above exception, another exception occurred:\n",
      "\u001b[1;31mValueError\u001b[0m                                Traceback (most recent call last)",
      "\u001b[1;32m~\\AppData\\Local\\Temp\\ipykernel_11300\\2383409634.py\u001b[0m in \u001b[0;36m<module>\u001b[1;34m\u001b[0m\n\u001b[1;32m----> 1\u001b[1;33m \u001b[0mpd\u001b[0m\u001b[1;33m.\u001b[0m\u001b[0mto_datetime\u001b[0m\u001b[1;33m(\u001b[0m\u001b[0mdates\u001b[0m \u001b[1;33m,\u001b[0m \u001b[0mformat\u001b[0m \u001b[1;33m=\u001b[0m \u001b[1;34m'mixed'\u001b[0m\u001b[1;33m)\u001b[0m\u001b[1;33m\u001b[0m\u001b[1;33m\u001b[0m\u001b[0m\n\u001b[0m",
      "\u001b[1;32m~\\.conda\\envs\\env_2\\lib\\site-packages\\pandas\\core\\tools\\datetimes.py\u001b[0m in \u001b[0;36mto_datetime\u001b[1;34m(arg, errors, dayfirst, yearfirst, utc, format, exact, unit, infer_datetime_format, origin, cache)\u001b[0m\n\u001b[0;32m    910\u001b[0m             \u001b[0mresult\u001b[0m \u001b[1;33m=\u001b[0m \u001b[0m_convert_and_box_cache\u001b[0m\u001b[1;33m(\u001b[0m\u001b[0marg\u001b[0m\u001b[1;33m,\u001b[0m \u001b[0mcache_array\u001b[0m\u001b[1;33m)\u001b[0m\u001b[1;33m\u001b[0m\u001b[1;33m\u001b[0m\u001b[0m\n\u001b[0;32m    911\u001b[0m         \u001b[1;32melse\u001b[0m\u001b[1;33m:\u001b[0m\u001b[1;33m\u001b[0m\u001b[1;33m\u001b[0m\u001b[0m\n\u001b[1;32m--> 912\u001b[1;33m             \u001b[0mresult\u001b[0m \u001b[1;33m=\u001b[0m \u001b[0mconvert_listlike\u001b[0m\u001b[1;33m(\u001b[0m\u001b[0marg\u001b[0m\u001b[1;33m,\u001b[0m \u001b[0mformat\u001b[0m\u001b[1;33m)\u001b[0m\u001b[1;33m\u001b[0m\u001b[1;33m\u001b[0m\u001b[0m\n\u001b[0m\u001b[0;32m    913\u001b[0m     \u001b[1;32melse\u001b[0m\u001b[1;33m:\u001b[0m\u001b[1;33m\u001b[0m\u001b[1;33m\u001b[0m\u001b[0m\n\u001b[0;32m    914\u001b[0m         \u001b[0mresult\u001b[0m \u001b[1;33m=\u001b[0m \u001b[0mconvert_listlike\u001b[0m\u001b[1;33m(\u001b[0m\u001b[0mnp\u001b[0m\u001b[1;33m.\u001b[0m\u001b[0marray\u001b[0m\u001b[1;33m(\u001b[0m\u001b[1;33m[\u001b[0m\u001b[0marg\u001b[0m\u001b[1;33m]\u001b[0m\u001b[1;33m)\u001b[0m\u001b[1;33m,\u001b[0m \u001b[0mformat\u001b[0m\u001b[1;33m)\u001b[0m\u001b[1;33m[\u001b[0m\u001b[1;36m0\u001b[0m\u001b[1;33m]\u001b[0m\u001b[1;33m\u001b[0m\u001b[1;33m\u001b[0m\u001b[0m\n",
      "\u001b[1;32m~\\.conda\\envs\\env_2\\lib\\site-packages\\pandas\\core\\tools\\datetimes.py\u001b[0m in \u001b[0;36m_convert_listlike_datetimes\u001b[1;34m(arg, format, name, tz, unit, errors, infer_datetime_format, dayfirst, yearfirst, exact)\u001b[0m\n\u001b[0;32m    392\u001b[0m     \u001b[1;32mif\u001b[0m \u001b[0mformat\u001b[0m \u001b[1;32mis\u001b[0m \u001b[1;32mnot\u001b[0m \u001b[1;32mNone\u001b[0m\u001b[1;33m:\u001b[0m\u001b[1;33m\u001b[0m\u001b[1;33m\u001b[0m\u001b[0m\n\u001b[0;32m    393\u001b[0m         res = _to_datetime_with_format(\n\u001b[1;32m--> 394\u001b[1;33m             \u001b[0marg\u001b[0m\u001b[1;33m,\u001b[0m \u001b[0morig_arg\u001b[0m\u001b[1;33m,\u001b[0m \u001b[0mname\u001b[0m\u001b[1;33m,\u001b[0m \u001b[0mtz\u001b[0m\u001b[1;33m,\u001b[0m \u001b[0mformat\u001b[0m\u001b[1;33m,\u001b[0m \u001b[0mexact\u001b[0m\u001b[1;33m,\u001b[0m \u001b[0merrors\u001b[0m\u001b[1;33m,\u001b[0m \u001b[0minfer_datetime_format\u001b[0m\u001b[1;33m\u001b[0m\u001b[1;33m\u001b[0m\u001b[0m\n\u001b[0m\u001b[0;32m    395\u001b[0m         )\n\u001b[0;32m    396\u001b[0m         \u001b[1;32mif\u001b[0m \u001b[0mres\u001b[0m \u001b[1;32mis\u001b[0m \u001b[1;32mnot\u001b[0m \u001b[1;32mNone\u001b[0m\u001b[1;33m:\u001b[0m\u001b[1;33m\u001b[0m\u001b[1;33m\u001b[0m\u001b[0m\n",
      "\u001b[1;32m~\\.conda\\envs\\env_2\\lib\\site-packages\\pandas\\core\\tools\\datetimes.py\u001b[0m in \u001b[0;36m_to_datetime_with_format\u001b[1;34m(arg, orig_arg, name, tz, fmt, exact, errors, infer_datetime_format)\u001b[0m\n\u001b[0;32m    511\u001b[0m             \u001b[1;32mreturn\u001b[0m \u001b[0mDatetimeIndex\u001b[0m\u001b[1;33m.\u001b[0m\u001b[0m_simple_new\u001b[0m\u001b[1;33m(\u001b[0m\u001b[0mdta\u001b[0m\u001b[1;33m,\u001b[0m \u001b[0mname\u001b[0m\u001b[1;33m=\u001b[0m\u001b[0mname\u001b[0m\u001b[1;33m)\u001b[0m\u001b[1;33m\u001b[0m\u001b[1;33m\u001b[0m\u001b[0m\n\u001b[0;32m    512\u001b[0m         \u001b[1;32mexcept\u001b[0m \u001b[1;33m(\u001b[0m\u001b[0mValueError\u001b[0m\u001b[1;33m,\u001b[0m \u001b[0mTypeError\u001b[0m\u001b[1;33m)\u001b[0m\u001b[1;33m:\u001b[0m\u001b[1;33m\u001b[0m\u001b[1;33m\u001b[0m\u001b[0m\n\u001b[1;32m--> 513\u001b[1;33m             \u001b[1;32mraise\u001b[0m \u001b[0merr\u001b[0m\u001b[1;33m\u001b[0m\u001b[1;33m\u001b[0m\u001b[0m\n\u001b[0m\u001b[0;32m    514\u001b[0m \u001b[1;33m\u001b[0m\u001b[0m\n\u001b[0;32m    515\u001b[0m \u001b[1;33m\u001b[0m\u001b[0m\n",
      "\u001b[1;32m~\\.conda\\envs\\env_2\\lib\\site-packages\\pandas\\core\\tools\\datetimes.py\u001b[0m in \u001b[0;36m_to_datetime_with_format\u001b[1;34m(arg, orig_arg, name, tz, fmt, exact, errors, infer_datetime_format)\u001b[0m\n\u001b[0;32m    499\u001b[0m         \u001b[1;31m# fallback\u001b[0m\u001b[1;33m\u001b[0m\u001b[1;33m\u001b[0m\u001b[1;33m\u001b[0m\u001b[0m\n\u001b[0;32m    500\u001b[0m         res = _array_strptime_with_fallback(\n\u001b[1;32m--> 501\u001b[1;33m             \u001b[0marg\u001b[0m\u001b[1;33m,\u001b[0m \u001b[0mname\u001b[0m\u001b[1;33m,\u001b[0m \u001b[0mtz\u001b[0m\u001b[1;33m,\u001b[0m \u001b[0mfmt\u001b[0m\u001b[1;33m,\u001b[0m \u001b[0mexact\u001b[0m\u001b[1;33m,\u001b[0m \u001b[0merrors\u001b[0m\u001b[1;33m,\u001b[0m \u001b[0minfer_datetime_format\u001b[0m\u001b[1;33m\u001b[0m\u001b[1;33m\u001b[0m\u001b[0m\n\u001b[0m\u001b[0;32m    502\u001b[0m         )\n\u001b[0;32m    503\u001b[0m         \u001b[1;32mreturn\u001b[0m \u001b[0mres\u001b[0m\u001b[1;33m\u001b[0m\u001b[1;33m\u001b[0m\u001b[0m\n",
      "\u001b[1;32m~\\.conda\\envs\\env_2\\lib\\site-packages\\pandas\\core\\tools\\datetimes.py\u001b[0m in \u001b[0;36m_array_strptime_with_fallback\u001b[1;34m(arg, name, tz, fmt, exact, errors, infer_datetime_format)\u001b[0m\n\u001b[0;32m    434\u001b[0m \u001b[1;33m\u001b[0m\u001b[0m\n\u001b[0;32m    435\u001b[0m     \u001b[1;32mtry\u001b[0m\u001b[1;33m:\u001b[0m\u001b[1;33m\u001b[0m\u001b[1;33m\u001b[0m\u001b[0m\n\u001b[1;32m--> 436\u001b[1;33m         \u001b[0mresult\u001b[0m\u001b[1;33m,\u001b[0m \u001b[0mtimezones\u001b[0m \u001b[1;33m=\u001b[0m \u001b[0marray_strptime\u001b[0m\u001b[1;33m(\u001b[0m\u001b[0marg\u001b[0m\u001b[1;33m,\u001b[0m \u001b[0mfmt\u001b[0m\u001b[1;33m,\u001b[0m \u001b[0mexact\u001b[0m\u001b[1;33m=\u001b[0m\u001b[0mexact\u001b[0m\u001b[1;33m,\u001b[0m \u001b[0merrors\u001b[0m\u001b[1;33m=\u001b[0m\u001b[0merrors\u001b[0m\u001b[1;33m)\u001b[0m\u001b[1;33m\u001b[0m\u001b[1;33m\u001b[0m\u001b[0m\n\u001b[0m\u001b[0;32m    437\u001b[0m         \u001b[1;32mif\u001b[0m \u001b[1;34m\"%Z\"\u001b[0m \u001b[1;32min\u001b[0m \u001b[0mfmt\u001b[0m \u001b[1;32mor\u001b[0m \u001b[1;34m\"%z\"\u001b[0m \u001b[1;32min\u001b[0m \u001b[0mfmt\u001b[0m\u001b[1;33m:\u001b[0m\u001b[1;33m\u001b[0m\u001b[1;33m\u001b[0m\u001b[0m\n\u001b[0;32m    438\u001b[0m             \u001b[1;32mreturn\u001b[0m \u001b[0m_return_parsed_timezone_results\u001b[0m\u001b[1;33m(\u001b[0m\u001b[0mresult\u001b[0m\u001b[1;33m,\u001b[0m \u001b[0mtimezones\u001b[0m\u001b[1;33m,\u001b[0m \u001b[0mtz\u001b[0m\u001b[1;33m,\u001b[0m \u001b[0mname\u001b[0m\u001b[1;33m)\u001b[0m\u001b[1;33m\u001b[0m\u001b[1;33m\u001b[0m\u001b[0m\n",
      "\u001b[1;32m~\\.conda\\envs\\env_2\\lib\\site-packages\\pandas\\_libs\\tslibs\\strptime.pyx\u001b[0m in \u001b[0;36mpandas._libs.tslibs.strptime.array_strptime\u001b[1;34m()\u001b[0m\n",
      "\u001b[1;31mValueError\u001b[0m: time data '2021-12-31' does not match format 'mixed' (match)"
     ]
    }
   ],
   "source": [
    "#pd.to_datetime(dates , format = 'mixed')"
   ]
  },
  {
   "cell_type": "code",
   "execution_count": 65,
   "id": "00168efd",
   "metadata": {},
   "outputs": [
    {
     "data": {
      "text/plain": [
       "1"
      ]
     },
     "execution_count": 65,
     "metadata": {},
     "output_type": "execute_result"
    }
   ],
   "source": [
    "pd.Timestamp(\"2024\").month"
   ]
  },
  {
   "cell_type": "code",
   "execution_count": 67,
   "id": "378311f6",
   "metadata": {},
   "outputs": [
    {
     "data": {
      "text/plain": [
       "False"
      ]
     },
     "execution_count": 67,
     "metadata": {},
     "output_type": "execute_result"
    }
   ],
   "source": [
    "pd.to_datetime(\"2024-12-15\").is_month_end"
   ]
  },
  {
   "cell_type": "code",
   "execution_count": 70,
   "id": "2d5b81cd",
   "metadata": {},
   "outputs": [
    {
     "data": {
      "text/plain": [
       "True"
      ]
     },
     "execution_count": 70,
     "metadata": {},
     "output_type": "execute_result"
    }
   ],
   "source": [
    "pd.Timestamp(\"2024-12-01\").is_month_start"
   ]
  },
  {
   "cell_type": "markdown",
   "id": "83bfa5d5",
   "metadata": {},
   "source": [
    "##### Continue lesson"
   ]
  },
  {
   "cell_type": "code",
   "execution_count": 75,
   "id": "67847600",
   "metadata": {},
   "outputs": [
    {
     "data": {
      "text/plain": [
       "Timestamp('2013-05-08 00:00:00')"
      ]
     },
     "execution_count": 75,
     "metadata": {},
     "output_type": "execute_result"
    }
   ],
   "source": [
    "pd.to_datetime('May 8th 2013')"
   ]
  },
  {
   "cell_type": "code",
   "execution_count": 76,
   "id": "7fb1db81",
   "metadata": {},
   "outputs": [
    {
     "data": {
      "text/plain": [
       "Timestamp('1999-10-31 00:00:00')"
      ]
     },
     "execution_count": 76,
     "metadata": {},
     "output_type": "execute_result"
    }
   ],
   "source": [
    "pd.to_datetime('10/31/1999')"
   ]
  },
  {
   "cell_type": "code",
   "execution_count": 77,
   "id": "c23e833e",
   "metadata": {},
   "outputs": [],
   "source": [
    "dates = ['May 8th 2013','10/31/1999']"
   ]
  },
  {
   "cell_type": "code",
   "execution_count": 78,
   "id": "792b3c46",
   "metadata": {},
   "outputs": [
    {
     "data": {
      "text/plain": [
       "DatetimeIndex(['2013-05-08', '1999-10-31'], dtype='datetime64[ns]', freq=None)"
      ]
     },
     "execution_count": 78,
     "metadata": {},
     "output_type": "execute_result"
    }
   ],
   "source": [
    "pd.to_datetime (dates)"
   ]
  },
  {
   "cell_type": "code",
   "execution_count": 79,
   "id": "bd3b4212",
   "metadata": {},
   "outputs": [],
   "source": [
    "dates = ['May 8th 2013','10/31/1999','30/01/2011']"
   ]
  },
  {
   "cell_type": "code",
   "execution_count": 80,
   "id": "85af118e",
   "metadata": {},
   "outputs": [
    {
     "data": {
      "text/plain": [
       "DatetimeIndex(['2013-05-08', '1999-10-31', '2011-01-30'], dtype='datetime64[ns]', freq=None)"
      ]
     },
     "execution_count": 80,
     "metadata": {},
     "output_type": "execute_result"
    }
   ],
   "source": [
    "pd.to_datetime (dates)"
   ]
  },
  {
   "cell_type": "code",
   "execution_count": 81,
   "id": "19bb7742",
   "metadata": {},
   "outputs": [],
   "source": [
    "dates = ['May 8th 2013','10/31/1999','30/01/2011', '09-JAN-2010']"
   ]
  },
  {
   "cell_type": "code",
   "execution_count": 82,
   "id": "05227bda",
   "metadata": {},
   "outputs": [
    {
     "data": {
      "text/plain": [
       "DatetimeIndex(['2013-05-08', '1999-10-31', '2011-01-30', '2010-01-09'], dtype='datetime64[ns]', freq=None)"
      ]
     },
     "execution_count": 82,
     "metadata": {},
     "output_type": "execute_result"
    }
   ],
   "source": [
    "pd.to_datetime (dates)"
   ]
  },
  {
   "cell_type": "code",
   "execution_count": 83,
   "id": "c0b83a13",
   "metadata": {},
   "outputs": [],
   "source": [
    "dates = ['May 8th 2013','10/31/1999','30/01/2011', '09-JAN-2010', '35-MAY-2015']"
   ]
  },
  {
   "cell_type": "code",
   "execution_count": 86,
   "id": "03154195",
   "metadata": {},
   "outputs": [
    {
     "data": {
      "text/plain": [
       "Index(['May 8th 2013', '10/31/1999', '30/01/2011', '09-JAN-2010',\n",
       "       '35-MAY-2015'],\n",
       "      dtype='object')"
      ]
     },
     "execution_count": 86,
     "metadata": {},
     "output_type": "execute_result"
    }
   ],
   "source": [
    "pd.to_datetime (dates, errors = 'ignore')"
   ]
  },
  {
   "cell_type": "code",
   "execution_count": 87,
   "id": "d3fb1bbb",
   "metadata": {},
   "outputs": [
    {
     "data": {
      "text/plain": [
       "DatetimeIndex(['2013-05-08', '1999-10-31', '2011-01-30', '2010-01-09', 'NaT'], dtype='datetime64[ns]', freq=None)"
      ]
     },
     "execution_count": 87,
     "metadata": {},
     "output_type": "execute_result"
    }
   ],
   "source": [
    "pd.to_datetime (dates, errors = 'coerce')"
   ]
  },
  {
   "cell_type": "code",
   "execution_count": 89,
   "id": "f4ffe4f0",
   "metadata": {
    "scrolled": true
   },
   "outputs": [
    {
     "data": {
      "text/plain": [
       "DatetimeIndex(['2024-12-14', '2024-12-15', '2024-12-16', '2024-12-17',\n",
       "               '2024-12-18', '2024-12-19', '2024-12-20', '2024-12-21',\n",
       "               '2024-12-22', '2024-12-23', '2024-12-24', '2024-12-25',\n",
       "               '2024-12-26', '2024-12-27', '2024-12-28', '2024-12-29',\n",
       "               '2024-12-30', '2024-12-31'],\n",
       "              dtype='datetime64[ns]', freq='D')"
      ]
     },
     "execution_count": 89,
     "metadata": {},
     "output_type": "execute_result"
    }
   ],
   "source": [
    "pd.date_range('14-12-2024', '31-12-2024')"
   ]
  },
  {
   "cell_type": "code",
   "execution_count": 91,
   "id": "fca6b44d",
   "metadata": {},
   "outputs": [
    {
     "data": {
      "text/plain": [
       "DatetimeIndex(['2024-12-14', '2024-12-17', '2024-12-20', '2024-12-23',\n",
       "               '2024-12-26', '2024-12-29'],\n",
       "              dtype='datetime64[ns]', freq='3D')"
      ]
     },
     "execution_count": 91,
     "metadata": {},
     "output_type": "execute_result"
    }
   ],
   "source": [
    "pd.date_range('14-12-2024', '31-12-2024',freq='3D')"
   ]
  },
  {
   "cell_type": "code",
   "execution_count": 95,
   "id": "765413e7",
   "metadata": {},
   "outputs": [
    {
     "data": {
      "text/plain": [
       "DatetimeIndex(['2024-12-14', '2024-12-21', '2024-12-28'], dtype='datetime64[ns]', freq='W-SAT')"
      ]
     },
     "execution_count": 95,
     "metadata": {},
     "output_type": "execute_result"
    }
   ],
   "source": [
    "pd.date_range('14-12-2024', '31-12-2024',freq='W-SAT')"
   ]
  },
  {
   "cell_type": "code",
   "execution_count": 93,
   "id": "4f51a6a6",
   "metadata": {},
   "outputs": [
    {
     "data": {
      "text/plain": [
       "DatetimeIndex(['2024-02-04', '2024-03-10', '2024-04-14', '2024-05-19',\n",
       "               '2024-06-23', '2024-07-28', '2024-09-01', '2024-10-06',\n",
       "               '2024-11-10', '2024-12-15'],\n",
       "              dtype='datetime64[ns]', freq='5W-SUN')"
      ]
     },
     "execution_count": 93,
     "metadata": {},
     "output_type": "execute_result"
    }
   ],
   "source": [
    "pd.date_range('30-01-2024', '31-12-2024',freq='5W')"
   ]
  },
  {
   "cell_type": "code",
   "execution_count": 96,
   "id": "f4d9430a",
   "metadata": {},
   "outputs": [
    {
     "data": {
      "text/plain": [
       "DatetimeIndex(['2024-12-16', '2024-12-17', '2024-12-18', '2024-12-19',\n",
       "               '2024-12-20', '2024-12-23', '2024-12-24', '2024-12-25',\n",
       "               '2024-12-26', '2024-12-27', '2024-12-30', '2024-12-31'],\n",
       "              dtype='datetime64[ns]', freq='B')"
      ]
     },
     "execution_count": 96,
     "metadata": {},
     "output_type": "execute_result"
    }
   ],
   "source": [
    "pd.date_range('14-12-2024', '31-12-2024',freq='B')"
   ]
  },
  {
   "cell_type": "code",
   "execution_count": 98,
   "id": "851b4eb2",
   "metadata": {},
   "outputs": [
    {
     "data": {
      "text/plain": [
       "DatetimeIndex(['2024-12-16 09:00:00', '2024-12-16 10:00:00',\n",
       "               '2024-12-16 11:00:00', '2024-12-16 12:00:00',\n",
       "               '2024-12-16 13:00:00', '2024-12-16 14:00:00',\n",
       "               '2024-12-16 15:00:00', '2024-12-16 16:00:00',\n",
       "               '2024-12-17 09:00:00', '2024-12-17 10:00:00',\n",
       "               '2024-12-17 11:00:00', '2024-12-17 12:00:00',\n",
       "               '2024-12-17 13:00:00', '2024-12-17 14:00:00',\n",
       "               '2024-12-17 15:00:00', '2024-12-17 16:00:00',\n",
       "               '2024-12-18 09:00:00', '2024-12-18 10:00:00',\n",
       "               '2024-12-18 11:00:00', '2024-12-18 12:00:00',\n",
       "               '2024-12-18 13:00:00', '2024-12-18 14:00:00',\n",
       "               '2024-12-18 15:00:00', '2024-12-18 16:00:00',\n",
       "               '2024-12-19 09:00:00', '2024-12-19 10:00:00',\n",
       "               '2024-12-19 11:00:00', '2024-12-19 12:00:00',\n",
       "               '2024-12-19 13:00:00', '2024-12-19 14:00:00',\n",
       "               '2024-12-19 15:00:00', '2024-12-19 16:00:00'],\n",
       "              dtype='datetime64[ns]', freq='BH')"
      ]
     },
     "execution_count": 98,
     "metadata": {},
     "output_type": "execute_result"
    }
   ],
   "source": [
    "pd.date_range('14-12-2024', '20-12-2024',freq='BH')"
   ]
  },
  {
   "cell_type": "code",
   "execution_count": 100,
   "id": "2494d814",
   "metadata": {},
   "outputs": [
    {
     "data": {
      "text/plain": [
       "DatetimeIndex(['2024-12-31', '2025-12-31', '2026-12-31', '2027-12-31'], dtype='datetime64[ns]', freq='A-DEC')"
      ]
     },
     "execution_count": 100,
     "metadata": {},
     "output_type": "execute_result"
    }
   ],
   "source": [
    "pd.date_range('14-12-2024', '20-12-2028',freq='Y')"
   ]
  },
  {
   "cell_type": "code",
   "execution_count": 101,
   "id": "52c61cdd",
   "metadata": {},
   "outputs": [
    {
     "data": {
      "text/plain": [
       "DatetimeIndex(['2025-05-31', '2026-05-31', '2027-05-31', '2028-05-31'], dtype='datetime64[ns]', freq='A-MAY')"
      ]
     },
     "execution_count": 101,
     "metadata": {},
     "output_type": "execute_result"
    }
   ],
   "source": [
    "pd.date_range('14-12-2024', '20-12-2028',freq='A-MAY')"
   ]
  },
  {
   "cell_type": "code",
   "execution_count": 102,
   "id": "b9bd03fc",
   "metadata": {},
   "outputs": [],
   "source": [
    "import calendar"
   ]
  },
  {
   "cell_type": "code",
   "execution_count": 103,
   "id": "3a3840d3",
   "metadata": {},
   "outputs": [
    {
     "name": "stdout",
     "output_type": "stream",
     "text": [
      "    January 2025\n",
      "Mo Tu We Th Fr Sa Su\n",
      "       1  2  3  4  5\n",
      " 6  7  8  9 10 11 12\n",
      "13 14 15 16 17 18 19\n",
      "20 21 22 23 24 25 26\n",
      "27 28 29 30 31\n",
      "\n"
     ]
    }
   ],
   "source": [
    "print(calendar.month(2025,1))"
   ]
  },
  {
   "cell_type": "code",
   "execution_count": 107,
   "id": "644cb2b6",
   "metadata": {},
   "outputs": [
    {
     "name": "stdout",
     "output_type": "stream",
     "text": [
      "   February 2024\n",
      "Mo Tu We Th Fr Sa Su\n",
      "          1  2  3  4\n",
      " 5  6  7  8  9 10 11\n",
      "12 13 14 15 16 17 18\n",
      "19 20 21 22 23 24 25\n",
      "26 27 28 29\n",
      "\n"
     ]
    }
   ],
   "source": [
    "print(calendar.month(2024,2))"
   ]
  },
  {
   "cell_type": "code",
   "execution_count": 108,
   "id": "d86610cf",
   "metadata": {},
   "outputs": [
    {
     "data": {
      "text/plain": [
       "DatetimeIndex(['2024-12-14', '2024-12-15', '2024-12-16', '2024-12-17',\n",
       "               '2024-12-18', '2024-12-19', '2024-12-20', '2024-12-21',\n",
       "               '2024-12-22', '2024-12-23', '2024-12-24', '2024-12-25',\n",
       "               '2024-12-26', '2024-12-27', '2024-12-28', '2024-12-29',\n",
       "               '2024-12-30', '2024-12-31'],\n",
       "              dtype='datetime64[ns]', freq='D')"
      ]
     },
     "execution_count": 108,
     "metadata": {},
     "output_type": "execute_result"
    }
   ],
   "source": [
    "pd.date_range(start = '14-12-2024', end = '31-12-2024')"
   ]
  },
  {
   "cell_type": "code",
   "execution_count": 109,
   "id": "09e244e6",
   "metadata": {},
   "outputs": [
    {
     "data": {
      "text/plain": [
       "DatetimeIndex(['2025-01-01', '2025-01-02', '2025-01-03', '2025-01-04',\n",
       "               '2025-01-05', '2025-01-06', '2025-01-07'],\n",
       "              dtype='datetime64[ns]', freq='D')"
      ]
     },
     "execution_count": 109,
     "metadata": {},
     "output_type": "execute_result"
    }
   ],
   "source": [
    "pd.date_range(start = '01-01-2025', periods = 7)"
   ]
  },
  {
   "cell_type": "code",
   "execution_count": 110,
   "id": "a48fb5ad",
   "metadata": {},
   "outputs": [
    {
     "data": {
      "text/plain": [
       "DatetimeIndex(['2024-12-25', '2024-12-26', '2024-12-27', '2024-12-28',\n",
       "               '2024-12-29', '2024-12-30', '2024-12-31'],\n",
       "              dtype='datetime64[ns]', freq='D')"
      ]
     },
     "execution_count": 110,
     "metadata": {},
     "output_type": "execute_result"
    }
   ],
   "source": [
    "pd.date_range( end = '31-12-2024',periods = 7)"
   ]
  },
  {
   "cell_type": "code",
   "execution_count": 113,
   "id": "4ba37361",
   "metadata": {},
   "outputs": [
    {
     "data": {
      "text/plain": [
       "DatetimeIndex(['2024-12-23', '2024-12-24', '2024-12-25', '2024-12-26',\n",
       "               '2024-12-27', '2024-12-30', '2024-12-31'],\n",
       "              dtype='datetime64[ns]', freq='B')"
      ]
     },
     "execution_count": 113,
     "metadata": {},
     "output_type": "execute_result"
    }
   ],
   "source": [
    "pd.date_range( end = '31-12-2024',periods = 7, freq = 'B')"
   ]
  },
  {
   "cell_type": "code",
   "execution_count": 112,
   "id": "f3e104f1",
   "metadata": {},
   "outputs": [
    {
     "name": "stdout",
     "output_type": "stream",
     "text": [
      "   December 2024\n",
      "Mo Tu We Th Fr Sa Su\n",
      "                   1\n",
      " 2  3  4  5  6  7  8\n",
      " 9 10 11 12 13 14 15\n",
      "16 17 18 19 20 21 22\n",
      "23 24 25 26 27 28 29\n",
      "30 31\n",
      "\n"
     ]
    }
   ],
   "source": [
    "print(calendar.month(2024,12))"
   ]
  },
  {
   "cell_type": "code",
   "execution_count": 114,
   "id": "1b1c90b1",
   "metadata": {},
   "outputs": [],
   "source": [
    "#dt accesors"
   ]
  },
  {
   "cell_type": "code",
   "execution_count": 147,
   "id": "7f92a818",
   "metadata": {},
   "outputs": [],
   "source": [
    "dates = pd.date_range(start = '13-11-2024', end = '31-12-2024')"
   ]
  },
  {
   "cell_type": "code",
   "execution_count": 149,
   "id": "23e210fd",
   "metadata": {},
   "outputs": [
    {
     "data": {
      "text/plain": [
       "DatetimeIndex(['2024-11-13', '2024-11-14', '2024-11-15', '2024-11-16',\n",
       "               '2024-11-17', '2024-11-18', '2024-11-19', '2024-11-20',\n",
       "               '2024-11-21', '2024-11-22', '2024-11-23', '2024-11-24',\n",
       "               '2024-11-25', '2024-11-26', '2024-11-27', '2024-11-28',\n",
       "               '2024-11-29', '2024-11-30', '2024-12-01', '2024-12-02',\n",
       "               '2024-12-03', '2024-12-04', '2024-12-05', '2024-12-06',\n",
       "               '2024-12-07', '2024-12-08', '2024-12-09', '2024-12-10',\n",
       "               '2024-12-11', '2024-12-12', '2024-12-13', '2024-12-14',\n",
       "               '2024-12-15', '2024-12-16', '2024-12-17', '2024-12-18',\n",
       "               '2024-12-19', '2024-12-20', '2024-12-21', '2024-12-22',\n",
       "               '2024-12-23', '2024-12-24', '2024-12-25', '2024-12-26',\n",
       "               '2024-12-27', '2024-12-28', '2024-12-29', '2024-12-30',\n",
       "               '2024-12-31'],\n",
       "              dtype='datetime64[ns]', freq='D')"
      ]
     },
     "execution_count": 149,
     "metadata": {},
     "output_type": "execute_result"
    }
   ],
   "source": [
    "dates"
   ]
  },
  {
   "cell_type": "code",
   "execution_count": 141,
   "id": "ad110f8a",
   "metadata": {},
   "outputs": [],
   "source": [
    "dates_s = pd.Series(dates)"
   ]
  },
  {
   "cell_type": "code",
   "execution_count": 118,
   "id": "64b51ced",
   "metadata": {},
   "outputs": [
    {
     "data": {
      "text/plain": [
       "0    2024-12-14\n",
       "1    2024-12-15\n",
       "2    2024-12-16\n",
       "3    2024-12-17\n",
       "4    2024-12-18\n",
       "5    2024-12-19\n",
       "6    2024-12-20\n",
       "7    2024-12-21\n",
       "8    2024-12-22\n",
       "9    2024-12-23\n",
       "10   2024-12-24\n",
       "11   2024-12-25\n",
       "12   2024-12-26\n",
       "13   2024-12-27\n",
       "14   2024-12-28\n",
       "15   2024-12-29\n",
       "16   2024-12-30\n",
       "17   2024-12-31\n",
       "dtype: datetime64[ns]"
      ]
     },
     "execution_count": 118,
     "metadata": {},
     "output_type": "execute_result"
    }
   ],
   "source": [
    "dates_s"
   ]
  },
  {
   "cell_type": "code",
   "execution_count": 120,
   "id": "05714f82",
   "metadata": {},
   "outputs": [
    {
     "data": {
      "text/plain": [
       "0     2024\n",
       "1     2024\n",
       "2     2024\n",
       "3     2024\n",
       "4     2024\n",
       "5     2024\n",
       "6     2024\n",
       "7     2024\n",
       "8     2024\n",
       "9     2024\n",
       "10    2024\n",
       "11    2024\n",
       "12    2024\n",
       "13    2024\n",
       "14    2024\n",
       "15    2024\n",
       "16    2024\n",
       "17    2024\n",
       "dtype: int64"
      ]
     },
     "execution_count": 120,
     "metadata": {},
     "output_type": "execute_result"
    }
   ],
   "source": [
    "dates_s.dt.year"
   ]
  },
  {
   "cell_type": "code",
   "execution_count": 122,
   "id": "48561768",
   "metadata": {},
   "outputs": [
    {
     "data": {
      "text/plain": [
       "0      Saturday\n",
       "1        Sunday\n",
       "2        Monday\n",
       "3       Tuesday\n",
       "4     Wednesday\n",
       "5      Thursday\n",
       "6        Friday\n",
       "7      Saturday\n",
       "8        Sunday\n",
       "9        Monday\n",
       "10      Tuesday\n",
       "11    Wednesday\n",
       "12     Thursday\n",
       "13       Friday\n",
       "14     Saturday\n",
       "15       Sunday\n",
       "16       Monday\n",
       "17      Tuesday\n",
       "dtype: object"
      ]
     },
     "execution_count": 122,
     "metadata": {},
     "output_type": "execute_result"
    }
   ],
   "source": [
    "dates_s.dt.day_name()"
   ]
  },
  {
   "cell_type": "code",
   "execution_count": 125,
   "id": "ea8c44c5",
   "metadata": {},
   "outputs": [
    {
     "data": {
      "text/plain": [
       "27"
      ]
     },
     "execution_count": 125,
     "metadata": {},
     "output_type": "execute_result"
    }
   ],
   "source": [
    "dates_s.dt.day.iloc[13] # the 13th index (the 14th day) in my list is the 27th of the month"
   ]
  },
  {
   "cell_type": "code",
   "execution_count": 127,
   "id": "f8e19bfa",
   "metadata": {},
   "outputs": [
    {
     "data": {
      "text/plain": [
       "0     False\n",
       "1     False\n",
       "2     False\n",
       "3     False\n",
       "4     False\n",
       "5     False\n",
       "6     False\n",
       "7     False\n",
       "8     False\n",
       "9     False\n",
       "10    False\n",
       "11    False\n",
       "12    False\n",
       "13    False\n",
       "14    False\n",
       "15    False\n",
       "16    False\n",
       "17     True\n",
       "dtype: bool"
      ]
     },
     "execution_count": 127,
     "metadata": {},
     "output_type": "execute_result"
    }
   ],
   "source": [
    "dates_s.dt.is_month_end"
   ]
  },
  {
   "cell_type": "code",
   "execution_count": 128,
   "id": "62489ba4",
   "metadata": {},
   "outputs": [
    {
     "data": {
      "text/plain": [
       "0     5\n",
       "1     6\n",
       "2     0\n",
       "3     1\n",
       "4     2\n",
       "5     3\n",
       "6     4\n",
       "7     5\n",
       "8     6\n",
       "9     0\n",
       "10    1\n",
       "11    2\n",
       "12    3\n",
       "13    4\n",
       "14    5\n",
       "15    6\n",
       "16    0\n",
       "17    1\n",
       "dtype: int64"
      ]
     },
     "execution_count": 128,
     "metadata": {},
     "output_type": "execute_result"
    }
   ],
   "source": [
    "dates_s.dt.weekday"
   ]
  },
  {
   "cell_type": "code",
   "execution_count": 133,
   "id": "d218d41d",
   "metadata": {},
   "outputs": [
    {
     "data": {
      "text/plain": [
       "0       True\n",
       "1      False\n",
       "2      False\n",
       "3      False\n",
       "4      False\n",
       "       ...  \n",
       "361    False\n",
       "362    False\n",
       "363    False\n",
       "364    False\n",
       "365    False\n",
       "Length: 366, dtype: bool"
      ]
     },
     "execution_count": 133,
     "metadata": {},
     "output_type": "execute_result"
    }
   ],
   "source": [
    "dates_s.dt.is_quarter_start"
   ]
  },
  {
   "cell_type": "code",
   "execution_count": 137,
   "id": "83f26c08",
   "metadata": {},
   "outputs": [
    {
     "data": {
      "text/plain": [
       "0     50\n",
       "1     50\n",
       "2     50\n",
       "3     51\n",
       "4     51\n",
       "5     51\n",
       "6     51\n",
       "7     51\n",
       "8     51\n",
       "9     51\n",
       "10    52\n",
       "11    52\n",
       "12    52\n",
       "13    52\n",
       "14    52\n",
       "15    52\n",
       "16    52\n",
       "17     1\n",
       "18     1\n",
       "Name: week, dtype: UInt32"
      ]
     },
     "execution_count": 137,
     "metadata": {},
     "output_type": "execute_result"
    }
   ],
   "source": [
    "dates_s.dt.isocalendar().week"
   ]
  },
  {
   "cell_type": "code",
   "execution_count": 144,
   "id": "41ebdc73",
   "metadata": {},
   "outputs": [
    {
     "data": {
      "text/plain": [
       "11    18\n",
       "12    31\n",
       "dtype: int64"
      ]
     },
     "execution_count": 144,
     "metadata": {},
     "output_type": "execute_result"
    }
   ],
   "source": [
    "dates_s.dt.month.value_counts().sort_index()"
   ]
  },
  {
   "cell_type": "code",
   "execution_count": 146,
   "id": "b604619a",
   "metadata": {},
   "outputs": [
    {
     "data": {
      "text/plain": [
       "48   2024-12-31\n",
       "dtype: datetime64[ns]"
      ]
     },
     "execution_count": 146,
     "metadata": {},
     "output_type": "execute_result"
    }
   ],
   "source": [
    "dates_s[dates_s.dt.is_quarter_end]"
   ]
  },
  {
   "cell_type": "code",
   "execution_count": null,
   "id": "db447dec",
   "metadata": {},
   "outputs": [],
   "source": []
  }
 ],
 "metadata": {
  "kernelspec": {
   "display_name": "Python 3 (ipykernel)",
   "language": "python",
   "name": "python3"
  },
  "language_info": {
   "codemirror_mode": {
    "name": "ipython",
    "version": 3
   },
   "file_extension": ".py",
   "mimetype": "text/x-python",
   "name": "python",
   "nbconvert_exporter": "python",
   "pygments_lexer": "ipython3",
   "version": "3.7.12"
  }
 },
 "nbformat": 4,
 "nbformat_minor": 5
}
