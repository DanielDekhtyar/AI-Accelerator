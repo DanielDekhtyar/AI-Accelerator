{
 "cells": [
  {
   "cell_type": "markdown",
   "id": "703aa3bf-cf9c-4947-97d0-9d2953bf8229",
   "metadata": {},
   "source": [
    "בתרגיל זה תעבדו עם  \n",
    "employee.csv\n",
    "לפני החלת התרגיל יש להסיר את כל הכפילויות מעמודת שם המשפחה ולהפוך את העמודה הזו לאינדקס.\n",
    "על מנת ליעל ביצועים - לאחר האינדוקס יש לסדר את הערכים מחדש על פי האינדקס שיצרתם"
   ]
  },
  {
   "cell_type": "code",
   "execution_count": null,
   "id": "1970501f-03b9-4fb3-a0ff-b11c5f788355",
   "metadata": {},
   "outputs": [],
   "source": [
    "import pandas as pd"
   ]
  },
  {
   "cell_type": "code",
   "execution_count": null,
   "id": "d30e5b6a-741e-4662-9a08-121ed563316a",
   "metadata": {},
   "outputs": [],
   "source": [
    "emps  = pd.read_csv('employee.csv', parse_dates =['start_date'])"
   ]
  },
  {
   "cell_type": "code",
   "execution_count": null,
   "id": "959c88f7-1f2c-464e-affc-ade648576d7d",
   "metadata": {},
   "outputs": [],
   "source": [
    "emps.duplicated(\"last_name\").sum()"
   ]
  },
  {
   "cell_type": "code",
   "execution_count": null,
   "id": "64e5688c-5782-41b9-a160-798fc61cdb9e",
   "metadata": {},
   "outputs": [],
   "source": [
    "emps =  emps.drop_duplicates(\"last_name\")"
   ]
  },
  {
   "cell_type": "code",
   "execution_count": null,
   "id": "12055c97-afd0-4a13-9bbd-bd8fc9115aeb",
   "metadata": {},
   "outputs": [],
   "source": [
    "emps.info()"
   ]
  },
  {
   "cell_type": "code",
   "execution_count": null,
   "id": "2b17e968-1dab-4a88-ae05-77fbb07f7a4c",
   "metadata": {},
   "outputs": [],
   "source": [
    "emps.set_index(keys = \"last_name\", inplace =True)"
   ]
  },
  {
   "cell_type": "code",
   "execution_count": null,
   "id": "f133befe-d49a-4771-9e3e-e24960f6dbaa",
   "metadata": {},
   "outputs": [],
   "source": [
    "emps.head()"
   ]
  },
  {
   "cell_type": "code",
   "execution_count": null,
   "id": "803c0358-1469-483f-b9bb-da85d2494189",
   "metadata": {},
   "outputs": [],
   "source": [
    "emps.sort_index(inplace =True)"
   ]
  },
  {
   "cell_type": "code",
   "execution_count": null,
   "id": "651e2c7d-f5f5-4990-a1a0-1ba97418d4cb",
   "metadata": {},
   "outputs": [],
   "source": [
    "emps.head(290).tail(10)"
   ]
  },
  {
   "cell_type": "markdown",
   "id": "afb1b388-2f81-411b-994d-39feced3f460",
   "metadata": {},
   "source": [
    "**את השאלות הבאות יש לפתור בעזרת loc/iloc**  \n",
    "1. מה הפרטים בשורה שהאינדקס שלה הוא \n",
    "Hilliam\n",
    "2.  מה הפרטים של העובדים מ  \n",
    "   Dunne  \n",
    "עד Edden\n",
    "3. עבור העובדים מסעיף 2 הציגו רק כל עובד שלישי ורק את העמודות משכורת וצוות\n",
    "4. עבור שורות 10-15 הציגו את 4 העמודות הראשנות\n",
    "5. עבור העובד.ת באינדקס\n",
    "   Tarbett\n",
    "   שנו את הצוות לצוות  לבחירתכם. ודאו שהשינוי בוצע\n",
    "6. שנו את כל המשכורות של צוות מדעני הנתונים ל1000000 ודאו את השינוי"
   ]
  },
  {
   "cell_type": "code",
   "execution_count": null,
   "id": "42299ee3-6db2-4186-bead-226a887ec4d4",
   "metadata": {},
   "outputs": [],
   "source": [
    "#1.\n",
    "emps.loc['Hilliam']"
   ]
  },
  {
   "cell_type": "code",
   "execution_count": null,
   "id": "5b7a903d-99f6-4eb0-ac17-236935398e95",
   "metadata": {},
   "outputs": [],
   "source": [
    "#2\n",
    "emps.loc[\"Dunne\":\"Edden\"]"
   ]
  },
  {
   "cell_type": "code",
   "execution_count": null,
   "id": "d94f61b3-acbc-497f-97a3-056d0bbdf4e0",
   "metadata": {},
   "outputs": [],
   "source": [
    "#3\n",
    "emps.loc[\"Dunne\":\"Edden\":3,['salary','team']]"
   ]
  },
  {
   "cell_type": "code",
   "execution_count": null,
   "id": "271f4fc2-51b7-4169-851e-98cf4c2cd0d8",
   "metadata": {},
   "outputs": [],
   "source": [
    "#4\n",
    "emps.iloc[10:16,0:4]"
   ]
  },
  {
   "cell_type": "code",
   "execution_count": null,
   "id": "9539f655-7885-464f-a393-62bed56e8706",
   "metadata": {},
   "outputs": [],
   "source": [
    "#5\n",
    "emps.loc['Tarbett','team']"
   ]
  },
  {
   "cell_type": "code",
   "execution_count": null,
   "id": "8bd674b7-df25-4ed5-ba8a-c753a0ee3911",
   "metadata": {},
   "outputs": [],
   "source": [
    "emps.loc['Tarbett','team'] = 'Data Magician'"
   ]
  },
  {
   "cell_type": "code",
   "execution_count": null,
   "id": "5e81db12-311a-42a8-95a8-4fcd13e1c133",
   "metadata": {},
   "outputs": [],
   "source": [
    "emps.loc['Tarbett','team']"
   ]
  },
  {
   "cell_type": "code",
   "execution_count": 77,
   "id": "018ebdee-b587-4d31-9731-23b54b8ebc3a",
   "metadata": {},
   "outputs": [],
   "source": [
    "#6\n",
    "filter_ds = emps.loc[:,'team']=='data analytics'\n",
    "emps.loc[filter_ds,'salary']=1000000"
   ]
  },
  {
   "cell_type": "code",
   "execution_count": null,
   "id": "a95753ee-9113-41be-b6d3-5acb4de5ee84",
   "metadata": {},
   "outputs": [],
   "source": [
    "emps.loc[filter_ds,'salary']"
   ]
  },
  {
   "cell_type": "code",
   "execution_count": null,
   "id": "13669e9f-7a7f-4d41-a310-81eeb6ba4a01",
   "metadata": {},
   "outputs": [],
   "source": []
  }
 ],
 "metadata": {
  "kernelspec": {
   "display_name": "Python 3 (ipykernel)",
   "language": "python",
   "name": "python3"
  },
  "language_info": {
   "codemirror_mode": {
    "name": "ipython",
    "version": 3
   },
   "file_extension": ".py",
   "mimetype": "text/x-python",
   "name": "python",
   "nbconvert_exporter": "python",
   "pygments_lexer": "ipython3",
   "version": "3.12.2"
  }
 },
 "nbformat": 4,
 "nbformat_minor": 5
}
