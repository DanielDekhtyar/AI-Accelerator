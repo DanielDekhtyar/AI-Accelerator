{
 "cells": [
  {
   "cell_type": "markdown",
   "id": "057b505d-f238-475c-ab46-e95603bd2803",
   "metadata": {},
   "source": [
    "בתרגיל זה תשתמשו בנתוני הטיטאניק\n",
    "\n",
    "1. חלקו את הטבלה לקבוצות עפ המחלקה\n",
    "2. כמה קבוצות נוצרו?\n",
    "3. מה המחיר הממוצע בכל מחלקה?\n",
    "4. כמה שורדים יש בכל מחלקה?\n",
    "5. מה אחוז השורדים בכל מחלקה?\n",
    "6. בעזרת לולאה הדפיסו עבור כל מחלקה מה אחוז השורדים בה בפורמט הבא:  \n",
    "   Survival rate for class 1 is 62.96%\n",
    "7. סיימתם? חזרו על התרגיל והפעם חלקו לקבוצות לפי מגדר"
   ]
  },
  {
   "cell_type": "code",
   "execution_count": null,
   "id": "dac57e76-d289-4cce-b5f0-20accfe8d299",
   "metadata": {},
   "outputs": [],
   "source": []
  },
  {
   "cell_type": "code",
   "execution_count": null,
   "id": "4e682eeb-cfcb-43b5-8c85-85b23869cee1",
   "metadata": {},
   "outputs": [],
   "source": []
  },
  {
   "cell_type": "code",
   "execution_count": null,
   "id": "ba6d4420-525d-4e21-9468-ba196f890362",
   "metadata": {},
   "outputs": [],
   "source": []
  },
  {
   "cell_type": "code",
   "execution_count": null,
   "id": "cec2b951-9046-4b99-b9e5-b9df3221eb6a",
   "metadata": {},
   "outputs": [],
   "source": []
  },
  {
   "cell_type": "code",
   "execution_count": null,
   "id": "fb7d113a-a96b-4fcc-9a13-9adf883a83c8",
   "metadata": {},
   "outputs": [],
   "source": []
  },
  {
   "cell_type": "code",
   "execution_count": null,
   "id": "44511679-7b2d-48af-9f14-011635884e43",
   "metadata": {},
   "outputs": [],
   "source": []
  },
  {
   "cell_type": "code",
   "execution_count": null,
   "id": "0b7c7287-13c6-4a08-80f0-2f71b11cc8f6",
   "metadata": {},
   "outputs": [],
   "source": []
  },
  {
   "cell_type": "code",
   "execution_count": null,
   "id": "d8d9c45f-431e-41e3-aca1-5e4122c63fa2",
   "metadata": {},
   "outputs": [],
   "source": []
  },
  {
   "cell_type": "code",
   "execution_count": null,
   "id": "b4ddcb54-fb90-48a2-896a-46b3424d012d",
   "metadata": {},
   "outputs": [],
   "source": []
  },
  {
   "cell_type": "code",
   "execution_count": null,
   "id": "8b8b2a78-79b6-4759-8f7a-f3ca8f14c508",
   "metadata": {},
   "outputs": [],
   "source": []
  },
  {
   "cell_type": "code",
   "execution_count": null,
   "id": "4b00d204-b4ff-4b0e-b07f-a177e1b6ec4b",
   "metadata": {},
   "outputs": [],
   "source": []
  },
  {
   "cell_type": "code",
   "execution_count": null,
   "id": "bc1e7250-9ea1-4c25-9c57-d83c91e97101",
   "metadata": {},
   "outputs": [],
   "source": []
  }
 ],
 "metadata": {
  "kernelspec": {
   "display_name": "Python 3 (ipykernel)",
   "language": "python",
   "name": "python3"
  },
  "language_info": {
   "codemirror_mode": {
    "name": "ipython",
    "version": 3
   },
   "file_extension": ".py",
   "mimetype": "text/x-python",
   "name": "python",
   "nbconvert_exporter": "python",
   "pygments_lexer": "ipython3",
   "version": "3.12.2"
  }
 },
 "nbformat": 4,
 "nbformat_minor": 5
}
