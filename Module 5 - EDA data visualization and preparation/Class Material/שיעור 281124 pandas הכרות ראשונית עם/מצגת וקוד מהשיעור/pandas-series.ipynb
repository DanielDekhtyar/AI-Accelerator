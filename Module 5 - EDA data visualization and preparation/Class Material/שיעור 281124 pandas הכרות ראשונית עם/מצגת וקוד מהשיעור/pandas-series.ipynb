{
 "cells": [
  {
   "cell_type": "code",
   "execution_count": 1,
   "id": "cebf7b57-5af5-4a12-9b64-3f7996fde6a2",
   "metadata": {},
   "outputs": [],
   "source": [
    "import pandas as pd\n",
    "#import numpy as np"
   ]
  },
  {
   "cell_type": "code",
   "execution_count": 2,
   "id": "3a8229fa-d1be-428f-9c53-40951001fa0f",
   "metadata": {},
   "outputs": [],
   "source": [
    "#python list\n",
    "colors = ['yellow','pink', 'red','blue']"
   ]
  },
  {
   "cell_type": "code",
   "execution_count": 5,
   "id": "25da8599-19ee-4796-8fcc-fe3965628c93",
   "metadata": {},
   "outputs": [
    {
     "data": {
      "text/plain": [
       "['yellow', 'pink', 'red', 'blue']"
      ]
     },
     "execution_count": 5,
     "metadata": {},
     "output_type": "execute_result"
    }
   ],
   "source": [
    "colors"
   ]
  },
  {
   "cell_type": "code",
   "execution_count": 6,
   "id": "6a4ff1a6-ac92-4b38-97c9-b8f5cec6156d",
   "metadata": {},
   "outputs": [
    {
     "data": {
      "text/plain": [
       "0    yellow\n",
       "1      pink\n",
       "2       red\n",
       "3      blue\n",
       "dtype: object"
      ]
     },
     "execution_count": 6,
     "metadata": {},
     "output_type": "execute_result"
    }
   ],
   "source": [
    "pd.Series(colors)"
   ]
  },
  {
   "cell_type": "code",
   "execution_count": 7,
   "id": "f3978ecc-ceec-414a-9f55-2222e9bac6e7",
   "metadata": {},
   "outputs": [
    {
     "data": {
      "text/plain": [
       "0    1.0000\n",
       "1   -1.0000\n",
       "2    3.1415\n",
       "3    2.1780\n",
       "4    0.0000\n",
       "dtype: float64"
      ]
     },
     "execution_count": 7,
     "metadata": {},
     "output_type": "execute_result"
    }
   ],
   "source": [
    "numbers = [1,-1,3.1415, 2.178,0]\n",
    "pd.Series(numbers)"
   ]
  },
  {
   "cell_type": "code",
   "execution_count": 8,
   "id": "74837c9c-7b22-404b-bddc-b0b72c668f0b",
   "metadata": {},
   "outputs": [],
   "source": [
    "dict = {\"a\":\"Aurora\", \"b\":\"Belle\", \"c\":\"cinderella\"}"
   ]
  },
  {
   "cell_type": "code",
   "execution_count": 10,
   "id": "dc98ee89-d1c9-4fae-946a-81f27dfa9670",
   "metadata": {},
   "outputs": [],
   "source": [
    "my_series= pd.Series(dict)"
   ]
  },
  {
   "cell_type": "code",
   "execution_count": 29,
   "id": "fa27ca6b-05d5-4907-b44d-b9f25abb9634",
   "metadata": {},
   "outputs": [
    {
     "data": {
      "text/plain": [
       "list"
      ]
     },
     "execution_count": 29,
     "metadata": {},
     "output_type": "execute_result"
    }
   ],
   "source": [
    "#type(my_series)\n",
    "#type(colors)\n",
    "my_series"
   ]
  },
  {
   "cell_type": "code",
   "execution_count": 12,
   "id": "a01d91d3-3a2e-4e16-a0fb-ebd6fa7b79d4",
   "metadata": {},
   "outputs": [
    {
     "data": {
      "text/html": [
       "<div>\n",
       "<style scoped>\n",
       "    .dataframe tbody tr th:only-of-type {\n",
       "        vertical-align: middle;\n",
       "    }\n",
       "\n",
       "    .dataframe tbody tr th {\n",
       "        vertical-align: top;\n",
       "    }\n",
       "\n",
       "    .dataframe thead th {\n",
       "        text-align: right;\n",
       "    }\n",
       "</style>\n",
       "<table border=\"1\" class=\"dataframe\">\n",
       "  <thead>\n",
       "    <tr style=\"text-align: right;\">\n",
       "      <th></th>\n",
       "      <th>Survived</th>\n",
       "      <th>Pclass</th>\n",
       "      <th>Name</th>\n",
       "      <th>Sex</th>\n",
       "      <th>Age</th>\n",
       "      <th>Siblings/Spouses Aboard</th>\n",
       "      <th>Parents/Children Aboard</th>\n",
       "      <th>Fare</th>\n",
       "    </tr>\n",
       "  </thead>\n",
       "  <tbody>\n",
       "    <tr>\n",
       "      <th>0</th>\n",
       "      <td>0</td>\n",
       "      <td>3</td>\n",
       "      <td>Mr. Owen Harris Braund</td>\n",
       "      <td>male</td>\n",
       "      <td>22.0</td>\n",
       "      <td>1</td>\n",
       "      <td>0</td>\n",
       "      <td>7.2500</td>\n",
       "    </tr>\n",
       "    <tr>\n",
       "      <th>1</th>\n",
       "      <td>1</td>\n",
       "      <td>1</td>\n",
       "      <td>Mrs. John Bradley (Florence Briggs Thayer) Cum...</td>\n",
       "      <td>female</td>\n",
       "      <td>38.0</td>\n",
       "      <td>1</td>\n",
       "      <td>0</td>\n",
       "      <td>71.2833</td>\n",
       "    </tr>\n",
       "    <tr>\n",
       "      <th>2</th>\n",
       "      <td>1</td>\n",
       "      <td>3</td>\n",
       "      <td>Miss. Laina Heikkinen</td>\n",
       "      <td>female</td>\n",
       "      <td>26.0</td>\n",
       "      <td>0</td>\n",
       "      <td>0</td>\n",
       "      <td>7.9250</td>\n",
       "    </tr>\n",
       "    <tr>\n",
       "      <th>3</th>\n",
       "      <td>1</td>\n",
       "      <td>1</td>\n",
       "      <td>Mrs. Jacques Heath (Lily May Peel) Futrelle</td>\n",
       "      <td>female</td>\n",
       "      <td>35.0</td>\n",
       "      <td>1</td>\n",
       "      <td>0</td>\n",
       "      <td>53.1000</td>\n",
       "    </tr>\n",
       "    <tr>\n",
       "      <th>4</th>\n",
       "      <td>0</td>\n",
       "      <td>3</td>\n",
       "      <td>Mr. William Henry Allen</td>\n",
       "      <td>male</td>\n",
       "      <td>35.0</td>\n",
       "      <td>0</td>\n",
       "      <td>0</td>\n",
       "      <td>8.0500</td>\n",
       "    </tr>\n",
       "    <tr>\n",
       "      <th>...</th>\n",
       "      <td>...</td>\n",
       "      <td>...</td>\n",
       "      <td>...</td>\n",
       "      <td>...</td>\n",
       "      <td>...</td>\n",
       "      <td>...</td>\n",
       "      <td>...</td>\n",
       "      <td>...</td>\n",
       "    </tr>\n",
       "    <tr>\n",
       "      <th>882</th>\n",
       "      <td>0</td>\n",
       "      <td>2</td>\n",
       "      <td>Rev. Juozas Montvila</td>\n",
       "      <td>male</td>\n",
       "      <td>27.0</td>\n",
       "      <td>0</td>\n",
       "      <td>0</td>\n",
       "      <td>13.0000</td>\n",
       "    </tr>\n",
       "    <tr>\n",
       "      <th>883</th>\n",
       "      <td>1</td>\n",
       "      <td>1</td>\n",
       "      <td>Miss. Margaret Edith Graham</td>\n",
       "      <td>female</td>\n",
       "      <td>19.0</td>\n",
       "      <td>0</td>\n",
       "      <td>0</td>\n",
       "      <td>30.0000</td>\n",
       "    </tr>\n",
       "    <tr>\n",
       "      <th>884</th>\n",
       "      <td>0</td>\n",
       "      <td>3</td>\n",
       "      <td>Miss. Catherine Helen Johnston</td>\n",
       "      <td>female</td>\n",
       "      <td>7.0</td>\n",
       "      <td>1</td>\n",
       "      <td>2</td>\n",
       "      <td>23.4500</td>\n",
       "    </tr>\n",
       "    <tr>\n",
       "      <th>885</th>\n",
       "      <td>1</td>\n",
       "      <td>1</td>\n",
       "      <td>Mr. Karl Howell Behr</td>\n",
       "      <td>male</td>\n",
       "      <td>26.0</td>\n",
       "      <td>0</td>\n",
       "      <td>0</td>\n",
       "      <td>30.0000</td>\n",
       "    </tr>\n",
       "    <tr>\n",
       "      <th>886</th>\n",
       "      <td>0</td>\n",
       "      <td>3</td>\n",
       "      <td>Mr. Patrick Dooley</td>\n",
       "      <td>male</td>\n",
       "      <td>32.0</td>\n",
       "      <td>0</td>\n",
       "      <td>0</td>\n",
       "      <td>7.7500</td>\n",
       "    </tr>\n",
       "  </tbody>\n",
       "</table>\n",
       "<p>887 rows × 8 columns</p>\n",
       "</div>"
      ],
      "text/plain": [
       "     Survived  Pclass                                               Name  \\\n",
       "0           0       3                             Mr. Owen Harris Braund   \n",
       "1           1       1  Mrs. John Bradley (Florence Briggs Thayer) Cum...   \n",
       "2           1       3                              Miss. Laina Heikkinen   \n",
       "3           1       1        Mrs. Jacques Heath (Lily May Peel) Futrelle   \n",
       "4           0       3                            Mr. William Henry Allen   \n",
       "..        ...     ...                                                ...   \n",
       "882         0       2                               Rev. Juozas Montvila   \n",
       "883         1       1                        Miss. Margaret Edith Graham   \n",
       "884         0       3                     Miss. Catherine Helen Johnston   \n",
       "885         1       1                               Mr. Karl Howell Behr   \n",
       "886         0       3                                 Mr. Patrick Dooley   \n",
       "\n",
       "        Sex   Age  Siblings/Spouses Aboard  Parents/Children Aboard     Fare  \n",
       "0      male  22.0                        1                        0   7.2500  \n",
       "1    female  38.0                        1                        0  71.2833  \n",
       "2    female  26.0                        0                        0   7.9250  \n",
       "3    female  35.0                        1                        0  53.1000  \n",
       "4      male  35.0                        0                        0   8.0500  \n",
       "..      ...   ...                      ...                      ...      ...  \n",
       "882    male  27.0                        0                        0  13.0000  \n",
       "883  female  19.0                        0                        0  30.0000  \n",
       "884  female   7.0                        1                        2  23.4500  \n",
       "885    male  26.0                        0                        0  30.0000  \n",
       "886    male  32.0                        0                        0   7.7500  \n",
       "\n",
       "[887 rows x 8 columns]"
      ]
     },
     "execution_count": 12,
     "metadata": {},
     "output_type": "execute_result"
    }
   ],
   "source": [
    "pd.read_csv('titanic.csv')"
   ]
  },
  {
   "cell_type": "code",
   "execution_count": 13,
   "id": "09e73681-177b-4f50-90d3-75ffc4ac3e18",
   "metadata": {},
   "outputs": [],
   "source": [
    "new_list = ['yellow',3.14, 1, True]"
   ]
  },
  {
   "cell_type": "code",
   "execution_count": 14,
   "id": "075bc789-4b71-45f9-86d5-bee161814374",
   "metadata": {},
   "outputs": [
    {
     "data": {
      "text/plain": [
       "['yellow', 3.14, 1, True]"
      ]
     },
     "execution_count": 14,
     "metadata": {},
     "output_type": "execute_result"
    }
   ],
   "source": [
    "new_list"
   ]
  },
  {
   "cell_type": "code",
   "execution_count": 15,
   "id": "1c3cc9c7-ee13-40ac-b451-2ef344076af6",
   "metadata": {},
   "outputs": [
    {
     "data": {
      "text/plain": [
       "0    yellow\n",
       "1      3.14\n",
       "2         1\n",
       "3      True\n",
       "dtype: object"
      ]
     },
     "execution_count": 15,
     "metadata": {},
     "output_type": "execute_result"
    }
   ],
   "source": [
    "pd.Series(new_list)"
   ]
  },
  {
   "cell_type": "code",
   "execution_count": null,
   "id": "d371ae39-e433-4924-8923-ed1fb0b649f9",
   "metadata": {},
   "outputs": [],
   "source": [
    "#'https://people.sc.fsu.edu/~jburkardt/data/csv/hw_200.csv'"
   ]
  },
  {
   "cell_type": "code",
   "execution_count": 22,
   "id": "601c9011-6b21-44ea-a182-6d262ab013d8",
   "metadata": {},
   "outputs": [
    {
     "data": {
      "text/html": [
       "<div>\n",
       "<style scoped>\n",
       "    .dataframe tbody tr th:only-of-type {\n",
       "        vertical-align: middle;\n",
       "    }\n",
       "\n",
       "    .dataframe tbody tr th {\n",
       "        vertical-align: top;\n",
       "    }\n",
       "\n",
       "    .dataframe thead th {\n",
       "        text-align: right;\n",
       "    }\n",
       "</style>\n",
       "<table border=\"1\" class=\"dataframe\">\n",
       "  <thead>\n",
       "    <tr style=\"text-align: right;\">\n",
       "      <th></th>\n",
       "      <th>Index</th>\n",
       "      <th>Height(Inches)\"</th>\n",
       "      <th>\"Weight(Pounds)\"</th>\n",
       "    </tr>\n",
       "  </thead>\n",
       "  <tbody>\n",
       "    <tr>\n",
       "      <th>0</th>\n",
       "      <td>1</td>\n",
       "      <td>65.78</td>\n",
       "      <td>112.99</td>\n",
       "    </tr>\n",
       "    <tr>\n",
       "      <th>1</th>\n",
       "      <td>2</td>\n",
       "      <td>71.52</td>\n",
       "      <td>136.49</td>\n",
       "    </tr>\n",
       "    <tr>\n",
       "      <th>2</th>\n",
       "      <td>3</td>\n",
       "      <td>69.40</td>\n",
       "      <td>153.03</td>\n",
       "    </tr>\n",
       "    <tr>\n",
       "      <th>3</th>\n",
       "      <td>4</td>\n",
       "      <td>68.22</td>\n",
       "      <td>142.34</td>\n",
       "    </tr>\n",
       "    <tr>\n",
       "      <th>4</th>\n",
       "      <td>5</td>\n",
       "      <td>67.79</td>\n",
       "      <td>144.30</td>\n",
       "    </tr>\n",
       "    <tr>\n",
       "      <th>...</th>\n",
       "      <td>...</td>\n",
       "      <td>...</td>\n",
       "      <td>...</td>\n",
       "    </tr>\n",
       "    <tr>\n",
       "      <th>195</th>\n",
       "      <td>196</td>\n",
       "      <td>65.80</td>\n",
       "      <td>120.84</td>\n",
       "    </tr>\n",
       "    <tr>\n",
       "      <th>196</th>\n",
       "      <td>197</td>\n",
       "      <td>66.11</td>\n",
       "      <td>115.78</td>\n",
       "    </tr>\n",
       "    <tr>\n",
       "      <th>197</th>\n",
       "      <td>198</td>\n",
       "      <td>68.24</td>\n",
       "      <td>128.30</td>\n",
       "    </tr>\n",
       "    <tr>\n",
       "      <th>198</th>\n",
       "      <td>199</td>\n",
       "      <td>68.02</td>\n",
       "      <td>127.47</td>\n",
       "    </tr>\n",
       "    <tr>\n",
       "      <th>199</th>\n",
       "      <td>200</td>\n",
       "      <td>71.39</td>\n",
       "      <td>127.88</td>\n",
       "    </tr>\n",
       "  </tbody>\n",
       "</table>\n",
       "<p>200 rows × 3 columns</p>\n",
       "</div>"
      ],
      "text/plain": [
       "     Index   Height(Inches)\"   \"Weight(Pounds)\"\n",
       "0        1             65.78             112.99\n",
       "1        2             71.52             136.49\n",
       "2        3             69.40             153.03\n",
       "3        4             68.22             142.34\n",
       "4        5             67.79             144.30\n",
       "..     ...               ...                ...\n",
       "195    196             65.80             120.84\n",
       "196    197             66.11             115.78\n",
       "197    198             68.24             128.30\n",
       "198    199             68.02             127.47\n",
       "199    200             71.39             127.88\n",
       "\n",
       "[200 rows x 3 columns]"
      ]
     },
     "execution_count": 22,
     "metadata": {},
     "output_type": "execute_result"
    }
   ],
   "source": [
    "pd.read_csv('https://people.sc.fsu.edu/~jburkardt/data/csv/hw_200.csv')"
   ]
  },
  {
   "cell_type": "code",
   "execution_count": 37,
   "id": "3d50d394-4f07-47e9-be33-8823dfdd0e57",
   "metadata": {
    "scrolled": true
   },
   "outputs": [
    {
     "data": {
      "text/html": [
       "<div>\n",
       "<style scoped>\n",
       "    .dataframe tbody tr th:only-of-type {\n",
       "        vertical-align: middle;\n",
       "    }\n",
       "\n",
       "    .dataframe tbody tr th {\n",
       "        vertical-align: top;\n",
       "    }\n",
       "\n",
       "    .dataframe thead th {\n",
       "        text-align: right;\n",
       "    }\n",
       "</style>\n",
       "<table border=\"1\" class=\"dataframe\">\n",
       "  <thead>\n",
       "    <tr style=\"text-align: right;\">\n",
       "      <th></th>\n",
       "      <th>Height(Inches)\"</th>\n",
       "    </tr>\n",
       "  </thead>\n",
       "  <tbody>\n",
       "    <tr>\n",
       "      <th>0</th>\n",
       "      <td>65.78</td>\n",
       "    </tr>\n",
       "    <tr>\n",
       "      <th>1</th>\n",
       "      <td>71.52</td>\n",
       "    </tr>\n",
       "    <tr>\n",
       "      <th>2</th>\n",
       "      <td>69.40</td>\n",
       "    </tr>\n",
       "    <tr>\n",
       "      <th>3</th>\n",
       "      <td>68.22</td>\n",
       "    </tr>\n",
       "    <tr>\n",
       "      <th>4</th>\n",
       "      <td>67.79</td>\n",
       "    </tr>\n",
       "    <tr>\n",
       "      <th>...</th>\n",
       "      <td>...</td>\n",
       "    </tr>\n",
       "    <tr>\n",
       "      <th>195</th>\n",
       "      <td>65.80</td>\n",
       "    </tr>\n",
       "    <tr>\n",
       "      <th>196</th>\n",
       "      <td>66.11</td>\n",
       "    </tr>\n",
       "    <tr>\n",
       "      <th>197</th>\n",
       "      <td>68.24</td>\n",
       "    </tr>\n",
       "    <tr>\n",
       "      <th>198</th>\n",
       "      <td>68.02</td>\n",
       "    </tr>\n",
       "    <tr>\n",
       "      <th>199</th>\n",
       "      <td>71.39</td>\n",
       "    </tr>\n",
       "  </tbody>\n",
       "</table>\n",
       "<p>200 rows × 1 columns</p>\n",
       "</div>"
      ],
      "text/plain": [
       "     Height(Inches)\"\n",
       "0              65.78\n",
       "1              71.52\n",
       "2              69.40\n",
       "3              68.22\n",
       "4              67.79\n",
       "..               ...\n",
       "195            65.80\n",
       "196            66.11\n",
       "197            68.24\n",
       "198            68.02\n",
       "199            71.39\n",
       "\n",
       "[200 rows x 1 columns]"
      ]
     },
     "execution_count": 37,
     "metadata": {},
     "output_type": "execute_result"
    }
   ],
   "source": [
    "df = pd.read_csv('https://people.sc.fsu.edu/~jburkardt/data/csv/hw_200.csv',usecols =[' Height(Inches)\"'])\n",
    "df\n",
    "#pd.Series(df)"
   ]
  },
  {
   "cell_type": "code",
   "execution_count": null,
   "id": "01e5e0a6-c986-4596-acd8-c5758c681889",
   "metadata": {},
   "outputs": [],
   "source": [
    "type(df)"
   ]
  },
  {
   "cell_type": "code",
   "execution_count": 31,
   "id": "af5f14ef-249d-49a8-a903-b1b31c15714d",
   "metadata": {},
   "outputs": [
    {
     "data": {
      "text/plain": [
       "0      65.78\n",
       "1      71.52\n",
       "2      69.40\n",
       "3      68.22\n",
       "4      67.79\n",
       "       ...  \n",
       "195    65.80\n",
       "196    66.11\n",
       "197    68.24\n",
       "198    68.02\n",
       "199    71.39\n",
       "Name:  Height(Inches)\", Length: 200, dtype: float64"
      ]
     },
     "execution_count": 31,
     "metadata": {},
     "output_type": "execute_result"
    }
   ],
   "source": [
    " pd.read_csv('https://people.sc.fsu.edu/~jburkardt/data/csv/hw_200.csv',usecols =[' Height(Inches)\"']).squeeze(\"columns\")"
   ]
  },
  {
   "cell_type": "code",
   "execution_count": 32,
   "id": "5df918ba-a0aa-4f46-853a-13063a3d03b3",
   "metadata": {},
   "outputs": [],
   "source": [
    " s1= pd.read_csv('https://people.sc.fsu.edu/~jburkardt/data/csv/hw_200.csv',usecols =[' Height(Inches)\"']).squeeze(\"columns\")"
   ]
  },
  {
   "cell_type": "code",
   "execution_count": 33,
   "id": "279f7265-a8b2-4684-8797-345be15596b3",
   "metadata": {},
   "outputs": [
    {
     "data": {
      "text/plain": [
       "pandas.core.series.Series"
      ]
     },
     "execution_count": 33,
     "metadata": {},
     "output_type": "execute_result"
    }
   ],
   "source": [
    "type(s1)"
   ]
  },
  {
   "cell_type": "code",
   "execution_count": 38,
   "id": "2dd92124-d933-4fc3-953a-cc3caa19e02b",
   "metadata": {},
   "outputs": [],
   "source": [
    "fare = pd.read_csv('titanic.csv',usecols=['Fare']).squeeze('columns')"
   ]
  },
  {
   "cell_type": "code",
   "execution_count": 39,
   "id": "01a69e0a-6519-4df0-a13b-e91c6e7a5cb0",
   "metadata": {},
   "outputs": [
    {
     "data": {
      "text/plain": [
       "0       7.2500\n",
       "1      71.2833\n",
       "2       7.9250\n",
       "3      53.1000\n",
       "4       8.0500\n",
       "        ...   \n",
       "882    13.0000\n",
       "883    30.0000\n",
       "884    23.4500\n",
       "885    30.0000\n",
       "886     7.7500\n",
       "Name: Fare, Length: 887, dtype: float64"
      ]
     },
     "execution_count": 39,
     "metadata": {},
     "output_type": "execute_result"
    }
   ],
   "source": [
    "fare"
   ]
  },
  {
   "cell_type": "code",
   "execution_count": 42,
   "id": "8ce5d7f6-2012-478c-a24a-46a6b209919d",
   "metadata": {},
   "outputs": [
    {
     "data": {
      "text/plain": [
       "0     7.2500\n",
       "1    71.2833\n",
       "2     7.9250\n",
       "Name: Fare, dtype: float64"
      ]
     },
     "execution_count": 42,
     "metadata": {},
     "output_type": "execute_result"
    }
   ],
   "source": [
    "fare.head(3) #default 5 ערכים ראשונים"
   ]
  },
  {
   "cell_type": "code",
   "execution_count": 44,
   "id": "233a6920-4c52-444f-bffd-5dcd613aa159",
   "metadata": {},
   "outputs": [
    {
     "data": {
      "text/plain": [
       "877     7.8958\n",
       "878    10.5167\n",
       "879    10.5000\n",
       "880     7.0500\n",
       "881    29.1250\n",
       "882    13.0000\n",
       "883    30.0000\n",
       "884    23.4500\n",
       "885    30.0000\n",
       "886     7.7500\n",
       "Name: Fare, dtype: float64"
      ]
     },
     "execution_count": 44,
     "metadata": {},
     "output_type": "execute_result"
    }
   ],
   "source": [
    "fare.tail(10) #default 5 ערכים אחרונים"
   ]
  },
  {
   "cell_type": "code",
   "execution_count": 45,
   "id": "3cf06372-850a-4f11-b5e9-75c94e7f2c66",
   "metadata": {},
   "outputs": [
    {
     "name": "stdout",
     "output_type": "stream",
     "text": [
      "<class 'pandas.core.series.Series'>\n",
      "RangeIndex: 887 entries, 0 to 886\n",
      "Series name: Fare\n",
      "Non-Null Count  Dtype  \n",
      "--------------  -----  \n",
      "887 non-null    float64\n",
      "dtypes: float64(1)\n",
      "memory usage: 7.1 KB\n"
     ]
    }
   ],
   "source": [
    "fare.info()"
   ]
  },
  {
   "cell_type": "code",
   "execution_count": 47,
   "id": "0419d882-2cbf-4a6a-a9ac-0ed528902736",
   "metadata": {},
   "outputs": [
    {
     "data": {
      "text/plain": [
       "count    887.00000\n",
       "mean      32.30542\n",
       "std       49.78204\n",
       "min        0.00000\n",
       "25%        7.92500\n",
       "50%       14.45420\n",
       "75%       31.13750\n",
       "max      512.32920\n",
       "Name: Fare, dtype: float64"
      ]
     },
     "execution_count": 47,
     "metadata": {},
     "output_type": "execute_result"
    }
   ],
   "source": [
    "fare.describe()\n"
   ]
  },
  {
   "cell_type": "code",
   "execution_count": 49,
   "id": "957555c1-8451-4d1e-b1fc-48e3ae5d8ea6",
   "metadata": {},
   "outputs": [],
   "source": [
    "var1= fare.values # מחזיר מערך ערכים"
   ]
  },
  {
   "cell_type": "code",
   "execution_count": 50,
   "id": "7f7752c2-beda-48a9-bbea-c0ef1a384622",
   "metadata": {},
   "outputs": [
    {
     "data": {
      "text/plain": [
       "numpy.ndarray"
      ]
     },
     "execution_count": 50,
     "metadata": {},
     "output_type": "execute_result"
    }
   ],
   "source": [
    "type(var1)"
   ]
  },
  {
   "cell_type": "code",
   "execution_count": 51,
   "id": "71144568-c762-4e78-847c-e7a47eba7ba6",
   "metadata": {},
   "outputs": [
    {
     "data": {
      "text/plain": [
       "RangeIndex(start=0, stop=887, step=1)"
      ]
     },
     "execution_count": 51,
     "metadata": {},
     "output_type": "execute_result"
    }
   ],
   "source": [
    "fare.index #מידע על אינדקס"
   ]
  },
  {
   "cell_type": "code",
   "execution_count": 52,
   "id": "ad234b90-4233-40eb-af93-17a78d00bd72",
   "metadata": {},
   "outputs": [
    {
     "data": {
      "text/plain": [
       "a        Aurora\n",
       "b         Belle\n",
       "c    cinderella\n",
       "dtype: object"
      ]
     },
     "execution_count": 52,
     "metadata": {},
     "output_type": "execute_result"
    }
   ],
   "source": [
    "my_series"
   ]
  },
  {
   "cell_type": "code",
   "execution_count": 53,
   "id": "45933ea3-627f-401f-8cdb-3ff8d2c41371",
   "metadata": {},
   "outputs": [
    {
     "data": {
      "text/plain": [
       "Index(['a', 'b', 'c'], dtype='object')"
      ]
     },
     "execution_count": 53,
     "metadata": {},
     "output_type": "execute_result"
    }
   ],
   "source": [
    "my_series.index"
   ]
  },
  {
   "cell_type": "code",
   "execution_count": 54,
   "id": "551a4aab-df81-4b5c-a0bf-77b1018a41ca",
   "metadata": {},
   "outputs": [
    {
     "data": {
      "text/plain": [
       "dtype('float64')"
      ]
     },
     "execution_count": 54,
     "metadata": {},
     "output_type": "execute_result"
    }
   ],
   "source": [
    "fare.dtype #pandas the type of the values in"
   ]
  },
  {
   "cell_type": "code",
   "execution_count": 55,
   "id": "6c3d4d08-dfa8-4731-81b8-b924fc2d9a24",
   "metadata": {},
   "outputs": [
    {
     "data": {
      "text/plain": [
       "pandas.core.series.Series"
      ]
     },
     "execution_count": 55,
     "metadata": {},
     "output_type": "execute_result"
    }
   ],
   "source": [
    "type(fare) #python type of fare"
   ]
  },
  {
   "cell_type": "code",
   "execution_count": 56,
   "id": "93cf9029-508f-4a04-89b1-a310be8bf7c5",
   "metadata": {},
   "outputs": [
    {
     "data": {
      "text/plain": [
       "28654.907699999996"
      ]
     },
     "execution_count": 56,
     "metadata": {},
     "output_type": "execute_result"
    }
   ],
   "source": [
    "fare.sum()"
   ]
  },
  {
   "cell_type": "code",
   "execution_count": 57,
   "id": "b250a7af-cc53-4f9e-8ec8-0106fdc3d29e",
   "metadata": {},
   "outputs": [
    {
     "data": {
      "text/plain": [
       "32.30542018038331"
      ]
     },
     "execution_count": 57,
     "metadata": {},
     "output_type": "execute_result"
    }
   ],
   "source": [
    "fare.mean() #ממוצע"
   ]
  },
  {
   "cell_type": "code",
   "execution_count": 58,
   "id": "58294c1f-2cdf-47b4-9174-8e78fa04e3a0",
   "metadata": {},
   "outputs": [
    {
     "data": {
      "text/plain": [
       "0.0"
      ]
     },
     "execution_count": 58,
     "metadata": {},
     "output_type": "execute_result"
    }
   ],
   "source": [
    "fare.product() #מכפלה"
   ]
  },
  {
   "cell_type": "code",
   "execution_count": 59,
   "id": "4f640362-8882-4872-b32f-1869e08381cd",
   "metadata": {},
   "outputs": [
    {
     "data": {
      "text/plain": [
       "0       7.2500\n",
       "1      71.2833\n",
       "2       7.9250\n",
       "3      53.1000\n",
       "4       8.0500\n",
       "        ...   \n",
       "882    13.0000\n",
       "883    30.0000\n",
       "884    23.4500\n",
       "885    30.0000\n",
       "886     7.7500\n",
       "Name: Fare, Length: 887, dtype: float64"
      ]
     },
     "execution_count": 59,
     "metadata": {},
     "output_type": "execute_result"
    }
   ],
   "source": [
    "fare"
   ]
  },
  {
   "cell_type": "code",
   "execution_count": 60,
   "id": "851ffa89-fe94-407e-b457-2d1593a70f12",
   "metadata": {},
   "outputs": [
    {
     "data": {
      "text/plain": [
       "0       8.2500\n",
       "1      72.2833\n",
       "2       8.9250\n",
       "3      54.1000\n",
       "4       9.0500\n",
       "        ...   \n",
       "882    14.0000\n",
       "883    31.0000\n",
       "884    24.4500\n",
       "885    31.0000\n",
       "886     8.7500\n",
       "Name: Fare, Length: 887, dtype: float64"
      ]
     },
     "execution_count": 60,
     "metadata": {},
     "output_type": "execute_result"
    }
   ],
   "source": [
    "fare.add(1) #מוסיף לכולם"
   ]
  },
  {
   "cell_type": "code",
   "execution_count": 61,
   "id": "e35f0d63-3403-4a90-a9f4-a541b7ec717e",
   "metadata": {},
   "outputs": [
    {
     "data": {
      "text/plain": [
       "0       6.2500\n",
       "1      70.2833\n",
       "2       6.9250\n",
       "3      52.1000\n",
       "4       7.0500\n",
       "        ...   \n",
       "882    12.0000\n",
       "883    29.0000\n",
       "884    22.4500\n",
       "885    29.0000\n",
       "886     6.7500\n",
       "Name: Fare, Length: 887, dtype: float64"
      ]
     },
     "execution_count": 61,
     "metadata": {},
     "output_type": "execute_result"
    }
   ],
   "source": [
    "fare.add(-1)"
   ]
  },
  {
   "cell_type": "code",
   "execution_count": 62,
   "id": "47b2a201-faae-43f4-b81f-4cbde26d2c88",
   "metadata": {},
   "outputs": [
    {
     "data": {
      "text/plain": [
       "0       6.2500\n",
       "1      70.2833\n",
       "2       6.9250\n",
       "3      52.1000\n",
       "4       7.0500\n",
       "        ...   \n",
       "882    12.0000\n",
       "883    29.0000\n",
       "884    22.4500\n",
       "885    29.0000\n",
       "886     6.7500\n",
       "Name: Fare, Length: 887, dtype: float64"
      ]
     },
     "execution_count": 62,
     "metadata": {},
     "output_type": "execute_result"
    }
   ],
   "source": [
    "fare.sub(1) #חיסור"
   ]
  },
  {
   "cell_type": "code",
   "execution_count": 63,
   "id": "5ae601e4-5327-4a5b-a890-0ee41c6ce457",
   "metadata": {
    "scrolled": true
   },
   "outputs": [
    {
     "data": {
      "text/plain": [
       "0       3.62500\n",
       "1      35.64165\n",
       "2       3.96250\n",
       "3      26.55000\n",
       "4       4.02500\n",
       "         ...   \n",
       "882     6.50000\n",
       "883    15.00000\n",
       "884    11.72500\n",
       "885    15.00000\n",
       "886     3.87500\n",
       "Name: Fare, Length: 887, dtype: float64"
      ]
     },
     "execution_count": 63,
     "metadata": {},
     "output_type": "execute_result"
    }
   ],
   "source": [
    "fare.div(2)"
   ]
  },
  {
   "cell_type": "code",
   "execution_count": 64,
   "id": "c6598a30-06ad-44ac-bc5f-79ac4dc2c891",
   "metadata": {},
   "outputs": [
    {
     "data": {
      "text/plain": [
       "0       3.0\n",
       "1      35.0\n",
       "2       3.0\n",
       "3      26.0\n",
       "4       4.0\n",
       "       ... \n",
       "882     6.0\n",
       "883    15.0\n",
       "884    11.0\n",
       "885    15.0\n",
       "886     3.0\n",
       "Name: Fare, Length: 887, dtype: float64"
      ]
     },
     "execution_count": 64,
     "metadata": {},
     "output_type": "execute_result"
    }
   ],
   "source": [
    "fare.floordiv(2)"
   ]
  },
  {
   "cell_type": "code",
   "execution_count": 66,
   "id": "aabaa04b-c19d-42cd-9280-320d202f7816",
   "metadata": {},
   "outputs": [],
   "source": [
    "x= fare.describe()"
   ]
  },
  {
   "cell_type": "code",
   "execution_count": 77,
   "id": "9e879420-96e5-43d2-b654-ff1e988db5c8",
   "metadata": {},
   "outputs": [],
   "source": [
    "#function\n",
    "def greet (name): #paramenter\n",
    "    return \"hi \"+name"
   ]
  },
  {
   "cell_type": "code",
   "execution_count": 74,
   "id": "05457993-f301-4374-8851-a16c5f82a9c4",
   "metadata": {},
   "outputs": [
    {
     "data": {
      "text/plain": [
       "'hi Inigo montoya'"
      ]
     },
     "execution_count": 74,
     "metadata": {},
     "output_type": "execute_result"
    }
   ],
   "source": [
    "greet(\"Inigo montoya\") #argument"
   ]
  },
  {
   "cell_type": "code",
   "execution_count": 78,
   "id": "66f9dfe5-b6af-47f0-aa04-3a7275c83763",
   "metadata": {},
   "outputs": [
    {
     "data": {
      "text/plain": [
       "Series([], dtype: object)"
      ]
     },
     "execution_count": 78,
     "metadata": {},
     "output_type": "execute_result"
    }
   ],
   "source": [
    "pd.Series()"
   ]
  },
  {
   "cell_type": "code",
   "execution_count": 83,
   "id": "ae4e39a3-3747-4725-a2a7-6fe89421cb8f",
   "metadata": {},
   "outputs": [],
   "source": [
    "month = ['augost','septembre']"
   ]
  },
  {
   "cell_type": "code",
   "execution_count": 82,
   "id": "9bbd6b73-f4c4-45fd-a98e-7278a0c06e06",
   "metadata": {},
   "outputs": [
    {
     "data": {
      "text/plain": [
       "0     jully\n",
       "1    augost\n",
       "dtype: object"
      ]
     },
     "execution_count": 82,
     "metadata": {},
     "output_type": "execute_result"
    }
   ],
   "source": [
    "pd.Series(month)\n"
   ]
  },
  {
   "cell_type": "code",
   "execution_count": 84,
   "id": "7c61667f-6ede-490b-94c6-433f8eb93b7d",
   "metadata": {},
   "outputs": [],
   "source": [
    "days = [31,30]"
   ]
  },
  {
   "cell_type": "code",
   "execution_count": 85,
   "id": "3e53f40f-9752-4cb7-90fc-956ce2c6dae1",
   "metadata": {},
   "outputs": [
    {
     "data": {
      "text/plain": [
       "31       augost\n",
       "30    septembre\n",
       "dtype: object"
      ]
     },
     "execution_count": 85,
     "metadata": {},
     "output_type": "execute_result"
    }
   ],
   "source": [
    "pd.Series(month,days) #tab for help"
   ]
  },
  {
   "cell_type": "code",
   "execution_count": 86,
   "id": "6ba9298a-16fd-4603-b2b7-28c9d1bdca62",
   "metadata": {},
   "outputs": [
    {
     "data": {
      "text/plain": [
       "31       augost\n",
       "30    septembre\n",
       "dtype: object"
      ]
     },
     "execution_count": 86,
     "metadata": {},
     "output_type": "execute_result"
    }
   ],
   "source": [
    "pd.Series(data = month ,index= days) #shift+tab for help"
   ]
  },
  {
   "cell_type": "code",
   "execution_count": 87,
   "id": "89be2174-f717-4ecc-803c-ab773d1c450f",
   "metadata": {},
   "outputs": [
    {
     "data": {
      "text/plain": [
       "31        jully\n",
       "31       augost\n",
       "30    septembre\n",
       "dtype: object"
      ]
     },
     "execution_count": 87,
     "metadata": {},
     "output_type": "execute_result"
    }
   ],
   "source": [
    "month = ['jully','augost','septembre']\n",
    "days = [31,31,30]\n",
    "pd.Series(data = month ,index= days)"
   ]
  },
  {
   "cell_type": "code",
   "execution_count": 88,
   "id": "4c98e53a-817f-4154-8cb2-5832106340eb",
   "metadata": {},
   "outputs": [
    {
     "data": {
      "text/plain": [
       "0       7.2500\n",
       "1      71.2833\n",
       "2       7.9250\n",
       "3      53.1000\n",
       "4       8.0500\n",
       "        ...   \n",
       "882    13.0000\n",
       "883    30.0000\n",
       "884    23.4500\n",
       "885    30.0000\n",
       "886     7.7500\n",
       "Name: Fare, Length: 887, dtype: float64"
      ]
     },
     "execution_count": 88,
     "metadata": {},
     "output_type": "execute_result"
    }
   ],
   "source": [
    "fare"
   ]
  },
  {
   "cell_type": "code",
   "execution_count": 89,
   "id": "5e7baa9e-2fb8-40d7-a204-15cc49abf314",
   "metadata": {},
   "outputs": [
    {
     "data": {
      "text/plain": [
       "count    887.00000\n",
       "mean      32.30542\n",
       "std       49.78204\n",
       "min        0.00000\n",
       "25%        7.92500\n",
       "50%       14.45420\n",
       "75%       31.13750\n",
       "max      512.32920\n",
       "Name: Fare, dtype: float64"
      ]
     },
     "execution_count": 89,
     "metadata": {},
     "output_type": "execute_result"
    }
   ],
   "source": [
    "fare.describe()"
   ]
  },
  {
   "cell_type": "code",
   "execution_count": 90,
   "id": "f74e6ae6-0009-4a27-8bed-64a9cb93e7df",
   "metadata": {},
   "outputs": [
    {
     "data": {
      "text/plain": [
       "275      0.0000\n",
       "478      0.0000\n",
       "411      0.0000\n",
       "594      0.0000\n",
       "630      0.0000\n",
       "         ...   \n",
       "27     263.0000\n",
       "339    263.0000\n",
       "733    512.3292\n",
       "257    512.3292\n",
       "676    512.3292\n",
       "Name: Fare, Length: 887, dtype: float64"
      ]
     },
     "execution_count": 90,
     "metadata": {},
     "output_type": "execute_result"
    }
   ],
   "source": [
    "fare.sort_values()"
   ]
  },
  {
   "cell_type": "code",
   "execution_count": 92,
   "id": "e5c3f2f2-a6e6-4df0-b744-1525ec5af993",
   "metadata": {},
   "outputs": [
    {
     "data": {
      "text/plain": [
       "676    512.3292\n",
       "257    512.3292\n",
       "733    512.3292\n",
       "87     263.0000\n",
       "435    263.0000\n",
       "         ...   \n",
       "818      0.0000\n",
       "463      0.0000\n",
       "269      0.0000\n",
       "811      0.0000\n",
       "261      0.0000\n",
       "Name: Fare, Length: 887, dtype: float64"
      ]
     },
     "execution_count": 92,
     "metadata": {},
     "output_type": "execute_result"
    }
   ],
   "source": [
    "fare.sort_values(ascending=False)"
   ]
  },
  {
   "cell_type": "code",
   "execution_count": 94,
   "id": "59f44e58-d4e9-45db-a5c3-d7a0f92f6caf",
   "metadata": {},
   "outputs": [
    {
     "data": {
      "text/plain": [
       "array([  7.25  ,  71.2833,   7.925 ,  53.1   ,   8.05  ,   8.4583,\n",
       "        51.8625,  21.075 ,  11.1333,  30.0708,  16.7   ,  26.55  ,\n",
       "         8.05  ,  31.275 ,   7.8542,  16.    ,  29.125 ,  13.    ,\n",
       "        18.    ,   7.225 ,  26.    ,  13.    ,   8.0292,  35.5   ,\n",
       "        21.075 ,  31.3875,   7.225 , 263.    ,   7.8792,   7.8958,\n",
       "        27.7208, 146.5208,   7.75  ,  10.5   ,  82.1708,  52.    ,\n",
       "         7.2292,   8.05  ,  18.    ,  11.2417,   9.475 ,  21.    ,\n",
       "        41.5792,   7.8792,   8.05  ,  15.5   ,   7.75  ,  21.6792,\n",
       "        17.8   ,  39.6875,   7.8   ,  76.7292,  26.    ,  61.9792,\n",
       "        35.5   ,  10.5   ,   7.2292,  27.75  ,  46.9   ,   7.2292,\n",
       "        80.    ,  83.475 ,  27.9   ,  27.7208,  15.2458,  10.5   ,\n",
       "         8.1583,   7.925 ,   8.6625,  10.5   ,  46.9   ,  73.5   ,\n",
       "        14.4542,  56.4958,   7.65  ,   7.8958,   8.05  ,  29.    ,\n",
       "        12.475 ,   9.    ,   9.5   ,   7.7875,  47.1   ,  10.5   ,\n",
       "        15.85  ,  34.375 ,   8.05  , 263.    ,   8.05  ,   8.05  ,\n",
       "         7.8542,  61.175 ,  20.575 ,   7.25  ,   8.05  ,  34.6542,\n",
       "        63.3583,  23.    ,  26.    ,   7.8958,   7.8958,  77.2875,\n",
       "         8.6542,   7.925 ,   7.8958,   7.65  ,   7.775 ,   7.8958,\n",
       "        24.15  ,  52.    ,  14.4542,   8.05  ,   9.825 ,  14.4583,\n",
       "         7.925 ,   7.75  ,  21.    , 247.5208,  31.275 ,  73.5   ,\n",
       "         8.05  ,  30.0708,  13.    ,  77.2875,  11.2417,   7.75  ,\n",
       "         7.1417,  22.3583,   6.975 ,   7.8958,   7.05  ,  14.5   ,\n",
       "        26.    ,  13.    ,  15.0458,  26.2833,  53.1   ,   9.2167,\n",
       "        79.2   ,  15.2458,   7.75  ,  15.85  ,   6.75  ,  11.5   ,\n",
       "        36.75  ,   7.7958,  34.375 ,  26.    ,  13.    ,  12.525 ,\n",
       "        66.6   ,   8.05  ,  14.5   ,   7.3125,  61.3792,   7.7333,\n",
       "         8.05  ,   8.6625,  69.55  ,  16.1   ,  15.75  ,   7.775 ,\n",
       "         8.6625,  39.6875,  20.525 ,  55.    ,  27.9   ,  25.925 ,\n",
       "        56.4958,  33.5   ,  29.125 ,  11.1333,   7.925 ,  30.6958,\n",
       "         7.8542,  25.4667,  28.7125,  13.    ,   0.    ,  69.55  ,\n",
       "        15.05  ,  31.3875,  39.    ,  22.025 ,  50.    ,  15.5   ,\n",
       "        26.55  ,  15.5   ,   7.8958,  13.    ,  13.    ,   7.8542,\n",
       "        26.    ,  27.7208, 146.5208,   7.75  ,   8.4042,   7.75  ,\n",
       "        13.    ,   9.5   ,  69.55  ,   6.4958,   7.225 ,   8.05  ,\n",
       "        10.4625,  15.85  ,  18.7875,   7.75  ,  31.    ,   7.05  ,\n",
       "        21.    ,   7.25  ,  13.    ,   7.75  , 113.275 ,   7.925 ,\n",
       "        27.    ,  76.2917,  10.5   ,   8.05  ,  13.    ,   8.05  ,\n",
       "         7.8958,  90.    ,   9.35  ,  10.5   ,   7.25  ,  13.    ,\n",
       "        25.4667,  83.475 ,   7.775 ,  13.5   ,  31.3875,  10.5   ,\n",
       "         7.55  ,  26.    ,  26.25  ,  10.5   ,  12.275 ,  14.4542,\n",
       "        15.5   ,  10.5   ,   7.125 ,   7.225 ,  90.    ,   7.775 ,\n",
       "        14.5   ,  52.5542,  26.    ,   7.25  ,  10.4625,  26.55  ,\n",
       "        16.1   ,  20.2125,  15.2458,  79.2   ,  86.5   , 512.3292,\n",
       "        26.    ,  31.3875,  79.65  ,   0.    ,   7.75  ,  10.5   ,\n",
       "        39.6875,   7.775 , 153.4625, 135.6333,  31.    ,   0.    ,\n",
       "        19.5   ,  29.7   ,   7.75  ,  77.9583,   7.75  ,   0.    ,\n",
       "        29.125 ,  20.25  ,   7.75  ,   7.8542,   9.5   ,   8.05  ,\n",
       "        26.    ,   8.6625,   9.5   ,   7.8958,  13.    ,   7.75  ,\n",
       "        78.85  ,  91.0792,  12.875 ,   8.85  ,   7.8958,  27.7208,\n",
       "         7.2292, 151.55  ,  30.5   , 247.5208,   7.75  ,  23.25  ,\n",
       "         0.    ,  12.35  ,   8.05  , 151.55  , 110.8833, 108.9   ,\n",
       "        24.    ,  56.9292,  83.1583, 262.375 ,  26.    ,   7.8958,\n",
       "        26.25  ,   7.8542,  26.    ,  14.    , 164.8667, 134.5   ,\n",
       "         7.25  ,   7.8958,  12.35  ,  29.    ,  69.55  , 135.6333,\n",
       "         6.2375,  13.    ,  20.525 ,  57.9792,  23.25  ,  28.5   ,\n",
       "       153.4625,  18.    , 133.65  ,   7.8958,  66.6   , 134.5   ,\n",
       "         8.05  ,  35.5   ,  26.    , 263.    ,  13.    ,  13.    ,\n",
       "        13.    ,  13.    ,  13.    ,  16.1   ,  15.9   ,   8.6625,\n",
       "         9.225 ,  35.    ,   7.2292,  17.8   ,   7.225 ,   9.5   ,\n",
       "        55.    ,  13.    ,   7.8792,   7.8792,  27.9   ,  27.7208,\n",
       "        14.4542,   7.05  ,  15.5   ,   7.25  ,  75.25  ,   7.2292,\n",
       "         7.75  ,  69.3   ,  55.4417,   6.4958,   8.05  , 135.6333,\n",
       "        21.075 ,  82.1708,   7.25  , 211.5   ,   4.0125,   7.775 ,\n",
       "       227.525 ,  15.7417,   7.925 ,  52.    ,   7.8958,  73.5   ,\n",
       "        46.9   ,  13.    ,   7.7292,  12.    , 120.    ,   7.7958,\n",
       "         7.925 , 113.275 ,  16.7   ,   7.7958,   7.8542,  26.    ,\n",
       "        10.5   ,  12.65  ,   7.925 ,   8.05  ,   9.825 ,  15.85  ,\n",
       "         8.6625,  21.    ,   7.75  ,  18.75  ,   7.775 ,  25.4667,\n",
       "         7.8958,   6.8583,  90.    ,   0.    ,   7.925 ,   8.05  ,\n",
       "        32.5   ,  13.    ,  13.    ,  24.15  ,   7.7333,   7.875 ,\n",
       "        14.4   ,  20.2125,   7.25  ,  26.    ,  26.    ,   7.75  ,\n",
       "         8.05  ,  26.55  ,  16.1   ,  26.    ,   7.125 ,  55.9   ,\n",
       "       120.    ,  34.375 ,  18.75  , 263.    ,  10.5   ,  26.25  ,\n",
       "         9.5   ,   7.775 ,  13.    ,   8.1125,  81.8583,  19.5   ,\n",
       "        26.55  ,  19.2583,  30.5   ,  27.75  ,  19.9667,  27.75  ,\n",
       "        89.1042,   8.05  ,   7.8958,  26.55  ,  51.8625,  10.5   ,\n",
       "         7.75  ,  26.55  ,   8.05  ,  38.5   ,  13.    ,   8.05  ,\n",
       "         7.05  ,   0.    ,  26.55  ,   7.725 ,  19.2583,   7.25  ,\n",
       "         8.6625,  27.75  ,  13.7917,   9.8375,  52.    ,  21.    ,\n",
       "         7.0458,   7.5208,  12.2875,  46.9   ,   0.    ,   8.05  ,\n",
       "         9.5875,  91.0792,  25.4667,  90.    ,  29.7   ,   8.05  ,\n",
       "        15.9   ,  19.9667,   7.25  ,  30.5   ,  49.5042,   8.05  ,\n",
       "        14.4583,  78.2667,  15.1   , 151.55  ,   7.7958,   8.6625,\n",
       "         7.75  ,   7.6292,   9.5875,  86.5   , 108.9   ,  26.    ,\n",
       "        26.55  ,  22.525 ,  56.4958,   7.75  ,   8.05  ,  26.2875,\n",
       "        59.4   ,   7.4958,  34.0208,  10.5   ,  24.15  ,  26.    ,\n",
       "         7.8958,  93.5   ,   7.8958,   7.225 ,  57.9792,   7.2292,\n",
       "         7.75  ,  10.5   , 221.7792,   7.925 ,  11.5   ,  26.    ,\n",
       "         7.2292,   7.2292,  22.3583,   8.6625,  26.25  ,  26.55  ,\n",
       "       106.425 ,  14.5   ,  49.5   ,  71.    ,  31.275 ,  31.275 ,\n",
       "        26.    , 106.425 ,  26.    ,  26.    ,  13.8625,  20.525 ,\n",
       "        36.75  , 110.8833,  26.    ,   7.8292,   7.225 ,   7.775 ,\n",
       "        26.55  ,  39.6   , 227.525 ,  79.65  ,  17.4   ,   7.75  ,\n",
       "         7.8958,  13.5   ,   8.05  ,   8.05  ,  24.15  ,   7.8958,\n",
       "        21.075 ,   7.2292,   7.8542,  10.5   ,  51.4792,  26.3875,\n",
       "         7.75  ,   8.05  ,  14.5   ,  13.    ,  55.9   ,  14.4583,\n",
       "         7.925 ,  30.    , 110.8833,  26.    ,  40.125 ,   8.7125,\n",
       "        79.65  ,  15.    ,  79.2   ,   8.05  ,   8.05  ,   7.125 ,\n",
       "        78.2667,   7.25  ,   7.75  ,  26.    ,  24.15  ,  33.    ,\n",
       "         0.    ,   7.225 ,  56.9292,  27.    ,   7.8958,  42.4   ,\n",
       "         8.05  ,  26.55  ,  15.55  ,   7.8958,  30.5   ,  41.5792,\n",
       "       153.4625,  31.275 ,   7.05  ,  15.5   ,   7.75  ,   8.05  ,\n",
       "        65.    ,  14.4   ,  16.1   ,  39.    ,  10.5   ,  14.4542,\n",
       "        52.5542,  15.7417,   7.8542,  16.1   ,  32.3208,  12.35  ,\n",
       "        77.9583,   7.8958,   7.7333,  30.    ,   7.0542,  30.5   ,\n",
       "         0.    ,  27.9   ,  13.    ,   7.925 ,  26.25  ,  39.6875,\n",
       "        16.1   ,   7.8542,  69.3   ,  27.9   ,  56.4958,  19.2583,\n",
       "        76.7292,   7.8958,  35.5   ,   7.55  ,   7.55  ,   7.8958,\n",
       "        23.    ,   8.4333,   7.8292,   6.75  ,  73.5   ,   7.8958,\n",
       "        15.5   ,  13.    , 113.275 , 133.65  ,   7.225 ,  25.5875,\n",
       "         7.4958,   7.925 ,  73.5   ,  13.    ,   7.775 ,   8.05  ,\n",
       "        52.    ,  39.    ,  52.    ,  10.5   ,  13.    ,   0.    ,\n",
       "         7.775 ,   8.05  ,   9.8417,  46.9   , 512.3292,   8.1375,\n",
       "        76.7292,   9.225 ,  46.9   ,  39.    ,  41.5792,  39.6875,\n",
       "        10.1708,   7.7958, 211.3375,  57.    ,  13.4167,  56.4958,\n",
       "         7.225 ,  26.55  ,  13.5   ,   8.05  ,   7.7333, 110.8833,\n",
       "         7.65  , 227.525 ,  26.2875,  14.4542,   7.7417,   7.8542,\n",
       "        26.    ,  13.5   ,  26.2875, 151.55  ,  15.2458,  49.5042,\n",
       "        26.55  ,  52.    ,   9.4833,  13.    ,   7.65  , 227.525 ,\n",
       "        10.5   ,   7.775 ,  33.    ,   7.0542,  13.    ,  13.    ,\n",
       "        53.1   ,   8.6625,  21.    ,   7.7375,  26.    ,   7.925 ,\n",
       "       211.3375,  18.7875,   0.    ,  13.    ,  13.    ,  16.1   ,\n",
       "        34.375 , 512.3292,   7.8958,   7.8958,  30.    ,  78.85  ,\n",
       "       262.375 ,  16.1   ,   7.925 ,  71.    ,  20.25  ,  13.    ,\n",
       "        53.1   ,   7.75  ,  23.    ,  12.475 ,   9.5   ,   7.8958,\n",
       "        65.    ,  14.5   ,   7.7958,  11.5   ,   8.05  ,  86.5   ,\n",
       "        14.5   ,   7.125 ,   7.2292, 120.    ,   7.775 ,  77.9583,\n",
       "        39.6   ,   7.75  ,  24.15  ,   8.3625,   9.5   ,   7.8542,\n",
       "        10.5   ,   7.225 ,  23.    ,   7.75  ,   7.75  ,  12.475 ,\n",
       "         7.7375, 211.3375,   7.2292,  57.    ,  30.    ,  23.45  ,\n",
       "         7.05  ,   7.25  ,   7.4958,  29.125 ,  20.575 ,  79.2   ,\n",
       "         7.75  ,  26.    ,  69.55  ,  30.6958,   7.8958,  13.    ,\n",
       "        25.9292,   8.6833,   7.2292,  24.15  ,  13.    ,  26.25  ,\n",
       "       120.    ,   8.5167,   6.975 ,   7.775 ,   0.    ,   7.775 ,\n",
       "        13.    ,  53.1   ,   7.8875,  24.15  ,  10.5   ,  31.275 ,\n",
       "         8.05  ,   0.    ,   7.925 ,  37.0042,   6.45  ,  27.9   ,\n",
       "        93.5   ,   8.6625,   0.    ,  12.475 ,  39.6875,   6.95  ,\n",
       "        56.4958,  37.0042,   7.75  ,  80.    ,  14.4542,  18.75  ,\n",
       "         7.2292,   7.8542,   8.3   ,  83.1583,   8.6625,   8.05  ,\n",
       "        56.4958,  29.7   ,   7.925 ,  10.5   ,  31.    ,   6.4375,\n",
       "         8.6625,   7.55  ,  69.55  ,   7.8958,  33.    ,  89.1042,\n",
       "        31.275 ,   7.775 ,  15.2458,  39.4   ,  26.    ,   9.35  ,\n",
       "       164.8667,  26.55  ,  19.2583,   7.2292,  14.1083,  11.5   ,\n",
       "        25.9292,  69.55  ,  13.    ,  13.    ,  13.8583,  50.4958,\n",
       "         9.5   ,  11.1333,   7.8958,  52.5542,   5.    ,   9.    ,\n",
       "        24.    ,   7.225 ,   9.8458,   7.8958,   7.8958,  83.1583,\n",
       "        26.    ,   7.8958,  10.5167,  10.5   ,   7.05  ,  29.125 ,\n",
       "        13.    ,  30.    ,  23.45  ,  30.    ,   7.75  ])"
      ]
     },
     "execution_count": 94,
     "metadata": {},
     "output_type": "execute_result"
    }
   ],
   "source": [
    "fare.values"
   ]
  },
  {
   "cell_type": "code",
   "execution_count": 95,
   "id": "3f604ca0-4303-4bef-a455-9f2129e5f72a",
   "metadata": {},
   "outputs": [
    {
     "data": {
      "text/plain": [
       "False"
      ]
     },
     "execution_count": 95,
     "metadata": {},
     "output_type": "execute_result"
    }
   ],
   "source": [
    "fare.is_unique"
   ]
  },
  {
   "cell_type": "code",
   "execution_count": 100,
   "id": "dd989293-9aee-45a3-b502-a0715d102193",
   "metadata": {},
   "outputs": [],
   "source": [
    "\n",
    "new_list = [1,2,3,4]\n",
    "nls= pd.Series(new_list)"
   ]
  },
  {
   "cell_type": "code",
   "execution_count": 101,
   "id": "c12f9c0e-1378-486c-87d8-fb2dc5b34865",
   "metadata": {},
   "outputs": [
    {
     "data": {
      "text/plain": [
       "True"
      ]
     },
     "execution_count": 101,
     "metadata": {},
     "output_type": "execute_result"
    }
   ],
   "source": [
    "nls.is_unique"
   ]
  },
  {
   "cell_type": "code",
   "execution_count": 102,
   "id": "b8a0e7dd-66fd-4c32-80cd-ec973d67aa6f",
   "metadata": {},
   "outputs": [
    {
     "data": {
      "text/html": [
       "<div>\n",
       "<style scoped>\n",
       "    .dataframe tbody tr th:only-of-type {\n",
       "        vertical-align: middle;\n",
       "    }\n",
       "\n",
       "    .dataframe tbody tr th {\n",
       "        vertical-align: top;\n",
       "    }\n",
       "\n",
       "    .dataframe thead th {\n",
       "        text-align: right;\n",
       "    }\n",
       "</style>\n",
       "<table border=\"1\" class=\"dataframe\">\n",
       "  <thead>\n",
       "    <tr style=\"text-align: right;\">\n",
       "      <th></th>\n",
       "      <th>Height(Inches)\"</th>\n",
       "    </tr>\n",
       "  </thead>\n",
       "  <tbody>\n",
       "    <tr>\n",
       "      <th>0</th>\n",
       "      <td>65.78</td>\n",
       "    </tr>\n",
       "    <tr>\n",
       "      <th>1</th>\n",
       "      <td>71.52</td>\n",
       "    </tr>\n",
       "    <tr>\n",
       "      <th>2</th>\n",
       "      <td>69.40</td>\n",
       "    </tr>\n",
       "    <tr>\n",
       "      <th>3</th>\n",
       "      <td>68.22</td>\n",
       "    </tr>\n",
       "    <tr>\n",
       "      <th>4</th>\n",
       "      <td>67.79</td>\n",
       "    </tr>\n",
       "    <tr>\n",
       "      <th>...</th>\n",
       "      <td>...</td>\n",
       "    </tr>\n",
       "    <tr>\n",
       "      <th>195</th>\n",
       "      <td>65.80</td>\n",
       "    </tr>\n",
       "    <tr>\n",
       "      <th>196</th>\n",
       "      <td>66.11</td>\n",
       "    </tr>\n",
       "    <tr>\n",
       "      <th>197</th>\n",
       "      <td>68.24</td>\n",
       "    </tr>\n",
       "    <tr>\n",
       "      <th>198</th>\n",
       "      <td>68.02</td>\n",
       "    </tr>\n",
       "    <tr>\n",
       "      <th>199</th>\n",
       "      <td>71.39</td>\n",
       "    </tr>\n",
       "  </tbody>\n",
       "</table>\n",
       "<p>200 rows × 1 columns</p>\n",
       "</div>"
      ],
      "text/plain": [
       "     Height(Inches)\"\n",
       "0              65.78\n",
       "1              71.52\n",
       "2              69.40\n",
       "3              68.22\n",
       "4              67.79\n",
       "..               ...\n",
       "195            65.80\n",
       "196            66.11\n",
       "197            68.24\n",
       "198            68.02\n",
       "199            71.39\n",
       "\n",
       "[200 rows x 1 columns]"
      ]
     },
     "execution_count": 102,
     "metadata": {},
     "output_type": "execute_result"
    }
   ],
   "source": [
    "df"
   ]
  },
  {
   "cell_type": "code",
   "execution_count": 103,
   "id": "21f39543-9b13-409d-86be-4214a91d2f7f",
   "metadata": {},
   "outputs": [
    {
     "data": {
      "text/plain": [
       "0      65.78\n",
       "1      71.52\n",
       "2      69.40\n",
       "3      68.22\n",
       "4      67.79\n",
       "       ...  \n",
       "195    65.80\n",
       "196    66.11\n",
       "197    68.24\n",
       "198    68.02\n",
       "199    71.39\n",
       "Name:  Height(Inches)\", Length: 200, dtype: float64"
      ]
     },
     "execution_count": 103,
     "metadata": {},
     "output_type": "execute_result"
    }
   ],
   "source": [
    "s1"
   ]
  },
  {
   "cell_type": "code",
   "execution_count": 104,
   "id": "fa0a423c-d618-4692-bfcf-77ac44e82f8e",
   "metadata": {},
   "outputs": [
    {
     "data": {
      "text/plain": [
       "1"
      ]
     },
     "execution_count": 104,
     "metadata": {},
     "output_type": "execute_result"
    }
   ],
   "source": [
    "s1.ndim"
   ]
  },
  {
   "cell_type": "code",
   "execution_count": 105,
   "id": "f2b174dc-5047-4063-a98d-8b8ad0dcbe69",
   "metadata": {},
   "outputs": [
    {
     "data": {
      "text/plain": [
       "2"
      ]
     },
     "execution_count": 105,
     "metadata": {},
     "output_type": "execute_result"
    }
   ],
   "source": [
    "df.ndim"
   ]
  },
  {
   "cell_type": "code",
   "execution_count": 107,
   "id": "45373645-dd57-41dd-9a07-2215477a75e9",
   "metadata": {
    "scrolled": true
   },
   "outputs": [
    {
     "data": {
      "text/html": [
       "<div>\n",
       "<style scoped>\n",
       "    .dataframe tbody tr th:only-of-type {\n",
       "        vertical-align: middle;\n",
       "    }\n",
       "\n",
       "    .dataframe tbody tr th {\n",
       "        vertical-align: top;\n",
       "    }\n",
       "\n",
       "    .dataframe thead th {\n",
       "        text-align: right;\n",
       "    }\n",
       "</style>\n",
       "<table border=\"1\" class=\"dataframe\">\n",
       "  <thead>\n",
       "    <tr style=\"text-align: right;\">\n",
       "      <th></th>\n",
       "      <th>Index</th>\n",
       "      <th>Height(Inches)\"</th>\n",
       "      <th>\"Weight(Pounds)\"</th>\n",
       "    </tr>\n",
       "  </thead>\n",
       "  <tbody>\n",
       "    <tr>\n",
       "      <th>0</th>\n",
       "      <td>1</td>\n",
       "      <td>65.78</td>\n",
       "      <td>112.99</td>\n",
       "    </tr>\n",
       "    <tr>\n",
       "      <th>1</th>\n",
       "      <td>2</td>\n",
       "      <td>71.52</td>\n",
       "      <td>136.49</td>\n",
       "    </tr>\n",
       "    <tr>\n",
       "      <th>2</th>\n",
       "      <td>3</td>\n",
       "      <td>69.40</td>\n",
       "      <td>153.03</td>\n",
       "    </tr>\n",
       "    <tr>\n",
       "      <th>3</th>\n",
       "      <td>4</td>\n",
       "      <td>68.22</td>\n",
       "      <td>142.34</td>\n",
       "    </tr>\n",
       "    <tr>\n",
       "      <th>4</th>\n",
       "      <td>5</td>\n",
       "      <td>67.79</td>\n",
       "      <td>144.30</td>\n",
       "    </tr>\n",
       "    <tr>\n",
       "      <th>...</th>\n",
       "      <td>...</td>\n",
       "      <td>...</td>\n",
       "      <td>...</td>\n",
       "    </tr>\n",
       "    <tr>\n",
       "      <th>195</th>\n",
       "      <td>196</td>\n",
       "      <td>65.80</td>\n",
       "      <td>120.84</td>\n",
       "    </tr>\n",
       "    <tr>\n",
       "      <th>196</th>\n",
       "      <td>197</td>\n",
       "      <td>66.11</td>\n",
       "      <td>115.78</td>\n",
       "    </tr>\n",
       "    <tr>\n",
       "      <th>197</th>\n",
       "      <td>198</td>\n",
       "      <td>68.24</td>\n",
       "      <td>128.30</td>\n",
       "    </tr>\n",
       "    <tr>\n",
       "      <th>198</th>\n",
       "      <td>199</td>\n",
       "      <td>68.02</td>\n",
       "      <td>127.47</td>\n",
       "    </tr>\n",
       "    <tr>\n",
       "      <th>199</th>\n",
       "      <td>200</td>\n",
       "      <td>71.39</td>\n",
       "      <td>127.88</td>\n",
       "    </tr>\n",
       "  </tbody>\n",
       "</table>\n",
       "<p>200 rows × 3 columns</p>\n",
       "</div>"
      ],
      "text/plain": [
       "     Index   Height(Inches)\"   \"Weight(Pounds)\"\n",
       "0        1             65.78             112.99\n",
       "1        2             71.52             136.49\n",
       "2        3             69.40             153.03\n",
       "3        4             68.22             142.34\n",
       "4        5             67.79             144.30\n",
       "..     ...               ...                ...\n",
       "195    196             65.80             120.84\n",
       "196    197             66.11             115.78\n",
       "197    198             68.24             128.30\n",
       "198    199             68.02             127.47\n",
       "199    200             71.39             127.88\n",
       "\n",
       "[200 rows x 3 columns]"
      ]
     },
     "execution_count": 107,
     "metadata": {},
     "output_type": "execute_result"
    }
   ],
   "source": [
    "df2 = pd.read_csv('https://people.sc.fsu.edu/~jburkardt/data/csv/hw_200.csv')\n",
    "df2"
   ]
  },
  {
   "cell_type": "code",
   "execution_count": 108,
   "id": "6c795017-c2ac-4a27-ae69-35a426281f37",
   "metadata": {},
   "outputs": [
    {
     "data": {
      "text/plain": [
       "2"
      ]
     },
     "execution_count": 108,
     "metadata": {},
     "output_type": "execute_result"
    }
   ],
   "source": [
    "df2.ndim"
   ]
  },
  {
   "cell_type": "code",
   "execution_count": 109,
   "id": "9034293c-d0dd-4015-8d5d-7af9faddc87a",
   "metadata": {},
   "outputs": [
    {
     "data": {
      "text/plain": [
       "(200,)"
      ]
     },
     "execution_count": 109,
     "metadata": {},
     "output_type": "execute_result"
    }
   ],
   "source": [
    "s1.shape"
   ]
  },
  {
   "cell_type": "code",
   "execution_count": 110,
   "id": "792a620c-305c-4c14-a068-65273b17760c",
   "metadata": {},
   "outputs": [
    {
     "data": {
      "text/plain": [
       "(200, 1)"
      ]
     },
     "execution_count": 110,
     "metadata": {},
     "output_type": "execute_result"
    }
   ],
   "source": [
    "df.shape"
   ]
  },
  {
   "cell_type": "code",
   "execution_count": 111,
   "id": "1302e02d-2376-42aa-bd32-3a70f1fa9636",
   "metadata": {},
   "outputs": [
    {
     "data": {
      "text/plain": [
       "(200, 3)"
      ]
     },
     "execution_count": 111,
     "metadata": {},
     "output_type": "execute_result"
    }
   ],
   "source": [
    "df2.shape"
   ]
  },
  {
   "cell_type": "code",
   "execution_count": 113,
   "id": "a8fbe819-8bb8-479c-abc5-271dd90e38f5",
   "metadata": {},
   "outputs": [
    {
     "data": {
      "text/plain": [
       "200"
      ]
     },
     "execution_count": 113,
     "metadata": {},
     "output_type": "execute_result"
    }
   ],
   "source": [
    "s1.size"
   ]
  },
  {
   "cell_type": "code",
   "execution_count": 115,
   "id": "2aa7e359-9a7e-4612-8de8-de3680bf68e2",
   "metadata": {},
   "outputs": [
    {
     "data": {
      "text/plain": [
       "200"
      ]
     },
     "execution_count": 115,
     "metadata": {},
     "output_type": "execute_result"
    }
   ],
   "source": [
    "df.size"
   ]
  },
  {
   "cell_type": "code",
   "execution_count": 116,
   "id": "477c933e-cc0a-4922-b433-b70dcfdf014f",
   "metadata": {},
   "outputs": [
    {
     "data": {
      "text/plain": [
       "600"
      ]
     },
     "execution_count": 116,
     "metadata": {},
     "output_type": "execute_result"
    }
   ],
   "source": [
    "df2.size # including nulls, counting field not values"
   ]
  },
  {
   "cell_type": "code",
   "execution_count": 121,
   "id": "097372a6-4f64-4d6b-be98-dc05039ee2a7",
   "metadata": {},
   "outputs": [
    {
     "data": {
      "text/plain": [
       "676    512.3292\n",
       "257    512.3292\n",
       "733    512.3292\n",
       "87     263.0000\n",
       "435    263.0000\n",
       "         ...   \n",
       "818      0.0000\n",
       "463      0.0000\n",
       "269      0.0000\n",
       "811      0.0000\n",
       "261      0.0000\n",
       "Name: Fare, Length: 887, dtype: float64"
      ]
     },
     "execution_count": 121,
     "metadata": {},
     "output_type": "execute_result"
    }
   ],
   "source": [
    "fare.sort_values(ascending =False)"
   ]
  },
  {
   "cell_type": "code",
   "execution_count": 122,
   "id": "df3f4d56-df40-41a1-937d-e01bf9a89621",
   "metadata": {},
   "outputs": [
    {
     "data": {
      "text/plain": [
       "0       7.2500\n",
       "1      71.2833\n",
       "2       7.9250\n",
       "3      53.1000\n",
       "4       8.0500\n",
       "        ...   \n",
       "882    13.0000\n",
       "883    30.0000\n",
       "884    23.4500\n",
       "885    30.0000\n",
       "886     7.7500\n",
       "Name: Fare, Length: 887, dtype: float64"
      ]
     },
     "execution_count": 122,
     "metadata": {},
     "output_type": "execute_result"
    }
   ],
   "source": [
    "fare"
   ]
  },
  {
   "cell_type": "code",
   "execution_count": 153,
   "id": "5b6c2fd6-7a90-4603-bc4d-865bac1986f0",
   "metadata": {},
   "outputs": [
    {
     "data": {
      "text/plain": [
       "0       7.2500\n",
       "1      71.2833\n",
       "2       7.9250\n",
       "3      53.1000\n",
       "4       8.0500\n",
       "        ...   \n",
       "882    13.0000\n",
       "883    30.0000\n",
       "884    23.4500\n",
       "885    30.0000\n",
       "886     7.7500\n",
       "Name: Fare, Length: 887, dtype: float64"
      ]
     },
     "execution_count": 153,
     "metadata": {},
     "output_type": "execute_result"
    }
   ],
   "source": [
    "f5 = fare.copy()\n",
    "f5"
   ]
  },
  {
   "cell_type": "code",
   "execution_count": 157,
   "id": "2a5a31d6-4fc0-4c93-8c2e-f4b19d12e38f",
   "metadata": {},
   "outputs": [
    {
     "data": {
      "text/plain": [
       "676    512.3292\n",
       "257    512.3292\n",
       "733    512.3292\n",
       "87     263.0000\n",
       "339    263.0000\n",
       "Name: Fare, dtype: float64"
      ]
     },
     "execution_count": 157,
     "metadata": {},
     "output_type": "execute_result"
    }
   ],
   "source": [
    "f5.sort_values(ascending =False,inplace=True) #inplace saves the change\n",
    "f5.head()"
   ]
  },
  {
   "cell_type": "code",
   "execution_count": 156,
   "id": "422da6c3-ed61-4b90-96e5-35e00422a244",
   "metadata": {},
   "outputs": [
    {
     "data": {
      "text/plain": [
       "0       7.2500\n",
       "1      71.2833\n",
       "2       7.9250\n",
       "3      53.1000\n",
       "4       8.0500\n",
       "        ...   \n",
       "882    13.0000\n",
       "883    30.0000\n",
       "884    23.4500\n",
       "885    30.0000\n",
       "886     7.7500\n",
       "Name: Fare, Length: 887, dtype: float64"
      ]
     },
     "execution_count": 156,
     "metadata": {},
     "output_type": "execute_result"
    }
   ],
   "source": [
    "f5.sort_index()"
   ]
  },
  {
   "cell_type": "code",
   "execution_count": 132,
   "id": "f988faec-a8f4-4cd9-8986-cd3da315df95",
   "metadata": {},
   "outputs": [
    {
     "data": {
      "text/plain": [
       "886     7.7500\n",
       "885    30.0000\n",
       "884    23.4500\n",
       "883    30.0000\n",
       "882    13.0000\n",
       "        ...   \n",
       "4       8.0500\n",
       "3      53.1000\n",
       "2       7.9250\n",
       "1      71.2833\n",
       "0       7.2500\n",
       "Name: Fare, Length: 887, dtype: float64"
      ]
     },
     "execution_count": 132,
     "metadata": {},
     "output_type": "execute_result"
    }
   ],
   "source": [
    "f2.sort_index(ascending=False)"
   ]
  },
  {
   "cell_type": "code",
   "execution_count": 133,
   "id": "0d507f46-b8bd-4354-a29c-26b9bf9d2d1e",
   "metadata": {},
   "outputs": [],
   "source": [
    "f4 = fare.sort_values(ascending =False)# לא מעתיק צורה מסודרת"
   ]
  },
  {
   "cell_type": "code",
   "execution_count": 134,
   "id": "0e296b43-cdc1-41dd-a133-46fc5e8d369d",
   "metadata": {},
   "outputs": [
    {
     "data": {
      "text/plain": [
       "676    512.3292\n",
       "257    512.3292\n",
       "733    512.3292\n",
       "87     263.0000\n",
       "435    263.0000\n",
       "         ...   \n",
       "818      0.0000\n",
       "463      0.0000\n",
       "269      0.0000\n",
       "811      0.0000\n",
       "261      0.0000\n",
       "Name: Fare, Length: 887, dtype: float64"
      ]
     },
     "execution_count": 134,
     "metadata": {},
     "output_type": "execute_result"
    }
   ],
   "source": [
    "f4"
   ]
  },
  {
   "cell_type": "code",
   "execution_count": 135,
   "id": "0ef18d52-8f51-4ebc-a639-d219d33aa7a0",
   "metadata": {},
   "outputs": [
    {
     "data": {
      "text/plain": [
       "0       7.2500\n",
       "1      71.2833\n",
       "2       7.9250\n",
       "3      53.1000\n",
       "4       8.0500\n",
       "        ...   \n",
       "882    13.0000\n",
       "883    30.0000\n",
       "884    23.4500\n",
       "885    30.0000\n",
       "886     7.7500\n",
       "Name: Fare, Length: 887, dtype: float64"
      ]
     },
     "execution_count": 135,
     "metadata": {},
     "output_type": "execute_result"
    }
   ],
   "source": [
    "f4.sort_index()"
   ]
  },
  {
   "cell_type": "code",
   "execution_count": 136,
   "id": "25668b3a-3be7-4522-9850-f743f0967b04",
   "metadata": {},
   "outputs": [
    {
     "data": {
      "text/plain": [
       "263.0"
      ]
     },
     "execution_count": 136,
     "metadata": {},
     "output_type": "execute_result"
    }
   ],
   "source": [
    "f4.get(87)"
   ]
  },
  {
   "cell_type": "code",
   "execution_count": 147,
   "id": "37802afd-cc96-423e-b2f4-8d4fd1358c3d",
   "metadata": {},
   "outputs": [
    {
     "data": {
      "text/plain": [
       "\"couldn't find\""
      ]
     },
     "execution_count": 147,
     "metadata": {},
     "output_type": "execute_result"
    }
   ],
   "source": [
    "f4.get(900, default =\"couldn't find\")"
   ]
  },
  {
   "cell_type": "code",
   "execution_count": 139,
   "id": "54681b42-c931-445f-8c92-916408bbeb47",
   "metadata": {},
   "outputs": [
    {
     "data": {
      "text/plain": [
       "49.78204040017367"
      ]
     },
     "execution_count": 139,
     "metadata": {},
     "output_type": "execute_result"
    }
   ],
   "source": [
    "f4.std()"
   ]
  },
  {
   "cell_type": "code",
   "execution_count": 141,
   "id": "d50656c0-0020-4494-bb7b-3ad57204c9d7",
   "metadata": {},
   "outputs": [
    {
     "data": {
      "text/plain": [
       "512.3292"
      ]
     },
     "execution_count": 141,
     "metadata": {},
     "output_type": "execute_result"
    }
   ],
   "source": [
    "f4.max()"
   ]
  },
  {
   "cell_type": "code",
   "execution_count": 142,
   "id": "0f15502b-14ca-479c-93ac-5a11ff6b2715",
   "metadata": {},
   "outputs": [
    {
     "data": {
      "text/plain": [
       "14.4542"
      ]
     },
     "execution_count": 142,
     "metadata": {},
     "output_type": "execute_result"
    }
   ],
   "source": [
    "f4.median()"
   ]
  },
  {
   "cell_type": "code",
   "execution_count": 143,
   "id": "3174b594-556a-43ab-9a4b-511ae6ed4c8c",
   "metadata": {},
   "outputs": [
    {
     "data": {
      "text/plain": [
       "887"
      ]
     },
     "execution_count": 143,
     "metadata": {},
     "output_type": "execute_result"
    }
   ],
   "source": [
    "f4.count()"
   ]
  },
  {
   "cell_type": "code",
   "execution_count": 144,
   "id": "874bcf3c-ac55-4758-9f63-2f31bdc3530a",
   "metadata": {},
   "outputs": [
    {
     "data": {
      "text/plain": [
       "887"
      ]
     },
     "execution_count": 144,
     "metadata": {},
     "output_type": "execute_result"
    }
   ],
   "source": [
    "len(f4)"
   ]
  },
  {
   "cell_type": "code",
   "execution_count": 145,
   "id": "0985765e-5c6b-4a83-825d-bb050dc3c094",
   "metadata": {},
   "outputs": [
    {
     "data": {
      "text/plain": [
       "count    887.00000\n",
       "mean      32.30542\n",
       "std       49.78204\n",
       "min        0.00000\n",
       "25%        7.92500\n",
       "50%       14.45420\n",
       "75%       31.13750\n",
       "max      512.32920\n",
       "Name: Fare, dtype: float64"
      ]
     },
     "execution_count": 145,
     "metadata": {},
     "output_type": "execute_result"
    }
   ],
   "source": [
    "f4.describe()"
   ]
  },
  {
   "cell_type": "code",
   "execution_count": null,
   "id": "fa98d43f-6b60-421b-a885-d1122cf09475",
   "metadata": {},
   "outputs": [],
   "source": []
  }
 ],
 "metadata": {
  "kernelspec": {
   "display_name": "Python 3 (ipykernel)",
   "language": "python",
   "name": "python3"
  },
  "language_info": {
   "codemirror_mode": {
    "name": "ipython",
    "version": 3
   },
   "file_extension": ".py",
   "mimetype": "text/x-python",
   "name": "python",
   "nbconvert_exporter": "python",
   "pygments_lexer": "ipython3",
   "version": "3.12.2"
  }
 },
 "nbformat": 4,
 "nbformat_minor": 5
}
