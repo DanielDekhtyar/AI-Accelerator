{
 "cells": [
  {
   "cell_type": "code",
   "execution_count": 1,
   "id": "b7709397-c3fd-43bb-ba70-d458bbb209cf",
   "metadata": {},
   "outputs": [],
   "source": [
    "import pandas as pd"
   ]
  },
  {
   "cell_type": "markdown",
   "id": "6656e531-31bb-4605-babf-2719d7208b36",
   "metadata": {},
   "source": [
    "#1 צרו משתנה בשם df\n",
    "שיכיל את כל המידע ב\n",
    "titanic."
   ]
  },
  {
   "cell_type": "code",
   "execution_count": null,
   "id": "4ccc67cc-2997-40df-becc-c511ed3077d2",
   "metadata": {},
   "outputs": [],
   "source": []
  },
  {
   "cell_type": "markdown",
   "id": "01c6558b-b922-4032-8b6a-7e28fe3f7429",
   "metadata": {},
   "source": [
    "#2 צרו סידרה בשם fare \n",
    "על בסיס עמודת Fare\n",
    "בקובץ titanic.csv"
   ]
  },
  {
   "cell_type": "code",
   "execution_count": null,
   "id": "83d2f380-a737-44b0-9105-8c184bf9d6fc",
   "metadata": {},
   "outputs": [],
   "source": []
  },
  {
   "cell_type": "code",
   "execution_count": 2,
   "id": "aa90a7d6-027b-4c28-89b3-0cb81b234a66",
   "metadata": {},
   "outputs": [],
   "source": [
    "#2.1 בחנו את הסידרה, מה הערכים הראשונים שלה, מה האחרונים? מה נותן התיאור שלה \n",
    "(describe)"
   ]
  },
  {
   "cell_type": "code",
   "execution_count": null,
   "id": "124d286a-1d37-4359-82fd-2d9659df6aa7",
   "metadata": {},
   "outputs": [],
   "source": []
  },
  {
   "cell_type": "markdown",
   "id": "2b1660f9-46b5-419e-80a5-75070f2cf08b",
   "metadata": {},
   "source": [
    "#3 המחיר בסידרה מופיע בלירות שטרליינג , מה המחיר הממוצע לכרטיס בשקלים (לירה שטרלינג שווה 4.6 ש\"ח)"
   ]
  },
  {
   "cell_type": "code",
   "execution_count": null,
   "id": "1ccf536b-8858-40bb-b181-a0ff4e049791",
   "metadata": {},
   "outputs": [],
   "source": []
  },
  {
   "cell_type": "markdown",
   "id": "78cdcc8f-f521-41fe-aea8-54d8f74c8822",
   "metadata": {},
   "source": [
    "#4 מה שלושת המחירים היקרים ביותר?"
   ]
  },
  {
   "cell_type": "markdown",
   "id": "b532b82d-b4b2-40ce-9bc0-2d7ad7035f4a",
   "metadata": {},
   "source": [
    "#5 מה המימדים, הצורה והגודל של df"
   ]
  },
  {
   "cell_type": "code",
   "execution_count": null,
   "id": "8712413c-550f-4a3a-b262-8de45b52d5c7",
   "metadata": {},
   "outputs": [],
   "source": []
  },
  {
   "cell_type": "code",
   "execution_count": null,
   "id": "0c8d6edf-b2d8-4253-a736-4ba96b6bab42",
   "metadata": {},
   "outputs": [],
   "source": []
  },
  {
   "cell_type": "code",
   "execution_count": null,
   "id": "6cb5f21d-10ee-4357-8fc2-2830e15807e8",
   "metadata": {},
   "outputs": [],
   "source": [
    "#6 מה המימדים הצורה והגודל של fare"
   ]
  },
  {
   "cell_type": "code",
   "execution_count": null,
   "id": "2b85d4ea-66f8-410a-a263-c761c8453f3c",
   "metadata": {},
   "outputs": [],
   "source": []
  },
  {
   "cell_type": "code",
   "execution_count": null,
   "id": "a2c7adad-bf2d-4932-b1ba-7349f9a0b477",
   "metadata": {},
   "outputs": [],
   "source": []
  },
  {
   "cell_type": "markdown",
   "id": "53aba618-c98f-4578-800d-f1d8be75e6e3",
   "metadata": {},
   "source": [
    "#7 צרו רשימת צבעים: אדום כחול שחור\n",
    "ורשימת קודים:ff0000#, #0000ff,#000000\n",
    "צרו סידרה שהערכים שלה הם הצבעים והאינדקס שלה הוא הצבעים"
   ]
  },
  {
   "cell_type": "code",
   "execution_count": null,
   "id": "e945b609-f5a1-4e4d-974f-e6e237aa161b",
   "metadata": {},
   "outputs": [],
   "source": []
  },
  {
   "cell_type": "code",
   "execution_count": null,
   "id": "0e49d2b2-baf6-41ba-9bc4-ef154b643072",
   "metadata": {},
   "outputs": [],
   "source": []
  },
  {
   "cell_type": "markdown",
   "id": "1d946ec4-b650-4b58-8d5e-bec860ceebc5",
   "metadata": {},
   "source": [
    "### נשאר זמן?"
   ]
  },
  {
   "cell_type": "markdown",
   "id": "b087f725-7285-423b-ad85-27f7f3801bb0",
   "metadata": {},
   "source": [
    "#8 צרו פונקציה שמקבלת מספר ומחזירה את מחיר הכרטיס הכי נמוך לפפי המספר. \n",
    "למשל אם קיבלה את המספר 100 היא תחזיר את מחירו של הכרטיס ה100 הכי זול\n",
    "שזה 7.8958"
   ]
  },
  {
   "cell_type": "markdown",
   "id": "5621ad7c-54dc-4f49-a55f-3178ef70dd8a",
   "metadata": {},
   "source": []
  }
 ],
 "metadata": {
  "kernelspec": {
   "display_name": "Python 3 (ipykernel)",
   "language": "python",
   "name": "python3"
  },
  "language_info": {
   "codemirror_mode": {
    "name": "ipython",
    "version": 3
   },
   "file_extension": ".py",
   "mimetype": "text/x-python",
   "name": "python",
   "nbconvert_exporter": "python",
   "pygments_lexer": "ipython3",
   "version": "3.12.2"
  }
 },
 "nbformat": 4,
 "nbformat_minor": 5
}
