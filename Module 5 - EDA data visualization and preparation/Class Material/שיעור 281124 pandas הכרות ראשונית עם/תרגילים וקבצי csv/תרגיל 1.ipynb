{
 "cells": [
  {
   "cell_type": "markdown",
   "id": "4f3b0347-8ed6-4ff9-b0b0-a438938b57b3",
   "metadata": {},
   "source": [
    "#1 import pandas"
   ]
  },
  {
   "cell_type": "code",
   "execution_count": null,
   "id": "77f65842-cef3-4909-a173-65f19790faac",
   "metadata": {},
   "outputs": [],
   "source": []
  },
  {
   "cell_type": "markdown",
   "id": "d399cd88-5f59-405b-adef-2fd19c643a3f",
   "metadata": {},
   "source": [
    "#2.1 create a list \"names\" with 4 string items (you can choose what 4 names you want to use in your list)"
   ]
  },
  {
   "cell_type": "code",
   "execution_count": null,
   "id": "a891a3a7-275f-46f9-bed2-8479a113ebad",
   "metadata": {},
   "outputs": [],
   "source": []
  },
  {
   "cell_type": "markdown",
   "id": "8f66ee89-5a24-4754-8566-b3ffe6cdae5c",
   "metadata": {},
   "source": [
    "#2.2 create a dictionary \"missions\" with the following keys and values: \n",
    "Appolo11: \"Moon landing\"\n",
    "Manhattan: \"Development of Atomic Bomb\"\n",
    "Impossibl:\"should you choose to accept it...\""
   ]
  },
  {
   "cell_type": "code",
   "execution_count": null,
   "id": "4aae4346-da19-43f6-8fc7-f4f75dc05619",
   "metadata": {},
   "outputs": [],
   "source": []
  },
  {
   "cell_type": "markdown",
   "id": "a2a4e4bc-a09c-46f3-8067-391db9b0fbed",
   "metadata": {},
   "source": [
    "#3.1 create a series variable named s_names and assign the names list to is a series"
   ]
  },
  {
   "cell_type": "code",
   "execution_count": null,
   "id": "ebc8859e-6db8-4dd4-99a5-a9ab9d80eff0",
   "metadata": {},
   "outputs": [],
   "source": []
  },
  {
   "cell_type": "markdown",
   "id": "41efa7bd-9413-4b9c-967d-8d3cb95fc161",
   "metadata": {},
   "source": [
    "#3.2 create a series variable named s_missions and assign the dictionary \"missions\" to is a series"
   ]
  },
  {
   "cell_type": "code",
   "execution_count": null,
   "id": "7cc3e9a7-491f-43f9-a71c-09f10bc7cc29",
   "metadata": {},
   "outputs": [],
   "source": []
  },
  {
   "cell_type": "markdown",
   "id": "51959ea1-c7f9-4022-8207-147d041df6f1",
   "metadata": {},
   "source": [
    "#4.1 print s_names ,and inspect the data type and the index"
   ]
  },
  {
   "cell_type": "code",
   "execution_count": null,
   "id": "e04d802f-60af-4e02-a257-fd07b9e03d06",
   "metadata": {},
   "outputs": [],
   "source": []
  },
  {
   "cell_type": "markdown",
   "id": "7a414045-fe87-43b8-8479-8b0a1358d1b0",
   "metadata": {},
   "source": [
    "#4.2 print s_missions and inspect the data type and the index"
   ]
  },
  {
   "cell_type": "code",
   "execution_count": null,
   "id": "cb66959d-0654-49cb-be58-778c13f7ca66",
   "metadata": {},
   "outputs": [],
   "source": []
  },
  {
   "cell_type": "markdown",
   "id": "a2becea2-1ca5-46b5-b8c6-9d07da2a2705",
   "metadata": {},
   "source": [
    "#4.3 for both series use the index attribute."
   ]
  },
  {
   "cell_type": "code",
   "execution_count": null,
   "id": "de90c439-68f7-434c-bbf2-43065d35287e",
   "metadata": {},
   "outputs": [],
   "source": []
  },
  {
   "cell_type": "markdown",
   "id": "96faf470-f4cf-4eaf-8935-568804b9317e",
   "metadata": {},
   "source": [
    "#5 use read_csv to upload the data in 'https://people.sc.fsu.edu/~jburkardt/data/csv/hw_200.csv'\n"
   ]
  },
  {
   "cell_type": "code",
   "execution_count": null,
   "id": "8c5ac1de-b71e-4e5f-88f0-08ea9057f23e",
   "metadata": {},
   "outputs": [],
   "source": []
  },
  {
   "cell_type": "markdown",
   "id": "da57535f-1eb0-4a8f-b125-0d352acc70b0",
   "metadata": {},
   "source": [
    "#6 take the ' Height(Inches)\"' column and turn it to a series, asign this series into a varible named s_hight.\n"
   ]
  },
  {
   "cell_type": "code",
   "execution_count": null,
   "id": "8901e3be-a17b-4db7-9fcd-11f83f1c45c2",
   "metadata": {},
   "outputs": [],
   "source": []
  },
  {
   "cell_type": "markdown",
   "id": "6cb463b7-4bef-44b9-a99b-3d2576c3afd8",
   "metadata": {},
   "source": [
    "#7 what is the data type of the the series values?\n"
   ]
  },
  {
   "cell_type": "code",
   "execution_count": null,
   "id": "66059c77-7f12-4027-bf9b-0fe62614a3ce",
   "metadata": {},
   "outputs": [],
   "source": []
  },
  {
   "cell_type": "markdown",
   "id": "739e0b62-8ed2-410b-888e-761183478a72",
   "metadata": {},
   "source": [
    "#8 use appropriate attributes to  display the list of values in the series, and the information about the index of it.\n"
   ]
  },
  {
   "cell_type": "code",
   "execution_count": null,
   "id": "0ddc420d-ef52-4c32-9c8a-6d96c2ec79b7",
   "metadata": {},
   "outputs": [],
   "source": []
  },
  {
   "cell_type": "markdown",
   "id": "408c6ae7-5e0e-44fc-8b8e-2b353afa7412",
   "metadata": {},
   "source": [
    "#9 what is the avrage higtht in this series?"
   ]
  },
  {
   "cell_type": "code",
   "execution_count": null,
   "id": "8201a6a6-ff98-4d81-a148-b80e0f224b47",
   "metadata": {},
   "outputs": [],
   "source": []
  },
  {
   "cell_type": "markdown",
   "id": "876f4f3f-a825-462b-8e7c-a9fe038256cf",
   "metadata": {},
   "source": [
    "#10 convert the values to cm (1 inch=2.54 cm)"
   ]
  },
  {
   "cell_type": "code",
   "execution_count": null,
   "id": "4383d2e5-ff84-4c50-83ff-60415d587376",
   "metadata": {},
   "outputs": [],
   "source": []
  }
 ],
 "metadata": {
  "kernelspec": {
   "display_name": "Python 3 (ipykernel)",
   "language": "python",
   "name": "python3"
  },
  "language_info": {
   "codemirror_mode": {
    "name": "ipython",
    "version": 3
   },
   "file_extension": ".py",
   "mimetype": "text/x-python",
   "name": "python",
   "nbconvert_exporter": "python",
   "pygments_lexer": "ipython3",
   "version": "3.12.2"
  }
 },
 "nbformat": 4,
 "nbformat_minor": 5
}
