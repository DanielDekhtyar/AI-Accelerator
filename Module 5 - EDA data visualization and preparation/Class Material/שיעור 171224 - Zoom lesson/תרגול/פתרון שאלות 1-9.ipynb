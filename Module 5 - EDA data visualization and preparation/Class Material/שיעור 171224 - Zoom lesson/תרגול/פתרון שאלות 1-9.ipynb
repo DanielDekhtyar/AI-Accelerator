{
 "cells": [
  {
   "cell_type": "markdown",
   "id": "8dd22d4c-da1c-47b2-9ac7-85baebd3935a",
   "metadata": {},
   "source": [
    "1. Use the json code to create 3 Dataframe with appropriate names. name them: patients,medications and - test_results."
   ]
  },
  {
   "cell_type": "code",
   "execution_count": 2,
   "id": "4070e056-d735-41d7-af92-64e522aa71aa",
   "metadata": {},
   "outputs": [],
   "source": [
    "#import...\n",
    "import pandas as pd"
   ]
  },
  {
   "cell_type": "code",
   "execution_count": 4,
   "id": "119f8479-3edb-449e-9d4b-ff021b65b1ea",
   "metadata": {},
   "outputs": [],
   "source": [
    "#JSON data\n",
    "patients_data = [\n",
    "    {\"patient_id\": 201, \"name\": \"Super Mario\", \"age\": 40, \"gender\": \"Male\"},\n",
    "    {\"patient_id\": 202, \"name\": \"Jessica Rabbit\", \"age\": 35, \"gender\": \"Female\"},\n",
    "    {\"patient_id\": 203, \"name\": \"Looney Toon\", \"age\": 50, \"gender\": \"Other\"},\n",
    "    {\"patient_id\": 204, \"name\": \"Bart Simpson\", \"age\": 10, \"gender\": \"Male\"},\n",
    "    {\"patient_id\": 205, \"name\": \"Snoopy\", \"age\": 7, \"gender\": \"Male\"},\n",
    "    {\"patient_id\": 206, \"name\": \"Pikachu\", \"age\": 5, \"gender\": \"Other\"},\n",
    "    {\"patient_id\": 207, \"name\": \"Minion Bob\", \"age\": 6, \"gender\": \"Male\"}\n",
    "]\n",
    "\n",
    "medications_data = [\n",
    "    {\"patient_id\": 201, \"medication\": \"Anti-Fungy\", \"dosage\": \"20mg\"},\n",
    "    {\"patient_id\": 202, \"medication\": \"Ozempic\", \"dosage\": \"0.5mg\"},\n",
    "    {\"patient_id\": 203, \"medication\": \"Lithium\", \"dosage\": \"300mg\"},\n",
    "    {\"patient_id\": 204, \"medication\": \"Jaundex\", \"dosage\": \"50mg\"},\n",
    "    {\"patient_id\": 205, \"medication\": \"Rabivax\", \"dosage\": \"10ml\"},\n",
    "    {\"patient_id\": 206, \"medication\": \"Jaundex\", \"dosage\": \"30mg\"},\n",
    "    {\"patient_id\": 207, \"medication\": \"Jaundex\", \"dosage\": \"60mg\"}\n",
    "]\n",
    "\n",
    "test_results_data = [\n",
    "    {\"patient_id\": 201, \"test\": \"Fungal Test\", \"result\": \"Positive\"},\n",
    "    {\"patient_id\": 202, \"test\": \"Blood Sugar\", \"result\": \"High\"},\n",
    "    {\"patient_id\": 203, \"test\": \"Mental Health\", \"result\": \"Stable\"},\n",
    "    {\"patient_id\": 204, \"test\": \"Liver Function\", \"result\": \"Normal\"},\n",
    "    {\"patient_id\": 205, \"test\": \"Rabies Antibodies\", \"result\": \"Negative\"},\n",
    "    {\"patient_id\": 206, \"test\": \"Liver Function\", \"result\": \"Low\"},\n",
    "    {\"patient_id\": 207, \"test\": \"Potassium Level\", \"result\": \"High\"}\n",
    "]\n",
    "\n"
   ]
  },
  {
   "cell_type": "code",
   "execution_count": 5,
   "id": "3ea086ff-b5f2-4c11-abea-2b33e9577874",
   "metadata": {},
   "outputs": [],
   "source": [
    "patients =  pd.DataFrame(patients_data)\n",
    "medications =pd.DataFrame( medications_data)\n",
    "test_results = pd.DataFrame(test_results_data)"
   ]
  },
  {
   "cell_type": "markdown",
   "id": "9b294d1d-ca90-4fa3-9c9a-c8714a92c37c",
   "metadata": {},
   "source": [
    "2. Examine the patients and medications dataframes, and combine them to create a well-organized table that reflects all the data in a structured manner. save the result into a dataframe variable, name it patients_medications"
   ]
  },
  {
   "cell_type": "code",
   "execution_count": 14,
   "id": "b84ecf5d-7192-4ef2-9a7f-d997970a0ba2",
   "metadata": {},
   "outputs": [
    {
     "data": {
      "text/html": [
       "<div>\n",
       "<style scoped>\n",
       "    .dataframe tbody tr th:only-of-type {\n",
       "        vertical-align: middle;\n",
       "    }\n",
       "\n",
       "    .dataframe tbody tr th {\n",
       "        vertical-align: top;\n",
       "    }\n",
       "\n",
       "    .dataframe thead th {\n",
       "        text-align: right;\n",
       "    }\n",
       "</style>\n",
       "<table border=\"1\" class=\"dataframe\">\n",
       "  <thead>\n",
       "    <tr style=\"text-align: right;\">\n",
       "      <th></th>\n",
       "      <th>patient_id</th>\n",
       "      <th>name</th>\n",
       "      <th>age</th>\n",
       "      <th>gender</th>\n",
       "      <th>medication</th>\n",
       "      <th>dosage</th>\n",
       "    </tr>\n",
       "  </thead>\n",
       "  <tbody>\n",
       "    <tr>\n",
       "      <th>0</th>\n",
       "      <td>201</td>\n",
       "      <td>Super Mario</td>\n",
       "      <td>40</td>\n",
       "      <td>Male</td>\n",
       "      <td>Anti-Fungy</td>\n",
       "      <td>20mg</td>\n",
       "    </tr>\n",
       "    <tr>\n",
       "      <th>1</th>\n",
       "      <td>202</td>\n",
       "      <td>Jessica Rabbit</td>\n",
       "      <td>35</td>\n",
       "      <td>Female</td>\n",
       "      <td>Ozempic</td>\n",
       "      <td>0.5mg</td>\n",
       "    </tr>\n",
       "    <tr>\n",
       "      <th>2</th>\n",
       "      <td>203</td>\n",
       "      <td>Looney Toon</td>\n",
       "      <td>50</td>\n",
       "      <td>Other</td>\n",
       "      <td>Lithium</td>\n",
       "      <td>300mg</td>\n",
       "    </tr>\n",
       "    <tr>\n",
       "      <th>3</th>\n",
       "      <td>204</td>\n",
       "      <td>Bart Simpson</td>\n",
       "      <td>10</td>\n",
       "      <td>Male</td>\n",
       "      <td>Jaundex</td>\n",
       "      <td>50mg</td>\n",
       "    </tr>\n",
       "    <tr>\n",
       "      <th>4</th>\n",
       "      <td>205</td>\n",
       "      <td>Snoopy</td>\n",
       "      <td>7</td>\n",
       "      <td>Male</td>\n",
       "      <td>Rabivax</td>\n",
       "      <td>10ml</td>\n",
       "    </tr>\n",
       "    <tr>\n",
       "      <th>5</th>\n",
       "      <td>206</td>\n",
       "      <td>Pikachu</td>\n",
       "      <td>5</td>\n",
       "      <td>Other</td>\n",
       "      <td>Jaundex</td>\n",
       "      <td>30mg</td>\n",
       "    </tr>\n",
       "    <tr>\n",
       "      <th>6</th>\n",
       "      <td>207</td>\n",
       "      <td>Minion Bob</td>\n",
       "      <td>6</td>\n",
       "      <td>Male</td>\n",
       "      <td>Jaundex</td>\n",
       "      <td>60mg</td>\n",
       "    </tr>\n",
       "  </tbody>\n",
       "</table>\n",
       "</div>"
      ],
      "text/plain": [
       "   patient_id            name  age  gender  medication dosage\n",
       "0         201     Super Mario   40    Male  Anti-Fungy   20mg\n",
       "1         202  Jessica Rabbit   35  Female     Ozempic  0.5mg\n",
       "2         203     Looney Toon   50   Other     Lithium  300mg\n",
       "3         204    Bart Simpson   10    Male     Jaundex   50mg\n",
       "4         205          Snoopy    7    Male     Rabivax   10ml\n",
       "5         206         Pikachu    5   Other     Jaundex   30mg\n",
       "6         207      Minion Bob    6    Male     Jaundex   60mg"
      ]
     },
     "execution_count": 14,
     "metadata": {},
     "output_type": "execute_result"
    }
   ],
   "source": [
    "patients\n",
    "medications\n",
    "#test_results\n",
    "\n",
    "\n",
    "patients_medications = pd.merge(patients,medications, on ='patient_id')\n",
    "patients_medications"
   ]
  },
  {
   "cell_type": "markdown",
   "id": "adc400fb-c275-41b7-b51b-8af18a454126",
   "metadata": {},
   "source": [
    "3. Examine the patients_medications and test_results dataframes, and combine them to create a well-organized table that reflects all the data in a structured manner. save the result into a dataframe variable, name it hospital1_data."
   ]
  },
  {
   "cell_type": "code",
   "execution_count": 24,
   "id": "1700fe94-b550-4615-b005-1d1dd249822b",
   "metadata": {},
   "outputs": [],
   "source": [
    "#hospital1_data\n",
    "\n",
    "hospital1_data  = pd.merge(patients_medications,test_results, on = 'patient_id')\n"
   ]
  },
  {
   "cell_type": "markdown",
   "id": "68aba6d3-81ce-49ea-85c5-af623ea1123f",
   "metadata": {},
   "source": [
    "4. Your hospital has merged with another, and you now need to combine the data from both hospitals. The data from the second hospital is stored in a CSV file called 'patients_data'. Please note:\n",
    "   a.  when combining the information, you must create a detailed index with distinct keys for each hospital. Store the combined data into a dataframe, name it \"hospital\"\n",
    "   b. if the data in the 2 dataframes is not structered the same, maybe i would be better to drop a column before combining..."
   ]
  },
  {
   "cell_type": "code",
   "execution_count": 18,
   "id": "852af44d-b2d3-4529-b33e-e98ba5cc77d2",
   "metadata": {},
   "outputs": [],
   "source": [
    "df = pd.read_csv('patients_data.csv')"
   ]
  },
  {
   "cell_type": "code",
   "execution_count": 21,
   "id": "f68e5d8f-0ab7-42dd-8d9c-a194f606a9d2",
   "metadata": {},
   "outputs": [],
   "source": [
    "df.drop('Unnamed: 0',axis = 1, inplace = True)"
   ]
  },
  {
   "cell_type": "code",
   "execution_count": 25,
   "id": "3441d422-a9f4-415f-9110-0c91b2f956a0",
   "metadata": {},
   "outputs": [
    {
     "data": {
      "text/html": [
       "<div>\n",
       "<style scoped>\n",
       "    .dataframe tbody tr th:only-of-type {\n",
       "        vertical-align: middle;\n",
       "    }\n",
       "\n",
       "    .dataframe tbody tr th {\n",
       "        vertical-align: top;\n",
       "    }\n",
       "\n",
       "    .dataframe thead th {\n",
       "        text-align: right;\n",
       "    }\n",
       "</style>\n",
       "<table border=\"1\" class=\"dataframe\">\n",
       "  <thead>\n",
       "    <tr style=\"text-align: right;\">\n",
       "      <th></th>\n",
       "      <th></th>\n",
       "      <th>patient_id</th>\n",
       "      <th>name</th>\n",
       "      <th>age</th>\n",
       "      <th>gender</th>\n",
       "      <th>medication</th>\n",
       "      <th>dosage</th>\n",
       "      <th>test</th>\n",
       "      <th>result</th>\n",
       "    </tr>\n",
       "  </thead>\n",
       "  <tbody>\n",
       "    <tr>\n",
       "      <th rowspan=\"5\" valign=\"top\">h1</th>\n",
       "      <th>0</th>\n",
       "      <td>101</td>\n",
       "      <td>Moshe Cohen</td>\n",
       "      <td>45</td>\n",
       "      <td>Male</td>\n",
       "      <td>Atorvastatin</td>\n",
       "      <td>10mg</td>\n",
       "      <td>Cholesterol</td>\n",
       "      <td>High</td>\n",
       "    </tr>\n",
       "    <tr>\n",
       "      <th>1</th>\n",
       "      <td>102</td>\n",
       "      <td>Sara Smith</td>\n",
       "      <td>38</td>\n",
       "      <td>Female</td>\n",
       "      <td>Metformin</td>\n",
       "      <td>500mg</td>\n",
       "      <td>Blood Sugar</td>\n",
       "      <td>Normal</td>\n",
       "    </tr>\n",
       "    <tr>\n",
       "      <th>2</th>\n",
       "      <td>103</td>\n",
       "      <td>Roth Brown</td>\n",
       "      <td>50</td>\n",
       "      <td>Female</td>\n",
       "      <td>Lisinopril</td>\n",
       "      <td>20mg</td>\n",
       "      <td>Blood Pressure</td>\n",
       "      <td>Elevated</td>\n",
       "    </tr>\n",
       "    <tr>\n",
       "      <th>3</th>\n",
       "      <td>104</td>\n",
       "      <td>Amir Abramson</td>\n",
       "      <td>60</td>\n",
       "      <td>Male</td>\n",
       "      <td>Jaundex</td>\n",
       "      <td>50mg</td>\n",
       "      <td>Liver Function</td>\n",
       "      <td>Normal</td>\n",
       "    </tr>\n",
       "    <tr>\n",
       "      <th>4</th>\n",
       "      <td>105</td>\n",
       "      <td>Miriam Davis</td>\n",
       "      <td>30</td>\n",
       "      <td>Female</td>\n",
       "      <td>Amlodipine</td>\n",
       "      <td>5mg</td>\n",
       "      <td>Calcium</td>\n",
       "      <td>Normal</td>\n",
       "    </tr>\n",
       "    <tr>\n",
       "      <th rowspan=\"7\" valign=\"top\">h2</th>\n",
       "      <th>0</th>\n",
       "      <td>201</td>\n",
       "      <td>Super Mario</td>\n",
       "      <td>40</td>\n",
       "      <td>Male</td>\n",
       "      <td>Anti-Fungy</td>\n",
       "      <td>20mg</td>\n",
       "      <td>Fungal Test</td>\n",
       "      <td>Positive</td>\n",
       "    </tr>\n",
       "    <tr>\n",
       "      <th>1</th>\n",
       "      <td>202</td>\n",
       "      <td>Jessica Rabbit</td>\n",
       "      <td>35</td>\n",
       "      <td>Female</td>\n",
       "      <td>Ozempic</td>\n",
       "      <td>0.5mg</td>\n",
       "      <td>Blood Sugar</td>\n",
       "      <td>High</td>\n",
       "    </tr>\n",
       "    <tr>\n",
       "      <th>2</th>\n",
       "      <td>203</td>\n",
       "      <td>Looney Toon</td>\n",
       "      <td>50</td>\n",
       "      <td>Other</td>\n",
       "      <td>Lithium</td>\n",
       "      <td>300mg</td>\n",
       "      <td>Mental Health</td>\n",
       "      <td>Stable</td>\n",
       "    </tr>\n",
       "    <tr>\n",
       "      <th>3</th>\n",
       "      <td>204</td>\n",
       "      <td>Bart Simpson</td>\n",
       "      <td>10</td>\n",
       "      <td>Male</td>\n",
       "      <td>Jaundex</td>\n",
       "      <td>50mg</td>\n",
       "      <td>Liver Function</td>\n",
       "      <td>Normal</td>\n",
       "    </tr>\n",
       "    <tr>\n",
       "      <th>4</th>\n",
       "      <td>205</td>\n",
       "      <td>Snoopy</td>\n",
       "      <td>7</td>\n",
       "      <td>Male</td>\n",
       "      <td>Rabivax</td>\n",
       "      <td>10ml</td>\n",
       "      <td>Rabies Antibodies</td>\n",
       "      <td>Negative</td>\n",
       "    </tr>\n",
       "    <tr>\n",
       "      <th>5</th>\n",
       "      <td>206</td>\n",
       "      <td>Pikachu</td>\n",
       "      <td>5</td>\n",
       "      <td>Other</td>\n",
       "      <td>Jaundex</td>\n",
       "      <td>30mg</td>\n",
       "      <td>Liver Function</td>\n",
       "      <td>Low</td>\n",
       "    </tr>\n",
       "    <tr>\n",
       "      <th>6</th>\n",
       "      <td>207</td>\n",
       "      <td>Minion Bob</td>\n",
       "      <td>6</td>\n",
       "      <td>Male</td>\n",
       "      <td>Jaundex</td>\n",
       "      <td>60mg</td>\n",
       "      <td>Potassium Level</td>\n",
       "      <td>High</td>\n",
       "    </tr>\n",
       "  </tbody>\n",
       "</table>\n",
       "</div>"
      ],
      "text/plain": [
       "      patient_id            name  age  gender    medication dosage  \\\n",
       "h1 0         101     Moshe Cohen   45    Male  Atorvastatin   10mg   \n",
       "   1         102      Sara Smith   38  Female     Metformin  500mg   \n",
       "   2         103      Roth Brown   50  Female    Lisinopril   20mg   \n",
       "   3         104   Amir Abramson   60    Male       Jaundex   50mg   \n",
       "   4         105    Miriam Davis   30  Female    Amlodipine    5mg   \n",
       "h2 0         201     Super Mario   40    Male    Anti-Fungy   20mg   \n",
       "   1         202  Jessica Rabbit   35  Female       Ozempic  0.5mg   \n",
       "   2         203     Looney Toon   50   Other       Lithium  300mg   \n",
       "   3         204    Bart Simpson   10    Male       Jaundex   50mg   \n",
       "   4         205          Snoopy    7    Male       Rabivax   10ml   \n",
       "   5         206         Pikachu    5   Other       Jaundex   30mg   \n",
       "   6         207      Minion Bob    6    Male       Jaundex   60mg   \n",
       "\n",
       "                   test    result  \n",
       "h1 0        Cholesterol      High  \n",
       "   1        Blood Sugar    Normal  \n",
       "   2     Blood Pressure  Elevated  \n",
       "   3     Liver Function    Normal  \n",
       "   4            Calcium    Normal  \n",
       "h2 0        Fungal Test  Positive  \n",
       "   1        Blood Sugar      High  \n",
       "   2      Mental Health    Stable  \n",
       "   3     Liver Function    Normal  \n",
       "   4  Rabies Antibodies  Negative  \n",
       "   5     Liver Function       Low  \n",
       "   6    Potassium Level      High  "
      ]
     },
     "execution_count": 25,
     "metadata": {},
     "output_type": "execute_result"
    }
   ],
   "source": [
    "hospital = pd.concat([df,hospital1_data ], keys  = [\"h1\", \"h2\"])\n",
    "hospital"
   ]
  },
  {
   "cell_type": "markdown",
   "id": "8e3c5dc8-0c3d-4658-afef-5d6818a6f214",
   "metadata": {},
   "source": [
    "#### preparing the data\n",
    "5. For the following questions, please create a groupby object that groups the rows according to the index keys you created in Section 4.\n",
    "\n",
    "6. Remove the letters from the 'dosage' column and convert it into a numeric column. (For the purpose of this exercise, do not recalculate or convert the numbers; just leave them as they are.)"
   ]
  },
  {
   "cell_type": "code",
   "execution_count": 27,
   "id": "31c8cf4f-fd96-40d8-a03b-842eb11d1354",
   "metadata": {},
   "outputs": [],
   "source": [
    "groups =  hospital.groupby(level =0)"
   ]
  },
  {
   "cell_type": "code",
   "execution_count": 28,
   "id": "438c33b8-56a5-42a9-b8c6-09caaa915d0f",
   "metadata": {},
   "outputs": [
    {
     "data": {
      "text/plain": [
       "{'h1': array([0, 1, 2, 3, 4], dtype=int64),\n",
       " 'h2': array([ 5,  6,  7,  8,  9, 10, 11], dtype=int64)}"
      ]
     },
     "execution_count": 28,
     "metadata": {},
     "output_type": "execute_result"
    }
   ],
   "source": [
    "groups.indices"
   ]
  },
  {
   "cell_type": "code",
   "execution_count": null,
   "id": "77071f2d-6ad3-4220-8ec8-b7cfcf0639f3",
   "metadata": {},
   "outputs": [],
   "source": [
    "#hospital['dosage'].str.replace ('mg','').str.replace('ml','').astype('float')\n",
    "hospital['dosage'] = hospital['dosage'].str.replace ((r'mg|ml'),'', regex =True).astype('float')"
   ]
  },
  {
   "cell_type": "code",
   "execution_count": 36,
   "id": "39a5ff95-2496-4dc3-9a69-f7fbb45f46dd",
   "metadata": {},
   "outputs": [
    {
     "name": "stdout",
     "output_type": "stream",
     "text": [
      "<class 'pandas.core.frame.DataFrame'>\n",
      "MultiIndex: 12 entries, ('h1', 0) to ('h2', 6)\n",
      "Data columns (total 8 columns):\n",
      " #   Column      Non-Null Count  Dtype  \n",
      "---  ------      --------------  -----  \n",
      " 0   patient_id  12 non-null     int64  \n",
      " 1   name        12 non-null     object \n",
      " 2   age         12 non-null     int64  \n",
      " 3   gender      12 non-null     object \n",
      " 4   medication  12 non-null     object \n",
      " 5   dosage      12 non-null     float64\n",
      " 6   test        12 non-null     object \n",
      " 7   result      12 non-null     object \n",
      "dtypes: float64(1), int64(2), object(5)\n",
      "memory usage: 1.3+ KB\n"
     ]
    }
   ],
   "source": [
    "hospital.info()"
   ]
  },
  {
   "cell_type": "code",
   "execution_count": null,
   "id": "22d25a10-91e5-48a8-903e-1a3edc52f9dc",
   "metadata": {},
   "outputs": [],
   "source": []
  },
  {
   "cell_type": "markdown",
   "id": "23c58fd8-6af8-4dda-82cf-4a923ef273a8",
   "metadata": {},
   "source": [
    "in each group:\n",
    "\n",
    "7. how many patients are there?\n",
    "8. what is the average age?\n",
    "9. what is the total medicin given?\n",
    "10. how many patients have 'High' in the result column?\n",
    "11. how many have Jaundice (צהבת) in each group (you can recognize them by thier medication- Jaundex)\n",
    "12. what are the names of the patients with Jaundice?\n",
    "13. how many males and how many females in each group?\n"
   ]
  },
  {
   "cell_type": "code",
   "execution_count": 38,
   "id": "9556f10b-3645-4e32-9883-23451aed41e3",
   "metadata": {},
   "outputs": [
    {
     "data": {
      "text/plain": [
       "h1    5\n",
       "h2    7\n",
       "dtype: int64"
      ]
     },
     "execution_count": 38,
     "metadata": {},
     "output_type": "execute_result"
    }
   ],
   "source": [
    "#7\n",
    "groups.size()"
   ]
  },
  {
   "cell_type": "code",
   "execution_count": 39,
   "id": "81aa2d40-f3c0-422b-8d30-3d895f048171",
   "metadata": {},
   "outputs": [
    {
     "data": {
      "text/plain": [
       "h1    44.600000\n",
       "h2    21.857143\n",
       "Name: age, dtype: float64"
      ]
     },
     "execution_count": 39,
     "metadata": {},
     "output_type": "execute_result"
    }
   ],
   "source": [
    "#8\n",
    "groups['age'].mean()"
   ]
  },
  {
   "cell_type": "code",
   "execution_count": 40,
   "id": "e3813539-d37d-4c96-8133-298e767a6712",
   "metadata": {},
   "outputs": [
    {
     "data": {
      "text/plain": [
       "h1    585.0\n",
       "h2    470.5\n",
       "Name: dosage, dtype: float64"
      ]
     },
     "execution_count": 40,
     "metadata": {},
     "output_type": "execute_result"
    }
   ],
   "source": [
    "#9\n",
    "groups['dosage'].sum()"
   ]
  },
  {
   "cell_type": "code",
   "execution_count": null,
   "id": "e71da7ec-b756-4e33-ac6d-4fa62f0e5390",
   "metadata": {},
   "outputs": [],
   "source": [
    "#10\n"
   ]
  },
  {
   "cell_type": "code",
   "execution_count": null,
   "id": "87424270-f23d-4e67-bad3-d7c6989e8e10",
   "metadata": {},
   "outputs": [],
   "source": [
    "#11\n"
   ]
  },
  {
   "cell_type": "code",
   "execution_count": null,
   "id": "37385019-1263-42da-9e48-2b8d6e5ad319",
   "metadata": {},
   "outputs": [],
   "source": []
  },
  {
   "cell_type": "code",
   "execution_count": null,
   "id": "6aedf000-cbce-48ee-8280-835ae193412b",
   "metadata": {},
   "outputs": [],
   "source": [
    "#12\n"
   ]
  },
  {
   "cell_type": "code",
   "execution_count": null,
   "id": "d194e9a5-4ad6-4598-a02d-5a09679f0912",
   "metadata": {},
   "outputs": [],
   "source": [
    "#or....\n"
   ]
  },
  {
   "cell_type": "markdown",
   "id": "7c302595-5b3a-472f-a737-73011e1113d3",
   "metadata": {},
   "source": [
    "This section focuses on understanding the behavior of merge versus concat, so you can choose the best approach for different scenarios in the future.\n",
    "\n",
    "13. Use the get_group method to create two new DataFrames named h1 and h2.\n",
    "14. Reset the index of each new DataFrame so that the keys you created in Part 4 become values in a column. Make sure to give that column a meaningful name, such as \"hospital_name\".\n",
    "15. Use the merge method to combine the two new DataFrames. Ensure that all rows from both DataFrames are included in the result.\n",
    "16. Compare the structure of the merged DataFrame from Part 15 with the original \"hospital\" DataFrame you created in Part 4, from which the two new DataFrames were derived.\n"
   ]
  },
  {
   "cell_type": "code",
   "execution_count": null,
   "id": "92143b84-8e10-475c-9cd6-a037e4c218d6",
   "metadata": {},
   "outputs": [],
   "source": []
  },
  {
   "cell_type": "code",
   "execution_count": null,
   "id": "4b17b68d-9ecc-4f34-a88a-079493555cdc",
   "metadata": {},
   "outputs": [],
   "source": []
  },
  {
   "cell_type": "code",
   "execution_count": null,
   "id": "126a5910-55b1-4ecb-b86c-4bee4ae304a9",
   "metadata": {},
   "outputs": [],
   "source": []
  },
  {
   "cell_type": "code",
   "execution_count": null,
   "id": "403ec69b-2270-4b5e-9ccf-137d7365653a",
   "metadata": {},
   "outputs": [],
   "source": []
  },
  {
   "cell_type": "code",
   "execution_count": null,
   "id": "5638bfba-0723-4edf-9ca1-ed2316719cbd",
   "metadata": {},
   "outputs": [],
   "source": []
  },
  {
   "cell_type": "code",
   "execution_count": null,
   "id": "99b49b82-0f65-465a-a4de-bfce0566a31b",
   "metadata": {},
   "outputs": [],
   "source": []
  }
 ],
 "metadata": {
  "kernelspec": {
   "display_name": "Python 3 (ipykernel)",
   "language": "python",
   "name": "python3"
  },
  "language_info": {
   "codemirror_mode": {
    "name": "ipython",
    "version": 3
   },
   "file_extension": ".py",
   "mimetype": "text/x-python",
   "name": "python",
   "nbconvert_exporter": "python",
   "pygments_lexer": "ipython3",
   "version": "3.12.2"
  }
 },
 "nbformat": 4,
 "nbformat_minor": 5
}
