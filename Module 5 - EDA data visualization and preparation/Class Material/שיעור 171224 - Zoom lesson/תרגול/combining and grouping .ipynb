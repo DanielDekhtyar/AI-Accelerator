{
 "cells": [
  {
   "cell_type": "markdown",
   "id": "8dd22d4c-da1c-47b2-9ac7-85baebd3935a",
   "metadata": {},
   "source": [
    "1. Use the json code to create 3 Dataframe with appropriate names. name them: patients,medications and - test_results."
   ]
  },
  {
   "cell_type": "code",
   "execution_count": null,
   "id": "4070e056-d735-41d7-af92-64e522aa71aa",
   "metadata": {},
   "outputs": [],
   "source": [
    "#import..."
   ]
  },
  {
   "cell_type": "code",
   "execution_count": null,
   "id": "119f8479-3edb-449e-9d4b-ff021b65b1ea",
   "metadata": {},
   "outputs": [],
   "source": [
    "#JSON data\n",
    "patients_data = [\n",
    "    {\"patient_id\": 201, \"name\": \"Super Mario\", \"age\": 40, \"gender\": \"Male\"},\n",
    "    {\"patient_id\": 202, \"name\": \"Jessica Rabbit\", \"age\": 35, \"gender\": \"Female\"},\n",
    "    {\"patient_id\": 203, \"name\": \"Looney Toon\", \"age\": 50, \"gender\": \"Other\"},\n",
    "    {\"patient_id\": 204, \"name\": \"Bart Simpson\", \"age\": 10, \"gender\": \"Male\"},\n",
    "    {\"patient_id\": 205, \"name\": \"Snoopy\", \"age\": 7, \"gender\": \"Male\"},\n",
    "    {\"patient_id\": 206, \"name\": \"Pikachu\", \"age\": 5, \"gender\": \"Other\"},\n",
    "    {\"patient_id\": 207, \"name\": \"Minion Bob\", \"age\": 6, \"gender\": \"Male\"}\n",
    "]\n",
    "\n",
    "medications_data = [\n",
    "    {\"patient_id\": 201, \"medication\": \"Anti-Fungy\", \"dosage\": \"20mg\"},\n",
    "    {\"patient_id\": 202, \"medication\": \"Ozempic\", \"dosage\": \"0.5mg\"},\n",
    "    {\"patient_id\": 203, \"medication\": \"Lithium\", \"dosage\": \"300mg\"},\n",
    "    {\"patient_id\": 204, \"medication\": \"Jaundex\", \"dosage\": \"50mg\"},\n",
    "    {\"patient_id\": 205, \"medication\": \"Rabivax\", \"dosage\": \"10ml\"},\n",
    "    {\"patient_id\": 206, \"medication\": \"Jaundex\", \"dosage\": \"30mg\"},\n",
    "    {\"patient_id\": 207, \"medication\": \"Jaundex\", \"dosage\": \"60mg\"}\n",
    "]\n",
    "\n",
    "test_results_data = [\n",
    "    {\"patient_id\": 201, \"test\": \"Fungal Test\", \"result\": \"Positive\"},\n",
    "    {\"patient_id\": 202, \"test\": \"Blood Sugar\", \"result\": \"High\"},\n",
    "    {\"patient_id\": 203, \"test\": \"Mental Health\", \"result\": \"Stable\"},\n",
    "    {\"patient_id\": 204, \"test\": \"Liver Function\", \"result\": \"Normal\"},\n",
    "    {\"patient_id\": 205, \"test\": \"Rabies Antibodies\", \"result\": \"Negative\"},\n",
    "    {\"patient_id\": 206, \"test\": \"Liver Function\", \"result\": \"Low\"},\n",
    "    {\"patient_id\": 207, \"test\": \"Potassium Level\", \"result\": \"High\"}\n",
    "]\n",
    "\n"
   ]
  },
  {
   "cell_type": "code",
   "execution_count": null,
   "id": "3ea086ff-b5f2-4c11-abea-2b33e9577874",
   "metadata": {},
   "outputs": [],
   "source": []
  },
  {
   "cell_type": "markdown",
   "id": "9b294d1d-ca90-4fa3-9c9a-c8714a92c37c",
   "metadata": {},
   "source": [
    "2. Examine the patients and medications dataframes, and combine them to create a well-organized table that reflects all the data in a structured manner. save the result into a dataframe variable, name it patients_medications"
   ]
  },
  {
   "cell_type": "code",
   "execution_count": null,
   "id": "b84ecf5d-7192-4ef2-9a7f-d997970a0ba2",
   "metadata": {},
   "outputs": [],
   "source": []
  },
  {
   "cell_type": "markdown",
   "id": "adc400fb-c275-41b7-b51b-8af18a454126",
   "metadata": {},
   "source": [
    "3. Examine the patients_medications and test_results dataframes, and combine them to create a well-organized table that reflects all the data in a structured manner. save the result into a dataframe variable, name it hospital1_data."
   ]
  },
  {
   "cell_type": "code",
   "execution_count": null,
   "id": "1700fe94-b550-4615-b005-1d1dd249822b",
   "metadata": {},
   "outputs": [],
   "source": []
  },
  {
   "cell_type": "markdown",
   "id": "68aba6d3-81ce-49ea-85c5-af623ea1123f",
   "metadata": {},
   "source": [
    "4. Your hospital has merged with another, and you now need to combine the data from both hospitals. The data from the second hospital is stored in a CSV file called 'patients_data'. Please note:\n",
    "   a.  when combining the information, you must create a detailed index with distinct keys for each hospital. Store the combined data into a dataframe, name it \"hospital\"\n",
    "   b. if the data in the 2 dataframes is not structered the same, maybe i would be better to drop a column before combining..."
   ]
  },
  {
   "cell_type": "code",
   "execution_count": null,
   "id": "852af44d-b2d3-4529-b33e-e98ba5cc77d2",
   "metadata": {},
   "outputs": [],
   "source": []
  },
  {
   "cell_type": "code",
   "execution_count": null,
   "id": "f68e5d8f-0ab7-42dd-8d9c-a194f606a9d2",
   "metadata": {},
   "outputs": [],
   "source": []
  },
  {
   "cell_type": "code",
   "execution_count": null,
   "id": "3441d422-a9f4-415f-9110-0c91b2f956a0",
   "metadata": {},
   "outputs": [],
   "source": []
  },
  {
   "cell_type": "markdown",
   "id": "8e3c5dc8-0c3d-4658-afef-5d6818a6f214",
   "metadata": {},
   "source": [
    "#### preparing the data\n",
    "5. For the following questions, please create a groupby object that groups the rows according to the index keys you created in Section 4.\n",
    "\n",
    "6. Remove the letters from the 'dosage' column and convert it into a numeric column. (For the purpose of this exercise, do not recalculate or convert the numbers; just leave them as they are.)"
   ]
  },
  {
   "cell_type": "code",
   "execution_count": null,
   "id": "31c8cf4f-fd96-40d8-a03b-842eb11d1354",
   "metadata": {},
   "outputs": [],
   "source": []
  },
  {
   "cell_type": "code",
   "execution_count": null,
   "id": "438c33b8-56a5-42a9-b8c6-09caaa915d0f",
   "metadata": {},
   "outputs": [],
   "source": []
  },
  {
   "cell_type": "code",
   "execution_count": null,
   "id": "77071f2d-6ad3-4220-8ec8-b7cfcf0639f3",
   "metadata": {},
   "outputs": [],
   "source": []
  },
  {
   "cell_type": "code",
   "execution_count": null,
   "id": "39a5ff95-2496-4dc3-9a69-f7fbb45f46dd",
   "metadata": {},
   "outputs": [],
   "source": []
  },
  {
   "cell_type": "code",
   "execution_count": null,
   "id": "22d25a10-91e5-48a8-903e-1a3edc52f9dc",
   "metadata": {},
   "outputs": [],
   "source": []
  },
  {
   "cell_type": "markdown",
   "id": "23c58fd8-6af8-4dda-82cf-4a923ef273a8",
   "metadata": {},
   "source": [
    "in each group:\n",
    "\n",
    "7. how many patients are there?\n",
    "8. what is the average age?\n",
    "9. what is the total medicin given?\n",
    "10. how many patients have 'High' in the result column?\n",
    "11. how many have Jaundice (צהבת) in each group (you can recognize them by thier medication- Jaundex)\n",
    "12. what are the names of the patients with Jaundice?\n",
    "13. how many males and how many females in each group?\n"
   ]
  },
  {
   "cell_type": "code",
   "execution_count": null,
   "id": "9556f10b-3645-4e32-9883-23451aed41e3",
   "metadata": {},
   "outputs": [],
   "source": [
    "#7\n"
   ]
  },
  {
   "cell_type": "code",
   "execution_count": null,
   "id": "81aa2d40-f3c0-422b-8d30-3d895f048171",
   "metadata": {},
   "outputs": [],
   "source": [
    "#8\n"
   ]
  },
  {
   "cell_type": "code",
   "execution_count": null,
   "id": "e3813539-d37d-4c96-8133-298e767a6712",
   "metadata": {},
   "outputs": [],
   "source": [
    "#9\n"
   ]
  },
  {
   "cell_type": "code",
   "execution_count": null,
   "id": "e71da7ec-b756-4e33-ac6d-4fa62f0e5390",
   "metadata": {},
   "outputs": [],
   "source": [
    "#10\n"
   ]
  },
  {
   "cell_type": "code",
   "execution_count": null,
   "id": "87424270-f23d-4e67-bad3-d7c6989e8e10",
   "metadata": {},
   "outputs": [],
   "source": [
    "#11\n"
   ]
  },
  {
   "cell_type": "code",
   "execution_count": null,
   "id": "37385019-1263-42da-9e48-2b8d6e5ad319",
   "metadata": {},
   "outputs": [],
   "source": []
  },
  {
   "cell_type": "code",
   "execution_count": null,
   "id": "6aedf000-cbce-48ee-8280-835ae193412b",
   "metadata": {},
   "outputs": [],
   "source": [
    "#12\n"
   ]
  },
  {
   "cell_type": "code",
   "execution_count": null,
   "id": "d194e9a5-4ad6-4598-a02d-5a09679f0912",
   "metadata": {},
   "outputs": [],
   "source": [
    "#or....\n"
   ]
  },
  {
   "cell_type": "markdown",
   "id": "7c302595-5b3a-472f-a737-73011e1113d3",
   "metadata": {},
   "source": [
    "This section focuses on understanding the behavior of merge versus concat, so you can choose the best approach for different scenarios in the future.\n",
    "\n",
    "13. Use the get_group method to create two new DataFrames named h1 and h2.\n",
    "14. Reset the index of each new DataFrame so that the keys you created in Part 4 become values in a column. Make sure to give that column a meaningful name, such as \"hospital_name\".\n",
    "15. Use the merge method to combine the two new DataFrames. Ensure that all rows from both DataFrames are included in the result.\n",
    "16. Compare the structure of the merged DataFrame from Part 15 with the original \"hospital\" DataFrame you created in Part 4, from which the two new DataFrames were derived.\n"
   ]
  },
  {
   "cell_type": "code",
   "execution_count": null,
   "id": "92143b84-8e10-475c-9cd6-a037e4c218d6",
   "metadata": {},
   "outputs": [],
   "source": []
  },
  {
   "cell_type": "code",
   "execution_count": null,
   "id": "4b17b68d-9ecc-4f34-a88a-079493555cdc",
   "metadata": {},
   "outputs": [],
   "source": []
  },
  {
   "cell_type": "code",
   "execution_count": null,
   "id": "126a5910-55b1-4ecb-b86c-4bee4ae304a9",
   "metadata": {},
   "outputs": [],
   "source": []
  },
  {
   "cell_type": "code",
   "execution_count": null,
   "id": "403ec69b-2270-4b5e-9ccf-137d7365653a",
   "metadata": {},
   "outputs": [],
   "source": []
  },
  {
   "cell_type": "code",
   "execution_count": null,
   "id": "5638bfba-0723-4edf-9ca1-ed2316719cbd",
   "metadata": {},
   "outputs": [],
   "source": []
  },
  {
   "cell_type": "code",
   "execution_count": null,
   "id": "99b49b82-0f65-465a-a4de-bfce0566a31b",
   "metadata": {},
   "outputs": [],
   "source": []
  }
 ],
 "metadata": {
  "kernelspec": {
   "display_name": "Python 3 (ipykernel)",
   "language": "python",
   "name": "python3"
  },
  "language_info": {
   "codemirror_mode": {
    "name": "ipython",
    "version": 3
   },
   "file_extension": ".py",
   "mimetype": "text/x-python",
   "name": "python",
   "nbconvert_exporter": "python",
   "pygments_lexer": "ipython3",
   "version": "3.12.2"
  }
 },
 "nbformat": 4,
 "nbformat_minor": 5
}
