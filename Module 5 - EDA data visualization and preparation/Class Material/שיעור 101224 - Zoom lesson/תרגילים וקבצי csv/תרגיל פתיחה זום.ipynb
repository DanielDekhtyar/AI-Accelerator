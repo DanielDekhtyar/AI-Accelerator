{
 "cells": [
  {
   "cell_type": "markdown",
   "id": "ab92d7ec-364c-4ec5-8b51-08cd6d1716b6",
   "metadata": {},
   "source": [
    " **ייבוא נתונים:**  \n",
    "1. טען את הנתונים מקובץ imdb_top_1000.csv\n",
    "\n",
    "2. בחני את המידע שקיבלת"
   ]
  },
  {
   "cell_type": "code",
   "execution_count": null,
   "id": "95a7e13c-7200-47eb-b88e-ea0aa633236d",
   "metadata": {},
   "outputs": [],
   "source": []
  },
  {
   "cell_type": "code",
   "execution_count": null,
   "id": "1742e412-6c3a-4eac-8f0a-06624228b139",
   "metadata": {
    "scrolled": true
   },
   "outputs": [],
   "source": []
  },
  {
   "cell_type": "code",
   "execution_count": null,
   "id": "2f7a83fb-95f9-4b47-8982-09481de28fa1",
   "metadata": {},
   "outputs": [],
   "source": []
  },
  {
   "cell_type": "code",
   "execution_count": null,
   "id": "7dc07701-d7f4-4901-8cb3-5710e587e73d",
   "metadata": {},
   "outputs": [],
   "source": []
  },
  {
   "cell_type": "markdown",
   "id": "bf2a3e02-b361-41b6-893d-29705d841591",
   "metadata": {},
   "source": [
    "**ייעול**  \n",
    "3.  על מנת ליעל את העבודה כדאי לשנות טיפוס לכמה מהעמודות. הרץ  \n",
    "info ו nunique ו describe לפני השינויים  \n",
    "4. שני את טיפוסי העמודות הבאות:  \n",
    "Released_Year, Certificate   \n",
    "שימי לב את בטח תתקלי בבעיה בעמודת השנה\n",
    "אבל את יודעת לפתור את זה!  \n",
    "5. נסה לשנות גם את עמודת \n",
    "Genre  \n",
    " האם זה היה כדאי? אם לא שנה אותה בחזרה וחשוב איך אפשר היה לצפות מראש שזאת תהיה בעיה.\n"
   ]
  },
  {
   "cell_type": "code",
   "execution_count": null,
   "id": "08f29bc1-56b0-4bbe-a6fd-7c85d60d5650",
   "metadata": {},
   "outputs": [],
   "source": []
  },
  {
   "cell_type": "code",
   "execution_count": null,
   "id": "dd258d8a-041b-4d53-980c-3ef4f2c1fe22",
   "metadata": {},
   "outputs": [],
   "source": []
  },
  {
   "cell_type": "code",
   "execution_count": null,
   "id": "eda9888c-01c0-447e-be0a-bcac95b469a4",
   "metadata": {},
   "outputs": [],
   "source": []
  },
  {
   "cell_type": "code",
   "execution_count": null,
   "id": "25c2f45e-cd01-47a5-9bf0-b255ca5da577",
   "metadata": {},
   "outputs": [],
   "source": []
  },
  {
   "cell_type": "code",
   "execution_count": null,
   "id": "d1e61fa9-f646-4b78-89e0-557fd6cbfd53",
   "metadata": {},
   "outputs": [],
   "source": []
  },
  {
   "cell_type": "code",
   "execution_count": null,
   "id": "cd4c0117-8159-439d-8196-90c33df28986",
   "metadata": {},
   "outputs": [],
   "source": []
  },
  {
   "cell_type": "code",
   "execution_count": null,
   "id": "e6116068-6240-4289-8f9e-58b3f26022fb",
   "metadata": {},
   "outputs": [],
   "source": []
  },
  {
   "cell_type": "markdown",
   "id": "8e76b993-b76c-4921-95db-5b445966b81e",
   "metadata": {},
   "source": [
    "**ניקוי**  \n",
    "6. מחקי כל שורה שיש בה שדה ריק בעמודת   \n",
    "Meta_score   או Certificate  \n",
    "7. וודא את השינוי"
   ]
  },
  {
   "cell_type": "code",
   "execution_count": null,
   "id": "ec6f2931-34c4-4aeb-bcde-a89c9f53403c",
   "metadata": {},
   "outputs": [],
   "source": []
  },
  {
   "cell_type": "code",
   "execution_count": null,
   "id": "83d1f39f-a614-4acf-af50-52803854ba9c",
   "metadata": {},
   "outputs": [],
   "source": []
  },
  {
   "cell_type": "code",
   "execution_count": null,
   "id": "e94ee648-6e76-41db-ab9b-63aedd72bc8f",
   "metadata": {},
   "outputs": [],
   "source": []
  },
  {
   "cell_type": "markdown",
   "id": "535137bb-8a45-4bc6-9c6d-d90765dec4cd",
   "metadata": {},
   "source": [
    "**אינדוקס**  \n",
    "8. ודא שאין כפילויות בעמודת  \n",
    "Series_Title  \n",
    "9. הפכי את העמודה הזו לאינדקס   \n",
    "10. סדר את הטבלה על פי האינדקס שלה באופן קבוע  \n",
    "11.  מה המיקום של Apolo 13   \n",
    "עכשיו?"
   ]
  },
  {
   "cell_type": "code",
   "execution_count": null,
   "id": "87517433-48d0-466b-95fa-70cc781295db",
   "metadata": {},
   "outputs": [],
   "source": []
  },
  {
   "cell_type": "code",
   "execution_count": null,
   "id": "09344b8e-5489-4090-b9e2-0771e8b75dfd",
   "metadata": {},
   "outputs": [],
   "source": []
  },
  {
   "cell_type": "code",
   "execution_count": null,
   "id": "0aaaa28f-ead7-4e27-b19d-4dbc9ea00643",
   "metadata": {},
   "outputs": [],
   "source": []
  },
  {
   "cell_type": "code",
   "execution_count": null,
   "id": "53939714-2c9e-4aaa-8e6c-21997e36efc4",
   "metadata": {},
   "outputs": [],
   "source": []
  },
  {
   "cell_type": "markdown",
   "id": "606c6feb-c5d1-4616-baed-b3f734ea9c00",
   "metadata": {},
   "source": [
    " **שליפות**  \n",
    "12. מצא את כל הפרטים על הסרט \n",
    " Despicable Me\n",
    "13. הצגי סרטים שמורגן פרימן היה השחקן הראשי בהם\n",
    "14. עבור הסרטים   \n",
    "Star Trek ו The Big Lebowski  \n",
    "הצג את עמודות במאי וכוכב ראשי\n",
    "15.  בכמה סרטים שיחק טום הנקס\n",
    "        לי יצא 14...\n",
    "16. הצג סרטים שהאינדקס שלהם הוא בין \n",
    "    Avatar \n",
    "   Back to the Future ל  \n",
    "17.  מה  הציון (Meta_score) \n",
    "שקיבל Gattaca\n",
    "ומה לגבי:\n",
    "שקיבל Labyrinth\n",
    "אם קיבלת שגיאה- איזו שגיאה היא? מה פירושה?\n",
    "\n",
    "18. עמודת Meta_scor  \n",
    "מראה ציון שקיבל הסרט בסקאלה עד 100\n",
    "IMDB_Ratinואילו עמודת   \n",
    "מראה אותו כשבר עשרוני - התאמי את הציונים לאותו סולם והציגי רק סרטים שהציניום שלהם בשתי העמודות זהים\n",
    "\n",
    "\n",
    "\n",
    " "
   ]
  },
  {
   "cell_type": "code",
   "execution_count": null,
   "id": "3d6527d8-dbdd-47c9-8e8c-86a1c9be2ad2",
   "metadata": {},
   "outputs": [],
   "source": []
  },
  {
   "cell_type": "code",
   "execution_count": null,
   "id": "44374f6d-cab0-417c-b890-69757e44a103",
   "metadata": {},
   "outputs": [],
   "source": []
  },
  {
   "cell_type": "code",
   "execution_count": null,
   "id": "0739b5c9-a978-4e3c-bc59-6a0a92974fee",
   "metadata": {},
   "outputs": [],
   "source": []
  },
  {
   "cell_type": "code",
   "execution_count": null,
   "id": "68fef266-d9b7-4c2c-b6fd-4d9b596df8e9",
   "metadata": {},
   "outputs": [],
   "source": []
  },
  {
   "cell_type": "code",
   "execution_count": null,
   "id": "4c953b1d-58db-40db-ac31-1b76f7a8bd30",
   "metadata": {},
   "outputs": [],
   "source": []
  },
  {
   "cell_type": "code",
   "execution_count": null,
   "id": "58673c5a-549b-4c8d-ac84-1cca3bf8b604",
   "metadata": {},
   "outputs": [],
   "source": []
  },
  {
   "cell_type": "code",
   "execution_count": null,
   "id": "7e706c97-dfaa-40e1-89d1-9415ba9ad162",
   "metadata": {},
   "outputs": [],
   "source": []
  },
  {
   "cell_type": "code",
   "execution_count": null,
   "id": "16594f50-6dad-4eaf-9b62-c9e0589b5cc0",
   "metadata": {},
   "outputs": [],
   "source": []
  },
  {
   "cell_type": "markdown",
   "id": "f58e1211-03a8-451d-993d-274d6e943976",
   "metadata": {
    "scrolled": true
   },
   "source": [
    "**מניפולציות על מידע**\n",
    "\n",
    "20. שני  למה שתרצי את דירוג הסרט Eternal Sunshine of the Spotless Mind\n",
    "21. צור העתק של של הטבלה וכלול בו רק את האינדקס, שם הבמאי, שחקן ראשי ורייטינג\n",
    "22. בהעתק שיצרת - החליפי את עמודת רייטינג בעמודת דירוג שתצרי על פיה rank()\n",
    "    "
   ]
  },
  {
   "cell_type": "code",
   "execution_count": null,
   "id": "b4bf0e87-9938-48d6-bef2-fc1774728446",
   "metadata": {},
   "outputs": [],
   "source": []
  },
  {
   "cell_type": "code",
   "execution_count": null,
   "id": "b8e4df4b-e2b9-47e2-8196-55a8054812c1",
   "metadata": {},
   "outputs": [],
   "source": []
  },
  {
   "cell_type": "code",
   "execution_count": null,
   "id": "c6062064-2b8f-47ac-82c2-0b611b72b9e7",
   "metadata": {},
   "outputs": [],
   "source": []
  },
  {
   "cell_type": "code",
   "execution_count": null,
   "id": "a24e467d-5817-4a2b-bf22-dfd80322ed31",
   "metadata": {},
   "outputs": [],
   "source": []
  },
  {
   "cell_type": "code",
   "execution_count": null,
   "id": "3c7c190f-5dbb-49c3-997e-eb8b74e88d54",
   "metadata": {},
   "outputs": [],
   "source": []
  },
  {
   "cell_type": "markdown",
   "id": "6d030f9b-e53e-415f-8c94-f6882de1a7b6",
   "metadata": {},
   "source": [
    "**אחרון ודי**\n",
    "צרו פונקציה שמקבלת מיקום של שורה בטבלת הסרטים\n",
    "ומדפיסה את שם הסרט \n",
    "וגם\n",
    "מחזירה את הקישור לפוסטר של הסרט"
   ]
  },
  {
   "cell_type": "code",
   "execution_count": null,
   "id": "618d2447-323c-4d8a-97e2-ecd0630f6302",
   "metadata": {},
   "outputs": [],
   "source": []
  },
  {
   "cell_type": "code",
   "execution_count": null,
   "id": "8df8c855-ce71-4cdf-b977-a3a05b7741f8",
   "metadata": {},
   "outputs": [],
   "source": []
  }
 ],
 "metadata": {
  "kernelspec": {
   "display_name": "Python 3 (ipykernel)",
   "language": "python",
   "name": "python3"
  },
  "language_info": {
   "codemirror_mode": {
    "name": "ipython",
    "version": 3
   },
   "file_extension": ".py",
   "mimetype": "text/x-python",
   "name": "python",
   "nbconvert_exporter": "python",
   "pygments_lexer": "ipython3",
   "version": "3.12.2"
  }
 },
 "nbformat": 4,
 "nbformat_minor": 5
}
