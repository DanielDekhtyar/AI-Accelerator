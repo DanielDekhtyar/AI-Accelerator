{
 "cells": [
  {
   "cell_type": "markdown",
   "id": "6bded216-01a6-4a2a-8a59-719b4515c67a",
   "metadata": {},
   "source": [
    "צרו df  \n",
    "מקובץ employee.csv  \n",
    "שימו לב שעמודת תאריך התחלה היא מטיפוס תאריך  \n",
    "ושלפו:  \n",
    "1. את כל העובדים ששמם הפרטי הוא בין ALice ל Bob\n",
    "2. את כל מי שלא התחיל לעבדו בין  ה3 לפברואר 2020 לבין ה30 לינואר 2021"
   ]
  },
  {
   "cell_type": "code",
   "execution_count": null,
   "id": "5fed5492-3762-4d3b-899e-f8f8db97699a",
   "metadata": {},
   "outputs": [],
   "source": []
  },
  {
   "cell_type": "code",
   "execution_count": null,
   "id": "7336748d-f033-4305-90cc-3e2624ad9f46",
   "metadata": {},
   "outputs": [],
   "source": []
  },
  {
   "cell_type": "code",
   "execution_count": null,
   "id": "9d1b19df-53c7-4430-9916-172d19a25839",
   "metadata": {},
   "outputs": [],
   "source": []
  },
  {
   "cell_type": "code",
   "execution_count": null,
   "id": "dcd00993-4abb-49e3-bbae-e1d6747eac54",
   "metadata": {},
   "outputs": [],
   "source": []
  },
  {
   "cell_type": "code",
   "execution_count": null,
   "id": "db97cfaa-b911-41e5-a184-e2bb1115ec1c",
   "metadata": {},
   "outputs": [],
   "source": []
  },
  {
   "cell_type": "markdown",
   "id": "7a8e9e0d-7c75-4d66-805f-c29b0381efb2",
   "metadata": {},
   "source": [
    "עבור mls_salaries.csv  \n",
    "סדרו באופן קבוע את הdf    \n",
    "על פי שמות משפחה  \n",
    "1. בדקו כמה שמות משפחה כפולים יש\n",
    "2. ,הציגו את השורות הרלוונטיות\n",
    "3.  מחקו את השורות הללו . מבין הכפולים השאירו את האחרון ומחקו את הראשונים. ודאו שהשינוי קבוע\n",
    "4. נשאר זמן? שחזרו שוב את הקובץ. חפשו האם יש אנשים שיש להם את **אותו שם משפחה** והם גם **באותו מועדון**\n",
    "אם כן- מחקו את הכפולים, ושמרו את השינוי."
   ]
  },
  {
   "cell_type": "code",
   "execution_count": null,
   "id": "ba179b81-4a37-4f8e-9a57-1b870580fae4",
   "metadata": {},
   "outputs": [],
   "source": []
  },
  {
   "cell_type": "code",
   "execution_count": null,
   "id": "defd6fb5-d73f-4515-a641-bfd41fda0bd7",
   "metadata": {},
   "outputs": [],
   "source": []
  },
  {
   "cell_type": "code",
   "execution_count": null,
   "id": "ddbce58e-2f8d-4821-b633-7f5d02c9cb20",
   "metadata": {},
   "outputs": [],
   "source": []
  },
  {
   "cell_type": "code",
   "execution_count": null,
   "id": "62fac011-88c3-4e3a-9001-dde2406ede2d",
   "metadata": {},
   "outputs": [],
   "source": []
  },
  {
   "cell_type": "code",
   "execution_count": null,
   "id": "648c2e77-2b37-4558-8856-b08f11ba8b37",
   "metadata": {},
   "outputs": [],
   "source": []
  },
  {
   "cell_type": "code",
   "execution_count": null,
   "id": "6003cb4f-1231-46a8-9b63-7f94b939b90c",
   "metadata": {},
   "outputs": [],
   "source": []
  },
  {
   "cell_type": "code",
   "execution_count": null,
   "id": "948eb8c1-266b-46d8-8ac1-2a240096844f",
   "metadata": {},
   "outputs": [],
   "source": []
  },
  {
   "cell_type": "code",
   "execution_count": null,
   "id": "184998a2-ab4f-4a91-86d7-b88a2fa4981c",
   "metadata": {},
   "outputs": [],
   "source": []
  },
  {
   "cell_type": "code",
   "execution_count": null,
   "id": "e6367abe-d0e5-43a5-9fe6-4fb1e5b1193c",
   "metadata": {},
   "outputs": [],
   "source": []
  }
 ],
 "metadata": {
  "kernelspec": {
   "display_name": "Python 3 (ipykernel)",
   "language": "python",
   "name": "python3"
  },
  "language_info": {
   "codemirror_mode": {
    "name": "ipython",
    "version": 3
   },
   "file_extension": ".py",
   "mimetype": "text/x-python",
   "name": "python",
   "nbconvert_exporter": "python",
   "pygments_lexer": "ipython3",
   "version": "3.12.2"
  }
 },
 "nbformat": 4,
 "nbformat_minor": 5
}
