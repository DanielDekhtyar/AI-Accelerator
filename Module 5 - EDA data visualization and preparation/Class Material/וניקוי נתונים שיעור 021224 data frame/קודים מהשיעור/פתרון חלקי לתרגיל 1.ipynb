{
 "cells": [
  {
   "cell_type": "markdown",
   "id": "0f86b46a-9953-4557-9fe0-6bc3cabeb19c",
   "metadata": {},
   "source": [
    "1. import pandas"
   ]
  },
  {
   "cell_type": "code",
   "execution_count": 1,
   "id": "88c36b66-d430-42b7-aa83-212443d4bac7",
   "metadata": {},
   "outputs": [],
   "source": [
    "import pandas as pd\n"
   ]
  },
  {
   "cell_type": "markdown",
   "id": "7ab44239-210e-4a48-bf3b-8aba9c370287",
   "metadata": {},
   "source": [
    "2.1 create a data frame, name it df, and load the the data in mls_salaries.csv to it."
   ]
  },
  {
   "cell_type": "code",
   "execution_count": 15,
   "id": "e00d371b-37dc-4084-90b1-f4b3d7682442",
   "metadata": {},
   "outputs": [],
   "source": [
    "df = pd.read_csv('mls_salaries.csv')"
   ]
  },
  {
   "cell_type": "markdown",
   "id": "32797872-b55c-4b03-9cbf-a1b2aac4990a",
   "metadata": {},
   "source": [
    "2.2 explore your data using head(), tail(), describe() and info()"
   ]
  },
  {
   "cell_type": "code",
   "execution_count": null,
   "id": "61bb14d2-2e4b-4dc1-a4e4-35a24bc22fe0",
   "metadata": {},
   "outputs": [],
   "source": []
  },
  {
   "cell_type": "code",
   "execution_count": null,
   "id": "b4877e11-ef70-45d8-9a91-82d7f66a73db",
   "metadata": {},
   "outputs": [],
   "source": []
  },
  {
   "cell_type": "code",
   "execution_count": null,
   "id": "dbc2144a-a7f9-4dc1-b270-1d505e422a33",
   "metadata": {},
   "outputs": [],
   "source": []
  },
  {
   "cell_type": "code",
   "execution_count": null,
   "id": "a86ef102-f472-4b33-a14e-3e61f14b9f11",
   "metadata": {},
   "outputs": [],
   "source": []
  },
  {
   "cell_type": "markdown",
   "id": "946a431b-3b90-48b8-a5f9-3fb9eda138e7",
   "metadata": {},
   "source": [
    "3.1  display only the first_name column "
   ]
  },
  {
   "cell_type": "code",
   "execution_count": null,
   "id": "bd4f3193-7a10-410c-9bae-7a2486b159c1",
   "metadata": {},
   "outputs": [],
   "source": []
  },
  {
   "cell_type": "markdown",
   "id": "f7bff937-9af0-4d0e-a016-6ba88e8745a9",
   "metadata": {},
   "source": [
    "3.2 display only the first_name ,position and last name columns"
   ]
  },
  {
   "cell_type": "code",
   "execution_count": null,
   "id": "8cfc5220-d29a-4e58-a1fe-aa068f4c3265",
   "metadata": {},
   "outputs": [],
   "source": []
  },
  {
   "cell_type": "markdown",
   "id": "5f531083-aaaf-4873-9c15-48eb13a34a13",
   "metadata": {},
   "source": [
    "4. add 1$ to base salary, make sure your changes are saved to the data frame"
   ]
  },
  {
   "cell_type": "code",
   "execution_count": 4,
   "id": "705778c6-3be3-4591-bd58-ff4eec08bc34",
   "metadata": {},
   "outputs": [],
   "source": [
    "df['base_salary']= df['base_salary'].add(1)"
   ]
  },
  {
   "cell_type": "markdown",
   "id": "016ce16f-02d2-4669-8102-b45133402a49",
   "metadata": {},
   "source": [
    "5. add a new column, name it \"best team\" use \"super strikers\" as the default value in that column"
   ]
  },
  {
   "cell_type": "code",
   "execution_count": null,
   "id": "16d7a347-6c02-4644-a88b-bb4178b6f224",
   "metadata": {},
   "outputs": [],
   "source": []
  },
  {
   "cell_type": "markdown",
   "id": "c94d089d-5d58-4f4e-845a-ee9af870472e",
   "metadata": {},
   "source": [
    "6. add a column in the 2nd position, name it \"age\" use NaN as default (this may be a little harder that you expect)"
   ]
  },
  {
   "cell_type": "code",
   "execution_count": 19,
   "id": "19326f70-1e76-4f15-9bb3-ff8c7a604476",
   "metadata": {},
   "outputs": [],
   "source": [
    "import numpy as np"
   ]
  },
  {
   "cell_type": "code",
   "execution_count": 20,
   "id": "07b1c093",
   "metadata": {},
   "outputs": [],
   "source": [
    "df.insert(1,column=\"age\",value =np.nan)"
   ]
  },
  {
   "cell_type": "code",
   "execution_count": 21,
   "id": "3e2b356e",
   "metadata": {},
   "outputs": [
    {
     "data": {
      "text/html": [
       "<div>\n",
       "<style scoped>\n",
       "    .dataframe tbody tr th:only-of-type {\n",
       "        vertical-align: middle;\n",
       "    }\n",
       "\n",
       "    .dataframe tbody tr th {\n",
       "        vertical-align: top;\n",
       "    }\n",
       "\n",
       "    .dataframe thead th {\n",
       "        text-align: right;\n",
       "    }\n",
       "</style>\n",
       "<table border=\"1\" class=\"dataframe\">\n",
       "  <thead>\n",
       "    <tr style=\"text-align: right;\">\n",
       "      <th></th>\n",
       "      <th>club</th>\n",
       "      <th>age</th>\n",
       "      <th>last_name</th>\n",
       "      <th>first_name</th>\n",
       "      <th>position</th>\n",
       "      <th>base_salary</th>\n",
       "      <th>guaranteed_compensation</th>\n",
       "    </tr>\n",
       "  </thead>\n",
       "  <tbody>\n",
       "    <tr>\n",
       "      <th>0</th>\n",
       "      <td>ATL</td>\n",
       "      <td>NaN</td>\n",
       "      <td>Almiron</td>\n",
       "      <td>Miguel</td>\n",
       "      <td>M</td>\n",
       "      <td>1912500.0</td>\n",
       "      <td>2297000.00</td>\n",
       "    </tr>\n",
       "    <tr>\n",
       "      <th>1</th>\n",
       "      <td>ATL</td>\n",
       "      <td>NaN</td>\n",
       "      <td>Ambrose</td>\n",
       "      <td>Mikey</td>\n",
       "      <td>D</td>\n",
       "      <td>65625.0</td>\n",
       "      <td>65625.00</td>\n",
       "    </tr>\n",
       "    <tr>\n",
       "      <th>2</th>\n",
       "      <td>ATL</td>\n",
       "      <td>NaN</td>\n",
       "      <td>Asad</td>\n",
       "      <td>Yamil</td>\n",
       "      <td>M</td>\n",
       "      <td>150000.0</td>\n",
       "      <td>150000.00</td>\n",
       "    </tr>\n",
       "    <tr>\n",
       "      <th>3</th>\n",
       "      <td>ATL</td>\n",
       "      <td>NaN</td>\n",
       "      <td>Bloom</td>\n",
       "      <td>Mark</td>\n",
       "      <td>D</td>\n",
       "      <td>99225.0</td>\n",
       "      <td>106573.89</td>\n",
       "    </tr>\n",
       "    <tr>\n",
       "      <th>4</th>\n",
       "      <td>ATL</td>\n",
       "      <td>NaN</td>\n",
       "      <td>Carleton</td>\n",
       "      <td>Andrew</td>\n",
       "      <td>F</td>\n",
       "      <td>65000.0</td>\n",
       "      <td>77400.00</td>\n",
       "    </tr>\n",
       "  </tbody>\n",
       "</table>\n",
       "</div>"
      ],
      "text/plain": [
       "  club  age last_name first_name position  base_salary  \\\n",
       "0  ATL  NaN   Almiron     Miguel        M    1912500.0   \n",
       "1  ATL  NaN   Ambrose      Mikey        D      65625.0   \n",
       "2  ATL  NaN      Asad      Yamil        M     150000.0   \n",
       "3  ATL  NaN     Bloom       Mark        D      99225.0   \n",
       "4  ATL  NaN  Carleton     Andrew        F      65000.0   \n",
       "\n",
       "   guaranteed_compensation  \n",
       "0               2297000.00  \n",
       "1                 65625.00  \n",
       "2                150000.00  \n",
       "3                106573.89  \n",
       "4                 77400.00  "
      ]
     },
     "execution_count": 21,
     "metadata": {},
     "output_type": "execute_result"
    }
   ],
   "source": [
    "df.head()"
   ]
  },
  {
   "cell_type": "code",
   "execution_count": null,
   "id": "985080ca",
   "metadata": {},
   "outputs": [],
   "source": []
  },
  {
   "cell_type": "markdown",
   "id": "bd57d649-9a3e-4a1c-993b-a9b12c9fafc4",
   "metadata": {},
   "source": [
    "7. how many types of clubs are there?"
   ]
  },
  {
   "cell_type": "code",
   "execution_count": 8,
   "id": "2d81c68a-1381-46fa-b357-1054cdc9207c",
   "metadata": {},
   "outputs": [
    {
     "data": {
      "text/plain": [
       "23"
      ]
     },
     "execution_count": 8,
     "metadata": {},
     "output_type": "execute_result"
    }
   ],
   "source": [
    "df['club'].value_counts().count()\n",
    "\n",
    "df['club'].nunique()"
   ]
  },
  {
   "cell_type": "markdown",
   "id": "304de762-b9e5-4f46-8bb7-182a1462eeb2",
   "metadata": {},
   "source": [
    "8. Which club is the most common?"
   ]
  },
  {
   "cell_type": "code",
   "execution_count": 11,
   "id": "ffa8637a-85f7-4367-89ff-b8b440420789",
   "metadata": {},
   "outputs": [
    {
     "data": {
      "text/plain": [
       "0    VAN\n",
       "dtype: object"
      ]
     },
     "execution_count": 11,
     "metadata": {},
     "output_type": "execute_result"
    }
   ],
   "source": [
    "df['club'].mode()"
   ]
  },
  {
   "cell_type": "markdown",
   "id": "8021d9d3-1425-41ab-ae4c-88324fb8d8e9",
   "metadata": {},
   "source": [
    "9. If you have some time left, you can create a function that receives a float between 0 and 1 and prints the corresponding quantile with a sentence.\n",
    "For example, if it receives the number 0.7, it should print: 'The 70.0% quantile salary is 225000.0.'"
   ]
  },
  {
   "cell_type": "code",
   "execution_count": 23,
   "id": "281c02f6-cc9e-4603-9fc5-c7529d9ce8e2",
   "metadata": {},
   "outputs": [
    {
     "data": {
      "text/plain": [
       "225000.0"
      ]
     },
     "execution_count": 23,
     "metadata": {},
     "output_type": "execute_result"
    }
   ],
   "source": [
    "df['base_salary'].quantile(0.7)"
   ]
  },
  {
   "cell_type": "code",
   "execution_count": 24,
   "id": "315e1b8f-213b-4ebb-822d-69191268dbae",
   "metadata": {},
   "outputs": [],
   "source": [
    "def qf (num):\n",
    "    per =num *100\n",
    "    print(f\"the {per}% quuantile salary is {df['base_salary'].quantile(num)}\")"
   ]
  },
  {
   "cell_type": "code",
   "execution_count": 25,
   "id": "31bed53f",
   "metadata": {},
   "outputs": [
    {
     "name": "stdout",
     "output_type": "stream",
     "text": [
      "the 70.0% quuantile salary is 225000.0\n"
     ]
    }
   ],
   "source": [
    "qf(0.7)"
   ]
  },
  {
   "cell_type": "code",
   "execution_count": null,
   "id": "85984ef9",
   "metadata": {},
   "outputs": [],
   "source": []
  }
 ],
 "metadata": {
  "kernelspec": {
   "display_name": "Python 3 (ipykernel)",
   "language": "python",
   "name": "python3"
  },
  "language_info": {
   "codemirror_mode": {
    "name": "ipython",
    "version": 3
   },
   "file_extension": ".py",
   "mimetype": "text/x-python",
   "name": "python",
   "nbconvert_exporter": "python",
   "pygments_lexer": "ipython3",
   "version": "3.7.12"
  }
 },
 "nbformat": 4,
 "nbformat_minor": 5
}
