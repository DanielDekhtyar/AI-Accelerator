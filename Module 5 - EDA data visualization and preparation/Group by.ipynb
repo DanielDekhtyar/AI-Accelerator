{
 "cells": [
  {
   "cell_type": "markdown",
   "id": "057b505d-f238-475c-ab46-e95603bd2803",
   "metadata": {},
   "source": [
    "בתרגיל זה תשתמשו בנתוני הטיטאניק"
   ]
  },
  {
   "cell_type": "code",
   "execution_count": 1,
   "id": "e8849bf1-73fc-437d-b72d-e6cb411bc5de",
   "metadata": {},
   "outputs": [],
   "source": [
    "import pandas as pd\n",
    "\n",
    "titanic = pd.read_csv(\"titanic.csv\")"
   ]
  },
  {
   "cell_type": "code",
   "execution_count": 2,
   "id": "494d8acd-7eb9-49fa-aafa-882a700b260b",
   "metadata": {},
   "outputs": [
    {
     "data": {
      "text/html": [
       "<div>\n",
       "<style scoped>\n",
       "    .dataframe tbody tr th:only-of-type {\n",
       "        vertical-align: middle;\n",
       "    }\n",
       "\n",
       "    .dataframe tbody tr th {\n",
       "        vertical-align: top;\n",
       "    }\n",
       "\n",
       "    .dataframe thead th {\n",
       "        text-align: right;\n",
       "    }\n",
       "</style>\n",
       "<table border=\"1\" class=\"dataframe\">\n",
       "  <thead>\n",
       "    <tr style=\"text-align: right;\">\n",
       "      <th></th>\n",
       "      <th>Survived</th>\n",
       "      <th>Pclass</th>\n",
       "      <th>Name</th>\n",
       "      <th>Sex</th>\n",
       "      <th>Age</th>\n",
       "      <th>Siblings/Spouses Aboard</th>\n",
       "      <th>Parents/Children Aboard</th>\n",
       "      <th>Fare</th>\n",
       "    </tr>\n",
       "  </thead>\n",
       "  <tbody>\n",
       "    <tr>\n",
       "      <th>0</th>\n",
       "      <td>0</td>\n",
       "      <td>3</td>\n",
       "      <td>Mr. Owen Harris Braund</td>\n",
       "      <td>male</td>\n",
       "      <td>22.0</td>\n",
       "      <td>1</td>\n",
       "      <td>0</td>\n",
       "      <td>7.2500</td>\n",
       "    </tr>\n",
       "    <tr>\n",
       "      <th>1</th>\n",
       "      <td>1</td>\n",
       "      <td>1</td>\n",
       "      <td>Mrs. John Bradley (Florence Briggs Thayer) Cum...</td>\n",
       "      <td>female</td>\n",
       "      <td>38.0</td>\n",
       "      <td>1</td>\n",
       "      <td>0</td>\n",
       "      <td>71.2833</td>\n",
       "    </tr>\n",
       "    <tr>\n",
       "      <th>2</th>\n",
       "      <td>1</td>\n",
       "      <td>3</td>\n",
       "      <td>Miss. Laina Heikkinen</td>\n",
       "      <td>female</td>\n",
       "      <td>26.0</td>\n",
       "      <td>0</td>\n",
       "      <td>0</td>\n",
       "      <td>7.9250</td>\n",
       "    </tr>\n",
       "    <tr>\n",
       "      <th>3</th>\n",
       "      <td>1</td>\n",
       "      <td>1</td>\n",
       "      <td>Mrs. Jacques Heath (Lily May Peel) Futrelle</td>\n",
       "      <td>female</td>\n",
       "      <td>35.0</td>\n",
       "      <td>1</td>\n",
       "      <td>0</td>\n",
       "      <td>53.1000</td>\n",
       "    </tr>\n",
       "    <tr>\n",
       "      <th>4</th>\n",
       "      <td>0</td>\n",
       "      <td>3</td>\n",
       "      <td>Mr. William Henry Allen</td>\n",
       "      <td>male</td>\n",
       "      <td>35.0</td>\n",
       "      <td>0</td>\n",
       "      <td>0</td>\n",
       "      <td>8.0500</td>\n",
       "    </tr>\n",
       "  </tbody>\n",
       "</table>\n",
       "</div>"
      ],
      "text/plain": [
       "   Survived  Pclass                                               Name  \\\n",
       "0         0       3                             Mr. Owen Harris Braund   \n",
       "1         1       1  Mrs. John Bradley (Florence Briggs Thayer) Cum...   \n",
       "2         1       3                              Miss. Laina Heikkinen   \n",
       "3         1       1        Mrs. Jacques Heath (Lily May Peel) Futrelle   \n",
       "4         0       3                            Mr. William Henry Allen   \n",
       "\n",
       "      Sex   Age  Siblings/Spouses Aboard  Parents/Children Aboard     Fare  \n",
       "0    male  22.0                        1                        0   7.2500  \n",
       "1  female  38.0                        1                        0  71.2833  \n",
       "2  female  26.0                        0                        0   7.9250  \n",
       "3  female  35.0                        1                        0  53.1000  \n",
       "4    male  35.0                        0                        0   8.0500  "
      ]
     },
     "execution_count": 2,
     "metadata": {},
     "output_type": "execute_result"
    }
   ],
   "source": [
    "titanic.head()"
   ]
  },
  {
   "cell_type": "markdown",
   "id": "ecb591bb-970d-4ff4-adbf-7dd6e2b4b381",
   "metadata": {},
   "source": [
    "1. חלקו את הטבלה לקבוצות עפ המחלקה"
   ]
  },
  {
   "cell_type": "code",
   "execution_count": 3,
   "id": "dac57e76-d289-4cce-b5f0-20accfe8d299",
   "metadata": {},
   "outputs": [],
   "source": [
    "classes = titanic.groupby(\"Pclass\")"
   ]
  },
  {
   "cell_type": "markdown",
   "id": "947b6233-fe02-4927-bb5b-d6bce98444e7",
   "metadata": {},
   "source": [
    "2. כמה קבוצות נוצרו?"
   ]
  },
  {
   "cell_type": "code",
   "execution_count": 4,
   "id": "4e682eeb-cfcb-43b5-8c85-85b23869cee1",
   "metadata": {},
   "outputs": [
    {
     "data": {
      "text/plain": [
       "3"
      ]
     },
     "execution_count": 4,
     "metadata": {},
     "output_type": "execute_result"
    }
   ],
   "source": [
    "len(classes)"
   ]
  },
  {
   "cell_type": "markdown",
   "id": "88974eef-3f4f-49d2-a832-f5cf0a9c9836",
   "metadata": {},
   "source": [
    "3. מה המחיר הממוצע בכל מחלקה?"
   ]
  },
  {
   "cell_type": "code",
   "execution_count": 8,
   "id": "cec2b951-9046-4b99-b9e5-b9df3221eb6a",
   "metadata": {},
   "outputs": [
    {
     "data": {
      "text/plain": [
       "Pclass\n",
       "1    84.154687\n",
       "2    20.662183\n",
       "3    13.707707\n",
       "Name: Fare, dtype: float64"
      ]
     },
     "execution_count": 8,
     "metadata": {},
     "output_type": "execute_result"
    }
   ],
   "source": [
    "classes['Fare'].mean()"
   ]
  },
  {
   "cell_type": "markdown",
   "id": "5b55b827-c040-4b10-8049-b438b0bb86e5",
   "metadata": {},
   "source": [
    "4. כמה שורדים יש בכל מחלקה?"
   ]
  },
  {
   "cell_type": "code",
   "execution_count": 15,
   "id": "44511679-7b2d-48af-9f14-011635884e43",
   "metadata": {},
   "outputs": [],
   "source": [
    "survivers = classes['Survived'].sum()"
   ]
  },
  {
   "cell_type": "markdown",
   "id": "7f3fbea8-11f5-4e67-8a1f-82505af423a2",
   "metadata": {},
   "source": [
    "5. מה אחוז השורדים בכל מחלקה?"
   ]
  },
  {
   "cell_type": "code",
   "execution_count": null,
   "id": "d8d9c45f-431e-41e3-aca1-5e4122c63fa2",
   "metadata": {},
   "outputs": [],
   "source": []
  },
  {
   "cell_type": "markdown",
   "id": "963b08a7-1f10-46e9-ad49-a8d82dc50a2a",
   "metadata": {},
   "source": [
    "6. בעזרת לולאה הדפיסו עבור כל מחלקה מה אחוז השורדים בה בפורמט הבא:  \n",
    "   Survival rate for class 1 is 62.96%"
   ]
  },
  {
   "cell_type": "code",
   "execution_count": null,
   "id": "8b8b2a78-79b6-4759-8f7a-f3ca8f14c508",
   "metadata": {},
   "outputs": [],
   "source": [
    "for Pclass in range(3):\n",
    "    print(f\"Survival rate for class {Pclass} is {\")"
   ]
  },
  {
   "cell_type": "markdown",
   "id": "5810f35c-6574-4637-8af3-a5adea436557",
   "metadata": {},
   "source": [
    "7. סיימתם? חזרו על התרגיל והפעם חלקו לקבוצות לפי מגדר"
   ]
  },
  {
   "cell_type": "code",
   "execution_count": null,
   "id": "bc1e7250-9ea1-4c25-9c57-d83c91e97101",
   "metadata": {},
   "outputs": [],
   "source": []
  }
 ],
 "metadata": {
  "kernelspec": {
   "display_name": "Python 3 (ipykernel)",
   "language": "python",
   "name": "python3"
  },
  "language_info": {
   "codemirror_mode": {
    "name": "ipython",
    "version": 3
   },
   "file_extension": ".py",
   "mimetype": "text/x-python",
   "name": "python",
   "nbconvert_exporter": "python",
   "pygments_lexer": "ipython3",
   "version": "3.12.4"
  }
 },
 "nbformat": 4,
 "nbformat_minor": 5
}
