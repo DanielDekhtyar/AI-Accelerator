{
 "cells": [
  {
   "cell_type": "markdown",
   "id": "180242f2-0bbc-4f1e-bd2d-e71f0e9f83df",
   "metadata": {},
   "source": [
    "\n",
    "##### Part 1 Creating a Python Date Object\n",
    "\n",
    "1. Create a datetime.date object for January 1, 2024.  \n",
    "Print the month from this object.  \n",
    "Creating a Full DateTime Object  \n",
    "\n",
    "2. Create a datetime.datetime object for December 31, 2025, at 11:59 PM.  \n",
    "Extract and print the year, month, and time from this object.  \n",
    "Converting Strings to Dates with Pandas  \n",
    "\n",
    "3. Convert the string \"2024-12-19\" to a pandas Timestamp object using to_datetime.  \n",
    "Check if the date represents the start of the month.  \n"
   ]
  },
  {
   "cell_type": "code",
   "execution_count": 1,
   "id": "5be4bbf6-223f-400f-81c4-6b67b500793e",
   "metadata": {},
   "outputs": [],
   "source": [
    "import datetime as dt\n",
    "\n",
    "import pandas as pd\n",
    "import numpy as np"
   ]
  },
  {
   "cell_type": "code",
   "execution_count": 2,
   "id": "65d6a5a0-c20a-4ad3-ae33-4b0da679701c",
   "metadata": {},
   "outputs": [
    {
     "data": {
      "text/plain": [
       "datetime.date(2024, 1, 1)"
      ]
     },
     "execution_count": 2,
     "metadata": {},
     "output_type": "execute_result"
    }
   ],
   "source": [
    "dt.date(2024, 1, 1)"
   ]
  },
  {
   "cell_type": "code",
   "execution_count": 3,
   "id": "03b1b83e-1e1d-492a-ab38-8d174c9baa23",
   "metadata": {},
   "outputs": [
    {
     "data": {
      "text/plain": [
       "datetime.datetime(2025, 12, 31, 23, 59)"
      ]
     },
     "execution_count": 3,
     "metadata": {},
     "output_type": "execute_result"
    }
   ],
   "source": [
    "dt.datetime(2025, 12, 31, 23, 59)"
   ]
  },
  {
   "cell_type": "code",
   "execution_count": 4,
   "id": "df9dc7ca-d8e3-4475-819a-07011bbcaad4",
   "metadata": {},
   "outputs": [
    {
     "data": {
      "text/plain": [
       "Timestamp('2024-12-19 00:00:00')"
      ]
     },
     "execution_count": 4,
     "metadata": {},
     "output_type": "execute_result"
    }
   ],
   "source": [
    "pd.to_datetime('2024-12-19')"
   ]
  },
  {
   "cell_type": "markdown",
   "id": "392cada5-9e9b-4151-b80d-527246b66012",
   "metadata": {},
   "source": [
    "##### Prart 2 Generating a Biweekly Date Range\n",
    "\n",
    "4. Create a range of 14 dates starting from January 1, 2024, with a frequency of 7 days.  \n",
    "Convert the range into a DatetimeIndex.  \n",
    "Boolean Series with Date Index  \n",
    "\n",
    "5. Use the DatetimeIndex from the previous question to create a pandas Series with 14 Boolean values (True/False).  \n",
    "Assume these values represent whether tasks were completed on the corresponding dates.  \n",
    "Counting Wednesdays in a Month\n",
    "to quickly create a boolean series you can use the following code:  \n",
    "pd.Series(np.random.choice([True, False], size=14)\n",
    "\n",
    "7. Create a date range for February 2024 (a leap year).  \n",
    "Count how many Wednesdays occur in this month.  "
   ]
  },
  {
   "cell_type": "code",
   "execution_count": 5,
   "id": "cd0d0188-71f1-453a-ba27-4dc08e6ece08",
   "metadata": {},
   "outputs": [],
   "source": [
    "date = pd.date_range('2024-1-1', periods=14, freq = '7D')"
   ]
  },
  {
   "cell_type": "code",
   "execution_count": 6,
   "id": "45973b78-7d5d-402b-bd51-f209057ca047",
   "metadata": {},
   "outputs": [
    {
     "data": {
      "text/plain": [
       "2024-01-01     True\n",
       "2024-01-08    False\n",
       "2024-01-15    False\n",
       "2024-01-22    False\n",
       "2024-01-29     True\n",
       "2024-02-05     True\n",
       "2024-02-12    False\n",
       "2024-02-19    False\n",
       "2024-02-26     True\n",
       "2024-03-04     True\n",
       "2024-03-11     True\n",
       "2024-03-18    False\n",
       "2024-03-25    False\n",
       "2024-04-01    False\n",
       "Freq: 7D, dtype: bool"
      ]
     },
     "execution_count": 6,
     "metadata": {},
     "output_type": "execute_result"
    }
   ],
   "source": [
    "date_s = pd.Series(index=date, data=np.random.choice([True, False], size=14))\n",
    "\n",
    "date_s"
   ]
  },
  {
   "cell_type": "code",
   "execution_count": 7,
   "id": "a83b86c9-8006-4a3d-8ead-d5e2e919f937",
   "metadata": {},
   "outputs": [],
   "source": [
    "feb = pd.date_range('2024-2-1', '2024-2-29')"
   ]
  },
  {
   "cell_type": "code",
   "execution_count": 8,
   "id": "83230fae-1857-4a93-9986-d69e776dbb75",
   "metadata": {},
   "outputs": [],
   "source": [
    "wednsdays = feb.day_name() == 'Wednesday'"
   ]
  },
  {
   "cell_type": "code",
   "execution_count": 9,
   "id": "28af9274-097d-439a-a9f7-a9465e0a4f0f",
   "metadata": {
    "scrolled": true
   },
   "outputs": [
    {
     "data": {
      "text/plain": [
       "np.int64(4)"
      ]
     },
     "execution_count": 9,
     "metadata": {},
     "output_type": "execute_result"
    }
   ],
   "source": [
    "wednsdays.sum()"
   ]
  },
  {
   "cell_type": "markdown",
   "id": "e5a36eb4-55eb-4461-804e-a57c7b261a88",
   "metadata": {},
   "source": [
    "##### Part 3: Advanced Questions\n",
    "7. Counting Zoom Lessons Until the End of the Course  \n",
    "\n",
    "Assume Zoom lessons occur every Tuesday. The course will end on April 5, 2025.  \n",
    "Generate a list of all Zoom lesson dates and count how many lessons remain until the course ends.  \n",
    "Marking Jewish Weekends  \n",
    "\n",
    "8. Write a function that accepts a list of dates and returns a DataFrame with the following columns:  \n",
    "The date.  \n",
    "The name of the weekday (e.g., Monday, Tuesday).  \n",
    "A Boolean column indicating whether the date is a Friday or Saturday (Jewish weekend).  \n",
    "Use this function to analyze the February 2024 date range.  "
   ]
  },
  {
   "cell_type": "code",
   "execution_count": 10,
   "id": "8370589b-f1c0-4a96-bb40-5bfa7fbcdd94",
   "metadata": {},
   "outputs": [],
   "source": [
    "zoom_dates = pd.date_range(start = dt.datetime.now(), end='2025-04-05', freq=\"W-TUE\")"
   ]
  },
  {
   "cell_type": "code",
   "execution_count": 11,
   "id": "265e96a0-95d3-4a4e-8818-bb0ecebeee5a",
   "metadata": {},
   "outputs": [
    {
     "name": "stdout",
     "output_type": "stream",
     "text": [
      "We have 15 zoom lessons left in our AI course\n"
     ]
    }
   ],
   "source": [
    "print(f\"We have {len(zoom_dates)} zoom lessons left in our AI course\")"
   ]
  },
  {
   "cell_type": "markdown",
   "id": "87ea7a61-beb3-4904-ad45-ab26ee30d9a2",
   "metadata": {},
   "source": [
    "##### Part 4: Titanic Dataset\n",
    "9. Calculating Today's Age for Titanic Passengers  \n",
    "\n",
    "Write a function that accepts a Titanic passenger's index and calculates their age today if they were still alive.  \n",
    "Assume the data was collected on April 15, 1912, and calculate the birth year from the passenger's recorded age.  \n",
    "Finding the Weekday of the 100th Birthday  "
   ]
  },
  {
   "cell_type": "code",
   "execution_count": 12,
   "id": "7af0e64d-8b9f-4532-9b5d-6a286b47b658",
   "metadata": {},
   "outputs": [],
   "source": [
    "titanic = pd.read_csv(\"datasets/titanic.csv\")"
   ]
  },
  {
   "cell_type": "code",
   "execution_count": 13,
   "id": "27e037a7-5458-42fb-b353-56b283066d12",
   "metadata": {
    "scrolled": true
   },
   "outputs": [
    {
     "data": {
      "text/html": [
       "<div>\n",
       "<style scoped>\n",
       "    .dataframe tbody tr th:only-of-type {\n",
       "        vertical-align: middle;\n",
       "    }\n",
       "\n",
       "    .dataframe tbody tr th {\n",
       "        vertical-align: top;\n",
       "    }\n",
       "\n",
       "    .dataframe thead th {\n",
       "        text-align: right;\n",
       "    }\n",
       "</style>\n",
       "<table border=\"1\" class=\"dataframe\">\n",
       "  <thead>\n",
       "    <tr style=\"text-align: right;\">\n",
       "      <th></th>\n",
       "      <th>Survived</th>\n",
       "      <th>Pclass</th>\n",
       "      <th>Name</th>\n",
       "      <th>Sex</th>\n",
       "      <th>Age</th>\n",
       "      <th>Siblings/Spouses Aboard</th>\n",
       "      <th>Parents/Children Aboard</th>\n",
       "      <th>Fare</th>\n",
       "    </tr>\n",
       "  </thead>\n",
       "  <tbody>\n",
       "    <tr>\n",
       "      <th>0</th>\n",
       "      <td>0</td>\n",
       "      <td>3</td>\n",
       "      <td>Mr. Owen Harris Braund</td>\n",
       "      <td>male</td>\n",
       "      <td>22.0</td>\n",
       "      <td>1</td>\n",
       "      <td>0</td>\n",
       "      <td>7.2500</td>\n",
       "    </tr>\n",
       "    <tr>\n",
       "      <th>1</th>\n",
       "      <td>1</td>\n",
       "      <td>1</td>\n",
       "      <td>Mrs. John Bradley (Florence Briggs Thayer) Cum...</td>\n",
       "      <td>female</td>\n",
       "      <td>38.0</td>\n",
       "      <td>1</td>\n",
       "      <td>0</td>\n",
       "      <td>71.2833</td>\n",
       "    </tr>\n",
       "    <tr>\n",
       "      <th>2</th>\n",
       "      <td>1</td>\n",
       "      <td>3</td>\n",
       "      <td>Miss. Laina Heikkinen</td>\n",
       "      <td>female</td>\n",
       "      <td>26.0</td>\n",
       "      <td>0</td>\n",
       "      <td>0</td>\n",
       "      <td>7.9250</td>\n",
       "    </tr>\n",
       "    <tr>\n",
       "      <th>3</th>\n",
       "      <td>1</td>\n",
       "      <td>1</td>\n",
       "      <td>Mrs. Jacques Heath (Lily May Peel) Futrelle</td>\n",
       "      <td>female</td>\n",
       "      <td>35.0</td>\n",
       "      <td>1</td>\n",
       "      <td>0</td>\n",
       "      <td>53.1000</td>\n",
       "    </tr>\n",
       "    <tr>\n",
       "      <th>4</th>\n",
       "      <td>0</td>\n",
       "      <td>3</td>\n",
       "      <td>Mr. William Henry Allen</td>\n",
       "      <td>male</td>\n",
       "      <td>35.0</td>\n",
       "      <td>0</td>\n",
       "      <td>0</td>\n",
       "      <td>8.0500</td>\n",
       "    </tr>\n",
       "  </tbody>\n",
       "</table>\n",
       "</div>"
      ],
      "text/plain": [
       "   Survived  Pclass                                               Name  \\\n",
       "0         0       3                             Mr. Owen Harris Braund   \n",
       "1         1       1  Mrs. John Bradley (Florence Briggs Thayer) Cum...   \n",
       "2         1       3                              Miss. Laina Heikkinen   \n",
       "3         1       1        Mrs. Jacques Heath (Lily May Peel) Futrelle   \n",
       "4         0       3                            Mr. William Henry Allen   \n",
       "\n",
       "      Sex   Age  Siblings/Spouses Aboard  Parents/Children Aboard     Fare  \n",
       "0    male  22.0                        1                        0   7.2500  \n",
       "1  female  38.0                        1                        0  71.2833  \n",
       "2  female  26.0                        0                        0   7.9250  \n",
       "3  female  35.0                        1                        0  53.1000  \n",
       "4    male  35.0                        0                        0   8.0500  "
      ]
     },
     "execution_count": 13,
     "metadata": {},
     "output_type": "execute_result"
    }
   ],
   "source": [
    "titanic.head()"
   ]
  },
  {
   "cell_type": "code",
   "execution_count": 14,
   "id": "862c2245-321a-4752-b78a-5d5be1eabd93",
   "metadata": {},
   "outputs": [],
   "source": [
    "def passanger_age_today(index):\n",
    "    passanger = titanic.iloc[index]\n",
    "    birthday_year = 1912 - passanger['Age']\n",
    "    current_year = dt.datetime.now().year\n",
    "    current_age = current_year - birthday_year\n",
    "    current_age = int(current_age)\n",
    "    print(f\"The current age of {passanger['Name']} would be {current_age} years old\")"
   ]
  },
  {
   "cell_type": "code",
   "execution_count": 15,
   "id": "7637c5aa-0334-4bdf-89f6-b989b0c08556",
   "metadata": {},
   "outputs": [
    {
     "name": "stdout",
     "output_type": "stream",
     "text": [
      "The current age of Mrs. Thomas (Johanna Godfrey) O'Brien would be 138 years old\n"
     ]
    }
   ],
   "source": [
    "passanger_age_today(185)"
   ]
  }
 ],
 "metadata": {
  "kernelspec": {
   "display_name": "Python 3 (ipykernel)",
   "language": "python",
   "name": "python3"
  },
  "language_info": {
   "codemirror_mode": {
    "name": "ipython",
    "version": 3
   },
   "file_extension": ".py",
   "mimetype": "text/x-python",
   "name": "python",
   "nbconvert_exporter": "python",
   "pygments_lexer": "ipython3",
   "version": "3.12.4"
  }
 },
 "nbformat": 4,
 "nbformat_minor": 5
}
