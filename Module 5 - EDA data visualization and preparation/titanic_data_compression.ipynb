{
 "cells": [
  {
   "cell_type": "code",
   "execution_count": 1,
   "id": "5bbfed98-b51f-44cc-8dfa-1bd066fd251f",
   "metadata": {},
   "outputs": [],
   "source": [
    "import pandas as pd"
   ]
  },
  {
   "cell_type": "code",
   "execution_count": 2,
   "id": "7ed4ffe6-e141-408d-a73c-8cb8cd7ebe2c",
   "metadata": {},
   "outputs": [],
   "source": [
    "df = pd.read_csv('titanic.csv')"
   ]
  },
  {
   "cell_type": "code",
   "execution_count": 3,
   "id": "4a945339-956f-4f1b-8029-ddae2f2ad72f",
   "metadata": {},
   "outputs": [
    {
     "name": "stdout",
     "output_type": "stream",
     "text": [
      "<class 'pandas.core.frame.DataFrame'>\n",
      "RangeIndex: 887 entries, 0 to 886\n",
      "Data columns (total 8 columns):\n",
      " #   Column                   Non-Null Count  Dtype  \n",
      "---  ------                   --------------  -----  \n",
      " 0   Survived                 887 non-null    int64  \n",
      " 1   Pclass                   887 non-null    int64  \n",
      " 2   Name                     887 non-null    object \n",
      " 3   Sex                      887 non-null    object \n",
      " 4   Age                      887 non-null    float64\n",
      " 5   Siblings/Spouses Aboard  887 non-null    int64  \n",
      " 6   Parents/Children Aboard  887 non-null    int64  \n",
      " 7   Fare                     887 non-null    float64\n",
      "dtypes: float64(2), int64(4), object(2)\n",
      "memory usage: 55.6+ KB\n"
     ]
    }
   ],
   "source": [
    "df.info()"
   ]
  },
  {
   "cell_type": "code",
   "execution_count": 4,
   "id": "1947db2c-851b-48d1-a10e-fd542ebda041",
   "metadata": {},
   "outputs": [
    {
     "data": {
      "text/plain": [
       "Survived                     2\n",
       "Pclass                       3\n",
       "Name                       887\n",
       "Sex                          2\n",
       "Age                         89\n",
       "Siblings/Spouses Aboard      7\n",
       "Parents/Children Aboard      7\n",
       "Fare                       248\n",
       "dtype: int64"
      ]
     },
     "execution_count": 4,
     "metadata": {},
     "output_type": "execute_result"
    }
   ],
   "source": [
    "df.nunique()"
   ]
  },
  {
   "cell_type": "code",
   "execution_count": 5,
   "id": "0ad0ef93-1cb6-46b8-9ac0-4df034594af8",
   "metadata": {},
   "outputs": [
    {
     "data": {
      "text/html": [
       "<div>\n",
       "<style scoped>\n",
       "    .dataframe tbody tr th:only-of-type {\n",
       "        vertical-align: middle;\n",
       "    }\n",
       "\n",
       "    .dataframe tbody tr th {\n",
       "        vertical-align: top;\n",
       "    }\n",
       "\n",
       "    .dataframe thead th {\n",
       "        text-align: right;\n",
       "    }\n",
       "</style>\n",
       "<table border=\"1\" class=\"dataframe\">\n",
       "  <thead>\n",
       "    <tr style=\"text-align: right;\">\n",
       "      <th></th>\n",
       "      <th>Survived</th>\n",
       "      <th>Pclass</th>\n",
       "      <th>Name</th>\n",
       "      <th>Sex</th>\n",
       "      <th>Age</th>\n",
       "      <th>Siblings/Spouses Aboard</th>\n",
       "      <th>Parents/Children Aboard</th>\n",
       "      <th>Fare</th>\n",
       "    </tr>\n",
       "  </thead>\n",
       "  <tbody>\n",
       "    <tr>\n",
       "      <th>0</th>\n",
       "      <td>0</td>\n",
       "      <td>3</td>\n",
       "      <td>Mr. Owen Harris Braund</td>\n",
       "      <td>male</td>\n",
       "      <td>22.0</td>\n",
       "      <td>1</td>\n",
       "      <td>0</td>\n",
       "      <td>7.2500</td>\n",
       "    </tr>\n",
       "    <tr>\n",
       "      <th>1</th>\n",
       "      <td>1</td>\n",
       "      <td>1</td>\n",
       "      <td>Mrs. John Bradley (Florence Briggs Thayer) Cum...</td>\n",
       "      <td>female</td>\n",
       "      <td>38.0</td>\n",
       "      <td>1</td>\n",
       "      <td>0</td>\n",
       "      <td>71.2833</td>\n",
       "    </tr>\n",
       "    <tr>\n",
       "      <th>2</th>\n",
       "      <td>1</td>\n",
       "      <td>3</td>\n",
       "      <td>Miss. Laina Heikkinen</td>\n",
       "      <td>female</td>\n",
       "      <td>26.0</td>\n",
       "      <td>0</td>\n",
       "      <td>0</td>\n",
       "      <td>7.9250</td>\n",
       "    </tr>\n",
       "    <tr>\n",
       "      <th>3</th>\n",
       "      <td>1</td>\n",
       "      <td>1</td>\n",
       "      <td>Mrs. Jacques Heath (Lily May Peel) Futrelle</td>\n",
       "      <td>female</td>\n",
       "      <td>35.0</td>\n",
       "      <td>1</td>\n",
       "      <td>0</td>\n",
       "      <td>53.1000</td>\n",
       "    </tr>\n",
       "    <tr>\n",
       "      <th>4</th>\n",
       "      <td>0</td>\n",
       "      <td>3</td>\n",
       "      <td>Mr. William Henry Allen</td>\n",
       "      <td>male</td>\n",
       "      <td>35.0</td>\n",
       "      <td>0</td>\n",
       "      <td>0</td>\n",
       "      <td>8.0500</td>\n",
       "    </tr>\n",
       "  </tbody>\n",
       "</table>\n",
       "</div>"
      ],
      "text/plain": [
       "   Survived  Pclass                                               Name  \\\n",
       "0         0       3                             Mr. Owen Harris Braund   \n",
       "1         1       1  Mrs. John Bradley (Florence Briggs Thayer) Cum...   \n",
       "2         1       3                              Miss. Laina Heikkinen   \n",
       "3         1       1        Mrs. Jacques Heath (Lily May Peel) Futrelle   \n",
       "4         0       3                            Mr. William Henry Allen   \n",
       "\n",
       "      Sex   Age  Siblings/Spouses Aboard  Parents/Children Aboard     Fare  \n",
       "0    male  22.0                        1                        0   7.2500  \n",
       "1  female  38.0                        1                        0  71.2833  \n",
       "2  female  26.0                        0                        0   7.9250  \n",
       "3  female  35.0                        1                        0  53.1000  \n",
       "4    male  35.0                        0                        0   8.0500  "
      ]
     },
     "execution_count": 5,
     "metadata": {},
     "output_type": "execute_result"
    }
   ],
   "source": [
    "df.head()"
   ]
  },
  {
   "cell_type": "code",
   "execution_count": 6,
   "id": "a1bbfd77-2e91-42e3-bdbe-000bb8b5cf6c",
   "metadata": {},
   "outputs": [],
   "source": [
    "df[\"Sex\"] = df[\"Sex\"].astype(\"category\")"
   ]
  },
  {
   "cell_type": "code",
   "execution_count": 7,
   "id": "742fa3de-9189-4b1a-ad5f-78509f519816",
   "metadata": {},
   "outputs": [
    {
     "name": "stdout",
     "output_type": "stream",
     "text": [
      "<class 'pandas.core.frame.DataFrame'>\n",
      "RangeIndex: 887 entries, 0 to 886\n",
      "Data columns (total 8 columns):\n",
      " #   Column                   Non-Null Count  Dtype   \n",
      "---  ------                   --------------  -----   \n",
      " 0   Survived                 887 non-null    int64   \n",
      " 1   Pclass                   887 non-null    int64   \n",
      " 2   Name                     887 non-null    object  \n",
      " 3   Sex                      887 non-null    category\n",
      " 4   Age                      887 non-null    float64 \n",
      " 5   Siblings/Spouses Aboard  887 non-null    int64   \n",
      " 6   Parents/Children Aboard  887 non-null    int64   \n",
      " 7   Fare                     887 non-null    float64 \n",
      "dtypes: category(1), float64(2), int64(4), object(1)\n",
      "memory usage: 49.6+ KB\n"
     ]
    }
   ],
   "source": [
    "df.info()"
   ]
  },
  {
   "cell_type": "code",
   "execution_count": 8,
   "id": "ad5accb4-4d5c-44c1-a49e-eba715ef8541",
   "metadata": {},
   "outputs": [],
   "source": [
    "df[\"Pclass\"] = df[\"Pclass\"].astype(\"category\")"
   ]
  },
  {
   "cell_type": "code",
   "execution_count": 9,
   "id": "caf12850-a684-4367-a8be-c550d1e57f90",
   "metadata": {},
   "outputs": [
    {
     "name": "stdout",
     "output_type": "stream",
     "text": [
      "<class 'pandas.core.frame.DataFrame'>\n",
      "RangeIndex: 887 entries, 0 to 886\n",
      "Data columns (total 8 columns):\n",
      " #   Column                   Non-Null Count  Dtype   \n",
      "---  ------                   --------------  -----   \n",
      " 0   Survived                 887 non-null    int64   \n",
      " 1   Pclass                   887 non-null    category\n",
      " 2   Name                     887 non-null    object  \n",
      " 3   Sex                      887 non-null    category\n",
      " 4   Age                      887 non-null    float64 \n",
      " 5   Siblings/Spouses Aboard  887 non-null    int64   \n",
      " 6   Parents/Children Aboard  887 non-null    int64   \n",
      " 7   Fare                     887 non-null    float64 \n",
      "dtypes: category(2), float64(2), int64(3), object(1)\n",
      "memory usage: 43.7+ KB\n"
     ]
    }
   ],
   "source": [
    "df.info()"
   ]
  },
  {
   "cell_type": "code",
   "execution_count": 10,
   "id": "6896f3c4-ca89-49d6-b6a0-ac8f8a480a9a",
   "metadata": {},
   "outputs": [],
   "source": [
    "df[\"Survived\"] = df[\"Survived\"].astype(\"category\")"
   ]
  },
  {
   "cell_type": "code",
   "execution_count": 11,
   "id": "a9f2faec-6f4e-4416-be25-17ea91eaaa35",
   "metadata": {},
   "outputs": [
    {
     "name": "stdout",
     "output_type": "stream",
     "text": [
      "<class 'pandas.core.frame.DataFrame'>\n",
      "RangeIndex: 887 entries, 0 to 886\n",
      "Data columns (total 8 columns):\n",
      " #   Column                   Non-Null Count  Dtype   \n",
      "---  ------                   --------------  -----   \n",
      " 0   Survived                 887 non-null    category\n",
      " 1   Pclass                   887 non-null    category\n",
      " 2   Name                     887 non-null    object  \n",
      " 3   Sex                      887 non-null    category\n",
      " 4   Age                      887 non-null    float64 \n",
      " 5   Siblings/Spouses Aboard  887 non-null    int64   \n",
      " 6   Parents/Children Aboard  887 non-null    int64   \n",
      " 7   Fare                     887 non-null    float64 \n",
      "dtypes: category(3), float64(2), int64(2), object(1)\n",
      "memory usage: 37.7+ KB\n"
     ]
    }
   ],
   "source": [
    "df.info()"
   ]
  },
  {
   "cell_type": "code",
   "execution_count": 12,
   "id": "cbda13c2-47ec-460b-b3e5-7e637b3bbba2",
   "metadata": {},
   "outputs": [],
   "source": [
    "df[\"Siblings/Spouses Aboard\"] = df[\"Siblings/Spouses Aboard\"].astype(\"category\")"
   ]
  },
  {
   "cell_type": "code",
   "execution_count": 13,
   "id": "32ef1537-84d0-4b97-b7cf-98235479b862",
   "metadata": {},
   "outputs": [
    {
     "name": "stdout",
     "output_type": "stream",
     "text": [
      "<class 'pandas.core.frame.DataFrame'>\n",
      "RangeIndex: 887 entries, 0 to 886\n",
      "Data columns (total 8 columns):\n",
      " #   Column                   Non-Null Count  Dtype   \n",
      "---  ------                   --------------  -----   \n",
      " 0   Survived                 887 non-null    category\n",
      " 1   Pclass                   887 non-null    category\n",
      " 2   Name                     887 non-null    object  \n",
      " 3   Sex                      887 non-null    category\n",
      " 4   Age                      887 non-null    float64 \n",
      " 5   Siblings/Spouses Aboard  887 non-null    category\n",
      " 6   Parents/Children Aboard  887 non-null    int64   \n",
      " 7   Fare                     887 non-null    float64 \n",
      "dtypes: category(4), float64(2), int64(1), object(1)\n",
      "memory usage: 32.0+ KB\n"
     ]
    }
   ],
   "source": [
    "df.info()"
   ]
  },
  {
   "cell_type": "code",
   "execution_count": 14,
   "id": "3d6eadac-4480-4dc0-bddb-b1e18ecf8d10",
   "metadata": {},
   "outputs": [],
   "source": [
    "df[\"Parents/Children Aboard\"] = df[\"Parents/Children Aboard\"].astype(\"category\")"
   ]
  },
  {
   "cell_type": "code",
   "execution_count": 15,
   "id": "f6cc54ba-120b-4b2a-8344-5dc3645fe91b",
   "metadata": {},
   "outputs": [
    {
     "name": "stdout",
     "output_type": "stream",
     "text": [
      "<class 'pandas.core.frame.DataFrame'>\n",
      "RangeIndex: 887 entries, 0 to 886\n",
      "Data columns (total 8 columns):\n",
      " #   Column                   Non-Null Count  Dtype   \n",
      "---  ------                   --------------  -----   \n",
      " 0   Survived                 887 non-null    category\n",
      " 1   Pclass                   887 non-null    category\n",
      " 2   Name                     887 non-null    object  \n",
      " 3   Sex                      887 non-null    category\n",
      " 4   Age                      887 non-null    float64 \n",
      " 5   Siblings/Spouses Aboard  887 non-null    category\n",
      " 6   Parents/Children Aboard  887 non-null    category\n",
      " 7   Fare                     887 non-null    float64 \n",
      "dtypes: category(5), float64(2), object(1)\n",
      "memory usage: 26.3+ KB\n"
     ]
    }
   ],
   "source": [
    "df.info()"
   ]
  },
  {
   "cell_type": "code",
   "execution_count": 16,
   "id": "0bb0cb27-746c-4340-9df3-04730f8d1ca5",
   "metadata": {},
   "outputs": [],
   "source": [
    "df[\"Age\"] = df[\"Age\"].astype(\"category\")"
   ]
  },
  {
   "cell_type": "code",
   "execution_count": 17,
   "id": "ca85bb18-d4d3-43be-a3e1-114b190fb50e",
   "metadata": {},
   "outputs": [
    {
     "name": "stdout",
     "output_type": "stream",
     "text": [
      "<class 'pandas.core.frame.DataFrame'>\n",
      "RangeIndex: 887 entries, 0 to 886\n",
      "Data columns (total 8 columns):\n",
      " #   Column                   Non-Null Count  Dtype   \n",
      "---  ------                   --------------  -----   \n",
      " 0   Survived                 887 non-null    category\n",
      " 1   Pclass                   887 non-null    category\n",
      " 2   Name                     887 non-null    object  \n",
      " 3   Sex                      887 non-null    category\n",
      " 4   Age                      887 non-null    category\n",
      " 5   Siblings/Spouses Aboard  887 non-null    category\n",
      " 6   Parents/Children Aboard  887 non-null    category\n",
      " 7   Fare                     887 non-null    float64 \n",
      "dtypes: category(6), float64(1), object(1)\n",
      "memory usage: 23.0+ KB\n"
     ]
    }
   ],
   "source": [
    "df.info()"
   ]
  },
  {
   "cell_type": "code",
   "execution_count": 18,
   "id": "580ea40c-0c02-4bd1-8c49-bcbb4fd91e43",
   "metadata": {},
   "outputs": [],
   "source": [
    "df[\"Fare\"] = df[\"Fare\"].astype(\"float32\")"
   ]
  },
  {
   "cell_type": "code",
   "execution_count": 19,
   "id": "d0015809-0c9d-4df7-9a5f-9b9f9a67ce42",
   "metadata": {},
   "outputs": [
    {
     "name": "stdout",
     "output_type": "stream",
     "text": [
      "<class 'pandas.core.frame.DataFrame'>\n",
      "RangeIndex: 887 entries, 0 to 886\n",
      "Data columns (total 8 columns):\n",
      " #   Column                   Non-Null Count  Dtype   \n",
      "---  ------                   --------------  -----   \n",
      " 0   Survived                 887 non-null    category\n",
      " 1   Pclass                   887 non-null    category\n",
      " 2   Name                     887 non-null    object  \n",
      " 3   Sex                      887 non-null    category\n",
      " 4   Age                      887 non-null    category\n",
      " 5   Siblings/Spouses Aboard  887 non-null    category\n",
      " 6   Parents/Children Aboard  887 non-null    category\n",
      " 7   Fare                     887 non-null    float32 \n",
      "dtypes: category(6), float32(1), object(1)\n",
      "memory usage: 19.5+ KB\n"
     ]
    }
   ],
   "source": [
    "df.info()"
   ]
  },
  {
   "cell_type": "code",
   "execution_count": 20,
   "id": "28220174-8e81-4337-b2fd-1337735b1c7c",
   "metadata": {},
   "outputs": [],
   "source": [
    "df[\"Sex\"] = df[\"Sex\"].astype(\"bool\")"
   ]
  },
  {
   "cell_type": "code",
   "execution_count": 21,
   "id": "47017903-fcd7-4728-a223-a484878acf20",
   "metadata": {},
   "outputs": [
    {
     "name": "stdout",
     "output_type": "stream",
     "text": [
      "<class 'pandas.core.frame.DataFrame'>\n",
      "RangeIndex: 887 entries, 0 to 886\n",
      "Data columns (total 8 columns):\n",
      " #   Column                   Non-Null Count  Dtype   \n",
      "---  ------                   --------------  -----   \n",
      " 0   Survived                 887 non-null    category\n",
      " 1   Pclass                   887 non-null    category\n",
      " 2   Name                     887 non-null    object  \n",
      " 3   Sex                      887 non-null    bool    \n",
      " 4   Age                      887 non-null    category\n",
      " 5   Siblings/Spouses Aboard  887 non-null    category\n",
      " 6   Parents/Children Aboard  887 non-null    category\n",
      " 7   Fare                     887 non-null    float32 \n",
      "dtypes: bool(1), category(5), float32(1), object(1)\n",
      "memory usage: 19.4+ KB\n"
     ]
    }
   ],
   "source": [
    "df.info()"
   ]
  },
  {
   "cell_type": "code",
   "execution_count": 22,
   "id": "64e3eb64-933a-4e73-982e-063e38032686",
   "metadata": {},
   "outputs": [],
   "source": [
    "df[\"Survived\"] = df[\"Survived\"].astype(\"bool\")"
   ]
  },
  {
   "cell_type": "code",
   "execution_count": 23,
   "id": "fc6c1dab-5081-4060-b338-1e631af31d2f",
   "metadata": {},
   "outputs": [
    {
     "name": "stdout",
     "output_type": "stream",
     "text": [
      "<class 'pandas.core.frame.DataFrame'>\n",
      "RangeIndex: 887 entries, 0 to 886\n",
      "Data columns (total 8 columns):\n",
      " #   Column                   Non-Null Count  Dtype   \n",
      "---  ------                   --------------  -----   \n",
      " 0   Survived                 887 non-null    bool    \n",
      " 1   Pclass                   887 non-null    category\n",
      " 2   Name                     887 non-null    object  \n",
      " 3   Sex                      887 non-null    bool    \n",
      " 4   Age                      887 non-null    category\n",
      " 5   Siblings/Spouses Aboard  887 non-null    category\n",
      " 6   Parents/Children Aboard  887 non-null    category\n",
      " 7   Fare                     887 non-null    float32 \n",
      "dtypes: bool(2), category(4), float32(1), object(1)\n",
      "memory usage: 19.3+ KB\n"
     ]
    }
   ],
   "source": [
    "df.info()"
   ]
  },
  {
   "cell_type": "code",
   "execution_count": 24,
   "id": "803ca759-358c-4c33-b931-8a7de98953aa",
   "metadata": {},
   "outputs": [],
   "source": [
    "df[\"Pclass\"] = df[\"Pclass\"].astype(\"int8\")"
   ]
  },
  {
   "cell_type": "code",
   "execution_count": 25,
   "id": "e154d64d-6d96-43e9-9d36-b7c2158aecfe",
   "metadata": {},
   "outputs": [
    {
     "name": "stdout",
     "output_type": "stream",
     "text": [
      "<class 'pandas.core.frame.DataFrame'>\n",
      "RangeIndex: 887 entries, 0 to 886\n",
      "Data columns (total 8 columns):\n",
      " #   Column                   Non-Null Count  Dtype   \n",
      "---  ------                   --------------  -----   \n",
      " 0   Survived                 887 non-null    bool    \n",
      " 1   Pclass                   887 non-null    int8    \n",
      " 2   Name                     887 non-null    object  \n",
      " 3   Sex                      887 non-null    bool    \n",
      " 4   Age                      887 non-null    category\n",
      " 5   Siblings/Spouses Aboard  887 non-null    category\n",
      " 6   Parents/Children Aboard  887 non-null    category\n",
      " 7   Fare                     887 non-null    float32 \n",
      "dtypes: bool(2), category(3), float32(1), int8(1), object(1)\n",
      "memory usage: 19.2+ KB\n"
     ]
    }
   ],
   "source": [
    "df.info()"
   ]
  },
  {
   "cell_type": "code",
   "execution_count": 26,
   "id": "56cba181-acf0-4dfb-a80b-7e414e8316b7",
   "metadata": {},
   "outputs": [],
   "source": [
    "df[\"Age\"] = df[\"Age\"].astype(\"int8\")"
   ]
  },
  {
   "cell_type": "code",
   "execution_count": 27,
   "id": "3599c383-2b78-43a7-b2cc-042834499dfa",
   "metadata": {},
   "outputs": [
    {
     "name": "stdout",
     "output_type": "stream",
     "text": [
      "<class 'pandas.core.frame.DataFrame'>\n",
      "RangeIndex: 887 entries, 0 to 886\n",
      "Data columns (total 8 columns):\n",
      " #   Column                   Non-Null Count  Dtype   \n",
      "---  ------                   --------------  -----   \n",
      " 0   Survived                 887 non-null    bool    \n",
      " 1   Pclass                   887 non-null    int8    \n",
      " 2   Name                     887 non-null    object  \n",
      " 3   Sex                      887 non-null    bool    \n",
      " 4   Age                      887 non-null    int8    \n",
      " 5   Siblings/Spouses Aboard  887 non-null    category\n",
      " 6   Parents/Children Aboard  887 non-null    category\n",
      " 7   Fare                     887 non-null    float32 \n",
      "dtypes: bool(2), category(2), float32(1), int8(2), object(1)\n",
      "memory usage: 16.4+ KB\n"
     ]
    }
   ],
   "source": [
    "df.info()"
   ]
  },
  {
   "cell_type": "code",
   "execution_count": 28,
   "id": "68d66428-ebf5-4b29-b3b4-feaa0e9fe3fb",
   "metadata": {},
   "outputs": [],
   "source": [
    "df[\"Siblings/Spouses Aboard\"] = df[\"Siblings/Spouses Aboard\"].astype(\"int8\")"
   ]
  },
  {
   "cell_type": "code",
   "execution_count": 29,
   "id": "5369f4a4-10c7-424e-b6b8-8b69d8798e97",
   "metadata": {},
   "outputs": [
    {
     "name": "stdout",
     "output_type": "stream",
     "text": [
      "<class 'pandas.core.frame.DataFrame'>\n",
      "RangeIndex: 887 entries, 0 to 886\n",
      "Data columns (total 8 columns):\n",
      " #   Column                   Non-Null Count  Dtype   \n",
      "---  ------                   --------------  -----   \n",
      " 0   Survived                 887 non-null    bool    \n",
      " 1   Pclass                   887 non-null    int8    \n",
      " 2   Name                     887 non-null    object  \n",
      " 3   Sex                      887 non-null    bool    \n",
      " 4   Age                      887 non-null    int8    \n",
      " 5   Siblings/Spouses Aboard  887 non-null    int8    \n",
      " 6   Parents/Children Aboard  887 non-null    category\n",
      " 7   Fare                     887 non-null    float32 \n",
      "dtypes: bool(2), category(1), float32(1), int8(3), object(1)\n",
      "memory usage: 16.1+ KB\n"
     ]
    }
   ],
   "source": [
    "df.info()"
   ]
  },
  {
   "cell_type": "code",
   "execution_count": 30,
   "id": "aa212aaa-fb76-41e3-8f8f-1ef582a5e94c",
   "metadata": {},
   "outputs": [],
   "source": [
    "df[\"Parents/Children Aboard\"] = df[\"Parents/Children Aboard\"].astype(\"int8\")"
   ]
  },
  {
   "cell_type": "code",
   "execution_count": 31,
   "id": "ffc9f2d3-99b3-4117-85bc-4ffdf6178dc0",
   "metadata": {},
   "outputs": [
    {
     "name": "stdout",
     "output_type": "stream",
     "text": [
      "<class 'pandas.core.frame.DataFrame'>\n",
      "RangeIndex: 887 entries, 0 to 886\n",
      "Data columns (total 8 columns):\n",
      " #   Column                   Non-Null Count  Dtype  \n",
      "---  ------                   --------------  -----  \n",
      " 0   Survived                 887 non-null    bool   \n",
      " 1   Pclass                   887 non-null    int8   \n",
      " 2   Name                     887 non-null    object \n",
      " 3   Sex                      887 non-null    bool   \n",
      " 4   Age                      887 non-null    int8   \n",
      " 5   Siblings/Spouses Aboard  887 non-null    int8   \n",
      " 6   Parents/Children Aboard  887 non-null    int8   \n",
      " 7   Fare                     887 non-null    float32\n",
      "dtypes: bool(2), float32(1), int8(4), object(1)\n",
      "memory usage: 15.7+ KB\n"
     ]
    }
   ],
   "source": [
    "df.info()"
   ]
  },
  {
   "cell_type": "code",
   "execution_count": 35,
   "id": "b84f198f-fc7d-4fca-9ade-63c64e0cd95a",
   "metadata": {},
   "outputs": [],
   "source": [
    "df[\"Fare\"] = df[\"Fare\"].astype(\"float16\")"
   ]
  },
  {
   "cell_type": "code",
   "execution_count": 36,
   "id": "182f4593-a86e-45ed-86e5-1e6c9c83112c",
   "metadata": {},
   "outputs": [
    {
     "name": "stdout",
     "output_type": "stream",
     "text": [
      "<class 'pandas.core.frame.DataFrame'>\n",
      "RangeIndex: 887 entries, 0 to 886\n",
      "Data columns (total 8 columns):\n",
      " #   Column                   Non-Null Count  Dtype  \n",
      "---  ------                   --------------  -----  \n",
      " 0   Survived                 887 non-null    bool   \n",
      " 1   Pclass                   887 non-null    int8   \n",
      " 2   Name                     887 non-null    object \n",
      " 3   Sex                      887 non-null    bool   \n",
      " 4   Age                      887 non-null    int8   \n",
      " 5   Siblings/Spouses Aboard  887 non-null    int8   \n",
      " 6   Parents/Children Aboard  887 non-null    int8   \n",
      " 7   Fare                     887 non-null    float16\n",
      "dtypes: bool(2), float16(1), int8(4), object(1)\n",
      "memory usage: 14.0+ KB\n"
     ]
    }
   ],
   "source": [
    "df.info()"
   ]
  },
  {
   "cell_type": "code",
   "execution_count": 38,
   "id": "ee1c1cfe-e6c8-41b8-8e1c-a74e7b8c701b",
   "metadata": {},
   "outputs": [
    {
     "data": {
      "text/html": [
       "<div>\n",
       "<style scoped>\n",
       "    .dataframe tbody tr th:only-of-type {\n",
       "        vertical-align: middle;\n",
       "    }\n",
       "\n",
       "    .dataframe tbody tr th {\n",
       "        vertical-align: top;\n",
       "    }\n",
       "\n",
       "    .dataframe thead th {\n",
       "        text-align: right;\n",
       "    }\n",
       "</style>\n",
       "<table border=\"1\" class=\"dataframe\">\n",
       "  <thead>\n",
       "    <tr style=\"text-align: right;\">\n",
       "      <th></th>\n",
       "      <th>Pclass</th>\n",
       "      <th>Age</th>\n",
       "      <th>Siblings/Spouses Aboard</th>\n",
       "      <th>Parents/Children Aboard</th>\n",
       "      <th>Fare</th>\n",
       "    </tr>\n",
       "  </thead>\n",
       "  <tbody>\n",
       "    <tr>\n",
       "      <th>count</th>\n",
       "      <td>887.000000</td>\n",
       "      <td>887.000000</td>\n",
       "      <td>887.000000</td>\n",
       "      <td>887.000000</td>\n",
       "      <td>887.000000</td>\n",
       "    </tr>\n",
       "    <tr>\n",
       "      <th>mean</th>\n",
       "      <td>2.305524</td>\n",
       "      <td>29.455468</td>\n",
       "      <td>0.525366</td>\n",
       "      <td>0.383315</td>\n",
       "      <td>32.312500</td>\n",
       "    </tr>\n",
       "    <tr>\n",
       "      <th>std</th>\n",
       "      <td>0.836662</td>\n",
       "      <td>14.129919</td>\n",
       "      <td>1.104669</td>\n",
       "      <td>0.807466</td>\n",
       "      <td>49.781250</td>\n",
       "    </tr>\n",
       "    <tr>\n",
       "      <th>min</th>\n",
       "      <td>1.000000</td>\n",
       "      <td>0.000000</td>\n",
       "      <td>0.000000</td>\n",
       "      <td>0.000000</td>\n",
       "      <td>0.000000</td>\n",
       "    </tr>\n",
       "    <tr>\n",
       "      <th>25%</th>\n",
       "      <td>2.000000</td>\n",
       "      <td>20.000000</td>\n",
       "      <td>0.000000</td>\n",
       "      <td>0.000000</td>\n",
       "      <td>7.925781</td>\n",
       "    </tr>\n",
       "    <tr>\n",
       "      <th>50%</th>\n",
       "      <td>3.000000</td>\n",
       "      <td>28.000000</td>\n",
       "      <td>0.000000</td>\n",
       "      <td>0.000000</td>\n",
       "      <td>14.453125</td>\n",
       "    </tr>\n",
       "    <tr>\n",
       "      <th>75%</th>\n",
       "      <td>3.000000</td>\n",
       "      <td>38.000000</td>\n",
       "      <td>1.000000</td>\n",
       "      <td>0.000000</td>\n",
       "      <td>31.140625</td>\n",
       "    </tr>\n",
       "    <tr>\n",
       "      <th>max</th>\n",
       "      <td>3.000000</td>\n",
       "      <td>80.000000</td>\n",
       "      <td>8.000000</td>\n",
       "      <td>6.000000</td>\n",
       "      <td>512.500000</td>\n",
       "    </tr>\n",
       "  </tbody>\n",
       "</table>\n",
       "</div>"
      ],
      "text/plain": [
       "           Pclass         Age  Siblings/Spouses Aboard  \\\n",
       "count  887.000000  887.000000               887.000000   \n",
       "mean     2.305524   29.455468                 0.525366   \n",
       "std      0.836662   14.129919                 1.104669   \n",
       "min      1.000000    0.000000                 0.000000   \n",
       "25%      2.000000   20.000000                 0.000000   \n",
       "50%      3.000000   28.000000                 0.000000   \n",
       "75%      3.000000   38.000000                 1.000000   \n",
       "max      3.000000   80.000000                 8.000000   \n",
       "\n",
       "       Parents/Children Aboard        Fare  \n",
       "count               887.000000  887.000000  \n",
       "mean                  0.383315   32.312500  \n",
       "std                   0.807466   49.781250  \n",
       "min                   0.000000    0.000000  \n",
       "25%                   0.000000    7.925781  \n",
       "50%                   0.000000   14.453125  \n",
       "75%                   0.000000   31.140625  \n",
       "max                   6.000000  512.500000  "
      ]
     },
     "execution_count": 38,
     "metadata": {},
     "output_type": "execute_result"
    }
   ],
   "source": [
    "df.describe()"
   ]
  },
  {
   "cell_type": "code",
   "execution_count": 42,
   "id": "db8153fa-2867-48a5-98c5-303e8353146c",
   "metadata": {},
   "outputs": [
    {
     "name": "stderr",
     "output_type": "stream",
     "text": [
      "C:\\Users\\Daniel\\anaconda3\\envs\\AI-Accelerator\\Lib\\site-packages\\pandas\\io\\formats\\format.py:1458: RuntimeWarning: overflow encountered in cast\n",
      "  has_large_values = (abs_vals > 1e6).any()\n"
     ]
    },
    {
     "data": {
      "text/html": [
       "<div>\n",
       "<style scoped>\n",
       "    .dataframe tbody tr th:only-of-type {\n",
       "        vertical-align: middle;\n",
       "    }\n",
       "\n",
       "    .dataframe tbody tr th {\n",
       "        vertical-align: top;\n",
       "    }\n",
       "\n",
       "    .dataframe thead th {\n",
       "        text-align: right;\n",
       "    }\n",
       "</style>\n",
       "<table border=\"1\" class=\"dataframe\">\n",
       "  <thead>\n",
       "    <tr style=\"text-align: right;\">\n",
       "      <th></th>\n",
       "      <th>Survived</th>\n",
       "      <th>Pclass</th>\n",
       "      <th>Name</th>\n",
       "      <th>Sex</th>\n",
       "      <th>Age</th>\n",
       "      <th>Siblings/Spouses Aboard</th>\n",
       "      <th>Parents/Children Aboard</th>\n",
       "      <th>Fare</th>\n",
       "    </tr>\n",
       "  </thead>\n",
       "  <tbody>\n",
       "    <tr>\n",
       "      <th>0</th>\n",
       "      <td>False</td>\n",
       "      <td>3</td>\n",
       "      <td>Mr. Owen Harris Braund</td>\n",
       "      <td>True</td>\n",
       "      <td>22</td>\n",
       "      <td>1</td>\n",
       "      <td>0</td>\n",
       "      <td>7.250000</td>\n",
       "    </tr>\n",
       "    <tr>\n",
       "      <th>1</th>\n",
       "      <td>True</td>\n",
       "      <td>1</td>\n",
       "      <td>Mrs. John Bradley (Florence Briggs Thayer) Cum...</td>\n",
       "      <td>True</td>\n",
       "      <td>38</td>\n",
       "      <td>1</td>\n",
       "      <td>0</td>\n",
       "      <td>71.312500</td>\n",
       "    </tr>\n",
       "    <tr>\n",
       "      <th>2</th>\n",
       "      <td>True</td>\n",
       "      <td>3</td>\n",
       "      <td>Miss. Laina Heikkinen</td>\n",
       "      <td>True</td>\n",
       "      <td>26</td>\n",
       "      <td>0</td>\n",
       "      <td>0</td>\n",
       "      <td>7.925781</td>\n",
       "    </tr>\n",
       "    <tr>\n",
       "      <th>3</th>\n",
       "      <td>True</td>\n",
       "      <td>1</td>\n",
       "      <td>Mrs. Jacques Heath (Lily May Peel) Futrelle</td>\n",
       "      <td>True</td>\n",
       "      <td>35</td>\n",
       "      <td>1</td>\n",
       "      <td>0</td>\n",
       "      <td>53.093750</td>\n",
       "    </tr>\n",
       "    <tr>\n",
       "      <th>4</th>\n",
       "      <td>False</td>\n",
       "      <td>3</td>\n",
       "      <td>Mr. William Henry Allen</td>\n",
       "      <td>True</td>\n",
       "      <td>35</td>\n",
       "      <td>0</td>\n",
       "      <td>0</td>\n",
       "      <td>8.046875</td>\n",
       "    </tr>\n",
       "    <tr>\n",
       "      <th>5</th>\n",
       "      <td>False</td>\n",
       "      <td>3</td>\n",
       "      <td>Mr. James Moran</td>\n",
       "      <td>True</td>\n",
       "      <td>27</td>\n",
       "      <td>0</td>\n",
       "      <td>0</td>\n",
       "      <td>8.460938</td>\n",
       "    </tr>\n",
       "    <tr>\n",
       "      <th>6</th>\n",
       "      <td>False</td>\n",
       "      <td>1</td>\n",
       "      <td>Mr. Timothy J McCarthy</td>\n",
       "      <td>True</td>\n",
       "      <td>54</td>\n",
       "      <td>0</td>\n",
       "      <td>0</td>\n",
       "      <td>51.875000</td>\n",
       "    </tr>\n",
       "    <tr>\n",
       "      <th>7</th>\n",
       "      <td>False</td>\n",
       "      <td>3</td>\n",
       "      <td>Master. Gosta Leonard Palsson</td>\n",
       "      <td>True</td>\n",
       "      <td>2</td>\n",
       "      <td>3</td>\n",
       "      <td>1</td>\n",
       "      <td>21.078125</td>\n",
       "    </tr>\n",
       "    <tr>\n",
       "      <th>8</th>\n",
       "      <td>True</td>\n",
       "      <td>3</td>\n",
       "      <td>Mrs. Oscar W (Elisabeth Vilhelmina Berg) Johnson</td>\n",
       "      <td>True</td>\n",
       "      <td>27</td>\n",
       "      <td>0</td>\n",
       "      <td>2</td>\n",
       "      <td>11.132812</td>\n",
       "    </tr>\n",
       "    <tr>\n",
       "      <th>9</th>\n",
       "      <td>True</td>\n",
       "      <td>2</td>\n",
       "      <td>Mrs. Nicholas (Adele Achem) Nasser</td>\n",
       "      <td>True</td>\n",
       "      <td>14</td>\n",
       "      <td>1</td>\n",
       "      <td>0</td>\n",
       "      <td>30.078125</td>\n",
       "    </tr>\n",
       "    <tr>\n",
       "      <th>10</th>\n",
       "      <td>True</td>\n",
       "      <td>3</td>\n",
       "      <td>Miss. Marguerite Rut Sandstrom</td>\n",
       "      <td>True</td>\n",
       "      <td>4</td>\n",
       "      <td>1</td>\n",
       "      <td>1</td>\n",
       "      <td>16.703125</td>\n",
       "    </tr>\n",
       "    <tr>\n",
       "      <th>11</th>\n",
       "      <td>True</td>\n",
       "      <td>1</td>\n",
       "      <td>Miss. Elizabeth Bonnell</td>\n",
       "      <td>True</td>\n",
       "      <td>58</td>\n",
       "      <td>0</td>\n",
       "      <td>0</td>\n",
       "      <td>26.546875</td>\n",
       "    </tr>\n",
       "    <tr>\n",
       "      <th>12</th>\n",
       "      <td>False</td>\n",
       "      <td>3</td>\n",
       "      <td>Mr. William Henry Saundercock</td>\n",
       "      <td>True</td>\n",
       "      <td>20</td>\n",
       "      <td>0</td>\n",
       "      <td>0</td>\n",
       "      <td>8.046875</td>\n",
       "    </tr>\n",
       "    <tr>\n",
       "      <th>13</th>\n",
       "      <td>False</td>\n",
       "      <td>3</td>\n",
       "      <td>Mr. Anders Johan Andersson</td>\n",
       "      <td>True</td>\n",
       "      <td>39</td>\n",
       "      <td>1</td>\n",
       "      <td>5</td>\n",
       "      <td>31.281250</td>\n",
       "    </tr>\n",
       "    <tr>\n",
       "      <th>14</th>\n",
       "      <td>False</td>\n",
       "      <td>3</td>\n",
       "      <td>Miss. Hulda Amanda Adolfina Vestrom</td>\n",
       "      <td>True</td>\n",
       "      <td>14</td>\n",
       "      <td>0</td>\n",
       "      <td>0</td>\n",
       "      <td>7.855469</td>\n",
       "    </tr>\n",
       "  </tbody>\n",
       "</table>\n",
       "</div>"
      ],
      "text/plain": [
       "    Survived  Pclass                                               Name   Sex  \\\n",
       "0      False       3                             Mr. Owen Harris Braund  True   \n",
       "1       True       1  Mrs. John Bradley (Florence Briggs Thayer) Cum...  True   \n",
       "2       True       3                              Miss. Laina Heikkinen  True   \n",
       "3       True       1        Mrs. Jacques Heath (Lily May Peel) Futrelle  True   \n",
       "4      False       3                            Mr. William Henry Allen  True   \n",
       "5      False       3                                    Mr. James Moran  True   \n",
       "6      False       1                             Mr. Timothy J McCarthy  True   \n",
       "7      False       3                      Master. Gosta Leonard Palsson  True   \n",
       "8       True       3   Mrs. Oscar W (Elisabeth Vilhelmina Berg) Johnson  True   \n",
       "9       True       2                 Mrs. Nicholas (Adele Achem) Nasser  True   \n",
       "10      True       3                     Miss. Marguerite Rut Sandstrom  True   \n",
       "11      True       1                            Miss. Elizabeth Bonnell  True   \n",
       "12     False       3                      Mr. William Henry Saundercock  True   \n",
       "13     False       3                         Mr. Anders Johan Andersson  True   \n",
       "14     False       3                Miss. Hulda Amanda Adolfina Vestrom  True   \n",
       "\n",
       "    Age  Siblings/Spouses Aboard  Parents/Children Aboard       Fare  \n",
       "0    22                        1                        0   7.250000  \n",
       "1    38                        1                        0  71.312500  \n",
       "2    26                        0                        0   7.925781  \n",
       "3    35                        1                        0  53.093750  \n",
       "4    35                        0                        0   8.046875  \n",
       "5    27                        0                        0   8.460938  \n",
       "6    54                        0                        0  51.875000  \n",
       "7     2                        3                        1  21.078125  \n",
       "8    27                        0                        2  11.132812  \n",
       "9    14                        1                        0  30.078125  \n",
       "10    4                        1                        1  16.703125  \n",
       "11   58                        0                        0  26.546875  \n",
       "12   20                        0                        0   8.046875  \n",
       "13   39                        1                        5  31.281250  \n",
       "14   14                        0                        0   7.855469  "
      ]
     },
     "execution_count": 42,
     "metadata": {},
     "output_type": "execute_result"
    }
   ],
   "source": [
    "df.head(15)"
   ]
  },
  {
   "cell_type": "code",
   "execution_count": null,
   "id": "4e512b57-1d83-4743-9776-f27ba6695d29",
   "metadata": {},
   "outputs": [],
   "source": []
  }
 ],
 "metadata": {
  "kernelspec": {
   "display_name": "Python 3 (ipykernel)",
   "language": "python",
   "name": "python3"
  },
  "language_info": {
   "codemirror_mode": {
    "name": "ipython",
    "version": 3
   },
   "file_extension": ".py",
   "mimetype": "text/x-python",
   "name": "python",
   "nbconvert_exporter": "python",
   "pygments_lexer": "ipython3",
   "version": "3.12.4"
  }
 },
 "nbformat": 4,
 "nbformat_minor": 5
}
