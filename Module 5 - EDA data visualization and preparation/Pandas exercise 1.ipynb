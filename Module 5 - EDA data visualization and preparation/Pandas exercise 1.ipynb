{
 "cells": [
  {
   "cell_type": "markdown",
   "id": "4f3b0347-8ed6-4ff9-b0b0-a438938b57b3",
   "metadata": {},
   "source": [
    "#1 import pandas"
   ]
  },
  {
   "cell_type": "code",
   "execution_count": 4,
   "id": "77f65842-cef3-4909-a173-65f19790faac",
   "metadata": {},
   "outputs": [],
   "source": [
    "import pandas as pd"
   ]
  },
  {
   "cell_type": "markdown",
   "id": "d399cd88-5f59-405b-adef-2fd19c643a3f",
   "metadata": {},
   "source": [
    "#2.1 create a list \"names\" with 4 string items (you can choose what 4 names you want to use in your list)"
   ]
  },
  {
   "cell_type": "code",
   "execution_count": 2,
   "id": "a891a3a7-275f-46f9-bed2-8479a113ebad",
   "metadata": {},
   "outputs": [],
   "source": [
    "names = [\"Daniel\", \"Diana\", \"Boris\", \"Irina\"]"
   ]
  },
  {
   "cell_type": "markdown",
   "id": "8f66ee89-5a24-4754-8566-b3ffe6cdae5c",
   "metadata": {},
   "source": [
    "#2.2 create a dictionary \"missions\" with the following keys and values: \n",
    "Appolo11: \"Moon landing\"\n",
    "Manhattan: \"Development of Atomic Bomb\"\n",
    "Impossibl:\"should you choose to accept it...\""
   ]
  },
  {
   "cell_type": "code",
   "execution_count": 3,
   "id": "4aae4346-da19-43f6-8fc7-f4f75dc05619",
   "metadata": {},
   "outputs": [],
   "source": [
    "missions = {\n",
    "    \"Apollo 11\": \"Moon landing\",\n",
    "    \"Manhattan\": \"Development of Atomic Bomb\",\n",
    "    \"Impossible\": \"Should you choose to accept it...\"\n",
    "}"
   ]
  },
  {
   "cell_type": "markdown",
   "id": "a2a4e4bc-a09c-46f3-8067-391db9b0fbed",
   "metadata": {},
   "source": [
    "#3.1 create a series variable named s_names and assign the names list to is a series"
   ]
  },
  {
   "cell_type": "code",
   "execution_count": 5,
   "id": "ebc8859e-6db8-4dd4-99a5-a9ab9d80eff0",
   "metadata": {},
   "outputs": [],
   "source": [
    "s_names = pd.Series(names)"
   ]
  },
  {
   "cell_type": "markdown",
   "id": "41efa7bd-9413-4b9c-967d-8d3cb95fc161",
   "metadata": {},
   "source": [
    "#3.2 create a series variable named s_missions and assign the dictionary \"missions\" to is a series"
   ]
  },
  {
   "cell_type": "code",
   "execution_count": 8,
   "id": "7cc3e9a7-491f-43f9-a71c-09f10bc7cc29",
   "metadata": {},
   "outputs": [],
   "source": [
    "s_missions = pd.Series(missions)"
   ]
  },
  {
   "cell_type": "markdown",
   "id": "51959ea1-c7f9-4022-8207-147d041df6f1",
   "metadata": {},
   "source": [
    "#4.1 print s_names ,and inspect the data type and the index"
   ]
  },
  {
   "cell_type": "code",
   "execution_count": 9,
   "id": "e04d802f-60af-4e02-a257-fd07b9e03d06",
   "metadata": {},
   "outputs": [
    {
     "name": "stdout",
     "output_type": "stream",
     "text": [
      "0    Daniel\n",
      "1     Diana\n",
      "2     Boris\n",
      "3     Irina\n",
      "dtype: object\n"
     ]
    }
   ],
   "source": [
    "print(s_names)"
   ]
  },
  {
   "cell_type": "markdown",
   "id": "7a414045-fe87-43b8-8479-8b0a1358d1b0",
   "metadata": {},
   "source": [
    "#4.2 print s_missions and inspect the data type and the index"
   ]
  },
  {
   "cell_type": "code",
   "execution_count": 10,
   "id": "cb66959d-0654-49cb-be58-778c13f7ca66",
   "metadata": {},
   "outputs": [
    {
     "name": "stdout",
     "output_type": "stream",
     "text": [
      "Apollo 11                          Moon landing\n",
      "Manhattan            Development of Atomic Bomb\n",
      "Impossible    Should you choose to accept it...\n",
      "dtype: object\n"
     ]
    }
   ],
   "source": [
    "print(s_missions)"
   ]
  },
  {
   "cell_type": "markdown",
   "id": "a2becea2-1ca5-46b5-b8c6-9d07da2a2705",
   "metadata": {},
   "source": [
    "#4.3 for both series use the index attribute."
   ]
  },
  {
   "cell_type": "code",
   "execution_count": 11,
   "id": "de90c439-68f7-434c-bbf2-43065d35287e",
   "metadata": {},
   "outputs": [
    {
     "data": {
      "text/plain": [
       "Index(['Apollo 11', 'Manhattan', 'Impossible'], dtype='object')"
      ]
     },
     "execution_count": 11,
     "metadata": {},
     "output_type": "execute_result"
    }
   ],
   "source": [
    "s_missions.index"
   ]
  },
  {
   "cell_type": "code",
   "execution_count": 12,
   "id": "e1a9b675-00d6-4532-82ca-c2c90c56ed09",
   "metadata": {},
   "outputs": [
    {
     "data": {
      "text/plain": [
       "RangeIndex(start=0, stop=4, step=1)"
      ]
     },
     "execution_count": 12,
     "metadata": {},
     "output_type": "execute_result"
    }
   ],
   "source": [
    "s_names.index"
   ]
  },
  {
   "cell_type": "markdown",
   "id": "96faf470-f4cf-4eaf-8935-568804b9317e",
   "metadata": {},
   "source": [
    "#5 use read_csv to upload the data in 'https://people.sc.fsu.edu/~jburkardt/data/csv/hw_200.csv'\n"
   ]
  },
  {
   "cell_type": "code",
   "execution_count": 16,
   "id": "8c5ac1de-b71e-4e5f-88f0-08ea9057f23e",
   "metadata": {},
   "outputs": [
    {
     "data": {
      "text/html": [
       "<div>\n",
       "<style scoped>\n",
       "    .dataframe tbody tr th:only-of-type {\n",
       "        vertical-align: middle;\n",
       "    }\n",
       "\n",
       "    .dataframe tbody tr th {\n",
       "        vertical-align: top;\n",
       "    }\n",
       "\n",
       "    .dataframe thead th {\n",
       "        text-align: right;\n",
       "    }\n",
       "</style>\n",
       "<table border=\"1\" class=\"dataframe\">\n",
       "  <thead>\n",
       "    <tr style=\"text-align: right;\">\n",
       "      <th></th>\n",
       "      <th>Index</th>\n",
       "      <th>Height(Inches)\"</th>\n",
       "      <th>\"Weight(Pounds)\"</th>\n",
       "    </tr>\n",
       "  </thead>\n",
       "  <tbody>\n",
       "    <tr>\n",
       "      <th>0</th>\n",
       "      <td>1</td>\n",
       "      <td>65.78</td>\n",
       "      <td>112.99</td>\n",
       "    </tr>\n",
       "    <tr>\n",
       "      <th>1</th>\n",
       "      <td>2</td>\n",
       "      <td>71.52</td>\n",
       "      <td>136.49</td>\n",
       "    </tr>\n",
       "    <tr>\n",
       "      <th>2</th>\n",
       "      <td>3</td>\n",
       "      <td>69.40</td>\n",
       "      <td>153.03</td>\n",
       "    </tr>\n",
       "    <tr>\n",
       "      <th>3</th>\n",
       "      <td>4</td>\n",
       "      <td>68.22</td>\n",
       "      <td>142.34</td>\n",
       "    </tr>\n",
       "    <tr>\n",
       "      <th>4</th>\n",
       "      <td>5</td>\n",
       "      <td>67.79</td>\n",
       "      <td>144.30</td>\n",
       "    </tr>\n",
       "    <tr>\n",
       "      <th>...</th>\n",
       "      <td>...</td>\n",
       "      <td>...</td>\n",
       "      <td>...</td>\n",
       "    </tr>\n",
       "    <tr>\n",
       "      <th>195</th>\n",
       "      <td>196</td>\n",
       "      <td>65.80</td>\n",
       "      <td>120.84</td>\n",
       "    </tr>\n",
       "    <tr>\n",
       "      <th>196</th>\n",
       "      <td>197</td>\n",
       "      <td>66.11</td>\n",
       "      <td>115.78</td>\n",
       "    </tr>\n",
       "    <tr>\n",
       "      <th>197</th>\n",
       "      <td>198</td>\n",
       "      <td>68.24</td>\n",
       "      <td>128.30</td>\n",
       "    </tr>\n",
       "    <tr>\n",
       "      <th>198</th>\n",
       "      <td>199</td>\n",
       "      <td>68.02</td>\n",
       "      <td>127.47</td>\n",
       "    </tr>\n",
       "    <tr>\n",
       "      <th>199</th>\n",
       "      <td>200</td>\n",
       "      <td>71.39</td>\n",
       "      <td>127.88</td>\n",
       "    </tr>\n",
       "  </tbody>\n",
       "</table>\n",
       "<p>200 rows × 3 columns</p>\n",
       "</div>"
      ],
      "text/plain": [
       "     Index   Height(Inches)\"   \"Weight(Pounds)\"\n",
       "0        1             65.78             112.99\n",
       "1        2             71.52             136.49\n",
       "2        3             69.40             153.03\n",
       "3        4             68.22             142.34\n",
       "4        5             67.79             144.30\n",
       "..     ...               ...                ...\n",
       "195    196             65.80             120.84\n",
       "196    197             66.11             115.78\n",
       "197    198             68.24             128.30\n",
       "198    199             68.02             127.47\n",
       "199    200             71.39             127.88\n",
       "\n",
       "[200 rows x 3 columns]"
      ]
     },
     "execution_count": 16,
     "metadata": {},
     "output_type": "execute_result"
    }
   ],
   "source": [
    "df_titanic = pd.read_csv('https://people.sc.fsu.edu/~jburkardt/data/csv/hw_200.csv')\n",
    "df_titanic"
   ]
  },
  {
   "cell_type": "markdown",
   "id": "da57535f-1eb0-4a8f-b125-0d352acc70b0",
   "metadata": {},
   "source": [
    "#6 take the ' Height(Inches)\"' column and turn it to a series, asign this series into a varible named s_hight.\n"
   ]
  },
  {
   "cell_type": "code",
   "execution_count": 24,
   "id": "8901e3be-a17b-4db7-9fcd-11f83f1c45c2",
   "metadata": {},
   "outputs": [],
   "source": [
    "s_hight = pd.read_csv('https://people.sc.fsu.edu/~jburkardt/data/csv/hw_200.csv', usecols=[' Height(Inches)\"']).squeeze(\"columns\")"
   ]
  },
  {
   "cell_type": "code",
   "execution_count": 25,
   "id": "1758e916-405d-484d-a17a-a1ed492007a7",
   "metadata": {},
   "outputs": [
    {
     "data": {
      "text/plain": [
       "0      65.78\n",
       "1      71.52\n",
       "2      69.40\n",
       "3      68.22\n",
       "4      67.79\n",
       "       ...  \n",
       "195    65.80\n",
       "196    66.11\n",
       "197    68.24\n",
       "198    68.02\n",
       "199    71.39\n",
       "Name:  Height(Inches)\", Length: 200, dtype: float64"
      ]
     },
     "execution_count": 25,
     "metadata": {},
     "output_type": "execute_result"
    }
   ],
   "source": [
    "s_hight"
   ]
  },
  {
   "cell_type": "markdown",
   "id": "6cb463b7-4bef-44b9-a99b-3d2576c3afd8",
   "metadata": {},
   "source": [
    "#7 what is the data type of the the series values?\n"
   ]
  },
  {
   "cell_type": "code",
   "execution_count": 26,
   "id": "66059c77-7f12-4027-bf9b-0fe62614a3ce",
   "metadata": {},
   "outputs": [
    {
     "data": {
      "text/plain": [
       "pandas.core.series.Series"
      ]
     },
     "execution_count": 26,
     "metadata": {},
     "output_type": "execute_result"
    }
   ],
   "source": [
    "type(s_hight)"
   ]
  },
  {
   "cell_type": "markdown",
   "id": "739e0b62-8ed2-410b-888e-761183478a72",
   "metadata": {},
   "source": [
    "#8 use appropriate attributes to  display the list of values in the series, and the information about the index of it.\n"
   ]
  },
  {
   "cell_type": "code",
   "execution_count": 27,
   "id": "0ddc420d-ef52-4c32-9c8a-6d96c2ec79b7",
   "metadata": {},
   "outputs": [
    {
     "data": {
      "text/plain": [
       "array([65.78, 71.52, 69.4 , 68.22, 67.79, 68.7 , 69.8 , 70.01, 67.9 ,\n",
       "       66.78, 66.49, 67.62, 68.3 , 67.12, 68.28, 71.09, 66.46, 68.65,\n",
       "       71.23, 67.13, 67.83, 68.88, 63.48, 68.42, 67.63, 67.21, 70.84,\n",
       "       67.49, 66.53, 65.44, 69.52, 65.81, 67.82, 70.6 , 71.8 , 69.21,\n",
       "       66.8 , 67.66, 67.81, 64.05, 68.57, 65.18, 69.66, 67.97, 65.98,\n",
       "       68.67, 66.88, 67.7 , 69.82, 69.09, 69.91, 67.33, 70.27, 69.1 ,\n",
       "       65.38, 70.18, 70.41, 66.54, 66.36, 67.54, 66.5 , 69.  , 68.3 ,\n",
       "       67.01, 70.81, 68.22, 69.06, 67.73, 67.22, 67.37, 65.27, 70.84,\n",
       "       69.92, 64.29, 68.25, 66.36, 68.36, 65.48, 69.72, 67.73, 68.64,\n",
       "       66.78, 70.05, 66.28, 69.2 , 69.13, 67.36, 70.09, 70.18, 68.23,\n",
       "       68.13, 70.24, 71.49, 69.2 , 70.06, 70.56, 66.29, 63.43, 66.77,\n",
       "       68.89, 64.87, 67.09, 68.35, 65.61, 67.76, 68.02, 67.66, 66.31,\n",
       "       69.44, 63.84, 67.72, 70.05, 70.19, 65.95, 70.01, 68.61, 68.81,\n",
       "       69.76, 65.46, 68.83, 65.8 , 67.21, 69.42, 68.94, 67.94, 65.63,\n",
       "       66.5 , 67.93, 68.89, 70.24, 68.27, 71.23, 69.1 , 64.4 , 71.1 ,\n",
       "       68.22, 65.92, 67.44, 73.9 , 69.98, 69.52, 65.18, 68.01, 68.34,\n",
       "       65.18, 68.26, 68.57, 64.5 , 68.71, 68.89, 69.54, 67.4 , 66.48,\n",
       "       66.01, 72.44, 64.13, 70.98, 67.5 , 72.02, 65.31, 67.08, 64.39,\n",
       "       69.37, 68.38, 65.31, 67.14, 68.39, 66.29, 67.19, 65.99, 69.43,\n",
       "       67.97, 67.76, 65.28, 73.83, 66.81, 66.89, 65.74, 65.98, 66.58,\n",
       "       67.11, 65.87, 66.78, 68.74, 66.23, 65.96, 68.58, 66.59, 66.97,\n",
       "       68.08, 70.19, 65.52, 67.46, 67.41, 69.66, 65.8 , 66.11, 68.24,\n",
       "       68.02, 71.39])"
      ]
     },
     "execution_count": 27,
     "metadata": {},
     "output_type": "execute_result"
    }
   ],
   "source": [
    "s_hight.values"
   ]
  },
  {
   "cell_type": "markdown",
   "id": "408c6ae7-5e0e-44fc-8b8e-2b353afa7412",
   "metadata": {},
   "source": [
    "#9 what is the avrage higtht in this series?"
   ]
  },
  {
   "cell_type": "code",
   "execution_count": 28,
   "id": "8201a6a6-ff98-4d81-a148-b80e0f224b47",
   "metadata": {},
   "outputs": [
    {
     "data": {
      "text/plain": [
       "np.float64(67.9498)"
      ]
     },
     "execution_count": 28,
     "metadata": {},
     "output_type": "execute_result"
    }
   ],
   "source": [
    "s_hight.mean()"
   ]
  },
  {
   "cell_type": "markdown",
   "id": "876f4f3f-a825-462b-8e7c-a9fe038256cf",
   "metadata": {},
   "source": [
    "#10 convert the values to cm (1 inch=2.54 cm)"
   ]
  },
  {
   "cell_type": "code",
   "execution_count": 45,
   "id": "4383d2e5-ff84-4c50-83ff-60415d587376",
   "metadata": {},
   "outputs": [
    {
     "name": "stdout",
     "output_type": "stream",
     "text": [
      "0      167.0812\n",
      "1      181.6608\n",
      "2      176.2760\n",
      "3      173.2788\n",
      "4      172.1866\n",
      "         ...   \n",
      "195    167.1320\n",
      "196    167.9194\n",
      "197    173.3296\n",
      "198    172.7708\n",
      "199    181.3306\n",
      "Name: Height(Centimetars), Length: 200, dtype: float64\n"
     ]
    }
   ],
   "source": [
    "s_hight_cm = s_hight*2.54\n",
    "s_hight_cm.name = \"Height(Centimetars)\"\n",
    "print(s_hight_cm)"
   ]
  }
 ],
 "metadata": {
  "kernelspec": {
   "display_name": "Python 3 (ipykernel)",
   "language": "python",
   "name": "python3"
  },
  "language_info": {
   "codemirror_mode": {
    "name": "ipython",
    "version": 3
   },
   "file_extension": ".py",
   "mimetype": "text/x-python",
   "name": "python",
   "nbconvert_exporter": "python",
   "pygments_lexer": "ipython3",
   "version": "3.12.4"
  }
 },
 "nbformat": 4,
 "nbformat_minor": 5
}
