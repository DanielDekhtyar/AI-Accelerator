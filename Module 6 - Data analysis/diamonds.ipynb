{
 "cells": [
  {
   "cell_type": "code",
   "execution_count": 1,
   "id": "4a714b55-6c74-4b63-904c-cd9a29b6c6c7",
   "metadata": {},
   "outputs": [],
   "source": [
    "# Importing necessary libraries\n",
    "import pandas as pd\n",
    "import numpy as np\n",
    "import seaborn as sns\n",
    "from sklearn.model_selection import train_test_split, learning_curve\n",
    "from sklearn.preprocessing import OneHotEncoder, MinMaxScaler, LabelEncoder, StandardScaler\n",
    "from sklearn.metrics import accuracy_score, confusion_matrix\n",
    "import matplotlib.pyplot as plt\n",
    "from sklearn.linear_model import LogisticRegression\n",
    "from sklearn.tree import DecisionTreeClassifier#, plot_tree, export_text\n"
   ]
  },
  {
   "cell_type": "code",
   "execution_count": 2,
   "id": "6881f4d0-4456-4dbb-8040-9ed508ec299d",
   "metadata": {},
   "outputs": [],
   "source": [
    "df = sns.load_dataset('diamonds')"
   ]
  },
  {
   "cell_type": "code",
   "execution_count": 3,
   "id": "2cd0f35c",
   "metadata": {},
   "outputs": [
    {
     "data": {
      "text/html": [
       "<div>\n",
       "<style scoped>\n",
       "    .dataframe tbody tr th:only-of-type {\n",
       "        vertical-align: middle;\n",
       "    }\n",
       "\n",
       "    .dataframe tbody tr th {\n",
       "        vertical-align: top;\n",
       "    }\n",
       "\n",
       "    .dataframe thead th {\n",
       "        text-align: right;\n",
       "    }\n",
       "</style>\n",
       "<table border=\"1\" class=\"dataframe\">\n",
       "  <thead>\n",
       "    <tr style=\"text-align: right;\">\n",
       "      <th></th>\n",
       "      <th>carat</th>\n",
       "      <th>cut</th>\n",
       "      <th>color</th>\n",
       "      <th>clarity</th>\n",
       "      <th>depth</th>\n",
       "      <th>table</th>\n",
       "      <th>price</th>\n",
       "      <th>x</th>\n",
       "      <th>y</th>\n",
       "      <th>z</th>\n",
       "    </tr>\n",
       "  </thead>\n",
       "  <tbody>\n",
       "    <tr>\n",
       "      <th>0</th>\n",
       "      <td>0.23</td>\n",
       "      <td>Ideal</td>\n",
       "      <td>E</td>\n",
       "      <td>SI2</td>\n",
       "      <td>61.5</td>\n",
       "      <td>55.0</td>\n",
       "      <td>326</td>\n",
       "      <td>3.95</td>\n",
       "      <td>3.98</td>\n",
       "      <td>2.43</td>\n",
       "    </tr>\n",
       "  </tbody>\n",
       "</table>\n",
       "</div>"
      ],
      "text/plain": [
       "   carat    cut color clarity  depth  table  price     x     y     z\n",
       "0   0.23  Ideal     E     SI2   61.5   55.0    326  3.95  3.98  2.43"
      ]
     },
     "execution_count": 3,
     "metadata": {},
     "output_type": "execute_result"
    }
   ],
   "source": [
    "df.head(1)"
   ]
  },
  {
   "cell_type": "code",
   "execution_count": 4,
   "id": "124fe1fc-4598-4f90-b4bb-115550175a35",
   "metadata": {},
   "outputs": [
    {
     "data": {
      "text/plain": [
       "carat       float64\n",
       "cut        category\n",
       "color      category\n",
       "clarity    category\n",
       "depth       float64\n",
       "table       float64\n",
       "price         int64\n",
       "x           float64\n",
       "y           float64\n",
       "z           float64\n",
       "dtype: object"
      ]
     },
     "execution_count": 4,
     "metadata": {},
     "output_type": "execute_result"
    }
   ],
   "source": [
    "df.dtypes"
   ]
  },
  {
   "cell_type": "code",
   "execution_count": 5,
   "id": "170e17c3-048c-43c1-9bdf-d50ca5fa68c0",
   "metadata": {},
   "outputs": [
    {
     "data": {
      "text/plain": [
       "carat        273\n",
       "cut            5\n",
       "color          7\n",
       "clarity        8\n",
       "depth        184\n",
       "table        127\n",
       "price      11602\n",
       "x            554\n",
       "y            552\n",
       "z            375\n",
       "dtype: int64"
      ]
     },
     "execution_count": 5,
     "metadata": {},
     "output_type": "execute_result"
    }
   ],
   "source": [
    "#df.isnull().sum()\n",
    "df.nunique()"
   ]
  },
  {
   "cell_type": "code",
   "execution_count": 6,
   "id": "b0f3cbe0-ec51-4a03-98dd-03be450ffe7c",
   "metadata": {},
   "outputs": [],
   "source": [
    "cat_cols = ['color','clarity' ]"
   ]
  },
  {
   "cell_type": "code",
   "execution_count": 7,
   "id": "f9af2e57-a712-43ca-8431-fc3cb09305b4",
   "metadata": {},
   "outputs": [],
   "source": [
    "df = pd.get_dummies(  df, columns = cat_cols,drop_first=True)"
   ]
  },
  {
   "cell_type": "code",
   "execution_count": 8,
   "id": "6e89b856-4a16-4d59-bf9c-84bc32444228",
   "metadata": {},
   "outputs": [],
   "source": [
    "l_encoder = LabelEncoder()\n",
    "df['cut']= l_encoder.fit_transform(df['cut'])\n"
   ]
  },
  {
   "cell_type": "code",
   "execution_count": 9,
   "id": "4565184e-66db-4913-a446-c4f029d926d7",
   "metadata": {},
   "outputs": [],
   "source": [
    "X=df.drop('cut', axis =1)\n",
    "y = df['cut']"
   ]
  },
  {
   "cell_type": "code",
   "execution_count": 10,
   "id": "2fe4b405-c4b3-45f0-94c4-6d01fe08ae94",
   "metadata": {},
   "outputs": [],
   "source": [
    "X_train, X_test, y_train, y_test = train_test_split(X,y, test_size=0.2)"
   ]
  },
  {
   "cell_type": "code",
   "execution_count": 11,
   "id": "f1207053-9dc7-4c3d-a26c-ab586ac58f15",
   "metadata": {},
   "outputs": [],
   "source": [
    "scaler = StandardScaler()\n",
    "X_train, X_test = scaler.fit_transform(X_train), scaler.transform(X_test)"
   ]
  },
  {
   "cell_type": "code",
   "execution_count": 12,
   "id": "7cd32c15-45e9-40b0-8473-f1b465fa0afc",
   "metadata": {},
   "outputs": [],
   "source": [
    "lr= LogisticRegression(max_iter = 200,solver = 'saga' , penalty='l1', C=0.6)"
   ]
  },
  {
   "cell_type": "code",
   "execution_count": 13,
   "id": "885130c7-0093-4690-9d68-ca52c45c5b89",
   "metadata": {},
   "outputs": [
    {
     "name": "stderr",
     "output_type": "stream",
     "text": [
      "C:\\Users\\Daniel\\anaconda3\\envs\\AI-Accelerator\\Lib\\site-packages\\sklearn\\linear_model\\_sag.py:348: ConvergenceWarning: The max_iter was reached which means the coef_ did not converge\n",
      "  warnings.warn(\n"
     ]
    }
   ],
   "source": [
    "lr.fit(X_train, y_train)\n",
    "y_test_perd= lr.predict(X_test)\n",
    "y_train_perd= lr.predict(X_train)"
   ]
  },
  {
   "cell_type": "code",
   "execution_count": 14,
   "id": "9925b71c-74bc-44a2-aa7b-99442da00f58",
   "metadata": {},
   "outputs": [
    {
     "name": "stdout",
     "output_type": "stream",
     "text": [
      "train_accuracy : 0.6526696329254728\n",
      "test_accuracy: 0.6593437152391546\n",
      " delta: -0.006674082313681828\n"
     ]
    }
   ],
   "source": [
    "train_accuracy = accuracy_score(y_train, y_train_perd)\n",
    "test_accuracy = accuracy_score(y_test, y_test_perd)\n",
    "\n",
    "print(f\"train_accuracy : {train_accuracy}\\ntest_accuracy: {test_accuracy}\\n delta: {train_accuracy-test_accuracy}\")"
   ]
  },
  {
   "cell_type": "code",
   "execution_count": 15,
   "id": "3ec411c5-914b-4b15-a233-4a27852dd08e",
   "metadata": {},
   "outputs": [],
   "source": [
    "from sklearn.tree import DecisionTreeClassifier"
   ]
  },
  {
   "cell_type": "code",
   "execution_count": 16,
   "id": "85a4f1e4",
   "metadata": {},
   "outputs": [
    {
     "name": "stdout",
     "output_type": "stream",
     "text": [
      "train_accuracy : 0.7408463107156099\n",
      "test_accuracy: 0.7404523544679273\n",
      " delta: 0.00039395624768256976\n"
     ]
    }
   ],
   "source": [
    "dt = DecisionTreeClassifier(max_depth=7,min_samples_leaf= 8,min_samples_split=8)#, min_samples_leaf=\n",
    "dt.fit(X_train, y_train)\n",
    "dty_test_perd= dt.predict(X_test)\n",
    "dty_train_perd= dt.predict(X_train)\n",
    "\n",
    "dt_train_accuracy = accuracy_score(y_train, dty_train_perd)\n",
    "dt_test_accuracy = accuracy_score(y_test, dty_test_perd)\n",
    "\n",
    "print(f\"train_accuracy : {dt_train_accuracy}\\ntest_accuracy: {dt_test_accuracy}\\n delta: {dt_train_accuracy-dt_test_accuracy}\")"
   ]
  },
  {
   "cell_type": "code",
   "execution_count": 17,
   "id": "9011820c",
   "metadata": {},
   "outputs": [],
   "source": [
    "from sklearn import svm"
   ]
  },
  {
   "cell_type": "code",
   "execution_count": 18,
   "id": "4f2a8afe",
   "metadata": {},
   "outputs": [
    {
     "data": {
      "text/plain": [
       "0.6922506488691138"
      ]
     },
     "execution_count": 18,
     "metadata": {},
     "output_type": "execute_result"
    }
   ],
   "source": [
    "svc = svm.SVC(kernel = 'rbf', C=10, gamma=0.7)\n",
    "svc.fit(X_train, y_train)\n",
    "\n",
    "\n",
    "y_pred= svc.predict(X_test)\n",
    "accuracy_score(y_test, y_pred)"
   ]
  }
 ],
 "metadata": {
  "kernelspec": {
   "display_name": "Python 3 (ipykernel)",
   "language": "python",
   "name": "python3"
  },
  "language_info": {
   "codemirror_mode": {
    "name": "ipython",
    "version": 3
   },
   "file_extension": ".py",
   "mimetype": "text/x-python",
   "name": "python",
   "nbconvert_exporter": "python",
   "pygments_lexer": "ipython3",
   "version": "3.12.8"
  }
 },
 "nbformat": 4,
 "nbformat_minor": 5
}
