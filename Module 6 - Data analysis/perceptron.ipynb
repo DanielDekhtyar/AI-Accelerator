{
 "cells": [
  {
   "cell_type": "code",
   "execution_count": null,
   "id": "afb9bc03-c5fe-4954-8f50-a18ee407eb8d",
   "metadata": {},
   "outputs": [],
   "source": [
    "# Challenge: Build a Donut and Donut Hole Perceptron Classifier\n",
    "import numpy as np\n",
    "\n",
    "# Step 1: Define the activation function (Step function)\n",
    "def activation_function(weighted_sum):\n",
    "    if weighted_sum > 1:\n",
    "        return 1\n",
    "    else:\n",
    "        return 0\n",
    "\n",
    "# Step 2: Define the perceptron function\n",
    "def perceptron(roundness, oiliness, weights, bias):\n",
    "    # TODO: Combine inputs with weights and add bias.\n",
    "    inputs = [roundness, oiliness]\n",
    "\n",
    "    # TODO: Calculate the weighted sum of inputs.\n",
    "    weighted_sum = 0  # Initialize this value correctly.\n",
    "\n",
    "    # TODO: Apply the activation function to make a decision.\n",
    "    decision = activation_function(weighted_sum)\n",
    "\n",
    "    return decision\n",
    "\n",
    "# Step 3: Initialize weights and bias (initially set to zero)\n",
    "weights = [0, 0] #[1,1] #[0.5, 0.5] \n",
    "bias = 0 #-1.5 # -0.5\n",
    "\n",
    "\n",
    "# Step 4: Example inputs (roundness and  oiliness)\n",
    "roundness = float(input(\"Enter the size (0 for not round at all, 1 for completly round): \"))\n",
    "oilness = float(input(\"Enter the roundness, oilness level (0 to 1): \"))\n",
    "\n",
    "# Step 5: Make a decision using the perceptron\n",
    "decision = perceptron(roundness, oilness, weights, bias)\n",
    "\n",
    "# Step 6: Define class labels\n",
    "classes = [\"donut hole\", \"donut\"]\n",
    "\n",
    "# Step 7: Display the decision\n",
    "if decision == 1:\n",
    "    print(f\"It's a {classes[1]}!\")\n",
    "else:\n",
    "    print(f\"It's a {classes[0]}!\")"
   ]
  },
  {
   "cell_type": "code",
   "execution_count": null,
   "id": "31aa5ec5-0a04-4bf0-98e1-1a9cb956c7d0",
   "metadata": {},
   "outputs": [],
   "source": []
  }
 ],
 "metadata": {
  "kernelspec": {
   "display_name": "Python 3 (ipykernel)",
   "language": "python",
   "name": "python3"
  },
  "language_info": {
   "codemirror_mode": {
    "name": "ipython",
    "version": 3
   },
   "file_extension": ".py",
   "mimetype": "text/x-python",
   "name": "python",
   "nbconvert_exporter": "python",
   "pygments_lexer": "ipython3",
   "version": "3.12.8"
  }
 },
 "nbformat": 4,
 "nbformat_minor": 5
}
