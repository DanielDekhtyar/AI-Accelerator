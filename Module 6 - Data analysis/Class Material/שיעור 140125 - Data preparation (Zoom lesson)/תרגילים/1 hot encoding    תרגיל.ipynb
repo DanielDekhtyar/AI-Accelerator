{
 "cells": [
  {
   "cell_type": "markdown",
   "id": "6db20399-3838-47d0-aecb-3467f62fd26e",
   "metadata": {},
   "source": [
    "# One-Hot Encoding vs. `pd.get_dummies` Exercise\n",
    "\n",
    "In this exercise, we will explore how to use both `OneHotEncoder` and `pd.get_dummies` to handle categorical data. We'll use the Seaborn `tips` dataset for this task.\n",
    "\n",
    "\n",
    "### Step 1: Load the Data\n",
    "1. Import the necessary libraries:\n",
    "    - `pandas` as `pd`\n",
    "    - `seaborn` as `sns`\n",
    "2. Load the `tips` dataset using `sns.load_dataset()`.\n",
    "\n",
    "3. Display the first 5 rows of the dataset using `.head()`.\n",
    "4. Use `.info()` to get an overview of the data types and missing values.\n",
    "\n",
    "### Step 2: Using `pd.get_dummies`\n",
    "1. Use the `pd.get_dummies` function to encode the categorical variables:\n",
    "    - Select the columns `sex`, `smoker`, and `day`.\n",
    "    - Set `drop_first=True` to avoid multicollinearity.\n",
    "\n",
    "2. Merge the encoded columns back into the original dataset, dropping the original categorical columns.\n",
    "\n",
    "---\n",
    "\n",
    "### Step 4: Using `OneHotEncoder`\n",
    "1. Use `OneHotEncoder` from `sklearn.preprocessing` to encode the same columns (`sex`, `smoker`, and `day`).\n",
    "2. Combine the encoded columns into a new DataFrame with meaningful column names.\n",
    "3. Add the encoded columns to the original dataset, dropping the original categorical columns.\n",
    "\n",
    "---\n",
    "\n",
    "### Step 5: Comparison of Results\n",
    "- Compare the results from `pd.get_dummies` and `OneHotEncoder`:\n",
    "    - Do they produce the same results?\n",
    "    - What differences do you observe in the output?\n",
    "\n",
    "\n",
    "### if you have extra time\n",
    "1. Use the `tips` dataset (with categorical variables encoded) to predict the `total_bill` column based on all other features.\n",
    "    - Use `LinearRegression` from `sklearn.linear_model`.\n",
    "    - Split the data into training and testing sets using `train_test_split`.\n",
    "    - Evaluate the model using `mean_squared_error` and calculate the RMSE.\n",
    "2. Which encoding method (OneHotEncoder or `pd.get_dummies`) performs better?\n",
    "\n",
    "\n",
    "### Note:\n",
    "- Use `OneHotEncoder` with `sparse_output=False` for easier handling of the encoded DataFrame.\n",
    "- Use `pd.concat()` to merge encoded features back into the original DataFrame.\n",
    "- When using `train_test_split`, set `random_state=42` for consistent results.\n",
    "- For regression, consider droping the `tip` column to avoid multicollinearity, as it has a high correlation with `total_bill`.\n"
   ]
  },
  {
   "cell_type": "code",
   "execution_count": null,
   "id": "6bae3cea-40ad-497c-aee1-67c23c9b0d15",
   "metadata": {},
   "outputs": [],
   "source": []
  }
 ],
 "metadata": {
  "kernelspec": {
   "display_name": "Python 3 (ipykernel)",
   "language": "python",
   "name": "python3"
  },
  "language_info": {
   "codemirror_mode": {
    "name": "ipython",
    "version": 3
   },
   "file_extension": ".py",
   "mimetype": "text/x-python",
   "name": "python",
   "nbconvert_exporter": "python",
   "pygments_lexer": "ipython3",
   "version": "3.12.2"
  }
 },
 "nbformat": 4,
 "nbformat_minor": 5
}
