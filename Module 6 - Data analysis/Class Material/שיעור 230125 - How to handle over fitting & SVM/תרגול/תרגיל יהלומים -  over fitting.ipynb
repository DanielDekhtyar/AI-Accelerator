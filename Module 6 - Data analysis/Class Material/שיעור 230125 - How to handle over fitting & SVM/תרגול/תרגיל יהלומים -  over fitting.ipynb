{
 "cells": [
  {
   "cell_type": "markdown",
   "id": "6befa9f5-b1a7-4345-ae90-dfac6bc55b7e",
   "metadata": {},
   "source": [
    " Load the diamonds dataset from seaborn.\n",
    "Try to predict the cut column using a machine learning model.\n",
    "1. Prepare the data:\n",
    "Use get_dummies and scaling wisely to preprocess the features.\n",
    "Also apply LabelEncoder to encode the target column (cut).\n",
    "Create a Logistic Regression model to classify the cut categories.\n",
    "2. Evaluate your model:\n",
    "Use accuracy_score to measure how accurate your model is.\n",
    "Check if your model suffers from overfitting by comparing training and test accuracies.\n",
    "3. Experiment with the following model parameters:\n",
    "penalty, C, solver, max_iter.\n",
    "* Compete with your classmates to achieve the best results! Let’s see who gets the highest accuracy with the least overfitting. 🚀"
   ]
  },
  {
   "cell_type": "code",
   "execution_count": null,
   "id": "4a714b55-6c74-4b63-904c-cd9a29b6c6c7",
   "metadata": {},
   "outputs": [],
   "source": [
    "# Importing necessary libraries\n",
    "import pandas as pd\n",
    "import numpy as np\n",
    "import seaborn as sns\n",
    "from sklearn.model_selection import train_test_split, learning_curve\n",
    "from sklearn.preprocessing import OneHotEncoder, MinMaxScaler, LabelEncoder, StandardScaler\n",
    "from sklearn.metrics import accuracy_score, confusion_matrix\n",
    "import matplotlib.pyplot as plt\n",
    "from sklearn.linear_model import LogisticRegression\n",
    "from sklearn.tree import DecisionTreeClassifier#, plot_tree, export_text\n",
    "#this is here in case you have some extra time and want to repeate the excercise with a tree\n",
    "#you can play with max_depth, min_samples_split, min_samples_leaf\n"
   ]
  },
  {
   "cell_type": "code",
   "execution_count": null,
   "id": "53eb056b-cda3-4d1a-917f-ae91f98f7430",
   "metadata": {},
   "outputs": [],
   "source": []
  }
 ],
 "metadata": {
  "kernelspec": {
   "display_name": "Python 3 (ipykernel)",
   "language": "python",
   "name": "python3"
  },
  "language_info": {
   "codemirror_mode": {
    "name": "ipython",
    "version": 3
   },
   "file_extension": ".py",
   "mimetype": "text/x-python",
   "name": "python",
   "nbconvert_exporter": "python",
   "pygments_lexer": "ipython3",
   "version": "3.12.2"
  }
 },
 "nbformat": 4,
 "nbformat_minor": 5
}
