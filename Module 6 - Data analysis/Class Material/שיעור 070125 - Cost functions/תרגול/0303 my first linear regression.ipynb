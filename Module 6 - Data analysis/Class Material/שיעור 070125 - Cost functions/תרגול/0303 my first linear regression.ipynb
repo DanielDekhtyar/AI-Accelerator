{
 "cells": [
  {
   "cell_type": "markdown",
   "metadata": {},
   "source": [
    "# Exercise\n",
    "\n",
    "## Objective\n",
    "Repeat the process we did, with a different feature to predict MPG and compare the results.\n",
    "\n",
    "## Feature Selection\n",
    "Use the `weight` column as the independent variable (`x`) to predict `mpg` (dependent variable, `y`).\n",
    "\n",
    "## Tasks\n",
    "1. Preprocess the data to handle any missing values.\n",
    "2. Split the dataset into training and testing sets.\n",
    "3. Train a linear regression model using `weight` as the feature and `mpg` as the target.\n",
    "4. Calculate the slope (`w`) and y-intercept (`b`) of the line of best fit.\n",
    "5. Plot the training data, testing data, and the best-fitting line.\n",
    "6. Make predictions on the test set.\n",
    "7. Calculate the **MAE**, **MSE**, and **RMSE** for this model.\n",
    "8. Compare the metrics with the original model using `horsepower`.\n",
    "\n",
    "## Questions for Reflection\n",
    "1. Which feature (`horsepower` or `weight`) resulted in a better prediction of MPG? Justify your answer using the evaluation metrics.\n",
    "2. How does the interpretation of the slope differ between the two models?\n",
    "\n"
   ]
  },
  {
   "cell_type": "markdown",
   "metadata": {},
   "source": [
    "#### Preprocess"
   ]
  },
  {
   "cell_type": "code",
   "execution_count": 1,
   "metadata": {
    "id": "3jPgHzpkCI5R"
   },
   "outputs": [],
   "source": [
    "#import libraries\n"
   ]
  },
  {
   "cell_type": "code",
   "execution_count": 2,
   "metadata": {
    "id": "aUM1tOEjCUnn"
   },
   "outputs": [],
   "source": [
    "# load dataset mpg from sns\n"
   ]
  },
  {
   "cell_type": "code",
   "execution_count": 3,
   "metadata": {
    "id": "jKyNINc5C_M_"
   },
   "outputs": [],
   "source": [
    "# data preprocessing\n"
   ]
  },
  {
   "cell_type": "code",
   "execution_count": 4,
   "metadata": {},
   "outputs": [],
   "source": [
    "#choose X and y, and reshape\n"
   ]
  },
  {
   "cell_type": "code",
   "execution_count": 5,
   "metadata": {
    "id": "R9T6IWGoDCs3"
   },
   "outputs": [],
   "source": [
    "# split dataset into train and test sets\n",
    "\n"
   ]
  },
  {
   "cell_type": "markdown",
   "metadata": {},
   "source": [
    "#### Train "
   ]
  },
  {
   "cell_type": "code",
   "execution_count": 6,
   "metadata": {
    "colab": {
     "base_uri": "https://localhost:8080/",
     "height": 74
    },
    "id": "If7AaLFcDJB_",
    "outputId": "ae1d14ad-173b-47a3-870c-a3cd629ede8f"
   },
   "outputs": [],
   "source": [
    "# create a model variable\n",
    "\n",
    "\n"
   ]
  },
  {
   "cell_type": "code",
   "execution_count": 7,
   "metadata": {},
   "outputs": [],
   "source": [
    "#fit the data to the model"
   ]
  },
  {
   "cell_type": "code",
   "execution_count": 8,
   "metadata": {
    "colab": {
     "base_uri": "https://localhost:8080/"
    },
    "id": "nQzJGgybDLC5",
    "outputId": "525e9306-fba3-4bc2-e1d4-79afce1d2a1c"
   },
   "outputs": [],
   "source": [
    "# get the slope (w) and y-interecept (b) from our mode\n",
    "\n"
   ]
  },
  {
   "cell_type": "code",
   "execution_count": 9,
   "metadata": {
    "colab": {
     "base_uri": "https://localhost:8080/",
     "height": 472
    },
    "id": "SaEEKiywDSDe",
    "outputId": "3e6c24dd-e778-4c3f-ed9a-d54fbf6dd428"
   },
   "outputs": [],
   "source": [
    "# plot the line of best fit\n"
   ]
  },
  {
   "cell_type": "code",
   "execution_count": 10,
   "metadata": {
    "id": "vsb5wjp1Dpoh"
   },
   "outputs": [],
   "source": [
    "# make a prediction \n"
   ]
  },
  {
   "cell_type": "markdown",
   "metadata": {},
   "source": [
    "#### Assess"
   ]
  },
  {
   "cell_type": "code",
   "execution_count": 11,
   "metadata": {
    "colab": {
     "base_uri": "https://localhost:8080/"
    },
    "id": "DgmY9iNuDr0u",
    "outputId": "663e5401-fb4a-4108-a763-5604ccfe88e1"
   },
   "outputs": [],
   "source": [
    "# calculate the MAE, MSE, and RSME\n"
   ]
  },
  {
   "cell_type": "code",
   "execution_count": null,
   "metadata": {},
   "outputs": [],
   "source": []
  }
 ],
 "metadata": {
  "colab": {
   "provenance": []
  },
  "kernelspec": {
   "display_name": "Python 3 (ipykernel)",
   "language": "python",
   "name": "python3"
  },
  "language_info": {
   "codemirror_mode": {
    "name": "ipython",
    "version": 3
   },
   "file_extension": ".py",
   "mimetype": "text/x-python",
   "name": "python",
   "nbconvert_exporter": "python",
   "pygments_lexer": "ipython3",
   "version": "3.12.2"
  }
 },
 "nbformat": 4,
 "nbformat_minor": 4
}
