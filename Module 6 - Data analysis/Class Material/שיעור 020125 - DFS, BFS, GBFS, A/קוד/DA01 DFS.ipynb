{
 "cells": [
  {
   "cell_type": "markdown",
   "id": "5627812d-620e-4603-a3ad-205a2c8e1c76",
   "metadata": {},
   "source": [
    "### Depth-First Search (DFS) algorithm"
   ]
  },
  {
   "cell_type": "code",
   "execution_count": 16,
   "id": "e360121a-ed73-411d-9059-c1146a933a33",
   "metadata": {},
   "outputs": [],
   "source": [
    "# Example graph of nodes\n",
    "graph = {\n",
    "    \"A\": [\"B\", \"C\"],\n",
    "    \"B\": [\"D\", \"E\"],\n",
    "    \"C\": [\"F\", \"G\"],\n",
    "    \"D\": [],\n",
    "    \"E\": [],\n",
    "    \"F\": [],\n",
    "    \"G\": []\n",
    "}\n"
   ]
  },
  {
   "cell_type": "markdown",
   "id": "7881080c-03ab-4b88-b7b3-fbd4be6ea7d3",
   "metadata": {},
   "source": [
    "**DFS** viseted nodes"
   ]
  },
  {
   "cell_type": "code",
   "execution_count": 17,
   "id": "3dd1c966-0f19-4b8b-bd41-856918cdfc53",
   "metadata": {},
   "outputs": [
    {
     "name": "stdout",
     "output_type": "stream",
     "text": [
      "DFS - Visited nodes:\n",
      "\n",
      " ['A', 'B', 'D', 'E', 'C', 'F', 'G']\n"
     ]
    }
   ],
   "source": [
    "# Depth-First Search\n",
    "def dfs(graph, start, visited=None):\n",
    "    if visited is None:\n",
    "        visited = []\n",
    "\n",
    "    visited.append(start)\n",
    "    for neighbor in graph[start]:\n",
    "        if neighbor not in visited:\n",
    "            dfs(graph, neighbor, visited)#recursion creates stack -> lifo -> dfs\n",
    "\n",
    "    return visited\n",
    "\n",
    "# Call the DFS functions and print results\n",
    "visited_nodes_dfs = dfs(graph, \"A\")\n",
    "\n",
    "print(\"DFS - Visited nodes:\\n\\n\", visited_nodes_dfs)"
   ]
  },
  {
   "cell_type": "code",
   "execution_count": 18,
   "id": "2b3810e2-4b90-460a-b48d-ada360a09ab8",
   "metadata": {},
   "outputs": [],
   "source": [
    "#codem install networks\n",
    "import networkx as nx\n",
    "import matplotlib.pyplot as plt"
   ]
  },
  {
   "cell_type": "code",
   "execution_count": null,
   "id": "5a0c262d-e695-4297-86ee-2ac04568d20b",
   "metadata": {},
   "outputs": [],
   "source": [
    "# Example graph of nodes\n",
    "graph = {\n",
    "    \"A\": [\"B\", \"C\"],\n",
    "    \"B\": [\"D\", \"E\"],\n",
    "    \"C\": [\"F\", \"G\"],\n",
    "    \"D\": [],\n",
    "    \"E\": [],\n",
    "    \"F\": [],\n",
    "    \"G\": []\n",
    "}\n",
    "\n",
    "G = nx.DiGraph(graph)"
   ]
  },
  {
   "cell_type": "code",
   "execution_count": null,
   "id": "139a916c-6d01-4bbc-9bf0-c72d9787f4a1",
   "metadata": {},
   "outputs": [],
   "source": [
    "# Print edges #if asked....\n",
    "print(\"Edges:\", list(G.edges))  # Output: [('A', 'B'), ('A', 'C'), ('B', 'D'), ('D', 'A')]\n",
    "\n",
    "# Print successors of A\n",
    "print(\"Successors of A:\", list(G.successors(\"A\")))  # Output: ['B', 'C']\n",
    "\n",
    "# Print predecessors of B\n",
    "print(\"Predecessors of B:\", list(G.predecessors(\"B\")))  # Output: ['A']"
   ]
  },
  {
   "cell_type": "code",
   "execution_count": null,
   "id": "0b6d2db7-e8c1-4344-97f5-c9cd12a37746",
   "metadata": {},
   "outputs": [],
   "source": [
    "# Positions of the nodes for a tree-like visualization\n",
    "pos = {\"A\": (0, 0), \"B\": (-1, -1), \"C\": (1, -1), \"D\": (-2, -2), \"E\": (0, -2), \"F\": (0, -3), \"G\": (2, -2)}\n",
    "\n",
    "# Graph with node labels\n",
    "plt.figure(figsize=(4,3))\n",
    "nx.draw(G, pos, with_labels=True, node_color=\"#D175A3\", font_size=12, font_weight=\"bold\", node_size=1000)\n",
    "plt.title(\"Graph\")\n",
    "plt.show()"
   ]
  },
  {
   "cell_type": "code",
   "execution_count": 20,
   "id": "60894f09-33ad-4302-993e-5f886c8e0677",
   "metadata": {},
   "outputs": [],
   "source": [
    "# Node color based on traversal order\n",
    "def draw_traversal_order(G, pos, traversal_order, title):\n",
    "    color_map = []\n",
    "    for node in G:\n",
    "        if node in traversal_order:\n",
    "            color_map.append(plt.cm.Blues((traversal_order.index(node) + 1) / len(traversal_order)))\n",
    "        else:\n",
    "            color_map.append(\"lightgray\")\n",
    "\n",
    "    plt.figure(figsize = (4,3))\n",
    "    nx.draw(G, pos, with_labels=True, node_color=color_map, font_size=12, font_weight=\"bold\", node_size=1000)\n",
    "    plt.title(title)\n",
    "    plt.show()\n"
   ]
  },
  {
   "cell_type": "code",
   "execution_count": 21,
   "id": "30cd159e-07a4-4aae-8718-717fb4bd062e",
   "metadata": {},
   "outputs": [
    {
     "name": "stdout",
     "output_type": "stream",
     "text": [
      "DFS - Visited nodes: ['A', 'B', 'D', 'E', 'C', 'F', 'G']\n"
     ]
    },
    {
     "data": {
      "image/png": "[encoded data removed]",
      "text/plain": [
       "<Figure size 400x300 with 1 Axes>"
      ]
     },
     "metadata": {},
     "output_type": "display_data"
    }
   ],
   "source": [
    " #DFS traversal\n",
    "visited_nodes_dfs = dfs(graph, \"A\")\n",
    "print(\"DFS - Visited nodes:\", visited_nodes_dfs)\n",
    "draw_traversal_order(G, pos, visited_nodes_dfs, \"DFS Traversal\")"
   ]
  },
  {
   "cell_type": "code",
   "execution_count": null,
   "id": "24eb3bf9-23cf-47e6-ba4c-9404d51b1046",
   "metadata": {},
   "outputs": [],
   "source": []
  }
 ],
 "metadata": {
  "kernelspec": {
   "display_name": "Python 3 (ipykernel)",
   "language": "python",
   "name": "python3"
  },
  "language_info": {
   "codemirror_mode": {
    "name": "ipython",
    "version": 3
   },
   "file_extension": ".py",
   "mimetype": "text/x-python",
   "name": "python",
   "nbconvert_exporter": "python",
   "pygments_lexer": "ipython3",
   "version": "3.12.2"
  }
 },
 "nbformat": 4,
 "nbformat_minor": 5
}
