{
 "cells": [
  {
   "cell_type": "code",
   "execution_count": 1,
   "id": "dbac3e87-67b7-444d-bcac-21efd656b96e",
   "metadata": {},
   "outputs": [],
   "source": [
    "import numpy as np"
   ]
  },
  {
   "cell_type": "code",
   "execution_count": 3,
   "id": "ad6c4992-8302-4fdf-a782-5468d87d1115",
   "metadata": {},
   "outputs": [],
   "source": [
    "# def activation Function\n",
    "def activation_func (x):\n",
    "    if x > 0:\n",
    "        return 1\n",
    "    else:\n",
    "        return 0"
   ]
  },
  {
   "cell_type": "code",
   "execution_count": 5,
   "id": "d9528af9-8f63-48fa-aa17-78c882fd66ea",
   "metadata": {},
   "outputs": [],
   "source": [
    "# the perceptron function\n",
    "def perceptron_func (thril, wait, weights, bias):\n",
    "    #summing\n",
    "    weighted_sum = thril*weights[0] + wait*weights[1] +bias\n",
    "\n",
    "    #apply activation function\n",
    "    decision = activation_func(weighted_sum)\n",
    "    return decision \n",
    "    "
   ]
  },
  {
   "cell_type": "code",
   "execution_count": 23,
   "id": "93502657-7ca8-403f-9547-407324236fbf",
   "metadata": {},
   "outputs": [
    {
     "name": "stdin",
     "output_type": "stream",
     "text": [
      " enter the thril level between 0 and 1 0.5\n",
      " enter the wait time between 0 and 1 0.5\n"
     ]
    },
    {
     "name": "stdout",
     "output_type": "stream",
     "text": [
      "go to roller coster\n"
     ]
    }
   ],
   "source": [
    "#Adjustin weight and bais\n",
    "weights = [-1,1] #adjust as needed manualy\n",
    "bias = 0 #adjust as needed manualy\n",
    "\n",
    "thril = float( input(\" enter the thril level between 0 and 1\"))\n",
    "wait = float( input(\" enter the wait time between 0 and 1\"))\n",
    "\n",
    "decision =  perceptron_func (thril, wait,weights, bias )\n",
    "\n",
    "#disply result\n",
    "\n",
    "if decision == 0:\n",
    "    print (\"go to roller coster\")\n",
    "else:\n",
    "    print (\"go to ferrie wheel\")"
   ]
  },
  {
   "cell_type": "code",
   "execution_count": null,
   "id": "b10bf19f-2d7d-4906-8661-f7901a731b63",
   "metadata": {},
   "outputs": [],
   "source": []
  }
 ],
 "metadata": {
  "kernelspec": {
   "display_name": "Python 3 (ipykernel)",
   "language": "python",
   "name": "python3"
  },
  "language_info": {
   "codemirror_mode": {
    "name": "ipython",
    "version": 3
   },
   "file_extension": ".py",
   "mimetype": "text/x-python",
   "name": "python",
   "nbconvert_exporter": "python",
   "pygments_lexer": "ipython3",
   "version": "3.12.4"
  }
 },
 "nbformat": 4,
 "nbformat_minor": 5
}
