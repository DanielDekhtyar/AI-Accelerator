{
 "cells": [
  {
   "cell_type": "markdown",
   "id": "7aeb1987-8758-444b-8b6c-10f3f9db985e",
   "metadata": {},
   "source": [
    "### Exercises:\n",
    "\n",
    "#### Level 1: Basic Functions\n",
    "1. $f(x) = x^2$\n",
    "2. $f(x) = 3x^3$\n",
    "3. $f(x) = 7x^4 + 5$\n",
    "\n",
    "#### Level 2: Functions with Powers and Constant Addition\n",
    "4. $f(x) = 5x^2 + 2$\n",
    "5. $f(x) = 2x^3 + x^2$\n",
    "6. $f(x) = 4x^5 + 6x$\n",
    "\n",
    "#### Level 3: Using the Chain Rule (Multiplication Only)\n",
    "7. $f(x) = (2x + 1)^3$\n",
    "8. $f(x) = (3x^2 + 4)^2$\n",
    "9. $f(x) = (5x^3 + 2x)^4$\n",
    "\n",
    "#### Level 4: Chain Rule in Multiplication, Complex Exercises\n",
    "10. $f(x) = (2x + 3)^5$\n",
    "11. $f(x) = (x^2 + 1)^3 + 4x^2$\n",
    "12. $f(x) = (x^3 + 2x^2 + 1)^2$\n",
    "\n",
    "#### Note\n",
    "- You can use `sympy` to check your answers **after** you finish\n"
   ]
  },
  {
   "cell_type": "code",
   "execution_count": null,
   "id": "772606c4-902b-4505-b866-a40d39db591f",
   "metadata": {},
   "outputs": [],
   "source": []
  }
 ],
 "metadata": {
  "kernelspec": {
   "display_name": "Python 3 (ipykernel)",
   "language": "python",
   "name": "python3"
  },
  "language_info": {
   "codemirror_mode": {
    "name": "ipython",
    "version": 3
   },
   "file_extension": ".py",
   "mimetype": "text/x-python",
   "name": "python",
   "nbconvert_exporter": "python",
   "pygments_lexer": "ipython3",
   "version": "3.12.2"
  }
 },
 "nbformat": 4,
 "nbformat_minor": 5
}
