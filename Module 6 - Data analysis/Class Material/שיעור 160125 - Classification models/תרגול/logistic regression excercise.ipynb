{
 "cells": [
  {
   "cell_type": "code",
   "execution_count": 9,
   "id": "6d0303b2-d6b0-4a6d-8ba9-fcb1c0ae046f",
   "metadata": {},
   "outputs": [],
   "source": [
    "import numpy as np\n",
    "import pandas as pd\n",
    "import seaborn as sns\n",
    "from sklearn.datasets import load_breast_cancer\n",
    "from sklearn.model_selection import train_test_split\n",
    "from sklearn.linear_model import LogisticRegression\n",
    "from sklearn.metrics import classification_report, accuracy_score, confusion_matrix, ConfusionMatrixDisplay\n",
    "import matplotlib.pyplot as plt"
   ]
  },
  {
   "cell_type": "code",
   "execution_count": 13,
   "id": "5ac6d258-dd26-4bf7-860d-16cc4be96a87",
   "metadata": {},
   "outputs": [],
   "source": [
    "# Load Breast Cancer Dataset\n",
    "data = load_breast_cancer()\n",
    "#the \"df\" stage is not neaded,the data is ready to use. it is just for us so we can see \n",
    "df = pd.DataFrame(data.data, columns=data.feature_names)\n",
    "df['target'] = data.target # 0 = malignant, 1 = benign"
   ]
  },
  {
   "cell_type": "code",
   "execution_count": null,
   "id": "d766424f-9f70-4cb7-8042-6aa8965d8762",
   "metadata": {},
   "outputs": [],
   "source": [
    "X = data.data  # Features\n",
    "y = data.target  "
   ]
  },
  {
   "cell_type": "code",
   "execution_count": null,
   "id": "e0c079c2-3702-49f3-a1b5-ae75827797e0",
   "metadata": {},
   "outputs": [],
   "source": [
    "# Split the dataset into training and testing sets\n"
   ]
  },
  {
   "cell_type": "code",
   "execution_count": null,
   "id": "e0e076d5-3265-47be-9348-6c2a42755ab2",
   "metadata": {},
   "outputs": [],
   "source": [
    "# Initialize and fit the Logistic Regression model\n"
   ]
  },
  {
   "cell_type": "code",
   "execution_count": null,
   "id": "d0e2de7f-6052-47a9-98c4-464027de5904",
   "metadata": {},
   "outputs": [],
   "source": [
    "# Make predictions\n"
   ]
  },
  {
   "cell_type": "code",
   "execution_count": 22,
   "id": "7516a6ae-e951-4ced-a4f1-7d15f59b4e77",
   "metadata": {},
   "outputs": [
    {
     "name": "stdout",
     "output_type": "stream",
     "text": [
      "Accuracy: 0.96\n"
     ]
    },
    {
     "data": {
      "text/plain": [
       "array([[ 62,   1],\n",
       "       [  6, 102]], dtype=int64)"
      ]
     },
     "execution_count": 22,
     "metadata": {},
     "output_type": "execute_result"
    }
   ],
   "source": [
    "# Evaluate the model using accuracy_score and confusion_matrix\n"
   ]
  },
  {
   "cell_type": "code",
   "execution_count": null,
   "id": "bf47fbe2-04af-406a-b5a2-fa23fec8690c",
   "metadata": {},
   "outputs": [],
   "source": []
  },
  {
   "cell_type": "code",
   "execution_count": null,
   "id": "c805f021-28b0-439f-bef1-7f7a089405fb",
   "metadata": {},
   "outputs": [],
   "source": []
  }
 ],
 "metadata": {
  "kernelspec": {
   "display_name": "Python 3 (ipykernel)",
   "language": "python",
   "name": "python3"
  },
  "language_info": {
   "codemirror_mode": {
    "name": "ipython",
    "version": 3
   },
   "file_extension": ".py",
   "mimetype": "text/x-python",
   "name": "python",
   "nbconvert_exporter": "python",
   "pygments_lexer": "ipython3",
   "version": "3.12.2"
  }
 },
 "nbformat": 4,
 "nbformat_minor": 5
}
