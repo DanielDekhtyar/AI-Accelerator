{
 "cells": [
  {
   "cell_type": "code",
   "execution_count": 1,
   "id": "8766a9c6-7910-46af-9c7f-66d88e2e1581",
   "metadata": {},
   "outputs": [],
   "source": [
    "import seaborn as sns\n",
    "import pandas as pd\n",
    "import numpy as np\n",
    "from  sklearn.impute import KNNImputer\n",
    "from sklearn.preprocessing import StandardScaler"
   ]
  },
  {
   "cell_type": "code",
   "execution_count": 2,
   "id": "3196f186-9d58-4017-8058-a916c5e405a1",
   "metadata": {},
   "outputs": [],
   "source": [
    "df = sns.load_dataset('planets')\n"
   ]
  },
  {
   "cell_type": "code",
   "execution_count": 3,
   "id": "ef6bea1c-cf69-4d9e-a31d-a673c75e1b95",
   "metadata": {},
   "outputs": [],
   "source": [
    "df_copy = df.copy()"
   ]
  },
  {
   "cell_type": "code",
   "execution_count": 4,
   "id": "14892c17-76a3-467c-8e02-deaf93a27602",
   "metadata": {},
   "outputs": [
    {
     "data": {
      "text/plain": [
       "method              0\n",
       "number              0\n",
       "orbital_period     43\n",
       "mass              522\n",
       "distance          227\n",
       "year                0\n",
       "dtype: int64"
      ]
     },
     "execution_count": 4,
     "metadata": {},
     "output_type": "execute_result"
    }
   ],
   "source": [
    "df.isnull().sum() "
   ]
  },
  {
   "cell_type": "code",
   "execution_count": 8,
   "id": "0c6a4a26-0e48-40bc-a424-e60dcdcccc3d",
   "metadata": {},
   "outputs": [],
   "source": [
    "var = df.isnull().sum()[df.isnull().sum() != 0]#.index"
   ]
  },
  {
   "cell_type": "code",
   "execution_count": 9,
   "id": "4b3e8925-2098-412e-b4b8-709bbc5926ab",
   "metadata": {},
   "outputs": [
    {
     "data": {
      "text/plain": [
       "pandas.core.series.Series"
      ]
     },
     "execution_count": 9,
     "metadata": {},
     "output_type": "execute_result"
    }
   ],
   "source": [
    "type(var)"
   ]
  },
  {
   "cell_type": "code",
   "execution_count": 11,
   "id": "f27de71b-1803-46fa-9d37-6bd8896b4e68",
   "metadata": {},
   "outputs": [
    {
     "data": {
      "text/plain": [
       "Index(['orbital_period', 'mass', 'distance'], dtype='object')"
      ]
     },
     "execution_count": 11,
     "metadata": {},
     "output_type": "execute_result"
    }
   ],
   "source": [
    " df.isnull().sum()[df.isnull().sum() != 0].index"
   ]
  },
  {
   "cell_type": "code",
   "execution_count": 12,
   "id": "b0313310-9d63-4ab7-a299-71c1502bd395",
   "metadata": {},
   "outputs": [
    {
     "data": {
      "text/plain": [
       "array([ 43, 522, 227], dtype=int64)"
      ]
     },
     "execution_count": 12,
     "metadata": {},
     "output_type": "execute_result"
    }
   ],
   "source": [
    "df.isnull().sum()[df.isnull().sum() != 0].values"
   ]
  },
  {
   "cell_type": "code",
   "execution_count": 18,
   "id": "51c8b688-a042-4821-bc45-c6145c742bf1",
   "metadata": {},
   "outputs": [
    {
     "data": {
      "text/plain": [
       "Index(['count', 'mean', 'std', 'min', '25%', '50%', '75%', 'max'], dtype='object')"
      ]
     },
     "execution_count": 18,
     "metadata": {},
     "output_type": "execute_result"
    }
   ],
   "source": [
    "df.describe().index"
   ]
  },
  {
   "cell_type": "code",
   "execution_count": 20,
   "id": "55e90ae9-74fd-4539-a982-6952b579c526",
   "metadata": {},
   "outputs": [
    {
     "data": {
      "text/plain": [
       "1035"
      ]
     },
     "execution_count": 20,
     "metadata": {},
     "output_type": "execute_result"
    }
   ],
   "source": [
    "df.shape[0]"
   ]
  },
  {
   "cell_type": "code",
   "execution_count": 22,
   "id": "48cb9e56-18a7-49f8-afda-c291c791c479",
   "metadata": {},
   "outputs": [
    {
     "data": {
      "text/plain": [
       "method             object\n",
       "number              int64\n",
       "orbital_period    float64\n",
       "mass              float64\n",
       "distance          float64\n",
       "year                int64\n",
       "dtype: object"
      ]
     },
     "execution_count": 22,
     "metadata": {},
     "output_type": "execute_result"
    }
   ],
   "source": [
    "df.dtypes"
   ]
  },
  {
   "cell_type": "code",
   "execution_count": 23,
   "id": "dfd85744-5e42-4ad0-b1f1-0342abf789cf",
   "metadata": {},
   "outputs": [],
   "source": [
    "df.drop('method', axis=1, inplace= True)"
   ]
  },
  {
   "cell_type": "code",
   "execution_count": 24,
   "id": "c92b340d-9c41-455d-9263-3a0422108bd8",
   "metadata": {},
   "outputs": [],
   "source": [
    "#Scaling\n",
    "scaler = StandardScaler()"
   ]
  },
  {
   "cell_type": "code",
   "execution_count": 25,
   "id": "2712e391-bcbb-4cc7-b942-945e400822d8",
   "metadata": {},
   "outputs": [],
   "source": [
    "scaled_data = (scaler.fit_transform(df)  #v +=1"
   ]
  },
  {
   "cell_type": "code",
   "execution_count": 26,
   "id": "7a4af91e-d1cb-4dcb-b264-4b585db858f7",
   "metadata": {},
   "outputs": [
    {
     "data": {
      "text/plain": [
       "array([[-0.63328129, -0.06667346,  1.16958442, -0.25478202, -0.77330752],\n",
       "       [-0.63328129, -0.04338745, -0.11223397, -0.28269391, -0.26961131],\n",
       "       [-0.63328129, -0.04768618, -0.01000306, -0.33334478,  0.48593301],\n",
       "       ...,\n",
       "       [-0.63328129, -0.07690777,         nan, -0.12293417, -0.52145941],\n",
       "       [-0.63328129, -0.07687187,         nan,  0.03948709, -0.26961131],\n",
       "       [-0.63328129, -0.07686946,         nan, -0.0055541 , -0.26961131]])"
      ]
     },
     "execution_count": 26,
     "metadata": {},
     "output_type": "execute_result"
    }
   ],
   "source": [
    "scaled_data"
   ]
  },
  {
   "cell_type": "code",
   "execution_count": 27,
   "id": "aa268af7-9964-4e81-908e-87417f0b03a6",
   "metadata": {},
   "outputs": [],
   "source": [
    "imputer = KNNImputer()"
   ]
  },
  {
   "cell_type": "code",
   "execution_count": 28,
   "id": "871d3c7d-a057-41bb-ba1e-acae4084a269",
   "metadata": {},
   "outputs": [],
   "source": [
    "imputed_data = imputer.fit_transform(scaled_data)"
   ]
  },
  {
   "cell_type": "code",
   "execution_count": 29,
   "id": "8bbb26d1-f1db-4d68-a569-6a1fece3f3f9",
   "metadata": {},
   "outputs": [
    {
     "data": {
      "text/plain": [
       "array([[-0.63328129, -0.06667346,  1.16958442, -0.25478202, -0.77330752],\n",
       "       [-0.63328129, -0.04338745, -0.11223397, -0.28269391, -0.26961131],\n",
       "       [-0.63328129, -0.04768618, -0.01000306, -0.33334478,  0.48593301],\n",
       "       ...,\n",
       "       [-0.63328129, -0.07690777,  1.55911042, -0.12293417, -0.52145941],\n",
       "       [-0.63328129, -0.07687187,  0.50324856,  0.03948709, -0.26961131],\n",
       "       [-0.63328129, -0.07686946,  0.51478231, -0.0055541 , -0.26961131]])"
      ]
     },
     "execution_count": 29,
     "metadata": {},
     "output_type": "execute_result"
    }
   ],
   "source": [
    "imputed_data"
   ]
  },
  {
   "cell_type": "code",
   "execution_count": 30,
   "id": "a12d8aaf-e3fe-4c53-97f1-61eb66a1fb35",
   "metadata": {},
   "outputs": [],
   "source": [
    "inversed = scaler.inverse_transform(imputed_data)"
   ]
  },
  {
   "cell_type": "code",
   "execution_count": 31,
   "id": "94438914-1811-449c-9205-5c9b59c1be5e",
   "metadata": {},
   "outputs": [
    {
     "data": {
      "text/plain": [
       "array([[1.0000000e+00, 2.6930000e+02, 7.1000000e+00, 7.7400000e+01,\n",
       "        2.0060000e+03],\n",
       "       [1.0000000e+00, 8.7477400e+02, 2.2100000e+00, 5.6950000e+01,\n",
       "        2.0080000e+03],\n",
       "       [1.0000000e+00, 7.6300000e+02, 2.6000000e+00, 1.9840000e+01,\n",
       "        2.0110000e+03],\n",
       "       ...,\n",
       "       [1.0000000e+00, 3.1915239e+00, 8.5860000e+00, 1.7400000e+02,\n",
       "        2.0070000e+03],\n",
       "       [1.0000000e+00, 4.1250828e+00, 4.5580000e+00, 2.9300000e+02,\n",
       "        2.0080000e+03],\n",
       "       [1.0000000e+00, 4.1877570e+00, 4.6020000e+00, 2.6000000e+02,\n",
       "        2.0080000e+03]])"
      ]
     },
     "execution_count": 31,
     "metadata": {},
     "output_type": "execute_result"
    }
   ],
   "source": [
    "inversed"
   ]
  },
  {
   "cell_type": "code",
   "execution_count": 32,
   "id": "403cb84f-1333-41b6-90c7-858a6089b5c2",
   "metadata": {},
   "outputs": [],
   "source": [
    "df = pd.DataFrame(inversed, columns = df.columns)\n",
    "#df = pd.DataFrame(scaler.inverse_transform(imputed_data), columns = df.columns)"
   ]
  },
  {
   "cell_type": "code",
   "execution_count": 36,
   "id": "ef86912e-0ecd-49cc-ac90-e9642819926f",
   "metadata": {},
   "outputs": [
    {
     "data": {
      "text/plain": [
       "26263.25972011319"
      ]
     },
     "execution_count": 36,
     "metadata": {},
     "output_type": "execute_result"
    }
   ],
   "source": [
    "df['orbital_period'].std()"
   ]
  },
  {
   "cell_type": "code",
   "execution_count": 37,
   "id": "9f54c73c-28fd-4a61-87f2-44e77039e995",
   "metadata": {},
   "outputs": [
    {
     "data": {
      "text/plain": [
       "26014.72830406252"
      ]
     },
     "execution_count": 37,
     "metadata": {},
     "output_type": "execute_result"
    }
   ],
   "source": [
    "df_copy['orbital_period'].std()"
   ]
  },
  {
   "cell_type": "code",
   "execution_count": 38,
   "id": "608a097f-30a4-46e4-9ff1-d60924c423d6",
   "metadata": {},
   "outputs": [
    {
     "data": {
      "text/plain": [
       "3.3325837928457402"
      ]
     },
     "execution_count": 38,
     "metadata": {},
     "output_type": "execute_result"
    }
   ],
   "source": [
    "df['mass'].std()"
   ]
  },
  {
   "cell_type": "code",
   "execution_count": 39,
   "id": "e0bd79f2-1f0e-4c80-b443-373bf61f21c8",
   "metadata": {},
   "outputs": [
    {
     "data": {
      "text/plain": [
       "3.8186166509616046"
      ]
     },
     "execution_count": 39,
     "metadata": {},
     "output_type": "execute_result"
    }
   ],
   "source": [
    "df_copy['mass'].std()"
   ]
  },
  {
   "cell_type": "code",
   "execution_count": null,
   "id": "0b16efa3-61b6-4e12-a4e0-5bfa7320aef1",
   "metadata": {},
   "outputs": [],
   "source": []
  }
 ],
 "metadata": {
  "kernelspec": {
   "display_name": "Python 3 (ipykernel)",
   "language": "python",
   "name": "python3"
  },
  "language_info": {
   "codemirror_mode": {
    "name": "ipython",
    "version": 3
   },
   "file_extension": ".py",
   "mimetype": "text/x-python",
   "name": "python",
   "nbconvert_exporter": "python",
   "pygments_lexer": "ipython3",
   "version": "3.12.2"
  }
 },
 "nbformat": 4,
 "nbformat_minor": 5
}
