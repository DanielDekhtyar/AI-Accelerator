{
 "cells": [
  {
   "cell_type": "code",
   "execution_count": 1,
   "id": "4779a47f-1b5e-418e-9540-f876be761abd",
   "metadata": {},
   "outputs": [],
   "source": [
    "#Alllllll the imports\n",
    "import numpy as np\n",
    "import pandas as pd\n",
    "import matplotlib.pyplot as plt\n",
    "import seaborn as sns\n",
    "from sklearn.model_selection import train_test_split, learning_curve\n",
    "from sklearn.preprocessing import OneHotEncoder, MinMaxScaler, LabelEncoder, StandardScaler\n",
    "from sklearn.metrics import accuracy_score, confusion_matrix, classification_report\n",
    "from sklearn.linear_model import LogisticRegression\n",
    "from sklearn.tree import DecisionTreeClassifier, plot_tree, export_text\n",
    "from sklearn.ensemble import RandomForestClassifier\n",
    "from sklearn import svm\n",
    "from sklearn.neighbors import KNeighborsClassifier\n",
    "from sklearn.impute import KNNImputer\n"
   ]
  },
  {
   "cell_type": "markdown",
   "id": "88becf81-6df1-4043-a538-6813a20e1006",
   "metadata": {},
   "source": [
    "#### A \n",
    "**fill in the missing values with KNN**  \n",
    "\n",
    "\n",
    "load the 'LoanApprovalPrediction.csv' into a data frame  \n",
    "and inspect it. look at data types, nulls etc. \n",
    "finally- create a of code that will return a table (named null_info) with tne names, data types and null percentage of all the columns that have null values in them. makes sure the data is sorted by precentage in ascending order"
   ]
  },
  {
   "cell_type": "code",
   "execution_count": null,
   "id": "8cce1e5f-e559-4e51-9b1f-7b8372121c59",
   "metadata": {},
   "outputs": [],
   "source": []
  },
  {
   "cell_type": "markdown",
   "id": "c73951cf-09db-4f2b-a3e7-53247bd3bd4a",
   "metadata": {},
   "source": [
    "before we go on- make a copy of the data frame for later analysis  \n",
    "call it `df_copy`"
   ]
  },
  {
   "cell_type": "code",
   "execution_count": 10,
   "id": "9a7bd48f-ac44-4ccb-bf2c-7c8eb7fd0ea2",
   "metadata": {},
   "outputs": [],
   "source": []
  },
  {
   "cell_type": "markdown",
   "id": "ae83e611-2107-47c2-ae7d-9772119a177c",
   "metadata": {},
   "source": [
    "If all the missing values are less then 10% you may use the KNN iputer to fill out the missing data.\n",
    "Please make sure you only use numeric data and that you scale the data first.  \n",
    " Use Standard Scaler"
   ]
  },
  {
   "cell_type": "code",
   "execution_count": 11,
   "id": "8fb08287-5947-4a32-a0a3-358f9a182c49",
   "metadata": {},
   "outputs": [],
   "source": []
  },
  {
   "cell_type": "code",
   "execution_count": 12,
   "id": "ab421e92-c018-495c-952f-f38540590401",
   "metadata": {},
   "outputs": [],
   "source": []
  },
  {
   "cell_type": "code",
   "execution_count": 13,
   "id": "d8361864-4f0f-444e-ab69-9ee0877b6274",
   "metadata": {},
   "outputs": [],
   "source": []
  },
  {
   "cell_type": "markdown",
   "id": "dfc348ae-2568-4645-8555-8f93bdcdd15c",
   "metadata": {},
   "source": [
    "**Check the quality of the KNN imputatio**  \n",
    "- Create a KDE plot (using the Seaborn library) for \"Credit_History\" before imputation and compare it with the one after.\n",
    "- Compare the mean, median, and standard deviation (std) of all the relevant columns before and after imputation. If the std is significantly lower, it means the data was incorrectly flattened."
   ]
  },
  {
   "cell_type": "code",
   "execution_count": null,
   "id": "c4ba32e1-d211-4ed3-aa00-6460da3bff8d",
   "metadata": {},
   "outputs": [],
   "source": []
  },
  {
   "cell_type": "code",
   "execution_count": null,
   "id": "f79d482d-eea5-4182-aaee-37cb4c476a85",
   "metadata": {},
   "outputs": [],
   "source": []
  },
  {
   "cell_type": "markdown",
   "id": "2f9c0e95-5ba5-4052-850b-4e0e30937a08",
   "metadata": {},
   "source": [
    "#### B\n",
    "##### **Classification Task Instructions**\n",
    "\n",
    "##### **1. Data Preprocessing**\n",
    "prepare you features and target:\n",
    "- **Encode the target column** using `LabelEncoder()`.  \n",
    "- **Drop** the `Loan_ID` column (it does not provide useful information for prediction).\n",
    "- **One-hot encode** all categorical (`object`) columns using `OneHotEncoder()`.  \n",
    "- **Scale** the numerical features using `StandardScaler()`.\n",
    "\n",
    "##### **2. Train and Evaluate Classification Models**\n",
    "Train the following classification models:\n",
    "- **Logistic Regression**\n",
    "- **Random Forest**\n",
    "- **Support Vector Machine (SVM)**\n",
    "- **K-Nearest Neighbors (KNN)**\n",
    "\n",
    "##### **3. Check for Overfitting**\n",
    "- Split the data into **training (80%)** and **test (20%)** sets.\n",
    "- Train each model on the training set.\n",
    "- Compare **training vs. test accuracy** to detect overfitting.\n",
    "\n",
    "##### **4. Generate an Accuracy Report**\n",
    "For each model:\n",
    "- Print the **classification report** (precision, recall, F1-score).\n",
    "- Compare the **accuracy scores** of all models.\n",
    "- Adjust the **Hyperparameters** to acchive the best results\n",
    "##### **5. Choose the Best Model**\n",
    "- Select the **best-performing** model based on test accuracy and F1-score.\n",
    "- Justify your choice.\n",
    "\n"
   ]
  },
  {
   "cell_type": "code",
   "execution_count": null,
   "id": "320fbd32-2d79-4d0c-9e6f-a4b18739d9d0",
   "metadata": {},
   "outputs": [],
   "source": []
  },
  {
   "cell_type": "code",
   "execution_count": null,
   "id": "356b7993-f532-4c96-865e-3723ecb3d545",
   "metadata": {},
   "outputs": [],
   "source": []
  }
 ],
 "metadata": {
  "kernelspec": {
   "display_name": "Python 3 (ipykernel)",
   "language": "python",
   "name": "python3"
  },
  "language_info": {
   "codemirror_mode": {
    "name": "ipython",
    "version": 3
   },
   "file_extension": ".py",
   "mimetype": "text/x-python",
   "name": "python",
   "nbconvert_exporter": "python",
   "pygments_lexer": "ipython3",
   "version": "3.12.2"
  }
 },
 "nbformat": 4,
 "nbformat_minor": 5
}
