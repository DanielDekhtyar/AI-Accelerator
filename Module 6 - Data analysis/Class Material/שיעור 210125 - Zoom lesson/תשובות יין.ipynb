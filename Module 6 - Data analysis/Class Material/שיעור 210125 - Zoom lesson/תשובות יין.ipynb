{
 "cells": [
  {
   "cell_type": "code",
   "execution_count": null,
   "id": "f9bafcb2-a4a6-43af-abea-abbeef93d185",
   "metadata": {},
   "outputs": [],
   "source": [
    "import pandas as pd\n",
    "import numpy as np\n",
    "from sklearn.datasets import load_wine\n",
    "from sklearn.model_selection import train_test_split\n",
    "from sklearn.linear_model import LogisticRegression\n",
    "from sklearn.tree import DecisionTreeClassifier, plot_tree\n",
    "from sklearn.ensemble import RandomForestClassifier\n",
    "from sklearn.preprocessing import StandardScaler, OneHotEncoder\n",
    "from sklearn.metrics import accuracy_score, confusion_matrix\n",
    "import seaborn as sns\n",
    "import matplotlib.pyplot as plt"
   ]
  },
  {
   "cell_type": "code",
   "execution_count": null,
   "id": "e160626c-ce57-4d49-8523-b21e8642f56f",
   "metadata": {},
   "outputs": [],
   "source": [
    "# Step 1: Load the dataset\n",
    "wine = load_wine()\n",
    "df = pd.DataFrame(wine.data, columns=wine.feature_names)\n",
    "df['target'] = wine.target"
   ]
  },
  {
   "cell_type": "code",
   "execution_count": null,
   "id": "62be2603-1aa2-4da4-bbd8-a99cbad6a8e4",
   "metadata": {},
   "outputs": [],
   "source": [
    "# Step 2: Initial EDA\n",
    "df.head()\n",
    "df.tail()\n",
    "df.isnull().sum()\n",
    "df.dtypes\n"
   ]
  },
  {
   "cell_type": "code",
   "execution_count": null,
   "id": "313d0bed-1889-4d76-8e58-f4acc89ab676",
   "metadata": {},
   "outputs": [],
   "source": [
    "# : Split data into train-test\n",
    "X = df.drop(columns=['target'])\n",
    "y = df['target']\n",
    "X_train, X_test, y_train, y_test = train_test_split(X, y, test_size=0.2, random_state=3)"
   ]
  },
  {
   "cell_type": "code",
   "execution_count": null,
   "id": "762de26a-43df-44e2-9dcc-23dc466664ed",
   "metadata": {},
   "outputs": [],
   "source": [
    "#Step 3 : Initial Model Training\n",
    "models = {\n",
    "    'Logistic Regression': LogisticRegression(max_iter=200),\n",
    "    'Decision Tree': DecisionTreeClassifier(random_state=3),\n",
    "    'Random Forest': RandomForestClassifier(random_state=3)\n",
    "}"
   ]
  },
  {
   "cell_type": "code",
   "execution_count": null,
   "id": "6093d7c5-c122-4019-b8dd-b2ec813aa451",
   "metadata": {},
   "outputs": [],
   "source": [
    "print(\"Initial Model Results:\")\n",
    "for name, model in models.items():\n",
    "    model.fit(X_train, y_train)\n",
    "    y_pred = model.predict(X_test)\n",
    "    print(f\"\\n{name}:\")\n",
    "    print(f\"Accuracy: {accuracy_score(y_test, y_pred):.2f}\")\n",
    "    #print(confusion_matrix(y_test, y_pred))\n",
    "\n",
    "#error due to non scaled data התוצאה חלקית"
   ]
  },
  {
   "cell_type": "code",
   "execution_count": null,
   "id": "c9f716a1-3885-4e28-8aa8-f2ca5c916c8b",
   "metadata": {},
   "outputs": [],
   "source": [
    "# Step 4: Add Scaling\n",
    "scaler = StandardScaler()\n",
    "X_train_scaled = scaler.fit_transform(X_train)\n",
    "X_test_scaled = scaler.transform(X_test)"
   ]
  },
  {
   "cell_type": "code",
   "execution_count": null,
   "id": "51ebb40e-b797-452f-a01b-75bd8434d853",
   "metadata": {},
   "outputs": [],
   "source": [
    "print(\"\\nModel Results After Scaling:\")\n",
    "for name, model in models.items():\n",
    "    model.fit(X_train_scaled, y_train)\n",
    "    y_pred = model.predict(X_test_scaled)\n",
    "    print(f\"\\n{name}:\")\n",
    "    print(f\"Accuracy: {accuracy_score(y_test, y_pred):.2f}\")\n",
    "   \n",
    "   # print(confusion_matrix(y_test, y_pred))"
   ]
  },
  {
   "cell_type": "code",
   "execution_count": null,
   "id": "1b89e8b6-12af-49a7-ac28-75e1e14e381f",
   "metadata": {},
   "outputs": [],
   "source": [
    "# Step 5: Handle Outliers in Residual Sugar (example column)\n",
    "q1 = df['ash'].quantile(0.25)\n",
    "q3 = df['ash'].quantile(0.75)\n",
    "iqr = q3 - q1\n",
    "lower_bound = q1 - 1.5 * iqr\n",
    "upper_bound = q3 + 1.5 * iqr\n",
    "df_outliers_removed = df[(df['ash'] >= lower_bound) & (df['ash'] <= upper_bound)]"
   ]
  },
  {
   "cell_type": "code",
   "execution_count": null,
   "id": "d7935516-9ca9-494c-b45f-f8d0d16c0e50",
   "metadata": {},
   "outputs": [],
   "source": [
    "X = df_outliers_removed.drop(columns=['target'])\n",
    "y = df_outliers_removed['target']\n",
    "X_train, X_test, y_train, y_test = train_test_split(X, y, test_size=0.2, random_state=42)\n",
    "X_train_scaled = scaler.fit_transform(X_train)\n",
    "X_test_scaled = scaler.transform(X_test)"
   ]
  },
  {
   "cell_type": "code",
   "execution_count": null,
   "id": "ac5fd492-a9b1-416f-a189-95fb3fdb4f91",
   "metadata": {},
   "outputs": [],
   "source": [
    "print(\"\\nModel Results After Handling Outliers:\")\n",
    "for name, model in models.items():\n",
    "    model.fit(X_train_scaled, y_train)\n",
    "    y_pred = model.predict(X_test_scaled)\n",
    "    print(f\"\\n{name}:\")\n",
    "    print(f\"Accuracy: {accuracy_score(y_test, y_pred):.2f}\")\n",
    "    print(\"Confusion Matrix:\")\n",
    "    print(confusion_matrix(y_test, y_pred))"
   ]
  },
  {
   "cell_type": "code",
   "execution_count": null,
   "id": "8258ce37-ae8c-4431-b1a5-3412451d5ed7",
   "metadata": {},
   "outputs": [],
   "source": [
    "# Step 8: Fine-tuning Parameters\n",
    "print(\"\\nFine-tuning Logistic Regression:\")\n",
    "log_reg = LogisticRegression(max_iter=500)\n",
    "log_reg.fit(X_train_scaled, y_train)\n",
    "y_pred = log_reg.predict(X_test_scaled)\n",
    "print(f\"Accuracy: {accuracy_score(y_test, y_pred):.2f}\")"
   ]
  },
  {
   "cell_type": "code",
   "execution_count": null,
   "id": "319ec33c-634c-49b1-ac36-ce02b1b39b9c",
   "metadata": {},
   "outputs": [],
   "source": [
    "print(\"\\nFine-tuning Decision Tree:\")\n",
    "dec_tree = DecisionTreeClassifier(max_depth=3, random_state=3)\n",
    "dec_tree.fit(X_train, y_train)\n",
    "y_pred = dec_tree.predict(X_test)\n",
    "print(f\"Accuracy: {accuracy_score(y_test, y_pred):.2f}\")"
   ]
  },
  {
   "cell_type": "code",
   "execution_count": null,
   "id": "437eba1b-bc2e-4d24-b753-d864bccf3c24",
   "metadata": {},
   "outputs": [],
   "source": [
    "print(\"\\nFine-tuning Random Forest:\")\n",
    "rand_forest = RandomForestClassifier(n_estimators=308, random_state=3)\n",
    "rand_forest.fit(X_train, y_train)\n",
    "y_pred = rand_forest.predict(X_test)\n",
    "print(f\"Accuracy: {accuracy_score(y_test, y_pred):.2f}\")"
   ]
  },
  {
   "cell_type": "code",
   "execution_count": null,
   "id": "37d36b6a-5f12-4eb7-a9b6-0bea801595b2",
   "metadata": {},
   "outputs": [],
   "source": [
    "# Step 9: Confusion Matrix Heatmap for Logistic Regression\n",
    "cm = confusion_matrix(y_test, log_reg.predict(X_test_scaled))\n",
    "sns.heatmap(cm, annot=True, fmt='d', cmap='Blues')\n",
    "plt.xlabel('Predicted')\n",
    "plt.ylabel('Actual')\n",
    "plt.title('Confusion Matrix - Logistic Regression')\n",
    "plt.show()"
   ]
  },
  {
   "cell_type": "code",
   "execution_count": null,
   "id": "155fb25e-904b-4542-a7dd-6c028de7b3a5",
   "metadata": {},
   "outputs": [],
   "source": [
    "# Step 10: Feature Importances for Decision Tree\n",
    "feature_importances = pd.DataFrame({'Feature': X.columns, 'Importance': dec_tree.feature_importances_})\n",
    "feature_importances = feature_importances.sort_values(by='Importance', ascending=False)\n",
    "feature_importances.plot(kind='barh', x='Feature', y='Importance', legend=False)\n",
    "plt.xlabel('Importance')\n",
    "plt.ylabel('Feature')\n",
    "plt.title('Feature Importances - Decision Tree')\n",
    "plt.gca().invert_yaxis()\n",
    "plt.show()"
   ]
  },
  {
   "cell_type": "code",
   "execution_count": null,
   "id": "5b163cca-043c-4a20-8951-67f0637812e5",
   "metadata": {},
   "outputs": [],
   "source": [
    "# Step 11: Visualizing Tree 7 in Random Forest\n",
    "plt.figure(figsize=(20, 10))\n",
    "plot_tree(rand_forest.estimators_[6], feature_names=X.columns, filled=True, rounded=True, fontsize=10)\n",
    "plt.title('Tree 7 in Random Forest')\n",
    "plt.show()"
   ]
  },
  {
   "cell_type": "code",
   "execution_count": null,
   "id": "632aa09d-4ad3-4b50-aeaa-30b457e5f5ad",
   "metadata": {},
   "outputs": [],
   "source": []
  }
 ],
 "metadata": {
  "kernelspec": {
   "display_name": "Python 3 (ipykernel)",
   "language": "python",
   "name": "python3"
  },
  "language_info": {
   "codemirror_mode": {
    "name": "ipython",
    "version": 3
   },
   "file_extension": ".py",
   "mimetype": "text/x-python",
   "name": "python",
   "nbconvert_exporter": "python",
   "pygments_lexer": "ipython3",
   "version": "3.12.2"
  }
 },
 "nbformat": 4,
 "nbformat_minor": 5
}
