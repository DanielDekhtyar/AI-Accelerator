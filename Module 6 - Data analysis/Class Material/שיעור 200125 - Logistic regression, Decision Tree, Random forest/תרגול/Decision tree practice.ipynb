{
 "cells": [
  {
   "cell_type": "markdown",
   "id": "7dd9f8a3-9184-4bd1-b3d4-986db8c21cf3",
   "metadata": {},
   "source": [
    "# Exercise: Breast Cancer Classification with Decision Tree\n",
    "\n",
    "## Objective:\n",
    "In this exercise, you will use the Breast Cancer dataset to:\n",
    "1. Build a decision tree to classify whether a tumor is malignant (cancerous) or benign (non-cancerous).\n",
    "2. Visualize the structure of the decision tree.\n",
    "3. Evaluate the model's performance using various metrics.\n",
    "\n",
    "---\n",
    "\n",
    "## Steps:\n",
    "\n",
    "### Step 1: Load the dataset\n",
    "- Use the `load_breast_cancer` dataset from `sklearn.datasets`.\n",
    "- Explore the dataset's structure to understand its features and target.\n",
    "\n",
    "### Step 2: Split the data\n",
    "- Split the data into training and testing sets using `train_test_split`.\n",
    "  - Use an 80/20 split.\n",
    "  - Set `random_state=42` to ensure reproducibility.\n",
    "\n",
    "### Step 3: Train the Decision Tree\n",
    "- Use `DecisionTreeClassifier` from `sklearn.tree` to build the model.\n",
    "- Set `max_depth=4` to limit the tree's complexity.\n",
    "- Fit the model to the training data.\n",
    "\n",
    "### Step 4: Evaluate the Model\n",
    "- Predict the target values for the test set.\n",
    "- Evaluate the model using:\n",
    "  - **Confusion Matrix**: Use `confusion_matrix` from `sklearn.metrics`.\n",
    "  - **Accuracy Score**: Use `accuracy_score` to view precision.\n",
    "\n",
    "### Step 5: Visualize the Decision Tree\n",
    "- Use `export_text` from `sklearn.tree` to display the tree's rules in text format.\n",
    "- Use `plot_tree` to visualize the tree graphically.\n",
    "  - Include feature names and class names for better interpretability.\n",
    "  - Set `filled=True` to add colors to the nodes.\n",
    "\n",
    "---\n",
    "## If You have Time\n",
    "1. try changing the `max_depth` and see the effect it has on the model's quality\n",
    "2. use feature_importances_ to try and eliminate some of less important features\n",
    "\n",
    "### Good luck and have fun exploring decision trees!\n"
   ]
  },
  {
   "cell_type": "code",
   "execution_count": null,
   "id": "b3355496-b5b4-41b4-bc87-32715d1bdf0e",
   "metadata": {},
   "outputs": [],
   "source": [
    "# import all the labraries you need:\n",
    "\n",
    "from sklearn.datasets import load_breast_cancer\n",
    "from sklearn.tree import DecisionTreeClassifier, export_text, plot_tree\n"
   ]
  },
  {
   "cell_type": "code",
   "execution_count": null,
   "id": "5c809b1c-070e-4957-b253-0039656517ab",
   "metadata": {},
   "outputs": [],
   "source": [
    "# Load the data\n"
   ]
  },
  {
   "cell_type": "code",
   "execution_count": null,
   "id": "6a487c58-234e-4bce-a715-16cc95153ffd",
   "metadata": {},
   "outputs": [],
   "source": [
    "# Create a DataFrame\n"
   ]
  },
  {
   "cell_type": "code",
   "execution_count": null,
   "id": "cf5f79a3-cbb2-4235-b366-c6126c18928e",
   "metadata": {},
   "outputs": [],
   "source": [
    "# Split the data into training and test sets\n",
    "\n",
    "# Train a Decision Tree\n",
    "\n",
    "# Evaluate the model\n",
    "\n"
   ]
  },
  {
   "cell_type": "code",
   "execution_count": null,
   "id": "0885f8b9-81b1-44ea-80c0-27722c5cefa3",
   "metadata": {},
   "outputs": [],
   "source": [
    "# Display the tree as text with export_text\n"
   ]
  },
  {
   "cell_type": "code",
   "execution_count": null,
   "id": "da4610c2-f53d-4b6a-a64d-13373b861b3c",
   "metadata": {},
   "outputs": [],
   "source": [
    "# Visualize the tree\n"
   ]
  },
  {
   "cell_type": "code",
   "execution_count": null,
   "id": "94408da9-e94d-4537-9242-6188aa98ec5b",
   "metadata": {},
   "outputs": [],
   "source": [
    "#examin feature_importances_ \n",
    "\n"
   ]
  },
  {
   "cell_type": "code",
   "execution_count": null,
   "id": "55c910e4-671b-4e28-a1b4-406c598e3d77",
   "metadata": {},
   "outputs": [],
   "source": []
  },
  {
   "cell_type": "code",
   "execution_count": null,
   "id": "9d106fb2-af9f-47de-ae02-d84c1abf1900",
   "metadata": {},
   "outputs": [],
   "source": []
  }
 ],
 "metadata": {
  "kernelspec": {
   "display_name": "Python 3 (ipykernel)",
   "language": "python",
   "name": "python3"
  },
  "language_info": {
   "codemirror_mode": {
    "name": "ipython",
    "version": 3
   },
   "file_extension": ".py",
   "mimetype": "text/x-python",
   "name": "python",
   "nbconvert_exporter": "python",
   "pygments_lexer": "ipython3",
   "version": "3.12.2"
  }
 },
 "nbformat": 4,
 "nbformat_minor": 5
}
