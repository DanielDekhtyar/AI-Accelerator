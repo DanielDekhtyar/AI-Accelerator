{
 "cells": [
  {
   "cell_type": "markdown",
   "id": "7dc2d37a-3f28-42bf-b052-2a824186b945",
   "metadata": {},
   "source": [
    "# Exercise: Breast Cancer Classification with Random Forest\n",
    "\n",
    "## Objective:\n",
    "Use the Breast Cancer dataset to:\n",
    "1. Train a Random Forest model to classify tumors as malignant or benign.\n",
    "2. Evaluate the model using accuracy and a confusion matrix.\n",
    "3. Analyze feature importances to understand which features are most significant.\n",
    "\n",
    "---\n",
    "\n",
    "## Instructions:\n",
    "\n",
    "### Step 1: Load the Dataset\n",
    "- Use the `load_breast_cancer` dataset from `sklearn.datasets`.\n",
    "- Convert it to a Pandas DataFrame to better visualize and manipulate the data.\n",
    "- Separate the features (X) and the target (y).\n",
    "\n",
    "### Step 2: Split the Data\n",
    "- Split the dataset into training and testing sets using `train_test_split`.\n",
    "  - Use an 80/20 split.\n",
    "  - Set `random_state=42` for reproducibility.\n",
    "\n",
    "### Step 3: Train a Random Forest Model\n",
    "- Use `RandomForestClassifier` from `sklearn.ensemble`.\n",
    "- Set `n_estimators=100` and `max_depth=5`.\n",
    "- Train the model on the training set.\n",
    "\n",
    "### Step 4: Evaluate the Model\n",
    "- Predict the target for the test set.\n",
    "- Use the `confusion_matrix` from `sklearn.metrics` to evaluate the predictions.\n",
    "- Calculate the model's accuracy using `accuracy_score`.\n",
    "\n",
    "### Step 5: Visualize the Confusion Matrix\n",
    "- Use `seaborn.heatmap` to plot the confusion matrix.\n",
    "  - Label the axes with \"Predicted\" and \"Actual\".\n",
    "  - Add a title: \"Confusion Matrix - Random Forest\".\n",
    "  - you can use\n",
    "  ```python\n",
    "            xticklabels=cancer.target_names, \n",
    "            yticklabels=cancer.target_names\n",
    "  ```\n",
    "to extract the feature names.\n",
    "\n",
    "### Step 6: Analyze Feature Importances\n",
    "- Extract the feature importances using `rf.feature_importances_`.\n",
    "- Display the feature importances in a sorted table.\n",
    "- Visualize the feature importances using a bar chart\n",
    "\n",
    "### if you have time:\n",
    "- try changing the number of trees to 1000 and to 10- what was the effect?\n",
    "- you can try using plt.barh instead of plt.bar in step 6 with :\n",
    "  ```python\n",
    "  plt.gca().invert_yaxis() \n",
    "  ``` \n",
    "  To display the most important feature at the top\n",
    " \n"
   ]
  },
  {
   "cell_type": "code",
   "execution_count": null,
   "id": "ab3ef17f-1345-4e1a-809b-2cb53b5208f7",
   "metadata": {},
   "outputs": [],
   "source": [
    "# Exercise: Breast Cancer Classification with Random Forest\n",
    "\n",
    "# Import libraries\n"
   ]
  },
  {
   "cell_type": "code",
   "execution_count": null,
   "id": "f71355e7-9b40-44c3-8892-dbc61b2e5d29",
   "metadata": {},
   "outputs": [],
   "source": [
    "# Step 1: Load the dataset\n",
    "\n",
    "# Convert to DataFrame for better visualization\n",
    "\n",
    "# Step 2: Split the data into training and testing sets\n"
   ]
  },
  {
   "cell_type": "code",
   "execution_count": null,
   "id": "784f73f5-bebd-4e38-9f88-4acfd51e6311",
   "metadata": {},
   "outputs": [],
   "source": [
    "# Step 3: Train a Random Forest model\n"
   ]
  },
  {
   "cell_type": "code",
   "execution_count": null,
   "id": "f0925043-8d74-4447-92ef-931cf7da9ec0",
   "metadata": {},
   "outputs": [],
   "source": [
    "# Step 4: Evaluate the model\n",
    "# Predict on the test set\n",
    "\n",
    "# Confusion Matrix\n",
    "\n",
    "\n",
    "# Accuracy\n"
   ]
  },
  {
   "cell_type": "code",
   "execution_count": null,
   "id": "262b7cde-bbad-4145-82f5-ccff2b9ec580",
   "metadata": {},
   "outputs": [],
   "source": [
    "# Step 5: Visualize the Confusion Matrix\n"
   ]
  },
  {
   "cell_type": "code",
   "execution_count": null,
   "id": "5a6eb181-1729-4c48-92b6-9d8424ce6712",
   "metadata": {},
   "outputs": [],
   "source": [
    "# Step 6: Feature Importances\n",
    "#create the data frame of feature name and importance\n"
   ]
  },
  {
   "cell_type": "code",
   "execution_count": null,
   "id": "4dc107b5-c0fd-4700-9abd-e4da3bd2df48",
   "metadata": {},
   "outputs": [],
   "source": [
    "# Visualize Feature Importances\n"
   ]
  },
  {
   "cell_type": "code",
   "execution_count": null,
   "id": "67db2bfc-89ae-442a-a37a-fc24fdd129cd",
   "metadata": {},
   "outputs": [],
   "source": [
    "\n"
   ]
  },
  {
   "cell_type": "code",
   "execution_count": null,
   "id": "98ea7d20-51bd-4369-9b15-34d594afc984",
   "metadata": {},
   "outputs": [],
   "source": []
  }
 ],
 "metadata": {
  "kernelspec": {
   "display_name": "Python 3 (ipykernel)",
   "language": "python",
   "name": "python3"
  },
  "language_info": {
   "codemirror_mode": {
    "name": "ipython",
    "version": 3
   },
   "file_extension": ".py",
   "mimetype": "text/x-python",
   "name": "python",
   "nbconvert_exporter": "python",
   "pygments_lexer": "ipython3",
   "version": "3.12.2"
  }
 },
 "nbformat": 4,
 "nbformat_minor": 5
}
