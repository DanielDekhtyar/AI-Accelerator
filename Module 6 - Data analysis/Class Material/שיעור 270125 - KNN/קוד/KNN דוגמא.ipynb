{
 "cells": [
  {
   "cell_type": "code",
   "execution_count": null,
   "id": "b39f22e8-ed9f-4fa1-9b8b-7a670e9c937a",
   "metadata": {},
   "outputs": [],
   "source": [
    "import pandas as pd\n",
    "import numpy as np\n",
    "import matplotlib.pyplot as plt\n",
    "import seaborn as sns\n",
    "from sklearn.preprocessing import StandardScaler , MinMaxScaler\n",
    "from sklearn.model_selection import train_test_split\n",
    "\n",
    "from sklearn.neighbors import KNeighborsClassifier #!!\n",
    "\n",
    "from sklearn.metrics import classification_report, confusion_matrix, accuracy_score"
   ]
  },
  {
   "cell_type": "code",
   "execution_count": null,
   "id": "e99be544-be3c-4710-bce1-5465671c51df",
   "metadata": {},
   "outputs": [],
   "source": [
    "df= pd.read_csv('titanic.csv')\n",
    "\n",
    "df.info()"
   ]
  },
  {
   "cell_type": "code",
   "execution_count": null,
   "id": "0f7895e9-aa27-4c6d-bb97-dc6fa71fcec9",
   "metadata": {},
   "outputs": [],
   "source": [
    "df = df.drop(['PassengerId','Name','Ticket','Cabin'], axis =1)\n",
    "\n",
    "df['Age']= df['Age'].fillna(df['Age'].median())\n",
    "df['Embarked']=df['Embarked'].fillna(df['Embarked'].mode()[0])\n",
    "\n",
    "X= df.drop('Survived',axis =1)\n",
    "y =df['Survived']\n",
    "\n",
    "X=pd.get_dummies(X) #it will only tuch the categories\n",
    "\n",
    "#Scaling- Supper important\n",
    "scaler = StandardScaler()\n",
    "X_scaled = scaler.fit_transform(X)\n",
    "\n",
    "X_train, X_test, y_train, y_test = train_test_split(X,y, test_size =0.2 , random_state =42)"
   ]
  },
  {
   "cell_type": "code",
   "execution_count": null,
   "id": "125ff6d4-9ffa-4a93-89f5-d7add6caba66",
   "metadata": {},
   "outputs": [],
   "source": [
    "knn = KNeighborsClassifier(n_neighbors=7)\n",
    "knn.fit(X_train, y_train)\n",
    "y_pred= knn.predict(X_test)\n",
    "accuracy_score(y_test, y_pred)"
   ]
  },
  {
   "cell_type": "code",
   "execution_count": null,
   "id": "76a4a6c3-6a36-48fe-a24a-23cd220d704e",
   "metadata": {},
   "outputs": [],
   "source": [
    "knn = KNeighborsClassifier(n_neighbors=7,p=1)\n",
    "knn.fit(X_train, y_train)\n",
    "y_pred= knn.predict(X_test)\n",
    "accuracy_score(y_test, y_pred)"
   ]
  },
  {
   "cell_type": "code",
   "execution_count": null,
   "id": "03af311b-a4e5-4f10-bbb6-47df8989086a",
   "metadata": {},
   "outputs": [],
   "source": [
    "df"
   ]
  },
  {
   "cell_type": "code",
   "execution_count": null,
   "id": "ad21a02c-3a8a-4e7e-a2fe-be28f44d1879",
   "metadata": {},
   "outputs": [],
   "source": [
    "knn = KNeighborsClassifier(n_neighbors=7,p=1,  weights='distance')\n",
    "knn.fit(X_train, y_train)\n",
    "y_pred= knn.predict(X_test)\n",
    "accuracy_score(y_test, y_pred)"
   ]
  },
  {
   "cell_type": "markdown",
   "id": "a6d530f7-57a1-4a60-a074-6b56c46117f5",
   "metadata": {},
   "source": [
    "KNN IMPUTER"
   ]
  },
  {
   "cell_type": "code",
   "execution_count": 247,
   "id": "d4368810-c150-47a4-976e-2d6a3df9b3b1",
   "metadata": {},
   "outputs": [],
   "source": [
    "from sklearn.impute import KNNImputer"
   ]
  },
  {
   "cell_type": "code",
   "execution_count": 249,
   "id": "b06ada95-fefc-45b9-ab23-bfaa77059dff",
   "metadata": {},
   "outputs": [],
   "source": [
    "df = sns.load_dataset('penguins')"
   ]
  },
  {
   "cell_type": "code",
   "execution_count": 251,
   "id": "44ad70cf-4d49-4810-a1d4-74b086ea8aca",
   "metadata": {},
   "outputs": [
    {
     "data": {
      "text/plain": [
       "species               0\n",
       "island                0\n",
       "bill_length_mm        2\n",
       "bill_depth_mm         2\n",
       "flipper_length_mm     2\n",
       "body_mass_g           2\n",
       "sex                  11\n",
       "dtype: int64"
      ]
     },
     "execution_count": 251,
     "metadata": {},
     "output_type": "execute_result"
    }
   ],
   "source": [
    "df.isnull().sum()"
   ]
  },
  {
   "cell_type": "code",
   "execution_count": 253,
   "id": "ee8f5b0b-befc-44a0-b5e1-580bc3b9f48f",
   "metadata": {},
   "outputs": [
    {
     "data": {
      "text/html": [
       "<div>\n",
       "<style scoped>\n",
       "    .dataframe tbody tr th:only-of-type {\n",
       "        vertical-align: middle;\n",
       "    }\n",
       "\n",
       "    .dataframe tbody tr th {\n",
       "        vertical-align: top;\n",
       "    }\n",
       "\n",
       "    .dataframe thead th {\n",
       "        text-align: right;\n",
       "    }\n",
       "</style>\n",
       "<table border=\"1\" class=\"dataframe\">\n",
       "  <thead>\n",
       "    <tr style=\"text-align: right;\">\n",
       "      <th></th>\n",
       "      <th>species</th>\n",
       "      <th>island</th>\n",
       "      <th>bill_length_mm</th>\n",
       "      <th>bill_depth_mm</th>\n",
       "      <th>flipper_length_mm</th>\n",
       "      <th>body_mass_g</th>\n",
       "      <th>sex</th>\n",
       "    </tr>\n",
       "  </thead>\n",
       "  <tbody>\n",
       "    <tr>\n",
       "      <th>3</th>\n",
       "      <td>Adelie</td>\n",
       "      <td>Torgersen</td>\n",
       "      <td>NaN</td>\n",
       "      <td>NaN</td>\n",
       "      <td>NaN</td>\n",
       "      <td>NaN</td>\n",
       "      <td>NaN</td>\n",
       "    </tr>\n",
       "    <tr>\n",
       "      <th>8</th>\n",
       "      <td>Adelie</td>\n",
       "      <td>Torgersen</td>\n",
       "      <td>34.1</td>\n",
       "      <td>18.1</td>\n",
       "      <td>193.0</td>\n",
       "      <td>3475.0</td>\n",
       "      <td>NaN</td>\n",
       "    </tr>\n",
       "    <tr>\n",
       "      <th>9</th>\n",
       "      <td>Adelie</td>\n",
       "      <td>Torgersen</td>\n",
       "      <td>42.0</td>\n",
       "      <td>20.2</td>\n",
       "      <td>190.0</td>\n",
       "      <td>4250.0</td>\n",
       "      <td>NaN</td>\n",
       "    </tr>\n",
       "    <tr>\n",
       "      <th>10</th>\n",
       "      <td>Adelie</td>\n",
       "      <td>Torgersen</td>\n",
       "      <td>37.8</td>\n",
       "      <td>17.1</td>\n",
       "      <td>186.0</td>\n",
       "      <td>3300.0</td>\n",
       "      <td>NaN</td>\n",
       "    </tr>\n",
       "    <tr>\n",
       "      <th>11</th>\n",
       "      <td>Adelie</td>\n",
       "      <td>Torgersen</td>\n",
       "      <td>37.8</td>\n",
       "      <td>17.3</td>\n",
       "      <td>180.0</td>\n",
       "      <td>3700.0</td>\n",
       "      <td>NaN</td>\n",
       "    </tr>\n",
       "    <tr>\n",
       "      <th>47</th>\n",
       "      <td>Adelie</td>\n",
       "      <td>Dream</td>\n",
       "      <td>37.5</td>\n",
       "      <td>18.9</td>\n",
       "      <td>179.0</td>\n",
       "      <td>2975.0</td>\n",
       "      <td>NaN</td>\n",
       "    </tr>\n",
       "    <tr>\n",
       "      <th>246</th>\n",
       "      <td>Gentoo</td>\n",
       "      <td>Biscoe</td>\n",
       "      <td>44.5</td>\n",
       "      <td>14.3</td>\n",
       "      <td>216.0</td>\n",
       "      <td>4100.0</td>\n",
       "      <td>NaN</td>\n",
       "    </tr>\n",
       "    <tr>\n",
       "      <th>286</th>\n",
       "      <td>Gentoo</td>\n",
       "      <td>Biscoe</td>\n",
       "      <td>46.2</td>\n",
       "      <td>14.4</td>\n",
       "      <td>214.0</td>\n",
       "      <td>4650.0</td>\n",
       "      <td>NaN</td>\n",
       "    </tr>\n",
       "    <tr>\n",
       "      <th>324</th>\n",
       "      <td>Gentoo</td>\n",
       "      <td>Biscoe</td>\n",
       "      <td>47.3</td>\n",
       "      <td>13.8</td>\n",
       "      <td>216.0</td>\n",
       "      <td>4725.0</td>\n",
       "      <td>NaN</td>\n",
       "    </tr>\n",
       "    <tr>\n",
       "      <th>336</th>\n",
       "      <td>Gentoo</td>\n",
       "      <td>Biscoe</td>\n",
       "      <td>44.5</td>\n",
       "      <td>15.7</td>\n",
       "      <td>217.0</td>\n",
       "      <td>4875.0</td>\n",
       "      <td>NaN</td>\n",
       "    </tr>\n",
       "    <tr>\n",
       "      <th>339</th>\n",
       "      <td>Gentoo</td>\n",
       "      <td>Biscoe</td>\n",
       "      <td>NaN</td>\n",
       "      <td>NaN</td>\n",
       "      <td>NaN</td>\n",
       "      <td>NaN</td>\n",
       "      <td>NaN</td>\n",
       "    </tr>\n",
       "  </tbody>\n",
       "</table>\n",
       "</div>"
      ],
      "text/plain": [
       "    species     island  bill_length_mm  bill_depth_mm  flipper_length_mm  \\\n",
       "3    Adelie  Torgersen             NaN            NaN                NaN   \n",
       "8    Adelie  Torgersen            34.1           18.1              193.0   \n",
       "9    Adelie  Torgersen            42.0           20.2              190.0   \n",
       "10   Adelie  Torgersen            37.8           17.1              186.0   \n",
       "11   Adelie  Torgersen            37.8           17.3              180.0   \n",
       "47   Adelie      Dream            37.5           18.9              179.0   \n",
       "246  Gentoo     Biscoe            44.5           14.3              216.0   \n",
       "286  Gentoo     Biscoe            46.2           14.4              214.0   \n",
       "324  Gentoo     Biscoe            47.3           13.8              216.0   \n",
       "336  Gentoo     Biscoe            44.5           15.7              217.0   \n",
       "339  Gentoo     Biscoe             NaN            NaN                NaN   \n",
       "\n",
       "     body_mass_g  sex  \n",
       "3            NaN  NaN  \n",
       "8         3475.0  NaN  \n",
       "9         4250.0  NaN  \n",
       "10        3300.0  NaN  \n",
       "11        3700.0  NaN  \n",
       "47        2975.0  NaN  \n",
       "246       4100.0  NaN  \n",
       "286       4650.0  NaN  \n",
       "324       4725.0  NaN  \n",
       "336       4875.0  NaN  \n",
       "339          NaN  NaN  "
      ]
     },
     "execution_count": 253,
     "metadata": {},
     "output_type": "execute_result"
    }
   ],
   "source": [
    "rows_to_check = df[df['sex'].isnull()].index\n",
    "df[df['sex'].isnull()]"
   ]
  },
  {
   "cell_type": "code",
   "execution_count": 255,
   "id": "561ad5c4-cc3c-4a25-98ce-899f653c8cf1",
   "metadata": {},
   "outputs": [
    {
     "data": {
      "text/plain": [
       "Index([3, 8, 9, 10, 11, 47, 246, 286, 324, 336, 339], dtype='int64')"
      ]
     },
     "execution_count": 255,
     "metadata": {},
     "output_type": "execute_result"
    }
   ],
   "source": [
    "rows_to_check"
   ]
  },
  {
   "cell_type": "code",
   "execution_count": 257,
   "id": "063b2575-eec8-44d4-a4a9-bfc55c62c7db",
   "metadata": {},
   "outputs": [],
   "source": [
    "dfn = df.select_dtypes('number')"
   ]
  },
  {
   "cell_type": "code",
   "execution_count": 259,
   "id": "de5842b3-d039-4a85-951d-49ca200ca791",
   "metadata": {},
   "outputs": [
    {
     "name": "stdout",
     "output_type": "stream",
     "text": [
      "<class 'pandas.core.frame.DataFrame'>\n",
      "RangeIndex: 344 entries, 0 to 343\n",
      "Data columns (total 4 columns):\n",
      " #   Column             Non-Null Count  Dtype  \n",
      "---  ------             --------------  -----  \n",
      " 0   bill_length_mm     342 non-null    float64\n",
      " 1   bill_depth_mm      342 non-null    float64\n",
      " 2   flipper_length_mm  342 non-null    float64\n",
      " 3   body_mass_g        342 non-null    float64\n",
      "dtypes: float64(4)\n",
      "memory usage: 10.9 KB\n"
     ]
    }
   ],
   "source": [
    "dfn.info()"
   ]
  },
  {
   "cell_type": "code",
   "execution_count": 261,
   "id": "9047a580-416a-440f-8132-c5c038ace448",
   "metadata": {},
   "outputs": [],
   "source": [
    "scaler = StandardScaler()\n",
    "scaled_data = scaler.fit_transform(dfn)"
   ]
  },
  {
   "cell_type": "code",
   "execution_count": 263,
   "id": "428c593e-9a0a-4a55-b9ee-db274fe74826",
   "metadata": {},
   "outputs": [],
   "source": [
    "#encode\n",
    "scaled_data = pd.DataFrame(scaled_data, columns = dfn.columns)"
   ]
  },
  {
   "cell_type": "code",
   "execution_count": 265,
   "id": "e78bcba4-e989-43cc-b248-25a43ba2e04d",
   "metadata": {},
   "outputs": [
    {
     "data": {
      "text/html": [
       "<div>\n",
       "<style scoped>\n",
       "    .dataframe tbody tr th:only-of-type {\n",
       "        vertical-align: middle;\n",
       "    }\n",
       "\n",
       "    .dataframe tbody tr th {\n",
       "        vertical-align: top;\n",
       "    }\n",
       "\n",
       "    .dataframe thead th {\n",
       "        text-align: right;\n",
       "    }\n",
       "</style>\n",
       "<table border=\"1\" class=\"dataframe\">\n",
       "  <thead>\n",
       "    <tr style=\"text-align: right;\">\n",
       "      <th></th>\n",
       "      <th>bill_length_mm</th>\n",
       "      <th>bill_depth_mm</th>\n",
       "      <th>flipper_length_mm</th>\n",
       "      <th>body_mass_g</th>\n",
       "    </tr>\n",
       "  </thead>\n",
       "  <tbody>\n",
       "    <tr>\n",
       "      <th>0</th>\n",
       "      <td>-0.884499</td>\n",
       "      <td>0.785449</td>\n",
       "      <td>-1.418347</td>\n",
       "      <td>-0.564142</td>\n",
       "    </tr>\n",
       "    <tr>\n",
       "      <th>1</th>\n",
       "      <td>-0.811126</td>\n",
       "      <td>0.126188</td>\n",
       "      <td>-1.062250</td>\n",
       "      <td>-0.501703</td>\n",
       "    </tr>\n",
       "    <tr>\n",
       "      <th>2</th>\n",
       "      <td>-0.664380</td>\n",
       "      <td>0.430462</td>\n",
       "      <td>-0.421277</td>\n",
       "      <td>-1.188532</td>\n",
       "    </tr>\n",
       "    <tr>\n",
       "      <th>3</th>\n",
       "      <td>NaN</td>\n",
       "      <td>NaN</td>\n",
       "      <td>NaN</td>\n",
       "      <td>NaN</td>\n",
       "    </tr>\n",
       "    <tr>\n",
       "      <th>4</th>\n",
       "      <td>-1.324737</td>\n",
       "      <td>1.089724</td>\n",
       "      <td>-0.563715</td>\n",
       "      <td>-0.938776</td>\n",
       "    </tr>\n",
       "    <tr>\n",
       "      <th>...</th>\n",
       "      <td>...</td>\n",
       "      <td>...</td>\n",
       "      <td>...</td>\n",
       "      <td>...</td>\n",
       "    </tr>\n",
       "    <tr>\n",
       "      <th>339</th>\n",
       "      <td>NaN</td>\n",
       "      <td>NaN</td>\n",
       "      <td>NaN</td>\n",
       "      <td>NaN</td>\n",
       "    </tr>\n",
       "    <tr>\n",
       "      <th>340</th>\n",
       "      <td>0.527932</td>\n",
       "      <td>-1.445897</td>\n",
       "      <td>1.003109</td>\n",
       "      <td>0.809516</td>\n",
       "    </tr>\n",
       "    <tr>\n",
       "      <th>341</th>\n",
       "      <td>1.188289</td>\n",
       "      <td>-0.735923</td>\n",
       "      <td>1.501644</td>\n",
       "      <td>1.933419</td>\n",
       "    </tr>\n",
       "    <tr>\n",
       "      <th>342</th>\n",
       "      <td>0.234440</td>\n",
       "      <td>-1.192335</td>\n",
       "      <td>0.789451</td>\n",
       "      <td>1.246590</td>\n",
       "    </tr>\n",
       "    <tr>\n",
       "      <th>343</th>\n",
       "      <td>1.096572</td>\n",
       "      <td>-0.533073</td>\n",
       "      <td>0.860670</td>\n",
       "      <td>1.496346</td>\n",
       "    </tr>\n",
       "  </tbody>\n",
       "</table>\n",
       "<p>344 rows × 4 columns</p>\n",
       "</div>"
      ],
      "text/plain": [
       "     bill_length_mm  bill_depth_mm  flipper_length_mm  body_mass_g\n",
       "0         -0.884499       0.785449          -1.418347    -0.564142\n",
       "1         -0.811126       0.126188          -1.062250    -0.501703\n",
       "2         -0.664380       0.430462          -0.421277    -1.188532\n",
       "3               NaN            NaN                NaN          NaN\n",
       "4         -1.324737       1.089724          -0.563715    -0.938776\n",
       "..              ...            ...                ...          ...\n",
       "339             NaN            NaN                NaN          NaN\n",
       "340        0.527932      -1.445897           1.003109     0.809516\n",
       "341        1.188289      -0.735923           1.501644     1.933419\n",
       "342        0.234440      -1.192335           0.789451     1.246590\n",
       "343        1.096572      -0.533073           0.860670     1.496346\n",
       "\n",
       "[344 rows x 4 columns]"
      ]
     },
     "execution_count": 265,
     "metadata": {},
     "output_type": "execute_result"
    }
   ],
   "source": [
    "scaled_data"
   ]
  },
  {
   "cell_type": "code",
   "execution_count": 267,
   "id": "f2239dbd-78e1-46b6-9845-530ef5e84689",
   "metadata": {},
   "outputs": [],
   "source": [
    "sex= df['sex'].astype('category').cat.codes.replace(-1,np.nan)"
   ]
  },
  {
   "cell_type": "code",
   "execution_count": 269,
   "id": "4d65a611-f009-4a09-9c0a-4ae0d32caf6a",
   "metadata": {},
   "outputs": [
    {
     "name": "stdout",
     "output_type": "stream",
     "text": [
      "<class 'pandas.core.frame.DataFrame'>\n",
      "RangeIndex: 344 entries, 0 to 343\n",
      "Data columns (total 7 columns):\n",
      " #   Column             Non-Null Count  Dtype  \n",
      "---  ------             --------------  -----  \n",
      " 0   species            344 non-null    object \n",
      " 1   island             344 non-null    object \n",
      " 2   bill_length_mm     342 non-null    float64\n",
      " 3   bill_depth_mm      342 non-null    float64\n",
      " 4   flipper_length_mm  342 non-null    float64\n",
      " 5   body_mass_g        342 non-null    float64\n",
      " 6   sex                333 non-null    object \n",
      "dtypes: float64(4), object(3)\n",
      "memory usage: 18.9+ KB\n"
     ]
    }
   ],
   "source": [
    "df.info()"
   ]
  },
  {
   "cell_type": "code",
   "execution_count": 271,
   "id": "76ccbcbe-e3c8-4c72-b9f4-e53edb538a40",
   "metadata": {},
   "outputs": [],
   "source": [
    "dfn = pd.concat([scaled_data,sex],axis =1)"
   ]
  },
  {
   "cell_type": "code",
   "execution_count": null,
   "id": "851c514e-dd52-4489-be9c-db406a262097",
   "metadata": {},
   "outputs": [],
   "source": [
    "dfn.head(1)"
   ]
  },
  {
   "cell_type": "code",
   "execution_count": 273,
   "id": "65bd5ee7-43f5-46c2-9bae-86460503140d",
   "metadata": {},
   "outputs": [],
   "source": [
    "dfn.columns.values[-1] = 'sex'"
   ]
  },
  {
   "cell_type": "code",
   "execution_count": null,
   "id": "099217f7-7785-46ac-9390-04ee1730604e",
   "metadata": {},
   "outputs": [],
   "source": [
    "dfn.head(10)"
   ]
  },
  {
   "cell_type": "code",
   "execution_count": 275,
   "id": "1e11200a-1661-44ef-afe0-f11a93c0c776",
   "metadata": {},
   "outputs": [],
   "source": [
    "#KNN\n",
    "imputer = KNNImputer( n_neighbors=3, weights= 'distance')\n",
    "imputed = imputer.fit_transform(dfn)"
   ]
  },
  {
   "cell_type": "code",
   "execution_count": 299,
   "id": "15c7fb0f-0b3a-4ba8-a6dd-a640b33ffd50",
   "metadata": {},
   "outputs": [
    {
     "data": {
      "text/plain": [
       "array([[-0.88449874,  0.78544923, -1.41834665, -0.56414208,  1.        ],\n",
       "       [-0.81112573,  0.1261879 , -1.06225022, -0.50170305,  0.        ],\n",
       "       [-0.66437972,  0.43046236, -0.42127665, -1.18853234,  0.        ],\n",
       "       ...,\n",
       "       [ 1.18828874, -0.73592307,  1.50164406,  1.93341896,  1.        ],\n",
       "       [ 0.23443963, -1.19233476,  0.7894512 ,  1.24658968,  0.        ],\n",
       "       [ 1.09657248, -0.53307343,  0.86067049,  1.49634578,  1.        ]])"
      ]
     },
     "execution_count": 299,
     "metadata": {},
     "output_type": "execute_result"
    }
   ],
   "source": [
    "imputed"
   ]
  },
  {
   "cell_type": "code",
   "execution_count": 277,
   "id": "d171508e-7971-4a65-9cd0-eefdac1b4643",
   "metadata": {},
   "outputs": [],
   "source": [
    "dfn = pd.DataFrame(imputed, columns = dfn.columns)"
   ]
  },
  {
   "cell_type": "code",
   "execution_count": 279,
   "id": "13e8d278-b812-497b-b63e-eb400b73ab15",
   "metadata": {},
   "outputs": [
    {
     "data": {
      "text/html": [
       "<div>\n",
       "<style scoped>\n",
       "    .dataframe tbody tr th:only-of-type {\n",
       "        vertical-align: middle;\n",
       "    }\n",
       "\n",
       "    .dataframe tbody tr th {\n",
       "        vertical-align: top;\n",
       "    }\n",
       "\n",
       "    .dataframe thead th {\n",
       "        text-align: right;\n",
       "    }\n",
       "</style>\n",
       "<table border=\"1\" class=\"dataframe\">\n",
       "  <thead>\n",
       "    <tr style=\"text-align: right;\">\n",
       "      <th></th>\n",
       "      <th>bill_length_mm</th>\n",
       "      <th>bill_depth_mm</th>\n",
       "      <th>flipper_length_mm</th>\n",
       "      <th>body_mass_g</th>\n",
       "      <th>sex</th>\n",
       "    </tr>\n",
       "  </thead>\n",
       "  <tbody>\n",
       "    <tr>\n",
       "      <th>0</th>\n",
       "      <td>-8.844987e-01</td>\n",
       "      <td>7.854492e-01</td>\n",
       "      <td>-1.418347e+00</td>\n",
       "      <td>-5.641421e-01</td>\n",
       "      <td>1.000000</td>\n",
       "    </tr>\n",
       "    <tr>\n",
       "      <th>1</th>\n",
       "      <td>-8.111257e-01</td>\n",
       "      <td>1.261879e-01</td>\n",
       "      <td>-1.062250e+00</td>\n",
       "      <td>-5.017031e-01</td>\n",
       "      <td>0.000000</td>\n",
       "    </tr>\n",
       "    <tr>\n",
       "      <th>2</th>\n",
       "      <td>-6.643797e-01</td>\n",
       "      <td>4.304624e-01</td>\n",
       "      <td>-4.212767e-01</td>\n",
       "      <td>-1.188532e+00</td>\n",
       "      <td>0.000000</td>\n",
       "    </tr>\n",
       "    <tr>\n",
       "      <th>3</th>\n",
       "      <td>8.310441e-17</td>\n",
       "      <td>-1.412775e-15</td>\n",
       "      <td>-8.310441e-16</td>\n",
       "      <td>4.155221e-17</td>\n",
       "      <td>0.504505</td>\n",
       "    </tr>\n",
       "    <tr>\n",
       "      <th>4</th>\n",
       "      <td>-1.324737e+00</td>\n",
       "      <td>1.089724e+00</td>\n",
       "      <td>-5.637152e-01</td>\n",
       "      <td>-9.387762e-01</td>\n",
       "      <td>0.000000</td>\n",
       "    </tr>\n",
       "  </tbody>\n",
       "</table>\n",
       "</div>"
      ],
      "text/plain": [
       "   bill_length_mm  bill_depth_mm  flipper_length_mm   body_mass_g       sex\n",
       "0   -8.844987e-01   7.854492e-01      -1.418347e+00 -5.641421e-01  1.000000\n",
       "1   -8.111257e-01   1.261879e-01      -1.062250e+00 -5.017031e-01  0.000000\n",
       "2   -6.643797e-01   4.304624e-01      -4.212767e-01 -1.188532e+00  0.000000\n",
       "3    8.310441e-17  -1.412775e-15      -8.310441e-16  4.155221e-17  0.504505\n",
       "4   -1.324737e+00   1.089724e+00      -5.637152e-01 -9.387762e-01  0.000000"
      ]
     },
     "execution_count": 279,
     "metadata": {},
     "output_type": "execute_result"
    }
   ],
   "source": [
    "dfn.head()"
   ]
  },
  {
   "cell_type": "code",
   "execution_count": null,
   "id": "3c30988d-dc5d-4d92-9758-88b78d28e0d8",
   "metadata": {},
   "outputs": [],
   "source": [
    "df['sex'].astype('category').cat.categories"
   ]
  },
  {
   "cell_type": "code",
   "execution_count": 283,
   "id": "ea96cacd-db45-4506-8aa6-c728e61af0e1",
   "metadata": {},
   "outputs": [],
   "source": [
    "mapping = dict(enumerate(df['sex'].astype('category').cat.categories))"
   ]
  },
  {
   "cell_type": "code",
   "execution_count": 301,
   "id": "cd1a39cf-a7d5-4768-9196-c6b285e37a87",
   "metadata": {},
   "outputs": [
    {
     "data": {
      "text/plain": [
       "{0: 'Female', 1: 'Male'}"
      ]
     },
     "execution_count": 301,
     "metadata": {},
     "output_type": "execute_result"
    }
   ],
   "source": [
    "mapping"
   ]
  },
  {
   "cell_type": "code",
   "execution_count": null,
   "id": "a71e7f29-380e-4afe-850a-8f4003cd59c5",
   "metadata": {},
   "outputs": [],
   "source": [
    "print(mapping)"
   ]
  },
  {
   "cell_type": "code",
   "execution_count": 285,
   "id": "4eb5289f-9448-45d6-8b74-5d6cbfae3dc5",
   "metadata": {},
   "outputs": [],
   "source": [
    "dfn['sex1'] =round( dfn['sex']).map(mapping)"
   ]
  },
  {
   "cell_type": "code",
   "execution_count": 289,
   "id": "95b8ebfc-2340-4e11-8076-01ca8667bccf",
   "metadata": {},
   "outputs": [
    {
     "data": {
      "text/html": [
       "<div>\n",
       "<style scoped>\n",
       "    .dataframe tbody tr th:only-of-type {\n",
       "        vertical-align: middle;\n",
       "    }\n",
       "\n",
       "    .dataframe tbody tr th {\n",
       "        vertical-align: top;\n",
       "    }\n",
       "\n",
       "    .dataframe thead th {\n",
       "        text-align: right;\n",
       "    }\n",
       "</style>\n",
       "<table border=\"1\" class=\"dataframe\">\n",
       "  <thead>\n",
       "    <tr style=\"text-align: right;\">\n",
       "      <th></th>\n",
       "      <th>bill_length_mm</th>\n",
       "      <th>bill_depth_mm</th>\n",
       "      <th>flipper_length_mm</th>\n",
       "      <th>body_mass_g</th>\n",
       "      <th>sex</th>\n",
       "      <th>sex1</th>\n",
       "    </tr>\n",
       "  </thead>\n",
       "  <tbody>\n",
       "    <tr>\n",
       "      <th>0</th>\n",
       "      <td>-8.844987e-01</td>\n",
       "      <td>7.854492e-01</td>\n",
       "      <td>-1.418347e+00</td>\n",
       "      <td>-5.641421e-01</td>\n",
       "      <td>1.000000</td>\n",
       "      <td>Male</td>\n",
       "    </tr>\n",
       "    <tr>\n",
       "      <th>1</th>\n",
       "      <td>-8.111257e-01</td>\n",
       "      <td>1.261879e-01</td>\n",
       "      <td>-1.062250e+00</td>\n",
       "      <td>-5.017031e-01</td>\n",
       "      <td>0.000000</td>\n",
       "      <td>Female</td>\n",
       "    </tr>\n",
       "    <tr>\n",
       "      <th>2</th>\n",
       "      <td>-6.643797e-01</td>\n",
       "      <td>4.304624e-01</td>\n",
       "      <td>-4.212767e-01</td>\n",
       "      <td>-1.188532e+00</td>\n",
       "      <td>0.000000</td>\n",
       "      <td>Female</td>\n",
       "    </tr>\n",
       "    <tr>\n",
       "      <th>3</th>\n",
       "      <td>8.310441e-17</td>\n",
       "      <td>-1.412775e-15</td>\n",
       "      <td>-8.310441e-16</td>\n",
       "      <td>4.155221e-17</td>\n",
       "      <td>0.504505</td>\n",
       "      <td>Male</td>\n",
       "    </tr>\n",
       "    <tr>\n",
       "      <th>4</th>\n",
       "      <td>-1.324737e+00</td>\n",
       "      <td>1.089724e+00</td>\n",
       "      <td>-5.637152e-01</td>\n",
       "      <td>-9.387762e-01</td>\n",
       "      <td>0.000000</td>\n",
       "      <td>Female</td>\n",
       "    </tr>\n",
       "    <tr>\n",
       "      <th>...</th>\n",
       "      <td>...</td>\n",
       "      <td>...</td>\n",
       "      <td>...</td>\n",
       "      <td>...</td>\n",
       "      <td>...</td>\n",
       "      <td>...</td>\n",
       "    </tr>\n",
       "    <tr>\n",
       "      <th>339</th>\n",
       "      <td>8.310441e-17</td>\n",
       "      <td>-1.412775e-15</td>\n",
       "      <td>-8.310441e-16</td>\n",
       "      <td>4.155221e-17</td>\n",
       "      <td>0.504505</td>\n",
       "      <td>Male</td>\n",
       "    </tr>\n",
       "    <tr>\n",
       "      <th>340</th>\n",
       "      <td>5.279317e-01</td>\n",
       "      <td>-1.445897e+00</td>\n",
       "      <td>1.003109e+00</td>\n",
       "      <td>8.095165e-01</td>\n",
       "      <td>0.000000</td>\n",
       "      <td>Female</td>\n",
       "    </tr>\n",
       "    <tr>\n",
       "      <th>341</th>\n",
       "      <td>1.188289e+00</td>\n",
       "      <td>-7.359231e-01</td>\n",
       "      <td>1.501644e+00</td>\n",
       "      <td>1.933419e+00</td>\n",
       "      <td>1.000000</td>\n",
       "      <td>Male</td>\n",
       "    </tr>\n",
       "    <tr>\n",
       "      <th>342</th>\n",
       "      <td>2.344396e-01</td>\n",
       "      <td>-1.192335e+00</td>\n",
       "      <td>7.894512e-01</td>\n",
       "      <td>1.246590e+00</td>\n",
       "      <td>0.000000</td>\n",
       "      <td>Female</td>\n",
       "    </tr>\n",
       "    <tr>\n",
       "      <th>343</th>\n",
       "      <td>1.096572e+00</td>\n",
       "      <td>-5.330734e-01</td>\n",
       "      <td>8.606705e-01</td>\n",
       "      <td>1.496346e+00</td>\n",
       "      <td>1.000000</td>\n",
       "      <td>Male</td>\n",
       "    </tr>\n",
       "  </tbody>\n",
       "</table>\n",
       "<p>344 rows × 6 columns</p>\n",
       "</div>"
      ],
      "text/plain": [
       "     bill_length_mm  bill_depth_mm  flipper_length_mm   body_mass_g       sex  \\\n",
       "0     -8.844987e-01   7.854492e-01      -1.418347e+00 -5.641421e-01  1.000000   \n",
       "1     -8.111257e-01   1.261879e-01      -1.062250e+00 -5.017031e-01  0.000000   \n",
       "2     -6.643797e-01   4.304624e-01      -4.212767e-01 -1.188532e+00  0.000000   \n",
       "3      8.310441e-17  -1.412775e-15      -8.310441e-16  4.155221e-17  0.504505   \n",
       "4     -1.324737e+00   1.089724e+00      -5.637152e-01 -9.387762e-01  0.000000   \n",
       "..              ...            ...                ...           ...       ...   \n",
       "339    8.310441e-17  -1.412775e-15      -8.310441e-16  4.155221e-17  0.504505   \n",
       "340    5.279317e-01  -1.445897e+00       1.003109e+00  8.095165e-01  0.000000   \n",
       "341    1.188289e+00  -7.359231e-01       1.501644e+00  1.933419e+00  1.000000   \n",
       "342    2.344396e-01  -1.192335e+00       7.894512e-01  1.246590e+00  0.000000   \n",
       "343    1.096572e+00  -5.330734e-01       8.606705e-01  1.496346e+00  1.000000   \n",
       "\n",
       "       sex1  \n",
       "0      Male  \n",
       "1    Female  \n",
       "2    Female  \n",
       "3      Male  \n",
       "4    Female  \n",
       "..      ...  \n",
       "339    Male  \n",
       "340  Female  \n",
       "341    Male  \n",
       "342  Female  \n",
       "343    Male  \n",
       "\n",
       "[344 rows x 6 columns]"
      ]
     },
     "execution_count": 289,
     "metadata": {},
     "output_type": "execute_result"
    }
   ],
   "source": [
    "dfn"
   ]
  },
  {
   "cell_type": "code",
   "execution_count": 291,
   "id": "d5c2bb69-0e6e-48ff-b493-4a06e6ff2d7b",
   "metadata": {},
   "outputs": [],
   "source": [
    "dfn['sex']= dfn['sex1']"
   ]
  },
  {
   "cell_type": "code",
   "execution_count": 293,
   "id": "2901f782-8f59-4adc-94a7-9752e16a65da",
   "metadata": {},
   "outputs": [],
   "source": [
    "df['sex']=dfn['sex']"
   ]
  },
  {
   "cell_type": "code",
   "execution_count": 297,
   "id": "8b44052e-c5e6-4e29-8316-0a316e0ed1b8",
   "metadata": {},
   "outputs": [
    {
     "data": {
      "text/html": [
       "<div>\n",
       "<style scoped>\n",
       "    .dataframe tbody tr th:only-of-type {\n",
       "        vertical-align: middle;\n",
       "    }\n",
       "\n",
       "    .dataframe tbody tr th {\n",
       "        vertical-align: top;\n",
       "    }\n",
       "\n",
       "    .dataframe thead th {\n",
       "        text-align: right;\n",
       "    }\n",
       "</style>\n",
       "<table border=\"1\" class=\"dataframe\">\n",
       "  <thead>\n",
       "    <tr style=\"text-align: right;\">\n",
       "      <th></th>\n",
       "      <th>species</th>\n",
       "      <th>island</th>\n",
       "      <th>bill_length_mm</th>\n",
       "      <th>bill_depth_mm</th>\n",
       "      <th>flipper_length_mm</th>\n",
       "      <th>body_mass_g</th>\n",
       "      <th>sex</th>\n",
       "    </tr>\n",
       "  </thead>\n",
       "  <tbody>\n",
       "    <tr>\n",
       "      <th>3</th>\n",
       "      <td>Adelie</td>\n",
       "      <td>Torgersen</td>\n",
       "      <td>NaN</td>\n",
       "      <td>NaN</td>\n",
       "      <td>NaN</td>\n",
       "      <td>NaN</td>\n",
       "      <td>Male</td>\n",
       "    </tr>\n",
       "    <tr>\n",
       "      <th>8</th>\n",
       "      <td>Adelie</td>\n",
       "      <td>Torgersen</td>\n",
       "      <td>34.1</td>\n",
       "      <td>18.1</td>\n",
       "      <td>193.0</td>\n",
       "      <td>3475.0</td>\n",
       "      <td>Female</td>\n",
       "    </tr>\n",
       "    <tr>\n",
       "      <th>9</th>\n",
       "      <td>Adelie</td>\n",
       "      <td>Torgersen</td>\n",
       "      <td>42.0</td>\n",
       "      <td>20.2</td>\n",
       "      <td>190.0</td>\n",
       "      <td>4250.0</td>\n",
       "      <td>Male</td>\n",
       "    </tr>\n",
       "    <tr>\n",
       "      <th>10</th>\n",
       "      <td>Adelie</td>\n",
       "      <td>Torgersen</td>\n",
       "      <td>37.8</td>\n",
       "      <td>17.1</td>\n",
       "      <td>186.0</td>\n",
       "      <td>3300.0</td>\n",
       "      <td>Female</td>\n",
       "    </tr>\n",
       "    <tr>\n",
       "      <th>11</th>\n",
       "      <td>Adelie</td>\n",
       "      <td>Torgersen</td>\n",
       "      <td>37.8</td>\n",
       "      <td>17.3</td>\n",
       "      <td>180.0</td>\n",
       "      <td>3700.0</td>\n",
       "      <td>Female</td>\n",
       "    </tr>\n",
       "    <tr>\n",
       "      <th>47</th>\n",
       "      <td>Adelie</td>\n",
       "      <td>Dream</td>\n",
       "      <td>37.5</td>\n",
       "      <td>18.9</td>\n",
       "      <td>179.0</td>\n",
       "      <td>2975.0</td>\n",
       "      <td>Female</td>\n",
       "    </tr>\n",
       "    <tr>\n",
       "      <th>246</th>\n",
       "      <td>Gentoo</td>\n",
       "      <td>Biscoe</td>\n",
       "      <td>44.5</td>\n",
       "      <td>14.3</td>\n",
       "      <td>216.0</td>\n",
       "      <td>4100.0</td>\n",
       "      <td>Female</td>\n",
       "    </tr>\n",
       "    <tr>\n",
       "      <th>286</th>\n",
       "      <td>Gentoo</td>\n",
       "      <td>Biscoe</td>\n",
       "      <td>46.2</td>\n",
       "      <td>14.4</td>\n",
       "      <td>214.0</td>\n",
       "      <td>4650.0</td>\n",
       "      <td>Female</td>\n",
       "    </tr>\n",
       "    <tr>\n",
       "      <th>324</th>\n",
       "      <td>Gentoo</td>\n",
       "      <td>Biscoe</td>\n",
       "      <td>47.3</td>\n",
       "      <td>13.8</td>\n",
       "      <td>216.0</td>\n",
       "      <td>4725.0</td>\n",
       "      <td>Female</td>\n",
       "    </tr>\n",
       "    <tr>\n",
       "      <th>336</th>\n",
       "      <td>Gentoo</td>\n",
       "      <td>Biscoe</td>\n",
       "      <td>44.5</td>\n",
       "      <td>15.7</td>\n",
       "      <td>217.0</td>\n",
       "      <td>4875.0</td>\n",
       "      <td>Male</td>\n",
       "    </tr>\n",
       "    <tr>\n",
       "      <th>339</th>\n",
       "      <td>Gentoo</td>\n",
       "      <td>Biscoe</td>\n",
       "      <td>NaN</td>\n",
       "      <td>NaN</td>\n",
       "      <td>NaN</td>\n",
       "      <td>NaN</td>\n",
       "      <td>Male</td>\n",
       "    </tr>\n",
       "  </tbody>\n",
       "</table>\n",
       "</div>"
      ],
      "text/plain": [
       "    species     island  bill_length_mm  bill_depth_mm  flipper_length_mm  \\\n",
       "3    Adelie  Torgersen             NaN            NaN                NaN   \n",
       "8    Adelie  Torgersen            34.1           18.1              193.0   \n",
       "9    Adelie  Torgersen            42.0           20.2              190.0   \n",
       "10   Adelie  Torgersen            37.8           17.1              186.0   \n",
       "11   Adelie  Torgersen            37.8           17.3              180.0   \n",
       "47   Adelie      Dream            37.5           18.9              179.0   \n",
       "246  Gentoo     Biscoe            44.5           14.3              216.0   \n",
       "286  Gentoo     Biscoe            46.2           14.4              214.0   \n",
       "324  Gentoo     Biscoe            47.3           13.8              216.0   \n",
       "336  Gentoo     Biscoe            44.5           15.7              217.0   \n",
       "339  Gentoo     Biscoe             NaN            NaN                NaN   \n",
       "\n",
       "     body_mass_g     sex  \n",
       "3            NaN    Male  \n",
       "8         3475.0  Female  \n",
       "9         4250.0    Male  \n",
       "10        3300.0  Female  \n",
       "11        3700.0  Female  \n",
       "47        2975.0  Female  \n",
       "246       4100.0  Female  \n",
       "286       4650.0  Female  \n",
       "324       4725.0  Female  \n",
       "336       4875.0    Male  \n",
       "339          NaN    Male  "
      ]
     },
     "execution_count": 297,
     "metadata": {},
     "output_type": "execute_result"
    }
   ],
   "source": [
    "df.iloc[rows_to_check]"
   ]
  },
  {
   "cell_type": "code",
   "execution_count": 307,
   "id": "e8df9e50-b23a-4dd4-a1f7-bda468ca4351",
   "metadata": {},
   "outputs": [
    {
     "name": "stdout",
     "output_type": "stream",
     "text": [
      "<class 'pandas.core.frame.DataFrame'>\n",
      "RangeIndex: 1035 entries, 0 to 1034\n",
      "Data columns (total 6 columns):\n",
      " #   Column          Non-Null Count  Dtype  \n",
      "---  ------          --------------  -----  \n",
      " 0   method          1035 non-null   object \n",
      " 1   number          1035 non-null   int64  \n",
      " 2   orbital_period  992 non-null    float64\n",
      " 3   mass            513 non-null    float64\n",
      " 4   distance        808 non-null    float64\n",
      " 5   year            1035 non-null   int64  \n",
      "dtypes: float64(3), int64(2), object(1)\n",
      "memory usage: 48.6+ KB\n"
     ]
    }
   ],
   "source": [
    "sns.load_dataset('planets').info()"
   ]
  },
  {
   "cell_type": "code",
   "execution_count": null,
   "id": "b2b837ef-21f5-41e3-8c55-4dbb7c44f250",
   "metadata": {},
   "outputs": [],
   "source": []
  }
 ],
 "metadata": {
  "kernelspec": {
   "display_name": "Python 3 (ipykernel)",
   "language": "python",
   "name": "python3"
  },
  "language_info": {
   "codemirror_mode": {
    "name": "ipython",
    "version": 3
   },
   "file_extension": ".py",
   "mimetype": "text/x-python",
   "name": "python",
   "nbconvert_exporter": "python",
   "pygments_lexer": "ipython3",
   "version": "3.12.4"
  }
 },
 "nbformat": 4,
 "nbformat_minor": 5
}
