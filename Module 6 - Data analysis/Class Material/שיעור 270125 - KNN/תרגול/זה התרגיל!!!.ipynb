{
 "cells": [
  {
   "cell_type": "code",
   "execution_count": 2,
   "id": "ca68c6d6-a3cd-48bb-8a5d-7fdbec8781ba",
   "metadata": {},
   "outputs": [],
   "source": [
    "import numpy as np\n",
    "import matplotlib.pyplot as plt\n",
    "from sklearn.datasets import make_blobs, make_circles\n",
    "from sklearn.svm import SVC\n",
    "from sklearn.model_selection import train_test_split\n",
    "from sklearn.metrics import accuracy_score, confusion_matrix, classification_report"
   ]
  },
  {
   "cell_type": "code",
   "execution_count": null,
   "id": "7862cb42-a582-4f83-a4d4-9a3453b510e0",
   "metadata": {},
   "outputs": [],
   "source": [
    "# יצירת נתונים עם הפרדה ליניארית\n",
    "X_linear, y_linear = make_blobs(n_samples=200, centers=2, random_state=42, cluster_std=1.5)\n",
    "\n",
    "# יצירת נתונים לא ליניאריים\n",
    "X_nonlinear, y_nonlinear = make_circles(n_samples=200, factor=0.5, noise=0.1, random_state=42)\n",
    "\n",
    "# חלוקת הנתונים לסט אימון ובדיקה\n",
    "X_train_linear, X_test_linear, y_train_linear, y_test_linear = train_test_split(X_linear, y_linear, test_size=0.2, random_state=42)\n",
    "X_train_nonlinear, X_test_nonlinear, y_train_nonlinear, y_test_nonlinear = train_test_split(X_nonlinear, y_nonlinear, test_size=0.2, random_state=42)"
   ]
  },
  {
   "cell_type": "code",
   "execution_count": null,
   "id": "a6f4de6f-e41c-4da0-a634-d04d7a404e9a",
   "metadata": {},
   "outputs": [],
   "source": [
    "# SVM עם קרנל ליניארי\n",
    "svm_linear = SVC()\n"
   ]
  },
  {
   "cell_type": "code",
   "execution_count": null,
   "id": "754b9deb-1808-4c66-a495-540177985d29",
   "metadata": {},
   "outputs": [],
   "source": [
    "# SVM עם קרנל RBF\n",
    "svm_rbf = SVC()\n"
   ]
  },
  {
   "cell_type": "code",
   "execution_count": null,
   "id": "d4cfe5f8-17da-4b46-9034-9cb35032f061",
   "metadata": {},
   "outputs": [],
   "source": [
    "# הצגת הנתונים והגבול המפריד\n",
    "def plot_decision_boundary(X, y, model, title):\n",
    "    h = 0.02\n",
    "    x_min, x_max = X[:, 0].min() - 1, X[:, 0].max() + 1\n",
    "    y_min, y_max = X[:, 1].min() - 1, X[:, 1].max() + 1\n",
    "    xx, yy = np.meshgrid(np.arange(x_min, x_max, h), np.arange(y_min, y_max, h))\n",
    "    Z = model.predict(np.c_[xx.ravel(), yy.ravel()])\n",
    "    Z = Z.reshape(xx.shape)\n",
    "    plt.contourf(xx, yy, Z, alpha=0.8, cmap=plt.cm.coolwarm)\n",
    "    plt.scatter(X[:, 0], X[:, 1], c=y, edgecolors='k', cmap=plt.cm.coolwarm)\n",
    "    plt.title(title)\n",
    "    plt.show()\n",
    "\n",
    "# גרפים\n",
    "plot_decision_boundary(X_test_linear, y_test_linear, svm_linear, \"Linear SVM Decision Boundary\")\n",
    "plot_decision_boundary(X_test_nonlinear, y_test_nonlinear, svm_rbf, \"RBF Kernel SVM Decision Boundary\")"
   ]
  },
  {
   "cell_type": "code",
   "execution_count": null,
   "id": "b0bf4ce2-ba32-44d8-a386-5246221889eb",
   "metadata": {},
   "outputs": [],
   "source": []
  }
 ],
 "metadata": {
  "kernelspec": {
   "display_name": "Python 3 (ipykernel)",
   "language": "python",
   "name": "python3"
  },
  "language_info": {
   "codemirror_mode": {
    "name": "ipython",
    "version": 3
   },
   "file_extension": ".py",
   "mimetype": "text/x-python",
   "name": "python",
   "nbconvert_exporter": "python",
   "pygments_lexer": "ipython3",
   "version": "3.12.4"
  }
 },
 "nbformat": 4,
 "nbformat_minor": 5
}
