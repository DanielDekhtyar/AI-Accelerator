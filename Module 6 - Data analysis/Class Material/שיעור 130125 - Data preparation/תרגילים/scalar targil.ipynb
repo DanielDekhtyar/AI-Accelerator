{
 "cells": [
  {
   "cell_type": "markdown",
   "id": "b4756860-a899-4384-b156-559671b331b3",
   "metadata": {},
   "source": [
    "# Scalars Exercise: Comparing Standard Scaler and Min-Max Scaler\r\n",
    "\r\n",
    "## Objective\r\n",
    "In this exercise, you will practice understanding the differences between the Standard Scaler and Min-Max Scaler.\r\n",
    "\r\n",
    "### Dataset\r\n",
    "You will use the **Penguins dataset** from the `seaborn` library. \r\n",
    "\r\n",
    "- For your **X data**, use the column: `body_mass_g`.\r\n",
    "- For your **y data**, use the column: `flipper_length_mm`.\r\n",
    "\r\n",
    "---\r\n",
    "\r\n",
    "### Instructions\r\n",
    "\r\n",
    "1. **Handle Missing Data**:\r\n",
    "   - Before proceeding, ensure that any missing data in the dataset is handled appropriately (e.g., by removing rows with missing values).\r\n",
    "\r\n",
    "2. **Create Three Sets of Data**:\r\n",
    "   - **Set 1**: The data as it is (no scaling applied).\r\n",
    "   - **Set 2**: Standard scaled data using the `StandardScaler`.\r\n",
    "   - **Set 3**: Min-max scaled data using the `MinMaxScaler`.\r\n",
    "\r\n",
    "3. **Visualization**:\r\n",
    "   - Create **three scatter plots**:\r\n",
    "     - Each scatter plot should represent one of the three sets (original, standard scaled, and min-max scaled).\r\n",
    "     - Display all three scatter plots side by side.\r\n",
    "   - Analyze the differences between the plots and note your observations.\r\n",
    "\r\n",
    "4. **Combined Visualization**:\r\n",
    "   - Create a new figure that overlays the scatter plots for all three datasets on the **same figure**.\r\n",
    "   - Try **commenting out one dataset at a time** to observe how the data representations differ.\r\n",
    "\r\n",
    "5. **Statistical Insights**:\r\n",
    "   - Print the following for all three X datasets:\r\n",
    "     - **Average (mean)**.\r\n",
    "     - **Standard deviation**.\r\n",
    "     - **Minimum value**.\r\n",
    "     - **Maximum value**.\r\n",
    "   - Compare and note the differences between the three scaling methods.\r\n",
    "\r\n",
    "---\r\n",
    "\r\n",
    "### Questions to Consider\r\n",
    "1. How do the scaling methods affect the scatter plots visually?\r\n",
    "2. What are the key differences between the averages, standard deviations, minimums, and maximums of the three datasets?\r\n",
    "3. Which scaling method midata, and why?\r\n",
    "\n",
    "#import the relevant libraries"
   ]
  },
  {
   "cell_type": "code",
   "execution_count": null,
   "id": "fb000275-8207-4cbc-bf84-f94f2407a97b",
   "metadata": {},
   "outputs": [],
   "source": []
  }
 ],
 "metadata": {
  "kernelspec": {
   "display_name": "Python 3 (ipykernel)",
   "language": "python",
   "name": "python3"
  },
  "language_info": {
   "codemirror_mode": {
    "name": "ipython",
    "version": 3
   },
   "file_extension": ".py",
   "mimetype": "text/x-python",
   "name": "python",
   "nbconvert_exporter": "python",
   "pygments_lexer": "ipython3",
   "version": "3.12.2"
  }
 },
 "nbformat": 4,
 "nbformat_minor": 5
}
