{
 "cells": [
  {
   "cell_type": "code",
   "execution_count": null,
   "id": "13fb134b-bbe6-42aa-bba8-1c0826a12b35",
   "metadata": {},
   "outputs": [],
   "source": [
    "import numpy as np\n",
    "import pandas as pd\n",
    "import matplotlib.pyplot as plt\n",
    "import seaborn as sns\n",
    "from sklearn.preprocessing import MinMaxScaler, OneHotEncoder, Standardscalar"
   ]
  },
  {
   "cell_type": "code",
   "execution_count": null,
   "id": "f4200daf-0ae9-4052-bea5-a965971f4e4f",
   "metadata": {},
   "outputs": [],
   "source": [
    "df= sns.load_dataset('penguins').dropna()"
   ]
  },
  {
   "cell_type": "code",
   "execution_count": null,
   "id": "1b84edf5-2c5c-4930-b013-ff1f908049f4",
   "metadata": {},
   "outputs": [],
   "source": [
    "df.info()"
   ]
  },
  {
   "cell_type": "code",
   "execution_count": null,
   "id": "1a57c5f9-5646-4b40-9e83-93963e933b9c",
   "metadata": {},
   "outputs": [],
   "source": [
    "scaler1 = StandardScaler()\n",
    "x1 = scaler1.fit_transform(df[['body_mass_g']])\n",
    "y1 = scaler1.fit_transform(df [['flipper_length_mm']])"
   ]
  },
  {
   "cell_type": "code",
   "execution_count": null,
   "id": "ee116dcd-a322-48f0-b051-a425ea8cd137",
   "metadata": {},
   "outputs": [],
   "source": [
    "scaler2 = MinMaxScaler()\n",
    "x2 = scaler2.fit_transform(df[['body_mass_g']])\n",
    "y2 = scaler2.fit_transform(df [['flipper_length_mm']])"
   ]
  },
  {
   "cell_type": "code",
   "execution_count": null,
   "id": "878c531e-36a6-48ba-8374-8a835cd540ef",
   "metadata": {},
   "outputs": [],
   "source": [
    "f,a= plt.subplots(1,3,figsize= (12,4))\n",
    "a[0].scatter(df['body_mass_g'], df ['flipper_length_mm'], alpha = 0.7)\n",
    "a[0].grid()\n",
    "a[0].set_xlabel('ליגר')\n",
    "a[1].scatter(x1,y1, alpha = 0.7)\n",
    "a[1].grid()\n",
    "a[1].set_xlabel('Standard Scaler')\n",
    "a[2].scatter(x2,y2,alpha = 0.7)\n",
    "a[2].grid()\n",
    "a[2].set_xlabel('Min Max Scalar')"
   ]
  },
  {
   "cell_type": "code",
   "execution_count": null,
   "id": "46b6ae11-76e0-4f31-988d-deac1ad5e13c",
   "metadata": {},
   "outputs": [],
   "source": [
    "plt.scatter(df['body_mass_g'], df ['flipper_length_mm'], alpha = 0.7, label ='ליגר')\n",
    "plt.scatter(x1,y1, alpha = 0.7, label = 'standard scaler')\n",
    "plt.scatter(x2,y2,alpha = 0.7, label = 'min max scaler' )\n",
    "plt.grid()\n",
    "plt.legend()"
   ]
  },
  {
   "cell_type": "code",
   "execution_count": null,
   "id": "3051aa39-b492-40ba-8f95-4bad57f702a2",
   "metadata": {},
   "outputs": [],
   "source": [
    "print(f\"x1 min  is : {x1.min()}\")\n",
    "print(f\"x2 min is : {x2.min()}\")\n",
    "print(f\"x1 avg is : {round(x1.mean())}\")\n",
    "print(f\"x2 avg is : {x2.mean()}\")\n",
    "print(f\"x1 std is : {round(x1.std())}\")\n",
    "print(f\"x2 std is : {x2.std()}\")\n"
   ]
  },
  {
   "cell_type": "code",
   "execution_count": null,
   "id": "fb000275-8207-4cbc-bf84-f94f2407a97b",
   "metadata": {},
   "outputs": [],
   "source": []
  }
 ],
 "metadata": {
  "kernelspec": {
   "display_name": "Python 3 (ipykernel)",
   "language": "python",
   "name": "python3"
  },
  "language_info": {
   "codemirror_mode": {
    "name": "ipython",
    "version": 3
   },
   "file_extension": ".py",
   "mimetype": "text/x-python",
   "name": "python",
   "nbconvert_exporter": "python",
   "pygments_lexer": "ipython3",
   "version": "3.12.2"
  }
 },
 "nbformat": 4,
 "nbformat_minor": 5
}
