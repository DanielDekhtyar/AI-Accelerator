{
 "cells": [
  {
   "cell_type": "code",
   "execution_count": 1,
   "id": "4779a47f-1b5e-418e-9540-f876be761abd",
   "metadata": {},
   "outputs": [],
   "source": [
    "#Alllllll the imports\n",
    "import numpy as np\n",
    "import pandas as pd\n",
    "import matplotlib.pyplot as plt\n",
    "import seaborn as sns\n",
    "from sklearn.model_selection import train_test_split, learning_curve\n",
    "from sklearn.preprocessing import OneHotEncoder, MinMaxScaler, LabelEncoder, StandardScaler\n",
    "from sklearn.metrics import accuracy_score, confusion_matrix, classification_report\n",
    "from sklearn.linear_model import LogisticRegression\n",
    "from sklearn.tree import DecisionTreeClassifier, plot_tree, export_text\n",
    "from sklearn.ensemble import RandomForestClassifier\n",
    "from sklearn import svm\n",
    "from sklearn.neighbors import KNeighborsClassifier\n",
    "from sklearn.impute import KNNImputer\n"
   ]
  },
  {
   "cell_type": "markdown",
   "id": "88becf81-6df1-4043-a538-6813a20e1006",
   "metadata": {},
   "source": [
    "**fill in the missing values with KNN**  \n",
    "\n",
    "\n",
    "load the 'LoanApprovalPrediction.csv' into a data frame  \n",
    "and inspect it. look at data types, nulls etc. \n",
    "finally- create a of code that will return a table (named null_info) with tne names, data types and null percentage of all the columns that have null values in them. makes sure the data is sorted by precentage in ascending order"
   ]
  },
  {
   "cell_type": "code",
   "execution_count": 2,
   "id": "8cce1e5f-e559-4e51-9b1f-7b8372121c59",
   "metadata": {},
   "outputs": [],
   "source": [
    "df = pd.read_csv('datasets/LoanApprovalPrediction.csv')"
   ]
  },
  {
   "cell_type": "code",
   "execution_count": 3,
   "id": "eabc82d8-5e32-496b-9ff4-45f70ef92a4a",
   "metadata": {},
   "outputs": [],
   "source": [
    "#null columns \"the problematic columns\"\n",
    "null_columns = df.isnull().sum() [df.isnull().sum() != 0].index\n",
    "#df.isnull().sum() [df.isnull().sum() != 0].index"
   ]
  },
  {
   "cell_type": "code",
   "execution_count": 4,
   "id": "e0c8d671-2a9c-4bb9-968d-d2822de405d7",
   "metadata": {},
   "outputs": [],
   "source": [
    "#what are the nullp  pcts of the \"problematic culumns\"\n",
    "null_percent = (df.isnull().sum().loc[null_columns]/df.shape[0])*100\n",
    "#(df.isnull().sum().loc[null_columns]/df.shape[0])*100"
   ]
  },
  {
   "cell_type": "code",
   "execution_count": 5,
   "id": "516d7034-62b7-44da-9d6d-d2a312d0facc",
   "metadata": {},
   "outputs": [
    {
     "data": {
      "text/plain": [
       "12"
      ]
     },
     "execution_count": 5,
     "metadata": {},
     "output_type": "execute_result"
    }
   ],
   "source": [
    "#what is loc & iloc\n",
    "df.isnull().sum().loc['Dependents']\n",
    "df.isnull().sum().iloc[3]\n"
   ]
  },
  {
   "cell_type": "code",
   "execution_count": 6,
   "id": "c05b5f81-0ef7-4a21-91a4-99dd465ce455",
   "metadata": {},
   "outputs": [],
   "source": [
    "#number of null in each\n",
    "how_many_nulls = df.isnull().sum() [df.isnull().sum() != 0].values\n",
    "#df.isnull().sum() [df.isnull().sum() != 0].values"
   ]
  },
  {
   "cell_type": "code",
   "execution_count": 7,
   "id": "2a04bd69-c216-411a-918b-2715cd7e7cbe",
   "metadata": {},
   "outputs": [],
   "source": [
    "columns_dtype = df.dtypes.loc[null_columns]\n",
    "#df.dtypes.loc[null_columns]"
   ]
  },
  {
   "cell_type": "code",
   "execution_count": 8,
   "id": "69bad55e-ffa1-4dc9-b781-e876f86c38f6",
   "metadata": {},
   "outputs": [],
   "source": [
    "null_info = pd.DataFrame({\"null_columns\":null_columns,\n",
    "                          \"how_many_nulls\":how_many_nulls,\n",
    "                          \"columns_dtype\":columns_dtype,\n",
    "                          \"null_percent\": null_percent    \n",
    "})"
   ]
  },
  {
   "cell_type": "code",
   "execution_count": 9,
   "id": "c37a8dbc-5b8c-423b-b4d1-10561eb3ff02",
   "metadata": {},
   "outputs": [],
   "source": [
    "null_info.reset_index(drop =True, inplace =True)"
   ]
  },
  {
   "cell_type": "code",
   "execution_count": 10,
   "id": "ea7d54c5-e329-488d-be6c-1d4203e11cc6",
   "metadata": {},
   "outputs": [
    {
     "data": {
      "text/html": [
       "<div>\n",
       "<style scoped>\n",
       "    .dataframe tbody tr th:only-of-type {\n",
       "        vertical-align: middle;\n",
       "    }\n",
       "\n",
       "    .dataframe tbody tr th {\n",
       "        vertical-align: top;\n",
       "    }\n",
       "\n",
       "    .dataframe thead th {\n",
       "        text-align: right;\n",
       "    }\n",
       "</style>\n",
       "<table border=\"1\" class=\"dataframe\">\n",
       "  <thead>\n",
       "    <tr style=\"text-align: right;\">\n",
       "      <th></th>\n",
       "      <th>null_columns</th>\n",
       "      <th>how_many_nulls</th>\n",
       "      <th>columns_dtype</th>\n",
       "      <th>null_percent</th>\n",
       "    </tr>\n",
       "  </thead>\n",
       "  <tbody>\n",
       "    <tr>\n",
       "      <th>0</th>\n",
       "      <td>Dependents</td>\n",
       "      <td>12</td>\n",
       "      <td>float64</td>\n",
       "      <td>2.006689</td>\n",
       "    </tr>\n",
       "    <tr>\n",
       "      <th>1</th>\n",
       "      <td>LoanAmount</td>\n",
       "      <td>21</td>\n",
       "      <td>float64</td>\n",
       "      <td>3.511706</td>\n",
       "    </tr>\n",
       "    <tr>\n",
       "      <th>2</th>\n",
       "      <td>Loan_Amount_Term</td>\n",
       "      <td>14</td>\n",
       "      <td>float64</td>\n",
       "      <td>2.341137</td>\n",
       "    </tr>\n",
       "    <tr>\n",
       "      <th>3</th>\n",
       "      <td>Credit_History</td>\n",
       "      <td>49</td>\n",
       "      <td>float64</td>\n",
       "      <td>8.193980</td>\n",
       "    </tr>\n",
       "  </tbody>\n",
       "</table>\n",
       "</div>"
      ],
      "text/plain": [
       "       null_columns  how_many_nulls columns_dtype  null_percent\n",
       "0        Dependents              12       float64      2.006689\n",
       "1        LoanAmount              21       float64      3.511706\n",
       "2  Loan_Amount_Term              14       float64      2.341137\n",
       "3    Credit_History              49       float64      8.193980"
      ]
     },
     "execution_count": 10,
     "metadata": {},
     "output_type": "execute_result"
    }
   ],
   "source": [
    "null_info"
   ]
  },
  {
   "cell_type": "markdown",
   "id": "c73951cf-09db-4f2b-a3e7-53247bd3bd4a",
   "metadata": {},
   "source": [
    "before we go on- make a copy of the data frame for later analysis  \n",
    "call it `df_copy`"
   ]
  },
  {
   "cell_type": "code",
   "execution_count": 11,
   "id": "9a7bd48f-ac44-4ccb-bf2c-7c8eb7fd0ea2",
   "metadata": {},
   "outputs": [],
   "source": [
    "df_copy = df.copy()"
   ]
  },
  {
   "cell_type": "markdown",
   "id": "ae83e611-2107-47c2-ae7d-9772119a177c",
   "metadata": {},
   "source": [
    "If all the missing values are less then 10% you may use the KNN iputer to fill out the missing data.\n",
    "Please make sure you only use numeric data and that you scale the data first.  \n",
    " Use Standard Scaler"
   ]
  },
  {
   "cell_type": "code",
   "execution_count": 12,
   "id": "8fb08287-5947-4a32-a0a3-358f9a182c49",
   "metadata": {},
   "outputs": [],
   "source": [
    "numeric_data = df.select_dtypes ('number')"
   ]
  },
  {
   "cell_type": "code",
   "execution_count": 13,
   "id": "c281168a-73ca-4ea1-bcc8-7f2e64f990c9",
   "metadata": {},
   "outputs": [],
   "source": [
    "numeric_cols = df.select_dtypes ('number').columns"
   ]
  },
  {
   "cell_type": "code",
   "execution_count": 14,
   "id": "5c76ff28-36e0-41a1-aa99-73c02f348857",
   "metadata": {},
   "outputs": [
    {
     "data": {
      "text/plain": [
       "Index(['Dependents', 'ApplicantIncome', 'CoapplicantIncome', 'LoanAmount',\n",
       "       'Loan_Amount_Term', 'Credit_History'],\n",
       "      dtype='object')"
      ]
     },
     "execution_count": 14,
     "metadata": {},
     "output_type": "execute_result"
    }
   ],
   "source": [
    "numeric_cols"
   ]
  },
  {
   "cell_type": "code",
   "execution_count": 15,
   "id": "c8ab6869-5047-484f-be74-aab90aadefd0",
   "metadata": {},
   "outputs": [],
   "source": [
    "#Scaling the data\n",
    "scaler = StandardScaler()\n",
    "scaled = scaler.fit_transform(numeric_data)"
   ]
  },
  {
   "cell_type": "code",
   "execution_count": 16,
   "id": "ab421e92-c018-495c-952f-f38540590401",
   "metadata": {},
   "outputs": [],
   "source": [
    "#KNN!!!!\n",
    "imputer = KNNImputer()\n",
    "imputed = imputer.fit_transform(scaled)"
   ]
  },
  {
   "cell_type": "code",
   "execution_count": 17,
   "id": "d8361864-4f0f-444e-ab69-9ee0877b6274",
   "metadata": {},
   "outputs": [],
   "source": [
    "inversed = scaler.inverse_transform(imputed)"
   ]
  },
  {
   "cell_type": "code",
   "execution_count": 18,
   "id": "87b9d048-0472-4283-a66e-d259cd9a1117",
   "metadata": {},
   "outputs": [],
   "source": [
    "df[numeric_cols] =inversed"
   ]
  },
  {
   "cell_type": "code",
   "execution_count": 28,
   "id": "a1573ace-0449-434e-b790-f74a4382f3c3",
   "metadata": {},
   "outputs": [
    {
     "data": {
      "text/html": [
       "<div>\n",
       "<style scoped>\n",
       "    .dataframe tbody tr th:only-of-type {\n",
       "        vertical-align: middle;\n",
       "    }\n",
       "\n",
       "    .dataframe tbody tr th {\n",
       "        vertical-align: top;\n",
       "    }\n",
       "\n",
       "    .dataframe thead th {\n",
       "        text-align: right;\n",
       "    }\n",
       "</style>\n",
       "<table border=\"1\" class=\"dataframe\">\n",
       "  <thead>\n",
       "    <tr style=\"text-align: right;\">\n",
       "      <th></th>\n",
       "      <th>Loan_ID</th>\n",
       "      <th>Gender</th>\n",
       "      <th>Married</th>\n",
       "      <th>Dependents</th>\n",
       "      <th>Education</th>\n",
       "      <th>Self_Employed</th>\n",
       "      <th>ApplicantIncome</th>\n",
       "      <th>CoapplicantIncome</th>\n",
       "      <th>LoanAmount</th>\n",
       "      <th>Loan_Amount_Term</th>\n",
       "      <th>Credit_History</th>\n",
       "      <th>Property_Area</th>\n",
       "      <th>Loan_Status</th>\n",
       "    </tr>\n",
       "  </thead>\n",
       "  <tbody>\n",
       "    <tr>\n",
       "      <th>0</th>\n",
       "      <td>LP001002</td>\n",
       "      <td>Male</td>\n",
       "      <td>No</td>\n",
       "      <td>0.0</td>\n",
       "      <td>Graduate</td>\n",
       "      <td>No</td>\n",
       "      <td>5849.0</td>\n",
       "      <td>-2.273737e-13</td>\n",
       "      <td>165.0</td>\n",
       "      <td>360.0</td>\n",
       "      <td>1.0</td>\n",
       "      <td>Urban</td>\n",
       "      <td>Y</td>\n",
       "    </tr>\n",
       "    <tr>\n",
       "      <th>1</th>\n",
       "      <td>LP001003</td>\n",
       "      <td>Male</td>\n",
       "      <td>Yes</td>\n",
       "      <td>1.0</td>\n",
       "      <td>Graduate</td>\n",
       "      <td>No</td>\n",
       "      <td>4583.0</td>\n",
       "      <td>1.508000e+03</td>\n",
       "      <td>128.0</td>\n",
       "      <td>360.0</td>\n",
       "      <td>1.0</td>\n",
       "      <td>Rural</td>\n",
       "      <td>N</td>\n",
       "    </tr>\n",
       "    <tr>\n",
       "      <th>2</th>\n",
       "      <td>LP001005</td>\n",
       "      <td>Male</td>\n",
       "      <td>Yes</td>\n",
       "      <td>0.0</td>\n",
       "      <td>Graduate</td>\n",
       "      <td>Yes</td>\n",
       "      <td>3000.0</td>\n",
       "      <td>-2.273737e-13</td>\n",
       "      <td>66.0</td>\n",
       "      <td>360.0</td>\n",
       "      <td>1.0</td>\n",
       "      <td>Urban</td>\n",
       "      <td>Y</td>\n",
       "    </tr>\n",
       "    <tr>\n",
       "      <th>3</th>\n",
       "      <td>LP001006</td>\n",
       "      <td>Male</td>\n",
       "      <td>Yes</td>\n",
       "      <td>0.0</td>\n",
       "      <td>Not Graduate</td>\n",
       "      <td>No</td>\n",
       "      <td>2583.0</td>\n",
       "      <td>2.358000e+03</td>\n",
       "      <td>120.0</td>\n",
       "      <td>360.0</td>\n",
       "      <td>1.0</td>\n",
       "      <td>Urban</td>\n",
       "      <td>Y</td>\n",
       "    </tr>\n",
       "    <tr>\n",
       "      <th>4</th>\n",
       "      <td>LP001008</td>\n",
       "      <td>Male</td>\n",
       "      <td>No</td>\n",
       "      <td>0.0</td>\n",
       "      <td>Graduate</td>\n",
       "      <td>No</td>\n",
       "      <td>6000.0</td>\n",
       "      <td>-2.273737e-13</td>\n",
       "      <td>141.0</td>\n",
       "      <td>360.0</td>\n",
       "      <td>1.0</td>\n",
       "      <td>Urban</td>\n",
       "      <td>Y</td>\n",
       "    </tr>\n",
       "    <tr>\n",
       "      <th>...</th>\n",
       "      <td>...</td>\n",
       "      <td>...</td>\n",
       "      <td>...</td>\n",
       "      <td>...</td>\n",
       "      <td>...</td>\n",
       "      <td>...</td>\n",
       "      <td>...</td>\n",
       "      <td>...</td>\n",
       "      <td>...</td>\n",
       "      <td>...</td>\n",
       "      <td>...</td>\n",
       "      <td>...</td>\n",
       "      <td>...</td>\n",
       "    </tr>\n",
       "    <tr>\n",
       "      <th>593</th>\n",
       "      <td>LP002978</td>\n",
       "      <td>Female</td>\n",
       "      <td>No</td>\n",
       "      <td>0.0</td>\n",
       "      <td>Graduate</td>\n",
       "      <td>No</td>\n",
       "      <td>2900.0</td>\n",
       "      <td>-2.273737e-13</td>\n",
       "      <td>71.0</td>\n",
       "      <td>360.0</td>\n",
       "      <td>1.0</td>\n",
       "      <td>Rural</td>\n",
       "      <td>Y</td>\n",
       "    </tr>\n",
       "    <tr>\n",
       "      <th>594</th>\n",
       "      <td>LP002979</td>\n",
       "      <td>Male</td>\n",
       "      <td>Yes</td>\n",
       "      <td>3.0</td>\n",
       "      <td>Graduate</td>\n",
       "      <td>No</td>\n",
       "      <td>4106.0</td>\n",
       "      <td>-2.273737e-13</td>\n",
       "      <td>40.0</td>\n",
       "      <td>180.0</td>\n",
       "      <td>1.0</td>\n",
       "      <td>Rural</td>\n",
       "      <td>Y</td>\n",
       "    </tr>\n",
       "    <tr>\n",
       "      <th>595</th>\n",
       "      <td>LP002983</td>\n",
       "      <td>Male</td>\n",
       "      <td>Yes</td>\n",
       "      <td>1.0</td>\n",
       "      <td>Graduate</td>\n",
       "      <td>No</td>\n",
       "      <td>8072.0</td>\n",
       "      <td>2.400000e+02</td>\n",
       "      <td>253.0</td>\n",
       "      <td>360.0</td>\n",
       "      <td>1.0</td>\n",
       "      <td>Urban</td>\n",
       "      <td>Y</td>\n",
       "    </tr>\n",
       "    <tr>\n",
       "      <th>596</th>\n",
       "      <td>LP002984</td>\n",
       "      <td>Male</td>\n",
       "      <td>Yes</td>\n",
       "      <td>2.0</td>\n",
       "      <td>Graduate</td>\n",
       "      <td>No</td>\n",
       "      <td>7583.0</td>\n",
       "      <td>-2.273737e-13</td>\n",
       "      <td>187.0</td>\n",
       "      <td>360.0</td>\n",
       "      <td>1.0</td>\n",
       "      <td>Urban</td>\n",
       "      <td>Y</td>\n",
       "    </tr>\n",
       "    <tr>\n",
       "      <th>597</th>\n",
       "      <td>LP002990</td>\n",
       "      <td>Female</td>\n",
       "      <td>No</td>\n",
       "      <td>0.0</td>\n",
       "      <td>Graduate</td>\n",
       "      <td>Yes</td>\n",
       "      <td>4583.0</td>\n",
       "      <td>-2.273737e-13</td>\n",
       "      <td>133.0</td>\n",
       "      <td>360.0</td>\n",
       "      <td>0.0</td>\n",
       "      <td>Semiurban</td>\n",
       "      <td>N</td>\n",
       "    </tr>\n",
       "  </tbody>\n",
       "</table>\n",
       "<p>598 rows × 13 columns</p>\n",
       "</div>"
      ],
      "text/plain": [
       "      Loan_ID  Gender Married  Dependents     Education Self_Employed  \\\n",
       "0    LP001002    Male      No         0.0      Graduate            No   \n",
       "1    LP001003    Male     Yes         1.0      Graduate            No   \n",
       "2    LP001005    Male     Yes         0.0      Graduate           Yes   \n",
       "3    LP001006    Male     Yes         0.0  Not Graduate            No   \n",
       "4    LP001008    Male      No         0.0      Graduate            No   \n",
       "..        ...     ...     ...         ...           ...           ...   \n",
       "593  LP002978  Female      No         0.0      Graduate            No   \n",
       "594  LP002979    Male     Yes         3.0      Graduate            No   \n",
       "595  LP002983    Male     Yes         1.0      Graduate            No   \n",
       "596  LP002984    Male     Yes         2.0      Graduate            No   \n",
       "597  LP002990  Female      No         0.0      Graduate           Yes   \n",
       "\n",
       "     ApplicantIncome  CoapplicantIncome  LoanAmount  Loan_Amount_Term  \\\n",
       "0             5849.0      -2.273737e-13       165.0             360.0   \n",
       "1             4583.0       1.508000e+03       128.0             360.0   \n",
       "2             3000.0      -2.273737e-13        66.0             360.0   \n",
       "3             2583.0       2.358000e+03       120.0             360.0   \n",
       "4             6000.0      -2.273737e-13       141.0             360.0   \n",
       "..               ...                ...         ...               ...   \n",
       "593           2900.0      -2.273737e-13        71.0             360.0   \n",
       "594           4106.0      -2.273737e-13        40.0             180.0   \n",
       "595           8072.0       2.400000e+02       253.0             360.0   \n",
       "596           7583.0      -2.273737e-13       187.0             360.0   \n",
       "597           4583.0      -2.273737e-13       133.0             360.0   \n",
       "\n",
       "     Credit_History Property_Area Loan_Status  \n",
       "0               1.0         Urban           Y  \n",
       "1               1.0         Rural           N  \n",
       "2               1.0         Urban           Y  \n",
       "3               1.0         Urban           Y  \n",
       "4               1.0         Urban           Y  \n",
       "..              ...           ...         ...  \n",
       "593             1.0         Rural           Y  \n",
       "594             1.0         Rural           Y  \n",
       "595             1.0         Urban           Y  \n",
       "596             1.0         Urban           Y  \n",
       "597             0.0     Semiurban           N  \n",
       "\n",
       "[598 rows x 13 columns]"
      ]
     },
     "execution_count": 28,
     "metadata": {},
     "output_type": "execute_result"
    }
   ],
   "source": [
    "df"
   ]
  },
  {
   "cell_type": "code",
   "execution_count": 19,
   "id": "d141f77c-492f-42dd-95e5-2716b7adbc5c",
   "metadata": {},
   "outputs": [
    {
     "data": {
      "text/plain": [
       "Loan_ID              0\n",
       "Gender               0\n",
       "Married              0\n",
       "Dependents           0\n",
       "Education            0\n",
       "Self_Employed        0\n",
       "ApplicantIncome      0\n",
       "CoapplicantIncome    0\n",
       "LoanAmount           0\n",
       "Loan_Amount_Term     0\n",
       "Credit_History       0\n",
       "Property_Area        0\n",
       "Loan_Status          0\n",
       "dtype: int64"
      ]
     },
     "execution_count": 19,
     "metadata": {},
     "output_type": "execute_result"
    }
   ],
   "source": [
    "df.isnull().sum()"
   ]
  },
  {
   "cell_type": "code",
   "execution_count": 20,
   "id": "0f9c3a0f-d325-473e-b430-574d939c206e",
   "metadata": {},
   "outputs": [
    {
     "data": {
      "text/plain": [
       "Loan_ID               0\n",
       "Gender                0\n",
       "Married               0\n",
       "Dependents           12\n",
       "Education             0\n",
       "Self_Employed         0\n",
       "ApplicantIncome       0\n",
       "CoapplicantIncome     0\n",
       "LoanAmount           21\n",
       "Loan_Amount_Term     14\n",
       "Credit_History       49\n",
       "Property_Area         0\n",
       "Loan_Status           0\n",
       "dtype: int64"
      ]
     },
     "execution_count": 20,
     "metadata": {},
     "output_type": "execute_result"
    }
   ],
   "source": [
    "df_copy.isnull().sum()"
   ]
  },
  {
   "cell_type": "markdown",
   "id": "dfc348ae-2568-4645-8555-8f93bdcdd15c",
   "metadata": {},
   "source": [
    "**Check the quality of the KNN imputatio**  \n",
    "- Create a KDE plot (using the Seaborn library) for \"Credit_History\" before imputation and compare it with the one after.\n",
    "- Compare the mean, median, and standard deviation (std) of all the relevant columns before and after imputation. If the std is significantly lower, it means the data was incorrectly flattened."
   ]
  },
  {
   "cell_type": "code",
   "execution_count": 21,
   "id": "c4ba32e1-d211-4ed3-aa00-6460da3bff8d",
   "metadata": {},
   "outputs": [
    {
     "data": {
      "image/png": "[encoded data removed]",
      "text/plain": [
       "<Figure size 640x480 with 1 Axes>"
      ]
     },
     "metadata": {},
     "output_type": "display_data"
    }
   ],
   "source": [
    "sns.kdeplot(df['Credit_History'], label =\"new knn\", color = 'purple')\n",
    "sns.kdeplot(df_copy['Credit_History'].dropna(), label =\"original\", color = 'gold')\n",
    "plt.legend()\n",
    "plt.show()"
   ]
  },
  {
   "cell_type": "code",
   "execution_count": 22,
   "id": "0f5c07fe-afdf-4427-a910-69bd382d9200",
   "metadata": {},
   "outputs": [],
   "source": [
    "before = df_copy[null_columns].describe().loc['std']\n",
    "after = df[null_columns].std()"
   ]
  },
  {
   "cell_type": "code",
   "execution_count": 23,
   "id": "13636a3c-ebb8-4dda-a4a0-7d4086faa016",
   "metadata": {},
   "outputs": [
    {
     "data": {
      "text/plain": [
       "Dependents           1.007751\n",
       "LoanAmount          82.704182\n",
       "Loan_Amount_Term    65.205994\n",
       "Credit_History       0.363800\n",
       "Name: std, dtype: float64"
      ]
     },
     "execution_count": 23,
     "metadata": {},
     "output_type": "execute_result"
    }
   ],
   "source": [
    "df_copy[null_columns].describe().loc['std']"
   ]
  },
  {
   "cell_type": "code",
   "execution_count": 24,
   "id": "96d0ff41-4c7d-46df-a382-0a6d6d3e21e6",
   "metadata": {},
   "outputs": [
    {
     "data": {
      "text/plain": [
       "Dependents           1.007751\n",
       "LoanAmount          82.704182\n",
       "Loan_Amount_Term    65.205994\n",
       "Credit_History       0.363800\n",
       "dtype: float64"
      ]
     },
     "execution_count": 24,
     "metadata": {},
     "output_type": "execute_result"
    }
   ],
   "source": [
    "df_copy[null_columns].std()"
   ]
  },
  {
   "cell_type": "code",
   "execution_count": 25,
   "id": "f79d482d-eea5-4182-aaee-37cb4c476a85",
   "metadata": {},
   "outputs": [
    {
     "data": {
      "text/plain": [
       "Dependents           0.998281\n",
       "LoanAmount          81.683986\n",
       "Loan_Amount_Term    64.682065\n",
       "Credit_History       0.352398\n",
       "dtype: float64"
      ]
     },
     "execution_count": 25,
     "metadata": {},
     "output_type": "execute_result"
    }
   ],
   "source": [
    "df[null_columns].std()"
   ]
  },
  {
   "cell_type": "code",
   "execution_count": 26,
   "id": "d371077e-8778-43dd-93bd-7ab838b019f1",
   "metadata": {},
   "outputs": [],
   "source": [
    "delta = before -after"
   ]
  },
  {
   "cell_type": "code",
   "execution_count": 27,
   "id": "661bb377-e3b7-4da2-94fe-2d3106243500",
   "metadata": {},
   "outputs": [
    {
     "data": {
      "text/html": [
       "<div>\n",
       "<style scoped>\n",
       "    .dataframe tbody tr th:only-of-type {\n",
       "        vertical-align: middle;\n",
       "    }\n",
       "\n",
       "    .dataframe tbody tr th {\n",
       "        vertical-align: top;\n",
       "    }\n",
       "\n",
       "    .dataframe thead th {\n",
       "        text-align: right;\n",
       "    }\n",
       "</style>\n",
       "<table border=\"1\" class=\"dataframe\">\n",
       "  <thead>\n",
       "    <tr style=\"text-align: right;\">\n",
       "      <th></th>\n",
       "      <th>index</th>\n",
       "      <th>before</th>\n",
       "      <th>after</th>\n",
       "      <th>delta</th>\n",
       "    </tr>\n",
       "  </thead>\n",
       "  <tbody>\n",
       "    <tr>\n",
       "      <th>0</th>\n",
       "      <td>Dependents</td>\n",
       "      <td>1.007751</td>\n",
       "      <td>0.998281</td>\n",
       "      <td>0.009470</td>\n",
       "    </tr>\n",
       "    <tr>\n",
       "      <th>1</th>\n",
       "      <td>LoanAmount</td>\n",
       "      <td>82.704182</td>\n",
       "      <td>81.683986</td>\n",
       "      <td>1.020196</td>\n",
       "    </tr>\n",
       "    <tr>\n",
       "      <th>2</th>\n",
       "      <td>Loan_Amount_Term</td>\n",
       "      <td>65.205994</td>\n",
       "      <td>64.682065</td>\n",
       "      <td>0.523929</td>\n",
       "    </tr>\n",
       "    <tr>\n",
       "      <th>3</th>\n",
       "      <td>Credit_History</td>\n",
       "      <td>0.363800</td>\n",
       "      <td>0.352398</td>\n",
       "      <td>0.011402</td>\n",
       "    </tr>\n",
       "  </tbody>\n",
       "</table>\n",
       "</div>"
      ],
      "text/plain": [
       "              index     before      after     delta\n",
       "0        Dependents   1.007751   0.998281  0.009470\n",
       "1        LoanAmount  82.704182  81.683986  1.020196\n",
       "2  Loan_Amount_Term  65.205994  64.682065  0.523929\n",
       "3    Credit_History   0.363800   0.352398  0.011402"
      ]
     },
     "execution_count": 27,
     "metadata": {},
     "output_type": "execute_result"
    }
   ],
   "source": [
    "pd.DataFrame({\n",
    "    \"before\":before,\n",
    "    \"after\":after,\n",
    "    \"delta\": delta\n",
    "}).reset_index()"
   ]
  }
 ],
 "metadata": {
  "kernelspec": {
   "display_name": "Python 3 (ipykernel)",
   "language": "python",
   "name": "python3"
  },
  "language_info": {
   "codemirror_mode": {
    "name": "ipython",
    "version": 3
   },
   "file_extension": ".py",
   "mimetype": "text/x-python",
   "name": "python",
   "nbconvert_exporter": "python",
   "pygments_lexer": "ipython3",
   "version": "3.12.8"
  }
 },
 "nbformat": 4,
 "nbformat_minor": 5
}
