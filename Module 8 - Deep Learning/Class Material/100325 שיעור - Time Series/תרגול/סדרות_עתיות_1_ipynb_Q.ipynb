{
 "cells": [
  {
   "cell_type": "code",
   "execution_count": null,
   "metadata": {
    "id": "hzSoNC02Bw2L"
   },
   "outputs": [],
   "source": [
    "import pandas as pd\n",
    "import numpy as np\n",
    "import matplotlib.pyplot as plt\n",
    "import tensorflow as tf\n",
    "from statsmodels.tsa.seasonal import seasonal_decompose"
   ]
  },
  {
   "cell_type": "markdown",
   "metadata": {
    "id": "UiCmv9O5Dr9X"
   },
   "source": [
    "להלן סידרת זמן סינטטית שמתארת את התעצמות כוחות הכשף של הארי פוטר לאורך השנים\n",
    "הסידרה מציגה 3 שנים ב36 נקודות זמן המייצגות 36 חודשים\n",
    "מחזור כוחותיו של קוסם לוקח כידוע חצי שנה- כלומר 6 חודשים"
   ]
  },
  {
   "cell_type": "code",
   "execution_count": null,
   "metadata": {
    "colab": {
     "base_uri": "https://localhost:8080/",
     "height": 410
    },
    "id": "-UNlRf8VB9cP",
    "outputId": "80e69396-9b27-4d83-d8bb-7c6ea64f7f68"
   },
   "outputs": [],
   "source": [
    "# יצירת סדרת זמן פשוטה עם מגמה ועונתיות\n",
    "time = np.arange(36)  # 36 נקודות זמן\n",
    "trend = time * 1.5  # מגמה עולה בקצב קבוע\n",
    "seasonality = 5 * np.cos(2 * np.pi * time / 6)  # מחזוריות כל 6 צעדים\n",
    "noise = np.random.normal(scale=0.5, size=36)\n",
    "series = trend + seasonality+noise  # שילוב המגמה והעונתיות\n",
    "\n",
    "# הצגת הנתונים\n",
    "df = pd.DataFrame({'Time': time, 'Value': series})\n",
    "plt.figure(figsize=(10,4))\n",
    "plt.plot(df[\"Time\"], df[\"Value\"], marker='o', linestyle='-', label=\"Original Series\")\n",
    "plt.xlabel(\"Time Step\")\n",
    "plt.ylabel(\"Value\")\n",
    "plt.title(\"Synthetic Time Series\")\n",
    "plt.legend()\n",
    "plt.show()"
   ]
  },
  {
   "cell_type": "markdown",
   "metadata": {
    "id": "AGOSNojmDTr0"
   },
   "source": [
    "בעזרת seasonal_decompose\n",
    "פרקו את הסידרה לרכיבי העונה, המגמה והרעש"
   ]
  },
  {
   "cell_type": "code",
   "execution_count": null,
   "metadata": {
    "colab": {
     "base_uri": "https://localhost:8080/",
     "height": 486
    },
    "id": "ocXKC0GWCo4k",
    "outputId": "969f6407-6595-4a85-beda-e728243313c3"
   },
   "outputs": [],
   "source": []
  },
  {
   "cell_type": "markdown",
   "metadata": {
    "id": "Q94xEdYDFAYj"
   },
   "source": [
    "- פרקו את הסידרה לחלונות בעזרת Numpy\n",
    "פרקו את הסידרה לחלונות בגודל 7 עם חפיפה של 1\n",
    "הדפיסו את שני החלונות הראשונות  ואת שתי התויות שלהם\n",
    "- הדפיסו גם את מספר החלונות שהתקבלו\n",
    "- מה קורה אם אתה משנים את גודל החלון?"
   ]
  },
  {
   "cell_type": "code",
   "execution_count": null,
   "metadata": {
    "colab": {
     "base_uri": "https://localhost:8080/"
    },
    "id": "uZ9HOOAwD24N",
    "outputId": "6fe96278-2d3c-4a70-ee09-f0dfc8a0e508"
   },
   "outputs": [],
   "source": []
  },
  {
   "cell_type": "markdown",
   "metadata": {
    "id": "36bfe3nNFpnw"
   },
   "source": [
    "צור חלונות בעזרת  tf.data.Dataset\n",
    "\n",
    "- Dataset.from_tensor_slices() כדי לפרוס את הנתונים.\n",
    "- window() כדי ליצור חלונות בגודל 7 צעדים עם חפיפה של צעד 1.\n",
    "- flat_map() כדי למזג את כל החלונות לרשימה אחת.\n",
    "- map (X) מהתווית (y) כך שנוכל להשתמש בזה למודלים נוירונים.\n",
    "- shuffle\n",
    "\n",
    "\n",
    "מה קורה אם משנים את גודל החלון?"
   ]
  },
  {
   "cell_type": "code",
   "execution_count": null,
   "metadata": {
    "colab": {
     "base_uri": "https://localhost:8080/"
    },
    "id": "Ie_hGfLBGgFO",
    "outputId": "8cdb11d6-4d0c-44de-a1aa-8e8dab8db91c"
   },
   "outputs": [],
   "source": []
  },
  {
   "cell_type": "code",
   "execution_count": null,
   "metadata": {
    "id": "IfI3ObHgJRv-"
   },
   "outputs": [],
   "source": []
  }
 ],
 "metadata": {
  "colab": {
   "provenance": []
  },
  "kernelspec": {
   "display_name": "Python 3 (ipykernel)",
   "language": "python",
   "name": "python3"
  },
  "language_info": {
   "codemirror_mode": {
    "name": "ipython",
    "version": 3
   },
   "file_extension": ".py",
   "mimetype": "text/x-python",
   "name": "python",
   "nbconvert_exporter": "python",
   "pygments_lexer": "ipython3",
   "version": "3.12.2"
  }
 },
 "nbformat": 4,
 "nbformat_minor": 4
}
