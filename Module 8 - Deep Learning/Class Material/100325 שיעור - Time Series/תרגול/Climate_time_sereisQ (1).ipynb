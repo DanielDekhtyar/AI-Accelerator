{
 "cells": [
  {
   "cell_type": "code",
   "execution_count": null,
   "metadata": {
    "id": "4o-AceuextYJ"
   },
   "outputs": [],
   "source": [
    "import pandas as pd\n",
    "import numpy as np\n",
    "import tensorflow as tf\n",
    "import matplotlib.pyplot as plt\n",
    "from sklearn.preprocessing import MinMaxScaler\n",
    "from tensorflow.keras.models import Sequential\n",
    "from tensorflow.keras.optimizers import Adam, RMSprop,SGD\n",
    "from tensorflow.keras.layers import Dense, Flatten, Dropout, SimpleRNN, LSTM, GRU, Bidirectional\n",
    "from statsmodels.tsa.seasonal import seasonal_decompose #לראות עונה ומגמה"
   ]
  },
  {
   "cell_type": "code",
   "execution_count": null,
   "metadata": {
    "colab": {
     "base_uri": "https://localhost:8080/"
    },
    "id": "eipZalIpxztc",
    "outputId": "ee1f560b-dc67-4f75-a648-0a3c9f6f8bcf"
   },
   "outputs": [],
   "source": [
    "!unzip climate.zip -d climate"
   ]
  },
  {
   "cell_type": "code",
   "execution_count": null,
   "metadata": {
    "id": "Wp0EU-EVydDJ"
   },
   "outputs": [],
   "source": [
    "df =pd.read_csv('climate/DailyDelhiClimateTrain.csv')"
   ]
  },
  {
   "cell_type": "markdown",
   "metadata": {
    "id": "EynrO7XaLgGY"
   },
   "source": [
    "בתרגיל זה יש לקחת בחשבון רק את קובץ נתנוי האימון ולהתייחס לעמודות התאריך והלחות בלבד. המטרה היא לנבא בצורה המיטבית את נתוני הלחות. בהצלחה"
   ]
  },
  {
   "cell_type": "code",
   "execution_count": null,
   "metadata": {},
   "outputs": [],
   "source": []
  }
 ],
 "metadata": {
  "colab": {
   "provenance": []
  },
  "kernelspec": {
   "display_name": "Python 3 (ipykernel)",
   "language": "python",
   "name": "python3"
  },
  "language_info": {
   "codemirror_mode": {
    "name": "ipython",
    "version": 3
   },
   "file_extension": ".py",
   "mimetype": "text/x-python",
   "name": "python",
   "nbconvert_exporter": "python",
   "pygments_lexer": "ipython3",
   "version": "3.12.2"
  }
 },
 "nbformat": 4,
 "nbformat_minor": 4
}
