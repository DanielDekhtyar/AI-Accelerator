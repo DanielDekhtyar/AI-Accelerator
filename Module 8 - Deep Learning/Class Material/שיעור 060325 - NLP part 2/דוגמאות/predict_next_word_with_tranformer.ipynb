{
  "nbformat": 4,
  "nbformat_minor": 0,
  "metadata": {
    "colab": {
      "provenance": []
    },
    "kernelspec": {
      "name": "python3",
      "display_name": "Python 3"
    },
    "language_info": {
      "name": "python"
    }
  },
  "cells": [
    {
      "cell_type": "code",
      "execution_count": null,
      "metadata": {
        "id": "I0TPgrHvyn-7"
      },
      "outputs": [],
      "source": [
        "import tensorflow as tf\n",
        "from tensorflow.keras.preprocessing.text import Tokenizer\n",
        "from tensorflow.keras.preprocessing.sequence import pad_sequences\n",
        "from tensorflow.keras.models import Model\n",
        "from tensorflow.keras.layers import Embedding, Dense, Input, MultiHeadAttention, LayerNormalization, Dropout, GlobalAveragePooling1D\n"
      ]
    },
    {
      "cell_type": "code",
      "source": [
        "# 1️ טקסט לדוגמה\n",
        "#corpus = \"Hello world. This is a meta text corpus to demonstrate text prediction. Text prediction models are meta.\"\n",
        "corpus = \"לא לפנות אליי לא לדבר אליי אל תבוא אליי אל תתקשר אליי איזה כיף איתי ואוו חוויה ממש ממליצה לך\"\n",
        "# 2️ טוקניזציה\n",
        "tokenizer = Tokenizer()\n",
        "tokenizer.fit_on_texts([corpus])\n",
        "word_index = tokenizer.word_index\n",
        "total_words = len(word_index) + 1\n",
        "\n",
        "# 3️ יצירת רצפי N-gram\n",
        "input_sequences = []\n",
        "for line in corpus.split('.'):  # כל משפט בנפרד\n",
        "    sequence = tokenizer.texts_to_sequences([line])[0]\n",
        "    for i in range(1, len(sequence)):\n",
        "        input_sequences.append(sequence[:i+1])\n",
        "\n",
        "# 4️ ריפוד רצפים\n",
        "max_sequence_len = max([len(x) for x in input_sequences])\n",
        "input_sequences = pad_sequences(input_sequences, maxlen=max_sequence_len, padding='pre')\n",
        "\n",
        "# 5️ פיצול ל-X ול-y\n",
        "X_train = input_sequences[:, :-1]\n",
        "y_train = input_sequences[:, -1]\n",
        "y_train = tf.keras.utils.to_categorical(y_train, num_classes=total_words)\n"
      ],
      "metadata": {
        "id": "CoxyO2-CQtL-"
      },
      "execution_count": null,
      "outputs": []
    },
    {
      "cell_type": "code",
      "source": [
        "# 6️ בניית TransformerBlock (תיקון – **הסרנו `training`**)\n",
        "class TransformerBlock(tf.keras.layers.Layer):\n",
        "    def __init__(self, embed_dim, num_heads, ff_dim, rate=0.1):\n",
        "        #num_heads - בכמה \"ראשים\" שונים של תשומת לב ילמד המודל\n",
        "        #embed_dim-  גודל הוקטור לכל מילה\n",
        "        super(TransformerBlock, self).__init__()\n",
        "        #הגדרת attention\n",
        "        self.att = MultiHeadAttention(num_heads=num_heads, key_dim=embed_dim)\n",
        "        self.ffn = tf.keras.Sequential([\n",
        "            Dense(ff_dim, activation=\"relu\"),\n",
        "            Dense(embed_dim)\n",
        "        ])\n",
        "        self.layernorm1 = LayerNormalization(epsilon=1e-6)\n",
        "        self.layernorm2 = LayerNormalization(epsilon=1e-6)\n",
        "        self.dropout1 = Dropout(rate)\n",
        "        self.dropout2 = Dropout(rate)\n",
        "\n",
        "    def call(self, inputs):  #\n",
        "        attn_output = self.att(inputs, inputs)\n",
        "        attn_output = self.dropout1(attn_output)\n",
        "        out1 = self.layernorm1(inputs + attn_output)\n",
        "        ffn_output = self.ffn(out1)\n",
        "        ffn_output = self.dropout2(ffn_output)\n",
        "        return self.layernorm2(out1 + ffn_output)\n",
        "\n",
        "# 7️ הגדרת המודל עם GlobalAveragePooling1D\n",
        "embed_dim = 64\n",
        "num_heads = 2\n",
        "ff_dim = 64\n",
        "\n",
        "inputs = Input(shape=(max_sequence_len - 1,))\n",
        "embedding_layer = Embedding(total_words, embed_dim)(inputs)#מייצג את שכבת posisional encoding\n",
        "transformer_block = TransformerBlock(embed_dim, num_heads, ff_dim)(embedding_layer)\n",
        "pooled_output = GlobalAveragePooling1D()(transformer_block)  # מיישר את הפלט לווקטור\n",
        "output_layer = Dense(total_words, activation=\"softmax\")(pooled_output)\n",
        "\n",
        "model = Model(inputs=inputs, outputs=output_layer)\n"
      ],
      "metadata": {
        "id": "1EzcrZroQyHh"
      },
      "execution_count": null,
      "outputs": []
    },
    {
      "cell_type": "code",
      "source": [
        "# 8️ קומפילציה ואימון\n",
        "model.compile(loss=\"categorical_crossentropy\", optimizer=\"adam\", metrics=[\"accuracy\"])\n",
        "model.fit(X_train, y_train, epochs=100, verbose=1)\n",
        "\n",
        "# 9️ חיזוי משפט חדש\n",
        "seed_text = \"לא ממליצה\"\n",
        "next_words = 5\n",
        "\n",
        "for _ in range(next_words):\n",
        "    token_list = tokenizer.texts_to_sequences([seed_text])[0]\n",
        "    token_list = pad_sequences([token_list], maxlen=max_sequence_len - 1, padding=\"pre\")\n",
        "    predicted = model.predict(token_list, verbose=0)\n",
        "    predicted_index = tf.argmax(predicted[0]).numpy()\n",
        "    if predicted_index != 0:\n",
        "        seed_text += \" \" + tokenizer.index_word[predicted_index]\n",
        "\n",
        "print(\"Generated text:\", seed_text)\n"
      ],
      "metadata": {
        "id": "oIfTWpeARGQQ"
      },
      "execution_count": null,
      "outputs": []
    },
    {
      "cell_type": "code",
      "source": [
        "seed_text = \"לא\"\n",
        "next_words = 5\n",
        "\n",
        "for _ in range(next_words):\n",
        "    token_list = tokenizer.texts_to_sequences([seed_text])[0]\n",
        "    token_list = pad_sequences([token_list], maxlen=max_sequence_len - 1, padding=\"pre\")\n",
        "    predicted = model.predict(token_list, verbose=0)\n",
        "    predicted_index = tf.argmax(predicted[0]).numpy()\n",
        "    if predicted_index != 0:\n",
        "        seed_text += \" \" + tokenizer.index_word[predicted_index]\n",
        "\n",
        "print(\"Generated text:\", seed_text)"
      ],
      "metadata": {
        "colab": {
          "base_uri": "https://localhost:8080/"
        },
        "id": "Mcg1EZIrzFJs",
        "outputId": "ae57f385-bf04-4d11-e9f5-7f2c2e63b20e"
      },
      "execution_count": 31,
      "outputs": [
        {
          "output_type": "stream",
          "name": "stdout",
          "text": [
            "Generated text: לא לפנות אליי אליי לדבר אליי\n"
          ]
        }
      ]
    },
    {
      "cell_type": "code",
      "source": [
        "import numpy as np\n",
        "\n",
        "seed_text = \"לא \"\n",
        "next_words = 5\n",
        "\n",
        "for _ in range(next_words):\n",
        "    token_list = tokenizer.texts_to_sequences([seed_text])[0]\n",
        "    token_list = pad_sequences([token_list], maxlen=max_sequence_len - 1, padding=\"pre\")\n",
        "\n",
        "    probabilities = model.predict(token_list, verbose=0)[0]  # ⬅️ קבלת הסתברויות לכל מילה\n",
        "\n",
        "    # ⬇️ בחירת מילה רנדומלית על פי ההתפלגות של המודל\n",
        "    predicted_index = np.random.choice(len(probabilities), p=probabilities)\n",
        "\n",
        "    if predicted_index != 0:  # לוודא שזה לא טוקן ריק\n",
        "        seed_text += \" \" + tokenizer.index_word[predicted_index]\n",
        "\n",
        "print(\"Generated text:\", seed_text)\n"
      ],
      "metadata": {
        "colab": {
          "base_uri": "https://localhost:8080/"
        },
        "id": "fJlbt7y-5X69",
        "outputId": "faf0883a-cb3e-4d23-f795-28d72cfb1b27"
      },
      "execution_count": 34,
      "outputs": [
        {
          "output_type": "stream",
          "name": "stdout",
          "text": [
            "Generated text: לא  אליי אליי לפנות אליי אל\n"
          ]
        }
      ]
    },
    {
      "cell_type": "code",
      "source": [],
      "metadata": {
        "id": "7OH5C0d46Zdc"
      },
      "execution_count": 23,
      "outputs": []
    }
  ]
}