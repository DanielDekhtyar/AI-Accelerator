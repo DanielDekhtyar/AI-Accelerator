{
 "cells": [
  {
   "cell_type": "code",
   "execution_count": null,
   "metadata": {
    "id": "a_NrVIzAyrTT"
   },
   "outputs": [],
   "source": [
    "import pandas as pd\n",
    "import numpy as np\n",
    "import tensorflow as tf\n",
    "import matplotlib.pyplot as plt\n",
    "from tensorflow.keras.preprocessing.text import Tokenizer\n",
    "from tensorflow.keras.preprocessing.sequence import pad_sequences\n",
    "from sklearn.model_selection import train_test_split\n",
    "from tensorflow.keras.utils import to_categorical\n",
    "from sklearn.preprocessing import LabelEncoder\n",
    "from tensorflow.keras.models import Sequential\n",
    "from tensorflow.keras.optimizers import Adam\n",
    "from tensorflow.keras.layers import Embedding, GlobalAveragePooling1D, Dense, Flatten,SimpleRNN"
   ]
  },
  {
   "cell_type": "code",
   "execution_count": null,
   "metadata": {
    "colab": {
     "base_uri": "https://localhost:8080/"
    },
    "id": "PZJRvH9M6ePJ",
    "outputId": "95ceb3e5-f7ac-4185-a6a9-477218a8307f"
   },
   "outputs": [],
   "source": [
    "!unzip imdb_50k_binary.zip -d imdb_50k_binary\n",
    "print('-'*20+'\\n Upload Completed!!\\n'+'-'*20)"
   ]
  },
  {
   "cell_type": "code",
   "execution_count": null,
   "metadata": {
    "id": "DCrwURxN6_eG"
   },
   "outputs": [],
   "source": [
    "df= pd.read_csv('imdb_50k_binary/IMDB Dataset.csv')"
   ]
  },
  {
   "cell_type": "code",
   "execution_count": null,
   "metadata": {
    "colab": {
     "base_uri": "https://localhost:8080/",
     "height": 363
    },
    "id": "ZNTaGSWh7YOG",
    "outputId": "901ec877-ad91-4e3c-b230-ba0611258cd0"
   },
   "outputs": [],
   "source": [
    "#הכרות עם הנתונים\n",
    "df.info\n",
    "df.head(10)"
   ]
  },
  {
   "cell_type": "code",
   "execution_count": null,
   "metadata": {
    "id": "3v5L6TFp7lfs"
   },
   "outputs": [],
   "source": [
    "df['sentiment'] = df['sentiment']=='positive'"
   ]
  },
  {
   "cell_type": "code",
   "execution_count": null,
   "metadata": {
    "id": "Z6YjlDtW7dnK"
   },
   "outputs": [],
   "source": [
    "sentences = df['review'].tolist()\n",
    "labels = df['sentiment'].to_numpy()"
   ]
  },
  {
   "cell_type": "code",
   "execution_count": null,
   "metadata": {
    "id": "q-zjO1wT9Kbo"
   },
   "outputs": [],
   "source": [
    "X_train, X_test, y_train, y_test = train_test_split(sentences,\n",
    "                                                    labels,\n",
    "                                                    test_size=0.2,\n",
    "                                                    random_state=42)"
   ]
  },
  {
   "cell_type": "code",
   "execution_count": null,
   "metadata": {
    "id": "g8BORXbD9a3G"
   },
   "outputs": [],
   "source": [
    "#training set\n",
    "tokenizer = Tokenizer(oov_token=\"<OOV>\")\n",
    "tokenizer.fit_on_texts(X_train)\n",
    "word_index = tokenizer.word_index\n",
    "train_sequences = tokenizer.texts_to_sequences(X_train)\n",
    "train_padded = pad_sequences(train_sequences, padding='pre')\n",
    "\n",
    "max_len = train_padded.shape[1]\n",
    "\n",
    "#testing set\n",
    "test_sequences = tokenizer.texts_to_sequences(X_test)\n",
    "test_padded = pad_sequences(test_sequences, padding='pre', maxlen=max_len)"
   ]
  },
  {
   "cell_type": "code",
   "execution_count": null,
   "metadata": {
    "id": "nCnbw1eV_AiE"
   },
   "outputs": [],
   "source": [
    "type(test_padded)\n",
    "y_test"
   ]
  },
  {
   "cell_type": "code",
   "execution_count": null,
   "metadata": {
    "colab": {
     "base_uri": "https://localhost:8080/"
    },
    "id": "YHXhxe3j-ZeG",
    "outputId": "c42384f5-7ecd-4f1a-9993-597df413b8fe"
   },
   "outputs": [],
   "source": [
    "model = Sequential([\n",
    "    Embedding(input_dim=len(word_index)+1, output_dim=16),\n",
    "    SimpleRNN(32),\n",
    "\n",
    "    Dense(32, activation='relu'),\n",
    "    Dense(1, activation='sigmoid')])\n",
    "\n",
    "model.compile(loss='binary_crossentropy',\n",
    "              optimizer=Adam(learning_rate=0.005),\n",
    "              metrics=['accuracy'])\n",
    "\n",
    "history = model.fit(train_padded, y_train,\n",
    "                    epochs=5,\n",
    "                    validation_data=(test_padded, y_test))"
   ]
  },
  {
   "cell_type": "code",
   "execution_count": null,
   "metadata": {
    "colab": {
     "base_uri": "https://localhost:8080/",
     "height": 447
    },
    "id": "3xnJWJSQ-ur-",
    "outputId": "b852feeb-a00b-4d51-ceee-f464c4548ff6"
   },
   "outputs": [],
   "source": [
    "plt.plot(history.history['accuracy'], label = 'acc')\n",
    "plt.plot(history.history['val_accuracy'], label ='val')\n",
    "plt.plot(history.history['loss'], label = 'test loss')\n",
    "plt.plot(history.history['val_loss'], label ='val loss')\n",
    "plt.legend()\n",
    "print(f\"max accuracy was {max(history.history['val_accuracy'])}\")\n",
    "plt.show()"
   ]
  },
  {
   "cell_type": "code",
   "execution_count": null,
   "metadata": {
    "colab": {
     "base_uri": "https://localhost:8080/",
     "height": 191
    },
    "id": "99ATKd_o_kWr",
    "outputId": "265f7bfc-7ae7-42c7-a50a-40b05b4c17fa"
   },
   "outputs": [],
   "source": [
    "## this is for the site-https://projector.tensorflow.org/\n",
    "def get_reverse_index(tokenizer):\n",
    "  return tokenizer.index_word\n",
    "\n",
    "reverse_index = get_reverse_index(tokenizer)\n",
    "\n",
    "first_10_pairs = list(reverse_index.items())[:10]\n",
    "\n",
    "for index, word in first_10_pairs:\n",
    "  print(index, word)\n",
    "\n",
    "\n",
    "embedding_layer = model.layers[0]\n",
    "embeddings = embedding_layer.get_weights()[0]\n",
    "\n",
    "np.savetxt(\"vectors.tsv\", embeddings, delimiter=\"\\t\")\n",
    "\n",
    "with open(\"metadata.tsv\", \"w\", encoding='utf-8') as f:\n",
    "  for i in range(1,112279):# len(word_index) +1): #len(word_index) +1\n",
    "    word = reverse_index.get(i, \"<OOV>\")\n",
    "    f.write(word + \"\\n\")\n",
    "\n",
    "from google.colab import files\n",
    "files.download(\"vectors.tsv\")\n",
    "\n",
    "files.download(\"metadata.tsv\")\n"
   ]
  },
  {
   "cell_type": "code",
   "execution_count": null,
   "metadata": {
    "id": "mo0rP3jNG542"
   },
   "outputs": [],
   "source": []
  }
 ],
 "metadata": {
  "accelerator": "GPU",
  "colab": {
   "gpuType": "T4",
   "provenance": []
  },
  "kernelspec": {
   "display_name": "Python 3 (ipykernel)",
   "language": "python",
   "name": "python3"
  },
  "language_info": {
   "codemirror_mode": {
    "name": "ipython",
    "version": 3
   },
   "file_extension": ".py",
   "mimetype": "text/x-python",
   "name": "python",
   "nbconvert_exporter": "python",
   "pygments_lexer": "ipython3",
   "version": "3.12.2"
  }
 },
 "nbformat": 4,
 "nbformat_minor": 4
}
