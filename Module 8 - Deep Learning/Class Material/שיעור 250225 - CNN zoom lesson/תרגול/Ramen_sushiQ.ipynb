{
 "cells": [
  {
   "cell_type": "code",
   "execution_count": null,
   "metadata": {
    "id": "ZbNsOKP211Xr"
   },
   "outputs": [],
   "source": [
    "#import libraries\n",
    "import tensorflow as tf\n",
    "from tensorflow.keras.optimizers import RMSprop\n",
    "import tensorflow_datasets as tfds #data sets...\n",
    "import os\n",
    "import matplotlib.pyplot as plt\n",
    "import numpy as np\n",
    "from tensorflow.keras.preprocessing.image import ImageDataGenerator, array_to_img, img_to_array, load_img\n"
   ]
  },
  {
   "cell_type": "code",
   "execution_count": null,
   "metadata": {
    "colab": {
     "base_uri": "https://localhost:8080/"
    },
    "id": "K4M4up_cAHRx",
    "outputId": "66608399-8142-4210-d97d-529e75ef4052"
   },
   "outputs": [],
   "source": [
    "#upload images\n",
    "# הורדת קובץ ה-ZIP מגוגל דרייב\n",
    "#https://drive.google.com/file/d//view?usp=sharing\n",
    "zip_id = \"1-0LSuoPPhxqWtFHiMlblZpkyWB4KY7W_\"\n",
    "!gdown --id {zip_id} -O dataset.zip\n",
    "\n",
    "# חילוץ הקבצים\n",
    "!unzip dataset.zip -d dataset\n",
    "print('-'*20+'\\n Upload Completed!!\\n'+'-'*20)"
   ]
  },
  {
   "cell_type": "code",
   "execution_count": null,
   "metadata": {
    "id": "Ws0XkyUN2MTG"
   },
   "outputs": [],
   "source": [
    "#Use Image ImageDataGenerator to create train_datagen and test_datagen\n",
    "#make sure you rescale all sets\n",
    "#use a few or all of these options for the training set:\n",
    "#rotation_range,width_shift_range,height_shift_range,shear_range,zoom_rang,horizontal_flip\n",
    "\n",
    "# מחולל נתונים לבדיקה (ללא Augmentation)\n"
   ]
  },
  {
   "cell_type": "code",
   "execution_count": null,
   "metadata": {
    "colab": {
     "base_uri": "https://localhost:8080/"
    },
    "id": "cv3H4xwWFal4",
    "outputId": "7c3dd465-d045-4d29-ef28-645f140c564b"
   },
   "outputs": [],
   "source": [
    "#define the train_path and the test_path\n",
    "\n",
    "#use flow_from_directory to create train_generator and test_generator\n",
    "#give it directory, target_sze, batch_size and class_mode (you may also want to use seed =42)\n"
   ]
  },
  {
   "cell_type": "code",
   "execution_count": null,
   "metadata": {
    "id": "7uuuZNkiCIVI"
   },
   "outputs": [],
   "source": [
    "# Define model\n"
   ]
  },
  {
   "cell_type": "code",
   "execution_count": null,
   "metadata": {
    "colab": {
     "base_uri": "https://localhost:8080/",
     "height": 891
    },
    "id": "TBhBFo5DFMKT",
    "outputId": "49a7bfec-6075-45cd-baae-77ea5f994e2a"
   },
   "outputs": [],
   "source": [
    "# Compile model"
   ]
  },
  {
   "cell_type": "code",
   "execution_count": null,
   "metadata": {
    "colab": {
     "base_uri": "https://localhost:8080/",
     "height": 891
    },
    "id": "TBhBFo5DFMKT",
    "outputId": "49a7bfec-6075-45cd-baae-77ea5f994e2a"
   },
   "outputs": [],
   "source": [
    "# Train model"
   ]
  },
  {
   "cell_type": "code",
   "execution_count": null,
   "metadata": {
    "colab": {
     "base_uri": "https://localhost:8080/",
     "height": 891
    },
    "id": "TBhBFo5DFMKT",
    "outputId": "49a7bfec-6075-45cd-baae-77ea5f994e2a"
   },
   "outputs": [],
   "source": [
    "# Plt Loss Curves\n",
    "\n",
    "# Plot Accuracy Curves\n"
   ]
  }
 ],
 "metadata": {
  "accelerator": "GPU",
  "colab": {
   "gpuType": "T4",
   "provenance": []
  },
  "kernelspec": {
   "display_name": "Python 3 (ipykernel)",
   "language": "python",
   "name": "python3"
  },
  "language_info": {
   "codemirror_mode": {
    "name": "ipython",
    "version": 3
   },
   "file_extension": ".py",
   "mimetype": "text/x-python",
   "name": "python",
   "nbconvert_exporter": "python",
   "pygments_lexer": "ipython3",
   "version": "3.12.2"
  }
 },
 "nbformat": 4,
 "nbformat_minor": 4
}
