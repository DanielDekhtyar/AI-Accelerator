{
 "cells": [
  {
   "cell_type": "markdown",
   "id": "48bcf7c5-7026-402a-9369-3350311d97be",
   "metadata": {},
   "source": [
    "הקישור לשיתוף:  \n",
    "https://drive.google.com/file/d/1skeGPanoAI7ZPOf7x_YSvWwMM-Ye2mye/view?usp=drive_link"
   ]
  },
  {
   "cell_type": "code",
   "execution_count": null,
   "id": "29f932b2-9f7d-4744-9c59-e10ea5576a8f",
   "metadata": {},
   "outputs": [],
   "source": [
    "import tensorflow as tf\n",
    "import os\n",
    "import matplotlib.pyplot as plt"
   ]
  },
  {
   "cell_type": "code",
   "execution_count": null,
   "id": "2a2d2ad2-17bb-475a-8831-1afc1f76fd5c",
   "metadata": {},
   "outputs": [],
   "source": [
    "# הורדת קובץ ה-ZIP מגוגל דרייב\n",
    "zip_id = \"1skeGPanoAI7ZPOf7x_YSvWwMM-Ye2mye\"\n",
    "!gdown --id {zip_id} -O dataset.zip\n",
    "\n",
    "# חילוץ הקבצים\n",
    "!unzip dataset.zip -d dataset\n",
    "print(\"הללויה הקבצים כאן\")"
   ]
  },
  {
   "cell_type": "code",
   "execution_count": null,
   "id": "04197afc-7996-4486-90da-9cc16058b843",
   "metadata": {},
   "outputs": [],
   "source": [
    "# נתיבי התיקיות\n",
    "train_path = \"dataset/train\"\n",
    "test_path = \"dataset/test\""
   ]
  },
  {
   "cell_type": "code",
   "execution_count": null,
   "id": "a2053cde-2a69-4621-80fc-ccc69b105e24",
   "metadata": {},
   "outputs": [],
   "source": [
    "# טעינת התמונות ישירות מהתיקיות\n",
    "train_dataset = tf.keras.utils.image_dataset_from_directory(\n",
    "    train_path,\n",
    "    image_size=(150, 150),\n",
    "    batch_size=32\n",
    ")\n",
    "\n",
    "test_dataset = tf.keras.utils.image_dataset_from_directory(\n",
    "    test_path,\n",
    "    image_size=(150, 150),\n",
    "    batch_size=32\n",
    ")"
   ]
  },
  {
   "cell_type": "code",
   "execution_count": null,
   "id": "93ecf5c5-ac13-4d75-8168-dfac6a714846",
   "metadata": {},
   "outputs": [],
   "source": [
    "class_names = train_dataset.class_names #תרא איזה קסם- הוא קרא את זה משמות התיקיות"
   ]
  },
  {
   "cell_type": "code",
   "execution_count": null,
   "id": "b1efadd0-5235-4315-8f26-b7ad5597abeb",
   "metadata": {},
   "outputs": [],
   "source": [
    "#בואו נראה שהוא טען את התמונות כמו שצריך\n",
    "for images, labels in train_dataset.take(1):  # לקחת קבוצה אחת (רנדומלית) של תמונות\n",
    "    plt.figure(figsize=(10, 5))\n",
    "    for i in range(5):  # הצגת 5 תמונות\n",
    "        ax = plt.subplot(1, 5, i + 1)\n",
    "        plt.imshow(images[i].numpy().astype(\"uint8\"))  # הצגת תמונה בפורמט של תמונה\n",
    "        plt.title(class_names[int(labels[i])])  # שם הקטגוריה\n",
    "        plt.axis(\"off\")  # ביטול הצירים\n",
    "    plt.show()"
   ]
  },
  {
   "cell_type": "code",
   "execution_count": null,
   "id": "929eae39-84ed-42b6-8fe7-2efc1337a290",
   "metadata": {},
   "outputs": [],
   "source": [
    "# בנו מודל למיון התמונות\n",
    "# חד פעמים שכבה ראשונה במודל צריכה להיות:\n",
    "# tf.keras.layers.Rescaling(1./255),  # שכבת נורמליזציה\n",
    "# בחרו פונקציית אקטיבציה בשכבת הפלט בתבונה"
   ]
  },
  {
   "cell_type": "code",
   "execution_count": null,
   "id": "2a03d17c-8525-4b28-a1b3-12344978d23e",
   "metadata": {},
   "outputs": [],
   "source": [
    "# קומפילציה של המודל\n",
    "#בחרו פונקציית הפסד בתבונה \n",
    "\n",
    "# אימון המודל\n",
    "# השתמשו בנתוני המבחן עבור סט הולידציה\n"
   ]
  },
  {
   "cell_type": "markdown",
   "id": "d02389d2-22be-4266-ad33-9e6df32f9ca0",
   "metadata": {},
   "source": [
    "אם נשאר זמן אפשר להוסיף גם את שני השלבים הבאים"
   ]
  },
  {
   "cell_type": "code",
   "execution_count": null,
   "id": "7c9a7e1a-c8d0-4bdd-a32d-3e0139180752",
   "metadata": {},
   "outputs": [],
   "source": [
    "# הערכת המודל\n"
   ]
  },
  {
   "cell_type": "code",
   "execution_count": null,
   "id": "bacc44d5-37dc-413e-9d2c-6e06cf0be5d7",
   "metadata": {},
   "outputs": [],
   "source": [
    "# הצגת גרף דיוק האימון\n"
   ]
  }
 ],
 "metadata": {
  "kernelspec": {
   "display_name": "Python 3 (ipykernel)",
   "language": "python",
   "name": "python3"
  },
  "language_info": {
   "codemirror_mode": {
    "name": "ipython",
    "version": 3
   },
   "file_extension": ".py",
   "mimetype": "text/x-python",
   "name": "python",
   "nbconvert_exporter": "python",
   "pygments_lexer": "ipython3",
   "version": "3.12.2"
  }
 },
 "nbformat": 4,
 "nbformat_minor": 5
}
