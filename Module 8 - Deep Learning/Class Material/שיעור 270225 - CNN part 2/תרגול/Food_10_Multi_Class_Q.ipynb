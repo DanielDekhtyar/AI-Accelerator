{
 "cells": [
  {
   "cell_type": "code",
   "execution_count": null,
   "metadata": {
    "colab": {
     "base_uri": "https://localhost:8080/"
    },
    "id": "k4aLVCnmSTrM",
    "outputId": "a5c04389-53c1-4d50-a382-94e29680846d"
   },
   "outputs": [],
   "source": [
    "#upload images\n",
    "# הורדת קובץ ה-ZIP מגוגל דרייב\n",
    "#https://drive.google.com/file/d/1-329XUOi4XaagdlutAqvPi4yKB-bX9U9/view?usp=drive_link\n",
    "zip_id = \"1-329XUOi4XaagdlutAqvPi4yKB-bX9U9\"\n",
    "!gdown --id {zip_id} -O food_10.zip\n",
    "\n",
    "# חילוץ הקבצים\n",
    "!unzip food_10.zip -d food_10"
   ]
  },
  {
   "cell_type": "code",
   "execution_count": null,
   "metadata": {
    "id": "tZ7pISV0SjUU"
   },
   "outputs": [],
   "source": [
    "# Preprocessing and Ingest Data\n",
    "import os\n",
    "import numpy as np\n",
    "import tensorflow as tf\n",
    "from tensorflow.keras import Sequential\n",
    "from tensorflow.keras.layers import Dense, Conv2D, MaxPool2D, Flatten, Activation, Dropout, BatchNormalization\n",
    "from tensorflow.keras.preprocessing.image import ImageDataGenerator\n",
    "from tensorflow.keras.optimizers import RMSprop\n",
    "from tensorflow.keras.preprocessing.image import ImageDataGenerator, array_to_img, img_to_array, load_img\n",
    "import matplotlib.pyplot as plt"
   ]
  },
  {
   "cell_type": "code",
   "execution_count": null,
   "metadata": {
    "id": "f97MrF2kS4ad"
   },
   "outputs": [],
   "source": [
    "#use ImageDataGenerator to create train_datagen and test_datagen\n"
   ]
  },
  {
   "cell_type": "code",
   "execution_count": null,
   "metadata": {
    "colab": {
     "base_uri": "https://localhost:8080/"
    },
    "id": "44ChQDNiS888",
    "outputId": "585b9c3a-1185-4c0a-ce58-0f5a5e921622"
   },
   "outputs": [],
   "source": [
    "#create train/test generators, make sure to use class_mode='categorical'\n",
    "#use taret_size 200x200\n"
   ]
  },
  {
   "cell_type": "code",
   "execution_count": null,
   "metadata": {
    "colab": {
     "base_uri": "https://localhost:8080/"
    },
    "id": "5J4p5t-ETEJ5",
    "outputId": "4b787a49-e0f7-4dff-ba11-e96e9e2ae60f"
   },
   "outputs": [],
   "source": [
    "#build a model, use at leasrt one BatchNormalization layer and at least on Dropout layer\n",
    "#please make sure the SHAPE OF THE OUTPUT LAYER IS CORRECTLY DEFINED\n",
    "# Build Model"
   ]
  },
  {
   "cell_type": "code",
   "execution_count": null,
   "metadata": {
    "colab": {
     "base_uri": "https://localhost:8080/"
    },
    "id": "5J4p5t-ETEJ5",
    "outputId": "4b787a49-e0f7-4dff-ba11-e96e9e2ae60f"
   },
   "outputs": [],
   "source": [
    "# Compile the Model with RMSprop"
   ]
  },
  {
   "cell_type": "code",
   "execution_count": null,
   "metadata": {
    "colab": {
     "base_uri": "https://localhost:8080/"
    },
    "id": "5J4p5t-ETEJ5",
    "outputId": "4b787a49-e0f7-4dff-ba11-e96e9e2ae60f"
   },
   "outputs": [],
   "source": [
    "#fit the model 2-3 epochs will do, it is going to be slow..\n"
   ]
  },
  {
   "cell_type": "code",
   "execution_count": null,
   "metadata": {
    "colab": {
     "base_uri": "https://localhost:8080/",
     "height": 447
    },
    "id": "e6_xgrQ2l6h3",
    "outputId": "be95d533-e93b-4a39-bea1-2f431db238e6"
   },
   "outputs": [],
   "source": [
    "#plot th eloss and the val_loss\n"
   ]
  },
  {
   "cell_type": "code",
   "execution_count": null,
   "metadata": {
    "colab": {
     "base_uri": "https://localhost:8080/"
    },
    "id": "MHfvMjevmD2Y",
    "outputId": "f57ea1a5-834f-46e5-aeeb-ca04f5cb04a7"
   },
   "outputs": [],
   "source": [
    "# Test the model\n",
    "#try the model on one image\n"
   ]
  },
  {
   "cell_type": "code",
   "execution_count": null,
   "metadata": {
    "id": "Rbs4xHta5_Qx"
   },
   "outputs": [],
   "source": []
  }
 ],
 "metadata": {
  "colab": {
   "provenance": []
  },
  "kernelspec": {
   "display_name": "Python 3 (ipykernel)",
   "language": "python",
   "name": "python3"
  },
  "language_info": {
   "codemirror_mode": {
    "name": "ipython",
    "version": 3
   },
   "file_extension": ".py",
   "mimetype": "text/x-python",
   "name": "python",
   "nbconvert_exporter": "python",
   "pygments_lexer": "ipython3",
   "version": "3.12.2"
  }
 },
 "nbformat": 4,
 "nbformat_minor": 4
}
