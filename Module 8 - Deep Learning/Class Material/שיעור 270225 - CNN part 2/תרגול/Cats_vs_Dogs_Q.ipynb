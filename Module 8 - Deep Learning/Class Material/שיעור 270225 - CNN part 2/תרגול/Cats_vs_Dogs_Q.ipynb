{
 "cells": [
  {
   "cell_type": "code",
   "execution_count": 1,
   "metadata": {
    "id": "eb6ic9s_FxXg"
   },
   "outputs": [],
   "source": [
    "#import libraries\n",
    "import tensorflow as tf\n",
    "from tensorflow.keras.optimizers import RMSprop, Adam\n",
    "import numpy as np\n",
    "from tensorflow.keras.preprocessing.image import ImageDataGenerator, array_to_img, img_to_array, load_img"
   ]
  },
  {
   "cell_type": "code",
   "execution_count": null,
   "metadata": {
    "colab": {
     "base_uri": "https://localhost:8080/"
    },
    "id": "WySRt0pnF8kU",
    "outputId": "4f3de5bc-a5da-4ec0-f173-80595b4f23fb"
   },
   "outputs": [],
   "source": [
    "#upload images\n",
    "# הורדת קובץ ה-ZIP מגוגל דרייב\n",
    "#https://drive.google.com/file/d/1-1QZ65R2lWBjBxaOXOXb9VxOYb83dkec/view?usp=sharing\n",
    "zip_id = \"1-1QZ65R2lWBjBxaOXOXb9VxOYb83dkec\"\n",
    "!gdown --id {zip_id} -O cats_vs_dogs.zip\n",
    "\n",
    "# חילוץ הקבצים\n",
    "!unzip cats_vs_dogs.zip -d cats_vs_dogs\n",
    "print('-'*20+'\\n Upload Completed!!\\n'+'-'*20)"
   ]
  },
  {
   "cell_type": "code",
   "execution_count": null,
   "metadata": {
    "colab": {
     "base_uri": "https://localhost:8080/",
     "height": 423
    },
    "id": "uhIVmbivHOZY",
    "outputId": "d86d6e21-1674-4a99-df00-7aa508651ac9"
   },
   "outputs": [],
   "source": [
    "#show one image of tain cat (example)\n",
    "img_path ='cats_vs_dogs/train/cats/cat.10.jpg'\n",
    "img = load_img(img_path)\n",
    "plt.imshow(img)\n",
    "plt.axis(\"off\")"
   ]
  },
  {
   "cell_type": "code",
   "execution_count": null,
   "metadata": {
    "colab": {
     "base_uri": "https://localhost:8080/",
     "height": 423
    },
    "id": "FSOS8zFBH-Qs",
    "outputId": "f670bfb2-0f51-47d0-84d2-a9bebadccc25"
   },
   "outputs": [],
   "source": [
    "#show one image of tset dog\n",
    "#wha t is the image size?"
   ]
  },
  {
   "cell_type": "code",
   "execution_count": null,
   "metadata": {
    "id": "SGdBU_JcGNzI"
   },
   "outputs": [],
   "source": [
    "#Use Image ImageDataGenerator to create train_datagen and test_datagen\n",
    "#make sure you rescale all sets\n",
    "#use a few or all of these options for the training set:\n",
    "#rotation_range 30 degrees,width_shift_range 15% percent ,height_shift_range 20%,shear_range 25%,zoom_rang 17%,horizontal_flip\n",
    "\n"
   ]
  },
  {
   "cell_type": "code",
   "execution_count": null,
   "metadata": {
    "colab": {
     "base_uri": "https://localhost:8080/"
    },
    "id": "5IM-preWGaVZ",
    "outputId": "95343b00-9b05-4619-a823-038890ac63a9"
   },
   "outputs": [],
   "source": [
    "#define the train_path and the test_path\n"
   ]
  },
  {
   "cell_type": "code",
   "execution_count": null,
   "metadata": {
    "colab": {
     "base_uri": "https://localhost:8080/"
    },
    "id": "5IM-preWGaVZ",
    "outputId": "95343b00-9b05-4619-a823-038890ac63a9"
   },
   "outputs": [],
   "source": [
    "#use flow_from_directory to create train_generator and test_generator\n",
    "#give it directory, target_sze, batch_size and class_mode (you may also want to use seed =42)\n"
   ]
  },
  {
   "cell_type": "code",
   "execution_count": null,
   "metadata": {
    "colab": {
     "base_uri": "https://localhost:8080/"
    },
    "id": "OyEh1y4iJE2L",
    "outputId": "9d022141-65b4-47e2-dc5f-145e98c01df4"
   },
   "outputs": [],
   "source": [
    "# בעזרת המתודה class_indicies\n",
    "#הדפיסו את שמות הקטגוריות\n"
   ]
  },
  {
   "cell_type": "code",
   "execution_count": null,
   "metadata": {
    "id": "N0s6jHOgKOhQ"
   },
   "outputs": [],
   "source": [
    "# Define model\n"
   ]
  },
  {
   "cell_type": "code",
   "execution_count": null,
   "metadata": {
    "id": "JpqS5zjeLB9-"
   },
   "outputs": [],
   "source": [
    "# Compile model\n"
   ]
  },
  {
   "cell_type": "code",
   "execution_count": null,
   "metadata": {
    "colab": {
     "base_uri": "https://localhost:8080/"
    },
    "id": "i8ph0D_qLIqa",
    "outputId": "83a4eade-4f95-4a2b-c5e4-7d770cd2b3b6"
   },
   "outputs": [],
   "source": [
    "# Train model\n"
   ]
  },
  {
   "cell_type": "code",
   "execution_count": null,
   "metadata": {
    "colab": {
     "base_uri": "https://localhost:8080/",
     "height": 489
    },
    "id": "9lPTHlS_N5ot",
    "outputId": "2c525647-6124-4977-bea7-bea0da19123d"
   },
   "outputs": [],
   "source": [
    "#plot loss and accuracy curves with subplots\n"
   ]
  },
  {
   "cell_type": "code",
   "execution_count": null,
   "metadata": {
    "colab": {
     "base_uri": "https://localhost:8080/"
    },
    "id": "MvoCofWLJHQO",
    "outputId": "f29ac4bf-562a-4a59-df64-3f9b10ac9c25"
   },
   "outputs": [],
   "source": [
    "# בחנו את המודל עם תמונה השל כלב או חתול רנדומלי מהרשת או אם יש לכם תמונה של כלב או חתול שלכם\n",
    "# הגדירו נתיב\n",
    "\n",
    "\n",
    "#load the image from the path using load_img, make sure to give the image a target_size that will fi the model\n",
    "\n",
    "# convert the image with numpy array with img_to_array method\n",
    "\n",
    "#use np.expAnd_dims to add 1 more dim. on axis=0 tot the array\n",
    "\n",
    "# normalize the result\n",
    "\n",
    "#predict if the image is of a cat 😈or a dog😇\n"
   ]
  }
 ],
 "metadata": {
  "accelerator": "GPU",
  "colab": {
   "gpuType": "T4",
   "provenance": []
  },
  "kernelspec": {
   "display_name": "Python 3 (ipykernel)",
   "language": "python",
   "name": "python3"
  },
  "language_info": {
   "codemirror_mode": {
    "name": "ipython",
    "version": 3
   },
   "file_extension": ".py",
   "mimetype": "text/x-python",
   "name": "python",
   "nbconvert_exporter": "python",
   "pygments_lexer": "ipython3",
   "version": "3.12.2"
  }
 },
 "nbformat": 4,
 "nbformat_minor": 4
}
