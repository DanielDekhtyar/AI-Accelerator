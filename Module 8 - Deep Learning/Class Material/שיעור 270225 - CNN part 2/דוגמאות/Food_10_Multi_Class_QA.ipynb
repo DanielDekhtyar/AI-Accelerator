{
 "cells": [
  {
   "cell_type": "code",
   "execution_count": null,
   "metadata": {
    "colab": {
     "base_uri": "https://localhost:8080/"
    },
    "id": "k4aLVCnmSTrM",
    "outputId": "a5c04389-53c1-4d50-a382-94e29680846d"
   },
   "outputs": [],
   "source": [
    "#upload images\n",
    "# הורדת קובץ ה-ZIP מגוגל דרייב\n",
    "#https://drive.google.com/file/d/1-329XUOi4XaagdlutAqvPi4yKB-bX9U9/view?usp=drive_link\n",
    "zip_id = \"1-329XUOi4XaagdlutAqvPi4yKB-bX9U9\"\n",
    "!gdown --id {zip_id} -O food_10.zip\n",
    "\n",
    "# חילוץ הקבצים\n",
    "!unzip food_10.zip -d food_10"
   ]
  },
  {
   "cell_type": "code",
   "execution_count": null,
   "metadata": {
    "id": "tZ7pISV0SjUU"
   },
   "outputs": [],
   "source": [
    "# Preprocessing and Ingest Data\n",
    "import os\n",
    "import numpy as np\n",
    "import tensorflow as tf\n",
    "from tensorflow.keras import Sequential\n",
    "from tensorflow.keras.layers import Dense, Conv2D, MaxPool2D, Flatten, Activation, Dropout, BatchNormalization\n",
    "from tensorflow.keras.preprocessing.image import ImageDataGenerator\n",
    "from tensorflow.keras.optimizers import RMSprop\n",
    "from tensorflow.keras.preprocessing.image import ImageDataGenerator, array_to_img, img_to_array, load_img\n"
   ]
  },
  {
   "cell_type": "code",
   "execution_count": null,
   "metadata": {
    "id": "f97MrF2kS4ad"
   },
   "outputs": [],
   "source": [
    "#use ImageDataGenerator to create train_datagen and test_datagen\n",
    "train_datagen = ImageDataGenerator(\n",
    "    rescale=1./255,\n",
    "    rotation_range=40,\n",
    "    width_shift_range=0.2,\n",
    "    height_shift_range=0.2,\n",
    "    shear_range=0.2,\n",
    "    zoom_range=0.2,\n",
    "    horizontal_flip=True,\n",
    "    fill_mode='nearest')\n",
    "\n",
    "test_datagen = ImageDataGenerator(rescale=1./255)"
   ]
  },
  {
   "cell_type": "code",
   "execution_count": null,
   "metadata": {
    "colab": {
     "base_uri": "https://localhost:8080/"
    },
    "id": "44ChQDNiS888",
    "outputId": "585b9c3a-1185-4c0a-ce58-0f5a5e921622"
   },
   "outputs": [],
   "source": [
    "#create train/test generators, make sure to use class_mode='categorical'\n",
    "#use taret_size 200x200\n",
    "train_generator = train_datagen.flow_from_directory(\n",
    "    'food_10/train/',\n",
    "    target_size=(200, 200),\n",
    "    batch_size=32,\n",
    "    class_mode='categorical',\n",
    "    seed=42\n",
    ")\n",
    "\n",
    "test_generator = test_datagen.flow_from_directory(\n",
    "    'food_10/test/',\n",
    "    target_size=(200, 200),\n",
    "    batch_size=32,\n",
    "    class_mode='categorical',\n",
    "    seed=42\n",
    ")\n"
   ]
  },
  {
   "cell_type": "code",
   "execution_count": null,
   "metadata": {
    "colab": {
     "base_uri": "https://localhost:8080/"
    },
    "id": "5J4p5t-ETEJ5",
    "outputId": "4b787a49-e0f7-4dff-ba11-e96e9e2ae60f"
   },
   "outputs": [],
   "source": [
    "#build a model, use at leasrt one BatchNormalization layer and at least on Dropout layer\n",
    "#please make sure the SHAPE OF THE OUTPUT LAYER IS CORRECTLY DEFINED\n",
    "# Build Model\n",
    "model = Sequential([\n",
    "    Conv2D(10, (3, 3), input_shape=(200, 200, 3)),\n",
    "    BatchNormalization(),\n",
    "    Activation(activation='relu'),\n",
    "    Dropout(0.2),\n",
    "    Conv2D(10, 3, activation='relu'),\n",
    "    MaxPool2D(),\n",
    "    Dropout(0.2),\n",
    "    Conv2D(10, 3, activation='relu'),\n",
    "    MaxPool2D(),\n",
    "    Dropout(0.2),\n",
    "    Flatten(),\n",
    "    Dense(32, activation ='relu'),\n",
    "    Dense(10, activation='softmax')\n",
    "])\n",
    "\n",
    "# Compile & Fit Model with RMSprop\n",
    "model.compile(optimizer=RMSprop(learning_rate=0.001),\n",
    "              loss='categorical_crossentropy',\n",
    "              metrics=['accuracy'])\n",
    "\n",
    "history = model.fit(\n",
    "    train_generator,\n",
    "    epochs=10,#mach less even 3..\n",
    "    validation_data=test_generator\n",
    "\n",
    ")\n"
   ]
  },
  {
   "cell_type": "code",
   "execution_count": null,
   "metadata": {
    "colab": {
     "base_uri": "https://localhost:8080/",
     "height": 447
    },
    "id": "e6_xgrQ2l6h3",
    "outputId": "be95d533-e93b-4a39-bea1-2f431db238e6"
   },
   "outputs": [],
   "source": [
    "import matplotlib.pyplot as plt\n",
    "plt.plot(range(len(history.history['loss'])), history.history['loss'], label=\"training_loss\")\n",
    "plt.plot(range(len(history.history['loss'])), history.history['val_loss'], label=\"val_loss\")\n",
    "plt.legend()\n"
   ]
  },
  {
   "cell_type": "code",
   "execution_count": null,
   "metadata": {
    "colab": {
     "base_uri": "https://localhost:8080/"
    },
    "id": "MHfvMjevmD2Y",
    "outputId": "f57ea1a5-834f-46e5-aeeb-ca04f5cb04a7"
   },
   "outputs": [],
   "source": [
    "# Test the model\n",
    "img_path ='/content/food_10/test/pancakes/101644.jpg'#pancake\n",
    "img = load_img(img_path, target_size=(200, 200))  #גודל תואם אימון\n",
    "\n",
    "# convert the image with numpy array with img_to_array method\n",
    "img_array = img_to_array(img)\n",
    "\n",
    "#use np.expAnd_dims to add 1 more dim. on axis=0 to the array\n",
    "img_array = np.expand_dims(img_array, axis=0)\n",
    "\n",
    "# normalize the result\n",
    "img_array = img_array / 255.0\n",
    "\n",
    "#predict\n",
    "prediction=model.predict(img_array)\n",
    "selected_label = np.argmax(prediction)\n"
   ]
  },
  {
   "cell_type": "code",
   "execution_count": null,
   "metadata": {
    "colab": {
     "base_uri": "https://localhost:8080/",
     "height": 423
    },
    "id": "-IDrlEBm4l-w",
    "outputId": "f965cea2-9871-4c1b-845f-1bcb11baa410"
   },
   "outputs": [],
   "source": [
    "# שליפת שם הקטגוריה ישירות מהמילון\n",
    "class_labels = {v: k for k, v in train_generator.class_indices.items()}# הופכים את המילון\n",
    "#{v: k for k, v in train_generator.class_indices.items()}\n",
    "predicted_class = class_labels[selected_label]  # שליפת שם הקטגוריה לפי מספר\n",
    "\n",
    "# הצגת התוצאה\n",
    "print(f\"Predicted category: {predicted_class}\")\n",
    "\n",
    "# הצגת התמונה\n",
    "plt.imshow(img)\n",
    "plt.axis(\"off\")\n",
    "plt.show()"
   ]
  },
  {
   "cell_type": "code",
   "execution_count": null,
   "metadata": {
    "id": "Rbs4xHta5_Qx"
   },
   "outputs": [],
   "source": []
  }
 ],
 "metadata": {
  "colab": {
   "provenance": []
  },
  "kernelspec": {
   "display_name": "Python 3 (ipykernel)",
   "language": "python",
   "name": "python3"
  },
  "language_info": {
   "codemirror_mode": {
    "name": "ipython",
    "version": 3
   },
   "file_extension": ".py",
   "mimetype": "text/x-python",
   "name": "python",
   "nbconvert_exporter": "python",
   "pygments_lexer": "ipython3",
   "version": "3.12.2"
  }
 },
 "nbformat": 4,
 "nbformat_minor": 4
}
