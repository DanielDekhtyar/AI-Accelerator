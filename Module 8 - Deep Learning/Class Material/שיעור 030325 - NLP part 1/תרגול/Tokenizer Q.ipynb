{
 "cells": [
  {
   "cell_type": "code",
   "execution_count": 29,
   "id": "0b56dfdf-185a-4a68-a245-97ed1596a0f3",
   "metadata": {},
   "outputs": [],
   "source": [
    "import tensorflow as tf\n",
    "from tensorflow import keras\n",
    "from tensorflow.keras.preprocessing.text import Tokenizer\n",
    "from tensorflow.keras.preprocessing.sequence import pad_sequences"
   ]
  },
  {
   "cell_type": "markdown",
   "id": "330d3de1-e19d-4fd7-bcf5-cff71e6617b8",
   "metadata": {},
   "source": [
    "1. עבור רשימת המשפטים הבאה צור טוקנייזר יש לאפשר עד 50 מילים \n",
    "2. הדפס את האינדקס שנוצר\n",
    "3.  הרץ `texts_to_sequences` עבור המשפט הראשון ברשימה \n",
    "4. אם מריצים `texts_to_sequences`  \n",
    " עבור המשפטים  \n",
    "   `לא כיף איתי`\n",
    "   `הם אומרים חביתה אני אומרת בגט`\n",
    "   מה התוצאה שמתקבלת?\n",
    "5. חזור שוב על סעיף אחד הפעם יש לאפשר עד 50 מילים- האם התשובות לסעיף 3 השתנו? למה?\n",
    "6. הוסף מה שצריך על מנת שמילים לא מכורות יקבלו ערך `<OOV>`\n",
    "7. הצג  את 5 המילים הנפוצות ביותר בטוקנייזר\n",
    "8. צור מחדש את הטוקנייזר כך שיאפשר עד 50 מילים, ויסמן בצורה מקובלת את המילים הנוספות\n",
    "9. צור משתנה מסוג רשימה המכיל רק את המילים שהטוקנייזר מכיר, שים לב לא לכלול את הסמן למילים לא מוכרות ברשימה\n",
    "10. מה אורך המשפט הארוך ביותר מבין המשפטים שבנו את הטוקנייזר?\n",
    "11. רפד את כל המשפטים בראשיתם באפסים שיהיו באותו אורך כמו המשפט הארוך ביותר\n",
    "12. נשאר זמן? בעזרת הרשימה מסעיף 9 צור פונקציה שבכל הרצה שלה מחזירה משפט של 3-7 מילים מתוך הטונייזר.  נשאר עוד זמן? אפשר לשלוח את הצעות השירים לטאלנטים המובילים. בהצלחה"
   ]
  },
  {
   "cell_type": "code",
   "execution_count": 3,
   "id": "43723e2c-74ef-4122-bf77-83cbd8a8a323",
   "metadata": {},
   "outputs": [],
   "source": [
    "sentences= [\n",
    "#נסרין קדרי\n",
    "\"לא לפנות אליי\",\n",
    "\"לא לדבר אליי\",\n",
    "\"אל תבוא אליי\",\n",
    "\"אל תתקשר אליי\",\n",
    "\"איזה כיף איתי\",\n",
    "\"ואוו חוויה ממש\",\n",
    "#נועה קירל\n",
    "\"אני פנתרה\",\n",
    "\"אני ערה וכולם ישנים\",\n",
    "\"הם אומרים שאני מוזרה\",\n",
    "\"אני אומרת שהם רגילים\",\n",
    "#אבי לוי\n",
    "\"לחם חביתה בנתניה\",\n",
    "\"גיבורי ישראל 24\",\n",
    "\"בגט עם נשמה עכשיו אכלת\",\n",
    "\"בטוח שתחזור בחזרה\"]"
   ]
  },
  {
   "cell_type": "code",
   "execution_count": null,
   "id": "f00187f7-54ae-4f2c-822a-0e6495bc39be",
   "metadata": {},
   "outputs": [],
   "source": []
  },
  {
   "cell_type": "code",
   "execution_count": null,
   "id": "45753890-669a-4324-a98d-27b7904a992b",
   "metadata": {},
   "outputs": [],
   "source": []
  },
  {
   "cell_type": "markdown",
   "id": "475d3340-1106-4f09-8b10-c478b5072f86",
   "metadata": {},
   "source": []
  },
  {
   "cell_type": "code",
   "execution_count": null,
   "id": "0c44c72b-0f2c-4950-b595-6ae49df20851",
   "metadata": {},
   "outputs": [],
   "source": []
  },
  {
   "cell_type": "code",
   "execution_count": null,
   "id": "784a947f-dc74-4d05-9221-4767c289d044",
   "metadata": {},
   "outputs": [],
   "source": []
  },
  {
   "cell_type": "code",
   "execution_count": null,
   "id": "c55bf505-ad57-4e3e-a540-1c4c1cfc7255",
   "metadata": {},
   "outputs": [],
   "source": []
  },
  {
   "cell_type": "code",
   "execution_count": null,
   "id": "c1151c34-664e-486a-8f70-da080eef95c2",
   "metadata": {},
   "outputs": [],
   "source": []
  },
  {
   "cell_type": "code",
   "execution_count": null,
   "id": "1d1e544f-2ed7-422c-90d7-531a6518f9b9",
   "metadata": {},
   "outputs": [],
   "source": []
  },
  {
   "cell_type": "code",
   "execution_count": null,
   "id": "e2be36da-653e-4cc5-9524-714e386099b7",
   "metadata": {},
   "outputs": [],
   "source": []
  }
 ],
 "metadata": {
  "kernelspec": {
   "display_name": "Python 3 (ipykernel)",
   "language": "python",
   "name": "python3"
  },
  "language_info": {
   "codemirror_mode": {
    "name": "ipython",
    "version": 3
   },
   "file_extension": ".py",
   "mimetype": "text/x-python",
   "name": "python",
   "nbconvert_exporter": "python",
   "pygments_lexer": "ipython3",
   "version": "3.12.2"
  }
 },
 "nbformat": 4,
 "nbformat_minor": 5
}
