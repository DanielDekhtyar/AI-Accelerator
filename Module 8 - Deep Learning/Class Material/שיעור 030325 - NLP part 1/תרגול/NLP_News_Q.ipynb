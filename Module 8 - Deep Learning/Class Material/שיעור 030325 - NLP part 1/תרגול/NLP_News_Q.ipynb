{
 "cells": [
  {
   "cell_type": "code",
   "execution_count": null,
   "metadata": {
    "id": "3A1UzN2XTtcE"
   },
   "outputs": [],
   "source": [
    "import pandas as pd\n",
    "import numpy as np\n",
    "import tensorflow as tf\n",
    "import matplotlib.pyplot as plt\n",
    "from tensorflow.keras.preprocessing.text import Tokenizer\n",
    "from tensorflow.keras.preprocessing.sequence import pad_sequences\n",
    "from sklearn.model_selection import train_test_split\n",
    "from tensorflow.keras.utils import to_categorical\n",
    "from sklearn.preprocessing import LabelEncoder\n",
    "from tensorflow.keras.models import Sequential\n",
    "from tensorflow.keras.optimizers import Adam\n",
    "from tensorflow.keras.layers import Embedding, GlobalAveragePooling1D, Dense, Flatten"
   ]
  },
  {
   "cell_type": "code",
   "execution_count": null,
   "metadata": {
    "id": "M-XsHBqHT5hG"
   },
   "outputs": [],
   "source": [
    "df= pd.read_csv('News_Category_Dataset_Reduced_25.csv')"
   ]
  },
  {
   "cell_type": "markdown",
   "metadata": {},
   "source": [
    " בנו מודל שחוזה קטגוריית חדשות עפ המלל.   \n",
    " תנסו לעשות אותו עם כמה שפחות עליה בפונקציית העלות של סט הוידוא    \n",
    " ואל תשכחו לעשות גם גרף של העלויות והדיוקים."
   ]
  },
  {
   "cell_type": "code",
   "execution_count": null,
   "metadata": {},
   "outputs": [],
   "source": []
  },
  {
   "cell_type": "code",
   "execution_count": null,
   "metadata": {},
   "outputs": [],
   "source": []
  },
  {
   "cell_type": "code",
   "execution_count": null,
   "metadata": {},
   "outputs": [],
   "source": []
  },
  {
   "cell_type": "code",
   "execution_count": null,
   "metadata": {},
   "outputs": [],
   "source": []
  },
  {
   "cell_type": "code",
   "execution_count": null,
   "metadata": {},
   "outputs": [],
   "source": []
  },
  {
   "cell_type": "code",
   "execution_count": null,
   "metadata": {},
   "outputs": [],
   "source": []
  },
  {
   "cell_type": "code",
   "execution_count": null,
   "metadata": {},
   "outputs": [],
   "source": []
  },
  {
   "cell_type": "code",
   "execution_count": null,
   "metadata": {
    "id": "GYSYy1fcUmEG"
   },
   "outputs": [],
   "source": [
    "#קוד ליצירת קבצים להעלאה לאתר שעושה ויזואליזציה, אם יש צורך שנו את שמות המשתנים כל שיתאימו למה שאתם כתבתם\n",
    "## this is for the site-https://projector.tensorflow.org/\n",
    "def get_reverse_index(tokenizer):\n",
    "  return tokenizer.index_word\n",
    "\n",
    "reverse_index = get_reverse_index(tokenizer)\n",
    "\n",
    "first_10_pairs = list(reverse_index.items())[:10]\n",
    "\n",
    "for index, word in first_10_pairs:\n",
    "  print(index, word)\n",
    "\n",
    "\n",
    "embedding_layer = model.layers[0]\n",
    "embeddings = embedding_layer.get_weights()[0]\n",
    "\n",
    "np.savetxt(\"vectors.tsv\", embeddings, delimiter=\"\\t\")\n",
    "\n",
    "with open(\"metadata.tsv\", \"w\", encoding='utf-8') as f:\n",
    "  for i in range(1, 607 + 1): #num_words=607 dont kow why\n",
    "    word = reverse_index.get(i, \"<OOV>\")\n",
    "    f.write(word + \"\\n\")\n",
    "\n",
    "from google.colab import files\n",
    "files.download(\"vectors.tsv\")\n",
    "\n",
    "files.download(\"metadata.tsv\")\n"
   ]
  }
 ],
 "metadata": {
  "colab": {
   "provenance": []
  },
  "kernelspec": {
   "display_name": "Python 3 (ipykernel)",
   "language": "python",
   "name": "python3"
  },
  "language_info": {
   "codemirror_mode": {
    "name": "ipython",
    "version": 3
   },
   "file_extension": ".py",
   "mimetype": "text/x-python",
   "name": "python",
   "nbconvert_exporter": "python",
   "pygments_lexer": "ipython3",
   "version": "3.12.2"
  }
 },
 "nbformat": 4,
 "nbformat_minor": 4
}
