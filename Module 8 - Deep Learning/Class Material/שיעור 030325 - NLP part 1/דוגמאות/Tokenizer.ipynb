{
  "nbformat": 4,
  "nbformat_minor": 0,
  "metadata": {
    "colab": {
      "provenance": []
    },
    "kernelspec": {
      "name": "python3",
      "display_name": "Python 3"
    },
    "language_info": {
      "name": "python"
    }
  },
  "cells": [
    {
      "cell_type": "code",
      "execution_count": 1,
      "metadata": {
        "id": "MnzqGBMH2vBs"
      },
      "outputs": [],
      "source": [
        "import tensorflow as tf\n",
        "from tensorflow import keras\n",
        "from tensorflow.keras.preprocessing.text import Tokenizer"
      ]
    },
    {
      "cell_type": "code",
      "source": [
        "#ASCII\n",
        "ord('A')"
      ],
      "metadata": {
        "colab": {
          "base_uri": "https://localhost:8080/"
        },
        "id": "Z49Kc_Ix5a3J",
        "outputId": "b7400c89-d65a-442f-b0ef-180683ffaf3e"
      },
      "execution_count": 1,
      "outputs": [
        {
          "output_type": "execute_result",
          "data": {
            "text/plain": [
              "65"
            ]
          },
          "metadata": {},
          "execution_count": 1
        }
      ]
    },
    {
      "cell_type": "code",
      "source": [
        "chr(65)"
      ],
      "metadata": {
        "colab": {
          "base_uri": "https://localhost:8080/",
          "height": 36
        },
        "id": "zz63tf7m5a0K",
        "outputId": "ce0af45c-cf5a-456e-976e-dad36ab00303"
      },
      "execution_count": 9,
      "outputs": [
        {
          "output_type": "execute_result",
          "data": {
            "text/plain": [
              "'A'"
            ],
            "application/vnd.google.colaboratory.intrinsic+json": {
              "type": "string"
            }
          },
          "metadata": {},
          "execution_count": 9
        }
      ]
    },
    {
      "cell_type": "code",
      "source": [],
      "metadata": {
        "id": "uQ2bZ2If5axA"
      },
      "execution_count": null,
      "outputs": []
    },
    {
      "cell_type": "code",
      "source": [],
      "metadata": {
        "id": "m3VmOwrb5amR"
      },
      "execution_count": null,
      "outputs": []
    },
    {
      "cell_type": "code",
      "source": [
        "sentences = [\"Let IT be, let it be\",\n",
        "\"Let it be, let it be\",\n",
        "\"Whisper words of wisdom, let it be\",\n",
        "\"IT IT IT IT IT IT IT\"]\n",
        "\n"
      ],
      "metadata": {
        "id": "c8JVbUAJ27Sq"
      },
      "execution_count": 2,
      "outputs": []
    },
    {
      "cell_type": "code",
      "source": [
        "tokenizer =Tokenizer()"
      ],
      "metadata": {
        "id": "tjeR5Bs77NlQ"
      },
      "execution_count": 24,
      "outputs": []
    },
    {
      "cell_type": "code",
      "source": [
        "tokenizer.fit_on_texts(sentences)"
      ],
      "metadata": {
        "id": "qx1KHG7Q7Wav"
      },
      "execution_count": 25,
      "outputs": []
    },
    {
      "cell_type": "code",
      "source": [
        "word_index = tokenizer.word_index"
      ],
      "metadata": {
        "id": "0U11_gxL7ngI"
      },
      "execution_count": 26,
      "outputs": []
    },
    {
      "cell_type": "code",
      "source": [
        "word_index"
      ],
      "metadata": {
        "colab": {
          "base_uri": "https://localhost:8080/"
        },
        "id": "NTFzJFkP73CY",
        "outputId": "104d27d1-24b5-442c-f757-f683f2d363ae"
      },
      "execution_count": 27,
      "outputs": [
        {
          "output_type": "execute_result",
          "data": {
            "text/plain": [
              "{'it': 1, 'let': 2, 'be': 3, 'whisper': 4, 'words': 5, 'of': 6, 'wisdom': 7}"
            ]
          },
          "metadata": {},
          "execution_count": 27
        }
      ]
    },
    {
      "cell_type": "code",
      "source": [
        "list(word_index.keys())"
      ],
      "metadata": {
        "colab": {
          "base_uri": "https://localhost:8080/"
        },
        "id": "FObNFkwm77UP",
        "outputId": "4b91ecc3-4c84-4560-91da-d8e4b2c8d44d"
      },
      "execution_count": 29,
      "outputs": [
        {
          "output_type": "execute_result",
          "data": {
            "text/plain": [
              "['it', 'let', 'be', 'whisper', 'words', 'of', 'wisdom']"
            ]
          },
          "metadata": {},
          "execution_count": 29
        }
      ]
    },
    {
      "cell_type": "code",
      "source": [
        "tokenizer.texts_to_sequences(['Let it go'])"
      ],
      "metadata": {
        "colab": {
          "base_uri": "https://localhost:8080/"
        },
        "id": "Zasez2zs8vw3",
        "outputId": "fd6c23b3-9e92-4751-fcb5-e540a985c1dc"
      },
      "execution_count": 32,
      "outputs": [
        {
          "output_type": "execute_result",
          "data": {
            "text/plain": [
              "[[2, 1]]"
            ]
          },
          "metadata": {},
          "execution_count": 32
        }
      ]
    },
    {
      "cell_type": "code",
      "source": [
        "tokenizer =Tokenizer(oov_token =\"<OOV>\")\n",
        "tokenizer.fit_on_texts(sentences)\n",
        "word_index = tokenizer.word_index\n",
        "word_index\n"
      ],
      "metadata": {
        "colab": {
          "base_uri": "https://localhost:8080/"
        },
        "id": "AGdI77CN9mcO",
        "outputId": "31f25240-b4e9-490c-ce82-8abf10dd0b16"
      },
      "execution_count": 33,
      "outputs": [
        {
          "output_type": "execute_result",
          "data": {
            "text/plain": [
              "{'<OOV>': 1,\n",
              " 'it': 2,\n",
              " 'let': 3,\n",
              " 'be': 4,\n",
              " 'whisper': 5,\n",
              " 'words': 6,\n",
              " 'of': 7,\n",
              " 'wisdom': 8}"
            ]
          },
          "metadata": {},
          "execution_count": 33
        }
      ]
    },
    {
      "cell_type": "code",
      "source": [
        "print(tokenizer.texts_to_sequences(['Let it go']))"
      ],
      "metadata": {
        "colab": {
          "base_uri": "https://localhost:8080/"
        },
        "id": "uZc8gNrn-k1n",
        "outputId": "4e389625-1302-4101-bf85-5b504e14ec43"
      },
      "execution_count": 34,
      "outputs": [
        {
          "output_type": "stream",
          "name": "stdout",
          "text": [
            "[[3, 2, 1]]\n"
          ]
        }
      ]
    },
    {
      "cell_type": "code",
      "source": [
        "text_corpus = [\"Let it go, let it go\",\n",
        "               \"Let it go\",\n",
        "               \"can't , hold it back anymooooore\",\n",
        "               \"let the storm rage on\"]"
      ],
      "metadata": {
        "id": "lHTuOzU4_A2O"
      },
      "execution_count": 39,
      "outputs": []
    },
    {
      "cell_type": "code",
      "source": [
        "tokenizer.texts_to_sequences(text_corpus)"
      ],
      "metadata": {
        "colab": {
          "base_uri": "https://localhost:8080/"
        },
        "id": "bYHdSvqx_mn2",
        "outputId": "1fc827f3-8f10-4d84-fb16-2cd5a98ac5f6"
      },
      "execution_count": 37,
      "outputs": [
        {
          "output_type": "execute_result",
          "data": {
            "text/plain": [
              "[[3, 2, 1, 3, 2, 1], [3, 2, 1], [1, 1, 2, 1, 1], [3, 1, 1, 1, 1]]"
            ]
          },
          "metadata": {},
          "execution_count": 37
        }
      ]
    },
    {
      "cell_type": "code",
      "source": [
        "print(tokenizer.texts_to_sequences([\"Let's dance\"]))"
      ],
      "metadata": {
        "colab": {
          "base_uri": "https://localhost:8080/"
        },
        "id": "4-m0-gpZ_s2t",
        "outputId": "5f78f828-b6a6-441f-a57d-7fca29dcd875"
      },
      "execution_count": 38,
      "outputs": [
        {
          "output_type": "stream",
          "name": "stdout",
          "text": [
            "[[1, 1]]\n"
          ]
        }
      ]
    },
    {
      "cell_type": "code",
      "source": [
        "#filters\n",
        "filter = \",'\"\n",
        "tokenizer =Tokenizer(filters =filter ,oov_token =\"<OOV>\")\n",
        "tokenizer.fit_on_texts(sentences)\n",
        "word_index = tokenizer.word_index\n",
        "word_index"
      ],
      "metadata": {
        "colab": {
          "base_uri": "https://localhost:8080/"
        },
        "id": "Z45y8wXNA-U1",
        "outputId": "e4adc3a7-41d6-48fd-eebe-2f5d43d873fa"
      },
      "execution_count": 40,
      "outputs": [
        {
          "output_type": "execute_result",
          "data": {
            "text/plain": [
              "{'<OOV>': 1,\n",
              " 'it': 2,\n",
              " 'let': 3,\n",
              " 'be': 4,\n",
              " 'whisper': 5,\n",
              " 'words': 6,\n",
              " 'of': 7,\n",
              " 'wisdom': 8}"
            ]
          },
          "metadata": {},
          "execution_count": 40
        }
      ]
    },
    {
      "cell_type": "code",
      "source": [
        "print(tokenizer.texts_to_sequences([\"Let's dance\"]))"
      ],
      "metadata": {
        "colab": {
          "base_uri": "https://localhost:8080/"
        },
        "id": "BdSfOUvSB1aV",
        "outputId": "cd1d37f3-529d-4ff2-a2f4-4b63a7947c25"
      },
      "execution_count": 41,
      "outputs": [
        {
          "output_type": "stream",
          "name": "stdout",
          "text": [
            "[[3, 1, 1]]\n"
          ]
        }
      ]
    },
    {
      "cell_type": "code",
      "source": [
        "tokenizer =Tokenizer( num_words =4 ,oov_token =\"<OOV>\")\n",
        "tokenizer.fit_on_texts(sentences)\n",
        "word_index = tokenizer.word_index\n",
        "word_index"
      ],
      "metadata": {
        "colab": {
          "base_uri": "https://localhost:8080/"
        },
        "id": "bLkrWc_CB5Gt",
        "outputId": "50e67b8c-ed1d-4081-827d-ed116ba002b5"
      },
      "execution_count": 44,
      "outputs": [
        {
          "output_type": "execute_result",
          "data": {
            "text/plain": [
              "{'<OOV>': 1,\n",
              " 'it': 2,\n",
              " 'let': 3,\n",
              " 'be': 4,\n",
              " 'whisper': 5,\n",
              " 'words': 6,\n",
              " 'of': 7,\n",
              " 'wisdom': 8}"
            ]
          },
          "metadata": {},
          "execution_count": 44
        }
      ]
    },
    {
      "cell_type": "code",
      "source": [
        " tokenizer.texts_to_sequences(sentences)"
      ],
      "metadata": {
        "colab": {
          "base_uri": "https://localhost:8080/"
        },
        "id": "4vOV3zbhP9ro",
        "outputId": "852e5c2e-6428-4ac4-88cb-e0463f289dcd"
      },
      "execution_count": 45,
      "outputs": [
        {
          "output_type": "execute_result",
          "data": {
            "text/plain": [
              "[[3, 2, 1],\n",
              " [3, 2, 1],\n",
              " [3, 2, 1, 3, 2, 1],\n",
              " [1, 1, 1, 1, 3, 2, 1],\n",
              " [2, 2, 2, 2, 2, 2, 2]]"
            ]
          },
          "metadata": {},
          "execution_count": 45
        }
      ]
    },
    {
      "cell_type": "code",
      "source": [
        "sentences"
      ],
      "metadata": {
        "colab": {
          "base_uri": "https://localhost:8080/"
        },
        "id": "iTr2RbzlQEQo",
        "outputId": "29c1e85e-6bb4-40cf-b986-8dc481a1c6c0"
      },
      "execution_count": 43,
      "outputs": [
        {
          "output_type": "execute_result",
          "data": {
            "text/plain": [
              "['Let IT be',\n",
              " 'let it be',\n",
              " 'Let it be, let it be',\n",
              " 'Whisper words of wisdom, let it be',\n",
              " 'IT IT IT IT IT IT IT']"
            ]
          },
          "metadata": {},
          "execution_count": 43
        }
      ]
    },
    {
      "cell_type": "code",
      "source": [
        "tokenizer =Tokenizer( split =' it be' ,oov_token =\"<OOV>\")\n",
        "tokenizer.fit_on_texts(sentences)\n",
        "word_index = tokenizer.word_index\n",
        "word_index"
      ],
      "metadata": {
        "colab": {
          "base_uri": "https://localhost:8080/"
        },
        "id": "v5By5K_oDc3c",
        "outputId": "b07180c2-ca96-4f9b-8d24-ef877de808ea"
      },
      "execution_count": 5,
      "outputs": [
        {
          "output_type": "execute_result",
          "data": {
            "text/plain": [
              "{'<OOV>': 1,\n",
              " ' let': 2,\n",
              " 'let': 3,\n",
              " 'whisper words of wisdom': 4,\n",
              " 'it it it it it it it': 5}"
            ]
          },
          "metadata": {},
          "execution_count": 5
        }
      ]
    },
    {
      "cell_type": "code",
      "source": [
        "sentences"
      ],
      "metadata": {
        "colab": {
          "base_uri": "https://localhost:8080/"
        },
        "id": "xoRe4wDMEUSt",
        "outputId": "7f72a289-33dd-4de6-a00f-d7f186cd357f"
      },
      "execution_count": 7,
      "outputs": [
        {
          "output_type": "execute_result",
          "data": {
            "text/plain": [
              "['Let IT be, let it be',\n",
              " 'Let it be, let it be',\n",
              " 'Whisper words of wisdom, let it be',\n",
              " 'IT IT IT IT IT IT IT']"
            ]
          },
          "metadata": {},
          "execution_count": 7
        }
      ]
    },
    {
      "cell_type": "code",
      "source": [
        "tokenizer =Tokenizer(oov_token =\"<OOV>\")\n",
        "tokenizer.fit_on_texts(sentences)\n",
        "word_index = tokenizer.word_index\n",
        "word_index"
      ],
      "metadata": {
        "colab": {
          "base_uri": "https://localhost:8080/"
        },
        "id": "dJVx15mUFNWT",
        "outputId": "008975d0-0cb8-497c-f4a1-1ec8d12ef2ef"
      },
      "execution_count": 8,
      "outputs": [
        {
          "output_type": "execute_result",
          "data": {
            "text/plain": [
              "{'<OOV>': 1,\n",
              " 'it': 2,\n",
              " 'let': 3,\n",
              " 'be': 4,\n",
              " 'whisper': 5,\n",
              " 'words': 6,\n",
              " 'of': 7,\n",
              " 'wisdom': 8}"
            ]
          },
          "metadata": {},
          "execution_count": 8
        }
      ]
    },
    {
      "cell_type": "code",
      "source": [
        "sequences = tokenizer.texts_to_sequences(sentences)"
      ],
      "metadata": {
        "id": "BgY8PFsLGgxb"
      },
      "execution_count": 9,
      "outputs": []
    },
    {
      "cell_type": "code",
      "source": [
        "sequences"
      ],
      "metadata": {
        "colab": {
          "base_uri": "https://localhost:8080/"
        },
        "id": "lSjualm1GwEM",
        "outputId": "00b9b944-d2bb-4e5d-ce72-b11f9d4f7d5e"
      },
      "execution_count": 10,
      "outputs": [
        {
          "output_type": "execute_result",
          "data": {
            "text/plain": [
              "[[3, 2, 4, 3, 2, 4],\n",
              " [3, 2, 4, 3, 2, 4],\n",
              " [5, 6, 7, 8, 3, 2, 4],\n",
              " [2, 2, 2, 2, 2, 2, 2]]"
            ]
          },
          "metadata": {},
          "execution_count": 10
        }
      ]
    },
    {
      "cell_type": "code",
      "source": [
        "from tensorflow.keras.preprocessing.sequence import pad_sequences"
      ],
      "metadata": {
        "id": "KcdRK8znGzaz"
      },
      "execution_count": 11,
      "outputs": []
    },
    {
      "cell_type": "code",
      "source": [
        "pad_sequences(sequences)"
      ],
      "metadata": {
        "colab": {
          "base_uri": "https://localhost:8080/"
        },
        "id": "FAxWz59MIDwK",
        "outputId": "dd04e847-f0aa-42bf-ac87-8bdec1ac8e8d"
      },
      "execution_count": 12,
      "outputs": [
        {
          "output_type": "execute_result",
          "data": {
            "text/plain": [
              "array([[0, 3, 2, 4, 3, 2, 4],\n",
              "       [0, 3, 2, 4, 3, 2, 4],\n",
              "       [5, 6, 7, 8, 3, 2, 4],\n",
              "       [2, 2, 2, 2, 2, 2, 2]], dtype=int32)"
            ]
          },
          "metadata": {},
          "execution_count": 12
        }
      ]
    },
    {
      "cell_type": "code",
      "source": [
        "pad_sequences(sequences, padding = 'pre')"
      ],
      "metadata": {
        "colab": {
          "base_uri": "https://localhost:8080/"
        },
        "id": "7DrW9TUxIRcq",
        "outputId": "f75091dd-bc10-41c0-e7c5-49156ea39a0c"
      },
      "execution_count": 13,
      "outputs": [
        {
          "output_type": "execute_result",
          "data": {
            "text/plain": [
              "array([[0, 3, 2, 4, 3, 2, 4],\n",
              "       [0, 3, 2, 4, 3, 2, 4],\n",
              "       [5, 6, 7, 8, 3, 2, 4],\n",
              "       [2, 2, 2, 2, 2, 2, 2]], dtype=int32)"
            ]
          },
          "metadata": {},
          "execution_count": 13
        }
      ]
    },
    {
      "cell_type": "code",
      "source": [
        "pad_sequences(sequences, padding = 'post')"
      ],
      "metadata": {
        "colab": {
          "base_uri": "https://localhost:8080/"
        },
        "id": "ufDJcGKcJuJq",
        "outputId": "2f3772ca-fda4-44ff-c873-f607900e6cd8"
      },
      "execution_count": 14,
      "outputs": [
        {
          "output_type": "execute_result",
          "data": {
            "text/plain": [
              "array([[3, 2, 4, 3, 2, 4, 0],\n",
              "       [3, 2, 4, 3, 2, 4, 0],\n",
              "       [5, 6, 7, 8, 3, 2, 4],\n",
              "       [2, 2, 2, 2, 2, 2, 2]], dtype=int32)"
            ]
          },
          "metadata": {},
          "execution_count": 14
        }
      ]
    },
    {
      "cell_type": "code",
      "source": [
        "pad_sequences(sequences, padding = 'post', maxlen =6)"
      ],
      "metadata": {
        "colab": {
          "base_uri": "https://localhost:8080/"
        },
        "id": "mpiMRZFNJxsC",
        "outputId": "1920f69c-0832-4a31-b4b6-45f048315681"
      },
      "execution_count": 15,
      "outputs": [
        {
          "output_type": "execute_result",
          "data": {
            "text/plain": [
              "array([[3, 2, 4, 3, 2, 4],\n",
              "       [3, 2, 4, 3, 2, 4],\n",
              "       [6, 7, 8, 3, 2, 4],\n",
              "       [2, 2, 2, 2, 2, 2]], dtype=int32)"
            ]
          },
          "metadata": {},
          "execution_count": 15
        }
      ]
    },
    {
      "cell_type": "code",
      "source": [
        "sentences = [\"Let IT be\", \"let it be\",\n",
        "\"Let it be, let it be\",\n",
        "\"Whisper words of wisdom, let it be\",\n",
        "\"IT IT IT IT IT IT IT\"]\n"
      ],
      "metadata": {
        "id": "5mQEbqCDJ96p"
      },
      "execution_count": 16,
      "outputs": []
    },
    {
      "cell_type": "code",
      "source": [
        "sequences = tokenizer.texts_to_sequences(sentences)"
      ],
      "metadata": {
        "id": "RYLdRw2_KEHJ"
      },
      "execution_count": 17,
      "outputs": []
    },
    {
      "cell_type": "code",
      "source": [
        "sequences"
      ],
      "metadata": {
        "colab": {
          "base_uri": "https://localhost:8080/"
        },
        "id": "05AzFUc4KGk5",
        "outputId": "ed216734-b454-4b49-8f70-ce816caa600b"
      },
      "execution_count": 18,
      "outputs": [
        {
          "output_type": "execute_result",
          "data": {
            "text/plain": [
              "[[3, 2, 4],\n",
              " [3, 2, 4],\n",
              " [3, 2, 4, 3, 2, 4],\n",
              " [5, 6, 7, 8, 3, 2, 4],\n",
              " [2, 2, 2, 2, 2, 2, 2]]"
            ]
          },
          "metadata": {},
          "execution_count": 18
        }
      ]
    },
    {
      "cell_type": "code",
      "source": [
        "pad_sequences(sequences, padding = 'post', maxlen =6)"
      ],
      "metadata": {
        "colab": {
          "base_uri": "https://localhost:8080/"
        },
        "id": "9GA8TymHKIAZ",
        "outputId": "ae950f3c-239d-4887-cf04-c9ccd67bb3f6"
      },
      "execution_count": 19,
      "outputs": [
        {
          "output_type": "execute_result",
          "data": {
            "text/plain": [
              "array([[3, 2, 4, 0, 0, 0],\n",
              "       [3, 2, 4, 0, 0, 0],\n",
              "       [3, 2, 4, 3, 2, 4],\n",
              "       [6, 7, 8, 3, 2, 4],\n",
              "       [2, 2, 2, 2, 2, 2]], dtype=int32)"
            ]
          },
          "metadata": {},
          "execution_count": 19
        }
      ]
    },
    {
      "cell_type": "code",
      "source": [
        "pad_sequences(sequences, padding = 'post', maxlen =6, truncating = 'post')"
      ],
      "metadata": {
        "colab": {
          "base_uri": "https://localhost:8080/"
        },
        "id": "2RESnIu0KKpy",
        "outputId": "699496cf-ba13-401e-9cf3-7fed0788fe96"
      },
      "execution_count": 20,
      "outputs": [
        {
          "output_type": "execute_result",
          "data": {
            "text/plain": [
              "array([[3, 2, 4, 0, 0, 0],\n",
              "       [3, 2, 4, 0, 0, 0],\n",
              "       [3, 2, 4, 3, 2, 4],\n",
              "       [5, 6, 7, 8, 3, 2],\n",
              "       [2, 2, 2, 2, 2, 2]], dtype=int32)"
            ]
          },
          "metadata": {},
          "execution_count": 20
        }
      ]
    },
    {
      "cell_type": "code",
      "source": [
        "pad_sequences(sequences, padding = 'post', maxlen =6, truncating = 'pre')"
      ],
      "metadata": {
        "colab": {
          "base_uri": "https://localhost:8080/"
        },
        "id": "jZY62dZNKS4J",
        "outputId": "2ce1dfff-049b-4737-be98-c885ad16970e"
      },
      "execution_count": 21,
      "outputs": [
        {
          "output_type": "execute_result",
          "data": {
            "text/plain": [
              "array([[3, 2, 4, 0, 0, 0],\n",
              "       [3, 2, 4, 0, 0, 0],\n",
              "       [3, 2, 4, 3, 2, 4],\n",
              "       [6, 7, 8, 3, 2, 4],\n",
              "       [2, 2, 2, 2, 2, 2]], dtype=int32)"
            ]
          },
          "metadata": {},
          "execution_count": 21
        }
      ]
    },
    {
      "cell_type": "code",
      "source": [
        "padded = pad_sequences(sequences)"
      ],
      "metadata": {
        "id": "hEmIr1Y0KbgZ"
      },
      "execution_count": 22,
      "outputs": []
    },
    {
      "cell_type": "code",
      "source": [
        "padded"
      ],
      "metadata": {
        "colab": {
          "base_uri": "https://localhost:8080/"
        },
        "id": "DYr-ReeDLHA5",
        "outputId": "764c34a9-6257-4925-93df-c9c7b0316856"
      },
      "execution_count": 23,
      "outputs": [
        {
          "output_type": "execute_result",
          "data": {
            "text/plain": [
              "array([[0, 0, 0, 0, 3, 2, 4],\n",
              "       [0, 0, 0, 0, 3, 2, 4],\n",
              "       [0, 3, 2, 4, 3, 2, 4],\n",
              "       [5, 6, 7, 8, 3, 2, 4],\n",
              "       [2, 2, 2, 2, 2, 2, 2]], dtype=int32)"
            ]
          },
          "metadata": {},
          "execution_count": 23
        }
      ]
    },
    {
      "cell_type": "code",
      "source": [
        "sequences"
      ],
      "metadata": {
        "colab": {
          "base_uri": "https://localhost:8080/"
        },
        "id": "0ni9dyd_LIJZ",
        "outputId": "57750c64-a342-44a9-d07f-71b5767a96f7"
      },
      "execution_count": 24,
      "outputs": [
        {
          "output_type": "execute_result",
          "data": {
            "text/plain": [
              "[[3, 2, 4],\n",
              " [3, 2, 4],\n",
              " [3, 2, 4, 3, 2, 4],\n",
              " [5, 6, 7, 8, 3, 2, 4],\n",
              " [2, 2, 2, 2, 2, 2, 2]]"
            ]
          },
          "metadata": {},
          "execution_count": 24
        }
      ]
    },
    {
      "cell_type": "code",
      "source": [
        "#משפט הכי ארוך\n",
        "x = max(len(seq) for seq in sequences)\n",
        "x"
      ],
      "metadata": {
        "colab": {
          "base_uri": "https://localhost:8080/"
        },
        "id": "rWJiSDJdLRLJ",
        "outputId": "01541ddf-3409-4c5e-e574-e862dfc0727e"
      },
      "execution_count": 26,
      "outputs": [
        {
          "output_type": "execute_result",
          "data": {
            "text/plain": [
              "7"
            ]
          },
          "metadata": {},
          "execution_count": 26
        }
      ]
    },
    {
      "cell_type": "code",
      "source": [
        "import random\n",
        "random.sample(['a','b','c','d','e'],1)"
      ],
      "metadata": {
        "colab": {
          "base_uri": "https://localhost:8080/"
        },
        "id": "0o8qbEgZLdVS",
        "outputId": "5123cb4f-9b1b-4e11-d7ef-e72a27a795e8"
      },
      "execution_count": 31,
      "outputs": [
        {
          "output_type": "execute_result",
          "data": {
            "text/plain": [
              "['e', 'c', 'b']"
            ]
          },
          "metadata": {},
          "execution_count": 31
        }
      ]
    },
    {
      "cell_type": "code",
      "source": [
        "random.randint(1,3)"
      ],
      "metadata": {
        "colab": {
          "base_uri": "https://localhost:8080/"
        },
        "id": "Qt2s0ne9ME6x",
        "outputId": "aa9fc8e0-c15a-4ccb-ad8e-58a5ee3dda34"
      },
      "execution_count": 33,
      "outputs": [
        {
          "output_type": "execute_result",
          "data": {
            "text/plain": [
              "3"
            ]
          },
          "metadata": {},
          "execution_count": 33
        }
      ]
    },
    {
      "cell_type": "code",
      "source": [
        "\" \".join([\"Let's\", \"Practice\", \"now\"])"
      ],
      "metadata": {
        "colab": {
          "base_uri": "https://localhost:8080/",
          "height": 36
        },
        "id": "IMaw4S-ZMSSo",
        "outputId": "da8f4303-9fad-4d15-a57b-549c12689a2c"
      },
      "execution_count": 34,
      "outputs": [
        {
          "output_type": "execute_result",
          "data": {
            "text/plain": [
              "\"Let's Practice now\""
            ],
            "application/vnd.google.colaboratory.intrinsic+json": {
              "type": "string"
            }
          },
          "metadata": {},
          "execution_count": 34
        }
      ]
    },
    {
      "cell_type": "code",
      "source": [
        "my_strin = \" \".join([\"Let's\", \"Practice\", \"now\"])"
      ],
      "metadata": {
        "id": "6Mu8RwCvMgYo"
      },
      "execution_count": 35,
      "outputs": []
    },
    {
      "cell_type": "code",
      "source": [
        "my_strin"
      ],
      "metadata": {
        "colab": {
          "base_uri": "https://localhost:8080/",
          "height": 36
        },
        "id": "NbMHpT_fMwDA",
        "outputId": "193b6336-4607-458d-ae27-e994d982718f"
      },
      "execution_count": 36,
      "outputs": [
        {
          "output_type": "execute_result",
          "data": {
            "text/plain": [
              "\"Let's Practice now\""
            ],
            "application/vnd.google.colaboratory.intrinsic+json": {
              "type": "string"
            }
          },
          "metadata": {},
          "execution_count": 36
        }
      ]
    },
    {
      "cell_type": "code",
      "source": [
        "tokenizer =Tokenizer( num_words =3 )#,oov_token =\"<OOV>\") ###!!??\n",
        "tokenizer.fit_on_texts(sentences)\n",
        "word_index = tokenizer.word_index\n",
        "word_index"
      ],
      "metadata": {
        "colab": {
          "base_uri": "https://localhost:8080/"
        },
        "id": "i3A5UeHHMxb4",
        "outputId": "74277918-cbf8-49e3-a134-6a7831ecd17f"
      },
      "execution_count": 37,
      "outputs": [
        {
          "output_type": "execute_result",
          "data": {
            "text/plain": [
              "{'it': 1, 'let': 2, 'be': 3, 'whisper': 4, 'words': 5, 'of': 6, 'wisdom': 7}"
            ]
          },
          "metadata": {},
          "execution_count": 37
        }
      ]
    },
    {
      "cell_type": "code",
      "source": [],
      "metadata": {
        "id": "sK3uVsxlOILn"
      },
      "execution_count": null,
      "outputs": []
    }
  ]
}