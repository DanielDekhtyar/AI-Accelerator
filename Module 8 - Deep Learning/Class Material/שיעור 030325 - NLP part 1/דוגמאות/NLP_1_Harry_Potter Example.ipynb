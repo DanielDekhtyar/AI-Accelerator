{
  "cells": [
    {
      "cell_type": "code",
      "execution_count": 12,
      "metadata": {
        "id": "n9UmTItKAZv3"
      },
      "outputs": [],
      "source": [
        "import pandas as pd\n",
        "import numpy as np\n",
        "import tensorflow as tf\n",
        "import matplotlib.pyplot as plt\n",
        "from tensorflow.keras.preprocessing.text import Tokenizer\n",
        "from tensorflow.keras.preprocessing.sequence import pad_sequences\n",
        "from sklearn.model_selection import train_test_split\n",
        "from tensorflow.keras.utils import to_categorical\n",
        "from sklearn.preprocessing import LabelEncoder\n",
        "from tensorflow.keras.models import Sequential\n",
        "from tensorflow.keras.optimizers import Adam\n",
        "from tensorflow.keras.layers import Embedding, GlobalAveragePooling1D, Dense, Flatten"
      ]
    },
    {
      "cell_type": "code",
      "execution_count": 2,
      "metadata": {
        "colab": {
          "base_uri": "https://localhost:8080/"
        },
        "id": "csqKmJB-BVpd",
        "outputId": "eb56eb2b-a757-46a8-b368-64911bf390dc"
      },
      "outputs": [
        {
          "output_type": "stream",
          "name": "stdout",
          "text": [
            "Archive:  HarryPotter.zip\n",
            "  inflating: HarryPotter/harry_potter_reviews.csv  \n",
            "--------------------\n",
            " Upload Completed!!\n",
            "--------------------\n"
          ]
        }
      ],
      "source": [
        "!unzip HarryPotter.zip -d HarryPotter\n",
        "print('-'*20+'\\n Upload Completed!!\\n'+'-'*20)"
      ]
    },
    {
      "cell_type": "code",
      "execution_count": 3,
      "metadata": {
        "id": "H52lcKAvBeOi"
      },
      "outputs": [],
      "source": [
        "hp= pd.read_csv('/content/HarryPotter/harry_potter_reviews.csv')"
      ]
    },
    {
      "cell_type": "code",
      "source": [
        "hp.head()"
      ],
      "metadata": {
        "colab": {
          "base_uri": "https://localhost:8080/",
          "height": 206
        },
        "id": "s856DEvmzztC",
        "outputId": "4f8e7a27-8327-49a9-9fc0-0374d540cffe"
      },
      "execution_count": 4,
      "outputs": [
        {
          "output_type": "execute_result",
          "data": {
            "text/plain": [
              "   user_id user_sex  user_age user_country  rating  \\\n",
              "0        0   female        50      Germany     2.5   \n",
              "1        1   female        23        Spain     4.0   \n",
              "2        2     male        32       France     3.0   \n",
              "3        3   female        24       Turkey     4.5   \n",
              "4        4   female        40        Spain     5.0   \n",
              "\n",
              "                                             comment favourite_character  \\\n",
              "0  \"The transitions between scenes were awkward, ...       Severus Snape   \n",
              "1   \"Severus Snape's role adds an intriguing layer.\"       Severus Snape   \n",
              "2  \"The pacing was a bit slow, but the characters...         Ron Weasley   \n",
              "3  \"Hagrid's love for magical creatures is heartw...       Rubeus Hagrid   \n",
              "4   \"Neville Longbottom's courage is awe-inspiring.\"  Neville Longbottom   \n",
              "\n",
              "         date  \n",
              "0  2004-12-27  \n",
              "1  2003-11-22  \n",
              "2  2005-09-16  \n",
              "3  2002-09-17  \n",
              "4  2004-10-17  "
            ],
            "text/html": [
              "\n",
              "  <div id=\"df-b1834ed2-fd37-4d00-b3cf-7c9fb32c1308\" class=\"colab-df-container\">\n",
              "    <div>\n",
              "<style scoped>\n",
              "    .dataframe tbody tr th:only-of-type {\n",
              "        vertical-align: middle;\n",
              "    }\n",
              "\n",
              "    .dataframe tbody tr th {\n",
              "        vertical-align: top;\n",
              "    }\n",
              "\n",
              "    .dataframe thead th {\n",
              "        text-align: right;\n",
              "    }\n",
              "</style>\n",
              "<table border=\"1\" class=\"dataframe\">\n",
              "  <thead>\n",
              "    <tr style=\"text-align: right;\">\n",
              "      <th></th>\n",
              "      <th>user_id</th>\n",
              "      <th>user_sex</th>\n",
              "      <th>user_age</th>\n",
              "      <th>user_country</th>\n",
              "      <th>rating</th>\n",
              "      <th>comment</th>\n",
              "      <th>favourite_character</th>\n",
              "      <th>date</th>\n",
              "    </tr>\n",
              "  </thead>\n",
              "  <tbody>\n",
              "    <tr>\n",
              "      <th>0</th>\n",
              "      <td>0</td>\n",
              "      <td>female</td>\n",
              "      <td>50</td>\n",
              "      <td>Germany</td>\n",
              "      <td>2.5</td>\n",
              "      <td>\"The transitions between scenes were awkward, ...</td>\n",
              "      <td>Severus Snape</td>\n",
              "      <td>2004-12-27</td>\n",
              "    </tr>\n",
              "    <tr>\n",
              "      <th>1</th>\n",
              "      <td>1</td>\n",
              "      <td>female</td>\n",
              "      <td>23</td>\n",
              "      <td>Spain</td>\n",
              "      <td>4.0</td>\n",
              "      <td>\"Severus Snape's role adds an intriguing layer.\"</td>\n",
              "      <td>Severus Snape</td>\n",
              "      <td>2003-11-22</td>\n",
              "    </tr>\n",
              "    <tr>\n",
              "      <th>2</th>\n",
              "      <td>2</td>\n",
              "      <td>male</td>\n",
              "      <td>32</td>\n",
              "      <td>France</td>\n",
              "      <td>3.0</td>\n",
              "      <td>\"The pacing was a bit slow, but the characters...</td>\n",
              "      <td>Ron Weasley</td>\n",
              "      <td>2005-09-16</td>\n",
              "    </tr>\n",
              "    <tr>\n",
              "      <th>3</th>\n",
              "      <td>3</td>\n",
              "      <td>female</td>\n",
              "      <td>24</td>\n",
              "      <td>Turkey</td>\n",
              "      <td>4.5</td>\n",
              "      <td>\"Hagrid's love for magical creatures is heartw...</td>\n",
              "      <td>Rubeus Hagrid</td>\n",
              "      <td>2002-09-17</td>\n",
              "    </tr>\n",
              "    <tr>\n",
              "      <th>4</th>\n",
              "      <td>4</td>\n",
              "      <td>female</td>\n",
              "      <td>40</td>\n",
              "      <td>Spain</td>\n",
              "      <td>5.0</td>\n",
              "      <td>\"Neville Longbottom's courage is awe-inspiring.\"</td>\n",
              "      <td>Neville Longbottom</td>\n",
              "      <td>2004-10-17</td>\n",
              "    </tr>\n",
              "  </tbody>\n",
              "</table>\n",
              "</div>\n",
              "    <div class=\"colab-df-buttons\">\n",
              "\n",
              "  <div class=\"colab-df-container\">\n",
              "    <button class=\"colab-df-convert\" onclick=\"convertToInteractive('df-b1834ed2-fd37-4d00-b3cf-7c9fb32c1308')\"\n",
              "            title=\"Convert this dataframe to an interactive table.\"\n",
              "            style=\"display:none;\">\n",
              "\n",
              "  <svg xmlns=\"http://www.w3.org/2000/svg\" height=\"24px\" viewBox=\"0 -960 960 960\">\n",
              "    <path d=\"M120-120v-720h720v720H120Zm60-500h600v-160H180v160Zm220 220h160v-160H400v160Zm0 220h160v-160H400v160ZM180-400h160v-160H180v160Zm440 0h160v-160H620v160ZM180-180h160v-160H180v160Zm440 0h160v-160H620v160Z\"/>\n",
              "  </svg>\n",
              "    </button>\n",
              "\n",
              "  <style>\n",
              "    .colab-df-container {\n",
              "      display:flex;\n",
              "      gap: 12px;\n",
              "    }\n",
              "\n",
              "    .colab-df-convert {\n",
              "      background-color: #E8F0FE;\n",
              "      border: none;\n",
              "      border-radius: 50%;\n",
              "      cursor: pointer;\n",
              "      display: none;\n",
              "      fill: #1967D2;\n",
              "      height: 32px;\n",
              "      padding: 0 0 0 0;\n",
              "      width: 32px;\n",
              "    }\n",
              "\n",
              "    .colab-df-convert:hover {\n",
              "      background-color: #E2EBFA;\n",
              "      box-shadow: 0px 1px 2px rgba(60, 64, 67, 0.3), 0px 1px 3px 1px rgba(60, 64, 67, 0.15);\n",
              "      fill: #174EA6;\n",
              "    }\n",
              "\n",
              "    .colab-df-buttons div {\n",
              "      margin-bottom: 4px;\n",
              "    }\n",
              "\n",
              "    [theme=dark] .colab-df-convert {\n",
              "      background-color: #3B4455;\n",
              "      fill: #D2E3FC;\n",
              "    }\n",
              "\n",
              "    [theme=dark] .colab-df-convert:hover {\n",
              "      background-color: #434B5C;\n",
              "      box-shadow: 0px 1px 3px 1px rgba(0, 0, 0, 0.15);\n",
              "      filter: drop-shadow(0px 1px 2px rgba(0, 0, 0, 0.3));\n",
              "      fill: #FFFFFF;\n",
              "    }\n",
              "  </style>\n",
              "\n",
              "    <script>\n",
              "      const buttonEl =\n",
              "        document.querySelector('#df-b1834ed2-fd37-4d00-b3cf-7c9fb32c1308 button.colab-df-convert');\n",
              "      buttonEl.style.display =\n",
              "        google.colab.kernel.accessAllowed ? 'block' : 'none';\n",
              "\n",
              "      async function convertToInteractive(key) {\n",
              "        const element = document.querySelector('#df-b1834ed2-fd37-4d00-b3cf-7c9fb32c1308');\n",
              "        const dataTable =\n",
              "          await google.colab.kernel.invokeFunction('convertToInteractive',\n",
              "                                                    [key], {});\n",
              "        if (!dataTable) return;\n",
              "\n",
              "        const docLinkHtml = 'Like what you see? Visit the ' +\n",
              "          '<a target=\"_blank\" href=https://colab.research.google.com/notebooks/data_table.ipynb>data table notebook</a>'\n",
              "          + ' to learn more about interactive tables.';\n",
              "        element.innerHTML = '';\n",
              "        dataTable['output_type'] = 'display_data';\n",
              "        await google.colab.output.renderOutput(dataTable, element);\n",
              "        const docLink = document.createElement('div');\n",
              "        docLink.innerHTML = docLinkHtml;\n",
              "        element.appendChild(docLink);\n",
              "      }\n",
              "    </script>\n",
              "  </div>\n",
              "\n",
              "\n",
              "<div id=\"df-4d1f3afa-293a-475f-b268-a4c9e9adce90\">\n",
              "  <button class=\"colab-df-quickchart\" onclick=\"quickchart('df-4d1f3afa-293a-475f-b268-a4c9e9adce90')\"\n",
              "            title=\"Suggest charts\"\n",
              "            style=\"display:none;\">\n",
              "\n",
              "<svg xmlns=\"http://www.w3.org/2000/svg\" height=\"24px\"viewBox=\"0 0 24 24\"\n",
              "     width=\"24px\">\n",
              "    <g>\n",
              "        <path d=\"M19 3H5c-1.1 0-2 .9-2 2v14c0 1.1.9 2 2 2h14c1.1 0 2-.9 2-2V5c0-1.1-.9-2-2-2zM9 17H7v-7h2v7zm4 0h-2V7h2v10zm4 0h-2v-4h2v4z\"/>\n",
              "    </g>\n",
              "</svg>\n",
              "  </button>\n",
              "\n",
              "<style>\n",
              "  .colab-df-quickchart {\n",
              "      --bg-color: #E8F0FE;\n",
              "      --fill-color: #1967D2;\n",
              "      --hover-bg-color: #E2EBFA;\n",
              "      --hover-fill-color: #174EA6;\n",
              "      --disabled-fill-color: #AAA;\n",
              "      --disabled-bg-color: #DDD;\n",
              "  }\n",
              "\n",
              "  [theme=dark] .colab-df-quickchart {\n",
              "      --bg-color: #3B4455;\n",
              "      --fill-color: #D2E3FC;\n",
              "      --hover-bg-color: #434B5C;\n",
              "      --hover-fill-color: #FFFFFF;\n",
              "      --disabled-bg-color: #3B4455;\n",
              "      --disabled-fill-color: #666;\n",
              "  }\n",
              "\n",
              "  .colab-df-quickchart {\n",
              "    background-color: var(--bg-color);\n",
              "    border: none;\n",
              "    border-radius: 50%;\n",
              "    cursor: pointer;\n",
              "    display: none;\n",
              "    fill: var(--fill-color);\n",
              "    height: 32px;\n",
              "    padding: 0;\n",
              "    width: 32px;\n",
              "  }\n",
              "\n",
              "  .colab-df-quickchart:hover {\n",
              "    background-color: var(--hover-bg-color);\n",
              "    box-shadow: 0 1px 2px rgba(60, 64, 67, 0.3), 0 1px 3px 1px rgba(60, 64, 67, 0.15);\n",
              "    fill: var(--button-hover-fill-color);\n",
              "  }\n",
              "\n",
              "  .colab-df-quickchart-complete:disabled,\n",
              "  .colab-df-quickchart-complete:disabled:hover {\n",
              "    background-color: var(--disabled-bg-color);\n",
              "    fill: var(--disabled-fill-color);\n",
              "    box-shadow: none;\n",
              "  }\n",
              "\n",
              "  .colab-df-spinner {\n",
              "    border: 2px solid var(--fill-color);\n",
              "    border-color: transparent;\n",
              "    border-bottom-color: var(--fill-color);\n",
              "    animation:\n",
              "      spin 1s steps(1) infinite;\n",
              "  }\n",
              "\n",
              "  @keyframes spin {\n",
              "    0% {\n",
              "      border-color: transparent;\n",
              "      border-bottom-color: var(--fill-color);\n",
              "      border-left-color: var(--fill-color);\n",
              "    }\n",
              "    20% {\n",
              "      border-color: transparent;\n",
              "      border-left-color: var(--fill-color);\n",
              "      border-top-color: var(--fill-color);\n",
              "    }\n",
              "    30% {\n",
              "      border-color: transparent;\n",
              "      border-left-color: var(--fill-color);\n",
              "      border-top-color: var(--fill-color);\n",
              "      border-right-color: var(--fill-color);\n",
              "    }\n",
              "    40% {\n",
              "      border-color: transparent;\n",
              "      border-right-color: var(--fill-color);\n",
              "      border-top-color: var(--fill-color);\n",
              "    }\n",
              "    60% {\n",
              "      border-color: transparent;\n",
              "      border-right-color: var(--fill-color);\n",
              "    }\n",
              "    80% {\n",
              "      border-color: transparent;\n",
              "      border-right-color: var(--fill-color);\n",
              "      border-bottom-color: var(--fill-color);\n",
              "    }\n",
              "    90% {\n",
              "      border-color: transparent;\n",
              "      border-bottom-color: var(--fill-color);\n",
              "    }\n",
              "  }\n",
              "</style>\n",
              "\n",
              "  <script>\n",
              "    async function quickchart(key) {\n",
              "      const quickchartButtonEl =\n",
              "        document.querySelector('#' + key + ' button');\n",
              "      quickchartButtonEl.disabled = true;  // To prevent multiple clicks.\n",
              "      quickchartButtonEl.classList.add('colab-df-spinner');\n",
              "      try {\n",
              "        const charts = await google.colab.kernel.invokeFunction(\n",
              "            'suggestCharts', [key], {});\n",
              "      } catch (error) {\n",
              "        console.error('Error during call to suggestCharts:', error);\n",
              "      }\n",
              "      quickchartButtonEl.classList.remove('colab-df-spinner');\n",
              "      quickchartButtonEl.classList.add('colab-df-quickchart-complete');\n",
              "    }\n",
              "    (() => {\n",
              "      let quickchartButtonEl =\n",
              "        document.querySelector('#df-4d1f3afa-293a-475f-b268-a4c9e9adce90 button');\n",
              "      quickchartButtonEl.style.display =\n",
              "        google.colab.kernel.accessAllowed ? 'block' : 'none';\n",
              "    })();\n",
              "  </script>\n",
              "</div>\n",
              "\n",
              "    </div>\n",
              "  </div>\n"
            ],
            "application/vnd.google.colaboratory.intrinsic+json": {
              "type": "dataframe",
              "variable_name": "hp",
              "summary": "{\n  \"name\": \"hp\",\n  \"rows\": 491,\n  \"fields\": [\n    {\n      \"column\": \"user_id\",\n      \"properties\": {\n        \"dtype\": \"number\",\n        \"std\": 141,\n        \"min\": 0,\n        \"max\": 490,\n        \"num_unique_values\": 491,\n        \"samples\": [\n          452,\n          84,\n          434\n        ],\n        \"semantic_type\": \"\",\n        \"description\": \"\"\n      }\n    },\n    {\n      \"column\": \"user_sex\",\n      \"properties\": {\n        \"dtype\": \"category\",\n        \"num_unique_values\": 3,\n        \"samples\": [\n          \"female\",\n          \"male\",\n          \"other\"\n        ],\n        \"semantic_type\": \"\",\n        \"description\": \"\"\n      }\n    },\n    {\n      \"column\": \"user_age\",\n      \"properties\": {\n        \"dtype\": \"number\",\n        \"std\": 11,\n        \"min\": 8,\n        \"max\": 64,\n        \"num_unique_values\": 55,\n        \"samples\": [\n          60,\n          16,\n          10\n        ],\n        \"semantic_type\": \"\",\n        \"description\": \"\"\n      }\n    },\n    {\n      \"column\": \"user_country\",\n      \"properties\": {\n        \"dtype\": \"category\",\n        \"num_unique_values\": 13,\n        \"samples\": [\n          \"United Kingdom\",\n          \"Croatia\",\n          \"Germany\"\n        ],\n        \"semantic_type\": \"\",\n        \"description\": \"\"\n      }\n    },\n    {\n      \"column\": \"rating\",\n      \"properties\": {\n        \"dtype\": \"number\",\n        \"std\": 0.9457707514565321,\n        \"min\": 1.5,\n        \"max\": 5.0,\n        \"num_unique_values\": 8,\n        \"samples\": [\n          4.0,\n          3.5,\n          2.5\n        ],\n        \"semantic_type\": \"\",\n        \"description\": \"\"\n      }\n    },\n    {\n      \"column\": \"comment\",\n      \"properties\": {\n        \"dtype\": \"string\",\n        \"num_unique_values\": 434,\n        \"samples\": [\n          \"\\\"The Sorcerer's Stone is a visual feast.\\\"\",\n          \"\\\"Ron Weasley's humor becomes irritating over time.\\\"\",\n          \"\\\"A captivating journey into the world of wizardry.\\\"\"\n        ],\n        \"semantic_type\": \"\",\n        \"description\": \"\"\n      }\n    },\n    {\n      \"column\": \"favourite_character\",\n      \"properties\": {\n        \"dtype\": \"category\",\n        \"num_unique_values\": 8,\n        \"samples\": [\n          \"Ron Weasley\",\n          \"Hermione Granger\",\n          \"Severus Snape\"\n        ],\n        \"semantic_type\": \"\",\n        \"description\": \"\"\n      }\n    },\n    {\n      \"column\": \"date\",\n      \"properties\": {\n        \"dtype\": \"object\",\n        \"num_unique_values\": 418,\n        \"samples\": [\n          \"2004-03-20\",\n          \"2004-10-04\",\n          \"2002-10-21\"\n        ],\n        \"semantic_type\": \"\",\n        \"description\": \"\"\n      }\n    }\n  ]\n}"
            }
          },
          "metadata": {},
          "execution_count": 4
        }
      ]
    },
    {
      "cell_type": "code",
      "source": [
        "hp['comment'][11]"
      ],
      "metadata": {
        "colab": {
          "base_uri": "https://localhost:8080/",
          "height": 36
        },
        "id": "_2Oebap50QcQ",
        "outputId": "bd70e441-1889-4907-f7b9-c114310b86e1"
      },
      "execution_count": 9,
      "outputs": [
        {
          "output_type": "execute_result",
          "data": {
            "text/plain": [
              "'\"A magical adventure with a touch of nostalgia.\"'"
            ],
            "application/vnd.google.colaboratory.intrinsic+json": {
              "type": "string"
            }
          },
          "metadata": {},
          "execution_count": 9
        }
      ]
    },
    {
      "cell_type": "code",
      "source": [
        "hp.info()"
      ],
      "metadata": {
        "colab": {
          "base_uri": "https://localhost:8080/"
        },
        "id": "AM_UKjtA0QU5",
        "outputId": "fb10ae05-0cee-4a4f-c8b5-adda803ed1bc"
      },
      "execution_count": 6,
      "outputs": [
        {
          "output_type": "stream",
          "name": "stdout",
          "text": [
            "<class 'pandas.core.frame.DataFrame'>\n",
            "RangeIndex: 491 entries, 0 to 490\n",
            "Data columns (total 8 columns):\n",
            " #   Column               Non-Null Count  Dtype  \n",
            "---  ------               --------------  -----  \n",
            " 0   user_id              491 non-null    int64  \n",
            " 1   user_sex             491 non-null    object \n",
            " 2   user_age             491 non-null    int64  \n",
            " 3   user_country         491 non-null    object \n",
            " 4   rating               491 non-null    float64\n",
            " 5   comment              491 non-null    object \n",
            " 6   favourite_character  491 non-null    object \n",
            " 7   date                 491 non-null    object \n",
            "dtypes: float64(1), int64(2), object(5)\n",
            "memory usage: 30.8+ KB\n"
          ]
        }
      ]
    },
    {
      "cell_type": "code",
      "source": [
        "#feature target\n",
        "sentences = hp['comment'].tolist()\n",
        "labels = hp['favourite_character'].tolist()"
      ],
      "metadata": {
        "id": "tmaAQ0PS0QMJ"
      },
      "execution_count": 7,
      "outputs": []
    },
    {
      "cell_type": "code",
      "source": [
        "#One Hot Encoding\n",
        "label_encoder = LabelEncoder()\n",
        "int_encoded = label_encoder.fit_transform(labels)# הופך מילים למספרים\n",
        "label_encoded = to_categorical(int_encoded)"
      ],
      "metadata": {
        "id": "mGUaA1Va0QDb"
      },
      "execution_count": 18,
      "outputs": []
    },
    {
      "cell_type": "code",
      "source": [
        "int_encoded"
      ],
      "metadata": {
        "colab": {
          "base_uri": "https://localhost:8080/"
        },
        "collapsed": true,
        "id": "OmduVs6a0P7h",
        "outputId": "a0d83863-4541-47f9-8ca7-bf7bc9e743cc"
      },
      "execution_count": 17,
      "outputs": [
        {
          "output_type": "execute_result",
          "data": {
            "text/plain": [
              "array([7, 7, 5, 6, 4, 6, 7, 0, 5, 3, 3, 0, 5, 3, 2, 3, 3, 1, 5, 5, 3, 7,\n",
              "       3, 1, 1, 4, 2, 3, 1, 5, 3, 4, 3, 4, 1, 3, 4, 2, 0, 5, 0, 1, 0, 7,\n",
              "       3, 6, 0, 2, 5, 4, 3, 5, 4, 5, 6, 3, 6, 2, 3, 7, 6, 0, 0, 1, 3, 7,\n",
              "       1, 0, 2, 6, 0, 4, 6, 2, 7, 1, 2, 0, 3, 3, 4, 3, 5, 5, 7, 6, 6, 0,\n",
              "       2, 0, 7, 4, 2, 3, 2, 0, 5, 7, 4, 0, 0, 2, 2, 4, 4, 6, 7, 6, 5, 2,\n",
              "       6, 2, 6, 3, 5, 4, 4, 7, 5, 2, 6, 3, 2, 1, 6, 4, 1, 5, 6, 5, 6, 2,\n",
              "       6, 3, 6, 3, 3, 6, 2, 2, 5, 3, 7, 5, 0, 0, 0, 5, 6, 7, 3, 7, 4, 3,\n",
              "       2, 6, 2, 3, 3, 7, 7, 7, 5, 0, 7, 6, 3, 4, 5, 2, 2, 2, 4, 6, 6, 3,\n",
              "       3, 6, 0, 2, 1, 4, 3, 2, 4, 3, 3, 4, 2, 6, 2, 4, 3, 3, 5, 6, 0, 6,\n",
              "       2, 2, 2, 6, 1, 6, 0, 4, 7, 7, 2, 4, 5, 5, 1, 1, 5, 0, 2, 4, 2, 1,\n",
              "       1, 0, 2, 2, 0, 7, 5, 4, 3, 5, 2, 2, 2, 1, 6, 5, 3, 4, 2, 2, 6, 7,\n",
              "       1, 5, 2, 5, 7, 6, 1, 7, 5, 2, 2, 0, 5, 7, 5, 2, 6, 1, 1, 7, 0, 6,\n",
              "       6, 6, 3, 5, 5, 2, 6, 6, 1, 5, 1, 2, 2, 5, 3, 6, 3, 5, 4, 1, 7, 3,\n",
              "       5, 3, 4, 3, 6, 5, 6, 4, 1, 5, 1, 7, 5, 6, 5, 6, 4, 6, 0, 0, 7, 2,\n",
              "       3, 3, 1, 5, 1, 0, 3, 1, 3, 2, 5, 5, 5, 5, 3, 5, 5, 7, 1, 4, 4, 5,\n",
              "       2, 7, 4, 6, 5, 1, 2, 7, 7, 5, 3, 0, 4, 6, 7, 1, 1, 3, 3, 3, 7, 5,\n",
              "       2, 5, 0, 3, 6, 2, 6, 2, 3, 4, 1, 4, 0, 0, 7, 1, 0, 2, 2, 5, 6, 1,\n",
              "       2, 7, 0, 1, 4, 5, 1, 5, 3, 4, 7, 2, 4, 6, 0, 2, 4, 1, 6, 2, 7, 0,\n",
              "       5, 5, 3, 7, 7, 0, 3, 2, 6, 4, 4, 5, 7, 7, 5, 6, 3, 3, 5, 6, 2, 4,\n",
              "       7, 6, 3, 2, 6, 5, 5, 3, 2, 4, 6, 7, 2, 3, 2, 0, 5, 5, 5, 5, 5, 4,\n",
              "       5, 0, 6, 3, 7, 5, 3, 0, 3, 2, 4, 4, 3, 3, 0, 2, 5, 2, 3, 7, 4, 1,\n",
              "       1, 3, 5, 5, 5, 0, 1, 3, 5, 2, 1, 6, 0, 1, 3, 4, 1, 0, 0, 6, 4, 3,\n",
              "       2, 7, 3, 3, 0, 3, 0])"
            ]
          },
          "metadata": {},
          "execution_count": 17
        }
      ]
    },
    {
      "cell_type": "code",
      "source": [
        "label_encoded"
      ],
      "metadata": {
        "colab": {
          "base_uri": "https://localhost:8080/"
        },
        "id": "1OwWcSr10PyZ",
        "outputId": "d6dcbf8e-8ab8-429e-e048-62afde9946c5"
      },
      "execution_count": 19,
      "outputs": [
        {
          "output_type": "execute_result",
          "data": {
            "text/plain": [
              "array([[0., 0., 0., ..., 0., 0., 1.],\n",
              "       [0., 0., 0., ..., 0., 0., 1.],\n",
              "       [0., 0., 0., ..., 1., 0., 0.],\n",
              "       ...,\n",
              "       [1., 0., 0., ..., 0., 0., 0.],\n",
              "       [0., 0., 0., ..., 0., 0., 0.],\n",
              "       [1., 0., 0., ..., 0., 0., 0.]])"
            ]
          },
          "metadata": {},
          "execution_count": 19
        }
      ]
    },
    {
      "cell_type": "code",
      "source": [
        "set(int_encoded)"
      ],
      "metadata": {
        "colab": {
          "base_uri": "https://localhost:8080/"
        },
        "id": "rd15R9ea0Pox",
        "outputId": "c16d0b06-1256-476f-c2db-1d0e21a29c50"
      },
      "execution_count": 20,
      "outputs": [
        {
          "output_type": "execute_result",
          "data": {
            "text/plain": [
              "{0, 1, 2, 3, 4, 5, 6, 7}"
            ]
          },
          "metadata": {},
          "execution_count": 20
        }
      ]
    },
    {
      "cell_type": "code",
      "source": [
        "label_encoder = LabelEncoder()\n",
        "int_encoded = label_encoder.fit_transform(labels)# הופך מילים למספרים\n",
        "labels_encoded2 = tf.one_hot(int_encoded, depth =len(set(int_encoded)))"
      ],
      "metadata": {
        "id": "s4vD11wa0PfB"
      },
      "execution_count": 21,
      "outputs": []
    },
    {
      "cell_type": "code",
      "source": [
        "labels_encoded2"
      ],
      "metadata": {
        "colab": {
          "base_uri": "https://localhost:8080/"
        },
        "id": "cTfwaKM20PVR",
        "outputId": "75aa5a20-5e9a-4ed0-e53a-cb0907c036cd"
      },
      "execution_count": 22,
      "outputs": [
        {
          "output_type": "execute_result",
          "data": {
            "text/plain": [
              "<tf.Tensor: shape=(491, 8), dtype=float32, numpy=\n",
              "array([[0., 0., 0., ..., 0., 0., 1.],\n",
              "       [0., 0., 0., ..., 0., 0., 1.],\n",
              "       [0., 0., 0., ..., 1., 0., 0.],\n",
              "       ...,\n",
              "       [1., 0., 0., ..., 0., 0., 0.],\n",
              "       [0., 0., 0., ..., 0., 0., 0.],\n",
              "       [1., 0., 0., ..., 0., 0., 0.]], dtype=float32)>"
            ]
          },
          "metadata": {},
          "execution_count": 22
        }
      ]
    },
    {
      "cell_type": "code",
      "source": [
        "tokenizer = Tokenizer (oov_token = '<OOV>')\n",
        "tokenizer.fit_on_texts (sentences)\n",
        "word_index = tokenizer.word_index\n",
        "sequences = tokenizer.texts_to_sequences(sentences)\n",
        "padded = pad_sequences(sequences, padding ='post')"
      ],
      "metadata": {
        "id": "T7V0RFOt0PLg"
      },
      "execution_count": 23,
      "outputs": []
    },
    {
      "cell_type": "code",
      "source": [
        "padded.shape"
      ],
      "metadata": {
        "colab": {
          "base_uri": "https://localhost:8080/"
        },
        "id": "K-2MIWd00O_5",
        "outputId": "1fa98837-8210-4a85-93e5-1a5109533666"
      },
      "execution_count": 24,
      "outputs": [
        {
          "output_type": "execute_result",
          "data": {
            "text/plain": [
              "(491, 15)"
            ]
          },
          "metadata": {},
          "execution_count": 24
        }
      ]
    },
    {
      "cell_type": "code",
      "source": [
        "list(word_index.items())[:10]"
      ],
      "metadata": {
        "colab": {
          "base_uri": "https://localhost:8080/"
        },
        "id": "vCoxEwdyBf8r",
        "outputId": "dbf36b51-eeb7-4640-fb40-1683dd84c2be"
      },
      "execution_count": 25,
      "outputs": [
        {
          "output_type": "execute_result",
          "data": {
            "text/plain": [
              "[('<OOV>', 1),\n",
              " ('the', 2),\n",
              " ('and', 3),\n",
              " ('is', 4),\n",
              " ('a', 5),\n",
              " ('of', 6),\n",
              " ('magical', 7),\n",
              " ('to', 8),\n",
              " ('character', 9),\n",
              " ('world', 10)]"
            ]
          },
          "metadata": {},
          "execution_count": 25
        }
      ]
    },
    {
      "cell_type": "code",
      "source": [
        "X_train,X_test, y_train, y_test = train_test_split(padded, label_encoded, test_size =0.2, random_state=42)"
      ],
      "metadata": {
        "id": "IcRLZxSeBf5l"
      },
      "execution_count": 26,
      "outputs": []
    },
    {
      "cell_type": "code",
      "source": [
        "model = Sequential ([\n",
        "    Embedding(input_dim = len(word_index)+1,output_dim =128),\n",
        "    #flatting\n",
        "      GlobalAveragePooling1D(),\n",
        "      Dense(10, activation ='relu'),\n",
        "      Dense(len(label_encoded[0]), activation = 'softmax')\n",
        "])"
      ],
      "metadata": {
        "id": "DDJ-bNfpBf2b"
      },
      "execution_count": 42,
      "outputs": []
    },
    {
      "cell_type": "code",
      "source": [
        "len(label_encoded[0])"
      ],
      "metadata": {
        "colab": {
          "base_uri": "https://localhost:8080/"
        },
        "id": "i6SK0L-zBfy9",
        "outputId": "2dbdf1a2-6a8f-41f7-b4fd-c275e00f8967"
      },
      "execution_count": 29,
      "outputs": [
        {
          "output_type": "execute_result",
          "data": {
            "text/plain": [
              "8"
            ]
          },
          "metadata": {},
          "execution_count": 29
        }
      ]
    },
    {
      "cell_type": "code",
      "source": [
        "model.compile(loss = 'categorical_crossentropy',\n",
        "              optimizer =Adam(),\n",
        "              metrics = ['accuracy'])"
      ],
      "metadata": {
        "id": "XKsRZK2bBfuz"
      },
      "execution_count": 43,
      "outputs": []
    },
    {
      "cell_type": "code",
      "source": [
        "history = model.fit(X_train, y_train, epochs =50, validation_data =(X_test,y_test))"
      ],
      "metadata": {
        "colab": {
          "base_uri": "https://localhost:8080/"
        },
        "id": "xRz9COwKBfls",
        "outputId": "77a1c088-6964-4280-edfc-d7614455623e"
      },
      "execution_count": 40,
      "outputs": [
        {
          "output_type": "stream",
          "name": "stdout",
          "text": [
            "Epoch 1/50\n",
            "\u001b[1m13/13\u001b[0m \u001b[32m━━━━━━━━━━━━━━━━━━━━\u001b[0m\u001b[37m\u001b[0m \u001b[1m2s\u001b[0m 25ms/step - accuracy: 0.1605 - loss: 2.0784 - val_accuracy: 0.3030 - val_loss: 2.0673\n",
            "Epoch 2/50\n",
            "\u001b[1m13/13\u001b[0m \u001b[32m━━━━━━━━━━━━━━━━━━━━\u001b[0m\u001b[37m\u001b[0m \u001b[1m0s\u001b[0m 8ms/step - accuracy: 0.3344 - loss: 2.0607 - val_accuracy: 0.3434 - val_loss: 2.0546\n",
            "Epoch 3/50\n",
            "\u001b[1m13/13\u001b[0m \u001b[32m━━━━━━━━━━━━━━━━━━━━\u001b[0m\u001b[37m\u001b[0m \u001b[1m0s\u001b[0m 8ms/step - accuracy: 0.4052 - loss: 2.0428 - val_accuracy: 0.3939 - val_loss: 2.0383\n",
            "Epoch 4/50\n",
            "\u001b[1m13/13\u001b[0m \u001b[32m━━━━━━━━━━━━━━━━━━━━\u001b[0m\u001b[37m\u001b[0m \u001b[1m0s\u001b[0m 8ms/step - accuracy: 0.4615 - loss: 2.0185 - val_accuracy: 0.4444 - val_loss: 2.0180\n",
            "Epoch 5/50\n",
            "\u001b[1m13/13\u001b[0m \u001b[32m━━━━━━━━━━━━━━━━━━━━\u001b[0m\u001b[37m\u001b[0m \u001b[1m0s\u001b[0m 8ms/step - accuracy: 0.6300 - loss: 1.9855 - val_accuracy: 0.5455 - val_loss: 1.9923\n",
            "Epoch 6/50\n",
            "\u001b[1m13/13\u001b[0m \u001b[32m━━━━━━━━━━━━━━━━━━━━\u001b[0m\u001b[37m\u001b[0m \u001b[1m0s\u001b[0m 11ms/step - accuracy: 0.6916 - loss: 1.9431 - val_accuracy: 0.4848 - val_loss: 1.9641\n",
            "Epoch 7/50\n",
            "\u001b[1m13/13\u001b[0m \u001b[32m━━━━━━━━━━━━━━━━━━━━\u001b[0m\u001b[37m\u001b[0m \u001b[1m0s\u001b[0m 9ms/step - accuracy: 0.6954 - loss: 1.9036 - val_accuracy: 0.5253 - val_loss: 1.9288\n",
            "Epoch 8/50\n",
            "\u001b[1m13/13\u001b[0m \u001b[32m━━━━━━━━━━━━━━━━━━━━\u001b[0m\u001b[37m\u001b[0m \u001b[1m0s\u001b[0m 8ms/step - accuracy: 0.7195 - loss: 1.8450 - val_accuracy: 0.5152 - val_loss: 1.8852\n",
            "Epoch 9/50\n",
            "\u001b[1m13/13\u001b[0m \u001b[32m━━━━━━━━━━━━━━━━━━━━\u001b[0m\u001b[37m\u001b[0m \u001b[1m0s\u001b[0m 8ms/step - accuracy: 0.7001 - loss: 1.7767 - val_accuracy: 0.5354 - val_loss: 1.8369\n",
            "Epoch 10/50\n",
            "\u001b[1m13/13\u001b[0m \u001b[32m━━━━━━━━━━━━━━━━━━━━\u001b[0m\u001b[37m\u001b[0m \u001b[1m0s\u001b[0m 11ms/step - accuracy: 0.6662 - loss: 1.7140 - val_accuracy: 0.5152 - val_loss: 1.7878\n",
            "Epoch 11/50\n",
            "\u001b[1m13/13\u001b[0m \u001b[32m━━━━━━━━━━━━━━━━━━━━\u001b[0m\u001b[37m\u001b[0m \u001b[1m0s\u001b[0m 8ms/step - accuracy: 0.7628 - loss: 1.6303 - val_accuracy: 0.5354 - val_loss: 1.7330\n",
            "Epoch 12/50\n",
            "\u001b[1m13/13\u001b[0m \u001b[32m━━━━━━━━━━━━━━━━━━━━\u001b[0m\u001b[37m\u001b[0m \u001b[1m0s\u001b[0m 10ms/step - accuracy: 0.7402 - loss: 1.5607 - val_accuracy: 0.5657 - val_loss: 1.6825\n",
            "Epoch 13/50\n",
            "\u001b[1m13/13\u001b[0m \u001b[32m━━━━━━━━━━━━━━━━━━━━\u001b[0m\u001b[37m\u001b[0m \u001b[1m0s\u001b[0m 11ms/step - accuracy: 0.7701 - loss: 1.4594 - val_accuracy: 0.5859 - val_loss: 1.6256\n",
            "Epoch 14/50\n",
            "\u001b[1m13/13\u001b[0m \u001b[32m━━━━━━━━━━━━━━━━━━━━\u001b[0m\u001b[37m\u001b[0m \u001b[1m0s\u001b[0m 8ms/step - accuracy: 0.7685 - loss: 1.3982 - val_accuracy: 0.5758 - val_loss: 1.5744\n",
            "Epoch 15/50\n",
            "\u001b[1m13/13\u001b[0m \u001b[32m━━━━━━━━━━━━━━━━━━━━\u001b[0m\u001b[37m\u001b[0m \u001b[1m0s\u001b[0m 9ms/step - accuracy: 0.7878 - loss: 1.3314 - val_accuracy: 0.6263 - val_loss: 1.5168\n",
            "Epoch 16/50\n",
            "\u001b[1m13/13\u001b[0m \u001b[32m━━━━━━━━━━━━━━━━━━━━\u001b[0m\u001b[37m\u001b[0m \u001b[1m0s\u001b[0m 8ms/step - accuracy: 0.8369 - loss: 1.2254 - val_accuracy: 0.6162 - val_loss: 1.4617\n",
            "Epoch 17/50\n",
            "\u001b[1m13/13\u001b[0m \u001b[32m━━━━━━━━━━━━━━━━━━━━\u001b[0m\u001b[37m\u001b[0m \u001b[1m0s\u001b[0m 11ms/step - accuracy: 0.8504 - loss: 1.1416 - val_accuracy: 0.6465 - val_loss: 1.4063\n",
            "Epoch 18/50\n",
            "\u001b[1m13/13\u001b[0m \u001b[32m━━━━━━━━━━━━━━━━━━━━\u001b[0m\u001b[37m\u001b[0m \u001b[1m0s\u001b[0m 8ms/step - accuracy: 0.8561 - loss: 1.0855 - val_accuracy: 0.6667 - val_loss: 1.3603\n",
            "Epoch 19/50\n",
            "\u001b[1m13/13\u001b[0m \u001b[32m━━━━━━━━━━━━━━━━━━━━\u001b[0m\u001b[37m\u001b[0m \u001b[1m0s\u001b[0m 8ms/step - accuracy: 0.8627 - loss: 1.0159 - val_accuracy: 0.6869 - val_loss: 1.3169\n",
            "Epoch 20/50\n",
            "\u001b[1m13/13\u001b[0m \u001b[32m━━━━━━━━━━━━━━━━━━━━\u001b[0m\u001b[37m\u001b[0m \u001b[1m0s\u001b[0m 8ms/step - accuracy: 0.8715 - loss: 0.9390 - val_accuracy: 0.6667 - val_loss: 1.2726\n",
            "Epoch 21/50\n",
            "\u001b[1m13/13\u001b[0m \u001b[32m━━━━━━━━━━━━━━━━━━━━\u001b[0m\u001b[37m\u001b[0m \u001b[1m0s\u001b[0m 8ms/step - accuracy: 0.9003 - loss: 0.8602 - val_accuracy: 0.6768 - val_loss: 1.2375\n",
            "Epoch 22/50\n",
            "\u001b[1m13/13\u001b[0m \u001b[32m━━━━━━━━━━━━━━━━━━━━\u001b[0m\u001b[37m\u001b[0m \u001b[1m0s\u001b[0m 13ms/step - accuracy: 0.8919 - loss: 0.8197 - val_accuracy: 0.6566 - val_loss: 1.2053\n",
            "Epoch 23/50\n",
            "\u001b[1m13/13\u001b[0m \u001b[32m━━━━━━━━━━━━━━━━━━━━\u001b[0m\u001b[37m\u001b[0m \u001b[1m0s\u001b[0m 12ms/step - accuracy: 0.9042 - loss: 0.7501 - val_accuracy: 0.6667 - val_loss: 1.1781\n",
            "Epoch 24/50\n",
            "\u001b[1m13/13\u001b[0m \u001b[32m━━━━━━━━━━━━━━━━━━━━\u001b[0m\u001b[37m\u001b[0m \u001b[1m0s\u001b[0m 13ms/step - accuracy: 0.9012 - loss: 0.6842 - val_accuracy: 0.6768 - val_loss: 1.1546\n",
            "Epoch 25/50\n",
            "\u001b[1m13/13\u001b[0m \u001b[32m━━━━━━━━━━━━━━━━━━━━\u001b[0m\u001b[37m\u001b[0m \u001b[1m0s\u001b[0m 12ms/step - accuracy: 0.9148 - loss: 0.6469 - val_accuracy: 0.6768 - val_loss: 1.1283\n",
            "Epoch 26/50\n",
            "\u001b[1m13/13\u001b[0m \u001b[32m━━━━━━━━━━━━━━━━━━━━\u001b[0m\u001b[37m\u001b[0m \u001b[1m0s\u001b[0m 11ms/step - accuracy: 0.9148 - loss: 0.6044 - val_accuracy: 0.6970 - val_loss: 1.1127\n",
            "Epoch 27/50\n",
            "\u001b[1m13/13\u001b[0m \u001b[32m━━━━━━━━━━━━━━━━━━━━\u001b[0m\u001b[37m\u001b[0m \u001b[1m0s\u001b[0m 13ms/step - accuracy: 0.9085 - loss: 0.5626 - val_accuracy: 0.6869 - val_loss: 1.0960\n",
            "Epoch 28/50\n",
            "\u001b[1m13/13\u001b[0m \u001b[32m━━━━━━━━━━━━━━━━━━━━\u001b[0m\u001b[37m\u001b[0m \u001b[1m0s\u001b[0m 15ms/step - accuracy: 0.9217 - loss: 0.5271 - val_accuracy: 0.6768 - val_loss: 1.0756\n",
            "Epoch 29/50\n",
            "\u001b[1m13/13\u001b[0m \u001b[32m━━━━━━━━━━━━━━━━━━━━\u001b[0m\u001b[37m\u001b[0m \u001b[1m0s\u001b[0m 14ms/step - accuracy: 0.9351 - loss: 0.5191 - val_accuracy: 0.6869 - val_loss: 1.0643\n",
            "Epoch 30/50\n",
            "\u001b[1m13/13\u001b[0m \u001b[32m━━━━━━━━━━━━━━━━━━━━\u001b[0m\u001b[37m\u001b[0m \u001b[1m0s\u001b[0m 9ms/step - accuracy: 0.9382 - loss: 0.4563 - val_accuracy: 0.6869 - val_loss: 1.0550\n",
            "Epoch 31/50\n",
            "\u001b[1m13/13\u001b[0m \u001b[32m━━━━━━━━━━━━━━━━━━━━\u001b[0m\u001b[37m\u001b[0m \u001b[1m0s\u001b[0m 11ms/step - accuracy: 0.9365 - loss: 0.4368 - val_accuracy: 0.6869 - val_loss: 1.0500\n",
            "Epoch 32/50\n",
            "\u001b[1m13/13\u001b[0m \u001b[32m━━━━━━━━━━━━━━━━━━━━\u001b[0m\u001b[37m\u001b[0m \u001b[1m0s\u001b[0m 8ms/step - accuracy: 0.9360 - loss: 0.4021 - val_accuracy: 0.6869 - val_loss: 1.0405\n",
            "Epoch 33/50\n",
            "\u001b[1m13/13\u001b[0m \u001b[32m━━━━━━━━━━━━━━━━━━━━\u001b[0m\u001b[37m\u001b[0m \u001b[1m0s\u001b[0m 8ms/step - accuracy: 0.9542 - loss: 0.3721 - val_accuracy: 0.6970 - val_loss: 1.0381\n",
            "Epoch 34/50\n",
            "\u001b[1m13/13\u001b[0m \u001b[32m━━━━━━━━━━━━━━━━━━━━\u001b[0m\u001b[37m\u001b[0m \u001b[1m0s\u001b[0m 9ms/step - accuracy: 0.9569 - loss: 0.3411 - val_accuracy: 0.6869 - val_loss: 1.0295\n",
            "Epoch 35/50\n",
            "\u001b[1m13/13\u001b[0m \u001b[32m━━━━━━━━━━━━━━━━━━━━\u001b[0m\u001b[37m\u001b[0m \u001b[1m0s\u001b[0m 8ms/step - accuracy: 0.9487 - loss: 0.3700 - val_accuracy: 0.6869 - val_loss: 1.0277\n",
            "Epoch 36/50\n",
            "\u001b[1m13/13\u001b[0m \u001b[32m━━━━━━━━━━━━━━━━━━━━\u001b[0m\u001b[37m\u001b[0m \u001b[1m0s\u001b[0m 9ms/step - accuracy: 0.9608 - loss: 0.3093 - val_accuracy: 0.6869 - val_loss: 1.0260\n",
            "Epoch 37/50\n",
            "\u001b[1m13/13\u001b[0m \u001b[32m━━━━━━━━━━━━━━━━━━━━\u001b[0m\u001b[37m\u001b[0m \u001b[1m0s\u001b[0m 8ms/step - accuracy: 0.9584 - loss: 0.3017 - val_accuracy: 0.6768 - val_loss: 1.0239\n",
            "Epoch 38/50\n",
            "\u001b[1m13/13\u001b[0m \u001b[32m━━━━━━━━━━━━━━━━━━━━\u001b[0m\u001b[37m\u001b[0m \u001b[1m0s\u001b[0m 7ms/step - accuracy: 0.9670 - loss: 0.2671 - val_accuracy: 0.6869 - val_loss: 1.0215\n",
            "Epoch 39/50\n",
            "\u001b[1m13/13\u001b[0m \u001b[32m━━━━━━━━━━━━━━━━━━━━\u001b[0m\u001b[37m\u001b[0m \u001b[1m0s\u001b[0m 7ms/step - accuracy: 0.9714 - loss: 0.2603 - val_accuracy: 0.6768 - val_loss: 1.0219\n",
            "Epoch 40/50\n",
            "\u001b[1m13/13\u001b[0m \u001b[32m━━━━━━━━━━━━━━━━━━━━\u001b[0m\u001b[37m\u001b[0m \u001b[1m0s\u001b[0m 8ms/step - accuracy: 0.9691 - loss: 0.2710 - val_accuracy: 0.6768 - val_loss: 1.0219\n",
            "Epoch 41/50\n",
            "\u001b[1m13/13\u001b[0m \u001b[32m━━━━━━━━━━━━━━━━━━━━\u001b[0m\u001b[37m\u001b[0m \u001b[1m0s\u001b[0m 8ms/step - accuracy: 0.9767 - loss: 0.2199 - val_accuracy: 0.6869 - val_loss: 1.0241\n",
            "Epoch 42/50\n",
            "\u001b[1m13/13\u001b[0m \u001b[32m━━━━━━━━━━━━━━━━━━━━\u001b[0m\u001b[37m\u001b[0m \u001b[1m0s\u001b[0m 9ms/step - accuracy: 0.9631 - loss: 0.2258 - val_accuracy: 0.6869 - val_loss: 1.0268\n",
            "Epoch 43/50\n",
            "\u001b[1m13/13\u001b[0m \u001b[32m━━━━━━━━━━━━━━━━━━━━\u001b[0m\u001b[37m\u001b[0m \u001b[1m0s\u001b[0m 8ms/step - accuracy: 0.9783 - loss: 0.2133 - val_accuracy: 0.6869 - val_loss: 1.0293\n",
            "Epoch 44/50\n",
            "\u001b[1m13/13\u001b[0m \u001b[32m━━━━━━━━━━━━━━━━━━━━\u001b[0m\u001b[37m\u001b[0m \u001b[1m0s\u001b[0m 8ms/step - accuracy: 0.9876 - loss: 0.1885 - val_accuracy: 0.6970 - val_loss: 1.0314\n",
            "Epoch 45/50\n",
            "\u001b[1m13/13\u001b[0m \u001b[32m━━━━━━━━━━━━━━━━━━━━\u001b[0m\u001b[37m\u001b[0m \u001b[1m0s\u001b[0m 8ms/step - accuracy: 0.9832 - loss: 0.2030 - val_accuracy: 0.6970 - val_loss: 1.0348\n",
            "Epoch 46/50\n",
            "\u001b[1m13/13\u001b[0m \u001b[32m━━━━━━━━━━━━━━━━━━━━\u001b[0m\u001b[37m\u001b[0m \u001b[1m0s\u001b[0m 8ms/step - accuracy: 0.9731 - loss: 0.1948 - val_accuracy: 0.6970 - val_loss: 1.0374\n",
            "Epoch 47/50\n",
            "\u001b[1m13/13\u001b[0m \u001b[32m━━━━━━━━━━━━━━━━━━━━\u001b[0m\u001b[37m\u001b[0m \u001b[1m0s\u001b[0m 8ms/step - accuracy: 0.9766 - loss: 0.1862 - val_accuracy: 0.6869 - val_loss: 1.0444\n",
            "Epoch 48/50\n",
            "\u001b[1m13/13\u001b[0m \u001b[32m━━━━━━━━━━━━━━━━━━━━\u001b[0m\u001b[37m\u001b[0m \u001b[1m0s\u001b[0m 8ms/step - accuracy: 0.9888 - loss: 0.1748 - val_accuracy: 0.6869 - val_loss: 1.0439\n",
            "Epoch 49/50\n",
            "\u001b[1m13/13\u001b[0m \u001b[32m━━━━━━━━━━━━━━━━━━━━\u001b[0m\u001b[37m\u001b[0m \u001b[1m0s\u001b[0m 8ms/step - accuracy: 0.9941 - loss: 0.1344 - val_accuracy: 0.7071 - val_loss: 1.0509\n",
            "Epoch 50/50\n",
            "\u001b[1m13/13\u001b[0m \u001b[32m━━━━━━━━━━━━━━━━━━━━\u001b[0m\u001b[37m\u001b[0m \u001b[1m0s\u001b[0m 8ms/step - accuracy: 0.9902 - loss: 0.1458 - val_accuracy: 0.6869 - val_loss: 1.0616\n"
          ]
        }
      ]
    },
    {
      "cell_type": "code",
      "source": [
        "plt.plot(history.history['accuracy'], label = 'acc')\n",
        "plt.plot(history.history['val_accuracy'], label = 'val acc')\n",
        "plt.plot(history.history['loss'], label = 'loss')\n",
        "plt.plot(history.history['val_loss'], label = 'val loss')\n",
        "\n",
        "plt.legend()"
      ],
      "metadata": {
        "colab": {
          "base_uri": "https://localhost:8080/",
          "height": 448
        },
        "id": "_LbdvQp5BfZz",
        "outputId": "74539f7b-946d-4675-8e43-ca47a0c79cc8"
      },
      "execution_count": 44,
      "outputs": [
        {
          "output_type": "execute_result",
          "data": {
            "text/plain": [
              "<matplotlib.legend.Legend at 0x78fb6dbd7f90>"
            ]
          },
          "metadata": {},
          "execution_count": 44
        },
        {
          "output_type": "display_data",
          "data": {
            "text/plain": [
              "<Figure size 640x480 with 1 Axes>"
            ],
            "image/png": "[encoded data removed]"
          },
          "metadata": {}
        }
      ]
    },
    {
      "cell_type": "code",
      "execution_count": 37,
      "metadata": {
        "colab": {
          "base_uri": "https://localhost:8080/",
          "height": 202
        },
        "id": "0i4kP-4ZRJxK",
        "outputId": "8a6f7d9d-97be-4a95-b141-b99f6ab705ab"
      },
      "outputs": [
        {
          "output_type": "stream",
          "name": "stdout",
          "text": [
            "1 <OOV>\n",
            "2 the\n",
            "3 and\n",
            "4 is\n",
            "5 a\n",
            "6 of\n",
            "7 magical\n",
            "8 to\n",
            "9 character\n",
            "10 world\n"
          ]
        },
        {
          "output_type": "display_data",
          "data": {
            "text/plain": [
              "<IPython.core.display.Javascript object>"
            ],
            "application/javascript": [
              "\n",
              "    async function download(id, filename, size) {\n",
              "      if (!google.colab.kernel.accessAllowed) {\n",
              "        return;\n",
              "      }\n",
              "      const div = document.createElement('div');\n",
              "      const label = document.createElement('label');\n",
              "      label.textContent = `Downloading \"${filename}\": `;\n",
              "      div.appendChild(label);\n",
              "      const progress = document.createElement('progress');\n",
              "      progress.max = size;\n",
              "      div.appendChild(progress);\n",
              "      document.body.appendChild(div);\n",
              "\n",
              "      const buffers = [];\n",
              "      let downloaded = 0;\n",
              "\n",
              "      const channel = await google.colab.kernel.comms.open(id);\n",
              "      // Send a message to notify the kernel that we're ready.\n",
              "      channel.send({})\n",
              "\n",
              "      for await (const message of channel.messages) {\n",
              "        // Send a message to notify the kernel that we're ready.\n",
              "        channel.send({})\n",
              "        if (message.buffers) {\n",
              "          for (const buffer of message.buffers) {\n",
              "            buffers.push(buffer);\n",
              "            downloaded += buffer.byteLength;\n",
              "            progress.value = downloaded;\n",
              "          }\n",
              "        }\n",
              "      }\n",
              "      const blob = new Blob(buffers, {type: 'application/binary'});\n",
              "      const a = document.createElement('a');\n",
              "      a.href = window.URL.createObjectURL(blob);\n",
              "      a.download = filename;\n",
              "      div.appendChild(a);\n",
              "      a.click();\n",
              "      div.remove();\n",
              "    }\n",
              "  "
            ]
          },
          "metadata": {}
        },
        {
          "output_type": "display_data",
          "data": {
            "text/plain": [
              "<IPython.core.display.Javascript object>"
            ],
            "application/javascript": [
              "download(\"download_5b481ebb-4caf-4e9a-9d37-23835faa07a6\", \"vectors.tsv\", 247715)"
            ]
          },
          "metadata": {}
        },
        {
          "output_type": "display_data",
          "data": {
            "text/plain": [
              "<IPython.core.display.Javascript object>"
            ],
            "application/javascript": [
              "\n",
              "    async function download(id, filename, size) {\n",
              "      if (!google.colab.kernel.accessAllowed) {\n",
              "        return;\n",
              "      }\n",
              "      const div = document.createElement('div');\n",
              "      const label = document.createElement('label');\n",
              "      label.textContent = `Downloading \"${filename}\": `;\n",
              "      div.appendChild(label);\n",
              "      const progress = document.createElement('progress');\n",
              "      progress.max = size;\n",
              "      div.appendChild(progress);\n",
              "      document.body.appendChild(div);\n",
              "\n",
              "      const buffers = [];\n",
              "      let downloaded = 0;\n",
              "\n",
              "      const channel = await google.colab.kernel.comms.open(id);\n",
              "      // Send a message to notify the kernel that we're ready.\n",
              "      channel.send({})\n",
              "\n",
              "      for await (const message of channel.messages) {\n",
              "        // Send a message to notify the kernel that we're ready.\n",
              "        channel.send({})\n",
              "        if (message.buffers) {\n",
              "          for (const buffer of message.buffers) {\n",
              "            buffers.push(buffer);\n",
              "            downloaded += buffer.byteLength;\n",
              "            progress.value = downloaded;\n",
              "          }\n",
              "        }\n",
              "      }\n",
              "      const blob = new Blob(buffers, {type: 'application/binary'});\n",
              "      const a = document.createElement('a');\n",
              "      a.href = window.URL.createObjectURL(blob);\n",
              "      a.download = filename;\n",
              "      div.appendChild(a);\n",
              "      a.click();\n",
              "      div.remove();\n",
              "    }\n",
              "  "
            ]
          },
          "metadata": {}
        },
        {
          "output_type": "display_data",
          "data": {
            "text/plain": [
              "<IPython.core.display.Javascript object>"
            ],
            "application/javascript": [
              "download(\"download_748b70b4-e2da-4825-972a-5e76e6664495\", \"metadata.tsv\", 4885)"
            ]
          },
          "metadata": {}
        }
      ],
      "source": [
        "## this is for the site-https://projector.tensorflow.org/\n",
        "def get_reverse_index(tokenizer):\n",
        "  return tokenizer.index_word\n",
        "\n",
        "reverse_index = get_reverse_index(tokenizer)\n",
        "\n",
        "first_10_pairs = list(reverse_index.items())[:10]\n",
        "\n",
        "for index, word in first_10_pairs:\n",
        "  print(index, word)\n",
        "\n",
        "\n",
        "embedding_layer = model.layers[0]\n",
        "embeddings = embedding_layer.get_weights()[0]\n",
        "\n",
        "np.savetxt(\"vectors.tsv\", embeddings, delimiter=\"\\t\")\n",
        "\n",
        "with open(\"metadata.tsv\", \"w\", encoding='utf-8') as f:\n",
        "  for i in range(1, 607 + 1): #len(word_index) +1\n",
        "    word = reverse_index.get(i, \"<OOV>\")\n",
        "    f.write(word + \"\\n\")\n",
        "\n",
        "from google.colab import files\n",
        "files.download(\"vectors.tsv\")\n",
        "\n",
        "files.download(\"metadata.tsv\")\n"
      ]
    },
    {
      "cell_type": "code",
      "execution_count": null,
      "metadata": {
        "id": "N8Fh0MW0Rz7W"
      },
      "outputs": [],
      "source": []
    }
  ],
  "metadata": {
    "colab": {
      "provenance": []
    },
    "kernelspec": {
      "display_name": "Python 3 (ipykernel)",
      "language": "python",
      "name": "python3"
    },
    "language_info": {
      "codemirror_mode": {
        "name": "ipython",
        "version": 3
      },
      "file_extension": ".py",
      "mimetype": "text/x-python",
      "name": "python",
      "nbconvert_exporter": "python",
      "pygments_lexer": "ipython3",
      "version": "3.12.2"
    }
  },
  "nbformat": 4,
  "nbformat_minor": 0
}