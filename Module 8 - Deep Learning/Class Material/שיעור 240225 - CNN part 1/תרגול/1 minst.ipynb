{
 "cells": [
  {
   "cell_type": "code",
   "execution_count": null,
   "metadata": {
    "id": "4FdZWsZg8kAG"
   },
   "outputs": [],
   "source": [
    "import tensorflow as tf\n",
    "import matplotlib.pyplot as plt\n",
    "from tensorflow.keras import layers, models\n",
    "from tensorflow.keras.datasets import mnist\n"
   ]
  },
  {
   "cell_type": "markdown",
   "metadata": {
    "id": "rNoKCC_D8zI2"
   },
   "source": [
    "\n",
    "1. טען את דאטסט MNIST (mnist.load_data())\n",
    "2. בצע נורמליזציה לפיקסלים כך שיהיו בטווח 0-1\n",
    "3. המר את התוויות לפורמט one-hot encoding\n",
    "-  בעזרת  tf.keras.utils.to_categorical\n",
    "4. בנה רשת נוירונים בעזרת Sequential, עם:\n",
    "   - שכבת Flatten (28x28 שמתאימה לקלט)\n",
    "   - שכבות dense לפי הצורך\n",
    "   - שימו לב לשכבת יציאה מתאימה הן מבחינת מספר נויקונים והן מבחינת פונקציית אקטיבציה\n",
    "\n",
    "5. קמפל את המודל עם פונקציית עלות ואופטימייזר מתאימים, גם צריך למדוד דיוק\n",
    "6. אמן את המודל במשך 5 אפוקים\n",
    "7. הצג את דיוק המודל על סט הבדיקה"
   ]
  },
  {
   "cell_type": "code",
   "execution_count": null,
   "metadata": {
    "id": "1iELGIy684HU"
   },
   "outputs": [],
   "source": [
    "# 1. טעינת הדאטסט\n",
    "\n"
   ]
  },
  {
   "cell_type": "code",
   "execution_count": null,
   "metadata": {
    "id": "vBuI_OoN_Oi6"
   },
   "outputs": [],
   "source": [
    "# 2. נורמליזציה של הנתונים\n"
   ]
  },
  {
   "cell_type": "code",
   "execution_count": null,
   "metadata": {
    "id": "S44_iXz5_PxL"
   },
   "outputs": [],
   "source": [
    "# 3. המרת התוויות ל-One-Hot Encoding\n",
    "# עם tf.keras.utils.to_categorical\n"
   ]
  },
  {
   "cell_type": "code",
   "execution_count": null,
   "metadata": {
    "colab": {
     "base_uri": "https://localhost:8080/"
    },
    "id": "QxUIFa7r_VTb",
    "outputId": "877979df-b880-494b-a46e-af7899e692fc"
   },
   "outputs": [],
   "source": [
    "# 4. בניית המודל\n"
   ]
  },
  {
   "cell_type": "code",
   "execution_count": null,
   "metadata": {
    "id": "nWcXoH-y_XLu"
   },
   "outputs": [],
   "source": [
    "# 5. קומפילציה ואימון\n"
   ]
  },
  {
   "cell_type": "code",
   "execution_count": null,
   "metadata": {
    "colab": {
     "base_uri": "https://localhost:8080/"
    },
    "id": "9L9nNbbf_bix",
    "outputId": "90817a51-8f7d-4861-d07a-07fed6160812"
   },
   "outputs": [],
   "source": []
  },
  {
   "cell_type": "code",
   "execution_count": null,
   "metadata": {
    "colab": {
     "base_uri": "https://localhost:8080/"
    },
    "id": "Sd02pFra_icn",
    "outputId": "fa0b2b2e-2427-43cd-e3c4-4408bb009879"
   },
   "outputs": [],
   "source": [
    "# 6. הערכת המודל על סט הבדיקה\n"
   ]
  },
  {
   "cell_type": "code",
   "execution_count": null,
   "metadata": {
    "colab": {
     "base_uri": "https://localhost:8080/",
     "height": 472
    },
    "id": "ctnzZ3MxAF3o",
    "outputId": "bed96f79-d29c-4e92-8317-782c7b445342"
   },
   "outputs": [],
   "source": []
  },
  {
   "cell_type": "code",
   "execution_count": null,
   "metadata": {
    "id": "8rpWF8BN-SVa"
   },
   "outputs": [],
   "source": []
  }
 ],
 "metadata": {
  "colab": {
   "provenance": []
  },
  "kernelspec": {
   "display_name": "Python 3 (ipykernel)",
   "language": "python",
   "name": "python3"
  },
  "language_info": {
   "codemirror_mode": {
    "name": "ipython",
    "version": 3
   },
   "file_extension": ".py",
   "mimetype": "text/x-python",
   "name": "python",
   "nbconvert_exporter": "python",
   "pygments_lexer": "ipython3",
   "version": "3.12.2"
  }
 },
 "nbformat": 4,
 "nbformat_minor": 4
}
