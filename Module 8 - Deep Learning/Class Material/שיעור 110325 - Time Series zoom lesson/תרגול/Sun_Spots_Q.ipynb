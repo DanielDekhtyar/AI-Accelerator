{
 "cells": [
  {
   "cell_type": "code",
   "execution_count": null,
   "metadata": {
    "id": "xhPGEbbfX6NI"
   },
   "outputs": [],
   "source": [
    "import matplotlib.pyplot as plt\n",
    "import numpy as np\n",
    "import pandas as pd\n",
    "import tensorflow as tf\n",
    "from statsmodels.tsa.seasonal import seasonal_decompose\n",
    "from sklearn.preprocessing import MinMaxScaler"
   ]
  },
  {
   "cell_type": "code",
   "execution_count": null,
   "metadata": {
    "id": "KDujPZ3SYAs5"
   },
   "outputs": [],
   "source": [
    "# Load the sunspots data\n",
    "sunspots_data = pd.read_csv('sunspots_data.csv')"
   ]
  },
  {
   "cell_type": "code",
   "execution_count": null,
   "metadata": {
    "colab": {
     "base_uri": "https://localhost:8080/",
     "height": 299
    },
    "id": "geeapIiHfOvU",
    "outputId": "0bf42cb1-2309-46ec-fc86-639f21dbafc5"
   },
   "outputs": [],
   "source": [
    "#היכרות ראשונית  עם המידע head/info etc\n"
   ]
  },
  {
   "cell_type": "code",
   "execution_count": null,
   "metadata": {
    "id": "vbkyVzPifGQo"
   },
   "outputs": [],
   "source": [
    "#לשנות את עמודת התאריך לטיפוס מתאים\n"
   ]
  },
  {
   "cell_type": "code",
   "execution_count": null,
   "metadata": {
    "colab": {
     "base_uri": "https://localhost:8080/",
     "height": 146
    },
    "id": "E3eDbg_cfwt1",
    "outputId": "fc2d5105-5d17-460f-f1d5-2945c50d2bfb"
   },
   "outputs": [],
   "source": []
  },
  {
   "cell_type": "code",
   "execution_count": null,
   "metadata": {
    "colab": {
     "base_uri": "https://localhost:8080/",
     "height": 410
    },
    "id": "z_bJBfV_YDQL",
    "outputId": "2094b342-2725-4416-b25d-83d41d94091f"
   },
   "outputs": [],
   "source": [
    "# Plot the sunspots data\n"
   ]
  },
  {
   "cell_type": "code",
   "execution_count": null,
   "metadata": {
    "colab": {
     "base_uri": "https://localhost:8080/",
     "height": 487
    },
    "id": "X8xySY7klJq0",
    "outputId": "fca90a51-871b-4165-96a9-3f2167a8b28f"
   },
   "outputs": [],
   "source": [
    "#עונה ומגמה בעזרת seasonal_decompose\n"
   ]
  },
  {
   "cell_type": "code",
   "execution_count": null,
   "metadata": {
    "id": "9pRSJKJ4YFSR"
   },
   "outputs": [],
   "source": [
    "# Split the data into training and validation sets\n",
    "\n"
   ]
  },
  {
   "cell_type": "code",
   "execution_count": null,
   "metadata": {
    "id": "cwY0r1M1YGwv"
   },
   "outputs": [],
   "source": [
    "# create a helper function to prepare windowed datasets\n"
   ]
  },
  {
   "cell_type": "code",
   "execution_count": null,
   "metadata": {
    "id": "Lrq04meph9O7"
   },
   "outputs": [],
   "source": []
  },
  {
   "cell_type": "code",
   "execution_count": null,
   "metadata": {
    "id": "ScFUKos6h8bW"
   },
   "outputs": [],
   "source": [
    "# #Use the function to create windows\n",
    "#window size and batch size configuration\n",
    "\n",
    "\n",
    "# Create windowed datasets for both training and validation\n"
   ]
  },
  {
   "cell_type": "code",
   "execution_count": null,
   "metadata": {},
   "outputs": [],
   "source": []
  },
  {
   "cell_type": "code",
   "execution_count": null,
   "metadata": {
    "colab": {
     "base_uri": "https://localhost:8080/"
    },
    "id": "ghKBtTpZYJnK",
    "outputId": "3605245c-242d-4061-d400-57d550357d01"
   },
   "outputs": [],
   "source": [
    "# Define a simple a model\n",
    "\n",
    "\n",
    "\n",
    "# Compile and train the model\n",
    "\n",
    "#fit the model\n"
   ]
  },
  {
   "cell_type": "code",
   "execution_count": null,
   "metadata": {},
   "outputs": [],
   "source": [
    "#how well did your model do?"
   ]
  }
 ],
 "metadata": {
  "accelerator": "GPU",
  "colab": {
   "gpuType": "T4",
   "provenance": []
  },
  "kernelspec": {
   "display_name": "Python 3 (ipykernel)",
   "language": "python",
   "name": "python3"
  },
  "language_info": {
   "codemirror_mode": {
    "name": "ipython",
    "version": 3
   },
   "file_extension": ".py",
   "mimetype": "text/x-python",
   "name": "python",
   "nbconvert_exporter": "python",
   "pygments_lexer": "ipython3",
   "version": "3.12.2"
  }
 },
 "nbformat": 4,
 "nbformat_minor": 4
}
