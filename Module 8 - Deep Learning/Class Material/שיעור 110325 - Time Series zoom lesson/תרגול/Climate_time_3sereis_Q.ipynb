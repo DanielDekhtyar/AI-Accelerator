{
 "cells": [
  {
   "cell_type": "code",
   "execution_count": null,
   "metadata": {
    "id": "4o-AceuextYJ"
   },
   "outputs": [],
   "source": [
    "import pandas as pd\n",
    "import numpy as np\n",
    "import tensorflow as tf\n",
    "import matplotlib.pyplot as plt\n",
    "from sklearn.preprocessing import MinMaxScaler\n",
    "from tensorflow.keras.models import Sequential\n",
    "from tensorflow.keras.optimizers import Adam, RMSprop,SGD\n",
    "from tensorflow.keras.layers import Input,Dense, Flatten, Dropout, SimpleRNN, LSTM, GRU, Bidirectional\n",
    "from statsmodels.tsa.seasonal import seasonal_decompose #לראות עונה ומגמה"
   ]
  },
  {
   "cell_type": "code",
   "execution_count": null,
   "metadata": {
    "colab": {
     "base_uri": "https://localhost:8080/"
    },
    "id": "eipZalIpxztc",
    "outputId": "c7c3e711-ff42-43ab-90dc-95af81973f6b"
   },
   "outputs": [],
   "source": [
    "!unzip climate.zip -d climate"
   ]
  },
  {
   "cell_type": "code",
   "execution_count": null,
   "metadata": {
    "id": "Wp0EU-EVydDJ"
   },
   "outputs": [],
   "source": [
    "test= pd.read_csv('climate/DailyDelhiClimateTest.csv')\n",
    "train =pd.read_csv('climate/DailyDelhiClimateTrain.csv')"
   ]
  },
  {
   "cell_type": "code",
   "execution_count": null,
   "metadata": {
    "colab": {
     "base_uri": "https://localhost:8080/"
    },
    "id": "gniC8asVx5if",
    "outputId": "8c00bb50-b518-4815-b3fb-c321c025c65c"
   },
   "outputs": [],
   "source": [
    "#הכרות עם הנתונים\n"
   ]
  },
  {
   "cell_type": "code",
   "execution_count": null,
   "metadata": {
    "id": "1n4X_LGZzMJd"
   },
   "outputs": [],
   "source": [
    "#המרה ל todate time עבור  train & test\n"
   ]
  },
  {
   "cell_type": "code",
   "execution_count": null,
   "metadata": {
    "colab": {
     "base_uri": "https://localhost:8080/",
     "height": 301
    },
    "id": "WIPGZJXm0Jt2",
    "outputId": "b1efb9af-2fea-42f6-c765-16859438759e"
   },
   "outputs": [],
   "source": [
    "#viz. the data from the train set\n"
   ]
  },
  {
   "cell_type": "code",
   "execution_count": null,
   "metadata": {
    "colab": {
     "base_uri": "https://localhost:8080/",
     "height": 487
    },
    "id": "dwMd80-g02Eo",
    "outputId": "c1229b01-834c-4e32-f946-4edda59c71d7"
   },
   "outputs": [],
   "source": [
    "# עבור ממודת טמפרטורה # עונה ומגמה\n",
    "# ביצוע פירוק (additive כי העונתיות נראית קבועה יחסית) \n"
   ]
  },
  {
   "cell_type": "code",
   "execution_count": null,
   "metadata": {
    "id": "_foBjIG-2Edb"
   },
   "outputs": [],
   "source": [
    "#set the index train&test\n"
   ]
  },
  {
   "cell_type": "code",
   "execution_count": null,
   "metadata": {
    "id": "aI2XWScC9EQG"
   },
   "outputs": [],
   "source": [
    "#הגדרת סט אימון וסט בדיקה  כך שיכללו רק את העמודות הבאות:\n",
    "#[['meantemp','humidity',\t'wind_speed']]\n"
   ]
  },
  {
   "cell_type": "code",
   "execution_count": null,
   "metadata": {
    "id": "-dSLTFOB3Kmt"
   },
   "outputs": [],
   "source": [
    "#סטנדרטיזציה עבור כל עמודה (3 עמודות) עבור train &test\n",
    "\n",
    "#train\n",
    "\n",
    "#test\n"
   ]
  },
  {
   "cell_type": "markdown",
   "metadata": {
    "id": "t2MfJOHoPqfg"
   },
   "source": [
    "# Windows  \n",
    "עבור ניתוח uni\n",
    "```python\n",
    "def windowed_dataset(series, window_size, batch_size):\n",
    "    dataset = tf.data.Dataset.from_tensor_slices(series)\n",
    "    dataset = dataset.window(window_size + 1, shift=1, drop_remainder=True)\n",
    "    dataset = dataset.flat_map(lambda window: window.batch(window_size + 1))\n",
    "    dataset = dataset.map(lambda window: (window[:-1], window[-1]))\n",
    "    dataset = dataset.shuffle(buffer_size=10000).batch(batch_size).prefetch(1)\n",
    "    return dataset\n"
   ]
  },
  {
   "cell_type": "markdown",
   "metadata": {
    "id": "itxFC_ECRXlR"
   },
   "source": [
    "עבור ניתוח multi\n",
    "```python\n",
    "def windowed_dataset_multivariate(df, window_size, batch_size, shuffle_buffer=1000):\n",
    "    dataset = tf.data.Dataset.from_tensor_slices(df.values)  # מכניסים את כל העמודות\n",
    "    dataset = dataset.window(window_size + 1, shift=1, drop_remainder=True)\n",
    "    dataset = dataset.flat_map(lambda window: window.batch(window_size + 1))\n",
    "\n",
    "    # # כל ה-features עבור X, רק העמודה הראשונה (למשל טמפ') עבור Y\n",
    "    dataset = dataset.map(lambda window: (window[:-1], window[-1, 0]))\n",
    "    # # אם היינו רוצים לחזות את כל שלושת המשתנים\n",
    "    #dataset = dataset.map(lambda window: (window[:-1], window[-1]))\n",
    "\n",
    "    dataset = dataset.shuffle(shuffle_buffer).batch(batch_size).prefetch(1)\n",
    "    return dataset\n"
   ]
  },
  {
   "cell_type": "code",
   "execution_count": null,
   "metadata": {
    "id": "_gMK-i_t8HfB"
   },
   "outputs": [],
   "source": []
  },
  {
   "cell_type": "code",
   "execution_count": null,
   "metadata": {
    "id": "TBNJfERx8IbJ"
   },
   "outputs": [],
   "source": [
    "#קביעת גודל חלון וגודל batch\n",
    "\n",
    "#שימוש בפונקציה עם  הגדלים שהוגדרו\n"
   ]
  },
  {
   "cell_type": "code",
   "execution_count": null,
   "metadata": {
    "colab": {
     "base_uri": "https://localhost:8080/",
     "height": 1000
    },
    "id": "Zv3PE67l-ZYk",
    "outputId": "aa21f73e-e128-4d30-919d-7222f20758d1"
   },
   "outputs": [],
   "source": [
    "#כמה עמודות יש ל train?\n"
   ]
  },
  {
   "cell_type": "code",
   "execution_count": null,
   "metadata": {
    "colab": {
     "base_uri": "https://localhost:8080/",
     "height": 1000
    },
    "id": "Zv3PE67l-ZYk",
    "outputId": "aa21f73e-e128-4d30-919d-7222f20758d1"
   },
   "outputs": [],
   "source": [
    "#בניית מודל\n",
    "#קימפול\n",
    "#fit"
   ]
  },
  {
   "cell_type": "code",
   "execution_count": null,
   "metadata": {
    "colab": {
     "base_uri": "https://localhost:8080/",
     "height": 1000
    },
    "id": "Zv3PE67l-ZYk",
    "outputId": "aa21f73e-e128-4d30-919d-7222f20758d1"
   },
   "outputs": [],
   "source": [
    "##פרדיקציה\n",
    "\n",
    "\n"
   ]
  },
  {
   "cell_type": "code",
   "execution_count": null,
   "metadata": {
    "id": "5DiHm42pcJTu"
   },
   "outputs": [],
   "source": [
    "#visualization"
   ]
  }
 ],
 "metadata": {
  "accelerator": "GPU",
  "colab": {
   "gpuType": "T4",
   "provenance": []
  },
  "kernelspec": {
   "display_name": "Python 3 (ipykernel)",
   "language": "python",
   "name": "python3"
  },
  "language_info": {
   "codemirror_mode": {
    "name": "ipython",
    "version": 3
   },
   "file_extension": ".py",
   "mimetype": "text/x-python",
   "name": "python",
   "nbconvert_exporter": "python",
   "pygments_lexer": "ipython3",
   "version": "3.12.2"
  }
 },
 "nbformat": 4,
 "nbformat_minor": 4
}
