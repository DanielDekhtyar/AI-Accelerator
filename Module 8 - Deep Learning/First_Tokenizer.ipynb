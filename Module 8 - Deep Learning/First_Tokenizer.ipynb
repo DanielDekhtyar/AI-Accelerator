{
  "cells": [
    {
      "cell_type": "markdown",
      "metadata": {
        "id": "view-in-github",
        "colab_type": "text"
      },
      "source": [
        "<a href=\"https://colab.research.google.com/github/DanielDekhtyar/AI-Accelerator/blob/main/Module%208%20-%20Deep%20Learning/First_Tokenizer.ipynb\" target=\"_parent\"><img src=\"https://colab.research.google.com/assets/colab-badge.svg\" alt=\"Open In Colab\"/></a>"
      ]
    },
    {
      "cell_type": "code",
      "execution_count": 1,
      "id": "0b56dfdf-185a-4a68-a245-97ed1596a0f3",
      "metadata": {
        "id": "0b56dfdf-185a-4a68-a245-97ed1596a0f3"
      },
      "outputs": [],
      "source": [
        "import tensorflow as tf\n",
        "from tensorflow import keras\n",
        "from tensorflow.keras.preprocessing.text import Tokenizer\n",
        "from tensorflow.keras.preprocessing.sequence import pad_sequences\n",
        "import random"
      ]
    },
    {
      "cell_type": "markdown",
      "id": "330d3de1-e19d-4fd7-bcf5-cff71e6617b8",
      "metadata": {
        "id": "330d3de1-e19d-4fd7-bcf5-cff71e6617b8"
      },
      "source": [
        "1. עבור רשימת המשפטים הבאה צור טוקנייזר יש לאפשר עד 50 מילים\n",
        "2. הדפס את האינדקס שנוצר\n",
        "3.  הרץ `texts_to_sequences` עבור המשפט הראשון ברשימה\n",
        "4. אם מריצים `texts_to_sequences`  \n",
        " עבור המשפטים  \n",
        "   `לא כיף איתי`\n",
        "   `הם אומרים חביתה אני אומרת בגט`\n",
        "   מה התוצאה שמתקבלת?\n",
        "5. לשנות את כמות המילים ל-30 ולחזור על סעיפים 3 ו-4\n",
        "6. הוסף מה שצריך על מנת שמילים לא מכורות יקבלו ערך `<OOV>`\n",
        "7. הצג  את 5 המילים הנפוצות ביותר בטוקנייזר\n",
        "8. צור מחדש את הטוקנייזר כך שיאפשר עד 50 מילים, ויסמן בצורה מקובלת את המילים הנוספות\n",
        "9. צור משתנה מסוג רשימה המכיל רק את המילים שהטוקנייזר מכיר, שים לב לא לכלול את הסמן למילים לא מוכרות ברשימה\n",
        "10. מה אורך המשפט הארוך ביותר מבין המשפטים שבנו את הטוקנייזר?\n",
        "11. רפד את כל המשפטים בראשיתם באפסים שיהיו באותו אורך כמו המשפט הארוך ביותר\n",
        "12. נשאר זמן? בעזרת הרשימה מסעיף 9 צור פונקציה שבכל הרצה שלה מחזירה משפט של 3-7 מילים מתוך הטונייזר.  נשאר עוד זמן? אפשר לשלוח את הצעות השירים לטאלנטים המובילים. בהצלחה"
      ]
    },
    {
      "cell_type": "code",
      "execution_count": 2,
      "id": "43723e2c-74ef-4122-bf77-83cbd8a8a323",
      "metadata": {
        "id": "43723e2c-74ef-4122-bf77-83cbd8a8a323"
      },
      "outputs": [],
      "source": [
        "sentences= [\n",
        "#נסרין קדרי\n",
        "\"לא לפנות אליי\",\n",
        "\"לא לדבר אליי\",\n",
        "\"אל תבוא אליי\",\n",
        "\"אל תתקשר אליי\",\n",
        "\"איזה כיף איתי\",\n",
        "\"ואוו חוויה ממש\",\n",
        "#נועה קירל\n",
        "\"אני פנתרה\",\n",
        "\"אני ערה וכולם ישנים\",\n",
        "\"הם אומרים שאני מוזרה\",\n",
        "\"אני אומרת שהם רגילים\",\n",
        "#אבי לוי\n",
        "\"לחם חביתה בנתניה\",\n",
        "\"גיבורי ישראל 24\",\n",
        "\"בגט עם נשמה עכשיו אכלת\",\n",
        "\"בטוח שתחזור בחזרה\"]"
      ]
    },
    {
      "cell_type": "code",
      "execution_count": 3,
      "id": "f00187f7-54ae-4f2c-822a-0e6495bc39be",
      "metadata": {
        "id": "f00187f7-54ae-4f2c-822a-0e6495bc39be"
      },
      "outputs": [],
      "source": [
        "tokenizer = Tokenizer(num_words=50, oov_token='<OOV>')"
      ]
    },
    {
      "cell_type": "code",
      "execution_count": 4,
      "id": "45753890-669a-4324-a98d-27b7904a992b",
      "metadata": {
        "id": "45753890-669a-4324-a98d-27b7904a992b"
      },
      "outputs": [],
      "source": [
        "tokenizer.fit_on_texts(sentences)"
      ]
    },
    {
      "cell_type": "code",
      "execution_count": 5,
      "id": "0c44c72b-0f2c-4950-b595-6ae49df20851",
      "metadata": {
        "colab": {
          "base_uri": "https://localhost:8080/"
        },
        "id": "0c44c72b-0f2c-4950-b595-6ae49df20851",
        "outputId": "f38a00de-1263-4ecb-edc4-b82c191cfd42"
      },
      "outputs": [
        {
          "output_type": "execute_result",
          "data": {
            "text/plain": [
              "{'<OOV>': 1,\n",
              " 'אליי': 2,\n",
              " 'אני': 3,\n",
              " 'לא': 4,\n",
              " 'אל': 5,\n",
              " 'לפנות': 6,\n",
              " 'לדבר': 7,\n",
              " 'תבוא': 8,\n",
              " 'תתקשר': 9,\n",
              " 'איזה': 10,\n",
              " 'כיף': 11,\n",
              " 'איתי': 12,\n",
              " 'ואוו': 13,\n",
              " 'חוויה': 14,\n",
              " 'ממש': 15,\n",
              " 'פנתרה': 16,\n",
              " 'ערה': 17,\n",
              " 'וכולם': 18,\n",
              " 'ישנים': 19,\n",
              " 'הם': 20,\n",
              " 'אומרים': 21,\n",
              " 'שאני': 22,\n",
              " 'מוזרה': 23,\n",
              " 'אומרת': 24,\n",
              " 'שהם': 25,\n",
              " 'רגילים': 26,\n",
              " 'לחם': 27,\n",
              " 'חביתה': 28,\n",
              " 'בנתניה': 29,\n",
              " 'גיבורי': 30,\n",
              " 'ישראל': 31,\n",
              " '24': 32,\n",
              " 'בגט': 33,\n",
              " 'עם': 34,\n",
              " 'נשמה': 35,\n",
              " 'עכשיו': 36,\n",
              " 'אכלת': 37,\n",
              " 'בטוח': 38,\n",
              " 'שתחזור': 39,\n",
              " 'בחזרה': 40}"
            ]
          },
          "metadata": {},
          "execution_count": 5
        }
      ],
      "source": [
        "tokenizer.word_index"
      ]
    },
    {
      "cell_type": "code",
      "execution_count": 6,
      "id": "784a947f-dc74-4d05-9221-4767c289d044",
      "metadata": {
        "colab": {
          "base_uri": "https://localhost:8080/"
        },
        "id": "784a947f-dc74-4d05-9221-4767c289d044",
        "outputId": "a23df2a2-332b-47ca-8e9c-4363df340eb7"
      },
      "outputs": [
        {
          "output_type": "execute_result",
          "data": {
            "text/plain": [
              "[[4, 6, 2]]"
            ]
          },
          "metadata": {},
          "execution_count": 6
        }
      ],
      "source": [
        "tokenizer.texts_to_sequences([sentences[0]])"
      ]
    },
    {
      "cell_type": "code",
      "execution_count": 7,
      "id": "c55bf505-ad57-4e3e-a540-1c4c1cfc7255",
      "metadata": {
        "colab": {
          "base_uri": "https://localhost:8080/"
        },
        "id": "c55bf505-ad57-4e3e-a540-1c4c1cfc7255",
        "outputId": "acebe933-2aa4-42b7-bd95-42ccc03ac423"
      },
      "outputs": [
        {
          "output_type": "execute_result",
          "data": {
            "text/plain": [
              "[[4, 11, 12], [20, 21, 28, 3, 24, 33]]"
            ]
          },
          "metadata": {},
          "execution_count": 7
        }
      ],
      "source": [
        "tokenizer.texts_to_sequences([\"לא כיף איתי\", \"הם אומרים חביתה אני אומרת בגט\"])"
      ]
    },
    {
      "cell_type": "code",
      "source": [
        "sentences= [\n",
        "#נסרין קדרי\n",
        "\"לא לפנות אליי\",\n",
        "\"לא לדבר אליי\",\n",
        "\"אל תבוא אליי\",\n",
        "\"אל תתקשר אליי\",\n",
        "\"איזה כיף איתי\",\n",
        "\"ואוו חוויה ממש\",\n",
        "#נועה קירל\n",
        "\"אני פנתרה\",\n",
        "\"אני ערה וכולם ישנים\",\n",
        "\"הם אומרים שאני מוזרה\",\n",
        "\"אני אומרת שהם רגילים\",\n",
        "#אבי לוי\n",
        "\"לחם חביתה בנתניה\",\n",
        "\"גיבורי ישראל 24\",\n",
        "\"בגט עם נשמה עכשיו אכלת\",\n",
        "\"בטוח שתחזור בחזרה\"]"
      ],
      "metadata": {
        "id": "dIpU3gp9a65z"
      },
      "id": "dIpU3gp9a65z",
      "execution_count": 8,
      "outputs": []
    },
    {
      "cell_type": "code",
      "execution_count": 9,
      "id": "c1151c34-664e-486a-8f70-da080eef95c2",
      "metadata": {
        "id": "c1151c34-664e-486a-8f70-da080eef95c2"
      },
      "outputs": [],
      "source": [
        "tokenizer = Tokenizer(num_words=30, oov_token='<OOV>')"
      ]
    },
    {
      "cell_type": "code",
      "execution_count": 10,
      "id": "e2be36da-653e-4cc5-9524-714e386099b7",
      "metadata": {
        "id": "e2be36da-653e-4cc5-9524-714e386099b7"
      },
      "outputs": [],
      "source": [
        "tokenizer.fit_on_texts(sentences)"
      ]
    },
    {
      "cell_type": "code",
      "source": [
        "tokenizer.texts_to_sequences([sentences[0]])"
      ],
      "metadata": {
        "colab": {
          "base_uri": "https://localhost:8080/"
        },
        "id": "GslW27WNa9T6",
        "outputId": "7107ce9f-6693-4dda-f140-54572592edf9"
      },
      "id": "GslW27WNa9T6",
      "execution_count": 11,
      "outputs": [
        {
          "output_type": "execute_result",
          "data": {
            "text/plain": [
              "[[4, 6, 2]]"
            ]
          },
          "metadata": {},
          "execution_count": 11
        }
      ]
    },
    {
      "cell_type": "code",
      "source": [
        "tokenizer.texts_to_sequences([\"לא כיף איתי\", \"הם אומרים חביתה אני אומרת בגט\"])"
      ],
      "metadata": {
        "colab": {
          "base_uri": "https://localhost:8080/"
        },
        "id": "2WcwqnYra_Ng",
        "outputId": "ea834fb7-2046-4d70-9e57-08195a1db16b"
      },
      "id": "2WcwqnYra_Ng",
      "execution_count": 12,
      "outputs": [
        {
          "output_type": "execute_result",
          "data": {
            "text/plain": [
              "[[4, 11, 12], [20, 21, 28, 3, 24, 1]]"
            ]
          },
          "metadata": {},
          "execution_count": 12
        }
      ]
    },
    {
      "cell_type": "code",
      "source": [
        "list(tokenizer.word_index.keys())[:5]"
      ],
      "metadata": {
        "colab": {
          "base_uri": "https://localhost:8080/"
        },
        "id": "lTHkW-w9cLL1",
        "outputId": "f4fce368-3428-4a7b-f46a-ad064c4fbec6"
      },
      "id": "lTHkW-w9cLL1",
      "execution_count": 13,
      "outputs": [
        {
          "output_type": "execute_result",
          "data": {
            "text/plain": [
              "['<OOV>', 'אליי', 'אני', 'לא', 'אל']"
            ]
          },
          "metadata": {},
          "execution_count": 13
        }
      ]
    },
    {
      "cell_type": "code",
      "source": [
        "tokonizer = Tokenizer(num_words=50, oov_token='<OOV>')"
      ],
      "metadata": {
        "id": "q8XRd_pFcjPq"
      },
      "id": "q8XRd_pFcjPq",
      "execution_count": 14,
      "outputs": []
    },
    {
      "cell_type": "code",
      "source": [
        "tokonizer.fit_on_texts(sentences)"
      ],
      "metadata": {
        "id": "foBnqUgEc_aC"
      },
      "id": "foBnqUgEc_aC",
      "execution_count": 15,
      "outputs": []
    },
    {
      "cell_type": "code",
      "source": [
        "words = list(tokonizer.word_index.keys())[1:]\n",
        "words"
      ],
      "metadata": {
        "colab": {
          "base_uri": "https://localhost:8080/"
        },
        "id": "SSWG9UgadAkR",
        "outputId": "50ff70ef-c0cf-4488-d177-688411f79d45"
      },
      "id": "SSWG9UgadAkR",
      "execution_count": 16,
      "outputs": [
        {
          "output_type": "execute_result",
          "data": {
            "text/plain": [
              "['אליי',\n",
              " 'אני',\n",
              " 'לא',\n",
              " 'אל',\n",
              " 'לפנות',\n",
              " 'לדבר',\n",
              " 'תבוא',\n",
              " 'תתקשר',\n",
              " 'איזה',\n",
              " 'כיף',\n",
              " 'איתי',\n",
              " 'ואוו',\n",
              " 'חוויה',\n",
              " 'ממש',\n",
              " 'פנתרה',\n",
              " 'ערה',\n",
              " 'וכולם',\n",
              " 'ישנים',\n",
              " 'הם',\n",
              " 'אומרים',\n",
              " 'שאני',\n",
              " 'מוזרה',\n",
              " 'אומרת',\n",
              " 'שהם',\n",
              " 'רגילים',\n",
              " 'לחם',\n",
              " 'חביתה',\n",
              " 'בנתניה',\n",
              " 'גיבורי',\n",
              " 'ישראל',\n",
              " '24',\n",
              " 'בגט',\n",
              " 'עם',\n",
              " 'נשמה',\n",
              " 'עכשיו',\n",
              " 'אכלת',\n",
              " 'בטוח',\n",
              " 'שתחזור',\n",
              " 'בחזרה']"
            ]
          },
          "metadata": {},
          "execution_count": 16
        }
      ]
    },
    {
      "cell_type": "code",
      "source": [
        "sequences = tokenizer.texts_to_sequences(sentences)"
      ],
      "metadata": {
        "id": "Fucb2PYqdFRI"
      },
      "id": "Fucb2PYqdFRI",
      "execution_count": 17,
      "outputs": []
    },
    {
      "cell_type": "code",
      "source": [
        "max_len = max(len(seq) for seq in sequences)\n",
        "max_len"
      ],
      "metadata": {
        "colab": {
          "base_uri": "https://localhost:8080/"
        },
        "id": "4oS8AsyFkaoX",
        "outputId": "2ec5f0ae-96f8-48e2-d867-6cc28aad29a2"
      },
      "id": "4oS8AsyFkaoX",
      "execution_count": 18,
      "outputs": [
        {
          "output_type": "execute_result",
          "data": {
            "text/plain": [
              "5"
            ]
          },
          "metadata": {},
          "execution_count": 18
        }
      ]
    },
    {
      "cell_type": "code",
      "source": [
        "padded = pad_sequences(sequences=sequences, maxlen=max_len)\n",
        "padded"
      ],
      "metadata": {
        "colab": {
          "base_uri": "https://localhost:8080/"
        },
        "id": "stRuMQivkp0Z",
        "outputId": "a8890cbc-06d5-4238-868d-41876488f768"
      },
      "id": "stRuMQivkp0Z",
      "execution_count": 19,
      "outputs": [
        {
          "output_type": "execute_result",
          "data": {
            "text/plain": [
              "array([[ 0,  0,  4,  6,  2],\n",
              "       [ 0,  0,  4,  7,  2],\n",
              "       [ 0,  0,  5,  8,  2],\n",
              "       [ 0,  0,  5,  9,  2],\n",
              "       [ 0,  0, 10, 11, 12],\n",
              "       [ 0,  0, 13, 14, 15],\n",
              "       [ 0,  0,  0,  3, 16],\n",
              "       [ 0,  3, 17, 18, 19],\n",
              "       [ 0, 20, 21, 22, 23],\n",
              "       [ 0,  3, 24, 25, 26],\n",
              "       [ 0,  0, 27, 28, 29],\n",
              "       [ 0,  0,  1,  1,  1],\n",
              "       [ 1,  1,  1,  1,  1],\n",
              "       [ 0,  0,  1,  1,  1]], dtype=int32)"
            ]
          },
          "metadata": {},
          "execution_count": 19
        }
      ]
    },
    {
      "cell_type": "code",
      "source": [
        "def lyrics_gen(word_list):\n",
        "    num_of_words = random.randint(3,7)\n",
        "    rand_words = random.sample(word_list, num_of_words)\n",
        "    return \" \".join(rand_words)\n",
        "\n",
        "print(lyrics_gen(words))"
      ],
      "metadata": {
        "colab": {
          "base_uri": "https://localhost:8080/"
        },
        "id": "GlctvTDllecm",
        "outputId": "6b78cd10-2a5b-4ec2-e624-adcafd41a663"
      },
      "id": "GlctvTDllecm",
      "execution_count": 20,
      "outputs": [
        {
          "output_type": "stream",
          "name": "stdout",
          "text": [
            "אומרים ערה לחם תבוא לדבר שהם\n"
          ]
        }
      ]
    }
  ],
  "metadata": {
    "kernelspec": {
      "display_name": "Python 3 (ipykernel)",
      "language": "python",
      "name": "python3"
    },
    "language_info": {
      "codemirror_mode": {
        "name": "ipython",
        "version": 3
      },
      "file_extension": ".py",
      "mimetype": "text/x-python",
      "name": "python",
      "nbconvert_exporter": "python",
      "pygments_lexer": "ipython3",
      "version": "3.12.2"
    },
    "colab": {
      "provenance": [],
      "include_colab_link": true
    }
  },
  "nbformat": 4,
  "nbformat_minor": 5
}