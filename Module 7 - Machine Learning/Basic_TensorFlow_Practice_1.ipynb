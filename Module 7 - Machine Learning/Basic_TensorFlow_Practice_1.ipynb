{
  "cells": [
    {
      "cell_type": "markdown",
      "metadata": {
        "id": "view-in-github",
        "colab_type": "text"
      },
      "source": [
        "<a href=\"https://colab.research.google.com/github/DanielDekhtyar/AI-Accelerator/blob/main/Module%207%20-%20Machine%20Learning/Basic_TensorFlow_Practice_1.ipynb\" target=\"_parent\"><img src=\"https://colab.research.google.com/assets/colab-badge.svg\" alt=\"Open In Colab\"/></a>"
      ]
    },
    {
      "cell_type": "code",
      "execution_count": 1,
      "id": "51271651-8927-48e6-9001-e0a68a01032a",
      "metadata": {
        "id": "51271651-8927-48e6-9001-e0a68a01032a"
      },
      "outputs": [],
      "source": [
        "import tensorflow as tf\n",
        "import numpy as np"
      ]
    },
    {
      "cell_type": "code",
      "execution_count": 2,
      "id": "81e92601-99e9-4601-b873-6c50045bd769",
      "metadata": {
        "id": "81e92601-99e9-4601-b873-6c50045bd769"
      },
      "outputs": [],
      "source": [
        "# Create a scalar\n",
        "scalar = tf.constant(5)\n",
        "\n",
        "# Create a vector\n",
        "vector = tf.constant([5, 8])\n",
        "\n",
        "# Create a matrix\n",
        "matrix = tf.constant([[3, 8, 4, 9], [7, 1, 7, 2], [8, 3, 7, 1]])\n",
        "\n",
        "# Create a tensor\n",
        "tensor = tf.constant([[[5, 8, 1], [7, 1, 9]], [[7, 1, 4], [5, 8, 1]]])\n",
        "\n",
        "# Create a tensor from a Numpy array\n",
        "np_array = [[[5, 8, 1], [7, 1, 9]], [[7, 1, 4], [5, 8, 1]]]\n",
        "\n",
        "# Create a rank 2 tensor of ones using TensorFlow\n",
        "ones = tf.ones([3, 8])\n",
        "\n",
        "# Create a rank 4 tensor of zeros using TensorFlow\n",
        "zeros = tf.zeros([6, 9, 1, 4])"
      ]
    },
    {
      "cell_type": "markdown",
      "id": "14ea3599-34ba-4909-bd3b-e4fa6a05fa61",
      "metadata": {
        "id": "14ea3599-34ba-4909-bd3b-e4fa6a05fa61"
      },
      "source": [
        " a shop has 3 types of gum\n",
        " |cherry|bazocca|extra-sour|           |\n",
        " |------|-------|----------|-----------|\n",
        " |1.00  |0.50   |0.75      |#prices    |\n",
        " | 30   | 20    | 40       |# qnt sold |\n",
        "\n",
        " - create a numpy array that reflects the prices and another to reflect the quantety sold\n",
        " - convert the arrays to tensorflow tensors\n",
        " - create a `sales_per_prod` tensor that has the total amount for each gum type\n",
        " - create a tensor `total_sales` that reflects... the total sales. calculate it\n",
        " - what are the shape and rank of `total_sales`and of `sales_per_prod`\n"
      ]
    },
    {
      "cell_type": "code",
      "execution_count": 3,
      "id": "41cf54e1-c53e-4808-b8e6-c98202375471",
      "metadata": {
        "id": "41cf54e1-c53e-4808-b8e6-c98202375471"
      },
      "outputs": [],
      "source": [
        "prices = np.array([1.00, 0.50, 0.75])"
      ]
    },
    {
      "cell_type": "code",
      "execution_count": 4,
      "id": "2fb44804-b23f-46b3-84c0-f785df502164",
      "metadata": {
        "id": "2fb44804-b23f-46b3-84c0-f785df502164",
        "colab": {
          "base_uri": "https://localhost:8080/"
        },
        "outputId": "d1f036fd-4d38-404e-ca93-dea901bcd9ef"
      },
      "outputs": [
        {
          "output_type": "execute_result",
          "data": {
            "text/plain": [
              "array([1.  , 0.5 , 0.75])"
            ]
          },
          "metadata": {},
          "execution_count": 4
        }
      ],
      "source": [
        "prices"
      ]
    },
    {
      "cell_type": "code",
      "execution_count": 5,
      "id": "af207a8d-168c-4726-9b2e-8d7217a28270",
      "metadata": {
        "id": "af207a8d-168c-4726-9b2e-8d7217a28270"
      },
      "outputs": [],
      "source": [
        "qnt_sold = np.array([30, 20, 40])"
      ]
    },
    {
      "cell_type": "code",
      "execution_count": 6,
      "id": "e8752817-493a-4137-a016-920ac5d2b651",
      "metadata": {
        "id": "e8752817-493a-4137-a016-920ac5d2b651",
        "colab": {
          "base_uri": "https://localhost:8080/"
        },
        "outputId": "7617ec13-5edd-47d4-cd66-7cff63fafc60"
      },
      "outputs": [
        {
          "output_type": "execute_result",
          "data": {
            "text/plain": [
              "array([30, 20, 40])"
            ]
          },
          "metadata": {},
          "execution_count": 6
        }
      ],
      "source": [
        "qnt_sold"
      ]
    },
    {
      "cell_type": "code",
      "execution_count": 12,
      "id": "8a612dc9-a15c-42cd-ab28-1f7c158233d8",
      "metadata": {
        "id": "8a612dc9-a15c-42cd-ab28-1f7c158233d8"
      },
      "outputs": [],
      "source": [
        "prices_tensor = tf.constant(prices, dtype='float64')"
      ]
    },
    {
      "cell_type": "code",
      "execution_count": 13,
      "id": "934a11ca-01ee-441f-8d37-6ccbee6e43d5",
      "metadata": {
        "id": "934a11ca-01ee-441f-8d37-6ccbee6e43d5"
      },
      "outputs": [],
      "source": [
        "qnt_sold_tensor = tf.constant(qnt_sold, dtype='float64')"
      ]
    },
    {
      "cell_type": "code",
      "source": [
        "sales_per_prod = prices_tensor * qnt_sold_tensor\n",
        "sales_per_prod.numpy()"
      ],
      "metadata": {
        "colab": {
          "base_uri": "https://localhost:8080/"
        },
        "id": "6lRIbEmdQtfR",
        "outputId": "a81a7860-09d9-4da3-c90a-a42763d443f1"
      },
      "id": "6lRIbEmdQtfR",
      "execution_count": 14,
      "outputs": [
        {
          "output_type": "execute_result",
          "data": {
            "text/plain": [
              "array([30., 10., 30.])"
            ]
          },
          "metadata": {},
          "execution_count": 14
        }
      ]
    }
  ],
  "metadata": {
    "kernelspec": {
      "display_name": "Python 3 (ipykernel)",
      "language": "python",
      "name": "python3"
    },
    "language_info": {
      "codemirror_mode": {
        "name": "ipython",
        "version": 3
      },
      "file_extension": ".py",
      "mimetype": "text/x-python",
      "name": "python",
      "nbconvert_exporter": "python",
      "pygments_lexer": "ipython3",
      "version": "3.12.2"
    },
    "colab": {
      "provenance": [],
      "include_colab_link": true
    }
  },
  "nbformat": 4,
  "nbformat_minor": 5
}