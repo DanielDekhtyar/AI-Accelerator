{
 "cells": [
  {
   "cell_type": "code",
   "execution_count": null,
   "id": "144810a9-e98c-4853-8069-ba1a62851ae8",
   "metadata": {},
   "outputs": [],
   "source": [
    "import numpy as np\n",
    "import matplotlib.pyplot as plt\n",
    "import torch\n",
    "import torch.nn as nn\n",
    "import torch.optim as optim\n",
    "from sklearn.model_selection import train_test_split\n",
    "import numpy as np\n",
    "import matplotlib.pyplot as plt"
   ]
  },
  {
   "cell_type": "code",
   "execution_count": null,
   "id": "994854b6-0f61-4f12-8c96-344b093ded5f",
   "metadata": {},
   "outputs": [],
   "source": [
    "def spirala(points_per_spiral=200, num_spirals=2, noise=0.01):\n",
    "    X = []\n",
    "    y = []\n",
    "    for spiral in range(num_spirals):\n",
    "        theta = np.linspace(0, 4 * np.pi, points_per_spiral)\n",
    "        radius = np.linspace(0, 1, points_per_spiral)\n",
    "        x1 = radius * np.cos(theta + spiral * np.pi) + noise * np.random.randn(points_per_spiral)\n",
    "        x2 = radius * np.sin(theta + spiral * np.pi) + noise * np.random.randn(points_per_spiral)\n",
    "        X.extend(np.c_[x1, x2])\n",
    "        y.extend([spiral] * points_per_spiral)\n",
    "    return np.array(X), np.array(y)\n",
    "\n",
    "# יצירת הנתונים\n",
    "X_spiral, y_spiral = spirala(points_per_spiral=200, noise=0.01)"
   ]
  },
  {
   "cell_type": "code",
   "execution_count": null,
   "id": "e81e7e68-1dbb-480b-8a60-a71c54697218",
   "metadata": {},
   "outputs": [],
   "source": [
    "# use matplotlib to visualize the data\n",
    "plt.scatter(X_spiral[:, 0], X_spiral[:, 1], c=y_spiral, cmap='coolwarm', edgecolors='k')\n",
    "plt.title(\"Spiral Data Visualization\")\n",
    "plt.xlabel(\"Feature 1\")\n",
    "plt.ylabel(\"Feature 2\")\n",
    "plt.show()"
   ]
  },
  {
   "cell_type": "code",
   "execution_count": null,
   "id": "273d263f-6b6e-4d09-98f2-ce88b3f482ab",
   "metadata": {},
   "outputs": [],
   "source": [
    "# חלוקת הנתונים לאימון ובדיקה\n",
    "X_train, X_test, y_train, y_test = train_test_split(X_spiral, y_spiral, test_size=0.2, random_state=42)\n",
    "\n",
    "# המרת הנתונים לטנסורים\n",
    "X_train_tensor = torch.tensor(X_train, dtype=torch.float32)\n",
    "X_test_tensor = torch.tensor(X_test, dtype=torch.float32)\n",
    "y_train_tensor = torch.tensor(y_train, dtype=torch.float32).view(-1, 1)\n",
    "y_test_tensor = torch.tensor(y_test, dtype=torch.float32).view(-1, 1)"
   ]
  },
  {
   "cell_type": "code",
   "execution_count": null,
   "id": "8b01bcb7-0d0d-4d45-a0fe-5188062b0404",
   "metadata": {},
   "outputs": [],
   "source": [
    "# הגדרת המודל\n",
    "class Spiraling(nn.Module):\n",
    "    def __init__(self):\n",
    "        super().__init__()\n",
    "        self.fc1 = nn.Linear(2, 32)\n",
    "        self.relu1 = nn.ReLU()\n",
    "        self.fc2 = nn.Linear(32, 16)\n",
    "        self.relu2 = nn.ReLU()\n",
    "        self.fc3 = nn.Linear(16, 1)\n",
    "\n",
    "    def forward(self, x):\n",
    "        x = self.fc1(x)\n",
    "        x = self.relu1(x)\n",
    "        x = self.fc2(x)\n",
    "        x = self.relu2(x)\n",
    "        x = self.fc3(x)\n",
    "        return x\n",
    "\n",
    "# יצירת אינסטנס של המודל\n",
    "model = Spiraling()"
   ]
  },
  {
   "cell_type": "code",
   "execution_count": null,
   "id": "01fc9b12-e4ae-40d4-951f-23c69b6b037b",
   "metadata": {},
   "outputs": [],
   "source": [
    "model = nn.Sequential(\n",
    "    nn.Linear(2, 32),\n",
    "    nn.ReLU(),\n",
    "    nn.Linear(32, 16),\n",
    "    nn.ReLU(),\n",
    "    nn.Linear(16, 1)\n",
    ")"
   ]
  },
  {
   "cell_type": "code",
   "execution_count": null,
   "id": "26697ddb-07a6-45be-8569-aeacd43cad38",
   "metadata": {},
   "outputs": [],
   "source": [
    "# הגדרת פונקציית הפסד ואופטימיזר\n",
    "criterion = nn.BCEWithLogitsLoss()\n",
    "optimizer = optim.Adam(model.parameters(), lr=0.01)\n",
    "\n",
    "# אימון המודל\n",
    "epochs = 1000\n",
    "for epoch in range(epochs):\n",
    "    model.train()\n",
    "    optimizer.zero_grad()\n",
    "\n",
    "    # תחזיות ואיבוד\n",
    "    outputs = model(X_train_tensor)\n",
    "    loss = criterion(outputs, y_train_tensor)\n",
    "\n",
    "    # חישוב גרדיאנטים ועדכון משקלים\n",
    "    loss.backward()\n",
    "    optimizer.step()\n",
    "\n",
    "    # הדפסת איבוד כל 100 אפוקים\n",
    "    if epoch % 100 == 0:\n",
    "        model.eval()\n",
    "        with torch.no_grad():\n",
    "            test_outputs = model(X_test_tensor)\n",
    "            test_predictions = (torch.sigmoid(test_outputs) > 0.5).float()\n",
    "            accuracy = (test_predictions == y_test_tensor).float().mean()\n",
    "\n",
    "        print(f\"Epoch {epoch+1}/{epochs}, Loss: {loss.item()}, Test Accuracy: {accuracy.item()}\")\n",
    "        model.train()\n",
    "\n",
    "# הערכת המודל הסופי\n",
    "model.eval()\n",
    "with torch.no_grad():\n",
    "    test_outputs = model(X_test_tensor)\n",
    "    test_predictions = (torch.sigmoid(test_outputs) > 0.5).float()\n",
    "    accuracy = (test_predictions == y_test_tensor).float().mean()\n",
    "\n",
    "print(f\"Final Test Accuracy: {accuracy.item() * 100:.2f}%\")"
   ]
  },
  {
   "cell_type": "code",
   "execution_count": null,
   "id": "a9c23e9f-1e29-4b86-b483-8c208da8b25d",
   "metadata": {},
   "outputs": [],
   "source": [
    "%run PlotBoudary.ipynb"
   ]
  },
  {
   "cell_type": "code",
   "execution_count": null,
   "id": "f27885d6-ac97-4f3d-8ec5-a445632e3fa3",
   "metadata": {},
   "outputs": [],
   "source": [
    "# הצגת תוצאת המודל על הספירלות\n",
    "plot_boundary(X_spiral, y_spiral, model)"
   ]
  }
 ],
 "metadata": {
  "kernelspec": {
   "display_name": "Python 3 (ipykernel)",
   "language": "python",
   "name": "python3"
  },
  "language_info": {
   "codemirror_mode": {
    "name": "ipython",
    "version": 3
   },
   "file_extension": ".py",
   "mimetype": "text/x-python",
   "name": "python",
   "nbconvert_exporter": "python",
   "pygments_lexer": "ipython3",
   "version": "3.12.2"
  }
 },
 "nbformat": 4,
 "nbformat_minor": 5
}
