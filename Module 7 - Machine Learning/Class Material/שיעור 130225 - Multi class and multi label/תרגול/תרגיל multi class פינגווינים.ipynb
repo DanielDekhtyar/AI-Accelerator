{
 "cells": [
  {
   "cell_type": "code",
   "execution_count": 1,
   "id": "74fdaeb6-e85f-4923-a9a7-702d3e113527",
   "metadata": {},
   "outputs": [],
   "source": [
    "import torch\n",
    "import torch.nn as nn\n",
    "import torch.optim as optim\n",
    "import seaborn as sns\n",
    "import pandas as pd\n",
    "from sklearn.model_selection import train_test_split\n",
    "from sklearn.preprocessing import StandardScaler"
   ]
  },
  {
   "cell_type": "code",
   "execution_count": null,
   "id": "d24f5688-0a99-4517-82d1-f49434ce6b93",
   "metadata": {},
   "outputs": [],
   "source": [
    "# טעינת Dataset הפינגווינים\n",
    "# dropna()\n"
   ]
  },
  {
   "cell_type": "code",
   "execution_count": null,
   "id": "87635f74-6b65-49b3-b959-5a660f44a3bc",
   "metadata": {},
   "outputs": [],
   "source": [
    "# בחירת פיצ'רים ומחלקות\n",
    "# שימו .values בסוף הרשימה כדי שתקבלו מערך ולא משהו של פנדות\n",
    "#עבור y אל תשכחו לעשות לזה cat.codes\n"
   ]
  },
  {
   "cell_type": "code",
   "execution_count": null,
   "id": "cdd2fe8f-db0d-459e-82df-ffe1f6bb26a0",
   "metadata": {},
   "outputs": [],
   "source": [
    "# פיצול לנתוני אימון ובדיקה\n",
    "\n",
    "# נורמליזציה של הנתונים\n",
    "\n",
    "# המרת הנתונים ל-Tensors\n",
    "\n",
    "\n",
    "\n",
    "# יצירת המודל\n",
    "\n",
    "# הגדרת פונקציית הפסד ואופטימיזציה\n",
    "\n",
    "# אימון המודל\n"
   ]
  },
  {
   "cell_type": "code",
   "execution_count": null,
   "id": "c649f934-45b4-48d2-98b9-7961842f373b",
   "metadata": {},
   "outputs": [],
   "source": [
    "# בדיקת דיוק המודל על נתוני הבדיקה\n"
   ]
  },
  {
   "cell_type": "code",
   "execution_count": 4,
   "id": "34d58692-f9a2-4bb7-9461-c9cbff98613a",
   "metadata": {},
   "outputs": [],
   "source": []
  },
  {
   "cell_type": "code",
   "execution_count": null,
   "id": "d64612be-6e1f-43de-b5eb-80d1aab2ca85",
   "metadata": {},
   "outputs": [],
   "source": []
  }
 ],
 "metadata": {
  "kernelspec": {
   "display_name": "Python 3 (ipykernel)",
   "language": "python",
   "name": "python3"
  },
  "language_info": {
   "codemirror_mode": {
    "name": "ipython",
    "version": 3
   },
   "file_extension": ".py",
   "mimetype": "text/x-python",
   "name": "python",
   "nbconvert_exporter": "python",
   "pygments_lexer": "ipython3",
   "version": "3.12.2"
  }
 },
 "nbformat": 4,
 "nbformat_minor": 5
}
