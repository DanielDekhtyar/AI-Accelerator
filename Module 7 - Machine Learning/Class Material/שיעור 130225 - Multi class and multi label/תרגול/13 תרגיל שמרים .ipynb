{
 "cells": [
  {
   "cell_type": "code",
   "execution_count": null,
   "id": "58250c5e-d88d-4f95-8c69-87db037e9162",
   "metadata": {},
   "outputs": [],
   "source": [
    "import torch\n",
    "import torch.nn as nn\n",
    "import torch.optim as optim\n",
    "import pandas as pd\n",
    "from sklearn.datasets import fetch_openml\n",
    "from sklearn.model_selection import train_test_split\n",
    "from sklearn.preprocessing import StandardScaler\n",
    "from sklearn.metrics import classification_report"
   ]
  },
  {
   "cell_type": "code",
   "execution_count": null,
   "id": "8ddf4f4f-4bd7-4abc-b7c0-9d22e6ec0316",
   "metadata": {},
   "outputs": [],
   "source": [
    "# 1️ טעינת סט הנתונים Yeast\n",
    "yeast = fetch_openml(name=\"yeast\", version=4, as_frame=True)\n",
    "X = yeast.data\n",
    "\n",
    "y = yeast.target.eq('TRUE').astype(int)"
   ]
  },
  {
   "cell_type": "code",
   "execution_count": null,
   "id": "0257ad6e-220d-4bb2-99c3-a9bc131391a3",
   "metadata": {},
   "outputs": [],
   "source": [
    "#check the dtype and info about X and y, see what you are working with"
   ]
  },
  {
   "cell_type": "code",
   "execution_count": null,
   "id": "2f4ecdc5-b7f2-4203-8415-8a6267b9081a",
   "metadata": {},
   "outputs": [],
   "source": [
    "# 2 פיצול לנתוני אימון ובדיקה\n"
   ]
  },
  {
   "cell_type": "code",
   "execution_count": null,
   "id": "6858f078-e197-4e59-b945-e287ef35e66b",
   "metadata": {},
   "outputs": [],
   "source": [
    "# 3 נורמליזציה של הנתונים\n"
   ]
  },
  {
   "cell_type": "code",
   "execution_count": null,
   "id": "671024a1-9f07-45b8-a667-9ea42c0d9d44",
   "metadata": {},
   "outputs": [],
   "source": [
    "# 4️ המרת הנתונים ל-Tensors\n"
   ]
  },
  {
   "cell_type": "code",
   "execution_count": null,
   "id": "63b55afc-a3d3-4338-a644-b3a00bb090d0",
   "metadata": {},
   "outputs": [],
   "source": [
    "# 5 יצירת המודל\n"
   ]
  },
  {
   "cell_type": "code",
   "execution_count": null,
   "id": "0abdd255-a4db-46bc-9c06-c9665fa0d777",
   "metadata": {},
   "outputs": [],
   "source": [
    "# 6️ הגדרת פונקציית הפסד ואופטימיזציה\n"
   ]
  },
  {
   "cell_type": "code",
   "execution_count": null,
   "id": "85764e1f-2b12-459c-abce-9db9b2deae0c",
   "metadata": {},
   "outputs": [],
   "source": [
    "# 7️ אימון המודל\n"
   ]
  },
  {
   "cell_type": "code",
   "execution_count": null,
   "id": "84139621-1a70-4856-8171-729f4600c4cb",
   "metadata": {},
   "outputs": [],
   "source": [
    "# חיזוי על נתוני הבדיקה\n"
   ]
  },
  {
   "cell_type": "code",
   "execution_count": null,
   "id": "363b1f4f-71f2-4edf-9c39-a6d97b667908",
   "metadata": {},
   "outputs": [],
   "source": []
  }
 ],
 "metadata": {
  "kernelspec": {
   "display_name": "Python 3 (ipykernel)",
   "language": "python",
   "name": "python3"
  },
  "language_info": {
   "codemirror_mode": {
    "name": "ipython",
    "version": 3
   },
   "file_extension": ".py",
   "mimetype": "text/x-python",
   "name": "python",
   "nbconvert_exporter": "python",
   "pygments_lexer": "ipython3",
   "version": "3.12.2"
  }
 },
 "nbformat": 4,
 "nbformat_minor": 5
}
