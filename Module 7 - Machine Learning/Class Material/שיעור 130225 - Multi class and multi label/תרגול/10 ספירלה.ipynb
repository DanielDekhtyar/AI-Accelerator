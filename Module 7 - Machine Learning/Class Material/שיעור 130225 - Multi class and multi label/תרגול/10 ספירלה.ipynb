{
 "cells": [
  {
   "cell_type": "code",
   "execution_count": 1,
   "id": "144810a9-e98c-4853-8069-ba1a62851ae8",
   "metadata": {},
   "outputs": [],
   "source": [
    "import numpy as np\n",
    "import matplotlib.pyplot as plt\n",
    "import torch\n",
    "import torch.nn as nn\n",
    "import torch.optim as optim\n",
    "from sklearn.model_selection import train_test_split\n",
    "import numpy as np\n",
    "import matplotlib.pyplot as plt"
   ]
  },
  {
   "cell_type": "markdown",
   "id": "b43e6068-914a-4082-9386-b3d60b72b147",
   "metadata": {},
   "source": [
    "יצירת הנתונים"
   ]
  },
  {
   "cell_type": "code",
   "execution_count": 2,
   "id": "994854b6-0f61-4f12-8c96-344b093ded5f",
   "metadata": {},
   "outputs": [],
   "source": [
    "def spirala(points_per_spiral=200, num_spirals=2, noise=0.01):\n",
    "    X = []\n",
    "    y = []\n",
    "    for spiral in range(num_spirals):\n",
    "        theta = np.linspace(0, 4 * np.pi, points_per_spiral)\n",
    "        radius = np.linspace(0, 1, points_per_spiral)\n",
    "        x1 = radius * np.cos(theta + spiral * np.pi) + noise * np.random.randn(points_per_spiral)\n",
    "        x2 = radius * np.sin(theta + spiral * np.pi) + noise * np.random.randn(points_per_spiral)\n",
    "        X.extend(np.c_[x1, x2])\n",
    "        y.extend([spiral] * points_per_spiral)\n",
    "    return np.array(X), np.array(y)\n",
    "\n",
    "# יצירת הנתונים\n",
    "X_spiral, y_spiral = spirala(points_per_spiral=200, noise=0.01)"
   ]
  },
  {
   "cell_type": "code",
   "execution_count": 1,
   "id": "e81e7e68-1dbb-480b-8a60-a71c54697218",
   "metadata": {},
   "outputs": [],
   "source": [
    "# use matplotlib to visualize the data\n"
   ]
  },
  {
   "cell_type": "code",
   "execution_count": 2,
   "id": "273d263f-6b6e-4d09-98f2-ce88b3f482ab",
   "metadata": {},
   "outputs": [],
   "source": [
    "# חלוקת הנתונים לאימון ובדיקה\n",
    "\n",
    "# המרת הנתונים לטנסורים\n"
   ]
  },
  {
   "cell_type": "code",
   "execution_count": 5,
   "id": "8b01bcb7-0d0d-4d45-a0fe-5188062b0404",
   "metadata": {},
   "outputs": [],
   "source": [
    "# הגדרת המודל\n",
    "#נא להקפיד להגדיר גם שכבות וגם פונקציית עבודה קדימה בצורה מסודרת\n"
   ]
  },
  {
   "cell_type": "code",
   "execution_count": null,
   "id": "00c1d04f-daf5-4d35-b7ce-12137a188ee2",
   "metadata": {},
   "outputs": [],
   "source": [
    "# יצירת אינסטנס של המודל\n",
    "\n",
    "\n",
    "# הגדרת פונקציית הפסד ואופטימיזר\n",
    "\n",
    "# לולאת אימון המודל כולל הדפסת ההפסד כל כ 100 צעדים\n",
    "   \n",
    "#אם רוצים אפשר תוך כדי לולאה לעבור למצב הערכה ולהדפיס עד כמה המודל מדוייק כל 100 איפוקים\n",
    "    "
   ]
  },
  {
   "cell_type": "code",
   "execution_count": null,
   "id": "369ef338-222d-4de5-99e8-dc6f7a971476",
   "metadata": {},
   "outputs": [],
   "source": [
    "# הערכת המודל הסופי\n"
   ]
  },
  {
   "cell_type": "code",
   "execution_count": 8,
   "id": "a9c23e9f-1e29-4b86-b483-8c208da8b25d",
   "metadata": {},
   "outputs": [],
   "source": [
    "%run PlotBoudary.ipynb #יש לוודא שהקובץ זמין לכם\n",
    "# ואז להציג את תוצאת המודל על הספירלות\n",
    "#הפונקציה בנויה לקבל את הפיצ'רים , את התגיות ואת שם המודל\n",
    "#plot_boundary(Features, lables, model)"
   ]
  }
 ],
 "metadata": {
  "kernelspec": {
   "display_name": "Python 3 (ipykernel)",
   "language": "python",
   "name": "python3"
  },
  "language_info": {
   "codemirror_mode": {
    "name": "ipython",
    "version": 3
   },
   "file_extension": ".py",
   "mimetype": "text/x-python",
   "name": "python",
   "nbconvert_exporter": "python",
   "pygments_lexer": "ipython3",
   "version": "3.12.2"
  }
 },
 "nbformat": 4,
 "nbformat_minor": 5
}
