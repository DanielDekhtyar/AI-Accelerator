{
  "cells": [
    {
      "cell_type": "code",
      "execution_count": 1,
      "id": "3959b18c-d467-4d7a-b93a-80f2d62101cd",
      "metadata": {
        "id": "3959b18c-d467-4d7a-b93a-80f2d62101cd"
      },
      "outputs": [],
      "source": [
        "import torch"
      ]
    },
    {
      "cell_type": "markdown",
      "id": "73b4a991-f894-49ef-ab6f-abb9a4fc4056",
      "metadata": {
        "id": "73b4a991-f894-49ef-ab6f-abb9a4fc4056"
      },
      "source": [
        "### requires_grad=True\n",
        "\n",
        "look at the code and try and figure out wha the result would be. if you got it- you may proceed.  \n",
        "if not change the value of x and try again"
      ]
    },
    {
      "cell_type": "code",
      "execution_count": 2,
      "id": "93467778-c7f7-479b-911f-f27a745662d7",
      "metadata": {
        "colab": {
          "base_uri": "https://localhost:8080/"
        },
        "id": "93467778-c7f7-479b-911f-f27a745662d7",
        "outputId": "c2598139-3c05-441e-f70c-fd85b559ba07"
      },
      "outputs": [
        {
          "output_type": "stream",
          "name": "stdout",
          "text": [
            "tensor(14.)\n"
          ]
        }
      ],
      "source": [
        "x = torch.tensor(7., requires_grad=True)\n",
        "y = x ** 2  # y = x^2\n",
        "y.backward() #נגזרת\n",
        "print(x.grad) #הצבה\n",
        "\n"
      ]
    },
    {
      "cell_type": "code",
      "execution_count": 3,
      "id": "6181a92d-213f-458f-87c9-51f3b4be98c5",
      "metadata": {
        "colab": {
          "base_uri": "https://localhost:8080/"
        },
        "id": "6181a92d-213f-458f-87c9-51f3b4be98c5",
        "outputId": "ea5c96a5-63ca-41ab-e3d6-ec61f5785064"
      },
      "outputs": [
        {
          "output_type": "stream",
          "name": "stdout",
          "text": [
            "tensor(76.)\n"
          ]
        }
      ],
      "source": [
        "x = torch.tensor(5., requires_grad=True)\n",
        "y = x **3 + x\n",
        "#y' = 3x^2 +1\n",
        "y.backward()\n",
        "print(x.grad)\n"
      ]
    },
    {
      "cell_type": "markdown",
      "id": "73fa857e-e864-4210-bfd1-a0481325451b",
      "metadata": {
        "id": "73fa857e-e864-4210-bfd1-a0481325451b"
      },
      "source": [
        "### **Exercise: Animal Detection in Safari Images**\n",
        "\n",
        "##### **Task Overview:**\n",
        "You have a system designed to detect animals in images taken in the safari. You will work with image data, perform reshaping, calculate detection scores, and backpropagate through a loss function to update weights.\n",
        "\n",
        "---\n",
        "first - import the necessary libraries"
      ]
    },
    {
      "cell_type": "code",
      "execution_count": 4,
      "id": "df96fec3-eb40-4f27-acc9-a47e2b381ea3",
      "metadata": {
        "id": "df96fec3-eb40-4f27-acc9-a47e2b381ea3"
      },
      "outputs": [],
      "source": [
        "import torch"
      ]
    },
    {
      "cell_type": "markdown",
      "id": "7336297d-08d1-4217-9480-6208a0a55ecc",
      "metadata": {
        "id": "7336297d-08d1-4217-9480-6208a0a55ecc"
      },
      "source": [
        "##### **Steps:**\n",
        "\n",
        "1. **Create the image tensor:**  \n",
        "   The images are provided in the shape `(batch_size, height, width, channels)`.  \n",
        "   - First- using torch .rand() Create a tensor of 4 images, each of size 32x32 with 3 color channels.\n",
        "   - Then - rearrange the dimensions to match the format `(batch_size, channels, height, width).\n",
        "   -  print the final shape to make sure it is mattching the standard 4,3,32x32"
      ]
    },
    {
      "cell_type": "code",
      "execution_count": 11,
      "id": "c5812526-c699-4d1c-852d-9414c291d2b7",
      "metadata": {
        "colab": {
          "base_uri": "https://localhost:8080/"
        },
        "id": "c5812526-c699-4d1c-852d-9414c291d2b7",
        "outputId": "dfbe535d-0e42-489d-cabd-4b0d860b77ed"
      },
      "outputs": [
        {
          "output_type": "execute_result",
          "data": {
            "text/plain": [
              "torch.Size([4, 3, 32, 32])"
            ]
          },
          "metadata": {},
          "execution_count": 11
        }
      ],
      "source": [
        "image = torch.rand(4,32,32,3)\n",
        "#image = torch.rand(0,1,2,3)\n",
        "\n",
        "image_reshaped = image.permute(0,3,1,2)\n",
        "image_reshaped.shape"
      ]
    },
    {
      "cell_type": "code",
      "execution_count": null,
      "id": "4ae881fd-c47c-4176-a297-269a4859c631",
      "metadata": {
        "id": "4ae881fd-c47c-4176-a297-269a4859c631"
      },
      "outputs": [],
      "source": []
    },
    {
      "cell_type": "markdown",
      "id": "181ebc4d-4599-430f-b8a3-97d3f514fae8",
      "metadata": {
        "id": "181ebc4d-4599-430f-b8a3-97d3f514fae8"
      },
      "source": [
        "2. **Define weights:**  \n",
        "   - Create a tensor of `weights` for each  of the 3  color channel. again use tensor.rand The tensor should have `requires_grad=True`."
      ]
    },
    {
      "cell_type": "code",
      "execution_count": 12,
      "id": "b175556e-d8ba-4291-a60c-52d1454669d0",
      "metadata": {
        "id": "b175556e-d8ba-4291-a60c-52d1454669d0"
      },
      "outputs": [],
      "source": [
        "weigths = torch.rand(3, requires_grad=True)"
      ]
    },
    {
      "cell_type": "markdown",
      "id": "425a4716-1327-4558-8efe-0014eb9e98de",
      "metadata": {
        "id": "425a4716-1327-4558-8efe-0014eb9e98de"
      },
      "source": [
        "3. **Calculate detection scores:**  \n",
        "   - Compute the sum of pixel values for each image and multiply by the weights.\n",
        "   - hint: if you are having truble there is a hint at the end of this page:"
      ]
    },
    {
      "cell_type": "code",
      "source": [
        "image_reshaped.sum(dim =2).shape"
      ],
      "metadata": {
        "colab": {
          "base_uri": "https://localhost:8080/"
        },
        "id": "tWPT0O0_nQ9u",
        "outputId": "aeea1c50-8bfe-410a-8d4e-0d0f8cf6492e"
      },
      "id": "tWPT0O0_nQ9u",
      "execution_count": 16,
      "outputs": [
        {
          "output_type": "execute_result",
          "data": {
            "text/plain": [
              "torch.Size([4, 3, 32])"
            ]
          },
          "metadata": {},
          "execution_count": 16
        }
      ]
    },
    {
      "cell_type": "code",
      "source": [
        "image_reshaped.sum(dim =(2,3))\n"
      ],
      "metadata": {
        "colab": {
          "base_uri": "https://localhost:8080/"
        },
        "id": "vPzSukQHo6rr",
        "outputId": "f2e1313a-eb7e-4a61-c57b-69467c741bea"
      },
      "id": "vPzSukQHo6rr",
      "execution_count": 19,
      "outputs": [
        {
          "output_type": "execute_result",
          "data": {
            "text/plain": [
              "tensor([[512.8609, 515.6026, 501.3276],\n",
              "        [511.4517, 518.4221, 507.9557],\n",
              "        [519.4543, 528.4644, 497.5841],\n",
              "        [512.6465, 509.4131, 501.4521]])"
            ]
          },
          "metadata": {},
          "execution_count": 19
        }
      ]
    },
    {
      "cell_type": "code",
      "execution_count": 17,
      "id": "b74ea43b-0e25-4d18-8702-d31878d9c7c6",
      "metadata": {
        "colab": {
          "base_uri": "https://localhost:8080/"
        },
        "id": "b74ea43b-0e25-4d18-8702-d31878d9c7c6",
        "outputId": "504e7366-d53c-4ae5-ec32-7f40fcca051d"
      },
      "outputs": [
        {
          "output_type": "execute_result",
          "data": {
            "text/plain": [
              "tensor([[153.5391,  72.4235, 446.0466],\n",
              "        [153.1172,  72.8195, 451.9438],\n",
              "        [155.5131,  74.2301, 442.7159],\n",
              "        [153.4750,  71.5541, 446.1574]], grad_fn=<MulBackward0>)"
            ]
          },
          "metadata": {},
          "execution_count": 17
        }
      ],
      "source": [
        "(image_reshaped.sum(dim= (2,3))* weigths)"
      ]
    },
    {
      "cell_type": "code",
      "source": [
        "(image_reshaped.sum(dim= (2,3))* weigths).shape"
      ],
      "metadata": {
        "colab": {
          "base_uri": "https://localhost:8080/"
        },
        "id": "zpmSkW3UpHFu",
        "outputId": "c3f32463-f914-432d-e661-64530c0e440c"
      },
      "id": "zpmSkW3UpHFu",
      "execution_count": 20,
      "outputs": [
        {
          "output_type": "execute_result",
          "data": {
            "text/plain": [
              "torch.Size([4, 3])"
            ]
          },
          "metadata": {},
          "execution_count": 20
        }
      ]
    },
    {
      "cell_type": "code",
      "source": [],
      "metadata": {
        "id": "jKiCP0zPpcBt"
      },
      "id": "jKiCP0zPpcBt",
      "execution_count": null,
      "outputs": []
    },
    {
      "cell_type": "code",
      "source": [
        "scores = (image_reshaped.sum(dim= (2,3))* weigths).sum(1)\n",
        "scores"
      ],
      "metadata": {
        "colab": {
          "base_uri": "https://localhost:8080/"
        },
        "id": "g5vKdtwEpNNW",
        "outputId": "7ef98c47-42c7-4702-ddc0-a2849d8060c7"
      },
      "id": "g5vKdtwEpNNW",
      "execution_count": 25,
      "outputs": [
        {
          "output_type": "execute_result",
          "data": {
            "text/plain": [
              "tensor([672.0092, 677.8806, 672.4590, 671.1864], grad_fn=<SumBackward1>)"
            ]
          },
          "metadata": {},
          "execution_count": 25
        }
      ]
    },
    {
      "cell_type": "markdown",
      "id": "0f0e07ae-9d1e-403c-9a3c-be5cad36b5e8",
      "metadata": {
        "id": "0f0e07ae-9d1e-403c-9a3c-be5cad36b5e8"
      },
      "source": [
        "4. **Define a loss function:**  \n",
        "   - Create a loss function that calculates the mean squared error between the computed scores and a target value of `100`."
      ]
    },
    {
      "cell_type": "code",
      "execution_count": 24,
      "id": "d42def67-1982-4347-b0ab-83cb7dc4dfe1",
      "metadata": {
        "colab": {
          "base_uri": "https://localhost:8080/"
        },
        "id": "d42def67-1982-4347-b0ab-83cb7dc4dfe1",
        "outputId": "48d85343-65f7-4918-e5db-f9920386d2b4"
      },
      "outputs": [
        {
          "output_type": "execute_result",
          "data": {
            "text/plain": [
              "tensor(328775.9062, grad_fn=<MeanBackward0>)"
            ]
          },
          "metadata": {},
          "execution_count": 24
        }
      ],
      "source": [
        "loss = ((scores -100)**2).mean()\n",
        "loss"
      ]
    },
    {
      "cell_type": "markdown",
      "id": "4d348d9d-bce8-4653-bfe0-751f0ce7fed8",
      "metadata": {
        "id": "4d348d9d-bce8-4653-bfe0-751f0ce7fed8"
      },
      "source": [
        "5. **Perform backpropagation:**  \n",
        "   - Use `backward()` to calculate the gradients of the weights based on the loss."
      ]
    },
    {
      "cell_type": "code",
      "execution_count": 26,
      "id": "5f030f7a-7add-40d7-b776-55b0261a92dc",
      "metadata": {
        "id": "5f030f7a-7add-40d7-b776-55b0261a92dc"
      },
      "outputs": [],
      "source": [
        "loss.backward()"
      ]
    },
    {
      "cell_type": "markdown",
      "id": "d849c1c8-1d48-49e5-aae6-7a29e9f0b5bc",
      "metadata": {
        "id": "d849c1c8-1d48-49e5-aae6-7a29e9f0b5bc"
      },
      "source": [
        "6. **Display the gradients:**  \n",
        "   - Print the gradients of the weights to see how they would be updated."
      ]
    },
    {
      "cell_type": "code",
      "execution_count": 27,
      "id": "a8c9dec4-0e17-4782-b458-03324d595ddf",
      "metadata": {
        "colab": {
          "base_uri": "https://localhost:8080/"
        },
        "id": "a8c9dec4-0e17-4782-b458-03324d595ddf",
        "outputId": "393ff2fc-d213-4094-85e6-e54c668ad655"
      },
      "outputs": [
        {
          "output_type": "execute_result",
          "data": {
            "text/plain": [
              "tensor([589551.1250, 594004.7500, 575785.4375])"
            ]
          },
          "metadata": {},
          "execution_count": 27
        }
      ],
      "source": [
        "weigths.grad"
      ]
    },
    {
      "cell_type": "code",
      "execution_count": 28,
      "id": "ded2188d-7bcc-4cf8-85a4-d1126a9be1f1",
      "metadata": {
        "id": "ded2188d-7bcc-4cf8-85a4-d1126a9be1f1"
      },
      "outputs": [],
      "source": [
        "torch.set_printoptions(sci_mode = False)"
      ]
    },
    {
      "cell_type": "code",
      "execution_count": 36,
      "id": "d817ec30-e570-4658-bc45-6ed8b3531a51",
      "metadata": {
        "colab": {
          "base_uri": "https://localhost:8080/"
        },
        "id": "d817ec30-e570-4658-bc45-6ed8b3531a51",
        "outputId": "dedb9d2a-f2f9-498c-e6df-04463897b39c"
      },
      "outputs": [
        {
          "output_type": "stream",
          "name": "stdout",
          "text": [
            "\ti 0, x =2.99399995803833, f= 10.0\n",
            "\ti 25, x =2.847839117050171, f= 9.142725944519043\n",
            "\ti 50, x =2.708812713623047, f= 8.367105484008789\n",
            "\ti 75, x =2.576573371887207, f= 7.665364742279053\n",
            "\ti 100, x =2.4507896900177, f= 7.030467987060547\n",
            "\ti 125, x =2.331145763397217, f= 6.456042766571045\n",
            "\ti 150, x =2.2173430919647217, f= 5.936336517333984\n",
            "\ti 175, x =2.1090967655181885, f= 5.4661359786987305\n",
            "\ti 200, x =2.0061352252960205, f= 5.040724754333496\n",
            "\ti 225, x =1.908199429512024, f= 4.6558332443237305\n",
            "\ti 250, x =1.815044641494751, f= 4.30760383605957\n",
            "\ti 275, x =1.7264372110366821, f= 3.9925436973571777\n",
            "\ti 300, x =1.642155408859253, f= 3.707493543624878\n",
            "\ti 325, x =1.5619882345199585, f= 3.4495956897735596\n",
            "\ti 350, x =1.4857347011566162, f= 3.21626353263855\n",
            "\ti 375, x =1.4132039546966553, f= 3.005157947540283\n",
            "\ti 400, x =1.344213843345642, f= 2.814160108566284\n",
            "\ti 425, x =1.2785918712615967, f= 2.6413559913635254\n",
            "\ti 450, x =1.2161734104156494, f= 2.4850120544433594\n",
            "\ti 475, x =1.1568019390106201, f= 2.343559741973877\n",
            "Minumum at x =1.1025339365005493, f= 2.2204580307006836\n"
          ]
        }
      ],
      "source": [
        "x = torch.tensor(3. , requires_grad=True)\n",
        "lr = 0.01\n",
        "\n",
        "\n",
        "#לולאת אופטימיזציה\n",
        "for i in range(500):\n",
        "  f = x**2 +1\n",
        "  #חישוב גרדיאנט\n",
        "  f.backward()\n",
        "\n",
        "  with torch.no_grad():\n",
        "    x -= lr*x.grad\n",
        "\n",
        "  if i%25 ==0 :\n",
        "    print(f\"\\ti {i}, x ={x}, f= {f}\")\n",
        "  #איפוס גראדיאנט\n",
        "  x.grad.zero_()\n",
        "\n",
        "print(f\"Minumum at x ={x}, f= {f}\")"
      ]
    },
    {
      "cell_type": "markdown",
      "id": "692b008a-bbfd-4669-8201-e2f2d9c17c43",
      "metadata": {
        "id": "692b008a-bbfd-4669-8201-e2f2d9c17c43"
      },
      "source": [
        "hint for 3:\n",
        "- first add the number of pixels for each color in each picture like so: images_reshaped.sum(dim=(2, 3))\n",
        "- multiply it by the weigths for each color\n",
        "- now sum the result so there is a score for each image"
      ]
    },
    {
      "cell_type": "code",
      "execution_count": 43,
      "id": "4314eac1-5530-4cb8-95f1-4d727029aba4",
      "metadata": {
        "colab": {
          "base_uri": "https://localhost:8080/",
          "height": 430
        },
        "id": "4314eac1-5530-4cb8-95f1-4d727029aba4",
        "outputId": "8dd7bbe7-3f15-4521-ebe7-fc056dc90268"
      },
      "outputs": [
        {
          "output_type": "display_data",
          "data": {
            "text/plain": [
              "<Figure size 640x480 with 1 Axes>"
            ],
            "image/png": "[encoded data removed]"
          },
          "metadata": {}
        }
      ],
      "source": [
        "import matplotlib.pyplot as plt\n",
        "import numpy as np\n",
        "\n",
        "\n",
        "x =np.linspace(-100,100)\n",
        "\n",
        "def f (x):\n",
        "  return x**2+1\n",
        "\n",
        "y = f(x)\n",
        "\n",
        "\n",
        "plt.plot(x,y)\n",
        "plt.savefig ('fig.jpeg')"
      ]
    },
    {
      "cell_type": "code",
      "source": [],
      "metadata": {
        "id": "ubAh_lR04Hfw"
      },
      "id": "ubAh_lR04Hfw",
      "execution_count": 39,
      "outputs": []
    },
    {
      "cell_type": "code",
      "source": [],
      "metadata": {
        "id": "eFObJuHL4KjL"
      },
      "id": "eFObJuHL4KjL",
      "execution_count": null,
      "outputs": []
    }
  ],
  "metadata": {
    "kernelspec": {
      "display_name": "Python 3 (ipykernel)",
      "language": "python",
      "name": "python3"
    },
    "language_info": {
      "codemirror_mode": {
        "name": "ipython",
        "version": 3
      },
      "file_extension": ".py",
      "mimetype": "text/x-python",
      "name": "python",
      "nbconvert_exporter": "python",
      "pygments_lexer": "ipython3",
      "version": "3.12.2"
    },
    "colab": {
      "provenance": []
    }
  },
  "nbformat": 4,
  "nbformat_minor": 5
}