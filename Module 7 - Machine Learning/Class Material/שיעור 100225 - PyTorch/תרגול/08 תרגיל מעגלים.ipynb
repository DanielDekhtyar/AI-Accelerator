{
 "cells": [
  {
   "cell_type": "markdown",
   "id": "d2baa8d3-f81d-4676-b624-92c86c9c2f8c",
   "metadata": {},
   "source": [
    "יבאו את הספריות"
   ]
  },
  {
   "cell_type": "code",
   "execution_count": null,
   "id": "3cde7754-9295-4e3d-b5ee-c6d9a4c8e7c8",
   "metadata": {},
   "outputs": [],
   "source": [
    "import torch\n",
    "import torch.nn as nn\n",
    "import torch.optim as optim\n",
    "from sklearn.datasets import make_moons\n",
    "from sklearn.model_selection import train_test_split\n",
    "import numpy as np\n",
    "import pandas as pd\n",
    "import matplotlib\n",
    "import matplotlib.pyplot as plt"
   ]
  },
  {
   "cell_type": "markdown",
   "id": "2dc83148-1e20-4455-8e43-8e0413510ab6",
   "metadata": {},
   "source": [
    "הריצו קוד ליצירת נתוני מעגלים "
   ]
  },
  {
   "cell_type": "code",
   "execution_count": null,
   "id": "6a69681d-2200-425f-a272-82f4a0f9e93c",
   "metadata": {},
   "outputs": [],
   "source": [
    "from sklearn.datasets import make_circles\n",
    "# Generate Moon Dataset\n",
    "samples = 1000\n",
    "X, y = make_circles(n_samples =1000, noise=0.05, random_state=42)\n",
    "\n",
    "# Create pandas DF\n",
    "df = pd.DataFrame(X, columns=[\"Feature_1\", \"Feature_2\"])\n",
    "df['Target'] = y"
   ]
  },
  {
   "cell_type": "markdown",
   "id": "ec706e75-6a0e-4e0f-b924-9687ceb85f90",
   "metadata": {},
   "source": [
    "הציגו את הנתונים השונים בעזרת  Scatter plot"
   ]
  },
  {
   "cell_type": "code",
   "execution_count": null,
   "id": "98b52590-5348-455c-a5ca-4645f7462a5e",
   "metadata": {},
   "outputs": [],
   "source": []
  },
  {
   "cell_type": "markdown",
   "id": "ad3dc29f-1168-45a2-8e03-0d6abfd9b961",
   "metadata": {},
   "source": [
    "בניית המודל"
   ]
  },
  {
   "cell_type": "code",
   "execution_count": null,
   "id": "9fae2ccb-220b-44a2-8261-3444b987d775",
   "metadata": {},
   "outputs": [],
   "source": [
    "# Make Test/Train Split\n",
    "\n",
    "# Convert Dataset to PyTorch Tensors \n",
    "\n",
    "# Define Neural Network Architecture\n",
    "#Create  a subclass to nn.Module\n",
    "\n",
    "    # Define the layers and the activation functions in between\n",
    "    \n",
    "  \n",
    "  # Define the forward method\n",
    "  \n",
    "    \n",
    "# Instantiate Model and Select Loss Function/Optimizer\n",
    "\n",
    "\n",
    "# Training Loop\n",
    "\n",
    "  \n",
    "# print the loss every 100 epochs\n",
    "  \n"
   ]
  },
  {
   "cell_type": "markdown",
   "id": "f5b452e7-4416-4627-b3a8-2917eeebf48e",
   "metadata": {},
   "source": [
    "You can  download `PlotBoudary.ipynb` and use\n",
    "```python \n",
    "%run /content/PlotBoudary.ipynb\n",
    "```\n",
    "to create Plot the funtion `plot_boundary` expects X,y and the model name"
   ]
  },
  {
   "cell_type": "code",
   "execution_count": null,
   "id": "5e066a53-da9b-47a1-921f-73a1335ce824",
   "metadata": {},
   "outputs": [],
   "source": []
  }
 ],
 "metadata": {
  "kernelspec": {
   "display_name": "Python 3 (ipykernel)",
   "language": "python",
   "name": "python3"
  },
  "language_info": {
   "codemirror_mode": {
    "name": "ipython",
    "version": 3
   },
   "file_extension": ".py",
   "mimetype": "text/x-python",
   "name": "python",
   "nbconvert_exporter": "python",
   "pygments_lexer": "ipython3",
   "version": "3.12.2"
  }
 },
 "nbformat": 4,
 "nbformat_minor": 5
}
