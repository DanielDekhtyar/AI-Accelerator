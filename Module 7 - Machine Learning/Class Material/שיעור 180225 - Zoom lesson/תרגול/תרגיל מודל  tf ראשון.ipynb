{
 "cells": [
  {
   "cell_type": "markdown",
   "id": "2cc1e96e-4e05-42fe-9ad6-8ea1bedfa963",
   "metadata": {},
   "source": [
    "\n",
    "בתרגיל זה תתבקשו לבצע\n",
    "ניבוי קצב לב במנוחה ❤️\n",
    "- X1: גיל הנבדק.  \n",
    "- X2: מספר שעות פעילות גופנית בשבוע.  \n",
    "- Y: קצב הלב במנוחה (פעימות לדקה).\n",
    "רעש: רמות סטרס, גורמים גנטיים.\n",
    "* הנתונים הם נתוני דמה."
   ]
  },
  {
   "cell_type": "code",
   "execution_count": 12,
   "id": "4ff99a6c-9a87-4589-99d8-ac172ec28865",
   "metadata": {},
   "outputs": [],
   "source": [
    "import tensorflow as tf\n",
    "import numpy as np"
   ]
  },
  {
   "cell_type": "code",
   "execution_count": 13,
   "id": "5250bb80-393a-4789-89a9-65e12b6cbee9",
   "metadata": {},
   "outputs": [
    {
     "name": "stdout",
     "output_type": "stream",
     "text": [
      "X1: [45.654938 43.314747 45.638866 42.184895 40.22388 ]\n",
      "X2: [2.0842247 1.1390963 2.378123  1.9948037 1.505468 ]\n",
      "Y: [82.03293  76.83428  87.524666 74.015594 74.17594 ]\n",
      "Data shape: (35, 3)\n"
     ]
    }
   ],
   "source": [
    "# יצירת נתוני TRAIN \n",
    "# קביעת seed כדי שהתוצאה תהיה שחזורית\n",
    "tf.random.set_seed(42)\n",
    "\n",
    "# יצירת משתנים X1 ו-X2 עם התפלגות נורמלית\n",
    "X1 = tf.random.normal(shape=(35,), mean=45, stddev=2)\n",
    "X2 = tf.random.normal(shape=(35,), mean=2, stddev=1)\n",
    "\n",
    "# יצירת Y כצירוף לינארי של X1 ו-X2 + רעש\n",
    "Y = (3 * X1 + 2 * X2 + tf.random.normal(shape=(35,), mean=0, stddev=3))/1.7\n",
    "\n",
    "# הדפסת הדוגמאות הראשונות\n",
    "print(\"X1:\", X1[:5].numpy())\n",
    "print(\"X2:\", X2[:5].numpy())\n",
    "print(\"Y:\", Y[:5].numpy())\n",
    "\n",
    "# יצירת טנסור נתונים משולב (לשימוש מאוחר יותר)\n",
    "train_data = tf.stack([X1, X2, Y], axis=1)\n",
    "print(\"Data shape:\", train_data.shape)  # (35, 3)"
   ]
  },
  {
   "cell_type": "code",
   "execution_count": null,
   "id": "f01d1a4b-56e1-4d0e-8e7e-5043e51d3b09",
   "metadata": {},
   "outputs": [],
   "source": [
    "#צרו טנסורים ל X_train, y_train\n"
   ]
  },
  {
   "cell_type": "code",
   "execution_count": null,
   "id": "aaea7dc4-b294-4abf-b439-7a7503465842",
   "metadata": {},
   "outputs": [],
   "source": [
    "# Build Model 🚀\n",
    "\n"
   ]
  },
  {
   "cell_type": "code",
   "execution_count": null,
   "id": "0baccf01-7a52-426f-8ef5-cd8376094960",
   "metadata": {},
   "outputs": [],
   "source": [
    "# Configure Model 🔧\n"
   ]
  },
  {
   "cell_type": "code",
   "execution_count": null,
   "id": "d17063d3-3997-416a-88fe-1aa593c25ef5",
   "metadata": {},
   "outputs": [],
   "source": [
    "# Train Model 🎯\n"
   ]
  },
  {
   "cell_type": "code",
   "execution_count": null,
   "id": "7054855f-466f-4a93-b69d-adf818e103e4",
   "metadata": {},
   "outputs": [],
   "source": [
    "# Use the original code to create 10 Test Data\n"
   ]
  },
  {
   "cell_type": "code",
   "execution_count": null,
   "id": "03e0270a-da8c-44e5-bbae-5c8cd8bdc37e",
   "metadata": {},
   "outputs": [],
   "source": [
    "# Make a prediction  🔮\n",
    "\n"
   ]
  },
  {
   "cell_type": "code",
   "execution_count": null,
   "id": "dd13cb0b-3733-4841-a3f9-7dd5158c3449",
   "metadata": {},
   "outputs": [],
   "source": [
    "import matplotlib.pyplot as plt"
   ]
  },
  {
   "cell_type": "code",
   "execution_count": null,
   "id": "0020e1cf-6ffc-4c3b-8103-e34c3ea84f80",
   "metadata": {},
   "outputs": [],
   "source": [
    "#make a plot of the loss\n"
   ]
  },
  {
   "cell_type": "code",
   "execution_count": null,
   "id": "3b8669e6-c31f-45c2-ace4-57e3cec5bf5d",
   "metadata": {},
   "outputs": [],
   "source": [
    "#if you have time think of a way to visualize the predictions vs the targets.🖼️\n"
   ]
  },
  {
   "cell_type": "code",
   "execution_count": null,
   "id": "d179e6e5-5127-4818-a527-d3f69c5fe9b2",
   "metadata": {},
   "outputs": [],
   "source": []
  }
 ],
 "metadata": {
  "kernelspec": {
   "display_name": "Python 3 (ipykernel)",
   "language": "python",
   "name": "python3"
  },
  "language_info": {
   "codemirror_mode": {
    "name": "ipython",
    "version": 3
   },
   "file_extension": ".py",
   "mimetype": "text/x-python",
   "name": "python",
   "nbconvert_exporter": "python",
   "pygments_lexer": "ipython3",
   "version": "3.12.2"
  }
 },
 "nbformat": 4,
 "nbformat_minor": 5
}
