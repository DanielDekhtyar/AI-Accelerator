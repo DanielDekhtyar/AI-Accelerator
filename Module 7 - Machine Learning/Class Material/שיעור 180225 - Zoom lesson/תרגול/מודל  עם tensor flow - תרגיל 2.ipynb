{
 "cells": [
  {
   "cell_type": "code",
   "execution_count": null,
   "id": "cf92ebf0-8abb-4348-a7b1-62e019150cf6",
   "metadata": {},
   "outputs": [],
   "source": [
    "# imports\n",
    "import pandas as pd\n",
    "import numpy as np\n",
    "import tensorflow as tf\n",
    "from sklearn.model_selection import train_test_split\n",
    "from sklearn.preprocessing import StandardScaler\n",
    "from sklearn.preprocessing import OneHotEncoder\n",
    "import matplotlib.pyplot as plt"
   ]
  },
  {
   "cell_type": "code",
   "execution_count": null,
   "id": "3b1b00ce-5c39-45ba-a543-027d72025243",
   "metadata": {},
   "outputs": [],
   "source": [
    "# Load data\n",
    "data = pd.read_csv('insurance.csv')\n",
    "#check it out...\n"
   ]
  },
  {
   "cell_type": "code",
   "execution_count": null,
   "id": "d586c00d-3085-4859-8230-a577fca1174d",
   "metadata": {},
   "outputs": [],
   "source": [
    "# Preprocessing\n",
    "# One-hot Encoding with one hot encoder to categories\n"
   ]
  },
  {
   "cell_type": "code",
   "execution_count": null,
   "id": "72fd1d00-7a17-42d5-864f-b14a920cd387",
   "metadata": {},
   "outputs": [],
   "source": []
  },
  {
   "cell_type": "code",
   "execution_count": null,
   "id": "0a23708a-a8c0-4fd9-8cd8-91c0a5be93e5",
   "metadata": {},
   "outputs": [],
   "source": []
  },
  {
   "cell_type": "code",
   "execution_count": null,
   "id": "2c1599b0-1d25-4f6b-9e3a-ea612a4176b9",
   "metadata": {},
   "outputs": [],
   "source": [
    "#create \"features\" and \"target\"\n"
   ]
  },
  {
   "cell_type": "code",
   "execution_count": null,
   "id": "4773cf39-068c-4e6d-91b8-2d555fac75fe",
   "metadata": {},
   "outputs": [],
   "source": [
    "# Split dataset\n"
   ]
  },
  {
   "cell_type": "code",
   "execution_count": null,
   "id": "d85d0249-ed67-442f-9768-ca41ee06c8af",
   "metadata": {},
   "outputs": [],
   "source": []
  },
  {
   "cell_type": "code",
   "execution_count": null,
   "id": "45c56469-6c0e-4b60-8143-1625ae0bb583",
   "metadata": {},
   "outputs": [],
   "source": [
    "# Feature Scaling\n"
   ]
  },
  {
   "cell_type": "code",
   "execution_count": null,
   "id": "ce574d81-1301-40e9-82a3-7f2490603928",
   "metadata": {},
   "outputs": [],
   "source": [
    "# Build model\n"
   ]
  },
  {
   "cell_type": "code",
   "execution_count": null,
   "id": "138f0c8d-33da-4476-884c-52b5e1543997",
   "metadata": {},
   "outputs": [],
   "source": [
    "# Compile model\n"
   ]
  },
  {
   "cell_type": "code",
   "execution_count": null,
   "id": "5e254cf2-357d-459a-8270-1eac0047b234",
   "metadata": {},
   "outputs": [],
   "source": [
    "# Train model\n"
   ]
  },
  {
   "cell_type": "code",
   "execution_count": null,
   "id": "1e9021dd-7431-40e2-93c1-7535603986a0",
   "metadata": {},
   "outputs": [],
   "source": [
    "# Model Evaluation\n"
   ]
  },
  {
   "cell_type": "code",
   "execution_count": null,
   "id": "c7b3d957-56a6-4b30-a8cc-da7626082723",
   "metadata": {},
   "outputs": [],
   "source": [
    "#make a Prediction\n"
   ]
  },
  {
   "cell_type": "code",
   "execution_count": null,
   "id": "cf1ace9e-f6e4-4fe3-a3e6-59247c40a2b2",
   "metadata": {},
   "outputs": [],
   "source": [
    "#plot the history loss\n"
   ]
  },
  {
   "cell_type": "code",
   "execution_count": null,
   "id": "157d4d0d-ee25-41f5-805a-b33f5b2413fb",
   "metadata": {},
   "outputs": [],
   "source": []
  }
 ],
 "metadata": {
  "kernelspec": {
   "display_name": "Python 3 (ipykernel)",
   "language": "python",
   "name": "python3"
  },
  "language_info": {
   "codemirror_mode": {
    "name": "ipython",
    "version": 3
   },
   "file_extension": ".py",
   "mimetype": "text/x-python",
   "name": "python",
   "nbconvert_exporter": "python",
   "pygments_lexer": "ipython3",
   "version": "3.12.2"
  }
 },
 "nbformat": 4,
 "nbformat_minor": 5
}
