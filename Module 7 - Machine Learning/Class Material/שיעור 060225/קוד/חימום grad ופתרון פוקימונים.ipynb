{
  "cells": [
    {
      "cell_type": "markdown",
      "source": [
        "תשובות לתרגיל חימום והרחבה לגבי GRAD"
      ],
      "metadata": {
        "id": "5q0fppGxcLay"
      },
      "id": "5q0fppGxcLay"
    },
    {
      "cell_type": "code",
      "execution_count": null,
      "id": "b4057cb9-e132-4500-b85b-99638c26e07a",
      "metadata": {
        "id": "b4057cb9-e132-4500-b85b-99638c26e07a"
      },
      "outputs": [],
      "source": [
        "import torch\n",
        "import numpy as np"
      ]
    },
    {
      "cell_type": "code",
      "execution_count": null,
      "id": "870e7edd-bb2b-4338-a358-76898ff9a119",
      "metadata": {
        "colab": {
          "base_uri": "https://localhost:8080/",
          "height": 159
        },
        "id": "870e7edd-bb2b-4338-a358-76898ff9a119",
        "outputId": "fa259a15-92a3-496b-a6e7-95e96f6c32c9"
      },
      "outputs": [
        {
          "output_type": "error",
          "ename": "NameError",
          "evalue": "name 'torch' is not defined",
          "traceback": [
            "\u001b[0;31m---------------------------------------------------------------------------\u001b[0m",
            "\u001b[0;31mNameError\u001b[0m                                 Traceback (most recent call last)",
            "\u001b[0;32m<ipython-input-1-c906348b098a>\u001b[0m in \u001b[0;36m<cell line: 0>\u001b[0;34m()\u001b[0m\n\u001b[0;32m----> 1\u001b[0;31m \u001b[0mx\u001b[0m \u001b[0;34m=\u001b[0m \u001b[0mtorch\u001b[0m\u001b[0;34m.\u001b[0m\u001b[0mtensor\u001b[0m\u001b[0;34m(\u001b[0m\u001b[0;36m4.0\u001b[0m\u001b[0;34m,\u001b[0m \u001b[0mrequires_grad\u001b[0m \u001b[0;34m=\u001b[0m\u001b[0;32mTrue\u001b[0m\u001b[0;34m)\u001b[0m\u001b[0;34m\u001b[0m\u001b[0;34m\u001b[0m\u001b[0m\n\u001b[0m\u001b[1;32m      2\u001b[0m \u001b[0my\u001b[0m \u001b[0;34m=\u001b[0m \u001b[0;36m2\u001b[0m\u001b[0;34m*\u001b[0m\u001b[0;34m(\u001b[0m\u001b[0mx\u001b[0m\u001b[0;34m**\u001b[0m\u001b[0;36m3\u001b[0m\u001b[0;34m)\u001b[0m\u001b[0;34m+\u001b[0m\u001b[0;36m2\u001b[0m\u001b[0;34m*\u001b[0m\u001b[0mx\u001b[0m\u001b[0;34m+\u001b[0m\u001b[0;36m1\u001b[0m\u001b[0;34m\u001b[0m\u001b[0;34m\u001b[0m\u001b[0m\n",
            "\u001b[0;31mNameError\u001b[0m: name 'torch' is not defined"
          ]
        }
      ],
      "source": [
        "x = torch.tensor(4.0, requires_grad =True)\n",
        "y = 2*(x**3)+2*x+1"
      ]
    },
    {
      "cell_type": "code",
      "source": [
        "x"
      ],
      "metadata": {
        "colab": {
          "base_uri": "https://localhost:8080/"
        },
        "id": "e0baIkyTLo60",
        "outputId": "f32be701-0e40-46b3-d5d5-7bf638deef1e"
      },
      "id": "e0baIkyTLo60",
      "execution_count": null,
      "outputs": [
        {
          "output_type": "execute_result",
          "data": {
            "text/plain": [
              "tensor(4., requires_grad=True)"
            ]
          },
          "metadata": {},
          "execution_count": 3
        }
      ]
    },
    {
      "cell_type": "markdown",
      "id": "a49491d9-b50c-4f3e-98e4-60ed6d45c517",
      "metadata": {
        "id": "a49491d9-b50c-4f3e-98e4-60ed6d45c517"
      },
      "source": [
        "יש את  איקס ואת וואי\n",
        "- מי המשתנה הבלתי תלוי? מי המשתנה הבלתי תלוי?"
      ]
    },
    {
      "cell_type": "code",
      "execution_count": null,
      "id": "46e89c9c-0c09-4884-8f6c-571116770246",
      "metadata": {
        "colab": {
          "base_uri": "https://localhost:8080/"
        },
        "id": "46e89c9c-0c09-4884-8f6c-571116770246",
        "outputId": "3bfc6f3a-18ce-40fc-b432-bab0d5717440"
      },
      "outputs": [
        {
          "output_type": "execute_result",
          "data": {
            "text/plain": [
              "tensor(137., grad_fn=<AddBackward0>)"
            ]
          },
          "metadata": {},
          "execution_count": 4
        }
      ],
      "source": [
        "#print out the output of y\n",
        "y"
      ]
    },
    {
      "cell_type": "code",
      "execution_count": null,
      "id": "bc1dbb3d-60a8-4658-ac5f-b87fbbd71c14",
      "metadata": {
        "id": "bc1dbb3d-60a8-4658-ac5f-b87fbbd71c14"
      },
      "outputs": [],
      "source": [
        "# create a derivative to y\n",
        "y.backward()"
      ]
    },
    {
      "cell_type": "code",
      "execution_count": null,
      "id": "af5e8269-f31f-4a19-89df-5cb350fd724c",
      "metadata": {
        "colab": {
          "base_uri": "https://localhost:8080/"
        },
        "id": "af5e8269-f31f-4a19-89df-5cb350fd724c",
        "outputId": "b05da561-f667-4e3d-f894-ff27bda624b5"
      },
      "outputs": [
        {
          "output_type": "execute_result",
          "data": {
            "text/plain": [
              "tensor(98.)"
            ]
          },
          "metadata": {},
          "execution_count": 6
        }
      ],
      "source": [
        "# what is the slope (נגזרת) of y at the point x is at?\n",
        "x.grad"
      ]
    },
    {
      "cell_type": "code",
      "execution_count": null,
      "id": "7866b8f0-5caa-4a2c-a320-6c8768256b9f",
      "metadata": {
        "colab": {
          "base_uri": "https://localhost:8080/"
        },
        "id": "7866b8f0-5caa-4a2c-a320-6c8768256b9f",
        "outputId": "5b0b01f3-4eca-4440-eef9-06c30b57c73e"
      },
      "outputs": [
        {
          "output_type": "stream",
          "name": "stdout",
          "text": [
            "epoch1- 4.0\n",
            "epoch2- 8.0\n",
            "epoch3- 12.0\n"
          ]
        }
      ],
      "source": [
        "# look at the printed output, what hapend ? why is the derivative wrong?\n",
        "#can you fix it?\n",
        "a = torch.tensor(2.0, requires_grad =True)\n",
        "\n",
        "for epoch in range(3):\n",
        "\n",
        "    b = a**2\n",
        "    b.backward()\n",
        "    print (f\"epoch{epoch+1}- {a.grad}\")\n",
        "    #fix here"
      ]
    },
    {
      "cell_type": "code",
      "execution_count": null,
      "id": "b7db7c11-9ff5-48ee-988d-88449dc254f4",
      "metadata": {
        "colab": {
          "base_uri": "https://localhost:8080/"
        },
        "id": "b7db7c11-9ff5-48ee-988d-88449dc254f4",
        "outputId": "18f210b0-699c-4410-cc1e-ac67216eedac"
      },
      "outputs": [
        {
          "output_type": "stream",
          "name": "stdout",
          "text": [
            "epoch1- 2.0\n",
            "epoch2- 2.0\n",
            "epoch3- 2.0\n"
          ]
        }
      ],
      "source": [
        "a = torch.tensor(1.0, requires_grad =True)\n",
        "\n",
        "for epoch in range(3):\n",
        "\n",
        "    b = a**2\n",
        "    b.backward()\n",
        "    print (f\"epoch{epoch+1}- {a.grad}\")\n",
        "    a.grad.zero_()"
      ]
    },
    {
      "cell_type": "code",
      "execution_count": null,
      "id": "75c254c9-fcac-4c17-a014-b11541b5aba7",
      "metadata": {
        "colab": {
          "base_uri": "https://localhost:8080/"
        },
        "id": "75c254c9-fcac-4c17-a014-b11541b5aba7",
        "outputId": "3af4da49-bef3-4808-99a8-494610629885"
      },
      "outputs": [
        {
          "output_type": "stream",
          "name": "stdout",
          "text": [
            "epoch1- None\n",
            "epoch2- None\n",
            "epoch3- None\n"
          ]
        }
      ],
      "source": [
        "a = torch.tensor(1.0, requires_grad =True)\n",
        "\n",
        "for epoch in range(3):\n",
        "  with torch.no_grad():\n",
        "      b = a**2\n",
        "\n",
        "      print (f\"epoch{epoch+1}- {a.grad}\")\n"
      ]
    },
    {
      "cell_type": "code",
      "source": [
        "a = torch.tensor(1.0, requires_grad =True)\n",
        "\n",
        "for epoch in range(3):\n",
        "    b = a**2\n",
        "    b.backward()\n",
        "    print (f\"epoch{epoch+1}- {a.grad}\")\n",
        "    a.grad.zero_()\n",
        "    with torch.no_grad():\n",
        "      b = a**2\n",
        "\n",
        "      print (f\"epoch{epoch+1}- {a.grad}\")"
      ],
      "metadata": {
        "colab": {
          "base_uri": "https://localhost:8080/"
        },
        "id": "5KpQ6AP7Vc4R",
        "outputId": "9dd77a78-2205-4c1a-d3fe-58081c8addcb"
      },
      "id": "5KpQ6AP7Vc4R",
      "execution_count": null,
      "outputs": [
        {
          "output_type": "stream",
          "name": "stdout",
          "text": [
            "epoch1- 2.0\n",
            "epoch1- 0.0\n",
            "epoch2- 2.0\n",
            "epoch2- 0.0\n",
            "epoch3- 2.0\n",
            "epoch3- 0.0\n"
          ]
        }
      ]
    },
    {
      "cell_type": "code",
      "source": [
        "for epoch in range(3):\n",
        "    b = a**2\n",
        "    b.backward()\n",
        "    print (f\"epoch{epoch+1}- {a.grad}\")\n",
        "    a.grad.zero_()\n",
        "\n",
        "    b = a**2\n",
        "\n",
        "    print (f\"epoch{epoch+1}- {a.grad}\")"
      ],
      "metadata": {
        "colab": {
          "base_uri": "https://localhost:8080/"
        },
        "id": "0F5v-ZN2WACS",
        "outputId": "2f323caf-e77d-4c96-b340-70766ed895f0"
      },
      "id": "0F5v-ZN2WACS",
      "execution_count": null,
      "outputs": [
        {
          "output_type": "stream",
          "name": "stdout",
          "text": [
            "epoch1- 2.0\n",
            "epoch1- 0.0\n",
            "epoch2- 2.0\n",
            "epoch2- 0.0\n",
            "epoch3- 2.0\n",
            "epoch3- 0.0\n"
          ]
        }
      ]
    },
    {
      "cell_type": "markdown",
      "source": [
        "## DEVICE"
      ],
      "metadata": {
        "id": "9Ej8LnwtcSeB"
      },
      "id": "9Ej8LnwtcSeB"
    },
    {
      "cell_type": "code",
      "source": [
        "import torch\n",
        "import numpy as np"
      ],
      "metadata": {
        "id": "uGHbnfKXWRTJ"
      },
      "id": "uGHbnfKXWRTJ",
      "execution_count": null,
      "outputs": []
    },
    {
      "cell_type": "code",
      "source": [
        "torch.cuda.is_available()"
      ],
      "metadata": {
        "colab": {
          "base_uri": "https://localhost:8080/"
        },
        "id": "hQ0KXWt2eumZ",
        "outputId": "74338523-66f8-479f-d6bb-11c4300fc8f5"
      },
      "id": "hQ0KXWt2eumZ",
      "execution_count": null,
      "outputs": [
        {
          "output_type": "execute_result",
          "data": {
            "text/plain": [
              "True"
            ]
          },
          "metadata": {},
          "execution_count": 2
        }
      ]
    },
    {
      "cell_type": "code",
      "source": [
        "device = \"cuda:0\" if torch.cuda.is_available() else 'cpu'"
      ],
      "metadata": {
        "id": "8fMEqHc7fQV5"
      },
      "id": "8fMEqHc7fQV5",
      "execution_count": null,
      "outputs": []
    },
    {
      "cell_type": "code",
      "source": [
        "device"
      ],
      "metadata": {
        "colab": {
          "base_uri": "https://localhost:8080/",
          "height": 35
        },
        "id": "Nh-N7ziYgJSp",
        "outputId": "e9ce2db3-8d00-4db3-abba-1dfcd0f905bb"
      },
      "id": "Nh-N7ziYgJSp",
      "execution_count": null,
      "outputs": [
        {
          "output_type": "execute_result",
          "data": {
            "text/plain": [
              "'cuda:0'"
            ],
            "application/vnd.google.colaboratory.intrinsic+json": {
              "type": "string"
            }
          },
          "metadata": {},
          "execution_count": 4
        }
      ]
    },
    {
      "cell_type": "code",
      "source": [
        "x_cpu = torch.tensor ([1.0], device = 'cpu')\n",
        "x_gpu =  torch.tensor ([1.0], device = 'cuda:0')"
      ],
      "metadata": {
        "id": "Jk_ue_C_gKlx"
      },
      "id": "Jk_ue_C_gKlx",
      "execution_count": null,
      "outputs": []
    },
    {
      "cell_type": "code",
      "source": [
        "x_cpu.device"
      ],
      "metadata": {
        "colab": {
          "base_uri": "https://localhost:8080/"
        },
        "id": "egysMJUmgyc5",
        "outputId": "d6795dc8-4a31-4b1e-a491-b5e10f34a338"
      },
      "id": "egysMJUmgyc5",
      "execution_count": null,
      "outputs": [
        {
          "output_type": "execute_result",
          "data": {
            "text/plain": [
              "device(type='cpu')"
            ]
          },
          "metadata": {},
          "execution_count": 8
        }
      ]
    },
    {
      "cell_type": "code",
      "source": [
        "x_gpu.device"
      ],
      "metadata": {
        "colab": {
          "base_uri": "https://localhost:8080/"
        },
        "id": "ATDHN2-0g5Mx",
        "outputId": "47863ca1-8c2d-4369-edde-5a541c5d8c7e"
      },
      "id": "ATDHN2-0g5Mx",
      "execution_count": null,
      "outputs": [
        {
          "output_type": "execute_result",
          "data": {
            "text/plain": [
              "device(type='cuda', index=0)"
            ]
          },
          "metadata": {},
          "execution_count": 9
        }
      ]
    },
    {
      "cell_type": "code",
      "source": [
        "y = x_cpu +x_gpu #error"
      ],
      "metadata": {
        "id": "2qg4nEPnhI4Z"
      },
      "id": "2qg4nEPnhI4Z",
      "execution_count": null,
      "outputs": []
    },
    {
      "cell_type": "code",
      "source": [
        "t = torch.tensor([1.0])"
      ],
      "metadata": {
        "id": "V6GJrYQChWjr"
      },
      "id": "V6GJrYQChWjr",
      "execution_count": null,
      "outputs": []
    },
    {
      "cell_type": "code",
      "source": [
        "t.device"
      ],
      "metadata": {
        "colab": {
          "base_uri": "https://localhost:8080/"
        },
        "id": "frnroHOvhlDx",
        "outputId": "b33a28bf-7ed8-41f5-8dc9-e0b9056e6b5f"
      },
      "id": "frnroHOvhlDx",
      "execution_count": null,
      "outputs": [
        {
          "output_type": "execute_result",
          "data": {
            "text/plain": [
              "device(type='cpu')"
            ]
          },
          "metadata": {},
          "execution_count": 12
        }
      ]
    },
    {
      "cell_type": "code",
      "source": [
        "x_cpu = x_cpu.to(device)"
      ],
      "metadata": {
        "id": "dcgFe55BhmZh"
      },
      "id": "dcgFe55BhmZh",
      "execution_count": null,
      "outputs": []
    },
    {
      "cell_type": "code",
      "source": [
        "x_cpu.device"
      ],
      "metadata": {
        "colab": {
          "base_uri": "https://localhost:8080/"
        },
        "id": "-8OmtZH6iNM7",
        "outputId": "24a97609-5f08-4116-a15e-27bd91ff4451"
      },
      "id": "-8OmtZH6iNM7",
      "execution_count": null,
      "outputs": [
        {
          "output_type": "execute_result",
          "data": {
            "text/plain": [
              "device(type='cuda', index=0)"
            ]
          },
          "metadata": {},
          "execution_count": 14
        }
      ]
    },
    {
      "cell_type": "code",
      "source": [
        "y = x_cpu +x_gpu"
      ],
      "metadata": {
        "id": "9j6O_P8MiPOx"
      },
      "id": "9j6O_P8MiPOx",
      "execution_count": null,
      "outputs": []
    },
    {
      "cell_type": "markdown",
      "source": [
        "פוקימון תשובות"
      ],
      "metadata": {
        "id": "7o_7j9GGj-j6"
      },
      "id": "7o_7j9GGj-j6"
    },
    {
      "cell_type": "code",
      "source": [
        "import torch\n",
        "import numpy as np"
      ],
      "metadata": {
        "id": "HTnslnH9iThx"
      },
      "id": "HTnslnH9iThx",
      "execution_count": null,
      "outputs": []
    },
    {
      "cell_type": "code",
      "source": [
        "torch.set_printoptions(sci_mode=False)"
      ],
      "metadata": {
        "id": "S-IbgO-3kFEq"
      },
      "id": "S-IbgO-3kFEq",
      "execution_count": null,
      "outputs": []
    },
    {
      "cell_type": "code",
      "source": [
        "#1\n",
        "attack  = torch.randint (1,11, (12,1))*10\n",
        "attack"
      ],
      "metadata": {
        "colab": {
          "base_uri": "https://localhost:8080/"
        },
        "id": "j9H4-FvXkgmx",
        "outputId": "57247b52-26d7-4829-922f-8191acd205a2"
      },
      "id": "j9H4-FvXkgmx",
      "execution_count": null,
      "outputs": [
        {
          "output_type": "execute_result",
          "data": {
            "text/plain": [
              "tensor([[ 60],\n",
              "        [ 60],\n",
              "        [ 40],\n",
              "        [ 30],\n",
              "        [ 10],\n",
              "        [ 50],\n",
              "        [100],\n",
              "        [ 50],\n",
              "        [ 90],\n",
              "        [ 30],\n",
              "        [ 90],\n",
              "        [ 30]])"
            ]
          },
          "metadata": {},
          "execution_count": 5
        }
      ]
    },
    {
      "cell_type": "code",
      "source": [
        "hp=  torch.randint (1,11, (12,1))\n",
        "hp"
      ],
      "metadata": {
        "colab": {
          "base_uri": "https://localhost:8080/"
        },
        "id": "SuirSLZWliQD",
        "outputId": "1e0bc205-61ce-498d-d8ba-a4e8d3ef31ba"
      },
      "id": "SuirSLZWliQD",
      "execution_count": null,
      "outputs": [
        {
          "output_type": "execute_result",
          "data": {
            "text/plain": [
              "tensor([[ 9],\n",
              "        [ 8],\n",
              "        [ 9],\n",
              "        [ 4],\n",
              "        [ 4],\n",
              "        [ 3],\n",
              "        [ 2],\n",
              "        [10],\n",
              "        [ 2],\n",
              "        [ 6],\n",
              "        [ 2],\n",
              "        [ 3]])"
            ]
          },
          "metadata": {},
          "execution_count": 7
        }
      ]
    },
    {
      "cell_type": "code",
      "source": [
        "speed = torch.rand(12,1)\n",
        "speed.shape"
      ],
      "metadata": {
        "colab": {
          "base_uri": "https://localhost:8080/"
        },
        "id": "R3XTTgIsl75r",
        "outputId": "af7269de-7e51-48e5-ae18-62e1fec796b1"
      },
      "id": "R3XTTgIsl75r",
      "execution_count": null,
      "outputs": [
        {
          "output_type": "execute_result",
          "data": {
            "text/plain": [
              "torch.Size([12, 1])"
            ]
          },
          "metadata": {},
          "execution_count": 33
        }
      ]
    },
    {
      "cell_type": "code",
      "source": [
        "defence = torch.randint(10,51, (12,1))\n",
        "defence"
      ],
      "metadata": {
        "colab": {
          "base_uri": "https://localhost:8080/"
        },
        "id": "zAT67I7AmW7J",
        "outputId": "90599907-640f-48f2-f3d8-27314b14a1e0"
      },
      "id": "zAT67I7AmW7J",
      "execution_count": null,
      "outputs": [
        {
          "output_type": "execute_result",
          "data": {
            "text/plain": [
              "tensor([[38],\n",
              "        [23],\n",
              "        [11],\n",
              "        [39],\n",
              "        [30],\n",
              "        [17],\n",
              "        [34],\n",
              "        [16],\n",
              "        [15],\n",
              "        [37],\n",
              "        [15],\n",
              "        [27]])"
            ]
          },
          "metadata": {},
          "execution_count": 9
        }
      ]
    },
    {
      "cell_type": "code",
      "source": [
        "torch.stack((attack,hp,speed,defence)).squeeze().T"
      ],
      "metadata": {
        "colab": {
          "base_uri": "https://localhost:8080/"
        },
        "id": "FzzbRta2mirK",
        "outputId": "81b6877d-5ed8-4c67-91dc-f65074f039e3"
      },
      "id": "FzzbRta2mirK",
      "execution_count": null,
      "outputs": [
        {
          "output_type": "execute_result",
          "data": {
            "text/plain": [
              "tensor([[   60.0000,     9.0000,     0.3849,    38.0000],\n",
              "        [   60.0000,     8.0000,     0.2400,    23.0000],\n",
              "        [   40.0000,     9.0000,     0.7265,    11.0000],\n",
              "        [   30.0000,     4.0000,     0.5399,    39.0000],\n",
              "        [   10.0000,     4.0000,     0.3252,    30.0000],\n",
              "        [   50.0000,     3.0000,     0.0911,    17.0000],\n",
              "        [  100.0000,     2.0000,     0.9549,    34.0000],\n",
              "        [   50.0000,    10.0000,     0.1612,    16.0000],\n",
              "        [   90.0000,     2.0000,     0.3955,    15.0000],\n",
              "        [   30.0000,     6.0000,     0.6182,    37.0000],\n",
              "        [   90.0000,     2.0000,     0.8946,    15.0000],\n",
              "        [   30.0000,     3.0000,     0.4321,    27.0000]])"
            ]
          },
          "metadata": {},
          "execution_count": 12
        }
      ]
    },
    {
      "cell_type": "code",
      "source": [
        "torch.stack((attack,hp,speed,defence)).squeeze()"
      ],
      "metadata": {
        "colab": {
          "base_uri": "https://localhost:8080/"
        },
        "id": "rfyDh4igm6Oy",
        "outputId": "a77359c9-ea52-46ab-a008-7bb0b85efdd7"
      },
      "id": "rfyDh4igm6Oy",
      "execution_count": null,
      "outputs": [
        {
          "output_type": "execute_result",
          "data": {
            "text/plain": [
              "tensor([[   60.0000,    60.0000,    40.0000,    30.0000,    10.0000,    50.0000,\n",
              "           100.0000,    50.0000,    90.0000,    30.0000,    90.0000,    30.0000],\n",
              "        [    9.0000,     8.0000,     9.0000,     4.0000,     4.0000,     3.0000,\n",
              "             2.0000,    10.0000,     2.0000,     6.0000,     2.0000,     3.0000],\n",
              "        [    0.3849,     0.2400,     0.7265,     0.5399,     0.3252,     0.0911,\n",
              "             0.9549,     0.1612,     0.3955,     0.6182,     0.8946,     0.4321],\n",
              "        [   38.0000,    23.0000,    11.0000,    39.0000,    30.0000,    17.0000,\n",
              "            34.0000,    16.0000,    15.0000,    37.0000,    15.0000,    27.0000]])"
            ]
          },
          "metadata": {},
          "execution_count": 13
        }
      ]
    },
    {
      "cell_type": "code",
      "source": [
        "torch.stack((attack,hp,speed,defence)).shape"
      ],
      "metadata": {
        "colab": {
          "base_uri": "https://localhost:8080/"
        },
        "id": "lzDaIrd4nfsC",
        "outputId": "b10a6a57-d512-4492-b025-eca821a3d950"
      },
      "id": "lzDaIrd4nfsC",
      "execution_count": null,
      "outputs": [
        {
          "output_type": "execute_result",
          "data": {
            "text/plain": [
              "torch.Size([4, 12, 1])"
            ]
          },
          "metadata": {},
          "execution_count": 16
        }
      ]
    },
    {
      "cell_type": "code",
      "source": [
        "#דרך אחרת לסדר\n",
        "torch.stack((attack,hp,speed,defence)).reshape(4,12).T"
      ],
      "metadata": {
        "colab": {
          "base_uri": "https://localhost:8080/"
        },
        "id": "3MFuBLuknhip",
        "outputId": "9542657e-a717-40c7-eb2a-2a431678adf6"
      },
      "id": "3MFuBLuknhip",
      "execution_count": null,
      "outputs": [
        {
          "output_type": "execute_result",
          "data": {
            "text/plain": [
              "tensor([[   60.0000,     9.0000,     0.3849,    38.0000],\n",
              "        [   60.0000,     8.0000,     0.2400,    23.0000],\n",
              "        [   40.0000,     9.0000,     0.7265,    11.0000],\n",
              "        [   30.0000,     4.0000,     0.5399,    39.0000],\n",
              "        [   10.0000,     4.0000,     0.3252,    30.0000],\n",
              "        [   50.0000,     3.0000,     0.0911,    17.0000],\n",
              "        [  100.0000,     2.0000,     0.9549,    34.0000],\n",
              "        [   50.0000,    10.0000,     0.1612,    16.0000],\n",
              "        [   90.0000,     2.0000,     0.3955,    15.0000],\n",
              "        [   30.0000,     6.0000,     0.6182,    37.0000],\n",
              "        [   90.0000,     2.0000,     0.8946,    15.0000],\n",
              "        [   30.0000,     3.0000,     0.4321,    27.0000]])"
            ]
          },
          "metadata": {},
          "execution_count": 26
        }
      ]
    },
    {
      "cell_type": "code",
      "source": [
        "# עוד דרך\n",
        "torch.stack((attack,hp,speed,defence)).squeeze().permute(1,0)"
      ],
      "metadata": {
        "colab": {
          "base_uri": "https://localhost:8080/"
        },
        "id": "VZI950ZCobCi",
        "outputId": "fbbc2bb6-51d9-4805-cd4f-b6c7501f8ee0"
      },
      "id": "VZI950ZCobCi",
      "execution_count": null,
      "outputs": [
        {
          "output_type": "execute_result",
          "data": {
            "text/plain": [
              "tensor([[   60.0000,     9.0000,     0.3849,    38.0000],\n",
              "        [   60.0000,     8.0000,     0.2400,    23.0000],\n",
              "        [   40.0000,     9.0000,     0.7265,    11.0000],\n",
              "        [   30.0000,     4.0000,     0.5399,    39.0000],\n",
              "        [   10.0000,     4.0000,     0.3252,    30.0000],\n",
              "        [   50.0000,     3.0000,     0.0911,    17.0000],\n",
              "        [  100.0000,     2.0000,     0.9549,    34.0000],\n",
              "        [   50.0000,    10.0000,     0.1612,    16.0000],\n",
              "        [   90.0000,     2.0000,     0.3955,    15.0000],\n",
              "        [   30.0000,     6.0000,     0.6182,    37.0000],\n",
              "        [   90.0000,     2.0000,     0.8946,    15.0000],\n",
              "        [   30.0000,     3.0000,     0.4321,    27.0000]])"
            ]
          },
          "metadata": {},
          "execution_count": 29
        }
      ]
    },
    {
      "cell_type": "code",
      "source": [
        "pokemon_data = torch.cat((attack,hp,speed,defence),dim =1)"
      ],
      "metadata": {
        "id": "wZHPRF6rpkOa"
      },
      "id": "wZHPRF6rpkOa",
      "execution_count": null,
      "outputs": []
    },
    {
      "cell_type": "code",
      "source": [
        "pokemon_data.shape"
      ],
      "metadata": {
        "colab": {
          "base_uri": "https://localhost:8080/"
        },
        "id": "iOSuaxOnqHuq",
        "outputId": "8e1feee8-173b-41f3-816b-cf93cda87446"
      },
      "id": "iOSuaxOnqHuq",
      "execution_count": null,
      "outputs": [
        {
          "output_type": "execute_result",
          "data": {
            "text/plain": [
              "torch.Size([12, 4])"
            ]
          },
          "metadata": {},
          "execution_count": 39
        }
      ]
    },
    {
      "cell_type": "code",
      "source": [
        "pokemon_data.sum(dim=0)"
      ],
      "metadata": {
        "colab": {
          "base_uri": "https://localhost:8080/"
        },
        "id": "p9Ng4vQCrHxb",
        "outputId": "d6be7048-7732-4a7b-f80c-d125357a9905"
      },
      "id": "p9Ng4vQCrHxb",
      "execution_count": null,
      "outputs": [
        {
          "output_type": "execute_result",
          "data": {
            "text/plain": [
              "tensor([640.0000,  62.0000,   5.7640, 302.0000])"
            ]
          },
          "metadata": {},
          "execution_count": 40
        }
      ]
    },
    {
      "cell_type": "code",
      "source": [
        "pokemon_data.sum(dim=1)"
      ],
      "metadata": {
        "colab": {
          "base_uri": "https://localhost:8080/"
        },
        "id": "npYJwki5r0Xj",
        "outputId": "bdf056e2-6822-409e-c6f2-33af8bbe2e27"
      },
      "id": "npYJwki5r0Xj",
      "execution_count": null,
      "outputs": [
        {
          "output_type": "execute_result",
          "data": {
            "text/plain": [
              "tensor([107.3849,  91.2400,  60.7265,  73.5399,  44.3252,  70.0911, 136.9549,\n",
              "         76.1612, 107.3955,  73.6182, 107.8946,  60.4321])"
            ]
          },
          "metadata": {},
          "execution_count": 41
        }
      ]
    },
    {
      "cell_type": "code",
      "source": [
        "pokemon_groups = pokemon_data.reshape(4,3,4)"
      ],
      "metadata": {
        "id": "E3Ar39RrsNv6"
      },
      "id": "E3Ar39RrsNv6",
      "execution_count": null,
      "outputs": []
    },
    {
      "cell_type": "code",
      "source": [
        "pokemon_groups"
      ],
      "metadata": {
        "colab": {
          "base_uri": "https://localhost:8080/"
        },
        "id": "ccl0BfMItDfa",
        "outputId": "a1697812-2c77-45aa-b396-9d17c6067bbd"
      },
      "id": "ccl0BfMItDfa",
      "execution_count": null,
      "outputs": [
        {
          "output_type": "execute_result",
          "data": {
            "text/plain": [
              "tensor([[[   60.0000,     9.0000,     0.3849,    38.0000],\n",
              "         [   60.0000,     8.0000,     0.2400,    23.0000],\n",
              "         [   40.0000,     9.0000,     0.7265,    11.0000]],\n",
              "\n",
              "        [[   30.0000,     4.0000,     0.5399,    39.0000],\n",
              "         [   10.0000,     4.0000,     0.3252,    30.0000],\n",
              "         [   50.0000,     3.0000,     0.0911,    17.0000]],\n",
              "\n",
              "        [[  100.0000,     2.0000,     0.9549,    34.0000],\n",
              "         [   50.0000,    10.0000,     0.1612,    16.0000],\n",
              "         [   90.0000,     2.0000,     0.3955,    15.0000]],\n",
              "\n",
              "        [[   30.0000,     6.0000,     0.6182,    37.0000],\n",
              "         [   90.0000,     2.0000,     0.8946,    15.0000],\n",
              "         [   30.0000,     3.0000,     0.4321,    27.0000]]])"
            ]
          },
          "metadata": {},
          "execution_count": 44
        }
      ]
    },
    {
      "cell_type": "code",
      "source": [
        "#new_pokemon_data\n",
        "new_attack  = torch.randint (1,11, (4,1))*10\n",
        "new_hp=  torch.randint (1,11, (4,1))\n",
        "new_speed = torch.rand(4,1)\n",
        "new_defence = torch.randint(10,51, (4,1))\n",
        "\n",
        "new_pokemon_data  =torch.stack((new_attack,new_hp, new_speed, new_defence)).squeeze().T"
      ],
      "metadata": {
        "id": "mn5O2I0KtWrb"
      },
      "id": "mn5O2I0KtWrb",
      "execution_count": null,
      "outputs": []
    },
    {
      "cell_type": "code",
      "source": [
        "expended_data= torch.row_stack((pokemon_data, new_pokemon_data))"
      ],
      "metadata": {
        "id": "1AtBP7KkucuD"
      },
      "id": "1AtBP7KkucuD",
      "execution_count": null,
      "outputs": []
    },
    {
      "cell_type": "code",
      "source": [
        "#torch.stack((pokemon_data, new_pokemon_data)).reshape(-1,4)"
      ],
      "metadata": {
        "id": "KN2opksmuvEL"
      },
      "id": "KN2opksmuvEL",
      "execution_count": null,
      "outputs": []
    },
    {
      "cell_type": "code",
      "source": [
        "expended_data.shape"
      ],
      "metadata": {
        "colab": {
          "base_uri": "https://localhost:8080/"
        },
        "id": "QFvEZlaavOpz",
        "outputId": "da90c7a9-567e-413c-9434-ce912463e2a4"
      },
      "id": "QFvEZlaavOpz",
      "execution_count": null,
      "outputs": [
        {
          "output_type": "execute_result",
          "data": {
            "text/plain": [
              "torch.Size([16, 4])"
            ]
          },
          "metadata": {},
          "execution_count": 59
        }
      ]
    },
    {
      "cell_type": "code",
      "source": [
        "attack_matrix= torch.rand(4,2) # 4 תכונות לכל פוקימון ושני קרבות לכל אחד מהם"
      ],
      "metadata": {
        "id": "KwX6Gedsvfvr"
      },
      "id": "KwX6Gedsvfvr",
      "execution_count": null,
      "outputs": []
    },
    {
      "cell_type": "code",
      "source": [
        "battle_result = torch.matmul (pokemon_data , attack_matrix)\n",
        "battle_result"
      ],
      "metadata": {
        "colab": {
          "base_uri": "https://localhost:8080/"
        },
        "id": "me7uXGj9wdLf",
        "outputId": "f9d7cac2-0e08-451c-dae7-94b9df09e8f2"
      },
      "id": "me7uXGj9wdLf",
      "execution_count": null,
      "outputs": [
        {
          "output_type": "execute_result",
          "data": {
            "text/plain": [
              "tensor([[ 88.0965,  94.7647],\n",
              "        [ 74.8665,  79.5142],\n",
              "        [ 46.5929,  52.1382],\n",
              "        [ 61.5761,  66.4615],\n",
              "        [ 35.6438,  40.5840],\n",
              "        [ 60.1553,  61.3104],\n",
              "        [120.1873, 120.2663],\n",
              "        [ 59.8933,  65.7231],\n",
              "        [ 94.4270,  93.0443],\n",
              "        [ 60.0198,  66.1318],\n",
              "        [ 94.5659,  93.4829],\n",
              "        [ 50.9774,  54.1166]])"
            ]
          },
          "metadata": {},
          "execution_count": 61
        }
      ]
    },
    {
      "cell_type": "code",
      "source": [
        "battle_result.min()"
      ],
      "metadata": {
        "colab": {
          "base_uri": "https://localhost:8080/"
        },
        "id": "UQaOvmXLw9S7",
        "outputId": "9eb4d5a9-bd7c-4ea7-8203-38a9a4cefa8e"
      },
      "id": "UQaOvmXLw9S7",
      "execution_count": null,
      "outputs": [
        {
          "output_type": "execute_result",
          "data": {
            "text/plain": [
              "tensor(35.6438)"
            ]
          },
          "metadata": {},
          "execution_count": 62
        }
      ]
    },
    {
      "cell_type": "code",
      "source": [
        "battle_result.max()-battle_result.min()"
      ],
      "metadata": {
        "colab": {
          "base_uri": "https://localhost:8080/"
        },
        "id": "-6lFNw6lxzUT",
        "outputId": "f2c95fd0-acfa-4749-e4ff-407daf36a458"
      },
      "id": "-6lFNw6lxzUT",
      "execution_count": null,
      "outputs": [
        {
          "output_type": "execute_result",
          "data": {
            "text/plain": [
              "tensor(84.6225)"
            ]
          },
          "metadata": {},
          "execution_count": 64
        }
      ]
    },
    {
      "cell_type": "code",
      "source": [
        "pokemon_data.mean(dim =0)"
      ],
      "metadata": {
        "colab": {
          "base_uri": "https://localhost:8080/"
        },
        "id": "0Ptka_9Ix90D",
        "outputId": "94b9ef59-cf76-4fbf-926e-fdeb8841ebec"
      },
      "id": "0Ptka_9Ix90D",
      "execution_count": null,
      "outputs": [
        {
          "output_type": "execute_result",
          "data": {
            "text/plain": [
              "tensor([53.3333,  5.1667,  0.4803, 25.1667])"
            ]
          },
          "metadata": {},
          "execution_count": 65
        }
      ]
    },
    {
      "cell_type": "code",
      "source": [
        "pokemon_data.mean(dim =1)"
      ],
      "metadata": {
        "colab": {
          "base_uri": "https://localhost:8080/"
        },
        "id": "RxJz-a2dynM9",
        "outputId": "ad2341fe-10c2-452c-9706-7e4a5e0d8c89"
      },
      "id": "RxJz-a2dynM9",
      "execution_count": null,
      "outputs": [
        {
          "output_type": "execute_result",
          "data": {
            "text/plain": [
              "tensor([26.8462, 22.8100, 15.1816, 18.3850, 11.0813, 17.5228, 34.2387, 19.0403,\n",
              "        26.8489, 18.4046, 26.9736, 15.1080])"
            ]
          },
          "metadata": {},
          "execution_count": 66
        }
      ]
    },
    {
      "cell_type": "code",
      "source": [
        "grad_tensor = torch.tensor(pokemon_data, requires_grad=True)"
      ],
      "metadata": {
        "colab": {
          "base_uri": "https://localhost:8080/"
        },
        "id": "MEAovoMryrnj",
        "outputId": "5ce2abda-3c6d-402d-fc01-2ffed13291cc"
      },
      "id": "MEAovoMryrnj",
      "execution_count": null,
      "outputs": [
        {
          "output_type": "stream",
          "name": "stderr",
          "text": [
            "<ipython-input-67-035882dd9737>:1: UserWarning: To copy construct from a tensor, it is recommended to use sourceTensor.clone().detach() or sourceTensor.clone().detach().requires_grad_(True), rather than torch.tensor(sourceTensor).\n",
            "  grad_tensor = torch.tensor(pokemon_data, requires_grad=True)\n"
          ]
        }
      ]
    },
    {
      "cell_type": "code",
      "source": [
        "grad_tensor = pokemon_data.clone().detach().requires_grad_(True)"
      ],
      "metadata": {
        "id": "TSRxHMLTzWbD"
      },
      "id": "TSRxHMLTzWbD",
      "execution_count": null,
      "outputs": []
    },
    {
      "cell_type": "code",
      "source": [
        "power_func = ((grad_tensor **2)-100).mean()"
      ],
      "metadata": {
        "id": "1-D85hYjzv5M"
      },
      "id": "1-D85hYjzv5M",
      "execution_count": null,
      "outputs": []
    },
    {
      "cell_type": "code",
      "source": [
        "power_func.backward()"
      ],
      "metadata": {
        "id": "F4DRypWh0XnL"
      },
      "id": "F4DRypWh0XnL",
      "execution_count": null,
      "outputs": []
    },
    {
      "cell_type": "code",
      "source": [
        "grad_tensor.grad"
      ],
      "metadata": {
        "colab": {
          "base_uri": "https://localhost:8080/"
        },
        "id": "JSIi5LGq0aaz",
        "outputId": "af15db2b-e600-473d-b9b2-bafba46b81a5"
      },
      "id": "JSIi5LGq0aaz",
      "execution_count": null,
      "outputs": [
        {
          "output_type": "execute_result",
          "data": {
            "text/plain": [
              "tensor([[    2.5000,     0.3750,     0.0160,     1.5833],\n",
              "        [    2.5000,     0.3333,     0.0100,     0.9583],\n",
              "        [    1.6667,     0.3750,     0.0303,     0.4583],\n",
              "        [    1.2500,     0.1667,     0.0225,     1.6250],\n",
              "        [    0.4167,     0.1667,     0.0136,     1.2500],\n",
              "        [    2.0833,     0.1250,     0.0038,     0.7083],\n",
              "        [    4.1667,     0.0833,     0.0398,     1.4167],\n",
              "        [    2.0833,     0.4167,     0.0067,     0.6667],\n",
              "        [    3.7500,     0.0833,     0.0165,     0.6250],\n",
              "        [    1.2500,     0.2500,     0.0258,     1.5417],\n",
              "        [    3.7500,     0.0833,     0.0373,     0.6250],\n",
              "        [    1.2500,     0.1250,     0.0180,     1.1250]])"
            ]
          },
          "metadata": {},
          "execution_count": 71
        }
      ]
    },
    {
      "cell_type": "code",
      "source": [],
      "metadata": {
        "id": "k1JGPcca0dMb"
      },
      "id": "k1JGPcca0dMb",
      "execution_count": null,
      "outputs": []
    }
  ],
  "metadata": {
    "kernelspec": {
      "display_name": "Python 3",
      "name": "python3"
    },
    "language_info": {
      "codemirror_mode": {
        "name": "ipython",
        "version": 3
      },
      "file_extension": ".py",
      "mimetype": "text/x-python",
      "name": "python",
      "nbconvert_exporter": "python",
      "pygments_lexer": "ipython3",
      "version": "3.12.2"
    },
    "colab": {
      "provenance": [],
      "gpuType": "T4"
    },
    "accelerator": "GPU"
  },
  "nbformat": 4,
  "nbformat_minor": 5
}