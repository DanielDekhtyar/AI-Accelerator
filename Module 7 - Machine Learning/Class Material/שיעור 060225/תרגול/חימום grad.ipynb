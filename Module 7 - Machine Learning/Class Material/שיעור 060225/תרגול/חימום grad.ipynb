{
 "cells": [
  {
   "cell_type": "code",
   "execution_count": null,
   "id": "b4057cb9-e132-4500-b85b-99638c26e07a",
   "metadata": {},
   "outputs": [],
   "source": [
    "import torch\n",
    "import numpy as np"
   ]
  },
  {
   "cell_type": "code",
   "execution_count": null,
   "id": "870e7edd-bb2b-4338-a358-76898ff9a119",
   "metadata": {},
   "outputs": [],
   "source": [
    "x = torch.tensor(4.0, requires_grad =True)\n",
    "y = 2*(x**3)+2*x+1"
   ]
  },
  {
   "cell_type": "markdown",
   "id": "a49491d9-b50c-4f3e-98e4-60ed6d45c517",
   "metadata": {},
   "source": [
    "יש את  איקס ואת וואי\n",
    "- מי המשתנה הבלתי תלוי? מי המשתנה הבלתי תלוי?"
   ]
  },
  {
   "cell_type": "code",
   "execution_count": null,
   "id": "46e89c9c-0c09-4884-8f6c-571116770246",
   "metadata": {},
   "outputs": [],
   "source": [
    "#print out the output of y\n"
   ]
  },
  {
   "cell_type": "code",
   "execution_count": null,
   "id": "bc1dbb3d-60a8-4658-ac5f-b87fbbd71c14",
   "metadata": {},
   "outputs": [],
   "source": [
    "# create a derivative to y\n"
   ]
  },
  {
   "cell_type": "code",
   "execution_count": null,
   "id": "af5e8269-f31f-4a19-89df-5cb350fd724c",
   "metadata": {},
   "outputs": [],
   "source": [
    "# what is the slope (נגזרת) of y at the point x is at?\n"
   ]
  },
  {
   "cell_type": "code",
   "execution_count": null,
   "id": "7866b8f0-5caa-4a2c-a320-6c8768256b9f",
   "metadata": {},
   "outputs": [],
   "source": [
    "# look at the printed output, what hapend ? why is the derivative wrong?\n",
    "#can you fix it?\n",
    "a = torch.tensor(1.0, requires_grad =True)\n",
    "\n",
    "for epoch in range(3):\n",
    "    \n",
    "    b = a**2\n",
    "    b.backward()\n",
    "    print (f\"epoch{epoch+1}- {a.grad}\")\n",
    "    #fix here"
   ]
  },
  {
   "cell_type": "code",
   "execution_count": null,
   "id": "b7db7c11-9ff5-48ee-988d-88449dc254f4",
   "metadata": {},
   "outputs": [],
   "source": [
    "a = torch.tensor(1.0, requires_grad =True)\n",
    "\n",
    "for epoch in range(3):\n",
    "\n",
    "    b = a**2\n",
    "    b.backward()\n",
    "    print (f\"epoch{epoch+1}- {a.grad}\")\n",
    "    #fix here"
   ]
  },
  {
   "cell_type": "code",
   "execution_count": null,
   "id": "75c254c9-fcac-4c17-a014-b11541b5aba7",
   "metadata": {},
   "outputs": [],
   "source": []
  }
 ],
 "metadata": {
  "kernelspec": {
   "display_name": "Python 3 (ipykernel)",
   "language": "python",
   "name": "python3"
  },
  "language_info": {
   "codemirror_mode": {
    "name": "ipython",
    "version": 3
   },
   "file_extension": ".py",
   "mimetype": "text/x-python",
   "name": "python",
   "nbconvert_exporter": "python",
   "pygments_lexer": "ipython3",
   "version": "3.12.2"
  }
 },
 "nbformat": 4,
 "nbformat_minor": 5
}
