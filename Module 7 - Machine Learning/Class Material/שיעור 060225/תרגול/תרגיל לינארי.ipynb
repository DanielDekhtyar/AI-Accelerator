{
 "cells": [
  {
   "cell_type": "code",
   "execution_count": null,
   "id": "3ce1432a-66ca-4dab-9b9c-581d6e702e16",
   "metadata": {},
   "outputs": [],
   "source": [
    "import pandas as pd\n",
    "import torch\n",
    "import torch.nn as nn #NEW!!✨\n",
    "import torch.optim as optim #NEW!!✨\n",
    "from sklearn.model_selection import train_test_split\n",
    "from sklearn.preprocessing import StandardScaler\n",
    "import matplotlib.pyplot as plt"
   ]
  },
  {
   "cell_type": "code",
   "execution_count": null,
   "id": "53e88ce1-5a40-46d6-a430-93ba2d6d1631",
   "metadata": {},
   "outputs": [],
   "source": [
    "# Step 1: Data Creation and Exploration\n",
    "# Generating synthetic data: House Prices vs. Size (in sq. ft.)\n",
    "data = {'Size': [i*100 for i in range(5, 51)], \n",
    "        'Price': [50000 + 3000*size + 25000*torch.randn(1).item() for size in range(5, 51)]}\n",
    "house_data = pd.DataFrame(data)"
   ]
  },
  {
   "cell_type": "code",
   "execution_count": null,
   "id": "c4daca8c-df20-4560-8e19-b5ff7b32bc2a",
   "metadata": {},
   "outputs": [],
   "source": [
    "# Visualize 🏠📏💵 relationship\n",
    "plt.scatter(house_data['Size'], house_data['Price'])\n",
    "plt.xlabel('Size (in sq. ft.)')\n",
    "plt.ylabel('House Price')\n",
    "plt.title('House Price vs. Size')\n",
    "plt.show()"
   ]
  },
  {
   "cell_type": "code",
   "execution_count": null,
   "id": "2b331da7-c4d3-429d-9da6-92257b8056a0",
   "metadata": {},
   "outputs": [],
   "source": [
    "# Step 2: Preprocessing"
   ]
  },
  {
   "cell_type": "code",
   "execution_count": null,
   "id": "8e232f13-8360-4ea0-90e6-d720535ea933",
   "metadata": {},
   "outputs": [],
   "source": [
    "# Step 3: Model Building"
   ]
  },
  {
   "cell_type": "code",
   "execution_count": null,
   "id": "8a2faee7-e5cc-4b7d-b0aa-c91f8c17b03e",
   "metadata": {},
   "outputs": [],
   "source": [
    "# Step 4: Model Training"
   ]
  },
  {
   "cell_type": "code",
   "execution_count": null,
   "id": "8701b3b5-a12b-4334-92a1-ef97546e5d85",
   "metadata": {},
   "outputs": [],
   "source": [
    "# Step 5: Model Evaluation\n",
    "# Evaluate on test data"
   ]
  },
  {
   "cell_type": "code",
   "execution_count": null,
   "id": "803110be-5fbd-4cd0-8e8e-689691ef34d7",
   "metadata": {},
   "outputs": [],
   "source": [
    "#if you have time..  plot the cost reduction"
   ]
  }
 ],
 "metadata": {
  "kernelspec": {
   "display_name": "Python 3 (ipykernel)",
   "language": "python",
   "name": "python3"
  },
  "language_info": {
   "codemirror_mode": {
    "name": "ipython",
    "version": 3
   },
   "file_extension": ".py",
   "mimetype": "text/x-python",
   "name": "python",
   "nbconvert_exporter": "python",
   "pygments_lexer": "ipython3",
   "version": "3.12.2"
  }
 },
 "nbformat": 4,
 "nbformat_minor": 5
}
