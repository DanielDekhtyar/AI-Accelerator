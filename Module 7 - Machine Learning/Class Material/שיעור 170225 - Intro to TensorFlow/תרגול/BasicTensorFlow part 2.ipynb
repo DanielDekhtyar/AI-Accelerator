{
 "cells": [
  {
   "cell_type": "code",
   "execution_count": null,
   "id": "d6cecd7c-d454-4345-9c6d-22060c273b45",
   "metadata": {},
   "outputs": [],
   "source": [
    "import tensorflow as tf\n",
    "import numpy as np"
   ]
  },
  {
   "cell_type": "markdown",
   "id": "1e892ceb-987a-4746-990b-f5f4d06a6392",
   "metadata": {},
   "source": [
    "#### Task 1   \n",
    "Kadabra the magnificent magician wants to guess which card was chosen from a deck. Create a tensor with numbers from 1 to 52, where each number represents a different card in the deck.\n",
    "\n",
    "Then, write code to shuffle the deck and print the top card.\n",
    "\n"
   ]
  },
  {
   "cell_type": "code",
   "execution_count": null,
   "id": "9c740c58-ccc0-4e24-b689-7172acb53dad",
   "metadata": {},
   "outputs": [],
   "source": []
  },
  {
   "cell_type": "markdown",
   "id": "fd80d013-24ae-46de-8ddf-909a8539e1f7",
   "metadata": {},
   "source": [
    "Kadabra was surprised to discover he has no magical powers. He wants to pretand shuffle so that it looks like he is picking a random card, but in reality, it will always be the same card. Help him create suitable code."
   ]
  },
  {
   "cell_type": "code",
   "execution_count": null,
   "id": "162aba0a-3104-4d73-b055-34641b0470e8",
   "metadata": {},
   "outputs": [],
   "source": []
  },
  {
   "cell_type": "markdown",
   "id": "7fac8df0-b3a4-449a-bb5c-1913c888085e",
   "metadata": {},
   "source": [
    "#### Task 2    \n",
    "A futuristic restaurant has introduced an AI-powered robot waiter. The robot needs to classify food orders into 5 categories to prepare and serve meals efficiently. However, the system requires the data to be represented numerically before the robot can process it.\n",
    "\n",
    "Create a Food Orders Tensor\n",
    "Create a tensor named food_orders that contains an equal distribution of the 5 food categories. The total number of food items should 30."
   ]
  },
  {
   "cell_type": "code",
   "execution_count": null,
   "id": "31990a0d-00dc-4599-a7b0-fee387845b63",
   "metadata": {},
   "outputs": [],
   "source": []
  },
  {
   "cell_type": "markdown",
   "id": "99a6025e-7279-4849-892e-e5836e21ff09",
   "metadata": {},
   "source": [
    "Unfotunatly, this robot can only read ones and zeros...\n",
    "Convert your food_orders tensor into a form that allows the robot to distinguish the food types using the minimum number of unique values needed while still keeping all the category information.\n"
   ]
  },
  {
   "cell_type": "code",
   "execution_count": null,
   "id": "6fd193f7-6350-493d-8020-a511a3e4642d",
   "metadata": {},
   "outputs": [],
   "source": []
  },
  {
   "cell_type": "markdown",
   "id": "36033716-3010-4ea7-9af5-d9886d8f0988",
   "metadata": {},
   "source": [
    "#### Task 3\n",
    "התעמלות לחשיבה סטטיסטית:  \n",
    "- צרו משתנה טנסור עם אלף מספרים רנדומלים עם התפלגות נורמלית\n",
    "- תחשבו על דרך ליצור טנסור שני שיש בו סתם 1000 מספרים רנדומלים שלמים בין אפס לאלף\n",
    "- צרו  טנסור שהוא סכומי שני הטנסורים הנל, ומשתנה שהוא מכפלות שלהם\n",
    "- צרו 3 היסטוגרמות שמראות את ההתפלגות בטסורהנורמלי, בטנסור החיבורובטנסור ההכפלה.- האם התוצאות הן כפי שציפיתם? האם אתם יותדעים להסביר מדוע התוצאות נראות כפי שהן נראות?"
   ]
  },
  {
   "cell_type": "code",
   "execution_count": null,
   "id": "6415b33c-dfe4-418c-8977-5aa595e5b81d",
   "metadata": {},
   "outputs": [],
   "source": []
  },
  {
   "cell_type": "code",
   "execution_count": null,
   "id": "a2da00a5-7f90-4210-a7b9-6be96a4ed5f9",
   "metadata": {},
   "outputs": [],
   "source": []
  },
  {
   "cell_type": "code",
   "execution_count": null,
   "id": "52a0f589-9d08-499c-a09c-d25afa744b4f",
   "metadata": {},
   "outputs": [],
   "source": []
  }
 ],
 "metadata": {
  "kernelspec": {
   "display_name": "Python 3 (ipykernel)",
   "language": "python",
   "name": "python3"
  },
  "language_info": {
   "codemirror_mode": {
    "name": "ipython",
    "version": 3
   },
   "file_extension": ".py",
   "mimetype": "text/x-python",
   "name": "python",
   "nbconvert_exporter": "python",
   "pygments_lexer": "ipython3",
   "version": "3.12.2"
  }
 },
 "nbformat": 4,
 "nbformat_minor": 5
}
