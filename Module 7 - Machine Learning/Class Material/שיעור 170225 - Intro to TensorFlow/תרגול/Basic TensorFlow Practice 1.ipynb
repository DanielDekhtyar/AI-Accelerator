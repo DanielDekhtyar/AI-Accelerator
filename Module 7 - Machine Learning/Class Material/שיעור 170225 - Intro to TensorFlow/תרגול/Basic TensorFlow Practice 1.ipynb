{
 "cells": [
  {
   "cell_type": "code",
   "execution_count": null,
   "id": "51271651-8927-48e6-9001-e0a68a01032a",
   "metadata": {},
   "outputs": [],
   "source": [
    "import tensorflow as tf\n",
    "import numpy as np"
   ]
  },
  {
   "cell_type": "code",
   "execution_count": null,
   "id": "81e92601-99e9-4601-b873-6c50045bd769",
   "metadata": {},
   "outputs": [],
   "source": [
    "# Create a scalar\n",
    "\n",
    "# Create a vector\n",
    "\n",
    "# Create a matrix\n",
    "\n",
    "# Create a tensor\n",
    "\n",
    "# Create a tensor from a Numpy array\n",
    "\n",
    "# Create a rank 2 tensor of ones using TensorFlow\n",
    "\n",
    "# Create a rank 4 tensor of zeros using TensorFlow\n"
   ]
  },
  {
   "cell_type": "markdown",
   "id": "14ea3599-34ba-4909-bd3b-e4fa6a05fa61",
   "metadata": {},
   "source": [
    " a shop has 3 types of gum\n",
    " |cherry|bazocca|extra-sour|           |\n",
    " |------|-------|----------|-----------|\n",
    " |1.00  |0.50   |0.75      |#prices    |\n",
    " | 30   | 20    | 40       |# qnt sold |\n",
    "\n",
    " - create a numpy array that reflects the prices and another to reflect the quantety sold\n",
    " - convert the arrays to tensorflow tensors\n",
    " - create a `sales_per_prod` tensor that has the total amount for each gum type\n",
    " - create a tensor `total_sales` that reflects... the total sales. calculate it\n",
    " - what are the shape and rank of `total_sales`and of `sales_per_prod`\n",
    " "
   ]
  },
  {
   "cell_type": "code",
   "execution_count": null,
   "id": "41cf54e1-c53e-4808-b8e6-c98202375471",
   "metadata": {},
   "outputs": [],
   "source": []
  },
  {
   "cell_type": "code",
   "execution_count": null,
   "id": "2fb44804-b23f-46b3-84c0-f785df502164",
   "metadata": {},
   "outputs": [],
   "source": []
  },
  {
   "cell_type": "code",
   "execution_count": null,
   "id": "af207a8d-168c-4726-9b2e-8d7217a28270",
   "metadata": {},
   "outputs": [],
   "source": []
  },
  {
   "cell_type": "code",
   "execution_count": null,
   "id": "e8752817-493a-4137-a016-920ac5d2b651",
   "metadata": {},
   "outputs": [],
   "source": []
  },
  {
   "cell_type": "code",
   "execution_count": null,
   "id": "8a612dc9-a15c-42cd-ab28-1f7c158233d8",
   "metadata": {},
   "outputs": [],
   "source": []
  },
  {
   "cell_type": "code",
   "execution_count": null,
   "id": "934a11ca-01ee-441f-8d37-6ccbee6e43d5",
   "metadata": {},
   "outputs": [],
   "source": []
  }
 ],
 "metadata": {
  "kernelspec": {
   "display_name": "Python 3 (ipykernel)",
   "language": "python",
   "name": "python3"
  },
  "language_info": {
   "codemirror_mode": {
    "name": "ipython",
    "version": 3
   },
   "file_extension": ".py",
   "mimetype": "text/x-python",
   "name": "python",
   "nbconvert_exporter": "python",
   "pygments_lexer": "ipython3",
   "version": "3.12.2"
  }
 },
 "nbformat": 4,
 "nbformat_minor": 5
}
