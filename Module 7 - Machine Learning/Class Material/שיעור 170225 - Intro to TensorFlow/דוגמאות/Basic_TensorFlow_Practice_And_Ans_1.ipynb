{
  "cells": [
    {
      "cell_type": "code",
      "execution_count": 1,
      "id": "51271651-8927-48e6-9001-e0a68a01032a",
      "metadata": {
        "id": "51271651-8927-48e6-9001-e0a68a01032a"
      },
      "outputs": [],
      "source": [
        "import tensorflow as tf\n",
        "import numpy as np"
      ]
    },
    {
      "cell_type": "code",
      "execution_count": 4,
      "id": "81e92601-99e9-4601-b873-6c50045bd769",
      "metadata": {
        "colab": {
          "base_uri": "https://localhost:8080/"
        },
        "id": "81e92601-99e9-4601-b873-6c50045bd769",
        "outputId": "a7f00d23-ab48-4e6c-8d56-caa63457cd9e"
      },
      "outputs": [
        {
          "output_type": "execute_result",
          "data": {
            "text/plain": [
              "0"
            ]
          },
          "metadata": {},
          "execution_count": 4
        }
      ],
      "source": [
        "# Create a scalar\n",
        "scalar = tf.constant(3)\n",
        "scalar.ndim"
      ]
    },
    {
      "cell_type": "code",
      "source": [
        "\n",
        "# Create a vector\n",
        "vector = tf.constant([1,2,3,4,0,5,6,7,8])\n",
        "tf.rank(vector).numpy()\n"
      ],
      "metadata": {
        "colab": {
          "base_uri": "https://localhost:8080/"
        },
        "id": "lLTnP24uMicl",
        "outputId": "2f7e28c6-f5f6-493c-b96b-e3b99ae80b16"
      },
      "id": "lLTnP24uMicl",
      "execution_count": 6,
      "outputs": [
        {
          "output_type": "execute_result",
          "data": {
            "text/plain": [
              "1"
            ]
          },
          "metadata": {},
          "execution_count": 6
        }
      ]
    },
    {
      "cell_type": "code",
      "source": [
        "# Create a matrix\n",
        "matrix = tf.constant([[1,2],[23,4],[2,3],[7,8]])\n",
        "tf.rank(matrix).numpy()\n",
        "matrix"
      ],
      "metadata": {
        "colab": {
          "base_uri": "https://localhost:8080/"
        },
        "id": "x6JdLGM0NIwF",
        "outputId": "5b21cc33-8f5a-43d5-d3a4-032b81d6e8a1"
      },
      "id": "x6JdLGM0NIwF",
      "execution_count": 8,
      "outputs": [
        {
          "output_type": "execute_result",
          "data": {
            "text/plain": [
              "<tf.Tensor: shape=(4, 2), dtype=int32, numpy=\n",
              "array([[ 1,  2],\n",
              "       [23,  4],\n",
              "       [ 2,  3],\n",
              "       [ 7,  8]], dtype=int32)>"
            ]
          },
          "metadata": {},
          "execution_count": 8
        }
      ]
    },
    {
      "cell_type": "code",
      "source": [
        "# Create a tensor\n",
        "tensor = tf.constant([[[2,1],[0,0]],[[2,1],[0,0]],[[2,1],[0,0]]])\n",
        "\n",
        "tensor"
      ],
      "metadata": {
        "colab": {
          "base_uri": "https://localhost:8080/"
        },
        "id": "p15OPM6FNdWd",
        "outputId": "b8882ae4-33e2-434b-e503-6d7762fc61f4"
      },
      "id": "p15OPM6FNdWd",
      "execution_count": 9,
      "outputs": [
        {
          "output_type": "execute_result",
          "data": {
            "text/plain": [
              "<tf.Tensor: shape=(3, 2, 2), dtype=int32, numpy=\n",
              "array([[[2, 1],\n",
              "        [0, 0]],\n",
              "\n",
              "       [[2, 1],\n",
              "        [0, 0]],\n",
              "\n",
              "       [[2, 1],\n",
              "        [0, 0]]], dtype=int32)>"
            ]
          },
          "metadata": {},
          "execution_count": 9
        }
      ]
    },
    {
      "cell_type": "code",
      "source": [
        "\n",
        "# Create a tensor from a Numpy array\n",
        "\n",
        "np_array = np.array([9,8,7])\n",
        "np_tensor = tf.constant(np_array)\n",
        "type(np_tensor)"
      ],
      "metadata": {
        "colab": {
          "base_uri": "https://localhost:8080/"
        },
        "id": "lHW62ZlINjrE",
        "outputId": "65a034dd-c15e-4358-f72e-c71d0bd0874a"
      },
      "id": "lHW62ZlINjrE",
      "execution_count": 11,
      "outputs": [
        {
          "output_type": "execute_result",
          "data": {
            "text/plain": [
              "tensorflow.python.framework.ops.EagerTensor"
            ]
          },
          "metadata": {},
          "execution_count": 11
        }
      ]
    },
    {
      "cell_type": "code",
      "source": [
        "\n",
        "# Create a rank 2 tensor of ones using TensorFlow\n",
        "tf.rank(tf.ones([10,5])).numpy()\n",
        "tf.ones([10,5])"
      ],
      "metadata": {
        "colab": {
          "base_uri": "https://localhost:8080/"
        },
        "id": "HeXU5bkFN-5N",
        "outputId": "a2e93c21-6e4b-49b3-afc5-9efd1112a14d"
      },
      "id": "HeXU5bkFN-5N",
      "execution_count": 14,
      "outputs": [
        {
          "output_type": "execute_result",
          "data": {
            "text/plain": [
              "<tf.Tensor: shape=(10, 5), dtype=float32, numpy=\n",
              "array([[1., 1., 1., 1., 1.],\n",
              "       [1., 1., 1., 1., 1.],\n",
              "       [1., 1., 1., 1., 1.],\n",
              "       [1., 1., 1., 1., 1.],\n",
              "       [1., 1., 1., 1., 1.],\n",
              "       [1., 1., 1., 1., 1.],\n",
              "       [1., 1., 1., 1., 1.],\n",
              "       [1., 1., 1., 1., 1.],\n",
              "       [1., 1., 1., 1., 1.],\n",
              "       [1., 1., 1., 1., 1.]], dtype=float32)>"
            ]
          },
          "metadata": {},
          "execution_count": 14
        }
      ]
    },
    {
      "cell_type": "code",
      "source": [
        "\n",
        "# Create a rank 4 tensor of zeros using TensorFlow\n",
        "tf.zeros([2,3,4,5])"
      ],
      "metadata": {
        "colab": {
          "base_uri": "https://localhost:8080/"
        },
        "id": "JaUI2GG_OVm2",
        "outputId": "c46cd386-7089-44be-c679-899741fbf001"
      },
      "id": "JaUI2GG_OVm2",
      "execution_count": 15,
      "outputs": [
        {
          "output_type": "execute_result",
          "data": {
            "text/plain": [
              "<tf.Tensor: shape=(2, 3, 4, 5), dtype=float32, numpy=\n",
              "array([[[[0., 0., 0., 0., 0.],\n",
              "         [0., 0., 0., 0., 0.],\n",
              "         [0., 0., 0., 0., 0.],\n",
              "         [0., 0., 0., 0., 0.]],\n",
              "\n",
              "        [[0., 0., 0., 0., 0.],\n",
              "         [0., 0., 0., 0., 0.],\n",
              "         [0., 0., 0., 0., 0.],\n",
              "         [0., 0., 0., 0., 0.]],\n",
              "\n",
              "        [[0., 0., 0., 0., 0.],\n",
              "         [0., 0., 0., 0., 0.],\n",
              "         [0., 0., 0., 0., 0.],\n",
              "         [0., 0., 0., 0., 0.]]],\n",
              "\n",
              "\n",
              "       [[[0., 0., 0., 0., 0.],\n",
              "         [0., 0., 0., 0., 0.],\n",
              "         [0., 0., 0., 0., 0.],\n",
              "         [0., 0., 0., 0., 0.]],\n",
              "\n",
              "        [[0., 0., 0., 0., 0.],\n",
              "         [0., 0., 0., 0., 0.],\n",
              "         [0., 0., 0., 0., 0.],\n",
              "         [0., 0., 0., 0., 0.]],\n",
              "\n",
              "        [[0., 0., 0., 0., 0.],\n",
              "         [0., 0., 0., 0., 0.],\n",
              "         [0., 0., 0., 0., 0.],\n",
              "         [0., 0., 0., 0., 0.]]]], dtype=float32)>"
            ]
          },
          "metadata": {},
          "execution_count": 15
        }
      ]
    },
    {
      "cell_type": "markdown",
      "id": "14ea3599-34ba-4909-bd3b-e4fa6a05fa61",
      "metadata": {
        "id": "14ea3599-34ba-4909-bd3b-e4fa6a05fa61"
      },
      "source": [
        " a shop has 3 types of gum\n",
        " |cherry|bazocca|extra-sour|           |\n",
        " |------|-------|----------|-----------|\n",
        " |1.00  |0.50   |0.75      |#prices    |\n",
        " | 30   | 20    | 40       |# qnt sold |\n",
        "\n",
        " - create a numpy array that reflects the prices and another to reflect the quantety sold\n",
        " - convert the arrays to tensorflow tensors\n",
        " - create a `sales_per_prod` tensor that has the total amount for each gum type\n",
        " - create a tensor `total_sales` that reflects... the total sales. calculate it\n",
        " - what are the shape and rank of `total_sales`and of `sales_per_prod`\n",
        ""
      ]
    },
    {
      "cell_type": "code",
      "execution_count": 19,
      "id": "41cf54e1-c53e-4808-b8e6-c98202375471",
      "metadata": {
        "id": "41cf54e1-c53e-4808-b8e6-c98202375471"
      },
      "outputs": [],
      "source": [
        "prices = [1., 0.5, 0.75]\n",
        "qty = [30.,20.,40.]"
      ]
    },
    {
      "cell_type": "code",
      "execution_count": 20,
      "id": "2fb44804-b23f-46b3-84c0-f785df502164",
      "metadata": {
        "id": "2fb44804-b23f-46b3-84c0-f785df502164"
      },
      "outputs": [],
      "source": [
        "price_tensor = tf.constant(prices)\n",
        "qty_tensor = tf.constant(qty)"
      ]
    },
    {
      "cell_type": "code",
      "execution_count": 21,
      "id": "af207a8d-168c-4726-9b2e-8d7217a28270",
      "metadata": {
        "colab": {
          "base_uri": "https://localhost:8080/"
        },
        "id": "af207a8d-168c-4726-9b2e-8d7217a28270",
        "outputId": "4a180619-0c20-4021-d4d5-f034ab31173d"
      },
      "outputs": [
        {
          "output_type": "execute_result",
          "data": {
            "text/plain": [
              "<tf.Tensor: shape=(3,), dtype=float32, numpy=array([30., 10., 30.], dtype=float32)>"
            ]
          },
          "metadata": {},
          "execution_count": 21
        }
      ],
      "source": [
        "price_tensor * qty_tensor"
      ]
    },
    {
      "cell_type": "code",
      "execution_count": 22,
      "id": "e8752817-493a-4137-a016-920ac5d2b651",
      "metadata": {
        "id": "e8752817-493a-4137-a016-920ac5d2b651"
      },
      "outputs": [],
      "source": [
        "prices =[[1.],[ 0.5], [0.75]]\n",
        "qty = [[30.,20.,40.]]\n",
        "price_tensor = tf.constant(prices)\n",
        "qty_tensor = tf.constant(qty)"
      ]
    },
    {
      "cell_type": "code",
      "execution_count": 24,
      "id": "8a612dc9-a15c-42cd-ab28-1f7c158233d8",
      "metadata": {
        "colab": {
          "base_uri": "https://localhost:8080/"
        },
        "id": "8a612dc9-a15c-42cd-ab28-1f7c158233d8",
        "outputId": "2e709f23-958f-4ef5-9381-c1e06e5a34ba"
      },
      "outputs": [
        {
          "output_type": "execute_result",
          "data": {
            "text/plain": [
              "array([[70.]], dtype=float32)"
            ]
          },
          "metadata": {},
          "execution_count": 24
        }
      ],
      "source": [
        "tf.linalg.matmul(qty_tensor, price_tensor).numpy()"
      ]
    },
    {
      "cell_type": "code",
      "execution_count": 26,
      "id": "934a11ca-01ee-441f-8d37-6ccbee6e43d5",
      "metadata": {
        "colab": {
          "base_uri": "https://localhost:8080/"
        },
        "id": "934a11ca-01ee-441f-8d37-6ccbee6e43d5",
        "outputId": "d7c43013-b55e-49c2-8ffc-6f207307cbc3"
      },
      "outputs": [
        {
          "output_type": "execute_result",
          "data": {
            "text/plain": [
              "array([[70.]], dtype=float32)"
            ]
          },
          "metadata": {},
          "execution_count": 26
        }
      ],
      "source": [
        "(qty_tensor@ price_tensor).numpy()"
      ]
    },
    {
      "cell_type": "code",
      "source": [],
      "metadata": {
        "id": "u3MQlmrTR8tG"
      },
      "id": "u3MQlmrTR8tG",
      "execution_count": null,
      "outputs": []
    }
  ],
  "metadata": {
    "kernelspec": {
      "display_name": "Python 3 (ipykernel)",
      "language": "python",
      "name": "python3"
    },
    "language_info": {
      "codemirror_mode": {
        "name": "ipython",
        "version": 3
      },
      "file_extension": ".py",
      "mimetype": "text/x-python",
      "name": "python",
      "nbconvert_exporter": "python",
      "pygments_lexer": "ipython3",
      "version": "3.12.2"
    },
    "colab": {
      "provenance": []
    }
  },
  "nbformat": 4,
  "nbformat_minor": 5
}