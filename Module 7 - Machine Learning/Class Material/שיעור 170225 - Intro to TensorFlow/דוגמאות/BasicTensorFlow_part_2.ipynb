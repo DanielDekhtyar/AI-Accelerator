{
  "cells": [
    {
      "cell_type": "code",
      "execution_count": 1,
      "id": "d6cecd7c-d454-4345-9c6d-22060c273b45",
      "metadata": {
        "id": "d6cecd7c-d454-4345-9c6d-22060c273b45"
      },
      "outputs": [],
      "source": [
        "import tensorflow as tf\n",
        "import numpy as np"
      ]
    },
    {
      "cell_type": "markdown",
      "id": "1e892ceb-987a-4746-990b-f5f4d06a6392",
      "metadata": {
        "id": "1e892ceb-987a-4746-990b-f5f4d06a6392"
      },
      "source": [
        "#### Task 1   \n",
        "Kadabra the magnificent magician wants to guess which card was chosen from a deck. Create a tensor with numbers from 1 to 52, where each number represents a different card in the deck.\n",
        "\n",
        "Then, write code to shuffle the deck and print the top card.\n",
        "\n"
      ]
    },
    {
      "cell_type": "code",
      "execution_count": 14,
      "id": "9c740c58-ccc0-4e24-b689-7172acb53dad",
      "metadata": {
        "colab": {
          "base_uri": "https://localhost:8080/"
        },
        "id": "9c740c58-ccc0-4e24-b689-7172acb53dad",
        "outputId": "a238fd97-47d0-43e2-8649-71e64910bfd3"
      },
      "outputs": [
        {
          "output_type": "execute_result",
          "data": {
            "text/plain": [
              "<tf.Tensor: shape=(52,), dtype=int32, numpy=\n",
              "array([ 1,  2,  3,  4,  5,  6,  7,  8,  9, 10, 11, 12, 13, 14, 15, 16, 17,\n",
              "       18, 19, 20, 21, 22, 23, 24, 25, 26, 27, 28, 29, 30, 31, 32, 33, 34,\n",
              "       35, 36, 37, 38, 39, 40, 41, 42, 43, 44, 45, 46, 47, 48, 49, 50, 51,\n",
              "       52], dtype=int32)>"
            ]
          },
          "metadata": {},
          "execution_count": 14
        }
      ],
      "source": [
        "deck = tf.range(1,53)\n",
        "deck"
      ]
    },
    {
      "cell_type": "code",
      "source": [
        "deck[0].numpy()"
      ],
      "metadata": {
        "colab": {
          "base_uri": "https://localhost:8080/"
        },
        "id": "pAfkolCXLQ9b",
        "outputId": "b480c52f-4ff7-494d-8b28-d06ae1560b7e"
      },
      "id": "pAfkolCXLQ9b",
      "execution_count": 5,
      "outputs": [
        {
          "output_type": "execute_result",
          "data": {
            "text/plain": [
              "0"
            ]
          },
          "metadata": {},
          "execution_count": 5
        }
      ]
    },
    {
      "cell_type": "code",
      "source": [
        "tf.random.shuffle(deck)[0].numpy()"
      ],
      "metadata": {
        "colab": {
          "base_uri": "https://localhost:8080/"
        },
        "id": "mZ18Y5usLYCa",
        "outputId": "b0421730-a3db-4eef-fea7-fa81049d6cd3"
      },
      "id": "mZ18Y5usLYCa",
      "execution_count": 8,
      "outputs": [
        {
          "output_type": "execute_result",
          "data": {
            "text/plain": [
              "15"
            ]
          },
          "metadata": {},
          "execution_count": 8
        }
      ]
    },
    {
      "cell_type": "code",
      "source": [],
      "metadata": {
        "id": "nw0Af8FdLTbR"
      },
      "id": "nw0Af8FdLTbR",
      "execution_count": null,
      "outputs": []
    },
    {
      "cell_type": "markdown",
      "id": "fd80d013-24ae-46de-8ddf-909a8539e1f7",
      "metadata": {
        "id": "fd80d013-24ae-46de-8ddf-909a8539e1f7"
      },
      "source": [
        "Kadabra was surprised to discover he has no magical powers. He wants to pretand shuffle so that it looks like he is picking a random card, but in reality, it will always be the same card. Help him create suitable code."
      ]
    },
    {
      "cell_type": "code",
      "source": [
        "tf.random.set_seed(42)\n",
        "tf.random.shuffle(deck)[0].numpy()"
      ],
      "metadata": {
        "colab": {
          "base_uri": "https://localhost:8080/"
        },
        "id": "yOkd8MGWLJQC",
        "outputId": "b0a870b3-8ae7-43d5-e536-4609219cd7cb"
      },
      "id": "yOkd8MGWLJQC",
      "execution_count": 17,
      "outputs": [
        {
          "output_type": "execute_result",
          "data": {
            "text/plain": [
              "16"
            ]
          },
          "metadata": {},
          "execution_count": 17
        }
      ]
    },
    {
      "cell_type": "code",
      "source": [],
      "metadata": {
        "id": "HFZl-c5iLJeK"
      },
      "id": "HFZl-c5iLJeK",
      "execution_count": null,
      "outputs": []
    },
    {
      "cell_type": "code",
      "execution_count": null,
      "id": "162aba0a-3104-4d73-b055-34641b0470e8",
      "metadata": {
        "id": "162aba0a-3104-4d73-b055-34641b0470e8"
      },
      "outputs": [],
      "source": []
    },
    {
      "cell_type": "markdown",
      "id": "7fac8df0-b3a4-449a-bb5c-1913c888085e",
      "metadata": {
        "id": "7fac8df0-b3a4-449a-bb5c-1913c888085e"
      },
      "source": [
        "#### Task 2    \n",
        "A futuristic restaurant has introduced an AI-powered robot waiter. The robot needs to classify food orders into 5 categories to prepare and serve meals efficiently. However, the system requires the data to be represented numerically before the robot can process it.\n",
        "\n",
        "Create a Food Orders Tensor\n",
        "Create a tensor named food_orders that contains an equal distribution of the 5 food categories. The total number of food items should 30."
      ]
    },
    {
      "cell_type": "code",
      "execution_count": 25,
      "id": "31990a0d-00dc-4599-a7b0-fee387845b63",
      "metadata": {
        "colab": {
          "base_uri": "https://localhost:8080/"
        },
        "id": "31990a0d-00dc-4599-a7b0-fee387845b63",
        "outputId": "304a849f-19ed-40a6-9c45-db6cb07ec91b"
      },
      "outputs": [
        {
          "output_type": "execute_result",
          "data": {
            "text/plain": [
              "array([[0, 3, 2, 4, 3, 3, 4, 0, 1, 0, 1, 3, 4, 1, 2, 2, 0, 2, 4, 1, 2, 3,\n",
              "        1, 0, 3, 4, 3, 1, 2, 4]])"
            ]
          },
          "metadata": {},
          "execution_count": 25
        }
      ],
      "source": [
        "food_ords = tf.random.categorical(tf.math.log([[0.2,0.2,0.2,0.2,0.2]]),30)\n",
        "food_ords.numpy()"
      ]
    },
    {
      "cell_type": "markdown",
      "id": "99a6025e-7279-4849-892e-e5836e21ff09",
      "metadata": {
        "id": "99a6025e-7279-4849-892e-e5836e21ff09"
      },
      "source": [
        "Unfotunatly, this robot can only read ones and zeros...\n",
        "Convert your food_orders tensor into a form that allows the robot to distinguish the food types using the minimum number of unique values needed while still keeping all the category information.\n"
      ]
    },
    {
      "cell_type": "code",
      "execution_count": 29,
      "id": "6fd193f7-6350-493d-8020-a511a3e4642d",
      "metadata": {
        "colab": {
          "base_uri": "https://localhost:8080/"
        },
        "id": "6fd193f7-6350-493d-8020-a511a3e4642d",
        "outputId": "3839d5f6-71d7-488c-9c70-0692337ea4e5"
      },
      "outputs": [
        {
          "output_type": "execute_result",
          "data": {
            "text/plain": [
              "<tf.Tensor: shape=(1, 30, 4), dtype=float32, numpy=\n",
              "array([[[1., 0., 0., 0.],\n",
              "        [0., 0., 0., 1.],\n",
              "        [0., 0., 1., 0.],\n",
              "        [0., 0., 0., 0.],\n",
              "        [0., 0., 0., 1.],\n",
              "        [0., 0., 0., 1.],\n",
              "        [0., 0., 0., 0.],\n",
              "        [1., 0., 0., 0.],\n",
              "        [0., 1., 0., 0.],\n",
              "        [1., 0., 0., 0.],\n",
              "        [0., 1., 0., 0.],\n",
              "        [0., 0., 0., 1.],\n",
              "        [0., 0., 0., 0.],\n",
              "        [0., 1., 0., 0.],\n",
              "        [0., 0., 1., 0.],\n",
              "        [0., 0., 1., 0.],\n",
              "        [1., 0., 0., 0.],\n",
              "        [0., 0., 1., 0.],\n",
              "        [0., 0., 0., 0.],\n",
              "        [0., 1., 0., 0.],\n",
              "        [0., 0., 1., 0.],\n",
              "        [0., 0., 0., 1.],\n",
              "        [0., 1., 0., 0.],\n",
              "        [1., 0., 0., 0.],\n",
              "        [0., 0., 0., 1.],\n",
              "        [0., 0., 0., 0.],\n",
              "        [0., 0., 0., 1.],\n",
              "        [0., 1., 0., 0.],\n",
              "        [0., 0., 1., 0.],\n",
              "        [0., 0., 0., 0.]]], dtype=float32)>"
            ]
          },
          "metadata": {},
          "execution_count": 29
        }
      ],
      "source": [
        "encoded_ords4 = tf.one_hot(food_ords, depth =4)\n",
        "encoded_ords"
      ]
    },
    {
      "cell_type": "code",
      "source": [
        "encoded_ords5 = tf.one_hot(food_ords, depth =5)\n",
        "encoded_ords5"
      ],
      "metadata": {
        "colab": {
          "base_uri": "https://localhost:8080/"
        },
        "id": "6ZWPOEjuOc1Y",
        "outputId": "22b104d7-a38e-4c55-9f24-1fb1a19215e1"
      },
      "id": "6ZWPOEjuOc1Y",
      "execution_count": 34,
      "outputs": [
        {
          "output_type": "execute_result",
          "data": {
            "text/plain": [
              "<tf.Tensor: shape=(1, 30, 5), dtype=float32, numpy=\n",
              "array([[[1., 0., 0., 0., 0.],\n",
              "        [0., 0., 0., 1., 0.],\n",
              "        [0., 0., 1., 0., 0.],\n",
              "        [0., 0., 0., 0., 1.],\n",
              "        [0., 0., 0., 1., 0.],\n",
              "        [0., 0., 0., 1., 0.],\n",
              "        [0., 0., 0., 0., 1.],\n",
              "        [1., 0., 0., 0., 0.],\n",
              "        [0., 1., 0., 0., 0.],\n",
              "        [1., 0., 0., 0., 0.],\n",
              "        [0., 1., 0., 0., 0.],\n",
              "        [0., 0., 0., 1., 0.],\n",
              "        [0., 0., 0., 0., 1.],\n",
              "        [0., 1., 0., 0., 0.],\n",
              "        [0., 0., 1., 0., 0.],\n",
              "        [0., 0., 1., 0., 0.],\n",
              "        [1., 0., 0., 0., 0.],\n",
              "        [0., 0., 1., 0., 0.],\n",
              "        [0., 0., 0., 0., 1.],\n",
              "        [0., 1., 0., 0., 0.],\n",
              "        [0., 0., 1., 0., 0.],\n",
              "        [0., 0., 0., 1., 0.],\n",
              "        [0., 1., 0., 0., 0.],\n",
              "        [1., 0., 0., 0., 0.],\n",
              "        [0., 0., 0., 1., 0.],\n",
              "        [0., 0., 0., 0., 1.],\n",
              "        [0., 0., 0., 1., 0.],\n",
              "        [0., 1., 0., 0., 0.],\n",
              "        [0., 0., 1., 0., 0.],\n",
              "        [0., 0., 0., 0., 1.]]], dtype=float32)>"
            ]
          },
          "metadata": {},
          "execution_count": 34
        }
      ]
    },
    {
      "cell_type": "markdown",
      "id": "36033716-3010-4ea7-9af5-d9886d8f0988",
      "metadata": {
        "id": "36033716-3010-4ea7-9af5-d9886d8f0988"
      },
      "source": [
        "#### Task 3\n",
        "התעמלות לחשיבה סטטיסטית:  \n",
        "- צרו משתנה טנסור עם אלף מספרים רנדומלים עם התפלגות נורמלית\n",
        "- תחשבו על דרך ליצור טנסור שני שיש בו סתם 1000 מספרים רנדומלים שלמים בין אפס לאלף\n",
        "- צרו  טנסור שהוא סכומי שני הטנסורים הנל, ומשתנה שהוא מכפלות שלהם\n",
        "- צרו 3 היסטוגרמות שמראות את ההתפלגות בטסורהנורמלי, בטנסור החיבורובטנסור ההכפלה.- האם התוצאות הן כפי שציפיתם? האם אתם יותדעים להסביר מדוע התוצאות נראות כפי שהן נראות?"
      ]
    },
    {
      "cell_type": "code",
      "execution_count": 35,
      "id": "6415b33c-dfe4-418c-8977-5aa595e5b81d",
      "metadata": {
        "id": "6415b33c-dfe4-418c-8977-5aa595e5b81d"
      },
      "outputs": [],
      "source": [
        "norm = tf.random.normal(shape=(1000,))"
      ]
    },
    {
      "cell_type": "code",
      "execution_count": 36,
      "id": "a2da00a5-7f90-4210-a7b9-6be96a4ed5f9",
      "metadata": {
        "id": "a2da00a5-7f90-4210-a7b9-6be96a4ed5f9"
      },
      "outputs": [],
      "source": [
        "rand_np = np.random.randint(0,1000, size =1000)"
      ]
    },
    {
      "cell_type": "code",
      "execution_count": 40,
      "id": "52a0f589-9d08-499c-a09c-d25afa744b4f",
      "metadata": {
        "id": "52a0f589-9d08-499c-a09c-d25afa744b4f"
      },
      "outputs": [],
      "source": [
        "rand = tf.constant(rand_np, dtype = tf.float32)"
      ]
    },
    {
      "cell_type": "code",
      "source": [
        "norm = tf.cast(norm, dtype = tf.float32)"
      ],
      "metadata": {
        "id": "dbAuIZxqQKx6"
      },
      "id": "dbAuIZxqQKx6",
      "execution_count": 43,
      "outputs": []
    },
    {
      "cell_type": "code",
      "source": [
        "added = norm + rand\n",
        "multi = norm * rand"
      ],
      "metadata": {
        "id": "Ei3Y5bGFPypz"
      },
      "id": "Ei3Y5bGFPypz",
      "execution_count": 44,
      "outputs": []
    },
    {
      "cell_type": "code",
      "source": [
        "import matplotlib.pyplot as plt"
      ],
      "metadata": {
        "id": "8ZbdnLTKP-qa"
      },
      "id": "8ZbdnLTKP-qa",
      "execution_count": 45,
      "outputs": []
    },
    {
      "cell_type": "code",
      "source": [
        "f,a  = plt.subplots(1,3, figsize = (10,2))\n",
        "a[0].hist(norm)\n",
        "a[0].set_title ('norm')\n",
        "a[1].hist(added)\n",
        "a[1].set_title ('added')\n",
        "a[2].hist(multi)\n",
        "a[2].set_title ('multi')"
      ],
      "metadata": {
        "colab": {
          "base_uri": "https://localhost:8080/",
          "height": 254
        },
        "id": "mEAh09AAQyDI",
        "outputId": "3adef1d3-4a37-4ab6-9b43-b310c0853784"
      },
      "id": "mEAh09AAQyDI",
      "execution_count": 46,
      "outputs": [
        {
          "output_type": "execute_result",
          "data": {
            "text/plain": [
              "Text(0.5, 1.0, 'multi')"
            ]
          },
          "metadata": {},
          "execution_count": 46
        },
        {
          "output_type": "display_data",
          "data": {
            "text/plain": [
              "<Figure size 1000x200 with 3 Axes>"
            ],
            "image/png": "[encoded data removed]"
          },
          "metadata": {}
        }
      ]
    },
    {
      "cell_type": "code",
      "source": [
        "plt.hist(rand)"
      ],
      "metadata": {
        "colab": {
          "base_uri": "https://localhost:8080/",
          "height": 517
        },
        "id": "4T1ZKEwNRfCA",
        "outputId": "b1a532f2-debe-4ac3-b26b-7b8681ce6b47"
      },
      "id": "4T1ZKEwNRfCA",
      "execution_count": 47,
      "outputs": [
        {
          "output_type": "execute_result",
          "data": {
            "text/plain": [
              "(array([100., 104.,  94.,  89.,  72., 107., 102., 129., 100., 103.]),\n",
              " array([  5.        , 104.40000153, 203.80000305, 303.20001221,\n",
              "        402.6000061 , 502.        , 601.40002441, 700.79998779,\n",
              "        800.20001221, 899.59997559, 999.        ]),\n",
              " <BarContainer object of 10 artists>)"
            ]
          },
          "metadata": {},
          "execution_count": 47
        },
        {
          "output_type": "display_data",
          "data": {
            "text/plain": [
              "<Figure size 640x480 with 1 Axes>"
            ],
            "image/png": "[encoded data removed]"
          },
          "metadata": {}
        }
      ]
    },
    {
      "cell_type": "code",
      "source": [],
      "metadata": {
        "id": "KioeZIwhRvEW"
      },
      "id": "KioeZIwhRvEW",
      "execution_count": null,
      "outputs": []
    }
  ],
  "metadata": {
    "kernelspec": {
      "display_name": "Python 3 (ipykernel)",
      "language": "python",
      "name": "python3"
    },
    "language_info": {
      "codemirror_mode": {
        "name": "ipython",
        "version": 3
      },
      "file_extension": ".py",
      "mimetype": "text/x-python",
      "name": "python",
      "nbconvert_exporter": "python",
      "pygments_lexer": "ipython3",
      "version": "3.12.2"
    },
    "colab": {
      "provenance": []
    }
  },
  "nbformat": 4,
  "nbformat_minor": 5
}