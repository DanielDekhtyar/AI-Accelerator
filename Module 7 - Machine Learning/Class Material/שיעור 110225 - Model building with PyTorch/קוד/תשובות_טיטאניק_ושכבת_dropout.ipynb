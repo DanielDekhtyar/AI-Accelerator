{
  "nbformat": 4,
  "nbformat_minor": 0,
  "metadata": {
    "colab": {
      "provenance": [],
      "gpuType": "T4"
    },
    "kernelspec": {
      "name": "python3",
      "display_name": "Python 3"
    },
    "language_info": {
      "name": "python"
    },
    "accelerator": "GPU"
  },
  "cells": [
    {
      "cell_type": "code",
      "execution_count": 2,
      "metadata": {
        "id": "AtSmGnSP6tHf"
      },
      "outputs": [],
      "source": [
        "import torch\n",
        "import torch.nn as nn\n",
        "import torch.optim as optim\n",
        "from sklearn.model_selection import train_test_split\n",
        "from sklearn.preprocessing import StandardScaler\n",
        "import pandas as pd\n",
        "import numpy as np"
      ]
    },
    {
      "cell_type": "code",
      "source": [
        "df = pd.read_csv('titanic.csv')"
      ],
      "metadata": {
        "id": "dqreIv2q6uZV"
      },
      "execution_count": 16,
      "outputs": []
    },
    {
      "cell_type": "code",
      "source": [
        "df.info()"
      ],
      "metadata": {
        "colab": {
          "base_uri": "https://localhost:8080/"
        },
        "id": "Dk4G0CboChjk",
        "outputId": "b48bcf94-fc20-4b95-9910-3776c5ac7804"
      },
      "execution_count": 5,
      "outputs": [
        {
          "output_type": "stream",
          "name": "stdout",
          "text": [
            "<class 'pandas.core.frame.DataFrame'>\n",
            "RangeIndex: 891 entries, 0 to 890\n",
            "Data columns (total 12 columns):\n",
            " #   Column       Non-Null Count  Dtype  \n",
            "---  ------       --------------  -----  \n",
            " 0   PassengerId  891 non-null    int64  \n",
            " 1   Survived     891 non-null    int64  \n",
            " 2   Pclass       891 non-null    int64  \n",
            " 3   Name         891 non-null    object \n",
            " 4   Sex          891 non-null    object \n",
            " 5   Age          714 non-null    float64\n",
            " 6   SibSp        891 non-null    int64  \n",
            " 7   Parch        891 non-null    int64  \n",
            " 8   Ticket       891 non-null    object \n",
            " 9   Fare         891 non-null    float64\n",
            " 10  Cabin        204 non-null    object \n",
            " 11  Embarked     889 non-null    object \n",
            "dtypes: float64(2), int64(5), object(5)\n",
            "memory usage: 83.7+ KB\n"
          ]
        }
      ]
    },
    {
      "cell_type": "code",
      "source": [
        "df = df[['Pclass','Sex','Age','Fare','Survived']].dropna()"
      ],
      "metadata": {
        "id": "qj-wEzeaCmLs"
      },
      "execution_count": 17,
      "outputs": []
    },
    {
      "cell_type": "code",
      "source": [
        "df.info()"
      ],
      "metadata": {
        "colab": {
          "base_uri": "https://localhost:8080/"
        },
        "id": "hKSl5Rn6Cx_e",
        "outputId": "d60d0130-71a5-4278-b317-4aee64602b88"
      },
      "execution_count": 18,
      "outputs": [
        {
          "output_type": "stream",
          "name": "stdout",
          "text": [
            "<class 'pandas.core.frame.DataFrame'>\n",
            "Index: 714 entries, 0 to 890\n",
            "Data columns (total 5 columns):\n",
            " #   Column    Non-Null Count  Dtype  \n",
            "---  ------    --------------  -----  \n",
            " 0   Pclass    714 non-null    int64  \n",
            " 1   Sex       714 non-null    object \n",
            " 2   Age       714 non-null    float64\n",
            " 3   Fare      714 non-null    float64\n",
            " 4   Survived  714 non-null    int64  \n",
            "dtypes: float64(2), int64(2), object(1)\n",
            "memory usage: 33.5+ KB\n"
          ]
        }
      ]
    },
    {
      "cell_type": "code",
      "source": [
        "df['Sex']"
      ],
      "metadata": {
        "colab": {
          "base_uri": "https://localhost:8080/",
          "height": 458
        },
        "id": "bYz-ZNNOF0WY",
        "outputId": "f89425ef-35d5-4008-c2af-079bc35a980e"
      },
      "execution_count": 20,
      "outputs": [
        {
          "output_type": "execute_result",
          "data": {
            "text/plain": [
              "0        male\n",
              "1      female\n",
              "2      female\n",
              "3      female\n",
              "4        male\n",
              "        ...  \n",
              "885    female\n",
              "886      male\n",
              "887    female\n",
              "889      male\n",
              "890      male\n",
              "Name: Sex, Length: 714, dtype: object"
            ],
            "text/html": [
              "<div>\n",
              "<style scoped>\n",
              "    .dataframe tbody tr th:only-of-type {\n",
              "        vertical-align: middle;\n",
              "    }\n",
              "\n",
              "    .dataframe tbody tr th {\n",
              "        vertical-align: top;\n",
              "    }\n",
              "\n",
              "    .dataframe thead th {\n",
              "        text-align: right;\n",
              "    }\n",
              "</style>\n",
              "<table border=\"1\" class=\"dataframe\">\n",
              "  <thead>\n",
              "    <tr style=\"text-align: right;\">\n",
              "      <th></th>\n",
              "      <th>Sex</th>\n",
              "    </tr>\n",
              "  </thead>\n",
              "  <tbody>\n",
              "    <tr>\n",
              "      <th>0</th>\n",
              "      <td>male</td>\n",
              "    </tr>\n",
              "    <tr>\n",
              "      <th>1</th>\n",
              "      <td>female</td>\n",
              "    </tr>\n",
              "    <tr>\n",
              "      <th>2</th>\n",
              "      <td>female</td>\n",
              "    </tr>\n",
              "    <tr>\n",
              "      <th>3</th>\n",
              "      <td>female</td>\n",
              "    </tr>\n",
              "    <tr>\n",
              "      <th>4</th>\n",
              "      <td>male</td>\n",
              "    </tr>\n",
              "    <tr>\n",
              "      <th>...</th>\n",
              "      <td>...</td>\n",
              "    </tr>\n",
              "    <tr>\n",
              "      <th>885</th>\n",
              "      <td>female</td>\n",
              "    </tr>\n",
              "    <tr>\n",
              "      <th>886</th>\n",
              "      <td>male</td>\n",
              "    </tr>\n",
              "    <tr>\n",
              "      <th>887</th>\n",
              "      <td>female</td>\n",
              "    </tr>\n",
              "    <tr>\n",
              "      <th>889</th>\n",
              "      <td>male</td>\n",
              "    </tr>\n",
              "    <tr>\n",
              "      <th>890</th>\n",
              "      <td>male</td>\n",
              "    </tr>\n",
              "  </tbody>\n",
              "</table>\n",
              "<p>714 rows × 1 columns</p>\n",
              "</div><br><label><b>dtype:</b> object</label>"
            ]
          },
          "metadata": {},
          "execution_count": 20
        }
      ]
    },
    {
      "cell_type": "code",
      "source": [
        "df['Sex'] = df['Sex'] =='male'"
      ],
      "metadata": {
        "id": "4k7Dj8AzEIuM"
      },
      "execution_count": 11,
      "outputs": []
    },
    {
      "cell_type": "code",
      "source": [
        "X =df[['Pclass','Sex','Age','Fare']].values\n",
        "y = df['Survived'].values\n",
        "X_train, X_test, y_train, y_test = train_test_split(X,y, test_size=0.2)\n",
        "#scaling\n",
        "scaler = StandardScaler()\n",
        "X_train , X_test = scaler.fit_transform(X_train), scaler.transform(X_test)"
      ],
      "metadata": {
        "id": "sJhXceb3C1vh"
      },
      "execution_count": 14,
      "outputs": []
    },
    {
      "cell_type": "code",
      "source": [
        "X_train_tensor  =torch.tensor(X_train, dtype =torch.float32)\n",
        "X_test_tensor =torch.tensor(X_test, dtype =torch.float32)\n",
        "y_train_tensor =torch.tensor(y_train, dtype =torch.float32).view(-1,1)\n",
        "y_test_tensor =torch.tensor(y_test, dtype =torch.float32).view(-1,1)"
      ],
      "metadata": {
        "id": "TaPTfg4eEGmF"
      },
      "execution_count": 15,
      "outputs": []
    },
    {
      "cell_type": "code",
      "source": [
        "class Classifier (nn.Module):\n",
        "  def __init__(self):\n",
        "    super().__init__()\n",
        "    self.fc1 =nn.Linear(4, 16)\n",
        "    self.relu1 = nn.ReLU()\n",
        "    self.dropout = nn.Dropout(p=0.3) #default p=0.5\n",
        "    self.fc2 = nn.Linear(16,8)\n",
        "    self.tanh1 = nn.Tanh()\n",
        "    self.fc3 = nn.Linear(8,1)\n",
        "\n",
        "  def forward (self, x):\n",
        "    x= self.fc1(x)\n",
        "    x = self.relu1(x)\n",
        "    x = self.dropout(x) #!!\n",
        "    x = self.fc2(x)\n",
        "    x =self.tanh1(x)\n",
        "    x = self.fc3(x)\n",
        "    return x\n",
        "\n",
        "model = Classifier()\n",
        "\n",
        "#losss\n",
        "criterion = nn.BCEWithLogitsLoss()\n",
        "#optim\n",
        "optimizer = optim.Adam(model.parameters(), lr =0.01)\n",
        "#loop\n",
        "epochs =1000\n",
        "for epoch in range(epochs):\n",
        "  model.train()\n",
        "  optimizer.zero_grad()\n",
        "\n",
        "  #>חזית\n",
        "  outputs = model(X_train_tensor)\n",
        "  loss = criterion(outputs, y_train_tensor)\n",
        "\n",
        "  #עדכון\n",
        "  loss.backward()\n",
        "  optimizer.step()\n",
        "\n",
        "  # הדפסה\n",
        "  if epoch%100 ==0:\n",
        "    predictions =  (torch.sigmoid(outputs)>0.5).float()\n",
        "    accuracy = (predictions == y_train_tensor).float().mean()\n",
        "    print(f\"Epoch {epoch} , Loss: {loss.item()}, Accuracy {accuracy.item()}\")\n",
        "#evaluation\n",
        "model.eval()\n",
        "with torch.no_grad():\n",
        "  predictions = (torch.sigmoid(model(X_test_tensor))>0.5).float()\n",
        "  accuracy = (predictions ==  y_test_tensor).float().mean().item()\n",
        "  print (f\"Final Accuracy is {accuracy}\")"
      ],
      "metadata": {
        "colab": {
          "base_uri": "https://localhost:8080/"
        },
        "id": "DwS7tsY_Fch4",
        "outputId": "39fa24cf-8183-47ee-bb02-247eb07f6184"
      },
      "execution_count": 36,
      "outputs": [
        {
          "output_type": "stream",
          "name": "stdout",
          "text": [
            "Epoch 0 , Loss: 0.6804068088531494, Accuracy 0.5831874012947083\n",
            "Epoch 100 , Loss: 0.40707042813301086, Accuracy 0.8248686790466309\n",
            "Epoch 200 , Loss: 0.39752084016799927, Accuracy 0.821366012096405\n",
            "Epoch 300 , Loss: 0.3900787830352783, Accuracy 0.821366012096405\n",
            "Epoch 400 , Loss: 0.38572055101394653, Accuracy 0.8336251974105835\n",
            "Epoch 500 , Loss: 0.3828713893890381, Accuracy 0.8283712863922119\n",
            "Epoch 600 , Loss: 0.37000903487205505, Accuracy 0.8476357460021973\n",
            "Epoch 700 , Loss: 0.36950618028640747, Accuracy 0.8353765606880188\n",
            "Epoch 800 , Loss: 0.362749308347702, Accuracy 0.8371278643608093\n",
            "Epoch 900 , Loss: 0.37362799048423767, Accuracy 0.831873893737793\n",
            "Final Accuracy is 0.8181818127632141\n"
          ]
        }
      ]
    },
    {
      "cell_type": "code",
      "source": [],
      "metadata": {
        "id": "2PU7gyqgIP68"
      },
      "execution_count": 36,
      "outputs": []
    },
    {
      "cell_type": "code",
      "source": [],
      "metadata": {
        "id": "i5LDBtSONF2I"
      },
      "execution_count": null,
      "outputs": []
    }
  ]
}