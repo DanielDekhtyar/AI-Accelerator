{
 "cells": [
  {
   "cell_type": "code",
   "execution_count": 5,
   "id": "4cee3cad-456c-47bd-86d0-14ec60e5fb32",
   "metadata": {},
   "outputs": [],
   "source": [
    "import torch\n",
    "import torch.nn as nn\n",
    "import torch.optim as optim\n",
    "from sklearn.model_selection import train_test_split\n",
    "from sklearn.preprocessing import StandardScaler\n",
    "import pandas as pd\n",
    "import numpy as np"
   ]
  },
  {
   "cell_type": "code",
   "execution_count": null,
   "id": "ff746a41-118d-4761-8601-3bc195596996",
   "metadata": {},
   "outputs": [],
   "source": [
    "# קריאת הנתונים "
   ]
  },
  {
   "cell_type": "code",
   "execution_count": null,
   "id": "40198041-4e59-4a10-b597-3bcf24110169",
   "metadata": {},
   "outputs": [],
   "source": [
    "#EDA\n",
    "# יש להפוך את עמודת מין לעמודה בינארית\n",
    "# יש למחוק  שורות שחסר בהן מידע בעמודות:['Pclass', 'Sex', 'Age', 'Fare', 'Survived']\n",
    "#אלה גם העמודות היחידות שהמודל יקח בחשבון\n",
    "\n",
    "'"
   ]
  },
  {
   "cell_type": "code",
   "execution_count": null,
   "id": "516ba20c-4cfc-4d8d-be1e-a5797a9fee11",
   "metadata": {},
   "outputs": [],
   "source": []
  },
  {
   "cell_type": "code",
   "execution_count": null,
   "id": "a19e567a-4bac-4594-bc5a-6039606ba18b",
   "metadata": {},
   "outputs": [],
   "source": [
    "# הפרדת פיצ'רים ותוויות\n",
    "# על הפיצ'רים לכלול רק את:\n",
    "#['Pclass', 'Sex', 'Age', 'Fare'] "
   ]
  },
  {
   "cell_type": "code",
   "execution_count": null,
   "id": "59c8448f-56f9-46b0-95d2-005695ea66a0",
   "metadata": {},
   "outputs": [],
   "source": [
    "# חלוקה לסט אימון וסט בדיקה"
   ]
  },
  {
   "cell_type": "code",
   "execution_count": null,
   "id": "4b2f36dc-d0c3-4904-b8cf-324d7af4b8da",
   "metadata": {},
   "outputs": [],
   "source": [
    "# סטנדרטיזציה של הפיצ'רים"
   ]
  },
  {
   "cell_type": "code",
   "execution_count": 9,
   "id": "0657aad0-4f27-4b0c-b4ca-9ce078bcb2bb",
   "metadata": {},
   "outputs": [],
   "source": [
    "# המרת הנתונים לטנסורים\n"
   ]
  },
  {
   "cell_type": "code",
   "execution_count": null,
   "id": "7c17e724-b485-4554-9bae-a6fc88d094f1",
   "metadata": {},
   "outputs": [],
   "source": [
    "# הגדרת המודל"
   ]
  },
  {
   "cell_type": "code",
   "execution_count": null,
   "id": "95f00a37-56a7-4b2a-9e5f-653aeb6652b4",
   "metadata": {},
   "outputs": [],
   "source": [
    "# יצירת אינסטנס של המודל\n",
    "\n",
    "\n",
    "# הגדרת פונקציית הפסד ואופטימיזר\n"
   ]
  },
  {
   "cell_type": "code",
   "execution_count": null,
   "id": "9060f17c-6036-4cce-b221-ae833b58db52",
   "metadata": {},
   "outputs": [],
   "source": [
    "# אימון המודל\n",
    "    # הדפסת איבוד כל 100 אפוקים \n",
    "    # הדפיסו גם את את הדיוק של סט האימון על הדרך"
   ]
  },
  {
   "cell_type": "code",
   "execution_count": null,
   "id": "b0df3f01-1ae8-4928-89fe-1a13c89719b7",
   "metadata": {},
   "outputs": [],
   "source": [
    "    \n",
    "# הערכת המודל\n"
   ]
  },
  {
   "cell_type": "code",
   "execution_count": null,
   "id": "5a13f818-f211-43d5-b631-efccb01c63ae",
   "metadata": {},
   "outputs": [],
   "source": []
  },
  {
   "cell_type": "code",
   "execution_count": null,
   "id": "d583f511-c0df-45a5-9370-9248bfa042c3",
   "metadata": {},
   "outputs": [],
   "source": []
  }
 ],
 "metadata": {
  "kernelspec": {
   "display_name": "Python 3 (ipykernel)",
   "language": "python",
   "name": "python3"
  },
  "language_info": {
   "codemirror_mode": {
    "name": "ipython",
    "version": 3
   },
   "file_extension": ".py",
   "mimetype": "text/x-python",
   "name": "python",
   "nbconvert_exporter": "python",
   "pygments_lexer": "ipython3",
   "version": "3.12.2"
  }
 },
 "nbformat": 4,
 "nbformat_minor": 5
}
