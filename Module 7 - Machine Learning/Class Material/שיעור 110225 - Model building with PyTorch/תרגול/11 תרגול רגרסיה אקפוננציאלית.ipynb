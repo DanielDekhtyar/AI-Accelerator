{
 "cells": [
  {
   "cell_type": "code",
   "execution_count": 1,
   "id": "144810a9-e98c-4853-8069-ba1a62851ae8",
   "metadata": {},
   "outputs": [],
   "source": [
    "import numpy as np\n",
    "import matplotlib.pyplot as plt\n",
    "import torch\n",
    "import torch.nn as nn\n",
    "import torch.optim as optim\n",
    "from sklearn.model_selection import train_test_split\n",
    "import numpy as np\n",
    "import matplotlib.pyplot as plt"
   ]
  },
  {
   "cell_type": "markdown",
   "id": "b43e6068-914a-4082-9386-b3d60b72b147",
   "metadata": {},
   "source": [
    "יצירת הנתונים"
   ]
  },
  {
   "cell_type": "code",
   "execution_count": 2,
   "id": "994854b6-0f61-4f12-8c96-344b093ded5f",
   "metadata": {},
   "outputs": [],
   "source": [
    "X = np.linspace(0, 3, 300).reshape(-1, 1)\n",
    "y = np.exp(X) + 0.15 * np.random.randn(*X.shape)  # מוסיפים קצת רעש\n"
   ]
  },
  {
   "cell_type": "code",
   "execution_count": 1,
   "id": "e81e7e68-1dbb-480b-8a60-a71c54697218",
   "metadata": {},
   "outputs": [],
   "source": [
    "# use matplotlib to visualize the data\n"
   ]
  },
  {
   "cell_type": "code",
   "execution_count": 2,
   "id": "273d263f-6b6e-4d09-98f2-ce88b3f482ab",
   "metadata": {},
   "outputs": [],
   "source": [
    "# חלוקת הנתונים לאימון ובדיקה\n",
    "\n",
    "# המרת הנתונים לטנסורים\n"
   ]
  },
  {
   "cell_type": "code",
   "execution_count": 5,
   "id": "8b01bcb7-0d0d-4d45-a0fe-5188062b0404",
   "metadata": {},
   "outputs": [],
   "source": [
    "# הגדרת המודל\n",
    "#נא להקפיד להגדיר גם שכבות וגם פונקציית עבודה קדימה בצורה מסודרת\n"
   ]
  },
  {
   "cell_type": "code",
   "execution_count": null,
   "id": "00c1d04f-daf5-4d35-b7ce-12137a188ee2",
   "metadata": {},
   "outputs": [],
   "source": [
    "# יצירת אינסטנס של המודל\n",
    "\n",
    "\n",
    "# הגדרת פונקציית הפסד ואופטימיזר\n",
    "\n",
    "# לולאת אימון המודל כולל הדפסת ההפסד כל כ 100 צעדים\n",
    "   \n",
    "\n",
    "    "
   ]
  },
  {
   "cell_type": "code",
   "execution_count": null,
   "id": "241e9017-34c3-434f-a900-5fe6066cc780",
   "metadata": {},
   "outputs": [],
   "source": [
    "# הערכת המודל הסופי\n",
    "# העברת המודל למצב הערכה (evaluation mode)\n",
    "\n",
    "# מבצעים תחזיות על נתוני הבדיקה\n",
    "\n",
    "\n",
    "# שימו לב - זו בעיית רגרסיה לכן יש לבדוק את המודל באמצעות \n",
    "# חישוב RMSE והדפסת התוצאה"
   ]
  },
  {
   "cell_type": "code",
   "execution_count": null,
   "id": "6335ce71-d466-4279-8c53-ab0c94bbea80",
   "metadata": {},
   "outputs": [],
   "source": [
    "#אם רוצים אפשר ליצור גרף של תחזיות לעומת טנסור תויות הבדיקה"
   ]
  }
 ],
 "metadata": {
  "kernelspec": {
   "display_name": "Python 3 (ipykernel)",
   "language": "python",
   "name": "python3"
  },
  "language_info": {
   "codemirror_mode": {
    "name": "ipython",
    "version": 3
   },
   "file_extension": ".py",
   "mimetype": "text/x-python",
   "name": "python",
   "nbconvert_exporter": "python",
   "pygments_lexer": "ipython3",
   "version": "3.12.2"
  }
 },
 "nbformat": 4,
 "nbformat_minor": 5
}
