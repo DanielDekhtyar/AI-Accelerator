{
 "cells": [
  {
   "cell_type": "code",
   "execution_count": null,
   "id": "54477347-2a44-497a-b074-d054dc3b56da",
   "metadata": {},
   "outputs": [],
   "source": [
    "import numpy as np\n",
    "import tensorflow as tf\n",
    "import matplotlib.pyplot as plt\n",
    "from sklearn.model_selection import train_test_split\n"
   ]
  },
  {
   "cell_type": "markdown",
   "id": "3deb9340-15ab-4bd7-9ace-ba35b3b5537a",
   "metadata": {},
   "source": [
    "יצירת הנתונים"
   ]
  },
  {
   "cell_type": "code",
   "execution_count": null,
   "id": "e293f6bb-92b4-4621-a86b-bc6e24196d1b",
   "metadata": {},
   "outputs": [],
   "source": [
    "# מספר הדוגמאו\n",
    "n_samples = 500\n",
    "\n",
    "# קואורדינטת X (בין -3 ל-3)\n",
    "x = np.linspace(-3, 3, n_samples)\n",
    "\n",
    "# יוצרים שני גלים מופרדים\n",
    "y1 = np.sin(x) + np.random.normal(scale=0.2, size=n_samples)  # גל ראשון\n",
    "y2 = np.sin(x) + np.random.normal(scale=0.2, size=n_samples) + 0.85 # גל שני, מוזז למעלה\n",
    "\n",
    "# מחברים הכל למטריצה של תכונות (X) ותיוגים (y)\n",
    "X = np.column_stack((np.concatenate([x, x]), np.concatenate([y1, y2])))\n",
    "y = np.array([0] * n_samples + [1] * n_samples)  # תיוגים לפי הגל\n",
    "\n",
    "# הבה נראה מה יצא\n",
    "plt.scatter(X[:, 0], X[:, 1], c=y, cmap='coolwarm')\n",
    "plt.xlabel(\"X coordinate\")\n",
    "plt.ylabel(\"Y coordinate\")\n",
    "plt.title(\"יפוי הזיא ואוו\")\n",
    "plt.show()"
   ]
  },
  {
   "cell_type": "code",
   "execution_count": null,
   "id": "1e74a6b7-eaf2-49d8-8583-6bc139214454",
   "metadata": {},
   "outputs": [],
   "source": [
    "# מחלקים ל-Train/Test\n"
   ]
  },
  {
   "cell_type": "code",
   "execution_count": null,
   "id": "f2a16c0b-4e43-4e78-bea1-20d1e3f640df",
   "metadata": {},
   "outputs": [],
   "source": [
    "# בניית המודל\n"
   ]
  },
  {
   "cell_type": "code",
   "execution_count": null,
   "id": "65d3490d-b273-4462-ab2d-7cbe792c0f5f",
   "metadata": {},
   "outputs": [],
   "source": [
    "# קומפילציה של המודל\n"
   ]
  },
  {
   "cell_type": "code",
   "execution_count": null,
   "id": "398697f4-1544-45fd-b56a-9687dbb9bcb4",
   "metadata": {},
   "outputs": [],
   "source": [
    "# אימון המודל\n"
   ]
  },
  {
   "cell_type": "code",
   "execution_count": null,
   "id": "d2cb5f38-a0cd-4436-af09-2b062e4e3a56",
   "metadata": {},
   "outputs": [],
   "source": [
    "#plot history\n"
   ]
  },
  {
   "cell_type": "code",
   "execution_count": null,
   "id": "788352ce-c685-495f-b276-d010b4775476",
   "metadata": {},
   "outputs": [],
   "source": []
  },
  {
   "cell_type": "code",
   "execution_count": null,
   "id": "443c83bd-548e-4c62-92e3-1008ee6e4e5e",
   "metadata": {},
   "outputs": [],
   "source": [
    "%run PlotBoudary.ipynb\n",
    "\n",
    "tf_plot_boundary(X,y,model)"
   ]
  },
  {
   "cell_type": "code",
   "execution_count": null,
   "id": "59eab3eb-c0fa-45ed-87ae-700919cbbe2c",
   "metadata": {},
   "outputs": [],
   "source": []
  }
 ],
 "metadata": {
  "kernelspec": {
   "display_name": "Python 3 (ipykernel)",
   "language": "python",
   "name": "python3"
  },
  "language_info": {
   "codemirror_mode": {
    "name": "ipython",
    "version": 3
   },
   "file_extension": ".py",
   "mimetype": "text/x-python",
   "name": "python",
   "nbconvert_exporter": "python",
   "pygments_lexer": "ipython3",
   "version": "3.12.2"
  }
 },
 "nbformat": 4,
 "nbformat_minor": 5
}
