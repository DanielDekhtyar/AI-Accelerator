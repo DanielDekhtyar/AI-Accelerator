{
 "cells": [
  {
   "cell_type": "code",
   "execution_count": null,
   "id": "4f43cba0-2a00-47ce-aa0b-f52660eb577d",
   "metadata": {},
   "outputs": [],
   "source": [
    "#imports\n",
    "import numpy as np\n",
    "import matplotlib.pyplot as plt\n",
    "import tensorflow as tf\n",
    "from sklearn.model_selection import train_test_split\n"
   ]
  },
  {
   "cell_type": "code",
   "execution_count": null,
   "id": "c89467c3-2c23-4c95-a3f1-bbf05265a371",
   "metadata": {},
   "outputs": [],
   "source": [
    "#create the data\n",
    "\n",
    "###יצירת תת קבוצה:  קוים\n",
    "#מספר נק' בתת קבוצה\n",
    "n_points = 200  \n",
    "thickness = 0.05  # העובי של הקווים\n",
    "exclusion_radius = 0.07  # רדיוס בטיחות - מונע חפיפה של הרעש על האותיות\n",
    "\n",
    "# פונקציה להוספת רעש (עובי) לנקודות\n",
    "def add_noise(points, scale=thickness):\n",
    "    return points + np.random.normal(scale=scale, size=points.shape)\n",
    "\n",
    "# עם שני אלכסונים וקו אופקי\n",
    "a_left = np.column_stack((np.linspace(-0.6, 0, n_points), np.linspace(-1, 1, n_points)))  # קו שמאלי\n",
    "a_right = np.column_stack((np.linspace(0.6, 0, n_points), np.linspace(-1, 1, n_points)))   # קו ימני\n",
    "a_middle = np.column_stack((np.linspace(-0.3, 0.3, int(n_points/2)), np.full(int(n_points/2), 0)))  # קו אופקי\n",
    "\n",
    "#קו אנכי\n",
    "i_body = np.column_stack((np.full(n_points, 0.8), np.linspace(-1, 1, n_points)))  # קו אנכי\n",
    "\n",
    "# הוספת רעש\n",
    "a_left = add_noise(a_left)\n",
    "a_right = add_noise(a_right)\n",
    "a_middle = add_noise(a_middle)\n",
    "i_body = add_noise(i_body)\n",
    "\n",
    "# איחוד הקבוצה\n",
    "X_AI = np.vstack((a_left, a_right, a_middle, i_body))\n",
    "y_AI = np.ones(X_AI.shape[0])  # כל הנקודות באותיות יקבלו תווית 1\n",
    "\n",
    "# יצירת רעש רנדומלי והפרדת חפיפה בין קבוצת קוווים לקבוצת רקע\n",
    "n_noise = 800  \n",
    "X_noise = []\n",
    "while len(X_noise) < n_noise:\n",
    "    candidate = np.random.rand(1, 2) * 2 - 1  # נקודה רנדומלית בטווח [-1,1]x[-1,1]\n",
    "    distances = np.linalg.norm(X_AI - candidate, axis=1)  # חישוב מרחק מכל נקודה אדומה\n",
    "    if np.all(distances > exclusion_radius):  # אם הנקודה רחוקה מספיק, נוסיף אותה\n",
    "        X_noise.append(candidate[0])\n",
    "\n",
    "X_noise = np.array(X_noise)\n",
    "y_noise = np.zeros(X_noise.shape[0])  # כל נקודות הרקע יקבלו תווית 0\n",
    "\n",
    "# שילוב הדאטה – אותיות + רעש\n",
    "X = np.vstack((X_AI, X_noise))\n",
    "y = np.hstack((y_AI, y_noise))"
   ]
  },
  {
   "cell_type": "code",
   "execution_count": null,
   "id": "7d8e0a4b-5afc-4e3f-a967-81b5974131e1",
   "metadata": {},
   "outputs": [],
   "source": [
    "#look at the data- \n",
    "# הצגת הנתונים\n",
    "plt.figure(figsize=(6,6))\n",
    "plt.scatter(X[:, 0], X[:, 1], c=y, cmap='coolwarm', s=10)\n",
    "plt.xlabel(\"X coordinate\")\n",
    "plt.ylabel(\"Y coordinate\")\n",
    "plt.show()\n"
   ]
  },
  {
   "cell_type": "code",
   "execution_count": null,
   "id": "45e6e882-7c90-40ae-a389-d3a54f9148e8",
   "metadata": {},
   "outputs": [],
   "source": [
    "# train test split\n"
   ]
  },
  {
   "cell_type": "code",
   "execution_count": null,
   "id": "a9157547-1c04-4b4c-9fdb-2c1d4581013b",
   "metadata": {},
   "outputs": [],
   "source": [
    "# build the model\n"
   ]
  },
  {
   "cell_type": "code",
   "execution_count": null,
   "id": "e6b38da9-3baf-4f92-8669-e8de13e8f6a2",
   "metadata": {},
   "outputs": [],
   "source": [
    "# compile the model\n"
   ]
  },
  {
   "cell_type": "code",
   "execution_count": null,
   "id": "bfd8f38e-50fd-43a7-9a15-8974455d6746",
   "metadata": {},
   "outputs": [],
   "source": [
    "# train the model\n"
   ]
  },
  {
   "cell_type": "code",
   "execution_count": null,
   "id": "86672ac7-4865-4452-b873-b06d2c40bf6d",
   "metadata": {},
   "outputs": [],
   "source": [
    "%run /content/PlotBoudary.ipynb\n",
    "tf_plot_boundary(X,y,model)"
   ]
  },
  {
   "cell_type": "code",
   "execution_count": null,
   "id": "e259c372-cf73-4375-bb51-29d55e04d584",
   "metadata": {},
   "outputs": [],
   "source": [
    "# plot history\n"
   ]
  },
  {
   "cell_type": "code",
   "execution_count": null,
   "id": "84b2e9c4-fe50-44fd-a31c-0250cd1dd162",
   "metadata": {},
   "outputs": [],
   "source": [
    "#evalute"
   ]
  },
  {
   "cell_type": "code",
   "execution_count": null,
   "id": "42fa5506-6d1a-4dcc-9b87-63cf851e2d0f",
   "metadata": {},
   "outputs": [],
   "source": []
  }
 ],
 "metadata": {
  "kernelspec": {
   "display_name": "Python 3 (ipykernel)",
   "language": "python",
   "name": "python3"
  },
  "language_info": {
   "codemirror_mode": {
    "name": "ipython",
    "version": 3
   },
   "file_extension": ".py",
   "mimetype": "text/x-python",
   "name": "python",
   "nbconvert_exporter": "python",
   "pygments_lexer": "ipython3",
   "version": "3.12.2"
  }
 },
 "nbformat": 4,
 "nbformat_minor": 5
}
