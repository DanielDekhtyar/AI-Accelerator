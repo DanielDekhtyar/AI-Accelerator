{
 "cells": [
  {
   "cell_type": "code",
   "execution_count": 8,
   "id": "991e296b-0317-4194-9a2b-7066da5dfc6c",
   "metadata": {},
   "outputs": [],
   "source": [
    "import tensorflow as tf\n",
    "import seaborn as sns\n",
    "import pandas as pd\n",
    "import numpy as np\n",
    "from sklearn.model_selection import train_test_split\n",
    "from sklearn.preprocessing import StandardScaler\n",
    "import matplotlib.pyplot as plt"
   ]
  },
  {
   "cell_type": "code",
   "execution_count": null,
   "id": "7ddb9933-e6da-4a37-b352-d44a482fbece",
   "metadata": {},
   "outputs": [],
   "source": [
    "#  טעינה\n",
    "df = sns.load_dataset(\"titanic\")"
   ]
  },
  {
   "cell_type": "code",
   "execution_count": null,
   "id": "7bc8e1c3-1b5d-4ade-82c6-4c80396eeb08",
   "metadata": {},
   "outputs": [],
   "source": [
    "#  עיבוד נתונים - שמירת משתנים רלוונטיים['pclass', 'sex', 'age', 'fare', 'embark_town']\n"
   ]
  },
  {
   "cell_type": "code",
   "execution_count": null,
   "id": "94d90270-57ef-4d66-bc2e-a9d7e3b0c8dd",
   "metadata": {},
   "outputs": [],
   "source": [
    "# קידוד משתנים קטגוריים\n"
   ]
  },
  {
   "cell_type": "code",
   "execution_count": null,
   "id": "4ccec728-f94f-44c1-b7ae-bf027c1f252e",
   "metadata": {},
   "outputs": [],
   "source": [
    "# הפרדת תכונות ומטרה\n"
   ]
  },
  {
   "cell_type": "code",
   "execution_count": null,
   "id": "6e09633f-3edf-4275-8ee4-f8550ea9047a",
   "metadata": {},
   "outputs": [],
   "source": [
    "# נרמול הנתונים מרשה הפעם לפני ה train_test_split\n"
   ]
  },
  {
   "cell_type": "code",
   "execution_count": null,
   "id": "ee21e8cf-002b-4355-8760-a070513d9b27",
   "metadata": {},
   "outputs": [],
   "source": [
    "#  פיצול הנתונים לסט אימון וסט בדיקה\n"
   ]
  },
  {
   "cell_type": "code",
   "execution_count": null,
   "id": "c8c3269e-87d2-4fbd-a55b-44d34ddbfa67",
   "metadata": {},
   "outputs": [],
   "source": [
    "#ומכאן תחשבו לבד....."
   ]
  },
  {
   "cell_type": "code",
   "execution_count": null,
   "id": "e91e5e62-7961-4b7e-87af-9675d30b0798",
   "metadata": {},
   "outputs": [],
   "source": []
  }
 ],
 "metadata": {
  "kernelspec": {
   "display_name": "Python 3 (ipykernel)",
   "language": "python",
   "name": "python3"
  },
  "language_info": {
   "codemirror_mode": {
    "name": "ipython",
    "version": 3
   },
   "file_extension": ".py",
   "mimetype": "text/x-python",
   "name": "python",
   "nbconvert_exporter": "python",
   "pygments_lexer": "ipython3",
   "version": "3.12.2"
  }
 },
 "nbformat": 4,
 "nbformat_minor": 5
}
