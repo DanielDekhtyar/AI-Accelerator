{
 "cells": [
  {
   "cell_type": "code",
   "execution_count": null,
   "id": "3959b18c-d467-4d7a-b93a-80f2d62101cd",
   "metadata": {},
   "outputs": [],
   "source": [
    "import torch"
   ]
  },
  {
   "cell_type": "markdown",
   "id": "73b4a991-f894-49ef-ab6f-abb9a4fc4056",
   "metadata": {},
   "source": [
    "### requires_grad=True\n",
    "\n",
    "look at the code and try and figure out wha the result would be. if you got it- you may proceed.  \n",
    "if not change the value of x and try again"
   ]
  },
  {
   "cell_type": "code",
   "execution_count": null,
   "id": "93467778-c7f7-479b-911f-f27a745662d7",
   "metadata": {},
   "outputs": [],
   "source": [
    "x = torch.tensor(7., requires_grad=True)  \n",
    "y = x ** 2  # y = x^2\n",
    "y.backward()  \n",
    "print(x.grad) \n",
    "\n"
   ]
  },
  {
   "cell_type": "code",
   "execution_count": null,
   "id": "6181a92d-213f-458f-87c9-51f3b4be98c5",
   "metadata": {},
   "outputs": [],
   "source": [
    "x = torch.tensor(5., requires_grad=True)  \n",
    "y = x **3 + x\n",
    "y.backward()  \n",
    "print(x.grad) \n"
   ]
  },
  {
   "cell_type": "markdown",
   "id": "73fa857e-e864-4210-bfd1-a0481325451b",
   "metadata": {},
   "source": [
    "### **Exercise: Animal Detection in Safari Images**\n",
    "\n",
    "##### **Task Overview:**\n",
    "You have a system designed to detect animals in images taken in the safari. You will work with image data, perform reshaping, calculate detection scores, and backpropagate through a loss function to update weights.\n",
    "\n",
    "---\n",
    "first - import the necessary libraries"
   ]
  },
  {
   "cell_type": "code",
   "execution_count": null,
   "id": "df96fec3-eb40-4f27-acc9-a47e2b381ea3",
   "metadata": {},
   "outputs": [],
   "source": []
  },
  {
   "cell_type": "markdown",
   "id": "7336297d-08d1-4217-9480-6208a0a55ecc",
   "metadata": {},
   "source": [
    "##### **Steps:**\n",
    "\n",
    "1. **Create the image tensor:**  \n",
    "   The images are provided in the shape `(batch_size, height, width, channels)`.  \n",
    "   - First- using torch .rand() Create a tensor of 4 images, each of size 32x32 with 3 color channels.\n",
    "   - Then - rearrange the dimensions to match the format `(batch_size, channels, height, width).\n",
    "   -  print the final shape to make sure it is mattching the standard 4,3,32x32"
   ]
  },
  {
   "cell_type": "code",
   "execution_count": null,
   "id": "c5812526-c699-4d1c-852d-9414c291d2b7",
   "metadata": {},
   "outputs": [],
   "source": []
  },
  {
   "cell_type": "code",
   "execution_count": null,
   "id": "4ae881fd-c47c-4176-a297-269a4859c631",
   "metadata": {},
   "outputs": [],
   "source": []
  },
  {
   "cell_type": "markdown",
   "id": "181ebc4d-4599-430f-b8a3-97d3f514fae8",
   "metadata": {},
   "source": [
    "2. **Define weights:**  \n",
    "   - Create a tensor of `weights` for each  of the 3  color channel. again use tensor.rand The tensor should have `requires_grad=True`."
   ]
  },
  {
   "cell_type": "code",
   "execution_count": null,
   "id": "b175556e-d8ba-4291-a60c-52d1454669d0",
   "metadata": {},
   "outputs": [],
   "source": []
  },
  {
   "cell_type": "markdown",
   "id": "425a4716-1327-4558-8efe-0014eb9e98de",
   "metadata": {},
   "source": [
    "3. **Calculate detection scores:**  \n",
    "   - Compute the sum of pixel values for each image and multiply by the weights.\n",
    "   - hint: if you are having truble there is a hint at the end of this page: "
   ]
  },
  {
   "cell_type": "code",
   "execution_count": null,
   "id": "b74ea43b-0e25-4d18-8702-d31878d9c7c6",
   "metadata": {},
   "outputs": [],
   "source": []
  },
  {
   "cell_type": "markdown",
   "id": "0f0e07ae-9d1e-403c-9a3c-be5cad36b5e8",
   "metadata": {},
   "source": [
    "4. **Define a loss function:**  \n",
    "   - Create a loss function that calculates the mean squared error between the computed scores and a target value of `100`."
   ]
  },
  {
   "cell_type": "code",
   "execution_count": null,
   "id": "d42def67-1982-4347-b0ab-83cb7dc4dfe1",
   "metadata": {},
   "outputs": [],
   "source": []
  },
  {
   "cell_type": "markdown",
   "id": "4d348d9d-bce8-4653-bfe0-751f0ce7fed8",
   "metadata": {},
   "source": [
    "5. **Perform backpropagation:**  \n",
    "   - Use `backward()` to calculate the gradients of the weights based on the loss."
   ]
  },
  {
   "cell_type": "code",
   "execution_count": null,
   "id": "5f030f7a-7add-40d7-b776-55b0261a92dc",
   "metadata": {},
   "outputs": [],
   "source": []
  },
  {
   "cell_type": "markdown",
   "id": "d849c1c8-1d48-49e5-aae6-7a29e9f0b5bc",
   "metadata": {},
   "source": [
    "6. **Display the gradients:**  \n",
    "   - Print the gradients of the weights to see how they would be updated."
   ]
  },
  {
   "cell_type": "code",
   "execution_count": null,
   "id": "a8c9dec4-0e17-4782-b458-03324d595ddf",
   "metadata": {},
   "outputs": [],
   "source": [
    "\n"
   ]
  },
  {
   "cell_type": "code",
   "execution_count": null,
   "id": "ded2188d-7bcc-4cf8-85a4-d1126a9be1f1",
   "metadata": {},
   "outputs": [],
   "source": []
  },
  {
   "cell_type": "code",
   "execution_count": null,
   "id": "d817ec30-e570-4658-bc45-6ed8b3531a51",
   "metadata": {},
   "outputs": [],
   "source": []
  },
  {
   "cell_type": "markdown",
   "id": "692b008a-bbfd-4669-8201-e2f2d9c17c43",
   "metadata": {},
   "source": [
    "hint for 3:\n",
    "- first add the number of pixels for each color in each picture like so: images_reshaped.sum(dim=(2, 3))\n",
    "- multiply it by the weigths for each color\n",
    "- now sum the result so there is a score for each image"
   ]
  },
  {
   "cell_type": "code",
   "execution_count": null,
   "id": "4314eac1-5530-4cb8-95f1-4d727029aba4",
   "metadata": {},
   "outputs": [],
   "source": []
  }
 ],
 "metadata": {
  "kernelspec": {
   "display_name": "Python 3 (ipykernel)",
   "language": "python",
   "name": "python3"
  },
  "language_info": {
   "codemirror_mode": {
    "name": "ipython",
    "version": 3
   },
   "file_extension": ".py",
   "mimetype": "text/x-python",
   "name": "python",
   "nbconvert_exporter": "python",
   "pygments_lexer": "ipython3",
   "version": "3.12.2"
  }
 },
 "nbformat": 4,
 "nbformat_minor": 5
}
