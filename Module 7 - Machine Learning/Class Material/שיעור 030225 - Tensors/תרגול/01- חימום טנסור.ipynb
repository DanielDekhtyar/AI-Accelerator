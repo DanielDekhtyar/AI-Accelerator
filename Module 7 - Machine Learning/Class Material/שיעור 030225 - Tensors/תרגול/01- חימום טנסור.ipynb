{
  "cells": [
    {
      "cell_type": "markdown",
      "id": "746f71cc-1aa7-4d00-8a39-323f68ee3013",
      "metadata": {
        "id": "746f71cc-1aa7-4d00-8a39-323f68ee3013"
      },
      "source": [
        "\n",
        "A **scientific laboratory** tracks the usage of three essential measuring instruments: **a voltmeter, an ammeter, and a thermometer**. Each instrument has a fixed cost:\n",
        "\n",
        "- **Voltmeter**: $50\n",
        "\n",
        "- **Ammeter** $30\n",
        "\n",
        "- **Thermometer**: $20  \n",
        "\n",
        "The lab technicians use different numbers of these instruments each day, and the lab manager wants to calculate the **total cost of instrument usage** for each day over the past **four days**.\n",
        "\n",
        "The recorded daily usage data looks like this:\n",
        "\n",
        "| Day | Voltmeter | Ammeter | Thermometer |\n",
        "|----|----------|--------|------------|\n",
        "| 1  | 5        | 7      | 10         |\n",
        "| 2  | 4        | 6      | 8          |\n",
        "| 3  | 6        | 5      | 9          |\n",
        "| 4  | 7        | 8      | 10         |\n",
        "\n",
        "The manager asks you to **calculate the total cost of instruments used per day** using **PyTorch tensor operations**.\n",
        "\n",
        "### **Question:**\n",
        "Using the given instrument prices and daily usage data, how can you compute the total cost of instruments used each day using PyTorch?\n",
        "\n",
        "Write a PyTorch expression that calculates the total cost for each of the four days as a tensor.\n"
      ]
    },
    {
      "cell_type": "code",
      "execution_count": null,
      "id": "717839ca-2be0-4e8f-9cc4-5508562157b6",
      "metadata": {
        "id": "717839ca-2be0-4e8f-9cc4-5508562157b6"
      },
      "outputs": [],
      "source": [
        "# Define prices of instruments as a tensor- 3 rows 1 column matrix of prices(voltmeter, ammeter, and thermometer)\n",
        "\n",
        "\n",
        "\n",
        "# Define the matrix (4 days x 3 types of instruments) each day will be a row in the matrix (like the table above)\n"
      ]
    },
    {
      "cell_type": "code",
      "execution_count": null,
      "id": "891e233a-9c05-4c49-85a1-d9aab406a2c5",
      "metadata": {
        "id": "891e233a-9c05-4c49-85a1-d9aab406a2c5"
      },
      "outputs": [],
      "source": []
    },
    {
      "cell_type": "markdown",
      "id": "f8d5ba38-b158-4c80-bc4f-9ee3c2af5272",
      "metadata": {
        "id": "f8d5ba38-b158-4c80-bc4f-9ee3c2af5272"
      },
      "source": [
        "A **coffee shop** tracks the sales of three types of coffee over four days. Each type of coffee has a fixed price:\n",
        "\n",
        "- **Espresso**: $3     \n",
        "\n",
        "- **Latte**: $4  \n",
        "\n",
        "- **Americano**: $2  \n",
        "\n",
        "The shop owner wants to calculate the **total revenue** generated from coffee sales for each of the past **four days**.\n",
        "\n",
        "The recorded daily sales data looks like this:\n",
        "\n",
        "| Day | Espresso | Latte | Americano |\n",
        "|----|---------|------|----------|\n",
        "| 1  | 10      | 15   | 25       |\n",
        "| 2  | 8       | 10   | 12       |\n",
        "| 3  | 12      | 10   | 18       |\n",
        "| 4  | 15      | 20   | 25       |\n",
        "\n",
        "The shop owner asks you to **calculate the total revenue from coffee sales per day** using **PyTorch tensor operations**.\n",
        "\n",
        "### **Question:**\n",
        "Using the given coffee prices and daily sales data, how can you compute the total revenue for each day using PyTorch?\n",
        "\n",
        "Write a PyTorch expression that calculates the total revenue for each of the four days as a tensor.\n"
      ]
    },
    {
      "cell_type": "code",
      "execution_count": null,
      "id": "320703d5-6294-417c-835f-4b6d5752b10e",
      "metadata": {
        "id": "320703d5-6294-417c-835f-4b6d5752b10e"
      },
      "outputs": [],
      "source": [
        "# Coffee prices (3 types of coffee) as a row matrix of prices (1 matrix row with 3 values)\n",
        "\n",
        "# Daily sales matrix (4 days x 3 types of coffee) each day will be a row in the matrix (like the table above)\n"
      ]
    },
    {
      "cell_type": "code",
      "execution_count": null,
      "id": "48614f37-88ed-4263-9602-99879641710a",
      "metadata": {
        "id": "48614f37-88ed-4263-9602-99879641710a"
      },
      "outputs": [],
      "source": []
    }
  ],
  "metadata": {
    "kernelspec": {
      "display_name": "Python 3 (ipykernel)",
      "language": "python",
      "name": "python3"
    },
    "language_info": {
      "codemirror_mode": {
        "name": "ipython",
        "version": 3
      },
      "file_extension": ".py",
      "mimetype": "text/x-python",
      "name": "python",
      "nbconvert_exporter": "python",
      "pygments_lexer": "ipython3",
      "version": "3.12.2"
    },
    "colab": {
      "provenance": []
    }
  },
  "nbformat": 4,
  "nbformat_minor": 5
}