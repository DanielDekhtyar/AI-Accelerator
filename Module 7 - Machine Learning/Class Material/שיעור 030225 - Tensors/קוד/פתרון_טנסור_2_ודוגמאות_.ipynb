{
  "cells": [
    {
      "cell_type": "code",
      "execution_count": 2,
      "id": "48e62fb9-5d71-4b07-b2ca-fef293cd2b6c",
      "metadata": {
        "id": "48e62fb9-5d71-4b07-b2ca-fef293cd2b6c"
      },
      "outputs": [],
      "source": [
        "import torch"
      ]
    },
    {
      "cell_type": "code",
      "execution_count": 3,
      "id": "ff292a03-9f65-45d6-a539-32c53280af53",
      "metadata": {
        "id": "ff292a03-9f65-45d6-a539-32c53280af53"
      },
      "outputs": [],
      "source": [
        "# 1. יצירת טנסור supplies\n",
        "supplies = torch.tensor([\n",
        "    [5, 10, 15],   # קבוצה 1\n",
        "    [8, 12, 9],    # קבוצה 2\n",
        "    [4, 8, 12]     # קבוצה 3\n",
        "])"
      ]
    },
    {
      "cell_type": "code",
      "source": [
        "supplies"
      ],
      "metadata": {
        "colab": {
          "base_uri": "https://localhost:8080/"
        },
        "id": "icAUA9RspneB",
        "outputId": "5f4fcb46-3786-4386-9088-c116ea5f94ac"
      },
      "id": "icAUA9RspneB",
      "execution_count": 4,
      "outputs": [
        {
          "output_type": "execute_result",
          "data": {
            "text/plain": [
              "tensor([[ 5, 10, 15],\n",
              "        [ 8, 12,  9],\n",
              "        [ 4,  8, 12]])"
            ]
          },
          "metadata": {},
          "execution_count": 4
        }
      ]
    },
    {
      "cell_type": "code",
      "execution_count": 5,
      "id": "2d346a84-02ad-44ab-a7ca-d1f58f1a1911",
      "metadata": {
        "colab": {
          "base_uri": "https://localhost:8080/"
        },
        "id": "2d346a84-02ad-44ab-a7ca-d1f58f1a1911",
        "outputId": "4cb5efc2-46a6-4ef7-89f3-4967de896e63"
      },
      "outputs": [
        {
          "output_type": "stream",
          "name": "stdout",
          "text": [
            "Shape: torch.Size([3, 3])\n",
            "ndim 2\n",
            "data type: torch.int64\n"
          ]
        }
      ],
      "source": [
        "# 2. בדיקת מבנה הטנסור\n",
        "print(\"Shape:\", supplies.shape)\n",
        "print(\"ndim\", supplies.ndim)\n",
        "print(\"data type:\", supplies.dtype)"
      ]
    },
    {
      "cell_type": "code",
      "execution_count": 9,
      "id": "2b696db3-21d3-4468-8e5f-c8a30f8e6fe9",
      "metadata": {
        "colab": {
          "base_uri": "https://localhost:8080/"
        },
        "id": "2b696db3-21d3-4468-8e5f-c8a30f8e6fe9",
        "outputId": "ee41d397-ecb4-44ef-828a-d4baef2ad219"
      },
      "outputs": [
        {
          "output_type": "stream",
          "name": "stdout",
          "text": [
            "Fruits per group 1: 10\n"
          ]
        }
      ],
      "source": [
        "# 3. הדפסת כמות הפירות של הקבוצה הראשונה\n",
        "print(\"Fruits per group 1:\", supplies[0,1].item())"
      ]
    },
    {
      "cell_type": "code",
      "source": [
        "supplies[1][2]"
      ],
      "metadata": {
        "colab": {
          "base_uri": "https://localhost:8080/"
        },
        "id": "RHiHSv3wqiaK",
        "outputId": "16632221-6ac7-423e-c0d2-3f34f66fdfc9"
      },
      "id": "RHiHSv3wqiaK",
      "execution_count": 10,
      "outputs": [
        {
          "output_type": "execute_result",
          "data": {
            "text/plain": [
              "tensor(9)"
            ]
          },
          "metadata": {},
          "execution_count": 10
        }
      ]
    },
    {
      "cell_type": "code",
      "execution_count": 11,
      "id": "cf414706-31e7-4226-b55e-cfe05fa40701",
      "metadata": {
        "colab": {
          "base_uri": "https://localhost:8080/"
        },
        "id": "cf414706-31e7-4226-b55e-cfe05fa40701",
        "outputId": "fe5428a4-90c9-423b-fbd9-fc2276131aa8"
      },
      "outputs": [
        {
          "output_type": "stream",
          "name": "stdout",
          "text": [
            "Updated supplies tensor:\n",
            " tensor([[ 5, 10, 15],\n",
            "        [ 8, 12, 20],\n",
            "        [ 4,  8, 12]])\n"
          ]
        }
      ],
      "source": [
        "# 4. עדכון כמות החטיפים של הקבוצה השנייה והדפסת הטנסור לאחר העדכון\n",
        "supplies[1, 2] = 20\n",
        "print(\"Updated supplies tensor:\\n\", supplies)"
      ]
    },
    {
      "cell_type": "code",
      "execution_count": 12,
      "id": "5af180e4-ffaf-42a2-819d-0fca7f892420",
      "metadata": {
        "colab": {
          "base_uri": "https://localhost:8080/"
        },
        "id": "5af180e4-ffaf-42a2-819d-0fca7f892420",
        "outputId": "d2c35e5f-37bf-4f91-9dc1-ca8f21b7a09f"
      },
      "outputs": [
        {
          "output_type": "stream",
          "name": "stdout",
          "text": [
            "Now the total supply is 94\n"
          ]
        }
      ],
      "source": [
        "# 5. חישוב כמות הציוד הכוללת לכל הקבוצות יחד\n",
        "total_supplies = supplies.sum()\n",
        "print(\"Now the total supply is\", total_supplies.item())"
      ]
    },
    {
      "cell_type": "code",
      "source": [
        "supplies.shape"
      ],
      "metadata": {
        "colab": {
          "base_uri": "https://localhost:8080/"
        },
        "id": "3oeLItcVraFh",
        "outputId": "a9113de3-cf93-4a2f-e14d-ffc43b44e456"
      },
      "id": "3oeLItcVraFh",
      "execution_count": 13,
      "outputs": [
        {
          "output_type": "execute_result",
          "data": {
            "text/plain": [
              "torch.Size([3, 3])"
            ]
          },
          "metadata": {},
          "execution_count": 13
        }
      ]
    },
    {
      "cell_type": "code",
      "execution_count": 17,
      "id": "b1073272-5a9a-4d5d-b13b-c2bfd3305fdf",
      "metadata": {
        "colab": {
          "base_uri": "https://localhost:8080/"
        },
        "id": "b1073272-5a9a-4d5d-b13b-c2bfd3305fdf",
        "outputId": "a40341ae-d5e4-42e0-f069-dcf32e905a6d"
      },
      "outputs": [
        {
          "output_type": "stream",
          "name": "stdout",
          "text": [
            "Expanded shape with extra dimensions: torch.Size([1, 3, 1, 3])\n"
          ]
        }
      ],
      "source": [
        "# 6. הוספת שני ממדים נוספים לטנסור\n",
        "expanded_supplies = supplies.unsqueeze(0).unsqueeze(2)\n",
        "#expanded_supplies = supplies.unsqueeze(0)\n",
        "#expanded_supplies = supplies.unsqueeze(2)\n",
        "print(\"Expanded shape with extra dimensions:\", expanded_supplies.shape)"
      ]
    },
    {
      "cell_type": "code",
      "execution_count": 18,
      "id": "f5a3df3c-f9b8-4f30-b738-a20d62b89537",
      "metadata": {
        "colab": {
          "base_uri": "https://localhost:8080/"
        },
        "id": "f5a3df3c-f9b8-4f30-b738-a20d62b89537",
        "outputId": "5fbbac5c-eccf-4a11-a2b5-704992063e1d"
      },
      "outputs": [
        {
          "output_type": "stream",
          "name": "stdout",
          "text": [
            "Shape after squeezing one dimension: torch.Size([3, 1, 3])\n"
          ]
        }
      ],
      "source": [
        "# 7. כיווץ של ממד אחד ושמירת הטנסור החדש\n",
        "new_supplies = expanded_supplies.squeeze(0)\n",
        "print(\"Shape after squeezing one dimension:\", new_supplies.shape)"
      ]
    },
    {
      "cell_type": "code",
      "source": [
        "new_supplies.shape"
      ],
      "metadata": {
        "colab": {
          "base_uri": "https://localhost:8080/"
        },
        "id": "AyxZ0r4os3Bh",
        "outputId": "71a7b809-1ac0-4a86-a0d5-0d7126bc6985"
      },
      "id": "AyxZ0r4os3Bh",
      "execution_count": 20,
      "outputs": [
        {
          "output_type": "execute_result",
          "data": {
            "text/plain": [
              "torch.Size([3, 1, 3])"
            ]
          },
          "metadata": {},
          "execution_count": 20
        }
      ]
    },
    {
      "cell_type": "code",
      "source": [
        "new_supplies[2,0,0]"
      ],
      "metadata": {
        "colab": {
          "base_uri": "https://localhost:8080/"
        },
        "id": "9_jpPO3ftCJI",
        "outputId": "1d29db76-ce98-4631-d8a0-b929ccc86ea4"
      },
      "id": "9_jpPO3ftCJI",
      "execution_count": 22,
      "outputs": [
        {
          "output_type": "execute_result",
          "data": {
            "text/plain": [
              "tensor(4)"
            ]
          },
          "metadata": {},
          "execution_count": 22
        }
      ]
    },
    {
      "cell_type": "code",
      "execution_count": 23,
      "id": "8d6df0e3-c774-4daf-a6eb-0a8915138da5",
      "metadata": {
        "colab": {
          "base_uri": "https://localhost:8080/"
        },
        "id": "8d6df0e3-c774-4daf-a6eb-0a8915138da5",
        "outputId": "cca71b61-6107-4b12-fcb9-231673c5c5cb"
      },
      "outputs": [
        {
          "output_type": "stream",
          "name": "stdout",
          "text": [
            "New supplies after updating bottles for group 3:\n",
            " tensor([[[ 5, 10, 15]],\n",
            "\n",
            "        [[ 8, 12, 20]],\n",
            "\n",
            "        [[10,  8, 12]]])\n"
          ]
        }
      ],
      "source": [
        "# 8. שינוי כמות הבקבוקים של הקבוצה השלישית ל-10\n",
        "new_supplies[2, 0, 0] = 10\n",
        "print(\"New supplies after updating bottles for group 3:\\n\", new_supplies)"
      ]
    },
    {
      "cell_type": "code",
      "execution_count": 24,
      "id": "0fb064d0-0342-46af-b5cc-bf37b1957205",
      "metadata": {
        "colab": {
          "base_uri": "https://localhost:8080/"
        },
        "id": "0fb064d0-0342-46af-b5cc-bf37b1957205",
        "outputId": "9c7bf728-28ec-43cf-bd54-8f0123bacac4"
      },
      "outputs": [
        {
          "output_type": "stream",
          "name": "stdout",
          "text": [
            "Total supplies for NEW supplies: 100\n",
            "Total supplies for OLD supplies: 100\n",
            "Delte is: 0\n"
          ]
        }
      ],
      "source": [
        "# 9.  חישוב   הפרש כמות הציוד הכוללת עבור הטנסור החדש לעומת הישן\n",
        "new_total_supplies = new_supplies.sum()\n",
        "old_total_supplies = supplies.sum()\n",
        "print(f\"Total supplies for NEW supplies: {new_total_supplies.item()}\")\n",
        "print(f\"Total supplies for OLD supplies: {old_total_supplies.item()}\")\n",
        "print (f\"Delte is: {new_total_supplies.item()-old_total_supplies.item()}\")\n"
      ]
    },
    {
      "cell_type": "code",
      "source": [
        "new_supplies.shape"
      ],
      "metadata": {
        "colab": {
          "base_uri": "https://localhost:8080/"
        },
        "id": "tkRUfVFEvot3",
        "outputId": "324346e1-b2fe-4ab3-fd63-308e4a52aed7"
      },
      "id": "tkRUfVFEvot3",
      "execution_count": 25,
      "outputs": [
        {
          "output_type": "execute_result",
          "data": {
            "text/plain": [
              "torch.Size([3, 1, 3])"
            ]
          },
          "metadata": {},
          "execution_count": 25
        }
      ]
    },
    {
      "cell_type": "code",
      "source": [
        "torch.randint(0,10, (13,))"
      ],
      "metadata": {
        "colab": {
          "base_uri": "https://localhost:8080/"
        },
        "id": "5HtVhJR8X4Fv",
        "outputId": "799d846f-b163-4b13-e2e5-ecec11c786a3"
      },
      "id": "5HtVhJR8X4Fv",
      "execution_count": 36,
      "outputs": [
        {
          "output_type": "execute_result",
          "data": {
            "text/plain": [
              "tensor([4, 9, 0, 2, 3, 0, 6, 4, 2, 1, 5, 4, 1])"
            ]
          },
          "metadata": {},
          "execution_count": 36
        }
      ]
    },
    {
      "cell_type": "code",
      "execution_count": 37,
      "id": "66b6c9da-d0e0-4a92-9587-8f4378484349",
      "metadata": {
        "colab": {
          "base_uri": "https://localhost:8080/"
        },
        "id": "66b6c9da-d0e0-4a92-9587-8f4378484349",
        "outputId": "2118d1e7-7fda-4c25-a219-f9892f7696f1"
      },
      "outputs": [
        {
          "output_type": "stream",
          "name": "stdout",
          "text": [
            "Daily temperature: tensor([18, 27, 26, 35, 26, 32, 28, 28, 27, 35, 20, 35, 25])\n"
          ]
        }
      ],
      "source": [
        "# 10. יצירת טנסור daily_temperature\n",
        "daily_temperature = torch.randint(18, 36, (13,))\n",
        "print(\"Daily temperature:\", daily_temperature)"
      ]
    },
    {
      "cell_type": "code",
      "execution_count": 38,
      "id": "a83783ab-7628-4f89-9f12-66aec2a33f55",
      "metadata": {
        "colab": {
          "base_uri": "https://localhost:8080/"
        },
        "id": "a83783ab-7628-4f89-9f12-66aec2a33f55",
        "outputId": "838b1029-fef9-4c2e-8cb9-314dad5443ff"
      },
      "outputs": [
        {
          "output_type": "stream",
          "name": "stdout",
          "text": [
            "Max temperature is: 35\n",
            "Mean temperature: 27.8\n",
            "Standard deviation: 5.367280006408691\n"
          ]
        }
      ],
      "source": [
        "# 11. חישוב ממוצע וסטיית תקן של הטמפרטורות\n",
        "print(f\"Max temperature is: {daily_temperature.max()}\")\n",
        "print(f\"Mean temperature: {round(daily_temperature.to(torch.float32).mean().item(),1)}\") #can't use item on floaf\n",
        "print(f\"Standard deviation: {daily_temperature.to(torch.float32).std().item()}\")"
      ]
    },
    {
      "cell_type": "code",
      "execution_count": 45,
      "id": "2565c8cb-0d48-4bfb-9266-57456a13c2c6",
      "metadata": {
        "colab": {
          "base_uri": "https://localhost:8080/"
        },
        "id": "2565c8cb-0d48-4bfb-9266-57456a13c2c6",
        "outputId": "85ca7e5b-2626-4791-e8f1-c01edc9c1c17"
      },
      "outputs": [
        {
          "output_type": "stream",
          "name": "stdout",
          "text": [
            "Temperature for 3 days\n",
            "tensor([[18, 27, 26, 35, 26, 32, 28, 28, 27, 35, 20, 35, 25],\n",
            "        [18, 27, 26, 35, 26, 32, 28, 28, 27, 35, 20, 35, 25],\n",
            "        [18, 27, 26, 35, 26, 32, 28, 28, 27, 35, 20, 35, 25]])\n"
          ]
        }
      ],
      "source": [
        "# 12. שכפול הטמפרטורות ל-3 ימים\n",
        "temperature_for_3_days = daily_temperature.repeat(3,1)\n",
        "print(f\"Temperature for 3 days\\n{temperature_for_3_days}\")"
      ]
    },
    {
      "cell_type": "code",
      "execution_count": 46,
      "id": "9f643659-0dd5-49e7-a359-b965c84d3aea",
      "metadata": {
        "colab": {
          "base_uri": "https://localhost:8080/"
        },
        "id": "9f643659-0dd5-49e7-a359-b965c84d3aea",
        "outputId": "ff47790f-8d7e-44ae-f4d1-0a779273351d"
      },
      "outputs": [
        {
          "output_type": "stream",
          "name": "stdout",
          "text": [
            "Water consumption tensor:\n",
            " tensor([[5, 3, 4, 1, 5, 3, 3, 2, 2, 5, 3, 5, 5],\n",
            "        [1, 2, 4, 2, 1, 3, 1, 4, 3, 5, 1, 5, 4],\n",
            "        [1, 5, 3, 1, 5, 5, 4, 5, 4, 1, 3, 2, 1]])\n"
          ]
        }
      ],
      "source": [
        "# 13. יצירת טנסור צריכת מים\n",
        "water_consumption = torch.randint(1, 6, (3, 13))\n",
        "print(\"Water consumption tensor:\\n\", water_consumption)"
      ]
    },
    {
      "cell_type": "code",
      "execution_count": 47,
      "id": "62a6aca9-16a5-4b34-a2c4-6293d5df2798",
      "metadata": {
        "colab": {
          "base_uri": "https://localhost:8080/"
        },
        "id": "62a6aca9-16a5-4b34-a2c4-6293d5df2798",
        "outputId": "04ffb877-2420-4937-d543-854ad5aa2ecb"
      },
      "outputs": [
        {
          "output_type": "stream",
          "name": "stdout",
          "text": [
            "Combined water-temperature effect:\n",
            " tensor([1265, 1059, 1106])\n"
          ]
        }
      ],
      "source": [
        "# 14. הכפלת הטמפרטורות בצריכת המים\n",
        "combined_effect = torch.matmul(water_consumption, daily_temperature)\n",
        "print(\"Combined water-temperature effect:\\n\", combined_effect)"
      ]
    },
    {
      "cell_type": "code",
      "source": [
        " water_consumption"
      ],
      "metadata": {
        "colab": {
          "base_uri": "https://localhost:8080/"
        },
        "id": "GZllDc9RyAhw",
        "outputId": "a95aaa40-ba24-4736-9b6e-9e9a5e2aecc6"
      },
      "id": "GZllDc9RyAhw",
      "execution_count": 48,
      "outputs": [
        {
          "output_type": "execute_result",
          "data": {
            "text/plain": [
              "tensor([[5, 3, 4, 1, 5, 3, 3, 2, 2, 5, 3, 5, 5],\n",
              "        [1, 2, 4, 2, 1, 3, 1, 4, 3, 5, 1, 5, 4],\n",
              "        [1, 5, 3, 1, 5, 5, 4, 5, 4, 1, 3, 2, 1]])"
            ]
          },
          "metadata": {},
          "execution_count": 48
        }
      ]
    },
    {
      "cell_type": "code",
      "execution_count": 49,
      "id": "774bd26f-13c1-4b64-9976-3b5e8794caab",
      "metadata": {
        "colab": {
          "base_uri": "https://localhost:8080/"
        },
        "id": "774bd26f-13c1-4b64-9976-3b5e8794caab",
        "outputId": "c16b2cfb-4221-41d0-fe57-d3e0efbb0395"
      },
      "outputs": [
        {
          "output_type": "stream",
          "name": "stdout",
          "text": [
            "Total water consumption for each group: tensor([46, 36, 40])\n"
          ]
        }
      ],
      "source": [
        "# 15. חישוב סך כל כמות המים שנצרכה על ידי כל קבוצה\n",
        "total_water_consumption = water_consumption.sum(dim=1)\n",
        "print(\"Total water consumption for each group:\", total_water_consumption)"
      ]
    },
    {
      "cell_type": "code",
      "execution_count": null,
      "id": "c53ebd1e-9f52-479c-835f-92f6fb3be618",
      "metadata": {
        "id": "c53ebd1e-9f52-479c-835f-92f6fb3be618"
      },
      "outputs": [],
      "source": []
    }
  ],
  "metadata": {
    "kernelspec": {
      "display_name": "Python 3 (ipykernel)",
      "language": "python",
      "name": "python3"
    },
    "language_info": {
      "codemirror_mode": {
        "name": "ipython",
        "version": 3
      },
      "file_extension": ".py",
      "mimetype": "text/x-python",
      "name": "python",
      "nbconvert_exporter": "python",
      "pygments_lexer": "ipython3",
      "version": "3.12.2"
    },
    "colab": {
      "provenance": []
    }
  },
  "nbformat": 4,
  "nbformat_minor": 5
}