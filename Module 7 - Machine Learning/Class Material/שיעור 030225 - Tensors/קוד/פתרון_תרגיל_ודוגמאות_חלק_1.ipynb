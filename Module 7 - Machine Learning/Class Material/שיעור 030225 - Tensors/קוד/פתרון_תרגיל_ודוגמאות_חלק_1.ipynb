{
  "cells": [
    {
      "cell_type": "markdown",
      "id": "746f71cc-1aa7-4d00-8a39-323f68ee3013",
      "metadata": {
        "id": "746f71cc-1aa7-4d00-8a39-323f68ee3013"
      },
      "source": [
        "\n",
        "A **scientific laboratory** tracks the usage of three essential measuring instruments: **a voltmeter, an ammeter, and a thermometer**. Each instrument has a fixed cost:\n",
        "\n",
        "- **Voltmeter**: $50\n",
        "\n",
        "- **Ammeter** $30\n",
        "\n",
        "- **Thermometer**: $20  \n",
        "\n",
        "The lab technicians use different numbers of these instruments each day, and the lab manager wants to calculate the **total cost of instrument usage** for each day over the past **four days**.\n",
        "\n",
        "The recorded daily usage data looks like this:\n",
        "\n",
        "| Day | Voltmeter | Ammeter | Thermometer |\n",
        "|----|----------|--------|------------|\n",
        "| 1  | 5        | 7      | 10         |\n",
        "| 2  | 4        | 6      | 8          |\n",
        "| 3  | 6        | 5      | 9          |\n",
        "| 4  | 7        | 8      | 10         |\n",
        "\n",
        "The manager asks you to **calculate the total cost of instruments used per day** using **PyTorch tensor operations**.\n",
        "\n",
        "### **Question:**\n",
        "Using the given instrument prices and daily usage data, how can you compute the total cost of instruments used each day using PyTorch?\n",
        "\n",
        "Write a PyTorch expression that calculates the total cost for each of the four days as a tensor.\n"
      ]
    },
    {
      "cell_type": "code",
      "execution_count": 6,
      "id": "717839ca-2be0-4e8f-9cc4-5508562157b6",
      "metadata": {
        "id": "717839ca-2be0-4e8f-9cc4-5508562157b6",
        "colab": {
          "base_uri": "https://localhost:8080/"
        },
        "outputId": "c30045cc-8251-438f-ce4b-9b0fa63e3c47"
      },
      "outputs": [
        {
          "output_type": "execute_result",
          "data": {
            "text/plain": [
              "torch.Size([4, 3])"
            ]
          },
          "metadata": {},
          "execution_count": 6
        }
      ],
      "source": [
        "import torch\n",
        "# Define prices of instruments as a tensor- 3 rows 1 column matrix of prices(voltmeter, ammeter, and thermometer)\n",
        "inst_price = torch.tensor ([[50],[20],[30]])\n",
        "inst_price.shape\n",
        "\n",
        "# Define the matrix (4 days x 3 types of instruments) each day will be a row in the matrix (like the table above)\n",
        "daily_usage  = torch.tensor([\n",
        "    [5,7,10] , #day 1\n",
        "    [4,6,8] ,#day 2\n",
        "    [6,5,9], #day3\n",
        "    [7,8,10] #day4\n",
        "])\n",
        "\n",
        "daily_usage.shape"
      ]
    },
    {
      "cell_type": "code",
      "execution_count": 8,
      "id": "891e233a-9c05-4c49-85a1-d9aab406a2c5",
      "metadata": {
        "id": "891e233a-9c05-4c49-85a1-d9aab406a2c5"
      },
      "outputs": [],
      "source": [
        "total1 = torch.matmul(daily_usage,inst_price )"
      ]
    },
    {
      "cell_type": "code",
      "source": [
        "total1.shape"
      ],
      "metadata": {
        "colab": {
          "base_uri": "https://localhost:8080/"
        },
        "id": "t1FgHxlcxMKB",
        "outputId": "1602990a-3722-4ff0-e657-65ee3d4d6d69"
      },
      "id": "t1FgHxlcxMKB",
      "execution_count": 9,
      "outputs": [
        {
          "output_type": "execute_result",
          "data": {
            "text/plain": [
              "torch.Size([4, 1])"
            ]
          },
          "metadata": {},
          "execution_count": 9
        }
      ]
    },
    {
      "cell_type": "code",
      "source": [
        "total1"
      ],
      "metadata": {
        "colab": {
          "base_uri": "https://localhost:8080/"
        },
        "id": "FJFoSDWPxRgn",
        "outputId": "9d89dc6a-ff19-4ebc-9d73-b5610ce66b40"
      },
      "id": "FJFoSDWPxRgn",
      "execution_count": 10,
      "outputs": [
        {
          "output_type": "execute_result",
          "data": {
            "text/plain": [
              "tensor([[690],\n",
              "        [560],\n",
              "        [670],\n",
              "        [810]])"
            ]
          },
          "metadata": {},
          "execution_count": 10
        }
      ]
    },
    {
      "cell_type": "markdown",
      "id": "f8d5ba38-b158-4c80-bc4f-9ee3c2af5272",
      "metadata": {
        "id": "f8d5ba38-b158-4c80-bc4f-9ee3c2af5272"
      },
      "source": [
        "A **coffee shop** tracks the sales of three types of coffee over four days. Each type of coffee has a fixed price:\n",
        "\n",
        "- **Espresso**: $3     \n",
        "\n",
        "- **Latte**: $4  \n",
        "\n",
        "- **Americano**: $2  \n",
        "\n",
        "The shop owner wants to calculate the **total revenue** generated from coffee sales for each of the past **four days**.\n",
        "\n",
        "The recorded daily sales data looks like this:\n",
        "\n",
        "| Day | Espresso | Latte | Americano |\n",
        "|----|---------|------|----------|\n",
        "| 1  | 10      | 15   | 25       |\n",
        "| 2  | 8       | 10   | 12       |\n",
        "| 3  | 12      | 10   | 18       |\n",
        "| 4  | 15      | 20   | 25       |\n",
        "\n",
        "The shop owner asks you to **calculate the total revenue from coffee sales per day** using **PyTorch tensor operations**.\n",
        "\n",
        "### **Question:**\n",
        "Using the given coffee prices and daily sales data, how can you compute the total revenue for each day using PyTorch?\n",
        "\n",
        "Write a PyTorch expression that calculates the total revenue for each of the four days as a tensor.\n"
      ]
    },
    {
      "cell_type": "code",
      "execution_count": 12,
      "id": "320703d5-6294-417c-835f-4b6d5752b10e",
      "metadata": {
        "id": "320703d5-6294-417c-835f-4b6d5752b10e"
      },
      "outputs": [],
      "source": [
        "# Coffee prices (3 types of coffee) as a row matrix of prices (1 matrix row with 3 values)\n",
        "coffee_p = torch.tensor([3,4,2])\n",
        "# Daily sales matrix (4 days x 3 types of coffee) each day will be a row in the matrix (like the table above)\n",
        "daily_sales = torch.tensor([[10,15,25],\n",
        "                            [8,10,12],\n",
        "                            [12,10,18],\n",
        "                            [15,20,25]])"
      ]
    },
    {
      "cell_type": "code",
      "execution_count": 13,
      "id": "48614f37-88ed-4263-9602-99879641710a",
      "metadata": {
        "id": "48614f37-88ed-4263-9602-99879641710a"
      },
      "outputs": [],
      "source": [
        "total2 = torch.matmul(daily_sales,coffee_p )"
      ]
    },
    {
      "cell_type": "code",
      "source": [
        "total2"
      ],
      "metadata": {
        "colab": {
          "base_uri": "https://localhost:8080/"
        },
        "id": "nIKnhUEuyzwu",
        "outputId": "4ef070a5-c08a-4825-a8bf-00d95b8b843f"
      },
      "id": "nIKnhUEuyzwu",
      "execution_count": 14,
      "outputs": [
        {
          "output_type": "execute_result",
          "data": {
            "text/plain": [
              "tensor([140,  88, 112, 175])"
            ]
          },
          "metadata": {},
          "execution_count": 14
        }
      ]
    },
    {
      "cell_type": "code",
      "source": [
        "daily_sales.shape"
      ],
      "metadata": {
        "colab": {
          "base_uri": "https://localhost:8080/"
        },
        "id": "i-cx8bb-y2rO",
        "outputId": "5f2b9628-3f47-4532-a3fe-9665c9b3f8da"
      },
      "id": "i-cx8bb-y2rO",
      "execution_count": 15,
      "outputs": [
        {
          "output_type": "execute_result",
          "data": {
            "text/plain": [
              "torch.Size([4, 3])"
            ]
          },
          "metadata": {},
          "execution_count": 15
        }
      ]
    },
    {
      "cell_type": "code",
      "source": [
        "coffee_p.shape"
      ],
      "metadata": {
        "colab": {
          "base_uri": "https://localhost:8080/"
        },
        "id": "9nAiv0X4zFPX",
        "outputId": "0a7884d6-1597-4d43-dd5a-422456e2e7da"
      },
      "id": "9nAiv0X4zFPX",
      "execution_count": 16,
      "outputs": [
        {
          "output_type": "execute_result",
          "data": {
            "text/plain": [
              "torch.Size([3])"
            ]
          },
          "metadata": {},
          "execution_count": 16
        }
      ]
    },
    {
      "cell_type": "code",
      "source": [
        "total2 = torch.matmul(coffee_p, daily_sales )# Error becose of shape"
      ],
      "metadata": {
        "colab": {
          "base_uri": "https://localhost:8080/",
          "height": 141
        },
        "id": "Fwz6kAHvzKPF",
        "outputId": "dff90210-10ad-4cdd-befb-fb9c85c910ea"
      },
      "id": "Fwz6kAHvzKPF",
      "execution_count": 17,
      "outputs": [
        {
          "output_type": "error",
          "ename": "RuntimeError",
          "evalue": "mat1 and mat2 shapes cannot be multiplied (1x3 and 4x3)",
          "traceback": [
            "\u001b[0;31m---------------------------------------------------------------------------\u001b[0m",
            "\u001b[0;31mRuntimeError\u001b[0m                              Traceback (most recent call last)",
            "\u001b[0;32m<ipython-input-17-8ff4c378ad46>\u001b[0m in \u001b[0;36m<cell line: 0>\u001b[0;34m()\u001b[0m\n\u001b[0;32m----> 1\u001b[0;31m \u001b[0mtotal2\u001b[0m \u001b[0;34m=\u001b[0m \u001b[0mtorch\u001b[0m\u001b[0;34m.\u001b[0m\u001b[0mmatmul\u001b[0m\u001b[0;34m(\u001b[0m\u001b[0mcoffee_p\u001b[0m\u001b[0;34m,\u001b[0m \u001b[0mdaily_sales\u001b[0m \u001b[0;34m)\u001b[0m\u001b[0;34m\u001b[0m\u001b[0;34m\u001b[0m\u001b[0m\n\u001b[0m",
            "\u001b[0;31mRuntimeError\u001b[0m: mat1 and mat2 shapes cannot be multiplied (1x3 and 4x3)"
          ]
        }
      ]
    },
    {
      "cell_type": "code",
      "source": [
        "total2 = torch.matmul(coffee_p, daily_sales.T )"
      ],
      "metadata": {
        "id": "Ps4hdR1TzZo1"
      },
      "id": "Ps4hdR1TzZo1",
      "execution_count": 18,
      "outputs": []
    },
    {
      "cell_type": "code",
      "source": [
        "total2"
      ],
      "metadata": {
        "colab": {
          "base_uri": "https://localhost:8080/"
        },
        "id": "xY8CfzeWz1Fl",
        "outputId": "c4e7da40-6996-455c-e47e-9ed070ae448a"
      },
      "id": "xY8CfzeWz1Fl",
      "execution_count": 19,
      "outputs": [
        {
          "output_type": "execute_result",
          "data": {
            "text/plain": [
              "tensor([140,  88, 112, 175])"
            ]
          },
          "metadata": {},
          "execution_count": 19
        }
      ]
    },
    {
      "cell_type": "markdown",
      "source": [
        "דוגמאות מהשיעור"
      ],
      "metadata": {
        "id": "zkZhSrCf1JDT"
      },
      "id": "zkZhSrCf1JDT"
    },
    {
      "cell_type": "code",
      "source": [
        "total2.sum()"
      ],
      "metadata": {
        "colab": {
          "base_uri": "https://localhost:8080/"
        },
        "id": "hSWlgXoez2r0",
        "outputId": "ea8018d7-45c8-4bb4-e6d1-9cec0e381ade"
      },
      "id": "hSWlgXoez2r0",
      "execution_count": 20,
      "outputs": [
        {
          "output_type": "execute_result",
          "data": {
            "text/plain": [
              "tensor(515)"
            ]
          },
          "metadata": {},
          "execution_count": 20
        }
      ]
    },
    {
      "cell_type": "code",
      "source": [
        "daily_sales"
      ],
      "metadata": {
        "colab": {
          "base_uri": "https://localhost:8080/"
        },
        "id": "Puc9S2zr1UjT",
        "outputId": "477af09f-bea6-4ffe-afee-e3da467b35ff"
      },
      "id": "Puc9S2zr1UjT",
      "execution_count": 24,
      "outputs": [
        {
          "output_type": "execute_result",
          "data": {
            "text/plain": [
              "tensor([[10, 15, 25],\n",
              "        [ 8, 10, 12],\n",
              "        [12, 10, 18],\n",
              "        [15, 20, 25]])"
            ]
          },
          "metadata": {},
          "execution_count": 24
        }
      ]
    },
    {
      "cell_type": "code",
      "source": [
        "daily_sales.sum()"
      ],
      "metadata": {
        "colab": {
          "base_uri": "https://localhost:8080/"
        },
        "id": "qe-TZalv1gsy",
        "outputId": "bf64acb5-5194-421a-c524-83609218d54e"
      },
      "id": "qe-TZalv1gsy",
      "execution_count": 23,
      "outputs": [
        {
          "output_type": "execute_result",
          "data": {
            "text/plain": [
              "tensor(180)"
            ]
          },
          "metadata": {},
          "execution_count": 23
        }
      ]
    },
    {
      "cell_type": "code",
      "source": [
        "daily_sales.sum(dim=1)"
      ],
      "metadata": {
        "colab": {
          "base_uri": "https://localhost:8080/"
        },
        "id": "CvHp76j81oCb",
        "outputId": "04ca46c6-fb74-45cc-e20e-2ddf77e53f9f"
      },
      "id": "CvHp76j81oCb",
      "execution_count": 25,
      "outputs": [
        {
          "output_type": "execute_result",
          "data": {
            "text/plain": [
              "tensor([50, 30, 40, 60])"
            ]
          },
          "metadata": {},
          "execution_count": 25
        }
      ]
    },
    {
      "cell_type": "code",
      "source": [
        "daily_sales.sum(dim=0)"
      ],
      "metadata": {
        "colab": {
          "base_uri": "https://localhost:8080/"
        },
        "id": "DYtnj6M416Vp",
        "outputId": "74645515-f0a0-4096-f5f5-734703c0fbaf"
      },
      "id": "DYtnj6M416Vp",
      "execution_count": 26,
      "outputs": [
        {
          "output_type": "execute_result",
          "data": {
            "text/plain": [
              "tensor([45, 55, 80])"
            ]
          },
          "metadata": {},
          "execution_count": 26
        }
      ]
    },
    {
      "cell_type": "code",
      "source": [
        "tsum = torch.tensor ([[[1,1,1],[2,2,2]],[[3,3,3],[4,4, 4]]])\n",
        "tsum"
      ],
      "metadata": {
        "colab": {
          "base_uri": "https://localhost:8080/"
        },
        "id": "5XnO2KAY2GRK",
        "outputId": "e09dee06-e68c-4043-8962-acd93cb1a110"
      },
      "id": "5XnO2KAY2GRK",
      "execution_count": 35,
      "outputs": [
        {
          "output_type": "execute_result",
          "data": {
            "text/plain": [
              "tensor([[[1, 1, 1],\n",
              "         [2, 2, 2]],\n",
              "\n",
              "        [[3, 3, 3],\n",
              "         [4, 4, 4]]])"
            ]
          },
          "metadata": {},
          "execution_count": 35
        }
      ]
    },
    {
      "cell_type": "code",
      "source": [
        "tsum.ndim"
      ],
      "metadata": {
        "colab": {
          "base_uri": "https://localhost:8080/"
        },
        "id": "pS2Ikoin2bI6",
        "outputId": "962c5699-883f-464a-f0a1-2e0d4cecec74"
      },
      "id": "pS2Ikoin2bI6",
      "execution_count": 31,
      "outputs": [
        {
          "output_type": "execute_result",
          "data": {
            "text/plain": [
              "3"
            ]
          },
          "metadata": {},
          "execution_count": 31
        }
      ]
    },
    {
      "cell_type": "code",
      "source": [
        "tsum.shape"
      ],
      "metadata": {
        "colab": {
          "base_uri": "https://localhost:8080/"
        },
        "id": "YIKqEa8w2eL4",
        "outputId": "b23b30c1-6ad5-4abf-d2df-335096b1156a"
      },
      "id": "YIKqEa8w2eL4",
      "execution_count": 32,
      "outputs": [
        {
          "output_type": "execute_result",
          "data": {
            "text/plain": [
              "torch.Size([2, 2, 3])"
            ]
          },
          "metadata": {},
          "execution_count": 32
        }
      ]
    },
    {
      "cell_type": "code",
      "source": [
        "tsum.sum()"
      ],
      "metadata": {
        "colab": {
          "base_uri": "https://localhost:8080/"
        },
        "id": "8lY0Xfkh2fhB",
        "outputId": "8b35dba3-26d6-4bc4-baff-3e21709045ba"
      },
      "id": "8lY0Xfkh2fhB",
      "execution_count": 36,
      "outputs": [
        {
          "output_type": "execute_result",
          "data": {
            "text/plain": [
              "tensor(30)"
            ]
          },
          "metadata": {},
          "execution_count": 36
        }
      ]
    },
    {
      "cell_type": "code",
      "source": [
        "tsum.sum(dim=0) # 1+3 / 2+4"
      ],
      "metadata": {
        "colab": {
          "base_uri": "https://localhost:8080/"
        },
        "id": "IyiC1Nyn2_Q4",
        "outputId": "546b53f5-aabb-4ed0-ab64-8fb222b64739"
      },
      "id": "IyiC1Nyn2_Q4",
      "execution_count": 37,
      "outputs": [
        {
          "output_type": "execute_result",
          "data": {
            "text/plain": [
              "tensor([[4, 4, 4],\n",
              "        [6, 6, 6]])"
            ]
          },
          "metadata": {},
          "execution_count": 37
        }
      ]
    },
    {
      "cell_type": "code",
      "source": [
        "tsum.sum(dim=0).shape"
      ],
      "metadata": {
        "colab": {
          "base_uri": "https://localhost:8080/"
        },
        "id": "2kFbF3684apI",
        "outputId": "b17a0b2d-1b1c-4150-f91d-7094db3e7e32"
      },
      "id": "2kFbF3684apI",
      "execution_count": 41,
      "outputs": [
        {
          "output_type": "execute_result",
          "data": {
            "text/plain": [
              "torch.Size([2, 3])"
            ]
          },
          "metadata": {},
          "execution_count": 41
        }
      ]
    },
    {
      "cell_type": "code",
      "source": [
        "tsum.sum(dim=1) # 1+2/3+4"
      ],
      "metadata": {
        "colab": {
          "base_uri": "https://localhost:8080/"
        },
        "id": "_ZPaOBeA3FMA",
        "outputId": "05fb6417-9d46-4513-af3b-b78ee931cc9e"
      },
      "id": "_ZPaOBeA3FMA",
      "execution_count": 38,
      "outputs": [
        {
          "output_type": "execute_result",
          "data": {
            "text/plain": [
              "tensor([[3, 3, 3],\n",
              "        [7, 7, 7]])"
            ]
          },
          "metadata": {},
          "execution_count": 38
        }
      ]
    },
    {
      "cell_type": "code",
      "source": [
        "tsum.sum(dim=1).shape"
      ],
      "metadata": {
        "colab": {
          "base_uri": "https://localhost:8080/"
        },
        "id": "3wc33Bk13Ucp",
        "outputId": "664653d4-b587-4d8d-92f0-d1b0e9833b91"
      },
      "id": "3wc33Bk13Ucp",
      "execution_count": 39,
      "outputs": [
        {
          "output_type": "execute_result",
          "data": {
            "text/plain": [
              "torch.Size([2, 3])"
            ]
          },
          "metadata": {},
          "execution_count": 39
        }
      ]
    },
    {
      "cell_type": "code",
      "source": [
        "tsum.sum(dim=2) /#1+1+1/ 2+2+2/3+3+3/4+4+4"
      ],
      "metadata": {
        "colab": {
          "base_uri": "https://localhost:8080/"
        },
        "id": "CPUndQzc3lYP",
        "outputId": "b19b2c08-3d54-49e3-f627-f43ecd2c3181"
      },
      "id": "CPUndQzc3lYP",
      "execution_count": 40,
      "outputs": [
        {
          "output_type": "execute_result",
          "data": {
            "text/plain": [
              "tensor([[ 3,  6],\n",
              "        [ 9, 12]])"
            ]
          },
          "metadata": {},
          "execution_count": 40
        }
      ]
    },
    {
      "cell_type": "code",
      "source": [
        "tsum.sum(dim=2).shape"
      ],
      "metadata": {
        "colab": {
          "base_uri": "https://localhost:8080/"
        },
        "id": "QplB2DXB3teY",
        "outputId": "8e80d60f-4e3e-41ab-e077-8bf110bc0c8d"
      },
      "id": "QplB2DXB3teY",
      "execution_count": 42,
      "outputs": [
        {
          "output_type": "execute_result",
          "data": {
            "text/plain": [
              "torch.Size([2, 2])"
            ]
          },
          "metadata": {},
          "execution_count": 42
        }
      ]
    },
    {
      "cell_type": "code",
      "source": [
        "daily_sales"
      ],
      "metadata": {
        "colab": {
          "base_uri": "https://localhost:8080/"
        },
        "id": "E5OaRuFe4s9f",
        "outputId": "78ea1a95-9509-452f-c00e-c9ac8f3a0356"
      },
      "id": "E5OaRuFe4s9f",
      "execution_count": 44,
      "outputs": [
        {
          "output_type": "execute_result",
          "data": {
            "text/plain": [
              "tensor([[10, 15, 25],\n",
              "        [ 8, 10, 12],\n",
              "        [12, 10, 18],\n",
              "        [15, 20, 25]])"
            ]
          },
          "metadata": {},
          "execution_count": 44
        }
      ]
    },
    {
      "cell_type": "code",
      "source": [
        "daily_sales.shape"
      ],
      "metadata": {
        "colab": {
          "base_uri": "https://localhost:8080/"
        },
        "id": "6mCZIRW86MT1",
        "outputId": "825068e1-7567-4af5-e6fc-77c14a6e4e35"
      },
      "id": "6mCZIRW86MT1",
      "execution_count": 45,
      "outputs": [
        {
          "output_type": "execute_result",
          "data": {
            "text/plain": [
              "torch.Size([4, 3])"
            ]
          },
          "metadata": {},
          "execution_count": 45
        }
      ]
    },
    {
      "cell_type": "code",
      "source": [
        "daily_sales.size()"
      ],
      "metadata": {
        "colab": {
          "base_uri": "https://localhost:8080/"
        },
        "id": "-TfvELvK6cBd",
        "outputId": "2872db29-eb5b-49da-b0f6-f9a4ee75e68b"
      },
      "id": "-TfvELvK6cBd",
      "execution_count": 46,
      "outputs": [
        {
          "output_type": "execute_result",
          "data": {
            "text/plain": [
              "torch.Size([4, 3])"
            ]
          },
          "metadata": {},
          "execution_count": 46
        }
      ]
    },
    {
      "cell_type": "code",
      "source": [
        "daily_sales.shape[0]"
      ],
      "metadata": {
        "colab": {
          "base_uri": "https://localhost:8080/"
        },
        "id": "ArudL4ez6dTG",
        "outputId": "635a3796-dd01-4682-95da-79bfee0d2fde"
      },
      "id": "ArudL4ez6dTG",
      "execution_count": 47,
      "outputs": [
        {
          "output_type": "execute_result",
          "data": {
            "text/plain": [
              "4"
            ]
          },
          "metadata": {},
          "execution_count": 47
        }
      ]
    },
    {
      "cell_type": "code",
      "source": [
        "daily_sales.shape[1]"
      ],
      "metadata": {
        "colab": {
          "base_uri": "https://localhost:8080/"
        },
        "id": "GfxZSopk6o6d",
        "outputId": "a045d70d-be2e-41da-997a-72a70069441d"
      },
      "id": "GfxZSopk6o6d",
      "execution_count": 48,
      "outputs": [
        {
          "output_type": "execute_result",
          "data": {
            "text/plain": [
              "3"
            ]
          },
          "metadata": {},
          "execution_count": 48
        }
      ]
    },
    {
      "cell_type": "code",
      "source": [
        "daily_sales.shape[0]*daily_sales.shape[1]"
      ],
      "metadata": {
        "colab": {
          "base_uri": "https://localhost:8080/"
        },
        "id": "rsCF4PKy6t8V",
        "outputId": "b0242090-8a63-4792-b626-c6d4c99add38"
      },
      "id": "rsCF4PKy6t8V",
      "execution_count": 49,
      "outputs": [
        {
          "output_type": "execute_result",
          "data": {
            "text/plain": [
              "12"
            ]
          },
          "metadata": {},
          "execution_count": 49
        }
      ]
    },
    {
      "cell_type": "code",
      "source": [
        "len(daily_sales)"
      ],
      "metadata": {
        "colab": {
          "base_uri": "https://localhost:8080/"
        },
        "id": "9fXGnVOS6xUt",
        "outputId": "487aa4af-8094-47da-a12a-666eccc8ba66"
      },
      "id": "9fXGnVOS6xUt",
      "execution_count": 50,
      "outputs": [
        {
          "output_type": "execute_result",
          "data": {
            "text/plain": [
              "4"
            ]
          },
          "metadata": {},
          "execution_count": 50
        }
      ]
    },
    {
      "cell_type": "code",
      "source": [
        "daily_sales.numel()"
      ],
      "metadata": {
        "colab": {
          "base_uri": "https://localhost:8080/"
        },
        "id": "D5E6Iogh64qN",
        "outputId": "6d9c8764-de08-4817-cfce-30bdaf3f74da"
      },
      "id": "D5E6Iogh64qN",
      "execution_count": 52,
      "outputs": [
        {
          "output_type": "execute_result",
          "data": {
            "text/plain": [
              "12"
            ]
          },
          "metadata": {},
          "execution_count": 52
        }
      ]
    },
    {
      "cell_type": "code",
      "source": [
        "daily_sales.max()"
      ],
      "metadata": {
        "colab": {
          "base_uri": "https://localhost:8080/"
        },
        "id": "7NINxvOd7BiW",
        "outputId": "6beb168a-f2fa-41dd-a877-cb7f454d85e2"
      },
      "id": "7NINxvOd7BiW",
      "execution_count": 54,
      "outputs": [
        {
          "output_type": "execute_result",
          "data": {
            "text/plain": [
              "tensor(25)"
            ]
          },
          "metadata": {},
          "execution_count": 54
        }
      ]
    },
    {
      "cell_type": "code",
      "source": [
        "daily_sales.max().item()"
      ],
      "metadata": {
        "colab": {
          "base_uri": "https://localhost:8080/"
        },
        "id": "eTVSI-5n7YwU",
        "outputId": "f8517b23-d1f4-4848-e275-14dd4ee54873"
      },
      "id": "eTVSI-5n7YwU",
      "execution_count": 56,
      "outputs": [
        {
          "output_type": "execute_result",
          "data": {
            "text/plain": [
              "25"
            ]
          },
          "metadata": {},
          "execution_count": 56
        }
      ]
    },
    {
      "cell_type": "code",
      "source": [
        "daily_sales.max().values # :-("
      ],
      "metadata": {
        "colab": {
          "base_uri": "https://localhost:8080/"
        },
        "id": "YlpofcIh7jHF",
        "outputId": "f4d88836-bd20-4f1b-bc87-228e2d91e627"
      },
      "id": "YlpofcIh7jHF",
      "execution_count": 58,
      "outputs": [
        {
          "output_type": "execute_result",
          "data": {
            "text/plain": [
              "<function Tensor.values>"
            ]
          },
          "metadata": {},
          "execution_count": 58
        }
      ]
    },
    {
      "cell_type": "code",
      "source": [
        "torch.max(daily_sales)"
      ],
      "metadata": {
        "colab": {
          "base_uri": "https://localhost:8080/"
        },
        "id": "jFzMkFuA7pgl",
        "outputId": "d8ca77b4-ae43-459a-d29a-183f6d23c85f"
      },
      "id": "jFzMkFuA7pgl",
      "execution_count": 59,
      "outputs": [
        {
          "output_type": "execute_result",
          "data": {
            "text/plain": [
              "tensor(25)"
            ]
          },
          "metadata": {},
          "execution_count": 59
        }
      ]
    },
    {
      "cell_type": "code",
      "source": [
        "daily_sales.max(dim=1)"
      ],
      "metadata": {
        "colab": {
          "base_uri": "https://localhost:8080/"
        },
        "id": "I86S9AMa7yn1",
        "outputId": "ffb17b38-9d88-42cd-97c6-8b39204f6c92"
      },
      "id": "I86S9AMa7yn1",
      "execution_count": 61,
      "outputs": [
        {
          "output_type": "execute_result",
          "data": {
            "text/plain": [
              "torch.return_types.max(\n",
              "values=tensor([25, 12, 18, 25]),\n",
              "indices=tensor([2, 2, 2, 2]))"
            ]
          },
          "metadata": {},
          "execution_count": 61
        }
      ]
    },
    {
      "cell_type": "code",
      "source": [
        "daily_sales"
      ],
      "metadata": {
        "colab": {
          "base_uri": "https://localhost:8080/"
        },
        "id": "IAh7ba0n8ATk",
        "outputId": "d4d2bff7-4ad9-45e0-c204-1763c73c7b0b"
      },
      "id": "IAh7ba0n8ATk",
      "execution_count": 62,
      "outputs": [
        {
          "output_type": "execute_result",
          "data": {
            "text/plain": [
              "tensor([[10, 15, 25],\n",
              "        [ 8, 10, 12],\n",
              "        [12, 10, 18],\n",
              "        [15, 20, 25]])"
            ]
          },
          "metadata": {},
          "execution_count": 62
        }
      ]
    },
    {
      "cell_type": "code",
      "source": [
        "daily_sales.min()"
      ],
      "metadata": {
        "colab": {
          "base_uri": "https://localhost:8080/"
        },
        "id": "nSQY1I3W8Ja0",
        "outputId": "2713123a-9b8f-4878-cd3e-7ff9a88cc6a0"
      },
      "id": "nSQY1I3W8Ja0",
      "execution_count": 63,
      "outputs": [
        {
          "output_type": "execute_result",
          "data": {
            "text/plain": [
              "tensor(8)"
            ]
          },
          "metadata": {},
          "execution_count": 63
        }
      ]
    },
    {
      "cell_type": "code",
      "source": [
        "daily_sales.mean() #ERROR"
      ],
      "metadata": {
        "colab": {
          "base_uri": "https://localhost:8080/",
          "height": 141
        },
        "id": "lXOL0Uji8RUr",
        "outputId": "3e0e682a-bcfa-46ee-d432-454e4601ea4b"
      },
      "id": "lXOL0Uji8RUr",
      "execution_count": 64,
      "outputs": [
        {
          "output_type": "error",
          "ename": "RuntimeError",
          "evalue": "mean(): could not infer output dtype. Input dtype must be either a floating point or complex dtype. Got: Long",
          "traceback": [
            "\u001b[0;31m---------------------------------------------------------------------------\u001b[0m",
            "\u001b[0;31mRuntimeError\u001b[0m                              Traceback (most recent call last)",
            "\u001b[0;32m<ipython-input-64-743383a06448>\u001b[0m in \u001b[0;36m<cell line: 0>\u001b[0;34m()\u001b[0m\n\u001b[0;32m----> 1\u001b[0;31m \u001b[0mdaily_sales\u001b[0m\u001b[0;34m.\u001b[0m\u001b[0mmean\u001b[0m\u001b[0;34m(\u001b[0m\u001b[0;34m)\u001b[0m\u001b[0;34m\u001b[0m\u001b[0;34m\u001b[0m\u001b[0m\n\u001b[0m",
            "\u001b[0;31mRuntimeError\u001b[0m: mean(): could not infer output dtype. Input dtype must be either a floating point or complex dtype. Got: Long"
          ]
        }
      ]
    },
    {
      "cell_type": "code",
      "source": [
        "daily_sales.to(torch.float32).mean()"
      ],
      "metadata": {
        "colab": {
          "base_uri": "https://localhost:8080/"
        },
        "id": "SSDybfev8UTr",
        "outputId": "95d9dc25-abf6-4fd1-8ef2-70744ec1fb2c"
      },
      "id": "SSDybfev8UTr",
      "execution_count": 65,
      "outputs": [
        {
          "output_type": "execute_result",
          "data": {
            "text/plain": [
              "tensor(15.)"
            ]
          },
          "metadata": {},
          "execution_count": 65
        }
      ]
    },
    {
      "cell_type": "code",
      "source": [
        "daily_sales.to(torch.float32).std()"
      ],
      "metadata": {
        "colab": {
          "base_uri": "https://localhost:8080/"
        },
        "id": "Mx_W3fKM89Eb",
        "outputId": "291b7b36-0863-4754-b495-f498f8b17ad2"
      },
      "id": "Mx_W3fKM89Eb",
      "execution_count": 66,
      "outputs": [
        {
          "output_type": "execute_result",
          "data": {
            "text/plain": [
              "tensor(5.8465)"
            ]
          },
          "metadata": {},
          "execution_count": 66
        }
      ]
    },
    {
      "cell_type": "code",
      "source": [
        "t1 = torch.rand(3,5)"
      ],
      "metadata": {
        "id": "L6ljGSDB9KKj"
      },
      "id": "L6ljGSDB9KKj",
      "execution_count": 67,
      "outputs": []
    },
    {
      "cell_type": "code",
      "source": [
        "t1"
      ],
      "metadata": {
        "colab": {
          "base_uri": "https://localhost:8080/"
        },
        "id": "AAknbTwHDhD_",
        "outputId": "ddc3918f-c8dc-4f81-d549-590aba19021f"
      },
      "id": "AAknbTwHDhD_",
      "execution_count": 68,
      "outputs": [
        {
          "output_type": "execute_result",
          "data": {
            "text/plain": [
              "tensor([[0.9233, 0.6925, 0.8560, 0.9748, 0.7882],\n",
              "        [0.3314, 0.4174, 0.4567, 0.5252, 0.4993],\n",
              "        [0.3263, 0.0243, 0.7834, 0.1072, 0.4345]])"
            ]
          },
          "metadata": {},
          "execution_count": 68
        }
      ]
    },
    {
      "cell_type": "code",
      "source": [
        "t2 = torch.rand(5,600)\n",
        "result = torch.matmul(t1,t2)"
      ],
      "metadata": {
        "id": "98PbTrWPDiBv"
      },
      "id": "98PbTrWPDiBv",
      "execution_count": 70,
      "outputs": []
    },
    {
      "cell_type": "code",
      "source": [
        "t3 = torch.arange(100,0, -10)\n",
        "t3"
      ],
      "metadata": {
        "colab": {
          "base_uri": "https://localhost:8080/"
        },
        "id": "nJshBLffDxyu",
        "outputId": "b632753b-c8da-496f-b507-b79274beb47d"
      },
      "id": "nJshBLffDxyu",
      "execution_count": 87,
      "outputs": [
        {
          "output_type": "execute_result",
          "data": {
            "text/plain": [
              "tensor([100,  90,  80,  70,  60,  50,  40,  30,  20,  10])"
            ]
          },
          "metadata": {},
          "execution_count": 87
        }
      ]
    },
    {
      "cell_type": "code",
      "source": [
        "t0 = torch.zeros(4,3)\n",
        "t0"
      ],
      "metadata": {
        "colab": {
          "base_uri": "https://localhost:8080/"
        },
        "id": "h_A0txBCFBP2",
        "outputId": "29c6fbde-cabe-495f-acee-ccc6ad39770e"
      },
      "id": "h_A0txBCFBP2",
      "execution_count": 76,
      "outputs": [
        {
          "output_type": "execute_result",
          "data": {
            "text/plain": [
              "tensor([[0., 0., 0.],\n",
              "        [0., 0., 0.],\n",
              "        [0., 0., 0.],\n",
              "        [0., 0., 0.]])"
            ]
          },
          "metadata": {},
          "execution_count": 76
        }
      ]
    },
    {
      "cell_type": "code",
      "source": [
        "t4 = torch.tensor([[torch.arange(1,10,2)],[torch.arange(1,10,2)]]) #error"
      ],
      "metadata": {
        "colab": {
          "base_uri": "https://localhost:8080/",
          "height": 141
        },
        "id": "BJW_zdoGGMUF",
        "outputId": "8396a210-09c0-4393-9828-57c0f9f5ecee"
      },
      "id": "BJW_zdoGGMUF",
      "execution_count": 77,
      "outputs": [
        {
          "output_type": "error",
          "ename": "TypeError",
          "evalue": "only integer tensors of a single element can be converted to an index",
          "traceback": [
            "\u001b[0;31m---------------------------------------------------------------------------\u001b[0m",
            "\u001b[0;31mTypeError\u001b[0m                                 Traceback (most recent call last)",
            "\u001b[0;32m<ipython-input-77-67b97420de04>\u001b[0m in \u001b[0;36m<cell line: 0>\u001b[0;34m()\u001b[0m\n\u001b[0;32m----> 1\u001b[0;31m \u001b[0mt4\u001b[0m \u001b[0;34m=\u001b[0m \u001b[0mtorch\u001b[0m\u001b[0;34m.\u001b[0m\u001b[0mtensor\u001b[0m\u001b[0;34m(\u001b[0m\u001b[0;34m[\u001b[0m\u001b[0;34m[\u001b[0m\u001b[0mtorch\u001b[0m\u001b[0;34m.\u001b[0m\u001b[0marange\u001b[0m\u001b[0;34m(\u001b[0m\u001b[0;36m1\u001b[0m\u001b[0;34m,\u001b[0m\u001b[0;36m10\u001b[0m\u001b[0;34m,\u001b[0m\u001b[0;36m2\u001b[0m\u001b[0;34m)\u001b[0m\u001b[0;34m]\u001b[0m\u001b[0;34m,\u001b[0m\u001b[0;34m[\u001b[0m\u001b[0mtorch\u001b[0m\u001b[0;34m.\u001b[0m\u001b[0marange\u001b[0m\u001b[0;34m(\u001b[0m\u001b[0;36m1\u001b[0m\u001b[0;34m,\u001b[0m\u001b[0;36m10\u001b[0m\u001b[0;34m,\u001b[0m\u001b[0;36m2\u001b[0m\u001b[0;34m)\u001b[0m\u001b[0;34m]\u001b[0m\u001b[0;34m]\u001b[0m\u001b[0;34m)\u001b[0m\u001b[0;34m\u001b[0m\u001b[0;34m\u001b[0m\u001b[0m\n\u001b[0m",
            "\u001b[0;31mTypeError\u001b[0m: only integer tensors of a single element can be converted to an index"
          ]
        }
      ]
    },
    {
      "cell_type": "code",
      "source": [
        "t4 = torch.stack([t3,t3,t3,t3])"
      ],
      "metadata": {
        "id": "LAFhEDU4Go71"
      },
      "id": "LAFhEDU4Go71",
      "execution_count": 79,
      "outputs": []
    },
    {
      "cell_type": "code",
      "source": [
        "t4"
      ],
      "metadata": {
        "colab": {
          "base_uri": "https://localhost:8080/"
        },
        "id": "w9IfoBYWHCD1",
        "outputId": "b657e2a3-1a08-4199-8aee-c8d661d5f00a"
      },
      "id": "w9IfoBYWHCD1",
      "execution_count": 80,
      "outputs": [
        {
          "output_type": "execute_result",
          "data": {
            "text/plain": [
              "tensor([[100,  90,  80,  70,  60,  50,  40,  30,  20,  10],\n",
              "        [100,  90,  80,  70,  60,  50,  40,  30,  20,  10],\n",
              "        [100,  90,  80,  70,  60,  50,  40,  30,  20,  10],\n",
              "        [100,  90,  80,  70,  60,  50,  40,  30,  20,  10]])"
            ]
          },
          "metadata": {},
          "execution_count": 80
        }
      ]
    },
    {
      "cell_type": "code",
      "source": [
        "t4 = torch.stack([t3]*7)"
      ],
      "metadata": {
        "id": "-rDIGjKYHHiF"
      },
      "id": "-rDIGjKYHHiF",
      "execution_count": 81,
      "outputs": []
    },
    {
      "cell_type": "code",
      "source": [
        "t4"
      ],
      "metadata": {
        "colab": {
          "base_uri": "https://localhost:8080/"
        },
        "id": "nHKYyiTAHNmu",
        "outputId": "7de19f4e-cd21-4376-9a6b-e62ed0c83944"
      },
      "id": "nHKYyiTAHNmu",
      "execution_count": 82,
      "outputs": [
        {
          "output_type": "execute_result",
          "data": {
            "text/plain": [
              "tensor([[100,  90,  80,  70,  60,  50,  40,  30,  20,  10],\n",
              "        [100,  90,  80,  70,  60,  50,  40,  30,  20,  10],\n",
              "        [100,  90,  80,  70,  60,  50,  40,  30,  20,  10],\n",
              "        [100,  90,  80,  70,  60,  50,  40,  30,  20,  10],\n",
              "        [100,  90,  80,  70,  60,  50,  40,  30,  20,  10],\n",
              "        [100,  90,  80,  70,  60,  50,  40,  30,  20,  10],\n",
              "        [100,  90,  80,  70,  60,  50,  40,  30,  20,  10]])"
            ]
          },
          "metadata": {},
          "execution_count": 82
        }
      ]
    },
    {
      "cell_type": "code",
      "source": [
        "t31 =  torch.arange(0,100, 10)"
      ],
      "metadata": {
        "id": "FoWMxPmEHOdt"
      },
      "id": "FoWMxPmEHOdt",
      "execution_count": 84,
      "outputs": []
    },
    {
      "cell_type": "code",
      "source": [
        "t31"
      ],
      "metadata": {
        "colab": {
          "base_uri": "https://localhost:8080/"
        },
        "id": "vvq_vHtQHbfk",
        "outputId": "d1fc0fa1-c302-409e-9e6a-e7c8f82d51a4"
      },
      "id": "vvq_vHtQHbfk",
      "execution_count": 85,
      "outputs": [
        {
          "output_type": "execute_result",
          "data": {
            "text/plain": [
              "tensor([ 0, 10, 20, 30, 40, 50, 60, 70, 80, 90])"
            ]
          },
          "metadata": {},
          "execution_count": 85
        }
      ]
    },
    {
      "cell_type": "code",
      "source": [
        "t3"
      ],
      "metadata": {
        "colab": {
          "base_uri": "https://localhost:8080/"
        },
        "id": "B24KAnIeHgeF",
        "outputId": "19ef9cb4-307b-4432-c6c4-5f380e469d60"
      },
      "id": "B24KAnIeHgeF",
      "execution_count": 88,
      "outputs": [
        {
          "output_type": "execute_result",
          "data": {
            "text/plain": [
              "tensor([100,  90,  80,  70,  60,  50,  40,  30,  20,  10])"
            ]
          },
          "metadata": {},
          "execution_count": 88
        }
      ]
    },
    {
      "cell_type": "code",
      "source": [
        "t4 = torch.stack([t3,t31])"
      ],
      "metadata": {
        "id": "cAEgcs6KHhfF"
      },
      "id": "cAEgcs6KHhfF",
      "execution_count": 89,
      "outputs": []
    },
    {
      "cell_type": "code",
      "source": [
        "t4"
      ],
      "metadata": {
        "colab": {
          "base_uri": "https://localhost:8080/"
        },
        "id": "2msMzUHrHqb8",
        "outputId": "db8ac522-3562-46b6-9be3-0495945aeeda"
      },
      "id": "2msMzUHrHqb8",
      "execution_count": 90,
      "outputs": [
        {
          "output_type": "execute_result",
          "data": {
            "text/plain": [
              "tensor([[100,  90,  80,  70,  60,  50,  40,  30,  20,  10],\n",
              "        [  0,  10,  20,  30,  40,  50,  60,  70,  80,  90]])"
            ]
          },
          "metadata": {},
          "execution_count": 90
        }
      ]
    },
    {
      "cell_type": "code",
      "source": [
        "t4 = torch.stack([t3,t31], dim=1)\n",
        "t4"
      ],
      "metadata": {
        "colab": {
          "base_uri": "https://localhost:8080/"
        },
        "id": "yYs7mLXMHq-c",
        "outputId": "c5aa70a0-2198-4695-aba5-e8000e8499aa"
      },
      "id": "yYs7mLXMHq-c",
      "execution_count": 91,
      "outputs": [
        {
          "output_type": "execute_result",
          "data": {
            "text/plain": [
              "tensor([[100,   0],\n",
              "        [ 90,  10],\n",
              "        [ 80,  20],\n",
              "        [ 70,  30],\n",
              "        [ 60,  40],\n",
              "        [ 50,  50],\n",
              "        [ 40,  60],\n",
              "        [ 30,  70],\n",
              "        [ 20,  80],\n",
              "        [ 10,  90]])"
            ]
          },
          "metadata": {},
          "execution_count": 91
        }
      ]
    },
    {
      "cell_type": "code",
      "source": [
        "t5 = t3.repeat(3)\n",
        "t5"
      ],
      "metadata": {
        "colab": {
          "base_uri": "https://localhost:8080/"
        },
        "id": "MmTtG-2uI8eN",
        "outputId": "5ee6ff44-599a-47e8-aa63-15988fcf21f3"
      },
      "id": "MmTtG-2uI8eN",
      "execution_count": 93,
      "outputs": [
        {
          "output_type": "execute_result",
          "data": {
            "text/plain": [
              "tensor([100,  90,  80,  70,  60,  50,  40,  30,  20,  10, 100,  90,  80,  70,\n",
              "         60,  50,  40,  30,  20,  10, 100,  90,  80,  70,  60,  50,  40,  30,\n",
              "         20,  10])"
            ]
          },
          "metadata": {},
          "execution_count": 93
        }
      ]
    },
    {
      "cell_type": "code",
      "source": [
        "t5 = t3.repeat(3,1)\n",
        "t5"
      ],
      "metadata": {
        "colab": {
          "base_uri": "https://localhost:8080/"
        },
        "id": "N5e7ZGN-Jfy9",
        "outputId": "77e182ee-8010-46c3-ec78-94b86b8b71ce"
      },
      "id": "N5e7ZGN-Jfy9",
      "execution_count": 94,
      "outputs": [
        {
          "output_type": "execute_result",
          "data": {
            "text/plain": [
              "tensor([[100,  90,  80,  70,  60,  50,  40,  30,  20,  10],\n",
              "        [100,  90,  80,  70,  60,  50,  40,  30,  20,  10],\n",
              "        [100,  90,  80,  70,  60,  50,  40,  30,  20,  10]])"
            ]
          },
          "metadata": {},
          "execution_count": 94
        }
      ]
    },
    {
      "cell_type": "code",
      "source": [
        "t5 = t3.repeat(3,2)\n",
        "t5"
      ],
      "metadata": {
        "colab": {
          "base_uri": "https://localhost:8080/"
        },
        "id": "z_t48YyVJs58",
        "outputId": "bdac5bd3-68f5-4cd0-a830-9cdd19fb84a1"
      },
      "id": "z_t48YyVJs58",
      "execution_count": 95,
      "outputs": [
        {
          "output_type": "execute_result",
          "data": {
            "text/plain": [
              "tensor([[100,  90,  80,  70,  60,  50,  40,  30,  20,  10, 100,  90,  80,  70,\n",
              "          60,  50,  40,  30,  20,  10],\n",
              "        [100,  90,  80,  70,  60,  50,  40,  30,  20,  10, 100,  90,  80,  70,\n",
              "          60,  50,  40,  30,  20,  10],\n",
              "        [100,  90,  80,  70,  60,  50,  40,  30,  20,  10, 100,  90,  80,  70,\n",
              "          60,  50,  40,  30,  20,  10]])"
            ]
          },
          "metadata": {},
          "execution_count": 95
        }
      ]
    },
    {
      "cell_type": "code",
      "source": [
        "t5 = t3.repeat(1,3,1)\n",
        "t5"
      ],
      "metadata": {
        "colab": {
          "base_uri": "https://localhost:8080/"
        },
        "id": "re8pb8FYJxoj",
        "outputId": "1261f905-44ca-471e-fc40-9f538c28a761"
      },
      "id": "re8pb8FYJxoj",
      "execution_count": 96,
      "outputs": [
        {
          "output_type": "execute_result",
          "data": {
            "text/plain": [
              "tensor([[[100,  90,  80,  70,  60,  50,  40,  30,  20,  10],\n",
              "         [100,  90,  80,  70,  60,  50,  40,  30,  20,  10],\n",
              "         [100,  90,  80,  70,  60,  50,  40,  30,  20,  10]]])"
            ]
          },
          "metadata": {},
          "execution_count": 96
        }
      ]
    },
    {
      "cell_type": "code",
      "source": [
        "t5 = t3.repeat(2,3,1)\n",
        "t5"
      ],
      "metadata": {
        "colab": {
          "base_uri": "https://localhost:8080/"
        },
        "id": "HO1UDJPfJ6a7",
        "outputId": "ebc58df5-1134-456a-d72d-a8bc3e973131"
      },
      "id": "HO1UDJPfJ6a7",
      "execution_count": 99,
      "outputs": [
        {
          "output_type": "execute_result",
          "data": {
            "text/plain": [
              "tensor([[[100,  90,  80,  70,  60,  50,  40,  30,  20,  10],\n",
              "         [100,  90,  80,  70,  60,  50,  40,  30,  20,  10],\n",
              "         [100,  90,  80,  70,  60,  50,  40,  30,  20,  10]],\n",
              "\n",
              "        [[100,  90,  80,  70,  60,  50,  40,  30,  20,  10],\n",
              "         [100,  90,  80,  70,  60,  50,  40,  30,  20,  10],\n",
              "         [100,  90,  80,  70,  60,  50,  40,  30,  20,  10]]])"
            ]
          },
          "metadata": {},
          "execution_count": 99
        }
      ]
    },
    {
      "cell_type": "code",
      "source": [
        "t5 = t3.repeat(1,3,1)\n",
        "t5"
      ],
      "metadata": {
        "colab": {
          "base_uri": "https://localhost:8080/"
        },
        "id": "kfgzhkeiKC8T",
        "outputId": "799b701b-9748-4141-a5d3-1424ef52043d"
      },
      "id": "kfgzhkeiKC8T",
      "execution_count": 100,
      "outputs": [
        {
          "output_type": "execute_result",
          "data": {
            "text/plain": [
              "tensor([[[100,  90,  80,  70,  60,  50,  40,  30,  20,  10],\n",
              "         [100,  90,  80,  70,  60,  50,  40,  30,  20,  10],\n",
              "         [100,  90,  80,  70,  60,  50,  40,  30,  20,  10]]])"
            ]
          },
          "metadata": {},
          "execution_count": 100
        }
      ]
    },
    {
      "cell_type": "code",
      "source": [
        "t5.shape"
      ],
      "metadata": {
        "colab": {
          "base_uri": "https://localhost:8080/"
        },
        "id": "TzgSS69KLVZs",
        "outputId": "4c8dc2c4-aa25-4941-96a9-b31c71348b75"
      },
      "id": "TzgSS69KLVZs",
      "execution_count": 102,
      "outputs": [
        {
          "output_type": "execute_result",
          "data": {
            "text/plain": [
              "torch.Size([1, 3, 10])"
            ]
          },
          "metadata": {},
          "execution_count": 102
        }
      ]
    },
    {
      "cell_type": "code",
      "source": [
        "t_squeeze = t5.squeeze()\n",
        "t_squeeze.shape"
      ],
      "metadata": {
        "colab": {
          "base_uri": "https://localhost:8080/"
        },
        "id": "gqz3nfNJLrFz",
        "outputId": "79af996b-5e3e-40ae-933b-7b9ca56b3c88"
      },
      "id": "gqz3nfNJLrFz",
      "execution_count": 103,
      "outputs": [
        {
          "output_type": "execute_result",
          "data": {
            "text/plain": [
              "torch.Size([3, 10])"
            ]
          },
          "metadata": {},
          "execution_count": 103
        }
      ]
    },
    {
      "cell_type": "code",
      "source": [
        "t5 = t3.repeat(1,1,3,1,1)\n",
        "t5"
      ],
      "metadata": {
        "colab": {
          "base_uri": "https://localhost:8080/"
        },
        "id": "5A2rxX_IMPGM",
        "outputId": "16bebc41-4739-4130-a436-63b1ba9a9fdd"
      },
      "id": "5A2rxX_IMPGM",
      "execution_count": 104,
      "outputs": [
        {
          "output_type": "execute_result",
          "data": {
            "text/plain": [
              "tensor([[[[[100,  90,  80,  70,  60,  50,  40,  30,  20,  10]],\n",
              "\n",
              "          [[100,  90,  80,  70,  60,  50,  40,  30,  20,  10]],\n",
              "\n",
              "          [[100,  90,  80,  70,  60,  50,  40,  30,  20,  10]]]]])"
            ]
          },
          "metadata": {},
          "execution_count": 104
        }
      ]
    },
    {
      "cell_type": "code",
      "source": [
        "t5.shape"
      ],
      "metadata": {
        "colab": {
          "base_uri": "https://localhost:8080/"
        },
        "id": "3Tkm9fusMeET",
        "outputId": "ffc67575-6118-4d2b-fcd9-6f41488e9602"
      },
      "id": "3Tkm9fusMeET",
      "execution_count": 105,
      "outputs": [
        {
          "output_type": "execute_result",
          "data": {
            "text/plain": [
              "torch.Size([1, 1, 3, 1, 10])"
            ]
          },
          "metadata": {},
          "execution_count": 105
        }
      ]
    },
    {
      "cell_type": "code",
      "source": [
        "t_squeeze = t5.squeeze()\n",
        "t_squeeze.shape"
      ],
      "metadata": {
        "colab": {
          "base_uri": "https://localhost:8080/"
        },
        "id": "g_dS21Z5Mi9L",
        "outputId": "84458670-9f8f-413d-b989-f2c6ea9b3726"
      },
      "id": "g_dS21Z5Mi9L",
      "execution_count": 106,
      "outputs": [
        {
          "output_type": "execute_result",
          "data": {
            "text/plain": [
              "torch.Size([3, 10])"
            ]
          },
          "metadata": {},
          "execution_count": 106
        }
      ]
    },
    {
      "cell_type": "code",
      "source": [
        "t5 = t3.repeat(1,1,3,1,1)\n",
        "t5"
      ],
      "metadata": {
        "colab": {
          "base_uri": "https://localhost:8080/"
        },
        "id": "2lWL1kbyNGsD",
        "outputId": "67b33d91-524c-4b43-af00-4a975869310b"
      },
      "id": "2lWL1kbyNGsD",
      "execution_count": 107,
      "outputs": [
        {
          "output_type": "execute_result",
          "data": {
            "text/plain": [
              "tensor([[[[[100,  90,  80,  70,  60,  50,  40,  30,  20,  10]],\n",
              "\n",
              "          [[100,  90,  80,  70,  60,  50,  40,  30,  20,  10]],\n",
              "\n",
              "          [[100,  90,  80,  70,  60,  50,  40,  30,  20,  10]]]]])"
            ]
          },
          "metadata": {},
          "execution_count": 107
        }
      ]
    },
    {
      "cell_type": "code",
      "source": [
        "t_squeeze = t5.squeeze(dim=1)\n",
        "t_squeeze.shape"
      ],
      "metadata": {
        "colab": {
          "base_uri": "https://localhost:8080/"
        },
        "id": "4LWZAvLiNdWK",
        "outputId": "470165ec-24bc-4ba7-88a5-a80f91a6abeb"
      },
      "id": "4LWZAvLiNdWK",
      "execution_count": 108,
      "outputs": [
        {
          "output_type": "execute_result",
          "data": {
            "text/plain": [
              "torch.Size([1, 3, 1, 10])"
            ]
          },
          "metadata": {},
          "execution_count": 108
        }
      ]
    },
    {
      "cell_type": "code",
      "source": [
        "t5 = t3.repeat(1,1,3,1,1)\n",
        "t5.shape"
      ],
      "metadata": {
        "colab": {
          "base_uri": "https://localhost:8080/"
        },
        "id": "VnAXsQ1bNnhi",
        "outputId": "3d6e0e06-a5ff-4f8f-e972-b8cea6c70c32"
      },
      "id": "VnAXsQ1bNnhi",
      "execution_count": 110,
      "outputs": [
        {
          "output_type": "execute_result",
          "data": {
            "text/plain": [
              "torch.Size([1, 1, 3, 1, 10])"
            ]
          },
          "metadata": {},
          "execution_count": 110
        }
      ]
    },
    {
      "cell_type": "code",
      "source": [
        "t_squeeze = t5.squeeze(dim=2)\n"
      ],
      "metadata": {
        "id": "7N5R-ZrSNtYS"
      },
      "id": "7N5R-ZrSNtYS",
      "execution_count": 111,
      "outputs": []
    },
    {
      "cell_type": "code",
      "source": [
        "t_squeeze.shape"
      ],
      "metadata": {
        "colab": {
          "base_uri": "https://localhost:8080/"
        },
        "id": "s_jPAYlPOFyy",
        "outputId": "7b6a5d72-3c83-4bb3-b55a-82dd9295d846"
      },
      "id": "s_jPAYlPOFyy",
      "execution_count": 112,
      "outputs": [
        {
          "output_type": "execute_result",
          "data": {
            "text/plain": [
              "torch.Size([1, 1, 3, 1, 10])"
            ]
          },
          "metadata": {},
          "execution_count": 112
        }
      ]
    },
    {
      "cell_type": "code",
      "source": [
        "t_squeeze = t5.squeeze()"
      ],
      "metadata": {
        "id": "vj2Om4x9OHhC"
      },
      "id": "vj2Om4x9OHhC",
      "execution_count": 113,
      "outputs": []
    },
    {
      "cell_type": "code",
      "source": [
        "t_squeeze"
      ],
      "metadata": {
        "colab": {
          "base_uri": "https://localhost:8080/"
        },
        "id": "wA1_zub1Oumy",
        "outputId": "a1bcb18b-7e22-45de-a592-08b853fce141"
      },
      "id": "wA1_zub1Oumy",
      "execution_count": 114,
      "outputs": [
        {
          "output_type": "execute_result",
          "data": {
            "text/plain": [
              "tensor([[100,  90,  80,  70,  60,  50,  40,  30,  20,  10],\n",
              "        [100,  90,  80,  70,  60,  50,  40,  30,  20,  10],\n",
              "        [100,  90,  80,  70,  60,  50,  40,  30,  20,  10]])"
            ]
          },
          "metadata": {},
          "execution_count": 114
        }
      ]
    },
    {
      "cell_type": "code",
      "source": [
        "t_squeeze.shape"
      ],
      "metadata": {
        "colab": {
          "base_uri": "https://localhost:8080/"
        },
        "id": "w3RlrCu0Owga",
        "outputId": "710c30d2-916b-4430-f297-ab1bcb6a014e"
      },
      "id": "w3RlrCu0Owga",
      "execution_count": 115,
      "outputs": [
        {
          "output_type": "execute_result",
          "data": {
            "text/plain": [
              "torch.Size([3, 10])"
            ]
          },
          "metadata": {},
          "execution_count": 115
        }
      ]
    },
    {
      "cell_type": "code",
      "source": [
        "t_squeeze.numel()"
      ],
      "metadata": {
        "colab": {
          "base_uri": "https://localhost:8080/"
        },
        "id": "gs24HDLqOzjq",
        "outputId": "91bb046c-6a49-49c3-851c-ea265dd6c7ea"
      },
      "id": "gs24HDLqOzjq",
      "execution_count": 117,
      "outputs": [
        {
          "output_type": "execute_result",
          "data": {
            "text/plain": [
              "30"
            ]
          },
          "metadata": {},
          "execution_count": 117
        }
      ]
    },
    {
      "cell_type": "code",
      "source": [
        "t_squeeze.unsqueeze() #error"
      ],
      "metadata": {
        "colab": {
          "base_uri": "https://localhost:8080/",
          "height": 141
        },
        "id": "jne-cjs5O3np",
        "outputId": "830348d8-8a91-41af-b612-8d7737a6a17b"
      },
      "id": "jne-cjs5O3np",
      "execution_count": 118,
      "outputs": [
        {
          "output_type": "error",
          "ename": "TypeError",
          "evalue": "unsqueeze() missing 1 required positional arguments: \"dim\"",
          "traceback": [
            "\u001b[0;31m---------------------------------------------------------------------------\u001b[0m",
            "\u001b[0;31mTypeError\u001b[0m                                 Traceback (most recent call last)",
            "\u001b[0;32m<ipython-input-118-ac555f7b1251>\u001b[0m in \u001b[0;36m<cell line: 0>\u001b[0;34m()\u001b[0m\n\u001b[0;32m----> 1\u001b[0;31m \u001b[0mt_squeeze\u001b[0m\u001b[0;34m.\u001b[0m\u001b[0munsqueeze\u001b[0m\u001b[0;34m(\u001b[0m\u001b[0;34m)\u001b[0m\u001b[0;34m\u001b[0m\u001b[0;34m\u001b[0m\u001b[0m\n\u001b[0m",
            "\u001b[0;31mTypeError\u001b[0m: unsqueeze() missing 1 required positional arguments: \"dim\""
          ]
        }
      ]
    },
    {
      "cell_type": "code",
      "source": [
        "t_squeeze.shape"
      ],
      "metadata": {
        "colab": {
          "base_uri": "https://localhost:8080/"
        },
        "id": "TOE-JqNZPzyi",
        "outputId": "499738fd-97eb-4b40-ded9-9ea6ab932770"
      },
      "id": "TOE-JqNZPzyi",
      "execution_count": 123,
      "outputs": [
        {
          "output_type": "execute_result",
          "data": {
            "text/plain": [
              "torch.Size([3, 10])"
            ]
          },
          "metadata": {},
          "execution_count": 123
        }
      ]
    },
    {
      "cell_type": "code",
      "source": [
        "t_squeeze.unsqueeze(dim=1)"
      ],
      "metadata": {
        "colab": {
          "base_uri": "https://localhost:8080/"
        },
        "id": "CcvsIoW6PYML",
        "outputId": "67edf584-ab05-49e3-8855-582fb1c970c8"
      },
      "id": "CcvsIoW6PYML",
      "execution_count": 119,
      "outputs": [
        {
          "output_type": "execute_result",
          "data": {
            "text/plain": [
              "tensor([[[100,  90,  80,  70,  60,  50,  40,  30,  20,  10]],\n",
              "\n",
              "        [[100,  90,  80,  70,  60,  50,  40,  30,  20,  10]],\n",
              "\n",
              "        [[100,  90,  80,  70,  60,  50,  40,  30,  20,  10]]])"
            ]
          },
          "metadata": {},
          "execution_count": 119
        }
      ]
    },
    {
      "cell_type": "code",
      "source": [
        "t_squeeze.unsqueeze(dim=1).shape"
      ],
      "metadata": {
        "colab": {
          "base_uri": "https://localhost:8080/"
        },
        "id": "zO3-ru9GPzLK",
        "outputId": "e0a26f64-315b-40b2-8abe-abbd6f24657a"
      },
      "id": "zO3-ru9GPzLK",
      "execution_count": 124,
      "outputs": [
        {
          "output_type": "execute_result",
          "data": {
            "text/plain": [
              "torch.Size([3, 1, 10])"
            ]
          },
          "metadata": {},
          "execution_count": 124
        }
      ]
    },
    {
      "cell_type": "code",
      "source": [
        "t_squeeze.unsqueeze(dim=0)"
      ],
      "metadata": {
        "colab": {
          "base_uri": "https://localhost:8080/"
        },
        "id": "NqOkPPrPPfnq",
        "outputId": "f867e54e-a484-4178-fd84-146c2acee931"
      },
      "id": "NqOkPPrPPfnq",
      "execution_count": 120,
      "outputs": [
        {
          "output_type": "execute_result",
          "data": {
            "text/plain": [
              "tensor([[[100,  90,  80,  70,  60,  50,  40,  30,  20,  10],\n",
              "         [100,  90,  80,  70,  60,  50,  40,  30,  20,  10],\n",
              "         [100,  90,  80,  70,  60,  50,  40,  30,  20,  10]]])"
            ]
          },
          "metadata": {},
          "execution_count": 120
        }
      ]
    },
    {
      "cell_type": "code",
      "source": [
        "t_squeeze.unsqueeze(dim=0).shape"
      ],
      "metadata": {
        "colab": {
          "base_uri": "https://localhost:8080/"
        },
        "id": "_9rNoIeLP7Yz",
        "outputId": "26167dfc-6ae4-4de8-a491-af68de521fdd"
      },
      "id": "_9rNoIeLP7Yz",
      "execution_count": 125,
      "outputs": [
        {
          "output_type": "execute_result",
          "data": {
            "text/plain": [
              "torch.Size([1, 3, 10])"
            ]
          },
          "metadata": {},
          "execution_count": 125
        }
      ]
    },
    {
      "cell_type": "code",
      "source": [
        "t_squeeze.unsqueeze(dim=2)"
      ],
      "metadata": {
        "colab": {
          "base_uri": "https://localhost:8080/"
        },
        "id": "5ZiDGsGGPjdB",
        "outputId": "072a1256-8523-46c2-a189-09ac631262db"
      },
      "id": "5ZiDGsGGPjdB",
      "execution_count": 121,
      "outputs": [
        {
          "output_type": "execute_result",
          "data": {
            "text/plain": [
              "tensor([[[100],\n",
              "         [ 90],\n",
              "         [ 80],\n",
              "         [ 70],\n",
              "         [ 60],\n",
              "         [ 50],\n",
              "         [ 40],\n",
              "         [ 30],\n",
              "         [ 20],\n",
              "         [ 10]],\n",
              "\n",
              "        [[100],\n",
              "         [ 90],\n",
              "         [ 80],\n",
              "         [ 70],\n",
              "         [ 60],\n",
              "         [ 50],\n",
              "         [ 40],\n",
              "         [ 30],\n",
              "         [ 20],\n",
              "         [ 10]],\n",
              "\n",
              "        [[100],\n",
              "         [ 90],\n",
              "         [ 80],\n",
              "         [ 70],\n",
              "         [ 60],\n",
              "         [ 50],\n",
              "         [ 40],\n",
              "         [ 30],\n",
              "         [ 20],\n",
              "         [ 10]]])"
            ]
          },
          "metadata": {},
          "execution_count": 121
        }
      ]
    },
    {
      "cell_type": "code",
      "source": [
        "t_squeeze.unsqueeze(dim=2).shape"
      ],
      "metadata": {
        "colab": {
          "base_uri": "https://localhost:8080/"
        },
        "id": "45oqedgsP_Ry",
        "outputId": "13a24717-d402-4629-b4c9-26477562064c"
      },
      "id": "45oqedgsP_Ry",
      "execution_count": 126,
      "outputs": [
        {
          "output_type": "execute_result",
          "data": {
            "text/plain": [
              "torch.Size([3, 10, 1])"
            ]
          },
          "metadata": {},
          "execution_count": 126
        }
      ]
    },
    {
      "cell_type": "code",
      "source": [
        "|t_squeeze.unsqueeze(dim=3) #error"
      ],
      "metadata": {
        "colab": {
          "base_uri": "https://localhost:8080/",
          "height": 141
        },
        "id": "VA7BbjW0PnTi",
        "outputId": "046ca34e-d244-4fbc-bd15-7bf120034886"
      },
      "id": "VA7BbjW0PnTi",
      "execution_count": 122,
      "outputs": [
        {
          "output_type": "error",
          "ename": "IndexError",
          "evalue": "Dimension out of range (expected to be in range of [-3, 2], but got 3)",
          "traceback": [
            "\u001b[0;31m---------------------------------------------------------------------------\u001b[0m",
            "\u001b[0;31mIndexError\u001b[0m                                Traceback (most recent call last)",
            "\u001b[0;32m<ipython-input-122-8d36184f2d9a>\u001b[0m in \u001b[0;36m<cell line: 0>\u001b[0;34m()\u001b[0m\n\u001b[0;32m----> 1\u001b[0;31m \u001b[0mt_squeeze\u001b[0m\u001b[0;34m.\u001b[0m\u001b[0munsqueeze\u001b[0m\u001b[0;34m(\u001b[0m\u001b[0mdim\u001b[0m\u001b[0;34m=\u001b[0m\u001b[0;36m3\u001b[0m\u001b[0;34m)\u001b[0m\u001b[0;34m\u001b[0m\u001b[0;34m\u001b[0m\u001b[0m\n\u001b[0m",
            "\u001b[0;31mIndexError\u001b[0m: Dimension out of range (expected to be in range of [-3, 2], but got 3)"
          ]
        }
      ]
    },
    {
      "cell_type": "code",
      "source": [],
      "metadata": {
        "id": "xh5ATkJDPq2h"
      },
      "id": "xh5ATkJDPq2h",
      "execution_count": null,
      "outputs": []
    }
  ],
  "metadata": {
    "kernelspec": {
      "display_name": "Python 3 (ipykernel)",
      "language": "python",
      "name": "python3"
    },
    "language_info": {
      "codemirror_mode": {
        "name": "ipython",
        "version": 3
      },
      "file_extension": ".py",
      "mimetype": "text/x-python",
      "name": "python",
      "nbconvert_exporter": "python",
      "pygments_lexer": "ipython3",
      "version": "3.12.2"
    },
    "colab": {
      "provenance": []
    }
  },
  "nbformat": 4,
  "nbformat_minor": 5
}