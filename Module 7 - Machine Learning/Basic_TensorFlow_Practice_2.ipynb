{
  "cells": [
    {
      "cell_type": "markdown",
      "metadata": {
        "id": "view-in-github",
        "colab_type": "text"
      },
      "source": [
        "<a href=\"https://colab.research.google.com/github/DanielDekhtyar/AI-Accelerator/blob/main/Module%207%20-%20Machine%20Learning/Basic_TensorFlow_Practice_2.ipynb\" target=\"_parent\"><img src=\"https://colab.research.google.com/assets/colab-badge.svg\" alt=\"Open In Colab\"/></a>"
      ]
    },
    {
      "cell_type": "code",
      "execution_count": 1,
      "id": "d6cecd7c-d454-4345-9c6d-22060c273b45",
      "metadata": {
        "id": "d6cecd7c-d454-4345-9c6d-22060c273b45"
      },
      "outputs": [],
      "source": [
        "import tensorflow as tf\n",
        "import numpy as np\n",
        "import matplotlib.pyplot as plt"
      ]
    },
    {
      "cell_type": "markdown",
      "id": "1e892ceb-987a-4746-990b-f5f4d06a6392",
      "metadata": {
        "id": "1e892ceb-987a-4746-990b-f5f4d06a6392"
      },
      "source": [
        "#### Task 1   \n",
        "Kadabra the magnificent magician wants to guess which card was chosen from a deck. Create a tensor with numbers from 1 to 52, where each number represents a different card in the deck.\n",
        "\n",
        "Then, write code to shuffle the deck and print the top card.\n",
        "\n"
      ]
    },
    {
      "cell_type": "code",
      "execution_count": 2,
      "id": "9c740c58-ccc0-4e24-b689-7172acb53dad",
      "metadata": {
        "colab": {
          "base_uri": "https://localhost:8080/"
        },
        "id": "9c740c58-ccc0-4e24-b689-7172acb53dad",
        "outputId": "50693886-7309-495b-861c-9f726e9144c1"
      },
      "outputs": [
        {
          "output_type": "execute_result",
          "data": {
            "text/plain": [
              "19"
            ]
          },
          "metadata": {},
          "execution_count": 2
        }
      ],
      "source": [
        "cards = tf.range(1, 53)\n",
        "shuffled_cards = tf.random.shuffle(cards)\n",
        "shuffled_cards[0].numpy()"
      ]
    },
    {
      "cell_type": "markdown",
      "id": "fd80d013-24ae-46de-8ddf-909a8539e1f7",
      "metadata": {
        "id": "fd80d013-24ae-46de-8ddf-909a8539e1f7"
      },
      "source": [
        "Kadabra was surprised to discover he has no magical powers. He wants to pretand shuffle so that it looks like he is picking a random card, but in reality, it will always be the same card. Help him create suitable code."
      ]
    },
    {
      "cell_type": "code",
      "execution_count": 3,
      "id": "162aba0a-3104-4d73-b055-34641b0470e8",
      "metadata": {
        "colab": {
          "base_uri": "https://localhost:8080/"
        },
        "id": "162aba0a-3104-4d73-b055-34641b0470e8",
        "outputId": "26601e13-341f-4af3-96c7-f74ab1d3f77b"
      },
      "outputs": [
        {
          "output_type": "execute_result",
          "data": {
            "text/plain": [
              "16"
            ]
          },
          "metadata": {},
          "execution_count": 3
        }
      ],
      "source": [
        "tf.random.set_seed(42)\n",
        "shuffled_cards = tf.random.shuffle(cards)\n",
        "shuffled_cards[0].numpy()"
      ]
    },
    {
      "cell_type": "markdown",
      "id": "7fac8df0-b3a4-449a-bb5c-1913c888085e",
      "metadata": {
        "id": "7fac8df0-b3a4-449a-bb5c-1913c888085e"
      },
      "source": [
        "#### Task 2    \n",
        "A futuristic restaurant has introduced an AI-powered robot waiter. The robot needs to classify food orders into 5 categories to prepare and serve meals efficiently. However, the system requires the data to be represented numerically before the robot can process it.\n",
        "\n",
        "Create a Food Orders Tensor\n",
        "Create a tensor named food_orders that contains an equal distribution of the 5 food categories. The total number of food items should 30."
      ]
    },
    {
      "cell_type": "code",
      "execution_count": 4,
      "id": "31990a0d-00dc-4599-a7b0-fee387845b63",
      "metadata": {
        "colab": {
          "base_uri": "https://localhost:8080/"
        },
        "id": "31990a0d-00dc-4599-a7b0-fee387845b63",
        "outputId": "e2bb3f01-f0d6-48b4-c1a0-80137381a67a"
      },
      "outputs": [
        {
          "output_type": "execute_result",
          "data": {
            "text/plain": [
              "array([[2, 2, 4, 2, 3, 0, 4, 3, 3, 2, 0, 3, 1, 4, 3, 0, 3, 0, 1, 1, 1, 1,\n",
              "        3, 1, 3, 3, 4, 2, 1, 4]])"
            ]
          },
          "metadata": {},
          "execution_count": 4
        }
      ],
      "source": [
        "food_orders = tf.random.categorical(tf.math.log([[0.2, 0.2, 0.2, 0.2, 0.2]]), 30).numpy()\n",
        "food_orders"
      ]
    },
    {
      "cell_type": "markdown",
      "id": "99a6025e-7279-4849-892e-e5836e21ff09",
      "metadata": {
        "id": "99a6025e-7279-4849-892e-e5836e21ff09"
      },
      "source": [
        "Unfotunatly, this robot can only read ones and zeros...\n",
        "Convert your food_orders tensor into a form that allows the robot to distinguish the food types using the minimum number of unique values needed while still keeping all the category information.\n"
      ]
    },
    {
      "cell_type": "code",
      "execution_count": 5,
      "id": "6fd193f7-6350-493d-8020-a511a3e4642d",
      "metadata": {
        "colab": {
          "base_uri": "https://localhost:8080/"
        },
        "id": "6fd193f7-6350-493d-8020-a511a3e4642d",
        "outputId": "0869925c-c825-4779-daa2-e7210bc00329"
      },
      "outputs": [
        {
          "output_type": "execute_result",
          "data": {
            "text/plain": [
              "<tf.Tensor: shape=(1, 30, 4), dtype=float32, numpy=\n",
              "array([[[0., 0., 1., 0.],\n",
              "        [0., 0., 1., 0.],\n",
              "        [0., 0., 0., 0.],\n",
              "        [0., 0., 1., 0.],\n",
              "        [0., 0., 0., 1.],\n",
              "        [1., 0., 0., 0.],\n",
              "        [0., 0., 0., 0.],\n",
              "        [0., 0., 0., 1.],\n",
              "        [0., 0., 0., 1.],\n",
              "        [0., 0., 1., 0.],\n",
              "        [1., 0., 0., 0.],\n",
              "        [0., 0., 0., 1.],\n",
              "        [0., 1., 0., 0.],\n",
              "        [0., 0., 0., 0.],\n",
              "        [0., 0., 0., 1.],\n",
              "        [1., 0., 0., 0.],\n",
              "        [0., 0., 0., 1.],\n",
              "        [1., 0., 0., 0.],\n",
              "        [0., 1., 0., 0.],\n",
              "        [0., 1., 0., 0.],\n",
              "        [0., 1., 0., 0.],\n",
              "        [0., 1., 0., 0.],\n",
              "        [0., 0., 0., 1.],\n",
              "        [0., 1., 0., 0.],\n",
              "        [0., 0., 0., 1.],\n",
              "        [0., 0., 0., 1.],\n",
              "        [0., 0., 0., 0.],\n",
              "        [0., 0., 1., 0.],\n",
              "        [0., 1., 0., 0.],\n",
              "        [0., 0., 0., 0.]]], dtype=float32)>"
            ]
          },
          "metadata": {},
          "execution_count": 5
        }
      ],
      "source": [
        "encoded_orders = tf.one_hot(food_orders, depth = 4)\n",
        "encoded_orders"
      ]
    },
    {
      "cell_type": "markdown",
      "id": "36033716-3010-4ea7-9af5-d9886d8f0988",
      "metadata": {
        "id": "36033716-3010-4ea7-9af5-d9886d8f0988"
      },
      "source": [
        "#### Task 3\n",
        "התעמלות לחשיבה סטטיסטית:  \n",
        "- צרו משתנה טנסור עם אלף מספרים רנדומלים עם התפלגות נורמלית\n",
        "- תחשבו על דרך ליצור טנסור שני שיש בו סתם 1000 מספרים רנדומלים שלמים בין אפס לאלף\n",
        "- צרו  טנסור שהוא סכומי שני הטנסורים הנל, ומשתנה שהוא מכפלות שלהם\n",
        "- צרו 3 היסטוגרמות שמראות את ההתפלגות בטסורהנורמלי, בטנסור החיבורובטנסור ההכפלה.- האם התוצאות הן כפי שציפיתם? האם אתם יותדעים להסביר מדוע התוצאות נראות כפי שהן נראות?"
      ]
    },
    {
      "cell_type": "code",
      "execution_count": 6,
      "id": "6415b33c-dfe4-418c-8977-5aa595e5b81d",
      "metadata": {
        "id": "6415b33c-dfe4-418c-8977-5aa595e5b81d"
      },
      "outputs": [],
      "source": [
        "norm = tf.random.normal(shape = (1000,))"
      ]
    },
    {
      "cell_type": "code",
      "execution_count": 7,
      "id": "a2da00a5-7f90-4210-a7b9-6be96a4ed5f9",
      "metadata": {
        "id": "a2da00a5-7f90-4210-a7b9-6be96a4ed5f9"
      },
      "outputs": [],
      "source": [
        "rand_np = np.random.randint(0, 1000, size = 1000)"
      ]
    },
    {
      "cell_type": "code",
      "execution_count": 8,
      "id": "52a0f589-9d08-499c-a09c-d25afa744b4f",
      "metadata": {
        "id": "52a0f589-9d08-499c-a09c-d25afa744b4f"
      },
      "outputs": [],
      "source": [
        "rand = tf.constant(rand_np, dtype=tf.float32)"
      ]
    },
    {
      "cell_type": "code",
      "source": [
        "added = norm + rand\n",
        "multi = norm * rand"
      ],
      "metadata": {
        "id": "xCfqHnjNQLAe"
      },
      "id": "xCfqHnjNQLAe",
      "execution_count": 9,
      "outputs": []
    },
    {
      "cell_type": "code",
      "source": [
        "f, a = plt.subplots(1, 3, figsize = (10, 2))\n",
        "a[0].hist(norm)\n",
        "a[0].set_title('Norm')\n",
        "\n",
        "a[1].hist(added)\n",
        "a[1].set_title('Added')\n",
        "\n",
        "a[2].hist(multi)\n",
        "a[2].set_title('Multi')\n",
        "\n",
        "plt.show()"
      ],
      "metadata": {
        "colab": {
          "base_uri": "https://localhost:8080/",
          "height": 237
        },
        "id": "mtq7D3YIRFMw",
        "outputId": "9ec33bd3-9a2c-49c2-de99-8605e0406617"
      },
      "id": "mtq7D3YIRFMw",
      "execution_count": 11,
      "outputs": [
        {
          "output_type": "display_data",
          "data": {
            "text/plain": [
              "<Figure size 1000x200 with 3 Axes>"
            ],
            "image/png": "[encoded data removed]"
          },
          "metadata": {}
        }
      ]
    }
  ],
  "metadata": {
    "kernelspec": {
      "display_name": "Python 3 (ipykernel)",
      "language": "python",
      "name": "python3"
    },
    "language_info": {
      "codemirror_mode": {
        "name": "ipython",
        "version": 3
      },
      "file_extension": ".py",
      "mimetype": "text/x-python",
      "name": "python",
      "nbconvert_exporter": "python",
      "pygments_lexer": "ipython3",
      "version": "3.12.2"
    },
    "colab": {
      "provenance": [],
      "include_colab_link": true
    }
  },
  "nbformat": 4,
  "nbformat_minor": 5
}