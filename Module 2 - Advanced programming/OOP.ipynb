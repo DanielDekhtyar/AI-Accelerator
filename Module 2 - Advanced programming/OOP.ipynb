{
 "cells": [
  {
   "cell_type": "markdown",
   "id": "4a4b875d-5d30-4f34-bc96-be34e12d1720",
   "metadata": {},
   "source": [
    "# **OOP**\n",
    "## Class\n",
    "---"
   ]
  },
  {
   "cell_type": "code",
   "execution_count": 5,
   "id": "0b5efc4f-cbd4-4918-be79-e052d2f4f380",
   "metadata": {},
   "outputs": [
    {
     "name": "stdout",
     "output_type": "stream",
     "text": [
      "Daniel\n",
      "21\n",
      "100.0\n",
      "Diana\n",
      "17\n",
      "98.0\n",
      "DD\n",
      "18\n",
      "96.0\n"
     ]
    }
   ],
   "source": [
    "class Student():\n",
    "    name: str = None\n",
    "    age: int = None\n",
    "    grade: float = None\n",
    "\n",
    "student1 = Student()\n",
    "\n",
    "students = []\n",
    "\n",
    "for student in range(3):\n",
    "    student = Student()\n",
    "    student.name = input(\"What is the name of the student? \")\n",
    "    student.age = int(input(\"What is the age? \"))\n",
    "    student.grade = float(input(\"What is the grade? \"))\n",
    "    students.append(student)\n",
    "\n",
    "for student in students:\n",
    "    print(student.name)\n",
    "    print(student.age)\n",
    "    print(student.grade)"
   ]
  },
  {
   "cell_type": "code",
   "execution_count": 2,
   "id": "f39673bc-6369-4626-8ee9-e3f1c789e185",
   "metadata": {},
   "outputs": [
    {
     "name": "stdout",
     "output_type": "stream",
     "text": [
      "The new book price is 44.91\n"
     ]
    }
   ],
   "source": [
    "class Book:\n",
    "    title: str = \"\"\n",
    "    price: float = 0.00\n",
    "    discount = 0.10\n",
    "    \n",
    "    def final_price(self):\n",
    "        self.price = self.price - (self.price*self.discount)\n",
    "\n",
    "book1 = Book()\n",
    "book1.title = \"Rich Dad, Poor Dad\"\n",
    "book1.price = 49.90\n",
    "book1.final_price()\n",
    "\n",
    "print(f\"The new book price is {book1.price}\")"
   ]
  }
 ],
 "metadata": {
  "kernelspec": {
   "display_name": "Python 3 (ipykernel)",
   "language": "python",
   "name": "python3"
  },
  "language_info": {
   "codemirror_mode": {
    "name": "ipython",
    "version": 3
   },
   "file_extension": ".py",
   "mimetype": "text/x-python",
   "name": "python",
   "nbconvert_exporter": "python",
   "pygments_lexer": "ipython3",
   "version": "3.12.6"
  }
 },
 "nbformat": 4,
 "nbformat_minor": 5
}
