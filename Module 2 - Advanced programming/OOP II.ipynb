{
 "cells": [
  {
   "cell_type": "markdown",
   "metadata": {},
   "source": [
    "# OOP\n",
    "### More exercises"
   ]
  },
  {
   "cell_type": "code",
   "execution_count": 5,
   "metadata": {},
   "outputs": [
    {
     "name": "stdout",
     "output_type": "stream",
     "text": [
      " The type of 'dog' is <class '__main__.Animal'>\n",
      "Dog dict: {'name': 'Belle', 'nutrition': 'Good', 'species': 'Dog', 'natural_habitat': 'Home'}\n",
      "Animal dict : {'__module__': '__main__', 'name': '', 'nutrition': '', 'species': '', 'natural_habitat': '', '__dict__': <attribute '__dict__' of 'Animal' objects>, '__weakref__': <attribute '__weakref__' of 'Animal' objects>, '__doc__': None}\n",
      "10\n"
     ]
    }
   ],
   "source": [
    "class Animal:\n",
    "    name = \"\"\n",
    "    nutrition = \"\"\n",
    "    species = \"\"\n",
    "    natural_habitat = \"\"\n",
    "\n",
    "dog = Animal()\n",
    "dog.name = \"Belle\"\n",
    "dog.nutrition = \"Good\"\n",
    "dog.species = \"Dog\"\n",
    "dog.natural_habitat = \"Home\"\n",
    "print(f\" The type of 'dog' is {type(dog)}\")\n",
    "print(f\"Dog dict: {dog.__dict__}\")\n",
    "print(f\"Animal dict : {Animal.__dict__}\")\n",
    "Animal.age = 0\n",
    "dog.age = 10\n",
    "print(dog.age)"
   ]
  },
  {
   "cell_type": "code",
   "execution_count": 6,
   "metadata": {},
   "outputs": [
    {
     "name": "stdout",
     "output_type": "stream",
     "text": [
      "{'name': 'Papa Smurf', 'job': 'Grandpa', 'color': 'blue'}\n",
      "Papa Smurf is a Smurf\n"
     ]
    }
   ],
   "source": [
    "class Smurfs:\n",
    "    def __init__(self, name, job, color=\"blue\"):\n",
    "        self.name = name\n",
    "        self.job = job\n",
    "        self.color = color\n",
    "    \n",
    "    def say_hi(self):\n",
    "        print(f\"{self.name} says hi 👋\")\n",
    "    \n",
    "papa_smurf = Smurfs(\"Papa Smurf\", \"Grandpa\")\n",
    "print(papa_smurf.__dict__)\n",
    "if isinstance(papa_smurf, Smurfs):\n",
    "    print(\"Papa Smurf is a Smurf\")\n",
    "elif isinstance(papa_smurf, Animal):\n",
    "    print(\"Papa Smurf is for some reason an animal :(\")"
   ]
  },
  {
   "cell_type": "code",
   "execution_count": null,
   "metadata": {},
   "outputs": [],
   "source": [
    "class BankAccount:\n",
    "    def __init__(balance: float, owner_name: str):\n",
    "        "
   ]
  }
 ],
 "metadata": {
  "kernelspec": {
   "display_name": "Python 3",
   "language": "python",
   "name": "python3"
  },
  "language_info": {
   "codemirror_mode": {
    "name": "ipython",
    "version": 3
   },
   "file_extension": ".py",
   "mimetype": "text/x-python",
   "name": "python",
   "nbconvert_exporter": "python",
   "pygments_lexer": "ipython3",
   "version": "3.12.6"
  }
 },
 "nbformat": 4,
 "nbformat_minor": 2
}
