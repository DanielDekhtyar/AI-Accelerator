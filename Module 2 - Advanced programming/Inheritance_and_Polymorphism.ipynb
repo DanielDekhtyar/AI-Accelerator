{
  "nbformat": 4,
  "nbformat_minor": 0,
  "metadata": {
    "colab": {
      "provenance": [],
      "authorship_tag": "ABX9TyOSoDsscbNjE09HsL7PR+FM",
      "include_colab_link": true
    },
    "kernelspec": {
      "name": "python3",
      "display_name": "Python 3"
    },
    "language_info": {
      "name": "python"
    }
  },
  "cells": [
    {
      "cell_type": "markdown",
      "metadata": {
        "id": "view-in-github",
        "colab_type": "text"
      },
      "source": [
        "<a href=\"https://colab.research.google.com/github/DanielDekhtyar/AI-Accelerator/blob/main/Inheritance_and_Polymorphism.ipynb\" target=\"_parent\"><img src=\"https://colab.research.google.com/assets/colab-badge.svg\" alt=\"Open In Colab\"/></a>"
      ]
    },
    {
      "cell_type": "markdown",
      "source": [
        "# **Inheritance and Polymorphism**"
      ],
      "metadata": {
        "id": "mNfYPZ6kqeHN"
      }
    },
    {
      "cell_type": "code",
      "execution_count": 1,
      "metadata": {
        "id": "0z6erfaJk63i"
      },
      "outputs": [],
      "source": [
        "class Product:\n",
        "  def __init__(self, name: str, price: float) -> None:\n",
        "    self.name: str = name\n",
        "    self.price: float = price\n",
        "\n",
        "  def prod_info(self):\n",
        "    name = self.name\n",
        "    price = self.price\n",
        "\n",
        "\n",
        "class Cloths(Product):\n",
        "    def __init__(self, name: str, price: float, size: str, color: str):\n",
        "        super().__init__(name, price)\n",
        "        self.size = size\n",
        "        self.color = color\n",
        "\n",
        "\n",
        "class Toys(Product):\n",
        "    def __init__(self, name: str, price: float, age_group: str):\n",
        "        super().__init__(name, price)\n",
        "        self.age_group = age_group\n",
        "\n",
        "\n",
        "class Educational_toys(Toys):\n",
        "    def __init__(self, name: str, price: float, age_group: str, subject: str):\n",
        "        super().__init__(name, price, age_group)\n",
        "        self.subject = subject\n",
        "\n",
        "    def edu_info(self):\n",
        "        info = f\"The subject of {self.name} is {self.subject}\""
      ]
    },
    {
      "cell_type": "code",
      "source": [
        "dog_toy = Product(\"Dog\", 10.99)\n",
        "jacket = Cloths(\"Jacket\", 12.55, \"M\", \"Brown\")\n",
        "doll = Toys(\"Barbie\", 12.59, \"0-15\")\n",
        "genie = Educational_toys(\"Genie\", 999999.99, \"0-100\", \"Magic\")"
      ],
      "metadata": {
        "id": "oodh9HCwuvjE"
      },
      "execution_count": 2,
      "outputs": []
    },
    {
      "cell_type": "code",
      "source": [
        "print(dog_toy.__dict__)\n",
        "print(jacket.__dict__)\n",
        "print(doll.__dict__)\n",
        "print(genie.__dict__)"
      ],
      "metadata": {
        "colab": {
          "base_uri": "https://localhost:8080/"
        },
        "id": "8kqHg1HqRdr-",
        "outputId": "7aef9db1-7839-48fd-89ba-5d126185b7e5"
      },
      "execution_count": 4,
      "outputs": [
        {
          "output_type": "stream",
          "name": "stdout",
          "text": [
            "{'name': 'Dog', 'price': 10.99}\n",
            "{'name': 'Jacket', 'price': 12.55, 'size': 'M', 'color': 'Brown'}\n",
            "{'name': 'Barbie', 'price': 12.59, 'age_group': '0-15'}\n",
            "{'name': 'Genie', 'price': 999999.99, 'age_group': '0-100', 'subject': 'Magic'}\n"
          ]
        }
      ]
    }
  ]
}