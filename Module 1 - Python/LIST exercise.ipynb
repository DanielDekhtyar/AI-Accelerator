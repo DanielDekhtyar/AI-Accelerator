{
 "cells": [
  {
   "cell_type": "markdown",
   "id": "2f8888d6-e174-44ef-80d9-af3d9e065e9b",
   "metadata": {},
   "source": [
    " Create a list called shopping_cart with the following items: \"bread\",”milk”, \"eggs\", \"milk\", \"butter\".\n"
   ]
  },
  {
   "cell_type": "code",
   "execution_count": 1,
   "id": "57e09837-c354-4de3-a2db-117b9317b86a",
   "metadata": {},
   "outputs": [],
   "source": [
    "shopping_cart = [\"bread\", \"milk\", \"eggs\", \"milk\", \"butter\"]"
   ]
  },
  {
   "cell_type": "markdown",
   "id": "a8aee35a-a351-4d05-9242-dc7d46dcd6e0",
   "metadata": {},
   "source": [
    "Realize you already have \"butter\" at home, so remove it from the list."
   ]
  },
  {
   "cell_type": "code",
   "execution_count": 3,
   "id": "11dc5520-1b44-495d-8b7e-bb065426df6d",
   "metadata": {},
   "outputs": [],
   "source": [
    "shopping_cart.remove(\"butter\")"
   ]
  },
  {
   "cell_type": "markdown",
   "id": "ed378ec7-5d08-4392-b27a-4073224e8be0",
   "metadata": {},
   "source": [
    "You need to buy 3 more items: \"flour“, \"sugar“ and “milk”, add them to the end of the list using extend().\n"
   ]
  },
  {
   "cell_type": "code",
   "execution_count": 4,
   "id": "a5e58b3d-cb54-4f48-99c5-352a4e63e00f",
   "metadata": {},
   "outputs": [],
   "source": [
    "shopping_cart.extend([\"flour\", \"sugar\", \"milk\"])"
   ]
  },
  {
   "cell_type": "markdown",
   "id": "9642e1e9-64fb-4e51-a1d7-5153948c3456",
   "metadata": {},
   "source": [
    "How many “milk”s do you have? (count)."
   ]
  },
  {
   "cell_type": "code",
   "execution_count": 5,
   "id": "01c35674-4840-4022-8046-b8f1894f8f68",
   "metadata": {},
   "outputs": [
    {
     "data": {
      "text/plain": [
       "3"
      ]
     },
     "execution_count": 5,
     "metadata": {},
     "output_type": "execute_result"
    }
   ],
   "source": [
    "shopping_cart.count(\"milk\")"
   ]
  },
  {
   "cell_type": "markdown",
   "id": "35fb5d05-21e5-4dfe-b6dd-8bbcca0364fa",
   "metadata": {},
   "source": [
    "Find the index position of \"eggs\" using index().\n"
   ]
  },
  {
   "cell_type": "code",
   "execution_count": 6,
   "id": "bc45ece9-a723-4bad-84bd-29088c181268",
   "metadata": {},
   "outputs": [
    {
     "data": {
      "text/plain": [
       "2"
      ]
     },
     "execution_count": 6,
     "metadata": {},
     "output_type": "execute_result"
    }
   ],
   "source": [
    "shopping_cart.index(\"eggs\")"
   ]
  },
  {
   "cell_type": "markdown",
   "id": "c2652818-5765-46b3-ac96-ad712a2cad33",
   "metadata": {},
   "source": [
    "Sort the list alphabetically using sort().Print the final shopping list."
   ]
  },
  {
   "cell_type": "code",
   "execution_count": 8,
   "id": "b90422cf-f69a-4dd4-8302-a53f849914a3",
   "metadata": {},
   "outputs": [
    {
     "name": "stdout",
     "output_type": "stream",
     "text": [
      "['bread', 'eggs', 'flour', 'milk', 'milk', 'milk', 'sugar']\n"
     ]
    }
   ],
   "source": [
    "shopping_cart.sort()\n",
    "print(shopping_cart)"
   ]
  }
 ],
 "metadata": {
  "kernelspec": {
   "display_name": "Python 3 (ipykernel)",
   "language": "python",
   "name": "python3"
  },
  "language_info": {
   "codemirror_mode": {
    "name": "ipython",
    "version": 3
   },
   "file_extension": ".py",
   "mimetype": "text/x-python",
   "name": "python",
   "nbconvert_exporter": "python",
   "pygments_lexer": "ipython3",
   "version": "3.12.4"
  }
 },
 "nbformat": 4,
 "nbformat_minor": 5
}
