{
 "cells": [
  {
   "cell_type": "markdown",
   "id": "5d1843fe-ed0e-4236-8665-d510b2252a69",
   "metadata": {},
   "source": [
    "# Functions\n",
    "---"
   ]
  },
  {
   "cell_type": "code",
   "execution_count": 4,
   "id": "69f8c5ec-f888-4586-b790-5dcf8cc3bfd0",
   "metadata": {},
   "outputs": [
    {
     "name": "stdout",
     "output_type": "stream",
     "text": [
      "Go away\n"
     ]
    }
   ],
   "source": [
    "def uff():\n",
    "    print(\"Go away\")\n",
    "\n",
    "# Call the function\n",
    "uff()"
   ]
  },
  {
   "cell_type": "code",
   "execution_count": 6,
   "id": "f740c929-c1b5-4cd2-90c8-c3aadb97ae22",
   "metadata": {},
   "outputs": [
    {
     "name": "stdin",
     "output_type": "stream",
     "text": [
      "Name:  Dart Vejder\n"
     ]
    },
    {
     "name": "stdout",
     "output_type": "stream",
     "text": [
      "Dart Vejder go away!\n"
     ]
    }
   ],
   "source": [
    "def uff_2(name):\n",
    "    print(f\"{name} go away!\")\n",
    "\n",
    "uff_2(input(\"Name: \"))"
   ]
  },
  {
   "cell_type": "code",
   "execution_count": 9,
   "id": "9ba8ac9b-4283-4f39-af17-3a70cf7b7c23",
   "metadata": {},
   "outputs": [
    {
     "name": "stdin",
     "output_type": "stream",
     "text": [
      "Give me a number:  15\n"
     ]
    },
    {
     "name": "stdout",
     "output_type": "stream",
     "text": [
      "15%2 = 1\n"
     ]
    }
   ],
   "source": [
    "# Modulo 2 on a number\n",
    "def modulo(num):\n",
    "    num = num % 2\n",
    "    return num\n",
    "\n",
    "num = int(input(\"Give me a number: \"))\n",
    "modulo_num = modulo(num)\n",
    "\n",
    "# Print the resulting number\n",
    "print(f\"{num}%2 = {modulo_num}\")"
   ]
  },
  {
   "cell_type": "code",
   "execution_count": 11,
   "id": "20505d2b-6426-4a1f-a7ef-54dd40bc96ee",
   "metadata": {},
   "outputs": [
    {
     "name": "stdin",
     "output_type": "stream",
     "text": [
      "Give me number 1: 4\n",
      "Give me number 2: 8\n"
     ]
    },
    {
     "name": "stdout",
     "output_type": "stream",
     "text": [
      "The result is 1728\n"
     ]
    }
   ],
   "source": [
    "# Returnes the sum of two numbers in the power of 3\n",
    "def calc(num_1, num_2):\n",
    "    result = (num_1 + num_2)**3\n",
    "    return result\n",
    "\n",
    "num1 = int(input(\"Give me number 1:\"))\n",
    "num2 = int(input(\"Give me number 2:\"))\n",
    "\n",
    "result = calc(num1, num2)\n",
    "print(f\"The result is {result}\")"
   ]
  },
  {
   "cell_type": "code",
   "execution_count": 12,
   "id": "5247d43d-51cf-4f98-a39f-63e6723527ef",
   "metadata": {},
   "outputs": [
    {
     "name": "stdout",
     "output_type": "stream",
     "text": [
      "The third item in the list is 15\n"
     ]
    }
   ],
   "source": [
    "def return_3rd_on_list(list):\n",
    "    # Return index 2, aka 3rd item\n",
    "    return list[2]\n",
    "\n",
    "list: list = [5, 12, 15, 82, 91, 127, 512, 2024, 6831]\n",
    "item_3: iny= = return_3rd_on_list(list)\n",
    "\n",
    "print(f\"The third item in the list is {item_3}\")"
   ]
  },
  {
   "cell_type": "code",
   "execution_count": 15,
   "id": "39867a84-1535-42e0-b318-a186ff7b69aa",
   "metadata": {},
   "outputs": [
    {
     "name": "stdin",
     "output_type": "stream",
     "text": [
      "What is the tempreture is Fahrenheit? 64\n"
     ]
    },
    {
     "name": "stdout",
     "output_type": "stream",
     "text": [
      "The tempreture is 18 celsius\n"
     ]
    }
   ],
   "source": [
    "def f_to_c(f: int):\n",
    "    c: int = ((f-32)*5/9)\n",
    "    return c\n",
    "\n",
    "f: int = int(input(\"What is the tempreture is Fahrenheit?\"))\n",
    "\n",
    "# Convert the temp to Celsius\n",
    "c: int = round(f_to_c(f))\n",
    "\n",
    "print(f\"The tempreture is {c} celsius\")"
   ]
  },
  {
   "cell_type": "code",
   "execution_count": 16,
   "id": "4327c353-9f83-4399-8e69-fdab88e7326c",
   "metadata": {},
   "outputs": [
    {
     "name": "stdout",
     "output_type": "stream",
     "text": [
      "All the keys:\n",
      "dict_keys(['a', 'b', 'c', 'd'])\n",
      "All the values:\n",
      "dict_values([123, 345, 456, 789])\n",
      "Number of keys:\n",
      "4\n"
     ]
    }
   ],
   "source": [
    "def d_info(dictionery):\n",
    "    # Print all the keys in the dict\n",
    "    print(\"All the keys:\")\n",
    "    print(dictionery.keys())\n",
    "\n",
    "    # Print all the values in the dict\n",
    "    print(\"All the values:\")\n",
    "    print(dictionery.values())\n",
    "\n",
    "    # Print the number of keys\n",
    "    print(\"Number of keys:\")\n",
    "    print(len(dictionery))\n",
    "\n",
    "dictionary: dict = {\n",
    "    'a' : 123,\n",
    "    'b' : 345,\n",
    "    'c' : 456,\n",
    "    'd' : 789\n",
    "}\n",
    "\n",
    "d_info(dictionery)"
   ]
  }
 ],
 "metadata": {
  "kernelspec": {
   "display_name": "Python 3 (ipykernel)",
   "language": "python",
   "name": "python3"
  },
  "language_info": {
   "codemirror_mode": {
    "name": "ipython",
    "version": 3
   },
   "file_extension": ".py",
   "mimetype": "text/x-python",
   "name": "python",
   "nbconvert_exporter": "python",
   "pygments_lexer": "ipython3",
   "version": "3.12.4"
  }
 },
 "nbformat": 4,
 "nbformat_minor": 5
}
