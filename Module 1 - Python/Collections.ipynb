{
 "cells": [
  {
   "cell_type": "markdown",
   "id": "c6fd12af-b08f-4c8e-9487-20d534adfad5",
   "metadata": {},
   "source": [
    "# Collections"
   ]
  },
  {
   "cell_type": "markdown",
   "id": "d36b22e0-25ec-4d6c-a7b9-eaae615e737c",
   "metadata": {},
   "source": [
    "## Part 1"
   ]
  },
  {
   "cell_type": "markdown",
   "id": "ca0f1808-d194-4d16-ad56-056a5f31f0ac",
   "metadata": {},
   "source": [
    "Exercise: Employee Directory Management  \n",
    "You are tasked with creating and managing an employee directory for a small company. Follow the instructions below to manipulate a dictionary that stores employee informationo verify all changes.\n"
   ]
  },
  {
   "cell_type": "code",
   "execution_count": 4,
   "id": "d02657e2-e10b-4da3-b535-c32dc323081f",
   "metadata": {},
   "outputs": [
    {
     "name": "stdout",
     "output_type": "stream",
     "text": [
      "Information on employee number 103\n",
      "{'name': 'Alice Johnson', 'position': 'UX Designer', 'salary': 68000}\n",
      "\n",
      "Information about all the employees\n",
      "{102: {'name': 'Jane Smith', 'position': 'Data Scientist', 'salary': 5000}, 103: {'name': 'Alice Johnson', 'position': 'UX Designer', 'salary': 68000}, 104: {'name': 'Bob Brown', 'position': 'Project Manager', 'salary': 80000}}\n"
     ]
    }
   ],
   "source": [
    "# A dict to store all the info about employees in the company \n",
    "employee_directory = {\n",
    "    101: {\"name\": \"John Doe\", \"position\": \"Software Engineer\", \"salary\": 70000},\n",
    "    102: {\"name\": \"Jane Smith\", \"position\": \"Data Scientist\", \"salary\": 75000}\n",
    "}\n",
    "\n",
    "# Add new employees to the dict\n",
    "employee_directory[103] = {\"name\": \"Alice Johnson\", \"position\": \"UX Designer\", \"salary\": 68000}\n",
    "employee_directory[104] = {\"name\": \"Bob Brown\", \"position\": \"Project Manager\", \"salary\": 80000}\n",
    "\n",
    "# Change the salary of employee 102 to 5000$\n",
    "employee_directory[102][\"salary\"] = 5000\n",
    "\n",
    "# Remove employee 101. \"You're fired!\"\n",
    "employee_directory.pop(101)\n",
    "\n",
    "# Print the info of employee 103\n",
    "print(\"Information on employee number 103:\")\n",
    "print(employee_directory.get(103))\n",
    "\n",
    "print(\"\")\n",
    "\n",
    "# Print the info about all the employees\n",
    "print(\"Information about all the employees:\")\n",
    "print(employee_directory)"
   ]
  },
  {
   "cell_type": "markdown",
   "id": "1511ac2c-6c0e-4eb9-8075-4b7694e4bd5f",
   "metadata": {},
   "source": [
    "## Part 2: Lists"
   ]
  },
  {
   "cell_type": "code",
   "execution_count": 6,
   "id": "365dc373-5186-4f74-a895-68150e8563e6",
   "metadata": {},
   "outputs": [
    {
     "name": "stdout",
     "output_type": "stream",
     "text": [
      "The full list of all the employee IDs : [102, 103, 104, 105]\n"
     ]
    }
   ],
   "source": [
    "# Create a new list containg all the emploee IDs\n",
    "employee_list = [101, 102, 103, 104]\n",
    "\n",
    "# Add a new employee ID (105) to the list\n",
    "employee_list.append(105)\n",
    "\n",
    "# Remove an employee (101) from the list\n",
    "employee_list.remove(101)\n",
    "\n",
    "# Print the list of all the employees\n",
    "print(f\"The full list of all the employee IDs : {employee_list}\")"
   ]
  },
  {
   "cell_type": "markdown",
   "id": "faa30b48-f33b-4ab4-ab8c-af6a1e42aeb4",
   "metadata": {},
   "source": [
    "## Part 3: Tuples"
   ]
  },
  {
   "cell_type": "code",
   "execution_count": 8,
   "id": "df402abd-9907-4a03-acf3-e67f87709d8c",
   "metadata": {},
   "outputs": [
    {
     "name": "stdout",
     "output_type": "stream",
     "text": [
      "purple\n",
      "yellow\n",
      "blue\n",
      "green\n",
      "red\n"
     ]
    }
   ],
   "source": [
    "# Create a tuple for colors\n",
    "colors: tuple = (\"red\", \"green\", \"blue\", \"yellow\", \"purple\")\n",
    "for word in colors[::-1]:\n",
    "    print(word)"
   ]
  },
  {
   "cell_type": "code",
   "execution_count": 10,
   "id": "5d876ab1",
   "metadata": {},
   "outputs": [
    {
     "name": "stdout",
     "output_type": "stream",
     "text": [
      "The index of blue is 1 out of a tuple of 3\n"
     ]
    }
   ],
   "source": [
    "middle_colors = colors[1:-1]\n",
    "print(f\"The index of blue is {middle_colors.index(\"blue\")} out of a tuple of {len(middle_colors)}\")"
   ]
  },
  {
   "cell_type": "code",
   "execution_count": 18,
   "id": "ca725add",
   "metadata": {},
   "outputs": [
    {
     "name": "stdout",
     "output_type": "stream",
     "text": [
      "('blue', 'cyan', 'purple', 'green', 'magenta', 'yellow', 'red', 'cyan', 'magenta')\n",
      "This is the final tuple of colors : ('blue', 'cyan', 'purple', 'green', 'magenta', 'yellow', 'red')\n"
     ]
    }
   ],
   "source": [
    "# Create a tuple with new colors\n",
    "new_colors: tuple = (\"cyan\", \"magenta\")\n",
    "\n",
    "# Merge 'colors' and 'new_colors' tuples\n",
    "colors = colors + new_colors\n",
    "\n",
    "# Turn the tuple in to a set to remove any duplicates, and then turn it back in to a tuple\n",
    "colors = tuple(set(colors))\n",
    "\n",
    "# Print the final tuple\n",
    "print(f\"This is the final tuple of colors : {colors}\")"
   ]
  },
  {
   "cell_type": "markdown",
   "id": "d658159d",
   "metadata": {},
   "source": [
    "## Part 4: Sets"
   ]
  },
  {
   "cell_type": "code",
   "execution_count": 8,
   "id": "a0d9c6a5",
   "metadata": {},
   "outputs": [
    {
     "name": "stdout",
     "output_type": "stream",
     "text": [
      "Union : {1, 2, 3, 5, 7, 9, 11, 13, 15}\n",
      "Intersection : {3, 5, 7, 11, 13}\n",
      "Odd numbers : {1, 3, 5, 7, 9, 11, 13, 15, 17}\n",
      "Prime numbers : {17, 2, 3, 5, 7, 11, 13}\n"
     ]
    }
   ],
   "source": [
    "# Create a set called odd_numbers. 1 is preset to tell python that it is a set and not a dict\n",
    "odd_numbers = {1}\n",
    "\n",
    "# Add all thw odd numbers between 3 and 15 to the set. 1 is already in the set\n",
    "for num in range(3, 16, 2):\n",
    "    odd_numbers.add(num)\n",
    "\n",
    "# Create a set for prime numbers between 1 and 15.\n",
    "prime_numbers = {2, 3, 5, 7, 11, 13}\n",
    "\n",
    "# The union of odd_numbers and prime_numbers\n",
    "union_set = odd_numbers.union(prime_numbers)\n",
    "print(f\"Union : {union_set}\")\n",
    "\n",
    "# Intersection of odd_numbers and prime_numbers\n",
    "intersection_set = odd_numbers.intersection(prime_numbers)\n",
    "print(f\"Intersection : {intersection_set}\")\n",
    "\n",
    "# Add the number 17 to odd_numbers and prime_numbers\n",
    "odd_numbers.add(17)\n",
    "prime_numbers.add(17)\n",
    "\n",
    "# Print odd_numbers and prime_numbers\n",
    "print(f\"Odd numbers : {odd_numbers}\")\n",
    "print(f\"Prime numbers : {prime_numbers}\")"
   ]
  }
 ],
 "metadata": {
  "kernelspec": {
   "display_name": "Python 3 (ipykernel)",
   "language": "python",
   "name": "python3"
  },
  "language_info": {
   "codemirror_mode": {
    "name": "ipython",
    "version": 3
   },
   "file_extension": ".py",
   "mimetype": "text/x-python",
   "name": "python",
   "nbconvert_exporter": "python",
   "pygments_lexer": "ipython3",
   "version": "3.12.4"
  }
 },
 "nbformat": 4,
 "nbformat_minor": 5
}
