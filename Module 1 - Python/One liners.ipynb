{
 "cells": [
  {
   "cell_type": "markdown",
   "id": "1ba4e0c1-68c1-4082-8d4b-d0cb077a459a",
   "metadata": {},
   "source": [
    "# One liners\n",
    "\n",
    "- Comprehentions\n",
    "- lambda\n",
    "- sort\n",
    "- map\n",
    "- filter\n",
    "- zip\n",
    "\n",
    "---"
   ]
  },
  {
   "cell_type": "code",
   "execution_count": 1,
   "id": "3036ed2b-cb82-4c73-ac5f-005f3485ee9b",
   "metadata": {},
   "outputs": [
    {
     "name": "stdout",
     "output_type": "stream",
     "text": [
      "min: -6, max: 10, sum: 15\n"
     ]
    }
   ],
   "source": [
    "lst = [10, -2, 4, -6, 9]\n",
    "minimum = min(lst)\n",
    "maximum = max(lst)\n",
    "s = sum(lst)\n",
    "\n",
    "print(f\"min: {minimum}, max: {maximum}, sum: {s}\")"
   ]
  },
  {
   "cell_type": "code",
   "execution_count": 2,
   "id": "0e1e8b6d-0ac1-483a-acbd-ab6ecd3ea9db",
   "metadata": {},
   "outputs": [
    {
     "name": "stdout",
     "output_type": "stream",
     "text": [
      "275\n"
     ]
    }
   ],
   "source": [
    "the_sum = sum(num for num in range(5, 51) if num%5 == 0)\n",
    "print(the_sum)"
   ]
  },
  {
   "cell_type": "code",
   "execution_count": 5,
   "id": "b8987de8-164b-4eb5-b3fd-50e1fe79edd2",
   "metadata": {},
   "outputs": [
    {
     "name": "stdout",
     "output_type": "stream",
     "text": [
      "[0, 1, 2, 3, 4, 5, 6, 7, 8, 9, 10]\n"
     ]
    }
   ],
   "source": [
    "numbers_list = list(num for num in range(11))\n",
    "print(numbers_list)"
   ]
  },
  {
   "cell_type": "code",
   "execution_count": 8,
   "id": "b2c9eeab-a3d4-4bdd-bc69-dfbe60f9b5b6",
   "metadata": {},
   "outputs": [
    {
     "name": "stdout",
     "output_type": "stream",
     "text": [
      "First : 4\n",
      "Second : 40\n",
      "Milti: 160\n",
      "----------------------\n",
      "First : 5\n",
      "Second : 50\n",
      "Milti: 250\n",
      "----------------------\n",
      "First : 6\n",
      "Second : 60\n",
      "Milti: 360\n",
      "----------------------\n"
     ]
    }
   ],
   "source": [
    "num_list = [(4, 40), (5, 50), (6, 60)]\n",
    "\n",
    "for first, second in num_list:\n",
    "    print(f\"First : {first}\")\n",
    "    print(f\"Second : {second}\")\n",
    "    print(f\"Milti: {first*second}\")\n",
    "    print(\"----------------------\")"
   ]
  },
  {
   "cell_type": "code",
   "execution_count": 11,
   "id": "4007f6be-9b6d-4b03-bc35-4160a51235bf",
   "metadata": {},
   "outputs": [
    {
     "name": "stdout",
     "output_type": "stream",
     "text": [
      "1 - A\n",
      "2 - B\n",
      "3 - C\n",
      "4 - D\n",
      "5 - E\n",
      "6 - F\n",
      "7 - G\n",
      "8 - H\n",
      "9 - I\n",
      "10 - J\n",
      "11 - K\n",
      "12 - L\n",
      "13 - M\n",
      "14 - N\n",
      "15 - O\n",
      "16 - P\n",
      "17 - Q\n",
      "18 - R\n",
      "19 - S\n",
      "20 - T\n",
      "21 - U\n",
      "22 - V\n",
      "23 - W\n",
      "24 - X\n",
      "25 - Y\n",
      "26 - Z\n"
     ]
    }
   ],
   "source": [
    "alphabet = \"ABCDEFGHIJKLMNOPQRSTUVWXYZ\"\n",
    "for index, letter in enumerate(alphabet):\n",
    "    print(f\"{index + 1} - {letter}\")"
   ]
  },
  {
   "cell_type": "code",
   "execution_count": 16,
   "id": "24f82373-e9bc-445b-9c3e-d6be4dab94c5",
   "metadata": {},
   "outputs": [
    {
     "name": "stdout",
     "output_type": "stream",
     "text": [
      "['Jan', 'Jun']\n"
     ]
    }
   ],
   "source": [
    "months = ['Jan', 'Feb', 'Mar', 'Apr', 'May', 'Jun', 'Jul', 'Aug', 'Sep', 'Oct', 'Nov', 'Dec']\n",
    "\n",
    "month_list = [month for month in months if month.endswith('n')]\n",
    "print(month_list)"
   ]
  },
  {
   "cell_type": "code",
   "execution_count": 20,
   "id": "4f153a41-31cb-4d3b-aea6-0303d51d2ac7",
   "metadata": {},
   "outputs": [
    {
     "name": "stdout",
     "output_type": "stream",
     "text": [
      "Give me a word:  Hello World\n"
     ]
    },
    {
     "name": "stdout",
     "output_type": "stream",
     "text": [
      "{0: 'H', 1: 'e', 2: 'l', 3: 'l', 4: 'o', 5: ' ', 6: 'W', 7: 'o', 8: 'r', 9: 'l', 10: 'd'}\n"
     ]
    }
   ],
   "source": [
    "string = input('Give me a word: ')\n",
    "\n",
    "dictionary = {}\n",
    "\n",
    "for index, letter in enumerate(string):\n",
    "    dictionary[index] = letter\n",
    "\n",
    "print(dictionary)"
   ]
  },
  {
   "cell_type": "code",
   "execution_count": 27,
   "id": "cd56b2eb-99ee-4412-b3f6-336f3b99ed6c",
   "metadata": {},
   "outputs": [
    {
     "name": "stdout",
     "output_type": "stream",
     "text": [
      "Give me a number:  7\n"
     ]
    },
    {
     "name": "stdout",
     "output_type": "stream",
     "text": [
      "True\n"
     ]
    }
   ],
   "source": [
    "num = int(input(\"Give me a number: \"))\n",
    "is_odd = lambda odd : not num % 2 == 0\n",
    "print(is_odd(num))"
   ]
  }
 ],
 "metadata": {
  "kernelspec": {
   "display_name": "Python 3 (ipykernel)",
   "language": "python",
   "name": "python3"
  },
  "language_info": {
   "codemirror_mode": {
    "name": "ipython",
    "version": 3
   },
   "file_extension": ".py",
   "mimetype": "text/x-python",
   "name": "python",
   "nbconvert_exporter": "python",
   "pygments_lexer": "ipython3",
   "version": "3.12.4"
  }
 },
 "nbformat": 4,
 "nbformat_minor": 5
}
