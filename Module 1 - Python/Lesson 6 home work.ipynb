{
 "cells": [
  {
   "cell_type": "markdown",
   "metadata": {},
   "source": [
    "# Updating Product Prices\n",
    "### Home work 17/09/2024\n",
    "---"
   ]
  },
  {
   "cell_type": "markdown",
   "metadata": {},
   "source": [
    "#### <u>Updating Product Prices</u>"
   ]
  },
  {
   "cell_type": "code",
   "execution_count": 4,
   "metadata": {},
   "outputs": [
    {
     "name": "stdout",
     "output_type": "stream",
     "text": [
      "The updated dictionary is: \n",
      " {'Apple': '10.50', 'Honey': 8, 'Fish Head': '12$', 'Pomegranate': 6}\n"
     ]
    }
   ],
   "source": [
    "def main():\n",
    "    # Set the 'products' dictionary\n",
    "    products = {'Apple': '10$', 'Honey': 8,  'Fish Head': '12$', 'Pomegranate': 6}\n",
    "    \n",
    "    # Increase the price by 5%\n",
    "    products = increase_price(products)\n",
    "    \n",
    "    # Print the resulting dictionary\n",
    "    print(f\"The updated dictionary is: \\n {products}\")\n",
    "\n",
    "\n",
    "def increase_price(products_dict: dict):\n",
    "    for product in products_dict:\n",
    "        price = products_dict[product]\n",
    "        \n",
    "        # This If statement checks if the price is a string e.g '10$' and turns is in to it's integer equivalent e.g '10'\n",
    "        # It is done for a more streamlined price processing\n",
    "        if type(price) == str:\n",
    "            # If the price is a string, remove the \"$\" and convert it to an integer\n",
    "            if price.endswith(\"$\"):\n",
    "                # Set 'price' as an integer value of the price without the \"$\"\n",
    "                price = int(price[:-1])\n",
    "        \n",
    "        # Raise the price by 5%\n",
    "        price *= 1.05\n",
    "        # Round the price to the nearest 2 decimal places\n",
    "        price = \"{:.2f}\".format(price)\n",
    "        # Update the price in the dictionary\n",
    "        products_dict[product]  = price\n",
    "        \n",
    "        return products_dict\n",
    "\n",
    "\n",
    "if __name__ == \"__main__\":\n",
    "    main()"
   ]
  },
  {
   "cell_type": "markdown",
   "metadata": {},
   "source": [
    "#### <u>BMI calculator</u>"
   ]
  },
  {
   "cell_type": "code",
   "execution_count": 17,
   "metadata": {},
   "outputs": [
    {
     "name": "stdout",
     "output_type": "stream",
     "text": [
      "Your BMI is: 22.8\n"
     ]
    }
   ],
   "source": [
    "def main():\n",
    "    weight: int = int(input(\"Enter your weight in kg: \"))\n",
    "    height: int = int(input(\"Enter your height in cm: \"))\n",
    "    \n",
    "    # Calculate the BMI\n",
    "    bmi: float = calculate_bmi(weight, height)\n",
    "    \n",
    "    print(f\"Your BMI is: {bmi}\")\n",
    "\n",
    "\n",
    "def calculate_bmi(weight: int, height: int):\n",
    "    # Turn height from cm to m\n",
    "    height = height / 100\n",
    "    \n",
    "    # Calculate the BMI\n",
    "    # Weight / Height^2\n",
    "    bmi: float = weight / (height ** 2)\n",
    "    \n",
    "    # Format the weight to the nearest decimal number\n",
    "    bmi = \"{:.1f}\".format(bmi)\n",
    "    \n",
    "    return bmi\n",
    "\n",
    "\n",
    "if __name__ == \"__main__\":\n",
    "    main()"
   ]
  }
 ],
 "metadata": {
  "kernelspec": {
   "display_name": "Python 3",
   "language": "python",
   "name": "python3"
  },
  "language_info": {
   "codemirror_mode": {
    "name": "ipython",
    "version": 3
   },
   "file_extension": ".py",
   "mimetype": "text/x-python",
   "name": "python",
   "nbconvert_exporter": "python",
   "pygments_lexer": "ipython3",
   "version": "3.12.6"
  }
 },
 "nbformat": 4,
 "nbformat_minor": 2
}
