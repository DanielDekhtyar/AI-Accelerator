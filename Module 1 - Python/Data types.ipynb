{
 "cells": [
  {
   "cell_type": "code",
   "execution_count": 1,
   "id": "9052e617-d748-45d9-ae32-86dcc1057abb",
   "metadata": {},
   "outputs": [
    {
     "name": "stdout",
     "output_type": "stream",
     "text": [
      "Gooood morning sunshine!!! 🌞\n"
     ]
    }
   ],
   "source": [
    "print(\"Gooood morning sunshine!!! 🌞\")"
   ]
  },
  {
   "cell_type": "markdown",
   "id": "ae591a10-19e7-4ecc-a263-39a73c28826e",
   "metadata": {},
   "source": [
    "# Numbers"
   ]
  },
  {
   "cell_type": "code",
   "execution_count": 2,
   "id": "e146e615-be79-49fc-a97d-fff6b206824f",
   "metadata": {},
   "outputs": [
    {
     "name": "stdout",
     "output_type": "stream",
     "text": [
      "The sum of x and y is 3\n",
      "The difference between x and y is 13\n",
      "The multiplication of x and y is -40\n",
      "x is 3\n",
      "y squared is 25\n"
     ]
    }
   ],
   "source": [
    "x: int = 8\n",
    "y = -5\n",
    "print(f\"The sum of x and y is {x + y}\")\n",
    "print(f\"The difference between x and y is {x - y}\")\n",
    "print(f\"The multiplication of x and y is {x * y}\")\n",
    "x = x+y\n",
    "print(f\"x is {x}\")\n",
    "y = y**2\n",
    "print(f\"y squared is {y}\")"
   ]
  },
  {
   "cell_type": "code",
   "execution_count": 3,
   "id": "2e4aed6f-c68e-402a-8bc6-8f83d2f0acc8",
   "metadata": {},
   "outputs": [
    {
     "name": "stdout",
     "output_type": "stream",
     "text": [
      "The type of 10/3 is <class 'float'>\n",
      "The type of 10//3 is <class 'int'>\n"
     ]
    }
   ],
   "source": [
    "print(f\"The type of 10/3 is {type(10/3)}\")\n",
    "print(f\"The type of 10//3 is {type(10//3)}\")"
   ]
  },
  {
   "cell_type": "markdown",
   "id": "50d33929-0d85-406a-b6b3-d28763dfe19f",
   "metadata": {},
   "source": [
    "# Boolean"
   ]
  },
  {
   "cell_type": "code",
   "execution_count": 5,
   "id": "a79a496d-81aa-42cd-9979-ef9a7c29d5d9",
   "metadata": {},
   "outputs": [
    {
     "data": {
      "text/plain": [
       "True"
      ]
     },
     "execution_count": 5,
     "metadata": {},
     "output_type": "execute_result"
    }
   ],
   "source": [
    "1==1"
   ]
  },
  {
   "cell_type": "code",
   "execution_count": 6,
   "id": "d3f79c72-cde3-4949-87d2-406abbe28999",
   "metadata": {},
   "outputs": [
    {
     "data": {
      "text/plain": [
       "True"
      ]
     },
     "execution_count": 6,
     "metadata": {},
     "output_type": "execute_result"
    }
   ],
   "source": [
    "1<=1"
   ]
  },
  {
   "cell_type": "code",
   "execution_count": 7,
   "id": "7211fe9d-d106-4118-bc06-a8c5d402e11e",
   "metadata": {},
   "outputs": [
    {
     "data": {
      "text/plain": [
       "True"
      ]
     },
     "execution_count": 7,
     "metadata": {},
     "output_type": "execute_result"
    }
   ],
   "source": [
    "False or True"
   ]
  },
  {
   "cell_type": "code",
   "execution_count": 8,
   "id": "5c1be873-c038-4f7e-adee-92e805d8dfb9",
   "metadata": {},
   "outputs": [
    {
     "data": {
      "text/plain": [
       "False"
      ]
     },
     "execution_count": 8,
     "metadata": {},
     "output_type": "execute_result"
    }
   ],
   "source": [
    "False == True"
   ]
  },
  {
   "cell_type": "markdown",
   "id": "a655b179-a2d8-4d13-ad89-8688efa0d0fb",
   "metadata": {},
   "source": [
    "# Strings"
   ]
  },
  {
   "cell_type": "code",
   "execution_count": 14,
   "id": "5e6228c4-8715-40de-9c31-10286ce7e0c4",
   "metadata": {},
   "outputs": [
    {
     "name": "stdin",
     "output_type": "stream",
     "text": [
      "What is the sum in $? 55\n"
     ]
    },
    {
     "name": "stdout",
     "output_type": "stream",
     "text": [
      "55$ is 205.15₪\n"
     ]
    }
   ],
   "source": [
    "dollar = int(input(\"What is the sum in $?\"))\n",
    "print(f\"{dollar}$ is {dollar*3.73}₪\")"
   ]
  },
  {
   "cell_type": "code",
   "execution_count": 13,
   "id": "0fe41540-5f9e-4888-bcc3-a5c305a31370",
   "metadata": {},
   "outputs": [
    {
     "name": "stdout",
     "output_type": "stream",
     "text": [
      "Daniel can solve it\n"
     ]
    }
   ],
   "source": [
    "solve = \"no one can solve it\"\n",
    "solve = solve.replace(\"no one\", \"Daniel\")\n",
    "print(solve)"
   ]
  },
  {
   "cell_type": "code",
   "execution_count": null,
   "id": "5b8a25a3-423f-411d-855b-4028546ac61d",
   "metadata": {},
   "outputs": [],
   "source": [
    "str1 = \"100+200\"\n",
    "\n",
    "# Split the numbers at the + sign\n",
    "s_num1, s_num2 = str1.split('+')\n",
    "\n",
    "# Cast the strins of numbers in to ints\n",
    "num1 = int(s_num1)\n",
    "num2 = int(s_num2)"
   ]
  }
 ],
 "metadata": {
  "kernelspec": {
   "display_name": "Python 3 (ipykernel)",
   "language": "python",
   "name": "python3"
  },
  "language_info": {
   "codemirror_mode": {
    "name": "ipython",
    "version": 3
   },
   "file_extension": ".py",
   "mimetype": "text/x-python",
   "name": "python",
   "nbconvert_exporter": "python",
   "pygments_lexer": "ipython3",
   "version": "3.12.4"
  }
 },
 "nbformat": 4,
 "nbformat_minor": 5
}
