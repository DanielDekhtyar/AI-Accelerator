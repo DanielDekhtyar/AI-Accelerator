{
 "cells": [
  {
   "cell_type": "markdown",
   "id": "0dab3919",
   "metadata": {},
   "source": [
    "# Exceptions\n",
    "---"
   ]
  },
  {
   "cell_type": "code",
   "execution_count": 5,
   "id": "e85b60cd-d26e-4c32-93fb-e71e5991cc07",
   "metadata": {},
   "outputs": [
    {
     "name": "stdout",
     "output_type": "stream",
     "text": [
      "Give me your age:  -12\n"
     ]
    },
    {
     "ename": "ValueError",
     "evalue": "Age cann't be negative!!!",
     "output_type": "error",
     "traceback": [
      "\u001b[1;31m---------------------------------------------------------------------------\u001b[0m",
      "\u001b[1;31mValueError\u001b[0m                                Traceback (most recent call last)",
      "Cell \u001b[1;32mIn[5], line 6\u001b[0m\n\u001b[0;32m      3\u001b[0m         \u001b[38;5;28;01mraise\u001b[39;00m \u001b[38;5;167;01mValueError\u001b[39;00m(\u001b[38;5;124m\"\u001b[39m\u001b[38;5;124mAge cann\u001b[39m\u001b[38;5;124m'\u001b[39m\u001b[38;5;124mt be negative!!!\u001b[39m\u001b[38;5;124m\"\u001b[39m)\n\u001b[0;32m      5\u001b[0m age \u001b[38;5;241m=\u001b[39m \u001b[38;5;28mint\u001b[39m(\u001b[38;5;28minput\u001b[39m(\u001b[38;5;124m\"\u001b[39m\u001b[38;5;124mGive me your age: \u001b[39m\u001b[38;5;124m\"\u001b[39m))\n\u001b[1;32m----> 6\u001b[0m \u001b[43mcheck_age\u001b[49m\u001b[43m(\u001b[49m\u001b[43mage\u001b[49m\u001b[43m)\u001b[49m\n\u001b[0;32m      7\u001b[0m \u001b[38;5;28mprint\u001b[39m(\u001b[38;5;124mf\u001b[39m\u001b[38;5;124m\"\u001b[39m\u001b[38;5;124mYou are \u001b[39m\u001b[38;5;132;01m{\u001b[39;00mage\u001b[38;5;132;01m}\u001b[39;00m\u001b[38;5;124m years old\u001b[39m\u001b[38;5;124m\"\u001b[39m)\n",
      "Cell \u001b[1;32mIn[5], line 3\u001b[0m, in \u001b[0;36mcheck_age\u001b[1;34m(age)\u001b[0m\n\u001b[0;32m      1\u001b[0m \u001b[38;5;28;01mdef\u001b[39;00m \u001b[38;5;21mcheck_age\u001b[39m(age):\n\u001b[0;32m      2\u001b[0m     \u001b[38;5;28;01mif\u001b[39;00m age \u001b[38;5;241m<\u001b[39m \u001b[38;5;241m0\u001b[39m:\n\u001b[1;32m----> 3\u001b[0m         \u001b[38;5;28;01mraise\u001b[39;00m \u001b[38;5;167;01mValueError\u001b[39;00m(\u001b[38;5;124m\"\u001b[39m\u001b[38;5;124mAge cann\u001b[39m\u001b[38;5;124m'\u001b[39m\u001b[38;5;124mt be negative!!!\u001b[39m\u001b[38;5;124m\"\u001b[39m)\n",
      "\u001b[1;31mValueError\u001b[0m: Age cann't be negative!!!"
     ]
    }
   ],
   "source": [
    "def check_age(age):\n",
    "    if age < 0:\n",
    "        raise ValueError(\"Age cann't be negative!!!\")\n",
    "\n",
    "age = int(input(\"Give me your age: \"))\n",
    "check_age(age)\n",
    "print(f\"You are {age} years old\")"
   ]
  },
  {
   "cell_type": "code",
   "execution_count": 21,
   "id": "ddc7c97a-768c-4064-9579-6603d65c2750",
   "metadata": {
    "scrolled": true
   },
   "outputs": [
    {
     "name": "stdout",
     "output_type": "stream",
     "text": [
      "Give me the key:  Hello World\n"
     ]
    },
    {
     "ename": "KeyError",
     "evalue": "'Value is None'",
     "output_type": "error",
     "traceback": [
      "\u001b[1;31m---------------------------------------------------------------------------\u001b[0m",
      "\u001b[1;31mKeyError\u001b[0m                                  Traceback (most recent call last)",
      "Cell \u001b[1;32mIn[21], line 11\u001b[0m\n\u001b[0;32m      8\u001b[0m kermit_the_frog \u001b[38;5;241m=\u001b[39m {\u001b[38;5;124m\"\u001b[39m\u001b[38;5;124mname\u001b[39m\u001b[38;5;124m\"\u001b[39m:\u001b[38;5;124m\"\u001b[39m\u001b[38;5;124mKermit\u001b[39m\u001b[38;5;124m\"\u001b[39m, \u001b[38;5;124m\"\u001b[39m\u001b[38;5;124mspiecies\u001b[39m\u001b[38;5;124m\"\u001b[39m:\u001b[38;5;124m\"\u001b[39m\u001b[38;5;124mFrog\u001b[39m\u001b[38;5;124m\"\u001b[39m, \u001b[38;5;124m\"\u001b[39m\u001b[38;5;124mcolor\u001b[39m\u001b[38;5;124m\"\u001b[39m:\u001b[38;5;124m\"\u001b[39m\u001b[38;5;124mGreen\u001b[39m\u001b[38;5;124m\"\u001b[39m, \u001b[38;5;124m\"\u001b[39m\u001b[38;5;124moccupation\u001b[39m\u001b[38;5;124m\"\u001b[39m:\u001b[38;5;124m\"\u001b[39m\u001b[38;5;124mMuppet Preformer\u001b[39m\u001b[38;5;124m\"\u001b[39m, \u001b[38;5;124m\"\u001b[39m\u001b[38;5;124mheight_inch\u001b[39m\u001b[38;5;124m\"\u001b[39m:\u001b[38;5;241m24\u001b[39m, \u001b[38;5;124m\"\u001b[39m\u001b[38;5;124mis_muppet_leader\u001b[39m\u001b[38;5;124m\"\u001b[39m:\u001b[38;5;28;01mTrue\u001b[39;00m}\n\u001b[0;32m     10\u001b[0m key \u001b[38;5;241m=\u001b[39m \u001b[38;5;28minput\u001b[39m(\u001b[38;5;124m\"\u001b[39m\u001b[38;5;124mGive me the key: \u001b[39m\u001b[38;5;124m\"\u001b[39m)\n\u001b[1;32m---> 11\u001b[0m value \u001b[38;5;241m=\u001b[39m \u001b[43maccess_dict_value\u001b[49m\u001b[43m(\u001b[49m\u001b[43mkermit_the_frog\u001b[49m\u001b[43m,\u001b[49m\u001b[43m \u001b[49m\u001b[43mkey\u001b[49m\u001b[43m)\u001b[49m\n\u001b[0;32m     12\u001b[0m \u001b[38;5;28mprint\u001b[39m(value)\n",
      "Cell \u001b[1;32mIn[21], line 4\u001b[0m, in \u001b[0;36maccess_dict_value\u001b[1;34m(dictionary, key)\u001b[0m\n\u001b[0;32m      2\u001b[0m value \u001b[38;5;241m=\u001b[39m dictionary\u001b[38;5;241m.\u001b[39mget(key)\n\u001b[0;32m      3\u001b[0m \u001b[38;5;28;01mif\u001b[39;00m value \u001b[38;5;241m==\u001b[39m \u001b[38;5;28;01mNone\u001b[39;00m:\n\u001b[1;32m----> 4\u001b[0m     \u001b[38;5;28;01mraise\u001b[39;00m \u001b[38;5;167;01mKeyError\u001b[39;00m(\u001b[38;5;124m\"\u001b[39m\u001b[38;5;124mValue is None\u001b[39m\u001b[38;5;124m\"\u001b[39m)\n\u001b[0;32m      5\u001b[0m \u001b[38;5;28;01melse\u001b[39;00m:\n\u001b[0;32m      6\u001b[0m     \u001b[38;5;28;01mreturn\u001b[39;00m value\n",
      "\u001b[1;31mKeyError\u001b[0m: 'Value is None'"
     ]
    }
   ],
   "source": [
    "def access_dict_value(dictionary, key):\n",
    "    value = dictionary.get(key)\n",
    "    if value == None:\n",
    "        raise KeyError(\"Value is None\")\n",
    "    else:\n",
    "        return value\n",
    "\n",
    "kermit_the_frog = {\"name\":\"Kermit\", \"spiecies\":\"Frog\", \"color\":\"Green\", \"occupation\":\"Muppet Preformer\", \"height_inch\":24, \"is_muppet_leader\":True}\n",
    "\n",
    "key = input(\"Give me the key: \")\n",
    "value = access_dict_value(kermit_the_frog, key)\n",
    "print(value)"
   ]
  },
  {
   "cell_type": "code",
   "execution_count": 42,
   "id": "b82098bc-f37f-4679-b6e3-3f7162222a72",
   "metadata": {},
   "outputs": [
    {
     "name": "stdout",
     "output_type": "stream",
     "text": [
      "Give me an index:  Hello World\n"
     ]
    },
    {
     "name": "stdout",
     "output_type": "stream",
     "text": [
      "Index is not 'int'\n"
     ]
    }
   ],
   "source": [
    "def get_list_element(my_list, index):\n",
    "    try:\n",
    "        index = int(index)\n",
    "        value = my_list[index]\n",
    "        return value\n",
    "    except IndexError:\n",
    "        print(\"Index out of range\")\n",
    "    except ValueError:\n",
    "        print(\"Index is not 'int'\")\n",
    "\n",
    "list = [5, 8, 17, 54, 228, 980, 4067, 12068]\n",
    "index = input(\"Give me an index: \")\n",
    "element = get_list_element(list, index)"
   ]
  },
  {
   "cell_type": "code",
   "execution_count": 49,
   "id": "ca1e77a4-f9d3-49ac-bb40-25743c71e368",
   "metadata": {},
   "outputs": [
    {
     "name": "stdout",
     "output_type": "stream",
     "text": [
      "Give me a number:  Hello World\n"
     ]
    },
    {
     "name": "stdout",
     "output_type": "stream",
     "text": [
      "You didn't gave an integer\n",
      "Conversion attempt finished!\n"
     ]
    }
   ],
   "source": [
    "def conver_to_int(input_str):\n",
    "    try:\n",
    "        integer = int(input_str)\n",
    "        print(integer)\n",
    "    except ValueError:\n",
    "        print(\"You didn't gave an integer\")\n",
    "    finally:\n",
    "        print(\"Conversion attempt finished!\")\n",
    "\n",
    "string = input(\"Give me a number: \")\n",
    "conver_to_int(string)"
   ]
  },
  {
   "cell_type": "code",
   "execution_count": 7,
   "id": "4bb14039-3899-47b0-8fe9-14235023a534",
   "metadata": {},
   "outputs": [
    {
     "name": "stdout",
     "output_type": "stream",
     "text": [
      "You won! 22 is a lucky number!\n"
     ]
    }
   ],
   "source": [
    "lucky_numbers = [7, 12, 22, 84, 93]\n",
    "\n",
    "def lucky_numbers_game(lucky_numbers):\n",
    "    try:\n",
    "        number = int(input(\"Give me a number: \"))\n",
    "    except ValueError:\n",
    "        number = 17\n",
    "    if number > 100 or number < 0:\n",
    "        print(\"Out of range\")\n",
    "    elif number in lucky_numbers:\n",
    "        print(f\"You won! {number} is a lucky number!\")\n",
    "    else:\n",
    "        print(\"You loose :/\")\n",
    "\n",
    "lucky_numbers_game(lucky_numbers)"
   ]
  }
 ],
 "metadata": {
  "kernelspec": {
   "display_name": "Python 3 (ipykernel)",
   "language": "python",
   "name": "python3"
  },
  "language_info": {
   "codemirror_mode": {
    "name": "ipython",
    "version": 3
   },
   "file_extension": ".py",
   "mimetype": "text/x-python",
   "name": "python",
   "nbconvert_exporter": "python",
   "pygments_lexer": "ipython3",
   "version": "3.12.6"
  }
 },
 "nbformat": 4,
 "nbformat_minor": 5
}
