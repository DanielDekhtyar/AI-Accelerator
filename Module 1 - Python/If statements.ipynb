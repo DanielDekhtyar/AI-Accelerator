{
 "cells": [
  {
   "cell_type": "markdown",
   "id": "d629ba9a-88fd-4505-80de-e1d2dfe83ea8",
   "metadata": {},
   "source": [
    "# If statements\n",
    "---"
   ]
  },
  {
   "cell_type": "code",
   "execution_count": 4,
   "id": "1c09894f-a8b8-4729-83ee-d314ec063579",
   "metadata": {},
   "outputs": [
    {
     "name": "stdout",
     "output_type": "stream",
     "text": [
      "Give me a number:  5\n"
     ]
    },
    {
     "name": "stdout",
     "output_type": "stream",
     "text": [
      "The number is even\n"
     ]
    }
   ],
   "source": [
    "num: int = int(input(\"Give me a number: \"))\n",
    "if num%2 == 0:\n",
    "    print(\"The number is odd\")\n",
    "else:\n",
    "    print(\"The number is even\")"
   ]
  },
  {
   "cell_type": "code",
   "execution_count": 10,
   "id": "fa8b7117-2fa8-4de1-90da-e6b1c03e6598",
   "metadata": {},
   "outputs": [
    {
     "name": "stdout",
     "output_type": "stream",
     "text": [
      "Give me number 1:  5\n",
      "Give me number 2:  -8\n"
     ]
    },
    {
     "name": "stdout",
     "output_type": "stream",
     "text": [
      "At least one number is positive!\n"
     ]
    }
   ],
   "source": [
    "num1: int = int(input(\"Give me number 1: \"))\n",
    "num2: int = int(input(\"Give me number 2: \"))\n",
    "\n",
    "if (num1 > 0) and (num2 > 0):\n",
    "    print(\"Both numbers are positive!\")\n",
    "elif (num1 > 0) or (num2 > 0):\n",
    "    print(\"At least one number is positive!\")\n",
    "else:\n",
    "    print(\"No one of the numbers are positive :(\")"
   ]
  },
  {
   "cell_type": "code",
   "execution_count": 14,
   "id": "60173408-9ea8-4984-8aa7-6d9b8c49d6ef",
   "metadata": {},
   "outputs": [
    {
     "name": "stdout",
     "output_type": "stream",
     "text": [
      "Give me a number:  15\n"
     ]
    },
    {
     "name": "stdout",
     "output_type": "stream",
     "text": [
      "The number 15 is between 10 and 20 inclusive!\n"
     ]
    }
   ],
   "source": [
    "num: int = int(input(\"Give me a number: \"))\n",
    "\n",
    "if (num >= 10) and (num <= 20):\n",
    "    print(f\"The number {num} is between 10 and 20 inclusive!\")\n",
    "else:\n",
    "    print(f\"The number {num} is NOT between 10 and 20 inclusive!\")"
   ]
  },
  {
   "cell_type": "code",
   "execution_count": 22,
   "id": "db5438e6-e97c-48c3-a22f-b76ce7aa8075",
   "metadata": {},
   "outputs": [
    {
     "name": "stdout",
     "output_type": "stream",
     "text": [
      "Give me a word Israel\n"
     ]
    },
    {
     "name": "stdout",
     "output_type": "stream",
     "text": [
      "Contains both 'a' and 'e' in the word 'Israel' !\n"
     ]
    }
   ],
   "source": [
    "word: str = input(\"Give me a word\")\n",
    "\n",
    "if ('a' in word) and ('e' in word):\n",
    "    print(f\"Contains both 'a' and 'e' in the word '{word}' !\")\n",
    "elif ('a' in word) or ('e' in word):\n",
    "    print(f\"The word '{word}' contains just one of the letters\")\n",
    "else:\n",
    "    print(f\"The word '{word}' does not contain both 'a' and 'e' :(\")"
   ]
  },
  {
   "cell_type": "code",
   "execution_count": 26,
   "id": "bedc92f1-0e76-4add-83b1-d4e61ec875fb",
   "metadata": {},
   "outputs": [
    {
     "name": "stdout",
     "output_type": "stream",
     "text": [
      "Long string!\n"
     ]
    }
   ],
   "source": [
    "data = \"Hello World!\"\n",
    "\n",
    "if isinstance(data, list):\n",
    "    if len(data) > 5:\n",
    "        print(\"Long list!\")\n",
    "    elif len(data) <= 5:\n",
    "        print(\"Short list!\")\n",
    "    else:\n",
    "        print(\"Error!\")\n",
    "elif isinstance(data, str):\n",
    "    if len(data) > 5:\n",
    "        print(\"Long string!\")\n",
    "    elif len(data) <= 5:\n",
    "        print(\"Short string!\")\n",
    "    else:\n",
    "        print(\"Error!\")\n",
    "else:\n",
    "    print(\"'data' variable is neither list nor a string\")"
   ]
  },
  {
   "cell_type": "code",
   "execution_count": 15,
   "id": "583b93dc-9f30-4556-861b-886090d78298",
   "metadata": {},
   "outputs": [
    {
     "name": "stdout",
     "output_type": "stream",
     "text": [
      "[7, 6, 5, 4, 3, 2, 1]\n"
     ]
    }
   ],
   "source": [
    "data = [1, 2, 3, 4, 5, 6, 7]\n",
    "\n",
    "# If 'data' is a list[]\n",
    "if isinstance(data, list):\n",
    "    if len(data) > 3:\n",
    "        data.reverse()\n",
    "        print(data)\n",
    "\n",
    "# If 'data' is a str\n",
    "elif isinstance(data, str):\n",
    "    if len(data) > 3:\n",
    "        str = data[2:]\n",
    "        print(str)\n",
    "else:\n",
    "    print(\"'data' variable is neither list nor a string\")"
   ]
  },
  {
   "cell_type": "code",
   "execution_count": 18,
   "id": "ea611c7b-756f-47df-96a2-0936b2d33c0f",
   "metadata": {},
   "outputs": [
    {
     "name": "stdout",
     "output_type": "stream",
     "text": [
      "8 is valid!\n",
      "21 is valid!\n",
      "10 is invalid!\n"
     ]
    }
   ],
   "source": [
    "num1: int = int(input(\"Give me number 1: \"))\n",
    "num2: int = int(input(\"Give me number 2: \"))\n",
    "num3: int = int(input(\"Give me number 3: \"))\n",
    "\n",
    "if num1 > 0:\n",
    "    print(f\"{num1} is valid!\")\n",
    "else:\n",
    "    print(f\"{num1} is invalid!\")\n",
    "\n",
    "if num2 < 5 or num2 > 20:\n",
    "    print(f\"{num2} is valid!\")\n",
    "else:\n",
    "    print(f\"{num2} is invalid!\")\n",
    "\n",
    "if num3 != 10:\n",
    "    print(f\"{num3} is valid!\")\n",
    "else:\n",
    "    print(f\"{num3} is invalid!\")"
   ]
  }
 ],
 "metadata": {
  "kernelspec": {
   "display_name": "Python 3 (ipykernel)",
   "language": "python",
   "name": "python3"
  },
  "language_info": {
   "codemirror_mode": {
    "name": "ipython",
    "version": 3
   },
   "file_extension": ".py",
   "mimetype": "text/x-python",
   "name": "python",
   "nbconvert_exporter": "python",
   "pygments_lexer": "ipython3",
   "version": "3.12.6"
  }
 },
 "nbformat": 4,
 "nbformat_minor": 5
}
