{
 "cells": [
  {
   "cell_type": "markdown",
   "id": "967c319d-fa71-4c04-a00c-73fbe3986250",
   "metadata": {},
   "source": [
    "# Conditions\n",
    "---"
   ]
  },
  {
   "cell_type": "code",
   "execution_count": 3,
   "id": "19812cd4",
   "metadata": {},
   "outputs": [
    {
     "name": "stdout",
     "output_type": "stream",
     "text": [
      "The number 5 is positive!\n"
     ]
    }
   ],
   "source": [
    "num = int(input(\"Give me a number :\"))\n",
    "\n",
    "def digit_sign(num):\n",
    "    if num > 0:\n",
    "        print(f\"The number {num} is positive!\")\n",
    "    if num < 0:\n",
    "        print(f\"The number {num} is negative :(\")\n",
    "    if num == 0:\n",
    "        print(\"Zero\")\n",
    "\n",
    "digit_sign(num)"
   ]
  },
  {
   "cell_type": "code",
   "execution_count": 4,
   "id": "e83e5ed2",
   "metadata": {},
   "outputs": [
    {
     "name": "stdout",
     "output_type": "stream",
     "text": [
      "Contains 5\n"
     ]
    }
   ],
   "source": [
    "my_list = [5, 12, 18, 32, 124, 2345, 6793]\n",
    "\n",
    "if 5 in my_list:\n",
    "    print(\"Contains 5\")\n",
    "else:\n",
    "    print(\"Does not contain 5 :(\")"
   ]
  },
  {
   "cell_type": "code",
   "execution_count": 7,
   "id": "c3923593",
   "metadata": {},
   "outputs": [
    {
     "name": "stdout",
     "output_type": "stream",
     "text": [
      "Vowel\n"
     ]
    }
   ],
   "source": [
    "char = input(\"Give me one letter: \")\n",
    "vowels = ['a', 'e', 'i', 'o', 'u']\n",
    "\n",
    "if char.lower() in vowels:\n",
    "    print(\"Vowel\")\n",
    "else:\n",
    "    print(\"Constant\")"
   ]
  },
  {
   "cell_type": "code",
   "execution_count": 9,
   "id": "4366a47c",
   "metadata": {},
   "outputs": [
    {
     "name": "stdout",
     "output_type": "stream",
     "text": [
      "Number 5 is not divisible by both 7 and 3\n"
     ]
    }
   ],
   "source": [
    "num = int(input(\"Give me a number: \"))\n",
    "\n",
    "if num%3 == 0 and num%7 == 0:\n",
    "    print(f\"Number {num} is divisible by both 7 and 3\")\n",
    "elif num%3 == 0:\n",
    "    print(f\"Number {num} is divisible by 3\")\n",
    "elif num%7 == 0:\n",
    "    print(f\"Number {num} is divisible by 7\")\n",
    "else:\n",
    "    print(f\"Number {num} is not divisible by both 7 and 3\")"
   ]
  },
  {
   "cell_type": "code",
   "execution_count": 10,
   "id": "83fcbb61",
   "metadata": {},
   "outputs": [
    {
     "name": "stdout",
     "output_type": "stream",
     "text": [
      "The biggest number is 24\n"
     ]
    }
   ],
   "source": [
    "num1 = int(input(\"Give me number 1: \"))\n",
    "num2 = int(input(\"Give me number 2: \"))\n",
    "num3 = int(input(\"Give me number 3: \"))\n",
    "\n",
    "def largest(num1, num2, num3):\n",
    "    numbers = [num1, num2, num3]\n",
    "    \n",
    "    biggest = None\n",
    "    for num in numbers:\n",
    "        if biggest is None:\n",
    "            biggest = num\n",
    "        elif num > biggest:\n",
    "            biggest = num\n",
    "        \n",
    "    return biggest\n",
    "\n",
    "biggest = largest(num1, num2, num3)\n",
    "print(f\"The biggest number is {biggest}\")"
   ]
  },
  {
   "cell_type": "code",
   "execution_count": 16,
   "id": "77cf3c2b",
   "metadata": {},
   "outputs": [
    {
     "name": "stdout",
     "output_type": "stream",
     "text": [
      "A\n"
     ]
    }
   ],
   "source": [
    "grade = int(input(\"What is your grade? \"))\n",
    "\n",
    "if grade < 0 or grade > 100:\n",
    "    raise ValueError(\"Grade out of range\")\n",
    "elif grade >= 90:\n",
    "    print(\"A\")\n",
    "elif grade >= 80:\n",
    "    print(\"B\")\n",
    "elif grade >= 70:\n",
    "    print(\"C\")\n",
    "elif grade >= 60:\n",
    "    print(\"D\")\n",
    "else:\n",
    "    print(\"F\")"
   ]
  }
 ],
 "metadata": {
  "kernelspec": {
   "display_name": "Python 3 (ipykernel)",
   "language": "python",
   "name": "python3"
  },
  "language_info": {
   "codemirror_mode": {
    "name": "ipython",
    "version": 3
   },
   "file_extension": ".py",
   "mimetype": "text/x-python",
   "name": "python",
   "nbconvert_exporter": "python",
   "pygments_lexer": "ipython3",
   "version": "3.12.6"
  }
 },
 "nbformat": 4,
 "nbformat_minor": 5
}
